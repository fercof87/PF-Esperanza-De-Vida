{
 "cells": [
  {
   "cell_type": "code",
   "execution_count": 1,
   "metadata": {},
   "outputs": [],
   "source": [
    "import pandas as pd\n",
    "import plotly.express as px"
   ]
  },
  {
   "cell_type": "code",
   "execution_count": 2,
   "metadata": {},
   "outputs": [
    {
     "data": {
      "text/html": [
       "<div>\n",
       "<style scoped>\n",
       "    .dataframe tbody tr th:only-of-type {\n",
       "        vertical-align: middle;\n",
       "    }\n",
       "\n",
       "    .dataframe tbody tr th {\n",
       "        vertical-align: top;\n",
       "    }\n",
       "\n",
       "    .dataframe thead th {\n",
       "        text-align: right;\n",
       "    }\n",
       "</style>\n",
       "<table border=\"1\" class=\"dataframe\">\n",
       "  <thead>\n",
       "    <tr style=\"text-align: right;\">\n",
       "      <th></th>\n",
       "      <th>país Name</th>\n",
       "      <th>país Code</th>\n",
       "      <th>serie Name</th>\n",
       "      <th>serie Code</th>\n",
       "      <th>1987 [YR1987]</th>\n",
       "      <th>1988 [YR1988]</th>\n",
       "      <th>1989 [YR1989]</th>\n",
       "      <th>1990 [YR1990]</th>\n",
       "      <th>1991 [YR1991]</th>\n",
       "      <th>1992 [YR1992]</th>\n",
       "      <th>...</th>\n",
       "      <th>2013 [YR2013]</th>\n",
       "      <th>2014 [YR2014]</th>\n",
       "      <th>2015 [YR2015]</th>\n",
       "      <th>2016 [YR2016]</th>\n",
       "      <th>2017 [YR2017]</th>\n",
       "      <th>2018 [YR2018]</th>\n",
       "      <th>2019 [YR2019]</th>\n",
       "      <th>2020 [YR2020]</th>\n",
       "      <th>2021 [YR2021]</th>\n",
       "      <th>2022 [YR2022]</th>\n",
       "    </tr>\n",
       "  </thead>\n",
       "  <tbody>\n",
       "    <tr>\n",
       "      <th>0</th>\n",
       "      <td>Afganistán</td>\n",
       "      <td>AFG</td>\n",
       "      <td>Población, total</td>\n",
       "      <td>SP.POP.TOTL</td>\n",
       "      <td>10322758.0</td>\n",
       "      <td>10383460.0</td>\n",
       "      <td>10673168.0</td>\n",
       "      <td>10694796.0</td>\n",
       "      <td>10745167.0</td>\n",
       "      <td>12057433.0</td>\n",
       "      <td>...</td>\n",
       "      <td>31541209.0</td>\n",
       "      <td>32716210.0</td>\n",
       "      <td>33753499.0</td>\n",
       "      <td>34636207.0</td>\n",
       "      <td>35643418.0</td>\n",
       "      <td>36686784.0</td>\n",
       "      <td>37769499.0</td>\n",
       "      <td>38972230.0</td>\n",
       "      <td>40099462.0</td>\n",
       "      <td>41128771.0</td>\n",
       "    </tr>\n",
       "    <tr>\n",
       "      <th>1</th>\n",
       "      <td>Afganistán</td>\n",
       "      <td>AFG</td>\n",
       "      <td>Población, mujeres</td>\n",
       "      <td>SP.POP.TOTL.FE.IN</td>\n",
       "      <td>5152650.0</td>\n",
       "      <td>5188060.0</td>\n",
       "      <td>5334609.0</td>\n",
       "      <td>5346409.0</td>\n",
       "      <td>5372208.0</td>\n",
       "      <td>6028939.0</td>\n",
       "      <td>...</td>\n",
       "      <td>15594637.0</td>\n",
       "      <td>16172321.0</td>\n",
       "      <td>16682054.0</td>\n",
       "      <td>17115346.0</td>\n",
       "      <td>17614722.0</td>\n",
       "      <td>18136922.0</td>\n",
       "      <td>18679089.0</td>\n",
       "      <td>19279930.0</td>\n",
       "      <td>19844584.0</td>\n",
       "      <td>20362329.0</td>\n",
       "    </tr>\n",
       "    <tr>\n",
       "      <th>2</th>\n",
       "      <td>Afganistán</td>\n",
       "      <td>AFG</td>\n",
       "      <td>Población, hombres</td>\n",
       "      <td>SP.POP.TOTL.MA.IN</td>\n",
       "      <td>5170108.0</td>\n",
       "      <td>5195399.0</td>\n",
       "      <td>5338559.0</td>\n",
       "      <td>5348387.0</td>\n",
       "      <td>5372959.0</td>\n",
       "      <td>6028494.0</td>\n",
       "      <td>...</td>\n",
       "      <td>15946572.0</td>\n",
       "      <td>16543889.0</td>\n",
       "      <td>17071446.0</td>\n",
       "      <td>17520861.0</td>\n",
       "      <td>18028696.0</td>\n",
       "      <td>18549862.0</td>\n",
       "      <td>19090409.0</td>\n",
       "      <td>19692301.0</td>\n",
       "      <td>20254878.0</td>\n",
       "      <td>20766442.0</td>\n",
       "    </tr>\n",
       "    <tr>\n",
       "      <th>3</th>\n",
       "      <td>Afganistán</td>\n",
       "      <td>AFG</td>\n",
       "      <td>Población urbana</td>\n",
       "      <td>SP.URB.TOTL</td>\n",
       "      <td>2096965.0</td>\n",
       "      <td>2180319.0</td>\n",
       "      <td>2250758.0</td>\n",
       "      <td>2264837.0</td>\n",
       "      <td>2285067.0</td>\n",
       "      <td>2574865.0</td>\n",
       "      <td>...</td>\n",
       "      <td>7687539.0</td>\n",
       "      <td>8043935.0</td>\n",
       "      <td>8371880.0</td>\n",
       "      <td>8665979.0</td>\n",
       "      <td>8999963.0</td>\n",
       "      <td>9353296.0</td>\n",
       "      <td>9727157.0</td>\n",
       "      <td>10142913.0</td>\n",
       "      <td>10551772.0</td>\n",
       "      <td>10946834.0</td>\n",
       "    </tr>\n",
       "    <tr>\n",
       "      <th>4</th>\n",
       "      <td>Afganistán</td>\n",
       "      <td>AFG</td>\n",
       "      <td>Población rural</td>\n",
       "      <td>SP.RUR.TOTL</td>\n",
       "      <td>8225793.0</td>\n",
       "      <td>8203141.0</td>\n",
       "      <td>8422410.0</td>\n",
       "      <td>8429959.0</td>\n",
       "      <td>8460100.0</td>\n",
       "      <td>9482568.0</td>\n",
       "      <td>...</td>\n",
       "      <td>23853670.0</td>\n",
       "      <td>24672275.0</td>\n",
       "      <td>25381619.0</td>\n",
       "      <td>25970228.0</td>\n",
       "      <td>26643455.0</td>\n",
       "      <td>27333488.0</td>\n",
       "      <td>28042342.0</td>\n",
       "      <td>28829317.0</td>\n",
       "      <td>29547690.0</td>\n",
       "      <td>30181937.0</td>\n",
       "    </tr>\n",
       "    <tr>\n",
       "      <th>...</th>\n",
       "      <td>...</td>\n",
       "      <td>...</td>\n",
       "      <td>...</td>\n",
       "      <td>...</td>\n",
       "      <td>...</td>\n",
       "      <td>...</td>\n",
       "      <td>...</td>\n",
       "      <td>...</td>\n",
       "      <td>...</td>\n",
       "      <td>...</td>\n",
       "      <td>...</td>\n",
       "      <td>...</td>\n",
       "      <td>...</td>\n",
       "      <td>...</td>\n",
       "      <td>...</td>\n",
       "      <td>...</td>\n",
       "      <td>...</td>\n",
       "      <td>...</td>\n",
       "      <td>...</td>\n",
       "      <td>...</td>\n",
       "      <td>...</td>\n",
       "    </tr>\n",
       "    <tr>\n",
       "      <th>220</th>\n",
       "      <td>NaN</td>\n",
       "      <td>NaN</td>\n",
       "      <td>NaN</td>\n",
       "      <td>NaN</td>\n",
       "      <td>NaN</td>\n",
       "      <td>NaN</td>\n",
       "      <td>NaN</td>\n",
       "      <td>NaN</td>\n",
       "      <td>NaN</td>\n",
       "      <td>NaN</td>\n",
       "      <td>...</td>\n",
       "      <td>NaN</td>\n",
       "      <td>NaN</td>\n",
       "      <td>NaN</td>\n",
       "      <td>NaN</td>\n",
       "      <td>NaN</td>\n",
       "      <td>NaN</td>\n",
       "      <td>NaN</td>\n",
       "      <td>NaN</td>\n",
       "      <td>NaN</td>\n",
       "      <td>NaN</td>\n",
       "    </tr>\n",
       "    <tr>\n",
       "      <th>221</th>\n",
       "      <td>NaN</td>\n",
       "      <td>NaN</td>\n",
       "      <td>NaN</td>\n",
       "      <td>NaN</td>\n",
       "      <td>NaN</td>\n",
       "      <td>NaN</td>\n",
       "      <td>NaN</td>\n",
       "      <td>NaN</td>\n",
       "      <td>NaN</td>\n",
       "      <td>NaN</td>\n",
       "      <td>...</td>\n",
       "      <td>NaN</td>\n",
       "      <td>NaN</td>\n",
       "      <td>NaN</td>\n",
       "      <td>NaN</td>\n",
       "      <td>NaN</td>\n",
       "      <td>NaN</td>\n",
       "      <td>NaN</td>\n",
       "      <td>NaN</td>\n",
       "      <td>NaN</td>\n",
       "      <td>NaN</td>\n",
       "    </tr>\n",
       "    <tr>\n",
       "      <th>222</th>\n",
       "      <td>NaN</td>\n",
       "      <td>NaN</td>\n",
       "      <td>NaN</td>\n",
       "      <td>NaN</td>\n",
       "      <td>NaN</td>\n",
       "      <td>NaN</td>\n",
       "      <td>NaN</td>\n",
       "      <td>NaN</td>\n",
       "      <td>NaN</td>\n",
       "      <td>NaN</td>\n",
       "      <td>...</td>\n",
       "      <td>NaN</td>\n",
       "      <td>NaN</td>\n",
       "      <td>NaN</td>\n",
       "      <td>NaN</td>\n",
       "      <td>NaN</td>\n",
       "      <td>NaN</td>\n",
       "      <td>NaN</td>\n",
       "      <td>NaN</td>\n",
       "      <td>NaN</td>\n",
       "      <td>NaN</td>\n",
       "    </tr>\n",
       "    <tr>\n",
       "      <th>223</th>\n",
       "      <td>Data from Database: Indicadores del desarrollo...</td>\n",
       "      <td>NaN</td>\n",
       "      <td>NaN</td>\n",
       "      <td>NaN</td>\n",
       "      <td>NaN</td>\n",
       "      <td>NaN</td>\n",
       "      <td>NaN</td>\n",
       "      <td>NaN</td>\n",
       "      <td>NaN</td>\n",
       "      <td>NaN</td>\n",
       "      <td>...</td>\n",
       "      <td>NaN</td>\n",
       "      <td>NaN</td>\n",
       "      <td>NaN</td>\n",
       "      <td>NaN</td>\n",
       "      <td>NaN</td>\n",
       "      <td>NaN</td>\n",
       "      <td>NaN</td>\n",
       "      <td>NaN</td>\n",
       "      <td>NaN</td>\n",
       "      <td>NaN</td>\n",
       "    </tr>\n",
       "    <tr>\n",
       "      <th>224</th>\n",
       "      <td>Last Updated: 10/26/2023</td>\n",
       "      <td>NaN</td>\n",
       "      <td>NaN</td>\n",
       "      <td>NaN</td>\n",
       "      <td>NaN</td>\n",
       "      <td>NaN</td>\n",
       "      <td>NaN</td>\n",
       "      <td>NaN</td>\n",
       "      <td>NaN</td>\n",
       "      <td>NaN</td>\n",
       "      <td>...</td>\n",
       "      <td>NaN</td>\n",
       "      <td>NaN</td>\n",
       "      <td>NaN</td>\n",
       "      <td>NaN</td>\n",
       "      <td>NaN</td>\n",
       "      <td>NaN</td>\n",
       "      <td>NaN</td>\n",
       "      <td>NaN</td>\n",
       "      <td>NaN</td>\n",
       "      <td>NaN</td>\n",
       "    </tr>\n",
       "  </tbody>\n",
       "</table>\n",
       "<p>225 rows × 40 columns</p>\n",
       "</div>"
      ],
      "text/plain": [
       "                                             país Name país Code   \n",
       "0                                           Afganistán       AFG  \\\n",
       "1                                           Afganistán       AFG   \n",
       "2                                           Afganistán       AFG   \n",
       "3                                           Afganistán       AFG   \n",
       "4                                           Afganistán       AFG   \n",
       "..                                                 ...       ...   \n",
       "220                                                NaN       NaN   \n",
       "221                                                NaN       NaN   \n",
       "222                                                NaN       NaN   \n",
       "223  Data from Database: Indicadores del desarrollo...       NaN   \n",
       "224                           Last Updated: 10/26/2023       NaN   \n",
       "\n",
       "             serie Name         serie Code  1987 [YR1987]  1988 [YR1988]   \n",
       "0      Población, total        SP.POP.TOTL     10322758.0     10383460.0  \\\n",
       "1    Población, mujeres  SP.POP.TOTL.FE.IN      5152650.0      5188060.0   \n",
       "2    Población, hombres  SP.POP.TOTL.MA.IN      5170108.0      5195399.0   \n",
       "3      Población urbana        SP.URB.TOTL      2096965.0      2180319.0   \n",
       "4       Población rural        SP.RUR.TOTL      8225793.0      8203141.0   \n",
       "..                  ...                ...            ...            ...   \n",
       "220                 NaN                NaN            NaN            NaN   \n",
       "221                 NaN                NaN            NaN            NaN   \n",
       "222                 NaN                NaN            NaN            NaN   \n",
       "223                 NaN                NaN            NaN            NaN   \n",
       "224                 NaN                NaN            NaN            NaN   \n",
       "\n",
       "     1989 [YR1989]  1990 [YR1990]  1991 [YR1991]  1992 [YR1992]  ...   \n",
       "0       10673168.0     10694796.0     10745167.0     12057433.0  ...  \\\n",
       "1        5334609.0      5346409.0      5372208.0      6028939.0  ...   \n",
       "2        5338559.0      5348387.0      5372959.0      6028494.0  ...   \n",
       "3        2250758.0      2264837.0      2285067.0      2574865.0  ...   \n",
       "4        8422410.0      8429959.0      8460100.0      9482568.0  ...   \n",
       "..             ...            ...            ...            ...  ...   \n",
       "220            NaN            NaN            NaN            NaN  ...   \n",
       "221            NaN            NaN            NaN            NaN  ...   \n",
       "222            NaN            NaN            NaN            NaN  ...   \n",
       "223            NaN            NaN            NaN            NaN  ...   \n",
       "224            NaN            NaN            NaN            NaN  ...   \n",
       "\n",
       "     2013 [YR2013]  2014 [YR2014]  2015 [YR2015]  2016 [YR2016]   \n",
       "0       31541209.0     32716210.0     33753499.0     34636207.0  \\\n",
       "1       15594637.0     16172321.0     16682054.0     17115346.0   \n",
       "2       15946572.0     16543889.0     17071446.0     17520861.0   \n",
       "3        7687539.0      8043935.0      8371880.0      8665979.0   \n",
       "4       23853670.0     24672275.0     25381619.0     25970228.0   \n",
       "..             ...            ...            ...            ...   \n",
       "220            NaN            NaN            NaN            NaN   \n",
       "221            NaN            NaN            NaN            NaN   \n",
       "222            NaN            NaN            NaN            NaN   \n",
       "223            NaN            NaN            NaN            NaN   \n",
       "224            NaN            NaN            NaN            NaN   \n",
       "\n",
       "     2017 [YR2017]  2018 [YR2018]  2019 [YR2019]  2020 [YR2020]   \n",
       "0       35643418.0     36686784.0     37769499.0     38972230.0  \\\n",
       "1       17614722.0     18136922.0     18679089.0     19279930.0   \n",
       "2       18028696.0     18549862.0     19090409.0     19692301.0   \n",
       "3        8999963.0      9353296.0      9727157.0     10142913.0   \n",
       "4       26643455.0     27333488.0     28042342.0     28829317.0   \n",
       "..             ...            ...            ...            ...   \n",
       "220            NaN            NaN            NaN            NaN   \n",
       "221            NaN            NaN            NaN            NaN   \n",
       "222            NaN            NaN            NaN            NaN   \n",
       "223            NaN            NaN            NaN            NaN   \n",
       "224            NaN            NaN            NaN            NaN   \n",
       "\n",
       "     2021 [YR2021]  2022 [YR2022]  \n",
       "0       40099462.0     41128771.0  \n",
       "1       19844584.0     20362329.0  \n",
       "2       20254878.0     20766442.0  \n",
       "3       10551772.0     10946834.0  \n",
       "4       29547690.0     30181937.0  \n",
       "..             ...            ...  \n",
       "220            NaN            NaN  \n",
       "221            NaN            NaN  \n",
       "222            NaN            NaN  \n",
       "223            NaN            NaN  \n",
       "224            NaN            NaN  \n",
       "\n",
       "[225 rows x 40 columns]"
      ]
     },
     "execution_count": 2,
     "metadata": {},
     "output_type": "execute_result"
    }
   ],
   "source": [
    "df_poblacion = pd.read_excel(\"Data/Data_Poblacion_Zona_Genero.xlsx\")\n",
    "df_poblacion"
   ]
  },
  {
   "cell_type": "code",
   "execution_count": 3,
   "metadata": {},
   "outputs": [
    {
     "data": {
      "text/html": [
       "<div>\n",
       "<style scoped>\n",
       "    .dataframe tbody tr th:only-of-type {\n",
       "        vertical-align: middle;\n",
       "    }\n",
       "\n",
       "    .dataframe tbody tr th {\n",
       "        vertical-align: top;\n",
       "    }\n",
       "\n",
       "    .dataframe thead th {\n",
       "        text-align: right;\n",
       "    }\n",
       "</style>\n",
       "<table border=\"1\" class=\"dataframe\">\n",
       "  <thead>\n",
       "    <tr style=\"text-align: right;\">\n",
       "      <th></th>\n",
       "      <th>país Name</th>\n",
       "      <th>país Code</th>\n",
       "      <th>serie Name</th>\n",
       "      <th>serie Code</th>\n",
       "      <th>1987 [YR1987]</th>\n",
       "      <th>1988 [YR1988]</th>\n",
       "      <th>1989 [YR1989]</th>\n",
       "      <th>1990 [YR1990]</th>\n",
       "      <th>1991 [YR1991]</th>\n",
       "      <th>1992 [YR1992]</th>\n",
       "      <th>...</th>\n",
       "      <th>2013 [YR2013]</th>\n",
       "      <th>2014 [YR2014]</th>\n",
       "      <th>2015 [YR2015]</th>\n",
       "      <th>2016 [YR2016]</th>\n",
       "      <th>2017 [YR2017]</th>\n",
       "      <th>2018 [YR2018]</th>\n",
       "      <th>2019 [YR2019]</th>\n",
       "      <th>2020 [YR2020]</th>\n",
       "      <th>2021 [YR2021]</th>\n",
       "      <th>2022 [YR2022]</th>\n",
       "    </tr>\n",
       "  </thead>\n",
       "  <tbody>\n",
       "    <tr>\n",
       "      <th>0</th>\n",
       "      <td>Afganistán</td>\n",
       "      <td>AFG</td>\n",
       "      <td>Población, total</td>\n",
       "      <td>SP.POP.TOTL</td>\n",
       "      <td>10322758.0</td>\n",
       "      <td>10383460.0</td>\n",
       "      <td>10673168.0</td>\n",
       "      <td>10694796.0</td>\n",
       "      <td>10745167.0</td>\n",
       "      <td>12057433.0</td>\n",
       "      <td>...</td>\n",
       "      <td>31541209.0</td>\n",
       "      <td>32716210.0</td>\n",
       "      <td>33753499.0</td>\n",
       "      <td>34636207.0</td>\n",
       "      <td>35643418.0</td>\n",
       "      <td>36686784.0</td>\n",
       "      <td>37769499.0</td>\n",
       "      <td>38972230.0</td>\n",
       "      <td>40099462.0</td>\n",
       "      <td>41128771.0</td>\n",
       "    </tr>\n",
       "    <tr>\n",
       "      <th>1</th>\n",
       "      <td>Afganistán</td>\n",
       "      <td>AFG</td>\n",
       "      <td>Población, mujeres</td>\n",
       "      <td>SP.POP.TOTL.FE.IN</td>\n",
       "      <td>5152650.0</td>\n",
       "      <td>5188060.0</td>\n",
       "      <td>5334609.0</td>\n",
       "      <td>5346409.0</td>\n",
       "      <td>5372208.0</td>\n",
       "      <td>6028939.0</td>\n",
       "      <td>...</td>\n",
       "      <td>15594637.0</td>\n",
       "      <td>16172321.0</td>\n",
       "      <td>16682054.0</td>\n",
       "      <td>17115346.0</td>\n",
       "      <td>17614722.0</td>\n",
       "      <td>18136922.0</td>\n",
       "      <td>18679089.0</td>\n",
       "      <td>19279930.0</td>\n",
       "      <td>19844584.0</td>\n",
       "      <td>20362329.0</td>\n",
       "    </tr>\n",
       "    <tr>\n",
       "      <th>2</th>\n",
       "      <td>Afganistán</td>\n",
       "      <td>AFG</td>\n",
       "      <td>Población, hombres</td>\n",
       "      <td>SP.POP.TOTL.MA.IN</td>\n",
       "      <td>5170108.0</td>\n",
       "      <td>5195399.0</td>\n",
       "      <td>5338559.0</td>\n",
       "      <td>5348387.0</td>\n",
       "      <td>5372959.0</td>\n",
       "      <td>6028494.0</td>\n",
       "      <td>...</td>\n",
       "      <td>15946572.0</td>\n",
       "      <td>16543889.0</td>\n",
       "      <td>17071446.0</td>\n",
       "      <td>17520861.0</td>\n",
       "      <td>18028696.0</td>\n",
       "      <td>18549862.0</td>\n",
       "      <td>19090409.0</td>\n",
       "      <td>19692301.0</td>\n",
       "      <td>20254878.0</td>\n",
       "      <td>20766442.0</td>\n",
       "    </tr>\n",
       "    <tr>\n",
       "      <th>3</th>\n",
       "      <td>Afganistán</td>\n",
       "      <td>AFG</td>\n",
       "      <td>Población urbana</td>\n",
       "      <td>SP.URB.TOTL</td>\n",
       "      <td>2096965.0</td>\n",
       "      <td>2180319.0</td>\n",
       "      <td>2250758.0</td>\n",
       "      <td>2264837.0</td>\n",
       "      <td>2285067.0</td>\n",
       "      <td>2574865.0</td>\n",
       "      <td>...</td>\n",
       "      <td>7687539.0</td>\n",
       "      <td>8043935.0</td>\n",
       "      <td>8371880.0</td>\n",
       "      <td>8665979.0</td>\n",
       "      <td>8999963.0</td>\n",
       "      <td>9353296.0</td>\n",
       "      <td>9727157.0</td>\n",
       "      <td>10142913.0</td>\n",
       "      <td>10551772.0</td>\n",
       "      <td>10946834.0</td>\n",
       "    </tr>\n",
       "    <tr>\n",
       "      <th>4</th>\n",
       "      <td>Afganistán</td>\n",
       "      <td>AFG</td>\n",
       "      <td>Población rural</td>\n",
       "      <td>SP.RUR.TOTL</td>\n",
       "      <td>8225793.0</td>\n",
       "      <td>8203141.0</td>\n",
       "      <td>8422410.0</td>\n",
       "      <td>8429959.0</td>\n",
       "      <td>8460100.0</td>\n",
       "      <td>9482568.0</td>\n",
       "      <td>...</td>\n",
       "      <td>23853670.0</td>\n",
       "      <td>24672275.0</td>\n",
       "      <td>25381619.0</td>\n",
       "      <td>25970228.0</td>\n",
       "      <td>26643455.0</td>\n",
       "      <td>27333488.0</td>\n",
       "      <td>28042342.0</td>\n",
       "      <td>28829317.0</td>\n",
       "      <td>29547690.0</td>\n",
       "      <td>30181937.0</td>\n",
       "    </tr>\n",
       "    <tr>\n",
       "      <th>...</th>\n",
       "      <td>...</td>\n",
       "      <td>...</td>\n",
       "      <td>...</td>\n",
       "      <td>...</td>\n",
       "      <td>...</td>\n",
       "      <td>...</td>\n",
       "      <td>...</td>\n",
       "      <td>...</td>\n",
       "      <td>...</td>\n",
       "      <td>...</td>\n",
       "      <td>...</td>\n",
       "      <td>...</td>\n",
       "      <td>...</td>\n",
       "      <td>...</td>\n",
       "      <td>...</td>\n",
       "      <td>...</td>\n",
       "      <td>...</td>\n",
       "      <td>...</td>\n",
       "      <td>...</td>\n",
       "      <td>...</td>\n",
       "      <td>...</td>\n",
       "    </tr>\n",
       "    <tr>\n",
       "      <th>215</th>\n",
       "      <td>Noruega</td>\n",
       "      <td>NOR</td>\n",
       "      <td>Población, total</td>\n",
       "      <td>SP.POP.TOTL</td>\n",
       "      <td>4186905.0</td>\n",
       "      <td>4209488.0</td>\n",
       "      <td>4226901.0</td>\n",
       "      <td>4241473.0</td>\n",
       "      <td>4261732.0</td>\n",
       "      <td>4286401.0</td>\n",
       "      <td>...</td>\n",
       "      <td>5079623.0</td>\n",
       "      <td>5137232.0</td>\n",
       "      <td>5188607.0</td>\n",
       "      <td>5234519.0</td>\n",
       "      <td>5276968.0</td>\n",
       "      <td>5311916.0</td>\n",
       "      <td>5347896.0</td>\n",
       "      <td>5379475.0</td>\n",
       "      <td>5408320.0</td>\n",
       "      <td>5457127.0</td>\n",
       "    </tr>\n",
       "    <tr>\n",
       "      <th>216</th>\n",
       "      <td>Noruega</td>\n",
       "      <td>NOR</td>\n",
       "      <td>Población, mujeres</td>\n",
       "      <td>SP.POP.TOTL.FE.IN</td>\n",
       "      <td>2116854.0</td>\n",
       "      <td>2127349.0</td>\n",
       "      <td>2136197.0</td>\n",
       "      <td>2144309.0</td>\n",
       "      <td>2154532.0</td>\n",
       "      <td>2166482.0</td>\n",
       "      <td>...</td>\n",
       "      <td>2528233.0</td>\n",
       "      <td>2554202.0</td>\n",
       "      <td>2577286.0</td>\n",
       "      <td>2598214.0</td>\n",
       "      <td>2618212.0</td>\n",
       "      <td>2635181.0</td>\n",
       "      <td>2652054.0</td>\n",
       "      <td>2666540.0</td>\n",
       "      <td>2680087.0</td>\n",
       "      <td>2703524.0</td>\n",
       "    </tr>\n",
       "    <tr>\n",
       "      <th>217</th>\n",
       "      <td>Noruega</td>\n",
       "      <td>NOR</td>\n",
       "      <td>Población, hombres</td>\n",
       "      <td>SP.POP.TOTL.MA.IN</td>\n",
       "      <td>2070051.0</td>\n",
       "      <td>2082138.0</td>\n",
       "      <td>2090705.0</td>\n",
       "      <td>2097163.0</td>\n",
       "      <td>2107201.0</td>\n",
       "      <td>2119918.0</td>\n",
       "      <td>...</td>\n",
       "      <td>2551391.0</td>\n",
       "      <td>2583030.0</td>\n",
       "      <td>2611322.0</td>\n",
       "      <td>2636304.0</td>\n",
       "      <td>2658756.0</td>\n",
       "      <td>2676735.0</td>\n",
       "      <td>2695841.0</td>\n",
       "      <td>2712935.0</td>\n",
       "      <td>2728232.0</td>\n",
       "      <td>2753603.0</td>\n",
       "    </tr>\n",
       "    <tr>\n",
       "      <th>218</th>\n",
       "      <td>Noruega</td>\n",
       "      <td>NOR</td>\n",
       "      <td>Población urbana</td>\n",
       "      <td>SP.URB.TOTL</td>\n",
       "      <td>2996568.0</td>\n",
       "      <td>3018161.0</td>\n",
       "      <td>3036098.0</td>\n",
       "      <td>3051994.0</td>\n",
       "      <td>3079741.0</td>\n",
       "      <td>3114713.0</td>\n",
       "      <td>...</td>\n",
       "      <td>4078226.0</td>\n",
       "      <td>4145335.0</td>\n",
       "      <td>4207493.0</td>\n",
       "      <td>4265348.0</td>\n",
       "      <td>4320306.0</td>\n",
       "      <td>4368945.0</td>\n",
       "      <td>4418218.0</td>\n",
       "      <td>4463566.0</td>\n",
       "      <td>4506374.0</td>\n",
       "      <td>4565651.0</td>\n",
       "    </tr>\n",
       "    <tr>\n",
       "      <th>219</th>\n",
       "      <td>Noruega</td>\n",
       "      <td>NOR</td>\n",
       "      <td>Población rural</td>\n",
       "      <td>SP.RUR.TOTL</td>\n",
       "      <td>1190337.0</td>\n",
       "      <td>1191327.0</td>\n",
       "      <td>1190803.0</td>\n",
       "      <td>1189479.0</td>\n",
       "      <td>1181991.0</td>\n",
       "      <td>1171688.0</td>\n",
       "      <td>...</td>\n",
       "      <td>1001397.0</td>\n",
       "      <td>991897.0</td>\n",
       "      <td>981114.0</td>\n",
       "      <td>969171.0</td>\n",
       "      <td>956662.0</td>\n",
       "      <td>942971.0</td>\n",
       "      <td>929678.0</td>\n",
       "      <td>915909.0</td>\n",
       "      <td>901946.0</td>\n",
       "      <td>891476.0</td>\n",
       "    </tr>\n",
       "  </tbody>\n",
       "</table>\n",
       "<p>220 rows × 40 columns</p>\n",
       "</div>"
      ],
      "text/plain": [
       "      país Name país Code          serie Name         serie Code   \n",
       "0    Afganistán       AFG    Población, total        SP.POP.TOTL  \\\n",
       "1    Afganistán       AFG  Población, mujeres  SP.POP.TOTL.FE.IN   \n",
       "2    Afganistán       AFG  Población, hombres  SP.POP.TOTL.MA.IN   \n",
       "3    Afganistán       AFG    Población urbana        SP.URB.TOTL   \n",
       "4    Afganistán       AFG     Población rural        SP.RUR.TOTL   \n",
       "..          ...       ...                 ...                ...   \n",
       "215     Noruega       NOR    Población, total        SP.POP.TOTL   \n",
       "216     Noruega       NOR  Población, mujeres  SP.POP.TOTL.FE.IN   \n",
       "217     Noruega       NOR  Población, hombres  SP.POP.TOTL.MA.IN   \n",
       "218     Noruega       NOR    Población urbana        SP.URB.TOTL   \n",
       "219     Noruega       NOR     Población rural        SP.RUR.TOTL   \n",
       "\n",
       "     1987 [YR1987]  1988 [YR1988]  1989 [YR1989]  1990 [YR1990]   \n",
       "0       10322758.0     10383460.0     10673168.0     10694796.0  \\\n",
       "1        5152650.0      5188060.0      5334609.0      5346409.0   \n",
       "2        5170108.0      5195399.0      5338559.0      5348387.0   \n",
       "3        2096965.0      2180319.0      2250758.0      2264837.0   \n",
       "4        8225793.0      8203141.0      8422410.0      8429959.0   \n",
       "..             ...            ...            ...            ...   \n",
       "215      4186905.0      4209488.0      4226901.0      4241473.0   \n",
       "216      2116854.0      2127349.0      2136197.0      2144309.0   \n",
       "217      2070051.0      2082138.0      2090705.0      2097163.0   \n",
       "218      2996568.0      3018161.0      3036098.0      3051994.0   \n",
       "219      1190337.0      1191327.0      1190803.0      1189479.0   \n",
       "\n",
       "     1991 [YR1991]  1992 [YR1992]  ...  2013 [YR2013]  2014 [YR2014]   \n",
       "0       10745167.0     12057433.0  ...     31541209.0     32716210.0  \\\n",
       "1        5372208.0      6028939.0  ...     15594637.0     16172321.0   \n",
       "2        5372959.0      6028494.0  ...     15946572.0     16543889.0   \n",
       "3        2285067.0      2574865.0  ...      7687539.0      8043935.0   \n",
       "4        8460100.0      9482568.0  ...     23853670.0     24672275.0   \n",
       "..             ...            ...  ...            ...            ...   \n",
       "215      4261732.0      4286401.0  ...      5079623.0      5137232.0   \n",
       "216      2154532.0      2166482.0  ...      2528233.0      2554202.0   \n",
       "217      2107201.0      2119918.0  ...      2551391.0      2583030.0   \n",
       "218      3079741.0      3114713.0  ...      4078226.0      4145335.0   \n",
       "219      1181991.0      1171688.0  ...      1001397.0       991897.0   \n",
       "\n",
       "     2015 [YR2015]  2016 [YR2016]  2017 [YR2017]  2018 [YR2018]   \n",
       "0       33753499.0     34636207.0     35643418.0     36686784.0  \\\n",
       "1       16682054.0     17115346.0     17614722.0     18136922.0   \n",
       "2       17071446.0     17520861.0     18028696.0     18549862.0   \n",
       "3        8371880.0      8665979.0      8999963.0      9353296.0   \n",
       "4       25381619.0     25970228.0     26643455.0     27333488.0   \n",
       "..             ...            ...            ...            ...   \n",
       "215      5188607.0      5234519.0      5276968.0      5311916.0   \n",
       "216      2577286.0      2598214.0      2618212.0      2635181.0   \n",
       "217      2611322.0      2636304.0      2658756.0      2676735.0   \n",
       "218      4207493.0      4265348.0      4320306.0      4368945.0   \n",
       "219       981114.0       969171.0       956662.0       942971.0   \n",
       "\n",
       "     2019 [YR2019]  2020 [YR2020]  2021 [YR2021]  2022 [YR2022]  \n",
       "0       37769499.0     38972230.0     40099462.0     41128771.0  \n",
       "1       18679089.0     19279930.0     19844584.0     20362329.0  \n",
       "2       19090409.0     19692301.0     20254878.0     20766442.0  \n",
       "3        9727157.0     10142913.0     10551772.0     10946834.0  \n",
       "4       28042342.0     28829317.0     29547690.0     30181937.0  \n",
       "..             ...            ...            ...            ...  \n",
       "215      5347896.0      5379475.0      5408320.0      5457127.0  \n",
       "216      2652054.0      2666540.0      2680087.0      2703524.0  \n",
       "217      2695841.0      2712935.0      2728232.0      2753603.0  \n",
       "218      4418218.0      4463566.0      4506374.0      4565651.0  \n",
       "219       929678.0       915909.0       901946.0       891476.0  \n",
       "\n",
       "[220 rows x 40 columns]"
      ]
     },
     "execution_count": 3,
     "metadata": {},
     "output_type": "execute_result"
    }
   ],
   "source": [
    "df_poblacion.dropna(subset=['país Code'], inplace=True)\n",
    "df_poblacion"
   ]
  },
  {
   "cell_type": "code",
   "execution_count": 4,
   "metadata": {},
   "outputs": [
    {
     "name": "stdout",
     "output_type": "stream",
     "text": [
      "<class 'pandas.core.frame.DataFrame'>\n",
      "Index: 220 entries, 0 to 219\n",
      "Data columns (total 40 columns):\n",
      " #   Column         Non-Null Count  Dtype  \n",
      "---  ------         --------------  -----  \n",
      " 0   país Name      220 non-null    object \n",
      " 1   país Code      220 non-null    object \n",
      " 2   serie Name     220 non-null    object \n",
      " 3   serie Code     220 non-null    object \n",
      " 4   1987 [YR1987]  220 non-null    float64\n",
      " 5   1988 [YR1988]  220 non-null    float64\n",
      " 6   1989 [YR1989]  220 non-null    float64\n",
      " 7   1990 [YR1990]  220 non-null    float64\n",
      " 8   1991 [YR1991]  220 non-null    float64\n",
      " 9   1992 [YR1992]  220 non-null    float64\n",
      " 10  1993 [YR1993]  220 non-null    float64\n",
      " 11  1994 [YR1994]  220 non-null    float64\n",
      " 12  1995 [YR1995]  220 non-null    float64\n",
      " 13  1996 [YR1996]  220 non-null    float64\n",
      " 14  1997 [YR1997]  220 non-null    float64\n",
      " 15  1998 [YR1998]  220 non-null    float64\n",
      " 16  1999 [YR1999]  220 non-null    float64\n",
      " 17  2000 [YR2000]  220 non-null    float64\n",
      " 18  2001 [YR2001]  220 non-null    float64\n",
      " 19  2002 [YR2002]  220 non-null    float64\n",
      " 20  2003 [YR2003]  220 non-null    float64\n",
      " 21  2004 [YR2004]  220 non-null    float64\n",
      " 22  2005 [YR2005]  220 non-null    float64\n",
      " 23  2006 [YR2006]  220 non-null    float64\n",
      " 24  2007 [YR2007]  220 non-null    float64\n",
      " 25  2008 [YR2008]  220 non-null    float64\n",
      " 26  2009 [YR2009]  220 non-null    float64\n",
      " 27  2010 [YR2010]  220 non-null    float64\n",
      " 28  2011 [YR2011]  220 non-null    float64\n",
      " 29  2012 [YR2012]  220 non-null    float64\n",
      " 30  2013 [YR2013]  220 non-null    float64\n",
      " 31  2014 [YR2014]  220 non-null    float64\n",
      " 32  2015 [YR2015]  220 non-null    float64\n",
      " 33  2016 [YR2016]  220 non-null    float64\n",
      " 34  2017 [YR2017]  220 non-null    float64\n",
      " 35  2018 [YR2018]  220 non-null    float64\n",
      " 36  2019 [YR2019]  220 non-null    float64\n",
      " 37  2020 [YR2020]  220 non-null    float64\n",
      " 38  2021 [YR2021]  220 non-null    float64\n",
      " 39  2022 [YR2022]  220 non-null    float64\n",
      "dtypes: float64(36), object(4)\n",
      "memory usage: 70.5+ KB\n"
     ]
    }
   ],
   "source": [
    "df_poblacion.info()"
   ]
  },
  {
   "cell_type": "code",
   "execution_count": 5,
   "metadata": {},
   "outputs": [
    {
     "data": {
      "text/plain": [
       "serie Name\n",
       "Población, total      44\n",
       "Población, mujeres    44\n",
       "Población, hombres    44\n",
       "Población urbana      44\n",
       "Población rural       44\n",
       "Name: count, dtype: int64"
      ]
     },
     "execution_count": 5,
     "metadata": {},
     "output_type": "execute_result"
    }
   ],
   "source": [
    "df_poblacion[\"serie Name\"].value_counts()"
   ]
  },
  {
   "cell_type": "code",
   "execution_count": 6,
   "metadata": {},
   "outputs": [],
   "source": [
    "columns_to_convert = df_poblacion.columns[4:40]\n",
    "\n",
    "df_poblacion[columns_to_convert] = df_poblacion[columns_to_convert].apply(pd.to_numeric, errors='coerce')"
   ]
  },
  {
   "cell_type": "code",
   "execution_count": 7,
   "metadata": {},
   "outputs": [
    {
     "name": "stdout",
     "output_type": "stream",
     "text": [
      "<class 'pandas.core.frame.DataFrame'>\n",
      "Index: 220 entries, 0 to 219\n",
      "Data columns (total 40 columns):\n",
      " #   Column         Non-Null Count  Dtype  \n",
      "---  ------         --------------  -----  \n",
      " 0   país Name      220 non-null    object \n",
      " 1   país Code      220 non-null    object \n",
      " 2   serie Name     220 non-null    object \n",
      " 3   serie Code     220 non-null    object \n",
      " 4   1987 [YR1987]  220 non-null    float64\n",
      " 5   1988 [YR1988]  220 non-null    float64\n",
      " 6   1989 [YR1989]  220 non-null    float64\n",
      " 7   1990 [YR1990]  220 non-null    float64\n",
      " 8   1991 [YR1991]  220 non-null    float64\n",
      " 9   1992 [YR1992]  220 non-null    float64\n",
      " 10  1993 [YR1993]  220 non-null    float64\n",
      " 11  1994 [YR1994]  220 non-null    float64\n",
      " 12  1995 [YR1995]  220 non-null    float64\n",
      " 13  1996 [YR1996]  220 non-null    float64\n",
      " 14  1997 [YR1997]  220 non-null    float64\n",
      " 15  1998 [YR1998]  220 non-null    float64\n",
      " 16  1999 [YR1999]  220 non-null    float64\n",
      " 17  2000 [YR2000]  220 non-null    float64\n",
      " 18  2001 [YR2001]  220 non-null    float64\n",
      " 19  2002 [YR2002]  220 non-null    float64\n",
      " 20  2003 [YR2003]  220 non-null    float64\n",
      " 21  2004 [YR2004]  220 non-null    float64\n",
      " 22  2005 [YR2005]  220 non-null    float64\n",
      " 23  2006 [YR2006]  220 non-null    float64\n",
      " 24  2007 [YR2007]  220 non-null    float64\n",
      " 25  2008 [YR2008]  220 non-null    float64\n",
      " 26  2009 [YR2009]  220 non-null    float64\n",
      " 27  2010 [YR2010]  220 non-null    float64\n",
      " 28  2011 [YR2011]  220 non-null    float64\n",
      " 29  2012 [YR2012]  220 non-null    float64\n",
      " 30  2013 [YR2013]  220 non-null    float64\n",
      " 31  2014 [YR2014]  220 non-null    float64\n",
      " 32  2015 [YR2015]  220 non-null    float64\n",
      " 33  2016 [YR2016]  220 non-null    float64\n",
      " 34  2017 [YR2017]  220 non-null    float64\n",
      " 35  2018 [YR2018]  220 non-null    float64\n",
      " 36  2019 [YR2019]  220 non-null    float64\n",
      " 37  2020 [YR2020]  220 non-null    float64\n",
      " 38  2021 [YR2021]  220 non-null    float64\n",
      " 39  2022 [YR2022]  220 non-null    float64\n",
      "dtypes: float64(36), object(4)\n",
      "memory usage: 70.5+ KB\n"
     ]
    }
   ],
   "source": [
    "df_poblacion.info()"
   ]
  },
  {
   "cell_type": "code",
   "execution_count": 8,
   "metadata": {},
   "outputs": [
    {
     "data": {
      "text/html": [
       "<div>\n",
       "<style scoped>\n",
       "    .dataframe tbody tr th:only-of-type {\n",
       "        vertical-align: middle;\n",
       "    }\n",
       "\n",
       "    .dataframe tbody tr th {\n",
       "        vertical-align: top;\n",
       "    }\n",
       "\n",
       "    .dataframe thead th {\n",
       "        text-align: right;\n",
       "    }\n",
       "</style>\n",
       "<table border=\"1\" class=\"dataframe\">\n",
       "  <thead>\n",
       "    <tr style=\"text-align: right;\">\n",
       "      <th></th>\n",
       "      <th>país Name</th>\n",
       "      <th>país Code</th>\n",
       "      <th>serie Name</th>\n",
       "      <th>serie Code</th>\n",
       "      <th>1987 [YR1987]</th>\n",
       "      <th>1988 [YR1988]</th>\n",
       "      <th>1989 [YR1989]</th>\n",
       "      <th>1990 [YR1990]</th>\n",
       "      <th>1991 [YR1991]</th>\n",
       "      <th>1992 [YR1992]</th>\n",
       "      <th>...</th>\n",
       "      <th>2013 [YR2013]</th>\n",
       "      <th>2014 [YR2014]</th>\n",
       "      <th>2015 [YR2015]</th>\n",
       "      <th>2016 [YR2016]</th>\n",
       "      <th>2017 [YR2017]</th>\n",
       "      <th>2018 [YR2018]</th>\n",
       "      <th>2019 [YR2019]</th>\n",
       "      <th>2020 [YR2020]</th>\n",
       "      <th>2021 [YR2021]</th>\n",
       "      <th>2022 [YR2022]</th>\n",
       "    </tr>\n",
       "  </thead>\n",
       "  <tbody>\n",
       "  </tbody>\n",
       "</table>\n",
       "<p>0 rows × 40 columns</p>\n",
       "</div>"
      ],
      "text/plain": [
       "Empty DataFrame\n",
       "Columns: [país Name, país Code, serie Name, serie Code, 1987 [YR1987], 1988 [YR1988], 1989 [YR1989], 1990 [YR1990], 1991 [YR1991], 1992 [YR1992], 1993 [YR1993], 1994 [YR1994], 1995 [YR1995], 1996 [YR1996], 1997 [YR1997], 1998 [YR1998], 1999 [YR1999], 2000 [YR2000], 2001 [YR2001], 2002 [YR2002], 2003 [YR2003], 2004 [YR2004], 2005 [YR2005], 2006 [YR2006], 2007 [YR2007], 2008 [YR2008], 2009 [YR2009], 2010 [YR2010], 2011 [YR2011], 2012 [YR2012], 2013 [YR2013], 2014 [YR2014], 2015 [YR2015], 2016 [YR2016], 2017 [YR2017], 2018 [YR2018], 2019 [YR2019], 2020 [YR2020], 2021 [YR2021], 2022 [YR2022]]\n",
       "Index: []\n",
       "\n",
       "[0 rows x 40 columns]"
      ]
     },
     "execution_count": 8,
     "metadata": {},
     "output_type": "execute_result"
    }
   ],
   "source": [
    "df_poblacion[df_poblacion.isna().any(axis=1)]"
   ]
  },
  {
   "cell_type": "code",
   "execution_count": 9,
   "metadata": {},
   "outputs": [
    {
     "data": {
      "text/html": [
       "<div>\n",
       "<style scoped>\n",
       "    .dataframe tbody tr th:only-of-type {\n",
       "        vertical-align: middle;\n",
       "    }\n",
       "\n",
       "    .dataframe tbody tr th {\n",
       "        vertical-align: top;\n",
       "    }\n",
       "\n",
       "    .dataframe thead th {\n",
       "        text-align: right;\n",
       "    }\n",
       "</style>\n",
       "<table border=\"1\" class=\"dataframe\">\n",
       "  <thead>\n",
       "    <tr style=\"text-align: right;\">\n",
       "      <th></th>\n",
       "      <th>país Name</th>\n",
       "      <th>país Code</th>\n",
       "      <th>serie Name</th>\n",
       "      <th>serie Code</th>\n",
       "      <th>1987 [YR1987]</th>\n",
       "      <th>1988 [YR1988]</th>\n",
       "      <th>1989 [YR1989]</th>\n",
       "      <th>1990 [YR1990]</th>\n",
       "      <th>1991 [YR1991]</th>\n",
       "      <th>1992 [YR1992]</th>\n",
       "      <th>...</th>\n",
       "      <th>2013 [YR2013]</th>\n",
       "      <th>2014 [YR2014]</th>\n",
       "      <th>2015 [YR2015]</th>\n",
       "      <th>2016 [YR2016]</th>\n",
       "      <th>2017 [YR2017]</th>\n",
       "      <th>2018 [YR2018]</th>\n",
       "      <th>2019 [YR2019]</th>\n",
       "      <th>2020 [YR2020]</th>\n",
       "      <th>2021 [YR2021]</th>\n",
       "      <th>2022 [YR2022]</th>\n",
       "    </tr>\n",
       "  </thead>\n",
       "  <tbody>\n",
       "  </tbody>\n",
       "</table>\n",
       "<p>0 rows × 40 columns</p>\n",
       "</div>"
      ],
      "text/plain": [
       "Empty DataFrame\n",
       "Columns: [país Name, país Code, serie Name, serie Code, 1987 [YR1987], 1988 [YR1988], 1989 [YR1989], 1990 [YR1990], 1991 [YR1991], 1992 [YR1992], 1993 [YR1993], 1994 [YR1994], 1995 [YR1995], 1996 [YR1996], 1997 [YR1997], 1998 [YR1998], 1999 [YR1999], 2000 [YR2000], 2001 [YR2001], 2002 [YR2002], 2003 [YR2003], 2004 [YR2004], 2005 [YR2005], 2006 [YR2006], 2007 [YR2007], 2008 [YR2008], 2009 [YR2009], 2010 [YR2010], 2011 [YR2011], 2012 [YR2012], 2013 [YR2013], 2014 [YR2014], 2015 [YR2015], 2016 [YR2016], 2017 [YR2017], 2018 [YR2018], 2019 [YR2019], 2020 [YR2020], 2021 [YR2021], 2022 [YR2022]]\n",
       "Index: []\n",
       "\n",
       "[0 rows x 40 columns]"
      ]
     },
     "execution_count": 9,
     "metadata": {},
     "output_type": "execute_result"
    }
   ],
   "source": [
    "df_poblacion[df_poblacion.duplicated()]"
   ]
  },
  {
   "cell_type": "code",
   "execution_count": 10,
   "metadata": {},
   "outputs": [],
   "source": [
    "df_poblacion = df_poblacion.drop(columns=[\"país Code\", \"serie Code\"])"
   ]
  },
  {
   "cell_type": "code",
   "execution_count": 11,
   "metadata": {},
   "outputs": [
    {
     "data": {
      "text/html": [
       "<div>\n",
       "<style scoped>\n",
       "    .dataframe tbody tr th:only-of-type {\n",
       "        vertical-align: middle;\n",
       "    }\n",
       "\n",
       "    .dataframe tbody tr th {\n",
       "        vertical-align: top;\n",
       "    }\n",
       "\n",
       "    .dataframe thead th {\n",
       "        text-align: right;\n",
       "    }\n",
       "</style>\n",
       "<table border=\"1\" class=\"dataframe\">\n",
       "  <thead>\n",
       "    <tr style=\"text-align: right;\">\n",
       "      <th>serie Name</th>\n",
       "      <th>país Name</th>\n",
       "      <th>Año</th>\n",
       "      <th>Población rural</th>\n",
       "      <th>Población urbana</th>\n",
       "      <th>Población, hombres</th>\n",
       "      <th>Población, mujeres</th>\n",
       "      <th>Población, total</th>\n",
       "    </tr>\n",
       "  </thead>\n",
       "  <tbody>\n",
       "    <tr>\n",
       "      <th>0</th>\n",
       "      <td>Afganistán</td>\n",
       "      <td>1987</td>\n",
       "      <td>8225793.0</td>\n",
       "      <td>2096965.0</td>\n",
       "      <td>5170108.0</td>\n",
       "      <td>5152650.0</td>\n",
       "      <td>10322758.0</td>\n",
       "    </tr>\n",
       "    <tr>\n",
       "      <th>1</th>\n",
       "      <td>Afganistán</td>\n",
       "      <td>1988</td>\n",
       "      <td>8203141.0</td>\n",
       "      <td>2180319.0</td>\n",
       "      <td>5195399.0</td>\n",
       "      <td>5188060.0</td>\n",
       "      <td>10383460.0</td>\n",
       "    </tr>\n",
       "    <tr>\n",
       "      <th>2</th>\n",
       "      <td>Afganistán</td>\n",
       "      <td>1989</td>\n",
       "      <td>8422410.0</td>\n",
       "      <td>2250758.0</td>\n",
       "      <td>5338559.0</td>\n",
       "      <td>5334609.0</td>\n",
       "      <td>10673168.0</td>\n",
       "    </tr>\n",
       "    <tr>\n",
       "      <th>3</th>\n",
       "      <td>Afganistán</td>\n",
       "      <td>1990</td>\n",
       "      <td>8429959.0</td>\n",
       "      <td>2264837.0</td>\n",
       "      <td>5348387.0</td>\n",
       "      <td>5346409.0</td>\n",
       "      <td>10694796.0</td>\n",
       "    </tr>\n",
       "    <tr>\n",
       "      <th>4</th>\n",
       "      <td>Afganistán</td>\n",
       "      <td>1991</td>\n",
       "      <td>8460100.0</td>\n",
       "      <td>2285067.0</td>\n",
       "      <td>5372959.0</td>\n",
       "      <td>5372208.0</td>\n",
       "      <td>10745167.0</td>\n",
       "    </tr>\n",
       "    <tr>\n",
       "      <th>...</th>\n",
       "      <td>...</td>\n",
       "      <td>...</td>\n",
       "      <td>...</td>\n",
       "      <td>...</td>\n",
       "      <td>...</td>\n",
       "      <td>...</td>\n",
       "      <td>...</td>\n",
       "    </tr>\n",
       "    <tr>\n",
       "      <th>1579</th>\n",
       "      <td>Venezuela</td>\n",
       "      <td>2018</td>\n",
       "      <td>3517041.0</td>\n",
       "      <td>26308612.0</td>\n",
       "      <td>14804135.0</td>\n",
       "      <td>15021517.0</td>\n",
       "      <td>29825653.0</td>\n",
       "    </tr>\n",
       "    <tr>\n",
       "      <th>1580</th>\n",
       "      <td>Venezuela</td>\n",
       "      <td>2019</td>\n",
       "      <td>3407070.0</td>\n",
       "      <td>25564613.0</td>\n",
       "      <td>14365872.0</td>\n",
       "      <td>14605811.0</td>\n",
       "      <td>28971683.0</td>\n",
       "    </tr>\n",
       "    <tr>\n",
       "      <th>1581</th>\n",
       "      <td>Venezuela</td>\n",
       "      <td>2020</td>\n",
       "      <td>3339366.0</td>\n",
       "      <td>25151087.0</td>\n",
       "      <td>14113760.0</td>\n",
       "      <td>14376694.0</td>\n",
       "      <td>28490453.0</td>\n",
       "    </tr>\n",
       "    <tr>\n",
       "      <th>1582</th>\n",
       "      <td>Venezuela</td>\n",
       "      <td>2021</td>\n",
       "      <td>3292334.0</td>\n",
       "      <td>24907533.0</td>\n",
       "      <td>13956811.0</td>\n",
       "      <td>14243056.0</td>\n",
       "      <td>28199867.0</td>\n",
       "    </tr>\n",
       "    <tr>\n",
       "      <th>1583</th>\n",
       "      <td>Venezuela</td>\n",
       "      <td>2022</td>\n",
       "      <td>3289223.0</td>\n",
       "      <td>25012473.0</td>\n",
       "      <td>13996791.0</td>\n",
       "      <td>14304904.0</td>\n",
       "      <td>28301696.0</td>\n",
       "    </tr>\n",
       "  </tbody>\n",
       "</table>\n",
       "<p>1584 rows × 7 columns</p>\n",
       "</div>"
      ],
      "text/plain": [
       "serie Name   país Name   Año  Población rural  Población urbana   \n",
       "0           Afganistán  1987        8225793.0         2096965.0  \\\n",
       "1           Afganistán  1988        8203141.0         2180319.0   \n",
       "2           Afganistán  1989        8422410.0         2250758.0   \n",
       "3           Afganistán  1990        8429959.0         2264837.0   \n",
       "4           Afganistán  1991        8460100.0         2285067.0   \n",
       "...                ...   ...              ...               ...   \n",
       "1579         Venezuela  2018        3517041.0        26308612.0   \n",
       "1580         Venezuela  2019        3407070.0        25564613.0   \n",
       "1581         Venezuela  2020        3339366.0        25151087.0   \n",
       "1582         Venezuela  2021        3292334.0        24907533.0   \n",
       "1583         Venezuela  2022        3289223.0        25012473.0   \n",
       "\n",
       "serie Name  Población, hombres  Población, mujeres  Población, total  \n",
       "0                    5170108.0           5152650.0        10322758.0  \n",
       "1                    5195399.0           5188060.0        10383460.0  \n",
       "2                    5338559.0           5334609.0        10673168.0  \n",
       "3                    5348387.0           5346409.0        10694796.0  \n",
       "4                    5372959.0           5372208.0        10745167.0  \n",
       "...                        ...                 ...               ...  \n",
       "1579                14804135.0          15021517.0        29825653.0  \n",
       "1580                14365872.0          14605811.0        28971683.0  \n",
       "1581                14113760.0          14376694.0        28490453.0  \n",
       "1582                13956811.0          14243056.0        28199867.0  \n",
       "1583                13996791.0          14304904.0        28301696.0  \n",
       "\n",
       "[1584 rows x 7 columns]"
      ]
     },
     "execution_count": 11,
     "metadata": {},
     "output_type": "execute_result"
    }
   ],
   "source": [
    "df_melted = df_poblacion.melt(id_vars=['país Name', 'serie Name'], var_name='Año', value_name='Valor')\n",
    "\n",
    "df_pivoted = df_melted.pivot_table(index=['país Name', 'Año'], columns='serie Name', values='Valor')\n",
    "\n",
    "df_pivoted.reset_index(inplace=True)\n",
    "\n",
    "df_pivoted[\"Año\"] = df_pivoted['Año'].str[:4]\n",
    "df_pivoted"
   ]
  },
  {
   "cell_type": "code",
   "execution_count": 12,
   "metadata": {},
   "outputs": [],
   "source": [
    "def graficar(pais, indicador):\n",
    "    df_pivoted_pais = df_pivoted[df_pivoted[\"país Name\"]==pais]\n",
    "    fig = px.line(data_frame=df_pivoted_pais, x=\"Año\", y=indicador)\n",
    "    fig.show()"
   ]
  },
  {
   "cell_type": "code",
   "execution_count": 13,
   "metadata": {},
   "outputs": [
    {
     "data": {
      "application/vnd.plotly.v1+json": {
       "config": {
        "plotlyServerURL": "https://plot.ly"
       },
       "data": [
        {
         "hovertemplate": "Año=%{x}<br>Población urbana=%{y}<extra></extra>",
         "legendgroup": "",
         "line": {
          "color": "#636efa",
          "dash": "solid"
         },
         "marker": {
          "symbol": "circle"
         },
         "mode": "lines",
         "name": "",
         "orientation": "v",
         "showlegend": false,
         "type": "scatter",
         "x": [
          "1987",
          "1988",
          "1989",
          "1990",
          "1991",
          "1992",
          "1993",
          "1994",
          "1995",
          "1996",
          "1997",
          "1998",
          "1999",
          "2000",
          "2001",
          "2002",
          "2003",
          "2004",
          "2005",
          "2006",
          "2007",
          "2008",
          "2009",
          "2010",
          "2011",
          "2012",
          "2013",
          "2014",
          "2015",
          "2016",
          "2017",
          "2018",
          "2019",
          "2020",
          "2021",
          "2022"
         ],
         "xaxis": "x",
         "y": [
          56695484,
          57044790,
          57469536,
          58079842,
          58625381,
          59146205,
          59647492,
          60028206,
          60378049,
          60725922,
          60986289,
          61167004,
          61376500,
          61629857,
          61902439,
          62174878,
          62376854,
          62529997,
          62660267,
          62753557,
          62833410,
          62875807,
          62877220,
          62940432,
          61940177,
          62064608,
          62242278,
          62510392,
          63062064,
          63592936,
          63861626,
          64096118,
          64294010,
          64410589,
          64513567,
          65286292
         ],
         "yaxis": "y"
        }
       ],
       "layout": {
        "legend": {
         "tracegroupgap": 0
        },
        "margin": {
         "t": 60
        },
        "template": {
         "data": {
          "bar": [
           {
            "error_x": {
             "color": "#2a3f5f"
            },
            "error_y": {
             "color": "#2a3f5f"
            },
            "marker": {
             "line": {
              "color": "#E5ECF6",
              "width": 0.5
             },
             "pattern": {
              "fillmode": "overlay",
              "size": 10,
              "solidity": 0.2
             }
            },
            "type": "bar"
           }
          ],
          "barpolar": [
           {
            "marker": {
             "line": {
              "color": "#E5ECF6",
              "width": 0.5
             },
             "pattern": {
              "fillmode": "overlay",
              "size": 10,
              "solidity": 0.2
             }
            },
            "type": "barpolar"
           }
          ],
          "carpet": [
           {
            "aaxis": {
             "endlinecolor": "#2a3f5f",
             "gridcolor": "white",
             "linecolor": "white",
             "minorgridcolor": "white",
             "startlinecolor": "#2a3f5f"
            },
            "baxis": {
             "endlinecolor": "#2a3f5f",
             "gridcolor": "white",
             "linecolor": "white",
             "minorgridcolor": "white",
             "startlinecolor": "#2a3f5f"
            },
            "type": "carpet"
           }
          ],
          "choropleth": [
           {
            "colorbar": {
             "outlinewidth": 0,
             "ticks": ""
            },
            "type": "choropleth"
           }
          ],
          "contour": [
           {
            "colorbar": {
             "outlinewidth": 0,
             "ticks": ""
            },
            "colorscale": [
             [
              0,
              "#0d0887"
             ],
             [
              0.1111111111111111,
              "#46039f"
             ],
             [
              0.2222222222222222,
              "#7201a8"
             ],
             [
              0.3333333333333333,
              "#9c179e"
             ],
             [
              0.4444444444444444,
              "#bd3786"
             ],
             [
              0.5555555555555556,
              "#d8576b"
             ],
             [
              0.6666666666666666,
              "#ed7953"
             ],
             [
              0.7777777777777778,
              "#fb9f3a"
             ],
             [
              0.8888888888888888,
              "#fdca26"
             ],
             [
              1,
              "#f0f921"
             ]
            ],
            "type": "contour"
           }
          ],
          "contourcarpet": [
           {
            "colorbar": {
             "outlinewidth": 0,
             "ticks": ""
            },
            "type": "contourcarpet"
           }
          ],
          "heatmap": [
           {
            "colorbar": {
             "outlinewidth": 0,
             "ticks": ""
            },
            "colorscale": [
             [
              0,
              "#0d0887"
             ],
             [
              0.1111111111111111,
              "#46039f"
             ],
             [
              0.2222222222222222,
              "#7201a8"
             ],
             [
              0.3333333333333333,
              "#9c179e"
             ],
             [
              0.4444444444444444,
              "#bd3786"
             ],
             [
              0.5555555555555556,
              "#d8576b"
             ],
             [
              0.6666666666666666,
              "#ed7953"
             ],
             [
              0.7777777777777778,
              "#fb9f3a"
             ],
             [
              0.8888888888888888,
              "#fdca26"
             ],
             [
              1,
              "#f0f921"
             ]
            ],
            "type": "heatmap"
           }
          ],
          "heatmapgl": [
           {
            "colorbar": {
             "outlinewidth": 0,
             "ticks": ""
            },
            "colorscale": [
             [
              0,
              "#0d0887"
             ],
             [
              0.1111111111111111,
              "#46039f"
             ],
             [
              0.2222222222222222,
              "#7201a8"
             ],
             [
              0.3333333333333333,
              "#9c179e"
             ],
             [
              0.4444444444444444,
              "#bd3786"
             ],
             [
              0.5555555555555556,
              "#d8576b"
             ],
             [
              0.6666666666666666,
              "#ed7953"
             ],
             [
              0.7777777777777778,
              "#fb9f3a"
             ],
             [
              0.8888888888888888,
              "#fdca26"
             ],
             [
              1,
              "#f0f921"
             ]
            ],
            "type": "heatmapgl"
           }
          ],
          "histogram": [
           {
            "marker": {
             "pattern": {
              "fillmode": "overlay",
              "size": 10,
              "solidity": 0.2
             }
            },
            "type": "histogram"
           }
          ],
          "histogram2d": [
           {
            "colorbar": {
             "outlinewidth": 0,
             "ticks": ""
            },
            "colorscale": [
             [
              0,
              "#0d0887"
             ],
             [
              0.1111111111111111,
              "#46039f"
             ],
             [
              0.2222222222222222,
              "#7201a8"
             ],
             [
              0.3333333333333333,
              "#9c179e"
             ],
             [
              0.4444444444444444,
              "#bd3786"
             ],
             [
              0.5555555555555556,
              "#d8576b"
             ],
             [
              0.6666666666666666,
              "#ed7953"
             ],
             [
              0.7777777777777778,
              "#fb9f3a"
             ],
             [
              0.8888888888888888,
              "#fdca26"
             ],
             [
              1,
              "#f0f921"
             ]
            ],
            "type": "histogram2d"
           }
          ],
          "histogram2dcontour": [
           {
            "colorbar": {
             "outlinewidth": 0,
             "ticks": ""
            },
            "colorscale": [
             [
              0,
              "#0d0887"
             ],
             [
              0.1111111111111111,
              "#46039f"
             ],
             [
              0.2222222222222222,
              "#7201a8"
             ],
             [
              0.3333333333333333,
              "#9c179e"
             ],
             [
              0.4444444444444444,
              "#bd3786"
             ],
             [
              0.5555555555555556,
              "#d8576b"
             ],
             [
              0.6666666666666666,
              "#ed7953"
             ],
             [
              0.7777777777777778,
              "#fb9f3a"
             ],
             [
              0.8888888888888888,
              "#fdca26"
             ],
             [
              1,
              "#f0f921"
             ]
            ],
            "type": "histogram2dcontour"
           }
          ],
          "mesh3d": [
           {
            "colorbar": {
             "outlinewidth": 0,
             "ticks": ""
            },
            "type": "mesh3d"
           }
          ],
          "parcoords": [
           {
            "line": {
             "colorbar": {
              "outlinewidth": 0,
              "ticks": ""
             }
            },
            "type": "parcoords"
           }
          ],
          "pie": [
           {
            "automargin": true,
            "type": "pie"
           }
          ],
          "scatter": [
           {
            "fillpattern": {
             "fillmode": "overlay",
             "size": 10,
             "solidity": 0.2
            },
            "type": "scatter"
           }
          ],
          "scatter3d": [
           {
            "line": {
             "colorbar": {
              "outlinewidth": 0,
              "ticks": ""
             }
            },
            "marker": {
             "colorbar": {
              "outlinewidth": 0,
              "ticks": ""
             }
            },
            "type": "scatter3d"
           }
          ],
          "scattercarpet": [
           {
            "marker": {
             "colorbar": {
              "outlinewidth": 0,
              "ticks": ""
             }
            },
            "type": "scattercarpet"
           }
          ],
          "scattergeo": [
           {
            "marker": {
             "colorbar": {
              "outlinewidth": 0,
              "ticks": ""
             }
            },
            "type": "scattergeo"
           }
          ],
          "scattergl": [
           {
            "marker": {
             "colorbar": {
              "outlinewidth": 0,
              "ticks": ""
             }
            },
            "type": "scattergl"
           }
          ],
          "scattermapbox": [
           {
            "marker": {
             "colorbar": {
              "outlinewidth": 0,
              "ticks": ""
             }
            },
            "type": "scattermapbox"
           }
          ],
          "scatterpolar": [
           {
            "marker": {
             "colorbar": {
              "outlinewidth": 0,
              "ticks": ""
             }
            },
            "type": "scatterpolar"
           }
          ],
          "scatterpolargl": [
           {
            "marker": {
             "colorbar": {
              "outlinewidth": 0,
              "ticks": ""
             }
            },
            "type": "scatterpolargl"
           }
          ],
          "scatterternary": [
           {
            "marker": {
             "colorbar": {
              "outlinewidth": 0,
              "ticks": ""
             }
            },
            "type": "scatterternary"
           }
          ],
          "surface": [
           {
            "colorbar": {
             "outlinewidth": 0,
             "ticks": ""
            },
            "colorscale": [
             [
              0,
              "#0d0887"
             ],
             [
              0.1111111111111111,
              "#46039f"
             ],
             [
              0.2222222222222222,
              "#7201a8"
             ],
             [
              0.3333333333333333,
              "#9c179e"
             ],
             [
              0.4444444444444444,
              "#bd3786"
             ],
             [
              0.5555555555555556,
              "#d8576b"
             ],
             [
              0.6666666666666666,
              "#ed7953"
             ],
             [
              0.7777777777777778,
              "#fb9f3a"
             ],
             [
              0.8888888888888888,
              "#fdca26"
             ],
             [
              1,
              "#f0f921"
             ]
            ],
            "type": "surface"
           }
          ],
          "table": [
           {
            "cells": {
             "fill": {
              "color": "#EBF0F8"
             },
             "line": {
              "color": "white"
             }
            },
            "header": {
             "fill": {
              "color": "#C8D4E3"
             },
             "line": {
              "color": "white"
             }
            },
            "type": "table"
           }
          ]
         },
         "layout": {
          "annotationdefaults": {
           "arrowcolor": "#2a3f5f",
           "arrowhead": 0,
           "arrowwidth": 1
          },
          "autotypenumbers": "strict",
          "coloraxis": {
           "colorbar": {
            "outlinewidth": 0,
            "ticks": ""
           }
          },
          "colorscale": {
           "diverging": [
            [
             0,
             "#8e0152"
            ],
            [
             0.1,
             "#c51b7d"
            ],
            [
             0.2,
             "#de77ae"
            ],
            [
             0.3,
             "#f1b6da"
            ],
            [
             0.4,
             "#fde0ef"
            ],
            [
             0.5,
             "#f7f7f7"
            ],
            [
             0.6,
             "#e6f5d0"
            ],
            [
             0.7,
             "#b8e186"
            ],
            [
             0.8,
             "#7fbc41"
            ],
            [
             0.9,
             "#4d9221"
            ],
            [
             1,
             "#276419"
            ]
           ],
           "sequential": [
            [
             0,
             "#0d0887"
            ],
            [
             0.1111111111111111,
             "#46039f"
            ],
            [
             0.2222222222222222,
             "#7201a8"
            ],
            [
             0.3333333333333333,
             "#9c179e"
            ],
            [
             0.4444444444444444,
             "#bd3786"
            ],
            [
             0.5555555555555556,
             "#d8576b"
            ],
            [
             0.6666666666666666,
             "#ed7953"
            ],
            [
             0.7777777777777778,
             "#fb9f3a"
            ],
            [
             0.8888888888888888,
             "#fdca26"
            ],
            [
             1,
             "#f0f921"
            ]
           ],
           "sequentialminus": [
            [
             0,
             "#0d0887"
            ],
            [
             0.1111111111111111,
             "#46039f"
            ],
            [
             0.2222222222222222,
             "#7201a8"
            ],
            [
             0.3333333333333333,
             "#9c179e"
            ],
            [
             0.4444444444444444,
             "#bd3786"
            ],
            [
             0.5555555555555556,
             "#d8576b"
            ],
            [
             0.6666666666666666,
             "#ed7953"
            ],
            [
             0.7777777777777778,
             "#fb9f3a"
            ],
            [
             0.8888888888888888,
             "#fdca26"
            ],
            [
             1,
             "#f0f921"
            ]
           ]
          },
          "colorway": [
           "#636efa",
           "#EF553B",
           "#00cc96",
           "#ab63fa",
           "#FFA15A",
           "#19d3f3",
           "#FF6692",
           "#B6E880",
           "#FF97FF",
           "#FECB52"
          ],
          "font": {
           "color": "#2a3f5f"
          },
          "geo": {
           "bgcolor": "white",
           "lakecolor": "white",
           "landcolor": "#E5ECF6",
           "showlakes": true,
           "showland": true,
           "subunitcolor": "white"
          },
          "hoverlabel": {
           "align": "left"
          },
          "hovermode": "closest",
          "mapbox": {
           "style": "light"
          },
          "paper_bgcolor": "white",
          "plot_bgcolor": "#E5ECF6",
          "polar": {
           "angularaxis": {
            "gridcolor": "white",
            "linecolor": "white",
            "ticks": ""
           },
           "bgcolor": "#E5ECF6",
           "radialaxis": {
            "gridcolor": "white",
            "linecolor": "white",
            "ticks": ""
           }
          },
          "scene": {
           "xaxis": {
            "backgroundcolor": "#E5ECF6",
            "gridcolor": "white",
            "gridwidth": 2,
            "linecolor": "white",
            "showbackground": true,
            "ticks": "",
            "zerolinecolor": "white"
           },
           "yaxis": {
            "backgroundcolor": "#E5ECF6",
            "gridcolor": "white",
            "gridwidth": 2,
            "linecolor": "white",
            "showbackground": true,
            "ticks": "",
            "zerolinecolor": "white"
           },
           "zaxis": {
            "backgroundcolor": "#E5ECF6",
            "gridcolor": "white",
            "gridwidth": 2,
            "linecolor": "white",
            "showbackground": true,
            "ticks": "",
            "zerolinecolor": "white"
           }
          },
          "shapedefaults": {
           "line": {
            "color": "#2a3f5f"
           }
          },
          "ternary": {
           "aaxis": {
            "gridcolor": "white",
            "linecolor": "white",
            "ticks": ""
           },
           "baxis": {
            "gridcolor": "white",
            "linecolor": "white",
            "ticks": ""
           },
           "bgcolor": "#E5ECF6",
           "caxis": {
            "gridcolor": "white",
            "linecolor": "white",
            "ticks": ""
           }
          },
          "title": {
           "x": 0.05
          },
          "xaxis": {
           "automargin": true,
           "gridcolor": "white",
           "linecolor": "white",
           "ticks": "",
           "title": {
            "standoff": 15
           },
           "zerolinecolor": "white",
           "zerolinewidth": 2
          },
          "yaxis": {
           "automargin": true,
           "gridcolor": "white",
           "linecolor": "white",
           "ticks": "",
           "title": {
            "standoff": 15
           },
           "zerolinecolor": "white",
           "zerolinewidth": 2
          }
         }
        },
        "xaxis": {
         "anchor": "y",
         "domain": [
          0,
          1
         ],
         "title": {
          "text": "Año"
         }
        },
        "yaxis": {
         "anchor": "x",
         "domain": [
          0,
          1
         ],
         "title": {
          "text": "Población urbana"
         }
        }
       }
      }
     },
     "metadata": {},
     "output_type": "display_data"
    }
   ],
   "source": [
    "graficar(\"Alemania\", \"Población urbana\")"
   ]
  },
  {
   "cell_type": "code",
   "execution_count": 14,
   "metadata": {},
   "outputs": [
    {
     "data": {
      "text/plain": [
       "array(['Afganistán', 'Alemania', 'Arabia Saudita', 'Argelia', 'Argentina',\n",
       "       'Australia', 'Austria', 'Brasil', 'Burkina Faso', 'Camboya',\n",
       "       'Canadá', 'Chad', 'China', 'Colombia', 'Costa Rica', 'Cuba',\n",
       "       'Dinamarca', 'Ecuador', 'Egipto, República Árabe de',\n",
       "       'Emiratos Árabes Unidos', 'España', 'Estados Unidos',\n",
       "       'Federación de Rusia', 'Fiji', 'Finlandia', 'Grecia', 'India',\n",
       "       'Japón', 'Kenya', 'Marruecos', 'México', 'Nepal', 'Noruega',\n",
       "       'Nueva Zelandia', 'Níger', 'Países Bajos', 'Reino Unido', 'Rwanda',\n",
       "       'Samoa', 'Sierra Leona', 'Singapur', 'Sudáfrica', 'Suiza',\n",
       "       'Venezuela'], dtype=object)"
      ]
     },
     "execution_count": 14,
     "metadata": {},
     "output_type": "execute_result"
    }
   ],
   "source": [
    "df_pivoted[\"país Name\"].unique()"
   ]
  },
  {
   "cell_type": "code",
   "execution_count": 15,
   "metadata": {},
   "outputs": [],
   "source": [
    "df_pivoted.loc[df_pivoted[\"país Name\"] == \"Egipto, República Árabe de\", \"país Name\"] = \"Egipto\"\n",
    "df_pivoted.loc[df_pivoted[\"país Name\"] == \"Federación de Rusia\", \"país Name\"] = \"Rusia\""
   ]
  },
  {
   "cell_type": "code",
   "execution_count": 16,
   "metadata": {},
   "outputs": [],
   "source": [
    "paises_continentes = {\n",
    "    'Afganistán': 'Asia',\n",
    "    'Alemania': 'Europa',\n",
    "    'Arabia Saudita': 'Asia',\n",
    "    'Argelia': 'África',\n",
    "    'Argentina': 'América del Sur',\n",
    "    'Australia': 'Oceanía',\n",
    "    'Austria': 'Europa',\n",
    "    'Brasil': 'América del Sur',\n",
    "    'Burkina Faso': 'África',\n",
    "    'Camboya': 'Asia',\n",
    "    'Canadá': 'América del Norte',\n",
    "    'Chad': 'África',\n",
    "    'China': 'Asia',\n",
    "    'Colombia': 'América del Sur',\n",
    "    'Costa Rica': 'América Central',\n",
    "    'Cuba': 'América Central',\n",
    "    'Dinamarca': 'Europa',\n",
    "    'Ecuador': 'América del Sur',\n",
    "    'Egipto': 'África',\n",
    "    'Emiratos Árabes Unidos': 'Asia',\n",
    "    'España': 'Europa',\n",
    "    'Estados Unidos': 'América del Norte',\n",
    "    'Rusia': 'Europa',\n",
    "    'Fiji': 'Oceanía',\n",
    "    'Finlandia': 'Europa',\n",
    "    'Grecia': 'Europa',\n",
    "    'India': 'Asia',\n",
    "    'Japón': 'Asia',\n",
    "    'Kenya': 'África',\n",
    "    'Marruecos': 'África',\n",
    "    'México': 'América del Norte',\n",
    "    'Nepal': 'Asia',\n",
    "    'Noruega': 'Europa',\n",
    "    'Nueva Zelandia': 'Oceanía',\n",
    "    'Níger': 'África',\n",
    "    'Países Bajos': 'Europa',\n",
    "    'Reino Unido': 'Europa',\n",
    "    'Rwanda': 'África',\n",
    "    'Samoa': 'Oceanía',\n",
    "    'Sierra Leona': 'África',\n",
    "    'Singapur': 'Asia',\n",
    "    'Sudáfrica': 'África',\n",
    "    'Suiza': 'Europa',\n",
    "    'Venezuela': 'América del Sur'\n",
    "}"
   ]
  },
  {
   "cell_type": "code",
   "execution_count": 17,
   "metadata": {},
   "outputs": [],
   "source": [
    "df_pivoted[\"Continente\"] = df_pivoted[\"país Name\"].map(paises_continentes)"
   ]
  },
  {
   "cell_type": "code",
   "execution_count": 18,
   "metadata": {},
   "outputs": [
    {
     "data": {
      "text/html": [
       "<div>\n",
       "<style scoped>\n",
       "    .dataframe tbody tr th:only-of-type {\n",
       "        vertical-align: middle;\n",
       "    }\n",
       "\n",
       "    .dataframe tbody tr th {\n",
       "        vertical-align: top;\n",
       "    }\n",
       "\n",
       "    .dataframe thead th {\n",
       "        text-align: right;\n",
       "    }\n",
       "</style>\n",
       "<table border=\"1\" class=\"dataframe\">\n",
       "  <thead>\n",
       "    <tr style=\"text-align: right;\">\n",
       "      <th></th>\n",
       "      <th>serie Name</th>\n",
       "      <th>Población rural</th>\n",
       "      <th>Población urbana</th>\n",
       "      <th>Población, hombres</th>\n",
       "      <th>Población, mujeres</th>\n",
       "      <th>Población, total</th>\n",
       "    </tr>\n",
       "    <tr>\n",
       "      <th>Continente</th>\n",
       "      <th>Año</th>\n",
       "      <th></th>\n",
       "      <th></th>\n",
       "      <th></th>\n",
       "      <th></th>\n",
       "      <th></th>\n",
       "    </tr>\n",
       "  </thead>\n",
       "  <tbody>\n",
       "    <tr>\n",
       "      <th rowspan=\"5\" valign=\"top\">América Central</th>\n",
       "      <th>1987</th>\n",
       "      <td>2221003.5</td>\n",
       "      <td>4404749.0</td>\n",
       "      <td>3351423.0</td>\n",
       "      <td>3274329.5</td>\n",
       "      <td>6625752.5</td>\n",
       "    </tr>\n",
       "    <tr>\n",
       "      <th>1988</th>\n",
       "      <td>2216016.0</td>\n",
       "      <td>4497431.0</td>\n",
       "      <td>3394889.0</td>\n",
       "      <td>3318558.0</td>\n",
       "      <td>6713447.0</td>\n",
       "    </tr>\n",
       "    <tr>\n",
       "      <th>1989</th>\n",
       "      <td>2210840.5</td>\n",
       "      <td>4592253.5</td>\n",
       "      <td>3439395.5</td>\n",
       "      <td>3363698.5</td>\n",
       "      <td>6803094.0</td>\n",
       "    </tr>\n",
       "    <tr>\n",
       "      <th>1990</th>\n",
       "      <td>2204777.0</td>\n",
       "      <td>4687689.5</td>\n",
       "      <td>3483748.5</td>\n",
       "      <td>3408719.0</td>\n",
       "      <td>6892466.5</td>\n",
       "    </tr>\n",
       "    <tr>\n",
       "      <th>1991</th>\n",
       "      <td>2205153.0</td>\n",
       "      <td>4771460.0</td>\n",
       "      <td>3525424.5</td>\n",
       "      <td>3451189.0</td>\n",
       "      <td>6976613.0</td>\n",
       "    </tr>\n",
       "    <tr>\n",
       "      <th>...</th>\n",
       "      <th>...</th>\n",
       "      <td>...</td>\n",
       "      <td>...</td>\n",
       "      <td>...</td>\n",
       "      <td>...</td>\n",
       "      <td>...</td>\n",
       "    </tr>\n",
       "    <tr>\n",
       "      <th rowspan=\"5\" valign=\"top\">África</th>\n",
       "      <th>2018</th>\n",
       "      <td>20035851.5</td>\n",
       "      <td>16749678.7</td>\n",
       "      <td>18402938.4</td>\n",
       "      <td>18382591.9</td>\n",
       "      <td>36785530.2</td>\n",
       "    </tr>\n",
       "    <tr>\n",
       "      <th>2019</th>\n",
       "      <td>20341636.0</td>\n",
       "      <td>17165434.6</td>\n",
       "      <td>18766062.5</td>\n",
       "      <td>18741008.2</td>\n",
       "      <td>37507070.6</td>\n",
       "    </tr>\n",
       "    <tr>\n",
       "      <th>2020</th>\n",
       "      <td>20641765.6</td>\n",
       "      <td>17585692.1</td>\n",
       "      <td>19129065.8</td>\n",
       "      <td>19098391.9</td>\n",
       "      <td>38227457.7</td>\n",
       "    </tr>\n",
       "    <tr>\n",
       "      <th>2021</th>\n",
       "      <td>20930241.6</td>\n",
       "      <td>18002785.8</td>\n",
       "      <td>19484142.9</td>\n",
       "      <td>19448884.6</td>\n",
       "      <td>38933027.4</td>\n",
       "    </tr>\n",
       "    <tr>\n",
       "      <th>2022</th>\n",
       "      <td>21206870.2</td>\n",
       "      <td>18419143.9</td>\n",
       "      <td>19832652.3</td>\n",
       "      <td>19793361.7</td>\n",
       "      <td>39626014.1</td>\n",
       "    </tr>\n",
       "  </tbody>\n",
       "</table>\n",
       "<p>252 rows × 5 columns</p>\n",
       "</div>"
      ],
      "text/plain": [
       "serie Name            Población rural  Población urbana  Población, hombres   \n",
       "Continente      Año                                                           \n",
       "América Central 1987        2221003.5         4404749.0           3351423.0  \\\n",
       "                1988        2216016.0         4497431.0           3394889.0   \n",
       "                1989        2210840.5         4592253.5           3439395.5   \n",
       "                1990        2204777.0         4687689.5           3483748.5   \n",
       "                1991        2205153.0         4771460.0           3525424.5   \n",
       "...                               ...               ...                 ...   \n",
       "África          2018       20035851.5        16749678.7          18402938.4   \n",
       "                2019       20341636.0        17165434.6          18766062.5   \n",
       "                2020       20641765.6        17585692.1          19129065.8   \n",
       "                2021       20930241.6        18002785.8          19484142.9   \n",
       "                2022       21206870.2        18419143.9          19832652.3   \n",
       "\n",
       "serie Name            Población, mujeres  Población, total  \n",
       "Continente      Año                                         \n",
       "América Central 1987           3274329.5         6625752.5  \n",
       "                1988           3318558.0         6713447.0  \n",
       "                1989           3363698.5         6803094.0  \n",
       "                1990           3408719.0         6892466.5  \n",
       "                1991           3451189.0         6976613.0  \n",
       "...                                  ...               ...  \n",
       "África          2018          18382591.9        36785530.2  \n",
       "                2019          18741008.2        37507070.6  \n",
       "                2020          19098391.9        38227457.7  \n",
       "                2021          19448884.6        38933027.4  \n",
       "                2022          19793361.7        39626014.1  \n",
       "\n",
       "[252 rows x 5 columns]"
      ]
     },
     "execution_count": 18,
     "metadata": {},
     "output_type": "execute_result"
    }
   ],
   "source": [
    "df_contientes = df_pivoted.iloc[:,1:].groupby([\"Continente\", \"Año\"]).mean()\n",
    "df_contientes"
   ]
  },
  {
   "cell_type": "code",
   "execution_count": 19,
   "metadata": {},
   "outputs": [
    {
     "data": {
      "text/html": [
       "<div>\n",
       "<style scoped>\n",
       "    .dataframe tbody tr th:only-of-type {\n",
       "        vertical-align: middle;\n",
       "    }\n",
       "\n",
       "    .dataframe tbody tr th {\n",
       "        vertical-align: top;\n",
       "    }\n",
       "\n",
       "    .dataframe thead th {\n",
       "        text-align: right;\n",
       "    }\n",
       "</style>\n",
       "<table border=\"1\" class=\"dataframe\">\n",
       "  <thead>\n",
       "    <tr style=\"text-align: right;\">\n",
       "      <th>serie Name</th>\n",
       "      <th>Continente</th>\n",
       "      <th>Año</th>\n",
       "      <th>Población rural</th>\n",
       "      <th>Población urbana</th>\n",
       "      <th>Población, hombres</th>\n",
       "      <th>Población, mujeres</th>\n",
       "      <th>Población, total</th>\n",
       "    </tr>\n",
       "  </thead>\n",
       "  <tbody>\n",
       "    <tr>\n",
       "      <th>0</th>\n",
       "      <td>América Central</td>\n",
       "      <td>1987</td>\n",
       "      <td>2221003.5</td>\n",
       "      <td>4404749.0</td>\n",
       "      <td>3351423.0</td>\n",
       "      <td>3274329.5</td>\n",
       "      <td>6625752.5</td>\n",
       "    </tr>\n",
       "    <tr>\n",
       "      <th>1</th>\n",
       "      <td>América Central</td>\n",
       "      <td>1988</td>\n",
       "      <td>2216016.0</td>\n",
       "      <td>4497431.0</td>\n",
       "      <td>3394889.0</td>\n",
       "      <td>3318558.0</td>\n",
       "      <td>6713447.0</td>\n",
       "    </tr>\n",
       "    <tr>\n",
       "      <th>2</th>\n",
       "      <td>América Central</td>\n",
       "      <td>1989</td>\n",
       "      <td>2210840.5</td>\n",
       "      <td>4592253.5</td>\n",
       "      <td>3439395.5</td>\n",
       "      <td>3363698.5</td>\n",
       "      <td>6803094.0</td>\n",
       "    </tr>\n",
       "    <tr>\n",
       "      <th>3</th>\n",
       "      <td>América Central</td>\n",
       "      <td>1990</td>\n",
       "      <td>2204777.0</td>\n",
       "      <td>4687689.5</td>\n",
       "      <td>3483748.5</td>\n",
       "      <td>3408719.0</td>\n",
       "      <td>6892466.5</td>\n",
       "    </tr>\n",
       "    <tr>\n",
       "      <th>4</th>\n",
       "      <td>América Central</td>\n",
       "      <td>1991</td>\n",
       "      <td>2205153.0</td>\n",
       "      <td>4771460.0</td>\n",
       "      <td>3525424.5</td>\n",
       "      <td>3451189.0</td>\n",
       "      <td>6976613.0</td>\n",
       "    </tr>\n",
       "    <tr>\n",
       "      <th>...</th>\n",
       "      <td>...</td>\n",
       "      <td>...</td>\n",
       "      <td>...</td>\n",
       "      <td>...</td>\n",
       "      <td>...</td>\n",
       "      <td>...</td>\n",
       "      <td>...</td>\n",
       "    </tr>\n",
       "    <tr>\n",
       "      <th>247</th>\n",
       "      <td>África</td>\n",
       "      <td>2018</td>\n",
       "      <td>20035851.5</td>\n",
       "      <td>16749678.7</td>\n",
       "      <td>18402938.4</td>\n",
       "      <td>18382591.9</td>\n",
       "      <td>36785530.2</td>\n",
       "    </tr>\n",
       "    <tr>\n",
       "      <th>248</th>\n",
       "      <td>África</td>\n",
       "      <td>2019</td>\n",
       "      <td>20341636.0</td>\n",
       "      <td>17165434.6</td>\n",
       "      <td>18766062.5</td>\n",
       "      <td>18741008.2</td>\n",
       "      <td>37507070.6</td>\n",
       "    </tr>\n",
       "    <tr>\n",
       "      <th>249</th>\n",
       "      <td>África</td>\n",
       "      <td>2020</td>\n",
       "      <td>20641765.6</td>\n",
       "      <td>17585692.1</td>\n",
       "      <td>19129065.8</td>\n",
       "      <td>19098391.9</td>\n",
       "      <td>38227457.7</td>\n",
       "    </tr>\n",
       "    <tr>\n",
       "      <th>250</th>\n",
       "      <td>África</td>\n",
       "      <td>2021</td>\n",
       "      <td>20930241.6</td>\n",
       "      <td>18002785.8</td>\n",
       "      <td>19484142.9</td>\n",
       "      <td>19448884.6</td>\n",
       "      <td>38933027.4</td>\n",
       "    </tr>\n",
       "    <tr>\n",
       "      <th>251</th>\n",
       "      <td>África</td>\n",
       "      <td>2022</td>\n",
       "      <td>21206870.2</td>\n",
       "      <td>18419143.9</td>\n",
       "      <td>19832652.3</td>\n",
       "      <td>19793361.7</td>\n",
       "      <td>39626014.1</td>\n",
       "    </tr>\n",
       "  </tbody>\n",
       "</table>\n",
       "<p>252 rows × 7 columns</p>\n",
       "</div>"
      ],
      "text/plain": [
       "serie Name       Continente   Año  Población rural  Población urbana   \n",
       "0           América Central  1987        2221003.5         4404749.0  \\\n",
       "1           América Central  1988        2216016.0         4497431.0   \n",
       "2           América Central  1989        2210840.5         4592253.5   \n",
       "3           América Central  1990        2204777.0         4687689.5   \n",
       "4           América Central  1991        2205153.0         4771460.0   \n",
       "..                      ...   ...              ...               ...   \n",
       "247                  África  2018       20035851.5        16749678.7   \n",
       "248                  África  2019       20341636.0        17165434.6   \n",
       "249                  África  2020       20641765.6        17585692.1   \n",
       "250                  África  2021       20930241.6        18002785.8   \n",
       "251                  África  2022       21206870.2        18419143.9   \n",
       "\n",
       "serie Name  Población, hombres  Población, mujeres  Población, total  \n",
       "0                    3351423.0           3274329.5         6625752.5  \n",
       "1                    3394889.0           3318558.0         6713447.0  \n",
       "2                    3439395.5           3363698.5         6803094.0  \n",
       "3                    3483748.5           3408719.0         6892466.5  \n",
       "4                    3525424.5           3451189.0         6976613.0  \n",
       "..                         ...                 ...               ...  \n",
       "247                 18402938.4          18382591.9        36785530.2  \n",
       "248                 18766062.5          18741008.2        37507070.6  \n",
       "249                 19129065.8          19098391.9        38227457.7  \n",
       "250                 19484142.9          19448884.6        38933027.4  \n",
       "251                 19832652.3          19793361.7        39626014.1  \n",
       "\n",
       "[252 rows x 7 columns]"
      ]
     },
     "execution_count": 19,
     "metadata": {},
     "output_type": "execute_result"
    }
   ],
   "source": [
    "df_contientes.reset_index(inplace=True)\n",
    "df_contientes"
   ]
  },
  {
   "cell_type": "code",
   "execution_count": 20,
   "metadata": {},
   "outputs": [],
   "source": [
    "def graficar_indicador(indicador):\n",
    "    fig = px.line(data_frame=df_contientes, x=\"Año\", y=indicador, color=\"Continente\")\n",
    "    fig.show()"
   ]
  },
  {
   "cell_type": "code",
   "execution_count": 21,
   "metadata": {},
   "outputs": [
    {
     "data": {
      "application/vnd.plotly.v1+json": {
       "config": {
        "plotlyServerURL": "https://plot.ly"
       },
       "data": [
        {
         "hovertemplate": "Continente=América Central<br>Año=%{x}<br>Población rural=%{y}<extra></extra>",
         "legendgroup": "América Central",
         "line": {
          "color": "#636efa",
          "dash": "solid"
         },
         "marker": {
          "symbol": "circle"
         },
         "mode": "lines",
         "name": "América Central",
         "orientation": "v",
         "showlegend": true,
         "type": "scatter",
         "x": [
          "1987",
          "1988",
          "1989",
          "1990",
          "1991",
          "1992",
          "1993",
          "1994",
          "1995",
          "1996",
          "1997",
          "1998",
          "1999",
          "2000",
          "2001",
          "2002",
          "2003",
          "2004",
          "2005",
          "2006",
          "2007",
          "2008",
          "2009",
          "2010",
          "2011",
          "2012",
          "2013",
          "2014",
          "2015",
          "2016",
          "2017",
          "2018",
          "2019",
          "2020",
          "2021",
          "2022"
         ],
         "xaxis": "x",
         "y": [
          2221003.5,
          2216016,
          2210840.5,
          2204777,
          2205153,
          2211271,
          2215206.5,
          2216982,
          2217073,
          2215958.5,
          2211583.5,
          2203780,
          2195073,
          2184988,
          2163815.5,
          2140804,
          2120091.5,
          2101987.5,
          2082778,
          2062316.5,
          2040894.5,
          2018926,
          1996842,
          1974364.5,
          1951800,
          1929988,
          1911435.5,
          1893802,
          1876315,
          1858826,
          1840330.5,
          1821360.5,
          1801773.5,
          1781179.5,
          1756722.5,
          1732108
         ],
         "yaxis": "y"
        },
        {
         "hovertemplate": "Continente=América del Norte<br>Año=%{x}<br>Población rural=%{y}<extra></extra>",
         "legendgroup": "América del Norte",
         "line": {
          "color": "#EF553B",
          "dash": "solid"
         },
         "marker": {
          "symbol": "circle"
         },
         "mode": "lines",
         "name": "América del Norte",
         "orientation": "v",
         "showlegend": true,
         "type": "scatter",
         "x": [
          "1987",
          "1988",
          "1989",
          "1990",
          "1991",
          "1992",
          "1993",
          "1994",
          "1995",
          "1996",
          "1997",
          "1998",
          "1999",
          "2000",
          "2001",
          "2002",
          "2003",
          "2004",
          "2005",
          "2006",
          "2007",
          "2008",
          "2009",
          "2010",
          "2011",
          "2012",
          "2013",
          "2014",
          "2015",
          "2016",
          "2017",
          "2018",
          "2019",
          "2020",
          "2021",
          "2022"
         ],
         "xaxis": "x",
         "y": [
          30192555.666666668,
          30284830,
          30393767.666666668,
          30499369.333333332,
          30506272,
          30497480.333333332,
          30469819,
          30418706.333333332,
          30354014.333333332,
          30296923.666666668,
          30244706.333333332,
          30175650.666666668,
          30097831.333333332,
          30043683,
          30081206,
          30130988.333333332,
          30159784,
          30198815.666666668,
          30235639.666666668,
          30273283.666666668,
          30293273,
          30309350,
          30310017.666666668,
          30308362.666666668,
          30284418,
          30269624.666666668,
          30231258,
          30186168.333333332,
          30122794.333333332,
          30056366.666666668,
          29960109,
          29831169.666666668,
          29672345.333333332,
          29585736.666666668,
          29311387.666666668,
          29108707.666666668
         ],
         "yaxis": "y"
        },
        {
         "hovertemplate": "Continente=América del Sur<br>Año=%{x}<br>Población rural=%{y}<extra></extra>",
         "legendgroup": "América del Sur",
         "line": {
          "color": "#00cc96",
          "dash": "solid"
         },
         "marker": {
          "symbol": "circle"
         },
         "mode": "lines",
         "name": "América del Sur",
         "orientation": "v",
         "showlegend": true,
         "type": "scatter",
         "x": [
          "1987",
          "1988",
          "1989",
          "1990",
          "1991",
          "1992",
          "1993",
          "1994",
          "1995",
          "1996",
          "1997",
          "1998",
          "1999",
          "2000",
          "2001",
          "2002",
          "2003",
          "2004",
          "2005",
          "2006",
          "2007",
          "2008",
          "2009",
          "2010",
          "2011",
          "2012",
          "2013",
          "2014",
          "2015",
          "2016",
          "2017",
          "2018",
          "2019",
          "2020",
          "2021",
          "2022"
         ],
         "xaxis": "x",
         "y": [
          12497546.6,
          12426127.8,
          12347058.4,
          12259197.2,
          12167665,
          12077195.4,
          11981185.4,
          11880470,
          11774806.4,
          11663318.2,
          11524198.6,
          11378964.6,
          11228539.8,
          11073635.2,
          11027933.8,
          11005076.8,
          10978574.6,
          10947493.6,
          10913676.6,
          10875388.8,
          10832382.6,
          10784387,
          10733815.4,
          10676317.4,
          10622742.2,
          10567686,
          10510067.2,
          10449698.4,
          10388585.4,
          10326029.6,
          10262583.6,
          10198007.2,
          10128062,
          10048418.4,
          9956997.2,
          9862496.2
         ],
         "yaxis": "y"
        },
        {
         "hovertemplate": "Continente=Asia<br>Año=%{x}<br>Población rural=%{y}<extra></extra>",
         "legendgroup": "Asia",
         "line": {
          "color": "#ab63fa",
          "dash": "solid"
         },
         "marker": {
          "symbol": "circle"
         },
         "mode": "lines",
         "name": "Asia",
         "orientation": "v",
         "showlegend": true,
         "type": "scatter",
         "x": [
          "1987",
          "1988",
          "1989",
          "1990",
          "1991",
          "1992",
          "1993",
          "1994",
          "1995",
          "1996",
          "1997",
          "1998",
          "1999",
          "2000",
          "2001",
          "2002",
          "2003",
          "2004",
          "2005",
          "2006",
          "2007",
          "2008",
          "2009",
          "2010",
          "2011",
          "2012",
          "2013",
          "2014",
          "2015",
          "2016",
          "2017",
          "2018",
          "2019",
          "2020",
          "2021",
          "2022"
         ],
         "xaxis": "x",
         "y": [
          166469601.44444445,
          168419297.1111111,
          170318685.33333334,
          172117728.33333334,
          173660319.7777778,
          175186215.66666666,
          176671473.66666666,
          178039398,
          179272165,
          180386424.7777778,
          181434931.2222222,
          182378154.44444445,
          183188123.44444445,
          183838497.1111111,
          183907476.1111111,
          183699285.55555555,
          183405282.2222222,
          182944972,
          182403068.44444445,
          181846484.33333334,
          181184093.1111111,
          180455807.55555555,
          179707019.8888889,
          178893153.66666666,
          178269923.55555555,
          177761927.55555555,
          177171583.7777778,
          176475654.44444445,
          175657496.8888889,
          174797655.44444445,
          173924472.33333334,
          172904710.2222222,
          171771182.2222222,
          170530271,
          169066738.44444445,
          167437475.66666666
         ],
         "yaxis": "y"
        },
        {
         "hovertemplate": "Continente=Europa<br>Año=%{x}<br>Población rural=%{y}<extra></extra>",
         "legendgroup": "Europa",
         "line": {
          "color": "#FFA15A",
          "dash": "solid"
         },
         "marker": {
          "symbol": "circle"
         },
         "mode": "lines",
         "name": "Europa",
         "orientation": "v",
         "showlegend": true,
         "type": "scatter",
         "x": [
          "1987",
          "1988",
          "1989",
          "1990",
          "1991",
          "1992",
          "1993",
          "1994",
          "1995",
          "1996",
          "1997",
          "1998",
          "1999",
          "2000",
          "2001",
          "2002",
          "2003",
          "2004",
          "2005",
          "2006",
          "2007",
          "2008",
          "2009",
          "2010",
          "2011",
          "2012",
          "2013",
          "2014",
          "2015",
          "2016",
          "2017",
          "2018",
          "2019",
          "2020",
          "2021",
          "2022"
         ],
         "xaxis": "x",
         "y": [
          8929737.545454545,
          8889823.272727273,
          8895563.727272727,
          8909158.363636363,
          8924977.454545455,
          8935558.181818182,
          8933582.727272727,
          8918490.272727273,
          8901517.909090908,
          8879588.363636363,
          8853783.090909092,
          8825877.909090908,
          8794953.454545455,
          8762820.727272727,
          8727816.727272727,
          8677653.181818182,
          8622581.181818182,
          8567126.636363637,
          8513664.090909092,
          8463099.363636363,
          8421618.181818182,
          8383338.7272727275,
          8339752.181818182,
          8293535.2727272725,
          8218752.636363637,
          8186557.545454546,
          8153562.818181818,
          8125834.909090909,
          8106919.454545454,
          8084975.7272727275,
          8050135.454545454,
          8006820.2727272725,
          7960066.636363637,
          7897845.363636363,
          7817747,
          7774341.818181818
         ],
         "yaxis": "y"
        },
        {
         "hovertemplate": "Continente=Oceanía<br>Año=%{x}<br>Población rural=%{y}<extra></extra>",
         "legendgroup": "Oceanía",
         "line": {
          "color": "#19d3f3",
          "dash": "solid"
         },
         "marker": {
          "symbol": "circle"
         },
         "mode": "lines",
         "name": "Oceanía",
         "orientation": "v",
         "showlegend": true,
         "type": "scatter",
         "x": [
          "1987",
          "1988",
          "1989",
          "1990",
          "1991",
          "1992",
          "1993",
          "1994",
          "1995",
          "1996",
          "1997",
          "1998",
          "1999",
          "2000",
          "2001",
          "2002",
          "2003",
          "2004",
          "2005",
          "2006",
          "2007",
          "2008",
          "2009",
          "2010",
          "2011",
          "2012",
          "2013",
          "2014",
          "2015",
          "2016",
          "2017",
          "2018",
          "2019",
          "2020",
          "2021",
          "2022"
         ],
         "xaxis": "x",
         "y": [
          866783,
          876197.25,
          886219.25,
          895538.5,
          908528,
          919770.75,
          930388.25,
          941855.25,
          954713,
          969063.5,
          984136.75,
          998619.75,
          1013509.75,
          1029099.75,
          1045903.75,
          1051032.75,
          1056589.75,
          1060822.75,
          1065677,
          1071739.75,
          1082153.25,
          1093612.75,
          1105672,
          1113830.25,
          1120132,
          1128581,
          1137312,
          1145487.75,
          1153842,
          1163620.5,
          1173582.25,
          1181394.25,
          1188388.5,
          1194236.75,
          1187324.5,
          1188482.75
         ],
         "yaxis": "y"
        },
        {
         "hovertemplate": "Continente=África<br>Año=%{x}<br>Población rural=%{y}<extra></extra>",
         "legendgroup": "África",
         "line": {
          "color": "#FF6692",
          "dash": "solid"
         },
         "marker": {
          "symbol": "circle"
         },
         "mode": "lines",
         "name": "África",
         "orientation": "v",
         "showlegend": true,
         "type": "scatter",
         "x": [
          "1987",
          "1988",
          "1989",
          "1990",
          "1991",
          "1992",
          "1993",
          "1994",
          "1995",
          "1996",
          "1997",
          "1998",
          "1999",
          "2000",
          "2001",
          "2002",
          "2003",
          "2004",
          "2005",
          "2006",
          "2007",
          "2008",
          "2009",
          "2010",
          "2011",
          "2012",
          "2013",
          "2014",
          "2015",
          "2016",
          "2017",
          "2018",
          "2019",
          "2020",
          "2021",
          "2022"
         ],
         "xaxis": "x",
         "y": [
          11652143.6,
          11940941.8,
          12226734.8,
          12503525.1,
          12759686,
          12993293.6,
          13222939.4,
          13320735,
          13448967.7,
          13763052,
          14057723.5,
          14285322.2,
          14499524.5,
          14720806.7,
          14958382.1,
          15204383.6,
          15462378.3,
          15730703.6,
          15992292.7,
          16252441,
          16525267.1,
          16813138.8,
          17111085.9,
          17415531.1,
          17733694.1,
          18063157.3,
          18399453.2,
          18743215.4,
          19088598.8,
          19412000.7,
          19721253.6,
          20035851.5,
          20341636,
          20641765.6,
          20930241.6,
          21206870.2
         ],
         "yaxis": "y"
        }
       ],
       "layout": {
        "legend": {
         "title": {
          "text": "Continente"
         },
         "tracegroupgap": 0
        },
        "margin": {
         "t": 60
        },
        "template": {
         "data": {
          "bar": [
           {
            "error_x": {
             "color": "#2a3f5f"
            },
            "error_y": {
             "color": "#2a3f5f"
            },
            "marker": {
             "line": {
              "color": "#E5ECF6",
              "width": 0.5
             },
             "pattern": {
              "fillmode": "overlay",
              "size": 10,
              "solidity": 0.2
             }
            },
            "type": "bar"
           }
          ],
          "barpolar": [
           {
            "marker": {
             "line": {
              "color": "#E5ECF6",
              "width": 0.5
             },
             "pattern": {
              "fillmode": "overlay",
              "size": 10,
              "solidity": 0.2
             }
            },
            "type": "barpolar"
           }
          ],
          "carpet": [
           {
            "aaxis": {
             "endlinecolor": "#2a3f5f",
             "gridcolor": "white",
             "linecolor": "white",
             "minorgridcolor": "white",
             "startlinecolor": "#2a3f5f"
            },
            "baxis": {
             "endlinecolor": "#2a3f5f",
             "gridcolor": "white",
             "linecolor": "white",
             "minorgridcolor": "white",
             "startlinecolor": "#2a3f5f"
            },
            "type": "carpet"
           }
          ],
          "choropleth": [
           {
            "colorbar": {
             "outlinewidth": 0,
             "ticks": ""
            },
            "type": "choropleth"
           }
          ],
          "contour": [
           {
            "colorbar": {
             "outlinewidth": 0,
             "ticks": ""
            },
            "colorscale": [
             [
              0,
              "#0d0887"
             ],
             [
              0.1111111111111111,
              "#46039f"
             ],
             [
              0.2222222222222222,
              "#7201a8"
             ],
             [
              0.3333333333333333,
              "#9c179e"
             ],
             [
              0.4444444444444444,
              "#bd3786"
             ],
             [
              0.5555555555555556,
              "#d8576b"
             ],
             [
              0.6666666666666666,
              "#ed7953"
             ],
             [
              0.7777777777777778,
              "#fb9f3a"
             ],
             [
              0.8888888888888888,
              "#fdca26"
             ],
             [
              1,
              "#f0f921"
             ]
            ],
            "type": "contour"
           }
          ],
          "contourcarpet": [
           {
            "colorbar": {
             "outlinewidth": 0,
             "ticks": ""
            },
            "type": "contourcarpet"
           }
          ],
          "heatmap": [
           {
            "colorbar": {
             "outlinewidth": 0,
             "ticks": ""
            },
            "colorscale": [
             [
              0,
              "#0d0887"
             ],
             [
              0.1111111111111111,
              "#46039f"
             ],
             [
              0.2222222222222222,
              "#7201a8"
             ],
             [
              0.3333333333333333,
              "#9c179e"
             ],
             [
              0.4444444444444444,
              "#bd3786"
             ],
             [
              0.5555555555555556,
              "#d8576b"
             ],
             [
              0.6666666666666666,
              "#ed7953"
             ],
             [
              0.7777777777777778,
              "#fb9f3a"
             ],
             [
              0.8888888888888888,
              "#fdca26"
             ],
             [
              1,
              "#f0f921"
             ]
            ],
            "type": "heatmap"
           }
          ],
          "heatmapgl": [
           {
            "colorbar": {
             "outlinewidth": 0,
             "ticks": ""
            },
            "colorscale": [
             [
              0,
              "#0d0887"
             ],
             [
              0.1111111111111111,
              "#46039f"
             ],
             [
              0.2222222222222222,
              "#7201a8"
             ],
             [
              0.3333333333333333,
              "#9c179e"
             ],
             [
              0.4444444444444444,
              "#bd3786"
             ],
             [
              0.5555555555555556,
              "#d8576b"
             ],
             [
              0.6666666666666666,
              "#ed7953"
             ],
             [
              0.7777777777777778,
              "#fb9f3a"
             ],
             [
              0.8888888888888888,
              "#fdca26"
             ],
             [
              1,
              "#f0f921"
             ]
            ],
            "type": "heatmapgl"
           }
          ],
          "histogram": [
           {
            "marker": {
             "pattern": {
              "fillmode": "overlay",
              "size": 10,
              "solidity": 0.2
             }
            },
            "type": "histogram"
           }
          ],
          "histogram2d": [
           {
            "colorbar": {
             "outlinewidth": 0,
             "ticks": ""
            },
            "colorscale": [
             [
              0,
              "#0d0887"
             ],
             [
              0.1111111111111111,
              "#46039f"
             ],
             [
              0.2222222222222222,
              "#7201a8"
             ],
             [
              0.3333333333333333,
              "#9c179e"
             ],
             [
              0.4444444444444444,
              "#bd3786"
             ],
             [
              0.5555555555555556,
              "#d8576b"
             ],
             [
              0.6666666666666666,
              "#ed7953"
             ],
             [
              0.7777777777777778,
              "#fb9f3a"
             ],
             [
              0.8888888888888888,
              "#fdca26"
             ],
             [
              1,
              "#f0f921"
             ]
            ],
            "type": "histogram2d"
           }
          ],
          "histogram2dcontour": [
           {
            "colorbar": {
             "outlinewidth": 0,
             "ticks": ""
            },
            "colorscale": [
             [
              0,
              "#0d0887"
             ],
             [
              0.1111111111111111,
              "#46039f"
             ],
             [
              0.2222222222222222,
              "#7201a8"
             ],
             [
              0.3333333333333333,
              "#9c179e"
             ],
             [
              0.4444444444444444,
              "#bd3786"
             ],
             [
              0.5555555555555556,
              "#d8576b"
             ],
             [
              0.6666666666666666,
              "#ed7953"
             ],
             [
              0.7777777777777778,
              "#fb9f3a"
             ],
             [
              0.8888888888888888,
              "#fdca26"
             ],
             [
              1,
              "#f0f921"
             ]
            ],
            "type": "histogram2dcontour"
           }
          ],
          "mesh3d": [
           {
            "colorbar": {
             "outlinewidth": 0,
             "ticks": ""
            },
            "type": "mesh3d"
           }
          ],
          "parcoords": [
           {
            "line": {
             "colorbar": {
              "outlinewidth": 0,
              "ticks": ""
             }
            },
            "type": "parcoords"
           }
          ],
          "pie": [
           {
            "automargin": true,
            "type": "pie"
           }
          ],
          "scatter": [
           {
            "fillpattern": {
             "fillmode": "overlay",
             "size": 10,
             "solidity": 0.2
            },
            "type": "scatter"
           }
          ],
          "scatter3d": [
           {
            "line": {
             "colorbar": {
              "outlinewidth": 0,
              "ticks": ""
             }
            },
            "marker": {
             "colorbar": {
              "outlinewidth": 0,
              "ticks": ""
             }
            },
            "type": "scatter3d"
           }
          ],
          "scattercarpet": [
           {
            "marker": {
             "colorbar": {
              "outlinewidth": 0,
              "ticks": ""
             }
            },
            "type": "scattercarpet"
           }
          ],
          "scattergeo": [
           {
            "marker": {
             "colorbar": {
              "outlinewidth": 0,
              "ticks": ""
             }
            },
            "type": "scattergeo"
           }
          ],
          "scattergl": [
           {
            "marker": {
             "colorbar": {
              "outlinewidth": 0,
              "ticks": ""
             }
            },
            "type": "scattergl"
           }
          ],
          "scattermapbox": [
           {
            "marker": {
             "colorbar": {
              "outlinewidth": 0,
              "ticks": ""
             }
            },
            "type": "scattermapbox"
           }
          ],
          "scatterpolar": [
           {
            "marker": {
             "colorbar": {
              "outlinewidth": 0,
              "ticks": ""
             }
            },
            "type": "scatterpolar"
           }
          ],
          "scatterpolargl": [
           {
            "marker": {
             "colorbar": {
              "outlinewidth": 0,
              "ticks": ""
             }
            },
            "type": "scatterpolargl"
           }
          ],
          "scatterternary": [
           {
            "marker": {
             "colorbar": {
              "outlinewidth": 0,
              "ticks": ""
             }
            },
            "type": "scatterternary"
           }
          ],
          "surface": [
           {
            "colorbar": {
             "outlinewidth": 0,
             "ticks": ""
            },
            "colorscale": [
             [
              0,
              "#0d0887"
             ],
             [
              0.1111111111111111,
              "#46039f"
             ],
             [
              0.2222222222222222,
              "#7201a8"
             ],
             [
              0.3333333333333333,
              "#9c179e"
             ],
             [
              0.4444444444444444,
              "#bd3786"
             ],
             [
              0.5555555555555556,
              "#d8576b"
             ],
             [
              0.6666666666666666,
              "#ed7953"
             ],
             [
              0.7777777777777778,
              "#fb9f3a"
             ],
             [
              0.8888888888888888,
              "#fdca26"
             ],
             [
              1,
              "#f0f921"
             ]
            ],
            "type": "surface"
           }
          ],
          "table": [
           {
            "cells": {
             "fill": {
              "color": "#EBF0F8"
             },
             "line": {
              "color": "white"
             }
            },
            "header": {
             "fill": {
              "color": "#C8D4E3"
             },
             "line": {
              "color": "white"
             }
            },
            "type": "table"
           }
          ]
         },
         "layout": {
          "annotationdefaults": {
           "arrowcolor": "#2a3f5f",
           "arrowhead": 0,
           "arrowwidth": 1
          },
          "autotypenumbers": "strict",
          "coloraxis": {
           "colorbar": {
            "outlinewidth": 0,
            "ticks": ""
           }
          },
          "colorscale": {
           "diverging": [
            [
             0,
             "#8e0152"
            ],
            [
             0.1,
             "#c51b7d"
            ],
            [
             0.2,
             "#de77ae"
            ],
            [
             0.3,
             "#f1b6da"
            ],
            [
             0.4,
             "#fde0ef"
            ],
            [
             0.5,
             "#f7f7f7"
            ],
            [
             0.6,
             "#e6f5d0"
            ],
            [
             0.7,
             "#b8e186"
            ],
            [
             0.8,
             "#7fbc41"
            ],
            [
             0.9,
             "#4d9221"
            ],
            [
             1,
             "#276419"
            ]
           ],
           "sequential": [
            [
             0,
             "#0d0887"
            ],
            [
             0.1111111111111111,
             "#46039f"
            ],
            [
             0.2222222222222222,
             "#7201a8"
            ],
            [
             0.3333333333333333,
             "#9c179e"
            ],
            [
             0.4444444444444444,
             "#bd3786"
            ],
            [
             0.5555555555555556,
             "#d8576b"
            ],
            [
             0.6666666666666666,
             "#ed7953"
            ],
            [
             0.7777777777777778,
             "#fb9f3a"
            ],
            [
             0.8888888888888888,
             "#fdca26"
            ],
            [
             1,
             "#f0f921"
            ]
           ],
           "sequentialminus": [
            [
             0,
             "#0d0887"
            ],
            [
             0.1111111111111111,
             "#46039f"
            ],
            [
             0.2222222222222222,
             "#7201a8"
            ],
            [
             0.3333333333333333,
             "#9c179e"
            ],
            [
             0.4444444444444444,
             "#bd3786"
            ],
            [
             0.5555555555555556,
             "#d8576b"
            ],
            [
             0.6666666666666666,
             "#ed7953"
            ],
            [
             0.7777777777777778,
             "#fb9f3a"
            ],
            [
             0.8888888888888888,
             "#fdca26"
            ],
            [
             1,
             "#f0f921"
            ]
           ]
          },
          "colorway": [
           "#636efa",
           "#EF553B",
           "#00cc96",
           "#ab63fa",
           "#FFA15A",
           "#19d3f3",
           "#FF6692",
           "#B6E880",
           "#FF97FF",
           "#FECB52"
          ],
          "font": {
           "color": "#2a3f5f"
          },
          "geo": {
           "bgcolor": "white",
           "lakecolor": "white",
           "landcolor": "#E5ECF6",
           "showlakes": true,
           "showland": true,
           "subunitcolor": "white"
          },
          "hoverlabel": {
           "align": "left"
          },
          "hovermode": "closest",
          "mapbox": {
           "style": "light"
          },
          "paper_bgcolor": "white",
          "plot_bgcolor": "#E5ECF6",
          "polar": {
           "angularaxis": {
            "gridcolor": "white",
            "linecolor": "white",
            "ticks": ""
           },
           "bgcolor": "#E5ECF6",
           "radialaxis": {
            "gridcolor": "white",
            "linecolor": "white",
            "ticks": ""
           }
          },
          "scene": {
           "xaxis": {
            "backgroundcolor": "#E5ECF6",
            "gridcolor": "white",
            "gridwidth": 2,
            "linecolor": "white",
            "showbackground": true,
            "ticks": "",
            "zerolinecolor": "white"
           },
           "yaxis": {
            "backgroundcolor": "#E5ECF6",
            "gridcolor": "white",
            "gridwidth": 2,
            "linecolor": "white",
            "showbackground": true,
            "ticks": "",
            "zerolinecolor": "white"
           },
           "zaxis": {
            "backgroundcolor": "#E5ECF6",
            "gridcolor": "white",
            "gridwidth": 2,
            "linecolor": "white",
            "showbackground": true,
            "ticks": "",
            "zerolinecolor": "white"
           }
          },
          "shapedefaults": {
           "line": {
            "color": "#2a3f5f"
           }
          },
          "ternary": {
           "aaxis": {
            "gridcolor": "white",
            "linecolor": "white",
            "ticks": ""
           },
           "baxis": {
            "gridcolor": "white",
            "linecolor": "white",
            "ticks": ""
           },
           "bgcolor": "#E5ECF6",
           "caxis": {
            "gridcolor": "white",
            "linecolor": "white",
            "ticks": ""
           }
          },
          "title": {
           "x": 0.05
          },
          "xaxis": {
           "automargin": true,
           "gridcolor": "white",
           "linecolor": "white",
           "ticks": "",
           "title": {
            "standoff": 15
           },
           "zerolinecolor": "white",
           "zerolinewidth": 2
          },
          "yaxis": {
           "automargin": true,
           "gridcolor": "white",
           "linecolor": "white",
           "ticks": "",
           "title": {
            "standoff": 15
           },
           "zerolinecolor": "white",
           "zerolinewidth": 2
          }
         }
        },
        "xaxis": {
         "anchor": "y",
         "domain": [
          0,
          1
         ],
         "title": {
          "text": "Año"
         }
        },
        "yaxis": {
         "anchor": "x",
         "domain": [
          0,
          1
         ],
         "title": {
          "text": "Población rural"
         }
        }
       }
      }
     },
     "metadata": {},
     "output_type": "display_data"
    },
    {
     "data": {
      "application/vnd.plotly.v1+json": {
       "config": {
        "plotlyServerURL": "https://plot.ly"
       },
       "data": [
        {
         "hovertemplate": "Continente=América Central<br>Año=%{x}<br>Población urbana=%{y}<extra></extra>",
         "legendgroup": "América Central",
         "line": {
          "color": "#636efa",
          "dash": "solid"
         },
         "marker": {
          "symbol": "circle"
         },
         "mode": "lines",
         "name": "América Central",
         "orientation": "v",
         "showlegend": true,
         "type": "scatter",
         "x": [
          "1987",
          "1988",
          "1989",
          "1990",
          "1991",
          "1992",
          "1993",
          "1994",
          "1995",
          "1996",
          "1997",
          "1998",
          "1999",
          "2000",
          "2001",
          "2002",
          "2003",
          "2004",
          "2005",
          "2006",
          "2007",
          "2008",
          "2009",
          "2010",
          "2011",
          "2012",
          "2013",
          "2014",
          "2015",
          "2016",
          "2017",
          "2018",
          "2019",
          "2020",
          "2021",
          "2022"
         ],
         "xaxis": "x",
         "y": [
          4404749,
          4497431,
          4592253.5,
          4687689.5,
          4771460,
          4841572.5,
          4907946.5,
          4971197.5,
          5032706.5,
          5093674,
          5157191.5,
          5223809.5,
          5290689,
          5357504,
          5432359,
          5505533,
          5573822,
          5637059.5,
          5698222.5,
          5757084.5,
          5814058.5,
          5870339,
          5926314,
          5981970,
          6037518,
          6092953.5,
          6145121.5,
          6194355,
          6241253,
          6284782.5,
          6324793,
          6363128.5,
          6398841,
          6430722,
          6448442,
          6464402
         ],
         "yaxis": "y"
        },
        {
         "hovertemplate": "Continente=América del Norte<br>Año=%{x}<br>Población urbana=%{y}<extra></extra>",
         "legendgroup": "América del Norte",
         "line": {
          "color": "#EF553B",
          "dash": "solid"
         },
         "marker": {
          "symbol": "circle"
         },
         "mode": "lines",
         "name": "América del Norte",
         "orientation": "v",
         "showlegend": true,
         "type": "scatter",
         "x": [
          "1987",
          "1988",
          "1989",
          "1990",
          "1991",
          "1992",
          "1993",
          "1994",
          "1995",
          "1996",
          "1997",
          "1998",
          "1999",
          "2000",
          "2001",
          "2002",
          "2003",
          "2004",
          "2005",
          "2006",
          "2007",
          "2008",
          "2009",
          "2010",
          "2011",
          "2012",
          "2013",
          "2014",
          "2015",
          "2016",
          "2017",
          "2018",
          "2019",
          "2020",
          "2021",
          "2022"
         ],
         "xaxis": "x",
         "y": [
          85237146,
          86442757.33333333,
          87716075.66666667,
          89178819.33333333,
          90950399.66666667,
          92795329,
          94614251.33333333,
          96394989.33333333,
          98162613.33333333,
          99900000.66666667,
          101670641,
          103416501.66666667,
          105160867.33333333,
          106863511.33333333,
          108380175.66666667,
          109836462.66666667,
          111233983.33333333,
          112698439.66666667,
          114165278.33333333,
          115672675,
          117181128.66666667,
          118699174.33333333,
          120173266.33333333,
          121646448.33333333,
          123073345.33333333,
          124512973,
          125913271,
          127340382,
          128741138.66666667,
          130177121,
          131542098.33333333,
          132807878.33333333,
          133999819.33333333,
          135586590,
          136343009,
          137465153.66666666
         ],
         "yaxis": "y"
        },
        {
         "hovertemplate": "Continente=América del Sur<br>Año=%{x}<br>Población urbana=%{y}<extra></extra>",
         "legendgroup": "América del Sur",
         "line": {
          "color": "#00cc96",
          "dash": "solid"
         },
         "marker": {
          "symbol": "circle"
         },
         "mode": "lines",
         "name": "América del Sur",
         "orientation": "v",
         "showlegend": true,
         "type": "scatter",
         "x": [
          "1987",
          "1988",
          "1989",
          "1990",
          "1991",
          "1992",
          "1993",
          "1994",
          "1995",
          "1996",
          "1997",
          "1998",
          "1999",
          "2000",
          "2001",
          "2002",
          "2003",
          "2004",
          "2005",
          "2006",
          "2007",
          "2008",
          "2009",
          "2010",
          "2011",
          "2012",
          "2013",
          "2014",
          "2015",
          "2016",
          "2017",
          "2018",
          "2019",
          "2020",
          "2021",
          "2022"
         ],
         "xaxis": "x",
         "y": [
          33971212.6,
          34968282.2,
          35968495.8,
          36969985.2,
          37957800.8,
          38927364,
          39896370.4,
          40870152.8,
          41845295.2,
          42817959.4,
          43811806,
          44805220.4,
          45792130.4,
          46769137.8,
          47623260.8,
          48438383.4,
          49231093.8,
          50012631.8,
          50791837.8,
          51560928.2,
          52315433,
          53054018.8,
          53783477,
          54456214.6,
          55195173.4,
          55921854.8,
          56634661.2,
          57341971.4,
          58044518,
          58725360.4,
          59369780.2,
          59957868.8,
          60516821.8,
          61068137,
          61572830,
          62082513.4
         ],
         "yaxis": "y"
        },
        {
         "hovertemplate": "Continente=Asia<br>Año=%{x}<br>Población urbana=%{y}<extra></extra>",
         "legendgroup": "Asia",
         "line": {
          "color": "#ab63fa",
          "dash": "solid"
         },
         "marker": {
          "symbol": "circle"
         },
         "mode": "lines",
         "name": "Asia",
         "orientation": "v",
         "showlegend": true,
         "type": "scatter",
         "x": [
          "1987",
          "1988",
          "1989",
          "1990",
          "1991",
          "1992",
          "1993",
          "1994",
          "1995",
          "1996",
          "1997",
          "1998",
          "1999",
          "2000",
          "2001",
          "2002",
          "2003",
          "2004",
          "2005",
          "2006",
          "2007",
          "2008",
          "2009",
          "2010",
          "2011",
          "2012",
          "2013",
          "2014",
          "2015",
          "2016",
          "2017",
          "2018",
          "2019",
          "2020",
          "2021",
          "2022"
         ],
         "xaxis": "x",
         "y": [
          64295418.55555555,
          66531277.333333336,
          68814294,
          71136643.33333333,
          73630658.66666667,
          76155463.1111111,
          78719435.44444445,
          81324737.22222222,
          83960889.55555555,
          86648587.77777778,
          89389243.1111111,
          92172516.22222222,
          94949322.1111111,
          97738570.44444445,
          101051517.33333333,
          104687966.8888889,
          108342271.8888889,
          111999059.22222222,
          115710153.33333333,
          119416923.55555555,
          123123778.77777778,
          126874289.22222222,
          130623998.1111111,
          134337271.1111111,
          137895462,
          141536847.66666666,
          145203195.8888889,
          148880221.2222222,
          152548125.44444445,
          156273692.66666666,
          160065959.2222222,
          163716402.8888889,
          167233526.55555555,
          170518178.66666666,
          173499707.7777778,
          176385227.2222222
         ],
         "yaxis": "y"
        },
        {
         "hovertemplate": "Continente=Europa<br>Año=%{x}<br>Población urbana=%{y}<extra></extra>",
         "legendgroup": "Europa",
         "line": {
          "color": "#FFA15A",
          "dash": "solid"
         },
         "marker": {
          "symbol": "circle"
         },
         "mode": "lines",
         "name": "Europa",
         "orientation": "v",
         "showlegend": true,
         "type": "scatter",
         "x": [
          "1987",
          "1988",
          "1989",
          "1990",
          "1991",
          "1992",
          "1993",
          "1994",
          "1995",
          "1996",
          "1997",
          "1998",
          "1999",
          "2000",
          "2001",
          "2002",
          "2003",
          "2004",
          "2005",
          "2006",
          "2007",
          "2008",
          "2009",
          "2010",
          "2011",
          "2012",
          "2013",
          "2014",
          "2015",
          "2016",
          "2017",
          "2018",
          "2019",
          "2020",
          "2021",
          "2022"
         ],
         "xaxis": "x",
         "y": [
          24912640.727272727,
          25106372.181818184,
          25277664.272727273,
          25402465.09090909,
          25545363.363636363,
          25673527.727272727,
          25780668.454545453,
          25874047.181818184,
          25962790.181818184,
          26035948.90909091,
          26099245.454545453,
          26158878.272727273,
          26209014.454545453,
          26255605.09090909,
          26321046.272727273,
          26425017.545454547,
          26541078.363636363,
          26661645.363636363,
          26786657.90909091,
          26914489.90909091,
          27065366.90909091,
          27224061.363636363,
          27364077.181818184,
          27496918.818181816,
          27531369.545454547,
          27663602,
          27789460.545454547,
          27930528,
          28109630.90909091,
          28293282.818181816,
          28449080.818181816,
          28591559,
          28737748.545454547,
          28840013.818181816,
          28884703.09090909,
          29063924.181818184
         ],
         "yaxis": "y"
        },
        {
         "hovertemplate": "Continente=Oceanía<br>Año=%{x}<br>Población urbana=%{y}<extra></extra>",
         "legendgroup": "Oceanía",
         "line": {
          "color": "#19d3f3",
          "dash": "solid"
         },
         "marker": {
          "symbol": "circle"
         },
         "mode": "lines",
         "name": "Oceanía",
         "orientation": "v",
         "showlegend": true,
         "type": "scatter",
         "x": [
          "1987",
          "1988",
          "1989",
          "1990",
          "1991",
          "1992",
          "1993",
          "1994",
          "1995",
          "1996",
          "1997",
          "1998",
          "1999",
          "2000",
          "2001",
          "2002",
          "2003",
          "2004",
          "2005",
          "2006",
          "2007",
          "2008",
          "2009",
          "2010",
          "2011",
          "2012",
          "2013",
          "2014",
          "2015",
          "2016",
          "2017",
          "2018",
          "2019",
          "2020",
          "2021",
          "2022"
         ],
         "xaxis": "x",
         "y": [
          4248173.25,
          4310649.25,
          4377332.25,
          4440347.5,
          4524639.25,
          4571977.5,
          4611503.75,
          4655489.25,
          4706644.5,
          4763441,
          4812726.25,
          4855609.25,
          4899739.5,
          4946655,
          4999609,
          5069025,
          5141831,
          5207924.5,
          5277896.25,
          5355267.25,
          5450983.75,
          5555766.5,
          5666531,
          5756742.5,
          5837050.5,
          5934106,
          6033593.25,
          6131888,
          6232699.5,
          6343610,
          6460030.5,
          6567590.75,
          6674058.25,
          6775973.25,
          6798388.75,
          6875313
         ],
         "yaxis": "y"
        },
        {
         "hovertemplate": "Continente=África<br>Año=%{x}<br>Población urbana=%{y}<extra></extra>",
         "legendgroup": "África",
         "line": {
          "color": "#FF6692",
          "dash": "solid"
         },
         "marker": {
          "symbol": "circle"
         },
         "mode": "lines",
         "name": "África",
         "orientation": "v",
         "showlegend": true,
         "type": "scatter",
         "x": [
          "1987",
          "1988",
          "1989",
          "1990",
          "1991",
          "1992",
          "1993",
          "1994",
          "1995",
          "1996",
          "1997",
          "1998",
          "1999",
          "2000",
          "2001",
          "2002",
          "2003",
          "2004",
          "2005",
          "2006",
          "2007",
          "2008",
          "2009",
          "2010",
          "2011",
          "2012",
          "2013",
          "2014",
          "2015",
          "2016",
          "2017",
          "2018",
          "2019",
          "2020",
          "2021",
          "2022"
         ],
         "xaxis": "x",
         "y": [
          7224347.9,
          7490181.1,
          7757565.8,
          8028253.4,
          8287133.6,
          8538956.2,
          8791304.2,
          9033397.6,
          9268581.5,
          9523005.9,
          9785314.2,
          10042853.9,
          10299717.6,
          10561595.8,
          10833261.4,
          11115734.7,
          11397450.8,
          11685815.6,
          11984712.5,
          12291723.5,
          12605544,
          12929529.6,
          13265198.6,
          13612597.1,
          13978163.2,
          14354434,
          14742607.7,
          15147847.6,
          15573356.4,
          15964219.8,
          16339842.5,
          16749678.7,
          17165434.6,
          17585692.1,
          18002785.8,
          18419143.9
         ],
         "yaxis": "y"
        }
       ],
       "layout": {
        "legend": {
         "title": {
          "text": "Continente"
         },
         "tracegroupgap": 0
        },
        "margin": {
         "t": 60
        },
        "template": {
         "data": {
          "bar": [
           {
            "error_x": {
             "color": "#2a3f5f"
            },
            "error_y": {
             "color": "#2a3f5f"
            },
            "marker": {
             "line": {
              "color": "#E5ECF6",
              "width": 0.5
             },
             "pattern": {
              "fillmode": "overlay",
              "size": 10,
              "solidity": 0.2
             }
            },
            "type": "bar"
           }
          ],
          "barpolar": [
           {
            "marker": {
             "line": {
              "color": "#E5ECF6",
              "width": 0.5
             },
             "pattern": {
              "fillmode": "overlay",
              "size": 10,
              "solidity": 0.2
             }
            },
            "type": "barpolar"
           }
          ],
          "carpet": [
           {
            "aaxis": {
             "endlinecolor": "#2a3f5f",
             "gridcolor": "white",
             "linecolor": "white",
             "minorgridcolor": "white",
             "startlinecolor": "#2a3f5f"
            },
            "baxis": {
             "endlinecolor": "#2a3f5f",
             "gridcolor": "white",
             "linecolor": "white",
             "minorgridcolor": "white",
             "startlinecolor": "#2a3f5f"
            },
            "type": "carpet"
           }
          ],
          "choropleth": [
           {
            "colorbar": {
             "outlinewidth": 0,
             "ticks": ""
            },
            "type": "choropleth"
           }
          ],
          "contour": [
           {
            "colorbar": {
             "outlinewidth": 0,
             "ticks": ""
            },
            "colorscale": [
             [
              0,
              "#0d0887"
             ],
             [
              0.1111111111111111,
              "#46039f"
             ],
             [
              0.2222222222222222,
              "#7201a8"
             ],
             [
              0.3333333333333333,
              "#9c179e"
             ],
             [
              0.4444444444444444,
              "#bd3786"
             ],
             [
              0.5555555555555556,
              "#d8576b"
             ],
             [
              0.6666666666666666,
              "#ed7953"
             ],
             [
              0.7777777777777778,
              "#fb9f3a"
             ],
             [
              0.8888888888888888,
              "#fdca26"
             ],
             [
              1,
              "#f0f921"
             ]
            ],
            "type": "contour"
           }
          ],
          "contourcarpet": [
           {
            "colorbar": {
             "outlinewidth": 0,
             "ticks": ""
            },
            "type": "contourcarpet"
           }
          ],
          "heatmap": [
           {
            "colorbar": {
             "outlinewidth": 0,
             "ticks": ""
            },
            "colorscale": [
             [
              0,
              "#0d0887"
             ],
             [
              0.1111111111111111,
              "#46039f"
             ],
             [
              0.2222222222222222,
              "#7201a8"
             ],
             [
              0.3333333333333333,
              "#9c179e"
             ],
             [
              0.4444444444444444,
              "#bd3786"
             ],
             [
              0.5555555555555556,
              "#d8576b"
             ],
             [
              0.6666666666666666,
              "#ed7953"
             ],
             [
              0.7777777777777778,
              "#fb9f3a"
             ],
             [
              0.8888888888888888,
              "#fdca26"
             ],
             [
              1,
              "#f0f921"
             ]
            ],
            "type": "heatmap"
           }
          ],
          "heatmapgl": [
           {
            "colorbar": {
             "outlinewidth": 0,
             "ticks": ""
            },
            "colorscale": [
             [
              0,
              "#0d0887"
             ],
             [
              0.1111111111111111,
              "#46039f"
             ],
             [
              0.2222222222222222,
              "#7201a8"
             ],
             [
              0.3333333333333333,
              "#9c179e"
             ],
             [
              0.4444444444444444,
              "#bd3786"
             ],
             [
              0.5555555555555556,
              "#d8576b"
             ],
             [
              0.6666666666666666,
              "#ed7953"
             ],
             [
              0.7777777777777778,
              "#fb9f3a"
             ],
             [
              0.8888888888888888,
              "#fdca26"
             ],
             [
              1,
              "#f0f921"
             ]
            ],
            "type": "heatmapgl"
           }
          ],
          "histogram": [
           {
            "marker": {
             "pattern": {
              "fillmode": "overlay",
              "size": 10,
              "solidity": 0.2
             }
            },
            "type": "histogram"
           }
          ],
          "histogram2d": [
           {
            "colorbar": {
             "outlinewidth": 0,
             "ticks": ""
            },
            "colorscale": [
             [
              0,
              "#0d0887"
             ],
             [
              0.1111111111111111,
              "#46039f"
             ],
             [
              0.2222222222222222,
              "#7201a8"
             ],
             [
              0.3333333333333333,
              "#9c179e"
             ],
             [
              0.4444444444444444,
              "#bd3786"
             ],
             [
              0.5555555555555556,
              "#d8576b"
             ],
             [
              0.6666666666666666,
              "#ed7953"
             ],
             [
              0.7777777777777778,
              "#fb9f3a"
             ],
             [
              0.8888888888888888,
              "#fdca26"
             ],
             [
              1,
              "#f0f921"
             ]
            ],
            "type": "histogram2d"
           }
          ],
          "histogram2dcontour": [
           {
            "colorbar": {
             "outlinewidth": 0,
             "ticks": ""
            },
            "colorscale": [
             [
              0,
              "#0d0887"
             ],
             [
              0.1111111111111111,
              "#46039f"
             ],
             [
              0.2222222222222222,
              "#7201a8"
             ],
             [
              0.3333333333333333,
              "#9c179e"
             ],
             [
              0.4444444444444444,
              "#bd3786"
             ],
             [
              0.5555555555555556,
              "#d8576b"
             ],
             [
              0.6666666666666666,
              "#ed7953"
             ],
             [
              0.7777777777777778,
              "#fb9f3a"
             ],
             [
              0.8888888888888888,
              "#fdca26"
             ],
             [
              1,
              "#f0f921"
             ]
            ],
            "type": "histogram2dcontour"
           }
          ],
          "mesh3d": [
           {
            "colorbar": {
             "outlinewidth": 0,
             "ticks": ""
            },
            "type": "mesh3d"
           }
          ],
          "parcoords": [
           {
            "line": {
             "colorbar": {
              "outlinewidth": 0,
              "ticks": ""
             }
            },
            "type": "parcoords"
           }
          ],
          "pie": [
           {
            "automargin": true,
            "type": "pie"
           }
          ],
          "scatter": [
           {
            "fillpattern": {
             "fillmode": "overlay",
             "size": 10,
             "solidity": 0.2
            },
            "type": "scatter"
           }
          ],
          "scatter3d": [
           {
            "line": {
             "colorbar": {
              "outlinewidth": 0,
              "ticks": ""
             }
            },
            "marker": {
             "colorbar": {
              "outlinewidth": 0,
              "ticks": ""
             }
            },
            "type": "scatter3d"
           }
          ],
          "scattercarpet": [
           {
            "marker": {
             "colorbar": {
              "outlinewidth": 0,
              "ticks": ""
             }
            },
            "type": "scattercarpet"
           }
          ],
          "scattergeo": [
           {
            "marker": {
             "colorbar": {
              "outlinewidth": 0,
              "ticks": ""
             }
            },
            "type": "scattergeo"
           }
          ],
          "scattergl": [
           {
            "marker": {
             "colorbar": {
              "outlinewidth": 0,
              "ticks": ""
             }
            },
            "type": "scattergl"
           }
          ],
          "scattermapbox": [
           {
            "marker": {
             "colorbar": {
              "outlinewidth": 0,
              "ticks": ""
             }
            },
            "type": "scattermapbox"
           }
          ],
          "scatterpolar": [
           {
            "marker": {
             "colorbar": {
              "outlinewidth": 0,
              "ticks": ""
             }
            },
            "type": "scatterpolar"
           }
          ],
          "scatterpolargl": [
           {
            "marker": {
             "colorbar": {
              "outlinewidth": 0,
              "ticks": ""
             }
            },
            "type": "scatterpolargl"
           }
          ],
          "scatterternary": [
           {
            "marker": {
             "colorbar": {
              "outlinewidth": 0,
              "ticks": ""
             }
            },
            "type": "scatterternary"
           }
          ],
          "surface": [
           {
            "colorbar": {
             "outlinewidth": 0,
             "ticks": ""
            },
            "colorscale": [
             [
              0,
              "#0d0887"
             ],
             [
              0.1111111111111111,
              "#46039f"
             ],
             [
              0.2222222222222222,
              "#7201a8"
             ],
             [
              0.3333333333333333,
              "#9c179e"
             ],
             [
              0.4444444444444444,
              "#bd3786"
             ],
             [
              0.5555555555555556,
              "#d8576b"
             ],
             [
              0.6666666666666666,
              "#ed7953"
             ],
             [
              0.7777777777777778,
              "#fb9f3a"
             ],
             [
              0.8888888888888888,
              "#fdca26"
             ],
             [
              1,
              "#f0f921"
             ]
            ],
            "type": "surface"
           }
          ],
          "table": [
           {
            "cells": {
             "fill": {
              "color": "#EBF0F8"
             },
             "line": {
              "color": "white"
             }
            },
            "header": {
             "fill": {
              "color": "#C8D4E3"
             },
             "line": {
              "color": "white"
             }
            },
            "type": "table"
           }
          ]
         },
         "layout": {
          "annotationdefaults": {
           "arrowcolor": "#2a3f5f",
           "arrowhead": 0,
           "arrowwidth": 1
          },
          "autotypenumbers": "strict",
          "coloraxis": {
           "colorbar": {
            "outlinewidth": 0,
            "ticks": ""
           }
          },
          "colorscale": {
           "diverging": [
            [
             0,
             "#8e0152"
            ],
            [
             0.1,
             "#c51b7d"
            ],
            [
             0.2,
             "#de77ae"
            ],
            [
             0.3,
             "#f1b6da"
            ],
            [
             0.4,
             "#fde0ef"
            ],
            [
             0.5,
             "#f7f7f7"
            ],
            [
             0.6,
             "#e6f5d0"
            ],
            [
             0.7,
             "#b8e186"
            ],
            [
             0.8,
             "#7fbc41"
            ],
            [
             0.9,
             "#4d9221"
            ],
            [
             1,
             "#276419"
            ]
           ],
           "sequential": [
            [
             0,
             "#0d0887"
            ],
            [
             0.1111111111111111,
             "#46039f"
            ],
            [
             0.2222222222222222,
             "#7201a8"
            ],
            [
             0.3333333333333333,
             "#9c179e"
            ],
            [
             0.4444444444444444,
             "#bd3786"
            ],
            [
             0.5555555555555556,
             "#d8576b"
            ],
            [
             0.6666666666666666,
             "#ed7953"
            ],
            [
             0.7777777777777778,
             "#fb9f3a"
            ],
            [
             0.8888888888888888,
             "#fdca26"
            ],
            [
             1,
             "#f0f921"
            ]
           ],
           "sequentialminus": [
            [
             0,
             "#0d0887"
            ],
            [
             0.1111111111111111,
             "#46039f"
            ],
            [
             0.2222222222222222,
             "#7201a8"
            ],
            [
             0.3333333333333333,
             "#9c179e"
            ],
            [
             0.4444444444444444,
             "#bd3786"
            ],
            [
             0.5555555555555556,
             "#d8576b"
            ],
            [
             0.6666666666666666,
             "#ed7953"
            ],
            [
             0.7777777777777778,
             "#fb9f3a"
            ],
            [
             0.8888888888888888,
             "#fdca26"
            ],
            [
             1,
             "#f0f921"
            ]
           ]
          },
          "colorway": [
           "#636efa",
           "#EF553B",
           "#00cc96",
           "#ab63fa",
           "#FFA15A",
           "#19d3f3",
           "#FF6692",
           "#B6E880",
           "#FF97FF",
           "#FECB52"
          ],
          "font": {
           "color": "#2a3f5f"
          },
          "geo": {
           "bgcolor": "white",
           "lakecolor": "white",
           "landcolor": "#E5ECF6",
           "showlakes": true,
           "showland": true,
           "subunitcolor": "white"
          },
          "hoverlabel": {
           "align": "left"
          },
          "hovermode": "closest",
          "mapbox": {
           "style": "light"
          },
          "paper_bgcolor": "white",
          "plot_bgcolor": "#E5ECF6",
          "polar": {
           "angularaxis": {
            "gridcolor": "white",
            "linecolor": "white",
            "ticks": ""
           },
           "bgcolor": "#E5ECF6",
           "radialaxis": {
            "gridcolor": "white",
            "linecolor": "white",
            "ticks": ""
           }
          },
          "scene": {
           "xaxis": {
            "backgroundcolor": "#E5ECF6",
            "gridcolor": "white",
            "gridwidth": 2,
            "linecolor": "white",
            "showbackground": true,
            "ticks": "",
            "zerolinecolor": "white"
           },
           "yaxis": {
            "backgroundcolor": "#E5ECF6",
            "gridcolor": "white",
            "gridwidth": 2,
            "linecolor": "white",
            "showbackground": true,
            "ticks": "",
            "zerolinecolor": "white"
           },
           "zaxis": {
            "backgroundcolor": "#E5ECF6",
            "gridcolor": "white",
            "gridwidth": 2,
            "linecolor": "white",
            "showbackground": true,
            "ticks": "",
            "zerolinecolor": "white"
           }
          },
          "shapedefaults": {
           "line": {
            "color": "#2a3f5f"
           }
          },
          "ternary": {
           "aaxis": {
            "gridcolor": "white",
            "linecolor": "white",
            "ticks": ""
           },
           "baxis": {
            "gridcolor": "white",
            "linecolor": "white",
            "ticks": ""
           },
           "bgcolor": "#E5ECF6",
           "caxis": {
            "gridcolor": "white",
            "linecolor": "white",
            "ticks": ""
           }
          },
          "title": {
           "x": 0.05
          },
          "xaxis": {
           "automargin": true,
           "gridcolor": "white",
           "linecolor": "white",
           "ticks": "",
           "title": {
            "standoff": 15
           },
           "zerolinecolor": "white",
           "zerolinewidth": 2
          },
          "yaxis": {
           "automargin": true,
           "gridcolor": "white",
           "linecolor": "white",
           "ticks": "",
           "title": {
            "standoff": 15
           },
           "zerolinecolor": "white",
           "zerolinewidth": 2
          }
         }
        },
        "xaxis": {
         "anchor": "y",
         "domain": [
          0,
          1
         ],
         "title": {
          "text": "Año"
         }
        },
        "yaxis": {
         "anchor": "x",
         "domain": [
          0,
          1
         ],
         "title": {
          "text": "Población urbana"
         }
        }
       }
      }
     },
     "metadata": {},
     "output_type": "display_data"
    },
    {
     "data": {
      "application/vnd.plotly.v1+json": {
       "config": {
        "plotlyServerURL": "https://plot.ly"
       },
       "data": [
        {
         "hovertemplate": "Continente=América Central<br>Año=%{x}<br>Población, hombres=%{y}<extra></extra>",
         "legendgroup": "América Central",
         "line": {
          "color": "#636efa",
          "dash": "solid"
         },
         "marker": {
          "symbol": "circle"
         },
         "mode": "lines",
         "name": "América Central",
         "orientation": "v",
         "showlegend": true,
         "type": "scatter",
         "x": [
          "1987",
          "1988",
          "1989",
          "1990",
          "1991",
          "1992",
          "1993",
          "1994",
          "1995",
          "1996",
          "1997",
          "1998",
          "1999",
          "2000",
          "2001",
          "2002",
          "2003",
          "2004",
          "2005",
          "2006",
          "2007",
          "2008",
          "2009",
          "2010",
          "2011",
          "2012",
          "2013",
          "2014",
          "2015",
          "2016",
          "2017",
          "2018",
          "2019",
          "2020",
          "2021",
          "2022"
         ],
         "xaxis": "x",
         "y": [
          3351423,
          3394889,
          3439395.5,
          3483748.5,
          3525424.5,
          3562992.5,
          3597464,
          3628346.5,
          3656584.5,
          3683916.5,
          3710775.5,
          3737315,
          3763420,
          3788723.5,
          3812479,
          3834695,
          3856561.5,
          3877884.5,
          3897593,
          3915486.5,
          3931982.5,
          3947907,
          3963640.5,
          3979100,
          3994555.5,
          4010230,
          4025787,
          4040286,
          4053546,
          4064872,
          4073701.5,
          4081315.5,
          4087329,
          4090720,
          4083999.5,
          4076701.5
         ],
         "yaxis": "y"
        },
        {
         "hovertemplate": "Continente=América del Norte<br>Año=%{x}<br>Población, hombres=%{y}<extra></extra>",
         "legendgroup": "América del Norte",
         "line": {
          "color": "#EF553B",
          "dash": "solid"
         },
         "marker": {
          "symbol": "circle"
         },
         "mode": "lines",
         "name": "América del Norte",
         "orientation": "v",
         "showlegend": true,
         "type": "scatter",
         "x": [
          "1987",
          "1988",
          "1989",
          "1990",
          "1991",
          "1992",
          "1993",
          "1994",
          "1995",
          "1996",
          "1997",
          "1998",
          "1999",
          "2000",
          "2001",
          "2002",
          "2003",
          "2004",
          "2005",
          "2006",
          "2007",
          "2008",
          "2009",
          "2010",
          "2011",
          "2012",
          "2013",
          "2014",
          "2015",
          "2016",
          "2017",
          "2018",
          "2019",
          "2020",
          "2021",
          "2022"
         ],
         "xaxis": "x",
         "y": [
          56599195,
          57242084.666666664,
          57930645.333333336,
          58714538.666666664,
          59604279.333333336,
          60521407.666666664,
          61411622,
          62270440.666666664,
          63117752.333333336,
          63954643.666666664,
          64812432.333333336,
          65654634,
          66499518,
          67334771,
          68114913.33333333,
          68858951.33333333,
          69559448.66666667,
          70306691,
          71056737,
          71823353.66666667,
          72575688.66666667,
          73326848.66666667,
          74047083,
          74765959,
          75480827.66666667,
          76233524,
          76952179.66666667,
          77676362,
          78373250.66666667,
          79084873.66666667,
          79745081.66666667,
          80334186,
          80865862.66666667,
          81593786,
          81777739.66666667,
          82187650.66666667
         ],
         "yaxis": "y"
        },
        {
         "hovertemplate": "Continente=América del Sur<br>Año=%{x}<br>Población, hombres=%{y}<extra></extra>",
         "legendgroup": "América del Sur",
         "line": {
          "color": "#00cc96",
          "dash": "solid"
         },
         "marker": {
          "symbol": "circle"
         },
         "mode": "lines",
         "name": "América del Sur",
         "orientation": "v",
         "showlegend": true,
         "type": "scatter",
         "x": [
          "1987",
          "1988",
          "1989",
          "1990",
          "1991",
          "1992",
          "1993",
          "1994",
          "1995",
          "1996",
          "1997",
          "1998",
          "1999",
          "2000",
          "2001",
          "2002",
          "2003",
          "2004",
          "2005",
          "2006",
          "2007",
          "2008",
          "2009",
          "2010",
          "2011",
          "2012",
          "2013",
          "2014",
          "2015",
          "2016",
          "2017",
          "2018",
          "2019",
          "2020",
          "2021",
          "2022"
         ],
         "xaxis": "x",
         "y": [
          23121401.8,
          23578463.4,
          24032900.8,
          24482215.2,
          24921601,
          25352057.8,
          25779122.6,
          26206477.2,
          26631883,
          27052622.4,
          27469705.2,
          27883006.4,
          28290167,
          28688059.6,
          29076668.8,
          29456656.8,
          29824405.6,
          30184758.8,
          30542853.2,
          30894123.8,
          31235720.8,
          31567322.4,
          31894126.6,
          32189996.8,
          32520719.6,
          32844317.8,
          33159812.6,
          33472451.2,
          33782060.6,
          34077954.4,
          34355349.6,
          34605260.6,
          34837351.4,
          35057695.6,
          35245675.8,
          35435865
         ],
         "yaxis": "y"
        },
        {
         "hovertemplate": "Continente=Asia<br>Año=%{x}<br>Población, hombres=%{y}<extra></extra>",
         "legendgroup": "Asia",
         "line": {
          "color": "#ab63fa",
          "dash": "solid"
         },
         "marker": {
          "symbol": "circle"
         },
         "mode": "lines",
         "name": "Asia",
         "orientation": "v",
         "showlegend": true,
         "type": "scatter",
         "x": [
          "1987",
          "1988",
          "1989",
          "1990",
          "1991",
          "1992",
          "1993",
          "1994",
          "1995",
          "1996",
          "1997",
          "1998",
          "1999",
          "2000",
          "2001",
          "2002",
          "2003",
          "2004",
          "2005",
          "2006",
          "2007",
          "2008",
          "2009",
          "2010",
          "2011",
          "2012",
          "2013",
          "2014",
          "2015",
          "2016",
          "2017",
          "2018",
          "2019",
          "2020",
          "2021",
          "2022"
         ],
         "xaxis": "x",
         "y": [
          118065516.77777778,
          120220019.1111111,
          122375823.33333333,
          124508526.77777778,
          126605083.55555555,
          128711440.44444445,
          130817427.22222222,
          132888165.66666667,
          134909834.33333334,
          136900069.33333334,
          138886432.7777778,
          140836948.44444445,
          142715861.33333334,
          144521753.8888889,
          146287291,
          148064141.33333334,
          149801797.66666666,
          151452262.33333334,
          153092354.2222222,
          154735809.2222222,
          156334517.66666666,
          157923995,
          159497148.55555555,
          160995555.44444445,
          162490966.2222222,
          164083228.8888889,
          165644111.55555555,
          167155256.44444445,
          168605899.66666666,
          170072582.2222222,
          171553807.8888889,
          172871862.8888889,
          174059446.33333334,
          175047172.66666666,
          175744409.44444445,
          176313804.44444445
         ],
         "yaxis": "y"
        },
        {
         "hovertemplate": "Continente=Europa<br>Año=%{x}<br>Población, hombres=%{y}<extra></extra>",
         "legendgroup": "Europa",
         "line": {
          "color": "#FFA15A",
          "dash": "solid"
         },
         "marker": {
          "symbol": "circle"
         },
         "mode": "lines",
         "name": "Europa",
         "orientation": "v",
         "showlegend": true,
         "type": "scatter",
         "x": [
          "1987",
          "1988",
          "1989",
          "1990",
          "1991",
          "1992",
          "1993",
          "1994",
          "1995",
          "1996",
          "1997",
          "1998",
          "1999",
          "2000",
          "2001",
          "2002",
          "2003",
          "2004",
          "2005",
          "2006",
          "2007",
          "2008",
          "2009",
          "2010",
          "2011",
          "2012",
          "2013",
          "2014",
          "2015",
          "2016",
          "2017",
          "2018",
          "2019",
          "2020",
          "2021",
          "2022"
         ],
         "xaxis": "x",
         "y": [
          16161844.636363637,
          16254805.545454545,
          16357723.545454545,
          16439526.363636363,
          16527820.181818182,
          16604750.090909092,
          16663483.090909092,
          16705602.090909092,
          16740704.909090908,
          16765228.818181818,
          16784723.272727273,
          16802907.636363637,
          16815018.272727273,
          16822622.818181816,
          16835330.272727273,
          16860413.727272727,
          16889042.818181816,
          16918375.181818184,
          16951111.09090909,
          16988241.90909091,
          17046394.09090909,
          17113109.363636363,
          17166957.818181816,
          17216363.454545453,
          17205215.636363637,
          17263035.636363637,
          17316980.454545453,
          17380509.09090909,
          17467034.545454547,
          17553507,
          17618428.363636363,
          17672035,
          17725565.818181816,
          17748188,
          17732284.636363637,
          17800198.454545453
         ],
         "yaxis": "y"
        },
        {
         "hovertemplate": "Continente=Oceanía<br>Año=%{x}<br>Población, hombres=%{y}<extra></extra>",
         "legendgroup": "Oceanía",
         "line": {
          "color": "#19d3f3",
          "dash": "solid"
         },
         "marker": {
          "symbol": "circle"
         },
         "mode": "lines",
         "name": "Oceanía",
         "orientation": "v",
         "showlegend": true,
         "type": "scatter",
         "x": [
          "1987",
          "1988",
          "1989",
          "1990",
          "1991",
          "1992",
          "1993",
          "1994",
          "1995",
          "1996",
          "1997",
          "1998",
          "1999",
          "2000",
          "2001",
          "2002",
          "2003",
          "2004",
          "2005",
          "2006",
          "2007",
          "2008",
          "2009",
          "2010",
          "2011",
          "2012",
          "2013",
          "2014",
          "2015",
          "2016",
          "2017",
          "2018",
          "2019",
          "2020",
          "2021",
          "2022"
         ],
         "xaxis": "x",
         "y": [
          2552157.25,
          2586510.75,
          2623476,
          2658342.5,
          2705279.5,
          2733379.75,
          2757524.5,
          2784422.25,
          2815643.5,
          2849905.75,
          2880122.25,
          2906727.25,
          2934365.5,
          2963967.5,
          2997887,
          3034986.5,
          3074112.75,
          3109213,
          3146609.5,
          3188661.25,
          3242870,
          3302701,
          3365158.5,
          3413960.25,
          3456232.5,
          3508006.25,
          3560727.25,
          3611834,
          3663973,
          3722163.25,
          3784093.25,
          3841859.75,
          3900430.75,
          3956163.5,
          3965146.75,
          4004824.75
         ],
         "yaxis": "y"
        },
        {
         "hovertemplate": "Continente=África<br>Año=%{x}<br>Población, hombres=%{y}<extra></extra>",
         "legendgroup": "África",
         "line": {
          "color": "#FF6692",
          "dash": "solid"
         },
         "marker": {
          "symbol": "circle"
         },
         "mode": "lines",
         "name": "África",
         "orientation": "v",
         "showlegend": true,
         "type": "scatter",
         "x": [
          "1987",
          "1988",
          "1989",
          "1990",
          "1991",
          "1992",
          "1993",
          "1994",
          "1995",
          "1996",
          "1997",
          "1998",
          "1999",
          "2000",
          "2001",
          "2002",
          "2003",
          "2004",
          "2005",
          "2006",
          "2007",
          "2008",
          "2009",
          "2010",
          "2011",
          "2012",
          "2013",
          "2014",
          "2015",
          "2016",
          "2017",
          "2018",
          "2019",
          "2020",
          "2021",
          "2022"
         ],
         "xaxis": "x",
         "y": [
          9394186.1,
          9674694.8,
          9955090.5,
          10232272.4,
          10491595.4,
          10728322.6,
          10955848.9,
          11110116.8,
          11276204.8,
          11549102.2,
          11827547.3,
          12076376.5,
          12316238.7,
          12562589.7,
          12821947.5,
          13091769.6,
          13368605.6,
          13653895.7,
          13940541.9,
          14230142.5,
          14528936.3,
          14839716.1,
          15161016.6,
          15491660.5,
          15839602.3,
          16198497.6,
          16565441.3,
          16946023.9,
          17341974.2,
          17700570.9,
          18038767,
          18402938.4,
          18766062.5,
          19129065.8,
          19484142.9,
          19832652.3
         ],
         "yaxis": "y"
        }
       ],
       "layout": {
        "legend": {
         "title": {
          "text": "Continente"
         },
         "tracegroupgap": 0
        },
        "margin": {
         "t": 60
        },
        "template": {
         "data": {
          "bar": [
           {
            "error_x": {
             "color": "#2a3f5f"
            },
            "error_y": {
             "color": "#2a3f5f"
            },
            "marker": {
             "line": {
              "color": "#E5ECF6",
              "width": 0.5
             },
             "pattern": {
              "fillmode": "overlay",
              "size": 10,
              "solidity": 0.2
             }
            },
            "type": "bar"
           }
          ],
          "barpolar": [
           {
            "marker": {
             "line": {
              "color": "#E5ECF6",
              "width": 0.5
             },
             "pattern": {
              "fillmode": "overlay",
              "size": 10,
              "solidity": 0.2
             }
            },
            "type": "barpolar"
           }
          ],
          "carpet": [
           {
            "aaxis": {
             "endlinecolor": "#2a3f5f",
             "gridcolor": "white",
             "linecolor": "white",
             "minorgridcolor": "white",
             "startlinecolor": "#2a3f5f"
            },
            "baxis": {
             "endlinecolor": "#2a3f5f",
             "gridcolor": "white",
             "linecolor": "white",
             "minorgridcolor": "white",
             "startlinecolor": "#2a3f5f"
            },
            "type": "carpet"
           }
          ],
          "choropleth": [
           {
            "colorbar": {
             "outlinewidth": 0,
             "ticks": ""
            },
            "type": "choropleth"
           }
          ],
          "contour": [
           {
            "colorbar": {
             "outlinewidth": 0,
             "ticks": ""
            },
            "colorscale": [
             [
              0,
              "#0d0887"
             ],
             [
              0.1111111111111111,
              "#46039f"
             ],
             [
              0.2222222222222222,
              "#7201a8"
             ],
             [
              0.3333333333333333,
              "#9c179e"
             ],
             [
              0.4444444444444444,
              "#bd3786"
             ],
             [
              0.5555555555555556,
              "#d8576b"
             ],
             [
              0.6666666666666666,
              "#ed7953"
             ],
             [
              0.7777777777777778,
              "#fb9f3a"
             ],
             [
              0.8888888888888888,
              "#fdca26"
             ],
             [
              1,
              "#f0f921"
             ]
            ],
            "type": "contour"
           }
          ],
          "contourcarpet": [
           {
            "colorbar": {
             "outlinewidth": 0,
             "ticks": ""
            },
            "type": "contourcarpet"
           }
          ],
          "heatmap": [
           {
            "colorbar": {
             "outlinewidth": 0,
             "ticks": ""
            },
            "colorscale": [
             [
              0,
              "#0d0887"
             ],
             [
              0.1111111111111111,
              "#46039f"
             ],
             [
              0.2222222222222222,
              "#7201a8"
             ],
             [
              0.3333333333333333,
              "#9c179e"
             ],
             [
              0.4444444444444444,
              "#bd3786"
             ],
             [
              0.5555555555555556,
              "#d8576b"
             ],
             [
              0.6666666666666666,
              "#ed7953"
             ],
             [
              0.7777777777777778,
              "#fb9f3a"
             ],
             [
              0.8888888888888888,
              "#fdca26"
             ],
             [
              1,
              "#f0f921"
             ]
            ],
            "type": "heatmap"
           }
          ],
          "heatmapgl": [
           {
            "colorbar": {
             "outlinewidth": 0,
             "ticks": ""
            },
            "colorscale": [
             [
              0,
              "#0d0887"
             ],
             [
              0.1111111111111111,
              "#46039f"
             ],
             [
              0.2222222222222222,
              "#7201a8"
             ],
             [
              0.3333333333333333,
              "#9c179e"
             ],
             [
              0.4444444444444444,
              "#bd3786"
             ],
             [
              0.5555555555555556,
              "#d8576b"
             ],
             [
              0.6666666666666666,
              "#ed7953"
             ],
             [
              0.7777777777777778,
              "#fb9f3a"
             ],
             [
              0.8888888888888888,
              "#fdca26"
             ],
             [
              1,
              "#f0f921"
             ]
            ],
            "type": "heatmapgl"
           }
          ],
          "histogram": [
           {
            "marker": {
             "pattern": {
              "fillmode": "overlay",
              "size": 10,
              "solidity": 0.2
             }
            },
            "type": "histogram"
           }
          ],
          "histogram2d": [
           {
            "colorbar": {
             "outlinewidth": 0,
             "ticks": ""
            },
            "colorscale": [
             [
              0,
              "#0d0887"
             ],
             [
              0.1111111111111111,
              "#46039f"
             ],
             [
              0.2222222222222222,
              "#7201a8"
             ],
             [
              0.3333333333333333,
              "#9c179e"
             ],
             [
              0.4444444444444444,
              "#bd3786"
             ],
             [
              0.5555555555555556,
              "#d8576b"
             ],
             [
              0.6666666666666666,
              "#ed7953"
             ],
             [
              0.7777777777777778,
              "#fb9f3a"
             ],
             [
              0.8888888888888888,
              "#fdca26"
             ],
             [
              1,
              "#f0f921"
             ]
            ],
            "type": "histogram2d"
           }
          ],
          "histogram2dcontour": [
           {
            "colorbar": {
             "outlinewidth": 0,
             "ticks": ""
            },
            "colorscale": [
             [
              0,
              "#0d0887"
             ],
             [
              0.1111111111111111,
              "#46039f"
             ],
             [
              0.2222222222222222,
              "#7201a8"
             ],
             [
              0.3333333333333333,
              "#9c179e"
             ],
             [
              0.4444444444444444,
              "#bd3786"
             ],
             [
              0.5555555555555556,
              "#d8576b"
             ],
             [
              0.6666666666666666,
              "#ed7953"
             ],
             [
              0.7777777777777778,
              "#fb9f3a"
             ],
             [
              0.8888888888888888,
              "#fdca26"
             ],
             [
              1,
              "#f0f921"
             ]
            ],
            "type": "histogram2dcontour"
           }
          ],
          "mesh3d": [
           {
            "colorbar": {
             "outlinewidth": 0,
             "ticks": ""
            },
            "type": "mesh3d"
           }
          ],
          "parcoords": [
           {
            "line": {
             "colorbar": {
              "outlinewidth": 0,
              "ticks": ""
             }
            },
            "type": "parcoords"
           }
          ],
          "pie": [
           {
            "automargin": true,
            "type": "pie"
           }
          ],
          "scatter": [
           {
            "fillpattern": {
             "fillmode": "overlay",
             "size": 10,
             "solidity": 0.2
            },
            "type": "scatter"
           }
          ],
          "scatter3d": [
           {
            "line": {
             "colorbar": {
              "outlinewidth": 0,
              "ticks": ""
             }
            },
            "marker": {
             "colorbar": {
              "outlinewidth": 0,
              "ticks": ""
             }
            },
            "type": "scatter3d"
           }
          ],
          "scattercarpet": [
           {
            "marker": {
             "colorbar": {
              "outlinewidth": 0,
              "ticks": ""
             }
            },
            "type": "scattercarpet"
           }
          ],
          "scattergeo": [
           {
            "marker": {
             "colorbar": {
              "outlinewidth": 0,
              "ticks": ""
             }
            },
            "type": "scattergeo"
           }
          ],
          "scattergl": [
           {
            "marker": {
             "colorbar": {
              "outlinewidth": 0,
              "ticks": ""
             }
            },
            "type": "scattergl"
           }
          ],
          "scattermapbox": [
           {
            "marker": {
             "colorbar": {
              "outlinewidth": 0,
              "ticks": ""
             }
            },
            "type": "scattermapbox"
           }
          ],
          "scatterpolar": [
           {
            "marker": {
             "colorbar": {
              "outlinewidth": 0,
              "ticks": ""
             }
            },
            "type": "scatterpolar"
           }
          ],
          "scatterpolargl": [
           {
            "marker": {
             "colorbar": {
              "outlinewidth": 0,
              "ticks": ""
             }
            },
            "type": "scatterpolargl"
           }
          ],
          "scatterternary": [
           {
            "marker": {
             "colorbar": {
              "outlinewidth": 0,
              "ticks": ""
             }
            },
            "type": "scatterternary"
           }
          ],
          "surface": [
           {
            "colorbar": {
             "outlinewidth": 0,
             "ticks": ""
            },
            "colorscale": [
             [
              0,
              "#0d0887"
             ],
             [
              0.1111111111111111,
              "#46039f"
             ],
             [
              0.2222222222222222,
              "#7201a8"
             ],
             [
              0.3333333333333333,
              "#9c179e"
             ],
             [
              0.4444444444444444,
              "#bd3786"
             ],
             [
              0.5555555555555556,
              "#d8576b"
             ],
             [
              0.6666666666666666,
              "#ed7953"
             ],
             [
              0.7777777777777778,
              "#fb9f3a"
             ],
             [
              0.8888888888888888,
              "#fdca26"
             ],
             [
              1,
              "#f0f921"
             ]
            ],
            "type": "surface"
           }
          ],
          "table": [
           {
            "cells": {
             "fill": {
              "color": "#EBF0F8"
             },
             "line": {
              "color": "white"
             }
            },
            "header": {
             "fill": {
              "color": "#C8D4E3"
             },
             "line": {
              "color": "white"
             }
            },
            "type": "table"
           }
          ]
         },
         "layout": {
          "annotationdefaults": {
           "arrowcolor": "#2a3f5f",
           "arrowhead": 0,
           "arrowwidth": 1
          },
          "autotypenumbers": "strict",
          "coloraxis": {
           "colorbar": {
            "outlinewidth": 0,
            "ticks": ""
           }
          },
          "colorscale": {
           "diverging": [
            [
             0,
             "#8e0152"
            ],
            [
             0.1,
             "#c51b7d"
            ],
            [
             0.2,
             "#de77ae"
            ],
            [
             0.3,
             "#f1b6da"
            ],
            [
             0.4,
             "#fde0ef"
            ],
            [
             0.5,
             "#f7f7f7"
            ],
            [
             0.6,
             "#e6f5d0"
            ],
            [
             0.7,
             "#b8e186"
            ],
            [
             0.8,
             "#7fbc41"
            ],
            [
             0.9,
             "#4d9221"
            ],
            [
             1,
             "#276419"
            ]
           ],
           "sequential": [
            [
             0,
             "#0d0887"
            ],
            [
             0.1111111111111111,
             "#46039f"
            ],
            [
             0.2222222222222222,
             "#7201a8"
            ],
            [
             0.3333333333333333,
             "#9c179e"
            ],
            [
             0.4444444444444444,
             "#bd3786"
            ],
            [
             0.5555555555555556,
             "#d8576b"
            ],
            [
             0.6666666666666666,
             "#ed7953"
            ],
            [
             0.7777777777777778,
             "#fb9f3a"
            ],
            [
             0.8888888888888888,
             "#fdca26"
            ],
            [
             1,
             "#f0f921"
            ]
           ],
           "sequentialminus": [
            [
             0,
             "#0d0887"
            ],
            [
             0.1111111111111111,
             "#46039f"
            ],
            [
             0.2222222222222222,
             "#7201a8"
            ],
            [
             0.3333333333333333,
             "#9c179e"
            ],
            [
             0.4444444444444444,
             "#bd3786"
            ],
            [
             0.5555555555555556,
             "#d8576b"
            ],
            [
             0.6666666666666666,
             "#ed7953"
            ],
            [
             0.7777777777777778,
             "#fb9f3a"
            ],
            [
             0.8888888888888888,
             "#fdca26"
            ],
            [
             1,
             "#f0f921"
            ]
           ]
          },
          "colorway": [
           "#636efa",
           "#EF553B",
           "#00cc96",
           "#ab63fa",
           "#FFA15A",
           "#19d3f3",
           "#FF6692",
           "#B6E880",
           "#FF97FF",
           "#FECB52"
          ],
          "font": {
           "color": "#2a3f5f"
          },
          "geo": {
           "bgcolor": "white",
           "lakecolor": "white",
           "landcolor": "#E5ECF6",
           "showlakes": true,
           "showland": true,
           "subunitcolor": "white"
          },
          "hoverlabel": {
           "align": "left"
          },
          "hovermode": "closest",
          "mapbox": {
           "style": "light"
          },
          "paper_bgcolor": "white",
          "plot_bgcolor": "#E5ECF6",
          "polar": {
           "angularaxis": {
            "gridcolor": "white",
            "linecolor": "white",
            "ticks": ""
           },
           "bgcolor": "#E5ECF6",
           "radialaxis": {
            "gridcolor": "white",
            "linecolor": "white",
            "ticks": ""
           }
          },
          "scene": {
           "xaxis": {
            "backgroundcolor": "#E5ECF6",
            "gridcolor": "white",
            "gridwidth": 2,
            "linecolor": "white",
            "showbackground": true,
            "ticks": "",
            "zerolinecolor": "white"
           },
           "yaxis": {
            "backgroundcolor": "#E5ECF6",
            "gridcolor": "white",
            "gridwidth": 2,
            "linecolor": "white",
            "showbackground": true,
            "ticks": "",
            "zerolinecolor": "white"
           },
           "zaxis": {
            "backgroundcolor": "#E5ECF6",
            "gridcolor": "white",
            "gridwidth": 2,
            "linecolor": "white",
            "showbackground": true,
            "ticks": "",
            "zerolinecolor": "white"
           }
          },
          "shapedefaults": {
           "line": {
            "color": "#2a3f5f"
           }
          },
          "ternary": {
           "aaxis": {
            "gridcolor": "white",
            "linecolor": "white",
            "ticks": ""
           },
           "baxis": {
            "gridcolor": "white",
            "linecolor": "white",
            "ticks": ""
           },
           "bgcolor": "#E5ECF6",
           "caxis": {
            "gridcolor": "white",
            "linecolor": "white",
            "ticks": ""
           }
          },
          "title": {
           "x": 0.05
          },
          "xaxis": {
           "automargin": true,
           "gridcolor": "white",
           "linecolor": "white",
           "ticks": "",
           "title": {
            "standoff": 15
           },
           "zerolinecolor": "white",
           "zerolinewidth": 2
          },
          "yaxis": {
           "automargin": true,
           "gridcolor": "white",
           "linecolor": "white",
           "ticks": "",
           "title": {
            "standoff": 15
           },
           "zerolinecolor": "white",
           "zerolinewidth": 2
          }
         }
        },
        "xaxis": {
         "anchor": "y",
         "domain": [
          0,
          1
         ],
         "title": {
          "text": "Año"
         }
        },
        "yaxis": {
         "anchor": "x",
         "domain": [
          0,
          1
         ],
         "title": {
          "text": "Población, hombres"
         }
        }
       }
      }
     },
     "metadata": {},
     "output_type": "display_data"
    },
    {
     "data": {
      "application/vnd.plotly.v1+json": {
       "config": {
        "plotlyServerURL": "https://plot.ly"
       },
       "data": [
        {
         "hovertemplate": "Continente=América Central<br>Año=%{x}<br>Población, mujeres=%{y}<extra></extra>",
         "legendgroup": "América Central",
         "line": {
          "color": "#636efa",
          "dash": "solid"
         },
         "marker": {
          "symbol": "circle"
         },
         "mode": "lines",
         "name": "América Central",
         "orientation": "v",
         "showlegend": true,
         "type": "scatter",
         "x": [
          "1987",
          "1988",
          "1989",
          "1990",
          "1991",
          "1992",
          "1993",
          "1994",
          "1995",
          "1996",
          "1997",
          "1998",
          "1999",
          "2000",
          "2001",
          "2002",
          "2003",
          "2004",
          "2005",
          "2006",
          "2007",
          "2008",
          "2009",
          "2010",
          "2011",
          "2012",
          "2013",
          "2014",
          "2015",
          "2016",
          "2017",
          "2018",
          "2019",
          "2020",
          "2021",
          "2022"
         ],
         "xaxis": "x",
         "y": [
          3274329.5,
          3318558,
          3363698.5,
          3408719,
          3451189,
          3489851.5,
          3525689,
          3559833,
          3593195.5,
          3625716,
          3657999.5,
          3690275,
          3722342.5,
          3753768,
          3783695.5,
          3811641.5,
          3837352,
          3861162.5,
          3883408.5,
          3903914,
          3922971,
          3941358.5,
          3959516,
          3977235,
          3994763.5,
          4012711.5,
          4030770,
          4047872,
          4064022.5,
          4078736,
          4091422,
          4103173,
          4113285,
          4121181.5,
          4121165,
          4119808
         ],
         "yaxis": "y"
        },
        {
         "hovertemplate": "Continente=América del Norte<br>Año=%{x}<br>Población, mujeres=%{y}<extra></extra>",
         "legendgroup": "América del Norte",
         "line": {
          "color": "#EF553B",
          "dash": "solid"
         },
         "marker": {
          "symbol": "circle"
         },
         "mode": "lines",
         "name": "América del Norte",
         "orientation": "v",
         "showlegend": true,
         "type": "scatter",
         "x": [
          "1987",
          "1988",
          "1989",
          "1990",
          "1991",
          "1992",
          "1993",
          "1994",
          "1995",
          "1996",
          "1997",
          "1998",
          "1999",
          "2000",
          "2001",
          "2002",
          "2003",
          "2004",
          "2005",
          "2006",
          "2007",
          "2008",
          "2009",
          "2010",
          "2011",
          "2012",
          "2013",
          "2014",
          "2015",
          "2016",
          "2017",
          "2018",
          "2019",
          "2020",
          "2021",
          "2022"
         ],
         "xaxis": "x",
         "y": [
          58830506.666666664,
          59485502.666666664,
          60179197.666666664,
          60963650,
          61852392.666666664,
          62771401.333333336,
          63672448.666666664,
          64543254.333333336,
          65398875.333333336,
          66242280.666666664,
          67102915.333333336,
          67937518.33333333,
          68759180.33333333,
          69572423,
          70346468.33333333,
          71108499.33333333,
          71834318.66666667,
          72590564.66666667,
          73344181,
          74122604.66666667,
          74898712.33333333,
          75681676,
          76436201.33333333,
          77188851.66666667,
          77876936.33333333,
          78549074,
          79192349,
          79850188.66666667,
          80490682.33333333,
          81148614,
          81757124.66666667,
          82304862.33333333,
          82806301.66666667,
          83578541,
          83876657,
          84386211.33333333
         ],
         "yaxis": "y"
        },
        {
         "hovertemplate": "Continente=América del Sur<br>Año=%{x}<br>Población, mujeres=%{y}<extra></extra>",
         "legendgroup": "América del Sur",
         "line": {
          "color": "#00cc96",
          "dash": "solid"
         },
         "marker": {
          "symbol": "circle"
         },
         "mode": "lines",
         "name": "América del Sur",
         "orientation": "v",
         "showlegend": true,
         "type": "scatter",
         "x": [
          "1987",
          "1988",
          "1989",
          "1990",
          "1991",
          "1992",
          "1993",
          "1994",
          "1995",
          "1996",
          "1997",
          "1998",
          "1999",
          "2000",
          "2001",
          "2002",
          "2003",
          "2004",
          "2005",
          "2006",
          "2007",
          "2008",
          "2009",
          "2010",
          "2011",
          "2012",
          "2013",
          "2014",
          "2015",
          "2016",
          "2017",
          "2018",
          "2019",
          "2020",
          "2021",
          "2022"
         ],
         "xaxis": "x",
         "y": [
          23347357.2,
          23815947,
          24282654,
          24746967,
          25203864,
          25652501.6,
          26098433.2,
          26544145.8,
          26988218,
          27428655.4,
          27866299,
          28301179,
          28730503.2,
          29154713.6,
          29574525.8,
          29986803,
          30385262.4,
          30775366.4,
          31162661,
          31542193,
          31912095,
          32271083.6,
          32623165.8,
          32942535.2,
          33297195.6,
          33645222.8,
          33984915.6,
          34319218.8,
          34651043,
          34973435.8,
          35277014.6,
          35550615.4,
          35807532.8,
          36058860.2,
          36284151.8,
          36509144.4
         ],
         "yaxis": "y"
        },
        {
         "hovertemplate": "Continente=Asia<br>Año=%{x}<br>Población, mujeres=%{y}<extra></extra>",
         "legendgroup": "Asia",
         "line": {
          "color": "#ab63fa",
          "dash": "solid"
         },
         "marker": {
          "symbol": "circle"
         },
         "mode": "lines",
         "name": "Asia",
         "orientation": "v",
         "showlegend": true,
         "type": "scatter",
         "x": [
          "1987",
          "1988",
          "1989",
          "1990",
          "1991",
          "1992",
          "1993",
          "1994",
          "1995",
          "1996",
          "1997",
          "1998",
          "1999",
          "2000",
          "2001",
          "2002",
          "2003",
          "2004",
          "2005",
          "2006",
          "2007",
          "2008",
          "2009",
          "2010",
          "2011",
          "2012",
          "2013",
          "2014",
          "2015",
          "2016",
          "2017",
          "2018",
          "2019",
          "2020",
          "2021",
          "2022"
         ],
         "xaxis": "x",
         "y": [
          112699503.1111111,
          114730555.22222222,
          116757155.8888889,
          118745844.8888889,
          120685894.8888889,
          122630238.33333333,
          124573481.66666667,
          126475969.1111111,
          128323220.44444445,
          130134943.33333333,
          131937741.8888889,
          133713721.8888889,
          135421584.33333334,
          137055314.1111111,
          138671702.66666666,
          140323111.1111111,
          141945756.44444445,
          143491769.1111111,
          145020867.55555555,
          146527598.55555555,
          147973354.2222222,
          149406101.66666666,
          150833869.7777778,
          152234869.1111111,
          153674419,
          155215546.1111111,
          156730667.8888889,
          158200619.2222222,
          159599722.7777778,
          160998766,
          162436623.44444445,
          163749250.2222222,
          164945262.33333334,
          166001277.2222222,
          166822037,
          167508898.33333334
         ],
         "yaxis": "y"
        },
        {
         "hovertemplate": "Continente=Europa<br>Año=%{x}<br>Población, mujeres=%{y}<extra></extra>",
         "legendgroup": "Europa",
         "line": {
          "color": "#FFA15A",
          "dash": "solid"
         },
         "marker": {
          "symbol": "circle"
         },
         "mode": "lines",
         "name": "Europa",
         "orientation": "v",
         "showlegend": true,
         "type": "scatter",
         "x": [
          "1987",
          "1988",
          "1989",
          "1990",
          "1991",
          "1992",
          "1993",
          "1994",
          "1995",
          "1996",
          "1997",
          "1998",
          "1999",
          "2000",
          "2001",
          "2002",
          "2003",
          "2004",
          "2005",
          "2006",
          "2007",
          "2008",
          "2009",
          "2010",
          "2011",
          "2012",
          "2013",
          "2014",
          "2015",
          "2016",
          "2017",
          "2018",
          "2019",
          "2020",
          "2021",
          "2022"
         ],
         "xaxis": "x",
         "y": [
          17680533.727272727,
          17741389.90909091,
          17815504.545454547,
          17872097.09090909,
          17942520.363636363,
          18004335.545454547,
          18050767.818181816,
          18086935.454545453,
          18123603,
          18150308.727272727,
          18168305.181818184,
          18181848.545454547,
          18188949.545454547,
          18195802.90909091,
          18213532.727272727,
          18242257.181818184,
          18274616.727272727,
          18310396.636363637,
          18349210.90909091,
          18389347.545454547,
          18440591.09090909,
          18494290.90909091,
          18536871.636363637,
          18574090.545454547,
          18544906.636363637,
          18587123.727272727,
          18626042.636363637,
          18675853.90909091,
          18749515.818181816,
          18824751.181818184,
          18880788,
          18926344.181818184,
          18972249.454545453,
          18989671.181818184,
          18970165.363636363,
          19038067.545454547
         ],
         "yaxis": "y"
        },
        {
         "hovertemplate": "Continente=Oceanía<br>Año=%{x}<br>Población, mujeres=%{y}<extra></extra>",
         "legendgroup": "Oceanía",
         "line": {
          "color": "#19d3f3",
          "dash": "solid"
         },
         "marker": {
          "symbol": "circle"
         },
         "mode": "lines",
         "name": "Oceanía",
         "orientation": "v",
         "showlegend": true,
         "type": "scatter",
         "x": [
          "1987",
          "1988",
          "1989",
          "1990",
          "1991",
          "1992",
          "1993",
          "1994",
          "1995",
          "1996",
          "1997",
          "1998",
          "1999",
          "2000",
          "2001",
          "2002",
          "2003",
          "2004",
          "2005",
          "2006",
          "2007",
          "2008",
          "2009",
          "2010",
          "2011",
          "2012",
          "2013",
          "2014",
          "2015",
          "2016",
          "2017",
          "2018",
          "2019",
          "2020",
          "2021",
          "2022"
         ],
         "xaxis": "x",
         "y": [
          2562798.5,
          2600335.75,
          2640075,
          2677543.75,
          2727887.5,
          2758368,
          2784367.5,
          2812922.75,
          2845714,
          2882599.25,
          2916741.25,
          2947501.75,
          2978883.75,
          3011787,
          3047625.25,
          3085071,
          3124307.5,
          3159534.5,
          3196963.5,
          3238345.75,
          3290267,
          3346677.25,
          3407044.75,
          3456612.75,
          3500950,
          3554681,
          3610177.75,
          3665541.75,
          3722568.5,
          3785067.25,
          3849518.75,
          3907126,
          3962016.25,
          4014046.5,
          4020566,
          4058971.5
         ],
         "yaxis": "y"
        },
        {
         "hovertemplate": "Continente=África<br>Año=%{x}<br>Población, mujeres=%{y}<extra></extra>",
         "legendgroup": "África",
         "line": {
          "color": "#FF6692",
          "dash": "solid"
         },
         "marker": {
          "symbol": "circle"
         },
         "mode": "lines",
         "name": "África",
         "orientation": "v",
         "showlegend": true,
         "type": "scatter",
         "x": [
          "1987",
          "1988",
          "1989",
          "1990",
          "1991",
          "1992",
          "1993",
          "1994",
          "1995",
          "1996",
          "1997",
          "1998",
          "1999",
          "2000",
          "2001",
          "2002",
          "2003",
          "2004",
          "2005",
          "2006",
          "2007",
          "2008",
          "2009",
          "2010",
          "2011",
          "2012",
          "2013",
          "2014",
          "2015",
          "2016",
          "2017",
          "2018",
          "2019",
          "2020",
          "2021",
          "2022"
         ],
         "xaxis": "x",
         "y": [
          9482305.5,
          9756428,
          10029210.2,
          10299506.1,
          10555224.4,
          10803927.3,
          11058395,
          11244015.5,
          11441344.5,
          11736955.7,
          12015490.7,
          12251799.8,
          12483003.5,
          12719812.9,
          12969696.3,
          13228348.7,
          13491223.5,
          13762623.1,
          14036463.3,
          14314022.2,
          14601874.9,
          14902952.3,
          15215267.8,
          15536467.7,
          15872254.9,
          16219093.8,
          16576619.7,
          16945039,
          17319981,
          17675649.5,
          18022329.1,
          18382591.9,
          18741008.2,
          19098391.9,
          19448884.6,
          19793361.7
         ],
         "yaxis": "y"
        }
       ],
       "layout": {
        "legend": {
         "title": {
          "text": "Continente"
         },
         "tracegroupgap": 0
        },
        "margin": {
         "t": 60
        },
        "template": {
         "data": {
          "bar": [
           {
            "error_x": {
             "color": "#2a3f5f"
            },
            "error_y": {
             "color": "#2a3f5f"
            },
            "marker": {
             "line": {
              "color": "#E5ECF6",
              "width": 0.5
             },
             "pattern": {
              "fillmode": "overlay",
              "size": 10,
              "solidity": 0.2
             }
            },
            "type": "bar"
           }
          ],
          "barpolar": [
           {
            "marker": {
             "line": {
              "color": "#E5ECF6",
              "width": 0.5
             },
             "pattern": {
              "fillmode": "overlay",
              "size": 10,
              "solidity": 0.2
             }
            },
            "type": "barpolar"
           }
          ],
          "carpet": [
           {
            "aaxis": {
             "endlinecolor": "#2a3f5f",
             "gridcolor": "white",
             "linecolor": "white",
             "minorgridcolor": "white",
             "startlinecolor": "#2a3f5f"
            },
            "baxis": {
             "endlinecolor": "#2a3f5f",
             "gridcolor": "white",
             "linecolor": "white",
             "minorgridcolor": "white",
             "startlinecolor": "#2a3f5f"
            },
            "type": "carpet"
           }
          ],
          "choropleth": [
           {
            "colorbar": {
             "outlinewidth": 0,
             "ticks": ""
            },
            "type": "choropleth"
           }
          ],
          "contour": [
           {
            "colorbar": {
             "outlinewidth": 0,
             "ticks": ""
            },
            "colorscale": [
             [
              0,
              "#0d0887"
             ],
             [
              0.1111111111111111,
              "#46039f"
             ],
             [
              0.2222222222222222,
              "#7201a8"
             ],
             [
              0.3333333333333333,
              "#9c179e"
             ],
             [
              0.4444444444444444,
              "#bd3786"
             ],
             [
              0.5555555555555556,
              "#d8576b"
             ],
             [
              0.6666666666666666,
              "#ed7953"
             ],
             [
              0.7777777777777778,
              "#fb9f3a"
             ],
             [
              0.8888888888888888,
              "#fdca26"
             ],
             [
              1,
              "#f0f921"
             ]
            ],
            "type": "contour"
           }
          ],
          "contourcarpet": [
           {
            "colorbar": {
             "outlinewidth": 0,
             "ticks": ""
            },
            "type": "contourcarpet"
           }
          ],
          "heatmap": [
           {
            "colorbar": {
             "outlinewidth": 0,
             "ticks": ""
            },
            "colorscale": [
             [
              0,
              "#0d0887"
             ],
             [
              0.1111111111111111,
              "#46039f"
             ],
             [
              0.2222222222222222,
              "#7201a8"
             ],
             [
              0.3333333333333333,
              "#9c179e"
             ],
             [
              0.4444444444444444,
              "#bd3786"
             ],
             [
              0.5555555555555556,
              "#d8576b"
             ],
             [
              0.6666666666666666,
              "#ed7953"
             ],
             [
              0.7777777777777778,
              "#fb9f3a"
             ],
             [
              0.8888888888888888,
              "#fdca26"
             ],
             [
              1,
              "#f0f921"
             ]
            ],
            "type": "heatmap"
           }
          ],
          "heatmapgl": [
           {
            "colorbar": {
             "outlinewidth": 0,
             "ticks": ""
            },
            "colorscale": [
             [
              0,
              "#0d0887"
             ],
             [
              0.1111111111111111,
              "#46039f"
             ],
             [
              0.2222222222222222,
              "#7201a8"
             ],
             [
              0.3333333333333333,
              "#9c179e"
             ],
             [
              0.4444444444444444,
              "#bd3786"
             ],
             [
              0.5555555555555556,
              "#d8576b"
             ],
             [
              0.6666666666666666,
              "#ed7953"
             ],
             [
              0.7777777777777778,
              "#fb9f3a"
             ],
             [
              0.8888888888888888,
              "#fdca26"
             ],
             [
              1,
              "#f0f921"
             ]
            ],
            "type": "heatmapgl"
           }
          ],
          "histogram": [
           {
            "marker": {
             "pattern": {
              "fillmode": "overlay",
              "size": 10,
              "solidity": 0.2
             }
            },
            "type": "histogram"
           }
          ],
          "histogram2d": [
           {
            "colorbar": {
             "outlinewidth": 0,
             "ticks": ""
            },
            "colorscale": [
             [
              0,
              "#0d0887"
             ],
             [
              0.1111111111111111,
              "#46039f"
             ],
             [
              0.2222222222222222,
              "#7201a8"
             ],
             [
              0.3333333333333333,
              "#9c179e"
             ],
             [
              0.4444444444444444,
              "#bd3786"
             ],
             [
              0.5555555555555556,
              "#d8576b"
             ],
             [
              0.6666666666666666,
              "#ed7953"
             ],
             [
              0.7777777777777778,
              "#fb9f3a"
             ],
             [
              0.8888888888888888,
              "#fdca26"
             ],
             [
              1,
              "#f0f921"
             ]
            ],
            "type": "histogram2d"
           }
          ],
          "histogram2dcontour": [
           {
            "colorbar": {
             "outlinewidth": 0,
             "ticks": ""
            },
            "colorscale": [
             [
              0,
              "#0d0887"
             ],
             [
              0.1111111111111111,
              "#46039f"
             ],
             [
              0.2222222222222222,
              "#7201a8"
             ],
             [
              0.3333333333333333,
              "#9c179e"
             ],
             [
              0.4444444444444444,
              "#bd3786"
             ],
             [
              0.5555555555555556,
              "#d8576b"
             ],
             [
              0.6666666666666666,
              "#ed7953"
             ],
             [
              0.7777777777777778,
              "#fb9f3a"
             ],
             [
              0.8888888888888888,
              "#fdca26"
             ],
             [
              1,
              "#f0f921"
             ]
            ],
            "type": "histogram2dcontour"
           }
          ],
          "mesh3d": [
           {
            "colorbar": {
             "outlinewidth": 0,
             "ticks": ""
            },
            "type": "mesh3d"
           }
          ],
          "parcoords": [
           {
            "line": {
             "colorbar": {
              "outlinewidth": 0,
              "ticks": ""
             }
            },
            "type": "parcoords"
           }
          ],
          "pie": [
           {
            "automargin": true,
            "type": "pie"
           }
          ],
          "scatter": [
           {
            "fillpattern": {
             "fillmode": "overlay",
             "size": 10,
             "solidity": 0.2
            },
            "type": "scatter"
           }
          ],
          "scatter3d": [
           {
            "line": {
             "colorbar": {
              "outlinewidth": 0,
              "ticks": ""
             }
            },
            "marker": {
             "colorbar": {
              "outlinewidth": 0,
              "ticks": ""
             }
            },
            "type": "scatter3d"
           }
          ],
          "scattercarpet": [
           {
            "marker": {
             "colorbar": {
              "outlinewidth": 0,
              "ticks": ""
             }
            },
            "type": "scattercarpet"
           }
          ],
          "scattergeo": [
           {
            "marker": {
             "colorbar": {
              "outlinewidth": 0,
              "ticks": ""
             }
            },
            "type": "scattergeo"
           }
          ],
          "scattergl": [
           {
            "marker": {
             "colorbar": {
              "outlinewidth": 0,
              "ticks": ""
             }
            },
            "type": "scattergl"
           }
          ],
          "scattermapbox": [
           {
            "marker": {
             "colorbar": {
              "outlinewidth": 0,
              "ticks": ""
             }
            },
            "type": "scattermapbox"
           }
          ],
          "scatterpolar": [
           {
            "marker": {
             "colorbar": {
              "outlinewidth": 0,
              "ticks": ""
             }
            },
            "type": "scatterpolar"
           }
          ],
          "scatterpolargl": [
           {
            "marker": {
             "colorbar": {
              "outlinewidth": 0,
              "ticks": ""
             }
            },
            "type": "scatterpolargl"
           }
          ],
          "scatterternary": [
           {
            "marker": {
             "colorbar": {
              "outlinewidth": 0,
              "ticks": ""
             }
            },
            "type": "scatterternary"
           }
          ],
          "surface": [
           {
            "colorbar": {
             "outlinewidth": 0,
             "ticks": ""
            },
            "colorscale": [
             [
              0,
              "#0d0887"
             ],
             [
              0.1111111111111111,
              "#46039f"
             ],
             [
              0.2222222222222222,
              "#7201a8"
             ],
             [
              0.3333333333333333,
              "#9c179e"
             ],
             [
              0.4444444444444444,
              "#bd3786"
             ],
             [
              0.5555555555555556,
              "#d8576b"
             ],
             [
              0.6666666666666666,
              "#ed7953"
             ],
             [
              0.7777777777777778,
              "#fb9f3a"
             ],
             [
              0.8888888888888888,
              "#fdca26"
             ],
             [
              1,
              "#f0f921"
             ]
            ],
            "type": "surface"
           }
          ],
          "table": [
           {
            "cells": {
             "fill": {
              "color": "#EBF0F8"
             },
             "line": {
              "color": "white"
             }
            },
            "header": {
             "fill": {
              "color": "#C8D4E3"
             },
             "line": {
              "color": "white"
             }
            },
            "type": "table"
           }
          ]
         },
         "layout": {
          "annotationdefaults": {
           "arrowcolor": "#2a3f5f",
           "arrowhead": 0,
           "arrowwidth": 1
          },
          "autotypenumbers": "strict",
          "coloraxis": {
           "colorbar": {
            "outlinewidth": 0,
            "ticks": ""
           }
          },
          "colorscale": {
           "diverging": [
            [
             0,
             "#8e0152"
            ],
            [
             0.1,
             "#c51b7d"
            ],
            [
             0.2,
             "#de77ae"
            ],
            [
             0.3,
             "#f1b6da"
            ],
            [
             0.4,
             "#fde0ef"
            ],
            [
             0.5,
             "#f7f7f7"
            ],
            [
             0.6,
             "#e6f5d0"
            ],
            [
             0.7,
             "#b8e186"
            ],
            [
             0.8,
             "#7fbc41"
            ],
            [
             0.9,
             "#4d9221"
            ],
            [
             1,
             "#276419"
            ]
           ],
           "sequential": [
            [
             0,
             "#0d0887"
            ],
            [
             0.1111111111111111,
             "#46039f"
            ],
            [
             0.2222222222222222,
             "#7201a8"
            ],
            [
             0.3333333333333333,
             "#9c179e"
            ],
            [
             0.4444444444444444,
             "#bd3786"
            ],
            [
             0.5555555555555556,
             "#d8576b"
            ],
            [
             0.6666666666666666,
             "#ed7953"
            ],
            [
             0.7777777777777778,
             "#fb9f3a"
            ],
            [
             0.8888888888888888,
             "#fdca26"
            ],
            [
             1,
             "#f0f921"
            ]
           ],
           "sequentialminus": [
            [
             0,
             "#0d0887"
            ],
            [
             0.1111111111111111,
             "#46039f"
            ],
            [
             0.2222222222222222,
             "#7201a8"
            ],
            [
             0.3333333333333333,
             "#9c179e"
            ],
            [
             0.4444444444444444,
             "#bd3786"
            ],
            [
             0.5555555555555556,
             "#d8576b"
            ],
            [
             0.6666666666666666,
             "#ed7953"
            ],
            [
             0.7777777777777778,
             "#fb9f3a"
            ],
            [
             0.8888888888888888,
             "#fdca26"
            ],
            [
             1,
             "#f0f921"
            ]
           ]
          },
          "colorway": [
           "#636efa",
           "#EF553B",
           "#00cc96",
           "#ab63fa",
           "#FFA15A",
           "#19d3f3",
           "#FF6692",
           "#B6E880",
           "#FF97FF",
           "#FECB52"
          ],
          "font": {
           "color": "#2a3f5f"
          },
          "geo": {
           "bgcolor": "white",
           "lakecolor": "white",
           "landcolor": "#E5ECF6",
           "showlakes": true,
           "showland": true,
           "subunitcolor": "white"
          },
          "hoverlabel": {
           "align": "left"
          },
          "hovermode": "closest",
          "mapbox": {
           "style": "light"
          },
          "paper_bgcolor": "white",
          "plot_bgcolor": "#E5ECF6",
          "polar": {
           "angularaxis": {
            "gridcolor": "white",
            "linecolor": "white",
            "ticks": ""
           },
           "bgcolor": "#E5ECF6",
           "radialaxis": {
            "gridcolor": "white",
            "linecolor": "white",
            "ticks": ""
           }
          },
          "scene": {
           "xaxis": {
            "backgroundcolor": "#E5ECF6",
            "gridcolor": "white",
            "gridwidth": 2,
            "linecolor": "white",
            "showbackground": true,
            "ticks": "",
            "zerolinecolor": "white"
           },
           "yaxis": {
            "backgroundcolor": "#E5ECF6",
            "gridcolor": "white",
            "gridwidth": 2,
            "linecolor": "white",
            "showbackground": true,
            "ticks": "",
            "zerolinecolor": "white"
           },
           "zaxis": {
            "backgroundcolor": "#E5ECF6",
            "gridcolor": "white",
            "gridwidth": 2,
            "linecolor": "white",
            "showbackground": true,
            "ticks": "",
            "zerolinecolor": "white"
           }
          },
          "shapedefaults": {
           "line": {
            "color": "#2a3f5f"
           }
          },
          "ternary": {
           "aaxis": {
            "gridcolor": "white",
            "linecolor": "white",
            "ticks": ""
           },
           "baxis": {
            "gridcolor": "white",
            "linecolor": "white",
            "ticks": ""
           },
           "bgcolor": "#E5ECF6",
           "caxis": {
            "gridcolor": "white",
            "linecolor": "white",
            "ticks": ""
           }
          },
          "title": {
           "x": 0.05
          },
          "xaxis": {
           "automargin": true,
           "gridcolor": "white",
           "linecolor": "white",
           "ticks": "",
           "title": {
            "standoff": 15
           },
           "zerolinecolor": "white",
           "zerolinewidth": 2
          },
          "yaxis": {
           "automargin": true,
           "gridcolor": "white",
           "linecolor": "white",
           "ticks": "",
           "title": {
            "standoff": 15
           },
           "zerolinecolor": "white",
           "zerolinewidth": 2
          }
         }
        },
        "xaxis": {
         "anchor": "y",
         "domain": [
          0,
          1
         ],
         "title": {
          "text": "Año"
         }
        },
        "yaxis": {
         "anchor": "x",
         "domain": [
          0,
          1
         ],
         "title": {
          "text": "Población, mujeres"
         }
        }
       }
      }
     },
     "metadata": {},
     "output_type": "display_data"
    },
    {
     "data": {
      "application/vnd.plotly.v1+json": {
       "config": {
        "plotlyServerURL": "https://plot.ly"
       },
       "data": [
        {
         "hovertemplate": "Continente=América Central<br>Año=%{x}<br>Población, total=%{y}<extra></extra>",
         "legendgroup": "América Central",
         "line": {
          "color": "#636efa",
          "dash": "solid"
         },
         "marker": {
          "symbol": "circle"
         },
         "mode": "lines",
         "name": "América Central",
         "orientation": "v",
         "showlegend": true,
         "type": "scatter",
         "x": [
          "1987",
          "1988",
          "1989",
          "1990",
          "1991",
          "1992",
          "1993",
          "1994",
          "1995",
          "1996",
          "1997",
          "1998",
          "1999",
          "2000",
          "2001",
          "2002",
          "2003",
          "2004",
          "2005",
          "2006",
          "2007",
          "2008",
          "2009",
          "2010",
          "2011",
          "2012",
          "2013",
          "2014",
          "2015",
          "2016",
          "2017",
          "2018",
          "2019",
          "2020",
          "2021",
          "2022"
         ],
         "xaxis": "x",
         "y": [
          6625752.5,
          6713447,
          6803094,
          6892466.5,
          6976613,
          7052843.5,
          7123153,
          7188179.5,
          7249779.5,
          7309632.5,
          7368775,
          7427589.5,
          7485762,
          7542492,
          7596174.5,
          7646337,
          7693913.5,
          7739047,
          7781000.5,
          7819401,
          7854953,
          7889265,
          7923156,
          7956334.5,
          7989318,
          8022941.5,
          8056557,
          8088157,
          8117568,
          8143608.5,
          8165123.5,
          8184489,
          8200614.5,
          8211901.5,
          8205164.5,
          8196510
         ],
         "yaxis": "y"
        },
        {
         "hovertemplate": "Continente=América del Norte<br>Año=%{x}<br>Población, total=%{y}<extra></extra>",
         "legendgroup": "América del Norte",
         "line": {
          "color": "#EF553B",
          "dash": "solid"
         },
         "marker": {
          "symbol": "circle"
         },
         "mode": "lines",
         "name": "América del Norte",
         "orientation": "v",
         "showlegend": true,
         "type": "scatter",
         "x": [
          "1987",
          "1988",
          "1989",
          "1990",
          "1991",
          "1992",
          "1993",
          "1994",
          "1995",
          "1996",
          "1997",
          "1998",
          "1999",
          "2000",
          "2001",
          "2002",
          "2003",
          "2004",
          "2005",
          "2006",
          "2007",
          "2008",
          "2009",
          "2010",
          "2011",
          "2012",
          "2013",
          "2014",
          "2015",
          "2016",
          "2017",
          "2018",
          "2019",
          "2020",
          "2021",
          "2022"
         ],
         "xaxis": "x",
         "y": [
          115429701.66666667,
          116727587.33333333,
          118109843.33333333,
          119678188.66666667,
          121456671.66666667,
          123292809.33333333,
          125084070.33333333,
          126813695.66666667,
          128516627.66666667,
          130196924.33333333,
          131915347.33333333,
          133592152.33333333,
          135258698.66666666,
          136907194.33333334,
          138461381.66666666,
          139967451,
          141393767.33333334,
          142897255.33333334,
          144400918,
          145945958.66666666,
          147474401.66666666,
          149008524.33333334,
          150483284,
          151954811,
          153357763.33333334,
          154782597.66666666,
          156144529,
          157526550.33333334,
          158863933,
          160233487.66666666,
          161502207.33333334,
          162639048,
          163672164.66666666,
          165172326.66666666,
          165654396.66666666,
          166573861.33333334
         ],
         "yaxis": "y"
        },
        {
         "hovertemplate": "Continente=América del Sur<br>Año=%{x}<br>Población, total=%{y}<extra></extra>",
         "legendgroup": "América del Sur",
         "line": {
          "color": "#00cc96",
          "dash": "solid"
         },
         "marker": {
          "symbol": "circle"
         },
         "mode": "lines",
         "name": "América del Sur",
         "orientation": "v",
         "showlegend": true,
         "type": "scatter",
         "x": [
          "1987",
          "1988",
          "1989",
          "1990",
          "1991",
          "1992",
          "1993",
          "1994",
          "1995",
          "1996",
          "1997",
          "1998",
          "1999",
          "2000",
          "2001",
          "2002",
          "2003",
          "2004",
          "2005",
          "2006",
          "2007",
          "2008",
          "2009",
          "2010",
          "2011",
          "2012",
          "2013",
          "2014",
          "2015",
          "2016",
          "2017",
          "2018",
          "2019",
          "2020",
          "2021",
          "2022"
         ],
         "xaxis": "x",
         "y": [
          46468759.2,
          47394410,
          48315554.2,
          49229182.4,
          50125465.8,
          51004559.4,
          51877555.8,
          52750622.8,
          53620101.6,
          54481277.6,
          55336004.6,
          56184185,
          57020670.2,
          57842773,
          58651194.6,
          59443460.2,
          60209668.4,
          60960125.4,
          61705514.4,
          62436317,
          63147815.6,
          63838405.8,
          64517292.4,
          65132532,
          65817915.6,
          66489540.8,
          67144728.4,
          67791669.8,
          68433103.4,
          69051390,
          69632363.8,
          70155876,
          70644883.8,
          71116555.4,
          71529827.2,
          71945009.6
         ],
         "yaxis": "y"
        },
        {
         "hovertemplate": "Continente=Asia<br>Año=%{x}<br>Población, total=%{y}<extra></extra>",
         "legendgroup": "Asia",
         "line": {
          "color": "#ab63fa",
          "dash": "solid"
         },
         "marker": {
          "symbol": "circle"
         },
         "mode": "lines",
         "name": "Asia",
         "orientation": "v",
         "showlegend": true,
         "type": "scatter",
         "x": [
          "1987",
          "1988",
          "1989",
          "1990",
          "1991",
          "1992",
          "1993",
          "1994",
          "1995",
          "1996",
          "1997",
          "1998",
          "1999",
          "2000",
          "2001",
          "2002",
          "2003",
          "2004",
          "2005",
          "2006",
          "2007",
          "2008",
          "2009",
          "2010",
          "2011",
          "2012",
          "2013",
          "2014",
          "2015",
          "2016",
          "2017",
          "2018",
          "2019",
          "2020",
          "2021",
          "2022"
         ],
         "xaxis": "x",
         "y": [
          230765020,
          234950574.44444445,
          239132979.33333334,
          243254371.66666666,
          247290978.44444445,
          251341678.7777778,
          255390909.1111111,
          259364135.2222222,
          263233054.55555555,
          267035012.55555555,
          270824174.3333333,
          274550670.6666667,
          278137445.5555556,
          281577067.5555556,
          284958993.4444444,
          288387252.4444444,
          291747554.1111111,
          294944031.2222222,
          298113221.7777778,
          301263407.8888889,
          304307871.8888889,
          307330096.7777778,
          310331018,
          313230424.7777778,
          316165385.5555556,
          319298775.2222222,
          322374779.6666667,
          325355875.6666667,
          328205622.3333333,
          331071348.1111111,
          333990431.5555556,
          336621113.1111111,
          339004708.7777778,
          341048449.6666667,
          342566446.2222222,
          343822702.8888889
         ],
         "yaxis": "y"
        },
        {
         "hovertemplate": "Continente=Europa<br>Año=%{x}<br>Población, total=%{y}<extra></extra>",
         "legendgroup": "Europa",
         "line": {
          "color": "#FFA15A",
          "dash": "solid"
         },
         "marker": {
          "symbol": "circle"
         },
         "mode": "lines",
         "name": "Europa",
         "orientation": "v",
         "showlegend": true,
         "type": "scatter",
         "x": [
          "1987",
          "1988",
          "1989",
          "1990",
          "1991",
          "1992",
          "1993",
          "1994",
          "1995",
          "1996",
          "1997",
          "1998",
          "1999",
          "2000",
          "2001",
          "2002",
          "2003",
          "2004",
          "2005",
          "2006",
          "2007",
          "2008",
          "2009",
          "2010",
          "2011",
          "2012",
          "2013",
          "2014",
          "2015",
          "2016",
          "2017",
          "2018",
          "2019",
          "2020",
          "2021",
          "2022"
         ],
         "xaxis": "x",
         "y": [
          33842378.27272727,
          33996195.45454545,
          34173228,
          34311623.45454545,
          34470340.81818182,
          34609085.90909091,
          34714251.18181818,
          34792537.45454545,
          34864308.09090909,
          34915537.27272727,
          34953028.54545455,
          34984756.18181818,
          35003967.90909091,
          35018425.81818182,
          35048863,
          35102670.72727273,
          35163659.54545455,
          35228772,
          35300322,
          35377589.27272727,
          35486985.09090909,
          35607400.09090909,
          35703829.36363637,
          35790454.09090909,
          35750122.18181818,
          35850159.54545455,
          35943023.36363637,
          36056362.90909091,
          36216550.36363637,
          36378258.54545455,
          36499216.27272727,
          36598379.27272727,
          36697815.18181818,
          36737859.18181818,
          36702450.09090909,
          36838266
         ],
         "yaxis": "y"
        },
        {
         "hovertemplate": "Continente=Oceanía<br>Año=%{x}<br>Población, total=%{y}<extra></extra>",
         "legendgroup": "Oceanía",
         "line": {
          "color": "#19d3f3",
          "dash": "solid"
         },
         "marker": {
          "symbol": "circle"
         },
         "mode": "lines",
         "name": "Oceanía",
         "orientation": "v",
         "showlegend": true,
         "type": "scatter",
         "x": [
          "1987",
          "1988",
          "1989",
          "1990",
          "1991",
          "1992",
          "1993",
          "1994",
          "1995",
          "1996",
          "1997",
          "1998",
          "1999",
          "2000",
          "2001",
          "2002",
          "2003",
          "2004",
          "2005",
          "2006",
          "2007",
          "2008",
          "2009",
          "2010",
          "2011",
          "2012",
          "2013",
          "2014",
          "2015",
          "2016",
          "2017",
          "2018",
          "2019",
          "2020",
          "2021",
          "2022"
         ],
         "xaxis": "x",
         "y": [
          5114956.25,
          5186846.5,
          5263551.5,
          5335886,
          5433167.25,
          5491748.25,
          5541892,
          5597344.5,
          5661357.5,
          5732504.5,
          5796863,
          5854229,
          5913249.25,
          5975754.75,
          6045512.75,
          6120057.75,
          6198420.75,
          6268747.25,
          6343573.25,
          6427007,
          6533137,
          6649379.25,
          6772203,
          6870572.75,
          6957182.5,
          7062687,
          7170905.25,
          7277375.75,
          7386541.5,
          7507230.5,
          7633612.75,
          7748985,
          7862446.75,
          7970210,
          7985713.25,
          8063795.75
         ],
         "yaxis": "y"
        },
        {
         "hovertemplate": "Continente=África<br>Año=%{x}<br>Población, total=%{y}<extra></extra>",
         "legendgroup": "África",
         "line": {
          "color": "#FF6692",
          "dash": "solid"
         },
         "marker": {
          "symbol": "circle"
         },
         "mode": "lines",
         "name": "África",
         "orientation": "v",
         "showlegend": true,
         "type": "scatter",
         "x": [
          "1987",
          "1988",
          "1989",
          "1990",
          "1991",
          "1992",
          "1993",
          "1994",
          "1995",
          "1996",
          "1997",
          "1998",
          "1999",
          "2000",
          "2001",
          "2002",
          "2003",
          "2004",
          "2005",
          "2006",
          "2007",
          "2008",
          "2009",
          "2010",
          "2011",
          "2012",
          "2013",
          "2014",
          "2015",
          "2016",
          "2017",
          "2018",
          "2019",
          "2020",
          "2021",
          "2022"
         ],
         "xaxis": "x",
         "y": [
          18876491.5,
          19431122.9,
          19984300.6,
          20531778.5,
          21046819.6,
          21532249.8,
          22014243.6,
          22354132.6,
          22717549.2,
          23286057.9,
          23843037.7,
          24328176.1,
          24799242.1,
          25282402.5,
          25791643.5,
          26320118.3,
          26859829.1,
          27416519.2,
          27977005.2,
          28544164.5,
          29130811.1,
          29742668.4,
          30376284.5,
          31028128.2,
          31711857.3,
          32417591.3,
          33142060.9,
          33891063,
          34661955.2,
          35376220.5,
          36061096.1,
          36785530.2,
          37507070.6,
          38227457.7,
          38933027.4,
          39626014.1
         ],
         "yaxis": "y"
        }
       ],
       "layout": {
        "legend": {
         "title": {
          "text": "Continente"
         },
         "tracegroupgap": 0
        },
        "margin": {
         "t": 60
        },
        "template": {
         "data": {
          "bar": [
           {
            "error_x": {
             "color": "#2a3f5f"
            },
            "error_y": {
             "color": "#2a3f5f"
            },
            "marker": {
             "line": {
              "color": "#E5ECF6",
              "width": 0.5
             },
             "pattern": {
              "fillmode": "overlay",
              "size": 10,
              "solidity": 0.2
             }
            },
            "type": "bar"
           }
          ],
          "barpolar": [
           {
            "marker": {
             "line": {
              "color": "#E5ECF6",
              "width": 0.5
             },
             "pattern": {
              "fillmode": "overlay",
              "size": 10,
              "solidity": 0.2
             }
            },
            "type": "barpolar"
           }
          ],
          "carpet": [
           {
            "aaxis": {
             "endlinecolor": "#2a3f5f",
             "gridcolor": "white",
             "linecolor": "white",
             "minorgridcolor": "white",
             "startlinecolor": "#2a3f5f"
            },
            "baxis": {
             "endlinecolor": "#2a3f5f",
             "gridcolor": "white",
             "linecolor": "white",
             "minorgridcolor": "white",
             "startlinecolor": "#2a3f5f"
            },
            "type": "carpet"
           }
          ],
          "choropleth": [
           {
            "colorbar": {
             "outlinewidth": 0,
             "ticks": ""
            },
            "type": "choropleth"
           }
          ],
          "contour": [
           {
            "colorbar": {
             "outlinewidth": 0,
             "ticks": ""
            },
            "colorscale": [
             [
              0,
              "#0d0887"
             ],
             [
              0.1111111111111111,
              "#46039f"
             ],
             [
              0.2222222222222222,
              "#7201a8"
             ],
             [
              0.3333333333333333,
              "#9c179e"
             ],
             [
              0.4444444444444444,
              "#bd3786"
             ],
             [
              0.5555555555555556,
              "#d8576b"
             ],
             [
              0.6666666666666666,
              "#ed7953"
             ],
             [
              0.7777777777777778,
              "#fb9f3a"
             ],
             [
              0.8888888888888888,
              "#fdca26"
             ],
             [
              1,
              "#f0f921"
             ]
            ],
            "type": "contour"
           }
          ],
          "contourcarpet": [
           {
            "colorbar": {
             "outlinewidth": 0,
             "ticks": ""
            },
            "type": "contourcarpet"
           }
          ],
          "heatmap": [
           {
            "colorbar": {
             "outlinewidth": 0,
             "ticks": ""
            },
            "colorscale": [
             [
              0,
              "#0d0887"
             ],
             [
              0.1111111111111111,
              "#46039f"
             ],
             [
              0.2222222222222222,
              "#7201a8"
             ],
             [
              0.3333333333333333,
              "#9c179e"
             ],
             [
              0.4444444444444444,
              "#bd3786"
             ],
             [
              0.5555555555555556,
              "#d8576b"
             ],
             [
              0.6666666666666666,
              "#ed7953"
             ],
             [
              0.7777777777777778,
              "#fb9f3a"
             ],
             [
              0.8888888888888888,
              "#fdca26"
             ],
             [
              1,
              "#f0f921"
             ]
            ],
            "type": "heatmap"
           }
          ],
          "heatmapgl": [
           {
            "colorbar": {
             "outlinewidth": 0,
             "ticks": ""
            },
            "colorscale": [
             [
              0,
              "#0d0887"
             ],
             [
              0.1111111111111111,
              "#46039f"
             ],
             [
              0.2222222222222222,
              "#7201a8"
             ],
             [
              0.3333333333333333,
              "#9c179e"
             ],
             [
              0.4444444444444444,
              "#bd3786"
             ],
             [
              0.5555555555555556,
              "#d8576b"
             ],
             [
              0.6666666666666666,
              "#ed7953"
             ],
             [
              0.7777777777777778,
              "#fb9f3a"
             ],
             [
              0.8888888888888888,
              "#fdca26"
             ],
             [
              1,
              "#f0f921"
             ]
            ],
            "type": "heatmapgl"
           }
          ],
          "histogram": [
           {
            "marker": {
             "pattern": {
              "fillmode": "overlay",
              "size": 10,
              "solidity": 0.2
             }
            },
            "type": "histogram"
           }
          ],
          "histogram2d": [
           {
            "colorbar": {
             "outlinewidth": 0,
             "ticks": ""
            },
            "colorscale": [
             [
              0,
              "#0d0887"
             ],
             [
              0.1111111111111111,
              "#46039f"
             ],
             [
              0.2222222222222222,
              "#7201a8"
             ],
             [
              0.3333333333333333,
              "#9c179e"
             ],
             [
              0.4444444444444444,
              "#bd3786"
             ],
             [
              0.5555555555555556,
              "#d8576b"
             ],
             [
              0.6666666666666666,
              "#ed7953"
             ],
             [
              0.7777777777777778,
              "#fb9f3a"
             ],
             [
              0.8888888888888888,
              "#fdca26"
             ],
             [
              1,
              "#f0f921"
             ]
            ],
            "type": "histogram2d"
           }
          ],
          "histogram2dcontour": [
           {
            "colorbar": {
             "outlinewidth": 0,
             "ticks": ""
            },
            "colorscale": [
             [
              0,
              "#0d0887"
             ],
             [
              0.1111111111111111,
              "#46039f"
             ],
             [
              0.2222222222222222,
              "#7201a8"
             ],
             [
              0.3333333333333333,
              "#9c179e"
             ],
             [
              0.4444444444444444,
              "#bd3786"
             ],
             [
              0.5555555555555556,
              "#d8576b"
             ],
             [
              0.6666666666666666,
              "#ed7953"
             ],
             [
              0.7777777777777778,
              "#fb9f3a"
             ],
             [
              0.8888888888888888,
              "#fdca26"
             ],
             [
              1,
              "#f0f921"
             ]
            ],
            "type": "histogram2dcontour"
           }
          ],
          "mesh3d": [
           {
            "colorbar": {
             "outlinewidth": 0,
             "ticks": ""
            },
            "type": "mesh3d"
           }
          ],
          "parcoords": [
           {
            "line": {
             "colorbar": {
              "outlinewidth": 0,
              "ticks": ""
             }
            },
            "type": "parcoords"
           }
          ],
          "pie": [
           {
            "automargin": true,
            "type": "pie"
           }
          ],
          "scatter": [
           {
            "fillpattern": {
             "fillmode": "overlay",
             "size": 10,
             "solidity": 0.2
            },
            "type": "scatter"
           }
          ],
          "scatter3d": [
           {
            "line": {
             "colorbar": {
              "outlinewidth": 0,
              "ticks": ""
             }
            },
            "marker": {
             "colorbar": {
              "outlinewidth": 0,
              "ticks": ""
             }
            },
            "type": "scatter3d"
           }
          ],
          "scattercarpet": [
           {
            "marker": {
             "colorbar": {
              "outlinewidth": 0,
              "ticks": ""
             }
            },
            "type": "scattercarpet"
           }
          ],
          "scattergeo": [
           {
            "marker": {
             "colorbar": {
              "outlinewidth": 0,
              "ticks": ""
             }
            },
            "type": "scattergeo"
           }
          ],
          "scattergl": [
           {
            "marker": {
             "colorbar": {
              "outlinewidth": 0,
              "ticks": ""
             }
            },
            "type": "scattergl"
           }
          ],
          "scattermapbox": [
           {
            "marker": {
             "colorbar": {
              "outlinewidth": 0,
              "ticks": ""
             }
            },
            "type": "scattermapbox"
           }
          ],
          "scatterpolar": [
           {
            "marker": {
             "colorbar": {
              "outlinewidth": 0,
              "ticks": ""
             }
            },
            "type": "scatterpolar"
           }
          ],
          "scatterpolargl": [
           {
            "marker": {
             "colorbar": {
              "outlinewidth": 0,
              "ticks": ""
             }
            },
            "type": "scatterpolargl"
           }
          ],
          "scatterternary": [
           {
            "marker": {
             "colorbar": {
              "outlinewidth": 0,
              "ticks": ""
             }
            },
            "type": "scatterternary"
           }
          ],
          "surface": [
           {
            "colorbar": {
             "outlinewidth": 0,
             "ticks": ""
            },
            "colorscale": [
             [
              0,
              "#0d0887"
             ],
             [
              0.1111111111111111,
              "#46039f"
             ],
             [
              0.2222222222222222,
              "#7201a8"
             ],
             [
              0.3333333333333333,
              "#9c179e"
             ],
             [
              0.4444444444444444,
              "#bd3786"
             ],
             [
              0.5555555555555556,
              "#d8576b"
             ],
             [
              0.6666666666666666,
              "#ed7953"
             ],
             [
              0.7777777777777778,
              "#fb9f3a"
             ],
             [
              0.8888888888888888,
              "#fdca26"
             ],
             [
              1,
              "#f0f921"
             ]
            ],
            "type": "surface"
           }
          ],
          "table": [
           {
            "cells": {
             "fill": {
              "color": "#EBF0F8"
             },
             "line": {
              "color": "white"
             }
            },
            "header": {
             "fill": {
              "color": "#C8D4E3"
             },
             "line": {
              "color": "white"
             }
            },
            "type": "table"
           }
          ]
         },
         "layout": {
          "annotationdefaults": {
           "arrowcolor": "#2a3f5f",
           "arrowhead": 0,
           "arrowwidth": 1
          },
          "autotypenumbers": "strict",
          "coloraxis": {
           "colorbar": {
            "outlinewidth": 0,
            "ticks": ""
           }
          },
          "colorscale": {
           "diverging": [
            [
             0,
             "#8e0152"
            ],
            [
             0.1,
             "#c51b7d"
            ],
            [
             0.2,
             "#de77ae"
            ],
            [
             0.3,
             "#f1b6da"
            ],
            [
             0.4,
             "#fde0ef"
            ],
            [
             0.5,
             "#f7f7f7"
            ],
            [
             0.6,
             "#e6f5d0"
            ],
            [
             0.7,
             "#b8e186"
            ],
            [
             0.8,
             "#7fbc41"
            ],
            [
             0.9,
             "#4d9221"
            ],
            [
             1,
             "#276419"
            ]
           ],
           "sequential": [
            [
             0,
             "#0d0887"
            ],
            [
             0.1111111111111111,
             "#46039f"
            ],
            [
             0.2222222222222222,
             "#7201a8"
            ],
            [
             0.3333333333333333,
             "#9c179e"
            ],
            [
             0.4444444444444444,
             "#bd3786"
            ],
            [
             0.5555555555555556,
             "#d8576b"
            ],
            [
             0.6666666666666666,
             "#ed7953"
            ],
            [
             0.7777777777777778,
             "#fb9f3a"
            ],
            [
             0.8888888888888888,
             "#fdca26"
            ],
            [
             1,
             "#f0f921"
            ]
           ],
           "sequentialminus": [
            [
             0,
             "#0d0887"
            ],
            [
             0.1111111111111111,
             "#46039f"
            ],
            [
             0.2222222222222222,
             "#7201a8"
            ],
            [
             0.3333333333333333,
             "#9c179e"
            ],
            [
             0.4444444444444444,
             "#bd3786"
            ],
            [
             0.5555555555555556,
             "#d8576b"
            ],
            [
             0.6666666666666666,
             "#ed7953"
            ],
            [
             0.7777777777777778,
             "#fb9f3a"
            ],
            [
             0.8888888888888888,
             "#fdca26"
            ],
            [
             1,
             "#f0f921"
            ]
           ]
          },
          "colorway": [
           "#636efa",
           "#EF553B",
           "#00cc96",
           "#ab63fa",
           "#FFA15A",
           "#19d3f3",
           "#FF6692",
           "#B6E880",
           "#FF97FF",
           "#FECB52"
          ],
          "font": {
           "color": "#2a3f5f"
          },
          "geo": {
           "bgcolor": "white",
           "lakecolor": "white",
           "landcolor": "#E5ECF6",
           "showlakes": true,
           "showland": true,
           "subunitcolor": "white"
          },
          "hoverlabel": {
           "align": "left"
          },
          "hovermode": "closest",
          "mapbox": {
           "style": "light"
          },
          "paper_bgcolor": "white",
          "plot_bgcolor": "#E5ECF6",
          "polar": {
           "angularaxis": {
            "gridcolor": "white",
            "linecolor": "white",
            "ticks": ""
           },
           "bgcolor": "#E5ECF6",
           "radialaxis": {
            "gridcolor": "white",
            "linecolor": "white",
            "ticks": ""
           }
          },
          "scene": {
           "xaxis": {
            "backgroundcolor": "#E5ECF6",
            "gridcolor": "white",
            "gridwidth": 2,
            "linecolor": "white",
            "showbackground": true,
            "ticks": "",
            "zerolinecolor": "white"
           },
           "yaxis": {
            "backgroundcolor": "#E5ECF6",
            "gridcolor": "white",
            "gridwidth": 2,
            "linecolor": "white",
            "showbackground": true,
            "ticks": "",
            "zerolinecolor": "white"
           },
           "zaxis": {
            "backgroundcolor": "#E5ECF6",
            "gridcolor": "white",
            "gridwidth": 2,
            "linecolor": "white",
            "showbackground": true,
            "ticks": "",
            "zerolinecolor": "white"
           }
          },
          "shapedefaults": {
           "line": {
            "color": "#2a3f5f"
           }
          },
          "ternary": {
           "aaxis": {
            "gridcolor": "white",
            "linecolor": "white",
            "ticks": ""
           },
           "baxis": {
            "gridcolor": "white",
            "linecolor": "white",
            "ticks": ""
           },
           "bgcolor": "#E5ECF6",
           "caxis": {
            "gridcolor": "white",
            "linecolor": "white",
            "ticks": ""
           }
          },
          "title": {
           "x": 0.05
          },
          "xaxis": {
           "automargin": true,
           "gridcolor": "white",
           "linecolor": "white",
           "ticks": "",
           "title": {
            "standoff": 15
           },
           "zerolinecolor": "white",
           "zerolinewidth": 2
          },
          "yaxis": {
           "automargin": true,
           "gridcolor": "white",
           "linecolor": "white",
           "ticks": "",
           "title": {
            "standoff": 15
           },
           "zerolinecolor": "white",
           "zerolinewidth": 2
          }
         }
        },
        "xaxis": {
         "anchor": "y",
         "domain": [
          0,
          1
         ],
         "title": {
          "text": "Año"
         }
        },
        "yaxis": {
         "anchor": "x",
         "domain": [
          0,
          1
         ],
         "title": {
          "text": "Población, total"
         }
        }
       }
      }
     },
     "metadata": {},
     "output_type": "display_data"
    }
   ],
   "source": [
    "for i in df_contientes.columns[2:7]:\n",
    "    graficar_indicador(i)"
   ]
  },
  {
   "cell_type": "code",
   "execution_count": 22,
   "metadata": {},
   "outputs": [
    {
     "data": {
      "text/html": [
       "<div>\n",
       "<style scoped>\n",
       "    .dataframe tbody tr th:only-of-type {\n",
       "        vertical-align: middle;\n",
       "    }\n",
       "\n",
       "    .dataframe tbody tr th {\n",
       "        vertical-align: top;\n",
       "    }\n",
       "\n",
       "    .dataframe thead th {\n",
       "        text-align: right;\n",
       "    }\n",
       "</style>\n",
       "<table border=\"1\" class=\"dataframe\">\n",
       "  <thead>\n",
       "    <tr style=\"text-align: right;\">\n",
       "      <th>serie Name</th>\n",
       "      <th>país Name</th>\n",
       "      <th>Año</th>\n",
       "      <th>Población rural</th>\n",
       "      <th>Población urbana</th>\n",
       "      <th>Población, hombres</th>\n",
       "      <th>Población, mujeres</th>\n",
       "      <th>Población, total</th>\n",
       "      <th>Continente</th>\n",
       "    </tr>\n",
       "  </thead>\n",
       "  <tbody>\n",
       "    <tr>\n",
       "      <th>31</th>\n",
       "      <td>Afganistán</td>\n",
       "      <td>2018</td>\n",
       "      <td>27333488.0</td>\n",
       "      <td>9353296.0</td>\n",
       "      <td>18549862.0</td>\n",
       "      <td>18136922.0</td>\n",
       "      <td>36686784.0</td>\n",
       "      <td>Asia</td>\n",
       "    </tr>\n",
       "    <tr>\n",
       "      <th>32</th>\n",
       "      <td>Afganistán</td>\n",
       "      <td>2019</td>\n",
       "      <td>28042342.0</td>\n",
       "      <td>9727157.0</td>\n",
       "      <td>19090409.0</td>\n",
       "      <td>18679089.0</td>\n",
       "      <td>37769499.0</td>\n",
       "      <td>Asia</td>\n",
       "    </tr>\n",
       "    <tr>\n",
       "      <th>33</th>\n",
       "      <td>Afganistán</td>\n",
       "      <td>2020</td>\n",
       "      <td>28829317.0</td>\n",
       "      <td>10142913.0</td>\n",
       "      <td>19692301.0</td>\n",
       "      <td>19279930.0</td>\n",
       "      <td>38972230.0</td>\n",
       "      <td>Asia</td>\n",
       "    </tr>\n",
       "    <tr>\n",
       "      <th>34</th>\n",
       "      <td>Afganistán</td>\n",
       "      <td>2021</td>\n",
       "      <td>29547690.0</td>\n",
       "      <td>10551772.0</td>\n",
       "      <td>20254878.0</td>\n",
       "      <td>19844584.0</td>\n",
       "      <td>40099462.0</td>\n",
       "      <td>Asia</td>\n",
       "    </tr>\n",
       "    <tr>\n",
       "      <th>35</th>\n",
       "      <td>Afganistán</td>\n",
       "      <td>2022</td>\n",
       "      <td>30181937.0</td>\n",
       "      <td>10946834.0</td>\n",
       "      <td>20766442.0</td>\n",
       "      <td>20362329.0</td>\n",
       "      <td>41128771.0</td>\n",
       "      <td>Asia</td>\n",
       "    </tr>\n",
       "    <tr>\n",
       "      <th>...</th>\n",
       "      <td>...</td>\n",
       "      <td>...</td>\n",
       "      <td>...</td>\n",
       "      <td>...</td>\n",
       "      <td>...</td>\n",
       "      <td>...</td>\n",
       "      <td>...</td>\n",
       "      <td>...</td>\n",
       "    </tr>\n",
       "    <tr>\n",
       "      <th>1579</th>\n",
       "      <td>Venezuela</td>\n",
       "      <td>2018</td>\n",
       "      <td>3517041.0</td>\n",
       "      <td>26308612.0</td>\n",
       "      <td>14804135.0</td>\n",
       "      <td>15021517.0</td>\n",
       "      <td>29825653.0</td>\n",
       "      <td>América del Sur</td>\n",
       "    </tr>\n",
       "    <tr>\n",
       "      <th>1580</th>\n",
       "      <td>Venezuela</td>\n",
       "      <td>2019</td>\n",
       "      <td>3407070.0</td>\n",
       "      <td>25564613.0</td>\n",
       "      <td>14365872.0</td>\n",
       "      <td>14605811.0</td>\n",
       "      <td>28971683.0</td>\n",
       "      <td>América del Sur</td>\n",
       "    </tr>\n",
       "    <tr>\n",
       "      <th>1581</th>\n",
       "      <td>Venezuela</td>\n",
       "      <td>2020</td>\n",
       "      <td>3339366.0</td>\n",
       "      <td>25151087.0</td>\n",
       "      <td>14113760.0</td>\n",
       "      <td>14376694.0</td>\n",
       "      <td>28490453.0</td>\n",
       "      <td>América del Sur</td>\n",
       "    </tr>\n",
       "    <tr>\n",
       "      <th>1582</th>\n",
       "      <td>Venezuela</td>\n",
       "      <td>2021</td>\n",
       "      <td>3292334.0</td>\n",
       "      <td>24907533.0</td>\n",
       "      <td>13956811.0</td>\n",
       "      <td>14243056.0</td>\n",
       "      <td>28199867.0</td>\n",
       "      <td>América del Sur</td>\n",
       "    </tr>\n",
       "    <tr>\n",
       "      <th>1583</th>\n",
       "      <td>Venezuela</td>\n",
       "      <td>2022</td>\n",
       "      <td>3289223.0</td>\n",
       "      <td>25012473.0</td>\n",
       "      <td>13996791.0</td>\n",
       "      <td>14304904.0</td>\n",
       "      <td>28301696.0</td>\n",
       "      <td>América del Sur</td>\n",
       "    </tr>\n",
       "  </tbody>\n",
       "</table>\n",
       "<p>220 rows × 8 columns</p>\n",
       "</div>"
      ],
      "text/plain": [
       "serie Name   país Name   Año  Población rural  Población urbana   \n",
       "31          Afganistán  2018       27333488.0         9353296.0  \\\n",
       "32          Afganistán  2019       28042342.0         9727157.0   \n",
       "33          Afganistán  2020       28829317.0        10142913.0   \n",
       "34          Afganistán  2021       29547690.0        10551772.0   \n",
       "35          Afganistán  2022       30181937.0        10946834.0   \n",
       "...                ...   ...              ...               ...   \n",
       "1579         Venezuela  2018        3517041.0        26308612.0   \n",
       "1580         Venezuela  2019        3407070.0        25564613.0   \n",
       "1581         Venezuela  2020        3339366.0        25151087.0   \n",
       "1582         Venezuela  2021        3292334.0        24907533.0   \n",
       "1583         Venezuela  2022        3289223.0        25012473.0   \n",
       "\n",
       "serie Name  Población, hombres  Población, mujeres  Población, total   \n",
       "31                  18549862.0          18136922.0        36686784.0  \\\n",
       "32                  19090409.0          18679089.0        37769499.0   \n",
       "33                  19692301.0          19279930.0        38972230.0   \n",
       "34                  20254878.0          19844584.0        40099462.0   \n",
       "35                  20766442.0          20362329.0        41128771.0   \n",
       "...                        ...                 ...               ...   \n",
       "1579                14804135.0          15021517.0        29825653.0   \n",
       "1580                14365872.0          14605811.0        28971683.0   \n",
       "1581                14113760.0          14376694.0        28490453.0   \n",
       "1582                13956811.0          14243056.0        28199867.0   \n",
       "1583                13996791.0          14304904.0        28301696.0   \n",
       "\n",
       "serie Name       Continente  \n",
       "31                     Asia  \n",
       "32                     Asia  \n",
       "33                     Asia  \n",
       "34                     Asia  \n",
       "35                     Asia  \n",
       "...                     ...  \n",
       "1579        América del Sur  \n",
       "1580        América del Sur  \n",
       "1581        América del Sur  \n",
       "1582        América del Sur  \n",
       "1583        América del Sur  \n",
       "\n",
       "[220 rows x 8 columns]"
      ]
     },
     "execution_count": 22,
     "metadata": {},
     "output_type": "execute_result"
    }
   ],
   "source": [
    "df_pivote_años = df_pivoted[df_pivoted[\"Año\"].isin([\"2022\",\"2021\",\"2020\",\"2019\", \"2018\"])]\n",
    "df_pivote_años"
   ]
  },
  {
   "cell_type": "code",
   "execution_count": 23,
   "metadata": {},
   "outputs": [
    {
     "data": {
      "text/html": [
       "<div>\n",
       "<style scoped>\n",
       "    .dataframe tbody tr th:only-of-type {\n",
       "        vertical-align: middle;\n",
       "    }\n",
       "\n",
       "    .dataframe tbody tr th {\n",
       "        vertical-align: top;\n",
       "    }\n",
       "\n",
       "    .dataframe thead th {\n",
       "        text-align: right;\n",
       "    }\n",
       "</style>\n",
       "<table border=\"1\" class=\"dataframe\">\n",
       "  <thead>\n",
       "    <tr style=\"text-align: right;\">\n",
       "      <th>serie Name</th>\n",
       "      <th>Población urbana</th>\n",
       "    </tr>\n",
       "    <tr>\n",
       "      <th>país Name</th>\n",
       "      <th></th>\n",
       "    </tr>\n",
       "  </thead>\n",
       "  <tbody>\n",
       "    <tr>\n",
       "      <th>China</th>\n",
       "      <td>865205374.2</td>\n",
       "    </tr>\n",
       "    <tr>\n",
       "      <th>India</th>\n",
       "      <td>487381562.2</td>\n",
       "    </tr>\n",
       "    <tr>\n",
       "      <th>Estados Unidos</th>\n",
       "      <td>273139089.0</td>\n",
       "    </tr>\n",
       "    <tr>\n",
       "      <th>Brasil</th>\n",
       "      <td>185422972.4</td>\n",
       "    </tr>\n",
       "    <tr>\n",
       "      <th>Japón</th>\n",
       "      <td>115740511.6</td>\n",
       "    </tr>\n",
       "    <tr>\n",
       "      <th>Rusia</th>\n",
       "      <td>107657581.4</td>\n",
       "    </tr>\n",
       "    <tr>\n",
       "      <th>México</th>\n",
       "      <td>101612031.2</td>\n",
       "    </tr>\n",
       "    <tr>\n",
       "      <th>Alemania</th>\n",
       "      <td>64520115.2</td>\n",
       "    </tr>\n",
       "    <tr>\n",
       "      <th>Reino Unido</th>\n",
       "      <td>56109238.6</td>\n",
       "    </tr>\n",
       "    <tr>\n",
       "      <th>Egipto</th>\n",
       "      <td>45986039.0</td>\n",
       "    </tr>\n",
       "  </tbody>\n",
       "</table>\n",
       "</div>"
      ],
      "text/plain": [
       "serie Name      Población urbana\n",
       "país Name                       \n",
       "China                865205374.2\n",
       "India                487381562.2\n",
       "Estados Unidos       273139089.0\n",
       "Brasil               185422972.4\n",
       "Japón                115740511.6\n",
       "Rusia                107657581.4\n",
       "México               101612031.2\n",
       "Alemania              64520115.2\n",
       "Reino Unido           56109238.6\n",
       "Egipto                45986039.0"
      ]
     },
     "execution_count": 23,
     "metadata": {},
     "output_type": "execute_result"
    }
   ],
   "source": [
    "top_paises = df_pivote_años[[\"país Name\", \"Población urbana\"]].groupby(\"país Name\").mean().sort_values(\"Población urbana\", ascending=False).head(10)\n",
    "top_paises"
   ]
  },
  {
   "cell_type": "code",
   "execution_count": 24,
   "metadata": {},
   "outputs": [
    {
     "data": {
      "application/vnd.plotly.v1+json": {
       "config": {
        "plotlyServerURL": "https://plot.ly"
       },
       "data": [
        {
         "alignmentgroup": "True",
         "hovertemplate": "país Name=%{x}<br>Población urbana=%{y}<extra></extra>",
         "legendgroup": "",
         "marker": {
          "color": "#636efa",
          "pattern": {
           "shape": ""
          }
         },
         "name": "",
         "offsetgroup": "",
         "orientation": "v",
         "showlegend": false,
         "textposition": "auto",
         "type": "bar",
         "x": [
          "China",
          "India",
          "Estados Unidos",
          "Brasil",
          "Japón",
          "Rusia",
          "México",
          "Alemania",
          "Reino Unido",
          "Egipto"
         ],
         "xaxis": "x",
         "y": [
          865205374.2,
          487381562.2,
          273139089,
          185422972.4,
          115740511.6,
          107657581.4,
          101612031.2,
          64520115.2,
          56109238.6,
          45986039
         ],
         "yaxis": "y"
        }
       ],
       "layout": {
        "barmode": "relative",
        "legend": {
         "tracegroupgap": 0
        },
        "template": {
         "data": {
          "bar": [
           {
            "error_x": {
             "color": "#2a3f5f"
            },
            "error_y": {
             "color": "#2a3f5f"
            },
            "marker": {
             "line": {
              "color": "#E5ECF6",
              "width": 0.5
             },
             "pattern": {
              "fillmode": "overlay",
              "size": 10,
              "solidity": 0.2
             }
            },
            "type": "bar"
           }
          ],
          "barpolar": [
           {
            "marker": {
             "line": {
              "color": "#E5ECF6",
              "width": 0.5
             },
             "pattern": {
              "fillmode": "overlay",
              "size": 10,
              "solidity": 0.2
             }
            },
            "type": "barpolar"
           }
          ],
          "carpet": [
           {
            "aaxis": {
             "endlinecolor": "#2a3f5f",
             "gridcolor": "white",
             "linecolor": "white",
             "minorgridcolor": "white",
             "startlinecolor": "#2a3f5f"
            },
            "baxis": {
             "endlinecolor": "#2a3f5f",
             "gridcolor": "white",
             "linecolor": "white",
             "minorgridcolor": "white",
             "startlinecolor": "#2a3f5f"
            },
            "type": "carpet"
           }
          ],
          "choropleth": [
           {
            "colorbar": {
             "outlinewidth": 0,
             "ticks": ""
            },
            "type": "choropleth"
           }
          ],
          "contour": [
           {
            "colorbar": {
             "outlinewidth": 0,
             "ticks": ""
            },
            "colorscale": [
             [
              0,
              "#0d0887"
             ],
             [
              0.1111111111111111,
              "#46039f"
             ],
             [
              0.2222222222222222,
              "#7201a8"
             ],
             [
              0.3333333333333333,
              "#9c179e"
             ],
             [
              0.4444444444444444,
              "#bd3786"
             ],
             [
              0.5555555555555556,
              "#d8576b"
             ],
             [
              0.6666666666666666,
              "#ed7953"
             ],
             [
              0.7777777777777778,
              "#fb9f3a"
             ],
             [
              0.8888888888888888,
              "#fdca26"
             ],
             [
              1,
              "#f0f921"
             ]
            ],
            "type": "contour"
           }
          ],
          "contourcarpet": [
           {
            "colorbar": {
             "outlinewidth": 0,
             "ticks": ""
            },
            "type": "contourcarpet"
           }
          ],
          "heatmap": [
           {
            "colorbar": {
             "outlinewidth": 0,
             "ticks": ""
            },
            "colorscale": [
             [
              0,
              "#0d0887"
             ],
             [
              0.1111111111111111,
              "#46039f"
             ],
             [
              0.2222222222222222,
              "#7201a8"
             ],
             [
              0.3333333333333333,
              "#9c179e"
             ],
             [
              0.4444444444444444,
              "#bd3786"
             ],
             [
              0.5555555555555556,
              "#d8576b"
             ],
             [
              0.6666666666666666,
              "#ed7953"
             ],
             [
              0.7777777777777778,
              "#fb9f3a"
             ],
             [
              0.8888888888888888,
              "#fdca26"
             ],
             [
              1,
              "#f0f921"
             ]
            ],
            "type": "heatmap"
           }
          ],
          "heatmapgl": [
           {
            "colorbar": {
             "outlinewidth": 0,
             "ticks": ""
            },
            "colorscale": [
             [
              0,
              "#0d0887"
             ],
             [
              0.1111111111111111,
              "#46039f"
             ],
             [
              0.2222222222222222,
              "#7201a8"
             ],
             [
              0.3333333333333333,
              "#9c179e"
             ],
             [
              0.4444444444444444,
              "#bd3786"
             ],
             [
              0.5555555555555556,
              "#d8576b"
             ],
             [
              0.6666666666666666,
              "#ed7953"
             ],
             [
              0.7777777777777778,
              "#fb9f3a"
             ],
             [
              0.8888888888888888,
              "#fdca26"
             ],
             [
              1,
              "#f0f921"
             ]
            ],
            "type": "heatmapgl"
           }
          ],
          "histogram": [
           {
            "marker": {
             "pattern": {
              "fillmode": "overlay",
              "size": 10,
              "solidity": 0.2
             }
            },
            "type": "histogram"
           }
          ],
          "histogram2d": [
           {
            "colorbar": {
             "outlinewidth": 0,
             "ticks": ""
            },
            "colorscale": [
             [
              0,
              "#0d0887"
             ],
             [
              0.1111111111111111,
              "#46039f"
             ],
             [
              0.2222222222222222,
              "#7201a8"
             ],
             [
              0.3333333333333333,
              "#9c179e"
             ],
             [
              0.4444444444444444,
              "#bd3786"
             ],
             [
              0.5555555555555556,
              "#d8576b"
             ],
             [
              0.6666666666666666,
              "#ed7953"
             ],
             [
              0.7777777777777778,
              "#fb9f3a"
             ],
             [
              0.8888888888888888,
              "#fdca26"
             ],
             [
              1,
              "#f0f921"
             ]
            ],
            "type": "histogram2d"
           }
          ],
          "histogram2dcontour": [
           {
            "colorbar": {
             "outlinewidth": 0,
             "ticks": ""
            },
            "colorscale": [
             [
              0,
              "#0d0887"
             ],
             [
              0.1111111111111111,
              "#46039f"
             ],
             [
              0.2222222222222222,
              "#7201a8"
             ],
             [
              0.3333333333333333,
              "#9c179e"
             ],
             [
              0.4444444444444444,
              "#bd3786"
             ],
             [
              0.5555555555555556,
              "#d8576b"
             ],
             [
              0.6666666666666666,
              "#ed7953"
             ],
             [
              0.7777777777777778,
              "#fb9f3a"
             ],
             [
              0.8888888888888888,
              "#fdca26"
             ],
             [
              1,
              "#f0f921"
             ]
            ],
            "type": "histogram2dcontour"
           }
          ],
          "mesh3d": [
           {
            "colorbar": {
             "outlinewidth": 0,
             "ticks": ""
            },
            "type": "mesh3d"
           }
          ],
          "parcoords": [
           {
            "line": {
             "colorbar": {
              "outlinewidth": 0,
              "ticks": ""
             }
            },
            "type": "parcoords"
           }
          ],
          "pie": [
           {
            "automargin": true,
            "type": "pie"
           }
          ],
          "scatter": [
           {
            "fillpattern": {
             "fillmode": "overlay",
             "size": 10,
             "solidity": 0.2
            },
            "type": "scatter"
           }
          ],
          "scatter3d": [
           {
            "line": {
             "colorbar": {
              "outlinewidth": 0,
              "ticks": ""
             }
            },
            "marker": {
             "colorbar": {
              "outlinewidth": 0,
              "ticks": ""
             }
            },
            "type": "scatter3d"
           }
          ],
          "scattercarpet": [
           {
            "marker": {
             "colorbar": {
              "outlinewidth": 0,
              "ticks": ""
             }
            },
            "type": "scattercarpet"
           }
          ],
          "scattergeo": [
           {
            "marker": {
             "colorbar": {
              "outlinewidth": 0,
              "ticks": ""
             }
            },
            "type": "scattergeo"
           }
          ],
          "scattergl": [
           {
            "marker": {
             "colorbar": {
              "outlinewidth": 0,
              "ticks": ""
             }
            },
            "type": "scattergl"
           }
          ],
          "scattermapbox": [
           {
            "marker": {
             "colorbar": {
              "outlinewidth": 0,
              "ticks": ""
             }
            },
            "type": "scattermapbox"
           }
          ],
          "scatterpolar": [
           {
            "marker": {
             "colorbar": {
              "outlinewidth": 0,
              "ticks": ""
             }
            },
            "type": "scatterpolar"
           }
          ],
          "scatterpolargl": [
           {
            "marker": {
             "colorbar": {
              "outlinewidth": 0,
              "ticks": ""
             }
            },
            "type": "scatterpolargl"
           }
          ],
          "scatterternary": [
           {
            "marker": {
             "colorbar": {
              "outlinewidth": 0,
              "ticks": ""
             }
            },
            "type": "scatterternary"
           }
          ],
          "surface": [
           {
            "colorbar": {
             "outlinewidth": 0,
             "ticks": ""
            },
            "colorscale": [
             [
              0,
              "#0d0887"
             ],
             [
              0.1111111111111111,
              "#46039f"
             ],
             [
              0.2222222222222222,
              "#7201a8"
             ],
             [
              0.3333333333333333,
              "#9c179e"
             ],
             [
              0.4444444444444444,
              "#bd3786"
             ],
             [
              0.5555555555555556,
              "#d8576b"
             ],
             [
              0.6666666666666666,
              "#ed7953"
             ],
             [
              0.7777777777777778,
              "#fb9f3a"
             ],
             [
              0.8888888888888888,
              "#fdca26"
             ],
             [
              1,
              "#f0f921"
             ]
            ],
            "type": "surface"
           }
          ],
          "table": [
           {
            "cells": {
             "fill": {
              "color": "#EBF0F8"
             },
             "line": {
              "color": "white"
             }
            },
            "header": {
             "fill": {
              "color": "#C8D4E3"
             },
             "line": {
              "color": "white"
             }
            },
            "type": "table"
           }
          ]
         },
         "layout": {
          "annotationdefaults": {
           "arrowcolor": "#2a3f5f",
           "arrowhead": 0,
           "arrowwidth": 1
          },
          "autotypenumbers": "strict",
          "coloraxis": {
           "colorbar": {
            "outlinewidth": 0,
            "ticks": ""
           }
          },
          "colorscale": {
           "diverging": [
            [
             0,
             "#8e0152"
            ],
            [
             0.1,
             "#c51b7d"
            ],
            [
             0.2,
             "#de77ae"
            ],
            [
             0.3,
             "#f1b6da"
            ],
            [
             0.4,
             "#fde0ef"
            ],
            [
             0.5,
             "#f7f7f7"
            ],
            [
             0.6,
             "#e6f5d0"
            ],
            [
             0.7,
             "#b8e186"
            ],
            [
             0.8,
             "#7fbc41"
            ],
            [
             0.9,
             "#4d9221"
            ],
            [
             1,
             "#276419"
            ]
           ],
           "sequential": [
            [
             0,
             "#0d0887"
            ],
            [
             0.1111111111111111,
             "#46039f"
            ],
            [
             0.2222222222222222,
             "#7201a8"
            ],
            [
             0.3333333333333333,
             "#9c179e"
            ],
            [
             0.4444444444444444,
             "#bd3786"
            ],
            [
             0.5555555555555556,
             "#d8576b"
            ],
            [
             0.6666666666666666,
             "#ed7953"
            ],
            [
             0.7777777777777778,
             "#fb9f3a"
            ],
            [
             0.8888888888888888,
             "#fdca26"
            ],
            [
             1,
             "#f0f921"
            ]
           ],
           "sequentialminus": [
            [
             0,
             "#0d0887"
            ],
            [
             0.1111111111111111,
             "#46039f"
            ],
            [
             0.2222222222222222,
             "#7201a8"
            ],
            [
             0.3333333333333333,
             "#9c179e"
            ],
            [
             0.4444444444444444,
             "#bd3786"
            ],
            [
             0.5555555555555556,
             "#d8576b"
            ],
            [
             0.6666666666666666,
             "#ed7953"
            ],
            [
             0.7777777777777778,
             "#fb9f3a"
            ],
            [
             0.8888888888888888,
             "#fdca26"
            ],
            [
             1,
             "#f0f921"
            ]
           ]
          },
          "colorway": [
           "#636efa",
           "#EF553B",
           "#00cc96",
           "#ab63fa",
           "#FFA15A",
           "#19d3f3",
           "#FF6692",
           "#B6E880",
           "#FF97FF",
           "#FECB52"
          ],
          "font": {
           "color": "#2a3f5f"
          },
          "geo": {
           "bgcolor": "white",
           "lakecolor": "white",
           "landcolor": "#E5ECF6",
           "showlakes": true,
           "showland": true,
           "subunitcolor": "white"
          },
          "hoverlabel": {
           "align": "left"
          },
          "hovermode": "closest",
          "mapbox": {
           "style": "light"
          },
          "paper_bgcolor": "white",
          "plot_bgcolor": "#E5ECF6",
          "polar": {
           "angularaxis": {
            "gridcolor": "white",
            "linecolor": "white",
            "ticks": ""
           },
           "bgcolor": "#E5ECF6",
           "radialaxis": {
            "gridcolor": "white",
            "linecolor": "white",
            "ticks": ""
           }
          },
          "scene": {
           "xaxis": {
            "backgroundcolor": "#E5ECF6",
            "gridcolor": "white",
            "gridwidth": 2,
            "linecolor": "white",
            "showbackground": true,
            "ticks": "",
            "zerolinecolor": "white"
           },
           "yaxis": {
            "backgroundcolor": "#E5ECF6",
            "gridcolor": "white",
            "gridwidth": 2,
            "linecolor": "white",
            "showbackground": true,
            "ticks": "",
            "zerolinecolor": "white"
           },
           "zaxis": {
            "backgroundcolor": "#E5ECF6",
            "gridcolor": "white",
            "gridwidth": 2,
            "linecolor": "white",
            "showbackground": true,
            "ticks": "",
            "zerolinecolor": "white"
           }
          },
          "shapedefaults": {
           "line": {
            "color": "#2a3f5f"
           }
          },
          "ternary": {
           "aaxis": {
            "gridcolor": "white",
            "linecolor": "white",
            "ticks": ""
           },
           "baxis": {
            "gridcolor": "white",
            "linecolor": "white",
            "ticks": ""
           },
           "bgcolor": "#E5ECF6",
           "caxis": {
            "gridcolor": "white",
            "linecolor": "white",
            "ticks": ""
           }
          },
          "title": {
           "x": 0.05
          },
          "xaxis": {
           "automargin": true,
           "gridcolor": "white",
           "linecolor": "white",
           "ticks": "",
           "title": {
            "standoff": 15
           },
           "zerolinecolor": "white",
           "zerolinewidth": 2
          },
          "yaxis": {
           "automargin": true,
           "gridcolor": "white",
           "linecolor": "white",
           "ticks": "",
           "title": {
            "standoff": 15
           },
           "zerolinecolor": "white",
           "zerolinewidth": 2
          }
         }
        },
        "title": {
         "text": "TOP 10 países con mayor Población urbana en promedio (2018-2022)"
        },
        "xaxis": {
         "anchor": "y",
         "domain": [
          0,
          1
         ],
         "title": {
          "text": ""
         }
        },
        "yaxis": {
         "anchor": "x",
         "domain": [
          0,
          1
         ],
         "title": {
          "text": "Población urbana"
         }
        }
       }
      }
     },
     "metadata": {},
     "output_type": "display_data"
    }
   ],
   "source": [
    "fig = px.bar(top_paises, title=\"TOP 10 países con mayor Población urbana en promedio (2018-2022)\", y=\"Población urbana\")\n",
    "fig.update_xaxes(title_text=\"\")\n",
    "fig.show()"
   ]
  },
  {
   "cell_type": "code",
   "execution_count": 25,
   "metadata": {},
   "outputs": [],
   "source": [
    "df_pivoted.to_csv(\"Data_preparada/Data_Población_Zona_Genero.csv\", index=False)"
   ]
  }
 ],
 "metadata": {
  "kernelspec": {
   "display_name": "Python 3",
   "language": "python",
   "name": "python3"
  },
  "language_info": {
   "codemirror_mode": {
    "name": "ipython",
    "version": 3
   },
   "file_extension": ".py",
   "mimetype": "text/x-python",
   "name": "python",
   "nbconvert_exporter": "python",
   "pygments_lexer": "ipython3",
   "version": "3.11.2"
  }
 },
 "nbformat": 4,
 "nbformat_minor": 2
}
