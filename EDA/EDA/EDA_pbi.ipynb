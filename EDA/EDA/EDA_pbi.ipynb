{
 "cells": [
  {
   "cell_type": "code",
   "execution_count": 126,
   "metadata": {},
   "outputs": [],
   "source": [
    "import pandas as pd\n",
    "import plotly.express as px"
   ]
  },
  {
   "cell_type": "code",
   "execution_count": 127,
   "metadata": {},
   "outputs": [
    {
     "data": {
      "text/html": [
       "<div>\n",
       "<style scoped>\n",
       "    .dataframe tbody tr th:only-of-type {\n",
       "        vertical-align: middle;\n",
       "    }\n",
       "\n",
       "    .dataframe tbody tr th {\n",
       "        vertical-align: top;\n",
       "    }\n",
       "\n",
       "    .dataframe thead th {\n",
       "        text-align: right;\n",
       "    }\n",
       "</style>\n",
       "<table border=\"1\" class=\"dataframe\">\n",
       "  <thead>\n",
       "    <tr style=\"text-align: right;\">\n",
       "      <th></th>\n",
       "      <th>país Name</th>\n",
       "      <th>país Code</th>\n",
       "      <th>serie Name</th>\n",
       "      <th>serie Code</th>\n",
       "      <th>1987 [YR1987]</th>\n",
       "      <th>1988 [YR1988]</th>\n",
       "      <th>1989 [YR1989]</th>\n",
       "      <th>1990 [YR1990]</th>\n",
       "      <th>1991 [YR1991]</th>\n",
       "      <th>1992 [YR1992]</th>\n",
       "      <th>...</th>\n",
       "      <th>2013 [YR2013]</th>\n",
       "      <th>2014 [YR2014]</th>\n",
       "      <th>2015 [YR2015]</th>\n",
       "      <th>2016 [YR2016]</th>\n",
       "      <th>2017 [YR2017]</th>\n",
       "      <th>2018 [YR2018]</th>\n",
       "      <th>2019 [YR2019]</th>\n",
       "      <th>2020 [YR2020]</th>\n",
       "      <th>2021 [YR2021]</th>\n",
       "      <th>2022 [YR2022]</th>\n",
       "    </tr>\n",
       "  </thead>\n",
       "  <tbody>\n",
       "    <tr>\n",
       "      <th>0</th>\n",
       "      <td>Afganistán</td>\n",
       "      <td>AFG</td>\n",
       "      <td>Crecimiento del PIB per cápita (% anual)</td>\n",
       "      <td>NY.GDP.PCAP.KD.ZG</td>\n",
       "      <td>..</td>\n",
       "      <td>..</td>\n",
       "      <td>..</td>\n",
       "      <td>..</td>\n",
       "      <td>..</td>\n",
       "      <td>..</td>\n",
       "      <td>...</td>\n",
       "      <td>2.002522</td>\n",
       "      <td>-0.964803</td>\n",
       "      <td>-1.666416</td>\n",
       "      <td>-0.345802</td>\n",
       "      <td>-0.253594</td>\n",
       "      <td>-1.688577</td>\n",
       "      <td>0.932833</td>\n",
       "      <td>-5.364666</td>\n",
       "      <td>-22.929194</td>\n",
       "      <td>..</td>\n",
       "    </tr>\n",
       "    <tr>\n",
       "      <th>1</th>\n",
       "      <td>Afganistán</td>\n",
       "      <td>AFG</td>\n",
       "      <td>PIB per cápita (US$ a precios actuales)</td>\n",
       "      <td>NY.GDP.PCAP.CD</td>\n",
       "      <td>..</td>\n",
       "      <td>..</td>\n",
       "      <td>..</td>\n",
       "      <td>..</td>\n",
       "      <td>..</td>\n",
       "      <td>..</td>\n",
       "      <td>...</td>\n",
       "      <td>651.987862</td>\n",
       "      <td>628.146804</td>\n",
       "      <td>592.476165</td>\n",
       "      <td>520.251955</td>\n",
       "      <td>530.149863</td>\n",
       "      <td>502.057099</td>\n",
       "      <td>500.522981</td>\n",
       "      <td>516.866797</td>\n",
       "      <td>363.674087</td>\n",
       "      <td>..</td>\n",
       "    </tr>\n",
       "    <tr>\n",
       "      <th>2</th>\n",
       "      <td>Alemania</td>\n",
       "      <td>DEU</td>\n",
       "      <td>Crecimiento del PIB per cápita (% anual)</td>\n",
       "      <td>NY.GDP.PCAP.KD.ZG</td>\n",
       "      <td>1.2465</td>\n",
       "      <td>3.302864</td>\n",
       "      <td>3.09618</td>\n",
       "      <td>4.351639</td>\n",
       "      <td>4.34522</td>\n",
       "      <td>1.151046</td>\n",
       "      <td>...</td>\n",
       "      <td>0.163871</td>\n",
       "      <td>1.784342</td>\n",
       "      <td>0.617105</td>\n",
       "      <td>1.408102</td>\n",
       "      <td>2.297206</td>\n",
       "      <td>0.678213</td>\n",
       "      <td>0.828958</td>\n",
       "      <td>-3.77543</td>\n",
       "      <td>2.583557</td>\n",
       "      <td>0.71538</td>\n",
       "    </tr>\n",
       "    <tr>\n",
       "      <th>3</th>\n",
       "      <td>Alemania</td>\n",
       "      <td>DEU</td>\n",
       "      <td>PIB per cápita (US$ a precios actuales)</td>\n",
       "      <td>NY.GDP.PCAP.CD</td>\n",
       "      <td>16677.510788</td>\n",
       "      <td>17931.282323</td>\n",
       "      <td>17764.376446</td>\n",
       "      <td>22303.961327</td>\n",
       "      <td>23357.757725</td>\n",
       "      <td>26438.230389</td>\n",
       "      <td>...</td>\n",
       "      <td>46298.922918</td>\n",
       "      <td>48023.869985</td>\n",
       "      <td>41103.256436</td>\n",
       "      <td>42136.120791</td>\n",
       "      <td>44652.589172</td>\n",
       "      <td>47939.278288</td>\n",
       "      <td>46793.686762</td>\n",
       "      <td>46772.825351</td>\n",
       "      <td>51203.554473</td>\n",
       "      <td>48432.455873</td>\n",
       "    </tr>\n",
       "    <tr>\n",
       "      <th>4</th>\n",
       "      <td>Argelia</td>\n",
       "      <td>DZA</td>\n",
       "      <td>Crecimiento del PIB per cápita (% anual)</td>\n",
       "      <td>NY.GDP.PCAP.KD.ZG</td>\n",
       "      <td>-3.66201</td>\n",
       "      <td>-3.682624</td>\n",
       "      <td>1.688279</td>\n",
       "      <td>-1.682928</td>\n",
       "      <td>-3.528168</td>\n",
       "      <td>-0.538304</td>\n",
       "      <td>...</td>\n",
       "      <td>0.797968</td>\n",
       "      <td>1.765941</td>\n",
       "      <td>1.646657</td>\n",
       "      <td>1.163148</td>\n",
       "      <td>-0.663171</td>\n",
       "      <td>-0.70795</td>\n",
       "      <td>-0.840857</td>\n",
       "      <td>-6.729942</td>\n",
       "      <td>1.700064</td>\n",
       "      <td>1.434777</td>\n",
       "    </tr>\n",
       "    <tr>\n",
       "      <th>...</th>\n",
       "      <td>...</td>\n",
       "      <td>...</td>\n",
       "      <td>...</td>\n",
       "      <td>...</td>\n",
       "      <td>...</td>\n",
       "      <td>...</td>\n",
       "      <td>...</td>\n",
       "      <td>...</td>\n",
       "      <td>...</td>\n",
       "      <td>...</td>\n",
       "      <td>...</td>\n",
       "      <td>...</td>\n",
       "      <td>...</td>\n",
       "      <td>...</td>\n",
       "      <td>...</td>\n",
       "      <td>...</td>\n",
       "      <td>...</td>\n",
       "      <td>...</td>\n",
       "      <td>...</td>\n",
       "      <td>...</td>\n",
       "      <td>...</td>\n",
       "    </tr>\n",
       "    <tr>\n",
       "      <th>88</th>\n",
       "      <td>NaN</td>\n",
       "      <td>NaN</td>\n",
       "      <td>NaN</td>\n",
       "      <td>NaN</td>\n",
       "      <td>NaN</td>\n",
       "      <td>NaN</td>\n",
       "      <td>NaN</td>\n",
       "      <td>NaN</td>\n",
       "      <td>NaN</td>\n",
       "      <td>NaN</td>\n",
       "      <td>...</td>\n",
       "      <td>NaN</td>\n",
       "      <td>NaN</td>\n",
       "      <td>NaN</td>\n",
       "      <td>NaN</td>\n",
       "      <td>NaN</td>\n",
       "      <td>NaN</td>\n",
       "      <td>NaN</td>\n",
       "      <td>NaN</td>\n",
       "      <td>NaN</td>\n",
       "      <td>NaN</td>\n",
       "    </tr>\n",
       "    <tr>\n",
       "      <th>89</th>\n",
       "      <td>NaN</td>\n",
       "      <td>NaN</td>\n",
       "      <td>NaN</td>\n",
       "      <td>NaN</td>\n",
       "      <td>NaN</td>\n",
       "      <td>NaN</td>\n",
       "      <td>NaN</td>\n",
       "      <td>NaN</td>\n",
       "      <td>NaN</td>\n",
       "      <td>NaN</td>\n",
       "      <td>...</td>\n",
       "      <td>NaN</td>\n",
       "      <td>NaN</td>\n",
       "      <td>NaN</td>\n",
       "      <td>NaN</td>\n",
       "      <td>NaN</td>\n",
       "      <td>NaN</td>\n",
       "      <td>NaN</td>\n",
       "      <td>NaN</td>\n",
       "      <td>NaN</td>\n",
       "      <td>NaN</td>\n",
       "    </tr>\n",
       "    <tr>\n",
       "      <th>90</th>\n",
       "      <td>NaN</td>\n",
       "      <td>NaN</td>\n",
       "      <td>NaN</td>\n",
       "      <td>NaN</td>\n",
       "      <td>NaN</td>\n",
       "      <td>NaN</td>\n",
       "      <td>NaN</td>\n",
       "      <td>NaN</td>\n",
       "      <td>NaN</td>\n",
       "      <td>NaN</td>\n",
       "      <td>...</td>\n",
       "      <td>NaN</td>\n",
       "      <td>NaN</td>\n",
       "      <td>NaN</td>\n",
       "      <td>NaN</td>\n",
       "      <td>NaN</td>\n",
       "      <td>NaN</td>\n",
       "      <td>NaN</td>\n",
       "      <td>NaN</td>\n",
       "      <td>NaN</td>\n",
       "      <td>NaN</td>\n",
       "    </tr>\n",
       "    <tr>\n",
       "      <th>91</th>\n",
       "      <td>Data from Database: Indicadores del desarrollo...</td>\n",
       "      <td>NaN</td>\n",
       "      <td>NaN</td>\n",
       "      <td>NaN</td>\n",
       "      <td>NaN</td>\n",
       "      <td>NaN</td>\n",
       "      <td>NaN</td>\n",
       "      <td>NaN</td>\n",
       "      <td>NaN</td>\n",
       "      <td>NaN</td>\n",
       "      <td>...</td>\n",
       "      <td>NaN</td>\n",
       "      <td>NaN</td>\n",
       "      <td>NaN</td>\n",
       "      <td>NaN</td>\n",
       "      <td>NaN</td>\n",
       "      <td>NaN</td>\n",
       "      <td>NaN</td>\n",
       "      <td>NaN</td>\n",
       "      <td>NaN</td>\n",
       "      <td>NaN</td>\n",
       "    </tr>\n",
       "    <tr>\n",
       "      <th>92</th>\n",
       "      <td>Last Updated: 10/26/2023</td>\n",
       "      <td>NaN</td>\n",
       "      <td>NaN</td>\n",
       "      <td>NaN</td>\n",
       "      <td>NaN</td>\n",
       "      <td>NaN</td>\n",
       "      <td>NaN</td>\n",
       "      <td>NaN</td>\n",
       "      <td>NaN</td>\n",
       "      <td>NaN</td>\n",
       "      <td>...</td>\n",
       "      <td>NaN</td>\n",
       "      <td>NaN</td>\n",
       "      <td>NaN</td>\n",
       "      <td>NaN</td>\n",
       "      <td>NaN</td>\n",
       "      <td>NaN</td>\n",
       "      <td>NaN</td>\n",
       "      <td>NaN</td>\n",
       "      <td>NaN</td>\n",
       "      <td>NaN</td>\n",
       "    </tr>\n",
       "  </tbody>\n",
       "</table>\n",
       "<p>93 rows × 40 columns</p>\n",
       "</div>"
      ],
      "text/plain": [
       "                                            país Name país Code   \n",
       "0                                          Afganistán       AFG  \\\n",
       "1                                          Afganistán       AFG   \n",
       "2                                            Alemania       DEU   \n",
       "3                                            Alemania       DEU   \n",
       "4                                             Argelia       DZA   \n",
       "..                                                ...       ...   \n",
       "88                                                NaN       NaN   \n",
       "89                                                NaN       NaN   \n",
       "90                                                NaN       NaN   \n",
       "91  Data from Database: Indicadores del desarrollo...       NaN   \n",
       "92                           Last Updated: 10/26/2023       NaN   \n",
       "\n",
       "                                  serie Name         serie Code 1987 [YR1987]   \n",
       "0   Crecimiento del PIB per cápita (% anual)  NY.GDP.PCAP.KD.ZG            ..  \\\n",
       "1    PIB per cápita (US$ a precios actuales)     NY.GDP.PCAP.CD            ..   \n",
       "2   Crecimiento del PIB per cápita (% anual)  NY.GDP.PCAP.KD.ZG        1.2465   \n",
       "3    PIB per cápita (US$ a precios actuales)     NY.GDP.PCAP.CD  16677.510788   \n",
       "4   Crecimiento del PIB per cápita (% anual)  NY.GDP.PCAP.KD.ZG      -3.66201   \n",
       "..                                       ...                ...           ...   \n",
       "88                                       NaN                NaN           NaN   \n",
       "89                                       NaN                NaN           NaN   \n",
       "90                                       NaN                NaN           NaN   \n",
       "91                                       NaN                NaN           NaN   \n",
       "92                                       NaN                NaN           NaN   \n",
       "\n",
       "   1988 [YR1988] 1989 [YR1989] 1990 [YR1990] 1991 [YR1991] 1992 [YR1992]  ...   \n",
       "0             ..            ..            ..            ..            ..  ...  \\\n",
       "1             ..            ..            ..            ..            ..  ...   \n",
       "2       3.302864       3.09618      4.351639       4.34522      1.151046  ...   \n",
       "3   17931.282323  17764.376446  22303.961327  23357.757725  26438.230389  ...   \n",
       "4      -3.682624      1.688279     -1.682928     -3.528168     -0.538304  ...   \n",
       "..           ...           ...           ...           ...           ...  ...   \n",
       "88           NaN           NaN           NaN           NaN           NaN  ...   \n",
       "89           NaN           NaN           NaN           NaN           NaN  ...   \n",
       "90           NaN           NaN           NaN           NaN           NaN  ...   \n",
       "91           NaN           NaN           NaN           NaN           NaN  ...   \n",
       "92           NaN           NaN           NaN           NaN           NaN  ...   \n",
       "\n",
       "   2013 [YR2013] 2014 [YR2014] 2015 [YR2015] 2016 [YR2016] 2017 [YR2017]   \n",
       "0       2.002522     -0.964803     -1.666416     -0.345802     -0.253594  \\\n",
       "1     651.987862    628.146804    592.476165    520.251955    530.149863   \n",
       "2       0.163871      1.784342      0.617105      1.408102      2.297206   \n",
       "3   46298.922918  48023.869985  41103.256436  42136.120791  44652.589172   \n",
       "4       0.797968      1.765941      1.646657      1.163148     -0.663171   \n",
       "..           ...           ...           ...           ...           ...   \n",
       "88           NaN           NaN           NaN           NaN           NaN   \n",
       "89           NaN           NaN           NaN           NaN           NaN   \n",
       "90           NaN           NaN           NaN           NaN           NaN   \n",
       "91           NaN           NaN           NaN           NaN           NaN   \n",
       "92           NaN           NaN           NaN           NaN           NaN   \n",
       "\n",
       "   2018 [YR2018] 2019 [YR2019] 2020 [YR2020] 2021 [YR2021] 2022 [YR2022]  \n",
       "0      -1.688577      0.932833     -5.364666    -22.929194            ..  \n",
       "1     502.057099    500.522981    516.866797    363.674087            ..  \n",
       "2       0.678213      0.828958      -3.77543      2.583557       0.71538  \n",
       "3   47939.278288  46793.686762  46772.825351  51203.554473  48432.455873  \n",
       "4       -0.70795     -0.840857     -6.729942      1.700064      1.434777  \n",
       "..           ...           ...           ...           ...           ...  \n",
       "88           NaN           NaN           NaN           NaN           NaN  \n",
       "89           NaN           NaN           NaN           NaN           NaN  \n",
       "90           NaN           NaN           NaN           NaN           NaN  \n",
       "91           NaN           NaN           NaN           NaN           NaN  \n",
       "92           NaN           NaN           NaN           NaN           NaN  \n",
       "\n",
       "[93 rows x 40 columns]"
      ]
     },
     "execution_count": 127,
     "metadata": {},
     "output_type": "execute_result"
    }
   ],
   "source": [
    "df_pbi = pd.read_excel(\"../Data/Data_PBI.xlsx\")\n",
    "df_pbi"
   ]
  },
  {
   "cell_type": "code",
   "execution_count": 128,
   "metadata": {},
   "outputs": [
    {
     "data": {
      "text/html": [
       "<div>\n",
       "<style scoped>\n",
       "    .dataframe tbody tr th:only-of-type {\n",
       "        vertical-align: middle;\n",
       "    }\n",
       "\n",
       "    .dataframe tbody tr th {\n",
       "        vertical-align: top;\n",
       "    }\n",
       "\n",
       "    .dataframe thead th {\n",
       "        text-align: right;\n",
       "    }\n",
       "</style>\n",
       "<table border=\"1\" class=\"dataframe\">\n",
       "  <thead>\n",
       "    <tr style=\"text-align: right;\">\n",
       "      <th></th>\n",
       "      <th>país Name</th>\n",
       "      <th>país Code</th>\n",
       "      <th>serie Name</th>\n",
       "      <th>serie Code</th>\n",
       "      <th>1987 [YR1987]</th>\n",
       "      <th>1988 [YR1988]</th>\n",
       "      <th>1989 [YR1989]</th>\n",
       "      <th>1990 [YR1990]</th>\n",
       "      <th>1991 [YR1991]</th>\n",
       "      <th>1992 [YR1992]</th>\n",
       "      <th>...</th>\n",
       "      <th>2013 [YR2013]</th>\n",
       "      <th>2014 [YR2014]</th>\n",
       "      <th>2015 [YR2015]</th>\n",
       "      <th>2016 [YR2016]</th>\n",
       "      <th>2017 [YR2017]</th>\n",
       "      <th>2018 [YR2018]</th>\n",
       "      <th>2019 [YR2019]</th>\n",
       "      <th>2020 [YR2020]</th>\n",
       "      <th>2021 [YR2021]</th>\n",
       "      <th>2022 [YR2022]</th>\n",
       "    </tr>\n",
       "  </thead>\n",
       "  <tbody>\n",
       "    <tr>\n",
       "      <th>0</th>\n",
       "      <td>Afganistán</td>\n",
       "      <td>AFG</td>\n",
       "      <td>Crecimiento del PIB per cápita (% anual)</td>\n",
       "      <td>NY.GDP.PCAP.KD.ZG</td>\n",
       "      <td>..</td>\n",
       "      <td>..</td>\n",
       "      <td>..</td>\n",
       "      <td>..</td>\n",
       "      <td>..</td>\n",
       "      <td>..</td>\n",
       "      <td>...</td>\n",
       "      <td>2.002522</td>\n",
       "      <td>-0.964803</td>\n",
       "      <td>-1.666416</td>\n",
       "      <td>-0.345802</td>\n",
       "      <td>-0.253594</td>\n",
       "      <td>-1.688577</td>\n",
       "      <td>0.932833</td>\n",
       "      <td>-5.364666</td>\n",
       "      <td>-22.929194</td>\n",
       "      <td>..</td>\n",
       "    </tr>\n",
       "    <tr>\n",
       "      <th>1</th>\n",
       "      <td>Afganistán</td>\n",
       "      <td>AFG</td>\n",
       "      <td>PIB per cápita (US$ a precios actuales)</td>\n",
       "      <td>NY.GDP.PCAP.CD</td>\n",
       "      <td>..</td>\n",
       "      <td>..</td>\n",
       "      <td>..</td>\n",
       "      <td>..</td>\n",
       "      <td>..</td>\n",
       "      <td>..</td>\n",
       "      <td>...</td>\n",
       "      <td>651.987862</td>\n",
       "      <td>628.146804</td>\n",
       "      <td>592.476165</td>\n",
       "      <td>520.251955</td>\n",
       "      <td>530.149863</td>\n",
       "      <td>502.057099</td>\n",
       "      <td>500.522981</td>\n",
       "      <td>516.866797</td>\n",
       "      <td>363.674087</td>\n",
       "      <td>..</td>\n",
       "    </tr>\n",
       "    <tr>\n",
       "      <th>2</th>\n",
       "      <td>Alemania</td>\n",
       "      <td>DEU</td>\n",
       "      <td>Crecimiento del PIB per cápita (% anual)</td>\n",
       "      <td>NY.GDP.PCAP.KD.ZG</td>\n",
       "      <td>1.2465</td>\n",
       "      <td>3.302864</td>\n",
       "      <td>3.09618</td>\n",
       "      <td>4.351639</td>\n",
       "      <td>4.34522</td>\n",
       "      <td>1.151046</td>\n",
       "      <td>...</td>\n",
       "      <td>0.163871</td>\n",
       "      <td>1.784342</td>\n",
       "      <td>0.617105</td>\n",
       "      <td>1.408102</td>\n",
       "      <td>2.297206</td>\n",
       "      <td>0.678213</td>\n",
       "      <td>0.828958</td>\n",
       "      <td>-3.77543</td>\n",
       "      <td>2.583557</td>\n",
       "      <td>0.71538</td>\n",
       "    </tr>\n",
       "    <tr>\n",
       "      <th>3</th>\n",
       "      <td>Alemania</td>\n",
       "      <td>DEU</td>\n",
       "      <td>PIB per cápita (US$ a precios actuales)</td>\n",
       "      <td>NY.GDP.PCAP.CD</td>\n",
       "      <td>16677.510788</td>\n",
       "      <td>17931.282323</td>\n",
       "      <td>17764.376446</td>\n",
       "      <td>22303.961327</td>\n",
       "      <td>23357.757725</td>\n",
       "      <td>26438.230389</td>\n",
       "      <td>...</td>\n",
       "      <td>46298.922918</td>\n",
       "      <td>48023.869985</td>\n",
       "      <td>41103.256436</td>\n",
       "      <td>42136.120791</td>\n",
       "      <td>44652.589172</td>\n",
       "      <td>47939.278288</td>\n",
       "      <td>46793.686762</td>\n",
       "      <td>46772.825351</td>\n",
       "      <td>51203.554473</td>\n",
       "      <td>48432.455873</td>\n",
       "    </tr>\n",
       "    <tr>\n",
       "      <th>4</th>\n",
       "      <td>Argelia</td>\n",
       "      <td>DZA</td>\n",
       "      <td>Crecimiento del PIB per cápita (% anual)</td>\n",
       "      <td>NY.GDP.PCAP.KD.ZG</td>\n",
       "      <td>-3.66201</td>\n",
       "      <td>-3.682624</td>\n",
       "      <td>1.688279</td>\n",
       "      <td>-1.682928</td>\n",
       "      <td>-3.528168</td>\n",
       "      <td>-0.538304</td>\n",
       "      <td>...</td>\n",
       "      <td>0.797968</td>\n",
       "      <td>1.765941</td>\n",
       "      <td>1.646657</td>\n",
       "      <td>1.163148</td>\n",
       "      <td>-0.663171</td>\n",
       "      <td>-0.70795</td>\n",
       "      <td>-0.840857</td>\n",
       "      <td>-6.729942</td>\n",
       "      <td>1.700064</td>\n",
       "      <td>1.434777</td>\n",
       "    </tr>\n",
       "    <tr>\n",
       "      <th>...</th>\n",
       "      <td>...</td>\n",
       "      <td>...</td>\n",
       "      <td>...</td>\n",
       "      <td>...</td>\n",
       "      <td>...</td>\n",
       "      <td>...</td>\n",
       "      <td>...</td>\n",
       "      <td>...</td>\n",
       "      <td>...</td>\n",
       "      <td>...</td>\n",
       "      <td>...</td>\n",
       "      <td>...</td>\n",
       "      <td>...</td>\n",
       "      <td>...</td>\n",
       "      <td>...</td>\n",
       "      <td>...</td>\n",
       "      <td>...</td>\n",
       "      <td>...</td>\n",
       "      <td>...</td>\n",
       "      <td>...</td>\n",
       "      <td>...</td>\n",
       "    </tr>\n",
       "    <tr>\n",
       "      <th>83</th>\n",
       "      <td>Japón</td>\n",
       "      <td>JPN</td>\n",
       "      <td>PIB per cápita (US$ a precios actuales)</td>\n",
       "      <td>NY.GDP.PCAP.CD</td>\n",
       "      <td>20748.990924</td>\n",
       "      <td>25059.013952</td>\n",
       "      <td>24822.772568</td>\n",
       "      <td>25371.464171</td>\n",
       "      <td>28915.01536</td>\n",
       "      <td>31414.976369</td>\n",
       "      <td>...</td>\n",
       "      <td>40898.647896</td>\n",
       "      <td>38475.395246</td>\n",
       "      <td>34960.639384</td>\n",
       "      <td>39375.473162</td>\n",
       "      <td>38834.052934</td>\n",
       "      <td>39751.133098</td>\n",
       "      <td>40415.956765</td>\n",
       "      <td>39986.928629</td>\n",
       "      <td>39827.126768</td>\n",
       "      <td>33815.317273</td>\n",
       "    </tr>\n",
       "    <tr>\n",
       "      <th>84</th>\n",
       "      <td>Kenya</td>\n",
       "      <td>KEN</td>\n",
       "      <td>Crecimiento del PIB per cápita (% anual)</td>\n",
       "      <td>NY.GDP.PCAP.KD.ZG</td>\n",
       "      <td>2.278306</td>\n",
       "      <td>2.549355</td>\n",
       "      <td>1.128559</td>\n",
       "      <td>0.70823</td>\n",
       "      <td>-1.76774</td>\n",
       "      <td>-3.766723</td>\n",
       "      <td>...</td>\n",
       "      <td>1.326293</td>\n",
       "      <td>2.638190</td>\n",
       "      <td>2.683317</td>\n",
       "      <td>1.943668</td>\n",
       "      <td>1.603147</td>\n",
       "      <td>3.522084</td>\n",
       "      <td>3.054958</td>\n",
       "      <td>-2.25698</td>\n",
       "      <td>5.520436</td>\n",
       "      <td>2.863571</td>\n",
       "    </tr>\n",
       "    <tr>\n",
       "      <th>85</th>\n",
       "      <td>Kenya</td>\n",
       "      <td>KEN</td>\n",
       "      <td>PIB per cápita (US$ a precios actuales)</td>\n",
       "      <td>NY.GDP.PCAP.CD</td>\n",
       "      <td>381.705998</td>\n",
       "      <td>386.355949</td>\n",
       "      <td>369.983363</td>\n",
       "      <td>370.100147</td>\n",
       "      <td>340.806455</td>\n",
       "      <td>332.949907</td>\n",
       "      <td>...</td>\n",
       "      <td>1376.829206</td>\n",
       "      <td>1489.919724</td>\n",
       "      <td>1496.653568</td>\n",
       "      <td>1562.076611</td>\n",
       "      <td>1675.98843</td>\n",
       "      <td>1845.783413</td>\n",
       "      <td>1970.080063</td>\n",
       "      <td>1936.250752</td>\n",
       "      <td>2069.661137</td>\n",
       "      <td>2099.301938</td>\n",
       "    </tr>\n",
       "    <tr>\n",
       "      <th>86</th>\n",
       "      <td>Noruega</td>\n",
       "      <td>NOR</td>\n",
       "      <td>Crecimiento del PIB per cápita (% anual)</td>\n",
       "      <td>NY.GDP.PCAP.KD.ZG</td>\n",
       "      <td>1.278353</td>\n",
       "      <td>-0.790237</td>\n",
       "      <td>0.622019</td>\n",
       "      <td>1.582093</td>\n",
       "      <td>2.594406</td>\n",
       "      <td>2.97837</td>\n",
       "      <td>...</td>\n",
       "      <td>-0.197883</td>\n",
       "      <td>0.903763</td>\n",
       "      <td>0.848799</td>\n",
       "      <td>0.277408</td>\n",
       "      <td>1.639507</td>\n",
       "      <td>0.165561</td>\n",
       "      <td>0.443399</td>\n",
       "      <td>-1.857696</td>\n",
       "      <td>3.344262</td>\n",
       "      <td>2.356846</td>\n",
       "    </tr>\n",
       "    <tr>\n",
       "      <th>87</th>\n",
       "      <td>Noruega</td>\n",
       "      <td>NOR</td>\n",
       "      <td>PIB per cápita (US$ a precios actuales)</td>\n",
       "      <td>NY.GDP.PCAP.CD</td>\n",
       "      <td>22506.029283</td>\n",
       "      <td>24207.343377</td>\n",
       "      <td>24281.130405</td>\n",
       "      <td>28242.793409</td>\n",
       "      <td>28596.745532</td>\n",
       "      <td>30523.980963</td>\n",
       "      <td>...</td>\n",
       "      <td>103553.840134</td>\n",
       "      <td>97666.695184</td>\n",
       "      <td>74809.965805</td>\n",
       "      <td>70867.360997</td>\n",
       "      <td>76131.838403</td>\n",
       "      <td>82792.842711</td>\n",
       "      <td>76430.588947</td>\n",
       "      <td>68340.018103</td>\n",
       "      <td>90655.391023</td>\n",
       "      <td>106148.778628</td>\n",
       "    </tr>\n",
       "  </tbody>\n",
       "</table>\n",
       "<p>88 rows × 40 columns</p>\n",
       "</div>"
      ],
      "text/plain": [
       "     país Name país Code                                serie Name   \n",
       "0   Afganistán       AFG  Crecimiento del PIB per cápita (% anual)  \\\n",
       "1   Afganistán       AFG   PIB per cápita (US$ a precios actuales)   \n",
       "2     Alemania       DEU  Crecimiento del PIB per cápita (% anual)   \n",
       "3     Alemania       DEU   PIB per cápita (US$ a precios actuales)   \n",
       "4      Argelia       DZA  Crecimiento del PIB per cápita (% anual)   \n",
       "..         ...       ...                                       ...   \n",
       "83       Japón       JPN   PIB per cápita (US$ a precios actuales)   \n",
       "84       Kenya       KEN  Crecimiento del PIB per cápita (% anual)   \n",
       "85       Kenya       KEN   PIB per cápita (US$ a precios actuales)   \n",
       "86     Noruega       NOR  Crecimiento del PIB per cápita (% anual)   \n",
       "87     Noruega       NOR   PIB per cápita (US$ a precios actuales)   \n",
       "\n",
       "           serie Code 1987 [YR1987] 1988 [YR1988] 1989 [YR1989] 1990 [YR1990]   \n",
       "0   NY.GDP.PCAP.KD.ZG            ..            ..            ..            ..  \\\n",
       "1      NY.GDP.PCAP.CD            ..            ..            ..            ..   \n",
       "2   NY.GDP.PCAP.KD.ZG        1.2465      3.302864       3.09618      4.351639   \n",
       "3      NY.GDP.PCAP.CD  16677.510788  17931.282323  17764.376446  22303.961327   \n",
       "4   NY.GDP.PCAP.KD.ZG      -3.66201     -3.682624      1.688279     -1.682928   \n",
       "..                ...           ...           ...           ...           ...   \n",
       "83     NY.GDP.PCAP.CD  20748.990924  25059.013952  24822.772568  25371.464171   \n",
       "84  NY.GDP.PCAP.KD.ZG      2.278306      2.549355      1.128559       0.70823   \n",
       "85     NY.GDP.PCAP.CD    381.705998    386.355949    369.983363    370.100147   \n",
       "86  NY.GDP.PCAP.KD.ZG      1.278353     -0.790237      0.622019      1.582093   \n",
       "87     NY.GDP.PCAP.CD  22506.029283  24207.343377  24281.130405  28242.793409   \n",
       "\n",
       "   1991 [YR1991] 1992 [YR1992]  ...  2013 [YR2013] 2014 [YR2014]   \n",
       "0             ..            ..  ...       2.002522     -0.964803  \\\n",
       "1             ..            ..  ...     651.987862    628.146804   \n",
       "2        4.34522      1.151046  ...       0.163871      1.784342   \n",
       "3   23357.757725  26438.230389  ...   46298.922918  48023.869985   \n",
       "4      -3.528168     -0.538304  ...       0.797968      1.765941   \n",
       "..           ...           ...  ...            ...           ...   \n",
       "83   28915.01536  31414.976369  ...   40898.647896  38475.395246   \n",
       "84      -1.76774     -3.766723  ...       1.326293      2.638190   \n",
       "85    340.806455    332.949907  ...    1376.829206   1489.919724   \n",
       "86      2.594406       2.97837  ...      -0.197883      0.903763   \n",
       "87  28596.745532  30523.980963  ...  103553.840134  97666.695184   \n",
       "\n",
       "   2015 [YR2015] 2016 [YR2016] 2017 [YR2017] 2018 [YR2018] 2019 [YR2019]   \n",
       "0      -1.666416     -0.345802     -0.253594     -1.688577      0.932833  \\\n",
       "1     592.476165    520.251955    530.149863    502.057099    500.522981   \n",
       "2       0.617105      1.408102      2.297206      0.678213      0.828958   \n",
       "3   41103.256436  42136.120791  44652.589172  47939.278288  46793.686762   \n",
       "4       1.646657      1.163148     -0.663171      -0.70795     -0.840857   \n",
       "..           ...           ...           ...           ...           ...   \n",
       "83  34960.639384  39375.473162  38834.052934  39751.133098  40415.956765   \n",
       "84      2.683317      1.943668      1.603147      3.522084      3.054958   \n",
       "85   1496.653568   1562.076611    1675.98843   1845.783413   1970.080063   \n",
       "86      0.848799      0.277408      1.639507      0.165561      0.443399   \n",
       "87  74809.965805  70867.360997  76131.838403  82792.842711  76430.588947   \n",
       "\n",
       "   2020 [YR2020] 2021 [YR2021]  2022 [YR2022]  \n",
       "0      -5.364666    -22.929194             ..  \n",
       "1     516.866797    363.674087             ..  \n",
       "2       -3.77543      2.583557        0.71538  \n",
       "3   46772.825351  51203.554473   48432.455873  \n",
       "4      -6.729942      1.700064       1.434777  \n",
       "..           ...           ...            ...  \n",
       "83  39986.928629  39827.126768   33815.317273  \n",
       "84      -2.25698      5.520436       2.863571  \n",
       "85   1936.250752   2069.661137    2099.301938  \n",
       "86     -1.857696      3.344262       2.356846  \n",
       "87  68340.018103  90655.391023  106148.778628  \n",
       "\n",
       "[88 rows x 40 columns]"
      ]
     },
     "execution_count": 128,
     "metadata": {},
     "output_type": "execute_result"
    }
   ],
   "source": [
    "df_pbi.dropna(subset=['país Code'], inplace=True)\n",
    "df_pbi"
   ]
  },
  {
   "cell_type": "code",
   "execution_count": 129,
   "metadata": {},
   "outputs": [
    {
     "name": "stdout",
     "output_type": "stream",
     "text": [
      "<class 'pandas.core.frame.DataFrame'>\n",
      "Index: 88 entries, 0 to 87\n",
      "Data columns (total 40 columns):\n",
      " #   Column         Non-Null Count  Dtype  \n",
      "---  ------         --------------  -----  \n",
      " 0   país Name      88 non-null     object \n",
      " 1   país Code      88 non-null     object \n",
      " 2   serie Name     88 non-null     object \n",
      " 3   serie Code     88 non-null     object \n",
      " 4   1987 [YR1987]  88 non-null     object \n",
      " 5   1988 [YR1988]  88 non-null     object \n",
      " 6   1989 [YR1989]  88 non-null     object \n",
      " 7   1990 [YR1990]  88 non-null     object \n",
      " 8   1991 [YR1991]  88 non-null     object \n",
      " 9   1992 [YR1992]  88 non-null     object \n",
      " 10  1993 [YR1993]  88 non-null     object \n",
      " 11  1994 [YR1994]  88 non-null     object \n",
      " 12  1995 [YR1995]  88 non-null     object \n",
      " 13  1996 [YR1996]  88 non-null     object \n",
      " 14  1997 [YR1997]  88 non-null     object \n",
      " 15  1998 [YR1998]  88 non-null     object \n",
      " 16  1999 [YR1999]  88 non-null     object \n",
      " 17  2000 [YR2000]  88 non-null     object \n",
      " 18  2001 [YR2001]  88 non-null     object \n",
      " 19  2002 [YR2002]  88 non-null     object \n",
      " 20  2003 [YR2003]  88 non-null     float64\n",
      " 21  2004 [YR2004]  88 non-null     float64\n",
      " 22  2005 [YR2005]  88 non-null     float64\n",
      " 23  2006 [YR2006]  88 non-null     float64\n",
      " 24  2007 [YR2007]  88 non-null     float64\n",
      " 25  2008 [YR2008]  88 non-null     float64\n",
      " 26  2009 [YR2009]  88 non-null     float64\n",
      " 27  2010 [YR2010]  88 non-null     float64\n",
      " 28  2011 [YR2011]  88 non-null     float64\n",
      " 29  2012 [YR2012]  88 non-null     float64\n",
      " 30  2013 [YR2013]  88 non-null     float64\n",
      " 31  2014 [YR2014]  88 non-null     float64\n",
      " 32  2015 [YR2015]  88 non-null     object \n",
      " 33  2016 [YR2016]  88 non-null     object \n",
      " 34  2017 [YR2017]  88 non-null     object \n",
      " 35  2018 [YR2018]  88 non-null     object \n",
      " 36  2019 [YR2019]  88 non-null     object \n",
      " 37  2020 [YR2020]  88 non-null     object \n",
      " 38  2021 [YR2021]  88 non-null     object \n",
      " 39  2022 [YR2022]  88 non-null     object \n",
      "dtypes: float64(12), object(28)\n",
      "memory usage: 28.2+ KB\n"
     ]
    }
   ],
   "source": [
    "df_pbi.info()"
   ]
  },
  {
   "cell_type": "code",
   "execution_count": 130,
   "metadata": {},
   "outputs": [
    {
     "data": {
      "text/html": [
       "<div>\n",
       "<style scoped>\n",
       "    .dataframe tbody tr th:only-of-type {\n",
       "        vertical-align: middle;\n",
       "    }\n",
       "\n",
       "    .dataframe tbody tr th {\n",
       "        vertical-align: top;\n",
       "    }\n",
       "\n",
       "    .dataframe thead th {\n",
       "        text-align: right;\n",
       "    }\n",
       "</style>\n",
       "<table border=\"1\" class=\"dataframe\">\n",
       "  <thead>\n",
       "    <tr style=\"text-align: right;\">\n",
       "      <th></th>\n",
       "      <th>país Name</th>\n",
       "      <th>país Code</th>\n",
       "      <th>serie Name</th>\n",
       "      <th>serie Code</th>\n",
       "      <th>1987 [YR1987]</th>\n",
       "      <th>1988 [YR1988]</th>\n",
       "      <th>1989 [YR1989]</th>\n",
       "      <th>1990 [YR1990]</th>\n",
       "      <th>1991 [YR1991]</th>\n",
       "      <th>1992 [YR1992]</th>\n",
       "      <th>...</th>\n",
       "      <th>2013 [YR2013]</th>\n",
       "      <th>2014 [YR2014]</th>\n",
       "      <th>2015 [YR2015]</th>\n",
       "      <th>2016 [YR2016]</th>\n",
       "      <th>2017 [YR2017]</th>\n",
       "      <th>2018 [YR2018]</th>\n",
       "      <th>2019 [YR2019]</th>\n",
       "      <th>2020 [YR2020]</th>\n",
       "      <th>2021 [YR2021]</th>\n",
       "      <th>2022 [YR2022]</th>\n",
       "    </tr>\n",
       "  </thead>\n",
       "  <tbody>\n",
       "  </tbody>\n",
       "</table>\n",
       "<p>0 rows × 40 columns</p>\n",
       "</div>"
      ],
      "text/plain": [
       "Empty DataFrame\n",
       "Columns: [país Name, país Code, serie Name, serie Code, 1987 [YR1987], 1988 [YR1988], 1989 [YR1989], 1990 [YR1990], 1991 [YR1991], 1992 [YR1992], 1993 [YR1993], 1994 [YR1994], 1995 [YR1995], 1996 [YR1996], 1997 [YR1997], 1998 [YR1998], 1999 [YR1999], 2000 [YR2000], 2001 [YR2001], 2002 [YR2002], 2003 [YR2003], 2004 [YR2004], 2005 [YR2005], 2006 [YR2006], 2007 [YR2007], 2008 [YR2008], 2009 [YR2009], 2010 [YR2010], 2011 [YR2011], 2012 [YR2012], 2013 [YR2013], 2014 [YR2014], 2015 [YR2015], 2016 [YR2016], 2017 [YR2017], 2018 [YR2018], 2019 [YR2019], 2020 [YR2020], 2021 [YR2021], 2022 [YR2022]]\n",
       "Index: []\n",
       "\n",
       "[0 rows x 40 columns]"
      ]
     },
     "execution_count": 130,
     "metadata": {},
     "output_type": "execute_result"
    }
   ],
   "source": [
    "df_pbi[df_pbi.duplicated()]"
   ]
  },
  {
   "cell_type": "code",
   "execution_count": 131,
   "metadata": {},
   "outputs": [
    {
     "data": {
      "text/plain": [
       "serie Name\n",
       "Crecimiento del PIB per cápita (% anual)    44\n",
       "PIB per cápita (US$ a precios actuales)     44\n",
       "Name: count, dtype: int64"
      ]
     },
     "execution_count": 131,
     "metadata": {},
     "output_type": "execute_result"
    }
   ],
   "source": [
    "df_pbi[\"serie Name\"].value_counts()"
   ]
  },
  {
   "cell_type": "code",
   "execution_count": 132,
   "metadata": {},
   "outputs": [],
   "source": [
    "columns_to_convert = df_pbi.columns[4:40]\n",
    "\n",
    "df_pbi[columns_to_convert] = df_pbi[columns_to_convert].apply(pd.to_numeric, errors='coerce')"
   ]
  },
  {
   "cell_type": "code",
   "execution_count": 133,
   "metadata": {},
   "outputs": [
    {
     "data": {
      "text/html": [
       "<div>\n",
       "<style scoped>\n",
       "    .dataframe tbody tr th:only-of-type {\n",
       "        vertical-align: middle;\n",
       "    }\n",
       "\n",
       "    .dataframe tbody tr th {\n",
       "        vertical-align: top;\n",
       "    }\n",
       "\n",
       "    .dataframe thead th {\n",
       "        text-align: right;\n",
       "    }\n",
       "</style>\n",
       "<table border=\"1\" class=\"dataframe\">\n",
       "  <thead>\n",
       "    <tr style=\"text-align: right;\">\n",
       "      <th></th>\n",
       "      <th>1987 [YR1987]</th>\n",
       "      <th>1988 [YR1988]</th>\n",
       "      <th>1989 [YR1989]</th>\n",
       "      <th>1990 [YR1990]</th>\n",
       "      <th>1991 [YR1991]</th>\n",
       "      <th>1992 [YR1992]</th>\n",
       "      <th>1993 [YR1993]</th>\n",
       "      <th>1994 [YR1994]</th>\n",
       "      <th>1995 [YR1995]</th>\n",
       "      <th>1996 [YR1996]</th>\n",
       "      <th>...</th>\n",
       "      <th>2013 [YR2013]</th>\n",
       "      <th>2014 [YR2014]</th>\n",
       "      <th>2015 [YR2015]</th>\n",
       "      <th>2016 [YR2016]</th>\n",
       "      <th>2017 [YR2017]</th>\n",
       "      <th>2018 [YR2018]</th>\n",
       "      <th>2019 [YR2019]</th>\n",
       "      <th>2020 [YR2020]</th>\n",
       "      <th>2021 [YR2021]</th>\n",
       "      <th>2022 [YR2022]</th>\n",
       "    </tr>\n",
       "  </thead>\n",
       "  <tbody>\n",
       "    <tr>\n",
       "      <th>count</th>\n",
       "      <td>82.000000</td>\n",
       "      <td>83.000000</td>\n",
       "      <td>83.000000</td>\n",
       "      <td>84.000000</td>\n",
       "      <td>84.000000</td>\n",
       "      <td>84.000000</td>\n",
       "      <td>85.000000</td>\n",
       "      <td>86.000000</td>\n",
       "      <td>86.000000</td>\n",
       "      <td>86.000000</td>\n",
       "      <td>...</td>\n",
       "      <td>88.000000</td>\n",
       "      <td>88.000000</td>\n",
       "      <td>86.000000</td>\n",
       "      <td>86.000000</td>\n",
       "      <td>86.000000</td>\n",
       "      <td>86.000000</td>\n",
       "      <td>86.000000</td>\n",
       "      <td>86.000000</td>\n",
       "      <td>85.000000</td>\n",
       "      <td>82.000000</td>\n",
       "    </tr>\n",
       "    <tr>\n",
       "      <th>mean</th>\n",
       "      <td>3864.452572</td>\n",
       "      <td>4242.332808</td>\n",
       "      <td>4342.762699</td>\n",
       "      <td>4955.956902</td>\n",
       "      <td>5063.355292</td>\n",
       "      <td>5289.583478</td>\n",
       "      <td>5100.929259</td>\n",
       "      <td>5408.211484</td>\n",
       "      <td>6139.245735</td>\n",
       "      <td>6200.935834</td>\n",
       "      <td>...</td>\n",
       "      <td>12165.511926</td>\n",
       "      <td>12203.329921</td>\n",
       "      <td>10914.294266</td>\n",
       "      <td>10835.262721</td>\n",
       "      <td>11392.277504</td>\n",
       "      <td>12058.409070</td>\n",
       "      <td>11831.135606</td>\n",
       "      <td>11264.154333</td>\n",
       "      <td>12929.282374</td>\n",
       "      <td>13906.506313</td>\n",
       "    </tr>\n",
       "    <tr>\n",
       "      <th>std</th>\n",
       "      <td>7193.631009</td>\n",
       "      <td>7816.673578</td>\n",
       "      <td>7993.177813</td>\n",
       "      <td>9245.518029</td>\n",
       "      <td>9377.210795</td>\n",
       "      <td>9800.385060</td>\n",
       "      <td>9510.320064</td>\n",
       "      <td>10210.155375</td>\n",
       "      <td>11709.056854</td>\n",
       "      <td>11638.918528</td>\n",
       "      <td>...</td>\n",
       "      <td>22284.954636</td>\n",
       "      <td>22122.399425</td>\n",
       "      <td>19689.732762</td>\n",
       "      <td>19467.473185</td>\n",
       "      <td>20358.467792</td>\n",
       "      <td>21676.674209</td>\n",
       "      <td>21186.739761</td>\n",
       "      <td>20443.911483</td>\n",
       "      <td>23713.780151</td>\n",
       "      <td>25064.714998</td>\n",
       "    </tr>\n",
       "    <tr>\n",
       "      <th>min</th>\n",
       "      <td>-10.651193</td>\n",
       "      <td>-9.562088</td>\n",
       "      <td>-10.820722</td>\n",
       "      <td>-6.751169</td>\n",
       "      <td>-11.419005</td>\n",
       "      <td>-17.570678</td>\n",
       "      <td>-17.609865</td>\n",
       "      <td>-41.586861</td>\n",
       "      <td>-8.195406</td>\n",
       "      <td>-4.523534</td>\n",
       "      <td>...</td>\n",
       "      <td>-1.806551</td>\n",
       "      <td>-5.025111</td>\n",
       "      <td>-22.383315</td>\n",
       "      <td>-9.161226</td>\n",
       "      <td>-6.160905</td>\n",
       "      <td>-3.601610</td>\n",
       "      <td>-2.969562</td>\n",
       "      <td>-17.176709</td>\n",
       "      <td>-22.929194</td>\n",
       "      <td>-7.550967</td>\n",
       "    </tr>\n",
       "    <tr>\n",
       "      <th>25%</th>\n",
       "      <td>1.020333</td>\n",
       "      <td>3.033805</td>\n",
       "      <td>1.969417</td>\n",
       "      <td>1.308435</td>\n",
       "      <td>-0.116246</td>\n",
       "      <td>0.380644</td>\n",
       "      <td>0.554250</td>\n",
       "      <td>2.103351</td>\n",
       "      <td>2.130481</td>\n",
       "      <td>2.342015</td>\n",
       "      <td>...</td>\n",
       "      <td>1.324598</td>\n",
       "      <td>1.669720</td>\n",
       "      <td>1.645923</td>\n",
       "      <td>1.397412</td>\n",
       "      <td>1.656977</td>\n",
       "      <td>1.667808</td>\n",
       "      <td>1.078545</td>\n",
       "      <td>-4.458403</td>\n",
       "      <td>4.102317</td>\n",
       "      <td>2.559020</td>\n",
       "    </tr>\n",
       "    <tr>\n",
       "      <th>50%</th>\n",
       "      <td>85.624377</td>\n",
       "      <td>186.264475</td>\n",
       "      <td>184.132236</td>\n",
       "      <td>80.888280</td>\n",
       "      <td>94.350849</td>\n",
       "      <td>85.457354</td>\n",
       "      <td>172.096670</td>\n",
       "      <td>61.851847</td>\n",
       "      <td>128.700096</td>\n",
       "      <td>104.564367</td>\n",
       "      <td>...</td>\n",
       "      <td>283.086251</td>\n",
       "      <td>283.752618</td>\n",
       "      <td>243.916184</td>\n",
       "      <td>252.008555</td>\n",
       "      <td>246.093692</td>\n",
       "      <td>254.229481</td>\n",
       "      <td>253.700491</td>\n",
       "      <td>247.713905</td>\n",
       "      <td>13.519127</td>\n",
       "      <td>238.421011</td>\n",
       "    </tr>\n",
       "    <tr>\n",
       "      <th>75%</th>\n",
       "      <td>2659.625376</td>\n",
       "      <td>2991.994132</td>\n",
       "      <td>2774.945342</td>\n",
       "      <td>3169.888742</td>\n",
       "      <td>3351.234381</td>\n",
       "      <td>3203.852323</td>\n",
       "      <td>2930.670166</td>\n",
       "      <td>3296.242275</td>\n",
       "      <td>3803.401348</td>\n",
       "      <td>3539.723839</td>\n",
       "      <td>...</td>\n",
       "      <td>11213.906681</td>\n",
       "      <td>11324.951749</td>\n",
       "      <td>9180.569717</td>\n",
       "      <td>8698.854754</td>\n",
       "      <td>9781.132678</td>\n",
       "      <td>9893.306460</td>\n",
       "      <td>10098.813712</td>\n",
       "      <td>9288.441983</td>\n",
       "      <td>10636.115530</td>\n",
       "      <td>13079.170198</td>\n",
       "    </tr>\n",
       "    <tr>\n",
       "      <th>max</th>\n",
       "      <td>30440.680937</td>\n",
       "      <td>32690.430273</td>\n",
       "      <td>31308.172379</td>\n",
       "      <td>39575.726814</td>\n",
       "      <td>39544.724487</td>\n",
       "      <td>40713.157354</td>\n",
       "      <td>39236.676084</td>\n",
       "      <td>43092.013399</td>\n",
       "      <td>50115.138859</td>\n",
       "      <td>48092.254208</td>\n",
       "      <td>...</td>\n",
       "      <td>103553.840134</td>\n",
       "      <td>97666.695184</td>\n",
       "      <td>83806.447600</td>\n",
       "      <td>82153.074545</td>\n",
       "      <td>82254.376927</td>\n",
       "      <td>85216.642951</td>\n",
       "      <td>84121.931030</td>\n",
       "      <td>85656.322666</td>\n",
       "      <td>91991.600458</td>\n",
       "      <td>106148.778628</td>\n",
       "    </tr>\n",
       "  </tbody>\n",
       "</table>\n",
       "<p>8 rows × 36 columns</p>\n",
       "</div>"
      ],
      "text/plain": [
       "       1987 [YR1987]  1988 [YR1988]  1989 [YR1989]  1990 [YR1990]   \n",
       "count      82.000000      83.000000      83.000000      84.000000  \\\n",
       "mean     3864.452572    4242.332808    4342.762699    4955.956902   \n",
       "std      7193.631009    7816.673578    7993.177813    9245.518029   \n",
       "min       -10.651193      -9.562088     -10.820722      -6.751169   \n",
       "25%         1.020333       3.033805       1.969417       1.308435   \n",
       "50%        85.624377     186.264475     184.132236      80.888280   \n",
       "75%      2659.625376    2991.994132    2774.945342    3169.888742   \n",
       "max     30440.680937   32690.430273   31308.172379   39575.726814   \n",
       "\n",
       "       1991 [YR1991]  1992 [YR1992]  1993 [YR1993]  1994 [YR1994]   \n",
       "count      84.000000      84.000000      85.000000      86.000000  \\\n",
       "mean     5063.355292    5289.583478    5100.929259    5408.211484   \n",
       "std      9377.210795    9800.385060    9510.320064   10210.155375   \n",
       "min       -11.419005     -17.570678     -17.609865     -41.586861   \n",
       "25%        -0.116246       0.380644       0.554250       2.103351   \n",
       "50%        94.350849      85.457354     172.096670      61.851847   \n",
       "75%      3351.234381    3203.852323    2930.670166    3296.242275   \n",
       "max     39544.724487   40713.157354   39236.676084   43092.013399   \n",
       "\n",
       "       1995 [YR1995]  1996 [YR1996]  ...  2013 [YR2013]  2014 [YR2014]   \n",
       "count      86.000000      86.000000  ...      88.000000      88.000000  \\\n",
       "mean     6139.245735    6200.935834  ...   12165.511926   12203.329921   \n",
       "std     11709.056854   11638.918528  ...   22284.954636   22122.399425   \n",
       "min        -8.195406      -4.523534  ...      -1.806551      -5.025111   \n",
       "25%         2.130481       2.342015  ...       1.324598       1.669720   \n",
       "50%       128.700096     104.564367  ...     283.086251     283.752618   \n",
       "75%      3803.401348    3539.723839  ...   11213.906681   11324.951749   \n",
       "max     50115.138859   48092.254208  ...  103553.840134   97666.695184   \n",
       "\n",
       "       2015 [YR2015]  2016 [YR2016]  2017 [YR2017]  2018 [YR2018]   \n",
       "count      86.000000      86.000000      86.000000      86.000000  \\\n",
       "mean    10914.294266   10835.262721   11392.277504   12058.409070   \n",
       "std     19689.732762   19467.473185   20358.467792   21676.674209   \n",
       "min       -22.383315      -9.161226      -6.160905      -3.601610   \n",
       "25%         1.645923       1.397412       1.656977       1.667808   \n",
       "50%       243.916184     252.008555     246.093692     254.229481   \n",
       "75%      9180.569717    8698.854754    9781.132678    9893.306460   \n",
       "max     83806.447600   82153.074545   82254.376927   85216.642951   \n",
       "\n",
       "       2019 [YR2019]  2020 [YR2020]  2021 [YR2021]  2022 [YR2022]  \n",
       "count      86.000000      86.000000      85.000000      82.000000  \n",
       "mean    11831.135606   11264.154333   12929.282374   13906.506313  \n",
       "std     21186.739761   20443.911483   23713.780151   25064.714998  \n",
       "min        -2.969562     -17.176709     -22.929194      -7.550967  \n",
       "25%         1.078545      -4.458403       4.102317       2.559020  \n",
       "50%       253.700491     247.713905      13.519127     238.421011  \n",
       "75%     10098.813712    9288.441983   10636.115530   13079.170198  \n",
       "max     84121.931030   85656.322666   91991.600458  106148.778628  \n",
       "\n",
       "[8 rows x 36 columns]"
      ]
     },
     "execution_count": 133,
     "metadata": {},
     "output_type": "execute_result"
    }
   ],
   "source": [
    "df_pbi.describe()"
   ]
  },
  {
   "cell_type": "code",
   "execution_count": 134,
   "metadata": {},
   "outputs": [
    {
     "name": "stdout",
     "output_type": "stream",
     "text": [
      "<class 'pandas.core.frame.DataFrame'>\n",
      "Index: 88 entries, 0 to 87\n",
      "Data columns (total 40 columns):\n",
      " #   Column         Non-Null Count  Dtype  \n",
      "---  ------         --------------  -----  \n",
      " 0   país Name      88 non-null     object \n",
      " 1   país Code      88 non-null     object \n",
      " 2   serie Name     88 non-null     object \n",
      " 3   serie Code     88 non-null     object \n",
      " 4   1987 [YR1987]  82 non-null     float64\n",
      " 5   1988 [YR1988]  83 non-null     float64\n",
      " 6   1989 [YR1989]  83 non-null     float64\n",
      " 7   1990 [YR1990]  84 non-null     float64\n",
      " 8   1991 [YR1991]  84 non-null     float64\n",
      " 9   1992 [YR1992]  84 non-null     float64\n",
      " 10  1993 [YR1993]  85 non-null     float64\n",
      " 11  1994 [YR1994]  86 non-null     float64\n",
      " 12  1995 [YR1995]  86 non-null     float64\n",
      " 13  1996 [YR1996]  86 non-null     float64\n",
      " 14  1997 [YR1997]  86 non-null     float64\n",
      " 15  1998 [YR1998]  86 non-null     float64\n",
      " 16  1999 [YR1999]  86 non-null     float64\n",
      " 17  2000 [YR2000]  86 non-null     float64\n",
      " 18  2001 [YR2001]  86 non-null     float64\n",
      " 19  2002 [YR2002]  87 non-null     float64\n",
      " 20  2003 [YR2003]  88 non-null     float64\n",
      " 21  2004 [YR2004]  88 non-null     float64\n",
      " 22  2005 [YR2005]  88 non-null     float64\n",
      " 23  2006 [YR2006]  88 non-null     float64\n",
      " 24  2007 [YR2007]  88 non-null     float64\n",
      " 25  2008 [YR2008]  88 non-null     float64\n",
      " 26  2009 [YR2009]  88 non-null     float64\n",
      " 27  2010 [YR2010]  88 non-null     float64\n",
      " 28  2011 [YR2011]  88 non-null     float64\n",
      " 29  2012 [YR2012]  88 non-null     float64\n",
      " 30  2013 [YR2013]  88 non-null     float64\n",
      " 31  2014 [YR2014]  88 non-null     float64\n",
      " 32  2015 [YR2015]  86 non-null     float64\n",
      " 33  2016 [YR2016]  86 non-null     float64\n",
      " 34  2017 [YR2017]  86 non-null     float64\n",
      " 35  2018 [YR2018]  86 non-null     float64\n",
      " 36  2019 [YR2019]  86 non-null     float64\n",
      " 37  2020 [YR2020]  86 non-null     float64\n",
      " 38  2021 [YR2021]  85 non-null     float64\n",
      " 39  2022 [YR2022]  82 non-null     float64\n",
      "dtypes: float64(36), object(4)\n",
      "memory usage: 28.2+ KB\n"
     ]
    }
   ],
   "source": [
    "df_pbi.info()"
   ]
  },
  {
   "cell_type": "code",
   "execution_count": 135,
   "metadata": {},
   "outputs": [
    {
     "data": {
      "text/html": [
       "<div>\n",
       "<style scoped>\n",
       "    .dataframe tbody tr th:only-of-type {\n",
       "        vertical-align: middle;\n",
       "    }\n",
       "\n",
       "    .dataframe tbody tr th {\n",
       "        vertical-align: top;\n",
       "    }\n",
       "\n",
       "    .dataframe thead th {\n",
       "        text-align: right;\n",
       "    }\n",
       "</style>\n",
       "<table border=\"1\" class=\"dataframe\">\n",
       "  <thead>\n",
       "    <tr style=\"text-align: right;\">\n",
       "      <th></th>\n",
       "      <th>país Name</th>\n",
       "      <th>país Code</th>\n",
       "      <th>serie Name</th>\n",
       "      <th>serie Code</th>\n",
       "      <th>1987 [YR1987]</th>\n",
       "      <th>1988 [YR1988]</th>\n",
       "      <th>1989 [YR1989]</th>\n",
       "      <th>1990 [YR1990]</th>\n",
       "      <th>1991 [YR1991]</th>\n",
       "      <th>1992 [YR1992]</th>\n",
       "      <th>...</th>\n",
       "      <th>2013 [YR2013]</th>\n",
       "      <th>2014 [YR2014]</th>\n",
       "      <th>2015 [YR2015]</th>\n",
       "      <th>2016 [YR2016]</th>\n",
       "      <th>2017 [YR2017]</th>\n",
       "      <th>2018 [YR2018]</th>\n",
       "      <th>2019 [YR2019]</th>\n",
       "      <th>2020 [YR2020]</th>\n",
       "      <th>2021 [YR2021]</th>\n",
       "      <th>2022 [YR2022]</th>\n",
       "    </tr>\n",
       "  </thead>\n",
       "  <tbody>\n",
       "    <tr>\n",
       "      <th>0</th>\n",
       "      <td>Afganistán</td>\n",
       "      <td>AFG</td>\n",
       "      <td>Crecimiento del PIB per cápita (% anual)</td>\n",
       "      <td>NY.GDP.PCAP.KD.ZG</td>\n",
       "      <td>NaN</td>\n",
       "      <td>NaN</td>\n",
       "      <td>NaN</td>\n",
       "      <td>NaN</td>\n",
       "      <td>NaN</td>\n",
       "      <td>NaN</td>\n",
       "      <td>...</td>\n",
       "      <td>2.002522</td>\n",
       "      <td>-0.964803</td>\n",
       "      <td>-1.666416</td>\n",
       "      <td>-0.345802</td>\n",
       "      <td>-0.253594</td>\n",
       "      <td>-1.688577</td>\n",
       "      <td>0.932833</td>\n",
       "      <td>-5.364666</td>\n",
       "      <td>-22.929194</td>\n",
       "      <td>NaN</td>\n",
       "    </tr>\n",
       "    <tr>\n",
       "      <th>1</th>\n",
       "      <td>Afganistán</td>\n",
       "      <td>AFG</td>\n",
       "      <td>PIB per cápita (US$ a precios actuales)</td>\n",
       "      <td>NY.GDP.PCAP.CD</td>\n",
       "      <td>NaN</td>\n",
       "      <td>NaN</td>\n",
       "      <td>NaN</td>\n",
       "      <td>NaN</td>\n",
       "      <td>NaN</td>\n",
       "      <td>NaN</td>\n",
       "      <td>...</td>\n",
       "      <td>651.987862</td>\n",
       "      <td>628.146804</td>\n",
       "      <td>592.476165</td>\n",
       "      <td>520.251955</td>\n",
       "      <td>530.149863</td>\n",
       "      <td>502.057099</td>\n",
       "      <td>500.522981</td>\n",
       "      <td>516.866797</td>\n",
       "      <td>363.674087</td>\n",
       "      <td>NaN</td>\n",
       "    </tr>\n",
       "    <tr>\n",
       "      <th>22</th>\n",
       "      <td>Camboya</td>\n",
       "      <td>KHM</td>\n",
       "      <td>Crecimiento del PIB per cápita (% anual)</td>\n",
       "      <td>NY.GDP.PCAP.KD.ZG</td>\n",
       "      <td>NaN</td>\n",
       "      <td>NaN</td>\n",
       "      <td>NaN</td>\n",
       "      <td>NaN</td>\n",
       "      <td>NaN</td>\n",
       "      <td>NaN</td>\n",
       "      <td>...</td>\n",
       "      <td>5.831861</td>\n",
       "      <td>5.655377</td>\n",
       "      <td>5.531685</td>\n",
       "      <td>5.516206</td>\n",
       "      <td>5.603875</td>\n",
       "      <td>6.164476</td>\n",
       "      <td>5.848620</td>\n",
       "      <td>-4.213654</td>\n",
       "      <td>1.832958</td>\n",
       "      <td>4.040965</td>\n",
       "    </tr>\n",
       "    <tr>\n",
       "      <th>23</th>\n",
       "      <td>Camboya</td>\n",
       "      <td>KHM</td>\n",
       "      <td>PIB per cápita (US$ a precios actuales)</td>\n",
       "      <td>NY.GDP.PCAP.CD</td>\n",
       "      <td>NaN</td>\n",
       "      <td>NaN</td>\n",
       "      <td>NaN</td>\n",
       "      <td>NaN</td>\n",
       "      <td>NaN</td>\n",
       "      <td>NaN</td>\n",
       "      <td>...</td>\n",
       "      <td>1015.220881</td>\n",
       "      <td>1098.074538</td>\n",
       "      <td>1170.742816</td>\n",
       "      <td>1281.105971</td>\n",
       "      <td>1400.899265</td>\n",
       "      <td>1533.315985</td>\n",
       "      <td>1671.385400</td>\n",
       "      <td>1577.911740</td>\n",
       "      <td>1625.235022</td>\n",
       "      <td>1786.560819</td>\n",
       "    </tr>\n",
       "    <tr>\n",
       "      <th>34</th>\n",
       "      <td>Cuba</td>\n",
       "      <td>CUB</td>\n",
       "      <td>Crecimiento del PIB per cápita (% anual)</td>\n",
       "      <td>NY.GDP.PCAP.KD.ZG</td>\n",
       "      <td>-3.266262</td>\n",
       "      <td>2.725496</td>\n",
       "      <td>-0.293073</td>\n",
       "      <td>-3.857215</td>\n",
       "      <td>-11.419005</td>\n",
       "      <td>-12.154031</td>\n",
       "      <td>...</td>\n",
       "      <td>2.636075</td>\n",
       "      <td>0.954421</td>\n",
       "      <td>4.365679</td>\n",
       "      <td>0.494992</td>\n",
       "      <td>1.859409</td>\n",
       "      <td>2.322141</td>\n",
       "      <td>-0.062973</td>\n",
       "      <td>-10.822266</td>\n",
       "      <td>1.652817</td>\n",
       "      <td>NaN</td>\n",
       "    </tr>\n",
       "    <tr>\n",
       "      <th>35</th>\n",
       "      <td>Cuba</td>\n",
       "      <td>CUB</td>\n",
       "      <td>PIB per cápita (US$ a precios actuales)</td>\n",
       "      <td>NY.GDP.PCAP.CD</td>\n",
       "      <td>2441.575942</td>\n",
       "      <td>2633.847388</td>\n",
       "      <td>2567.017064</td>\n",
       "      <td>2695.614865</td>\n",
       "      <td>2269.645578</td>\n",
       "      <td>2048.068839</td>\n",
       "      <td>...</td>\n",
       "      <td>6814.243844</td>\n",
       "      <td>7117.526910</td>\n",
       "      <td>7683.757891</td>\n",
       "      <td>8055.889907</td>\n",
       "      <td>8543.360968</td>\n",
       "      <td>8831.907222</td>\n",
       "      <td>9139.415856</td>\n",
       "      <td>9499.590202</td>\n",
       "      <td>NaN</td>\n",
       "      <td>NaN</td>\n",
       "    </tr>\n",
       "    <tr>\n",
       "      <th>46</th>\n",
       "      <td>Federación de Rusia</td>\n",
       "      <td>RUS</td>\n",
       "      <td>Crecimiento del PIB per cápita (% anual)</td>\n",
       "      <td>NY.GDP.PCAP.KD.ZG</td>\n",
       "      <td>NaN</td>\n",
       "      <td>NaN</td>\n",
       "      <td>NaN</td>\n",
       "      <td>-3.162836</td>\n",
       "      <td>-5.318762</td>\n",
       "      <td>-14.613917</td>\n",
       "      <td>...</td>\n",
       "      <td>1.538974</td>\n",
       "      <td>-1.045262</td>\n",
       "      <td>-2.183885</td>\n",
       "      <td>0.010248</td>\n",
       "      <td>1.709386</td>\n",
       "      <td>2.815524</td>\n",
       "      <td>2.243980</td>\n",
       "      <td>-2.451027</td>\n",
       "      <td>6.045474</td>\n",
       "      <td>-2.162418</td>\n",
       "    </tr>\n",
       "    <tr>\n",
       "      <th>47</th>\n",
       "      <td>Federación de Rusia</td>\n",
       "      <td>RUS</td>\n",
       "      <td>PIB per cápita (US$ a precios actuales)</td>\n",
       "      <td>NY.GDP.PCAP.CD</td>\n",
       "      <td>NaN</td>\n",
       "      <td>3777.235352</td>\n",
       "      <td>3428.762207</td>\n",
       "      <td>3492.710205</td>\n",
       "      <td>3490.452393</td>\n",
       "      <td>3098.802734</td>\n",
       "      <td>...</td>\n",
       "      <td>15974.623047</td>\n",
       "      <td>14095.646484</td>\n",
       "      <td>9313.021484</td>\n",
       "      <td>8704.894531</td>\n",
       "      <td>10720.332031</td>\n",
       "      <td>11287.354492</td>\n",
       "      <td>11536.258789</td>\n",
       "      <td>10194.441406</td>\n",
       "      <td>12593.157227</td>\n",
       "      <td>15345.096680</td>\n",
       "    </tr>\n",
       "    <tr>\n",
       "      <th>78</th>\n",
       "      <td>Venezuela</td>\n",
       "      <td>VEN</td>\n",
       "      <td>Crecimiento del PIB per cápita (% anual)</td>\n",
       "      <td>NY.GDP.PCAP.KD.ZG</td>\n",
       "      <td>0.938044</td>\n",
       "      <td>3.164038</td>\n",
       "      <td>-10.820722</td>\n",
       "      <td>3.905847</td>\n",
       "      <td>7.149505</td>\n",
       "      <td>3.630631</td>\n",
       "      <td>...</td>\n",
       "      <td>0.094579</td>\n",
       "      <td>-5.025111</td>\n",
       "      <td>NaN</td>\n",
       "      <td>NaN</td>\n",
       "      <td>NaN</td>\n",
       "      <td>NaN</td>\n",
       "      <td>NaN</td>\n",
       "      <td>NaN</td>\n",
       "      <td>NaN</td>\n",
       "      <td>NaN</td>\n",
       "    </tr>\n",
       "    <tr>\n",
       "      <th>79</th>\n",
       "      <td>Venezuela</td>\n",
       "      <td>VEN</td>\n",
       "      <td>PIB per cápita (US$ a precios actuales)</td>\n",
       "      <td>NY.GDP.PCAP.CD</td>\n",
       "      <td>2620.434204</td>\n",
       "      <td>3203.401445</td>\n",
       "      <td>2258.679615</td>\n",
       "      <td>2461.039355</td>\n",
       "      <td>2642.780541</td>\n",
       "      <td>2918.607446</td>\n",
       "      <td>...</td>\n",
       "      <td>12433.980785</td>\n",
       "      <td>15975.729375</td>\n",
       "      <td>NaN</td>\n",
       "      <td>NaN</td>\n",
       "      <td>NaN</td>\n",
       "      <td>NaN</td>\n",
       "      <td>NaN</td>\n",
       "      <td>NaN</td>\n",
       "      <td>NaN</td>\n",
       "      <td>NaN</td>\n",
       "    </tr>\n",
       "  </tbody>\n",
       "</table>\n",
       "<p>10 rows × 40 columns</p>\n",
       "</div>"
      ],
      "text/plain": [
       "              país Name país Code                                serie Name   \n",
       "0            Afganistán       AFG  Crecimiento del PIB per cápita (% anual)  \\\n",
       "1            Afganistán       AFG   PIB per cápita (US$ a precios actuales)   \n",
       "22              Camboya       KHM  Crecimiento del PIB per cápita (% anual)   \n",
       "23              Camboya       KHM   PIB per cápita (US$ a precios actuales)   \n",
       "34                 Cuba       CUB  Crecimiento del PIB per cápita (% anual)   \n",
       "35                 Cuba       CUB   PIB per cápita (US$ a precios actuales)   \n",
       "46  Federación de Rusia       RUS  Crecimiento del PIB per cápita (% anual)   \n",
       "47  Federación de Rusia       RUS   PIB per cápita (US$ a precios actuales)   \n",
       "78            Venezuela       VEN  Crecimiento del PIB per cápita (% anual)   \n",
       "79            Venezuela       VEN   PIB per cápita (US$ a precios actuales)   \n",
       "\n",
       "           serie Code  1987 [YR1987]  1988 [YR1988]  1989 [YR1989]   \n",
       "0   NY.GDP.PCAP.KD.ZG            NaN            NaN            NaN  \\\n",
       "1      NY.GDP.PCAP.CD            NaN            NaN            NaN   \n",
       "22  NY.GDP.PCAP.KD.ZG            NaN            NaN            NaN   \n",
       "23     NY.GDP.PCAP.CD            NaN            NaN            NaN   \n",
       "34  NY.GDP.PCAP.KD.ZG      -3.266262       2.725496      -0.293073   \n",
       "35     NY.GDP.PCAP.CD    2441.575942    2633.847388    2567.017064   \n",
       "46  NY.GDP.PCAP.KD.ZG            NaN            NaN            NaN   \n",
       "47     NY.GDP.PCAP.CD            NaN    3777.235352    3428.762207   \n",
       "78  NY.GDP.PCAP.KD.ZG       0.938044       3.164038     -10.820722   \n",
       "79     NY.GDP.PCAP.CD    2620.434204    3203.401445    2258.679615   \n",
       "\n",
       "    1990 [YR1990]  1991 [YR1991]  1992 [YR1992]  ...  2013 [YR2013]   \n",
       "0             NaN            NaN            NaN  ...       2.002522  \\\n",
       "1             NaN            NaN            NaN  ...     651.987862   \n",
       "22            NaN            NaN            NaN  ...       5.831861   \n",
       "23            NaN            NaN            NaN  ...    1015.220881   \n",
       "34      -3.857215     -11.419005     -12.154031  ...       2.636075   \n",
       "35    2695.614865    2269.645578    2048.068839  ...    6814.243844   \n",
       "46      -3.162836      -5.318762     -14.613917  ...       1.538974   \n",
       "47    3492.710205    3490.452393    3098.802734  ...   15974.623047   \n",
       "78       3.905847       7.149505       3.630631  ...       0.094579   \n",
       "79    2461.039355    2642.780541    2918.607446  ...   12433.980785   \n",
       "\n",
       "    2014 [YR2014]  2015 [YR2015]  2016 [YR2016]  2017 [YR2017]  2018 [YR2018]   \n",
       "0       -0.964803      -1.666416      -0.345802      -0.253594      -1.688577  \\\n",
       "1      628.146804     592.476165     520.251955     530.149863     502.057099   \n",
       "22       5.655377       5.531685       5.516206       5.603875       6.164476   \n",
       "23    1098.074538    1170.742816    1281.105971    1400.899265    1533.315985   \n",
       "34       0.954421       4.365679       0.494992       1.859409       2.322141   \n",
       "35    7117.526910    7683.757891    8055.889907    8543.360968    8831.907222   \n",
       "46      -1.045262      -2.183885       0.010248       1.709386       2.815524   \n",
       "47   14095.646484    9313.021484    8704.894531   10720.332031   11287.354492   \n",
       "78      -5.025111            NaN            NaN            NaN            NaN   \n",
       "79   15975.729375            NaN            NaN            NaN            NaN   \n",
       "\n",
       "    2019 [YR2019]  2020 [YR2020]  2021 [YR2021]  2022 [YR2022]  \n",
       "0        0.932833      -5.364666     -22.929194            NaN  \n",
       "1      500.522981     516.866797     363.674087            NaN  \n",
       "22       5.848620      -4.213654       1.832958       4.040965  \n",
       "23    1671.385400    1577.911740    1625.235022    1786.560819  \n",
       "34      -0.062973     -10.822266       1.652817            NaN  \n",
       "35    9139.415856    9499.590202            NaN            NaN  \n",
       "46       2.243980      -2.451027       6.045474      -2.162418  \n",
       "47   11536.258789   10194.441406   12593.157227   15345.096680  \n",
       "78            NaN            NaN            NaN            NaN  \n",
       "79            NaN            NaN            NaN            NaN  \n",
       "\n",
       "[10 rows x 40 columns]"
      ]
     },
     "execution_count": 135,
     "metadata": {},
     "output_type": "execute_result"
    }
   ],
   "source": [
    "df_pbi[df_pbi.isna().any(axis=1)]"
   ]
  },
  {
   "cell_type": "code",
   "execution_count": 136,
   "metadata": {},
   "outputs": [
    {
     "data": {
      "text/plain": [
       "serie Name\n",
       "Crecimiento del PIB per cápita (% anual)    36\n",
       "PIB per cápita (US$ a precios actuales)     33\n",
       "dtype: int64"
      ]
     },
     "execution_count": 136,
     "metadata": {},
     "output_type": "execute_result"
    }
   ],
   "source": [
    "df_pbi.groupby(\"serie Name\").agg(lambda x: x.isnull().sum()).sum(axis=1)"
   ]
  },
  {
   "cell_type": "code",
   "execution_count": 137,
   "metadata": {},
   "outputs": [
    {
     "data": {
      "text/html": [
       "<div>\n",
       "<style scoped>\n",
       "    .dataframe tbody tr th:only-of-type {\n",
       "        vertical-align: middle;\n",
       "    }\n",
       "\n",
       "    .dataframe tbody tr th {\n",
       "        vertical-align: top;\n",
       "    }\n",
       "\n",
       "    .dataframe thead th {\n",
       "        text-align: right;\n",
       "    }\n",
       "</style>\n",
       "<table border=\"1\" class=\"dataframe\">\n",
       "  <thead>\n",
       "    <tr style=\"text-align: right;\">\n",
       "      <th></th>\n",
       "      <th>país Name</th>\n",
       "      <th>país Code</th>\n",
       "      <th>serie Name</th>\n",
       "      <th>serie Code</th>\n",
       "      <th>1987 [YR1987]</th>\n",
       "      <th>1988 [YR1988]</th>\n",
       "      <th>1989 [YR1989]</th>\n",
       "      <th>1990 [YR1990]</th>\n",
       "      <th>1991 [YR1991]</th>\n",
       "      <th>1992 [YR1992]</th>\n",
       "      <th>...</th>\n",
       "      <th>2013 [YR2013]</th>\n",
       "      <th>2014 [YR2014]</th>\n",
       "      <th>2015 [YR2015]</th>\n",
       "      <th>2016 [YR2016]</th>\n",
       "      <th>2017 [YR2017]</th>\n",
       "      <th>2018 [YR2018]</th>\n",
       "      <th>2019 [YR2019]</th>\n",
       "      <th>2020 [YR2020]</th>\n",
       "      <th>2021 [YR2021]</th>\n",
       "      <th>2022 [YR2022]</th>\n",
       "    </tr>\n",
       "  </thead>\n",
       "  <tbody>\n",
       "    <tr>\n",
       "      <th>0</th>\n",
       "      <td>Afganistán</td>\n",
       "      <td>AFG</td>\n",
       "      <td>Crecimiento del PIB per cápita (% anual)</td>\n",
       "      <td>NY.GDP.PCAP.KD.ZG</td>\n",
       "      <td>NaN</td>\n",
       "      <td>NaN</td>\n",
       "      <td>NaN</td>\n",
       "      <td>NaN</td>\n",
       "      <td>NaN</td>\n",
       "      <td>NaN</td>\n",
       "      <td>...</td>\n",
       "      <td>2.002522</td>\n",
       "      <td>-0.964803</td>\n",
       "      <td>-1.666416</td>\n",
       "      <td>-0.345802</td>\n",
       "      <td>-0.253594</td>\n",
       "      <td>-1.688577</td>\n",
       "      <td>0.932833</td>\n",
       "      <td>-5.364666</td>\n",
       "      <td>-22.929194</td>\n",
       "      <td>NaN</td>\n",
       "    </tr>\n",
       "    <tr>\n",
       "      <th>22</th>\n",
       "      <td>Camboya</td>\n",
       "      <td>KHM</td>\n",
       "      <td>Crecimiento del PIB per cápita (% anual)</td>\n",
       "      <td>NY.GDP.PCAP.KD.ZG</td>\n",
       "      <td>NaN</td>\n",
       "      <td>NaN</td>\n",
       "      <td>NaN</td>\n",
       "      <td>NaN</td>\n",
       "      <td>NaN</td>\n",
       "      <td>NaN</td>\n",
       "      <td>...</td>\n",
       "      <td>5.831861</td>\n",
       "      <td>5.655377</td>\n",
       "      <td>5.531685</td>\n",
       "      <td>5.516206</td>\n",
       "      <td>5.603875</td>\n",
       "      <td>6.164476</td>\n",
       "      <td>5.848620</td>\n",
       "      <td>-4.213654</td>\n",
       "      <td>1.832958</td>\n",
       "      <td>4.040965</td>\n",
       "    </tr>\n",
       "    <tr>\n",
       "      <th>34</th>\n",
       "      <td>Cuba</td>\n",
       "      <td>CUB</td>\n",
       "      <td>Crecimiento del PIB per cápita (% anual)</td>\n",
       "      <td>NY.GDP.PCAP.KD.ZG</td>\n",
       "      <td>-3.266262</td>\n",
       "      <td>2.725496</td>\n",
       "      <td>-0.293073</td>\n",
       "      <td>-3.857215</td>\n",
       "      <td>-11.419005</td>\n",
       "      <td>-12.154031</td>\n",
       "      <td>...</td>\n",
       "      <td>2.636075</td>\n",
       "      <td>0.954421</td>\n",
       "      <td>4.365679</td>\n",
       "      <td>0.494992</td>\n",
       "      <td>1.859409</td>\n",
       "      <td>2.322141</td>\n",
       "      <td>-0.062973</td>\n",
       "      <td>-10.822266</td>\n",
       "      <td>1.652817</td>\n",
       "      <td>NaN</td>\n",
       "    </tr>\n",
       "    <tr>\n",
       "      <th>46</th>\n",
       "      <td>Federación de Rusia</td>\n",
       "      <td>RUS</td>\n",
       "      <td>Crecimiento del PIB per cápita (% anual)</td>\n",
       "      <td>NY.GDP.PCAP.KD.ZG</td>\n",
       "      <td>NaN</td>\n",
       "      <td>NaN</td>\n",
       "      <td>NaN</td>\n",
       "      <td>-3.162836</td>\n",
       "      <td>-5.318762</td>\n",
       "      <td>-14.613917</td>\n",
       "      <td>...</td>\n",
       "      <td>1.538974</td>\n",
       "      <td>-1.045262</td>\n",
       "      <td>-2.183885</td>\n",
       "      <td>0.010248</td>\n",
       "      <td>1.709386</td>\n",
       "      <td>2.815524</td>\n",
       "      <td>2.243980</td>\n",
       "      <td>-2.451027</td>\n",
       "      <td>6.045474</td>\n",
       "      <td>-2.162418</td>\n",
       "    </tr>\n",
       "    <tr>\n",
       "      <th>78</th>\n",
       "      <td>Venezuela</td>\n",
       "      <td>VEN</td>\n",
       "      <td>Crecimiento del PIB per cápita (% anual)</td>\n",
       "      <td>NY.GDP.PCAP.KD.ZG</td>\n",
       "      <td>0.938044</td>\n",
       "      <td>3.164038</td>\n",
       "      <td>-10.820722</td>\n",
       "      <td>3.905847</td>\n",
       "      <td>7.149505</td>\n",
       "      <td>3.630631</td>\n",
       "      <td>...</td>\n",
       "      <td>0.094579</td>\n",
       "      <td>-5.025111</td>\n",
       "      <td>NaN</td>\n",
       "      <td>NaN</td>\n",
       "      <td>NaN</td>\n",
       "      <td>NaN</td>\n",
       "      <td>NaN</td>\n",
       "      <td>NaN</td>\n",
       "      <td>NaN</td>\n",
       "      <td>NaN</td>\n",
       "    </tr>\n",
       "  </tbody>\n",
       "</table>\n",
       "<p>5 rows × 40 columns</p>\n",
       "</div>"
      ],
      "text/plain": [
       "              país Name país Code                                serie Name   \n",
       "0            Afganistán       AFG  Crecimiento del PIB per cápita (% anual)  \\\n",
       "22              Camboya       KHM  Crecimiento del PIB per cápita (% anual)   \n",
       "34                 Cuba       CUB  Crecimiento del PIB per cápita (% anual)   \n",
       "46  Federación de Rusia       RUS  Crecimiento del PIB per cápita (% anual)   \n",
       "78            Venezuela       VEN  Crecimiento del PIB per cápita (% anual)   \n",
       "\n",
       "           serie Code  1987 [YR1987]  1988 [YR1988]  1989 [YR1989]   \n",
       "0   NY.GDP.PCAP.KD.ZG            NaN            NaN            NaN  \\\n",
       "22  NY.GDP.PCAP.KD.ZG            NaN            NaN            NaN   \n",
       "34  NY.GDP.PCAP.KD.ZG      -3.266262       2.725496      -0.293073   \n",
       "46  NY.GDP.PCAP.KD.ZG            NaN            NaN            NaN   \n",
       "78  NY.GDP.PCAP.KD.ZG       0.938044       3.164038     -10.820722   \n",
       "\n",
       "    1990 [YR1990]  1991 [YR1991]  1992 [YR1992]  ...  2013 [YR2013]   \n",
       "0             NaN            NaN            NaN  ...       2.002522  \\\n",
       "22            NaN            NaN            NaN  ...       5.831861   \n",
       "34      -3.857215     -11.419005     -12.154031  ...       2.636075   \n",
       "46      -3.162836      -5.318762     -14.613917  ...       1.538974   \n",
       "78       3.905847       7.149505       3.630631  ...       0.094579   \n",
       "\n",
       "    2014 [YR2014]  2015 [YR2015]  2016 [YR2016]  2017 [YR2017]  2018 [YR2018]   \n",
       "0       -0.964803      -1.666416      -0.345802      -0.253594      -1.688577  \\\n",
       "22       5.655377       5.531685       5.516206       5.603875       6.164476   \n",
       "34       0.954421       4.365679       0.494992       1.859409       2.322141   \n",
       "46      -1.045262      -2.183885       0.010248       1.709386       2.815524   \n",
       "78      -5.025111            NaN            NaN            NaN            NaN   \n",
       "\n",
       "    2019 [YR2019]  2020 [YR2020]  2021 [YR2021]  2022 [YR2022]  \n",
       "0        0.932833      -5.364666     -22.929194            NaN  \n",
       "22       5.848620      -4.213654       1.832958       4.040965  \n",
       "34      -0.062973     -10.822266       1.652817            NaN  \n",
       "46       2.243980      -2.451027       6.045474      -2.162418  \n",
       "78            NaN            NaN            NaN            NaN  \n",
       "\n",
       "[5 rows x 40 columns]"
      ]
     },
     "execution_count": 137,
     "metadata": {},
     "output_type": "execute_result"
    }
   ],
   "source": [
    "df_pbi[(df_pbi.isnull().any(axis=1)) & (df_pbi[\"serie Name\"]==\"Crecimiento del PIB per cápita (% anual)\")]"
   ]
  },
  {
   "cell_type": "code",
   "execution_count": 138,
   "metadata": {},
   "outputs": [
    {
     "data": {
      "text/plain": [
       "0     17\n",
       "1     16\n",
       "79     8\n",
       "78     8\n",
       "22     7\n",
       "      ..\n",
       "28     0\n",
       "27     0\n",
       "26     0\n",
       "25     0\n",
       "87     0\n",
       "Length: 88, dtype: int64"
      ]
     },
     "execution_count": 138,
     "metadata": {},
     "output_type": "execute_result"
    }
   ],
   "source": [
    "df_pbi.isna().sum(axis=1).sort_values(ascending=False)"
   ]
  },
  {
   "cell_type": "code",
   "execution_count": 139,
   "metadata": {},
   "outputs": [
    {
     "data": {
      "text/html": [
       "<div>\n",
       "<style scoped>\n",
       "    .dataframe tbody tr th:only-of-type {\n",
       "        vertical-align: middle;\n",
       "    }\n",
       "\n",
       "    .dataframe tbody tr th {\n",
       "        vertical-align: top;\n",
       "    }\n",
       "\n",
       "    .dataframe thead th {\n",
       "        text-align: right;\n",
       "    }\n",
       "</style>\n",
       "<table border=\"1\" class=\"dataframe\">\n",
       "  <thead>\n",
       "    <tr style=\"text-align: right;\">\n",
       "      <th></th>\n",
       "      <th>país Name</th>\n",
       "      <th>país Code</th>\n",
       "      <th>serie Name</th>\n",
       "      <th>serie Code</th>\n",
       "      <th>1987 [YR1987]</th>\n",
       "      <th>1988 [YR1988]</th>\n",
       "      <th>1989 [YR1989]</th>\n",
       "      <th>1990 [YR1990]</th>\n",
       "      <th>1991 [YR1991]</th>\n",
       "      <th>1992 [YR1992]</th>\n",
       "      <th>...</th>\n",
       "      <th>2013 [YR2013]</th>\n",
       "      <th>2014 [YR2014]</th>\n",
       "      <th>2015 [YR2015]</th>\n",
       "      <th>2016 [YR2016]</th>\n",
       "      <th>2017 [YR2017]</th>\n",
       "      <th>2018 [YR2018]</th>\n",
       "      <th>2019 [YR2019]</th>\n",
       "      <th>2020 [YR2020]</th>\n",
       "      <th>2021 [YR2021]</th>\n",
       "      <th>2022 [YR2022]</th>\n",
       "    </tr>\n",
       "  </thead>\n",
       "  <tbody>\n",
       "    <tr>\n",
       "      <th>1</th>\n",
       "      <td>Afganistán</td>\n",
       "      <td>AFG</td>\n",
       "      <td>PIB per cápita (US$ a precios actuales)</td>\n",
       "      <td>NY.GDP.PCAP.CD</td>\n",
       "      <td>NaN</td>\n",
       "      <td>NaN</td>\n",
       "      <td>NaN</td>\n",
       "      <td>NaN</td>\n",
       "      <td>NaN</td>\n",
       "      <td>NaN</td>\n",
       "      <td>...</td>\n",
       "      <td>651.987862</td>\n",
       "      <td>628.146804</td>\n",
       "      <td>592.476165</td>\n",
       "      <td>520.251955</td>\n",
       "      <td>530.149863</td>\n",
       "      <td>502.057099</td>\n",
       "      <td>500.522981</td>\n",
       "      <td>516.866797</td>\n",
       "      <td>363.674087</td>\n",
       "      <td>NaN</td>\n",
       "    </tr>\n",
       "    <tr>\n",
       "      <th>23</th>\n",
       "      <td>Camboya</td>\n",
       "      <td>KHM</td>\n",
       "      <td>PIB per cápita (US$ a precios actuales)</td>\n",
       "      <td>NY.GDP.PCAP.CD</td>\n",
       "      <td>NaN</td>\n",
       "      <td>NaN</td>\n",
       "      <td>NaN</td>\n",
       "      <td>NaN</td>\n",
       "      <td>NaN</td>\n",
       "      <td>NaN</td>\n",
       "      <td>...</td>\n",
       "      <td>1015.220881</td>\n",
       "      <td>1098.074538</td>\n",
       "      <td>1170.742816</td>\n",
       "      <td>1281.105971</td>\n",
       "      <td>1400.899265</td>\n",
       "      <td>1533.315985</td>\n",
       "      <td>1671.385400</td>\n",
       "      <td>1577.911740</td>\n",
       "      <td>1625.235022</td>\n",
       "      <td>1786.560819</td>\n",
       "    </tr>\n",
       "    <tr>\n",
       "      <th>35</th>\n",
       "      <td>Cuba</td>\n",
       "      <td>CUB</td>\n",
       "      <td>PIB per cápita (US$ a precios actuales)</td>\n",
       "      <td>NY.GDP.PCAP.CD</td>\n",
       "      <td>2441.575942</td>\n",
       "      <td>2633.847388</td>\n",
       "      <td>2567.017064</td>\n",
       "      <td>2695.614865</td>\n",
       "      <td>2269.645578</td>\n",
       "      <td>2048.068839</td>\n",
       "      <td>...</td>\n",
       "      <td>6814.243844</td>\n",
       "      <td>7117.526910</td>\n",
       "      <td>7683.757891</td>\n",
       "      <td>8055.889907</td>\n",
       "      <td>8543.360968</td>\n",
       "      <td>8831.907222</td>\n",
       "      <td>9139.415856</td>\n",
       "      <td>9499.590202</td>\n",
       "      <td>NaN</td>\n",
       "      <td>NaN</td>\n",
       "    </tr>\n",
       "    <tr>\n",
       "      <th>47</th>\n",
       "      <td>Federación de Rusia</td>\n",
       "      <td>RUS</td>\n",
       "      <td>PIB per cápita (US$ a precios actuales)</td>\n",
       "      <td>NY.GDP.PCAP.CD</td>\n",
       "      <td>NaN</td>\n",
       "      <td>3777.235352</td>\n",
       "      <td>3428.762207</td>\n",
       "      <td>3492.710205</td>\n",
       "      <td>3490.452393</td>\n",
       "      <td>3098.802734</td>\n",
       "      <td>...</td>\n",
       "      <td>15974.623047</td>\n",
       "      <td>14095.646484</td>\n",
       "      <td>9313.021484</td>\n",
       "      <td>8704.894531</td>\n",
       "      <td>10720.332031</td>\n",
       "      <td>11287.354492</td>\n",
       "      <td>11536.258789</td>\n",
       "      <td>10194.441406</td>\n",
       "      <td>12593.157227</td>\n",
       "      <td>15345.096680</td>\n",
       "    </tr>\n",
       "    <tr>\n",
       "      <th>79</th>\n",
       "      <td>Venezuela</td>\n",
       "      <td>VEN</td>\n",
       "      <td>PIB per cápita (US$ a precios actuales)</td>\n",
       "      <td>NY.GDP.PCAP.CD</td>\n",
       "      <td>2620.434204</td>\n",
       "      <td>3203.401445</td>\n",
       "      <td>2258.679615</td>\n",
       "      <td>2461.039355</td>\n",
       "      <td>2642.780541</td>\n",
       "      <td>2918.607446</td>\n",
       "      <td>...</td>\n",
       "      <td>12433.980785</td>\n",
       "      <td>15975.729375</td>\n",
       "      <td>NaN</td>\n",
       "      <td>NaN</td>\n",
       "      <td>NaN</td>\n",
       "      <td>NaN</td>\n",
       "      <td>NaN</td>\n",
       "      <td>NaN</td>\n",
       "      <td>NaN</td>\n",
       "      <td>NaN</td>\n",
       "    </tr>\n",
       "  </tbody>\n",
       "</table>\n",
       "<p>5 rows × 40 columns</p>\n",
       "</div>"
      ],
      "text/plain": [
       "              país Name país Code                               serie Name   \n",
       "1            Afganistán       AFG  PIB per cápita (US$ a precios actuales)  \\\n",
       "23              Camboya       KHM  PIB per cápita (US$ a precios actuales)   \n",
       "35                 Cuba       CUB  PIB per cápita (US$ a precios actuales)   \n",
       "47  Federación de Rusia       RUS  PIB per cápita (US$ a precios actuales)   \n",
       "79            Venezuela       VEN  PIB per cápita (US$ a precios actuales)   \n",
       "\n",
       "        serie Code  1987 [YR1987]  1988 [YR1988]  1989 [YR1989]   \n",
       "1   NY.GDP.PCAP.CD            NaN            NaN            NaN  \\\n",
       "23  NY.GDP.PCAP.CD            NaN            NaN            NaN   \n",
       "35  NY.GDP.PCAP.CD    2441.575942    2633.847388    2567.017064   \n",
       "47  NY.GDP.PCAP.CD            NaN    3777.235352    3428.762207   \n",
       "79  NY.GDP.PCAP.CD    2620.434204    3203.401445    2258.679615   \n",
       "\n",
       "    1990 [YR1990]  1991 [YR1991]  1992 [YR1992]  ...  2013 [YR2013]   \n",
       "1             NaN            NaN            NaN  ...     651.987862  \\\n",
       "23            NaN            NaN            NaN  ...    1015.220881   \n",
       "35    2695.614865    2269.645578    2048.068839  ...    6814.243844   \n",
       "47    3492.710205    3490.452393    3098.802734  ...   15974.623047   \n",
       "79    2461.039355    2642.780541    2918.607446  ...   12433.980785   \n",
       "\n",
       "    2014 [YR2014]  2015 [YR2015]  2016 [YR2016]  2017 [YR2017]  2018 [YR2018]   \n",
       "1      628.146804     592.476165     520.251955     530.149863     502.057099  \\\n",
       "23    1098.074538    1170.742816    1281.105971    1400.899265    1533.315985   \n",
       "35    7117.526910    7683.757891    8055.889907    8543.360968    8831.907222   \n",
       "47   14095.646484    9313.021484    8704.894531   10720.332031   11287.354492   \n",
       "79   15975.729375            NaN            NaN            NaN            NaN   \n",
       "\n",
       "    2019 [YR2019]  2020 [YR2020]  2021 [YR2021]  2022 [YR2022]  \n",
       "1      500.522981     516.866797     363.674087            NaN  \n",
       "23    1671.385400    1577.911740    1625.235022    1786.560819  \n",
       "35    9139.415856    9499.590202            NaN            NaN  \n",
       "47   11536.258789   10194.441406   12593.157227   15345.096680  \n",
       "79            NaN            NaN            NaN            NaN  \n",
       "\n",
       "[5 rows x 40 columns]"
      ]
     },
     "execution_count": 139,
     "metadata": {},
     "output_type": "execute_result"
    }
   ],
   "source": [
    "df_pbi[(df_pbi.isnull().any(axis=1)) & (df_pbi[\"serie Name\"]==\"PIB per cápita (US$ a precios actuales)\")]"
   ]
  },
  {
   "cell_type": "code",
   "execution_count": 140,
   "metadata": {},
   "outputs": [
    {
     "data": {
      "text/html": [
       "<div>\n",
       "<style scoped>\n",
       "    .dataframe tbody tr th:only-of-type {\n",
       "        vertical-align: middle;\n",
       "    }\n",
       "\n",
       "    .dataframe tbody tr th {\n",
       "        vertical-align: top;\n",
       "    }\n",
       "\n",
       "    .dataframe thead th {\n",
       "        text-align: right;\n",
       "    }\n",
       "</style>\n",
       "<table border=\"1\" class=\"dataframe\">\n",
       "  <thead>\n",
       "    <tr style=\"text-align: right;\">\n",
       "      <th></th>\n",
       "      <th>país Name</th>\n",
       "      <th>país Code</th>\n",
       "      <th>serie Name</th>\n",
       "      <th>serie Code</th>\n",
       "      <th>1987 [YR1987]</th>\n",
       "      <th>1988 [YR1988]</th>\n",
       "      <th>1989 [YR1989]</th>\n",
       "      <th>1990 [YR1990]</th>\n",
       "      <th>1991 [YR1991]</th>\n",
       "      <th>1992 [YR1992]</th>\n",
       "      <th>...</th>\n",
       "      <th>2013 [YR2013]</th>\n",
       "      <th>2014 [YR2014]</th>\n",
       "      <th>2015 [YR2015]</th>\n",
       "      <th>2016 [YR2016]</th>\n",
       "      <th>2017 [YR2017]</th>\n",
       "      <th>2018 [YR2018]</th>\n",
       "      <th>2019 [YR2019]</th>\n",
       "      <th>2020 [YR2020]</th>\n",
       "      <th>2021 [YR2021]</th>\n",
       "      <th>2022 [YR2022]</th>\n",
       "    </tr>\n",
       "  </thead>\n",
       "  <tbody>\n",
       "    <tr>\n",
       "      <th>2</th>\n",
       "      <td>Alemania</td>\n",
       "      <td>DEU</td>\n",
       "      <td>Crecimiento del PIB per cápita (% anual)</td>\n",
       "      <td>NY.GDP.PCAP.KD.ZG</td>\n",
       "      <td>1.246500</td>\n",
       "      <td>3.302864</td>\n",
       "      <td>3.096180</td>\n",
       "      <td>4.351639</td>\n",
       "      <td>4.345220</td>\n",
       "      <td>1.151046</td>\n",
       "      <td>...</td>\n",
       "      <td>0.163871</td>\n",
       "      <td>1.784342</td>\n",
       "      <td>0.617105</td>\n",
       "      <td>1.408102</td>\n",
       "      <td>2.297206</td>\n",
       "      <td>0.678213</td>\n",
       "      <td>0.828958</td>\n",
       "      <td>-3.775430</td>\n",
       "      <td>2.583557</td>\n",
       "      <td>0.715380</td>\n",
       "    </tr>\n",
       "    <tr>\n",
       "      <th>3</th>\n",
       "      <td>Alemania</td>\n",
       "      <td>DEU</td>\n",
       "      <td>PIB per cápita (US$ a precios actuales)</td>\n",
       "      <td>NY.GDP.PCAP.CD</td>\n",
       "      <td>16677.510788</td>\n",
       "      <td>17931.282323</td>\n",
       "      <td>17764.376446</td>\n",
       "      <td>22303.961327</td>\n",
       "      <td>23357.757725</td>\n",
       "      <td>26438.230389</td>\n",
       "      <td>...</td>\n",
       "      <td>46298.922918</td>\n",
       "      <td>48023.869985</td>\n",
       "      <td>41103.256436</td>\n",
       "      <td>42136.120791</td>\n",
       "      <td>44652.589172</td>\n",
       "      <td>47939.278288</td>\n",
       "      <td>46793.686762</td>\n",
       "      <td>46772.825351</td>\n",
       "      <td>51203.554473</td>\n",
       "      <td>48432.455873</td>\n",
       "    </tr>\n",
       "    <tr>\n",
       "      <th>4</th>\n",
       "      <td>Argelia</td>\n",
       "      <td>DZA</td>\n",
       "      <td>Crecimiento del PIB per cápita (% anual)</td>\n",
       "      <td>NY.GDP.PCAP.KD.ZG</td>\n",
       "      <td>-3.662010</td>\n",
       "      <td>-3.682624</td>\n",
       "      <td>1.688279</td>\n",
       "      <td>-1.682928</td>\n",
       "      <td>-3.528168</td>\n",
       "      <td>-0.538304</td>\n",
       "      <td>...</td>\n",
       "      <td>0.797968</td>\n",
       "      <td>1.765941</td>\n",
       "      <td>1.646657</td>\n",
       "      <td>1.163148</td>\n",
       "      <td>-0.663171</td>\n",
       "      <td>-0.707950</td>\n",
       "      <td>-0.840857</td>\n",
       "      <td>-6.729942</td>\n",
       "      <td>1.700064</td>\n",
       "      <td>1.434777</td>\n",
       "    </tr>\n",
       "    <tr>\n",
       "      <th>5</th>\n",
       "      <td>Argelia</td>\n",
       "      <td>DZA</td>\n",
       "      <td>PIB per cápita (US$ a precios actuales)</td>\n",
       "      <td>NY.GDP.PCAP.CD</td>\n",
       "      <td>2829.879469</td>\n",
       "      <td>2437.378060</td>\n",
       "      <td>2235.268024</td>\n",
       "      <td>2431.551269</td>\n",
       "      <td>1749.286087</td>\n",
       "      <td>1794.623507</td>\n",
       "      <td>...</td>\n",
       "      <td>5519.777576</td>\n",
       "      <td>5516.229463</td>\n",
       "      <td>4197.419971</td>\n",
       "      <td>3967.200660</td>\n",
       "      <td>4134.936099</td>\n",
       "      <td>4171.795309</td>\n",
       "      <td>4021.983608</td>\n",
       "      <td>3354.157303</td>\n",
       "      <td>3700.311195</td>\n",
       "      <td>4273.922183</td>\n",
       "    </tr>\n",
       "    <tr>\n",
       "      <th>6</th>\n",
       "      <td>Arabia Saudita</td>\n",
       "      <td>SAU</td>\n",
       "      <td>Crecimiento del PIB per cápita (% anual)</td>\n",
       "      <td>NY.GDP.PCAP.KD.ZG</td>\n",
       "      <td>-10.651193</td>\n",
       "      <td>8.313052</td>\n",
       "      <td>-4.647390</td>\n",
       "      <td>10.504030</td>\n",
       "      <td>10.522599</td>\n",
       "      <td>0.214231</td>\n",
       "      <td>...</td>\n",
       "      <td>0.691066</td>\n",
       "      <td>1.945302</td>\n",
       "      <td>2.694521</td>\n",
       "      <td>0.321644</td>\n",
       "      <td>-2.340068</td>\n",
       "      <td>0.341213</td>\n",
       "      <td>-1.445208</td>\n",
       "      <td>-4.792468</td>\n",
       "      <td>4.056751</td>\n",
       "      <td>7.374954</td>\n",
       "    </tr>\n",
       "    <tr>\n",
       "      <th>...</th>\n",
       "      <td>...</td>\n",
       "      <td>...</td>\n",
       "      <td>...</td>\n",
       "      <td>...</td>\n",
       "      <td>...</td>\n",
       "      <td>...</td>\n",
       "      <td>...</td>\n",
       "      <td>...</td>\n",
       "      <td>...</td>\n",
       "      <td>...</td>\n",
       "      <td>...</td>\n",
       "      <td>...</td>\n",
       "      <td>...</td>\n",
       "      <td>...</td>\n",
       "      <td>...</td>\n",
       "      <td>...</td>\n",
       "      <td>...</td>\n",
       "      <td>...</td>\n",
       "      <td>...</td>\n",
       "      <td>...</td>\n",
       "      <td>...</td>\n",
       "    </tr>\n",
       "    <tr>\n",
       "      <th>83</th>\n",
       "      <td>Japón</td>\n",
       "      <td>JPN</td>\n",
       "      <td>PIB per cápita (US$ a precios actuales)</td>\n",
       "      <td>NY.GDP.PCAP.CD</td>\n",
       "      <td>20748.990924</td>\n",
       "      <td>25059.013952</td>\n",
       "      <td>24822.772568</td>\n",
       "      <td>25371.464171</td>\n",
       "      <td>28915.015360</td>\n",
       "      <td>31414.976369</td>\n",
       "      <td>...</td>\n",
       "      <td>40898.647896</td>\n",
       "      <td>38475.395246</td>\n",
       "      <td>34960.639384</td>\n",
       "      <td>39375.473162</td>\n",
       "      <td>38834.052934</td>\n",
       "      <td>39751.133098</td>\n",
       "      <td>40415.956765</td>\n",
       "      <td>39986.928629</td>\n",
       "      <td>39827.126768</td>\n",
       "      <td>33815.317273</td>\n",
       "    </tr>\n",
       "    <tr>\n",
       "      <th>84</th>\n",
       "      <td>Kenya</td>\n",
       "      <td>KEN</td>\n",
       "      <td>Crecimiento del PIB per cápita (% anual)</td>\n",
       "      <td>NY.GDP.PCAP.KD.ZG</td>\n",
       "      <td>2.278306</td>\n",
       "      <td>2.549355</td>\n",
       "      <td>1.128559</td>\n",
       "      <td>0.708230</td>\n",
       "      <td>-1.767740</td>\n",
       "      <td>-3.766723</td>\n",
       "      <td>...</td>\n",
       "      <td>1.326293</td>\n",
       "      <td>2.638190</td>\n",
       "      <td>2.683317</td>\n",
       "      <td>1.943668</td>\n",
       "      <td>1.603147</td>\n",
       "      <td>3.522084</td>\n",
       "      <td>3.054958</td>\n",
       "      <td>-2.256980</td>\n",
       "      <td>5.520436</td>\n",
       "      <td>2.863571</td>\n",
       "    </tr>\n",
       "    <tr>\n",
       "      <th>85</th>\n",
       "      <td>Kenya</td>\n",
       "      <td>KEN</td>\n",
       "      <td>PIB per cápita (US$ a precios actuales)</td>\n",
       "      <td>NY.GDP.PCAP.CD</td>\n",
       "      <td>381.705998</td>\n",
       "      <td>386.355949</td>\n",
       "      <td>369.983363</td>\n",
       "      <td>370.100147</td>\n",
       "      <td>340.806455</td>\n",
       "      <td>332.949907</td>\n",
       "      <td>...</td>\n",
       "      <td>1376.829206</td>\n",
       "      <td>1489.919724</td>\n",
       "      <td>1496.653568</td>\n",
       "      <td>1562.076611</td>\n",
       "      <td>1675.988430</td>\n",
       "      <td>1845.783413</td>\n",
       "      <td>1970.080063</td>\n",
       "      <td>1936.250752</td>\n",
       "      <td>2069.661137</td>\n",
       "      <td>2099.301938</td>\n",
       "    </tr>\n",
       "    <tr>\n",
       "      <th>86</th>\n",
       "      <td>Noruega</td>\n",
       "      <td>NOR</td>\n",
       "      <td>Crecimiento del PIB per cápita (% anual)</td>\n",
       "      <td>NY.GDP.PCAP.KD.ZG</td>\n",
       "      <td>1.278353</td>\n",
       "      <td>-0.790237</td>\n",
       "      <td>0.622019</td>\n",
       "      <td>1.582093</td>\n",
       "      <td>2.594406</td>\n",
       "      <td>2.978370</td>\n",
       "      <td>...</td>\n",
       "      <td>-0.197883</td>\n",
       "      <td>0.903763</td>\n",
       "      <td>0.848799</td>\n",
       "      <td>0.277408</td>\n",
       "      <td>1.639507</td>\n",
       "      <td>0.165561</td>\n",
       "      <td>0.443399</td>\n",
       "      <td>-1.857696</td>\n",
       "      <td>3.344262</td>\n",
       "      <td>2.356846</td>\n",
       "    </tr>\n",
       "    <tr>\n",
       "      <th>87</th>\n",
       "      <td>Noruega</td>\n",
       "      <td>NOR</td>\n",
       "      <td>PIB per cápita (US$ a precios actuales)</td>\n",
       "      <td>NY.GDP.PCAP.CD</td>\n",
       "      <td>22506.029283</td>\n",
       "      <td>24207.343377</td>\n",
       "      <td>24281.130405</td>\n",
       "      <td>28242.793409</td>\n",
       "      <td>28596.745532</td>\n",
       "      <td>30523.980963</td>\n",
       "      <td>...</td>\n",
       "      <td>103553.840134</td>\n",
       "      <td>97666.695184</td>\n",
       "      <td>74809.965805</td>\n",
       "      <td>70867.360997</td>\n",
       "      <td>76131.838403</td>\n",
       "      <td>82792.842711</td>\n",
       "      <td>76430.588947</td>\n",
       "      <td>68340.018103</td>\n",
       "      <td>90655.391023</td>\n",
       "      <td>106148.778628</td>\n",
       "    </tr>\n",
       "  </tbody>\n",
       "</table>\n",
       "<p>78 rows × 40 columns</p>\n",
       "</div>"
      ],
      "text/plain": [
       "         país Name país Code                                serie Name   \n",
       "2         Alemania       DEU  Crecimiento del PIB per cápita (% anual)  \\\n",
       "3         Alemania       DEU   PIB per cápita (US$ a precios actuales)   \n",
       "4          Argelia       DZA  Crecimiento del PIB per cápita (% anual)   \n",
       "5          Argelia       DZA   PIB per cápita (US$ a precios actuales)   \n",
       "6   Arabia Saudita       SAU  Crecimiento del PIB per cápita (% anual)   \n",
       "..             ...       ...                                       ...   \n",
       "83           Japón       JPN   PIB per cápita (US$ a precios actuales)   \n",
       "84           Kenya       KEN  Crecimiento del PIB per cápita (% anual)   \n",
       "85           Kenya       KEN   PIB per cápita (US$ a precios actuales)   \n",
       "86         Noruega       NOR  Crecimiento del PIB per cápita (% anual)   \n",
       "87         Noruega       NOR   PIB per cápita (US$ a precios actuales)   \n",
       "\n",
       "           serie Code  1987 [YR1987]  1988 [YR1988]  1989 [YR1989]   \n",
       "2   NY.GDP.PCAP.KD.ZG       1.246500       3.302864       3.096180  \\\n",
       "3      NY.GDP.PCAP.CD   16677.510788   17931.282323   17764.376446   \n",
       "4   NY.GDP.PCAP.KD.ZG      -3.662010      -3.682624       1.688279   \n",
       "5      NY.GDP.PCAP.CD    2829.879469    2437.378060    2235.268024   \n",
       "6   NY.GDP.PCAP.KD.ZG     -10.651193       8.313052      -4.647390   \n",
       "..                ...            ...            ...            ...   \n",
       "83     NY.GDP.PCAP.CD   20748.990924   25059.013952   24822.772568   \n",
       "84  NY.GDP.PCAP.KD.ZG       2.278306       2.549355       1.128559   \n",
       "85     NY.GDP.PCAP.CD     381.705998     386.355949     369.983363   \n",
       "86  NY.GDP.PCAP.KD.ZG       1.278353      -0.790237       0.622019   \n",
       "87     NY.GDP.PCAP.CD   22506.029283   24207.343377   24281.130405   \n",
       "\n",
       "    1990 [YR1990]  1991 [YR1991]  1992 [YR1992]  ...  2013 [YR2013]   \n",
       "2        4.351639       4.345220       1.151046  ...       0.163871  \\\n",
       "3    22303.961327   23357.757725   26438.230389  ...   46298.922918   \n",
       "4       -1.682928      -3.528168      -0.538304  ...       0.797968   \n",
       "5     2431.551269    1749.286087    1794.623507  ...    5519.777576   \n",
       "6       10.504030      10.522599       0.214231  ...       0.691066   \n",
       "..            ...            ...            ...  ...            ...   \n",
       "83   25371.464171   28915.015360   31414.976369  ...   40898.647896   \n",
       "84       0.708230      -1.767740      -3.766723  ...       1.326293   \n",
       "85     370.100147     340.806455     332.949907  ...    1376.829206   \n",
       "86       1.582093       2.594406       2.978370  ...      -0.197883   \n",
       "87   28242.793409   28596.745532   30523.980963  ...  103553.840134   \n",
       "\n",
       "    2014 [YR2014]  2015 [YR2015]  2016 [YR2016]  2017 [YR2017]  2018 [YR2018]   \n",
       "2        1.784342       0.617105       1.408102       2.297206       0.678213  \\\n",
       "3    48023.869985   41103.256436   42136.120791   44652.589172   47939.278288   \n",
       "4        1.765941       1.646657       1.163148      -0.663171      -0.707950   \n",
       "5     5516.229463    4197.419971    3967.200660    4134.936099    4171.795309   \n",
       "6        1.945302       2.694521       0.321644      -2.340068       0.341213   \n",
       "..            ...            ...            ...            ...            ...   \n",
       "83   38475.395246   34960.639384   39375.473162   38834.052934   39751.133098   \n",
       "84       2.638190       2.683317       1.943668       1.603147       3.522084   \n",
       "85    1489.919724    1496.653568    1562.076611    1675.988430    1845.783413   \n",
       "86       0.903763       0.848799       0.277408       1.639507       0.165561   \n",
       "87   97666.695184   74809.965805   70867.360997   76131.838403   82792.842711   \n",
       "\n",
       "    2019 [YR2019]  2020 [YR2020]  2021 [YR2021]  2022 [YR2022]  \n",
       "2        0.828958      -3.775430       2.583557       0.715380  \n",
       "3    46793.686762   46772.825351   51203.554473   48432.455873  \n",
       "4       -0.840857      -6.729942       1.700064       1.434777  \n",
       "5     4021.983608    3354.157303    3700.311195    4273.922183  \n",
       "6       -1.445208      -4.792468       4.056751       7.374954  \n",
       "..            ...            ...            ...            ...  \n",
       "83   40415.956765   39986.928629   39827.126768   33815.317273  \n",
       "84       3.054958      -2.256980       5.520436       2.863571  \n",
       "85    1970.080063    1936.250752    2069.661137    2099.301938  \n",
       "86       0.443399      -1.857696       3.344262       2.356846  \n",
       "87   76430.588947   68340.018103   90655.391023  106148.778628  \n",
       "\n",
       "[78 rows x 40 columns]"
      ]
     },
     "execution_count": 140,
     "metadata": {},
     "output_type": "execute_result"
    }
   ],
   "source": [
    "df_pbi.dropna(inplace=True)\n",
    "df_pbi"
   ]
  },
  {
   "cell_type": "code",
   "execution_count": 141,
   "metadata": {},
   "outputs": [],
   "source": [
    "df_pbi = df_pbi.drop(columns=[\"país Code\", \"serie Code\"])"
   ]
  },
  {
   "cell_type": "code",
   "execution_count": 142,
   "metadata": {},
   "outputs": [
    {
     "data": {
      "text/html": [
       "<div>\n",
       "<style scoped>\n",
       "    .dataframe tbody tr th:only-of-type {\n",
       "        vertical-align: middle;\n",
       "    }\n",
       "\n",
       "    .dataframe tbody tr th {\n",
       "        vertical-align: top;\n",
       "    }\n",
       "\n",
       "    .dataframe thead th {\n",
       "        text-align: right;\n",
       "    }\n",
       "</style>\n",
       "<table border=\"1\" class=\"dataframe\">\n",
       "  <thead>\n",
       "    <tr style=\"text-align: right;\">\n",
       "      <th></th>\n",
       "      <th>país Name</th>\n",
       "      <th>serie Name</th>\n",
       "      <th>1987 [YR1987]</th>\n",
       "      <th>1988 [YR1988]</th>\n",
       "      <th>1989 [YR1989]</th>\n",
       "      <th>1990 [YR1990]</th>\n",
       "      <th>1991 [YR1991]</th>\n",
       "      <th>1992 [YR1992]</th>\n",
       "      <th>1993 [YR1993]</th>\n",
       "      <th>1994 [YR1994]</th>\n",
       "      <th>...</th>\n",
       "      <th>2013 [YR2013]</th>\n",
       "      <th>2014 [YR2014]</th>\n",
       "      <th>2015 [YR2015]</th>\n",
       "      <th>2016 [YR2016]</th>\n",
       "      <th>2017 [YR2017]</th>\n",
       "      <th>2018 [YR2018]</th>\n",
       "      <th>2019 [YR2019]</th>\n",
       "      <th>2020 [YR2020]</th>\n",
       "      <th>2021 [YR2021]</th>\n",
       "      <th>2022 [YR2022]</th>\n",
       "    </tr>\n",
       "  </thead>\n",
       "  <tbody>\n",
       "    <tr>\n",
       "      <th>2</th>\n",
       "      <td>Alemania</td>\n",
       "      <td>Crecimiento del PIB per cápita (% anual)</td>\n",
       "      <td>1.246500</td>\n",
       "      <td>3.302864</td>\n",
       "      <td>3.096180</td>\n",
       "      <td>4.351639</td>\n",
       "      <td>4.345220</td>\n",
       "      <td>1.151046</td>\n",
       "      <td>-1.625684</td>\n",
       "      <td>2.037354</td>\n",
       "      <td>...</td>\n",
       "      <td>0.163871</td>\n",
       "      <td>1.784342</td>\n",
       "      <td>0.617105</td>\n",
       "      <td>1.408102</td>\n",
       "      <td>2.297206</td>\n",
       "      <td>0.678213</td>\n",
       "      <td>0.828958</td>\n",
       "      <td>-3.775430</td>\n",
       "      <td>2.583557</td>\n",
       "      <td>0.715380</td>\n",
       "    </tr>\n",
       "    <tr>\n",
       "      <th>3</th>\n",
       "      <td>Alemania</td>\n",
       "      <td>PIB per cápita (US$ a precios actuales)</td>\n",
       "      <td>16677.510788</td>\n",
       "      <td>17931.282323</td>\n",
       "      <td>17764.376446</td>\n",
       "      <td>22303.961327</td>\n",
       "      <td>23357.757725</td>\n",
       "      <td>26438.230389</td>\n",
       "      <td>25522.629573</td>\n",
       "      <td>27076.606750</td>\n",
       "      <td>...</td>\n",
       "      <td>46298.922918</td>\n",
       "      <td>48023.869985</td>\n",
       "      <td>41103.256436</td>\n",
       "      <td>42136.120791</td>\n",
       "      <td>44652.589172</td>\n",
       "      <td>47939.278288</td>\n",
       "      <td>46793.686762</td>\n",
       "      <td>46772.825351</td>\n",
       "      <td>51203.554473</td>\n",
       "      <td>48432.455873</td>\n",
       "    </tr>\n",
       "    <tr>\n",
       "      <th>4</th>\n",
       "      <td>Argelia</td>\n",
       "      <td>Crecimiento del PIB per cápita (% anual)</td>\n",
       "      <td>-3.662010</td>\n",
       "      <td>-3.682624</td>\n",
       "      <td>1.688279</td>\n",
       "      <td>-1.682928</td>\n",
       "      <td>-3.528168</td>\n",
       "      <td>-0.538304</td>\n",
       "      <td>-4.268935</td>\n",
       "      <td>-2.966914</td>\n",
       "      <td>...</td>\n",
       "      <td>0.797968</td>\n",
       "      <td>1.765941</td>\n",
       "      <td>1.646657</td>\n",
       "      <td>1.163148</td>\n",
       "      <td>-0.663171</td>\n",
       "      <td>-0.707950</td>\n",
       "      <td>-0.840857</td>\n",
       "      <td>-6.729942</td>\n",
       "      <td>1.700064</td>\n",
       "      <td>1.434777</td>\n",
       "    </tr>\n",
       "  </tbody>\n",
       "</table>\n",
       "<p>3 rows × 38 columns</p>\n",
       "</div>"
      ],
      "text/plain": [
       "  país Name                                serie Name  1987 [YR1987]   \n",
       "2  Alemania  Crecimiento del PIB per cápita (% anual)       1.246500  \\\n",
       "3  Alemania   PIB per cápita (US$ a precios actuales)   16677.510788   \n",
       "4   Argelia  Crecimiento del PIB per cápita (% anual)      -3.662010   \n",
       "\n",
       "   1988 [YR1988]  1989 [YR1989]  1990 [YR1990]  1991 [YR1991]  1992 [YR1992]   \n",
       "2       3.302864       3.096180       4.351639       4.345220       1.151046  \\\n",
       "3   17931.282323   17764.376446   22303.961327   23357.757725   26438.230389   \n",
       "4      -3.682624       1.688279      -1.682928      -3.528168      -0.538304   \n",
       "\n",
       "   1993 [YR1993]  1994 [YR1994]  ...  2013 [YR2013]  2014 [YR2014]   \n",
       "2      -1.625684       2.037354  ...       0.163871       1.784342  \\\n",
       "3   25522.629573   27076.606750  ...   46298.922918   48023.869985   \n",
       "4      -4.268935      -2.966914  ...       0.797968       1.765941   \n",
       "\n",
       "   2015 [YR2015]  2016 [YR2016]  2017 [YR2017]  2018 [YR2018]  2019 [YR2019]   \n",
       "2       0.617105       1.408102       2.297206       0.678213       0.828958  \\\n",
       "3   41103.256436   42136.120791   44652.589172   47939.278288   46793.686762   \n",
       "4       1.646657       1.163148      -0.663171      -0.707950      -0.840857   \n",
       "\n",
       "   2020 [YR2020]  2021 [YR2021]  2022 [YR2022]  \n",
       "2      -3.775430       2.583557       0.715380  \n",
       "3   46772.825351   51203.554473   48432.455873  \n",
       "4      -6.729942       1.700064       1.434777  \n",
       "\n",
       "[3 rows x 38 columns]"
      ]
     },
     "execution_count": 142,
     "metadata": {},
     "output_type": "execute_result"
    }
   ],
   "source": [
    "df_pbi.head(3)"
   ]
  },
  {
   "cell_type": "code",
   "execution_count": 143,
   "metadata": {},
   "outputs": [
    {
     "data": {
      "text/html": [
       "<div>\n",
       "<style scoped>\n",
       "    .dataframe tbody tr th:only-of-type {\n",
       "        vertical-align: middle;\n",
       "    }\n",
       "\n",
       "    .dataframe tbody tr th {\n",
       "        vertical-align: top;\n",
       "    }\n",
       "\n",
       "    .dataframe thead th {\n",
       "        text-align: right;\n",
       "    }\n",
       "</style>\n",
       "<table border=\"1\" class=\"dataframe\">\n",
       "  <thead>\n",
       "    <tr style=\"text-align: right;\">\n",
       "      <th>serie Name</th>\n",
       "      <th>país Name</th>\n",
       "      <th>Año</th>\n",
       "      <th>Crecimiento del PIB per cápita (% anual)</th>\n",
       "      <th>PIB per cápita (US$ a precios actuales)</th>\n",
       "    </tr>\n",
       "  </thead>\n",
       "  <tbody>\n",
       "    <tr>\n",
       "      <th>0</th>\n",
       "      <td>Alemania</td>\n",
       "      <td>1987</td>\n",
       "      <td>1.246500</td>\n",
       "      <td>16677.510788</td>\n",
       "    </tr>\n",
       "    <tr>\n",
       "      <th>1</th>\n",
       "      <td>Alemania</td>\n",
       "      <td>1988</td>\n",
       "      <td>3.302864</td>\n",
       "      <td>17931.282323</td>\n",
       "    </tr>\n",
       "    <tr>\n",
       "      <th>2</th>\n",
       "      <td>Alemania</td>\n",
       "      <td>1989</td>\n",
       "      <td>3.096180</td>\n",
       "      <td>17764.376446</td>\n",
       "    </tr>\n",
       "    <tr>\n",
       "      <th>3</th>\n",
       "      <td>Alemania</td>\n",
       "      <td>1990</td>\n",
       "      <td>4.351639</td>\n",
       "      <td>22303.961327</td>\n",
       "    </tr>\n",
       "    <tr>\n",
       "      <th>4</th>\n",
       "      <td>Alemania</td>\n",
       "      <td>1991</td>\n",
       "      <td>4.345220</td>\n",
       "      <td>23357.757725</td>\n",
       "    </tr>\n",
       "    <tr>\n",
       "      <th>...</th>\n",
       "      <td>...</td>\n",
       "      <td>...</td>\n",
       "      <td>...</td>\n",
       "      <td>...</td>\n",
       "    </tr>\n",
       "    <tr>\n",
       "      <th>1399</th>\n",
       "      <td>Suiza</td>\n",
       "      <td>2018</td>\n",
       "      <td>2.105525</td>\n",
       "      <td>85216.642951</td>\n",
       "    </tr>\n",
       "    <tr>\n",
       "      <th>1400</th>\n",
       "      <td>Suiza</td>\n",
       "      <td>2019</td>\n",
       "      <td>0.423090</td>\n",
       "      <td>84121.931030</td>\n",
       "    </tr>\n",
       "    <tr>\n",
       "      <th>1401</th>\n",
       "      <td>Suiza</td>\n",
       "      <td>2020</td>\n",
       "      <td>-3.086282</td>\n",
       "      <td>85656.322666</td>\n",
       "    </tr>\n",
       "    <tr>\n",
       "      <th>1402</th>\n",
       "      <td>Suiza</td>\n",
       "      <td>2021</td>\n",
       "      <td>3.440503</td>\n",
       "      <td>91991.600458</td>\n",
       "    </tr>\n",
       "    <tr>\n",
       "      <th>1403</th>\n",
       "      <td>Suiza</td>\n",
       "      <td>2022</td>\n",
       "      <td>1.287237</td>\n",
       "      <td>92101.469741</td>\n",
       "    </tr>\n",
       "  </tbody>\n",
       "</table>\n",
       "<p>1404 rows × 4 columns</p>\n",
       "</div>"
      ],
      "text/plain": [
       "serie Name país Name   Año  Crecimiento del PIB per cápita (% anual)   \n",
       "0           Alemania  1987                                  1.246500  \\\n",
       "1           Alemania  1988                                  3.302864   \n",
       "2           Alemania  1989                                  3.096180   \n",
       "3           Alemania  1990                                  4.351639   \n",
       "4           Alemania  1991                                  4.345220   \n",
       "...              ...   ...                                       ...   \n",
       "1399           Suiza  2018                                  2.105525   \n",
       "1400           Suiza  2019                                  0.423090   \n",
       "1401           Suiza  2020                                 -3.086282   \n",
       "1402           Suiza  2021                                  3.440503   \n",
       "1403           Suiza  2022                                  1.287237   \n",
       "\n",
       "serie Name  PIB per cápita (US$ a precios actuales)  \n",
       "0                                      16677.510788  \n",
       "1                                      17931.282323  \n",
       "2                                      17764.376446  \n",
       "3                                      22303.961327  \n",
       "4                                      23357.757725  \n",
       "...                                             ...  \n",
       "1399                                   85216.642951  \n",
       "1400                                   84121.931030  \n",
       "1401                                   85656.322666  \n",
       "1402                                   91991.600458  \n",
       "1403                                   92101.469741  \n",
       "\n",
       "[1404 rows x 4 columns]"
      ]
     },
     "execution_count": 143,
     "metadata": {},
     "output_type": "execute_result"
    }
   ],
   "source": [
    "df_melted = df_pbi.melt(id_vars=['país Name', 'serie Name'], var_name='Año', value_name='Valor')\n",
    "\n",
    "df_pivoted = df_melted.pivot_table(index=['país Name', 'Año'], columns='serie Name', values='Valor')\n",
    "\n",
    "df_pivoted.reset_index(inplace=True)\n",
    "\n",
    "df_pivoted[\"Año\"] = df_pivoted['Año'].str[:4]\n",
    "df_pivoted"
   ]
  },
  {
   "cell_type": "code",
   "execution_count": 144,
   "metadata": {},
   "outputs": [
    {
     "data": {
      "text/html": [
       "<div>\n",
       "<style scoped>\n",
       "    .dataframe tbody tr th:only-of-type {\n",
       "        vertical-align: middle;\n",
       "    }\n",
       "\n",
       "    .dataframe tbody tr th {\n",
       "        vertical-align: top;\n",
       "    }\n",
       "\n",
       "    .dataframe thead th {\n",
       "        text-align: right;\n",
       "    }\n",
       "</style>\n",
       "<table border=\"1\" class=\"dataframe\">\n",
       "  <thead>\n",
       "    <tr style=\"text-align: right;\">\n",
       "      <th>serie Name</th>\n",
       "      <th>Crecimiento del PIB per cápita (% anual)</th>\n",
       "      <th>PIB per cápita (US$ a precios actuales)</th>\n",
       "    </tr>\n",
       "  </thead>\n",
       "  <tbody>\n",
       "    <tr>\n",
       "      <th>count</th>\n",
       "      <td>1404.000000</td>\n",
       "      <td>1404.000000</td>\n",
       "    </tr>\n",
       "    <tr>\n",
       "      <th>mean</th>\n",
       "      <td>1.646661</td>\n",
       "      <td>18303.277381</td>\n",
       "    </tr>\n",
       "    <tr>\n",
       "      <th>std</th>\n",
       "      <td>4.311387</td>\n",
       "      <td>20925.244094</td>\n",
       "    </tr>\n",
       "    <tr>\n",
       "      <th>min</th>\n",
       "      <td>-41.586861</td>\n",
       "      <td>111.937304</td>\n",
       "    </tr>\n",
       "    <tr>\n",
       "      <th>25%</th>\n",
       "      <td>0.036185</td>\n",
       "      <td>1535.732735</td>\n",
       "    </tr>\n",
       "    <tr>\n",
       "      <th>50%</th>\n",
       "      <td>1.821038</td>\n",
       "      <td>8157.358413</td>\n",
       "    </tr>\n",
       "    <tr>\n",
       "      <th>75%</th>\n",
       "      <td>3.457111</td>\n",
       "      <td>30314.230593</td>\n",
       "    </tr>\n",
       "    <tr>\n",
       "      <th>max</th>\n",
       "      <td>60.090541</td>\n",
       "      <td>106148.778628</td>\n",
       "    </tr>\n",
       "  </tbody>\n",
       "</table>\n",
       "</div>"
      ],
      "text/plain": [
       "serie Name  Crecimiento del PIB per cápita (% anual)   \n",
       "count                                    1404.000000  \\\n",
       "mean                                        1.646661   \n",
       "std                                         4.311387   \n",
       "min                                       -41.586861   \n",
       "25%                                         0.036185   \n",
       "50%                                         1.821038   \n",
       "75%                                         3.457111   \n",
       "max                                        60.090541   \n",
       "\n",
       "serie Name  PIB per cápita (US$ a precios actuales)  \n",
       "count                                   1404.000000  \n",
       "mean                                   18303.277381  \n",
       "std                                    20925.244094  \n",
       "min                                      111.937304  \n",
       "25%                                     1535.732735  \n",
       "50%                                     8157.358413  \n",
       "75%                                    30314.230593  \n",
       "max                                   106148.778628  "
      ]
     },
     "execution_count": 144,
     "metadata": {},
     "output_type": "execute_result"
    }
   ],
   "source": [
    "df_pivoted.describe()"
   ]
  },
  {
   "cell_type": "code",
   "execution_count": 145,
   "metadata": {},
   "outputs": [
    {
     "data": {
      "text/html": [
       "<div>\n",
       "<style scoped>\n",
       "    .dataframe tbody tr th:only-of-type {\n",
       "        vertical-align: middle;\n",
       "    }\n",
       "\n",
       "    .dataframe tbody tr th {\n",
       "        vertical-align: top;\n",
       "    }\n",
       "\n",
       "    .dataframe thead th {\n",
       "        text-align: right;\n",
       "    }\n",
       "</style>\n",
       "<table border=\"1\" class=\"dataframe\">\n",
       "  <thead>\n",
       "    <tr style=\"text-align: right;\">\n",
       "      <th>serie Name</th>\n",
       "      <th>país Name</th>\n",
       "      <th>Año</th>\n",
       "      <th>Crecimiento del PIB per cápita (% anual)</th>\n",
       "      <th>PIB per cápita (US$ a precios actuales)</th>\n",
       "    </tr>\n",
       "  </thead>\n",
       "  <tbody>\n",
       "    <tr>\n",
       "      <th>341</th>\n",
       "      <td>Chad</td>\n",
       "      <td>2004</td>\n",
       "      <td>27.831095</td>\n",
       "      <td>460.067018</td>\n",
       "    </tr>\n",
       "    <tr>\n",
       "      <th>719</th>\n",
       "      <td>Fiji</td>\n",
       "      <td>2022</td>\n",
       "      <td>15.480883</td>\n",
       "      <td>5316.658385</td>\n",
       "    </tr>\n",
       "    <tr>\n",
       "      <th>1196</th>\n",
       "      <td>Rwanda</td>\n",
       "      <td>1995</td>\n",
       "      <td>60.090541</td>\n",
       "      <td>227.458875</td>\n",
       "    </tr>\n",
       "    <tr>\n",
       "      <th>1275</th>\n",
       "      <td>Sierra Leona</td>\n",
       "      <td>2002</td>\n",
       "      <td>19.557657</td>\n",
       "      <td>240.507519</td>\n",
       "    </tr>\n",
       "    <tr>\n",
       "      <th>1286</th>\n",
       "      <td>Sierra Leona</td>\n",
       "      <td>2013</td>\n",
       "      <td>18.014653</td>\n",
       "      <td>706.452665</td>\n",
       "    </tr>\n",
       "  </tbody>\n",
       "</table>\n",
       "</div>"
      ],
      "text/plain": [
       "serie Name     país Name   Año  Crecimiento del PIB per cápita (% anual)   \n",
       "341                 Chad  2004                                 27.831095  \\\n",
       "719                 Fiji  2022                                 15.480883   \n",
       "1196              Rwanda  1995                                 60.090541   \n",
       "1275        Sierra Leona  2002                                 19.557657   \n",
       "1286        Sierra Leona  2013                                 18.014653   \n",
       "\n",
       "serie Name  PIB per cápita (US$ a precios actuales)  \n",
       "341                                      460.067018  \n",
       "719                                     5316.658385  \n",
       "1196                                     227.458875  \n",
       "1275                                     240.507519  \n",
       "1286                                     706.452665  "
      ]
     },
     "execution_count": 145,
     "metadata": {},
     "output_type": "execute_result"
    }
   ],
   "source": [
    "df_pivoted[df_pivoted[\"Crecimiento del PIB per cápita (% anual)\"]>15]"
   ]
  },
  {
   "cell_type": "code",
   "execution_count": 146,
   "metadata": {},
   "outputs": [
    {
     "data": {
      "text/html": [
       "<div>\n",
       "<style scoped>\n",
       "    .dataframe tbody tr th:only-of-type {\n",
       "        vertical-align: middle;\n",
       "    }\n",
       "\n",
       "    .dataframe tbody tr th {\n",
       "        vertical-align: top;\n",
       "    }\n",
       "\n",
       "    .dataframe thead th {\n",
       "        text-align: right;\n",
       "    }\n",
       "</style>\n",
       "<table border=\"1\" class=\"dataframe\">\n",
       "  <thead>\n",
       "    <tr style=\"text-align: right;\">\n",
       "      <th>serie Name</th>\n",
       "      <th>país Name</th>\n",
       "      <th>Año</th>\n",
       "      <th>Crecimiento del PIB per cápita (% anual)</th>\n",
       "      <th>PIB per cápita (US$ a precios actuales)</th>\n",
       "    </tr>\n",
       "  </thead>\n",
       "  <tbody>\n",
       "    <tr>\n",
       "      <th>1029</th>\n",
       "      <td>Noruega</td>\n",
       "      <td>2008</td>\n",
       "      <td>-0.762648</td>\n",
       "      <td>97503.540780</td>\n",
       "    </tr>\n",
       "    <tr>\n",
       "      <th>1032</th>\n",
       "      <td>Noruega</td>\n",
       "      <td>2011</td>\n",
       "      <td>-0.197406</td>\n",
       "      <td>101221.813477</td>\n",
       "    </tr>\n",
       "    <tr>\n",
       "      <th>1033</th>\n",
       "      <td>Noruega</td>\n",
       "      <td>2012</td>\n",
       "      <td>1.377641</td>\n",
       "      <td>102175.919298</td>\n",
       "    </tr>\n",
       "    <tr>\n",
       "      <th>1034</th>\n",
       "      <td>Noruega</td>\n",
       "      <td>2013</td>\n",
       "      <td>-0.197883</td>\n",
       "      <td>103553.840134</td>\n",
       "    </tr>\n",
       "    <tr>\n",
       "      <th>1035</th>\n",
       "      <td>Noruega</td>\n",
       "      <td>2014</td>\n",
       "      <td>0.903763</td>\n",
       "      <td>97666.695184</td>\n",
       "    </tr>\n",
       "    <tr>\n",
       "      <th>1042</th>\n",
       "      <td>Noruega</td>\n",
       "      <td>2021</td>\n",
       "      <td>3.344262</td>\n",
       "      <td>90655.391023</td>\n",
       "    </tr>\n",
       "    <tr>\n",
       "      <th>1043</th>\n",
       "      <td>Noruega</td>\n",
       "      <td>2022</td>\n",
       "      <td>2.356846</td>\n",
       "      <td>106148.778628</td>\n",
       "    </tr>\n",
       "    <tr>\n",
       "      <th>1392</th>\n",
       "      <td>Suiza</td>\n",
       "      <td>2011</td>\n",
       "      <td>0.687340</td>\n",
       "      <td>90476.758965</td>\n",
       "    </tr>\n",
       "    <tr>\n",
       "      <th>1402</th>\n",
       "      <td>Suiza</td>\n",
       "      <td>2021</td>\n",
       "      <td>3.440503</td>\n",
       "      <td>91991.600458</td>\n",
       "    </tr>\n",
       "    <tr>\n",
       "      <th>1403</th>\n",
       "      <td>Suiza</td>\n",
       "      <td>2022</td>\n",
       "      <td>1.287237</td>\n",
       "      <td>92101.469741</td>\n",
       "    </tr>\n",
       "  </tbody>\n",
       "</table>\n",
       "</div>"
      ],
      "text/plain": [
       "serie Name país Name   Año  Crecimiento del PIB per cápita (% anual)   \n",
       "1029         Noruega  2008                                 -0.762648  \\\n",
       "1032         Noruega  2011                                 -0.197406   \n",
       "1033         Noruega  2012                                  1.377641   \n",
       "1034         Noruega  2013                                 -0.197883   \n",
       "1035         Noruega  2014                                  0.903763   \n",
       "1042         Noruega  2021                                  3.344262   \n",
       "1043         Noruega  2022                                  2.356846   \n",
       "1392           Suiza  2011                                  0.687340   \n",
       "1402           Suiza  2021                                  3.440503   \n",
       "1403           Suiza  2022                                  1.287237   \n",
       "\n",
       "serie Name  PIB per cápita (US$ a precios actuales)  \n",
       "1029                                   97503.540780  \n",
       "1032                                  101221.813477  \n",
       "1033                                  102175.919298  \n",
       "1034                                  103553.840134  \n",
       "1035                                   97666.695184  \n",
       "1042                                   90655.391023  \n",
       "1043                                  106148.778628  \n",
       "1392                                   90476.758965  \n",
       "1402                                   91991.600458  \n",
       "1403                                   92101.469741  "
      ]
     },
     "execution_count": 146,
     "metadata": {},
     "output_type": "execute_result"
    }
   ],
   "source": [
    "df_pivoted[df_pivoted[\"PIB per cápita (US$ a precios actuales)\"]>90000]"
   ]
  },
  {
   "cell_type": "code",
   "execution_count": 147,
   "metadata": {},
   "outputs": [],
   "source": [
    "def graficar(pais, indicador):\n",
    "    df_pivoted_pais = df_pivoted[df_pivoted[\"país Name\"]==pais]\n",
    "    fig = px.line(data_frame=df_pivoted_pais, x=\"Año\", y=indicador)\n",
    "    fig.show()"
   ]
  },
  {
   "cell_type": "code",
   "execution_count": 148,
   "metadata": {},
   "outputs": [
    {
     "data": {
      "application/vnd.plotly.v1+json": {
       "config": {
        "plotlyServerURL": "https://plot.ly"
       },
       "data": [
        {
         "hovertemplate": "Año=%{x}<br>Crecimiento del PIB per cápita (% anual)=%{y}<extra></extra>",
         "legendgroup": "",
         "line": {
          "color": "#636efa",
          "dash": "solid"
         },
         "marker": {
          "symbol": "circle"
         },
         "mode": "lines",
         "name": "",
         "orientation": "v",
         "showlegend": false,
         "type": "scatter",
         "x": [
          "1987",
          "1988",
          "1989",
          "1990",
          "1991",
          "1992",
          "1993",
          "1994",
          "1995",
          "1996",
          "1997",
          "1998",
          "1999",
          "2000",
          "2001",
          "2002",
          "2003",
          "2004",
          "2005",
          "2006",
          "2007",
          "2008",
          "2009",
          "2010",
          "2011",
          "2012",
          "2013",
          "2014",
          "2015",
          "2016",
          "2017",
          "2018",
          "2019",
          "2020",
          "2021",
          "2022"
         ],
         "xaxis": "x",
         "y": [
          1.2464996857811883,
          3.3028637218937433,
          3.096179999968186,
          4.351639054224393,
          4.345220055386818,
          1.151046331991438,
          -1.6256842842447838,
          2.0373542097317454,
          1.2461418756032572,
          0.5144372845997651,
          1.6433342731291987,
          1.9984853210730904,
          1.821428030580961,
          2.7732212509140197,
          1.510558260679403,
          -0.36562832726410477,
          -0.7550771666026037,
          1.1970553521184968,
          0.7889171158699213,
          3.9336103307084045,
          3.1142458826134884,
          1.1520297421751025,
          -5.454577169409447,
          4.339606777063537,
          5.869635737492175,
          0.23016099271195856,
          0.16387056297801905,
          1.7843418861469047,
          0.6171053532198982,
          1.408102075489225,
          2.297206047409489,
          0.6782125941107182,
          0.8289579621844752,
          -3.7754297140322852,
          2.583557474990357,
          0.7153800744842869
         ],
         "yaxis": "y"
        }
       ],
       "layout": {
        "legend": {
         "tracegroupgap": 0
        },
        "margin": {
         "t": 60
        },
        "template": {
         "data": {
          "bar": [
           {
            "error_x": {
             "color": "#2a3f5f"
            },
            "error_y": {
             "color": "#2a3f5f"
            },
            "marker": {
             "line": {
              "color": "#E5ECF6",
              "width": 0.5
             },
             "pattern": {
              "fillmode": "overlay",
              "size": 10,
              "solidity": 0.2
             }
            },
            "type": "bar"
           }
          ],
          "barpolar": [
           {
            "marker": {
             "line": {
              "color": "#E5ECF6",
              "width": 0.5
             },
             "pattern": {
              "fillmode": "overlay",
              "size": 10,
              "solidity": 0.2
             }
            },
            "type": "barpolar"
           }
          ],
          "carpet": [
           {
            "aaxis": {
             "endlinecolor": "#2a3f5f",
             "gridcolor": "white",
             "linecolor": "white",
             "minorgridcolor": "white",
             "startlinecolor": "#2a3f5f"
            },
            "baxis": {
             "endlinecolor": "#2a3f5f",
             "gridcolor": "white",
             "linecolor": "white",
             "minorgridcolor": "white",
             "startlinecolor": "#2a3f5f"
            },
            "type": "carpet"
           }
          ],
          "choropleth": [
           {
            "colorbar": {
             "outlinewidth": 0,
             "ticks": ""
            },
            "type": "choropleth"
           }
          ],
          "contour": [
           {
            "colorbar": {
             "outlinewidth": 0,
             "ticks": ""
            },
            "colorscale": [
             [
              0,
              "#0d0887"
             ],
             [
              0.1111111111111111,
              "#46039f"
             ],
             [
              0.2222222222222222,
              "#7201a8"
             ],
             [
              0.3333333333333333,
              "#9c179e"
             ],
             [
              0.4444444444444444,
              "#bd3786"
             ],
             [
              0.5555555555555556,
              "#d8576b"
             ],
             [
              0.6666666666666666,
              "#ed7953"
             ],
             [
              0.7777777777777778,
              "#fb9f3a"
             ],
             [
              0.8888888888888888,
              "#fdca26"
             ],
             [
              1,
              "#f0f921"
             ]
            ],
            "type": "contour"
           }
          ],
          "contourcarpet": [
           {
            "colorbar": {
             "outlinewidth": 0,
             "ticks": ""
            },
            "type": "contourcarpet"
           }
          ],
          "heatmap": [
           {
            "colorbar": {
             "outlinewidth": 0,
             "ticks": ""
            },
            "colorscale": [
             [
              0,
              "#0d0887"
             ],
             [
              0.1111111111111111,
              "#46039f"
             ],
             [
              0.2222222222222222,
              "#7201a8"
             ],
             [
              0.3333333333333333,
              "#9c179e"
             ],
             [
              0.4444444444444444,
              "#bd3786"
             ],
             [
              0.5555555555555556,
              "#d8576b"
             ],
             [
              0.6666666666666666,
              "#ed7953"
             ],
             [
              0.7777777777777778,
              "#fb9f3a"
             ],
             [
              0.8888888888888888,
              "#fdca26"
             ],
             [
              1,
              "#f0f921"
             ]
            ],
            "type": "heatmap"
           }
          ],
          "heatmapgl": [
           {
            "colorbar": {
             "outlinewidth": 0,
             "ticks": ""
            },
            "colorscale": [
             [
              0,
              "#0d0887"
             ],
             [
              0.1111111111111111,
              "#46039f"
             ],
             [
              0.2222222222222222,
              "#7201a8"
             ],
             [
              0.3333333333333333,
              "#9c179e"
             ],
             [
              0.4444444444444444,
              "#bd3786"
             ],
             [
              0.5555555555555556,
              "#d8576b"
             ],
             [
              0.6666666666666666,
              "#ed7953"
             ],
             [
              0.7777777777777778,
              "#fb9f3a"
             ],
             [
              0.8888888888888888,
              "#fdca26"
             ],
             [
              1,
              "#f0f921"
             ]
            ],
            "type": "heatmapgl"
           }
          ],
          "histogram": [
           {
            "marker": {
             "pattern": {
              "fillmode": "overlay",
              "size": 10,
              "solidity": 0.2
             }
            },
            "type": "histogram"
           }
          ],
          "histogram2d": [
           {
            "colorbar": {
             "outlinewidth": 0,
             "ticks": ""
            },
            "colorscale": [
             [
              0,
              "#0d0887"
             ],
             [
              0.1111111111111111,
              "#46039f"
             ],
             [
              0.2222222222222222,
              "#7201a8"
             ],
             [
              0.3333333333333333,
              "#9c179e"
             ],
             [
              0.4444444444444444,
              "#bd3786"
             ],
             [
              0.5555555555555556,
              "#d8576b"
             ],
             [
              0.6666666666666666,
              "#ed7953"
             ],
             [
              0.7777777777777778,
              "#fb9f3a"
             ],
             [
              0.8888888888888888,
              "#fdca26"
             ],
             [
              1,
              "#f0f921"
             ]
            ],
            "type": "histogram2d"
           }
          ],
          "histogram2dcontour": [
           {
            "colorbar": {
             "outlinewidth": 0,
             "ticks": ""
            },
            "colorscale": [
             [
              0,
              "#0d0887"
             ],
             [
              0.1111111111111111,
              "#46039f"
             ],
             [
              0.2222222222222222,
              "#7201a8"
             ],
             [
              0.3333333333333333,
              "#9c179e"
             ],
             [
              0.4444444444444444,
              "#bd3786"
             ],
             [
              0.5555555555555556,
              "#d8576b"
             ],
             [
              0.6666666666666666,
              "#ed7953"
             ],
             [
              0.7777777777777778,
              "#fb9f3a"
             ],
             [
              0.8888888888888888,
              "#fdca26"
             ],
             [
              1,
              "#f0f921"
             ]
            ],
            "type": "histogram2dcontour"
           }
          ],
          "mesh3d": [
           {
            "colorbar": {
             "outlinewidth": 0,
             "ticks": ""
            },
            "type": "mesh3d"
           }
          ],
          "parcoords": [
           {
            "line": {
             "colorbar": {
              "outlinewidth": 0,
              "ticks": ""
             }
            },
            "type": "parcoords"
           }
          ],
          "pie": [
           {
            "automargin": true,
            "type": "pie"
           }
          ],
          "scatter": [
           {
            "fillpattern": {
             "fillmode": "overlay",
             "size": 10,
             "solidity": 0.2
            },
            "type": "scatter"
           }
          ],
          "scatter3d": [
           {
            "line": {
             "colorbar": {
              "outlinewidth": 0,
              "ticks": ""
             }
            },
            "marker": {
             "colorbar": {
              "outlinewidth": 0,
              "ticks": ""
             }
            },
            "type": "scatter3d"
           }
          ],
          "scattercarpet": [
           {
            "marker": {
             "colorbar": {
              "outlinewidth": 0,
              "ticks": ""
             }
            },
            "type": "scattercarpet"
           }
          ],
          "scattergeo": [
           {
            "marker": {
             "colorbar": {
              "outlinewidth": 0,
              "ticks": ""
             }
            },
            "type": "scattergeo"
           }
          ],
          "scattergl": [
           {
            "marker": {
             "colorbar": {
              "outlinewidth": 0,
              "ticks": ""
             }
            },
            "type": "scattergl"
           }
          ],
          "scattermapbox": [
           {
            "marker": {
             "colorbar": {
              "outlinewidth": 0,
              "ticks": ""
             }
            },
            "type": "scattermapbox"
           }
          ],
          "scatterpolar": [
           {
            "marker": {
             "colorbar": {
              "outlinewidth": 0,
              "ticks": ""
             }
            },
            "type": "scatterpolar"
           }
          ],
          "scatterpolargl": [
           {
            "marker": {
             "colorbar": {
              "outlinewidth": 0,
              "ticks": ""
             }
            },
            "type": "scatterpolargl"
           }
          ],
          "scatterternary": [
           {
            "marker": {
             "colorbar": {
              "outlinewidth": 0,
              "ticks": ""
             }
            },
            "type": "scatterternary"
           }
          ],
          "surface": [
           {
            "colorbar": {
             "outlinewidth": 0,
             "ticks": ""
            },
            "colorscale": [
             [
              0,
              "#0d0887"
             ],
             [
              0.1111111111111111,
              "#46039f"
             ],
             [
              0.2222222222222222,
              "#7201a8"
             ],
             [
              0.3333333333333333,
              "#9c179e"
             ],
             [
              0.4444444444444444,
              "#bd3786"
             ],
             [
              0.5555555555555556,
              "#d8576b"
             ],
             [
              0.6666666666666666,
              "#ed7953"
             ],
             [
              0.7777777777777778,
              "#fb9f3a"
             ],
             [
              0.8888888888888888,
              "#fdca26"
             ],
             [
              1,
              "#f0f921"
             ]
            ],
            "type": "surface"
           }
          ],
          "table": [
           {
            "cells": {
             "fill": {
              "color": "#EBF0F8"
             },
             "line": {
              "color": "white"
             }
            },
            "header": {
             "fill": {
              "color": "#C8D4E3"
             },
             "line": {
              "color": "white"
             }
            },
            "type": "table"
           }
          ]
         },
         "layout": {
          "annotationdefaults": {
           "arrowcolor": "#2a3f5f",
           "arrowhead": 0,
           "arrowwidth": 1
          },
          "autotypenumbers": "strict",
          "coloraxis": {
           "colorbar": {
            "outlinewidth": 0,
            "ticks": ""
           }
          },
          "colorscale": {
           "diverging": [
            [
             0,
             "#8e0152"
            ],
            [
             0.1,
             "#c51b7d"
            ],
            [
             0.2,
             "#de77ae"
            ],
            [
             0.3,
             "#f1b6da"
            ],
            [
             0.4,
             "#fde0ef"
            ],
            [
             0.5,
             "#f7f7f7"
            ],
            [
             0.6,
             "#e6f5d0"
            ],
            [
             0.7,
             "#b8e186"
            ],
            [
             0.8,
             "#7fbc41"
            ],
            [
             0.9,
             "#4d9221"
            ],
            [
             1,
             "#276419"
            ]
           ],
           "sequential": [
            [
             0,
             "#0d0887"
            ],
            [
             0.1111111111111111,
             "#46039f"
            ],
            [
             0.2222222222222222,
             "#7201a8"
            ],
            [
             0.3333333333333333,
             "#9c179e"
            ],
            [
             0.4444444444444444,
             "#bd3786"
            ],
            [
             0.5555555555555556,
             "#d8576b"
            ],
            [
             0.6666666666666666,
             "#ed7953"
            ],
            [
             0.7777777777777778,
             "#fb9f3a"
            ],
            [
             0.8888888888888888,
             "#fdca26"
            ],
            [
             1,
             "#f0f921"
            ]
           ],
           "sequentialminus": [
            [
             0,
             "#0d0887"
            ],
            [
             0.1111111111111111,
             "#46039f"
            ],
            [
             0.2222222222222222,
             "#7201a8"
            ],
            [
             0.3333333333333333,
             "#9c179e"
            ],
            [
             0.4444444444444444,
             "#bd3786"
            ],
            [
             0.5555555555555556,
             "#d8576b"
            ],
            [
             0.6666666666666666,
             "#ed7953"
            ],
            [
             0.7777777777777778,
             "#fb9f3a"
            ],
            [
             0.8888888888888888,
             "#fdca26"
            ],
            [
             1,
             "#f0f921"
            ]
           ]
          },
          "colorway": [
           "#636efa",
           "#EF553B",
           "#00cc96",
           "#ab63fa",
           "#FFA15A",
           "#19d3f3",
           "#FF6692",
           "#B6E880",
           "#FF97FF",
           "#FECB52"
          ],
          "font": {
           "color": "#2a3f5f"
          },
          "geo": {
           "bgcolor": "white",
           "lakecolor": "white",
           "landcolor": "#E5ECF6",
           "showlakes": true,
           "showland": true,
           "subunitcolor": "white"
          },
          "hoverlabel": {
           "align": "left"
          },
          "hovermode": "closest",
          "mapbox": {
           "style": "light"
          },
          "paper_bgcolor": "white",
          "plot_bgcolor": "#E5ECF6",
          "polar": {
           "angularaxis": {
            "gridcolor": "white",
            "linecolor": "white",
            "ticks": ""
           },
           "bgcolor": "#E5ECF6",
           "radialaxis": {
            "gridcolor": "white",
            "linecolor": "white",
            "ticks": ""
           }
          },
          "scene": {
           "xaxis": {
            "backgroundcolor": "#E5ECF6",
            "gridcolor": "white",
            "gridwidth": 2,
            "linecolor": "white",
            "showbackground": true,
            "ticks": "",
            "zerolinecolor": "white"
           },
           "yaxis": {
            "backgroundcolor": "#E5ECF6",
            "gridcolor": "white",
            "gridwidth": 2,
            "linecolor": "white",
            "showbackground": true,
            "ticks": "",
            "zerolinecolor": "white"
           },
           "zaxis": {
            "backgroundcolor": "#E5ECF6",
            "gridcolor": "white",
            "gridwidth": 2,
            "linecolor": "white",
            "showbackground": true,
            "ticks": "",
            "zerolinecolor": "white"
           }
          },
          "shapedefaults": {
           "line": {
            "color": "#2a3f5f"
           }
          },
          "ternary": {
           "aaxis": {
            "gridcolor": "white",
            "linecolor": "white",
            "ticks": ""
           },
           "baxis": {
            "gridcolor": "white",
            "linecolor": "white",
            "ticks": ""
           },
           "bgcolor": "#E5ECF6",
           "caxis": {
            "gridcolor": "white",
            "linecolor": "white",
            "ticks": ""
           }
          },
          "title": {
           "x": 0.05
          },
          "xaxis": {
           "automargin": true,
           "gridcolor": "white",
           "linecolor": "white",
           "ticks": "",
           "title": {
            "standoff": 15
           },
           "zerolinecolor": "white",
           "zerolinewidth": 2
          },
          "yaxis": {
           "automargin": true,
           "gridcolor": "white",
           "linecolor": "white",
           "ticks": "",
           "title": {
            "standoff": 15
           },
           "zerolinecolor": "white",
           "zerolinewidth": 2
          }
         }
        },
        "xaxis": {
         "anchor": "y",
         "domain": [
          0,
          1
         ],
         "title": {
          "text": "Año"
         }
        },
        "yaxis": {
         "anchor": "x",
         "domain": [
          0,
          1
         ],
         "title": {
          "text": "Crecimiento del PIB per cápita (% anual)"
         }
        }
       }
      }
     },
     "metadata": {},
     "output_type": "display_data"
    }
   ],
   "source": [
    "graficar(\"Alemania\", \"Crecimiento del PIB per cápita (% anual)\")"
   ]
  },
  {
   "cell_type": "code",
   "execution_count": 149,
   "metadata": {},
   "outputs": [
    {
     "data": {
      "text/plain": [
       "array(['Alemania', 'Arabia Saudita', 'Argelia', 'Argentina', 'Australia',\n",
       "       'Austria', 'Brasil', 'Burkina Faso', 'Canadá', 'Chad', 'China',\n",
       "       'Colombia', 'Costa Rica', 'Dinamarca', 'Ecuador',\n",
       "       'Egipto, República Árabe de', 'Emiratos Árabes Unidos', 'España',\n",
       "       'Estados Unidos', 'Fiji', 'Finlandia', 'Grecia', 'India', 'Japón',\n",
       "       'Kenya', 'Marruecos', 'México', 'Nepal', 'Noruega',\n",
       "       'Nueva Zelandia', 'Níger', 'Países Bajos', 'Reino Unido', 'Rwanda',\n",
       "       'Samoa', 'Sierra Leona', 'Singapur', 'Sudáfrica', 'Suiza'],\n",
       "      dtype=object)"
      ]
     },
     "execution_count": 149,
     "metadata": {},
     "output_type": "execute_result"
    }
   ],
   "source": [
    "df_pivoted[\"país Name\"].unique()"
   ]
  },
  {
   "cell_type": "code",
   "execution_count": 150,
   "metadata": {},
   "outputs": [],
   "source": [
    "df_pivoted.loc[df_pivoted[\"país Name\"] == \"Egipto, República Árabe de\", \"país Name\"] = \"Egipto\"\n",
    "df_pivoted.loc[df_pivoted[\"país Name\"] == \"Federación de Rusia\", \"país Name\"] = \"Rusia\""
   ]
  },
  {
   "cell_type": "code",
   "execution_count": 151,
   "metadata": {},
   "outputs": [],
   "source": [
    "paises_continentes = {\n",
    "    'Afganistán': 'Asia',\n",
    "    'Alemania': 'Europa',\n",
    "    'Arabia Saudita': 'Asia',\n",
    "    'Argelia': 'África',\n",
    "    'Argentina': 'América del Sur',\n",
    "    'Australia': 'Oceanía',\n",
    "    'Austria': 'Europa',\n",
    "    'Brasil': 'América del Sur',\n",
    "    'Burkina Faso': 'África',\n",
    "    'Camboya': 'Asia',\n",
    "    'Canadá': 'América del Norte',\n",
    "    'Chad': 'África',\n",
    "    'China': 'Asia',\n",
    "    'Colombia': 'América del Sur',\n",
    "    'Costa Rica': 'América Central',\n",
    "    'Cuba': 'América Central',\n",
    "    'Dinamarca': 'Europa',\n",
    "    'Ecuador': 'América del Sur',\n",
    "    'Egipto, República Árabe de': 'África',\n",
    "    'Emiratos Árabes Unidos': 'Asia',\n",
    "    'España': 'Europa',\n",
    "    'Estados Unidos': 'América del Norte',\n",
    "    'Federación de Rusia': 'Europa',\n",
    "    'Fiji': 'Oceanía',\n",
    "    'Finlandia': 'Europa',\n",
    "    'Grecia': 'Europa',\n",
    "    'India': 'Asia',\n",
    "    'Japón': 'Asia',\n",
    "    'Kenya': 'África',\n",
    "    'Marruecos': 'África',\n",
    "    'México': 'América del Norte',\n",
    "    'Nepal': 'Asia',\n",
    "    'Noruega': 'Europa',\n",
    "    'Nueva Zelandia': 'Oceanía',\n",
    "    'Níger': 'África',\n",
    "    'Países Bajos': 'Europa',\n",
    "    'Reino Unido': 'Europa',\n",
    "    'Rwanda': 'África',\n",
    "    'Samoa': 'Oceanía',\n",
    "    'Sierra Leona': 'África',\n",
    "    'Singapur': 'Asia',\n",
    "    'Sudáfrica': 'África',\n",
    "    'Suiza': 'Europa',\n",
    "    'Venezuela': 'América del Sur'\n",
    "}"
   ]
  },
  {
   "cell_type": "code",
   "execution_count": 152,
   "metadata": {},
   "outputs": [],
   "source": [
    "df_pivoted[\"Continente\"] = df_pivoted[\"país Name\"].map(paises_continentes)"
   ]
  },
  {
   "cell_type": "code",
   "execution_count": 153,
   "metadata": {},
   "outputs": [
    {
     "data": {
      "text/html": [
       "<div>\n",
       "<style scoped>\n",
       "    .dataframe tbody tr th:only-of-type {\n",
       "        vertical-align: middle;\n",
       "    }\n",
       "\n",
       "    .dataframe tbody tr th {\n",
       "        vertical-align: top;\n",
       "    }\n",
       "\n",
       "    .dataframe thead th {\n",
       "        text-align: right;\n",
       "    }\n",
       "</style>\n",
       "<table border=\"1\" class=\"dataframe\">\n",
       "  <thead>\n",
       "    <tr style=\"text-align: right;\">\n",
       "      <th></th>\n",
       "      <th>serie Name</th>\n",
       "      <th>Crecimiento del PIB per cápita (% anual)</th>\n",
       "      <th>PIB per cápita (US$ a precios actuales)</th>\n",
       "    </tr>\n",
       "    <tr>\n",
       "      <th>Continente</th>\n",
       "      <th>Año</th>\n",
       "      <th></th>\n",
       "      <th></th>\n",
       "    </tr>\n",
       "  </thead>\n",
       "  <tbody>\n",
       "    <tr>\n",
       "      <th rowspan=\"5\" valign=\"top\">América Central</th>\n",
       "      <th>1987</th>\n",
       "      <td>2.015346</td>\n",
       "      <td>1549.941803</td>\n",
       "    </tr>\n",
       "    <tr>\n",
       "      <th>1988</th>\n",
       "      <td>0.783299</td>\n",
       "      <td>1537.461223</td>\n",
       "    </tr>\n",
       "    <tr>\n",
       "      <th>1989</th>\n",
       "      <td>3.004937</td>\n",
       "      <td>1705.431654</td>\n",
       "    </tr>\n",
       "    <tr>\n",
       "      <th>1990</th>\n",
       "      <td>0.954542</td>\n",
       "      <td>1808.495959</td>\n",
       "    </tr>\n",
       "    <tr>\n",
       "      <th>1991</th>\n",
       "      <td>-0.296532</td>\n",
       "      <td>2221.474653</td>\n",
       "    </tr>\n",
       "    <tr>\n",
       "      <th>...</th>\n",
       "      <th>...</th>\n",
       "      <td>...</td>\n",
       "      <td>...</td>\n",
       "    </tr>\n",
       "    <tr>\n",
       "      <th rowspan=\"5\" valign=\"top\">África</th>\n",
       "      <th>2018</th>\n",
       "      <td>1.986208</td>\n",
       "      <td>2212.685781</td>\n",
       "    </tr>\n",
       "    <tr>\n",
       "      <th>2019</th>\n",
       "      <td>1.947836</td>\n",
       "      <td>2168.545276</td>\n",
       "    </tr>\n",
       "    <tr>\n",
       "      <th>2020</th>\n",
       "      <td>-4.463661</td>\n",
       "      <td>1955.471738</td>\n",
       "    </tr>\n",
       "    <tr>\n",
       "      <th>2021</th>\n",
       "      <td>2.831810</td>\n",
       "      <td>2235.073437</td>\n",
       "    </tr>\n",
       "    <tr>\n",
       "      <th>2022</th>\n",
       "      <td>1.992923</td>\n",
       "      <td>2243.116861</td>\n",
       "    </tr>\n",
       "  </tbody>\n",
       "</table>\n",
       "<p>252 rows × 2 columns</p>\n",
       "</div>"
      ],
      "text/plain": [
       "serie Name            Crecimiento del PIB per cápita (% anual)   \n",
       "Continente      Año                                              \n",
       "América Central 1987                                  2.015346  \\\n",
       "                1988                                  0.783299   \n",
       "                1989                                  3.004937   \n",
       "                1990                                  0.954542   \n",
       "                1991                                 -0.296532   \n",
       "...                                                        ...   \n",
       "África          2018                                  1.986208   \n",
       "                2019                                  1.947836   \n",
       "                2020                                 -4.463661   \n",
       "                2021                                  2.831810   \n",
       "                2022                                  1.992923   \n",
       "\n",
       "serie Name            PIB per cápita (US$ a precios actuales)  \n",
       "Continente      Año                                            \n",
       "América Central 1987                              1549.941803  \n",
       "                1988                              1537.461223  \n",
       "                1989                              1705.431654  \n",
       "                1990                              1808.495959  \n",
       "                1991                              2221.474653  \n",
       "...                                                       ...  \n",
       "África          2018                              2212.685781  \n",
       "                2019                              2168.545276  \n",
       "                2020                              1955.471738  \n",
       "                2021                              2235.073437  \n",
       "                2022                              2243.116861  \n",
       "\n",
       "[252 rows x 2 columns]"
      ]
     },
     "execution_count": 153,
     "metadata": {},
     "output_type": "execute_result"
    }
   ],
   "source": [
    "df_contientes = df_pivoted.iloc[:,1:].groupby([\"Continente\", \"Año\"]).mean()\n",
    "df_contientes"
   ]
  },
  {
   "cell_type": "code",
   "execution_count": 154,
   "metadata": {},
   "outputs": [
    {
     "data": {
      "text/html": [
       "<div>\n",
       "<style scoped>\n",
       "    .dataframe tbody tr th:only-of-type {\n",
       "        vertical-align: middle;\n",
       "    }\n",
       "\n",
       "    .dataframe tbody tr th {\n",
       "        vertical-align: top;\n",
       "    }\n",
       "\n",
       "    .dataframe thead th {\n",
       "        text-align: right;\n",
       "    }\n",
       "</style>\n",
       "<table border=\"1\" class=\"dataframe\">\n",
       "  <thead>\n",
       "    <tr style=\"text-align: right;\">\n",
       "      <th>serie Name</th>\n",
       "      <th>Continente</th>\n",
       "      <th>Año</th>\n",
       "      <th>Crecimiento del PIB per cápita (% anual)</th>\n",
       "      <th>PIB per cápita (US$ a precios actuales)</th>\n",
       "    </tr>\n",
       "  </thead>\n",
       "  <tbody>\n",
       "    <tr>\n",
       "      <th>0</th>\n",
       "      <td>América Central</td>\n",
       "      <td>1987</td>\n",
       "      <td>2.015346</td>\n",
       "      <td>1549.941803</td>\n",
       "    </tr>\n",
       "    <tr>\n",
       "      <th>1</th>\n",
       "      <td>América Central</td>\n",
       "      <td>1988</td>\n",
       "      <td>0.783299</td>\n",
       "      <td>1537.461223</td>\n",
       "    </tr>\n",
       "    <tr>\n",
       "      <th>2</th>\n",
       "      <td>América Central</td>\n",
       "      <td>1989</td>\n",
       "      <td>3.004937</td>\n",
       "      <td>1705.431654</td>\n",
       "    </tr>\n",
       "    <tr>\n",
       "      <th>3</th>\n",
       "      <td>América Central</td>\n",
       "      <td>1990</td>\n",
       "      <td>0.954542</td>\n",
       "      <td>1808.495959</td>\n",
       "    </tr>\n",
       "    <tr>\n",
       "      <th>4</th>\n",
       "      <td>América Central</td>\n",
       "      <td>1991</td>\n",
       "      <td>-0.296532</td>\n",
       "      <td>2221.474653</td>\n",
       "    </tr>\n",
       "    <tr>\n",
       "      <th>...</th>\n",
       "      <td>...</td>\n",
       "      <td>...</td>\n",
       "      <td>...</td>\n",
       "      <td>...</td>\n",
       "    </tr>\n",
       "    <tr>\n",
       "      <th>247</th>\n",
       "      <td>África</td>\n",
       "      <td>2018</td>\n",
       "      <td>1.986208</td>\n",
       "      <td>2212.685781</td>\n",
       "    </tr>\n",
       "    <tr>\n",
       "      <th>248</th>\n",
       "      <td>África</td>\n",
       "      <td>2019</td>\n",
       "      <td>1.947836</td>\n",
       "      <td>2168.545276</td>\n",
       "    </tr>\n",
       "    <tr>\n",
       "      <th>249</th>\n",
       "      <td>África</td>\n",
       "      <td>2020</td>\n",
       "      <td>-4.463661</td>\n",
       "      <td>1955.471738</td>\n",
       "    </tr>\n",
       "    <tr>\n",
       "      <th>250</th>\n",
       "      <td>África</td>\n",
       "      <td>2021</td>\n",
       "      <td>2.831810</td>\n",
       "      <td>2235.073437</td>\n",
       "    </tr>\n",
       "    <tr>\n",
       "      <th>251</th>\n",
       "      <td>África</td>\n",
       "      <td>2022</td>\n",
       "      <td>1.992923</td>\n",
       "      <td>2243.116861</td>\n",
       "    </tr>\n",
       "  </tbody>\n",
       "</table>\n",
       "<p>252 rows × 4 columns</p>\n",
       "</div>"
      ],
      "text/plain": [
       "serie Name       Continente   Año  Crecimiento del PIB per cápita (% anual)   \n",
       "0           América Central  1987                                  2.015346  \\\n",
       "1           América Central  1988                                  0.783299   \n",
       "2           América Central  1989                                  3.004937   \n",
       "3           América Central  1990                                  0.954542   \n",
       "4           América Central  1991                                 -0.296532   \n",
       "..                      ...   ...                                       ...   \n",
       "247                  África  2018                                  1.986208   \n",
       "248                  África  2019                                  1.947836   \n",
       "249                  África  2020                                 -4.463661   \n",
       "250                  África  2021                                  2.831810   \n",
       "251                  África  2022                                  1.992923   \n",
       "\n",
       "serie Name  PIB per cápita (US$ a precios actuales)  \n",
       "0                                       1549.941803  \n",
       "1                                       1537.461223  \n",
       "2                                       1705.431654  \n",
       "3                                       1808.495959  \n",
       "4                                       2221.474653  \n",
       "..                                              ...  \n",
       "247                                     2212.685781  \n",
       "248                                     2168.545276  \n",
       "249                                     1955.471738  \n",
       "250                                     2235.073437  \n",
       "251                                     2243.116861  \n",
       "\n",
       "[252 rows x 4 columns]"
      ]
     },
     "execution_count": 154,
     "metadata": {},
     "output_type": "execute_result"
    }
   ],
   "source": [
    "df_contientes.reset_index(inplace=True)\n",
    "df_contientes"
   ]
  },
  {
   "cell_type": "code",
   "execution_count": 155,
   "metadata": {},
   "outputs": [],
   "source": [
    "def graficar_indicador(indicador):\n",
    "    fig = px.line(data_frame=df_contientes, x=\"Año\", y=indicador, color=\"Continente\")\n",
    "    fig.show()"
   ]
  },
  {
   "cell_type": "code",
   "execution_count": 156,
   "metadata": {},
   "outputs": [
    {
     "data": {
      "application/vnd.plotly.v1+json": {
       "config": {
        "plotlyServerURL": "https://plot.ly"
       },
       "data": [
        {
         "hovertemplate": "Continente=América Central<br>Año=%{x}<br>Crecimiento del PIB per cápita (% anual)=%{y}<extra></extra>",
         "legendgroup": "América Central",
         "line": {
          "color": "#636efa",
          "dash": "solid"
         },
         "marker": {
          "symbol": "circle"
         },
         "mode": "lines",
         "name": "América Central",
         "orientation": "v",
         "showlegend": true,
         "type": "scatter",
         "x": [
          "1987",
          "1988",
          "1989",
          "1990",
          "1991",
          "1992",
          "1993",
          "1994",
          "1995",
          "1996",
          "1997",
          "1998",
          "1999",
          "2000",
          "2001",
          "2002",
          "2003",
          "2004",
          "2005",
          "2006",
          "2007",
          "2008",
          "2009",
          "2010",
          "2011",
          "2012",
          "2013",
          "2014",
          "2015",
          "2016",
          "2017",
          "2018",
          "2019",
          "2020",
          "2021",
          "2022"
         ],
         "xaxis": "x",
         "y": [
          2.015346171365991,
          0.7832988887412426,
          3.0049371976221124,
          0.954542164963982,
          -0.2965315132770172,
          6.488284175581541,
          4.47326646558443,
          2.0093629345231676,
          1.7138596036542424,
          -0.9607707092018245,
          3.1297474910519867,
          4.8559714185958995,
          2.077614596372058,
          1.8388735632559587,
          1.6009828031483124,
          1.67593751729558,
          2.673776028605502,
          2.8484579850932334,
          2.4567989684458666,
          5.799838281529858,
          6.707755265567499,
          3.2980113341607193,
          -2.203057169231897,
          4.012638874344333,
          3.1165261164475027,
          3.627812473684429,
          1.3195127872817096,
          2.414564008715516,
          2.5731786106693875,
          3.1515133879358217,
          3.143265986216619,
          1.6613083099341566,
          1.535290566468035,
          -4.994101584017471,
          7.135613064638832,
          3.764005008934106
         ],
         "yaxis": "y"
        },
        {
         "hovertemplate": "Continente=América del Norte<br>Año=%{x}<br>Crecimiento del PIB per cápita (% anual)=%{y}<extra></extra>",
         "legendgroup": "América del Norte",
         "line": {
          "color": "#EF553B",
          "dash": "solid"
         },
         "marker": {
          "symbol": "circle"
         },
         "mode": "lines",
         "name": "América del Norte",
         "orientation": "v",
         "showlegend": true,
         "type": "scatter",
         "x": [
          "1987",
          "1988",
          "1989",
          "1990",
          "1991",
          "1992",
          "1993",
          "1994",
          "1995",
          "1996",
          "1997",
          "1998",
          "1999",
          "2000",
          "2001",
          "2002",
          "2003",
          "2004",
          "2005",
          "2006",
          "2007",
          "2008",
          "2009",
          "2010",
          "2011",
          "2012",
          "2013",
          "2014",
          "2015",
          "2016",
          "2017",
          "2018",
          "2019",
          "2020",
          "2021",
          "2022"
         ],
         "xaxis": "x",
         "y": [
          1.8565858581992956,
          1.9537597760697405,
          1.7057678520346495,
          0.9005985233170625,
          -0.9093266092276764,
          1.106165367246798,
          1.3482062286433678,
          3.0261883146477495,
          -1.6365467577093586,
          2.6742925990316024,
          3.8207562081566,
          3.237975129064097,
          2.9970463654364417,
          3.4736053223663297,
          -0.4260250199413396,
          0.37080938085837545,
          0.9177152067465215,
          2.476655165929382,
          1.874517417447881,
          2.1606902633130667,
          1.0280558872279688,
          -0.3447719826788737,
          -4.642640685545473,
          2.514397319764195,
          1.7165475567135406,
          1.4666672224527797,
          0.8067184365615153,
          1.6540758119636838,
          1.3194787135164934,
          0.7571953224681636,
          1.474743563996758,
          1.6558274266632793,
          0.40372551611120855,
          -6.14793394618052,
          4.775065261329554,
          1.873838595882134
         ],
         "yaxis": "y"
        },
        {
         "hovertemplate": "Continente=América del Sur<br>Año=%{x}<br>Crecimiento del PIB per cápita (% anual)=%{y}<extra></extra>",
         "legendgroup": "América del Sur",
         "line": {
          "color": "#00cc96",
          "dash": "solid"
         },
         "marker": {
          "symbol": "circle"
         },
         "mode": "lines",
         "name": "América del Sur",
         "orientation": "v",
         "showlegend": true,
         "type": "scatter",
         "x": [
          "1987",
          "1988",
          "1989",
          "1990",
          "1991",
          "1992",
          "1993",
          "1994",
          "1995",
          "1996",
          "1997",
          "1998",
          "1999",
          "2000",
          "2001",
          "2002",
          "2003",
          "2004",
          "2005",
          "2006",
          "2007",
          "2008",
          "2009",
          "2010",
          "2011",
          "2012",
          "2013",
          "2014",
          "2015",
          "2016",
          "2017",
          "2018",
          "2019",
          "2020",
          "2021",
          "2022"
         ],
         "xaxis": "x",
         "y": [
          0.7716035448592393,
          0.16910946658336456,
          -1.8503354500773028,
          -1.6320957216838679,
          2.204242406013197,
          1.5634259270731334,
          3.3222860330116077,
          3.6653689432119947,
          0.5200385059520798,
          1.2396533089244066,
          3.1894168189845686,
          0.46089982751539793,
          -4.401154255528265,
          0.42744124948085727,
          -0.7658708750931886,
          -1.7097201620390656,
          2.750144045918251,
          5.66854987754175,
          4.171539910164604,
          4.436165974595909,
          4.69229685773055,
          3.4339233784980507,
          -2.2627239381869337,
          5.377873694221712,
          4.924577873283287,
          1.4156944471536335,
          2.7071884446203924,
          0.46032063406556745,
          -0.5273889163145711,
          -2.2139284128737344,
          0.7273795723457965,
          -0.6480584441360406,
          -0.7715044799810578,
          -8.101936055061447,
          6.639127082466803,
          3.810524982132261
         ],
         "yaxis": "y"
        },
        {
         "hovertemplate": "Continente=Asia<br>Año=%{x}<br>Crecimiento del PIB per cápita (% anual)=%{y}<extra></extra>",
         "legendgroup": "Asia",
         "line": {
          "color": "#ab63fa",
          "dash": "solid"
         },
         "marker": {
          "symbol": "circle"
         },
         "mode": "lines",
         "name": "Asia",
         "orientation": "v",
         "showlegend": true,
         "type": "scatter",
         "x": [
          "1987",
          "1988",
          "1989",
          "1990",
          "1991",
          "1992",
          "1993",
          "1994",
          "1995",
          "1996",
          "1997",
          "1998",
          "1999",
          "2000",
          "2001",
          "2002",
          "2003",
          "2004",
          "2005",
          "2006",
          "2007",
          "2008",
          "2009",
          "2010",
          "2011",
          "2012",
          "2013",
          "2014",
          "2015",
          "2016",
          "2017",
          "2018",
          "2019",
          "2020",
          "2021",
          "2022"
         ],
         "xaxis": "x",
         "y": [
          1.4422715042382532,
          5.18392321639755,
          2.957228064220601,
          5.7196269194042815,
          3.3068735462343994,
          2.8123161459669825,
          2.2987874591275466,
          4.300650698229524,
          3.171315947699757,
          3.346903978549595,
          2.6297370400144757,
          -0.06368406865256102,
          1.6105736159539492,
          4.512667539876921,
          0.37160083256818716,
          0.5785458453333214,
          5.384994105204427,
          5.709423444798822,
          3.7407854327106174,
          3.244270891234582,
          1.7610473429950235,
          0.06013292774420214,
          -1.7332368117177026,
          5.0670133024793405,
          4.866482857552896,
          3.6978954771002646,
          3.626901426891893,
          3.811583209301641,
          4.071765309319206,
          2.970672583949155,
          3.3406900373120396,
          3.2393812786397587,
          1.8048239262720702,
          -3.8483206648287194,
          6.031304619318135,
          4.113732069320973
         ],
         "yaxis": "y"
        },
        {
         "hovertemplate": "Continente=Europa<br>Año=%{x}<br>Crecimiento del PIB per cápita (% anual)=%{y}<extra></extra>",
         "legendgroup": "Europa",
         "line": {
          "color": "#FFA15A",
          "dash": "solid"
         },
         "marker": {
          "symbol": "circle"
         },
         "mode": "lines",
         "name": "Europa",
         "orientation": "v",
         "showlegend": true,
         "type": "scatter",
         "x": [
          "1987",
          "1988",
          "1989",
          "1990",
          "1991",
          "1992",
          "1993",
          "1994",
          "1995",
          "1996",
          "1997",
          "1998",
          "1999",
          "2000",
          "2001",
          "2002",
          "2003",
          "2004",
          "2005",
          "2006",
          "2007",
          "2008",
          "2009",
          "2010",
          "2011",
          "2012",
          "2013",
          "2014",
          "2015",
          "2016",
          "2017",
          "2018",
          "2019",
          "2020",
          "2021",
          "2022"
         ],
         "xaxis": "x",
         "y": [
          1.7320165202139264,
          3.008767734088451,
          2.9951261107056313,
          2.016307484671118,
          0.6320740746599298,
          0.31894406768018085,
          -0.31063213426487124,
          2.6775438241870773,
          2.229471304164967,
          2.2212990816879654,
          3.4489978007218953,
          3.1435294365882327,
          2.8231032288851665,
          3.632892426012282,
          1.78450321117803,
          0.8152960266579157,
          1.0164151814704538,
          2.4346060425452776,
          1.6903114675278588,
          3.1540743730501304,
          2.6698300505827293,
          0.17909282230978363,
          -4.863271334815285,
          0.8337039815242264,
          0.21067903767783774,
          -1.0329909852696944,
          -0.298200047807498,
          1.0351884217678218,
          1.1159705412719205,
          1.4419415138141034,
          1.9102653902815603,
          1.3935675322172258,
          1.0575326997201273,
          -5.667644539651218,
          4.71345546490979,
          3.248072049468212
         ],
         "yaxis": "y"
        },
        {
         "hovertemplate": "Continente=Oceanía<br>Año=%{x}<br>Crecimiento del PIB per cápita (% anual)=%{y}<extra></extra>",
         "legendgroup": "Oceanía",
         "line": {
          "color": "#19d3f3",
          "dash": "solid"
         },
         "marker": {
          "symbol": "circle"
         },
         "mode": "lines",
         "name": "Oceanía",
         "orientation": "v",
         "showlegend": true,
         "type": "scatter",
         "x": [
          "1987",
          "1988",
          "1989",
          "1990",
          "1991",
          "1992",
          "1993",
          "1994",
          "1995",
          "1996",
          "1997",
          "1998",
          "1999",
          "2000",
          "2001",
          "2002",
          "2003",
          "2004",
          "2005",
          "2006",
          "2007",
          "2008",
          "2009",
          "2010",
          "2011",
          "2012",
          "2013",
          "2014",
          "2015",
          "2016",
          "2017",
          "2018",
          "2019",
          "2020",
          "2021",
          "2022"
         ],
         "xaxis": "x",
         "y": [
          -1.6904922053565912,
          0.3152973118746054,
          2.8831379355120106,
          0.36205806607593516,
          -3.3143609463421058,
          1.0845010685625986,
          3.322282421136684,
          2.01941893467275,
          3.4571023745044407,
          3.7270909046122966,
          -0.005471270931678873,
          1.2071318005612497,
          4.336730526244541,
          1.5703165335157223,
          2.7459560010554185,
          3.22910572260891,
          2.345453494972176,
          3.170720160050486,
          2.5445942851740284,
          1.3884628350444714,
          0.5557865425387334,
          0.6661652540362795,
          -1.1162264794766763,
          2.201758325235268,
          1.932391741730786,
          0.08359852940163037,
          1.6162379718417057,
          2.0686212144149465,
          2.394513274423563,
          2.974277131164744,
          1.9140067414760367,
          1.314829324644343,
          1.0837383989532334,
          -6.4367686616841375,
          -1.8543651429777483,
          3.0728008255309227
         ],
         "yaxis": "y"
        },
        {
         "hovertemplate": "Continente=África<br>Año=%{x}<br>Crecimiento del PIB per cápita (% anual)=%{y}<extra></extra>",
         "legendgroup": "África",
         "line": {
          "color": "#FF6692",
          "dash": "solid"
         },
         "marker": {
          "symbol": "circle"
         },
         "mode": "lines",
         "name": "África",
         "orientation": "v",
         "showlegend": true,
         "type": "scatter",
         "x": [
          "1987",
          "1988",
          "1989",
          "1990",
          "1991",
          "1992",
          "1993",
          "1994",
          "1995",
          "1996",
          "1997",
          "1998",
          "1999",
          "2000",
          "2001",
          "2002",
          "2003",
          "2004",
          "2005",
          "2006",
          "2007",
          "2008",
          "2009",
          "2010",
          "2011",
          "2012",
          "2013",
          "2014",
          "2015",
          "2016",
          "2017",
          "2018",
          "2019",
          "2020",
          "2021",
          "2022"
         ],
         "xaxis": "x",
         "y": [
          -1.7592417861055434,
          2.1420551562380754,
          -0.3055729420761111,
          -2.4801666419402832,
          0.06411125929735324,
          -2.8881539959722806,
          -4.297456425062101,
          -3.5258649338624517,
          5.428647479377495,
          1.8360035009880182,
          -0.8958227007888158,
          3.255871468471666,
          0.0033486395875175707,
          0.6397793472911089,
          2.3082427785601265,
          4.995274586002727,
          3.4428655257053737,
          5.033473633096602,
          4.786682111129328,
          2.8016500882963147,
          2.5028673799797443,
          2.3846389749363066,
          0.28212601931501524,
          4.291241279661675,
          1.8276553090421572,
          4.345781882981115,
          3.5810081915331327,
          2.038556226038649,
          -0.9558434519743267,
          0.5283961032625086,
          0.696036921656931,
          1.98620780535452,
          1.9478356425128582,
          -4.463660768676117,
          2.831810091807875,
          1.9929233735213059
         ],
         "yaxis": "y"
        }
       ],
       "layout": {
        "legend": {
         "title": {
          "text": "Continente"
         },
         "tracegroupgap": 0
        },
        "margin": {
         "t": 60
        },
        "template": {
         "data": {
          "bar": [
           {
            "error_x": {
             "color": "#2a3f5f"
            },
            "error_y": {
             "color": "#2a3f5f"
            },
            "marker": {
             "line": {
              "color": "#E5ECF6",
              "width": 0.5
             },
             "pattern": {
              "fillmode": "overlay",
              "size": 10,
              "solidity": 0.2
             }
            },
            "type": "bar"
           }
          ],
          "barpolar": [
           {
            "marker": {
             "line": {
              "color": "#E5ECF6",
              "width": 0.5
             },
             "pattern": {
              "fillmode": "overlay",
              "size": 10,
              "solidity": 0.2
             }
            },
            "type": "barpolar"
           }
          ],
          "carpet": [
           {
            "aaxis": {
             "endlinecolor": "#2a3f5f",
             "gridcolor": "white",
             "linecolor": "white",
             "minorgridcolor": "white",
             "startlinecolor": "#2a3f5f"
            },
            "baxis": {
             "endlinecolor": "#2a3f5f",
             "gridcolor": "white",
             "linecolor": "white",
             "minorgridcolor": "white",
             "startlinecolor": "#2a3f5f"
            },
            "type": "carpet"
           }
          ],
          "choropleth": [
           {
            "colorbar": {
             "outlinewidth": 0,
             "ticks": ""
            },
            "type": "choropleth"
           }
          ],
          "contour": [
           {
            "colorbar": {
             "outlinewidth": 0,
             "ticks": ""
            },
            "colorscale": [
             [
              0,
              "#0d0887"
             ],
             [
              0.1111111111111111,
              "#46039f"
             ],
             [
              0.2222222222222222,
              "#7201a8"
             ],
             [
              0.3333333333333333,
              "#9c179e"
             ],
             [
              0.4444444444444444,
              "#bd3786"
             ],
             [
              0.5555555555555556,
              "#d8576b"
             ],
             [
              0.6666666666666666,
              "#ed7953"
             ],
             [
              0.7777777777777778,
              "#fb9f3a"
             ],
             [
              0.8888888888888888,
              "#fdca26"
             ],
             [
              1,
              "#f0f921"
             ]
            ],
            "type": "contour"
           }
          ],
          "contourcarpet": [
           {
            "colorbar": {
             "outlinewidth": 0,
             "ticks": ""
            },
            "type": "contourcarpet"
           }
          ],
          "heatmap": [
           {
            "colorbar": {
             "outlinewidth": 0,
             "ticks": ""
            },
            "colorscale": [
             [
              0,
              "#0d0887"
             ],
             [
              0.1111111111111111,
              "#46039f"
             ],
             [
              0.2222222222222222,
              "#7201a8"
             ],
             [
              0.3333333333333333,
              "#9c179e"
             ],
             [
              0.4444444444444444,
              "#bd3786"
             ],
             [
              0.5555555555555556,
              "#d8576b"
             ],
             [
              0.6666666666666666,
              "#ed7953"
             ],
             [
              0.7777777777777778,
              "#fb9f3a"
             ],
             [
              0.8888888888888888,
              "#fdca26"
             ],
             [
              1,
              "#f0f921"
             ]
            ],
            "type": "heatmap"
           }
          ],
          "heatmapgl": [
           {
            "colorbar": {
             "outlinewidth": 0,
             "ticks": ""
            },
            "colorscale": [
             [
              0,
              "#0d0887"
             ],
             [
              0.1111111111111111,
              "#46039f"
             ],
             [
              0.2222222222222222,
              "#7201a8"
             ],
             [
              0.3333333333333333,
              "#9c179e"
             ],
             [
              0.4444444444444444,
              "#bd3786"
             ],
             [
              0.5555555555555556,
              "#d8576b"
             ],
             [
              0.6666666666666666,
              "#ed7953"
             ],
             [
              0.7777777777777778,
              "#fb9f3a"
             ],
             [
              0.8888888888888888,
              "#fdca26"
             ],
             [
              1,
              "#f0f921"
             ]
            ],
            "type": "heatmapgl"
           }
          ],
          "histogram": [
           {
            "marker": {
             "pattern": {
              "fillmode": "overlay",
              "size": 10,
              "solidity": 0.2
             }
            },
            "type": "histogram"
           }
          ],
          "histogram2d": [
           {
            "colorbar": {
             "outlinewidth": 0,
             "ticks": ""
            },
            "colorscale": [
             [
              0,
              "#0d0887"
             ],
             [
              0.1111111111111111,
              "#46039f"
             ],
             [
              0.2222222222222222,
              "#7201a8"
             ],
             [
              0.3333333333333333,
              "#9c179e"
             ],
             [
              0.4444444444444444,
              "#bd3786"
             ],
             [
              0.5555555555555556,
              "#d8576b"
             ],
             [
              0.6666666666666666,
              "#ed7953"
             ],
             [
              0.7777777777777778,
              "#fb9f3a"
             ],
             [
              0.8888888888888888,
              "#fdca26"
             ],
             [
              1,
              "#f0f921"
             ]
            ],
            "type": "histogram2d"
           }
          ],
          "histogram2dcontour": [
           {
            "colorbar": {
             "outlinewidth": 0,
             "ticks": ""
            },
            "colorscale": [
             [
              0,
              "#0d0887"
             ],
             [
              0.1111111111111111,
              "#46039f"
             ],
             [
              0.2222222222222222,
              "#7201a8"
             ],
             [
              0.3333333333333333,
              "#9c179e"
             ],
             [
              0.4444444444444444,
              "#bd3786"
             ],
             [
              0.5555555555555556,
              "#d8576b"
             ],
             [
              0.6666666666666666,
              "#ed7953"
             ],
             [
              0.7777777777777778,
              "#fb9f3a"
             ],
             [
              0.8888888888888888,
              "#fdca26"
             ],
             [
              1,
              "#f0f921"
             ]
            ],
            "type": "histogram2dcontour"
           }
          ],
          "mesh3d": [
           {
            "colorbar": {
             "outlinewidth": 0,
             "ticks": ""
            },
            "type": "mesh3d"
           }
          ],
          "parcoords": [
           {
            "line": {
             "colorbar": {
              "outlinewidth": 0,
              "ticks": ""
             }
            },
            "type": "parcoords"
           }
          ],
          "pie": [
           {
            "automargin": true,
            "type": "pie"
           }
          ],
          "scatter": [
           {
            "fillpattern": {
             "fillmode": "overlay",
             "size": 10,
             "solidity": 0.2
            },
            "type": "scatter"
           }
          ],
          "scatter3d": [
           {
            "line": {
             "colorbar": {
              "outlinewidth": 0,
              "ticks": ""
             }
            },
            "marker": {
             "colorbar": {
              "outlinewidth": 0,
              "ticks": ""
             }
            },
            "type": "scatter3d"
           }
          ],
          "scattercarpet": [
           {
            "marker": {
             "colorbar": {
              "outlinewidth": 0,
              "ticks": ""
             }
            },
            "type": "scattercarpet"
           }
          ],
          "scattergeo": [
           {
            "marker": {
             "colorbar": {
              "outlinewidth": 0,
              "ticks": ""
             }
            },
            "type": "scattergeo"
           }
          ],
          "scattergl": [
           {
            "marker": {
             "colorbar": {
              "outlinewidth": 0,
              "ticks": ""
             }
            },
            "type": "scattergl"
           }
          ],
          "scattermapbox": [
           {
            "marker": {
             "colorbar": {
              "outlinewidth": 0,
              "ticks": ""
             }
            },
            "type": "scattermapbox"
           }
          ],
          "scatterpolar": [
           {
            "marker": {
             "colorbar": {
              "outlinewidth": 0,
              "ticks": ""
             }
            },
            "type": "scatterpolar"
           }
          ],
          "scatterpolargl": [
           {
            "marker": {
             "colorbar": {
              "outlinewidth": 0,
              "ticks": ""
             }
            },
            "type": "scatterpolargl"
           }
          ],
          "scatterternary": [
           {
            "marker": {
             "colorbar": {
              "outlinewidth": 0,
              "ticks": ""
             }
            },
            "type": "scatterternary"
           }
          ],
          "surface": [
           {
            "colorbar": {
             "outlinewidth": 0,
             "ticks": ""
            },
            "colorscale": [
             [
              0,
              "#0d0887"
             ],
             [
              0.1111111111111111,
              "#46039f"
             ],
             [
              0.2222222222222222,
              "#7201a8"
             ],
             [
              0.3333333333333333,
              "#9c179e"
             ],
             [
              0.4444444444444444,
              "#bd3786"
             ],
             [
              0.5555555555555556,
              "#d8576b"
             ],
             [
              0.6666666666666666,
              "#ed7953"
             ],
             [
              0.7777777777777778,
              "#fb9f3a"
             ],
             [
              0.8888888888888888,
              "#fdca26"
             ],
             [
              1,
              "#f0f921"
             ]
            ],
            "type": "surface"
           }
          ],
          "table": [
           {
            "cells": {
             "fill": {
              "color": "#EBF0F8"
             },
             "line": {
              "color": "white"
             }
            },
            "header": {
             "fill": {
              "color": "#C8D4E3"
             },
             "line": {
              "color": "white"
             }
            },
            "type": "table"
           }
          ]
         },
         "layout": {
          "annotationdefaults": {
           "arrowcolor": "#2a3f5f",
           "arrowhead": 0,
           "arrowwidth": 1
          },
          "autotypenumbers": "strict",
          "coloraxis": {
           "colorbar": {
            "outlinewidth": 0,
            "ticks": ""
           }
          },
          "colorscale": {
           "diverging": [
            [
             0,
             "#8e0152"
            ],
            [
             0.1,
             "#c51b7d"
            ],
            [
             0.2,
             "#de77ae"
            ],
            [
             0.3,
             "#f1b6da"
            ],
            [
             0.4,
             "#fde0ef"
            ],
            [
             0.5,
             "#f7f7f7"
            ],
            [
             0.6,
             "#e6f5d0"
            ],
            [
             0.7,
             "#b8e186"
            ],
            [
             0.8,
             "#7fbc41"
            ],
            [
             0.9,
             "#4d9221"
            ],
            [
             1,
             "#276419"
            ]
           ],
           "sequential": [
            [
             0,
             "#0d0887"
            ],
            [
             0.1111111111111111,
             "#46039f"
            ],
            [
             0.2222222222222222,
             "#7201a8"
            ],
            [
             0.3333333333333333,
             "#9c179e"
            ],
            [
             0.4444444444444444,
             "#bd3786"
            ],
            [
             0.5555555555555556,
             "#d8576b"
            ],
            [
             0.6666666666666666,
             "#ed7953"
            ],
            [
             0.7777777777777778,
             "#fb9f3a"
            ],
            [
             0.8888888888888888,
             "#fdca26"
            ],
            [
             1,
             "#f0f921"
            ]
           ],
           "sequentialminus": [
            [
             0,
             "#0d0887"
            ],
            [
             0.1111111111111111,
             "#46039f"
            ],
            [
             0.2222222222222222,
             "#7201a8"
            ],
            [
             0.3333333333333333,
             "#9c179e"
            ],
            [
             0.4444444444444444,
             "#bd3786"
            ],
            [
             0.5555555555555556,
             "#d8576b"
            ],
            [
             0.6666666666666666,
             "#ed7953"
            ],
            [
             0.7777777777777778,
             "#fb9f3a"
            ],
            [
             0.8888888888888888,
             "#fdca26"
            ],
            [
             1,
             "#f0f921"
            ]
           ]
          },
          "colorway": [
           "#636efa",
           "#EF553B",
           "#00cc96",
           "#ab63fa",
           "#FFA15A",
           "#19d3f3",
           "#FF6692",
           "#B6E880",
           "#FF97FF",
           "#FECB52"
          ],
          "font": {
           "color": "#2a3f5f"
          },
          "geo": {
           "bgcolor": "white",
           "lakecolor": "white",
           "landcolor": "#E5ECF6",
           "showlakes": true,
           "showland": true,
           "subunitcolor": "white"
          },
          "hoverlabel": {
           "align": "left"
          },
          "hovermode": "closest",
          "mapbox": {
           "style": "light"
          },
          "paper_bgcolor": "white",
          "plot_bgcolor": "#E5ECF6",
          "polar": {
           "angularaxis": {
            "gridcolor": "white",
            "linecolor": "white",
            "ticks": ""
           },
           "bgcolor": "#E5ECF6",
           "radialaxis": {
            "gridcolor": "white",
            "linecolor": "white",
            "ticks": ""
           }
          },
          "scene": {
           "xaxis": {
            "backgroundcolor": "#E5ECF6",
            "gridcolor": "white",
            "gridwidth": 2,
            "linecolor": "white",
            "showbackground": true,
            "ticks": "",
            "zerolinecolor": "white"
           },
           "yaxis": {
            "backgroundcolor": "#E5ECF6",
            "gridcolor": "white",
            "gridwidth": 2,
            "linecolor": "white",
            "showbackground": true,
            "ticks": "",
            "zerolinecolor": "white"
           },
           "zaxis": {
            "backgroundcolor": "#E5ECF6",
            "gridcolor": "white",
            "gridwidth": 2,
            "linecolor": "white",
            "showbackground": true,
            "ticks": "",
            "zerolinecolor": "white"
           }
          },
          "shapedefaults": {
           "line": {
            "color": "#2a3f5f"
           }
          },
          "ternary": {
           "aaxis": {
            "gridcolor": "white",
            "linecolor": "white",
            "ticks": ""
           },
           "baxis": {
            "gridcolor": "white",
            "linecolor": "white",
            "ticks": ""
           },
           "bgcolor": "#E5ECF6",
           "caxis": {
            "gridcolor": "white",
            "linecolor": "white",
            "ticks": ""
           }
          },
          "title": {
           "x": 0.05
          },
          "xaxis": {
           "automargin": true,
           "gridcolor": "white",
           "linecolor": "white",
           "ticks": "",
           "title": {
            "standoff": 15
           },
           "zerolinecolor": "white",
           "zerolinewidth": 2
          },
          "yaxis": {
           "automargin": true,
           "gridcolor": "white",
           "linecolor": "white",
           "ticks": "",
           "title": {
            "standoff": 15
           },
           "zerolinecolor": "white",
           "zerolinewidth": 2
          }
         }
        },
        "xaxis": {
         "anchor": "y",
         "domain": [
          0,
          1
         ],
         "title": {
          "text": "Año"
         }
        },
        "yaxis": {
         "anchor": "x",
         "domain": [
          0,
          1
         ],
         "title": {
          "text": "Crecimiento del PIB per cápita (% anual)"
         }
        }
       }
      }
     },
     "metadata": {},
     "output_type": "display_data"
    },
    {
     "data": {
      "application/vnd.plotly.v1+json": {
       "config": {
        "plotlyServerURL": "https://plot.ly"
       },
       "data": [
        {
         "hovertemplate": "Continente=América Central<br>Año=%{x}<br>PIB per cápita (US$ a precios actuales)=%{y}<extra></extra>",
         "legendgroup": "América Central",
         "line": {
          "color": "#636efa",
          "dash": "solid"
         },
         "marker": {
          "symbol": "circle"
         },
         "mode": "lines",
         "name": "América Central",
         "orientation": "v",
         "showlegend": true,
         "type": "scatter",
         "x": [
          "1987",
          "1988",
          "1989",
          "1990",
          "1991",
          "1992",
          "1993",
          "1994",
          "1995",
          "1996",
          "1997",
          "1998",
          "1999",
          "2000",
          "2001",
          "2002",
          "2003",
          "2004",
          "2005",
          "2006",
          "2007",
          "2008",
          "2009",
          "2010",
          "2011",
          "2012",
          "2013",
          "2014",
          "2015",
          "2016",
          "2017",
          "2018",
          "2019",
          "2020",
          "2021",
          "2022"
         ],
         "xaxis": "x",
         "y": [
          1549.9418029355463,
          1537.4612225191277,
          1705.4316537981854,
          1808.49595860746,
          2221.4746532740173,
          2578.0250314437985,
          2814.0445478203205,
          3005.540323364538,
          3240.711145332335,
          3194.1129881855695,
          3373.41058474058,
          3580.933884692752,
          3653.7542083681465,
          3773.033793196794,
          3941.5986434920305,
          4021.42536130228,
          4123.506487103902,
          4376.0804284726055,
          4643.458569925874,
          5188.361792159645,
          6055.086778915624,
          6841.911459796845,
          6737.860753590382,
          8147.243984810322,
          9137.45510202159,
          9971.651656257282,
          10633.266559878524,
          10737.678875394871,
          11529.955173567148,
          11899.81397837185,
          12118.133618061527,
          12383.14994695192,
          12669.34116173959,
          12179.256674237702,
          12537.25674617532,
          13198.82171680974
         ],
         "yaxis": "y"
        },
        {
         "hovertemplate": "Continente=América del Norte<br>Año=%{x}<br>PIB per cápita (US$ a precios actuales)=%{y}<extra></extra>",
         "legendgroup": "América del Norte",
         "line": {
          "color": "#EF553B",
          "dash": "solid"
         },
         "marker": {
          "symbol": "circle"
         },
         "mode": "lines",
         "name": "América del Norte",
         "orientation": "v",
         "showlegend": true,
         "type": "scatter",
         "x": [
          "1987",
          "1988",
          "1989",
          "1990",
          "1991",
          "1992",
          "1993",
          "1994",
          "1995",
          "1996",
          "1997",
          "1998",
          "1999",
          "2000",
          "2001",
          "2002",
          "2003",
          "2004",
          "2005",
          "2006",
          "2007",
          "2008",
          "2009",
          "2010",
          "2011",
          "2012",
          "2013",
          "2014",
          "2015",
          "2016",
          "2017",
          "2018",
          "2019",
          "2020",
          "2021",
          "2022"
         ],
         "xaxis": "x",
         "y": [
          12773.102891613858,
          14243.864377400168,
          15470.60114848945,
          16203.955860755295,
          16648.470583455055,
          16880.570769101894,
          17451.063347905074,
          17889.657076032083,
          17790.661620396877,
          18583.870109928477,
          19576.992553837114,
          19811.29958047054,
          21020.42057245001,
          22611.289603342808,
          22856.070559235766,
          23301.34336779866,
          24970.370057642576,
          27131.26683251842,
          29609.258280250124,
          31977.1497813968,
          34143.34892730442,
          35133.457537719434,
          32058.725360653887,
          35204.2304207453,
          37543.72095144427,
          38276.53301074092,
          38930.663312809695,
          39051.99407478085,
          36704.08851682526,
          36352.476902850365,
          38157.187246153226,
          39742.704035874245,
          40546.56668084788,
          38511.10316115914,
          44207.923488557186,
          47485.46200285599
         ],
         "yaxis": "y"
        },
        {
         "hovertemplate": "Continente=América del Sur<br>Año=%{x}<br>PIB per cápita (US$ a precios actuales)=%{y}<extra></extra>",
         "legendgroup": "América del Sur",
         "line": {
          "color": "#00cc96",
          "dash": "solid"
         },
         "marker": {
          "symbol": "circle"
         },
         "mode": "lines",
         "name": "América del Sur",
         "orientation": "v",
         "showlegend": true,
         "type": "scatter",
         "x": [
          "1987",
          "1988",
          "1989",
          "1990",
          "1991",
          "1992",
          "1993",
          "1994",
          "1995",
          "1996",
          "1997",
          "1998",
          "1999",
          "2000",
          "2001",
          "2002",
          "2003",
          "2004",
          "2005",
          "2006",
          "2007",
          "2008",
          "2009",
          "2010",
          "2011",
          "2012",
          "2013",
          "2014",
          "2015",
          "2016",
          "2017",
          "2018",
          "2019",
          "2020",
          "2021",
          "2022"
         ],
         "xaxis": "x",
         "y": [
          2023.6021890539434,
          2171.824014208057,
          1942.960775446674,
          2585.559493562416,
          2867.8453175159702,
          3174.7459832333934,
          3336.3261004627093,
          3793.4242028699414,
          4193.349474470659,
          4401.623732758604,
          4656.539904364742,
          4547.409533427972,
          3752.6443018802156,
          3847.9275882549937,
          3670.258020538498,
          2502.3938780968588,
          2783.3291937275817,
          3349.1023215528835,
          4080.6861309724377,
          4720.1116804677,
          5718.725276109721,
          6893.597239313842,
          6560.23648802664,
          8167.065635761516,
          9661.224675257885,
          9796.359277970454,
          9913.20403056447,
          9737.076806834288,
          8732.878283826962,
          8371.587310564351,
          9301.53211628519,
          8504.89257469306,
          7869.691386039224,
          6592.404193106335,
          7620.185257674528,
          8906.311945521984
         ],
         "yaxis": "y"
        },
        {
         "hovertemplate": "Continente=Asia<br>Año=%{x}<br>PIB per cápita (US$ a precios actuales)=%{y}<extra></extra>",
         "legendgroup": "Asia",
         "line": {
          "color": "#ab63fa",
          "dash": "solid"
         },
         "marker": {
          "symbol": "circle"
         },
         "mode": "lines",
         "name": "Asia",
         "orientation": "v",
         "showlegend": true,
         "type": "scatter",
         "x": [
          "1987",
          "1988",
          "1989",
          "1990",
          "1991",
          "1992",
          "1993",
          "1994",
          "1995",
          "1996",
          "1997",
          "1998",
          "1999",
          "2000",
          "2001",
          "2002",
          "2003",
          "2004",
          "2005",
          "2006",
          "2007",
          "2008",
          "2009",
          "2010",
          "2011",
          "2012",
          "2013",
          "2014",
          "2015",
          "2016",
          "2017",
          "2018",
          "2019",
          "2020",
          "2021",
          "2022"
         ],
         "xaxis": "x",
         "y": [
          8316.228990308611,
          8906.096513787541,
          9344.40792679267,
          10305.33309352701,
          11122.42559125161,
          11708.902761148425,
          12470.445562775814,
          13616.45383434251,
          14984.63732271929,
          14780.145788835793,
          14350.769738721914,
          12682.031994382993,
          13555.53374023973,
          15042.580399907154,
          13727.996753299934,
          13634.252576768116,
          14732.224544513703,
          16610.329276591146,
          18028.678679189594,
          19027.205218671534,
          19855.672118485225,
          21271.29047696822,
          18918.219192158987,
          21545.708960680236,
          24834.478622518047,
          25953.929852690308,
          25258.4315445583,
          25256.09229152457,
          23294.668459185435,
          23992.136917496526,
          25110.911645041426,
          27218.120235836657,
          26949.71581351448,
          24678.471283525047,
          28871.207612006674,
          31037.498685126095
         ],
         "yaxis": "y"
        },
        {
         "hovertemplate": "Continente=Europa<br>Año=%{x}<br>PIB per cápita (US$ a precios actuales)=%{y}<extra></extra>",
         "legendgroup": "Europa",
         "line": {
          "color": "#FFA15A",
          "dash": "solid"
         },
         "marker": {
          "symbol": "circle"
         },
         "mode": "lines",
         "name": "Europa",
         "orientation": "v",
         "showlegend": true,
         "type": "scatter",
         "x": [
          "1987",
          "1988",
          "1989",
          "1990",
          "1991",
          "1992",
          "1993",
          "1994",
          "1995",
          "1996",
          "1997",
          "1998",
          "1999",
          "2000",
          "2001",
          "2002",
          "2003",
          "2004",
          "2005",
          "2006",
          "2007",
          "2008",
          "2009",
          "2010",
          "2011",
          "2012",
          "2013",
          "2014",
          "2015",
          "2016",
          "2017",
          "2018",
          "2019",
          "2020",
          "2021",
          "2022"
         ],
         "xaxis": "x",
         "y": [
          17056.0802651244,
          18801.610101471175,
          18886.334175217173,
          23085.19073610426,
          23303.91240689047,
          24612.4873763213,
          22726.555746501534,
          24428.965725161845,
          28949.150657534086,
          29045.039114606578,
          27104.959964351478,
          27656.094119635953,
          27766.749322642234,
          26177.852378869826,
          26485.01975580234,
          28828.65632500666,
          34583.991715439304,
          39543.94191115715,
          41719.924869892726,
          44636.57699928022,
          50970.537783843225,
          56025.81096170414,
          50090.201557541484,
          50565.95690042263,
          55629.21171698654,
          52944.01406607003,
          54548.45970525885,
          55055.66458441464,
          47407.496840072425,
          47058.84786591881,
          49055.55200485007,
          52548.242785200346,
          50958.860565732466,
          49676.31465104458,
          56357.58791727606,
          56825.19576581579
         ],
         "yaxis": "y"
        },
        {
         "hovertemplate": "Continente=Oceanía<br>Año=%{x}<br>PIB per cápita (US$ a precios actuales)=%{y}<extra></extra>",
         "legendgroup": "Oceanía",
         "line": {
          "color": "#19d3f3",
          "dash": "solid"
         },
         "marker": {
          "symbol": "circle"
         },
         "mode": "lines",
         "name": "Oceanía",
         "orientation": "v",
         "showlegend": true,
         "type": "scatter",
         "x": [
          "1987",
          "1988",
          "1989",
          "1990",
          "1991",
          "1992",
          "1993",
          "1994",
          "1995",
          "1996",
          "1997",
          "1998",
          "1999",
          "2000",
          "2001",
          "2002",
          "2003",
          "2004",
          "2005",
          "2006",
          "2007",
          "2008",
          "2009",
          "2010",
          "2011",
          "2012",
          "2013",
          "2014",
          "2015",
          "2016",
          "2017",
          "2018",
          "2019",
          "2020",
          "2021",
          "2022"
         ],
         "xaxis": "x",
         "y": [
          6553.025987433567,
          7572.502121890713,
          8352.339306811304,
          8593.37916313455,
          8399.49644105132,
          8286.0708439096,
          8411.067204762008,
          9248.917675067052,
          10404.824304654006,
          11225.288424443057,
          11328.889847267541,
          9935.40665748932,
          9943.593712804144,
          9729.272758045316,
          9240.996744018892,
          10207.982780558663,
          12519.68189943004,
          15383.241530625366,
          17036.46161605018,
          17337.189781422272,
          20076.983697013275,
          22051.789483851055,
          19363.86759650047,
          23193.19731156107,
          27234.16543969937,
          29070.71598629087,
          29927.472526645113,
          29085.501441708155,
          26123.336220352412,
          24852.28821954452,
          26732.99163407234,
          27676.5811941927,
          27003.52932791596,
          25597.37312665182,
          29736.2044085341,
          30450.139491354203
         ],
         "yaxis": "y"
        },
        {
         "hovertemplate": "Continente=África<br>Año=%{x}<br>PIB per cápita (US$ a precios actuales)=%{y}<extra></extra>",
         "legendgroup": "África",
         "line": {
          "color": "#FF6692",
          "dash": "solid"
         },
         "marker": {
          "symbol": "circle"
         },
         "mode": "lines",
         "name": "África",
         "orientation": "v",
         "showlegend": true,
         "type": "scatter",
         "x": [
          "1987",
          "1988",
          "1989",
          "1990",
          "1991",
          "1992",
          "1993",
          "1994",
          "1995",
          "1996",
          "1997",
          "1998",
          "1999",
          "2000",
          "2001",
          "2002",
          "2003",
          "2004",
          "2005",
          "2006",
          "2007",
          "2008",
          "2009",
          "2010",
          "2011",
          "2012",
          "2013",
          "2014",
          "2015",
          "2016",
          "2017",
          "2018",
          "2019",
          "2020",
          "2021",
          "2022"
         ],
         "xaxis": "x",
         "y": [
          899.2348520922873,
          905.2252411616033,
          873.1217984786316,
          970.9042655921783,
          904.1114480306431,
          935.0436731550188,
          893.7422569120221,
          843.003473005553,
          918.5066061796445,
          935.8465740059983,
          925.5438406403885,
          912.4032740268599,
          895.4778355468309,
          881.2039297166315,
          850.6144226948538,
          856.2432106103739,
          1113.4333813628818,
          1356.5679015775968,
          1535.5650962618288,
          1661.7852572789461,
          1857.6841641991782,
          2028.5834791109041,
          1925.7550692641298,
          2189.709524827516,
          2436.654294085055,
          2414.5936657905095,
          2379.655839257581,
          2352.7558465221623,
          2026.7775070996317,
          1944.0392490206618,
          2107.0590415570427,
          2212.685781056221,
          2168.545275667896,
          1955.471738125974,
          2235.073436538813,
          2243.116861386639
         ],
         "yaxis": "y"
        }
       ],
       "layout": {
        "legend": {
         "title": {
          "text": "Continente"
         },
         "tracegroupgap": 0
        },
        "margin": {
         "t": 60
        },
        "template": {
         "data": {
          "bar": [
           {
            "error_x": {
             "color": "#2a3f5f"
            },
            "error_y": {
             "color": "#2a3f5f"
            },
            "marker": {
             "line": {
              "color": "#E5ECF6",
              "width": 0.5
             },
             "pattern": {
              "fillmode": "overlay",
              "size": 10,
              "solidity": 0.2
             }
            },
            "type": "bar"
           }
          ],
          "barpolar": [
           {
            "marker": {
             "line": {
              "color": "#E5ECF6",
              "width": 0.5
             },
             "pattern": {
              "fillmode": "overlay",
              "size": 10,
              "solidity": 0.2
             }
            },
            "type": "barpolar"
           }
          ],
          "carpet": [
           {
            "aaxis": {
             "endlinecolor": "#2a3f5f",
             "gridcolor": "white",
             "linecolor": "white",
             "minorgridcolor": "white",
             "startlinecolor": "#2a3f5f"
            },
            "baxis": {
             "endlinecolor": "#2a3f5f",
             "gridcolor": "white",
             "linecolor": "white",
             "minorgridcolor": "white",
             "startlinecolor": "#2a3f5f"
            },
            "type": "carpet"
           }
          ],
          "choropleth": [
           {
            "colorbar": {
             "outlinewidth": 0,
             "ticks": ""
            },
            "type": "choropleth"
           }
          ],
          "contour": [
           {
            "colorbar": {
             "outlinewidth": 0,
             "ticks": ""
            },
            "colorscale": [
             [
              0,
              "#0d0887"
             ],
             [
              0.1111111111111111,
              "#46039f"
             ],
             [
              0.2222222222222222,
              "#7201a8"
             ],
             [
              0.3333333333333333,
              "#9c179e"
             ],
             [
              0.4444444444444444,
              "#bd3786"
             ],
             [
              0.5555555555555556,
              "#d8576b"
             ],
             [
              0.6666666666666666,
              "#ed7953"
             ],
             [
              0.7777777777777778,
              "#fb9f3a"
             ],
             [
              0.8888888888888888,
              "#fdca26"
             ],
             [
              1,
              "#f0f921"
             ]
            ],
            "type": "contour"
           }
          ],
          "contourcarpet": [
           {
            "colorbar": {
             "outlinewidth": 0,
             "ticks": ""
            },
            "type": "contourcarpet"
           }
          ],
          "heatmap": [
           {
            "colorbar": {
             "outlinewidth": 0,
             "ticks": ""
            },
            "colorscale": [
             [
              0,
              "#0d0887"
             ],
             [
              0.1111111111111111,
              "#46039f"
             ],
             [
              0.2222222222222222,
              "#7201a8"
             ],
             [
              0.3333333333333333,
              "#9c179e"
             ],
             [
              0.4444444444444444,
              "#bd3786"
             ],
             [
              0.5555555555555556,
              "#d8576b"
             ],
             [
              0.6666666666666666,
              "#ed7953"
             ],
             [
              0.7777777777777778,
              "#fb9f3a"
             ],
             [
              0.8888888888888888,
              "#fdca26"
             ],
             [
              1,
              "#f0f921"
             ]
            ],
            "type": "heatmap"
           }
          ],
          "heatmapgl": [
           {
            "colorbar": {
             "outlinewidth": 0,
             "ticks": ""
            },
            "colorscale": [
             [
              0,
              "#0d0887"
             ],
             [
              0.1111111111111111,
              "#46039f"
             ],
             [
              0.2222222222222222,
              "#7201a8"
             ],
             [
              0.3333333333333333,
              "#9c179e"
             ],
             [
              0.4444444444444444,
              "#bd3786"
             ],
             [
              0.5555555555555556,
              "#d8576b"
             ],
             [
              0.6666666666666666,
              "#ed7953"
             ],
             [
              0.7777777777777778,
              "#fb9f3a"
             ],
             [
              0.8888888888888888,
              "#fdca26"
             ],
             [
              1,
              "#f0f921"
             ]
            ],
            "type": "heatmapgl"
           }
          ],
          "histogram": [
           {
            "marker": {
             "pattern": {
              "fillmode": "overlay",
              "size": 10,
              "solidity": 0.2
             }
            },
            "type": "histogram"
           }
          ],
          "histogram2d": [
           {
            "colorbar": {
             "outlinewidth": 0,
             "ticks": ""
            },
            "colorscale": [
             [
              0,
              "#0d0887"
             ],
             [
              0.1111111111111111,
              "#46039f"
             ],
             [
              0.2222222222222222,
              "#7201a8"
             ],
             [
              0.3333333333333333,
              "#9c179e"
             ],
             [
              0.4444444444444444,
              "#bd3786"
             ],
             [
              0.5555555555555556,
              "#d8576b"
             ],
             [
              0.6666666666666666,
              "#ed7953"
             ],
             [
              0.7777777777777778,
              "#fb9f3a"
             ],
             [
              0.8888888888888888,
              "#fdca26"
             ],
             [
              1,
              "#f0f921"
             ]
            ],
            "type": "histogram2d"
           }
          ],
          "histogram2dcontour": [
           {
            "colorbar": {
             "outlinewidth": 0,
             "ticks": ""
            },
            "colorscale": [
             [
              0,
              "#0d0887"
             ],
             [
              0.1111111111111111,
              "#46039f"
             ],
             [
              0.2222222222222222,
              "#7201a8"
             ],
             [
              0.3333333333333333,
              "#9c179e"
             ],
             [
              0.4444444444444444,
              "#bd3786"
             ],
             [
              0.5555555555555556,
              "#d8576b"
             ],
             [
              0.6666666666666666,
              "#ed7953"
             ],
             [
              0.7777777777777778,
              "#fb9f3a"
             ],
             [
              0.8888888888888888,
              "#fdca26"
             ],
             [
              1,
              "#f0f921"
             ]
            ],
            "type": "histogram2dcontour"
           }
          ],
          "mesh3d": [
           {
            "colorbar": {
             "outlinewidth": 0,
             "ticks": ""
            },
            "type": "mesh3d"
           }
          ],
          "parcoords": [
           {
            "line": {
             "colorbar": {
              "outlinewidth": 0,
              "ticks": ""
             }
            },
            "type": "parcoords"
           }
          ],
          "pie": [
           {
            "automargin": true,
            "type": "pie"
           }
          ],
          "scatter": [
           {
            "fillpattern": {
             "fillmode": "overlay",
             "size": 10,
             "solidity": 0.2
            },
            "type": "scatter"
           }
          ],
          "scatter3d": [
           {
            "line": {
             "colorbar": {
              "outlinewidth": 0,
              "ticks": ""
             }
            },
            "marker": {
             "colorbar": {
              "outlinewidth": 0,
              "ticks": ""
             }
            },
            "type": "scatter3d"
           }
          ],
          "scattercarpet": [
           {
            "marker": {
             "colorbar": {
              "outlinewidth": 0,
              "ticks": ""
             }
            },
            "type": "scattercarpet"
           }
          ],
          "scattergeo": [
           {
            "marker": {
             "colorbar": {
              "outlinewidth": 0,
              "ticks": ""
             }
            },
            "type": "scattergeo"
           }
          ],
          "scattergl": [
           {
            "marker": {
             "colorbar": {
              "outlinewidth": 0,
              "ticks": ""
             }
            },
            "type": "scattergl"
           }
          ],
          "scattermapbox": [
           {
            "marker": {
             "colorbar": {
              "outlinewidth": 0,
              "ticks": ""
             }
            },
            "type": "scattermapbox"
           }
          ],
          "scatterpolar": [
           {
            "marker": {
             "colorbar": {
              "outlinewidth": 0,
              "ticks": ""
             }
            },
            "type": "scatterpolar"
           }
          ],
          "scatterpolargl": [
           {
            "marker": {
             "colorbar": {
              "outlinewidth": 0,
              "ticks": ""
             }
            },
            "type": "scatterpolargl"
           }
          ],
          "scatterternary": [
           {
            "marker": {
             "colorbar": {
              "outlinewidth": 0,
              "ticks": ""
             }
            },
            "type": "scatterternary"
           }
          ],
          "surface": [
           {
            "colorbar": {
             "outlinewidth": 0,
             "ticks": ""
            },
            "colorscale": [
             [
              0,
              "#0d0887"
             ],
             [
              0.1111111111111111,
              "#46039f"
             ],
             [
              0.2222222222222222,
              "#7201a8"
             ],
             [
              0.3333333333333333,
              "#9c179e"
             ],
             [
              0.4444444444444444,
              "#bd3786"
             ],
             [
              0.5555555555555556,
              "#d8576b"
             ],
             [
              0.6666666666666666,
              "#ed7953"
             ],
             [
              0.7777777777777778,
              "#fb9f3a"
             ],
             [
              0.8888888888888888,
              "#fdca26"
             ],
             [
              1,
              "#f0f921"
             ]
            ],
            "type": "surface"
           }
          ],
          "table": [
           {
            "cells": {
             "fill": {
              "color": "#EBF0F8"
             },
             "line": {
              "color": "white"
             }
            },
            "header": {
             "fill": {
              "color": "#C8D4E3"
             },
             "line": {
              "color": "white"
             }
            },
            "type": "table"
           }
          ]
         },
         "layout": {
          "annotationdefaults": {
           "arrowcolor": "#2a3f5f",
           "arrowhead": 0,
           "arrowwidth": 1
          },
          "autotypenumbers": "strict",
          "coloraxis": {
           "colorbar": {
            "outlinewidth": 0,
            "ticks": ""
           }
          },
          "colorscale": {
           "diverging": [
            [
             0,
             "#8e0152"
            ],
            [
             0.1,
             "#c51b7d"
            ],
            [
             0.2,
             "#de77ae"
            ],
            [
             0.3,
             "#f1b6da"
            ],
            [
             0.4,
             "#fde0ef"
            ],
            [
             0.5,
             "#f7f7f7"
            ],
            [
             0.6,
             "#e6f5d0"
            ],
            [
             0.7,
             "#b8e186"
            ],
            [
             0.8,
             "#7fbc41"
            ],
            [
             0.9,
             "#4d9221"
            ],
            [
             1,
             "#276419"
            ]
           ],
           "sequential": [
            [
             0,
             "#0d0887"
            ],
            [
             0.1111111111111111,
             "#46039f"
            ],
            [
             0.2222222222222222,
             "#7201a8"
            ],
            [
             0.3333333333333333,
             "#9c179e"
            ],
            [
             0.4444444444444444,
             "#bd3786"
            ],
            [
             0.5555555555555556,
             "#d8576b"
            ],
            [
             0.6666666666666666,
             "#ed7953"
            ],
            [
             0.7777777777777778,
             "#fb9f3a"
            ],
            [
             0.8888888888888888,
             "#fdca26"
            ],
            [
             1,
             "#f0f921"
            ]
           ],
           "sequentialminus": [
            [
             0,
             "#0d0887"
            ],
            [
             0.1111111111111111,
             "#46039f"
            ],
            [
             0.2222222222222222,
             "#7201a8"
            ],
            [
             0.3333333333333333,
             "#9c179e"
            ],
            [
             0.4444444444444444,
             "#bd3786"
            ],
            [
             0.5555555555555556,
             "#d8576b"
            ],
            [
             0.6666666666666666,
             "#ed7953"
            ],
            [
             0.7777777777777778,
             "#fb9f3a"
            ],
            [
             0.8888888888888888,
             "#fdca26"
            ],
            [
             1,
             "#f0f921"
            ]
           ]
          },
          "colorway": [
           "#636efa",
           "#EF553B",
           "#00cc96",
           "#ab63fa",
           "#FFA15A",
           "#19d3f3",
           "#FF6692",
           "#B6E880",
           "#FF97FF",
           "#FECB52"
          ],
          "font": {
           "color": "#2a3f5f"
          },
          "geo": {
           "bgcolor": "white",
           "lakecolor": "white",
           "landcolor": "#E5ECF6",
           "showlakes": true,
           "showland": true,
           "subunitcolor": "white"
          },
          "hoverlabel": {
           "align": "left"
          },
          "hovermode": "closest",
          "mapbox": {
           "style": "light"
          },
          "paper_bgcolor": "white",
          "plot_bgcolor": "#E5ECF6",
          "polar": {
           "angularaxis": {
            "gridcolor": "white",
            "linecolor": "white",
            "ticks": ""
           },
           "bgcolor": "#E5ECF6",
           "radialaxis": {
            "gridcolor": "white",
            "linecolor": "white",
            "ticks": ""
           }
          },
          "scene": {
           "xaxis": {
            "backgroundcolor": "#E5ECF6",
            "gridcolor": "white",
            "gridwidth": 2,
            "linecolor": "white",
            "showbackground": true,
            "ticks": "",
            "zerolinecolor": "white"
           },
           "yaxis": {
            "backgroundcolor": "#E5ECF6",
            "gridcolor": "white",
            "gridwidth": 2,
            "linecolor": "white",
            "showbackground": true,
            "ticks": "",
            "zerolinecolor": "white"
           },
           "zaxis": {
            "backgroundcolor": "#E5ECF6",
            "gridcolor": "white",
            "gridwidth": 2,
            "linecolor": "white",
            "showbackground": true,
            "ticks": "",
            "zerolinecolor": "white"
           }
          },
          "shapedefaults": {
           "line": {
            "color": "#2a3f5f"
           }
          },
          "ternary": {
           "aaxis": {
            "gridcolor": "white",
            "linecolor": "white",
            "ticks": ""
           },
           "baxis": {
            "gridcolor": "white",
            "linecolor": "white",
            "ticks": ""
           },
           "bgcolor": "#E5ECF6",
           "caxis": {
            "gridcolor": "white",
            "linecolor": "white",
            "ticks": ""
           }
          },
          "title": {
           "x": 0.05
          },
          "xaxis": {
           "automargin": true,
           "gridcolor": "white",
           "linecolor": "white",
           "ticks": "",
           "title": {
            "standoff": 15
           },
           "zerolinecolor": "white",
           "zerolinewidth": 2
          },
          "yaxis": {
           "automargin": true,
           "gridcolor": "white",
           "linecolor": "white",
           "ticks": "",
           "title": {
            "standoff": 15
           },
           "zerolinecolor": "white",
           "zerolinewidth": 2
          }
         }
        },
        "xaxis": {
         "anchor": "y",
         "domain": [
          0,
          1
         ],
         "title": {
          "text": "Año"
         }
        },
        "yaxis": {
         "anchor": "x",
         "domain": [
          0,
          1
         ],
         "title": {
          "text": "PIB per cápita (US$ a precios actuales)"
         }
        }
       }
      }
     },
     "metadata": {},
     "output_type": "display_data"
    }
   ],
   "source": [
    "for i in df_contientes.columns[2:4]:\n",
    "    graficar_indicador(i)"
   ]
  },
  {
   "cell_type": "code",
   "execution_count": 157,
   "metadata": {},
   "outputs": [
    {
     "data": {
      "text/html": [
       "<div>\n",
       "<style scoped>\n",
       "    .dataframe tbody tr th:only-of-type {\n",
       "        vertical-align: middle;\n",
       "    }\n",
       "\n",
       "    .dataframe tbody tr th {\n",
       "        vertical-align: top;\n",
       "    }\n",
       "\n",
       "    .dataframe thead th {\n",
       "        text-align: right;\n",
       "    }\n",
       "</style>\n",
       "<table border=\"1\" class=\"dataframe\">\n",
       "  <thead>\n",
       "    <tr style=\"text-align: right;\">\n",
       "      <th>serie Name</th>\n",
       "      <th>país Name</th>\n",
       "      <th>Año</th>\n",
       "      <th>Crecimiento del PIB per cápita (% anual)</th>\n",
       "      <th>PIB per cápita (US$ a precios actuales)</th>\n",
       "      <th>Continente</th>\n",
       "    </tr>\n",
       "  </thead>\n",
       "  <tbody>\n",
       "    <tr>\n",
       "      <th>0</th>\n",
       "      <td>Alemania</td>\n",
       "      <td>1987</td>\n",
       "      <td>1.246500</td>\n",
       "      <td>16677.510788</td>\n",
       "      <td>Europa</td>\n",
       "    </tr>\n",
       "    <tr>\n",
       "      <th>1</th>\n",
       "      <td>Alemania</td>\n",
       "      <td>1988</td>\n",
       "      <td>3.302864</td>\n",
       "      <td>17931.282323</td>\n",
       "      <td>Europa</td>\n",
       "    </tr>\n",
       "    <tr>\n",
       "      <th>2</th>\n",
       "      <td>Alemania</td>\n",
       "      <td>1989</td>\n",
       "      <td>3.096180</td>\n",
       "      <td>17764.376446</td>\n",
       "      <td>Europa</td>\n",
       "    </tr>\n",
       "    <tr>\n",
       "      <th>3</th>\n",
       "      <td>Alemania</td>\n",
       "      <td>1990</td>\n",
       "      <td>4.351639</td>\n",
       "      <td>22303.961327</td>\n",
       "      <td>Europa</td>\n",
       "    </tr>\n",
       "    <tr>\n",
       "      <th>4</th>\n",
       "      <td>Alemania</td>\n",
       "      <td>1991</td>\n",
       "      <td>4.345220</td>\n",
       "      <td>23357.757725</td>\n",
       "      <td>Europa</td>\n",
       "    </tr>\n",
       "    <tr>\n",
       "      <th>...</th>\n",
       "      <td>...</td>\n",
       "      <td>...</td>\n",
       "      <td>...</td>\n",
       "      <td>...</td>\n",
       "      <td>...</td>\n",
       "    </tr>\n",
       "    <tr>\n",
       "      <th>1399</th>\n",
       "      <td>Suiza</td>\n",
       "      <td>2018</td>\n",
       "      <td>2.105525</td>\n",
       "      <td>85216.642951</td>\n",
       "      <td>Europa</td>\n",
       "    </tr>\n",
       "    <tr>\n",
       "      <th>1400</th>\n",
       "      <td>Suiza</td>\n",
       "      <td>2019</td>\n",
       "      <td>0.423090</td>\n",
       "      <td>84121.931030</td>\n",
       "      <td>Europa</td>\n",
       "    </tr>\n",
       "    <tr>\n",
       "      <th>1401</th>\n",
       "      <td>Suiza</td>\n",
       "      <td>2020</td>\n",
       "      <td>-3.086282</td>\n",
       "      <td>85656.322666</td>\n",
       "      <td>Europa</td>\n",
       "    </tr>\n",
       "    <tr>\n",
       "      <th>1402</th>\n",
       "      <td>Suiza</td>\n",
       "      <td>2021</td>\n",
       "      <td>3.440503</td>\n",
       "      <td>91991.600458</td>\n",
       "      <td>Europa</td>\n",
       "    </tr>\n",
       "    <tr>\n",
       "      <th>1403</th>\n",
       "      <td>Suiza</td>\n",
       "      <td>2022</td>\n",
       "      <td>1.287237</td>\n",
       "      <td>92101.469741</td>\n",
       "      <td>Europa</td>\n",
       "    </tr>\n",
       "  </tbody>\n",
       "</table>\n",
       "<p>1404 rows × 5 columns</p>\n",
       "</div>"
      ],
      "text/plain": [
       "serie Name país Name   Año  Crecimiento del PIB per cápita (% anual)   \n",
       "0           Alemania  1987                                  1.246500  \\\n",
       "1           Alemania  1988                                  3.302864   \n",
       "2           Alemania  1989                                  3.096180   \n",
       "3           Alemania  1990                                  4.351639   \n",
       "4           Alemania  1991                                  4.345220   \n",
       "...              ...   ...                                       ...   \n",
       "1399           Suiza  2018                                  2.105525   \n",
       "1400           Suiza  2019                                  0.423090   \n",
       "1401           Suiza  2020                                 -3.086282   \n",
       "1402           Suiza  2021                                  3.440503   \n",
       "1403           Suiza  2022                                  1.287237   \n",
       "\n",
       "serie Name  PIB per cápita (US$ a precios actuales) Continente  \n",
       "0                                      16677.510788     Europa  \n",
       "1                                      17931.282323     Europa  \n",
       "2                                      17764.376446     Europa  \n",
       "3                                      22303.961327     Europa  \n",
       "4                                      23357.757725     Europa  \n",
       "...                                             ...        ...  \n",
       "1399                                   85216.642951     Europa  \n",
       "1400                                   84121.931030     Europa  \n",
       "1401                                   85656.322666     Europa  \n",
       "1402                                   91991.600458     Europa  \n",
       "1403                                   92101.469741     Europa  \n",
       "\n",
       "[1404 rows x 5 columns]"
      ]
     },
     "execution_count": 157,
     "metadata": {},
     "output_type": "execute_result"
    }
   ],
   "source": [
    "df_pivoted"
   ]
  },
  {
   "cell_type": "code",
   "execution_count": 158,
   "metadata": {},
   "outputs": [
    {
     "data": {
      "text/html": [
       "<div>\n",
       "<style scoped>\n",
       "    .dataframe tbody tr th:only-of-type {\n",
       "        vertical-align: middle;\n",
       "    }\n",
       "\n",
       "    .dataframe tbody tr th {\n",
       "        vertical-align: top;\n",
       "    }\n",
       "\n",
       "    .dataframe thead th {\n",
       "        text-align: right;\n",
       "    }\n",
       "</style>\n",
       "<table border=\"1\" class=\"dataframe\">\n",
       "  <thead>\n",
       "    <tr style=\"text-align: right;\">\n",
       "      <th>serie Name</th>\n",
       "      <th>país Name</th>\n",
       "      <th>Año</th>\n",
       "      <th>Crecimiento del PIB per cápita (% anual)</th>\n",
       "      <th>PIB per cápita (US$ a precios actuales)</th>\n",
       "      <th>Continente</th>\n",
       "    </tr>\n",
       "  </thead>\n",
       "  <tbody>\n",
       "    <tr>\n",
       "      <th>36</th>\n",
       "      <td>Arabia Saudita</td>\n",
       "      <td>1987</td>\n",
       "      <td>-10.651193</td>\n",
       "      <td>6082.127065</td>\n",
       "      <td>Asia</td>\n",
       "    </tr>\n",
       "    <tr>\n",
       "      <th>37</th>\n",
       "      <td>Arabia Saudita</td>\n",
       "      <td>1988</td>\n",
       "      <td>8.313052</td>\n",
       "      <td>5998.224246</td>\n",
       "      <td>Asia</td>\n",
       "    </tr>\n",
       "    <tr>\n",
       "      <th>38</th>\n",
       "      <td>Arabia Saudita</td>\n",
       "      <td>1989</td>\n",
       "      <td>-4.647390</td>\n",
       "      <td>6210.052963</td>\n",
       "      <td>Asia</td>\n",
       "    </tr>\n",
       "    <tr>\n",
       "      <th>39</th>\n",
       "      <td>Arabia Saudita</td>\n",
       "      <td>1990</td>\n",
       "      <td>10.504030</td>\n",
       "      <td>7349.703435</td>\n",
       "      <td>Asia</td>\n",
       "    </tr>\n",
       "    <tr>\n",
       "      <th>40</th>\n",
       "      <td>Arabia Saudita</td>\n",
       "      <td>1991</td>\n",
       "      <td>10.522599</td>\n",
       "      <td>7939.297864</td>\n",
       "      <td>Asia</td>\n",
       "    </tr>\n",
       "    <tr>\n",
       "      <th>...</th>\n",
       "      <td>...</td>\n",
       "      <td>...</td>\n",
       "      <td>...</td>\n",
       "      <td>...</td>\n",
       "      <td>...</td>\n",
       "    </tr>\n",
       "    <tr>\n",
       "      <th>1327</th>\n",
       "      <td>Singapur</td>\n",
       "      <td>2018</td>\n",
       "      <td>3.090075</td>\n",
       "      <td>66836.538512</td>\n",
       "      <td>Asia</td>\n",
       "    </tr>\n",
       "    <tr>\n",
       "      <th>1328</th>\n",
       "      <td>Singapur</td>\n",
       "      <td>2019</td>\n",
       "      <td>0.178353</td>\n",
       "      <td>66070.470668</td>\n",
       "      <td>Asia</td>\n",
       "    </tr>\n",
       "    <tr>\n",
       "      <th>1329</th>\n",
       "      <td>Singapur</td>\n",
       "      <td>2020</td>\n",
       "      <td>-3.600848</td>\n",
       "      <td>61274.006463</td>\n",
       "      <td>Asia</td>\n",
       "    </tr>\n",
       "    <tr>\n",
       "      <th>1330</th>\n",
       "      <td>Singapur</td>\n",
       "      <td>2021</td>\n",
       "      <td>13.519127</td>\n",
       "      <td>77710.069957</td>\n",
       "      <td>Asia</td>\n",
       "    </tr>\n",
       "    <tr>\n",
       "      <th>1331</th>\n",
       "      <td>Singapur</td>\n",
       "      <td>2022</td>\n",
       "      <td>0.273798</td>\n",
       "      <td>82807.649083</td>\n",
       "      <td>Asia</td>\n",
       "    </tr>\n",
       "  </tbody>\n",
       "</table>\n",
       "<p>252 rows × 5 columns</p>\n",
       "</div>"
      ],
      "text/plain": [
       "serie Name       país Name   Año  Crecimiento del PIB per cápita (% anual)   \n",
       "36          Arabia Saudita  1987                                -10.651193  \\\n",
       "37          Arabia Saudita  1988                                  8.313052   \n",
       "38          Arabia Saudita  1989                                 -4.647390   \n",
       "39          Arabia Saudita  1990                                 10.504030   \n",
       "40          Arabia Saudita  1991                                 10.522599   \n",
       "...                    ...   ...                                       ...   \n",
       "1327              Singapur  2018                                  3.090075   \n",
       "1328              Singapur  2019                                  0.178353   \n",
       "1329              Singapur  2020                                 -3.600848   \n",
       "1330              Singapur  2021                                 13.519127   \n",
       "1331              Singapur  2022                                  0.273798   \n",
       "\n",
       "serie Name  PIB per cápita (US$ a precios actuales) Continente  \n",
       "36                                      6082.127065       Asia  \n",
       "37                                      5998.224246       Asia  \n",
       "38                                      6210.052963       Asia  \n",
       "39                                      7349.703435       Asia  \n",
       "40                                      7939.297864       Asia  \n",
       "...                                             ...        ...  \n",
       "1327                                   66836.538512       Asia  \n",
       "1328                                   66070.470668       Asia  \n",
       "1329                                   61274.006463       Asia  \n",
       "1330                                   77710.069957       Asia  \n",
       "1331                                   82807.649083       Asia  \n",
       "\n",
       "[252 rows x 5 columns]"
      ]
     },
     "execution_count": 158,
     "metadata": {},
     "output_type": "execute_result"
    }
   ],
   "source": [
    "df_pivoted_continente = df_pivoted[df_pivoted[\"Continente\"]==\"Asia\"]\n",
    "df_pivoted_continente"
   ]
  },
  {
   "cell_type": "code",
   "execution_count": 159,
   "metadata": {},
   "outputs": [
    {
     "data": {
      "application/vnd.plotly.v1+json": {
       "config": {
        "plotlyServerURL": "https://plot.ly"
       },
       "data": [
        {
         "hovertemplate": "país Name=Arabia Saudita<br>Año=%{x}<br>Crecimiento del PIB per cápita (% anual)=%{y}<extra></extra>",
         "legendgroup": "Arabia Saudita",
         "line": {
          "color": "#636efa",
          "dash": "solid"
         },
         "marker": {
          "symbol": "circle"
         },
         "mode": "lines",
         "name": "Arabia Saudita",
         "orientation": "v",
         "showlegend": true,
         "type": "scatter",
         "x": [
          "1987",
          "1988",
          "1989",
          "1990",
          "1991",
          "1992",
          "1993",
          "1994",
          "1995",
          "1996",
          "1997",
          "1998",
          "1999",
          "2000",
          "2001",
          "2002",
          "2003",
          "2004",
          "2005",
          "2006",
          "2007",
          "2008",
          "2009",
          "2010",
          "2011",
          "2012",
          "2013",
          "2014",
          "2015",
          "2016",
          "2017",
          "2018",
          "2019",
          "2020",
          "2021",
          "2022"
         ],
         "xaxis": "x",
         "y": [
          -10.651193048392798,
          8.313051546459093,
          -4.647389914788505,
          10.504030368867461,
          10.52259891487057,
          0.2142306273227348,
          -4.487074103726357,
          -2.2940224683883628,
          -2.553744055723101,
          -0.1197494908886938,
          -1.5740991007604492,
          0.2085058521642793,
          -6.223430445339616,
          2.9894609316719993,
          -3.6196018887454784,
          -5.127991759649987,
          8.707699557500106,
          5.627150949855931,
          2.3897295739023576,
          -1.2012887119077362,
          -2.077052713135089,
          2.232938638121823,
          -5.65741803716746,
          1.72483390724922,
          8.273244385977165,
          3.133563624990529,
          0.6910655267486732,
          1.9453019197814427,
          2.6945210775630244,
          0.3216437167875057,
          -2.34006849997688,
          0.3412128542658053,
          -1.445208185345976,
          -4.792467570291208,
          4.056751495710714,
          7.374954355124984
         ],
         "yaxis": "y"
        },
        {
         "hovertemplate": "país Name=China<br>Año=%{x}<br>Crecimiento del PIB per cápita (% anual)=%{y}<extra></extra>",
         "legendgroup": "China",
         "line": {
          "color": "#EF553B",
          "dash": "solid"
         },
         "marker": {
          "symbol": "circle"
         },
         "mode": "lines",
         "name": "China",
         "orientation": "v",
         "showlegend": true,
         "type": "scatter",
         "x": [
          "1987",
          "1988",
          "1989",
          "1990",
          "1991",
          "1992",
          "1993",
          "1994",
          "1995",
          "1996",
          "1997",
          "1998",
          "1999",
          "2000",
          "2001",
          "2002",
          "2003",
          "2004",
          "2005",
          "2006",
          "2007",
          "2008",
          "2009",
          "2010",
          "2011",
          "2012",
          "2013",
          "2014",
          "2015",
          "2016",
          "2017",
          "2018",
          "2019",
          "2020",
          "2021",
          "2022"
         ],
         "xaxis": "x",
         "y": [
          9.881163795854619,
          9.446171356877684,
          2.6208591749210086,
          2.4065585719958307,
          7.782091990507567,
          12.833209580712321,
          12.581996643928477,
          11.766389145624629,
          9.754954890202015,
          8.776429810526423,
          8.124497577017763,
          6.816064564696305,
          6.733485658434461,
          7.638597676032944,
          7.551654831552639,
          8.404879975145647,
          9.35477664390774,
          9.461558770499096,
          10.741375126402914,
          12.09330469390244,
          13.635820500640762,
          9.09028010153618,
          8.855947675555512,
          10.102832622713947,
          8.95381604183163,
          7.134523777480268,
          7.05073413381821,
          6.750760315942728,
          6.420736477230562,
          6.238215447752253,
          6.30186310052261,
          6.251700555698832,
          5.575316863038495,
          1.9955580418692875,
          8.350729714704116,
          3.0042967632348194
         ],
         "yaxis": "y"
        },
        {
         "hovertemplate": "país Name=Emiratos Árabes Unidos<br>Año=%{x}<br>Crecimiento del PIB per cápita (% anual)=%{y}<extra></extra>",
         "legendgroup": "Emiratos Árabes Unidos",
         "line": {
          "color": "#00cc96",
          "dash": "solid"
         },
         "marker": {
          "symbol": "circle"
         },
         "mode": "lines",
         "name": "Emiratos Árabes Unidos",
         "orientation": "v",
         "showlegend": true,
         "type": "scatter",
         "x": [
          "1987",
          "1988",
          "1989",
          "1990",
          "1991",
          "1992",
          "1993",
          "1994",
          "1995",
          "1996",
          "1997",
          "1998",
          "1999",
          "2000",
          "2001",
          "2002",
          "2003",
          "2004",
          "2005",
          "2006",
          "2007",
          "2008",
          "2009",
          "2010",
          "2011",
          "2012",
          "2013",
          "2014",
          "2015",
          "2016",
          "2017",
          "2018",
          "2019",
          "2020",
          "2021",
          "2022"
         ],
         "xaxis": "x",
         "y": [
          -3.651285454885979,
          -8.852247082814046,
          5.556954377626823,
          11.583141339082246,
          -4.575279929499274,
          -1.921751266067261,
          -3.614620809362208,
          2.042957364977397,
          2.087047299768159,
          0.0927207444249234,
          1.3594914302922376,
          -5.716708524160964,
          -2.958957301664327,
          4.836129645104606,
          -3.851554146683597,
          -2.6254716951837054,
          3.6710471704010956,
          4.630576274372757,
          -2.190420612757933,
          -4.0177153961742675,
          -13.923387402484295,
          -13.287427560532777,
          -17.14539390036103,
          -4.256385863100462,
          5.7634334421943265,
          3.6912013050216785,
          4.012692145430691,
          3.174202486920791,
          5.817357871325868,
          4.653505395001645,
          -0.08732607137450543,
          0.517239888701809,
          0.3236865268068527,
          -5.731044521616241,
          3.0524005195749453,
          6.546638235243435
         ],
         "yaxis": "y"
        },
        {
         "hovertemplate": "país Name=India<br>Año=%{x}<br>Crecimiento del PIB per cápita (% anual)=%{y}<extra></extra>",
         "legendgroup": "India",
         "line": {
          "color": "#ab63fa",
          "dash": "solid"
         },
         "marker": {
          "symbol": "circle"
         },
         "mode": "lines",
         "name": "India",
         "orientation": "v",
         "showlegend": true,
         "type": "scatter",
         "x": [
          "1987",
          "1988",
          "1989",
          "1990",
          "1991",
          "1992",
          "1993",
          "1994",
          "1995",
          "1996",
          "1997",
          "1998",
          "1999",
          "2000",
          "2001",
          "2002",
          "2003",
          "2004",
          "2005",
          "2006",
          "2007",
          "2008",
          "2009",
          "2010",
          "2011",
          "2012",
          "2013",
          "2014",
          "2015",
          "2016",
          "2017",
          "2018",
          "2019",
          "2020",
          "2021",
          "2022"
         ],
         "xaxis": "x",
         "y": [
          1.6919620913400877,
          7.259166022955469,
          3.6738625586501428,
          3.2978540660614044,
          -1.0451054689606991,
          3.316865934970295,
          2.627465862513702,
          4.52513381100772,
          5.452945863603247,
          5.471108102115792,
          2.071873276545986,
          4.198921159551233,
          6.851333407913458,
          1.9659524373621764,
          2.9453193591059375,
          1.9759079840173257,
          6.016520564033485,
          6.132606167648021,
          6.206011032184591,
          6.426044714643226,
          6.093625779497387,
          1.6307805894864202,
          6.37170938858857,
          7.0131745803792,
          3.8180731303019115,
          4.060823569794465,
          5.014611864408636,
          6.086180227127699,
          6.721067630670419,
          6.980989701330202,
          5.568333513572327,
          5.302408678574054,
          2.811873102250601,
          -6.726292080179647,
          8.184367715621761,
          6.277403813986183
         ],
         "yaxis": "y"
        },
        {
         "hovertemplate": "país Name=Japón<br>Año=%{x}<br>Crecimiento del PIB per cápita (% anual)=%{y}<extra></extra>",
         "legendgroup": "Japón",
         "line": {
          "color": "#FFA15A",
          "dash": "solid"
         },
         "marker": {
          "symbol": "circle"
         },
         "mode": "lines",
         "name": "Japón",
         "orientation": "v",
         "showlegend": true,
         "type": "scatter",
         "x": [
          "1987",
          "1988",
          "1989",
          "1990",
          "1991",
          "1992",
          "1993",
          "1994",
          "1995",
          "1996",
          "1997",
          "1998",
          "1999",
          "2000",
          "2001",
          "2002",
          "2003",
          "2004",
          "2005",
          "2006",
          "2007",
          "2008",
          "2009",
          "2010",
          "2011",
          "2012",
          "2013",
          "2014",
          "2015",
          "2016",
          "2017",
          "2018",
          "2019",
          "2020",
          "2021",
          "2022"
         ],
         "xaxis": "x",
         "y": [
          4.145630588409418,
          6.218728553296387,
          4.507170159524648,
          4.493661204195092,
          3.1174946331544504,
          0.5267450362090216,
          -0.7813762281365939,
          0.8015596851254116,
          2.3905195580515795,
          2.900141234358003,
          0.7409059525988368,
          -1.5382440756550864,
          -0.5157405900551311,
          2.592891086508132,
          0.14451169008489728,
          -0.19039201361297842,
          1.3180919624152523,
          2.151723329186055,
          1.794339800603879,
          1.3081271830090344,
          1.367422326037854,
          -1.2721099488706216,
          -5.681452340311822,
          4.079223048432738,
          0.20925180281963662,
          1.536786658845955,
          2.1523710656464345,
          0.42938112252039673,
          1.6684651171174494,
          0.8053628246161679,
          1.7586118016144354,
          0.7711684714323326,
          -0.2621708285890634,
          -3.996581848527015,
          2.613376309614111,
          1.4780389855920077
         ],
         "yaxis": "y"
        },
        {
         "hovertemplate": "país Name=Nepal<br>Año=%{x}<br>Crecimiento del PIB per cápita (% anual)=%{y}<extra></extra>",
         "legendgroup": "Nepal",
         "line": {
          "color": "#19d3f3",
          "dash": "solid"
         },
         "marker": {
          "symbol": "circle"
         },
         "mode": "lines",
         "name": "Nepal",
         "orientation": "v",
         "showlegend": true,
         "type": "scatter",
         "x": [
          "1987",
          "1988",
          "1989",
          "1990",
          "1991",
          "1992",
          "1993",
          "1994",
          "1995",
          "1996",
          "1997",
          "1998",
          "1999",
          "2000",
          "2001",
          "2002",
          "2003",
          "2004",
          "2005",
          "2006",
          "2007",
          "2008",
          "2009",
          "2010",
          "2011",
          "2012",
          "2013",
          "2014",
          "2015",
          "2016",
          "2017",
          "2018",
          "2019",
          "2020",
          "2021",
          "2022"
         ],
         "xaxis": "x",
         "y": [
          -0.4645599625147554,
          5.427090993872994,
          2.01728281849698,
          2.1202948615048456,
          3.6509324013169504,
          1.233194864381332,
          1.0898159604315651,
          5.5973788742193875,
          1.0989203264739018,
          3.116692310087913,
          2.9455633972343946,
          1.0436592172983694,
          2.510432740411275,
          4.399652800893676,
          3.134541934708281,
          -1.36634119401036,
          2.5255472926192652,
          3.3901433304317976,
          2.372369840130986,
          2.4530804613315667,
          2.6579166394430302,
          5.441961368931203,
          3.970721480914392,
          4.296893271825525,
          3.0241795510866325,
          4.423907166946833,
          3.3328561031979547,
          5.700533237950992,
          3.4178843049380987,
          -0.47118200532521826,
          7.731269075012179,
          6.401863286618763,
          5.451916540796219,
          -4.086568589253062,
          2.442379731512844,
          3.8409947684189945
         ],
         "yaxis": "y"
        },
        {
         "hovertemplate": "país Name=Singapur<br>Año=%{x}<br>Crecimiento del PIB per cápita (% anual)=%{y}<extra></extra>",
         "legendgroup": "Singapur",
         "line": {
          "color": "#FF6692",
          "dash": "solid"
         },
         "marker": {
          "symbol": "circle"
         },
         "mode": "lines",
         "name": "Singapur",
         "orientation": "v",
         "showlegend": true,
         "type": "scatter",
         "x": [
          "1987",
          "1988",
          "1989",
          "1990",
          "1991",
          "1992",
          "1993",
          "1994",
          "1995",
          "1996",
          "1997",
          "1998",
          "1999",
          "2000",
          "2001",
          "2002",
          "2003",
          "2004",
          "2005",
          "2006",
          "2007",
          "2008",
          "2009",
          "2010",
          "2011",
          "2012",
          "2013",
          "2014",
          "2015",
          "2016",
          "2017",
          "2018",
          "2019",
          "2020",
          "2021",
          "2022"
         ],
         "xaxis": "x",
         "y": [
          9.144182519857182,
          8.475501124135263,
          6.971857275113109,
          5.631848024123087,
          3.6953822822512308,
          3.4837182442404355,
          8.675304888244241,
          7.665158475040485,
          3.9685677515224995,
          3.1909851392228035,
          4.739926747172561,
          -5.457986674462063,
          4.876891841977525,
          7.165988201564915,
          -3.7036659520453696,
          2.979229620627308,
          6.101275545554046,
          8.572205291598095,
          4.872093268507527,
          5.6483432938378115,
          4.572986270965515,
          -3.415492694462813,
          -2.8467719492420827,
          12.508521549855217,
          4.023381648658969,
          1.9044622366221233,
          3.133979148992651,
          2.594723154867438,
          1.7623246863890216,
          2.2661730074815267,
          4.452147341814111,
          3.0900752151867152,
          0.1783534649473637,
          -3.6008480858031504,
          13.519126848488455,
          0.27379756364638297
         ],
         "yaxis": "y"
        }
       ],
       "layout": {
        "height": 700,
        "legend": {
         "title": {
          "text": "país Name"
         },
         "tracegroupgap": 0
        },
        "margin": {
         "t": 60
        },
        "template": {
         "data": {
          "bar": [
           {
            "error_x": {
             "color": "#2a3f5f"
            },
            "error_y": {
             "color": "#2a3f5f"
            },
            "marker": {
             "line": {
              "color": "#E5ECF6",
              "width": 0.5
             },
             "pattern": {
              "fillmode": "overlay",
              "size": 10,
              "solidity": 0.2
             }
            },
            "type": "bar"
           }
          ],
          "barpolar": [
           {
            "marker": {
             "line": {
              "color": "#E5ECF6",
              "width": 0.5
             },
             "pattern": {
              "fillmode": "overlay",
              "size": 10,
              "solidity": 0.2
             }
            },
            "type": "barpolar"
           }
          ],
          "carpet": [
           {
            "aaxis": {
             "endlinecolor": "#2a3f5f",
             "gridcolor": "white",
             "linecolor": "white",
             "minorgridcolor": "white",
             "startlinecolor": "#2a3f5f"
            },
            "baxis": {
             "endlinecolor": "#2a3f5f",
             "gridcolor": "white",
             "linecolor": "white",
             "minorgridcolor": "white",
             "startlinecolor": "#2a3f5f"
            },
            "type": "carpet"
           }
          ],
          "choropleth": [
           {
            "colorbar": {
             "outlinewidth": 0,
             "ticks": ""
            },
            "type": "choropleth"
           }
          ],
          "contour": [
           {
            "colorbar": {
             "outlinewidth": 0,
             "ticks": ""
            },
            "colorscale": [
             [
              0,
              "#0d0887"
             ],
             [
              0.1111111111111111,
              "#46039f"
             ],
             [
              0.2222222222222222,
              "#7201a8"
             ],
             [
              0.3333333333333333,
              "#9c179e"
             ],
             [
              0.4444444444444444,
              "#bd3786"
             ],
             [
              0.5555555555555556,
              "#d8576b"
             ],
             [
              0.6666666666666666,
              "#ed7953"
             ],
             [
              0.7777777777777778,
              "#fb9f3a"
             ],
             [
              0.8888888888888888,
              "#fdca26"
             ],
             [
              1,
              "#f0f921"
             ]
            ],
            "type": "contour"
           }
          ],
          "contourcarpet": [
           {
            "colorbar": {
             "outlinewidth": 0,
             "ticks": ""
            },
            "type": "contourcarpet"
           }
          ],
          "heatmap": [
           {
            "colorbar": {
             "outlinewidth": 0,
             "ticks": ""
            },
            "colorscale": [
             [
              0,
              "#0d0887"
             ],
             [
              0.1111111111111111,
              "#46039f"
             ],
             [
              0.2222222222222222,
              "#7201a8"
             ],
             [
              0.3333333333333333,
              "#9c179e"
             ],
             [
              0.4444444444444444,
              "#bd3786"
             ],
             [
              0.5555555555555556,
              "#d8576b"
             ],
             [
              0.6666666666666666,
              "#ed7953"
             ],
             [
              0.7777777777777778,
              "#fb9f3a"
             ],
             [
              0.8888888888888888,
              "#fdca26"
             ],
             [
              1,
              "#f0f921"
             ]
            ],
            "type": "heatmap"
           }
          ],
          "heatmapgl": [
           {
            "colorbar": {
             "outlinewidth": 0,
             "ticks": ""
            },
            "colorscale": [
             [
              0,
              "#0d0887"
             ],
             [
              0.1111111111111111,
              "#46039f"
             ],
             [
              0.2222222222222222,
              "#7201a8"
             ],
             [
              0.3333333333333333,
              "#9c179e"
             ],
             [
              0.4444444444444444,
              "#bd3786"
             ],
             [
              0.5555555555555556,
              "#d8576b"
             ],
             [
              0.6666666666666666,
              "#ed7953"
             ],
             [
              0.7777777777777778,
              "#fb9f3a"
             ],
             [
              0.8888888888888888,
              "#fdca26"
             ],
             [
              1,
              "#f0f921"
             ]
            ],
            "type": "heatmapgl"
           }
          ],
          "histogram": [
           {
            "marker": {
             "pattern": {
              "fillmode": "overlay",
              "size": 10,
              "solidity": 0.2
             }
            },
            "type": "histogram"
           }
          ],
          "histogram2d": [
           {
            "colorbar": {
             "outlinewidth": 0,
             "ticks": ""
            },
            "colorscale": [
             [
              0,
              "#0d0887"
             ],
             [
              0.1111111111111111,
              "#46039f"
             ],
             [
              0.2222222222222222,
              "#7201a8"
             ],
             [
              0.3333333333333333,
              "#9c179e"
             ],
             [
              0.4444444444444444,
              "#bd3786"
             ],
             [
              0.5555555555555556,
              "#d8576b"
             ],
             [
              0.6666666666666666,
              "#ed7953"
             ],
             [
              0.7777777777777778,
              "#fb9f3a"
             ],
             [
              0.8888888888888888,
              "#fdca26"
             ],
             [
              1,
              "#f0f921"
             ]
            ],
            "type": "histogram2d"
           }
          ],
          "histogram2dcontour": [
           {
            "colorbar": {
             "outlinewidth": 0,
             "ticks": ""
            },
            "colorscale": [
             [
              0,
              "#0d0887"
             ],
             [
              0.1111111111111111,
              "#46039f"
             ],
             [
              0.2222222222222222,
              "#7201a8"
             ],
             [
              0.3333333333333333,
              "#9c179e"
             ],
             [
              0.4444444444444444,
              "#bd3786"
             ],
             [
              0.5555555555555556,
              "#d8576b"
             ],
             [
              0.6666666666666666,
              "#ed7953"
             ],
             [
              0.7777777777777778,
              "#fb9f3a"
             ],
             [
              0.8888888888888888,
              "#fdca26"
             ],
             [
              1,
              "#f0f921"
             ]
            ],
            "type": "histogram2dcontour"
           }
          ],
          "mesh3d": [
           {
            "colorbar": {
             "outlinewidth": 0,
             "ticks": ""
            },
            "type": "mesh3d"
           }
          ],
          "parcoords": [
           {
            "line": {
             "colorbar": {
              "outlinewidth": 0,
              "ticks": ""
             }
            },
            "type": "parcoords"
           }
          ],
          "pie": [
           {
            "automargin": true,
            "type": "pie"
           }
          ],
          "scatter": [
           {
            "fillpattern": {
             "fillmode": "overlay",
             "size": 10,
             "solidity": 0.2
            },
            "type": "scatter"
           }
          ],
          "scatter3d": [
           {
            "line": {
             "colorbar": {
              "outlinewidth": 0,
              "ticks": ""
             }
            },
            "marker": {
             "colorbar": {
              "outlinewidth": 0,
              "ticks": ""
             }
            },
            "type": "scatter3d"
           }
          ],
          "scattercarpet": [
           {
            "marker": {
             "colorbar": {
              "outlinewidth": 0,
              "ticks": ""
             }
            },
            "type": "scattercarpet"
           }
          ],
          "scattergeo": [
           {
            "marker": {
             "colorbar": {
              "outlinewidth": 0,
              "ticks": ""
             }
            },
            "type": "scattergeo"
           }
          ],
          "scattergl": [
           {
            "marker": {
             "colorbar": {
              "outlinewidth": 0,
              "ticks": ""
             }
            },
            "type": "scattergl"
           }
          ],
          "scattermapbox": [
           {
            "marker": {
             "colorbar": {
              "outlinewidth": 0,
              "ticks": ""
             }
            },
            "type": "scattermapbox"
           }
          ],
          "scatterpolar": [
           {
            "marker": {
             "colorbar": {
              "outlinewidth": 0,
              "ticks": ""
             }
            },
            "type": "scatterpolar"
           }
          ],
          "scatterpolargl": [
           {
            "marker": {
             "colorbar": {
              "outlinewidth": 0,
              "ticks": ""
             }
            },
            "type": "scatterpolargl"
           }
          ],
          "scatterternary": [
           {
            "marker": {
             "colorbar": {
              "outlinewidth": 0,
              "ticks": ""
             }
            },
            "type": "scatterternary"
           }
          ],
          "surface": [
           {
            "colorbar": {
             "outlinewidth": 0,
             "ticks": ""
            },
            "colorscale": [
             [
              0,
              "#0d0887"
             ],
             [
              0.1111111111111111,
              "#46039f"
             ],
             [
              0.2222222222222222,
              "#7201a8"
             ],
             [
              0.3333333333333333,
              "#9c179e"
             ],
             [
              0.4444444444444444,
              "#bd3786"
             ],
             [
              0.5555555555555556,
              "#d8576b"
             ],
             [
              0.6666666666666666,
              "#ed7953"
             ],
             [
              0.7777777777777778,
              "#fb9f3a"
             ],
             [
              0.8888888888888888,
              "#fdca26"
             ],
             [
              1,
              "#f0f921"
             ]
            ],
            "type": "surface"
           }
          ],
          "table": [
           {
            "cells": {
             "fill": {
              "color": "#EBF0F8"
             },
             "line": {
              "color": "white"
             }
            },
            "header": {
             "fill": {
              "color": "#C8D4E3"
             },
             "line": {
              "color": "white"
             }
            },
            "type": "table"
           }
          ]
         },
         "layout": {
          "annotationdefaults": {
           "arrowcolor": "#2a3f5f",
           "arrowhead": 0,
           "arrowwidth": 1
          },
          "autotypenumbers": "strict",
          "coloraxis": {
           "colorbar": {
            "outlinewidth": 0,
            "ticks": ""
           }
          },
          "colorscale": {
           "diverging": [
            [
             0,
             "#8e0152"
            ],
            [
             0.1,
             "#c51b7d"
            ],
            [
             0.2,
             "#de77ae"
            ],
            [
             0.3,
             "#f1b6da"
            ],
            [
             0.4,
             "#fde0ef"
            ],
            [
             0.5,
             "#f7f7f7"
            ],
            [
             0.6,
             "#e6f5d0"
            ],
            [
             0.7,
             "#b8e186"
            ],
            [
             0.8,
             "#7fbc41"
            ],
            [
             0.9,
             "#4d9221"
            ],
            [
             1,
             "#276419"
            ]
           ],
           "sequential": [
            [
             0,
             "#0d0887"
            ],
            [
             0.1111111111111111,
             "#46039f"
            ],
            [
             0.2222222222222222,
             "#7201a8"
            ],
            [
             0.3333333333333333,
             "#9c179e"
            ],
            [
             0.4444444444444444,
             "#bd3786"
            ],
            [
             0.5555555555555556,
             "#d8576b"
            ],
            [
             0.6666666666666666,
             "#ed7953"
            ],
            [
             0.7777777777777778,
             "#fb9f3a"
            ],
            [
             0.8888888888888888,
             "#fdca26"
            ],
            [
             1,
             "#f0f921"
            ]
           ],
           "sequentialminus": [
            [
             0,
             "#0d0887"
            ],
            [
             0.1111111111111111,
             "#46039f"
            ],
            [
             0.2222222222222222,
             "#7201a8"
            ],
            [
             0.3333333333333333,
             "#9c179e"
            ],
            [
             0.4444444444444444,
             "#bd3786"
            ],
            [
             0.5555555555555556,
             "#d8576b"
            ],
            [
             0.6666666666666666,
             "#ed7953"
            ],
            [
             0.7777777777777778,
             "#fb9f3a"
            ],
            [
             0.8888888888888888,
             "#fdca26"
            ],
            [
             1,
             "#f0f921"
            ]
           ]
          },
          "colorway": [
           "#636efa",
           "#EF553B",
           "#00cc96",
           "#ab63fa",
           "#FFA15A",
           "#19d3f3",
           "#FF6692",
           "#B6E880",
           "#FF97FF",
           "#FECB52"
          ],
          "font": {
           "color": "#2a3f5f"
          },
          "geo": {
           "bgcolor": "white",
           "lakecolor": "white",
           "landcolor": "#E5ECF6",
           "showlakes": true,
           "showland": true,
           "subunitcolor": "white"
          },
          "hoverlabel": {
           "align": "left"
          },
          "hovermode": "closest",
          "mapbox": {
           "style": "light"
          },
          "paper_bgcolor": "white",
          "plot_bgcolor": "#E5ECF6",
          "polar": {
           "angularaxis": {
            "gridcolor": "white",
            "linecolor": "white",
            "ticks": ""
           },
           "bgcolor": "#E5ECF6",
           "radialaxis": {
            "gridcolor": "white",
            "linecolor": "white",
            "ticks": ""
           }
          },
          "scene": {
           "xaxis": {
            "backgroundcolor": "#E5ECF6",
            "gridcolor": "white",
            "gridwidth": 2,
            "linecolor": "white",
            "showbackground": true,
            "ticks": "",
            "zerolinecolor": "white"
           },
           "yaxis": {
            "backgroundcolor": "#E5ECF6",
            "gridcolor": "white",
            "gridwidth": 2,
            "linecolor": "white",
            "showbackground": true,
            "ticks": "",
            "zerolinecolor": "white"
           },
           "zaxis": {
            "backgroundcolor": "#E5ECF6",
            "gridcolor": "white",
            "gridwidth": 2,
            "linecolor": "white",
            "showbackground": true,
            "ticks": "",
            "zerolinecolor": "white"
           }
          },
          "shapedefaults": {
           "line": {
            "color": "#2a3f5f"
           }
          },
          "ternary": {
           "aaxis": {
            "gridcolor": "white",
            "linecolor": "white",
            "ticks": ""
           },
           "baxis": {
            "gridcolor": "white",
            "linecolor": "white",
            "ticks": ""
           },
           "bgcolor": "#E5ECF6",
           "caxis": {
            "gridcolor": "white",
            "linecolor": "white",
            "ticks": ""
           }
          },
          "title": {
           "x": 0.05
          },
          "xaxis": {
           "automargin": true,
           "gridcolor": "white",
           "linecolor": "white",
           "ticks": "",
           "title": {
            "standoff": 15
           },
           "zerolinecolor": "white",
           "zerolinewidth": 2
          },
          "yaxis": {
           "automargin": true,
           "gridcolor": "white",
           "linecolor": "white",
           "ticks": "",
           "title": {
            "standoff": 15
           },
           "zerolinecolor": "white",
           "zerolinewidth": 2
          }
         }
        },
        "width": 1000,
        "xaxis": {
         "anchor": "y",
         "domain": [
          0,
          1
         ],
         "title": {
          "text": "Año"
         }
        },
        "yaxis": {
         "anchor": "x",
         "domain": [
          0,
          1
         ],
         "title": {
          "text": "Crecimiento del PIB per cápita (% anual)"
         }
        }
       }
      }
     },
     "metadata": {},
     "output_type": "display_data"
    }
   ],
   "source": [
    "px.line(data_frame=df_pivoted_continente,x=\"Año\", y=\"Crecimiento del PIB per cápita (% anual)\", color=\"país Name\", height=700, width=1000)"
   ]
  },
  {
   "cell_type": "code",
   "execution_count": 160,
   "metadata": {},
   "outputs": [
    {
     "data": {
      "text/html": [
       "<div>\n",
       "<style scoped>\n",
       "    .dataframe tbody tr th:only-of-type {\n",
       "        vertical-align: middle;\n",
       "    }\n",
       "\n",
       "    .dataframe tbody tr th {\n",
       "        vertical-align: top;\n",
       "    }\n",
       "\n",
       "    .dataframe thead th {\n",
       "        text-align: right;\n",
       "    }\n",
       "</style>\n",
       "<table border=\"1\" class=\"dataframe\">\n",
       "  <thead>\n",
       "    <tr style=\"text-align: right;\">\n",
       "      <th>serie Name</th>\n",
       "      <th>Continente</th>\n",
       "      <th>Año</th>\n",
       "      <th>Crecimiento del PIB per cápita (% anual)</th>\n",
       "      <th>PIB per cápita (US$ a precios actuales)</th>\n",
       "    </tr>\n",
       "  </thead>\n",
       "  <tbody>\n",
       "    <tr>\n",
       "      <th>0</th>\n",
       "      <td>América Central</td>\n",
       "      <td>1987</td>\n",
       "      <td>2.015346</td>\n",
       "      <td>1549.941803</td>\n",
       "    </tr>\n",
       "    <tr>\n",
       "      <th>1</th>\n",
       "      <td>América Central</td>\n",
       "      <td>1988</td>\n",
       "      <td>0.783299</td>\n",
       "      <td>1537.461223</td>\n",
       "    </tr>\n",
       "    <tr>\n",
       "      <th>2</th>\n",
       "      <td>América Central</td>\n",
       "      <td>1989</td>\n",
       "      <td>3.004937</td>\n",
       "      <td>1705.431654</td>\n",
       "    </tr>\n",
       "    <tr>\n",
       "      <th>3</th>\n",
       "      <td>América Central</td>\n",
       "      <td>1990</td>\n",
       "      <td>0.954542</td>\n",
       "      <td>1808.495959</td>\n",
       "    </tr>\n",
       "    <tr>\n",
       "      <th>4</th>\n",
       "      <td>América Central</td>\n",
       "      <td>1991</td>\n",
       "      <td>-0.296532</td>\n",
       "      <td>2221.474653</td>\n",
       "    </tr>\n",
       "    <tr>\n",
       "      <th>...</th>\n",
       "      <td>...</td>\n",
       "      <td>...</td>\n",
       "      <td>...</td>\n",
       "      <td>...</td>\n",
       "    </tr>\n",
       "    <tr>\n",
       "      <th>247</th>\n",
       "      <td>África</td>\n",
       "      <td>2018</td>\n",
       "      <td>1.986208</td>\n",
       "      <td>2212.685781</td>\n",
       "    </tr>\n",
       "    <tr>\n",
       "      <th>248</th>\n",
       "      <td>África</td>\n",
       "      <td>2019</td>\n",
       "      <td>1.947836</td>\n",
       "      <td>2168.545276</td>\n",
       "    </tr>\n",
       "    <tr>\n",
       "      <th>249</th>\n",
       "      <td>África</td>\n",
       "      <td>2020</td>\n",
       "      <td>-4.463661</td>\n",
       "      <td>1955.471738</td>\n",
       "    </tr>\n",
       "    <tr>\n",
       "      <th>250</th>\n",
       "      <td>África</td>\n",
       "      <td>2021</td>\n",
       "      <td>2.831810</td>\n",
       "      <td>2235.073437</td>\n",
       "    </tr>\n",
       "    <tr>\n",
       "      <th>251</th>\n",
       "      <td>África</td>\n",
       "      <td>2022</td>\n",
       "      <td>1.992923</td>\n",
       "      <td>2243.116861</td>\n",
       "    </tr>\n",
       "  </tbody>\n",
       "</table>\n",
       "<p>252 rows × 4 columns</p>\n",
       "</div>"
      ],
      "text/plain": [
       "serie Name       Continente   Año  Crecimiento del PIB per cápita (% anual)   \n",
       "0           América Central  1987                                  2.015346  \\\n",
       "1           América Central  1988                                  0.783299   \n",
       "2           América Central  1989                                  3.004937   \n",
       "3           América Central  1990                                  0.954542   \n",
       "4           América Central  1991                                 -0.296532   \n",
       "..                      ...   ...                                       ...   \n",
       "247                  África  2018                                  1.986208   \n",
       "248                  África  2019                                  1.947836   \n",
       "249                  África  2020                                 -4.463661   \n",
       "250                  África  2021                                  2.831810   \n",
       "251                  África  2022                                  1.992923   \n",
       "\n",
       "serie Name  PIB per cápita (US$ a precios actuales)  \n",
       "0                                       1549.941803  \n",
       "1                                       1537.461223  \n",
       "2                                       1705.431654  \n",
       "3                                       1808.495959  \n",
       "4                                       2221.474653  \n",
       "..                                              ...  \n",
       "247                                     2212.685781  \n",
       "248                                     2168.545276  \n",
       "249                                     1955.471738  \n",
       "250                                     2235.073437  \n",
       "251                                     2243.116861  \n",
       "\n",
       "[252 rows x 4 columns]"
      ]
     },
     "execution_count": 160,
     "metadata": {},
     "output_type": "execute_result"
    }
   ],
   "source": [
    "df_contientes"
   ]
  },
  {
   "cell_type": "code",
   "execution_count": 161,
   "metadata": {},
   "outputs": [
    {
     "data": {
      "text/html": [
       "<div>\n",
       "<style scoped>\n",
       "    .dataframe tbody tr th:only-of-type {\n",
       "        vertical-align: middle;\n",
       "    }\n",
       "\n",
       "    .dataframe tbody tr th {\n",
       "        vertical-align: top;\n",
       "    }\n",
       "\n",
       "    .dataframe thead th {\n",
       "        text-align: right;\n",
       "    }\n",
       "</style>\n",
       "<table border=\"1\" class=\"dataframe\">\n",
       "  <thead>\n",
       "    <tr style=\"text-align: right;\">\n",
       "      <th>serie Name</th>\n",
       "      <th>país Name</th>\n",
       "      <th>Año</th>\n",
       "      <th>Crecimiento del PIB per cápita (% anual)</th>\n",
       "      <th>PIB per cápita (US$ a precios actuales)</th>\n",
       "      <th>Continente</th>\n",
       "    </tr>\n",
       "  </thead>\n",
       "  <tbody>\n",
       "    <tr>\n",
       "      <th>31</th>\n",
       "      <td>Alemania</td>\n",
       "      <td>2018</td>\n",
       "      <td>0.678213</td>\n",
       "      <td>47939.278288</td>\n",
       "      <td>Europa</td>\n",
       "    </tr>\n",
       "    <tr>\n",
       "      <th>32</th>\n",
       "      <td>Alemania</td>\n",
       "      <td>2019</td>\n",
       "      <td>0.828958</td>\n",
       "      <td>46793.686762</td>\n",
       "      <td>Europa</td>\n",
       "    </tr>\n",
       "    <tr>\n",
       "      <th>33</th>\n",
       "      <td>Alemania</td>\n",
       "      <td>2020</td>\n",
       "      <td>-3.775430</td>\n",
       "      <td>46772.825351</td>\n",
       "      <td>Europa</td>\n",
       "    </tr>\n",
       "    <tr>\n",
       "      <th>34</th>\n",
       "      <td>Alemania</td>\n",
       "      <td>2021</td>\n",
       "      <td>2.583557</td>\n",
       "      <td>51203.554473</td>\n",
       "      <td>Europa</td>\n",
       "    </tr>\n",
       "    <tr>\n",
       "      <th>35</th>\n",
       "      <td>Alemania</td>\n",
       "      <td>2022</td>\n",
       "      <td>0.715380</td>\n",
       "      <td>48432.455873</td>\n",
       "      <td>Europa</td>\n",
       "    </tr>\n",
       "    <tr>\n",
       "      <th>...</th>\n",
       "      <td>...</td>\n",
       "      <td>...</td>\n",
       "      <td>...</td>\n",
       "      <td>...</td>\n",
       "      <td>...</td>\n",
       "    </tr>\n",
       "    <tr>\n",
       "      <th>1399</th>\n",
       "      <td>Suiza</td>\n",
       "      <td>2018</td>\n",
       "      <td>2.105525</td>\n",
       "      <td>85216.642951</td>\n",
       "      <td>Europa</td>\n",
       "    </tr>\n",
       "    <tr>\n",
       "      <th>1400</th>\n",
       "      <td>Suiza</td>\n",
       "      <td>2019</td>\n",
       "      <td>0.423090</td>\n",
       "      <td>84121.931030</td>\n",
       "      <td>Europa</td>\n",
       "    </tr>\n",
       "    <tr>\n",
       "      <th>1401</th>\n",
       "      <td>Suiza</td>\n",
       "      <td>2020</td>\n",
       "      <td>-3.086282</td>\n",
       "      <td>85656.322666</td>\n",
       "      <td>Europa</td>\n",
       "    </tr>\n",
       "    <tr>\n",
       "      <th>1402</th>\n",
       "      <td>Suiza</td>\n",
       "      <td>2021</td>\n",
       "      <td>3.440503</td>\n",
       "      <td>91991.600458</td>\n",
       "      <td>Europa</td>\n",
       "    </tr>\n",
       "    <tr>\n",
       "      <th>1403</th>\n",
       "      <td>Suiza</td>\n",
       "      <td>2022</td>\n",
       "      <td>1.287237</td>\n",
       "      <td>92101.469741</td>\n",
       "      <td>Europa</td>\n",
       "    </tr>\n",
       "  </tbody>\n",
       "</table>\n",
       "<p>195 rows × 5 columns</p>\n",
       "</div>"
      ],
      "text/plain": [
       "serie Name país Name   Año  Crecimiento del PIB per cápita (% anual)   \n",
       "31          Alemania  2018                                  0.678213  \\\n",
       "32          Alemania  2019                                  0.828958   \n",
       "33          Alemania  2020                                 -3.775430   \n",
       "34          Alemania  2021                                  2.583557   \n",
       "35          Alemania  2022                                  0.715380   \n",
       "...              ...   ...                                       ...   \n",
       "1399           Suiza  2018                                  2.105525   \n",
       "1400           Suiza  2019                                  0.423090   \n",
       "1401           Suiza  2020                                 -3.086282   \n",
       "1402           Suiza  2021                                  3.440503   \n",
       "1403           Suiza  2022                                  1.287237   \n",
       "\n",
       "serie Name  PIB per cápita (US$ a precios actuales) Continente  \n",
       "31                                     47939.278288     Europa  \n",
       "32                                     46793.686762     Europa  \n",
       "33                                     46772.825351     Europa  \n",
       "34                                     51203.554473     Europa  \n",
       "35                                     48432.455873     Europa  \n",
       "...                                             ...        ...  \n",
       "1399                                   85216.642951     Europa  \n",
       "1400                                   84121.931030     Europa  \n",
       "1401                                   85656.322666     Europa  \n",
       "1402                                   91991.600458     Europa  \n",
       "1403                                   92101.469741     Europa  \n",
       "\n",
       "[195 rows x 5 columns]"
      ]
     },
     "execution_count": 161,
     "metadata": {},
     "output_type": "execute_result"
    }
   ],
   "source": [
    "df_pivote_años = df_pivoted[df_pivoted[\"Año\"].isin([\"2022\",\"2021\",\"2020\",\"2019\", \"2018\"])]\n",
    "df_pivote_años"
   ]
  },
  {
   "cell_type": "code",
   "execution_count": 162,
   "metadata": {},
   "outputs": [
    {
     "data": {
      "text/html": [
       "<div>\n",
       "<style scoped>\n",
       "    .dataframe tbody tr th:only-of-type {\n",
       "        vertical-align: middle;\n",
       "    }\n",
       "\n",
       "    .dataframe tbody tr th {\n",
       "        vertical-align: top;\n",
       "    }\n",
       "\n",
       "    .dataframe thead th {\n",
       "        text-align: right;\n",
       "    }\n",
       "</style>\n",
       "<table border=\"1\" class=\"dataframe\">\n",
       "  <thead>\n",
       "    <tr style=\"text-align: right;\">\n",
       "      <th>serie Name</th>\n",
       "      <th>Crecimiento del PIB per cápita (% anual)</th>\n",
       "    </tr>\n",
       "    <tr>\n",
       "      <th>país Name</th>\n",
       "      <th></th>\n",
       "    </tr>\n",
       "  </thead>\n",
       "  <tbody>\n",
       "    <tr>\n",
       "      <th>China</th>\n",
       "      <td>5.035520</td>\n",
       "    </tr>\n",
       "    <tr>\n",
       "      <th>Rwanda</th>\n",
       "      <td>4.221684</td>\n",
       "    </tr>\n",
       "    <tr>\n",
       "      <th>India</th>\n",
       "      <td>3.169952</td>\n",
       "    </tr>\n",
       "    <tr>\n",
       "      <th>Egipto</th>\n",
       "      <td>3.063285</td>\n",
       "    </tr>\n",
       "    <tr>\n",
       "      <th>Nepal</th>\n",
       "      <td>2.810117</td>\n",
       "    </tr>\n",
       "    <tr>\n",
       "      <th>Singapur</th>\n",
       "      <td>2.692101</td>\n",
       "    </tr>\n",
       "    <tr>\n",
       "      <th>Kenya</th>\n",
       "      <td>2.540814</td>\n",
       "    </tr>\n",
       "    <tr>\n",
       "      <th>Grecia</th>\n",
       "      <td>2.147907</td>\n",
       "    </tr>\n",
       "    <tr>\n",
       "      <th>Níger</th>\n",
       "      <td>2.029464</td>\n",
       "    </tr>\n",
       "    <tr>\n",
       "      <th>Colombia</th>\n",
       "      <td>1.971242</td>\n",
       "    </tr>\n",
       "  </tbody>\n",
       "</table>\n",
       "</div>"
      ],
      "text/plain": [
       "serie Name  Crecimiento del PIB per cápita (% anual)\n",
       "país Name                                           \n",
       "China                                       5.035520\n",
       "Rwanda                                      4.221684\n",
       "India                                       3.169952\n",
       "Egipto                                      3.063285\n",
       "Nepal                                       2.810117\n",
       "Singapur                                    2.692101\n",
       "Kenya                                       2.540814\n",
       "Grecia                                      2.147907\n",
       "Níger                                       2.029464\n",
       "Colombia                                    1.971242"
      ]
     },
     "execution_count": 162,
     "metadata": {},
     "output_type": "execute_result"
    }
   ],
   "source": [
    "top_paises = df_pivote_años[[\"país Name\", \"Crecimiento del PIB per cápita (% anual)\"]].groupby(\"país Name\").mean().sort_values(\"Crecimiento del PIB per cápita (% anual)\", ascending=False).head(10)\n",
    "top_paises"
   ]
  },
  {
   "cell_type": "code",
   "execution_count": 163,
   "metadata": {},
   "outputs": [
    {
     "data": {
      "application/vnd.plotly.v1+json": {
       "config": {
        "plotlyServerURL": "https://plot.ly"
       },
       "data": [
        {
         "alignmentgroup": "True",
         "hovertemplate": "país Name=%{x}<br>Crecimiento del PIB per cápita (% anual)=%{y}<extra></extra>",
         "legendgroup": "",
         "marker": {
          "color": "#636efa",
          "pattern": {
           "shape": ""
          }
         },
         "name": "",
         "offsetgroup": "",
         "orientation": "v",
         "showlegend": false,
         "textposition": "auto",
         "type": "bar",
         "x": [
          "China",
          "Rwanda",
          "India",
          "Egipto",
          "Nepal",
          "Singapur",
          "Kenya",
          "Grecia",
          "Níger",
          "Colombia"
         ],
         "xaxis": "x",
         "y": [
          5.03552038770911,
          4.221683689714775,
          3.1699522460505904,
          3.063285411438895,
          2.810117147618752,
          2.692101001293153,
          2.540814059385943,
          2.147907104169627,
          2.0294639138627275,
          1.9712416565293296
         ],
         "yaxis": "y"
        }
       ],
       "layout": {
        "barmode": "relative",
        "legend": {
         "tracegroupgap": 0
        },
        "template": {
         "data": {
          "bar": [
           {
            "error_x": {
             "color": "#2a3f5f"
            },
            "error_y": {
             "color": "#2a3f5f"
            },
            "marker": {
             "line": {
              "color": "#E5ECF6",
              "width": 0.5
             },
             "pattern": {
              "fillmode": "overlay",
              "size": 10,
              "solidity": 0.2
             }
            },
            "type": "bar"
           }
          ],
          "barpolar": [
           {
            "marker": {
             "line": {
              "color": "#E5ECF6",
              "width": 0.5
             },
             "pattern": {
              "fillmode": "overlay",
              "size": 10,
              "solidity": 0.2
             }
            },
            "type": "barpolar"
           }
          ],
          "carpet": [
           {
            "aaxis": {
             "endlinecolor": "#2a3f5f",
             "gridcolor": "white",
             "linecolor": "white",
             "minorgridcolor": "white",
             "startlinecolor": "#2a3f5f"
            },
            "baxis": {
             "endlinecolor": "#2a3f5f",
             "gridcolor": "white",
             "linecolor": "white",
             "minorgridcolor": "white",
             "startlinecolor": "#2a3f5f"
            },
            "type": "carpet"
           }
          ],
          "choropleth": [
           {
            "colorbar": {
             "outlinewidth": 0,
             "ticks": ""
            },
            "type": "choropleth"
           }
          ],
          "contour": [
           {
            "colorbar": {
             "outlinewidth": 0,
             "ticks": ""
            },
            "colorscale": [
             [
              0,
              "#0d0887"
             ],
             [
              0.1111111111111111,
              "#46039f"
             ],
             [
              0.2222222222222222,
              "#7201a8"
             ],
             [
              0.3333333333333333,
              "#9c179e"
             ],
             [
              0.4444444444444444,
              "#bd3786"
             ],
             [
              0.5555555555555556,
              "#d8576b"
             ],
             [
              0.6666666666666666,
              "#ed7953"
             ],
             [
              0.7777777777777778,
              "#fb9f3a"
             ],
             [
              0.8888888888888888,
              "#fdca26"
             ],
             [
              1,
              "#f0f921"
             ]
            ],
            "type": "contour"
           }
          ],
          "contourcarpet": [
           {
            "colorbar": {
             "outlinewidth": 0,
             "ticks": ""
            },
            "type": "contourcarpet"
           }
          ],
          "heatmap": [
           {
            "colorbar": {
             "outlinewidth": 0,
             "ticks": ""
            },
            "colorscale": [
             [
              0,
              "#0d0887"
             ],
             [
              0.1111111111111111,
              "#46039f"
             ],
             [
              0.2222222222222222,
              "#7201a8"
             ],
             [
              0.3333333333333333,
              "#9c179e"
             ],
             [
              0.4444444444444444,
              "#bd3786"
             ],
             [
              0.5555555555555556,
              "#d8576b"
             ],
             [
              0.6666666666666666,
              "#ed7953"
             ],
             [
              0.7777777777777778,
              "#fb9f3a"
             ],
             [
              0.8888888888888888,
              "#fdca26"
             ],
             [
              1,
              "#f0f921"
             ]
            ],
            "type": "heatmap"
           }
          ],
          "heatmapgl": [
           {
            "colorbar": {
             "outlinewidth": 0,
             "ticks": ""
            },
            "colorscale": [
             [
              0,
              "#0d0887"
             ],
             [
              0.1111111111111111,
              "#46039f"
             ],
             [
              0.2222222222222222,
              "#7201a8"
             ],
             [
              0.3333333333333333,
              "#9c179e"
             ],
             [
              0.4444444444444444,
              "#bd3786"
             ],
             [
              0.5555555555555556,
              "#d8576b"
             ],
             [
              0.6666666666666666,
              "#ed7953"
             ],
             [
              0.7777777777777778,
              "#fb9f3a"
             ],
             [
              0.8888888888888888,
              "#fdca26"
             ],
             [
              1,
              "#f0f921"
             ]
            ],
            "type": "heatmapgl"
           }
          ],
          "histogram": [
           {
            "marker": {
             "pattern": {
              "fillmode": "overlay",
              "size": 10,
              "solidity": 0.2
             }
            },
            "type": "histogram"
           }
          ],
          "histogram2d": [
           {
            "colorbar": {
             "outlinewidth": 0,
             "ticks": ""
            },
            "colorscale": [
             [
              0,
              "#0d0887"
             ],
             [
              0.1111111111111111,
              "#46039f"
             ],
             [
              0.2222222222222222,
              "#7201a8"
             ],
             [
              0.3333333333333333,
              "#9c179e"
             ],
             [
              0.4444444444444444,
              "#bd3786"
             ],
             [
              0.5555555555555556,
              "#d8576b"
             ],
             [
              0.6666666666666666,
              "#ed7953"
             ],
             [
              0.7777777777777778,
              "#fb9f3a"
             ],
             [
              0.8888888888888888,
              "#fdca26"
             ],
             [
              1,
              "#f0f921"
             ]
            ],
            "type": "histogram2d"
           }
          ],
          "histogram2dcontour": [
           {
            "colorbar": {
             "outlinewidth": 0,
             "ticks": ""
            },
            "colorscale": [
             [
              0,
              "#0d0887"
             ],
             [
              0.1111111111111111,
              "#46039f"
             ],
             [
              0.2222222222222222,
              "#7201a8"
             ],
             [
              0.3333333333333333,
              "#9c179e"
             ],
             [
              0.4444444444444444,
              "#bd3786"
             ],
             [
              0.5555555555555556,
              "#d8576b"
             ],
             [
              0.6666666666666666,
              "#ed7953"
             ],
             [
              0.7777777777777778,
              "#fb9f3a"
             ],
             [
              0.8888888888888888,
              "#fdca26"
             ],
             [
              1,
              "#f0f921"
             ]
            ],
            "type": "histogram2dcontour"
           }
          ],
          "mesh3d": [
           {
            "colorbar": {
             "outlinewidth": 0,
             "ticks": ""
            },
            "type": "mesh3d"
           }
          ],
          "parcoords": [
           {
            "line": {
             "colorbar": {
              "outlinewidth": 0,
              "ticks": ""
             }
            },
            "type": "parcoords"
           }
          ],
          "pie": [
           {
            "automargin": true,
            "type": "pie"
           }
          ],
          "scatter": [
           {
            "fillpattern": {
             "fillmode": "overlay",
             "size": 10,
             "solidity": 0.2
            },
            "type": "scatter"
           }
          ],
          "scatter3d": [
           {
            "line": {
             "colorbar": {
              "outlinewidth": 0,
              "ticks": ""
             }
            },
            "marker": {
             "colorbar": {
              "outlinewidth": 0,
              "ticks": ""
             }
            },
            "type": "scatter3d"
           }
          ],
          "scattercarpet": [
           {
            "marker": {
             "colorbar": {
              "outlinewidth": 0,
              "ticks": ""
             }
            },
            "type": "scattercarpet"
           }
          ],
          "scattergeo": [
           {
            "marker": {
             "colorbar": {
              "outlinewidth": 0,
              "ticks": ""
             }
            },
            "type": "scattergeo"
           }
          ],
          "scattergl": [
           {
            "marker": {
             "colorbar": {
              "outlinewidth": 0,
              "ticks": ""
             }
            },
            "type": "scattergl"
           }
          ],
          "scattermapbox": [
           {
            "marker": {
             "colorbar": {
              "outlinewidth": 0,
              "ticks": ""
             }
            },
            "type": "scattermapbox"
           }
          ],
          "scatterpolar": [
           {
            "marker": {
             "colorbar": {
              "outlinewidth": 0,
              "ticks": ""
             }
            },
            "type": "scatterpolar"
           }
          ],
          "scatterpolargl": [
           {
            "marker": {
             "colorbar": {
              "outlinewidth": 0,
              "ticks": ""
             }
            },
            "type": "scatterpolargl"
           }
          ],
          "scatterternary": [
           {
            "marker": {
             "colorbar": {
              "outlinewidth": 0,
              "ticks": ""
             }
            },
            "type": "scatterternary"
           }
          ],
          "surface": [
           {
            "colorbar": {
             "outlinewidth": 0,
             "ticks": ""
            },
            "colorscale": [
             [
              0,
              "#0d0887"
             ],
             [
              0.1111111111111111,
              "#46039f"
             ],
             [
              0.2222222222222222,
              "#7201a8"
             ],
             [
              0.3333333333333333,
              "#9c179e"
             ],
             [
              0.4444444444444444,
              "#bd3786"
             ],
             [
              0.5555555555555556,
              "#d8576b"
             ],
             [
              0.6666666666666666,
              "#ed7953"
             ],
             [
              0.7777777777777778,
              "#fb9f3a"
             ],
             [
              0.8888888888888888,
              "#fdca26"
             ],
             [
              1,
              "#f0f921"
             ]
            ],
            "type": "surface"
           }
          ],
          "table": [
           {
            "cells": {
             "fill": {
              "color": "#EBF0F8"
             },
             "line": {
              "color": "white"
             }
            },
            "header": {
             "fill": {
              "color": "#C8D4E3"
             },
             "line": {
              "color": "white"
             }
            },
            "type": "table"
           }
          ]
         },
         "layout": {
          "annotationdefaults": {
           "arrowcolor": "#2a3f5f",
           "arrowhead": 0,
           "arrowwidth": 1
          },
          "autotypenumbers": "strict",
          "coloraxis": {
           "colorbar": {
            "outlinewidth": 0,
            "ticks": ""
           }
          },
          "colorscale": {
           "diverging": [
            [
             0,
             "#8e0152"
            ],
            [
             0.1,
             "#c51b7d"
            ],
            [
             0.2,
             "#de77ae"
            ],
            [
             0.3,
             "#f1b6da"
            ],
            [
             0.4,
             "#fde0ef"
            ],
            [
             0.5,
             "#f7f7f7"
            ],
            [
             0.6,
             "#e6f5d0"
            ],
            [
             0.7,
             "#b8e186"
            ],
            [
             0.8,
             "#7fbc41"
            ],
            [
             0.9,
             "#4d9221"
            ],
            [
             1,
             "#276419"
            ]
           ],
           "sequential": [
            [
             0,
             "#0d0887"
            ],
            [
             0.1111111111111111,
             "#46039f"
            ],
            [
             0.2222222222222222,
             "#7201a8"
            ],
            [
             0.3333333333333333,
             "#9c179e"
            ],
            [
             0.4444444444444444,
             "#bd3786"
            ],
            [
             0.5555555555555556,
             "#d8576b"
            ],
            [
             0.6666666666666666,
             "#ed7953"
            ],
            [
             0.7777777777777778,
             "#fb9f3a"
            ],
            [
             0.8888888888888888,
             "#fdca26"
            ],
            [
             1,
             "#f0f921"
            ]
           ],
           "sequentialminus": [
            [
             0,
             "#0d0887"
            ],
            [
             0.1111111111111111,
             "#46039f"
            ],
            [
             0.2222222222222222,
             "#7201a8"
            ],
            [
             0.3333333333333333,
             "#9c179e"
            ],
            [
             0.4444444444444444,
             "#bd3786"
            ],
            [
             0.5555555555555556,
             "#d8576b"
            ],
            [
             0.6666666666666666,
             "#ed7953"
            ],
            [
             0.7777777777777778,
             "#fb9f3a"
            ],
            [
             0.8888888888888888,
             "#fdca26"
            ],
            [
             1,
             "#f0f921"
            ]
           ]
          },
          "colorway": [
           "#636efa",
           "#EF553B",
           "#00cc96",
           "#ab63fa",
           "#FFA15A",
           "#19d3f3",
           "#FF6692",
           "#B6E880",
           "#FF97FF",
           "#FECB52"
          ],
          "font": {
           "color": "#2a3f5f"
          },
          "geo": {
           "bgcolor": "white",
           "lakecolor": "white",
           "landcolor": "#E5ECF6",
           "showlakes": true,
           "showland": true,
           "subunitcolor": "white"
          },
          "hoverlabel": {
           "align": "left"
          },
          "hovermode": "closest",
          "mapbox": {
           "style": "light"
          },
          "paper_bgcolor": "white",
          "plot_bgcolor": "#E5ECF6",
          "polar": {
           "angularaxis": {
            "gridcolor": "white",
            "linecolor": "white",
            "ticks": ""
           },
           "bgcolor": "#E5ECF6",
           "radialaxis": {
            "gridcolor": "white",
            "linecolor": "white",
            "ticks": ""
           }
          },
          "scene": {
           "xaxis": {
            "backgroundcolor": "#E5ECF6",
            "gridcolor": "white",
            "gridwidth": 2,
            "linecolor": "white",
            "showbackground": true,
            "ticks": "",
            "zerolinecolor": "white"
           },
           "yaxis": {
            "backgroundcolor": "#E5ECF6",
            "gridcolor": "white",
            "gridwidth": 2,
            "linecolor": "white",
            "showbackground": true,
            "ticks": "",
            "zerolinecolor": "white"
           },
           "zaxis": {
            "backgroundcolor": "#E5ECF6",
            "gridcolor": "white",
            "gridwidth": 2,
            "linecolor": "white",
            "showbackground": true,
            "ticks": "",
            "zerolinecolor": "white"
           }
          },
          "shapedefaults": {
           "line": {
            "color": "#2a3f5f"
           }
          },
          "ternary": {
           "aaxis": {
            "gridcolor": "white",
            "linecolor": "white",
            "ticks": ""
           },
           "baxis": {
            "gridcolor": "white",
            "linecolor": "white",
            "ticks": ""
           },
           "bgcolor": "#E5ECF6",
           "caxis": {
            "gridcolor": "white",
            "linecolor": "white",
            "ticks": ""
           }
          },
          "title": {
           "x": 0.05
          },
          "xaxis": {
           "automargin": true,
           "gridcolor": "white",
           "linecolor": "white",
           "ticks": "",
           "title": {
            "standoff": 15
           },
           "zerolinecolor": "white",
           "zerolinewidth": 2
          },
          "yaxis": {
           "automargin": true,
           "gridcolor": "white",
           "linecolor": "white",
           "ticks": "",
           "title": {
            "standoff": 15
           },
           "zerolinecolor": "white",
           "zerolinewidth": 2
          }
         }
        },
        "title": {
         "text": "TOP 10 países con mayor Crecimiento del PIB per cápita (% anual) en promedio (2018-2022)"
        },
        "xaxis": {
         "anchor": "y",
         "domain": [
          0,
          1
         ],
         "title": {
          "text": ""
         }
        },
        "yaxis": {
         "anchor": "x",
         "domain": [
          0,
          1
         ],
         "title": {
          "text": "Crecimiento del PIB per cápita (% anual)"
         }
        }
       }
      }
     },
     "metadata": {},
     "output_type": "display_data"
    }
   ],
   "source": [
    "fig = px.bar(top_paises, title=\"TOP 10 países con mayor Crecimiento del PIB per cápita (% anual) en promedio (2018-2022)\", y=\"Crecimiento del PIB per cápita (% anual)\")\n",
    "fig.update_xaxes(title_text=\"\")\n",
    "fig.show()"
   ]
  },
  {
   "cell_type": "code",
   "execution_count": 164,
   "metadata": {},
   "outputs": [
    {
     "data": {
      "text/html": [
       "<div>\n",
       "<style scoped>\n",
       "    .dataframe tbody tr th:only-of-type {\n",
       "        vertical-align: middle;\n",
       "    }\n",
       "\n",
       "    .dataframe tbody tr th {\n",
       "        vertical-align: top;\n",
       "    }\n",
       "\n",
       "    .dataframe thead th {\n",
       "        text-align: right;\n",
       "    }\n",
       "</style>\n",
       "<table border=\"1\" class=\"dataframe\">\n",
       "  <thead>\n",
       "    <tr style=\"text-align: right;\">\n",
       "      <th></th>\n",
       "      <th>país Name</th>\n",
       "      <th>Año</th>\n",
       "      <th>factor_(serie)</th>\n",
       "      <th>Valor</th>\n",
       "    </tr>\n",
       "  </thead>\n",
       "  <tbody>\n",
       "    <tr>\n",
       "      <th>0</th>\n",
       "      <td>Alemania</td>\n",
       "      <td>1987</td>\n",
       "      <td>Crecimiento del PIB per cápita (% anual)</td>\n",
       "      <td>1.246500</td>\n",
       "    </tr>\n",
       "    <tr>\n",
       "      <th>1</th>\n",
       "      <td>Alemania</td>\n",
       "      <td>1988</td>\n",
       "      <td>Crecimiento del PIB per cápita (% anual)</td>\n",
       "      <td>3.302864</td>\n",
       "    </tr>\n",
       "    <tr>\n",
       "      <th>2</th>\n",
       "      <td>Alemania</td>\n",
       "      <td>1989</td>\n",
       "      <td>Crecimiento del PIB per cápita (% anual)</td>\n",
       "      <td>3.096180</td>\n",
       "    </tr>\n",
       "    <tr>\n",
       "      <th>3</th>\n",
       "      <td>Alemania</td>\n",
       "      <td>1990</td>\n",
       "      <td>Crecimiento del PIB per cápita (% anual)</td>\n",
       "      <td>4.351639</td>\n",
       "    </tr>\n",
       "    <tr>\n",
       "      <th>4</th>\n",
       "      <td>Alemania</td>\n",
       "      <td>1991</td>\n",
       "      <td>Crecimiento del PIB per cápita (% anual)</td>\n",
       "      <td>4.345220</td>\n",
       "    </tr>\n",
       "    <tr>\n",
       "      <th>...</th>\n",
       "      <td>...</td>\n",
       "      <td>...</td>\n",
       "      <td>...</td>\n",
       "      <td>...</td>\n",
       "    </tr>\n",
       "    <tr>\n",
       "      <th>2803</th>\n",
       "      <td>Suiza</td>\n",
       "      <td>2018</td>\n",
       "      <td>PIB per cápita (US$ a precios actuales)</td>\n",
       "      <td>85216.642951</td>\n",
       "    </tr>\n",
       "    <tr>\n",
       "      <th>2804</th>\n",
       "      <td>Suiza</td>\n",
       "      <td>2019</td>\n",
       "      <td>PIB per cápita (US$ a precios actuales)</td>\n",
       "      <td>84121.931030</td>\n",
       "    </tr>\n",
       "    <tr>\n",
       "      <th>2805</th>\n",
       "      <td>Suiza</td>\n",
       "      <td>2020</td>\n",
       "      <td>PIB per cápita (US$ a precios actuales)</td>\n",
       "      <td>85656.322666</td>\n",
       "    </tr>\n",
       "    <tr>\n",
       "      <th>2806</th>\n",
       "      <td>Suiza</td>\n",
       "      <td>2021</td>\n",
       "      <td>PIB per cápita (US$ a precios actuales)</td>\n",
       "      <td>91991.600458</td>\n",
       "    </tr>\n",
       "    <tr>\n",
       "      <th>2807</th>\n",
       "      <td>Suiza</td>\n",
       "      <td>2022</td>\n",
       "      <td>PIB per cápita (US$ a precios actuales)</td>\n",
       "      <td>92101.469741</td>\n",
       "    </tr>\n",
       "  </tbody>\n",
       "</table>\n",
       "<p>2808 rows × 4 columns</p>\n",
       "</div>"
      ],
      "text/plain": [
       "     país Name   Año                            factor_(serie)         Valor\n",
       "0     Alemania  1987  Crecimiento del PIB per cápita (% anual)      1.246500\n",
       "1     Alemania  1988  Crecimiento del PIB per cápita (% anual)      3.302864\n",
       "2     Alemania  1989  Crecimiento del PIB per cápita (% anual)      3.096180\n",
       "3     Alemania  1990  Crecimiento del PIB per cápita (% anual)      4.351639\n",
       "4     Alemania  1991  Crecimiento del PIB per cápita (% anual)      4.345220\n",
       "...        ...   ...                                       ...           ...\n",
       "2803     Suiza  2018   PIB per cápita (US$ a precios actuales)  85216.642951\n",
       "2804     Suiza  2019   PIB per cápita (US$ a precios actuales)  84121.931030\n",
       "2805     Suiza  2020   PIB per cápita (US$ a precios actuales)  85656.322666\n",
       "2806     Suiza  2021   PIB per cápita (US$ a precios actuales)  91991.600458\n",
       "2807     Suiza  2022   PIB per cápita (US$ a precios actuales)  92101.469741\n",
       "\n",
       "[2808 rows x 4 columns]"
      ]
     },
     "execution_count": 164,
     "metadata": {},
     "output_type": "execute_result"
    }
   ],
   "source": [
    "df_melted = df_pivoted.drop(columns=['Continente']).melt(id_vars=['país Name', 'Año'], var_name='factor_(serie)', value_name='Valor')\n",
    "\n",
    "df_melted"
   ]
  },
  {
   "cell_type": "code",
   "execution_count": 166,
   "metadata": {},
   "outputs": [],
   "source": [
    "df_melted.to_csv(\"../Data_preparada/PBI.csv\", index=False)"
   ]
  }
 ],
 "metadata": {
  "kernelspec": {
   "display_name": "Python 3",
   "language": "python",
   "name": "python3"
  },
  "language_info": {
   "codemirror_mode": {
    "name": "ipython",
    "version": 3
   },
   "file_extension": ".py",
   "mimetype": "text/x-python",
   "name": "python",
   "nbconvert_exporter": "python",
   "pygments_lexer": "ipython3",
   "version": "3.11.2"
  }
 },
 "nbformat": 4,
 "nbformat_minor": 2
}
