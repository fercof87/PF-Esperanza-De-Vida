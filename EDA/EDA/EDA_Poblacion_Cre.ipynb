{
 "cells": [
  {
   "cell_type": "code",
   "execution_count": 5,
   "metadata": {},
   "outputs": [],
   "source": [
    "import pandas as pd\n",
    "import plotly.express as px"
   ]
  },
  {
   "cell_type": "markdown",
   "metadata": {},
   "source": [
    "<h3>Leemos el archivo</h3>"
   ]
  },
  {
   "cell_type": "code",
   "execution_count": 6,
   "metadata": {},
   "outputs": [
    {
     "data": {
      "text/html": [
       "<div>\n",
       "<style scoped>\n",
       "    .dataframe tbody tr th:only-of-type {\n",
       "        vertical-align: middle;\n",
       "    }\n",
       "\n",
       "    .dataframe tbody tr th {\n",
       "        vertical-align: top;\n",
       "    }\n",
       "\n",
       "    .dataframe thead th {\n",
       "        text-align: right;\n",
       "    }\n",
       "</style>\n",
       "<table border=\"1\" class=\"dataframe\">\n",
       "  <thead>\n",
       "    <tr style=\"text-align: right;\">\n",
       "      <th></th>\n",
       "      <th>país Name</th>\n",
       "      <th>país Code</th>\n",
       "      <th>serie Name</th>\n",
       "      <th>serie Code</th>\n",
       "      <th>1987 [YR1987]</th>\n",
       "      <th>1988 [YR1988]</th>\n",
       "      <th>1989 [YR1989]</th>\n",
       "      <th>1990 [YR1990]</th>\n",
       "      <th>1991 [YR1991]</th>\n",
       "      <th>1992 [YR1992]</th>\n",
       "      <th>...</th>\n",
       "      <th>2013 [YR2013]</th>\n",
       "      <th>2014 [YR2014]</th>\n",
       "      <th>2015 [YR2015]</th>\n",
       "      <th>2016 [YR2016]</th>\n",
       "      <th>2017 [YR2017]</th>\n",
       "      <th>2018 [YR2018]</th>\n",
       "      <th>2019 [YR2019]</th>\n",
       "      <th>2020 [YR2020]</th>\n",
       "      <th>2021 [YR2021]</th>\n",
       "      <th>2022 [YR2022]</th>\n",
       "    </tr>\n",
       "  </thead>\n",
       "  <tbody>\n",
       "    <tr>\n",
       "      <th>0</th>\n",
       "      <td>Afganistán</td>\n",
       "      <td>AFG</td>\n",
       "      <td>Crecimiento de la población rural (% anual)</td>\n",
       "      <td>SP.RUR.TOTL.ZG</td>\n",
       "      <td>-2.043746</td>\n",
       "      <td>-0.275758</td>\n",
       "      <td>2.637888</td>\n",
       "      <td>0.08959</td>\n",
       "      <td>0.356909</td>\n",
       "      <td>11.409417</td>\n",
       "      <td>...</td>\n",
       "      <td>3.185537</td>\n",
       "      <td>3.374206</td>\n",
       "      <td>2.834511</td>\n",
       "      <td>2.292555</td>\n",
       "      <td>2.559272</td>\n",
       "      <td>2.556909</td>\n",
       "      <td>2.560297</td>\n",
       "      <td>2.767724</td>\n",
       "      <td>2.461275</td>\n",
       "      <td>2.123806</td>\n",
       "    </tr>\n",
       "    <tr>\n",
       "      <th>1</th>\n",
       "      <td>Afganistán</td>\n",
       "      <td>AFG</td>\n",
       "      <td>Crecimiento de la población (% anual)</td>\n",
       "      <td>SP.POP.GROW</td>\n",
       "      <td>-1.21019</td>\n",
       "      <td>0.586318</td>\n",
       "      <td>2.751877</td>\n",
       "      <td>0.202434</td>\n",
       "      <td>0.46988</td>\n",
       "      <td>11.522524</td>\n",
       "      <td>...</td>\n",
       "      <td>3.466788</td>\n",
       "      <td>3.657576</td>\n",
       "      <td>3.121341</td>\n",
       "      <td>2.581549</td>\n",
       "      <td>2.866492</td>\n",
       "      <td>2.885208</td>\n",
       "      <td>2.908529</td>\n",
       "      <td>3.134747</td>\n",
       "      <td>2.851358</td>\n",
       "      <td>2.534498</td>\n",
       "    </tr>\n",
       "    <tr>\n",
       "      <th>2</th>\n",
       "      <td>Afganistán</td>\n",
       "      <td>AFG</td>\n",
       "      <td>Crecimiento de la población urbana (% anual)</td>\n",
       "      <td>SP.URB.GROW</td>\n",
       "      <td>2.128391</td>\n",
       "      <td>3.898014</td>\n",
       "      <td>3.179585</td>\n",
       "      <td>0.623574</td>\n",
       "      <td>0.889255</td>\n",
       "      <td>11.940176</td>\n",
       "      <td>...</td>\n",
       "      <td>4.344553</td>\n",
       "      <td>4.531769</td>\n",
       "      <td>3.996008</td>\n",
       "      <td>3.452643</td>\n",
       "      <td>3.781557</td>\n",
       "      <td>3.850833</td>\n",
       "      <td>3.919287</td>\n",
       "      <td>4.185357</td>\n",
       "      <td>3.951857</td>\n",
       "      <td>3.675647</td>\n",
       "    </tr>\n",
       "    <tr>\n",
       "      <th>3</th>\n",
       "      <td>Alemania</td>\n",
       "      <td>DEU</td>\n",
       "      <td>Crecimiento de la población rural (% anual)</td>\n",
       "      <td>SP.RUR.TOTL.ZG</td>\n",
       "      <td>-0.649363</td>\n",
       "      <td>-0.211186</td>\n",
       "      <td>0.858482</td>\n",
       "      <td>0.335125</td>\n",
       "      <td>0.165309</td>\n",
       "      <td>0.419336</td>\n",
       "      <td>...</td>\n",
       "      <td>0.22909</td>\n",
       "      <td>0.373046</td>\n",
       "      <td>0.821852</td>\n",
       "      <td>0.701902</td>\n",
       "      <td>0.211142</td>\n",
       "      <td>0.07599</td>\n",
       "      <td>-0.056966</td>\n",
       "      <td>-0.259233</td>\n",
       "      <td>-0.362095</td>\n",
       "      <td>0.592423</td>\n",
       "    </tr>\n",
       "    <tr>\n",
       "      <th>4</th>\n",
       "      <td>Alemania</td>\n",
       "      <td>DEU</td>\n",
       "      <td>Crecimiento de la población (% anual)</td>\n",
       "      <td>SP.POP.GROW</td>\n",
       "      <td>0.153618</td>\n",
       "      <td>0.390679</td>\n",
       "      <td>0.773337</td>\n",
       "      <td>0.861969</td>\n",
       "      <td>0.728606</td>\n",
       "      <td>0.760347</td>\n",
       "      <td>...</td>\n",
       "      <td>0.2729</td>\n",
       "      <td>0.416877</td>\n",
       "      <td>0.865703</td>\n",
       "      <td>0.807219</td>\n",
       "      <td>0.373725</td>\n",
       "      <td>0.300527</td>\n",
       "      <td>0.22552</td>\n",
       "      <td>0.081693</td>\n",
       "      <td>0.042327</td>\n",
       "      <td>1.056627</td>\n",
       "    </tr>\n",
       "    <tr>\n",
       "      <th>...</th>\n",
       "      <td>...</td>\n",
       "      <td>...</td>\n",
       "      <td>...</td>\n",
       "      <td>...</td>\n",
       "      <td>...</td>\n",
       "      <td>...</td>\n",
       "      <td>...</td>\n",
       "      <td>...</td>\n",
       "      <td>...</td>\n",
       "      <td>...</td>\n",
       "      <td>...</td>\n",
       "      <td>...</td>\n",
       "      <td>...</td>\n",
       "      <td>...</td>\n",
       "      <td>...</td>\n",
       "      <td>...</td>\n",
       "      <td>...</td>\n",
       "      <td>...</td>\n",
       "      <td>...</td>\n",
       "      <td>...</td>\n",
       "      <td>...</td>\n",
       "    </tr>\n",
       "    <tr>\n",
       "      <th>132</th>\n",
       "      <td>NaN</td>\n",
       "      <td>NaN</td>\n",
       "      <td>NaN</td>\n",
       "      <td>NaN</td>\n",
       "      <td>NaN</td>\n",
       "      <td>NaN</td>\n",
       "      <td>NaN</td>\n",
       "      <td>NaN</td>\n",
       "      <td>NaN</td>\n",
       "      <td>NaN</td>\n",
       "      <td>...</td>\n",
       "      <td>NaN</td>\n",
       "      <td>NaN</td>\n",
       "      <td>NaN</td>\n",
       "      <td>NaN</td>\n",
       "      <td>NaN</td>\n",
       "      <td>NaN</td>\n",
       "      <td>NaN</td>\n",
       "      <td>NaN</td>\n",
       "      <td>NaN</td>\n",
       "      <td>NaN</td>\n",
       "    </tr>\n",
       "    <tr>\n",
       "      <th>133</th>\n",
       "      <td>NaN</td>\n",
       "      <td>NaN</td>\n",
       "      <td>NaN</td>\n",
       "      <td>NaN</td>\n",
       "      <td>NaN</td>\n",
       "      <td>NaN</td>\n",
       "      <td>NaN</td>\n",
       "      <td>NaN</td>\n",
       "      <td>NaN</td>\n",
       "      <td>NaN</td>\n",
       "      <td>...</td>\n",
       "      <td>NaN</td>\n",
       "      <td>NaN</td>\n",
       "      <td>NaN</td>\n",
       "      <td>NaN</td>\n",
       "      <td>NaN</td>\n",
       "      <td>NaN</td>\n",
       "      <td>NaN</td>\n",
       "      <td>NaN</td>\n",
       "      <td>NaN</td>\n",
       "      <td>NaN</td>\n",
       "    </tr>\n",
       "    <tr>\n",
       "      <th>134</th>\n",
       "      <td>NaN</td>\n",
       "      <td>NaN</td>\n",
       "      <td>NaN</td>\n",
       "      <td>NaN</td>\n",
       "      <td>NaN</td>\n",
       "      <td>NaN</td>\n",
       "      <td>NaN</td>\n",
       "      <td>NaN</td>\n",
       "      <td>NaN</td>\n",
       "      <td>NaN</td>\n",
       "      <td>...</td>\n",
       "      <td>NaN</td>\n",
       "      <td>NaN</td>\n",
       "      <td>NaN</td>\n",
       "      <td>NaN</td>\n",
       "      <td>NaN</td>\n",
       "      <td>NaN</td>\n",
       "      <td>NaN</td>\n",
       "      <td>NaN</td>\n",
       "      <td>NaN</td>\n",
       "      <td>NaN</td>\n",
       "    </tr>\n",
       "    <tr>\n",
       "      <th>135</th>\n",
       "      <td>Data from Database: Indicadores del desarrollo...</td>\n",
       "      <td>NaN</td>\n",
       "      <td>NaN</td>\n",
       "      <td>NaN</td>\n",
       "      <td>NaN</td>\n",
       "      <td>NaN</td>\n",
       "      <td>NaN</td>\n",
       "      <td>NaN</td>\n",
       "      <td>NaN</td>\n",
       "      <td>NaN</td>\n",
       "      <td>...</td>\n",
       "      <td>NaN</td>\n",
       "      <td>NaN</td>\n",
       "      <td>NaN</td>\n",
       "      <td>NaN</td>\n",
       "      <td>NaN</td>\n",
       "      <td>NaN</td>\n",
       "      <td>NaN</td>\n",
       "      <td>NaN</td>\n",
       "      <td>NaN</td>\n",
       "      <td>NaN</td>\n",
       "    </tr>\n",
       "    <tr>\n",
       "      <th>136</th>\n",
       "      <td>Last Updated: 10/26/2023</td>\n",
       "      <td>NaN</td>\n",
       "      <td>NaN</td>\n",
       "      <td>NaN</td>\n",
       "      <td>NaN</td>\n",
       "      <td>NaN</td>\n",
       "      <td>NaN</td>\n",
       "      <td>NaN</td>\n",
       "      <td>NaN</td>\n",
       "      <td>NaN</td>\n",
       "      <td>...</td>\n",
       "      <td>NaN</td>\n",
       "      <td>NaN</td>\n",
       "      <td>NaN</td>\n",
       "      <td>NaN</td>\n",
       "      <td>NaN</td>\n",
       "      <td>NaN</td>\n",
       "      <td>NaN</td>\n",
       "      <td>NaN</td>\n",
       "      <td>NaN</td>\n",
       "      <td>NaN</td>\n",
       "    </tr>\n",
       "  </tbody>\n",
       "</table>\n",
       "<p>137 rows × 40 columns</p>\n",
       "</div>"
      ],
      "text/plain": [
       "                                             país Name país Code   \n",
       "0                                           Afganistán       AFG  \\\n",
       "1                                           Afganistán       AFG   \n",
       "2                                           Afganistán       AFG   \n",
       "3                                             Alemania       DEU   \n",
       "4                                             Alemania       DEU   \n",
       "..                                                 ...       ...   \n",
       "132                                                NaN       NaN   \n",
       "133                                                NaN       NaN   \n",
       "134                                                NaN       NaN   \n",
       "135  Data from Database: Indicadores del desarrollo...       NaN   \n",
       "136                           Last Updated: 10/26/2023       NaN   \n",
       "\n",
       "                                       serie Name      serie Code   \n",
       "0     Crecimiento de la población rural (% anual)  SP.RUR.TOTL.ZG  \\\n",
       "1           Crecimiento de la población (% anual)     SP.POP.GROW   \n",
       "2    Crecimiento de la población urbana (% anual)     SP.URB.GROW   \n",
       "3     Crecimiento de la población rural (% anual)  SP.RUR.TOTL.ZG   \n",
       "4           Crecimiento de la población (% anual)     SP.POP.GROW   \n",
       "..                                            ...             ...   \n",
       "132                                           NaN             NaN   \n",
       "133                                           NaN             NaN   \n",
       "134                                           NaN             NaN   \n",
       "135                                           NaN             NaN   \n",
       "136                                           NaN             NaN   \n",
       "\n",
       "    1987 [YR1987] 1988 [YR1988] 1989 [YR1989] 1990 [YR1990] 1991 [YR1991]   \n",
       "0       -2.043746     -0.275758      2.637888       0.08959      0.356909  \\\n",
       "1        -1.21019      0.586318      2.751877      0.202434       0.46988   \n",
       "2        2.128391      3.898014      3.179585      0.623574      0.889255   \n",
       "3       -0.649363     -0.211186      0.858482      0.335125      0.165309   \n",
       "4        0.153618      0.390679      0.773337      0.861969      0.728606   \n",
       "..            ...           ...           ...           ...           ...   \n",
       "132           NaN           NaN           NaN           NaN           NaN   \n",
       "133           NaN           NaN           NaN           NaN           NaN   \n",
       "134           NaN           NaN           NaN           NaN           NaN   \n",
       "135           NaN           NaN           NaN           NaN           NaN   \n",
       "136           NaN           NaN           NaN           NaN           NaN   \n",
       "\n",
       "    1992 [YR1992]  ... 2013 [YR2013] 2014 [YR2014] 2015 [YR2015]   \n",
       "0       11.409417  ...      3.185537      3.374206      2.834511  \\\n",
       "1       11.522524  ...      3.466788      3.657576      3.121341   \n",
       "2       11.940176  ...      4.344553      4.531769      3.996008   \n",
       "3        0.419336  ...       0.22909      0.373046      0.821852   \n",
       "4        0.760347  ...        0.2729      0.416877      0.865703   \n",
       "..            ...  ...           ...           ...           ...   \n",
       "132           NaN  ...           NaN           NaN           NaN   \n",
       "133           NaN  ...           NaN           NaN           NaN   \n",
       "134           NaN  ...           NaN           NaN           NaN   \n",
       "135           NaN  ...           NaN           NaN           NaN   \n",
       "136           NaN  ...           NaN           NaN           NaN   \n",
       "\n",
       "    2016 [YR2016] 2017 [YR2017] 2018 [YR2018] 2019 [YR2019] 2020 [YR2020]   \n",
       "0        2.292555      2.559272      2.556909      2.560297      2.767724  \\\n",
       "1        2.581549      2.866492      2.885208      2.908529      3.134747   \n",
       "2        3.452643      3.781557      3.850833      3.919287      4.185357   \n",
       "3        0.701902      0.211142       0.07599     -0.056966     -0.259233   \n",
       "4        0.807219      0.373725      0.300527       0.22552      0.081693   \n",
       "..            ...           ...           ...           ...           ...   \n",
       "132           NaN           NaN           NaN           NaN           NaN   \n",
       "133           NaN           NaN           NaN           NaN           NaN   \n",
       "134           NaN           NaN           NaN           NaN           NaN   \n",
       "135           NaN           NaN           NaN           NaN           NaN   \n",
       "136           NaN           NaN           NaN           NaN           NaN   \n",
       "\n",
       "    2021 [YR2021] 2022 [YR2022]  \n",
       "0        2.461275      2.123806  \n",
       "1        2.851358      2.534498  \n",
       "2        3.951857      3.675647  \n",
       "3       -0.362095      0.592423  \n",
       "4        0.042327      1.056627  \n",
       "..            ...           ...  \n",
       "132           NaN           NaN  \n",
       "133           NaN           NaN  \n",
       "134           NaN           NaN  \n",
       "135           NaN           NaN  \n",
       "136           NaN           NaN  \n",
       "\n",
       "[137 rows x 40 columns]"
      ]
     },
     "execution_count": 6,
     "metadata": {},
     "output_type": "execute_result"
    }
   ],
   "source": [
    "df_poblacion = pd.read_excel(\"../Data/Data_Poblacion_Crecimiento.xlsx\")\n",
    "df_poblacion"
   ]
  },
  {
   "cell_type": "markdown",
   "metadata": {},
   "source": [
    "<h3>Eliminamos filas que no corresponden</h3>"
   ]
  },
  {
   "cell_type": "code",
   "execution_count": 7,
   "metadata": {},
   "outputs": [
    {
     "data": {
      "text/html": [
       "<div>\n",
       "<style scoped>\n",
       "    .dataframe tbody tr th:only-of-type {\n",
       "        vertical-align: middle;\n",
       "    }\n",
       "\n",
       "    .dataframe tbody tr th {\n",
       "        vertical-align: top;\n",
       "    }\n",
       "\n",
       "    .dataframe thead th {\n",
       "        text-align: right;\n",
       "    }\n",
       "</style>\n",
       "<table border=\"1\" class=\"dataframe\">\n",
       "  <thead>\n",
       "    <tr style=\"text-align: right;\">\n",
       "      <th></th>\n",
       "      <th>país Name</th>\n",
       "      <th>país Code</th>\n",
       "      <th>serie Name</th>\n",
       "      <th>serie Code</th>\n",
       "      <th>1987 [YR1987]</th>\n",
       "      <th>1988 [YR1988]</th>\n",
       "      <th>1989 [YR1989]</th>\n",
       "      <th>1990 [YR1990]</th>\n",
       "      <th>1991 [YR1991]</th>\n",
       "      <th>1992 [YR1992]</th>\n",
       "      <th>...</th>\n",
       "      <th>2013 [YR2013]</th>\n",
       "      <th>2014 [YR2014]</th>\n",
       "      <th>2015 [YR2015]</th>\n",
       "      <th>2016 [YR2016]</th>\n",
       "      <th>2017 [YR2017]</th>\n",
       "      <th>2018 [YR2018]</th>\n",
       "      <th>2019 [YR2019]</th>\n",
       "      <th>2020 [YR2020]</th>\n",
       "      <th>2021 [YR2021]</th>\n",
       "      <th>2022 [YR2022]</th>\n",
       "    </tr>\n",
       "  </thead>\n",
       "  <tbody>\n",
       "    <tr>\n",
       "      <th>0</th>\n",
       "      <td>Afganistán</td>\n",
       "      <td>AFG</td>\n",
       "      <td>Crecimiento de la población rural (% anual)</td>\n",
       "      <td>SP.RUR.TOTL.ZG</td>\n",
       "      <td>-2.043746</td>\n",
       "      <td>-0.275758</td>\n",
       "      <td>2.637888</td>\n",
       "      <td>0.08959</td>\n",
       "      <td>0.356909</td>\n",
       "      <td>11.409417</td>\n",
       "      <td>...</td>\n",
       "      <td>3.185537</td>\n",
       "      <td>3.374206</td>\n",
       "      <td>2.834511</td>\n",
       "      <td>2.292555</td>\n",
       "      <td>2.559272</td>\n",
       "      <td>2.556909</td>\n",
       "      <td>2.560297</td>\n",
       "      <td>2.767724</td>\n",
       "      <td>2.461275</td>\n",
       "      <td>2.123806</td>\n",
       "    </tr>\n",
       "    <tr>\n",
       "      <th>1</th>\n",
       "      <td>Afganistán</td>\n",
       "      <td>AFG</td>\n",
       "      <td>Crecimiento de la población (% anual)</td>\n",
       "      <td>SP.POP.GROW</td>\n",
       "      <td>-1.21019</td>\n",
       "      <td>0.586318</td>\n",
       "      <td>2.751877</td>\n",
       "      <td>0.202434</td>\n",
       "      <td>0.46988</td>\n",
       "      <td>11.522524</td>\n",
       "      <td>...</td>\n",
       "      <td>3.466788</td>\n",
       "      <td>3.657576</td>\n",
       "      <td>3.121341</td>\n",
       "      <td>2.581549</td>\n",
       "      <td>2.866492</td>\n",
       "      <td>2.885208</td>\n",
       "      <td>2.908529</td>\n",
       "      <td>3.134747</td>\n",
       "      <td>2.851358</td>\n",
       "      <td>2.534498</td>\n",
       "    </tr>\n",
       "    <tr>\n",
       "      <th>2</th>\n",
       "      <td>Afganistán</td>\n",
       "      <td>AFG</td>\n",
       "      <td>Crecimiento de la población urbana (% anual)</td>\n",
       "      <td>SP.URB.GROW</td>\n",
       "      <td>2.128391</td>\n",
       "      <td>3.898014</td>\n",
       "      <td>3.179585</td>\n",
       "      <td>0.623574</td>\n",
       "      <td>0.889255</td>\n",
       "      <td>11.940176</td>\n",
       "      <td>...</td>\n",
       "      <td>4.344553</td>\n",
       "      <td>4.531769</td>\n",
       "      <td>3.996008</td>\n",
       "      <td>3.452643</td>\n",
       "      <td>3.781557</td>\n",
       "      <td>3.850833</td>\n",
       "      <td>3.919287</td>\n",
       "      <td>4.185357</td>\n",
       "      <td>3.951857</td>\n",
       "      <td>3.675647</td>\n",
       "    </tr>\n",
       "    <tr>\n",
       "      <th>3</th>\n",
       "      <td>Alemania</td>\n",
       "      <td>DEU</td>\n",
       "      <td>Crecimiento de la población rural (% anual)</td>\n",
       "      <td>SP.RUR.TOTL.ZG</td>\n",
       "      <td>-0.649363</td>\n",
       "      <td>-0.211186</td>\n",
       "      <td>0.858482</td>\n",
       "      <td>0.335125</td>\n",
       "      <td>0.165309</td>\n",
       "      <td>0.419336</td>\n",
       "      <td>...</td>\n",
       "      <td>0.22909</td>\n",
       "      <td>0.373046</td>\n",
       "      <td>0.821852</td>\n",
       "      <td>0.701902</td>\n",
       "      <td>0.211142</td>\n",
       "      <td>0.07599</td>\n",
       "      <td>-0.056966</td>\n",
       "      <td>-0.259233</td>\n",
       "      <td>-0.362095</td>\n",
       "      <td>0.592423</td>\n",
       "    </tr>\n",
       "    <tr>\n",
       "      <th>4</th>\n",
       "      <td>Alemania</td>\n",
       "      <td>DEU</td>\n",
       "      <td>Crecimiento de la población (% anual)</td>\n",
       "      <td>SP.POP.GROW</td>\n",
       "      <td>0.153618</td>\n",
       "      <td>0.390679</td>\n",
       "      <td>0.773337</td>\n",
       "      <td>0.861969</td>\n",
       "      <td>0.728606</td>\n",
       "      <td>0.760347</td>\n",
       "      <td>...</td>\n",
       "      <td>0.2729</td>\n",
       "      <td>0.416877</td>\n",
       "      <td>0.865703</td>\n",
       "      <td>0.807219</td>\n",
       "      <td>0.373725</td>\n",
       "      <td>0.300527</td>\n",
       "      <td>0.22552</td>\n",
       "      <td>0.081693</td>\n",
       "      <td>0.042327</td>\n",
       "      <td>1.056627</td>\n",
       "    </tr>\n",
       "    <tr>\n",
       "      <th>...</th>\n",
       "      <td>...</td>\n",
       "      <td>...</td>\n",
       "      <td>...</td>\n",
       "      <td>...</td>\n",
       "      <td>...</td>\n",
       "      <td>...</td>\n",
       "      <td>...</td>\n",
       "      <td>...</td>\n",
       "      <td>...</td>\n",
       "      <td>...</td>\n",
       "      <td>...</td>\n",
       "      <td>...</td>\n",
       "      <td>...</td>\n",
       "      <td>...</td>\n",
       "      <td>...</td>\n",
       "      <td>...</td>\n",
       "      <td>...</td>\n",
       "      <td>...</td>\n",
       "      <td>...</td>\n",
       "      <td>...</td>\n",
       "      <td>...</td>\n",
       "    </tr>\n",
       "    <tr>\n",
       "      <th>127</th>\n",
       "      <td>Kenya</td>\n",
       "      <td>KEN</td>\n",
       "      <td>Crecimiento de la población (% anual)</td>\n",
       "      <td>SP.POP.GROW</td>\n",
       "      <td>3.5148</td>\n",
       "      <td>3.500989</td>\n",
       "      <td>3.461437</td>\n",
       "      <td>3.400832</td>\n",
       "      <td>3.211652</td>\n",
       "      <td>3.036791</td>\n",
       "      <td>...</td>\n",
       "      <td>2.409931</td>\n",
       "      <td>2.294178</td>\n",
       "      <td>2.200322</td>\n",
       "      <td>2.202146</td>\n",
       "      <td>2.175708</td>\n",
       "      <td>2.032734</td>\n",
       "      <td>1.978457</td>\n",
       "      <td>2.0097</td>\n",
       "      <td>1.942761</td>\n",
       "      <td>1.90951</td>\n",
       "    </tr>\n",
       "    <tr>\n",
       "      <th>128</th>\n",
       "      <td>Kenya</td>\n",
       "      <td>KEN</td>\n",
       "      <td>Crecimiento de la población urbana (% anual)</td>\n",
       "      <td>SP.URB.GROW</td>\n",
       "      <td>4.137102</td>\n",
       "      <td>4.125536</td>\n",
       "      <td>4.082082</td>\n",
       "      <td>4.983642</td>\n",
       "      <td>4.957724</td>\n",
       "      <td>4.775948</td>\n",
       "      <td>...</td>\n",
       "      <td>4.110203</td>\n",
       "      <td>4.001703</td>\n",
       "      <td>3.918169</td>\n",
       "      <td>3.929292</td>\n",
       "      <td>3.91118</td>\n",
       "      <td>3.779308</td>\n",
       "      <td>3.727771</td>\n",
       "      <td>3.768242</td>\n",
       "      <td>3.706017</td>\n",
       "      <td>3.680144</td>\n",
       "    </tr>\n",
       "    <tr>\n",
       "      <th>129</th>\n",
       "      <td>Noruega</td>\n",
       "      <td>NOR</td>\n",
       "      <td>Crecimiento de la población rural (% anual)</td>\n",
       "      <td>SP.RUR.TOTL.ZG</td>\n",
       "      <td>0.011846</td>\n",
       "      <td>0.083135</td>\n",
       "      <td>-0.043994</td>\n",
       "      <td>-0.111247</td>\n",
       "      <td>-0.631509</td>\n",
       "      <td>-0.875486</td>\n",
       "      <td>...</td>\n",
       "      <td>-0.859193</td>\n",
       "      <td>-0.953203</td>\n",
       "      <td>-1.093061</td>\n",
       "      <td>-1.224759</td>\n",
       "      <td>-1.299092</td>\n",
       "      <td>-1.441461</td>\n",
       "      <td>-1.419724</td>\n",
       "      <td>-1.492127</td>\n",
       "      <td>-1.536236</td>\n",
       "      <td>-1.167614</td>\n",
       "    </tr>\n",
       "    <tr>\n",
       "      <th>130</th>\n",
       "      <td>Noruega</td>\n",
       "      <td>NOR</td>\n",
       "      <td>Crecimiento de la población (% anual)</td>\n",
       "      <td>SP.POP.GROW</td>\n",
       "      <td>0.46805</td>\n",
       "      <td>0.537923</td>\n",
       "      <td>0.412808</td>\n",
       "      <td>0.344151</td>\n",
       "      <td>0.476504</td>\n",
       "      <td>0.57718</td>\n",
       "      <td>...</td>\n",
       "      <td>1.209142</td>\n",
       "      <td>1.127737</td>\n",
       "      <td>0.995085</td>\n",
       "      <td>0.88097</td>\n",
       "      <td>0.807673</td>\n",
       "      <td>0.660091</td>\n",
       "      <td>0.675061</td>\n",
       "      <td>0.588757</td>\n",
       "      <td>0.534772</td>\n",
       "      <td>0.898395</td>\n",
       "    </tr>\n",
       "    <tr>\n",
       "      <th>131</th>\n",
       "      <td>Noruega</td>\n",
       "      <td>NOR</td>\n",
       "      <td>Crecimiento de la población urbana (% anual)</td>\n",
       "      <td>SP.URB.GROW</td>\n",
       "      <td>0.649848</td>\n",
       "      <td>0.718007</td>\n",
       "      <td>0.592543</td>\n",
       "      <td>0.522201</td>\n",
       "      <td>0.905036</td>\n",
       "      <td>1.129151</td>\n",
       "      <td>...</td>\n",
       "      <td>1.723625</td>\n",
       "      <td>1.632152</td>\n",
       "      <td>1.488338</td>\n",
       "      <td>1.365679</td>\n",
       "      <td>1.280246</td>\n",
       "      <td>1.119533</td>\n",
       "      <td>1.121489</td>\n",
       "      <td>1.021155</td>\n",
       "      <td>0.954484</td>\n",
       "      <td>1.306827</td>\n",
       "    </tr>\n",
       "  </tbody>\n",
       "</table>\n",
       "<p>132 rows × 40 columns</p>\n",
       "</div>"
      ],
      "text/plain": [
       "      país Name país Code                                    serie Name   \n",
       "0    Afganistán       AFG   Crecimiento de la población rural (% anual)  \\\n",
       "1    Afganistán       AFG         Crecimiento de la población (% anual)   \n",
       "2    Afganistán       AFG  Crecimiento de la población urbana (% anual)   \n",
       "3      Alemania       DEU   Crecimiento de la población rural (% anual)   \n",
       "4      Alemania       DEU         Crecimiento de la población (% anual)   \n",
       "..          ...       ...                                           ...   \n",
       "127       Kenya       KEN         Crecimiento de la población (% anual)   \n",
       "128       Kenya       KEN  Crecimiento de la población urbana (% anual)   \n",
       "129     Noruega       NOR   Crecimiento de la población rural (% anual)   \n",
       "130     Noruega       NOR         Crecimiento de la población (% anual)   \n",
       "131     Noruega       NOR  Crecimiento de la población urbana (% anual)   \n",
       "\n",
       "         serie Code 1987 [YR1987] 1988 [YR1988] 1989 [YR1989] 1990 [YR1990]   \n",
       "0    SP.RUR.TOTL.ZG     -2.043746     -0.275758      2.637888       0.08959  \\\n",
       "1       SP.POP.GROW      -1.21019      0.586318      2.751877      0.202434   \n",
       "2       SP.URB.GROW      2.128391      3.898014      3.179585      0.623574   \n",
       "3    SP.RUR.TOTL.ZG     -0.649363     -0.211186      0.858482      0.335125   \n",
       "4       SP.POP.GROW      0.153618      0.390679      0.773337      0.861969   \n",
       "..              ...           ...           ...           ...           ...   \n",
       "127     SP.POP.GROW        3.5148      3.500989      3.461437      3.400832   \n",
       "128     SP.URB.GROW      4.137102      4.125536      4.082082      4.983642   \n",
       "129  SP.RUR.TOTL.ZG      0.011846      0.083135     -0.043994     -0.111247   \n",
       "130     SP.POP.GROW       0.46805      0.537923      0.412808      0.344151   \n",
       "131     SP.URB.GROW      0.649848      0.718007      0.592543      0.522201   \n",
       "\n",
       "    1991 [YR1991] 1992 [YR1992]  ... 2013 [YR2013] 2014 [YR2014]   \n",
       "0        0.356909     11.409417  ...      3.185537      3.374206  \\\n",
       "1         0.46988     11.522524  ...      3.466788      3.657576   \n",
       "2        0.889255     11.940176  ...      4.344553      4.531769   \n",
       "3        0.165309      0.419336  ...       0.22909      0.373046   \n",
       "4        0.728606      0.760347  ...        0.2729      0.416877   \n",
       "..            ...           ...  ...           ...           ...   \n",
       "127      3.211652      3.036791  ...      2.409931      2.294178   \n",
       "128      4.957724      4.775948  ...      4.110203      4.001703   \n",
       "129     -0.631509     -0.875486  ...     -0.859193     -0.953203   \n",
       "130      0.476504       0.57718  ...      1.209142      1.127737   \n",
       "131      0.905036      1.129151  ...      1.723625      1.632152   \n",
       "\n",
       "    2015 [YR2015] 2016 [YR2016] 2017 [YR2017] 2018 [YR2018] 2019 [YR2019]   \n",
       "0        2.834511      2.292555      2.559272      2.556909      2.560297  \\\n",
       "1        3.121341      2.581549      2.866492      2.885208      2.908529   \n",
       "2        3.996008      3.452643      3.781557      3.850833      3.919287   \n",
       "3        0.821852      0.701902      0.211142       0.07599     -0.056966   \n",
       "4        0.865703      0.807219      0.373725      0.300527       0.22552   \n",
       "..            ...           ...           ...           ...           ...   \n",
       "127      2.200322      2.202146      2.175708      2.032734      1.978457   \n",
       "128      3.918169      3.929292       3.91118      3.779308      3.727771   \n",
       "129     -1.093061     -1.224759     -1.299092     -1.441461     -1.419724   \n",
       "130      0.995085       0.88097      0.807673      0.660091      0.675061   \n",
       "131      1.488338      1.365679      1.280246      1.119533      1.121489   \n",
       "\n",
       "    2020 [YR2020] 2021 [YR2021] 2022 [YR2022]  \n",
       "0        2.767724      2.461275      2.123806  \n",
       "1        3.134747      2.851358      2.534498  \n",
       "2        4.185357      3.951857      3.675647  \n",
       "3       -0.259233     -0.362095      0.592423  \n",
       "4        0.081693      0.042327      1.056627  \n",
       "..            ...           ...           ...  \n",
       "127        2.0097      1.942761       1.90951  \n",
       "128      3.768242      3.706017      3.680144  \n",
       "129     -1.492127     -1.536236     -1.167614  \n",
       "130      0.588757      0.534772      0.898395  \n",
       "131      1.021155      0.954484      1.306827  \n",
       "\n",
       "[132 rows x 40 columns]"
      ]
     },
     "execution_count": 7,
     "metadata": {},
     "output_type": "execute_result"
    }
   ],
   "source": [
    "df_poblacion.dropna(subset=['país Code'], inplace=True)\n",
    "df_poblacion"
   ]
  },
  {
   "cell_type": "markdown",
   "metadata": {},
   "source": [
    "<h3>Verificar valores nulos y tipo de dato de las columnas</h3>"
   ]
  },
  {
   "cell_type": "code",
   "execution_count": 8,
   "metadata": {},
   "outputs": [
    {
     "name": "stdout",
     "output_type": "stream",
     "text": [
      "<class 'pandas.core.frame.DataFrame'>\n",
      "Index: 132 entries, 0 to 131\n",
      "Data columns (total 40 columns):\n",
      " #   Column         Non-Null Count  Dtype \n",
      "---  ------         --------------  ----- \n",
      " 0   país Name      132 non-null    object\n",
      " 1   país Code      132 non-null    object\n",
      " 2   serie Name     132 non-null    object\n",
      " 3   serie Code     132 non-null    object\n",
      " 4   1987 [YR1987]  132 non-null    object\n",
      " 5   1988 [YR1988]  132 non-null    object\n",
      " 6   1989 [YR1989]  132 non-null    object\n",
      " 7   1990 [YR1990]  132 non-null    object\n",
      " 8   1991 [YR1991]  132 non-null    object\n",
      " 9   1992 [YR1992]  132 non-null    object\n",
      " 10  1993 [YR1993]  132 non-null    object\n",
      " 11  1994 [YR1994]  132 non-null    object\n",
      " 12  1995 [YR1995]  132 non-null    object\n",
      " 13  1996 [YR1996]  132 non-null    object\n",
      " 14  1997 [YR1997]  132 non-null    object\n",
      " 15  1998 [YR1998]  132 non-null    object\n",
      " 16  1999 [YR1999]  132 non-null    object\n",
      " 17  2000 [YR2000]  132 non-null    object\n",
      " 18  2001 [YR2001]  132 non-null    object\n",
      " 19  2002 [YR2002]  132 non-null    object\n",
      " 20  2003 [YR2003]  132 non-null    object\n",
      " 21  2004 [YR2004]  132 non-null    object\n",
      " 22  2005 [YR2005]  132 non-null    object\n",
      " 23  2006 [YR2006]  132 non-null    object\n",
      " 24  2007 [YR2007]  132 non-null    object\n",
      " 25  2008 [YR2008]  132 non-null    object\n",
      " 26  2009 [YR2009]  132 non-null    object\n",
      " 27  2010 [YR2010]  132 non-null    object\n",
      " 28  2011 [YR2011]  132 non-null    object\n",
      " 29  2012 [YR2012]  132 non-null    object\n",
      " 30  2013 [YR2013]  132 non-null    object\n",
      " 31  2014 [YR2014]  132 non-null    object\n",
      " 32  2015 [YR2015]  132 non-null    object\n",
      " 33  2016 [YR2016]  132 non-null    object\n",
      " 34  2017 [YR2017]  132 non-null    object\n",
      " 35  2018 [YR2018]  132 non-null    object\n",
      " 36  2019 [YR2019]  132 non-null    object\n",
      " 37  2020 [YR2020]  132 non-null    object\n",
      " 38  2021 [YR2021]  132 non-null    object\n",
      " 39  2022 [YR2022]  132 non-null    object\n",
      "dtypes: object(40)\n",
      "memory usage: 42.3+ KB\n"
     ]
    }
   ],
   "source": [
    "df_poblacion.info()"
   ]
  },
  {
   "cell_type": "markdown",
   "metadata": {},
   "source": [
    "<h3>Verificar si hay filas duplicadas</h3>"
   ]
  },
  {
   "cell_type": "code",
   "execution_count": 9,
   "metadata": {},
   "outputs": [
    {
     "data": {
      "text/html": [
       "<div>\n",
       "<style scoped>\n",
       "    .dataframe tbody tr th:only-of-type {\n",
       "        vertical-align: middle;\n",
       "    }\n",
       "\n",
       "    .dataframe tbody tr th {\n",
       "        vertical-align: top;\n",
       "    }\n",
       "\n",
       "    .dataframe thead th {\n",
       "        text-align: right;\n",
       "    }\n",
       "</style>\n",
       "<table border=\"1\" class=\"dataframe\">\n",
       "  <thead>\n",
       "    <tr style=\"text-align: right;\">\n",
       "      <th></th>\n",
       "      <th>país Name</th>\n",
       "      <th>país Code</th>\n",
       "      <th>serie Name</th>\n",
       "      <th>serie Code</th>\n",
       "      <th>1987 [YR1987]</th>\n",
       "      <th>1988 [YR1988]</th>\n",
       "      <th>1989 [YR1989]</th>\n",
       "      <th>1990 [YR1990]</th>\n",
       "      <th>1991 [YR1991]</th>\n",
       "      <th>1992 [YR1992]</th>\n",
       "      <th>...</th>\n",
       "      <th>2013 [YR2013]</th>\n",
       "      <th>2014 [YR2014]</th>\n",
       "      <th>2015 [YR2015]</th>\n",
       "      <th>2016 [YR2016]</th>\n",
       "      <th>2017 [YR2017]</th>\n",
       "      <th>2018 [YR2018]</th>\n",
       "      <th>2019 [YR2019]</th>\n",
       "      <th>2020 [YR2020]</th>\n",
       "      <th>2021 [YR2021]</th>\n",
       "      <th>2022 [YR2022]</th>\n",
       "    </tr>\n",
       "  </thead>\n",
       "  <tbody>\n",
       "  </tbody>\n",
       "</table>\n",
       "<p>0 rows × 40 columns</p>\n",
       "</div>"
      ],
      "text/plain": [
       "Empty DataFrame\n",
       "Columns: [país Name, país Code, serie Name, serie Code, 1987 [YR1987], 1988 [YR1988], 1989 [YR1989], 1990 [YR1990], 1991 [YR1991], 1992 [YR1992], 1993 [YR1993], 1994 [YR1994], 1995 [YR1995], 1996 [YR1996], 1997 [YR1997], 1998 [YR1998], 1999 [YR1999], 2000 [YR2000], 2001 [YR2001], 2002 [YR2002], 2003 [YR2003], 2004 [YR2004], 2005 [YR2005], 2006 [YR2006], 2007 [YR2007], 2008 [YR2008], 2009 [YR2009], 2010 [YR2010], 2011 [YR2011], 2012 [YR2012], 2013 [YR2013], 2014 [YR2014], 2015 [YR2015], 2016 [YR2016], 2017 [YR2017], 2018 [YR2018], 2019 [YR2019], 2020 [YR2020], 2021 [YR2021], 2022 [YR2022]]\n",
       "Index: []\n",
       "\n",
       "[0 rows x 40 columns]"
      ]
     },
     "execution_count": 9,
     "metadata": {},
     "output_type": "execute_result"
    }
   ],
   "source": [
    "df_poblacion[df_poblacion.duplicated()]"
   ]
  },
  {
   "cell_type": "code",
   "execution_count": 10,
   "metadata": {},
   "outputs": [
    {
     "data": {
      "text/plain": [
       "serie Name\n",
       "Crecimiento de la población rural (% anual)     44\n",
       "Crecimiento de la población (% anual)           44\n",
       "Crecimiento de la población urbana (% anual)    44\n",
       "Name: count, dtype: int64"
      ]
     },
     "execution_count": 10,
     "metadata": {},
     "output_type": "execute_result"
    }
   ],
   "source": [
    "df_poblacion[\"serie Name\"].value_counts()"
   ]
  },
  {
   "cell_type": "markdown",
   "metadata": {},
   "source": [
    "<h3>Convertimos a valores numéricos las columnas que correspondan</h3>"
   ]
  },
  {
   "cell_type": "code",
   "execution_count": 11,
   "metadata": {},
   "outputs": [],
   "source": [
    "columns_to_convert = df_poblacion.columns[4:40]\n",
    "\n",
    "df_poblacion[columns_to_convert] = df_poblacion[columns_to_convert].apply(pd.to_numeric, errors='coerce')"
   ]
  },
  {
   "cell_type": "markdown",
   "metadata": {},
   "source": [
    "<h3>Mostramos estadísticas básicas para cada indicador</h3>"
   ]
  },
  {
   "cell_type": "code",
   "execution_count": 12,
   "metadata": {},
   "outputs": [
    {
     "name": "stdout",
     "output_type": "stream",
     "text": [
      "Serie Name: Crecimiento de la población rural (% anual)\n",
      "       1987 [YR1987]  1988 [YR1988]  1989 [YR1989]  1990 [YR1990]  1991 [YR1991]  1992 [YR1992]  1993 [YR1993]  1994 [YR1994]  1995 [YR1995]  1996 [YR1996]  1997 [YR1997]  1998 [YR1998]  1999 [YR1999]  2000 [YR2000]  2001 [YR2001]  2002 [YR2002]  2003 [YR2003]  2004 [YR2004]  2005 [YR2005]  2006 [YR2006]  2007 [YR2007]  2008 [YR2008]  2009 [YR2009]  2010 [YR2010]  2011 [YR2011]  2012 [YR2012]  2013 [YR2013]  2014 [YR2014]  2015 [YR2015]  2016 [YR2016]  2017 [YR2017]  2018 [YR2018]  2019 [YR2019]  2020 [YR2020]  2021 [YR2021]  2022 [YR2022]\n",
      "count      43.000000      43.000000      43.000000      43.000000      43.000000      43.000000      43.000000      43.000000      43.000000      43.000000      43.000000      43.000000      43.000000      43.000000      43.000000      43.000000      43.000000      43.000000      43.000000      43.000000      43.000000      43.000000      43.000000      43.000000      43.000000      43.000000      43.000000      43.000000      43.000000      43.000000      43.000000      43.000000      43.000000      43.000000      43.000000      43.000000\n",
      "mean        0.903046       0.883241       0.964696       0.912748       0.938860       1.037553       1.089003       0.433957       0.316953       1.021203       0.884000       0.583739       0.495162       0.458105       0.355109       0.430532       0.429282       0.292707       0.283682       0.460087       0.552163       0.543067       0.445210       0.153067       0.099752       0.161702       0.172988       0.241462       0.233657       0.203462       0.140204       0.059541      -0.000756      -0.056876      -0.233938      -0.112205\n",
      "std         1.859313       1.761476       1.701626       1.649381       1.571828       2.288902       2.635579       3.411409       3.364574       2.649214       2.260878       1.474963       1.474704       1.376122       1.882823       2.363634       2.437798       2.294874       2.368834       2.766311       3.181074       3.116603       2.766649       2.266467       1.881329       1.814390       1.705063       1.638767       1.593428       1.566330       1.574492       1.604517       1.597251       1.572651       1.580534       1.488068\n",
      "min        -2.854751      -2.881198      -2.830274      -2.780444      -1.787767      -2.202081      -2.292483     -17.327140     -18.363544      -2.642436      -2.618002      -2.552812      -2.536758      -2.528752      -6.245690      -8.411383      -8.603628      -8.951360      -9.104531      -8.416281      -8.201649      -8.369363      -8.492799      -8.560655      -5.498484      -5.657339      -5.096810      -4.403659      -4.354835      -4.283238      -4.243485      -4.155137      -3.986814      -3.976992      -3.900569      -3.354034\n",
      "25%        -0.441995      -0.265794      -0.169707      -0.166972       0.003348       0.008061      -0.050043      -0.164733      -0.240441      -0.248721      -0.314135      -0.327716      -0.475526      -0.438027      -0.581011      -0.581712      -0.593427      -0.668979      -0.609094      -0.586143      -0.484230      -0.498039      -0.549443      -0.632852      -0.723435      -0.778382      -0.816598      -0.750911      -0.733326      -0.697934      -0.898368      -0.848798      -0.836443      -0.936605      -1.166992      -0.888524\n",
      "50%         0.644250       0.596528       0.706833       0.527916       0.609799       0.420248       0.407728       0.306692       0.341376       0.385971       0.310182       0.323100       0.156732       0.237589       0.255917       0.566349       0.506010       0.527500       0.448436       0.516210       0.093157       0.150192       0.014133       0.005616      -0.024119      -0.009936      -0.053620       0.076851       0.078882      -0.051644      -0.142598      -0.182835      -0.205198      -0.290761      -0.522736      -0.305932\n",
      "75%         1.866937       1.850381       2.035584       1.895972       1.759258       1.811676       1.761719       1.748167       1.692065       1.630779       1.592386       1.551216       1.347740       1.354185       1.203658       1.310474       1.544769       1.402736       1.530575       1.489262       1.449078       1.373726       1.348314       1.342836       1.165037       1.100694       1.112767       1.125300       1.080452       1.066616       1.068764       1.166610       1.035492       1.071968       0.612215       0.861137\n",
      "max         7.740042       7.309461       6.915786       6.563795       6.229264      11.409417      14.851229       9.749628       5.931765      14.906115      12.007265       4.066845       3.961297       3.447878       5.410334       6.331048       7.422604       4.393856       4.775483      11.283407      15.943176      15.231707      11.262894       3.794883       3.752691       3.815350       3.822980       3.768047       3.795435       3.815734       3.755234       3.697894       3.655306       3.596448       3.557388       3.541062\n",
      "\n",
      "Serie Name: Crecimiento de la población (% anual)\n",
      "       1987 [YR1987]  1988 [YR1988]  1989 [YR1989]  1990 [YR1990]  1991 [YR1991]  1992 [YR1992]  1993 [YR1993]  1994 [YR1994]  1995 [YR1995]  1996 [YR1996]  1997 [YR1997]  1998 [YR1998]  1999 [YR1999]  2000 [YR2000]  2001 [YR2001]  2002 [YR2002]  2003 [YR2003]  2004 [YR2004]  2005 [YR2005]  2006 [YR2006]  2007 [YR2007]  2008 [YR2008]  2009 [YR2009]  2010 [YR2010]  2011 [YR2011]  2012 [YR2012]  2013 [YR2013]  2014 [YR2014]  2015 [YR2015]  2016 [YR2016]  2017 [YR2017]  2018 [YR2018]  2019 [YR2019]  2020 [YR2020]  2021 [YR2021]  2022 [YR2022]\n",
      "count      44.000000      44.000000      44.000000      44.000000      43.000000      44.000000      44.000000      44.000000      44.000000      44.000000      44.000000      44.000000      44.000000      44.000000      44.000000      44.000000      44.000000      44.000000      44.000000      44.000000      44.000000      44.000000      44.000000      44.000000      44.000000      44.000000      44.000000      44.000000      44.000000      44.000000      44.000000      44.000000      44.000000      44.000000      44.000000      44.000000\n",
      "mean        1.791133       1.798951       1.841240       1.818976       1.745098       1.896762       1.921466       1.301044       1.177040       1.921080       1.809990       1.538176       1.399113       1.383310       1.461950       1.572764       1.503306       1.451130       1.503044       1.678957       1.767624       1.798605       1.670586       1.394243       1.249904       1.289340       1.234805       1.247950       1.246006       1.229484       1.157065       1.105592       1.080587       1.010647       0.767203       1.074428\n",
      "std         1.516576       1.387810       1.311690       1.322189       1.203340       1.993101       2.346055       3.146776       3.075537       2.601249       2.169675       1.264424       1.207883       1.106651       1.271425       1.440604       1.540429       1.197957       1.353139       2.136629       2.742734       2.667810       2.106939       1.222349       1.109741       1.064420       1.026347       1.011757       0.951688       0.910171       0.992857       1.101355       1.120802       1.057838       1.297445       0.982002\n",
      "min        -1.210190       0.048593       0.059988       0.101829       0.254527      -1.765146      -0.136718     -16.049153     -16.880630      -0.145452      -0.165342      -0.165486      -0.309278      -0.420615      -0.424091      -0.460024      -1.474533      -0.402681      -0.381453      -0.327445      -0.171082      -0.190143      -0.253383      -0.153198      -1.853715      -0.540753      -0.725121      -0.666113      -0.658861      -0.415913      -0.580807      -2.443543      -2.904996      -1.674986      -4.170336      -0.704368\n",
      "25%         0.591596       0.574219       0.596581       0.836977       0.758318       0.729703       0.641851       0.468937       0.460739       0.495510       0.509392       0.585111       0.513343       0.581162       0.621900       0.626505       0.483304       0.593182       0.670955       0.610262       0.693247       0.667125       0.538337       0.477322       0.465711       0.470841       0.557221       0.599508       0.728769       0.749575       0.540222       0.482730       0.452704       0.347229       0.122223       0.449540\n",
      "50%         1.611204       1.673672       1.790218       1.621503       1.424063       1.512555       1.472050       1.338131       1.390959       1.508434       1.351916       1.205134       1.150192       1.195102       1.191570       1.269774       1.202466       1.244105       1.173032       1.258925       1.137351       1.256934       1.213019       1.159960       1.132469       1.111361       1.134494       1.113599       1.093093       1.062897       0.994233       0.972087       1.009354       0.886458       0.567421       0.912115\n",
      "75%         2.700300       2.683505       2.644506       2.547240       2.469236       2.358708       2.341862       2.225869       2.222975       2.193512       2.167018       2.078428       1.874813       1.824300       1.815172       1.789829       1.849730       1.747768       1.810717       1.784352       1.831518       1.969370       1.982325       1.793550       1.706011       1.795141       1.644769       1.597474       1.943453       1.669813       1.729294       1.892079       1.803188       1.535691       1.300973       1.631332\n",
      "max         7.045664       6.615022       6.226056       5.869033       5.539656      11.522524      14.964455       9.864262       6.046536      16.625502      13.247067       6.178189       5.864515       5.580387       5.785413       6.449321       7.541019       4.609527       6.955727      13.483672      18.127984      17.399086      13.422921       5.939765       3.746720       4.077628       3.818206       3.781179       3.828859       3.867091       3.826934       3.787596       3.765445       3.727101       3.707424       3.712988\n",
      "\n",
      "Serie Name: Crecimiento de la población urbana (% anual)\n",
      "       1987 [YR1987]  1988 [YR1988]  1989 [YR1989]  1990 [YR1990]  1991 [YR1991]  1992 [YR1992]  1993 [YR1993]  1994 [YR1994]  1995 [YR1995]  1996 [YR1996]  1997 [YR1997]  1998 [YR1998]  1999 [YR1999]  2000 [YR2000]  2001 [YR2001]  2002 [YR2002]  2003 [YR2003]  2004 [YR2004]  2005 [YR2005]  2006 [YR2006]  2007 [YR2007]  2008 [YR2008]  2009 [YR2009]  2010 [YR2010]  2011 [YR2011]  2012 [YR2012]  2013 [YR2013]  2014 [YR2014]  2015 [YR2015]  2016 [YR2016]  2017 [YR2017]  2018 [YR2018]  2019 [YR2019]  2020 [YR2020]  2021 [YR2021]  2022 [YR2022]\n",
      "count      44.000000      44.000000      44.000000      44.000000      44.000000      44.000000      44.000000      44.000000      44.000000      44.000000      44.000000      44.000000      44.000000      44.000000      44.000000      44.000000      44.000000      44.000000      44.000000      44.000000      44.000000      44.000000      44.000000      44.000000      44.000000      44.000000      44.000000      44.000000      44.000000      44.000000      44.000000      44.000000      44.000000      44.000000      44.000000      44.000000\n",
      "mean        2.653937       2.648694       2.581983       2.572189       2.570632       2.931310       2.973492       2.326283       2.173838       2.908567       2.698940       2.366718       2.197646       2.171382       2.301940       2.356477       2.143757       2.067774       2.125136       2.286917       2.340976       2.356305       2.241139       1.961047       1.797914       1.830963       1.764808       1.769097       1.767297       1.751491       1.683483       1.640318       1.623417       1.561825       1.326458       1.642384\n",
      "std         1.902103       1.824532       1.729442       1.764127       1.706597       3.046462       3.512095       2.056559       1.799212       4.653090       3.483581       2.016073       1.868105       1.799839       1.885485       1.944661       1.870435       1.575534       1.679661       2.335773       2.852915       2.752622       2.240106       1.467818       1.398916       1.345145       1.314690       1.309511       1.264882       1.233521       1.335063       1.431045       1.442027       1.424387       1.675064       1.306104\n",
      "min        -0.356097      -0.281168       0.025990       0.162568       0.273409      -1.065802      -0.058933      -1.125719      -2.154416      -0.314066      -0.336147      -0.345078      -0.316094      -0.426069      -0.429544      -0.466841      -1.474533      -0.780000      -0.826101      -0.724704      -0.529916      -0.410720      -0.374156      -0.329498      -1.601972      -0.279958      -0.314279      -0.320447      -0.339656      -0.273079      -0.560394      -2.415197      -2.868725      -1.630797      -4.170336      -0.348107\n",
      "25%         1.138737       1.009765       0.858857       1.165665       1.165543       0.930837       0.837647       0.764052       0.700201       0.821328       0.860004       0.809580       0.635319       0.668732       0.931967       0.980420       0.958749       1.022566       1.044005       1.150078       1.154098       1.150107       1.092652       1.008598       1.067132       1.004001       0.918298       1.030809       0.976891       1.021980       0.847454       0.760198       0.809374       0.718642       0.381852       0.849657\n",
      "50%         2.497289       2.677806       2.868746       2.635961       2.463376       2.283026       2.273600       1.949515       1.901034       2.160612       2.085556       2.043916       1.975786       1.891245       1.924976       1.857898       1.959621       1.821520       1.849618       1.792841       1.829975       1.785076       1.627440       1.653557       1.548137       1.639049       1.532864       1.501174       1.468670       1.454509       1.270623       1.400141       1.371115       1.143801       0.948370       1.305319\n",
      "75%         4.525101       4.340952       4.038984       3.920969       3.693717       3.922996       3.653919       3.149497       3.158484       3.902305       3.410490       3.437986       2.797767       2.765637       2.722426       3.063627       2.925290       2.691457       2.842052       2.980494       2.777687       2.859956       3.022892       2.919672       2.628576       2.475092       2.416489       2.395890       2.585780       2.496903       2.607012       2.539870       2.373809       2.273154       1.946566       2.097027\n",
      "max         6.867192       6.434969       6.045657       6.067317       6.203524      15.818698      18.282681      10.283085       6.539543      31.143425      22.414590       9.236427       7.199740       7.194395       7.269232       7.604489       7.953448       6.873132       7.432145      13.951832      18.580685      17.836557      13.847740       6.350901       5.229575       5.272807       5.230614       5.187071       5.161047       5.105060       5.007199       4.885764       4.800404       4.758616       4.697431       4.578534\n",
      "\n"
     ]
    }
   ],
   "source": [
    "for i in df_poblacion[\"serie Name\"].value_counts().index:\n",
    "    print(f\"Serie Name: {i}\")\n",
    "    df_poblacion_serie = df_poblacion[df_poblacion[\"serie Name\"]==i]\n",
    "    print(df_poblacion_serie.describe().to_string())\n",
    "    print(\"\")\n"
   ]
  },
  {
   "cell_type": "markdown",
   "metadata": {},
   "source": [
    "<h3>Verificamos nuevamente los valores nulos y tipos de datos</h3>"
   ]
  },
  {
   "cell_type": "code",
   "execution_count": 13,
   "metadata": {},
   "outputs": [
    {
     "name": "stdout",
     "output_type": "stream",
     "text": [
      "<class 'pandas.core.frame.DataFrame'>\n",
      "Index: 132 entries, 0 to 131\n",
      "Data columns (total 40 columns):\n",
      " #   Column         Non-Null Count  Dtype  \n",
      "---  ------         --------------  -----  \n",
      " 0   país Name      132 non-null    object \n",
      " 1   país Code      132 non-null    object \n",
      " 2   serie Name     132 non-null    object \n",
      " 3   serie Code     132 non-null    object \n",
      " 4   1987 [YR1987]  131 non-null    float64\n",
      " 5   1988 [YR1988]  131 non-null    float64\n",
      " 6   1989 [YR1989]  131 non-null    float64\n",
      " 7   1990 [YR1990]  131 non-null    float64\n",
      " 8   1991 [YR1991]  130 non-null    float64\n",
      " 9   1992 [YR1992]  131 non-null    float64\n",
      " 10  1993 [YR1993]  131 non-null    float64\n",
      " 11  1994 [YR1994]  131 non-null    float64\n",
      " 12  1995 [YR1995]  131 non-null    float64\n",
      " 13  1996 [YR1996]  131 non-null    float64\n",
      " 14  1997 [YR1997]  131 non-null    float64\n",
      " 15  1998 [YR1998]  131 non-null    float64\n",
      " 16  1999 [YR1999]  131 non-null    float64\n",
      " 17  2000 [YR2000]  131 non-null    float64\n",
      " 18  2001 [YR2001]  131 non-null    float64\n",
      " 19  2002 [YR2002]  131 non-null    float64\n",
      " 20  2003 [YR2003]  131 non-null    float64\n",
      " 21  2004 [YR2004]  131 non-null    float64\n",
      " 22  2005 [YR2005]  131 non-null    float64\n",
      " 23  2006 [YR2006]  131 non-null    float64\n",
      " 24  2007 [YR2007]  131 non-null    float64\n",
      " 25  2008 [YR2008]  131 non-null    float64\n",
      " 26  2009 [YR2009]  131 non-null    float64\n",
      " 27  2010 [YR2010]  131 non-null    float64\n",
      " 28  2011 [YR2011]  131 non-null    float64\n",
      " 29  2012 [YR2012]  131 non-null    float64\n",
      " 30  2013 [YR2013]  131 non-null    float64\n",
      " 31  2014 [YR2014]  131 non-null    float64\n",
      " 32  2015 [YR2015]  131 non-null    float64\n",
      " 33  2016 [YR2016]  131 non-null    float64\n",
      " 34  2017 [YR2017]  131 non-null    float64\n",
      " 35  2018 [YR2018]  131 non-null    float64\n",
      " 36  2019 [YR2019]  131 non-null    float64\n",
      " 37  2020 [YR2020]  131 non-null    float64\n",
      " 38  2021 [YR2021]  131 non-null    float64\n",
      " 39  2022 [YR2022]  131 non-null    float64\n",
      "dtypes: float64(36), object(4)\n",
      "memory usage: 42.3+ KB\n"
     ]
    }
   ],
   "source": [
    "df_poblacion.info()"
   ]
  },
  {
   "cell_type": "markdown",
   "metadata": {},
   "source": [
    "<h3>Verificamos las filas que tengan valores nulos</h3>"
   ]
  },
  {
   "cell_type": "code",
   "execution_count": 14,
   "metadata": {},
   "outputs": [
    {
     "data": {
      "text/html": [
       "<div>\n",
       "<style scoped>\n",
       "    .dataframe tbody tr th:only-of-type {\n",
       "        vertical-align: middle;\n",
       "    }\n",
       "\n",
       "    .dataframe tbody tr th {\n",
       "        vertical-align: top;\n",
       "    }\n",
       "\n",
       "    .dataframe thead th {\n",
       "        text-align: right;\n",
       "    }\n",
       "</style>\n",
       "<table border=\"1\" class=\"dataframe\">\n",
       "  <thead>\n",
       "    <tr style=\"text-align: right;\">\n",
       "      <th></th>\n",
       "      <th>país Name</th>\n",
       "      <th>país Code</th>\n",
       "      <th>serie Name</th>\n",
       "      <th>serie Code</th>\n",
       "      <th>1987 [YR1987]</th>\n",
       "      <th>1988 [YR1988]</th>\n",
       "      <th>1989 [YR1989]</th>\n",
       "      <th>1990 [YR1990]</th>\n",
       "      <th>1991 [YR1991]</th>\n",
       "      <th>1992 [YR1992]</th>\n",
       "      <th>...</th>\n",
       "      <th>2013 [YR2013]</th>\n",
       "      <th>2014 [YR2014]</th>\n",
       "      <th>2015 [YR2015]</th>\n",
       "      <th>2016 [YR2016]</th>\n",
       "      <th>2017 [YR2017]</th>\n",
       "      <th>2018 [YR2018]</th>\n",
       "      <th>2019 [YR2019]</th>\n",
       "      <th>2020 [YR2020]</th>\n",
       "      <th>2021 [YR2021]</th>\n",
       "      <th>2022 [YR2022]</th>\n",
       "    </tr>\n",
       "  </thead>\n",
       "  <tbody>\n",
       "    <tr>\n",
       "      <th>94</th>\n",
       "      <td>Nueva Zelandia</td>\n",
       "      <td>NZL</td>\n",
       "      <td>Crecimiento de la población (% anual)</td>\n",
       "      <td>SP.POP.GROW</td>\n",
       "      <td>0.861876</td>\n",
       "      <td>0.274482</td>\n",
       "      <td>0.480054</td>\n",
       "      <td>0.923223</td>\n",
       "      <td>NaN</td>\n",
       "      <td>1.041735</td>\n",
       "      <td>...</td>\n",
       "      <td>0.768348</td>\n",
       "      <td>1.661012</td>\n",
       "      <td>2.036034</td>\n",
       "      <td>2.246032</td>\n",
       "      <td>2.088723</td>\n",
       "      <td>1.79124</td>\n",
       "      <td>1.591159</td>\n",
       "      <td>2.204789</td>\n",
       "      <td>0.415622</td>\n",
       "      <td>0.248156</td>\n",
       "    </tr>\n",
       "    <tr>\n",
       "      <th>111</th>\n",
       "      <td>Singapur</td>\n",
       "      <td>SGP</td>\n",
       "      <td>Crecimiento de la población rural (% anual)</td>\n",
       "      <td>SP.RUR.TOTL.ZG</td>\n",
       "      <td>NaN</td>\n",
       "      <td>NaN</td>\n",
       "      <td>NaN</td>\n",
       "      <td>NaN</td>\n",
       "      <td>NaN</td>\n",
       "      <td>NaN</td>\n",
       "      <td>...</td>\n",
       "      <td>NaN</td>\n",
       "      <td>NaN</td>\n",
       "      <td>NaN</td>\n",
       "      <td>NaN</td>\n",
       "      <td>NaN</td>\n",
       "      <td>NaN</td>\n",
       "      <td>NaN</td>\n",
       "      <td>NaN</td>\n",
       "      <td>NaN</td>\n",
       "      <td>NaN</td>\n",
       "    </tr>\n",
       "  </tbody>\n",
       "</table>\n",
       "<p>2 rows × 40 columns</p>\n",
       "</div>"
      ],
      "text/plain": [
       "          país Name país Code                                   serie Name   \n",
       "94   Nueva Zelandia       NZL        Crecimiento de la población (% anual)  \\\n",
       "111        Singapur       SGP  Crecimiento de la población rural (% anual)   \n",
       "\n",
       "         serie Code  1987 [YR1987]  1988 [YR1988]  1989 [YR1989]   \n",
       "94      SP.POP.GROW       0.861876       0.274482       0.480054  \\\n",
       "111  SP.RUR.TOTL.ZG            NaN            NaN            NaN   \n",
       "\n",
       "     1990 [YR1990]  1991 [YR1991]  1992 [YR1992]  ...  2013 [YR2013]   \n",
       "94        0.923223            NaN       1.041735  ...       0.768348  \\\n",
       "111            NaN            NaN            NaN  ...            NaN   \n",
       "\n",
       "     2014 [YR2014]  2015 [YR2015]  2016 [YR2016]  2017 [YR2017]   \n",
       "94        1.661012       2.036034       2.246032       2.088723  \\\n",
       "111            NaN            NaN            NaN            NaN   \n",
       "\n",
       "     2018 [YR2018]  2019 [YR2019]  2020 [YR2020]  2021 [YR2021]  2022 [YR2022]  \n",
       "94         1.79124       1.591159       2.204789       0.415622       0.248156  \n",
       "111            NaN            NaN            NaN            NaN            NaN  \n",
       "\n",
       "[2 rows x 40 columns]"
      ]
     },
     "execution_count": 14,
     "metadata": {},
     "output_type": "execute_result"
    }
   ],
   "source": [
    "df_poblacion[df_poblacion.isna().any(axis=1)]"
   ]
  },
  {
   "cell_type": "markdown",
   "metadata": {},
   "source": [
    "<h3>Imputamos valor nulo</h3>"
   ]
  },
  {
   "cell_type": "code",
   "execution_count": 15,
   "metadata": {},
   "outputs": [
    {
     "data": {
      "text/plain": [
       "país Name                               Nueva Zelandia\n",
       "país Code                                          NZL\n",
       "serie Name       Crecimiento de la población (% anual)\n",
       "serie Code                                 SP.POP.GROW\n",
       "1987 [YR1987]                                 0.861876\n",
       "1988 [YR1988]                                 0.274482\n",
       "1989 [YR1989]                                 0.480054\n",
       "1990 [YR1990]                                 0.923223\n",
       "1991 [YR1991]                                      NaN\n",
       "1992 [YR1992]                                 1.041735\n",
       "1993 [YR1993]                                 1.140231\n",
       "1994 [YR1994]                                 1.329237\n",
       "1995 [YR1995]                                 1.464364\n",
       "1996 [YR1996]                                 1.582662\n",
       "1997 [YR1997]                                 1.312358\n",
       "1998 [YR1998]                                  0.88728\n",
       "1999 [YR1999]                                 0.525485\n",
       "2000 [YR2000]                                 0.587564\n",
       "2001 [YR2001]                                 0.589286\n",
       "2002 [YR2002]                                 1.737175\n",
       "2003 [YR2003]                                 1.973559\n",
       "2004 [YR2004]                                 1.486219\n",
       "2005 [YR2005]                                 1.128774\n",
       "2006 [YR2006]                                 1.218985\n",
       "2007 [YR2007]                                 0.932408\n",
       "2008 [YR2008]                                 0.848701\n",
       "2009 [YR2009]                                 0.999728\n",
       "2010 [YR2010]                                 1.111726\n",
       "2011 [YR2011]                                  0.76248\n",
       "2012 [YR2012]                                 0.548221\n",
       "2013 [YR2013]                                 0.768348\n",
       "2014 [YR2014]                                 1.661012\n",
       "2015 [YR2015]                                 2.036034\n",
       "2016 [YR2016]                                 2.246032\n",
       "2017 [YR2017]                                 2.088723\n",
       "2018 [YR2018]                                  1.79124\n",
       "2019 [YR2019]                                 1.591159\n",
       "2020 [YR2020]                                 2.204789\n",
       "2021 [YR2021]                                 0.415622\n",
       "2022 [YR2022]                                 0.248156\n",
       "Name: 94, dtype: object"
      ]
     },
     "execution_count": 15,
     "metadata": {},
     "output_type": "execute_result"
    }
   ],
   "source": [
    "df_poblacion.iloc[94,:]"
   ]
  },
  {
   "cell_type": "code",
   "execution_count": 16,
   "metadata": {},
   "outputs": [],
   "source": [
    "df_poblacion.iloc[94,8] = (0.923223+1.041735)/2"
   ]
  },
  {
   "cell_type": "markdown",
   "metadata": {},
   "source": [
    "<h3>Eliminamos columnas que no usaremos</h3>"
   ]
  },
  {
   "cell_type": "code",
   "execution_count": 17,
   "metadata": {},
   "outputs": [],
   "source": [
    "df_poblacion = df_poblacion.drop(columns=[\"país Code\", \"serie Code\"])"
   ]
  },
  {
   "cell_type": "code",
   "execution_count": 18,
   "metadata": {},
   "outputs": [
    {
     "data": {
      "text/html": [
       "<div>\n",
       "<style scoped>\n",
       "    .dataframe tbody tr th:only-of-type {\n",
       "        vertical-align: middle;\n",
       "    }\n",
       "\n",
       "    .dataframe tbody tr th {\n",
       "        vertical-align: top;\n",
       "    }\n",
       "\n",
       "    .dataframe thead th {\n",
       "        text-align: right;\n",
       "    }\n",
       "</style>\n",
       "<table border=\"1\" class=\"dataframe\">\n",
       "  <thead>\n",
       "    <tr style=\"text-align: right;\">\n",
       "      <th></th>\n",
       "      <th>país Name</th>\n",
       "      <th>serie Name</th>\n",
       "      <th>Año</th>\n",
       "      <th>Valor</th>\n",
       "    </tr>\n",
       "  </thead>\n",
       "  <tbody>\n",
       "    <tr>\n",
       "      <th>0</th>\n",
       "      <td>Afganistán</td>\n",
       "      <td>Crecimiento de la población rural (% anual)</td>\n",
       "      <td>1987 [YR1987]</td>\n",
       "      <td>-2.043746</td>\n",
       "    </tr>\n",
       "    <tr>\n",
       "      <th>1</th>\n",
       "      <td>Afganistán</td>\n",
       "      <td>Crecimiento de la población (% anual)</td>\n",
       "      <td>1987 [YR1987]</td>\n",
       "      <td>-1.210190</td>\n",
       "    </tr>\n",
       "    <tr>\n",
       "      <th>2</th>\n",
       "      <td>Afganistán</td>\n",
       "      <td>Crecimiento de la población urbana (% anual)</td>\n",
       "      <td>1987 [YR1987]</td>\n",
       "      <td>2.128391</td>\n",
       "    </tr>\n",
       "    <tr>\n",
       "      <th>3</th>\n",
       "      <td>Alemania</td>\n",
       "      <td>Crecimiento de la población rural (% anual)</td>\n",
       "      <td>1987 [YR1987]</td>\n",
       "      <td>-0.649363</td>\n",
       "    </tr>\n",
       "    <tr>\n",
       "      <th>4</th>\n",
       "      <td>Alemania</td>\n",
       "      <td>Crecimiento de la población (% anual)</td>\n",
       "      <td>1987 [YR1987]</td>\n",
       "      <td>0.153618</td>\n",
       "    </tr>\n",
       "    <tr>\n",
       "      <th>...</th>\n",
       "      <td>...</td>\n",
       "      <td>...</td>\n",
       "      <td>...</td>\n",
       "      <td>...</td>\n",
       "    </tr>\n",
       "    <tr>\n",
       "      <th>4747</th>\n",
       "      <td>Kenya</td>\n",
       "      <td>Crecimiento de la población (% anual)</td>\n",
       "      <td>2022 [YR2022]</td>\n",
       "      <td>1.909510</td>\n",
       "    </tr>\n",
       "    <tr>\n",
       "      <th>4748</th>\n",
       "      <td>Kenya</td>\n",
       "      <td>Crecimiento de la población urbana (% anual)</td>\n",
       "      <td>2022 [YR2022]</td>\n",
       "      <td>3.680144</td>\n",
       "    </tr>\n",
       "    <tr>\n",
       "      <th>4749</th>\n",
       "      <td>Noruega</td>\n",
       "      <td>Crecimiento de la población rural (% anual)</td>\n",
       "      <td>2022 [YR2022]</td>\n",
       "      <td>-1.167614</td>\n",
       "    </tr>\n",
       "    <tr>\n",
       "      <th>4750</th>\n",
       "      <td>Noruega</td>\n",
       "      <td>Crecimiento de la población (% anual)</td>\n",
       "      <td>2022 [YR2022]</td>\n",
       "      <td>0.898395</td>\n",
       "    </tr>\n",
       "    <tr>\n",
       "      <th>4751</th>\n",
       "      <td>Noruega</td>\n",
       "      <td>Crecimiento de la población urbana (% anual)</td>\n",
       "      <td>2022 [YR2022]</td>\n",
       "      <td>1.306827</td>\n",
       "    </tr>\n",
       "  </tbody>\n",
       "</table>\n",
       "<p>4752 rows × 4 columns</p>\n",
       "</div>"
      ],
      "text/plain": [
       "       país Name                                    serie Name            Año   \n",
       "0     Afganistán   Crecimiento de la población rural (% anual)  1987 [YR1987]  \\\n",
       "1     Afganistán         Crecimiento de la población (% anual)  1987 [YR1987]   \n",
       "2     Afganistán  Crecimiento de la población urbana (% anual)  1987 [YR1987]   \n",
       "3       Alemania   Crecimiento de la población rural (% anual)  1987 [YR1987]   \n",
       "4       Alemania         Crecimiento de la población (% anual)  1987 [YR1987]   \n",
       "...          ...                                           ...            ...   \n",
       "4747       Kenya         Crecimiento de la población (% anual)  2022 [YR2022]   \n",
       "4748       Kenya  Crecimiento de la población urbana (% anual)  2022 [YR2022]   \n",
       "4749     Noruega   Crecimiento de la población rural (% anual)  2022 [YR2022]   \n",
       "4750     Noruega         Crecimiento de la población (% anual)  2022 [YR2022]   \n",
       "4751     Noruega  Crecimiento de la población urbana (% anual)  2022 [YR2022]   \n",
       "\n",
       "         Valor  \n",
       "0    -2.043746  \n",
       "1    -1.210190  \n",
       "2     2.128391  \n",
       "3    -0.649363  \n",
       "4     0.153618  \n",
       "...        ...  \n",
       "4747  1.909510  \n",
       "4748  3.680144  \n",
       "4749 -1.167614  \n",
       "4750  0.898395  \n",
       "4751  1.306827  \n",
       "\n",
       "[4752 rows x 4 columns]"
      ]
     },
     "execution_count": 18,
     "metadata": {},
     "output_type": "execute_result"
    }
   ],
   "source": [
    "df_melted = df_poblacion.melt(id_vars=['país Name', 'serie Name'], var_name='Año', value_name='Valor')\n",
    "df_melted"
   ]
  },
  {
   "cell_type": "markdown",
   "metadata": {},
   "source": [
    "<h3>Reorganizamos el dataframe</h3>"
   ]
  },
  {
   "cell_type": "code",
   "execution_count": 19,
   "metadata": {},
   "outputs": [
    {
     "data": {
      "text/html": [
       "<div>\n",
       "<style scoped>\n",
       "    .dataframe tbody tr th:only-of-type {\n",
       "        vertical-align: middle;\n",
       "    }\n",
       "\n",
       "    .dataframe tbody tr th {\n",
       "        vertical-align: top;\n",
       "    }\n",
       "\n",
       "    .dataframe thead th {\n",
       "        text-align: right;\n",
       "    }\n",
       "</style>\n",
       "<table border=\"1\" class=\"dataframe\">\n",
       "  <thead>\n",
       "    <tr style=\"text-align: right;\">\n",
       "      <th>serie Name</th>\n",
       "      <th>país Name</th>\n",
       "      <th>Año</th>\n",
       "      <th>Crecimiento de la población (% anual)</th>\n",
       "      <th>Crecimiento de la población rural (% anual)</th>\n",
       "      <th>Crecimiento de la población urbana (% anual)</th>\n",
       "    </tr>\n",
       "  </thead>\n",
       "  <tbody>\n",
       "    <tr>\n",
       "      <th>0</th>\n",
       "      <td>Afganistán</td>\n",
       "      <td>1987</td>\n",
       "      <td>-1.210190</td>\n",
       "      <td>-2.043746</td>\n",
       "      <td>2.128391</td>\n",
       "    </tr>\n",
       "    <tr>\n",
       "      <th>1</th>\n",
       "      <td>Afganistán</td>\n",
       "      <td>1988</td>\n",
       "      <td>0.586318</td>\n",
       "      <td>-0.275758</td>\n",
       "      <td>3.898014</td>\n",
       "    </tr>\n",
       "    <tr>\n",
       "      <th>2</th>\n",
       "      <td>Afganistán</td>\n",
       "      <td>1989</td>\n",
       "      <td>2.751877</td>\n",
       "      <td>2.637888</td>\n",
       "      <td>3.179585</td>\n",
       "    </tr>\n",
       "    <tr>\n",
       "      <th>3</th>\n",
       "      <td>Afganistán</td>\n",
       "      <td>1990</td>\n",
       "      <td>0.202434</td>\n",
       "      <td>0.089590</td>\n",
       "      <td>0.623574</td>\n",
       "    </tr>\n",
       "    <tr>\n",
       "      <th>4</th>\n",
       "      <td>Afganistán</td>\n",
       "      <td>1991</td>\n",
       "      <td>0.469880</td>\n",
       "      <td>0.356909</td>\n",
       "      <td>0.889255</td>\n",
       "    </tr>\n",
       "    <tr>\n",
       "      <th>...</th>\n",
       "      <td>...</td>\n",
       "      <td>...</td>\n",
       "      <td>...</td>\n",
       "      <td>...</td>\n",
       "      <td>...</td>\n",
       "    </tr>\n",
       "    <tr>\n",
       "      <th>1579</th>\n",
       "      <td>Venezuela</td>\n",
       "      <td>2018</td>\n",
       "      <td>-2.443543</td>\n",
       "      <td>-2.655330</td>\n",
       "      <td>-2.415197</td>\n",
       "    </tr>\n",
       "    <tr>\n",
       "      <th>1580</th>\n",
       "      <td>Venezuela</td>\n",
       "      <td>2019</td>\n",
       "      <td>-2.904996</td>\n",
       "      <td>-3.176733</td>\n",
       "      <td>-2.868725</td>\n",
       "    </tr>\n",
       "    <tr>\n",
       "      <th>1581</th>\n",
       "      <td>Venezuela</td>\n",
       "      <td>2020</td>\n",
       "      <td>-1.674986</td>\n",
       "      <td>-2.007172</td>\n",
       "      <td>-1.630797</td>\n",
       "    </tr>\n",
       "    <tr>\n",
       "      <th>1582</th>\n",
       "      <td>Venezuela</td>\n",
       "      <td>2021</td>\n",
       "      <td>-1.025179</td>\n",
       "      <td>-1.418423</td>\n",
       "      <td>-0.973083</td>\n",
       "    </tr>\n",
       "    <tr>\n",
       "      <th>1583</th>\n",
       "      <td>Venezuela</td>\n",
       "      <td>2022</td>\n",
       "      <td>0.360447</td>\n",
       "      <td>-0.094537</td>\n",
       "      <td>0.420433</td>\n",
       "    </tr>\n",
       "  </tbody>\n",
       "</table>\n",
       "<p>1584 rows × 5 columns</p>\n",
       "</div>"
      ],
      "text/plain": [
       "serie Name   país Name   Año  Crecimiento de la población (% anual)   \n",
       "0           Afganistán  1987                              -1.210190  \\\n",
       "1           Afganistán  1988                               0.586318   \n",
       "2           Afganistán  1989                               2.751877   \n",
       "3           Afganistán  1990                               0.202434   \n",
       "4           Afganistán  1991                               0.469880   \n",
       "...                ...   ...                                    ...   \n",
       "1579         Venezuela  2018                              -2.443543   \n",
       "1580         Venezuela  2019                              -2.904996   \n",
       "1581         Venezuela  2020                              -1.674986   \n",
       "1582         Venezuela  2021                              -1.025179   \n",
       "1583         Venezuela  2022                               0.360447   \n",
       "\n",
       "serie Name  Crecimiento de la población rural (% anual)   \n",
       "0                                             -2.043746  \\\n",
       "1                                             -0.275758   \n",
       "2                                              2.637888   \n",
       "3                                              0.089590   \n",
       "4                                              0.356909   \n",
       "...                                                 ...   \n",
       "1579                                          -2.655330   \n",
       "1580                                          -3.176733   \n",
       "1581                                          -2.007172   \n",
       "1582                                          -1.418423   \n",
       "1583                                          -0.094537   \n",
       "\n",
       "serie Name  Crecimiento de la población urbana (% anual)  \n",
       "0                                               2.128391  \n",
       "1                                               3.898014  \n",
       "2                                               3.179585  \n",
       "3                                               0.623574  \n",
       "4                                               0.889255  \n",
       "...                                                  ...  \n",
       "1579                                           -2.415197  \n",
       "1580                                           -2.868725  \n",
       "1581                                           -1.630797  \n",
       "1582                                           -0.973083  \n",
       "1583                                            0.420433  \n",
       "\n",
       "[1584 rows x 5 columns]"
      ]
     },
     "execution_count": 19,
     "metadata": {},
     "output_type": "execute_result"
    }
   ],
   "source": [
    "df_melted = df_poblacion.melt(id_vars=['país Name', 'serie Name'], var_name='Año', value_name='Valor')\n",
    "\n",
    "df_pivoted = df_melted.pivot_table(index=['país Name', 'Año'], columns='serie Name', values='Valor')\n",
    "\n",
    "df_pivoted.reset_index(inplace=True)\n",
    "\n",
    "df_pivoted[\"Año\"] = df_pivoted['Año'].str[:4]\n",
    "df_pivoted"
   ]
  },
  {
   "cell_type": "code",
   "execution_count": 20,
   "metadata": {},
   "outputs": [
    {
     "data": {
      "application/vnd.plotly.v1+json": {
       "config": {
        "plotlyServerURL": "https://plot.ly"
       },
       "data": [
        {
         "alignmentgroup": "True",
         "bingroup": "x",
         "hovertemplate": "Crecimiento de la población (% anual)=%{x}<br>count=%{y}<extra></extra>",
         "legendgroup": "",
         "marker": {
          "color": "#636efa",
          "pattern": {
           "shape": ""
          }
         },
         "name": "",
         "offsetgroup": "",
         "orientation": "v",
         "showlegend": false,
         "type": "histogram",
         "x": [
          -1.21019039755447,
          0.586318311683292,
          2.75187729340688,
          0.202433955671883,
          0.469880406765633,
          11.5225244151801,
          14.9644548746872,
          9.86426206628341,
          6.04653555233991,
          4.1030220499493,
          3.9106052193522,
          3.88293060489748,
          4.07787948472197,
          1.4438030241194,
          0.742516834396313,
          6.44932147797304,
          7.54101896480183,
          3.93317768847308,
          3.57650800354462,
          4.13967803534352,
          1.79319572747206,
          2.00233326232255,
          3.56128837446668,
          2.89490410370988,
          3.68950830230738,
          4.07762772858795,
          3.46678830410982,
          3.65757606530364,
          3.12134122890873,
          2.58154939895659,
          2.86649214750073,
          2.88520797304849,
          2.90852909268743,
          3.13474690779163,
          2.85135765449931,
          2.53449831666733,
          0.15361757528619,
          0.390678960242038,
          0.773336990610757,
          0.861969448764933,
          0.728605546561364,
          0.760346946721127,
          0.657391218087626,
          0.346856648630233,
          0.293904443716697,
          0.289474899455448,
          0.146313281561803,
          0.0151436508552808,
          0.0646345779052372,
          0.135431600393084,
          0.168225361337335,
          0.168128319406931,
          0.0553633035873241,
          -0.021709727650009,
          -0.0567782618352031,
          -0.112797497644931,
          -0.133718572600486,
          -0.190142844695674,
          -0.253383410163402,
          -0.153198446937304,
          -1.8537146287573,
          0.187727800567293,
          0.272900214681538,
          0.416877359168292,
          0.865702643950251,
          0.807218538573871,
          0.373724559895838,
          0.300526701992065,
          0.22551987421288,
          0.0816931586494595,
          0.0423270572552137,
          1.05662714139991,
          4.39954726349984,
          4.33290626153224,
          4.254562793708,
          4.15606854882255,
          3.97806348318271,
          3.69608850528346,
          3.21773399392479,
          2.87790976793156,
          2.79878485344488,
          2.72306511533867,
          2.68435444077485,
          2.64400627971485,
          2.58959021202502,
          2.52723635699494,
          2.46860133878166,
          2.40447229697642,
          2.30459354525526,
          2.18309041865558,
          3.06242987376478,
          3.95879667991777,
          3.92920488472079,
          3.85387472835296,
          3.74300660963915,
          3.20649410639241,
          2.4815925615212,
          2.19976275661053,
          2.12178788388145,
          2.02203271109992,
          1.92462213676111,
          2.014458627481,
          2.29816056079707,
          2.38415003117342,
          2.28458901092139,
          0.472667096302666,
          -0.129847471045763,
          1.2670953577821,
          3.02828554053134,
          2.74710605415951,
          2.63176506303593,
          2.4940676377263,
          2.3846528039865,
          2.32375186283265,
          2.24036926865414,
          2.10774651269655,
          1.91804419938335,
          1.76331956063309,
          1.68115971162844,
          1.51057323725397,
          1.39842912410864,
          1.40229085828763,
          1.37593080261361,
          1.34886695233422,
          1.35423891111813,
          1.40727321515229,
          1.36408196251206,
          1.44113729642515,
          1.62790867702938,
          1.70897167476718,
          1.79590393152832,
          1.85870199052442,
          1.89839428094337,
          1.94310213435967,
          1.9667158178046,
          1.97904881035906,
          1.99994605069585,
          1.99343168879913,
          1.95700247075081,
          1.9033254281097,
          1.83944488568624,
          1.73245672803153,
          1.65770320084269,
          1.62833925417918,
          1.51097418180074,
          1.50808699373212,
          1.48765537832153,
          1.45640251463185,
          1.42406315580335,
          1.38743464174592,
          1.35796579095645,
          1.34702378575008,
          1.31755424518083,
          1.26041058779251,
          1.19826447409119,
          1.15817763601349,
          1.15204385364535,
          1.13327702210541,
          1.0991714603689,
          1.07353834961783,
          1.03236085902218,
          1.01533668354561,
          1.03347622351885,
          1.03467173566483,
          1.00629733064648,
          0.992294094354656,
          1.01428389337816,
          0.255582398485167,
          1.15305928006386,
          1.13690569378967,
          1.11910919999772,
          1.09946109101836,
          1.07800134449604,
          1.05718157762752,
          1.03713389686514,
          1.01580834908002,
          0.993397493293046,
          0.970053991438048,
          0.947490959333989,
          0.925835473662058,
          1.52113890433154,
          1.63614876307642,
          1.69287969389346,
          1.48004693689661,
          1.2746217855676,
          1.11959770147047,
          0.889539825558206,
          0.963092494678111,
          1.11373422085118,
          1.21385498322201,
          1.0820399195962,
          0.996734717801419,
          1.09397580294231,
          1.14447285147721,
          1.28396809127349,
          1.1375387361946,
          1.15019273319182,
          1.06919812205752,
          1.21729073052406,
          1.34945083098893,
          1.82499679529254,
          2.00391140524272,
          2.06083316277243,
          1.55570626204128,
          1.38952731561803,
          1.74582000067359,
          1.721151439989,
          1.49156648912847,
          1.43921665259925,
          1.56194049810399,
          1.65339053503068,
          1.50299298221362,
          1.48520844681971,
          1.23570107988933,
          0.127728295728263,
          1.12589851822075,
          0.0632842039083754,
          0.141570850318539,
          0.450513899730364,
          0.762001611316115,
          0.998418103144403,
          1.10055228652823,
          0.824627940995206,
          0.384869546678302,
          0.153106260702748,
          0.135019833748789,
          0.113316608322994,
          0.109728368100981,
          0.194563153264961,
          0.240466652446524,
          0.382799394483217,
          0.49198046425522,
          0.487133894826838,
          0.620413127334181,
          0.681267248299787,
          0.494797775098466,
          0.324146535285463,
          0.313041437661508,
          0.261953189906348,
          0.240394299500766,
          0.337080841831645,
          0.45593747231891,
          0.589387254692989,
          0.781541632525841,
          1.12099250236958,
          1.08139629872802,
          0.694621103604983,
          0.487071924768999,
          0.444673639004876,
          0.415176731565556,
          0.435671684056384,
          0.963774921741706,
          2.00135198055614,
          1.93785203770648,
          1.87515725979579,
          1.80985576444804,
          1.7300615647074,
          1.65853493143757,
          1.61616519320128,
          1.5901570368766,
          1.56236694760604,
          1.53046546832903,
          1.50015143980194,
          1.46833970853954,
          1.42022228691432,
          1.36677132973907,
          1.32069475807143,
          1.26284153622856,
          1.18566943930002,
          1.13939301199192,
          1.11720287765336,
          1.07735384590771,
          1.03202723327326,
          0.987284202776065,
          0.953147864558066,
          0.93941802248079,
          0.928589629509177,
          0.900343360601223,
          0.868346150167205,
          0.857834828724811,
          0.845992601345206,
          0.8112564782781,
          0.79226340042227,
          0.793768153848091,
          0.766107802084815,
          0.665176682246802,
          0.528590452919416,
          0.459583548488331,
          2.73010305749971,
          2.67549497570305,
          2.63714361455066,
          2.61991248147088,
          2.52714173284372,
          2.46263964821394,
          2.4850766675275,
          2.52059733150845,
          2.56324294246536,
          2.55512095673786,
          2.56669704135617,
          2.74887688045847,
          2.92518416489156,
          2.98388558736392,
          3.04072894648829,
          3.07479003510637,
          3.10451751268277,
          3.13802065225682,
          3.14899280596388,
          3.12248153649463,
          3.03278641140169,
          2.94356863526933,
          2.9314075345183,
          2.93926755839508,
          2.96973830872596,
          3.03188007722477,
          3.00842195462805,
          2.97977849923872,
          2.97234560821631,
          2.93481128912484,
          2.86565542084027,
          2.76868116258088,
          2.70387556725288,
          2.68878766730686,
          2.65037591522147,
          2.55998839127434,
          4.0202603714537,
          3.62214017019268,
          3.57681049562267,
          3.8888910533693,
          3.83702258012232,
          4.83668118364296,
          5.26462795865572,
          3.76294227795416,
          2.62750839404899,
          2.38073259847866,
          2.20186668030533,
          2.05636127552475,
          1.95125157344804,
          1.83064817889597,
          1.79381433398266,
          1.79592987916956,
          1.78257622928652,
          1.77233194606874,
          1.75317594902836,
          1.73026969167735,
          1.74325561857738,
          1.65663905731394,
          1.50789194873236,
          1.45722988351436,
          1.4538734073168,
          1.44928419333369,
          1.43049971596447,
          1.3977751944463,
          1.34979002036239,
          1.33408515743887,
          1.3104826630319,
          1.22144565921597,
          1.13244216195679,
          1.16005769739725,
          1.16513584860257,
          1.07216738142292,
          1.31816778174498,
          1.29662488995999,
          1.79419351491939,
          1.50766067284807,
          1.24276123131684,
          1.18367554138942,
          1.09893087887878,
          1.09525810706129,
          1.03476948386834,
          1.04531178311831,
          0.993788591465188,
          0.829909353323744,
          0.812842623716166,
          0.931281553452429,
          1.08635096562717,
          1.08744792718674,
          0.901372739095955,
          0.933020777495183,
          0.944466927450734,
          1.01033450270045,
          0.971135141368055,
          1.08290711607014,
          1.14175809912162,
          1.11186407517168,
          0.978697786570341,
          1.08581726304756,
          1.05659125917789,
          1.00533757867378,
          0.746339477969813,
          1.13234865466606,
          1.19952071057872,
          1.41245586917998,
          1.43613682316886,
          1.0737958268224,
          0.575421916470359,
          1.82337042206996,
          3.50725628946566,
          3.37917645549863,
          3.36389559463814,
          2.72158466618937,
          3.62917884079971,
          4.22080520943326,
          2.27994585581428,
          2.219474819994,
          4.38968567248508,
          4.42164083680175,
          3.42098990748474,
          3.40720540478119,
          3.47717052460942,
          3.41450024149477,
          3.3300848498951,
          3.44814062098756,
          3.97060486574728,
          4.43602666694242,
          3.99174947439079,
          3.54078145175603,
          3.38718987073326,
          3.44588600538683,
          3.51855423082844,
          3.40849096495518,
          3.49444952100308,
          3.48762940257558,
          3.55701932397684,
          3.56998546576354,
          3.18410081276683,
          3.14864850561675,
          3.32459491646661,
          3.37812774879537,
          3.29458272753979,
          3.16053305963688,
          3.16388750517031,
          3.11502218647071,
          1.6036050865576,
          1.61007108578698,
          1.53316999599862,
          1.46730321087928,
          1.36443400840349,
          1.2255362283362,
          1.14961943083465,
          1.13026063215591,
          1.08650915088974,
          1.04814151412165,
          1.02345002419879,
          0.959550406298151,
          0.865851392993279,
          0.787956592953992,
          0.726380637838525,
          0.669999567758626,
          0.622860936133583,
          0.593932815112141,
          0.588124989556992,
          0.558374367373002,
          0.522271866392275,
          0.51238693163744,
          0.497381400884935,
          0.482959688678361,
          0.546457594880274,
          0.678345458846803,
          0.666072977690069,
          0.630326389541893,
          0.581456146657648,
          0.573050906069647,
          0.605245013482969,
          0.467672053461959,
          0.354740890170827,
          0.238040870229883,
          0.0892522000412526,
          -0.0130995013525784,
          2.12330820360553,
          2.11350051754997,
          2.10958011736201,
          2.10245993310484,
          2.03800594708786,
          1.98308677402728,
          1.9713513727806,
          1.94749136422042,
          1.89336934967888,
          1.82497516949853,
          1.78395611076054,
          1.73449209300479,
          1.6742155832136,
          1.61983140551157,
          1.57553237214944,
          1.53486691614177,
          1.48113157054236,
          1.42817053070487,
          1.36565233876962,
          1.29886517669187,
          1.23996744251378,
          1.16787354604705,
          1.13154130595269,
          1.12688471543895,
          1.09358307436582,
          1.03966499994087,
          0.990034781454962,
          0.947136923375947,
          0.941994067106625,
          1.068611890834,
          1.51228960592288,
          1.89558675057496,
          1.83074694246543,
          1.47010203160178,
          1.14382091580962,
          0.691481571303501,
          2.65920370774586,
          2.59431605634214,
          2.55060236009875,
          2.54138328976122,
          2.53734226281102,
          2.51561993414361,
          2.48055361450883,
          2.43045420119032,
          2.37065492148785,
          2.30683799579665,
          2.24971306873938,
          2.1691556368856,
          2.07208096201444,
          1.97358823214158,
          1.84330854695316,
          1.69774908835068,
          1.58793253810516,
          1.52086528848105,
          1.47252758666781,
          1.43284202712965,
          1.40273700394929,
          1.38455388597677,
          1.35039395502168,
          1.2873898093698,
          1.24002656207939,
          1.20358030533586,
          1.1532718484809,
          1.09494595424381,
          1.04634340433544,
          1.01547072688832,
          0.978713315995535,
          0.934615300864476,
          0.865128346659953,
          0.755771068349343,
          0.600406861056438,
          0.520031291578434,
          0.889299371946265,
          0.949519196209417,
          0.971284736225984,
          0.940667100149927,
          0.816593021196379,
          0.650643577416863,
          0.528896871696659,
          0.425927555927014,
          0.362117961970617,
          0.331918454121758,
          0.319637304062581,
          0.323431497801001,
          0.32877557025507,
          0.32194458830191,
          0.299718119482692,
          0.277231369135209,
          0.260768627095581,
          0.232575967917871,
          0.185302193413535,
          0.128992465660705,
          0.0821729969258322,
          0.0596278925041623,
          0.0582984063263004,
          0.0640748450108155,
          0.0734247089104104,
          0.0935951943767368,
          0.108603882669157,
          0.0922325673162479,
          0.069407446002465,
          0.0186756792498581,
          -0.0494478967755684,
          -0.0720152370566522,
          -0.101983052203958,
          -0.141475202325743,
          -0.393012541562472,
          -0.393269982974889,
          0.126664340279044,
          0.0485933862498549,
          0.0599876651546732,
          0.162456320242469,
          0.259518212115074,
          0.330671401713551,
          0.333166395661953,
          0.337707376243322,
          0.520962181078711,
          0.565926341934592,
          0.415564969331455,
          0.363162523600756,
          0.330886246186545,
          0.334233618829261,
          0.358315678955486,
          0.319487125340996,
          0.272010444031566,
          0.258432282052875,
          0.275481733409308,
          0.328645158919929,
          0.443466054321374,
          0.587547590258978,
          0.535079062079429,
          0.444197154509531,
          0.411737855195019,
          0.376272242619955,
          0.416901360752097,
          0.507053283010163,
          0.706423849687002,
          0.780392644135167,
          0.643350903737356,
          0.495838925879129,
          0.358130915892652,
          0.291641177476633,
          0.433414489409722,
          0.787502464739957,
          2.49010341073397,
          2.44095573667987,
          2.38264315468184,
          2.32006286999306,
          2.23742019192721,
          2.11061272814707,
          1.98316014835116,
          1.91125393924022,
          1.8685590602886,
          1.83009674212617,
          1.78952275457463,
          1.75181516385725,
          1.72566651819784,
          1.71308817043169,
          1.71968558942167,
          1.73709315382378,
          1.7486932014909,
          1.73957986039204,
          1.72443317741318,
          1.72111503482542,
          1.7181335805958,
          1.70420581194769,
          1.68247933289289,
          1.66031048053538,
          1.64188311720888,
          1.60252187198822,
          1.5324232376039,
          1.48359860231919,
          1.47983523757956,
          1.49338987255655,
          1.55335626648726,
          1.89090930713133,
          1.90968326333656,
          1.40190462603926,
          1.18206337539033,
          1.13559975243065,
          2.71823653037365,
          2.72021662533725,
          2.66659415952819,
          2.5648085572032,
          2.41133033369101,
          2.32406409289331,
          2.29563116641862,
          2.24505067418641,
          2.19172285065762,
          2.15573650351395,
          2.15540119420392,
          2.14462708535911,
          2.11332015702818,
          2.07183470577985,
          2.0564198428314,
          2.09110329331686,
          2.08785646198219,
          2.03166566101876,
          1.98334143708702,
          1.94660064062847,
          1.95167431348286,
          1.95838290327697,
          1.95615522230144,
          2.02763965508429,
          2.20764281063758,
          2.26158734403113,
          2.31570750353087,
          2.34379305041137,
          2.20525980686911,
          2.08630284573945,
          1.98976849465685,
          1.89893076814734,
          1.79400212546566,
          1.73312957205986,
          1.65838367949689,
          1.56907383039584,
          7.04566354989878,
          6.61502192954251,
          6.22605569049676,
          5.86903318464931,
          5.53965639945375,
          5.23067555863232,
          4.9348705828098,
          4.64639135932791,
          4.40817686960834,
          5.54384709828192,
          6.52191067880396,
          6.17818855537547,
          5.86451455757029,
          5.58038700101525,
          5.31707596147158,
          5.06487258360989,
          4.82934268529322,
          4.609526743863,
          6.95572689795874,
          13.4836720911499,
          18.1279839755253,
          17.3990859957442,
          13.4229206026704,
          5.93976536580988,
          1.09556271332912,
          1.04134460783085,
          0.997641825826328,
          0.956397623844095,
          0.911950036242349,
          0.863868922846647,
          0.819744473334198,
          0.789450107726376,
          0.779087177439076,
          0.817694385518168,
          0.834812788038646,
          0.808075150558113,
          0.259329063201825,
          0.212064999269184,
          0.156776197618463,
          0.101828842607043,
          0.254527424551043,
          0.48975790543999,
          0.518543520866421,
          0.476100555169168,
          0.441365749537872,
          0.416515798212804,
          0.41911951720212,
          0.413847481113965,
          0.405323025522848,
          0.447137014535835,
          0.694068084334464,
          1.41259540475782,
          1.80845446818345,
          1.7254663034483,
          1.68934904712031,
          1.69035255626114,
          1.85108130845179,
          1.59533049906372,
          0.88573598057307,
          0.460408305051304,
          0.355338396471428,
          0.0649259625617232,
          -0.327669039579687,
          -0.298951059088036,
          -0.077588861590047,
          0.0844301500680736,
          0.234587922968563,
          0.437982993728698,
          0.717715637103499,
          0.488502131838585,
          0.105706398137095,
          0.419409971667468,
          0.893829201032046,
          0.907999040167679,
          0.944405555428529,
          1.12965052045579,
          1.33626074073779,
          1.38688569247935,
          1.31867999977741,
          1.2262960888682,
          1.19078709090209,
          1.16341161998189,
          1.20396029701272,
          1.16571452642589,
          1.14834004729055,
          1.11276899679534,
          0.989741382223669,
          0.927797485710314,
          0.859481712840946,
          0.925483968943482,
          0.921713167161207,
          0.964253917136075,
          0.951055242772428,
          0.945865287282592,
          0.876651298802912,
          0.829616674709795,
          0.726786704810745,
          0.733599941250847,
          0.692860276624581,
          0.733361519937424,
          0.73621730882542,
          0.724676067451429,
          0.63264399508256,
          0.526435395564053,
          0.455381285963537,
          0.964347900193196,
          0.156747054750178,
          0.377564531459432,
          0.697384550046896,
          0.648303809439665,
          0.586603532881112,
          0.168018341182166,
          0.286681129515534,
          0.0969789790408762,
          -0.0534820276606834,
          -0.0342679070319955,
          -0.0216487632128753,
          -0.145451546598357,
          -0.165341653753189,
          -0.165486143348056,
          -0.309278191504336,
          -0.420614990249978,
          -0.424090524785415,
          -0.460024258081391,
          -0.453780668020263,
          -0.402681471328549,
          -0.381452794741516,
          -0.327445270108383,
          -0.17108203294568,
          -0.0439492591634852,
          0.0301077605196216,
          0.0448957880908489,
          0.077981777433695,
          0.168305035277726,
          0.212950704549247,
          0.217642262118,
          0.192557946508244,
          0.170245238698228,
          0.106870569429971,
          -0.0130668924933287,
          -0.0495686654330689,
          -0.230950388878624,
          -0.43395152847745,
          0.0741798900517637,
          1.61880236236793,
          1.2628298852371,
          1.08440864512957,
          0.994899825536046,
          0.562463230476735,
          0.257938885422665,
          0.296816893960149,
          0.203164498258415,
          0.182306473098269,
          0.540288729079706,
          1.00356220718326,
          1.15847943080594,
          1.15735741455603,
          1.09752051437681,
          1.05280543999033,
          1.01360189605196,
          0.985257329508455,
          0.972529404319471,
          0.94499091797119,
          0.928331143605677,
          0.853009376352656,
          0.680664088099223,
          0.517432196093315,
          0.419141607071656,
          0.351360475814814,
          0.297238780271001,
          0.262426487072664,
          0.230397589525045,
          0.178965105930181,
          0.127589742794731,
          0.0705348376627642,
          -0.00250269992369218,
          -0.0577971466911964,
          0.212846220439299,
          0.45397664568484,
          0.556091460082176,
          0.283626731803862,
          0.290689051012441,
          0.361018799003539,
          0.443382073914297,
          0.546172018187903,
          0.561909850746084,
          0.483854088858285,
          0.431048902829755,
          0.381655333457214,
          0.328037913627481,
          0.297377330426395,
          0.265472962436301,
          0.232116249119004,
          0.2076065154133,
          0.227687341886374,
          0.242381050233372,
          0.238457240068217,
          0.290350361518584,
          0.342248594286999,
          0.383777136305104,
          0.425429832100631,
          0.465549284507694,
          0.478246393482911,
          0.457494535465831,
          0.463558707499131,
          0.475809486683209,
          0.460723772785295,
          0.413560207519414,
          0.329383885818507,
          0.287421401687637,
          0.234670531705453,
          0.132641040791912,
          0.110191690491055,
          0.143641197212847,
          0.207288594407348,
          0.285874176039593,
          0.334358494429305,
          0.363197987305088,
          0.5218509800862,
          1.05780801198192,
          1.20035253672646,
          0.76388272245526,
          0.588261919240559,
          0.500703437870186,
          0.467197289199787,
          0.44067053086068,
          0.493267144825827,
          0.554211902922578,
          0.383471311618576,
          0.409041838238246,
          0.51988446396193,
          0.366566462148184,
          0.238643175320258,
          0.247413542822812,
          0.293249074052818,
          0.30033180096664,
          0.254757581935775,
          0.265457836726293,
          0.263026401346927,
          0.128880432668041,
          -0.147951277402184,
          -0.540752950543684,
          -0.725120806658085,
          -0.666113290031891,
          -0.658861360878339,
          -0.415913028277122,
          -0.197783224759792,
          -0.202880238259165,
          -0.105339392724138,
          -0.214592106571664,
          -0.537756534706951,
          -0.704367995268749,
          2.21094603012958,
          2.184281790986,
          2.16921748136657,
          2.14114053890499,
          2.10189105362679,
          2.07434424472354,
          2.04783736093956,
          2.02085601987654,
          1.99187122902055,
          1.95143550144522,
          1.91926259528322,
          1.88755786468172,
          1.8493332514954,
          1.82218400218023,
          1.80844642123748,
          1.77676787418134,
          1.72426903226703,
          1.67281087022876,
          1.60412916927926,
          1.52430796041014,
          1.46637175001498,
          1.42239150883577,
          1.39119493033754,
          1.37759581159767,
          1.36158808453343,
          1.33219204981494,
          1.29754883539168,
          1.24036218382689,
          1.18779532005068,
          1.18504622906796,
          1.15562449067646,
          1.08752772157855,
          1.02531077187097,
          0.95522085775158,
          0.797216093898126,
          0.680372581057012,
          0.482035496974784,
          0.416110342195181,
          0.399761164504292,
          0.33178288536374,
          0.392819832481862,
          0.371192387198527,
          0.32416759914373,
          0.279192363973672,
          0.234590173412918,
          0.226884732460898,
          0.238271217591483,
          0.271729610231193,
          0.182586374140107,
          0.167275578113187,
          0.240952587521069,
          0.232527187105684,
          0.213980948779682,
          0.0336622582725446,
          0.00939209655766336,
          0.0633735894181335,
          0.114908847726211,
          0.0484253945978966,
          -0.0124946312294096,
          0.0179605415195644,
          -0.185226486410846,
          -0.159710675844347,
          -0.144271883387076,
          -0.132694222147042,
          -0.106124993746747,
          -0.0511374152133631,
          -0.081874296046114,
          -0.126880068088791,
          -0.140464977878172,
          -0.294194617750067,
          -0.459952415807642,
          -0.443851919148528,
          3.51480018991794,
          3.50098905227389,
          3.46143657685424,
          3.40083169114175,
          3.21165201895544,
          3.03679051921495,
          2.94184248128658,
          2.87998841109113,
          2.8093665377808,
          2.70647369514666,
          2.67442877916419,
          2.68916027366031,
          2.80126932153904,
          2.91544684198394,
          3.02882685482353,
          3.03360977756994,
          2.96744335273422,
          2.98951543624097,
          2.97658073983056,
          2.97471111652036,
          2.96582480091057,
          2.97884515479232,
          2.96069187652137,
          2.8175240671163,
          2.65543505812038,
          2.52595644302294,
          2.40993136403743,
          2.2941780158286,
          2.20032211952888,
          2.20214556198549,
          2.17570842690355,
          2.03273400450275,
          1.97845694844255,
          2.00970011079671,
          1.94276128252757,
          1.90951031059953,
          1.97596762086305,
          1.87516165815164,
          1.78624203551582,
          1.7353448117643,
          1.68397154027355,
          1.63767566233961,
          1.58613440097231,
          1.51814756348818,
          1.50568181853375,
          1.4927847173982,
          1.46345525327148,
          1.43040873226662,
          1.37640231495404,
          1.33056292746569,
          1.30709067761953,
          1.27670558488657,
          1.21926266518875,
          1.2458784781145,
          1.31905268782034,
          1.30947924386268,
          1.28772191974814,
          1.28003720148764,
          1.28110624620562,
          1.30835154510463,
          1.34266554348538,
          1.35377246657382,
          1.34423384293623,
          1.3080629397791,
          1.25305827289905,
          1.22317023430594,
          1.1916294240897,
          1.1178970270223,
          1.04358412669917,
          1.05316017914606,
          1.05148431222073,
          1.02339197878946,
          1.72869101147886,
          1.71119463203751,
          1.68642181558025,
          1.83597705013042,
          1.97637378547817,
          1.9503084540285,
          1.92882635968047,
          1.90443531542116,
          1.85680777986673,
          1.78129571544977,
          1.72818289567839,
          1.68579338254176,
          1.64054838334199,
          1.58455078746177,
          1.54194113014521,
          1.52045522318023,
          1.48740053113001,
          1.4696529746789,
          1.42951167105736,
          1.36053857389621,
          1.31623681916458,
          1.26753574174522,
          1.23674369230562,
          1.32657895725526,
          1.4276397653994,
          1.39661546186197,
          1.317160792789,
          1.2414667155537,
          1.16700884975484,
          1.13323428792033,
          1.08042073770937,
          0.951668643927897,
          0.860265089734684,
          0.727243815691995,
          0.559420832085433,
          0.628607802526073,
          2.14704551986528,
          2.13003190596312,
          2.24133395928996,
          2.43269712899839,
          2.58773592139474,
          2.79868010780257,
          2.69367175707009,
          2.44957049747449,
          2.31673069074833,
          2.12207067308082,
          2.02228818254512,
          1.93354037736176,
          1.83855256851984,
          1.70977588565454,
          1.6018374486186,
          1.49583260634063,
          1.37502669708874,
          1.24233141085399,
          1.07535927644443,
          0.885774450092644,
          0.731449423498353,
          0.626509658660505,
          0.539422885134866,
          0.496881283325948,
          0.385214210038506,
          0.235525469173116,
          0.185921856916927,
          0.293747924382451,
          0.538270619899636,
          0.90447404681918,
          1.14995372279388,
          1.1405493652354,
          1.13635160669166,
          1.77426805557613,
          2.31172371212952,
          1.69224660146888,
          0.468049546752802,
          0.537922759339233,
          0.412807534785616,
          0.344151412835214,
          0.476503585004921,
          0.577180268126687,
          0.5952293301816,
          0.569388227765026,
          0.519125519812519,
          0.506881682762136,
          0.54221993602931,
          0.595410343346654,
          0.684759433412698,
          0.649044821192665,
          0.506046910557235,
          0.539290805050494,
          0.586532691986894,
          0.590930939690253,
          0.681072964187373,
          0.805392739160981,
          1.03473451527827,
          1.24633301535167,
          1.2611272893768,
          1.24566617956207,
          1.297189390693,
          1.31344098868985,
          1.20914158930136,
          1.12773667734928,
          0.995084736958414,
          0.880969815359919,
          0.807673181884948,
          0.660090844249,
          0.675061373245644,
          0.588757324043059,
          0.534772281874925,
          0.898395220610608,
          0.861875993248055,
          0.274482468222468,
          0.480054396222279,
          0.92322272881111,
          0.9824790000000001,
          1.04173538422176,
          1.14023110662887,
          1.32923733494336,
          1.46436378746179,
          1.58266192727998,
          1.31235828649882,
          0.887279888633483,
          0.525484536213216,
          0.587564086381346,
          0.589286034969052,
          1.73717486434422,
          1.97355854434158,
          1.48621908244575,
          1.12877350967992,
          1.21898486028427,
          0.932407687512324,
          0.848701402422591,
          0.999728031208421,
          1.1117260560215,
          0.762479795105218,
          0.548220797298334,
          0.768347998194806,
          1.66101200071152,
          2.0360339086492,
          2.24603210015584,
          2.08872272281936,
          1.79124016759035,
          1.59115889619722,
          2.20478869594563,
          0.415621677337565,
          0.248156055246315,
          3.03416672053803,
          3.0392872021459,
          3.0502491493597,
          3.0884637933207,
          3.10507190767746,
          3.11277645830288,
          3.15410250429525,
          3.21380051668598,
          3.32127674930526,
          3.36659163498146,
          3.33553203112791,
          3.37956145442033,
          3.41011370974371,
          3.42375005583503,
          3.45653213318518,
          3.47215473567164,
          3.50446100307726,
          3.54918298730086,
          3.58817494323712,
          3.61442583471313,
          3.64120636284668,
          3.67254476327787,
          3.70117077417358,
          3.73070315116356,
          3.74672017840573,
          3.810576036689,
          3.81820594100195,
          3.78117877025801,
          3.82885938381233,
          3.86709120542471,
          3.82693398223338,
          3.78759649907003,
          3.76544488542259,
          3.72710072523223,
          3.70742378461307,
          3.71298781842953,
          0.634526879264155,
          0.646096227552241,
          0.59990721305618,
          0.688603823438797,
          0.788031035375139,
          0.756056593396787,
          0.696991330125143,
          0.602938474274189,
          0.49392737251493,
          0.461395747607711,
          0.514767002117464,
          0.616640530679659,
          0.665493187073143,
          0.714770362784392,
          0.754840057734904,
          0.638291666268526,
          0.471814398788212,
          0.347475412048658,
          0.23366314793854,
          0.160613668857538,
          0.217521601194242,
          0.389292461499527,
          0.514284544827762,
          0.512923100553586,
          0.466428782200821,
          0.370055034770235,
          0.294820793441482,
          0.359828172726548,
          0.443220089035769,
          0.532178879608489,
          0.591203366164118,
          0.583933408920832,
          0.65507157480522,
          0.55554079025497,
          0.523490508168757,
          0.965187157604983,
          0.212637260699709,
          0.222063893961785,
          0.260311450078262,
          0.298930554095876,
          0.309247932319381,
          0.270431182081877,
          0.239745439286479,
          0.254586486858912,
          0.264547416858702,
          0.254626384215086,
          0.257553323280351,
          0.291406085432392,
          0.333405882184416,
          0.357300887421605,
          0.384975969564228,
          0.423337079636281,
          0.465641113602993,
          0.568943113421317,
          0.68661130607346,
          0.73504867842129,
          0.778666112441256,
          0.787032622318939,
          0.756390859593407,
          0.783888646646516,
          0.781506562236639,
          0.695353132322269,
          0.669740535540783,
          0.736463978721671,
          0.792367505802859,
          0.757874492811929,
          0.679374473924223,
          0.605929132212552,
          0.564131113399897,
          0.365758263815142,
          -0.0819253049161613,
          -0.0819252846341849,
          3.59766169671716,
          3.18725478939529,
          2.66757702027772,
          2.4615927974137,
          2.23868589939967,
          2.26554307510296,
          3.18151530970022,
          -16.0491526157981,
          -16.8806296708643,
          16.6255019779963,
          13.2470672505578,
          3.18243918155598,
          1.19243584222433,
          1.24573125745531,
          1.39530227863448,
          1.78798197593577,
          2.31040451162765,
          2.57920977781251,
          2.63169301631945,
          2.66480719140037,
          2.6937067262308,
          2.68159866469225,
          2.64057029628242,
          2.6071051025344,
          2.56550960901795,
          2.45984040638473,
          2.3792915199656,
          2.3775340228914,
          2.38595568459796,
          2.44299698959529,
          2.47880785239257,
          2.43503841544025,
          2.39079436618151,
          2.3967070500013,
          2.3717515483557,
          2.31160323907511,
          0.244943659379074,
          0.406313671412085,
          0.258843460816501,
          0.178533218884814,
          0.30574073868909,
          0.648746736176714,
          0.916289338813238,
          1.0131622450568,
          1.03159166478529,
          1.03011305788199,
          1.03025209235978,
          1.02639870453636,
          1.00719006069827,
          0.981387870498847,
          0.82373591140834,
          0.591145315625182,
          0.433074700450214,
          0.337139113464018,
          0.293603326396777,
          0.39840795546279,
          0.578640418070375,
          0.684867888236991,
          0.721630924369264,
          0.771440058555094,
          0.858778291222582,
          0.898922334287627,
          0.911922272588174,
          0.905168292851843,
          0.895083542746833,
          0.964528455768062,
          1.00975265821375,
          0.992505709183727,
          1.04553544180183,
          1.41696799990075,
          1.76857821590665,
          1.64031006593833,
          2.69432128183629,
          2.70753463158463,
          2.50635793327127,
          3.91879952364396,
          1.21287531143333,
          -1.76514580106588,
          -0.136718078396713,
          0.447447057726631,
          0.212892577799668,
          0.535570653886934,
          1.31755512245558,
          1.0151862403732,
          0.564027525167457,
          2.40478419249569,
          5.785413309402,
          5.66343352057259,
          4.01910155879324,
          3.35235443124014,
          2.6748408801911,
          2.20036392928469,
          2.20265426987169,
          2.52210725035976,
          2.73656583182459,
          2.78607305276662,
          2.6928730024304,
          2.62984140386497,
          2.56345431818352,
          2.49317673033998,
          2.40868716120881,
          2.4195089151865,
          2.42113485779471,
          2.36471306664028,
          2.33284062492806,
          2.29903034010859,
          2.24176737112654,
          2.17409124204784,
          1.50383305795572,
          2.53777386733667,
          2.93574373454983,
          3.88909360745296,
          2.84548286486563,
          3.00425639462047,
          2.5298067473268,
          3.13658693183625,
          3.03781348481124,
          4.06431846839031,
          3.35744219516066,
          3.39721227677289,
          0.799148451003927,
          1.73204223254257,
          2.69735584326358,
          0.912639805776796,
          -1.47453284191939,
          1.2519166730553,
          2.35051128857175,
          3.1293891560754,
          4.16600286360933,
          5.32151708302623,
          3.0159499147579,
          1.77183287926401,
          2.08490245606007,
          2.45339033031018,
          1.61930809858875,
          1.29844017799226,
          1.18637693749822,
          1.29743609938602,
          0.0885954699924263,
          0.469704298714121,
          1.14428330688929,
          -0.311904961250833,
          -4.17033630017526,
          3.30862052439523,
          3.49767636658567,
          3.46780704688293,
          3.35237408677025,
          3.0783936947649,
          2.55839629290863,
          2.05590495450165,
          1.81454621703216,
          1.7310430672935,
          1.64603954100981,
          1.52408280185649,
          1.38627725951906,
          1.24455268099471,
          1.1115545448798,
          0.962864025570883,
          0.885660412204392,
          0.910100943022538,
          0.924209372808693,
          0.935290168887955,
          0.945094240817718,
          0.963593457802097,
          1.01387721267549,
          1.13308133870917,
          1.18929507013328,
          1.19303600363508,
          1.26340561811428,
          1.32915852455183,
          1.36162110707575,
          1.57629422132566,
          2.07401685853513,
          0.97200398206436,
          0.387278487857363,
          1.22553003994341,
          1.29507386292128,
          1.22317929511453,
          0.998920418563044,
          0.841058243677696,
          0.628115754543019,
          0.734943056123237,
          0.808536055550948,
          1.02687307219521,
          1.24982602441627,
          1.10252107229095,
          0.910715565788466,
          0.797158411024818,
          0.668242326234317,
          0.441636406706345,
          0.240891210155647,
          0.297135765740057,
          0.476919931285641,
          0.561954617400164,
          0.632771238018431,
          0.756469145838096,
          0.74191960337232,
          0.687425960233006,
          0.640601540243491,
          0.627558473346134,
          0.893690977823134,
          1.27061807385776,
          1.24948463127384,
          1.0415580576588,
          1.11187894263206,
          1.06181932886789,
          1.14987975781229,
          1.22010397343287,
          1.13833715247736,
          1.09203117387253,
          0.933155888738653,
          0.736633975172522,
          0.713313668444329,
          0.730676195047382,
          0.752392087137583,
          0.759294504887122,
          2.58532837371382,
          2.54321442622195,
          2.49262420476062,
          2.43587388815233,
          2.37966784919146,
          2.3176484689717,
          2.25283066491932,
          2.18976695639899,
          2.1325290680119,
          2.08078359413242,
          2.04108974598252,
          2.00369477357965,
          1.95132966201454,
          1.9042706267462,
          1.83535055290849,
          1.79537122177653,
          1.7651559616598,
          1.71089322511207,
          1.67071492636166,
          1.61167342545955,
          1.5487692066186,
          1.47403998165424,
          1.40082958318807,
          1.35734981460765,
          1.31857718723776,
          1.27810796850367,
          1.23962007374554,
          1.18352016638979,
          1.10818499531086,
          0.691185784244756,
          -0.580806784389088,
          -2.44354322482875,
          -2.90499574537726,
          -1.67498559751263,
          -1.02517870784193,
          0.360447056123405
         ],
         "xaxis": "x",
         "yaxis": "y"
        }
       ],
       "layout": {
        "barmode": "relative",
        "legend": {
         "tracegroupgap": 0
        },
        "margin": {
         "t": 60
        },
        "template": {
         "data": {
          "bar": [
           {
            "error_x": {
             "color": "#2a3f5f"
            },
            "error_y": {
             "color": "#2a3f5f"
            },
            "marker": {
             "line": {
              "color": "#E5ECF6",
              "width": 0.5
             },
             "pattern": {
              "fillmode": "overlay",
              "size": 10,
              "solidity": 0.2
             }
            },
            "type": "bar"
           }
          ],
          "barpolar": [
           {
            "marker": {
             "line": {
              "color": "#E5ECF6",
              "width": 0.5
             },
             "pattern": {
              "fillmode": "overlay",
              "size": 10,
              "solidity": 0.2
             }
            },
            "type": "barpolar"
           }
          ],
          "carpet": [
           {
            "aaxis": {
             "endlinecolor": "#2a3f5f",
             "gridcolor": "white",
             "linecolor": "white",
             "minorgridcolor": "white",
             "startlinecolor": "#2a3f5f"
            },
            "baxis": {
             "endlinecolor": "#2a3f5f",
             "gridcolor": "white",
             "linecolor": "white",
             "minorgridcolor": "white",
             "startlinecolor": "#2a3f5f"
            },
            "type": "carpet"
           }
          ],
          "choropleth": [
           {
            "colorbar": {
             "outlinewidth": 0,
             "ticks": ""
            },
            "type": "choropleth"
           }
          ],
          "contour": [
           {
            "colorbar": {
             "outlinewidth": 0,
             "ticks": ""
            },
            "colorscale": [
             [
              0,
              "#0d0887"
             ],
             [
              0.1111111111111111,
              "#46039f"
             ],
             [
              0.2222222222222222,
              "#7201a8"
             ],
             [
              0.3333333333333333,
              "#9c179e"
             ],
             [
              0.4444444444444444,
              "#bd3786"
             ],
             [
              0.5555555555555556,
              "#d8576b"
             ],
             [
              0.6666666666666666,
              "#ed7953"
             ],
             [
              0.7777777777777778,
              "#fb9f3a"
             ],
             [
              0.8888888888888888,
              "#fdca26"
             ],
             [
              1,
              "#f0f921"
             ]
            ],
            "type": "contour"
           }
          ],
          "contourcarpet": [
           {
            "colorbar": {
             "outlinewidth": 0,
             "ticks": ""
            },
            "type": "contourcarpet"
           }
          ],
          "heatmap": [
           {
            "colorbar": {
             "outlinewidth": 0,
             "ticks": ""
            },
            "colorscale": [
             [
              0,
              "#0d0887"
             ],
             [
              0.1111111111111111,
              "#46039f"
             ],
             [
              0.2222222222222222,
              "#7201a8"
             ],
             [
              0.3333333333333333,
              "#9c179e"
             ],
             [
              0.4444444444444444,
              "#bd3786"
             ],
             [
              0.5555555555555556,
              "#d8576b"
             ],
             [
              0.6666666666666666,
              "#ed7953"
             ],
             [
              0.7777777777777778,
              "#fb9f3a"
             ],
             [
              0.8888888888888888,
              "#fdca26"
             ],
             [
              1,
              "#f0f921"
             ]
            ],
            "type": "heatmap"
           }
          ],
          "heatmapgl": [
           {
            "colorbar": {
             "outlinewidth": 0,
             "ticks": ""
            },
            "colorscale": [
             [
              0,
              "#0d0887"
             ],
             [
              0.1111111111111111,
              "#46039f"
             ],
             [
              0.2222222222222222,
              "#7201a8"
             ],
             [
              0.3333333333333333,
              "#9c179e"
             ],
             [
              0.4444444444444444,
              "#bd3786"
             ],
             [
              0.5555555555555556,
              "#d8576b"
             ],
             [
              0.6666666666666666,
              "#ed7953"
             ],
             [
              0.7777777777777778,
              "#fb9f3a"
             ],
             [
              0.8888888888888888,
              "#fdca26"
             ],
             [
              1,
              "#f0f921"
             ]
            ],
            "type": "heatmapgl"
           }
          ],
          "histogram": [
           {
            "marker": {
             "pattern": {
              "fillmode": "overlay",
              "size": 10,
              "solidity": 0.2
             }
            },
            "type": "histogram"
           }
          ],
          "histogram2d": [
           {
            "colorbar": {
             "outlinewidth": 0,
             "ticks": ""
            },
            "colorscale": [
             [
              0,
              "#0d0887"
             ],
             [
              0.1111111111111111,
              "#46039f"
             ],
             [
              0.2222222222222222,
              "#7201a8"
             ],
             [
              0.3333333333333333,
              "#9c179e"
             ],
             [
              0.4444444444444444,
              "#bd3786"
             ],
             [
              0.5555555555555556,
              "#d8576b"
             ],
             [
              0.6666666666666666,
              "#ed7953"
             ],
             [
              0.7777777777777778,
              "#fb9f3a"
             ],
             [
              0.8888888888888888,
              "#fdca26"
             ],
             [
              1,
              "#f0f921"
             ]
            ],
            "type": "histogram2d"
           }
          ],
          "histogram2dcontour": [
           {
            "colorbar": {
             "outlinewidth": 0,
             "ticks": ""
            },
            "colorscale": [
             [
              0,
              "#0d0887"
             ],
             [
              0.1111111111111111,
              "#46039f"
             ],
             [
              0.2222222222222222,
              "#7201a8"
             ],
             [
              0.3333333333333333,
              "#9c179e"
             ],
             [
              0.4444444444444444,
              "#bd3786"
             ],
             [
              0.5555555555555556,
              "#d8576b"
             ],
             [
              0.6666666666666666,
              "#ed7953"
             ],
             [
              0.7777777777777778,
              "#fb9f3a"
             ],
             [
              0.8888888888888888,
              "#fdca26"
             ],
             [
              1,
              "#f0f921"
             ]
            ],
            "type": "histogram2dcontour"
           }
          ],
          "mesh3d": [
           {
            "colorbar": {
             "outlinewidth": 0,
             "ticks": ""
            },
            "type": "mesh3d"
           }
          ],
          "parcoords": [
           {
            "line": {
             "colorbar": {
              "outlinewidth": 0,
              "ticks": ""
             }
            },
            "type": "parcoords"
           }
          ],
          "pie": [
           {
            "automargin": true,
            "type": "pie"
           }
          ],
          "scatter": [
           {
            "fillpattern": {
             "fillmode": "overlay",
             "size": 10,
             "solidity": 0.2
            },
            "type": "scatter"
           }
          ],
          "scatter3d": [
           {
            "line": {
             "colorbar": {
              "outlinewidth": 0,
              "ticks": ""
             }
            },
            "marker": {
             "colorbar": {
              "outlinewidth": 0,
              "ticks": ""
             }
            },
            "type": "scatter3d"
           }
          ],
          "scattercarpet": [
           {
            "marker": {
             "colorbar": {
              "outlinewidth": 0,
              "ticks": ""
             }
            },
            "type": "scattercarpet"
           }
          ],
          "scattergeo": [
           {
            "marker": {
             "colorbar": {
              "outlinewidth": 0,
              "ticks": ""
             }
            },
            "type": "scattergeo"
           }
          ],
          "scattergl": [
           {
            "marker": {
             "colorbar": {
              "outlinewidth": 0,
              "ticks": ""
             }
            },
            "type": "scattergl"
           }
          ],
          "scattermapbox": [
           {
            "marker": {
             "colorbar": {
              "outlinewidth": 0,
              "ticks": ""
             }
            },
            "type": "scattermapbox"
           }
          ],
          "scatterpolar": [
           {
            "marker": {
             "colorbar": {
              "outlinewidth": 0,
              "ticks": ""
             }
            },
            "type": "scatterpolar"
           }
          ],
          "scatterpolargl": [
           {
            "marker": {
             "colorbar": {
              "outlinewidth": 0,
              "ticks": ""
             }
            },
            "type": "scatterpolargl"
           }
          ],
          "scatterternary": [
           {
            "marker": {
             "colorbar": {
              "outlinewidth": 0,
              "ticks": ""
             }
            },
            "type": "scatterternary"
           }
          ],
          "surface": [
           {
            "colorbar": {
             "outlinewidth": 0,
             "ticks": ""
            },
            "colorscale": [
             [
              0,
              "#0d0887"
             ],
             [
              0.1111111111111111,
              "#46039f"
             ],
             [
              0.2222222222222222,
              "#7201a8"
             ],
             [
              0.3333333333333333,
              "#9c179e"
             ],
             [
              0.4444444444444444,
              "#bd3786"
             ],
             [
              0.5555555555555556,
              "#d8576b"
             ],
             [
              0.6666666666666666,
              "#ed7953"
             ],
             [
              0.7777777777777778,
              "#fb9f3a"
             ],
             [
              0.8888888888888888,
              "#fdca26"
             ],
             [
              1,
              "#f0f921"
             ]
            ],
            "type": "surface"
           }
          ],
          "table": [
           {
            "cells": {
             "fill": {
              "color": "#EBF0F8"
             },
             "line": {
              "color": "white"
             }
            },
            "header": {
             "fill": {
              "color": "#C8D4E3"
             },
             "line": {
              "color": "white"
             }
            },
            "type": "table"
           }
          ]
         },
         "layout": {
          "annotationdefaults": {
           "arrowcolor": "#2a3f5f",
           "arrowhead": 0,
           "arrowwidth": 1
          },
          "autotypenumbers": "strict",
          "coloraxis": {
           "colorbar": {
            "outlinewidth": 0,
            "ticks": ""
           }
          },
          "colorscale": {
           "diverging": [
            [
             0,
             "#8e0152"
            ],
            [
             0.1,
             "#c51b7d"
            ],
            [
             0.2,
             "#de77ae"
            ],
            [
             0.3,
             "#f1b6da"
            ],
            [
             0.4,
             "#fde0ef"
            ],
            [
             0.5,
             "#f7f7f7"
            ],
            [
             0.6,
             "#e6f5d0"
            ],
            [
             0.7,
             "#b8e186"
            ],
            [
             0.8,
             "#7fbc41"
            ],
            [
             0.9,
             "#4d9221"
            ],
            [
             1,
             "#276419"
            ]
           ],
           "sequential": [
            [
             0,
             "#0d0887"
            ],
            [
             0.1111111111111111,
             "#46039f"
            ],
            [
             0.2222222222222222,
             "#7201a8"
            ],
            [
             0.3333333333333333,
             "#9c179e"
            ],
            [
             0.4444444444444444,
             "#bd3786"
            ],
            [
             0.5555555555555556,
             "#d8576b"
            ],
            [
             0.6666666666666666,
             "#ed7953"
            ],
            [
             0.7777777777777778,
             "#fb9f3a"
            ],
            [
             0.8888888888888888,
             "#fdca26"
            ],
            [
             1,
             "#f0f921"
            ]
           ],
           "sequentialminus": [
            [
             0,
             "#0d0887"
            ],
            [
             0.1111111111111111,
             "#46039f"
            ],
            [
             0.2222222222222222,
             "#7201a8"
            ],
            [
             0.3333333333333333,
             "#9c179e"
            ],
            [
             0.4444444444444444,
             "#bd3786"
            ],
            [
             0.5555555555555556,
             "#d8576b"
            ],
            [
             0.6666666666666666,
             "#ed7953"
            ],
            [
             0.7777777777777778,
             "#fb9f3a"
            ],
            [
             0.8888888888888888,
             "#fdca26"
            ],
            [
             1,
             "#f0f921"
            ]
           ]
          },
          "colorway": [
           "#636efa",
           "#EF553B",
           "#00cc96",
           "#ab63fa",
           "#FFA15A",
           "#19d3f3",
           "#FF6692",
           "#B6E880",
           "#FF97FF",
           "#FECB52"
          ],
          "font": {
           "color": "#2a3f5f"
          },
          "geo": {
           "bgcolor": "white",
           "lakecolor": "white",
           "landcolor": "#E5ECF6",
           "showlakes": true,
           "showland": true,
           "subunitcolor": "white"
          },
          "hoverlabel": {
           "align": "left"
          },
          "hovermode": "closest",
          "mapbox": {
           "style": "light"
          },
          "paper_bgcolor": "white",
          "plot_bgcolor": "#E5ECF6",
          "polar": {
           "angularaxis": {
            "gridcolor": "white",
            "linecolor": "white",
            "ticks": ""
           },
           "bgcolor": "#E5ECF6",
           "radialaxis": {
            "gridcolor": "white",
            "linecolor": "white",
            "ticks": ""
           }
          },
          "scene": {
           "xaxis": {
            "backgroundcolor": "#E5ECF6",
            "gridcolor": "white",
            "gridwidth": 2,
            "linecolor": "white",
            "showbackground": true,
            "ticks": "",
            "zerolinecolor": "white"
           },
           "yaxis": {
            "backgroundcolor": "#E5ECF6",
            "gridcolor": "white",
            "gridwidth": 2,
            "linecolor": "white",
            "showbackground": true,
            "ticks": "",
            "zerolinecolor": "white"
           },
           "zaxis": {
            "backgroundcolor": "#E5ECF6",
            "gridcolor": "white",
            "gridwidth": 2,
            "linecolor": "white",
            "showbackground": true,
            "ticks": "",
            "zerolinecolor": "white"
           }
          },
          "shapedefaults": {
           "line": {
            "color": "#2a3f5f"
           }
          },
          "ternary": {
           "aaxis": {
            "gridcolor": "white",
            "linecolor": "white",
            "ticks": ""
           },
           "baxis": {
            "gridcolor": "white",
            "linecolor": "white",
            "ticks": ""
           },
           "bgcolor": "#E5ECF6",
           "caxis": {
            "gridcolor": "white",
            "linecolor": "white",
            "ticks": ""
           }
          },
          "title": {
           "x": 0.05
          },
          "xaxis": {
           "automargin": true,
           "gridcolor": "white",
           "linecolor": "white",
           "ticks": "",
           "title": {
            "standoff": 15
           },
           "zerolinecolor": "white",
           "zerolinewidth": 2
          },
          "yaxis": {
           "automargin": true,
           "gridcolor": "white",
           "linecolor": "white",
           "ticks": "",
           "title": {
            "standoff": 15
           },
           "zerolinecolor": "white",
           "zerolinewidth": 2
          }
         }
        },
        "xaxis": {
         "anchor": "y",
         "domain": [
          0,
          1
         ],
         "title": {
          "text": "Crecimiento de la población (% anual)"
         }
        },
        "yaxis": {
         "anchor": "x",
         "domain": [
          0,
          1
         ],
         "title": {
          "text": "count"
         }
        }
       }
      }
     },
     "metadata": {},
     "output_type": "display_data"
    },
    {
     "data": {
      "application/vnd.plotly.v1+json": {
       "config": {
        "plotlyServerURL": "https://plot.ly"
       },
       "data": [
        {
         "alignmentgroup": "True",
         "bingroup": "x",
         "hovertemplate": "Crecimiento de la población rural (% anual)=%{x}<br>count=%{y}<extra></extra>",
         "legendgroup": "",
         "marker": {
          "color": "#636efa",
          "pattern": {
           "shape": ""
          }
         },
         "name": "",
         "offsetgroup": "",
         "orientation": "v",
         "showlegend": false,
         "type": "histogram",
         "x": [
          -2.043746077215792,
          -0.27575756715849375,
          2.637888087183688,
          0.08958978414159766,
          0.35690854597485316,
          11.409417178062963,
          14.851228635169914,
          9.749627521472434,
          5.9317649544220075,
          3.988128929308065,
          3.794296747498085,
          3.767769307458517,
          3.9612969406739613,
          1.32580608474027,
          0.6256668675830487,
          6.331047781938717,
          7.422603718980862,
          3.743680310737638,
          3.314227376985889,
          3.875414617933368,
          1.525627222849104,
          1.7327431762876853,
          3.289663734101915,
          2.6212292145543703,
          3.4124491842994007,
          3.7984827190793524,
          3.185536778237403,
          3.3742059654460124,
          2.8345107080400957,
          2.292555435906735,
          2.5592724458155702,
          2.556908766164398,
          2.560296509957673,
          2.7677238553318815,
          2.4612747438023836,
          2.1238064649718233,
          -0.6493634152709282,
          -0.21118614126096935,
          0.8584820784645907,
          0.33512455706374883,
          0.16530931802912494,
          0.41933573423597453,
          0.14180016251750505,
          -0.46007196925314076,
          -0.5157568382267907,
          -0.5229282207618395,
          -0.664944089067214,
          -0.8027533031619776,
          -0.7520862687402955,
          -0.6880097088627548,
          -0.6540009759668931,
          -0.6568491599228873,
          -0.7723852269325315,
          -0.8522409513460836,
          -0.8900982988398402,
          -0.9447258767859796,
          -0.972624936417963,
          -1.02760728004144,
          -1.0936146975963257,
          -0.9962105901499041,
          -2.6995150155123566,
          0.1439338862340761,
          0.22909040138634915,
          0.3730455234749801,
          0.8218523100204106,
          0.7019023859173192,
          0.21114164552442413,
          0.07598981778795712,
          -0.05696567132211332,
          -0.25923312979398283,
          -0.3620946694888071,
          0.592423075047841,
          1.724245490017208,
          1.6285139653383338,
          1.5373602043426458,
          1.4056523516533166,
          1.2069612048987437,
          0.9002040848552859,
          1.693701130410448,
          1.7576835504867598,
          1.6752629169441258,
          1.5915149626754554,
          1.5542444137479066,
          1.505820244514402,
          1.4530138301624551,
          1.3825637719421113,
          1.325740814406859,
          1.2585406913905148,
          1.1505164406868096,
          1.0259406902402837,
          1.8864617880082701,
          2.768833563594573,
          2.7357007739105885,
          2.65138971794824,
          2.5479427557235175,
          2.002557142756715,
          1.257338788198455,
          0.9603457707376615,
          0.8552113139433891,
          0.7392172054319339,
          0.6251295087379696,
          0.6918524812198172,
          0.9578147593000772,
          1.0194018110374676,
          0.9072240233067876,
          -0.930293287327223,
          -1.5463096038351118,
          -0.1697122972332585,
          1.3283469142872806,
          1.165385093758709,
          1.0287364637957226,
          0.8649149497289661,
          0.7306448795245152,
          0.6419253938092639,
          0.5385535150926399,
          0.3809341397774601,
          0.16542840098782732,
          -0.018244154239725623,
          -0.11623097072251255,
          -0.3173233807247805,
          -0.5515113946671519,
          -0.5764568548230362,
          -0.6223981452685444,
          -0.6798169790755658,
          -0.7005479912663888,
          -0.6743753081529751,
          -0.7397051610717795,
          -0.6909132382630399,
          -0.527500610725753,
          -0.47622248558120817,
          -0.3778076205355682,
          -0.31708502116425014,
          -0.2691054992142504,
          -0.2177133413205489,
          -0.18264974687748492,
          -0.16378332673472,
          -0.12804504218261012,
          -0.12475226075635236,
          -0.14259833646922412,
          -0.18283459402860228,
          -0.2277370055515785,
          -0.3174276066004391,
          -0.37290443809259416,
          -0.37693962108570117,
          -1.2615724483719524,
          -1.2853927252341169,
          -1.3113728719431372,
          -1.354077223987279,
          -1.2543869358029378,
          -0.31574202446456184,
          -0.3420768874829554,
          -0.3657895004131409,
          -0.3913061637568768,
          -0.4609975910906873,
          -0.518294348008762,
          -0.561669179911022,
          -0.5797809996408017,
          -0.6014454561149302,
          -0.6380830473505882,
          -0.63719837221373,
          -0.6596466374632782,
          -0.686085060253733,
          -0.6673042540922367,
          -0.6751215060934215,
          -0.7020679916669114,
          -0.7246761587439035,
          -0.7004420426023051,
          -1.4562770259473854,
          -0.399747599889796,
          -0.3277045301586825,
          -0.3329788027291491,
          -0.37403554187490257,
          -0.3939923787451932,
          -0.4128926286158151,
          -0.43067305139085954,
          -0.4615303702185587,
          -0.506115918707072,
          -0.539581529777376,
          -0.559558889997761,
          -0.6042719654385313,
          1.728587498204754,
          1.8362373323098886,
          1.899478353806967,
          1.6861822056860825,
          1.4803733353615705,
          1.9247170954305197,
          1.755661611007485,
          1.8284294157720888,
          1.9782510525866455,
          2.077568193927093,
          1.9383152063857818,
          1.8586735041825933,
          1.9485593610740881,
          2.0044952124538202,
          2.136622579973135,
          0.367291657079596,
          0.38036073327773867,
          0.2998083131135395,
          0.44843565117964923,
          0.5811681483752175,
          1.0243938200281295,
          1.2035283498591027,
          1.2606590922389223,
          0.7558515969287799,
          0.5900165375883827,
          1.0495029020289104,
          1.0337714278534487,
          0.7994226569826812,
          0.74925064728382,
          0.8671861527092589,
          0.9183032487858945,
          0.7338590769472835,
          0.6813140007602747,
          0.38892375581340144,
          -0.7555858994265356,
          0.1977297940593427,
          0.805722937602648,
          0.8813062110723725,
          1.1848016978802973,
          1.4963307358524451,
          1.7273702324161038,
          1.8269399905386854,
          1.548368933495239,
          1.1060792986654249,
          0.8691345110386824,
          0.8511217167253187,
          0.8217436687141408,
          0.8183054497100338,
          0.89812491175979,
          0.9416563717260218,
          1.0815753443079736,
          1.185935427302,
          1.1787342380230046,
          1.3097147357180061,
          1.3658737336145865,
          1.174731549264576,
          1.0042901824865922,
          0.9885867763989796,
          0.9329509419431888,
          0.9092845404298244,
          1.0015094217774088,
          0.3812930515943309,
          0.14737906964197736,
          0.3351911735265327,
          0.6750207934950774,
          0.6310485715911792,
          0.24463621495456156,
          0.001464710645074403,
          -0.07942369264973928,
          -0.14805319578936355,
          -0.16488206915788778,
          0.3252314766302158,
          -0.8585584091157924,
          -0.9592483692849083,
          -1.0488033388972087,
          -1.148480977686844,
          -1.2591863019068619,
          -1.3657995565377845,
          -1.431099074456993,
          -1.4879261476214851,
          -1.5464647494784525,
          -1.6089679736680467,
          -1.9984477681957986,
          -2.092795145534223,
          -2.180096889990985,
          -2.266954871404097,
          -0.6173590741597368,
          -0.5257058997141534,
          -0.6129680475011956,
          -0.6635822205589511,
          -0.6897462555950674,
          -0.7391144444380644,
          -0.7938778480818164,
          -0.847965868051265,
          -0.8788028944489176,
          -0.9011810051350717,
          -0.9790552144325538,
          -1.0178650274314218,
          -1.0468043591781016,
          -1.0740333575147163,
          -1.0887867884611908,
          -1.1187037840563439,
          -1.1391510076353089,
          -1.1235529598996428,
          -1.1507398228913501,
          -1.2427086474793707,
          -1.3769715737769241,
          -1.43477413276271,
          2.454383485557572,
          2.3944120367471635,
          2.3517890982553658,
          2.327944148029346,
          2.230827923077697,
          2.159614433815874,
          2.1776150901752245,
          2.2074810128169204,
          2.244442747835628,
          2.2293794189700695,
          2.0119233973508397,
          1.991181476239855,
          2.1363623297495313,
          2.1620094629473963,
          2.1899585014172986,
          2.1894695195549296,
          2.186288460584329,
          2.182269799477349,
          2.1598024876458206,
          2.0950823799131966,
          2.183198165020676,
          2.2424565730537482,
          2.2161159473132486,
          2.206891539589974,
          2.2199189489053657,
          2.2656266414727693,
          2.2253855110965732,
          2.178248932667617,
          2.153295130208713,
          2.09787025333251,
          2.0146344901501294,
          1.9018617366269137,
          1.8194854597723698,
          1.789294300967914,
          1.7339956727990966,
          1.6292581156164208,
          3.649936680520299,
          3.242212928378692,
          3.190707144447286,
          3.4930148225033335,
          3.4324302729537197,
          4.423289941506471,
          4.842320972336346,
          3.331633417260952,
          2.1870679137055293,
          1.9298367312451583,
          1.7428299377607248,
          1.6956891357272286,
          1.8103019183417262,
          1.688261596835839,
          1.6500036873354706,
          1.6519070890215843,
          1.6383465399296235,
          1.6266682375606185,
          1.6060480451040349,
          1.5829320935412727,
          1.594463289811654,
          1.4603846539950398,
          1.060533374061832,
          1.0015929688754988,
          0.9898442825786354,
          0.9767679278156184,
          0.9506420949854683,
          0.9079335717592056,
          0.8511126398410236,
          0.8264465598977669,
          0.7950707032442219,
          0.6902995986923207,
          0.5866565095189049,
          0.5980787667725261,
          0.5880336117144819,
          0.4783591399295615,
          1.2330234802062212,
          1.2114019977626747,
          1.7088996505157161,
          1.4222963241323316,
          1.080359530116824,
          0.035096017557138606,
          -0.05422784751857769,
          -0.058073938682604465,
          -0.12754520176483083,
          -0.19867650445925916,
          -0.7862178979497437,
          -0.9588357985125917,
          -0.9845662178269898,
          -0.8795274954639505,
          -0.5446635344385886,
          0.7003702936322749,
          0.5077982983854953,
          0.5429099107714253,
          0.557844254173616,
          0.5514912488786746,
          0.04197814870995493,
          0.15019198365689704,
          0.21065704313718275,
          0.17725321519527248,
          0.14112996787697502,
          0.8686943564055747,
          0.838999350897815,
          0.7925875176466344,
          0.5278075593560726,
          0.9133361257596928,
          0.9317910859641827,
          1.0848281766883128,
          1.0534692617237913,
          0.6408407676045862,
          0.08066370329146491,
          1.2823125066379653,
          3.2519868946060626,
          3.1194781832780585,
          3.102270447795561,
          2.4580155706332327,
          3.361091176834303,
          3.9520260480622063,
          2.060052524666414,
          2.1787497924522787,
          4.347676058494104,
          4.379599950499893,
          3.3802256774092188,
          3.3651370924601345,
          3.4350869320180375,
          3.3723999113679355,
          3.287954376505483,
          3.4072797546918485,
          3.9284537031234037,
          4.393855676716497,
          3.949549652252788,
          3.4985787684929424,
          3.343679043938407,
          3.4036477201503477,
          3.4762834241251905,
          3.343140549828357,
          3.405970569562771,
          3.3746680214040814,
          3.4207793567384246,
          3.410376030739992,
          2.9997159622967953,
          2.9393553117542437,
          3.0902450727157396,
          3.117224319889972,
          3.0082426798706394,
          2.8459097920372214,
          2.8220404930063014,
          2.744351934151708,
          0.6836474323826763,
          0.6615806204502181,
          0.559447167139255,
          0.46497503451559186,
          0.1746438305164487,
          -0.0036470201312153575,
          -0.11601619806580113,
          -0.17731868464439463,
          -0.2615673315877441,
          -0.34479096854529667,
          -0.40703713076190984,
          -0.5173994937865892,
          -0.6547313622196177,
          -0.7779359425167813,
          -1.188186246226757,
          -1.4701504963594967,
          -1.5956390682351367,
          -1.7037833181829756,
          -1.7810266306328655,
          -1.8112463408996207,
          -1.8774898511064626,
          -1.9632156108452485,
          -2.0429850480030662,
          -2.133474238732348,
          -2.0169414601674296,
          -1.8882069986545096,
          -1.955320006219281,
          -2.0572652427207063,
          -2.169130105655632,
          -2.2437799024791576,
          -2.2646884943126513,
          -2.4086964625962177,
          -2.516079661033324,
          -2.6242621985690233,
          -2.7613220504546048,
          -2.8484804764947524,
          0.6166744353609508,
          0.5965275332847028,
          0.585369384457263,
          0.5644962629791178,
          0.492652628808196,
          0.4202480662747225,
          0.40772807608640815,
          0.37647179227879973,
          0.31499022406390176,
          0.23208240227729432,
          0.19088578955249413,
          0.12678729461513574,
          0.05535406764553741,
          -0.006462270914749714,
          -0.0581400490234433,
          -0.11006497571174605,
          -0.1751694223097635,
          -0.23551482735072368,
          -0.30532543713811916,
          -0.3793058816412821,
          -0.44095985705430857,
          -0.5198546163931916,
          -0.5628568002506786,
          -0.5694754360058351,
          -0.6043635117982454,
          -0.6641284835183208,
          -0.7146343761618358,
          -0.757944813295883,
          -0.7679494116571834,
          -0.6459416775775596,
          -0.2014852300946438,
          0.18313812864239312,
          0.12022942211051253,
          -0.24326727749872418,
          -0.56654804825315,
          -1.0207954082683923,
          0.9464257478178679,
          0.8479078071377772,
          0.7750926813228105,
          0.7298110116440872,
          0.6923273033698002,
          0.6338352702865511,
          0.5711383016164159,
          0.48599243805844805,
          0.3920899601806988,
          0.29283156121325205,
          0.20804626608085813,
          0.09189082547047753,
          -0.03962522065434432,
          -0.1885419221103752,
          -1.529309774827961,
          -1.753395828698637,
          -1.9432510990658667,
          -2.0862308406551424,
          -2.1995736686136267,
          -2.3157520171291686,
          -2.4164997378118014,
          -2.5110970817744143,
          -2.5978236312112677,
          -2.73819894842466,
          -2.8474191480064115,
          -2.850706051158295,
          -2.856370730410364,
          -2.8616537896213625,
          -2.8569293794106034,
          -2.830546165614417,
          -2.7970309331075778,
          -2.7712635077183903,
          -2.762364014783185,
          -2.7947473025753027,
          -2.859852965344498,
          -2.8581380709979225,
          -0.8442401323077418,
          -0.8001042634949846,
          -0.7836408192939641,
          -0.8306271549056237,
          -0.361646638442612,
          0.07535354672391088,
          -0.04585753130826452,
          -0.1521466392278806,
          -0.21931505116889166,
          -0.2490043788300389,
          -0.433977401645357,
          -0.6147001838321352,
          -0.6061721249950672,
          -0.621836563030154,
          -0.6448593381939192,
          -0.6681199578397001,
          -0.410479191458318,
          -0.15901278721990902,
          -0.20359305853745635,
          -0.26144449462777686,
          -0.30981941272696406,
          -0.333863934240352,
          -0.33253037063666024,
          -0.3282655669716469,
          -0.3204619452683706,
          -0.3018398997498619,
          -0.08968552378157807,
          -0.054635570105629534,
          -0.08195211296492268,
          -0.12859561969066768,
          -0.2533587830412387,
          -0.33296994315131057,
          -0.41604047829433943,
          -0.5134942554718217,
          -0.8236409128482666,
          -0.8744363117088412,
          -0.5641435107810838,
          -0.64044436293021,
          -0.6339490969087044,
          -0.27208425119026947,
          0.07466296178931715,
          0.15197590788572782,
          0.15430226083248424,
          0.15840454203008386,
          0.3413761947618583,
          0.3859709600376409,
          0.23542079664026877,
          0.18251234182429027,
          0.1567324326309866,
          0.24035811070283633,
          0.02211913930376214,
          -0.3561341160200641,
          -0.4765736235867635,
          -1.158641597020468,
          -1.7542006762253883,
          -1.3970146028790114,
          -0.9692403304933921,
          -0.8378588364271942,
          -0.7085023199282545,
          -0.6178218502915431,
          -0.822679883294614,
          -1.052354381664738,
          -0.7564381169755535,
          -0.42582539802175556,
          -0.2192365362949515,
          -0.1540063473803353,
          -0.291439392403564,
          -0.46451835692407006,
          -0.6362936071194399,
          -0.7297938196282213,
          -0.6154506904856846,
          -0.29837486475297553,
          0.8604833760524526,
          0.78215160829906,
          0.7068333489474263,
          0.6156750081751279,
          0.8495203158604618,
          0.936472608758125,
          0.8019927797385452,
          0.7159639588978918,
          0.6635576887538959,
          0.6127866478633461,
          0.5644965618996188,
          0.5165164766470717,
          0.47739700684621983,
          0.4540850544527128,
          0.45227074403639206,
          0.919999368793936,
          1.2381625321650067,
          1.2264174464540414,
          1.2112550310265715,
          1.2079093617281822,
          1.199621700722769,
          1.1856573644500155,
          1.163897188460647,
          1.139027560804907,
          1.209440120407909,
          1.233051416996741,
          1.1615790138320234,
          1.1140995008842451,
          1.106243742953827,
          1.121133203463481,
          1.1797140663168333,
          1.474405089279582,
          1.4525816240682685,
          0.9008360629090958,
          0.6363958053346938,
          0.5474402677048881,
          2.8555294376066036,
          2.956918036811807,
          2.902732975415581,
          2.8003925886743155,
          2.646360507989199,
          2.5585438511076455,
          2.529561446820208,
          2.4784361770431347,
          2.422814660951331,
          2.3880405736103283,
          2.1955210573128467,
          2.0643720041132174,
          2.033003486026789,
          1.989704822003236,
          1.975973091065851,
          2.0105914131599585,
          2.007279096805759,
          1.951023418502484,
          1.9026324123198615,
          1.8658283169186194,
          1.9428918700515792,
          1.9935112325573556,
          1.9895175126011644,
          2.062744460827953,
          2.240983041652177,
          2.356278670056938,
          2.408559741357019,
          2.4383064477929763,
          2.299686525699092,
          2.1788917736465936,
          2.036905157860096,
          1.9006760869203585,
          1.7486131555210518,
          1.6405428927043681,
          1.5202165411965565,
          1.38513887826332,
          7.74004207678732,
          7.309460882269332,
          6.915786441476306,
          6.563794632490798,
          6.229263754029298,
          5.920401071484848,
          5.62010623977313,
          5.331355853464899,
          5.093102191510446,
          4.7380306137573625,
          4.431204228621534,
          4.066845257706695,
          3.747487074688214,
          3.447877736544676,
          3.1742953608682747,
          2.9120718668844425,
          2.6670350935435483,
          2.4324044201615456,
          4.775483208957438,
          11.283406959389177,
          15.943176137531868,
          15.231706625320394,
          11.262893849816304,
          3.7948828476895837,
          -1.0384890891688707,
          -1.0737503501784096,
          -1.1027715004047156,
          -1.1344123925320877,
          -1.1536914652376031,
          -1.1883058822019164,
          -1.2172698749350805,
          -1.2230969614908762,
          -1.2218062010166872,
          -1.1622377238252193,
          -1.1221687113354664,
          -1.1317582971477975,
          -0.6407871195390274,
          -0.6882482569976085,
          -0.7477036688827156,
          -0.8068480146507632,
          -0.46613809746832296,
          0.15410967426756098,
          0.18178214116911148,
          0.13818926249989869,
          0.10231512843600768,
          0.07630305867481228,
          0.08191848413406379,
          0.07551673831884924,
          0.065834187061548,
          0.10649489960881503,
          0.35225527979089594,
          0.6062104550728536,
          0.7589449693909006,
          0.6691782932747536,
          0.6349825770094993,
          0.6336390717011933,
          0.7875690856710168,
          0.529473135136266,
          -0.18242223065718624,
          -0.6100140478907673,
          -0.7219671354992655,
          -1.0146382396827307,
          -1.4285939750644616,
          -1.4218315241778545,
          -1.22791946585816,
          -1.0892119168742231,
          -0.9630280683050085,
          -0.7792387833503616,
          -0.5299308764628441,
          -0.7801301200748084,
          -1.1844930313188304,
          -0.8983570036079511,
          0.304464142782628,
          0.3151391413633121,
          0.35603961110364707,
          0.27902773136668113,
          -0.30054420810483157,
          -0.2562369997973312,
          -0.3306242690087915,
          -0.43336884649176577,
          -0.47489909341570946,
          -0.5170776629602842,
          -0.4734174013496918,
          -0.5264042310355658,
          -0.5540863737782479,
          -0.3801135643340515,
          0.1409978274754351,
          0.08150231179544358,
          0.010863083289361001,
          0.06959939232505134,
          0.07338981487365283,
          0.10867028030365712,
          0.09315709016095446,
          0.08565726163322289,
          0.014133214580487637,
          -0.030001842748685677,
          -0.17176717755585005,
          -0.18898915489903143,
          -0.26505129008475886,
          -0.2554151595489177,
          -0.2842562340986509,
          -0.32285543804625716,
          -0.4538416797561092,
          -0.5832545573080103,
          -0.6952620327446067,
          -0.21122487915219593,
          -1.0561637361965814,
          -0.8620598787022282,
          -0.829362758702881,
          -0.8909281907249473,
          -0.22581702949460628,
          0.18305365989042902,
          0.30547365698546386,
          0.112008438258994,
          -0.03845332473765688,
          -0.015487718143961129,
          -0.0066235032112371426,
          -0.12667758678936727,
          -0.1503226861328205,
          -0.15047019718595248,
          -0.2905135357157907,
          -0.4056028866832516,
          -0.40908207000445973,
          -0.4412684513112645,
          -0.5738859265214353,
          -0.5718269299673199,
          -0.5508830313056452,
          -0.4971641922301857,
          -0.3410908237674702,
          -0.21424573330768212,
          -0.13668482155594427,
          -0.12597421060093184,
          -0.09318487882184294,
          -0.05655479142401253,
          -0.06214272498593693,
          -0.1157743365502233,
          -0.1920566071509433,
          -0.27002869975964766,
          -0.38979342128543204,
          -0.5630453799365925,
          -0.6537287208149725,
          -0.8902618715204215,
          -1.1494906245358745,
          -0.6947458890228337,
          0.5498267044795322,
          0.0056773641323751445,
          -0.1921175589405287,
          -0.3085089949040593,
          -0.7650684913384086,
          -1.0961828241931584,
          -1.0794002493978894,
          -1.1979349590759785,
          -1.243950278958663,
          -0.9124282496398637,
          0.16229542958688747,
          0.4219012742725625,
          0.4131873194909965,
          0.34602110648956524,
          0.29724888429816604,
          0.25257641231148387,
          0.21624899042774606,
          0.1956867260338307,
          0.16612436674766298,
          0.14126227001616684,
          0.059634772935964725,
          -0.31519202538914143,
          -0.5360286387049229,
          -0.6478818076046914,
          -0.724903752644322,
          -0.7927929047599406,
          -0.8331752711682768,
          -0.8773840388061316,
          -0.9412448914190552,
          -1.0029586883046766,
          -1.0686684052913689,
          -1.15231153699237,
          -1.2118024219886625,
          -0.9429164485765658,
          -0.7059020855797306,
          -0.6076159125590976,
          -2.854750523470052,
          -2.8811980196523597,
          -2.830273852359573,
          -2.780443529615312,
          -1.7877669727826242,
          -0.8620892966887882,
          -0.9402865850443136,
          -1.0033361357193227,
          -1.0525772246478424,
          -1.0471451423217804,
          -1.0052004938425465,
          -1.0434073471150889,
          -1.0829283393657914,
          -1.1138662299518804,
          -0.8160111039324242,
          -0.5262249914985649,
          -0.5361901782575405,
          -0.48444212337131415,
          -0.4327057942263953,
          -0.39136719382217056,
          -0.3498714540687936,
          -0.3157089641319318,
          -0.30325711197724137,
          -1.6217532517022528,
          -2.9393687070121075,
          -2.947939768670033,
          -1.430549672564506,
          0.07685103880028549,
          -0.008398846398682666,
          -0.05164370407543894,
          -0.1054705685918362,
          -0.2565360145254734,
          -0.3284732068818152,
          -0.34541272230265735,
          -0.33971859570819524,
          -0.30593228355172863,
          -0.31984690547662276,
          -0.2918514459610623,
          -0.13404612786334436,
          0.40108497412022104,
          0.6097987302405091,
          0.33286447045543244,
          0.15891312369986896,
          0.07306084117957204,
          0.03416735447836842,
          0.009337951155036654,
          0.0636785517472176,
          0.11913558429955688,
          -0.04983451315996155,
          -0.026147625708874293,
          -0.20477105552775174,
          -1.0837083413504036,
          -1.217790232684631,
          -1.2228040732608676,
          -1.17932201266567,
          -1.1783634327020327,
          -1.2340462370969423,
          -1.23357669923261,
          -1.2380229781425516,
          -1.3781684207947889,
          -1.6652414066977916,
          -2.0726958326923013,
          -2.2632537760024296,
          -2.210331233530332,
          -2.213599773029908,
          -1.981347927269032,
          -1.7693090614853988,
          -1.7852050188851694,
          -1.6936827318941023,
          -1.813734797711855,
          -2.1428666177735147,
          -2.3153171803296555,
          1.8948598003086399,
          1.8645245731850901,
          1.845756969794305,
          1.8166303237543147,
          1.791145932078726,
          1.7964126361402246,
          1.7677763399916397,
          1.7386497539113521,
          1.7088662288431096,
          1.6648945876083283,
          1.6305277950914538,
          1.5966125749896964,
          1.556160698490881,
          1.526766895854652,
          1.46083674520266,
          1.3234793615879825,
          1.2661165086037076,
          1.2083301789751837,
          1.1360677215552315,
          1.051205933379572,
          0.9867408741114586,
          0.9361483472963036,
          0.9011351621975429,
          0.882227127882411,
          0.859388098356134,
          0.809906220369782,
          0.7563450493714083,
          0.6784677114130212,
          0.6048762492258389,
          0.5807516729502026,
          0.528079622185998,
          0.43783134695714554,
          0.3530546525204032,
          0.25997603528343843,
          0.07698406975427018,
          -0.06379521971658526,
          -0.06771345570482921,
          -0.13231372993403218,
          -0.14729694747832547,
          -0.22269677237881447,
          -0.2002622178835059,
          -0.23882432241610138,
          -0.28509566967744604,
          -0.32928821584311807,
          -0.3776173804078757,
          -0.3616335733104057,
          -0.3445250568079543,
          -0.30985537380961276,
          -0.3977439392703875,
          -0.42112645110830205,
          -6.245690116868074,
          -8.4113825365677,
          -8.6036279447928,
          -8.951359566825001,
          -9.104530570118476,
          -8.416281441744564,
          -8.20164889648069,
          -8.369362562391698,
          -8.49279852490185,
          -8.560655094034818,
          -3.02222331281868,
          -1.0482042206652986,
          -1.0293358026350505,
          -1.0256564703762046,
          -0.9955315541575444,
          -0.9368198334992748,
          -0.9990972413550233,
          -1.0883729868817558,
          -1.1233272812215107,
          -1.311155576031889,
          -1.4996533320748844,
          -1.5317638237732754,
          3.3942283403322935,
          3.3790778142522315,
          3.3393814799014225,
          3.0854185964002303,
          2.8566768067673176,
          2.6757151435636457,
          2.574597836882152,
          2.506512251472738,
          2.429598998429425,
          2.3191190234544834,
          2.2818685775425904,
          2.288864227394351,
          2.3943910673331046,
          2.4894349696100924,
          2.594720520671516,
          2.591314359054641,
          2.5168561134918326,
          2.5305392939357607,
          2.511656737109776,
          2.501199741262588,
          2.483617174531009,
          2.4878248868701394,
          2.463343127006073,
          2.3111475413479137,
          2.1333285853397905,
          1.989213025031749,
          1.8556613038954635,
          1.7247875185661656,
          1.6142181340416883,
          1.5990549158638943,
          1.5553445802804,
          1.3934222778733665,
          1.3226184745059206,
          1.3342550131187871,
          1.2487385184394189,
          1.1951468620506207,
          0.644250004031491,
          0.5198131726831158,
          0.4141923120953779,
          0.3403217229266172,
          0.26725289427498766,
          0.19860425738713222,
          0.13009624994714405,
          0.03853748378334378,
          0.6872326467496453,
          0.8073262048415212,
          0.777461864989499,
          0.7396707525000412,
          0.6787391262570104,
          0.6301426994956031,
          0.603880259473459,
          0.5663487023767452,
          0.5060101969010483,
          0.5275004685303316,
          0.1436367209809087,
          0.025228824175239625,
          -0.010957118211191948,
          -0.03108957094566698,
          -0.04038468835019142,
          -0.03083299395372622,
          -0.007462088904828707,
          -0.009935641414001765,
          -0.030884573922048346,
          -0.08119088432142237,
          -0.14812131037915618,
          -0.1927381188038169,
          -0.23674107236231465,
          -0.32318336265873543,
          -0.40776283009646125,
          -0.4113307311718416,
          -0.42085763604598014,
          -0.46529924547492263,
          0.06468356498882351,
          0.035954434269261024,
          -0.00014161202069316482,
          0.22900331969490487,
          0.5776017038600195,
          0.5460842198916716,
          0.519202970375904,
          0.4820650781372173,
          0.4289278515365036,
          0.6408450552278548,
          0.739642010648398,
          0.6951359340045662,
          0.6477992363652185,
          0.47904719447881994,
          0.2559165929384718,
          0.2298531833664031,
          0.1922616545844043,
          0.16585213898712944,
          0.12537571342525222,
          0.051997145950811084,
          0.007677422937336633,
          -0.049591580763865356,
          -0.08017163292343989,
          0.005615949490304893,
          0.08442553981913883,
          0.04437429990231317,
          -0.05361975694744732,
          -0.14836436050932977,
          -0.23275507587328198,
          -0.2863989391823738,
          -0.3497261910240193,
          -0.49418693266422814,
          -0.6016933155544621,
          -0.7512094752554592,
          -0.9306883760220421,
          -0.8786916432385512,
          1.83901329231805,
          1.8101519543450622,
          1.9105858531720328,
          2.08987775353518,
          2.2294266011494175,
          2.3550685228402943,
          2.23141276396578,
          1.9661879383282794,
          1.8130467111525557,
          1.5966635269166907,
          1.4748227010758503,
          1.3625304987814417,
          1.242465590788473,
          1.0881792984314835,
          0.9647303232931193,
          1.1547634305611614,
          1.0269403095522747,
          0.8871591364382028,
          0.7130266474676313,
          0.5162103934829366,
          0.35338879686723984,
          0.24105541489528132,
          0.14649871615156213,
          0.0963922167018489,
          -0.02411920988631726,
          -0.18760455345721672,
          -0.24752118763292372,
          -0.15380521209836512,
          0.07888223868863188,
          0.4306292219479254,
          0.6626986109449858,
          0.638446610577172,
          0.6204453453005403,
          1.243099123721772,
          1.7663228585318949,
          1.1298513836477815,
          0.011846086583551255,
          0.08313515735380024,
          -0.04399424115826604,
          -0.11124733426948258,
          -0.6315091386642115,
          -0.8754860631593882,
          -0.8641052869090058,
          -0.8963900273790737,
          -0.7470236324750162,
          -0.5477604889600196,
          -1.066799218276584,
          -1.586915126618534,
          -1.5095244664168619,
          -1.2142146680349124,
          -0.9981549595254232,
          -0.974971097147945,
          -0.9335097941148068,
          -0.79313242681071,
          -0.5476426848975919,
          -0.4341143873135297,
          -0.26161025466240445,
          -0.10425005336722265,
          -0.09380075454774042,
          -0.1183535112590163,
          -0.4064009735941924,
          -0.747075207923212,
          -0.859192880444019,
          -0.9532032836548285,
          -1.0930610484124432,
          -1.2247593854913668,
          -1.2990924885020059,
          -1.4414612780526785,
          -1.4197239609906807,
          -1.4921274873520114,
          -1.536236345270558,
          -1.1676135287196974,
          -0.6602319066687953,
          -1.2583501058011082,
          -1.0442607558397226,
          -0.6116347033745296,
          3.472440815143634,
          0.019769420193078244,
          0.12157201694131206,
          0.30669172544091006,
          0.4383093703491223,
          0.5599560654559411,
          0.7443056598016354,
          0.32310025824036015,
          -0.041906952346136644,
          0.016876150423244366,
          0.0224353062201418,
          1.297468427924725,
          1.5390632492361274,
          1.0497805411291812,
          0.6904159508224061,
          0.7862409356552459,
          1.3725296763613082,
          1.2870673685739455,
          1.4359698492079438,
          1.5462616710940051,
          1.195048860796021,
          0.10841282891708016,
          0.3338480525919146,
          1.2246681426183632,
          1.597674746039211,
          1.8132006864093335,
          1.602242553970551,
          1.257803390235268,
          1.0175138780157136,
          1.5753045868508668,
          -0.26340032162783017,
          -0.47352509242964524,
          2.7639710296124607,
          2.7848628455844464,
          2.9558536067814702,
          2.995168897891315,
          3.0093086040087407,
          3.0181210949118356,
          3.0581712465423285,
          3.1177712119798926,
          3.223965758629361,
          3.2691790754343106,
          3.238037293893144,
          3.2807813406456625,
          3.311234571946163,
          3.324760898319102,
          3.3682021594936105,
          3.478128654075637,
          3.509242387139269,
          3.5539537723749293,
          3.594146389149614,
          3.6192012609931745,
          3.6459794701598076,
          3.6785186845502684,
          3.7059407054335676,
          3.735479540740648,
          3.752691493129695,
          3.81535012877382,
          3.8229798638131682,
          3.768046699499098,
          3.795435453506114,
          3.815734387020595,
          3.755233989527512,
          3.697894443552378,
          3.6553058041099296,
          3.596447889974199,
          3.5573875313810572,
          3.541062405549051,
          -0.577040211222202,
          -0.5709949358747203,
          -0.6227360835483553,
          -0.5427540227095237,
          -1.2931228107497925,
          -2.2020812931830425,
          -2.2924830379442893,
          -2.4251425232667416,
          -2.5735472040047256,
          -2.6424359246572178,
          -2.618001874222879,
          -2.5528118433077096,
          -2.5367580409351635,
          -2.5287520813231326,
          -3.807929936430885,
          -5.323006206989507,
          -5.587366006270996,
          -5.8046657096325465,
          -5.993261335697362,
          -5.805460614166788,
          -5.458787936044289,
          -5.354312008192841,
          -5.747037768525667,
          -5.8553854130383245,
          -5.498483740124626,
          -5.657339268087705,
          -5.096810144311095,
          -4.403659323806046,
          -4.354835105328967,
          -4.283237572010448,
          -4.243484862878673,
          -4.155137383075592,
          -3.986813550687427,
          -3.9769924404966996,
          -3.900569489509903,
          -3.354033505872802,
          0.4432140894727669,
          0.45210851137189606,
          0.48982956917230897,
          0.5279157553580403,
          0.4372525727158613,
          -0.004065588686864187,
          -0.03550733145918464,
          -0.02603770227809985,
          -0.012245078656096834,
          -0.022933699651054816,
          -0.01612840732527634,
          0.012305612653238743,
          0.05820214924649684,
          0.07665411009494372,
          -0.08453449759757715,
          -0.9794642669301955,
          -0.9377511055861025,
          -0.8446133113854103,
          -0.7272948080625601,
          -0.6890306737201186,
          -0.6454985615873559,
          -0.6473128556257162,
          -0.6777348780095732,
          -0.6550637943101002,
          -0.6621707935297155,
          -0.7639714141898115,
          -0.8000199562632296,
          -0.7438767159495269,
          -0.6987020840168483,
          -0.7499261037172936,
          -0.8337081715209737,
          -0.9183580044560408,
          -0.9776241039158031,
          -1.1815109768584438,
          -1.6408843189873603,
          -1.6463405197091396,
          3.5227962540353133,
          3.111279364499301,
          2.5915390216530065,
          2.383384388724457,
          2.159354176842819,
          1.418668157727109,
          2.0817046195951114,
          -17.327140403233965,
          -18.363543994564512,
          14.906115146444376,
          12.0072647346724,
          2.289665072920958,
          0.24277173616628409,
          0.23758934648818453,
          0.32819519730044744,
          0.6553150672143199,
          2.1576942668902936,
          2.57438401562009,
          2.6268815568040145,
          2.658794316042571,
          2.68889455274743,
          2.6767784243755246,
          2.6345497292895157,
          2.6022972913575817,
          2.560687495520944,
          2.4538212236416954,
          2.374475433535551,
          2.353453311638723,
          2.3413816930242506,
          2.380327684687638,
          2.395578822920675,
          2.331222777112408,
          2.2675128027087066,
          2.252681807339953,
          2.206909009204239,
          2.1258158187378884,
          0.24455943895342638,
          0.4062746457542291,
          0.25884985275782246,
          0.17898617069475184,
          0.3051229073387068,
          0.5753112751939868,
          0.8030316838136067,
          0.9003646747063591,
          0.9171052338204357,
          0.915268493786074,
          0.9162673470919914,
          0.9100747144115949,
          0.8920313207985753,
          0.8653399036770818,
          0.7065646630031743,
          0.7544761543656078,
          0.7433758172817237,
          0.6445128546212535,
          0.5973269740550586,
          0.6987501942343094,
          0.8709332194914198,
          0.969751715144441,
          1.002665179412858,
          1.0499309815294204,
          1.135025030695196,
          1.1888733423131792,
          1.2090339987435412,
          1.1976560344576783,
          1.185299274868158,
          1.2510171764429967,
          1.2910921650754283,
          1.2483911833127057,
          1.2738951944840191,
          1.6206088097960993,
          1.9477036103600895,
          1.793206950825495,
          2.3539028191546874,
          2.362948508704285,
          2.1605828554166657,
          3.570332747126806,
          0.8631860920957758,
          -2.1190694333959694,
          -0.4918994350404428,
          0.08793885434463045,
          -0.14787740854550493,
          0.17192733532322796,
          0.9526117464354363,
          0.6473614728349582,
          0.19329376553724378,
          2.0295404099313292,
          5.41033374806875,
          5.28540335652985,
          3.638020472559485,
          2.9682699993718327,
          2.164107184244583,
          1.5897600566465788,
          1.585095828213687,
          1.8974673299006632,
          2.1063865461539133,
          2.1502741906425347,
          2.0496866665261226,
          1.979185969471306,
          1.9085497688058943,
          1.8305907892579367,
          1.7399841362382256,
          1.742926237471727,
          1.7244948253373562,
          1.6442101749821465,
          1.5897439948768455,
          1.53282666910261,
          1.45201018667166,
          1.360231932745649,
          null,
          null,
          null,
          null,
          null,
          null,
          null,
          null,
          null,
          null,
          null,
          null,
          null,
          null,
          null,
          null,
          null,
          null,
          null,
          null,
          null,
          null,
          null,
          null,
          null,
          null,
          null,
          null,
          null,
          null,
          null,
          null,
          null,
          null,
          null,
          null,
          2.4259812545721786,
          2.3865365481241234,
          2.259287450002341,
          1.97531390146001,
          1.4746319803509562,
          1.030558319568989,
          0.7807270689421196,
          0.6864282173786945,
          0.5925916622341311,
          0.4616440962983003,
          0.31018158031780785,
          0.15902141115859372,
          0.014107942010413009,
          -0.14443945849319395,
          -0.22700345644422118,
          -0.340888760848563,
          -0.38593895701879183,
          -0.38980971524974994,
          -0.38791680018042407,
          -0.3824125414102613,
          -0.34541798790959255,
          -0.24237516529722242,
          -0.19228572193299612,
          -0.20261203895127278,
          -0.14394436208091632,
          -0.09282999607850341,
          -0.06707473446694621,
          0.13249689383147453,
          0.6175991180519245,
          -0.49728374159347655,
          -1.0922057512548469,
          -0.26428456636614295,
          -0.20519775962725417,
          -0.290760519112594,
          -0.5227355929056485,
          -0.6883203009919764,
          0.8601110112141692,
          0.970244879906885,
          1.039489067837382,
          1.2572102517111758,
          1.4682060813987188,
          1.3089695608898895,
          1.11292208961661,
          1.0027764405302035,
          0.8733731987301137,
          0.6463913194562992,
          0.44523887593507694,
          0.501062479407547,
          0.6804340869290574,
          0.7688067141423678,
          0.6628327701921918,
          0.6587262533072461,
          0.6441605621623745,
          0.5933057638653861,
          0.5426178777717672,
          0.5294526344392431,
          0.7955389941556121,
          1.1723201298331076,
          1.1549233454640202,
          0.9430702448074778,
          1.0209046653465415,
          0.9783656956619426,
          1.0701302679908038,
          1.1365013493221081,
          1.0546609528259947,
          1.0120979023207963,
          0.8493462280019662,
          0.5993695180225871,
          0.5146281720176935,
          0.47800398280306666,
          0.4413602739496294,
          0.38943474532612,
          -0.1944060209704335,
          -0.2558307648356456,
          -0.3189787192304972,
          -0.3933938780448213,
          -0.0679676585203616,
          0.022338708093594898,
          -0.04178034624341328,
          -0.11679383572198937,
          -0.18560188758467083,
          -0.24843856333399156,
          -0.2837446891486723,
          -0.33810801661043066,
          -0.399539992145714,
          -0.45492788939617324,
          -0.5314760995111358,
          1.5811445358432115,
          1.5504737574714722,
          1.4957579517867432,
          1.4551014211263043,
          1.395591746840808,
          1.3322288870609558,
          1.265374850045938,
          1.1833753889748513,
          1.1394109223019602,
          1.1085709112354643,
          1.151885560416103,
          1.1554037876356111,
          1.0907910609216924,
          1.0237903132290216,
          0.598281379244261,
          -0.7330031593432924,
          -2.655330384587388,
          -3.1767326684071473,
          -2.0071715791441678,
          -1.418423286266819,
          -0.09453690765567345
         ],
         "xaxis": "x",
         "yaxis": "y"
        }
       ],
       "layout": {
        "barmode": "relative",
        "legend": {
         "tracegroupgap": 0
        },
        "margin": {
         "t": 60
        },
        "template": {
         "data": {
          "bar": [
           {
            "error_x": {
             "color": "#2a3f5f"
            },
            "error_y": {
             "color": "#2a3f5f"
            },
            "marker": {
             "line": {
              "color": "#E5ECF6",
              "width": 0.5
             },
             "pattern": {
              "fillmode": "overlay",
              "size": 10,
              "solidity": 0.2
             }
            },
            "type": "bar"
           }
          ],
          "barpolar": [
           {
            "marker": {
             "line": {
              "color": "#E5ECF6",
              "width": 0.5
             },
             "pattern": {
              "fillmode": "overlay",
              "size": 10,
              "solidity": 0.2
             }
            },
            "type": "barpolar"
           }
          ],
          "carpet": [
           {
            "aaxis": {
             "endlinecolor": "#2a3f5f",
             "gridcolor": "white",
             "linecolor": "white",
             "minorgridcolor": "white",
             "startlinecolor": "#2a3f5f"
            },
            "baxis": {
             "endlinecolor": "#2a3f5f",
             "gridcolor": "white",
             "linecolor": "white",
             "minorgridcolor": "white",
             "startlinecolor": "#2a3f5f"
            },
            "type": "carpet"
           }
          ],
          "choropleth": [
           {
            "colorbar": {
             "outlinewidth": 0,
             "ticks": ""
            },
            "type": "choropleth"
           }
          ],
          "contour": [
           {
            "colorbar": {
             "outlinewidth": 0,
             "ticks": ""
            },
            "colorscale": [
             [
              0,
              "#0d0887"
             ],
             [
              0.1111111111111111,
              "#46039f"
             ],
             [
              0.2222222222222222,
              "#7201a8"
             ],
             [
              0.3333333333333333,
              "#9c179e"
             ],
             [
              0.4444444444444444,
              "#bd3786"
             ],
             [
              0.5555555555555556,
              "#d8576b"
             ],
             [
              0.6666666666666666,
              "#ed7953"
             ],
             [
              0.7777777777777778,
              "#fb9f3a"
             ],
             [
              0.8888888888888888,
              "#fdca26"
             ],
             [
              1,
              "#f0f921"
             ]
            ],
            "type": "contour"
           }
          ],
          "contourcarpet": [
           {
            "colorbar": {
             "outlinewidth": 0,
             "ticks": ""
            },
            "type": "contourcarpet"
           }
          ],
          "heatmap": [
           {
            "colorbar": {
             "outlinewidth": 0,
             "ticks": ""
            },
            "colorscale": [
             [
              0,
              "#0d0887"
             ],
             [
              0.1111111111111111,
              "#46039f"
             ],
             [
              0.2222222222222222,
              "#7201a8"
             ],
             [
              0.3333333333333333,
              "#9c179e"
             ],
             [
              0.4444444444444444,
              "#bd3786"
             ],
             [
              0.5555555555555556,
              "#d8576b"
             ],
             [
              0.6666666666666666,
              "#ed7953"
             ],
             [
              0.7777777777777778,
              "#fb9f3a"
             ],
             [
              0.8888888888888888,
              "#fdca26"
             ],
             [
              1,
              "#f0f921"
             ]
            ],
            "type": "heatmap"
           }
          ],
          "heatmapgl": [
           {
            "colorbar": {
             "outlinewidth": 0,
             "ticks": ""
            },
            "colorscale": [
             [
              0,
              "#0d0887"
             ],
             [
              0.1111111111111111,
              "#46039f"
             ],
             [
              0.2222222222222222,
              "#7201a8"
             ],
             [
              0.3333333333333333,
              "#9c179e"
             ],
             [
              0.4444444444444444,
              "#bd3786"
             ],
             [
              0.5555555555555556,
              "#d8576b"
             ],
             [
              0.6666666666666666,
              "#ed7953"
             ],
             [
              0.7777777777777778,
              "#fb9f3a"
             ],
             [
              0.8888888888888888,
              "#fdca26"
             ],
             [
              1,
              "#f0f921"
             ]
            ],
            "type": "heatmapgl"
           }
          ],
          "histogram": [
           {
            "marker": {
             "pattern": {
              "fillmode": "overlay",
              "size": 10,
              "solidity": 0.2
             }
            },
            "type": "histogram"
           }
          ],
          "histogram2d": [
           {
            "colorbar": {
             "outlinewidth": 0,
             "ticks": ""
            },
            "colorscale": [
             [
              0,
              "#0d0887"
             ],
             [
              0.1111111111111111,
              "#46039f"
             ],
             [
              0.2222222222222222,
              "#7201a8"
             ],
             [
              0.3333333333333333,
              "#9c179e"
             ],
             [
              0.4444444444444444,
              "#bd3786"
             ],
             [
              0.5555555555555556,
              "#d8576b"
             ],
             [
              0.6666666666666666,
              "#ed7953"
             ],
             [
              0.7777777777777778,
              "#fb9f3a"
             ],
             [
              0.8888888888888888,
              "#fdca26"
             ],
             [
              1,
              "#f0f921"
             ]
            ],
            "type": "histogram2d"
           }
          ],
          "histogram2dcontour": [
           {
            "colorbar": {
             "outlinewidth": 0,
             "ticks": ""
            },
            "colorscale": [
             [
              0,
              "#0d0887"
             ],
             [
              0.1111111111111111,
              "#46039f"
             ],
             [
              0.2222222222222222,
              "#7201a8"
             ],
             [
              0.3333333333333333,
              "#9c179e"
             ],
             [
              0.4444444444444444,
              "#bd3786"
             ],
             [
              0.5555555555555556,
              "#d8576b"
             ],
             [
              0.6666666666666666,
              "#ed7953"
             ],
             [
              0.7777777777777778,
              "#fb9f3a"
             ],
             [
              0.8888888888888888,
              "#fdca26"
             ],
             [
              1,
              "#f0f921"
             ]
            ],
            "type": "histogram2dcontour"
           }
          ],
          "mesh3d": [
           {
            "colorbar": {
             "outlinewidth": 0,
             "ticks": ""
            },
            "type": "mesh3d"
           }
          ],
          "parcoords": [
           {
            "line": {
             "colorbar": {
              "outlinewidth": 0,
              "ticks": ""
             }
            },
            "type": "parcoords"
           }
          ],
          "pie": [
           {
            "automargin": true,
            "type": "pie"
           }
          ],
          "scatter": [
           {
            "fillpattern": {
             "fillmode": "overlay",
             "size": 10,
             "solidity": 0.2
            },
            "type": "scatter"
           }
          ],
          "scatter3d": [
           {
            "line": {
             "colorbar": {
              "outlinewidth": 0,
              "ticks": ""
             }
            },
            "marker": {
             "colorbar": {
              "outlinewidth": 0,
              "ticks": ""
             }
            },
            "type": "scatter3d"
           }
          ],
          "scattercarpet": [
           {
            "marker": {
             "colorbar": {
              "outlinewidth": 0,
              "ticks": ""
             }
            },
            "type": "scattercarpet"
           }
          ],
          "scattergeo": [
           {
            "marker": {
             "colorbar": {
              "outlinewidth": 0,
              "ticks": ""
             }
            },
            "type": "scattergeo"
           }
          ],
          "scattergl": [
           {
            "marker": {
             "colorbar": {
              "outlinewidth": 0,
              "ticks": ""
             }
            },
            "type": "scattergl"
           }
          ],
          "scattermapbox": [
           {
            "marker": {
             "colorbar": {
              "outlinewidth": 0,
              "ticks": ""
             }
            },
            "type": "scattermapbox"
           }
          ],
          "scatterpolar": [
           {
            "marker": {
             "colorbar": {
              "outlinewidth": 0,
              "ticks": ""
             }
            },
            "type": "scatterpolar"
           }
          ],
          "scatterpolargl": [
           {
            "marker": {
             "colorbar": {
              "outlinewidth": 0,
              "ticks": ""
             }
            },
            "type": "scatterpolargl"
           }
          ],
          "scatterternary": [
           {
            "marker": {
             "colorbar": {
              "outlinewidth": 0,
              "ticks": ""
             }
            },
            "type": "scatterternary"
           }
          ],
          "surface": [
           {
            "colorbar": {
             "outlinewidth": 0,
             "ticks": ""
            },
            "colorscale": [
             [
              0,
              "#0d0887"
             ],
             [
              0.1111111111111111,
              "#46039f"
             ],
             [
              0.2222222222222222,
              "#7201a8"
             ],
             [
              0.3333333333333333,
              "#9c179e"
             ],
             [
              0.4444444444444444,
              "#bd3786"
             ],
             [
              0.5555555555555556,
              "#d8576b"
             ],
             [
              0.6666666666666666,
              "#ed7953"
             ],
             [
              0.7777777777777778,
              "#fb9f3a"
             ],
             [
              0.8888888888888888,
              "#fdca26"
             ],
             [
              1,
              "#f0f921"
             ]
            ],
            "type": "surface"
           }
          ],
          "table": [
           {
            "cells": {
             "fill": {
              "color": "#EBF0F8"
             },
             "line": {
              "color": "white"
             }
            },
            "header": {
             "fill": {
              "color": "#C8D4E3"
             },
             "line": {
              "color": "white"
             }
            },
            "type": "table"
           }
          ]
         },
         "layout": {
          "annotationdefaults": {
           "arrowcolor": "#2a3f5f",
           "arrowhead": 0,
           "arrowwidth": 1
          },
          "autotypenumbers": "strict",
          "coloraxis": {
           "colorbar": {
            "outlinewidth": 0,
            "ticks": ""
           }
          },
          "colorscale": {
           "diverging": [
            [
             0,
             "#8e0152"
            ],
            [
             0.1,
             "#c51b7d"
            ],
            [
             0.2,
             "#de77ae"
            ],
            [
             0.3,
             "#f1b6da"
            ],
            [
             0.4,
             "#fde0ef"
            ],
            [
             0.5,
             "#f7f7f7"
            ],
            [
             0.6,
             "#e6f5d0"
            ],
            [
             0.7,
             "#b8e186"
            ],
            [
             0.8,
             "#7fbc41"
            ],
            [
             0.9,
             "#4d9221"
            ],
            [
             1,
             "#276419"
            ]
           ],
           "sequential": [
            [
             0,
             "#0d0887"
            ],
            [
             0.1111111111111111,
             "#46039f"
            ],
            [
             0.2222222222222222,
             "#7201a8"
            ],
            [
             0.3333333333333333,
             "#9c179e"
            ],
            [
             0.4444444444444444,
             "#bd3786"
            ],
            [
             0.5555555555555556,
             "#d8576b"
            ],
            [
             0.6666666666666666,
             "#ed7953"
            ],
            [
             0.7777777777777778,
             "#fb9f3a"
            ],
            [
             0.8888888888888888,
             "#fdca26"
            ],
            [
             1,
             "#f0f921"
            ]
           ],
           "sequentialminus": [
            [
             0,
             "#0d0887"
            ],
            [
             0.1111111111111111,
             "#46039f"
            ],
            [
             0.2222222222222222,
             "#7201a8"
            ],
            [
             0.3333333333333333,
             "#9c179e"
            ],
            [
             0.4444444444444444,
             "#bd3786"
            ],
            [
             0.5555555555555556,
             "#d8576b"
            ],
            [
             0.6666666666666666,
             "#ed7953"
            ],
            [
             0.7777777777777778,
             "#fb9f3a"
            ],
            [
             0.8888888888888888,
             "#fdca26"
            ],
            [
             1,
             "#f0f921"
            ]
           ]
          },
          "colorway": [
           "#636efa",
           "#EF553B",
           "#00cc96",
           "#ab63fa",
           "#FFA15A",
           "#19d3f3",
           "#FF6692",
           "#B6E880",
           "#FF97FF",
           "#FECB52"
          ],
          "font": {
           "color": "#2a3f5f"
          },
          "geo": {
           "bgcolor": "white",
           "lakecolor": "white",
           "landcolor": "#E5ECF6",
           "showlakes": true,
           "showland": true,
           "subunitcolor": "white"
          },
          "hoverlabel": {
           "align": "left"
          },
          "hovermode": "closest",
          "mapbox": {
           "style": "light"
          },
          "paper_bgcolor": "white",
          "plot_bgcolor": "#E5ECF6",
          "polar": {
           "angularaxis": {
            "gridcolor": "white",
            "linecolor": "white",
            "ticks": ""
           },
           "bgcolor": "#E5ECF6",
           "radialaxis": {
            "gridcolor": "white",
            "linecolor": "white",
            "ticks": ""
           }
          },
          "scene": {
           "xaxis": {
            "backgroundcolor": "#E5ECF6",
            "gridcolor": "white",
            "gridwidth": 2,
            "linecolor": "white",
            "showbackground": true,
            "ticks": "",
            "zerolinecolor": "white"
           },
           "yaxis": {
            "backgroundcolor": "#E5ECF6",
            "gridcolor": "white",
            "gridwidth": 2,
            "linecolor": "white",
            "showbackground": true,
            "ticks": "",
            "zerolinecolor": "white"
           },
           "zaxis": {
            "backgroundcolor": "#E5ECF6",
            "gridcolor": "white",
            "gridwidth": 2,
            "linecolor": "white",
            "showbackground": true,
            "ticks": "",
            "zerolinecolor": "white"
           }
          },
          "shapedefaults": {
           "line": {
            "color": "#2a3f5f"
           }
          },
          "ternary": {
           "aaxis": {
            "gridcolor": "white",
            "linecolor": "white",
            "ticks": ""
           },
           "baxis": {
            "gridcolor": "white",
            "linecolor": "white",
            "ticks": ""
           },
           "bgcolor": "#E5ECF6",
           "caxis": {
            "gridcolor": "white",
            "linecolor": "white",
            "ticks": ""
           }
          },
          "title": {
           "x": 0.05
          },
          "xaxis": {
           "automargin": true,
           "gridcolor": "white",
           "linecolor": "white",
           "ticks": "",
           "title": {
            "standoff": 15
           },
           "zerolinecolor": "white",
           "zerolinewidth": 2
          },
          "yaxis": {
           "automargin": true,
           "gridcolor": "white",
           "linecolor": "white",
           "ticks": "",
           "title": {
            "standoff": 15
           },
           "zerolinecolor": "white",
           "zerolinewidth": 2
          }
         }
        },
        "xaxis": {
         "anchor": "y",
         "domain": [
          0,
          1
         ],
         "title": {
          "text": "Crecimiento de la población rural (% anual)"
         }
        },
        "yaxis": {
         "anchor": "x",
         "domain": [
          0,
          1
         ],
         "title": {
          "text": "count"
         }
        }
       }
      }
     },
     "metadata": {},
     "output_type": "display_data"
    },
    {
     "data": {
      "application/vnd.plotly.v1+json": {
       "config": {
        "plotlyServerURL": "https://plot.ly"
       },
       "data": [
        {
         "alignmentgroup": "True",
         "bingroup": "x",
         "hovertemplate": "Crecimiento de la población urbana (% anual)=%{x}<br>count=%{y}<extra></extra>",
         "legendgroup": "",
         "marker": {
          "color": "#636efa",
          "pattern": {
           "shape": ""
          }
         },
         "name": "",
         "offsetgroup": "",
         "orientation": "v",
         "showlegend": false,
         "type": "histogram",
         "x": [
          2.1283910696389605,
          3.898013510075455,
          3.179585199990103,
          0.6235743294606139,
          0.8892553913812428,
          11.940175997756437,
          15.38033613688961,
          10.283084991857224,
          6.463627944355134,
          4.518348289350356,
          4.328815438509333,
          4.294823852366209,
          4.492655211887913,
          1.8613772996290123,
          1.153838615205034,
          6.863452978072443,
          7.953447688414972,
          4.588653257547177,
          4.474689589633171,
          5.034216003010457,
          2.688468426335618,
          2.893948900083993,
          4.449268735974437,
          3.7792790638517233,
          4.574493314062549,
          4.9589809843282495,
          4.344553351997275,
          4.5317685030321435,
          3.996007966761251,
          3.4526429063020245,
          3.7815566165204024,
          3.850832833468216,
          3.9192869845162,
          4.185357061659016,
          3.951857289023994,
          3.6756474132249832,
          0.4547457888409937,
          0.6142188441942537,
          0.741824997211081,
          1.0563651417731572,
          0.9349075552061926,
          0.8844703768891901,
          0.843967294783864,
          0.6362449363755237,
          0.5811059973085798,
          0.5745046243137623,
          0.4278410440898462,
          0.29588253808487186,
          0.3419131936884549,
          0.41194189383357094,
          0.4413136503110118,
          0.4391446308071111,
          0.32432495927583804,
          0.24521165253907704,
          0.20811530043384502,
          0.14877150577360868,
          0.12716767140537344,
          0.06745249492326379,
          0.002247262008338506,
          0.10048193447222686,
          -1.6019723147293934,
          0.2006874843783315,
          0.28585724685423625,
          0.4298335463266338,
          0.8786569393212802,
          0.8383010681136411,
          0.4216253915449165,
          0.3665151559733051,
          0.30826693577481973,
          0.18115752317826728,
          0.15974977086523962,
          1.1906548046642804,
          5.327563806665954,
          5.23778638575171,
          5.131566520502556,
          5.012399335616664,
          4.810286081983675,
          4.506026950218908,
          3.647118437886236,
          3.1882283297696636,
          3.1055961015573357,
          3.027671540896469,
          2.984244589810439,
          2.9417423752696568,
          2.882675706661743,
          2.818210954042699,
          2.7549835208146334,
          2.6875494775454345,
          2.585629356411886,
          2.4608597012664033,
          3.3406679862066033,
          4.23626307545006,
          4.20344260259126,
          4.126140744806686,
          4.009648521773662,
          3.4712087112967596,
          2.7468222809236584,
          2.4642885976919073,
          2.3880368762218493,
          2.2875728018545307,
          2.189460371582618,
          2.2797923446945383,
          2.562794482273035,
          2.649278832008808,
          2.5478289085464523,
          0.7364013263781448,
          0.132008528859113,
          1.52826624499769,
          4.777130420060711,
          4.321473019938384,
          4.177824324690226,
          4.016594613559472,
          3.8824507499169716,
          3.7994467912129446,
          3.6872556383144204,
          3.5303736144774653,
          3.3171486447084613,
          3.1413544377514695,
          3.0282985315412336,
          2.8380949305988685,
          2.769464534393413,
          2.7481123046651206,
          2.6907037793395636,
          2.640071820734245,
          2.619353160117175,
          2.6470662285032995,
          2.5761615389916677,
          2.6294119880867726,
          2.789987447481049,
          2.8486243884222255,
          2.892792881939079,
          2.921480595899897,
          2.923621640206755,
          2.9332583437715716,
          2.9212994166614354,
          2.901821798299828,
          2.888877931503774,
          2.852142556740059,
          2.783424625310664,
          2.700947183190818,
          2.607529823881084,
          2.4729887519154095,
          2.371249675400791,
          2.3140935770003614,
          1.9756909283185489,
          1.9613761389720004,
          1.9273529667464313,
          1.8838311003787775,
          1.8187577001347777,
          1.632186829093533,
          1.597564757526497,
          1.5837737486607641,
          1.5492079599160773,
          1.489269536632233,
          1.4220820953641378,
          1.378115353346389,
          1.3692487137448217,
          1.3466468981516686,
          1.3087316977070882,
          1.2759551881174473,
          1.2287921082729196,
          1.2091591746034285,
          1.2235923480231377,
          1.222209317886207,
          1.1901612579141687,
          1.1736148836157934,
          1.1919678157258913,
          0.4296495991451571,
          1.3081413160317232,
          1.2807737028339161,
          1.2594824300377767,
          1.2396386789084972,
          1.2157970630095452,
          1.1926029190680925,
          1.17019595911431,
          1.1476021589791883,
          1.1250197260364365,
          1.1004150527232597,
          1.0755150385612433,
          1.0536956642986972,
          1.4860625274327985,
          1.602236148866862,
          1.6577803124311494,
          1.4449416154151689,
          1.2394972436904952,
          0.9813364490977762,
          0.7393381482874924,
          0.8114935363193375,
          0.9607304271338817,
          1.0594296017412086,
          0.9273832770361059,
          0.8394668502901962,
          0.9364582295559383,
          0.984333804176905,
          1.1235787121919882,
          1.2824976086853317,
          1.2937548808944435,
          1.2113745389655237,
          1.3580804401213593,
          1.4888631544703859,
          1.9689347512768918,
          2.1464581901978703,
          2.2020063952894176,
          1.6955021612660996,
          1.5279574161434732,
          1.8653301369794273,
          1.8381757992261172,
          1.6084551017675455,
          1.5548005989414144,
          1.6773901276192782,
          1.7745288920833202,
          1.6286372149369646,
          1.6153357827211279,
          1.3714627263914,
          0.2679344561972466,
          1.2716873800665804,
          -0.3560971252417756,
          -0.2811678208092329,
          0.025989651615105476,
          0.332494357748522,
          0.5670723419927385,
          0.6657056244729832,
          0.38630338903200145,
          -0.05702969516226623,
          -0.2907436217549189,
          -0.3140662279665296,
          -0.33614684340576906,
          -0.3450783979079569,
          -0.262302086402193,
          -0.22017599153974882,
          -0.08162527651257435,
          0.02536986759978752,
          0.016674641082764695,
          0.14603311994825452,
          0.20460952456336462,
          0.015869680203451232,
          -0.1605279340785902,
          -0.17399096902381808,
          -0.22745214223755422,
          -0.2531731457674031,
          -0.15892184185428393,
          0.511947895650249,
          0.9195601994458508,
          1.1123852325778198,
          1.4490014803775664,
          1.4100617997364724,
          1.0204786258452712,
          0.8359055151181553,
          0.8179106073355795,
          0.8125731609667031,
          0.8552268345832902,
          1.4052105584854102,
          3.1628479986153653,
          3.0680430230675118,
          2.970844297146685,
          2.87472984486413,
          2.7636348884265356,
          2.662979206581422,
          2.588308071157166,
          2.5334366832127553,
          2.477506949577783,
          2.4181513686295517,
          2.4483634280816156,
          2.3913514466864254,
          2.312433772716016,
          2.227693973565337,
          1.7643339121442585,
          1.6630064843147563,
          1.5793726540722752,
          1.5254940721635313,
          1.4957830471607307,
          1.4496950253499787,
          1.3981936875778693,
          1.3473390069587725,
          1.304771880097898,
          1.2850668095719,
          1.2789566609780025,
          1.2447766366360353,
          1.204555808618318,
          1.1894093245539406,
          1.1706414140940484,
          1.1278820769593914,
          1.1020965880334732,
          1.0945584766721936,
          1.0602375534579185,
          0.9515534107949941,
          0.8084230040965346,
          0.731782791660602,
          4.583215281146654,
          4.524847735600922,
          4.475091655587957,
          4.4608623029795975,
          4.35613270999796,
          4.293644118059156,
          4.303733591625362,
          4.33373907258972,
          4.37046272736628,
          4.362779214983245,
          5.559057858094118,
          6.670962951507983,
          6.821605813516891,
          6.857564848322266,
          6.867020476335631,
          6.87438575377423,
          6.865102856767842,
          6.873132332223373,
          6.837877696297431,
          6.778652299526467,
          5.931429340611691,
          5.2561416766791025,
          5.220812478928267,
          5.213942985001723,
          5.229574839148561,
          5.272806597218803,
          5.230613935358637,
          5.187071441942436,
          5.161046779039062,
          5.10506038167532,
          5.007199056702995,
          4.885763880542749,
          4.8004043807470165,
          4.758616299569209,
          4.697431090757876,
          4.57853434254904,
          6.221625981411323,
          5.823151823433236,
          5.756773253853501,
          6.067316934740992,
          6.006828066634135,
          6.997333266758609,
          7.415795467343261,
          5.904156129014649,
          4.758535391927648,
          4.506903320602166,
          4.311445524639038,
          3.6766217851414265,
          2.575814617589181,
          2.456757645475426,
          2.4213357436061633,
          2.4195597009995145,
          2.402337466442627,
          2.3934826767120088,
          2.3757688140057,
          2.3489806461769183,
          2.3632986065567816,
          2.467234865091032,
          3.325629880612872,
          3.2671370936521544,
          3.255822995192824,
          3.2430778650594037,
          3.2113927294719207,
          3.175027434483354,
          3.1185403611756723,
          3.0942504108697833,
          3.0575753954151548,
          2.9813435599226064,
          2.8996920924232854,
          2.937896228955685,
          2.9484123564441505,
          2.8640361594812243,
          1.344305762448244,
          1.3227578895641232,
          1.8203191606825344,
          1.5337787829510634,
          1.2923694197516953,
          1.5315448526907294,
          1.4429982418106897,
          1.4342715993813466,
          1.3713515633419318,
          1.400008831496442,
          1.4915805807751303,
          1.318879884641235,
          1.2931168038030325,
          1.4042259543965454,
          1.50320904037894,
          1.1851322077389783,
          1.0002124780673127,
          1.0305118096741979,
          1.0406185882918788,
          1.123846754812511,
          1.1990188420915795,
          1.3090299052045533,
          1.364893947719586,
          1.3332687143949948,
          1.1749526421696832,
          1.1363623330505348,
          1.1071099946106973,
          1.054601419566208,
          0.7968079754804656,
          1.182792154861631,
          1.2610005519321845,
          1.4874155789950476,
          1.523308331279135,
          1.1719304616968245,
          0.6869291055140263,
          1.9445415616957635,
          4.522940472773121,
          4.3993871241572755,
          4.37862315464813,
          3.730904646648719,
          4.642772823386801,
          5.224120363502738,
          3.091378748455705,
          2.368840468997538,
          4.543465760008753,
          4.575234503775819,
          3.5696329495420294,
          3.5603089774080825,
          3.630031250139227,
          3.5671241095649058,
          3.4825209957009067,
          3.595700247380275,
          4.122533258864427,
          4.587731965735417,
          4.1432645783964634,
          3.692013796953749,
          3.5428041775584616,
          3.596653239273833,
          3.6691467231397388,
          3.640735801028905,
          3.807791690334885,
          3.88585227998914,
          4.034612028682556,
          4.1257939212315,
          3.8212691320244296,
          3.8655980214511576,
          4.119566293509382,
          4.253642660406279,
          4.244124880151057,
          4.190490624275432,
          4.2674619067798885,
          4.293859526892297,
          4.531582208445497,
          4.51483099420354,
          4.402632038310697,
          4.309678480702475,
          4.601685132143183,
          4.425117290267988,
          4.301547742837871,
          4.24584059723498,
          4.159637994183016,
          4.086051743942729,
          4.008285507958054,
          3.9080785656989603,
          3.770088729766077,
          3.6492527111585384,
          4.059565757675961,
          4.198001147646309,
          4.0784035264976755,
          3.9753721295435827,
          3.8824729757586156,
          3.674728093257034,
          3.5112555518277544,
          3.4339576888902608,
          3.338102467826714,
          3.255365494092436,
          3.1233771769448246,
          3.130656595525652,
          3.048365006284005,
          2.953497441918332,
          2.842870547791506,
          2.7756417692088906,
          2.7396638203529986,
          2.5034005035380757,
          2.2901772336289743,
          2.078140057792124,
          1.8385302823153327,
          1.6494808568802393,
          2.83855909992697,
          2.817837302569666,
          2.8017477595120353,
          2.7855479955969744,
          2.7093143847071124,
          2.6470739340179286,
          2.6210859155601867,
          2.5860213051491576,
          2.5208828242825123,
          2.4444223761346904,
          2.3899573020384883,
          2.3327377534880305,
          2.2634634558736733,
          2.198864927614093,
          2.1445136377235707,
          2.0952811334589274,
          2.033102900048294,
          1.9704997624010745,
          1.8984799880783363,
          1.8223282820074658,
          1.752892763556748,
          1.6717046360449448,
          1.6264044945868417,
          1.6116122516320563,
          1.568316263589828,
          1.5058010780646962,
          1.4464196940124667,
          1.3938936179834962,
          1.3804941917884512,
          1.4989563275072453,
          1.9333318022565855,
          2.307438448722989,
          2.233509463086878,
          1.8651095156142345,
          1.5299330135867848,
          1.0700157096443226,
          4.605557045434834,
          4.507577238430991,
          4.425931101345411,
          4.386157089679557,
          4.34871732825108,
          4.296707561904582,
          4.222892742147832,
          4.141121065777849,
          4.048837673643358,
          3.953711381953165,
          3.8592710071489478,
          3.7480254613065416,
          3.6194843373357775,
          3.500786609426771,
          4.116918185237692,
          3.8965411854064276,
          3.7140608728822153,
          3.573229195343279,
          3.447049130355416,
          3.337772794536585,
          3.2368925063305354,
          3.1524901420575837,
          3.0437180168751943,
          2.919069248713647,
          2.8056904996673735,
          2.672143798437205,
          2.5285730574344774,
          2.3818158371398166,
          2.251827420832913,
          2.1448654793290243,
          2.0344148426397144,
          1.922588528095821,
          1.7885179241658011,
          1.6199445225278835,
          1.406834717935002,
          1.2749453068970342,
          1.5743396674334647,
          1.6243742858076455,
          1.6320002650136105,
          1.591607675575863,
          1.2409601237810242,
          0.8553914557988405,
          0.7318670489572527,
          0.6284856423497815,
          0.5642657767682926,
          0.532314742640867,
          0.5772862779776968,
          0.6405500762664876,
          0.6408883092337487,
          0.6330893658455325,
          0.6072462514745068,
          0.581186005219123,
          0.47430093538046075,
          0.35627611763996603,
          0.30752263306011374,
          0.25107100913687347,
          0.20411046644506223,
          0.1814035169250365,
          0.17863073417810255,
          0.18425587791783335,
          0.1934617439347004,
          0.21348554192424335,
          0.16849034976918878,
          0.1364894778957529,
          0.11492939178297289,
          0.06288214219719165,
          0.011620555193697474,
          0.005901441460309119,
          -0.00856006868288057,
          -0.03130148229650188,
          -0.2661428488806823,
          -0.25234463784072525,
          0.25326878940897374,
          0.17384736048921492,
          0.18510619674748977,
          0.2402851338584796,
          0.292506210286496,
          0.36249194560072706,
          0.3649499687199843,
          0.3695017883663916,
          0.5527396079250125,
          0.597701841387743,
          0.4473065019508586,
          0.39492575831583343,
          0.3614434444221672,
          0.35067918093833184,
          0.41706362308916445,
          0.43684812011959423,
          0.400964130257149,
          0.4994684032255432,
          0.6138415379888773,
          0.6100965005589271,
          0.6697121043713884,
          0.8121043264504569,
          0.7279907662266512,
          0.6067660490746668,
          0.5982140628801327,
          0.5888078794187377,
          0.5888704896034707,
          0.6421394017860177,
          0.8390472384607026,
          0.9128530688329182,
          0.7744611852936001,
          0.6290886027040454,
          0.49458133494834355,
          0.4302016378290914,
          0.5740343041508684,
          0.9313341430038288,
          3.971567658675512,
          3.9026899413177523,
          3.8140886247678494,
          3.731319313224196,
          3.3547711283702286,
          3.034364987683198,
          2.893179509374419,
          2.8130696498649503,
          2.7588428741942805,
          2.7108141520421785,
          2.657443804067241,
          2.608889711775558,
          2.5737903685989085,
          2.550757610627123,
          2.545469734793412,
          2.2604075886735195,
          2.0721308827727616,
          2.0619822695317986,
          2.0441669739827093,
          2.0382179284111577,
          2.0358565580621346,
          2.019309249504699,
          1.9949911293092228,
          1.9718471803553264,
          1.8983669889540606,
          1.8202626404071127,
          1.7496930405962587,
          1.6988145610591625,
          1.696160574945962,
          1.7076780652761736,
          1.7671831661763635,
          2.1277909368757117,
          2.1678811836171064,
          1.6828266876288351,
          1.4855048967471338,
          1.4598027641498947,
          2.542899700756095,
          2.4166332871584983,
          2.3620910959035664,
          2.2593734667562426,
          2.1049596914336766,
          2.0167510410399783,
          1.9873720528409224,
          1.935836818074616,
          1.8838877560176788,
          1.8446073505454588,
          2.101496370794703,
          2.252406687655137,
          2.2209798754832706,
          2.181715961999553,
          2.163845004413648,
          2.1984136557619283,
          2.1950526050075503,
          2.138746881449537,
          2.0903103647057626,
          2.0534527649342422,
          1.9632803587233447,
          1.9119464294342055,
          1.9120182031078508,
          1.9811603997152423,
          2.1634647467577337,
          2.1359279167474363,
          2.192219287665944,
          2.2178207468778863,
          2.079125182944995,
          1.9623525334346141,
          1.9265626514659167,
          1.8965891200093725,
          1.854868207389625,
          1.857087003560915,
          1.842867362997052,
          1.8137468628209303,
          6.867192428571238,
          6.434969060283321,
          6.045656764552149,
          5.685723145012248,
          5.356106074770667,
          5.045482176753435,
          4.749269727230954,
          4.459240058059455,
          4.219395549923739,
          5.765777985304597,
          7.087214249364488,
          6.734077996161243,
          6.40725065907511,
          6.112729361045069,
          5.837919484954372,
          5.574400906962711,
          5.327679965644318,
          5.098092343550252,
          7.432144504653365,
          13.95183249077052,
          18.580684625119805,
          17.836556783290785,
          13.847739603762948,
          6.350900859779109,
          1.4943451764655709,
          1.4267617834044226,
          1.370981706375602,
          1.3189869012851856,
          1.2615593737863697,
          1.2029512363832178,
          1.1484108035024472,
          1.1066339467654978,
          1.0872044028123262,
          1.1156707533573191,
          1.1227494046699844,
          1.0871889754475947,
          0.5664727137502044,
          0.515594549642299,
          0.4580586673693966,
          0.40087871221167976,
          0.48915036602403356,
          0.5982708551454332,
          0.6269333097835857,
          0.5843768236020819,
          0.5495228751313005,
          0.5245588124463275,
          0.525729510167747,
          0.5203404258050546,
          0.5117056635878143,
          0.5534056111767166,
          0.8002258389688913,
          1.661162209420899,
          2.1280671647721205,
          2.042762099446718,
          2.0017576170627143,
          1.9992081028344255,
          2.157701090347765,
          1.8984465233298922,
          1.1853779023685578,
          0.7566078932748853,
          0.6493894603154821,
          0.35558183003649496,
          -0.03532948576084285,
          -0.004941594246866403,
          0.21932548266905613,
          0.3829717186427246,
          0.534737452920241,
          0.7384811672713235,
          1.021035077598803,
          0.7921445918164526,
          0.4096604147679949,
          0.7249043772713869,
          1.093244264398285,
          1.1070174737561496,
          1.140364939182744,
          1.410256285419027,
          1.867384398943116,
          1.908632996571436,
          1.8311822760499332,
          1.7309822295661026,
          1.6864666633733525,
          1.6527829780073895,
          1.6819752668148304,
          1.63762765741403,
          1.6129567715567326,
          1.5120113913871336,
          1.2133804217041788,
          1.148418846583119,
          1.0783603843803637,
          1.143885300851209,
          1.135884591134559,
          1.177968159686514,
          1.1630677610175635,
          1.1561856713353484,
          1.085290294288217,
          1.0353448006919075,
          0.93950541093758,
          0.9495655083706703,
          0.9145104135626368,
          0.95943078191871,
          0.9666747821802895,
          0.958268060593122,
          0.8717852601171909,
          0.767437430461766,
          0.7018677751956837,
          1.2126476574265423,
          0.409258906239677,
          0.6318473635323854,
          1.2748751522671415,
          1.2183792464534309,
          0.882690364366183,
          0.16256845818585086,
          0.2798677933148944,
          0.0915287085862288,
          -0.05893314011425868,
          -0.04108130324847793,
          -0.027101138329182897,
          -0.15226582143787773,
          -0.17079425653169275,
          -0.17093876523409016,
          -0.316093621727179,
          -0.42606872752483355,
          -0.4295440523861612,
          -0.4668410062030212,
          -0.4101588719572872,
          -0.34136940906381036,
          -0.32017895450860173,
          -0.26620854366703384,
          -0.10988230333406365,
          0.01721237963026058,
          0.08987395673949203,
          0.10598282338607413,
          0.13903301277443206,
          0.24829232338943655,
          0.3104762211914428,
          0.33535855064671977,
          0.3276926436186748,
          0.32407682052119824,
          0.2793122542241801,
          0.17654537427862083,
          0.15711497920047984,
          -0.007301468172134593,
          -0.19345084069567803,
          0.33007743306677223,
          3.2907404660000665,
          3.171858823697727,
          2.9625532180215854,
          2.8529816363162914,
          2.39604382686261,
          2.070002816430125,
          2.0811044021785077,
          1.9631936645082793,
          1.9181801293673688,
          2.253302741006645,
          1.971199141841614,
          1.9915107419660456,
          1.9858552325574086,
          1.9211133465293462,
          1.867922506111917,
          1.8218300554133537,
          1.7892323963871144,
          1.7720064852846946,
          1.7340479461740148,
          1.7132772180521196,
          1.6319021799690712,
          1.6412442029495913,
          1.5134263706585838,
          1.4074647611354703,
          1.3279748366720714,
          1.2662181891486264,
          1.2165535293923606,
          1.1755436250809634,
          1.1152773998623116,
          1.0533098971211385,
          0.9843715157889861,
          0.9010969476304688,
          0.830716449747723,
          1.0847862837334956,
          1.3115016260610164,
          1.399308402482994,
          1.224755569479752,
          1.2038200525491918,
          1.2430151513864314,
          1.2987819794263045,
          1.1441077047572508,
          0.9182268490772373,
          0.8339291254779909,
          0.7774302615332618,
          0.7218975825502335,
          0.6486598867331237,
          0.5961057468241434,
          0.5608739746522331,
          0.524180976119623,
          0.4964153011163365,
          0.45252798450547266,
          0.40614695853534477,
          0.4019738903549264,
          0.4523715607779706,
          0.5027936406284335,
          0.5428672778818722,
          0.5830735506616441,
          0.6229246376073493,
          0.6342013390992738,
          0.8653858999230027,
          1.1096746918039648,
          1.100086715735271,
          0.7949133668869377,
          0.4722815898878175,
          0.3880597113386705,
          0.34608656772384194,
          0.29328796080298314,
          0.19942296826627376,
          0.1851016152668161,
          0.2267038420042074,
          0.2996331896296475,
          0.38511932864947235,
          0.6041124631348974,
          0.6308175736365216,
          0.7873574979631695,
          1.3212123316671605,
          1.4351588193657854,
          0.9340389988124531,
          0.7567460289996083,
          0.6675205599180893,
          0.6351093191227914,
          0.606925096518486,
          0.6578657505145035,
          0.7199201090679956,
          0.5475194745804863,
          0.5728205456810154,
          0.7904356786447767,
          0.9000265953488493,
          0.7638515490196374,
          0.7671682895542249,
          0.8035967223211701,
          0.8027447150559187,
          0.7506734165641291,
          0.7549597467480955,
          0.7435522674524108,
          0.6018646445187915,
          0.3189014643752504,
          -0.07867476103785999,
          -0.270332500569186,
          -0.21853260265105623,
          -0.21712848445539024,
          0.020056563364463802,
          0.23121222602493896,
          0.2204969535175588,
          0.3112108212299048,
          0.1964550241413756,
          -0.13338491733904645,
          -0.3065977306319827,
          3.174360580118458,
          3.146482896972986,
          3.1301524694833667,
          3.092929502982423,
          3.0020431364131706,
          2.8702991297586684,
          2.8413248662854445,
          2.8118850183883835,
          2.7766922450331406,
          2.737602927674907,
          2.7029977876611295,
          2.668869589518424,
          2.628230166057256,
          2.598675552502611,
          2.7115739194366837,
          2.9377082549126623,
          2.87888612843243,
          2.824628589950517,
          2.7462519407498167,
          2.660297137830979,
          2.599633138319617,
          2.5528730219941287,
          2.512308891831391,
          2.492746289817134,
          2.4740324310132893,
          2.470338201649562,
          2.457264391385156,
          2.423844627179532,
          2.394052977198919,
          2.41309726336112,
          2.4074751362580042,
          2.359169974610453,
          2.3158019847765767,
          2.263634557072727,
          2.125468465054995,
          2.0246712172250088,
          0.6471882135940791,
          0.579693777670053,
          0.5617818354951098,
          0.4948343679123869,
          0.5659338024291553,
          0.5478722438688236,
          0.4992485234798539,
          0.4526843194830559,
          0.4077821654191456,
          0.39209874179223425,
          0.40065729795483235,
          0.43257732698971235,
          0.3419021111801904,
          0.3276095747449492,
          1.9316237589111416,
          2.2828721101181926,
          2.093400149337772,
          1.754431988048517,
          1.5778406674816683,
          1.3805809807849951,
          1.288009098271273,
          1.1282732314254984,
          0.9769490893727478,
          0.9283595327648572,
          0.09737660405158302,
          -0.07300099716017824,
          -0.05873318012622299,
          -0.04722910645408704,
          -0.0218270263170706,
          0.03199619804379166,
          0.0033754407742315196,
          -0.0384280781568938,
          -0.05100149145141581,
          -0.20263122266494107,
          -0.36738454006254634,
          -0.34810676218614073,
          4.137102327503772,
          4.125535961091317,
          4.082082037601316,
          4.983642491601084,
          4.95772371019549,
          4.7759483763439725,
          4.673959980789555,
          4.604910545127649,
          4.526933146845294,
          4.421947270644542,
          4.376846652110229,
          4.389091906797264,
          4.493254221361517,
          4.649669910457799,
          4.758207441298256,
          4.757876160264892,
          4.6863615325508805,
          4.702835005006078,
          4.674886415012896,
          4.667345811799759,
          4.652585087540297,
          4.659556204657676,
          4.626563536053509,
          4.477313458116788,
          4.329857233793867,
          4.2097200458259865,
          4.110202956042342,
          4.001703305728008,
          3.9181686051053424,
          3.9292922985165997,
          3.911179713952262,
          3.7793083614602665,
          3.7277707125201647,
          3.768242362576262,
          3.706016740525365,
          3.6801440534946446,
          3.5482304040736357,
          3.4294801215782282,
          3.3146614947322295,
          3.2448994015950654,
          3.173106526264069,
          3.1069659723971266,
          3.0301947261968056,
          2.9436052376594724,
          2.2766544307458,
          2.1291503276260495,
          2.091977620640564,
          2.055010925501809,
          1.9990076642470698,
          1.9474395869450225,
          1.9183284894941157,
          1.8860761765635323,
          1.8231034155072652,
          1.8460962628930193,
          2.2842948276097435,
          2.340857440064627,
          2.306803370696354,
          2.285321467535448,
          2.2711605433018573,
          2.2886969542181914,
          2.3083784688174456,
          2.3068650690504575,
          2.2833035148654517,
          2.23507317556878,
          2.1666259404224495,
          2.125203225233118,
          2.0807538329953608,
          1.9943831984291491,
          1.9061080819999385,
          1.903584018846942,
          1.8869323492949812,
          1.8488198994253957,
          2.4516784547412955,
          2.4218979945448678,
          2.3850621390816484,
          2.486373510669646,
          2.530709025940353,
          2.496049510389863,
          2.466094869721922,
          2.4360907860503525,
          2.380202228973731,
          2.192073728969879,
          2.07913487858911,
          2.0328203058326397,
          1.9836901639295204,
          1.961319695561759,
          1.9732783521904471,
          1.9459599387844337,
          1.9071383624649039,
          1.8850048510026782,
          1.8379025233850594,
          1.7633537031172775,
          1.7122359036728108,
          1.6593824073570291,
          1.6219019921240394,
          1.7064033681494402,
          1.8073070747990396,
          1.772296087815335,
          1.6914361200733752,
          1.6143460911167669,
          1.5359802968669025,
          1.5008486774346015,
          1.4441855406099606,
          1.3128668791684117,
          1.218921360037581,
          1.0833782273575836,
          0.9118239772623185,
          0.9785428290188815,
          5.787530060327476,
          5.764076244861916,
          5.853380685161027,
          6.031847464770848,
          6.203524373379411,
          7.08454773363073,
          6.95355542439466,
          6.698441941174098,
          6.539542940149283,
          6.323644600675278,
          6.198206552114298,
          6.088063577290244,
          5.9752060460975445,
          5.823998660469238,
          5.625200602476321,
          3.5748823752544685,
          3.4461268653779236,
          3.3050952685761033,
          3.129453167171106,
          2.930862886051398,
          2.773587507283888,
          2.658824808518062,
          2.561661836318202,
          2.508896822215874,
          2.3926024938212587,
          2.260705475166335,
          2.210192402109384,
          2.332875603702882,
          2.5797709475940853,
          2.9579372931451466,
          3.2086427679253284,
          3.2083939480064547,
          3.2069647608971352,
          3.8514772570941624,
          4.3895210502417985,
          3.7790431430393885,
          0.6498479611338327,
          0.7180071709306051,
          0.5925432817383189,
          0.5222009168988254,
          0.9050355044259695,
          1.1291510622728025,
          1.1387337006383311,
          1.1044729522392358,
          0.9728152037327322,
          0.8788842189187099,
          1.0996649111092807,
          1.3324994271651713,
          1.404583035738398,
          1.2440742747676274,
          0.9758811120274965,
          1.0030129779215498,
          1.0429117990712773,
          0.9987266426102315,
          1.037036357915938,
          1.1588223427851225,
          1.3984074341139392,
          1.6188667515920026,
          1.628476396999145,
          1.6091560647948113,
          1.7424571041418913,
          1.839399766231812,
          1.7236252031438835,
          1.6321515646989402,
          1.4883377798802149,
          1.3656788602145773,
          1.2802461092985642,
          1.1195328116205598,
          1.121488617796112,
          1.0211550755443974,
          0.9544840879157971,
          1.306827166079059,
          1.153901488511477,
          0.5632678323731399,
          0.7620726300505397,
          1.202097772752557,
          5.090113659192616,
          1.2217061005170595,
          1.3174815827659088,
          1.5050467664935567,
          1.6386733197439587,
          1.7543346757677005,
          1.4068308501019504,
          0.9804911448974347,
          0.6186107573118167,
          0.6806132084266525,
          0.6811004200362389,
          1.8079801668730893,
          2.043170656705715,
          1.5557902659874145,
          1.1982972553914122,
          1.2872729251930273,
          0.8629523764255801,
          0.7791703764664135,
          0.9301823304200217,
          1.0421016599329491,
          0.6928208548870795,
          0.6190424838937052,
          0.837960846621025,
          1.7305681183892005,
          2.1055579734770324,
          2.3143339994473453,
          2.1650832372180293,
          1.8744788997060904,
          1.6801011076142907,
          2.301713162836472,
          0.5193877621065152,
          0.35755486129785674,
          4.580076115394546,
          4.469704327266423,
          3.5748824044048053,
          3.6038067962044327,
          3.6308063106807786,
          3.6292355631259645,
          3.674321099911173,
          3.731358703253149,
          3.842521531322117,
          3.8851695332297793,
          3.8513670142042162,
          3.8989888906381998,
          3.9268640795334626,
          3.937906763977285,
          3.9126765224592894,
          3.4413830445569213,
          3.4798239146899843,
          3.5245932867079213,
          3.5573865893600147,
          3.589795926797524,
          3.6165811761296207,
          3.641714191058665,
          3.6765456764936513,
          3.70603745675428,
          3.715873568059073,
          3.7859058654193123,
          3.793529378925627,
          3.849041377604059,
          4.001336631912792,
          4.1314171137949005,
          4.194572589547849,
          4.245276178483144,
          4.323992046851227,
          4.384869056271713,
          4.456430699210834,
          4.563064135568778,
          1.2228014349017637,
          1.2265186598314277,
          1.1725965866090853,
          1.2551054608442933,
          1.7227312038097506,
          2.0373204299406424,
          1.9381379490778603,
          1.8080228169111572,
          1.664066360649869,
          1.5962735198780176,
          1.6127322585082704,
          1.6814295401444308,
          1.6967049292820044,
          1.7159221043894939,
          2.0935812321597194,
          2.2733141762488875,
          2.012103460202466,
          1.796942841275587,
          1.5934688036883131,
          1.3707367708082583,
          1.2914136658509312,
          1.404945287934817,
          1.546387424797709,
          1.4885841676316205,
          1.317805474921001,
          1.173607400310879,
          0.9687086473180309,
          0.9222278784882578,
          0.9802962002441028,
          1.0432171912923838,
          1.0776861057997087,
          1.036375039121553,
          1.0760840670840992,
          0.9466107065641475,
          0.8871081290155785,
          1.3038105749916147,
          0.148791811229706,
          0.15817815037560615,
          0.19638445018833484,
          0.23496471435184063,
          0.2734087360998035,
          0.34721379269149705,
          0.3164692620699656,
          0.33253013249647656,
          0.34115361398139143,
          0.3311737540959666,
          0.3327662550061342,
          0.3678385110251781,
          0.40850566528277277,
          0.43361566105197613,
          0.512040255282785,
          0.7985010152836943,
          0.8343597531411671,
          0.9337973341736204,
          1.0451336765154104,
          1.0897954746412943,
          1.1271899550309774,
          1.1318691961886218,
          1.0951052678930226,
          1.1177710853051193,
          1.1105991711088403,
          1.0221455201881071,
          0.9930322732438243,
          1.0562851502988524,
          1.1087479828539097,
          1.0720516208765303,
          0.9889588915897911,
          0.9121610824417962,
          0.8682308868767964,
          0.6653624930505612,
          0.21440609155217394,
          0.20997558661724694,
          4.972997639904371,
          4.562877556127509,
          4.024618084000548,
          3.8373649015764837,
          3.614069317631436,
          15.81869775995877,
          18.28268100542429,
          -1.1257193691782446,
          -2.154416174659821,
          31.14342450074565,
          22.414590024431824,
          9.236427254152535,
          7.199740238569221,
          7.194394516049045,
          7.269232142696293,
          7.604488693715612,
          3.0645012457343777,
          2.6029286862680743,
          2.6553348876091634,
          2.6943429571556634,
          2.717336978336797,
          2.7052617929371436,
          2.670116506007636,
          2.6306921127619587,
          2.5891600604436094,
          2.489352536176433,
          2.402897303681363,
          2.4954637651520115,
          2.603805546877216,
          2.748321470249086,
          2.8825693326911628,
          2.935928105741702,
          2.9816934998354445,
          3.0817259560539108,
          3.1488701713910454,
          3.178769094712497,
          0.2463718060370086,
          0.4064587282668626,
          0.25881970223705564,
          0.17684959765263253,
          0.3080372080080246,
          0.9212294315246632,
          1.3346924056277953,
          1.4276651129110816,
          1.4500762407219183,
          1.4476764752761226,
          1.4425013936508244,
          1.4448823160879385,
          1.419287423522136,
          1.3944796300870044,
          1.2386189661760345,
          0.012211354132222619,
          -0.6787661292162307,
          -0.7800004989026319,
          -0.8261013911556895,
          -0.7247044518906995,
          -0.5299162013155447,
          -0.4107198431470773,
          -0.37415572366157535,
          -0.3294980056744772,
          -0.24847915442337207,
          -0.2799575471413051,
          -0.3142793488180661,
          -0.3204468319956186,
          -0.339655744820821,
          -0.27307854319293057,
          -0.22422118636557442,
          -0.14627523243393115,
          0.015682584522062504,
          0.4875451249913992,
          0.9422554247281031,
          0.9283546183699929,
          3.403283993364861,
          3.4176666259112984,
          3.211477422296375,
          4.621976775103163,
          1.9111502426918507,
          -1.0658015566488321,
          0.5577705620888407,
          1.1430370839457695,
          0.9036102412887249,
          1.2245034610417023,
          2.001723497716798,
          1.697556203614373,
          1.2446052231850684,
          3.086418140844553,
          6.459611628750142,
          6.335839023852803,
          4.689846189130064,
          4.021307837892697,
          3.5535789713413215,
          3.2351108061045215,
          3.232099889768441,
          3.54633895708249,
          3.752993791836584,
          3.7948278239791264,
          3.696691448204553,
          3.628716358613937,
          3.552432158304289,
          3.477426003162809,
          3.3858035667917217,
          3.3919855800728564,
          3.4059046687374828,
          3.3660310294677447,
          3.347745277132548,
          3.3270717050982723,
          3.2823802919501723,
          3.226821588015336,
          1.5038330579556984,
          2.537773867336667,
          2.935743734549831,
          3.889093607452959,
          2.845482864865634,
          3.0042563946204712,
          2.529806747326801,
          3.1365869318362494,
          3.0378134848112404,
          4.064318468390292,
          3.3574421951606572,
          3.397212276772866,
          0.799148451003949,
          1.7320422325425724,
          2.6973558432635993,
          0.9126398057767959,
          -1.474532841919399,
          1.2519166730553046,
          2.350511288571745,
          3.1293891560754004,
          4.16600286360931,
          5.321517083026247,
          3.015949914757881,
          1.77183287926401,
          2.084902456060072,
          2.453390330310204,
          1.6193080985887283,
          1.298440177992262,
          1.1863769374982205,
          1.2974360993860168,
          0.08859546999244845,
          0.4697042987141205,
          1.1442833068892873,
          -0.31190496125082146,
          -4.170336300175264,
          3.3086205243952267,
          4.562023379522625,
          4.51898809212765,
          4.392617115223611,
          4.106003041483585,
          3.5470157908731856,
          2.9726482488582047,
          2.721094665739983,
          2.629443703136207,
          2.5346076759306824,
          2.4030020827761565,
          2.259344930539681,
          2.1082749543580053,
          1.9678821263693178,
          1.8101623292566678,
          1.7206098234553275,
          1.829719299044168,
          1.8662520459822947,
          1.8668440924586183,
          1.8613332399752838,
          1.86818148741063,
          1.9070581260828265,
          2.01672235144201,
          2.0570864929356425,
          2.050150460034685,
          2.108455376035565,
          2.163963020258934,
          2.1816796858954883,
          2.3865715124131177,
          2.8731533422612863,
          1.7602140529582897,
          1.1632500533664545,
          1.9894996635793318,
          2.0472657656091844,
          1.9653047455294559,
          1.7282073542958645,
          1.5577491240873016,
          0.5471832997406018,
          0.6525978768824383,
          0.7274579033493733,
          0.9457586402584107,
          1.172688611434501,
          1.0293882042463516,
          0.8388868302428978,
          0.7239156256846261,
          0.5949691916426191,
          0.3682937729058158,
          0.16749073766257144,
          0.22368290088906978,
          0.40341218491824465,
          0.48703219228885275,
          0.6218652812881617,
          0.7919127279971216,
          0.7773218634017192,
          0.721465950344645,
          0.6759925011869559,
          0.662946312521288,
          0.929048227949449,
          1.3059806326360273,
          1.2834583639725483,
          1.0768961158326058,
          1.1444791124630271,
          1.0916891125772283,
          1.1783921446923329,
          1.2499608319579487,
          1.1681863910415573,
          1.1205135985727916,
          0.9629864390238949,
          0.785417652319277,
          0.783765811954327,
          0.8199982098499808,
          0.8619263559899537,
          0.8889480574963375,
          3.168451949044112,
          3.1109605642520526,
          3.0440471238588276,
          2.9724034232568775,
          2.829512234599702,
          2.727842081962857,
          2.6519771671988908,
          2.5803218998683706,
          2.5145922597882358,
          2.454442743978897,
          2.4041267083490783,
          2.359665681968035,
          2.2991656547031543,
          2.2440442239784653,
          2.1671463955483468,
          1.8249635252152139,
          1.794738905357525,
          1.7404662107296465,
          1.7002811414201828,
          1.6412312125560609,
          1.5783169944890703,
          1.5024444662347314,
          1.430358921588662,
          1.3868718974865817,
          1.3469556929030002,
          1.2951320997476767,
          1.2509651129831436,
          1.195999460606659,
          1.1195312538838176,
          0.7036635598359887,
          -0.5603940329049961,
          -2.415196646409056,
          -2.868724752078399,
          -1.6307974245852044,
          -0.9730828449571554,
          0.4204332610864717
         ],
         "xaxis": "x",
         "yaxis": "y"
        }
       ],
       "layout": {
        "barmode": "relative",
        "legend": {
         "tracegroupgap": 0
        },
        "margin": {
         "t": 60
        },
        "template": {
         "data": {
          "bar": [
           {
            "error_x": {
             "color": "#2a3f5f"
            },
            "error_y": {
             "color": "#2a3f5f"
            },
            "marker": {
             "line": {
              "color": "#E5ECF6",
              "width": 0.5
             },
             "pattern": {
              "fillmode": "overlay",
              "size": 10,
              "solidity": 0.2
             }
            },
            "type": "bar"
           }
          ],
          "barpolar": [
           {
            "marker": {
             "line": {
              "color": "#E5ECF6",
              "width": 0.5
             },
             "pattern": {
              "fillmode": "overlay",
              "size": 10,
              "solidity": 0.2
             }
            },
            "type": "barpolar"
           }
          ],
          "carpet": [
           {
            "aaxis": {
             "endlinecolor": "#2a3f5f",
             "gridcolor": "white",
             "linecolor": "white",
             "minorgridcolor": "white",
             "startlinecolor": "#2a3f5f"
            },
            "baxis": {
             "endlinecolor": "#2a3f5f",
             "gridcolor": "white",
             "linecolor": "white",
             "minorgridcolor": "white",
             "startlinecolor": "#2a3f5f"
            },
            "type": "carpet"
           }
          ],
          "choropleth": [
           {
            "colorbar": {
             "outlinewidth": 0,
             "ticks": ""
            },
            "type": "choropleth"
           }
          ],
          "contour": [
           {
            "colorbar": {
             "outlinewidth": 0,
             "ticks": ""
            },
            "colorscale": [
             [
              0,
              "#0d0887"
             ],
             [
              0.1111111111111111,
              "#46039f"
             ],
             [
              0.2222222222222222,
              "#7201a8"
             ],
             [
              0.3333333333333333,
              "#9c179e"
             ],
             [
              0.4444444444444444,
              "#bd3786"
             ],
             [
              0.5555555555555556,
              "#d8576b"
             ],
             [
              0.6666666666666666,
              "#ed7953"
             ],
             [
              0.7777777777777778,
              "#fb9f3a"
             ],
             [
              0.8888888888888888,
              "#fdca26"
             ],
             [
              1,
              "#f0f921"
             ]
            ],
            "type": "contour"
           }
          ],
          "contourcarpet": [
           {
            "colorbar": {
             "outlinewidth": 0,
             "ticks": ""
            },
            "type": "contourcarpet"
           }
          ],
          "heatmap": [
           {
            "colorbar": {
             "outlinewidth": 0,
             "ticks": ""
            },
            "colorscale": [
             [
              0,
              "#0d0887"
             ],
             [
              0.1111111111111111,
              "#46039f"
             ],
             [
              0.2222222222222222,
              "#7201a8"
             ],
             [
              0.3333333333333333,
              "#9c179e"
             ],
             [
              0.4444444444444444,
              "#bd3786"
             ],
             [
              0.5555555555555556,
              "#d8576b"
             ],
             [
              0.6666666666666666,
              "#ed7953"
             ],
             [
              0.7777777777777778,
              "#fb9f3a"
             ],
             [
              0.8888888888888888,
              "#fdca26"
             ],
             [
              1,
              "#f0f921"
             ]
            ],
            "type": "heatmap"
           }
          ],
          "heatmapgl": [
           {
            "colorbar": {
             "outlinewidth": 0,
             "ticks": ""
            },
            "colorscale": [
             [
              0,
              "#0d0887"
             ],
             [
              0.1111111111111111,
              "#46039f"
             ],
             [
              0.2222222222222222,
              "#7201a8"
             ],
             [
              0.3333333333333333,
              "#9c179e"
             ],
             [
              0.4444444444444444,
              "#bd3786"
             ],
             [
              0.5555555555555556,
              "#d8576b"
             ],
             [
              0.6666666666666666,
              "#ed7953"
             ],
             [
              0.7777777777777778,
              "#fb9f3a"
             ],
             [
              0.8888888888888888,
              "#fdca26"
             ],
             [
              1,
              "#f0f921"
             ]
            ],
            "type": "heatmapgl"
           }
          ],
          "histogram": [
           {
            "marker": {
             "pattern": {
              "fillmode": "overlay",
              "size": 10,
              "solidity": 0.2
             }
            },
            "type": "histogram"
           }
          ],
          "histogram2d": [
           {
            "colorbar": {
             "outlinewidth": 0,
             "ticks": ""
            },
            "colorscale": [
             [
              0,
              "#0d0887"
             ],
             [
              0.1111111111111111,
              "#46039f"
             ],
             [
              0.2222222222222222,
              "#7201a8"
             ],
             [
              0.3333333333333333,
              "#9c179e"
             ],
             [
              0.4444444444444444,
              "#bd3786"
             ],
             [
              0.5555555555555556,
              "#d8576b"
             ],
             [
              0.6666666666666666,
              "#ed7953"
             ],
             [
              0.7777777777777778,
              "#fb9f3a"
             ],
             [
              0.8888888888888888,
              "#fdca26"
             ],
             [
              1,
              "#f0f921"
             ]
            ],
            "type": "histogram2d"
           }
          ],
          "histogram2dcontour": [
           {
            "colorbar": {
             "outlinewidth": 0,
             "ticks": ""
            },
            "colorscale": [
             [
              0,
              "#0d0887"
             ],
             [
              0.1111111111111111,
              "#46039f"
             ],
             [
              0.2222222222222222,
              "#7201a8"
             ],
             [
              0.3333333333333333,
              "#9c179e"
             ],
             [
              0.4444444444444444,
              "#bd3786"
             ],
             [
              0.5555555555555556,
              "#d8576b"
             ],
             [
              0.6666666666666666,
              "#ed7953"
             ],
             [
              0.7777777777777778,
              "#fb9f3a"
             ],
             [
              0.8888888888888888,
              "#fdca26"
             ],
             [
              1,
              "#f0f921"
             ]
            ],
            "type": "histogram2dcontour"
           }
          ],
          "mesh3d": [
           {
            "colorbar": {
             "outlinewidth": 0,
             "ticks": ""
            },
            "type": "mesh3d"
           }
          ],
          "parcoords": [
           {
            "line": {
             "colorbar": {
              "outlinewidth": 0,
              "ticks": ""
             }
            },
            "type": "parcoords"
           }
          ],
          "pie": [
           {
            "automargin": true,
            "type": "pie"
           }
          ],
          "scatter": [
           {
            "fillpattern": {
             "fillmode": "overlay",
             "size": 10,
             "solidity": 0.2
            },
            "type": "scatter"
           }
          ],
          "scatter3d": [
           {
            "line": {
             "colorbar": {
              "outlinewidth": 0,
              "ticks": ""
             }
            },
            "marker": {
             "colorbar": {
              "outlinewidth": 0,
              "ticks": ""
             }
            },
            "type": "scatter3d"
           }
          ],
          "scattercarpet": [
           {
            "marker": {
             "colorbar": {
              "outlinewidth": 0,
              "ticks": ""
             }
            },
            "type": "scattercarpet"
           }
          ],
          "scattergeo": [
           {
            "marker": {
             "colorbar": {
              "outlinewidth": 0,
              "ticks": ""
             }
            },
            "type": "scattergeo"
           }
          ],
          "scattergl": [
           {
            "marker": {
             "colorbar": {
              "outlinewidth": 0,
              "ticks": ""
             }
            },
            "type": "scattergl"
           }
          ],
          "scattermapbox": [
           {
            "marker": {
             "colorbar": {
              "outlinewidth": 0,
              "ticks": ""
             }
            },
            "type": "scattermapbox"
           }
          ],
          "scatterpolar": [
           {
            "marker": {
             "colorbar": {
              "outlinewidth": 0,
              "ticks": ""
             }
            },
            "type": "scatterpolar"
           }
          ],
          "scatterpolargl": [
           {
            "marker": {
             "colorbar": {
              "outlinewidth": 0,
              "ticks": ""
             }
            },
            "type": "scatterpolargl"
           }
          ],
          "scatterternary": [
           {
            "marker": {
             "colorbar": {
              "outlinewidth": 0,
              "ticks": ""
             }
            },
            "type": "scatterternary"
           }
          ],
          "surface": [
           {
            "colorbar": {
             "outlinewidth": 0,
             "ticks": ""
            },
            "colorscale": [
             [
              0,
              "#0d0887"
             ],
             [
              0.1111111111111111,
              "#46039f"
             ],
             [
              0.2222222222222222,
              "#7201a8"
             ],
             [
              0.3333333333333333,
              "#9c179e"
             ],
             [
              0.4444444444444444,
              "#bd3786"
             ],
             [
              0.5555555555555556,
              "#d8576b"
             ],
             [
              0.6666666666666666,
              "#ed7953"
             ],
             [
              0.7777777777777778,
              "#fb9f3a"
             ],
             [
              0.8888888888888888,
              "#fdca26"
             ],
             [
              1,
              "#f0f921"
             ]
            ],
            "type": "surface"
           }
          ],
          "table": [
           {
            "cells": {
             "fill": {
              "color": "#EBF0F8"
             },
             "line": {
              "color": "white"
             }
            },
            "header": {
             "fill": {
              "color": "#C8D4E3"
             },
             "line": {
              "color": "white"
             }
            },
            "type": "table"
           }
          ]
         },
         "layout": {
          "annotationdefaults": {
           "arrowcolor": "#2a3f5f",
           "arrowhead": 0,
           "arrowwidth": 1
          },
          "autotypenumbers": "strict",
          "coloraxis": {
           "colorbar": {
            "outlinewidth": 0,
            "ticks": ""
           }
          },
          "colorscale": {
           "diverging": [
            [
             0,
             "#8e0152"
            ],
            [
             0.1,
             "#c51b7d"
            ],
            [
             0.2,
             "#de77ae"
            ],
            [
             0.3,
             "#f1b6da"
            ],
            [
             0.4,
             "#fde0ef"
            ],
            [
             0.5,
             "#f7f7f7"
            ],
            [
             0.6,
             "#e6f5d0"
            ],
            [
             0.7,
             "#b8e186"
            ],
            [
             0.8,
             "#7fbc41"
            ],
            [
             0.9,
             "#4d9221"
            ],
            [
             1,
             "#276419"
            ]
           ],
           "sequential": [
            [
             0,
             "#0d0887"
            ],
            [
             0.1111111111111111,
             "#46039f"
            ],
            [
             0.2222222222222222,
             "#7201a8"
            ],
            [
             0.3333333333333333,
             "#9c179e"
            ],
            [
             0.4444444444444444,
             "#bd3786"
            ],
            [
             0.5555555555555556,
             "#d8576b"
            ],
            [
             0.6666666666666666,
             "#ed7953"
            ],
            [
             0.7777777777777778,
             "#fb9f3a"
            ],
            [
             0.8888888888888888,
             "#fdca26"
            ],
            [
             1,
             "#f0f921"
            ]
           ],
           "sequentialminus": [
            [
             0,
             "#0d0887"
            ],
            [
             0.1111111111111111,
             "#46039f"
            ],
            [
             0.2222222222222222,
             "#7201a8"
            ],
            [
             0.3333333333333333,
             "#9c179e"
            ],
            [
             0.4444444444444444,
             "#bd3786"
            ],
            [
             0.5555555555555556,
             "#d8576b"
            ],
            [
             0.6666666666666666,
             "#ed7953"
            ],
            [
             0.7777777777777778,
             "#fb9f3a"
            ],
            [
             0.8888888888888888,
             "#fdca26"
            ],
            [
             1,
             "#f0f921"
            ]
           ]
          },
          "colorway": [
           "#636efa",
           "#EF553B",
           "#00cc96",
           "#ab63fa",
           "#FFA15A",
           "#19d3f3",
           "#FF6692",
           "#B6E880",
           "#FF97FF",
           "#FECB52"
          ],
          "font": {
           "color": "#2a3f5f"
          },
          "geo": {
           "bgcolor": "white",
           "lakecolor": "white",
           "landcolor": "#E5ECF6",
           "showlakes": true,
           "showland": true,
           "subunitcolor": "white"
          },
          "hoverlabel": {
           "align": "left"
          },
          "hovermode": "closest",
          "mapbox": {
           "style": "light"
          },
          "paper_bgcolor": "white",
          "plot_bgcolor": "#E5ECF6",
          "polar": {
           "angularaxis": {
            "gridcolor": "white",
            "linecolor": "white",
            "ticks": ""
           },
           "bgcolor": "#E5ECF6",
           "radialaxis": {
            "gridcolor": "white",
            "linecolor": "white",
            "ticks": ""
           }
          },
          "scene": {
           "xaxis": {
            "backgroundcolor": "#E5ECF6",
            "gridcolor": "white",
            "gridwidth": 2,
            "linecolor": "white",
            "showbackground": true,
            "ticks": "",
            "zerolinecolor": "white"
           },
           "yaxis": {
            "backgroundcolor": "#E5ECF6",
            "gridcolor": "white",
            "gridwidth": 2,
            "linecolor": "white",
            "showbackground": true,
            "ticks": "",
            "zerolinecolor": "white"
           },
           "zaxis": {
            "backgroundcolor": "#E5ECF6",
            "gridcolor": "white",
            "gridwidth": 2,
            "linecolor": "white",
            "showbackground": true,
            "ticks": "",
            "zerolinecolor": "white"
           }
          },
          "shapedefaults": {
           "line": {
            "color": "#2a3f5f"
           }
          },
          "ternary": {
           "aaxis": {
            "gridcolor": "white",
            "linecolor": "white",
            "ticks": ""
           },
           "baxis": {
            "gridcolor": "white",
            "linecolor": "white",
            "ticks": ""
           },
           "bgcolor": "#E5ECF6",
           "caxis": {
            "gridcolor": "white",
            "linecolor": "white",
            "ticks": ""
           }
          },
          "title": {
           "x": 0.05
          },
          "xaxis": {
           "automargin": true,
           "gridcolor": "white",
           "linecolor": "white",
           "ticks": "",
           "title": {
            "standoff": 15
           },
           "zerolinecolor": "white",
           "zerolinewidth": 2
          },
          "yaxis": {
           "automargin": true,
           "gridcolor": "white",
           "linecolor": "white",
           "ticks": "",
           "title": {
            "standoff": 15
           },
           "zerolinecolor": "white",
           "zerolinewidth": 2
          }
         }
        },
        "xaxis": {
         "anchor": "y",
         "domain": [
          0,
          1
         ],
         "title": {
          "text": "Crecimiento de la población urbana (% anual)"
         }
        },
        "yaxis": {
         "anchor": "x",
         "domain": [
          0,
          1
         ],
         "title": {
          "text": "count"
         }
        }
       }
      }
     },
     "metadata": {},
     "output_type": "display_data"
    }
   ],
   "source": [
    "for i in df_pivoted.columns[2:]:\n",
    "    fig = px.histogram(data_frame=df_pivoted, x=i)\n",
    "    fig.show()"
   ]
  },
  {
   "cell_type": "code",
   "execution_count": 21,
   "metadata": {},
   "outputs": [],
   "source": [
    "def graficar(pais, indicador):\n",
    "    df_pivoted_pais = df_pivoted[df_pivoted[\"país Name\"]==pais]\n",
    "    fig = px.line(data_frame=df_pivoted_pais, x=\"Año\", y=indicador)\n",
    "    fig.show()"
   ]
  },
  {
   "cell_type": "code",
   "execution_count": 22,
   "metadata": {},
   "outputs": [
    {
     "data": {
      "application/vnd.plotly.v1+json": {
       "config": {
        "plotlyServerURL": "https://plot.ly"
       },
       "data": [
        {
         "hovertemplate": "Año=%{x}<br>Crecimiento de la población (% anual)=%{y}<extra></extra>",
         "legendgroup": "",
         "line": {
          "color": "#636efa",
          "dash": "solid"
         },
         "marker": {
          "symbol": "circle"
         },
         "mode": "lines",
         "name": "",
         "orientation": "v",
         "showlegend": false,
         "type": "scatter",
         "x": [
          "1987",
          "1988",
          "1989",
          "1990",
          "1991",
          "1992",
          "1993",
          "1994",
          "1995",
          "1996",
          "1997",
          "1998",
          "1999",
          "2000",
          "2001",
          "2002",
          "2003",
          "2004",
          "2005",
          "2006",
          "2007",
          "2008",
          "2009",
          "2010",
          "2011",
          "2012",
          "2013",
          "2014",
          "2015",
          "2016",
          "2017",
          "2018",
          "2019",
          "2020",
          "2021",
          "2022"
         ],
         "xaxis": "x",
         "y": [
          0.15361757528619,
          0.390678960242038,
          0.773336990610757,
          0.861969448764933,
          0.728605546561364,
          0.760346946721127,
          0.657391218087626,
          0.346856648630233,
          0.293904443716697,
          0.289474899455448,
          0.146313281561803,
          0.0151436508552808,
          0.0646345779052372,
          0.135431600393084,
          0.168225361337335,
          0.168128319406931,
          0.0553633035873241,
          -0.021709727650009,
          -0.0567782618352031,
          -0.112797497644931,
          -0.133718572600486,
          -0.190142844695674,
          -0.253383410163402,
          -0.153198446937304,
          -1.8537146287573,
          0.187727800567293,
          0.272900214681538,
          0.416877359168292,
          0.865702643950251,
          0.807218538573871,
          0.373724559895838,
          0.300526701992065,
          0.22551987421288,
          0.0816931586494595,
          0.0423270572552137,
          1.05662714139991
         ],
         "yaxis": "y"
        }
       ],
       "layout": {
        "legend": {
         "tracegroupgap": 0
        },
        "margin": {
         "t": 60
        },
        "template": {
         "data": {
          "bar": [
           {
            "error_x": {
             "color": "#2a3f5f"
            },
            "error_y": {
             "color": "#2a3f5f"
            },
            "marker": {
             "line": {
              "color": "#E5ECF6",
              "width": 0.5
             },
             "pattern": {
              "fillmode": "overlay",
              "size": 10,
              "solidity": 0.2
             }
            },
            "type": "bar"
           }
          ],
          "barpolar": [
           {
            "marker": {
             "line": {
              "color": "#E5ECF6",
              "width": 0.5
             },
             "pattern": {
              "fillmode": "overlay",
              "size": 10,
              "solidity": 0.2
             }
            },
            "type": "barpolar"
           }
          ],
          "carpet": [
           {
            "aaxis": {
             "endlinecolor": "#2a3f5f",
             "gridcolor": "white",
             "linecolor": "white",
             "minorgridcolor": "white",
             "startlinecolor": "#2a3f5f"
            },
            "baxis": {
             "endlinecolor": "#2a3f5f",
             "gridcolor": "white",
             "linecolor": "white",
             "minorgridcolor": "white",
             "startlinecolor": "#2a3f5f"
            },
            "type": "carpet"
           }
          ],
          "choropleth": [
           {
            "colorbar": {
             "outlinewidth": 0,
             "ticks": ""
            },
            "type": "choropleth"
           }
          ],
          "contour": [
           {
            "colorbar": {
             "outlinewidth": 0,
             "ticks": ""
            },
            "colorscale": [
             [
              0,
              "#0d0887"
             ],
             [
              0.1111111111111111,
              "#46039f"
             ],
             [
              0.2222222222222222,
              "#7201a8"
             ],
             [
              0.3333333333333333,
              "#9c179e"
             ],
             [
              0.4444444444444444,
              "#bd3786"
             ],
             [
              0.5555555555555556,
              "#d8576b"
             ],
             [
              0.6666666666666666,
              "#ed7953"
             ],
             [
              0.7777777777777778,
              "#fb9f3a"
             ],
             [
              0.8888888888888888,
              "#fdca26"
             ],
             [
              1,
              "#f0f921"
             ]
            ],
            "type": "contour"
           }
          ],
          "contourcarpet": [
           {
            "colorbar": {
             "outlinewidth": 0,
             "ticks": ""
            },
            "type": "contourcarpet"
           }
          ],
          "heatmap": [
           {
            "colorbar": {
             "outlinewidth": 0,
             "ticks": ""
            },
            "colorscale": [
             [
              0,
              "#0d0887"
             ],
             [
              0.1111111111111111,
              "#46039f"
             ],
             [
              0.2222222222222222,
              "#7201a8"
             ],
             [
              0.3333333333333333,
              "#9c179e"
             ],
             [
              0.4444444444444444,
              "#bd3786"
             ],
             [
              0.5555555555555556,
              "#d8576b"
             ],
             [
              0.6666666666666666,
              "#ed7953"
             ],
             [
              0.7777777777777778,
              "#fb9f3a"
             ],
             [
              0.8888888888888888,
              "#fdca26"
             ],
             [
              1,
              "#f0f921"
             ]
            ],
            "type": "heatmap"
           }
          ],
          "heatmapgl": [
           {
            "colorbar": {
             "outlinewidth": 0,
             "ticks": ""
            },
            "colorscale": [
             [
              0,
              "#0d0887"
             ],
             [
              0.1111111111111111,
              "#46039f"
             ],
             [
              0.2222222222222222,
              "#7201a8"
             ],
             [
              0.3333333333333333,
              "#9c179e"
             ],
             [
              0.4444444444444444,
              "#bd3786"
             ],
             [
              0.5555555555555556,
              "#d8576b"
             ],
             [
              0.6666666666666666,
              "#ed7953"
             ],
             [
              0.7777777777777778,
              "#fb9f3a"
             ],
             [
              0.8888888888888888,
              "#fdca26"
             ],
             [
              1,
              "#f0f921"
             ]
            ],
            "type": "heatmapgl"
           }
          ],
          "histogram": [
           {
            "marker": {
             "pattern": {
              "fillmode": "overlay",
              "size": 10,
              "solidity": 0.2
             }
            },
            "type": "histogram"
           }
          ],
          "histogram2d": [
           {
            "colorbar": {
             "outlinewidth": 0,
             "ticks": ""
            },
            "colorscale": [
             [
              0,
              "#0d0887"
             ],
             [
              0.1111111111111111,
              "#46039f"
             ],
             [
              0.2222222222222222,
              "#7201a8"
             ],
             [
              0.3333333333333333,
              "#9c179e"
             ],
             [
              0.4444444444444444,
              "#bd3786"
             ],
             [
              0.5555555555555556,
              "#d8576b"
             ],
             [
              0.6666666666666666,
              "#ed7953"
             ],
             [
              0.7777777777777778,
              "#fb9f3a"
             ],
             [
              0.8888888888888888,
              "#fdca26"
             ],
             [
              1,
              "#f0f921"
             ]
            ],
            "type": "histogram2d"
           }
          ],
          "histogram2dcontour": [
           {
            "colorbar": {
             "outlinewidth": 0,
             "ticks": ""
            },
            "colorscale": [
             [
              0,
              "#0d0887"
             ],
             [
              0.1111111111111111,
              "#46039f"
             ],
             [
              0.2222222222222222,
              "#7201a8"
             ],
             [
              0.3333333333333333,
              "#9c179e"
             ],
             [
              0.4444444444444444,
              "#bd3786"
             ],
             [
              0.5555555555555556,
              "#d8576b"
             ],
             [
              0.6666666666666666,
              "#ed7953"
             ],
             [
              0.7777777777777778,
              "#fb9f3a"
             ],
             [
              0.8888888888888888,
              "#fdca26"
             ],
             [
              1,
              "#f0f921"
             ]
            ],
            "type": "histogram2dcontour"
           }
          ],
          "mesh3d": [
           {
            "colorbar": {
             "outlinewidth": 0,
             "ticks": ""
            },
            "type": "mesh3d"
           }
          ],
          "parcoords": [
           {
            "line": {
             "colorbar": {
              "outlinewidth": 0,
              "ticks": ""
             }
            },
            "type": "parcoords"
           }
          ],
          "pie": [
           {
            "automargin": true,
            "type": "pie"
           }
          ],
          "scatter": [
           {
            "fillpattern": {
             "fillmode": "overlay",
             "size": 10,
             "solidity": 0.2
            },
            "type": "scatter"
           }
          ],
          "scatter3d": [
           {
            "line": {
             "colorbar": {
              "outlinewidth": 0,
              "ticks": ""
             }
            },
            "marker": {
             "colorbar": {
              "outlinewidth": 0,
              "ticks": ""
             }
            },
            "type": "scatter3d"
           }
          ],
          "scattercarpet": [
           {
            "marker": {
             "colorbar": {
              "outlinewidth": 0,
              "ticks": ""
             }
            },
            "type": "scattercarpet"
           }
          ],
          "scattergeo": [
           {
            "marker": {
             "colorbar": {
              "outlinewidth": 0,
              "ticks": ""
             }
            },
            "type": "scattergeo"
           }
          ],
          "scattergl": [
           {
            "marker": {
             "colorbar": {
              "outlinewidth": 0,
              "ticks": ""
             }
            },
            "type": "scattergl"
           }
          ],
          "scattermapbox": [
           {
            "marker": {
             "colorbar": {
              "outlinewidth": 0,
              "ticks": ""
             }
            },
            "type": "scattermapbox"
           }
          ],
          "scatterpolar": [
           {
            "marker": {
             "colorbar": {
              "outlinewidth": 0,
              "ticks": ""
             }
            },
            "type": "scatterpolar"
           }
          ],
          "scatterpolargl": [
           {
            "marker": {
             "colorbar": {
              "outlinewidth": 0,
              "ticks": ""
             }
            },
            "type": "scatterpolargl"
           }
          ],
          "scatterternary": [
           {
            "marker": {
             "colorbar": {
              "outlinewidth": 0,
              "ticks": ""
             }
            },
            "type": "scatterternary"
           }
          ],
          "surface": [
           {
            "colorbar": {
             "outlinewidth": 0,
             "ticks": ""
            },
            "colorscale": [
             [
              0,
              "#0d0887"
             ],
             [
              0.1111111111111111,
              "#46039f"
             ],
             [
              0.2222222222222222,
              "#7201a8"
             ],
             [
              0.3333333333333333,
              "#9c179e"
             ],
             [
              0.4444444444444444,
              "#bd3786"
             ],
             [
              0.5555555555555556,
              "#d8576b"
             ],
             [
              0.6666666666666666,
              "#ed7953"
             ],
             [
              0.7777777777777778,
              "#fb9f3a"
             ],
             [
              0.8888888888888888,
              "#fdca26"
             ],
             [
              1,
              "#f0f921"
             ]
            ],
            "type": "surface"
           }
          ],
          "table": [
           {
            "cells": {
             "fill": {
              "color": "#EBF0F8"
             },
             "line": {
              "color": "white"
             }
            },
            "header": {
             "fill": {
              "color": "#C8D4E3"
             },
             "line": {
              "color": "white"
             }
            },
            "type": "table"
           }
          ]
         },
         "layout": {
          "annotationdefaults": {
           "arrowcolor": "#2a3f5f",
           "arrowhead": 0,
           "arrowwidth": 1
          },
          "autotypenumbers": "strict",
          "coloraxis": {
           "colorbar": {
            "outlinewidth": 0,
            "ticks": ""
           }
          },
          "colorscale": {
           "diverging": [
            [
             0,
             "#8e0152"
            ],
            [
             0.1,
             "#c51b7d"
            ],
            [
             0.2,
             "#de77ae"
            ],
            [
             0.3,
             "#f1b6da"
            ],
            [
             0.4,
             "#fde0ef"
            ],
            [
             0.5,
             "#f7f7f7"
            ],
            [
             0.6,
             "#e6f5d0"
            ],
            [
             0.7,
             "#b8e186"
            ],
            [
             0.8,
             "#7fbc41"
            ],
            [
             0.9,
             "#4d9221"
            ],
            [
             1,
             "#276419"
            ]
           ],
           "sequential": [
            [
             0,
             "#0d0887"
            ],
            [
             0.1111111111111111,
             "#46039f"
            ],
            [
             0.2222222222222222,
             "#7201a8"
            ],
            [
             0.3333333333333333,
             "#9c179e"
            ],
            [
             0.4444444444444444,
             "#bd3786"
            ],
            [
             0.5555555555555556,
             "#d8576b"
            ],
            [
             0.6666666666666666,
             "#ed7953"
            ],
            [
             0.7777777777777778,
             "#fb9f3a"
            ],
            [
             0.8888888888888888,
             "#fdca26"
            ],
            [
             1,
             "#f0f921"
            ]
           ],
           "sequentialminus": [
            [
             0,
             "#0d0887"
            ],
            [
             0.1111111111111111,
             "#46039f"
            ],
            [
             0.2222222222222222,
             "#7201a8"
            ],
            [
             0.3333333333333333,
             "#9c179e"
            ],
            [
             0.4444444444444444,
             "#bd3786"
            ],
            [
             0.5555555555555556,
             "#d8576b"
            ],
            [
             0.6666666666666666,
             "#ed7953"
            ],
            [
             0.7777777777777778,
             "#fb9f3a"
            ],
            [
             0.8888888888888888,
             "#fdca26"
            ],
            [
             1,
             "#f0f921"
            ]
           ]
          },
          "colorway": [
           "#636efa",
           "#EF553B",
           "#00cc96",
           "#ab63fa",
           "#FFA15A",
           "#19d3f3",
           "#FF6692",
           "#B6E880",
           "#FF97FF",
           "#FECB52"
          ],
          "font": {
           "color": "#2a3f5f"
          },
          "geo": {
           "bgcolor": "white",
           "lakecolor": "white",
           "landcolor": "#E5ECF6",
           "showlakes": true,
           "showland": true,
           "subunitcolor": "white"
          },
          "hoverlabel": {
           "align": "left"
          },
          "hovermode": "closest",
          "mapbox": {
           "style": "light"
          },
          "paper_bgcolor": "white",
          "plot_bgcolor": "#E5ECF6",
          "polar": {
           "angularaxis": {
            "gridcolor": "white",
            "linecolor": "white",
            "ticks": ""
           },
           "bgcolor": "#E5ECF6",
           "radialaxis": {
            "gridcolor": "white",
            "linecolor": "white",
            "ticks": ""
           }
          },
          "scene": {
           "xaxis": {
            "backgroundcolor": "#E5ECF6",
            "gridcolor": "white",
            "gridwidth": 2,
            "linecolor": "white",
            "showbackground": true,
            "ticks": "",
            "zerolinecolor": "white"
           },
           "yaxis": {
            "backgroundcolor": "#E5ECF6",
            "gridcolor": "white",
            "gridwidth": 2,
            "linecolor": "white",
            "showbackground": true,
            "ticks": "",
            "zerolinecolor": "white"
           },
           "zaxis": {
            "backgroundcolor": "#E5ECF6",
            "gridcolor": "white",
            "gridwidth": 2,
            "linecolor": "white",
            "showbackground": true,
            "ticks": "",
            "zerolinecolor": "white"
           }
          },
          "shapedefaults": {
           "line": {
            "color": "#2a3f5f"
           }
          },
          "ternary": {
           "aaxis": {
            "gridcolor": "white",
            "linecolor": "white",
            "ticks": ""
           },
           "baxis": {
            "gridcolor": "white",
            "linecolor": "white",
            "ticks": ""
           },
           "bgcolor": "#E5ECF6",
           "caxis": {
            "gridcolor": "white",
            "linecolor": "white",
            "ticks": ""
           }
          },
          "title": {
           "x": 0.05
          },
          "xaxis": {
           "automargin": true,
           "gridcolor": "white",
           "linecolor": "white",
           "ticks": "",
           "title": {
            "standoff": 15
           },
           "zerolinecolor": "white",
           "zerolinewidth": 2
          },
          "yaxis": {
           "automargin": true,
           "gridcolor": "white",
           "linecolor": "white",
           "ticks": "",
           "title": {
            "standoff": 15
           },
           "zerolinecolor": "white",
           "zerolinewidth": 2
          }
         }
        },
        "xaxis": {
         "anchor": "y",
         "domain": [
          0,
          1
         ],
         "title": {
          "text": "Año"
         }
        },
        "yaxis": {
         "anchor": "x",
         "domain": [
          0,
          1
         ],
         "title": {
          "text": "Crecimiento de la población (% anual)"
         }
        }
       }
      }
     },
     "metadata": {},
     "output_type": "display_data"
    }
   ],
   "source": [
    "graficar(\"Alemania\", \"Crecimiento de la población (% anual)\")"
   ]
  },
  {
   "cell_type": "code",
   "execution_count": 23,
   "metadata": {},
   "outputs": [
    {
     "data": {
      "text/plain": [
       "array(['Afganistán', 'Alemania', 'Arabia Saudita', 'Argelia', 'Argentina',\n",
       "       'Australia', 'Austria', 'Brasil', 'Burkina Faso', 'Camboya',\n",
       "       'Canadá', 'Chad', 'China', 'Colombia', 'Costa Rica', 'Cuba',\n",
       "       'Dinamarca', 'Ecuador', 'Egipto, República Árabe de',\n",
       "       'Emiratos Árabes Unidos', 'España', 'Estados Unidos',\n",
       "       'Federación de Rusia', 'Fiji', 'Finlandia', 'Grecia', 'India',\n",
       "       'Japón', 'Kenya', 'Marruecos', 'México', 'Nepal', 'Noruega',\n",
       "       'Nueva Zelandia', 'Níger', 'Países Bajos', 'Reino Unido', 'Rwanda',\n",
       "       'Samoa', 'Sierra Leona', 'Singapur', 'Sudáfrica', 'Suiza',\n",
       "       'Venezuela'], dtype=object)"
      ]
     },
     "execution_count": 23,
     "metadata": {},
     "output_type": "execute_result"
    }
   ],
   "source": [
    "df_pivoted[\"país Name\"].unique()"
   ]
  },
  {
   "cell_type": "markdown",
   "metadata": {},
   "source": [
    "<h3>Cambiamos el nombre a algunos países</h3>"
   ]
  },
  {
   "cell_type": "code",
   "execution_count": 24,
   "metadata": {},
   "outputs": [],
   "source": [
    "df_pivoted.loc[df_pivoted[\"país Name\"] == \"Egipto, República Árabe de\", \"país Name\"] = \"Egipto\"\n",
    "df_pivoted.loc[df_pivoted[\"país Name\"] == \"Federación de Rusia\", \"país Name\"] = \"Rusia\""
   ]
  },
  {
   "cell_type": "markdown",
   "metadata": {},
   "source": [
    "<h3>Agregamos una columa de continente al dataframe</h3>"
   ]
  },
  {
   "cell_type": "code",
   "execution_count": 25,
   "metadata": {},
   "outputs": [],
   "source": [
    "paises_continentes = {\n",
    "    'Afganistán': 'Asia',\n",
    "    'Alemania': 'Europa',\n",
    "    'Arabia Saudita': 'Asia',\n",
    "    'Argelia': 'África',\n",
    "    'Argentina': 'América del Sur',\n",
    "    'Australia': 'Oceanía',\n",
    "    'Austria': 'Europa',\n",
    "    'Brasil': 'América del Sur',\n",
    "    'Burkina Faso': 'África',\n",
    "    'Camboya': 'Asia',\n",
    "    'Canadá': 'América del Norte',\n",
    "    'Chad': 'África',\n",
    "    'China': 'Asia',\n",
    "    'Colombia': 'América del Sur',\n",
    "    'Costa Rica': 'América Central',\n",
    "    'Cuba': 'América Central',\n",
    "    'Dinamarca': 'Europa',\n",
    "    'Ecuador': 'América del Sur',\n",
    "    'Egipto': 'África',\n",
    "    'Emiratos Árabes Unidos': 'Asia',\n",
    "    'España': 'Europa',\n",
    "    'Estados Unidos': 'América del Norte',\n",
    "    'Rusia': 'Europa',\n",
    "    'Fiji': 'Oceanía',\n",
    "    'Finlandia': 'Europa',\n",
    "    'Grecia': 'Europa',\n",
    "    'India': 'Asia',\n",
    "    'Japón': 'Asia',\n",
    "    'Kenya': 'África',\n",
    "    'Marruecos': 'África',\n",
    "    'México': 'América del Norte',\n",
    "    'Nepal': 'Asia',\n",
    "    'Noruega': 'Europa',\n",
    "    'Nueva Zelandia': 'Oceanía',\n",
    "    'Níger': 'África',\n",
    "    'Países Bajos': 'Europa',\n",
    "    'Reino Unido': 'Europa',\n",
    "    'Rwanda': 'África',\n",
    "    'Samoa': 'Oceanía',\n",
    "    'Sierra Leona': 'África',\n",
    "    'Singapur': 'Asia',\n",
    "    'Sudáfrica': 'África',\n",
    "    'Suiza': 'Europa',\n",
    "    'Venezuela': 'América del Sur'\n",
    "}"
   ]
  },
  {
   "cell_type": "code",
   "execution_count": 26,
   "metadata": {},
   "outputs": [],
   "source": [
    "df_pivoted[\"Continente\"] = df_pivoted[\"país Name\"].map(paises_continentes)"
   ]
  },
  {
   "cell_type": "code",
   "execution_count": 27,
   "metadata": {},
   "outputs": [
    {
     "data": {
      "text/html": [
       "<div>\n",
       "<style scoped>\n",
       "    .dataframe tbody tr th:only-of-type {\n",
       "        vertical-align: middle;\n",
       "    }\n",
       "\n",
       "    .dataframe tbody tr th {\n",
       "        vertical-align: top;\n",
       "    }\n",
       "\n",
       "    .dataframe thead th {\n",
       "        text-align: right;\n",
       "    }\n",
       "</style>\n",
       "<table border=\"1\" class=\"dataframe\">\n",
       "  <thead>\n",
       "    <tr style=\"text-align: right;\">\n",
       "      <th></th>\n",
       "      <th>serie Name</th>\n",
       "      <th>Crecimiento de la población (% anual)</th>\n",
       "      <th>Crecimiento de la población rural (% anual)</th>\n",
       "      <th>Crecimiento de la población urbana (% anual)</th>\n",
       "    </tr>\n",
       "    <tr>\n",
       "      <th>Continente</th>\n",
       "      <th>Año</th>\n",
       "      <th></th>\n",
       "      <th></th>\n",
       "      <th></th>\n",
       "    </tr>\n",
       "  </thead>\n",
       "  <tbody>\n",
       "    <tr>\n",
       "      <th rowspan=\"5\" valign=\"top\">América Central</th>\n",
       "      <th>1987</th>\n",
       "      <td>1.774252</td>\n",
       "      <td>0.051093</td>\n",
       "      <td>3.089948</td>\n",
       "    </tr>\n",
       "    <tr>\n",
       "      <th>1988</th>\n",
       "      <td>1.771918</td>\n",
       "      <td>0.023902</td>\n",
       "      <td>3.065976</td>\n",
       "    </tr>\n",
       "    <tr>\n",
       "      <th>1989</th>\n",
       "      <td>1.760944</td>\n",
       "      <td>-0.004274</td>\n",
       "      <td>3.028966</td>\n",
       "    </tr>\n",
       "    <tr>\n",
       "      <th>1990</th>\n",
       "      <td>1.741025</td>\n",
       "      <td>-0.050408</td>\n",
       "      <td>2.988882</td>\n",
       "    </tr>\n",
       "    <tr>\n",
       "      <th>1991</th>\n",
       "      <td>1.676968</td>\n",
       "      <td>0.165340</td>\n",
       "      <td>2.794839</td>\n",
       "    </tr>\n",
       "    <tr>\n",
       "      <th>...</th>\n",
       "      <th>...</th>\n",
       "      <td>...</td>\n",
       "      <td>...</td>\n",
       "      <td>...</td>\n",
       "    </tr>\n",
       "    <tr>\n",
       "      <th rowspan=\"5\" valign=\"top\">África</th>\n",
       "      <th>2018</th>\n",
       "      <td>2.291257</td>\n",
       "      <td>1.521621</td>\n",
       "      <td>3.204737</td>\n",
       "    </tr>\n",
       "    <tr>\n",
       "      <th>2019</th>\n",
       "      <td>2.243810</td>\n",
       "      <td>1.457082</td>\n",
       "      <td>3.184150</td>\n",
       "    </tr>\n",
       "    <tr>\n",
       "      <th>2020</th>\n",
       "      <td>2.202378</td>\n",
       "      <td>1.397244</td>\n",
       "      <td>3.170998</td>\n",
       "    </tr>\n",
       "    <tr>\n",
       "      <th>2021</th>\n",
       "      <td>2.144446</td>\n",
       "      <td>1.322480</td>\n",
       "      <td>3.138785</td>\n",
       "    </tr>\n",
       "    <tr>\n",
       "      <th>2022</th>\n",
       "      <td>2.084507</td>\n",
       "      <td>1.245045</td>\n",
       "      <td>3.105560</td>\n",
       "    </tr>\n",
       "  </tbody>\n",
       "</table>\n",
       "<p>252 rows × 3 columns</p>\n",
       "</div>"
      ],
      "text/plain": [
       "serie Name            Crecimiento de la población (% anual)   \n",
       "Continente      Año                                           \n",
       "América Central 1987                               1.774252  \\\n",
       "                1988                               1.771918   \n",
       "                1989                               1.760944   \n",
       "                1990                               1.741025   \n",
       "                1991                               1.676968   \n",
       "...                                                     ...   \n",
       "África          2018                               2.291257   \n",
       "                2019                               2.243810   \n",
       "                2020                               2.202378   \n",
       "                2021                               2.144446   \n",
       "                2022                               2.084507   \n",
       "\n",
       "serie Name            Crecimiento de la población rural (% anual)   \n",
       "Continente      Año                                                 \n",
       "América Central 1987                                     0.051093  \\\n",
       "                1988                                     0.023902   \n",
       "                1989                                    -0.004274   \n",
       "                1990                                    -0.050408   \n",
       "                1991                                     0.165340   \n",
       "...                                                           ...   \n",
       "África          2018                                     1.521621   \n",
       "                2019                                     1.457082   \n",
       "                2020                                     1.397244   \n",
       "                2021                                     1.322480   \n",
       "                2022                                     1.245045   \n",
       "\n",
       "serie Name            Crecimiento de la población urbana (% anual)  \n",
       "Continente      Año                                                 \n",
       "América Central 1987                                      3.089948  \n",
       "                1988                                      3.065976  \n",
       "                1989                                      3.028966  \n",
       "                1990                                      2.988882  \n",
       "                1991                                      2.794839  \n",
       "...                                                            ...  \n",
       "África          2018                                      3.204737  \n",
       "                2019                                      3.184150  \n",
       "                2020                                      3.170998  \n",
       "                2021                                      3.138785  \n",
       "                2022                                      3.105560  \n",
       "\n",
       "[252 rows x 3 columns]"
      ]
     },
     "execution_count": 27,
     "metadata": {},
     "output_type": "execute_result"
    }
   ],
   "source": [
    "df_contientes = df_pivoted.iloc[:,1:].groupby([\"Continente\", \"Año\"]).mean()\n",
    "df_contientes"
   ]
  },
  {
   "cell_type": "code",
   "execution_count": 28,
   "metadata": {},
   "outputs": [
    {
     "data": {
      "text/html": [
       "<div>\n",
       "<style scoped>\n",
       "    .dataframe tbody tr th:only-of-type {\n",
       "        vertical-align: middle;\n",
       "    }\n",
       "\n",
       "    .dataframe tbody tr th {\n",
       "        vertical-align: top;\n",
       "    }\n",
       "\n",
       "    .dataframe thead th {\n",
       "        text-align: right;\n",
       "    }\n",
       "</style>\n",
       "<table border=\"1\" class=\"dataframe\">\n",
       "  <thead>\n",
       "    <tr style=\"text-align: right;\">\n",
       "      <th>serie Name</th>\n",
       "      <th>Continente</th>\n",
       "      <th>Año</th>\n",
       "      <th>Crecimiento de la población (% anual)</th>\n",
       "      <th>Crecimiento de la población rural (% anual)</th>\n",
       "      <th>Crecimiento de la población urbana (% anual)</th>\n",
       "    </tr>\n",
       "  </thead>\n",
       "  <tbody>\n",
       "    <tr>\n",
       "      <th>0</th>\n",
       "      <td>América Central</td>\n",
       "      <td>1987</td>\n",
       "      <td>1.774252</td>\n",
       "      <td>0.051093</td>\n",
       "      <td>3.089948</td>\n",
       "    </tr>\n",
       "    <tr>\n",
       "      <th>1</th>\n",
       "      <td>América Central</td>\n",
       "      <td>1988</td>\n",
       "      <td>1.771918</td>\n",
       "      <td>0.023902</td>\n",
       "      <td>3.065976</td>\n",
       "    </tr>\n",
       "    <tr>\n",
       "      <th>2</th>\n",
       "      <td>América Central</td>\n",
       "      <td>1989</td>\n",
       "      <td>1.760944</td>\n",
       "      <td>-0.004274</td>\n",
       "      <td>3.028966</td>\n",
       "    </tr>\n",
       "    <tr>\n",
       "      <th>3</th>\n",
       "      <td>América Central</td>\n",
       "      <td>1990</td>\n",
       "      <td>1.741025</td>\n",
       "      <td>-0.050408</td>\n",
       "      <td>2.988882</td>\n",
       "    </tr>\n",
       "    <tr>\n",
       "      <th>4</th>\n",
       "      <td>América Central</td>\n",
       "      <td>1991</td>\n",
       "      <td>1.676968</td>\n",
       "      <td>0.165340</td>\n",
       "      <td>2.794839</td>\n",
       "    </tr>\n",
       "    <tr>\n",
       "      <th>...</th>\n",
       "      <td>...</td>\n",
       "      <td>...</td>\n",
       "      <td>...</td>\n",
       "      <td>...</td>\n",
       "      <td>...</td>\n",
       "    </tr>\n",
       "    <tr>\n",
       "      <th>247</th>\n",
       "      <td>África</td>\n",
       "      <td>2018</td>\n",
       "      <td>2.291257</td>\n",
       "      <td>1.521621</td>\n",
       "      <td>3.204737</td>\n",
       "    </tr>\n",
       "    <tr>\n",
       "      <th>248</th>\n",
       "      <td>África</td>\n",
       "      <td>2019</td>\n",
       "      <td>2.243810</td>\n",
       "      <td>1.457082</td>\n",
       "      <td>3.184150</td>\n",
       "    </tr>\n",
       "    <tr>\n",
       "      <th>249</th>\n",
       "      <td>África</td>\n",
       "      <td>2020</td>\n",
       "      <td>2.202378</td>\n",
       "      <td>1.397244</td>\n",
       "      <td>3.170998</td>\n",
       "    </tr>\n",
       "    <tr>\n",
       "      <th>250</th>\n",
       "      <td>África</td>\n",
       "      <td>2021</td>\n",
       "      <td>2.144446</td>\n",
       "      <td>1.322480</td>\n",
       "      <td>3.138785</td>\n",
       "    </tr>\n",
       "    <tr>\n",
       "      <th>251</th>\n",
       "      <td>África</td>\n",
       "      <td>2022</td>\n",
       "      <td>2.084507</td>\n",
       "      <td>1.245045</td>\n",
       "      <td>3.105560</td>\n",
       "    </tr>\n",
       "  </tbody>\n",
       "</table>\n",
       "<p>252 rows × 5 columns</p>\n",
       "</div>"
      ],
      "text/plain": [
       "serie Name       Continente   Año  Crecimiento de la población (% anual)   \n",
       "0           América Central  1987                               1.774252  \\\n",
       "1           América Central  1988                               1.771918   \n",
       "2           América Central  1989                               1.760944   \n",
       "3           América Central  1990                               1.741025   \n",
       "4           América Central  1991                               1.676968   \n",
       "..                      ...   ...                                    ...   \n",
       "247                  África  2018                               2.291257   \n",
       "248                  África  2019                               2.243810   \n",
       "249                  África  2020                               2.202378   \n",
       "250                  África  2021                               2.144446   \n",
       "251                  África  2022                               2.084507   \n",
       "\n",
       "serie Name  Crecimiento de la población rural (% anual)   \n",
       "0                                              0.051093  \\\n",
       "1                                              0.023902   \n",
       "2                                             -0.004274   \n",
       "3                                             -0.050408   \n",
       "4                                              0.165340   \n",
       "..                                                  ...   \n",
       "247                                            1.521621   \n",
       "248                                            1.457082   \n",
       "249                                            1.397244   \n",
       "250                                            1.322480   \n",
       "251                                            1.245045   \n",
       "\n",
       "serie Name  Crecimiento de la población urbana (% anual)  \n",
       "0                                               3.089948  \n",
       "1                                               3.065976  \n",
       "2                                               3.028966  \n",
       "3                                               2.988882  \n",
       "4                                               2.794839  \n",
       "..                                                   ...  \n",
       "247                                             3.204737  \n",
       "248                                             3.184150  \n",
       "249                                             3.170998  \n",
       "250                                             3.138785  \n",
       "251                                             3.105560  \n",
       "\n",
       "[252 rows x 5 columns]"
      ]
     },
     "execution_count": 28,
     "metadata": {},
     "output_type": "execute_result"
    }
   ],
   "source": [
    "df_contientes.reset_index(inplace=True)\n",
    "df_contientes"
   ]
  },
  {
   "cell_type": "code",
   "execution_count": 29,
   "metadata": {},
   "outputs": [],
   "source": [
    "def graficar_indicador(indicador):\n",
    "    fig = px.line(data_frame=df_contientes, x=\"Año\", y=indicador, color=\"Continente\")\n",
    "    fig.show()"
   ]
  },
  {
   "cell_type": "code",
   "execution_count": 30,
   "metadata": {},
   "outputs": [
    {
     "data": {
      "application/vnd.plotly.v1+json": {
       "config": {
        "plotlyServerURL": "https://plot.ly"
       },
       "data": [
        {
         "hovertemplate": "Continente=América Central<br>Año=%{x}<br>Crecimiento de la población (% anual)=%{y}<extra></extra>",
         "legendgroup": "América Central",
         "line": {
          "color": "#636efa",
          "dash": "solid"
         },
         "marker": {
          "symbol": "circle"
         },
         "mode": "lines",
         "name": "América Central",
         "orientation": "v",
         "showlegend": true,
         "type": "scatter",
         "x": [
          "1987",
          "1988",
          "1989",
          "1990",
          "1991",
          "1992",
          "1993",
          "1994",
          "1995",
          "1996",
          "1997",
          "1998",
          "1999",
          "2000",
          "2001",
          "2002",
          "2003",
          "2004",
          "2005",
          "2006",
          "2007",
          "2008",
          "2009",
          "2010",
          "2011",
          "2012",
          "2013",
          "2014",
          "2015",
          "2016",
          "2017",
          "2018",
          "2019",
          "2020",
          "2021",
          "2022"
         ],
         "xaxis": "x",
         "y": [
          1.7742515398460625,
          1.7719176262757785,
          1.760943548162367,
          1.7410251949555735,
          1.6769676420036994,
          1.5831317557802365,
          1.5047252431027445,
          1.428190878558667,
          1.3663864417292335,
          1.3193782249592039,
          1.2846751864009804,
          1.2462935673433007,
          1.200428266134755,
          1.147766410221745,
          1.071513333217926,
          0.9874902287429446,
          0.9243505826003706,
          0.8767206281994605,
          0.8289148900406725,
          0.7809172463951775,
          0.7424550004375611,
          0.7220908892404662,
          0.7043461806739901,
          0.6757323271903077,
          0.6567256354949002,
          0.6485877498562984,
          0.6309378655750285,
          0.5935892607800289,
          0.5578754251689525,
          0.5170732030690891,
          0.4646327096099833,
          0.43130003190391186,
          0.3815726472279975,
          0.3071479330118,
          0.10369715974698301,
          0.06338065430177248
         ],
         "yaxis": "y"
        },
        {
         "hovertemplate": "Continente=América del Norte<br>Año=%{x}<br>Crecimiento de la población (% anual)=%{y}<extra></extra>",
         "legendgroup": "América del Norte",
         "line": {
          "color": "#EF553B",
          "dash": "solid"
         },
         "marker": {
          "symbol": "circle"
         },
         "mode": "lines",
         "name": "América del Norte",
         "orientation": "v",
         "showlegend": true,
         "type": "scatter",
         "x": [
          "1987",
          "1988",
          "1989",
          "1990",
          "1991",
          "1992",
          "1993",
          "1994",
          "1995",
          "1996",
          "1997",
          "1998",
          "1999",
          "2000",
          "2001",
          "2002",
          "2003",
          "2004",
          "2005",
          "2006",
          "2007",
          "2008",
          "2009",
          "2010",
          "2011",
          "2012",
          "2013",
          "2014",
          "2015",
          "2016",
          "2017",
          "2018",
          "2019",
          "2020",
          "2021",
          "2022"
         ],
         "xaxis": "x",
         "y": [
          1.313562664751962,
          1.3052728540550598,
          1.4750069619760564,
          1.49109608114476,
          1.5184652525109332,
          1.5069565626324233,
          1.4488124127788866,
          1.4086631704502166,
          1.3607881182123867,
          1.33000637284999,
          1.3086439280520994,
          1.2271390874304646,
          1.2005770181162354,
          1.209533779236513,
          1.2060111593320164,
          1.178566878692428,
          1.0827516610223036,
          1.1093859070391883,
          1.098563921889767,
          1.1117089979109116,
          1.079475734435021,
          1.0987693816993174,
          1.0850510300767173,
          1.089353235712245,
          1.044374752260162,
          1.0720108887201256,
          1.0222041095304903,
          0.9933886047216346,
          0.883188545516691,
          0.9967530033459396,
          0.9708618144568834,
          0.9635199695573101,
          0.917261066289027,
          0.921795847569197,
          0.43052993443532334,
          0.943180918685155
         ],
         "yaxis": "y"
        },
        {
         "hovertemplate": "Continente=América del Sur<br>Año=%{x}<br>Crecimiento de la población (% anual)=%{y}<extra></extra>",
         "legendgroup": "América del Sur",
         "line": {
          "color": "#00cc96",
          "dash": "solid"
         },
         "marker": {
          "symbol": "circle"
         },
         "mode": "lines",
         "name": "América del Sur",
         "orientation": "v",
         "showlegend": true,
         "type": "scatter",
         "x": [
          "1987",
          "1988",
          "1989",
          "1990",
          "1991",
          "1992",
          "1993",
          "1994",
          "1995",
          "1996",
          "1997",
          "1998",
          "1999",
          "2000",
          "2001",
          "2002",
          "2003",
          "2004",
          "2005",
          "2006",
          "2007",
          "2008",
          "2009",
          "2010",
          "2011",
          "2012",
          "2013",
          "2014",
          "2015",
          "2016",
          "2017",
          "2018",
          "2019",
          "2020",
          "2021",
          "2022"
         ],
         "xaxis": "x",
         "y": [
          2.14221323008204,
          2.108721942378078,
          2.069532022984358,
          2.024930994066024,
          1.961843741743456,
          1.891463508865908,
          1.8362946340417623,
          1.797138616497262,
          1.75487573415325,
          1.7053463123757318,
          1.6625969050421638,
          1.623303874998944,
          1.58469558079713,
          1.5474477109067881,
          1.5100869465839861,
          1.480742235517694,
          1.442602206403052,
          1.406674662349302,
          1.382295908743334,
          1.348735843709876,
          1.309038958729584,
          1.2651395273559403,
          1.2364563959939752,
          1.0679090863095875,
          1.2271384576770994,
          1.1915087789647305,
          1.1499066885938656,
          1.1143103223656197,
          1.0908016491676582,
          1.0243251207081852,
          0.8628472770616924,
          0.6305058671611302,
          0.5189879511605182,
          0.566450346762652,
          0.555357399122285,
          0.7145894804015891
         ],
         "yaxis": "y"
        },
        {
         "hovertemplate": "Continente=Asia<br>Año=%{x}<br>Crecimiento de la población (% anual)=%{y}<extra></extra>",
         "legendgroup": "Asia",
         "line": {
          "color": "#ab63fa",
          "dash": "solid"
         },
         "marker": {
          "symbol": "circle"
         },
         "mode": "lines",
         "name": "Asia",
         "orientation": "v",
         "showlegend": true,
         "type": "scatter",
         "x": [
          "1987",
          "1988",
          "1989",
          "1990",
          "1991",
          "1992",
          "1993",
          "1994",
          "1995",
          "1996",
          "1997",
          "1998",
          "1999",
          "2000",
          "2001",
          "2002",
          "2003",
          "2004",
          "2005",
          "2006",
          "2007",
          "2008",
          "2009",
          "2010",
          "2011",
          "2012",
          "2013",
          "2014",
          "2015",
          "2016",
          "2017",
          "2018",
          "2019",
          "2020",
          "2021",
          "2022"
         ],
         "xaxis": "x",
         "y": [
          2.4669717754200904,
          2.670517296135408,
          2.8987258454381757,
          2.7087160126791563,
          2.568554061144103,
          3.8622198917133495,
          4.1251989228213715,
          3.351996879645989,
          2.727613377591655,
          2.684835305727494,
          2.6532723593350678,
          2.579008583428696,
          2.224300873990875,
          1.9557009836077865,
          1.9329979341234964,
          2.311373697654665,
          2.1021262441096082,
          1.9214200916203485,
          2.3305952827451772,
          3.274848446828651,
          3.6216272175040753,
          3.649240402276833,
          3.074062448377158,
          1.960624851534676,
          1.4348303159528817,
          1.4786402131848568,
          1.2934775127758242,
          1.2626626720322676,
          1.1883863836260018,
          1.1892035525391722,
          1.134713805062613,
          1.1465363491183882,
          1.1805410045276956,
          0.8829551435073786,
          0.36548467890897335,
          1.2117916103167197
         ],
         "yaxis": "y"
        },
        {
         "hovertemplate": "Continente=Europa<br>Año=%{x}<br>Crecimiento de la población (% anual)=%{y}<extra></extra>",
         "legendgroup": "Europa",
         "line": {
          "color": "#FFA15A",
          "dash": "solid"
         },
         "marker": {
          "symbol": "circle"
         },
         "mode": "lines",
         "name": "Europa",
         "orientation": "v",
         "showlegend": true,
         "type": "scatter",
         "x": [
          "1987",
          "1988",
          "1989",
          "1990",
          "1991",
          "1992",
          "1993",
          "1994",
          "1995",
          "1996",
          "1997",
          "1998",
          "1999",
          "2000",
          "2001",
          "2002",
          "2003",
          "2004",
          "2005",
          "2006",
          "2007",
          "2008",
          "2009",
          "2010",
          "2011",
          "2012",
          "2013",
          "2014",
          "2015",
          "2016",
          "2017",
          "2018",
          "2019",
          "2020",
          "2021",
          "2022"
         ],
         "xaxis": "x",
         "y": [
          0.35105403638319843,
          0.38510227098302785,
          0.45378639259601034,
          0.5378203193249127,
          0.6452621407197721,
          0.6191172007764927,
          0.5268222474028231,
          0.4242809236647196,
          0.3802168299909656,
          0.335884908412065,
          0.2977316972272888,
          0.30515213371641525,
          0.31475407327897575,
          0.3305793580368271,
          0.3823203614589263,
          0.445318478623139,
          0.4465626968861644,
          0.44658725850831166,
          0.4623012362759425,
          0.46238865632580983,
          0.538063083025979,
          0.6078282470351755,
          0.5438229729833376,
          0.47337345934272634,
          0.30009412273035946,
          0.420808503103216,
          0.3839687397563008,
          0.4377948361320138,
          0.5316018263763272,
          0.5507496004787946,
          0.46376811611766494,
          0.38406380154211045,
          0.3917183116766223,
          0.2923494976775769,
          0.1801299756678605,
          0.4930865608036524
         ],
         "yaxis": "y"
        },
        {
         "hovertemplate": "Continente=Oceanía<br>Año=%{x}<br>Crecimiento de la población (% anual)=%{y}<extra></extra>",
         "legendgroup": "Oceanía",
         "line": {
          "color": "#19d3f3",
          "dash": "solid"
         },
         "marker": {
          "symbol": "circle"
         },
         "mode": "lines",
         "name": "Oceanía",
         "orientation": "v",
         "showlegend": true,
         "type": "scatter",
         "x": [
          "1987",
          "1988",
          "1989",
          "1990",
          "1991",
          "1992",
          "1993",
          "1994",
          "1995",
          "1996",
          "1997",
          "1998",
          "1999",
          "2000",
          "2001",
          "2002",
          "2003",
          "2004",
          "2005",
          "2006",
          "2007",
          "2008",
          "2009",
          "2010",
          "2011",
          "2012",
          "2013",
          "2014",
          "2015",
          "2016",
          "2017",
          "2018",
          "2019",
          "2020",
          "2021",
          "2022"
         ],
         "xaxis": "x",
         "y": [
          1.0616902298316497,
          0.8949436969870183,
          0.8790465490154525,
          0.894175677532145,
          0.7813261886833562,
          0.7670046768229023,
          0.8107192912401158,
          0.8771641432341715,
          0.9479990365491323,
          1.0917296743659215,
          1.107053126409515,
          1.0172231854443006,
          0.9460019536024564,
          0.9527363306835532,
          0.937448869410303,
          1.1198652030539904,
          1.1355208268730173,
          0.9662714305716897,
          0.8961646211429868,
          0.9737936975854168,
          1.0472635693069738,
          1.0545361960003812,
          1.0749060786108575,
          0.9645034959223826,
          0.8405364694401609,
          0.872550478132638,
          0.915962049461161,
          1.0720360930542194,
          1.137324802481366,
          1.2250226992056557,
          1.2056001884316385,
          1.0710590397660011,
          1.016026409531891,
          1.2675759990437523,
          0.6914762086643296,
          0.8926140248718928
         ],
         "yaxis": "y"
        },
        {
         "hovertemplate": "Continente=África<br>Año=%{x}<br>Crecimiento de la población (% anual)=%{y}<extra></extra>",
         "legendgroup": "África",
         "line": {
          "color": "#FF6692",
          "dash": "solid"
         },
         "marker": {
          "symbol": "circle"
         },
         "mode": "lines",
         "name": "África",
         "orientation": "v",
         "showlegend": true,
         "type": "scatter",
         "x": [
          "1987",
          "1988",
          "1989",
          "1990",
          "1991",
          "1992",
          "1993",
          "1994",
          "1995",
          "1996",
          "1997",
          "1998",
          "1999",
          "2000",
          "2001",
          "2002",
          "2003",
          "2004",
          "2005",
          "2006",
          "2007",
          "2008",
          "2009",
          "2010",
          "2011",
          "2012",
          "2013",
          "2014",
          "2015",
          "2016",
          "2017",
          "2018",
          "2019",
          "2020",
          "2021",
          "2022"
         ],
         "xaxis": "x",
         "y": [
          3.02984752943285,
          2.930002849113272,
          2.812363523380192,
          2.8083799654639057,
          2.4962956681969017,
          2.167480568176933,
          2.184244579330435,
          0.283414333887273,
          0.36773232185563964,
          3.7146823338952695,
          3.3248563550769292,
          2.275259117112389,
          2.036990722914618,
          2.2155650693732714,
          2.5661990107697514,
          2.610688743940406,
          2.5462100215760186,
          2.5664417474967225,
          2.462360218817004,
          2.3778381698887605,
          2.380455056493056,
          2.432502359201932,
          2.471142101431736,
          2.467689309127956,
          2.4836833930884112,
          2.483334423927844,
          2.4724602693140842,
          2.470303052619544,
          2.451255175913026,
          2.3290111217842457,
          2.2618514333985815,
          2.291257416025231,
          2.243810012053973,
          2.202378472743455,
          2.144445901813801,
          2.0845066494939237
         ],
         "yaxis": "y"
        }
       ],
       "layout": {
        "legend": {
         "title": {
          "text": "Continente"
         },
         "tracegroupgap": 0
        },
        "margin": {
         "t": 60
        },
        "template": {
         "data": {
          "bar": [
           {
            "error_x": {
             "color": "#2a3f5f"
            },
            "error_y": {
             "color": "#2a3f5f"
            },
            "marker": {
             "line": {
              "color": "#E5ECF6",
              "width": 0.5
             },
             "pattern": {
              "fillmode": "overlay",
              "size": 10,
              "solidity": 0.2
             }
            },
            "type": "bar"
           }
          ],
          "barpolar": [
           {
            "marker": {
             "line": {
              "color": "#E5ECF6",
              "width": 0.5
             },
             "pattern": {
              "fillmode": "overlay",
              "size": 10,
              "solidity": 0.2
             }
            },
            "type": "barpolar"
           }
          ],
          "carpet": [
           {
            "aaxis": {
             "endlinecolor": "#2a3f5f",
             "gridcolor": "white",
             "linecolor": "white",
             "minorgridcolor": "white",
             "startlinecolor": "#2a3f5f"
            },
            "baxis": {
             "endlinecolor": "#2a3f5f",
             "gridcolor": "white",
             "linecolor": "white",
             "minorgridcolor": "white",
             "startlinecolor": "#2a3f5f"
            },
            "type": "carpet"
           }
          ],
          "choropleth": [
           {
            "colorbar": {
             "outlinewidth": 0,
             "ticks": ""
            },
            "type": "choropleth"
           }
          ],
          "contour": [
           {
            "colorbar": {
             "outlinewidth": 0,
             "ticks": ""
            },
            "colorscale": [
             [
              0,
              "#0d0887"
             ],
             [
              0.1111111111111111,
              "#46039f"
             ],
             [
              0.2222222222222222,
              "#7201a8"
             ],
             [
              0.3333333333333333,
              "#9c179e"
             ],
             [
              0.4444444444444444,
              "#bd3786"
             ],
             [
              0.5555555555555556,
              "#d8576b"
             ],
             [
              0.6666666666666666,
              "#ed7953"
             ],
             [
              0.7777777777777778,
              "#fb9f3a"
             ],
             [
              0.8888888888888888,
              "#fdca26"
             ],
             [
              1,
              "#f0f921"
             ]
            ],
            "type": "contour"
           }
          ],
          "contourcarpet": [
           {
            "colorbar": {
             "outlinewidth": 0,
             "ticks": ""
            },
            "type": "contourcarpet"
           }
          ],
          "heatmap": [
           {
            "colorbar": {
             "outlinewidth": 0,
             "ticks": ""
            },
            "colorscale": [
             [
              0,
              "#0d0887"
             ],
             [
              0.1111111111111111,
              "#46039f"
             ],
             [
              0.2222222222222222,
              "#7201a8"
             ],
             [
              0.3333333333333333,
              "#9c179e"
             ],
             [
              0.4444444444444444,
              "#bd3786"
             ],
             [
              0.5555555555555556,
              "#d8576b"
             ],
             [
              0.6666666666666666,
              "#ed7953"
             ],
             [
              0.7777777777777778,
              "#fb9f3a"
             ],
             [
              0.8888888888888888,
              "#fdca26"
             ],
             [
              1,
              "#f0f921"
             ]
            ],
            "type": "heatmap"
           }
          ],
          "heatmapgl": [
           {
            "colorbar": {
             "outlinewidth": 0,
             "ticks": ""
            },
            "colorscale": [
             [
              0,
              "#0d0887"
             ],
             [
              0.1111111111111111,
              "#46039f"
             ],
             [
              0.2222222222222222,
              "#7201a8"
             ],
             [
              0.3333333333333333,
              "#9c179e"
             ],
             [
              0.4444444444444444,
              "#bd3786"
             ],
             [
              0.5555555555555556,
              "#d8576b"
             ],
             [
              0.6666666666666666,
              "#ed7953"
             ],
             [
              0.7777777777777778,
              "#fb9f3a"
             ],
             [
              0.8888888888888888,
              "#fdca26"
             ],
             [
              1,
              "#f0f921"
             ]
            ],
            "type": "heatmapgl"
           }
          ],
          "histogram": [
           {
            "marker": {
             "pattern": {
              "fillmode": "overlay",
              "size": 10,
              "solidity": 0.2
             }
            },
            "type": "histogram"
           }
          ],
          "histogram2d": [
           {
            "colorbar": {
             "outlinewidth": 0,
             "ticks": ""
            },
            "colorscale": [
             [
              0,
              "#0d0887"
             ],
             [
              0.1111111111111111,
              "#46039f"
             ],
             [
              0.2222222222222222,
              "#7201a8"
             ],
             [
              0.3333333333333333,
              "#9c179e"
             ],
             [
              0.4444444444444444,
              "#bd3786"
             ],
             [
              0.5555555555555556,
              "#d8576b"
             ],
             [
              0.6666666666666666,
              "#ed7953"
             ],
             [
              0.7777777777777778,
              "#fb9f3a"
             ],
             [
              0.8888888888888888,
              "#fdca26"
             ],
             [
              1,
              "#f0f921"
             ]
            ],
            "type": "histogram2d"
           }
          ],
          "histogram2dcontour": [
           {
            "colorbar": {
             "outlinewidth": 0,
             "ticks": ""
            },
            "colorscale": [
             [
              0,
              "#0d0887"
             ],
             [
              0.1111111111111111,
              "#46039f"
             ],
             [
              0.2222222222222222,
              "#7201a8"
             ],
             [
              0.3333333333333333,
              "#9c179e"
             ],
             [
              0.4444444444444444,
              "#bd3786"
             ],
             [
              0.5555555555555556,
              "#d8576b"
             ],
             [
              0.6666666666666666,
              "#ed7953"
             ],
             [
              0.7777777777777778,
              "#fb9f3a"
             ],
             [
              0.8888888888888888,
              "#fdca26"
             ],
             [
              1,
              "#f0f921"
             ]
            ],
            "type": "histogram2dcontour"
           }
          ],
          "mesh3d": [
           {
            "colorbar": {
             "outlinewidth": 0,
             "ticks": ""
            },
            "type": "mesh3d"
           }
          ],
          "parcoords": [
           {
            "line": {
             "colorbar": {
              "outlinewidth": 0,
              "ticks": ""
             }
            },
            "type": "parcoords"
           }
          ],
          "pie": [
           {
            "automargin": true,
            "type": "pie"
           }
          ],
          "scatter": [
           {
            "fillpattern": {
             "fillmode": "overlay",
             "size": 10,
             "solidity": 0.2
            },
            "type": "scatter"
           }
          ],
          "scatter3d": [
           {
            "line": {
             "colorbar": {
              "outlinewidth": 0,
              "ticks": ""
             }
            },
            "marker": {
             "colorbar": {
              "outlinewidth": 0,
              "ticks": ""
             }
            },
            "type": "scatter3d"
           }
          ],
          "scattercarpet": [
           {
            "marker": {
             "colorbar": {
              "outlinewidth": 0,
              "ticks": ""
             }
            },
            "type": "scattercarpet"
           }
          ],
          "scattergeo": [
           {
            "marker": {
             "colorbar": {
              "outlinewidth": 0,
              "ticks": ""
             }
            },
            "type": "scattergeo"
           }
          ],
          "scattergl": [
           {
            "marker": {
             "colorbar": {
              "outlinewidth": 0,
              "ticks": ""
             }
            },
            "type": "scattergl"
           }
          ],
          "scattermapbox": [
           {
            "marker": {
             "colorbar": {
              "outlinewidth": 0,
              "ticks": ""
             }
            },
            "type": "scattermapbox"
           }
          ],
          "scatterpolar": [
           {
            "marker": {
             "colorbar": {
              "outlinewidth": 0,
              "ticks": ""
             }
            },
            "type": "scatterpolar"
           }
          ],
          "scatterpolargl": [
           {
            "marker": {
             "colorbar": {
              "outlinewidth": 0,
              "ticks": ""
             }
            },
            "type": "scatterpolargl"
           }
          ],
          "scatterternary": [
           {
            "marker": {
             "colorbar": {
              "outlinewidth": 0,
              "ticks": ""
             }
            },
            "type": "scatterternary"
           }
          ],
          "surface": [
           {
            "colorbar": {
             "outlinewidth": 0,
             "ticks": ""
            },
            "colorscale": [
             [
              0,
              "#0d0887"
             ],
             [
              0.1111111111111111,
              "#46039f"
             ],
             [
              0.2222222222222222,
              "#7201a8"
             ],
             [
              0.3333333333333333,
              "#9c179e"
             ],
             [
              0.4444444444444444,
              "#bd3786"
             ],
             [
              0.5555555555555556,
              "#d8576b"
             ],
             [
              0.6666666666666666,
              "#ed7953"
             ],
             [
              0.7777777777777778,
              "#fb9f3a"
             ],
             [
              0.8888888888888888,
              "#fdca26"
             ],
             [
              1,
              "#f0f921"
             ]
            ],
            "type": "surface"
           }
          ],
          "table": [
           {
            "cells": {
             "fill": {
              "color": "#EBF0F8"
             },
             "line": {
              "color": "white"
             }
            },
            "header": {
             "fill": {
              "color": "#C8D4E3"
             },
             "line": {
              "color": "white"
             }
            },
            "type": "table"
           }
          ]
         },
         "layout": {
          "annotationdefaults": {
           "arrowcolor": "#2a3f5f",
           "arrowhead": 0,
           "arrowwidth": 1
          },
          "autotypenumbers": "strict",
          "coloraxis": {
           "colorbar": {
            "outlinewidth": 0,
            "ticks": ""
           }
          },
          "colorscale": {
           "diverging": [
            [
             0,
             "#8e0152"
            ],
            [
             0.1,
             "#c51b7d"
            ],
            [
             0.2,
             "#de77ae"
            ],
            [
             0.3,
             "#f1b6da"
            ],
            [
             0.4,
             "#fde0ef"
            ],
            [
             0.5,
             "#f7f7f7"
            ],
            [
             0.6,
             "#e6f5d0"
            ],
            [
             0.7,
             "#b8e186"
            ],
            [
             0.8,
             "#7fbc41"
            ],
            [
             0.9,
             "#4d9221"
            ],
            [
             1,
             "#276419"
            ]
           ],
           "sequential": [
            [
             0,
             "#0d0887"
            ],
            [
             0.1111111111111111,
             "#46039f"
            ],
            [
             0.2222222222222222,
             "#7201a8"
            ],
            [
             0.3333333333333333,
             "#9c179e"
            ],
            [
             0.4444444444444444,
             "#bd3786"
            ],
            [
             0.5555555555555556,
             "#d8576b"
            ],
            [
             0.6666666666666666,
             "#ed7953"
            ],
            [
             0.7777777777777778,
             "#fb9f3a"
            ],
            [
             0.8888888888888888,
             "#fdca26"
            ],
            [
             1,
             "#f0f921"
            ]
           ],
           "sequentialminus": [
            [
             0,
             "#0d0887"
            ],
            [
             0.1111111111111111,
             "#46039f"
            ],
            [
             0.2222222222222222,
             "#7201a8"
            ],
            [
             0.3333333333333333,
             "#9c179e"
            ],
            [
             0.4444444444444444,
             "#bd3786"
            ],
            [
             0.5555555555555556,
             "#d8576b"
            ],
            [
             0.6666666666666666,
             "#ed7953"
            ],
            [
             0.7777777777777778,
             "#fb9f3a"
            ],
            [
             0.8888888888888888,
             "#fdca26"
            ],
            [
             1,
             "#f0f921"
            ]
           ]
          },
          "colorway": [
           "#636efa",
           "#EF553B",
           "#00cc96",
           "#ab63fa",
           "#FFA15A",
           "#19d3f3",
           "#FF6692",
           "#B6E880",
           "#FF97FF",
           "#FECB52"
          ],
          "font": {
           "color": "#2a3f5f"
          },
          "geo": {
           "bgcolor": "white",
           "lakecolor": "white",
           "landcolor": "#E5ECF6",
           "showlakes": true,
           "showland": true,
           "subunitcolor": "white"
          },
          "hoverlabel": {
           "align": "left"
          },
          "hovermode": "closest",
          "mapbox": {
           "style": "light"
          },
          "paper_bgcolor": "white",
          "plot_bgcolor": "#E5ECF6",
          "polar": {
           "angularaxis": {
            "gridcolor": "white",
            "linecolor": "white",
            "ticks": ""
           },
           "bgcolor": "#E5ECF6",
           "radialaxis": {
            "gridcolor": "white",
            "linecolor": "white",
            "ticks": ""
           }
          },
          "scene": {
           "xaxis": {
            "backgroundcolor": "#E5ECF6",
            "gridcolor": "white",
            "gridwidth": 2,
            "linecolor": "white",
            "showbackground": true,
            "ticks": "",
            "zerolinecolor": "white"
           },
           "yaxis": {
            "backgroundcolor": "#E5ECF6",
            "gridcolor": "white",
            "gridwidth": 2,
            "linecolor": "white",
            "showbackground": true,
            "ticks": "",
            "zerolinecolor": "white"
           },
           "zaxis": {
            "backgroundcolor": "#E5ECF6",
            "gridcolor": "white",
            "gridwidth": 2,
            "linecolor": "white",
            "showbackground": true,
            "ticks": "",
            "zerolinecolor": "white"
           }
          },
          "shapedefaults": {
           "line": {
            "color": "#2a3f5f"
           }
          },
          "ternary": {
           "aaxis": {
            "gridcolor": "white",
            "linecolor": "white",
            "ticks": ""
           },
           "baxis": {
            "gridcolor": "white",
            "linecolor": "white",
            "ticks": ""
           },
           "bgcolor": "#E5ECF6",
           "caxis": {
            "gridcolor": "white",
            "linecolor": "white",
            "ticks": ""
           }
          },
          "title": {
           "x": 0.05
          },
          "xaxis": {
           "automargin": true,
           "gridcolor": "white",
           "linecolor": "white",
           "ticks": "",
           "title": {
            "standoff": 15
           },
           "zerolinecolor": "white",
           "zerolinewidth": 2
          },
          "yaxis": {
           "automargin": true,
           "gridcolor": "white",
           "linecolor": "white",
           "ticks": "",
           "title": {
            "standoff": 15
           },
           "zerolinecolor": "white",
           "zerolinewidth": 2
          }
         }
        },
        "xaxis": {
         "anchor": "y",
         "domain": [
          0,
          1
         ],
         "title": {
          "text": "Año"
         }
        },
        "yaxis": {
         "anchor": "x",
         "domain": [
          0,
          1
         ],
         "title": {
          "text": "Crecimiento de la población (% anual)"
         }
        }
       }
      }
     },
     "metadata": {},
     "output_type": "display_data"
    },
    {
     "data": {
      "application/vnd.plotly.v1+json": {
       "config": {
        "plotlyServerURL": "https://plot.ly"
       },
       "data": [
        {
         "hovertemplate": "Continente=América Central<br>Año=%{x}<br>Crecimiento de la población rural (% anual)=%{y}<extra></extra>",
         "legendgroup": "América Central",
         "line": {
          "color": "#636efa",
          "dash": "solid"
         },
         "marker": {
          "symbol": "circle"
         },
         "mode": "lines",
         "name": "América Central",
         "orientation": "v",
         "showlegend": true,
         "type": "scatter",
         "x": [
          "1987",
          "1988",
          "1989",
          "1990",
          "1991",
          "1992",
          "1993",
          "1994",
          "1995",
          "1996",
          "1997",
          "1998",
          "1999",
          "2000",
          "2001",
          "2002",
          "2003",
          "2004",
          "2005",
          "2006",
          "2007",
          "2008",
          "2009",
          "2010",
          "2011",
          "2012",
          "2013",
          "2014",
          "2015",
          "2016",
          "2017",
          "2018",
          "2019",
          "2020",
          "2021",
          "2022"
         ],
         "xaxis": "x",
         "y": [
          0.051092807755063085,
          0.0239017718213963,
          -0.004274068985576807,
          -0.050408071630768214,
          0.1653403324635941,
          0.354594408505231,
          0.2626403851540757,
          0.1669228994152837,
          0.08638745450590357,
          0.021913591191606574,
          -0.11296556778224942,
          -0.2614046791808288,
          -0.32289867282470575,
          -0.4051892425702646,
          -1.08708455651094,
          -1.2107578932691685,
          -1.1768651452620924,
          -1.1226218139375257,
          -1.2015833635755415,
          -1.2885982558784728,
          -1.3631595752693828,
          -1.422480508007383,
          -1.465177000923964,
          -1.5332322576981534,
          -1.583940546637391,
          -1.5762729754540785,
          -1.4730281270959709,
          -1.458144679863496,
          -1.469440746187763,
          -1.4795708926525424,
          -1.5251948580744084,
          -1.5521167254348505,
          -1.5892022465387623,
          -1.6541207790235621,
          -1.8417469390963823,
          -1.8662871913533818
         ],
         "yaxis": "y"
        },
        {
         "hovertemplate": "Continente=América del Norte<br>Año=%{x}<br>Crecimiento de la población rural (% anual)=%{y}<extra></extra>",
         "legendgroup": "América del Norte",
         "line": {
          "color": "#EF553B",
          "dash": "solid"
         },
         "marker": {
          "symbol": "circle"
         },
         "mode": "lines",
         "name": "América del Norte",
         "orientation": "v",
         "showlegend": true,
         "type": "scatter",
         "x": [
          "1987",
          "1988",
          "1989",
          "1990",
          "1991",
          "1992",
          "1993",
          "1994",
          "1995",
          "1996",
          "1997",
          "1998",
          "1999",
          "2000",
          "2001",
          "2002",
          "2003",
          "2004",
          "2005",
          "2006",
          "2007",
          "2008",
          "2009",
          "2010",
          "2011",
          "2012",
          "2013",
          "2014",
          "2015",
          "2016",
          "2017",
          "2018",
          "2019",
          "2020",
          "2021",
          "2022"
         ],
         "xaxis": "x",
         "y": [
          0.5340570626592243,
          0.5208318577984159,
          0.6882658831995566,
          0.6434424583979725,
          0.4524723419573373,
          0.10831441255049297,
          0.04478361794951161,
          -0.0031259023457176536,
          -0.05783881454801224,
          -0.024969704063896165,
          -0.1733310962170125,
          -0.2633680318478638,
          -0.2969511184133397,
          -0.26019795510639404,
          -0.0492497046748939,
          0.3372419295980405,
          0.2369743454197535,
          0.25945381402786866,
          0.2522032608241737,
          0.23738622504438092,
          0.047604220602748666,
          0.06208588817541819,
          0.0482062082647435,
          0.0509557739789639,
          0.017929443380087933,
          0.24135983380295215,
          0.17344276795520294,
          0.12960266586279565,
          0.003598749794713233,
          0.10136058284368728,
          0.042741071728018075,
          0.0024622289053580957,
          -0.08116202885842587,
          -0.10719786226768964,
          -0.6353961363090529,
          -0.15281300510093807
         ],
         "yaxis": "y"
        },
        {
         "hovertemplate": "Continente=América del Sur<br>Año=%{x}<br>Crecimiento de la población rural (% anual)=%{y}<extra></extra>",
         "legendgroup": "América del Sur",
         "line": {
          "color": "#00cc96",
          "dash": "solid"
         },
         "marker": {
          "symbol": "circle"
         },
         "mode": "lines",
         "name": "América del Sur",
         "orientation": "v",
         "showlegend": true,
         "type": "scatter",
         "x": [
          "1987",
          "1988",
          "1989",
          "1990",
          "1991",
          "1992",
          "1993",
          "1994",
          "1995",
          "1996",
          "1997",
          "1998",
          "1999",
          "2000",
          "2001",
          "2002",
          "2003",
          "2004",
          "2005",
          "2006",
          "2007",
          "2008",
          "2009",
          "2010",
          "2011",
          "2012",
          "2013",
          "2014",
          "2015",
          "2016",
          "2017",
          "2018",
          "2019",
          "2020",
          "2021",
          "2022"
         ],
         "xaxis": "x",
         "y": [
          -0.16747581340895495,
          -0.22435854355418158,
          -0.27739043933323076,
          -0.3431561617129397,
          -0.2478735903123007,
          -0.06049643957518079,
          -0.12104709047168165,
          -0.17561474651598474,
          -0.2289649776004405,
          -0.29470701559041707,
          -0.4090208907802239,
          -0.46985371415869376,
          -0.5253333614571487,
          -0.5751410866754475,
          -0.2785575052017024,
          0.2456349313995036,
          0.2681704364724483,
          0.22739865801547537,
          0.20079610106549048,
          0.1619918552792444,
          0.1189889781961377,
          0.0717071142615187,
          0.0410341680267194,
          -0.129698996796285,
          0.06696894110455558,
          0.07504778726088376,
          0.04451305267970964,
          -0.0002246301759128766,
          -0.024138904536143802,
          -0.0916247015083953,
          -0.2649196764294543,
          -0.5165740993567228,
          -0.6521554727653577,
          -0.6263785941981086,
          -0.657021198591992,
          -0.5213876292840838
         ],
         "yaxis": "y"
        },
        {
         "hovertemplate": "Continente=Asia<br>Año=%{x}<br>Crecimiento de la población rural (% anual)=%{y}<extra></extra>",
         "legendgroup": "Asia",
         "line": {
          "color": "#ab63fa",
          "dash": "solid"
         },
         "marker": {
          "symbol": "circle"
         },
         "mode": "lines",
         "name": "Asia",
         "orientation": "v",
         "showlegend": true,
         "type": "scatter",
         "x": [
          "1987",
          "1988",
          "1989",
          "1990",
          "1991",
          "1992",
          "1993",
          "1994",
          "1995",
          "1996",
          "1997",
          "1998",
          "1999",
          "2000",
          "2001",
          "2002",
          "2003",
          "2004",
          "2005",
          "2006",
          "2007",
          "2008",
          "2009",
          "2010",
          "2011",
          "2012",
          "2013",
          "2014",
          "2015",
          "2016",
          "2017",
          "2018",
          "2019",
          "2020",
          "2021",
          "2022"
         ],
         "xaxis": "x",
         "y": [
          1.9275356549266967,
          2.013546703359275,
          2.306279365009649,
          1.9626047412769148,
          1.9025647404647126,
          3.320290261542846,
          3.8256792767380015,
          2.9210663918046453,
          2.221240775572769,
          1.8503306012069198,
          1.7345454545282113,
          1.6460015189477222,
          1.5897813439569632,
          1.1575491238404936,
          0.2209246794493252,
          0.5937846485571507,
          0.6215364497836111,
          0.033630011138187005,
          0.3182196984158943,
          1.3563094723345894,
          1.632494793436845,
          1.4901062203132496,
          1.0841105023934696,
          -0.03690597678834221,
          0.05215591017391593,
          0.29346706438087244,
          0.1765983424557122,
          0.16608564204035123,
          0.08451977743534755,
          0.0566662192177623,
          0.12773506636101228,
          0.07784021530745677,
          0.02080798716659843,
          -0.14488387558046711,
          -0.2546048017371296,
          -0.2516866407270628
         ],
         "yaxis": "y"
        },
        {
         "hovertemplate": "Continente=Europa<br>Año=%{x}<br>Crecimiento de la población rural (% anual)=%{y}<extra></extra>",
         "legendgroup": "Europa",
         "line": {
          "color": "#FFA15A",
          "dash": "solid"
         },
         "marker": {
          "symbol": "circle"
         },
         "mode": "lines",
         "name": "Europa",
         "orientation": "v",
         "showlegend": true,
         "type": "scatter",
         "x": [
          "1987",
          "1988",
          "1989",
          "1990",
          "1991",
          "1992",
          "1993",
          "1994",
          "1995",
          "1996",
          "1997",
          "1998",
          "1999",
          "2000",
          "2001",
          "2002",
          "2003",
          "2004",
          "2005",
          "2006",
          "2007",
          "2008",
          "2009",
          "2010",
          "2011",
          "2012",
          "2013",
          "2014",
          "2015",
          "2016",
          "2017",
          "2018",
          "2019",
          "2020",
          "2021",
          "2022"
         ],
         "xaxis": "x",
         "y": [
          -0.3922182108717875,
          -0.3443687812451749,
          -0.15144706244190778,
          -0.028423383494480984,
          0.05541241217364981,
          0.032952866801289234,
          -0.07934062316033011,
          -0.21345051737592335,
          -0.24430973579787987,
          -0.26734145973565193,
          -0.3521269446996866,
          -0.40250178283415877,
          -0.3965743087914532,
          -0.3493293631172565,
          -0.4414274604900537,
          -0.717341317771703,
          -0.7685102113071388,
          -0.8327425754487795,
          -0.8665394957749637,
          -0.8181288834740731,
          -0.6950338428932171,
          -0.6404083989962077,
          -0.7357457521393886,
          -0.9205809368000296,
          -1.2260544042693238,
          -1.1644523882585631,
          -1.0227637734174637,
          -0.7593557027787874,
          -0.6778432191044929,
          -0.6781011633407719,
          -0.7809274496810854,
          -0.8806069247954873,
          -0.8952756318837494,
          -1.0126587798841271,
          -1.1450296525715442,
          -0.8521477707784189
         ],
         "yaxis": "y"
        },
        {
         "hovertemplate": "Continente=Oceanía<br>Año=%{x}<br>Crecimiento de la población rural (% anual)=%{y}<extra></extra>",
         "legendgroup": "Oceanía",
         "line": {
          "color": "#19d3f3",
          "dash": "solid"
         },
         "marker": {
          "symbol": "circle"
         },
         "mode": "lines",
         "name": "Oceanía",
         "orientation": "v",
         "showlegend": true,
         "type": "scatter",
         "x": [
          "1987",
          "1988",
          "1989",
          "1990",
          "1991",
          "1992",
          "1993",
          "1994",
          "1995",
          "1996",
          "1997",
          "1998",
          "1999",
          "2000",
          "2001",
          "2002",
          "2003",
          "2004",
          "2005",
          "2006",
          "2007",
          "2008",
          "2009",
          "2010",
          "2011",
          "2012",
          "2013",
          "2014",
          "2015",
          "2016",
          "2017",
          "2018",
          "2019",
          "2020",
          "2021",
          "2022"
         ],
         "xaxis": "x",
         "y": [
          0.4656854337422293,
          0.24745980909884616,
          0.2304874729461346,
          0.23625616952556136,
          1.1232171416263756,
          0.3559037416561066,
          0.40021626559112855,
          0.4593877142108449,
          0.5224288444493852,
          0.6600911258823111,
          0.940295910716574,
          0.8784374377767777,
          0.8029677622543808,
          0.808183093260928,
          0.7907178583736543,
          0.6679531629203532,
          0.7197621975558339,
          0.5474471087244512,
          0.47557573570119427,
          0.551855387070235,
          0.8318728722042056,
          0.786288852047087,
          0.7908163705387004,
          0.6760406104868786,
          0.5487966691088194,
          0.3884990421248073,
          0.4358695520051569,
          0.5860906988131478,
          0.6477449441930334,
          0.7321113318142282,
          0.6857423906351263,
          0.5219355283757219,
          0.4402301628178362,
          0.6604801759709504,
          0.05570382593149831,
          0.22744893497402374
         ],
         "yaxis": "y"
        },
        {
         "hovertemplate": "Continente=África<br>Año=%{x}<br>Crecimiento de la población rural (% anual)=%{y}<extra></extra>",
         "legendgroup": "África",
         "line": {
          "color": "#FF6692",
          "dash": "solid"
         },
         "marker": {
          "symbol": "circle"
         },
         "mode": "lines",
         "name": "África",
         "orientation": "v",
         "showlegend": true,
         "type": "scatter",
         "x": [
          "1987",
          "1988",
          "1989",
          "1990",
          "1991",
          "1992",
          "1993",
          "1994",
          "1995",
          "1996",
          "1997",
          "1998",
          "1999",
          "2000",
          "2001",
          "2002",
          "2003",
          "2004",
          "2005",
          "2006",
          "2007",
          "2008",
          "2009",
          "2010",
          "2011",
          "2012",
          "2013",
          "2014",
          "2015",
          "2016",
          "2017",
          "2018",
          "2019",
          "2020",
          "2021",
          "2022"
         ],
         "xaxis": "x",
         "y": [
          2.499537643379594,
          2.4180711604443244,
          2.3106365711112513,
          2.28012075115953,
          1.9599335041766313,
          1.5534707266557732,
          1.5439180163622899,
          -0.3644351262184872,
          -0.2397670468798565,
          3.0914086670636785,
          2.703886495920127,
          1.650873146954299,
          1.3887479562377425,
          1.5514686206846648,
          1.8909816252283647,
          1.9163145086733802,
          1.9363357749210242,
          1.961761142112655,
          1.7924791179255162,
          1.6780347884771607,
          1.6989480387816058,
          1.763051762963395,
          1.7981658961103917,
          1.7861445060265713,
          1.794275485043687,
          1.7913664701039305,
          1.7735781923975615,
          1.7591332412937841,
          1.728514980050504,
          1.5939386442623555,
          1.5100891778705523,
          1.5216209293904064,
          1.457082477609017,
          1.397243950836018,
          1.3224800285654106,
          1.2450446779562057
         ],
         "yaxis": "y"
        }
       ],
       "layout": {
        "legend": {
         "title": {
          "text": "Continente"
         },
         "tracegroupgap": 0
        },
        "margin": {
         "t": 60
        },
        "template": {
         "data": {
          "bar": [
           {
            "error_x": {
             "color": "#2a3f5f"
            },
            "error_y": {
             "color": "#2a3f5f"
            },
            "marker": {
             "line": {
              "color": "#E5ECF6",
              "width": 0.5
             },
             "pattern": {
              "fillmode": "overlay",
              "size": 10,
              "solidity": 0.2
             }
            },
            "type": "bar"
           }
          ],
          "barpolar": [
           {
            "marker": {
             "line": {
              "color": "#E5ECF6",
              "width": 0.5
             },
             "pattern": {
              "fillmode": "overlay",
              "size": 10,
              "solidity": 0.2
             }
            },
            "type": "barpolar"
           }
          ],
          "carpet": [
           {
            "aaxis": {
             "endlinecolor": "#2a3f5f",
             "gridcolor": "white",
             "linecolor": "white",
             "minorgridcolor": "white",
             "startlinecolor": "#2a3f5f"
            },
            "baxis": {
             "endlinecolor": "#2a3f5f",
             "gridcolor": "white",
             "linecolor": "white",
             "minorgridcolor": "white",
             "startlinecolor": "#2a3f5f"
            },
            "type": "carpet"
           }
          ],
          "choropleth": [
           {
            "colorbar": {
             "outlinewidth": 0,
             "ticks": ""
            },
            "type": "choropleth"
           }
          ],
          "contour": [
           {
            "colorbar": {
             "outlinewidth": 0,
             "ticks": ""
            },
            "colorscale": [
             [
              0,
              "#0d0887"
             ],
             [
              0.1111111111111111,
              "#46039f"
             ],
             [
              0.2222222222222222,
              "#7201a8"
             ],
             [
              0.3333333333333333,
              "#9c179e"
             ],
             [
              0.4444444444444444,
              "#bd3786"
             ],
             [
              0.5555555555555556,
              "#d8576b"
             ],
             [
              0.6666666666666666,
              "#ed7953"
             ],
             [
              0.7777777777777778,
              "#fb9f3a"
             ],
             [
              0.8888888888888888,
              "#fdca26"
             ],
             [
              1,
              "#f0f921"
             ]
            ],
            "type": "contour"
           }
          ],
          "contourcarpet": [
           {
            "colorbar": {
             "outlinewidth": 0,
             "ticks": ""
            },
            "type": "contourcarpet"
           }
          ],
          "heatmap": [
           {
            "colorbar": {
             "outlinewidth": 0,
             "ticks": ""
            },
            "colorscale": [
             [
              0,
              "#0d0887"
             ],
             [
              0.1111111111111111,
              "#46039f"
             ],
             [
              0.2222222222222222,
              "#7201a8"
             ],
             [
              0.3333333333333333,
              "#9c179e"
             ],
             [
              0.4444444444444444,
              "#bd3786"
             ],
             [
              0.5555555555555556,
              "#d8576b"
             ],
             [
              0.6666666666666666,
              "#ed7953"
             ],
             [
              0.7777777777777778,
              "#fb9f3a"
             ],
             [
              0.8888888888888888,
              "#fdca26"
             ],
             [
              1,
              "#f0f921"
             ]
            ],
            "type": "heatmap"
           }
          ],
          "heatmapgl": [
           {
            "colorbar": {
             "outlinewidth": 0,
             "ticks": ""
            },
            "colorscale": [
             [
              0,
              "#0d0887"
             ],
             [
              0.1111111111111111,
              "#46039f"
             ],
             [
              0.2222222222222222,
              "#7201a8"
             ],
             [
              0.3333333333333333,
              "#9c179e"
             ],
             [
              0.4444444444444444,
              "#bd3786"
             ],
             [
              0.5555555555555556,
              "#d8576b"
             ],
             [
              0.6666666666666666,
              "#ed7953"
             ],
             [
              0.7777777777777778,
              "#fb9f3a"
             ],
             [
              0.8888888888888888,
              "#fdca26"
             ],
             [
              1,
              "#f0f921"
             ]
            ],
            "type": "heatmapgl"
           }
          ],
          "histogram": [
           {
            "marker": {
             "pattern": {
              "fillmode": "overlay",
              "size": 10,
              "solidity": 0.2
             }
            },
            "type": "histogram"
           }
          ],
          "histogram2d": [
           {
            "colorbar": {
             "outlinewidth": 0,
             "ticks": ""
            },
            "colorscale": [
             [
              0,
              "#0d0887"
             ],
             [
              0.1111111111111111,
              "#46039f"
             ],
             [
              0.2222222222222222,
              "#7201a8"
             ],
             [
              0.3333333333333333,
              "#9c179e"
             ],
             [
              0.4444444444444444,
              "#bd3786"
             ],
             [
              0.5555555555555556,
              "#d8576b"
             ],
             [
              0.6666666666666666,
              "#ed7953"
             ],
             [
              0.7777777777777778,
              "#fb9f3a"
             ],
             [
              0.8888888888888888,
              "#fdca26"
             ],
             [
              1,
              "#f0f921"
             ]
            ],
            "type": "histogram2d"
           }
          ],
          "histogram2dcontour": [
           {
            "colorbar": {
             "outlinewidth": 0,
             "ticks": ""
            },
            "colorscale": [
             [
              0,
              "#0d0887"
             ],
             [
              0.1111111111111111,
              "#46039f"
             ],
             [
              0.2222222222222222,
              "#7201a8"
             ],
             [
              0.3333333333333333,
              "#9c179e"
             ],
             [
              0.4444444444444444,
              "#bd3786"
             ],
             [
              0.5555555555555556,
              "#d8576b"
             ],
             [
              0.6666666666666666,
              "#ed7953"
             ],
             [
              0.7777777777777778,
              "#fb9f3a"
             ],
             [
              0.8888888888888888,
              "#fdca26"
             ],
             [
              1,
              "#f0f921"
             ]
            ],
            "type": "histogram2dcontour"
           }
          ],
          "mesh3d": [
           {
            "colorbar": {
             "outlinewidth": 0,
             "ticks": ""
            },
            "type": "mesh3d"
           }
          ],
          "parcoords": [
           {
            "line": {
             "colorbar": {
              "outlinewidth": 0,
              "ticks": ""
             }
            },
            "type": "parcoords"
           }
          ],
          "pie": [
           {
            "automargin": true,
            "type": "pie"
           }
          ],
          "scatter": [
           {
            "fillpattern": {
             "fillmode": "overlay",
             "size": 10,
             "solidity": 0.2
            },
            "type": "scatter"
           }
          ],
          "scatter3d": [
           {
            "line": {
             "colorbar": {
              "outlinewidth": 0,
              "ticks": ""
             }
            },
            "marker": {
             "colorbar": {
              "outlinewidth": 0,
              "ticks": ""
             }
            },
            "type": "scatter3d"
           }
          ],
          "scattercarpet": [
           {
            "marker": {
             "colorbar": {
              "outlinewidth": 0,
              "ticks": ""
             }
            },
            "type": "scattercarpet"
           }
          ],
          "scattergeo": [
           {
            "marker": {
             "colorbar": {
              "outlinewidth": 0,
              "ticks": ""
             }
            },
            "type": "scattergeo"
           }
          ],
          "scattergl": [
           {
            "marker": {
             "colorbar": {
              "outlinewidth": 0,
              "ticks": ""
             }
            },
            "type": "scattergl"
           }
          ],
          "scattermapbox": [
           {
            "marker": {
             "colorbar": {
              "outlinewidth": 0,
              "ticks": ""
             }
            },
            "type": "scattermapbox"
           }
          ],
          "scatterpolar": [
           {
            "marker": {
             "colorbar": {
              "outlinewidth": 0,
              "ticks": ""
             }
            },
            "type": "scatterpolar"
           }
          ],
          "scatterpolargl": [
           {
            "marker": {
             "colorbar": {
              "outlinewidth": 0,
              "ticks": ""
             }
            },
            "type": "scatterpolargl"
           }
          ],
          "scatterternary": [
           {
            "marker": {
             "colorbar": {
              "outlinewidth": 0,
              "ticks": ""
             }
            },
            "type": "scatterternary"
           }
          ],
          "surface": [
           {
            "colorbar": {
             "outlinewidth": 0,
             "ticks": ""
            },
            "colorscale": [
             [
              0,
              "#0d0887"
             ],
             [
              0.1111111111111111,
              "#46039f"
             ],
             [
              0.2222222222222222,
              "#7201a8"
             ],
             [
              0.3333333333333333,
              "#9c179e"
             ],
             [
              0.4444444444444444,
              "#bd3786"
             ],
             [
              0.5555555555555556,
              "#d8576b"
             ],
             [
              0.6666666666666666,
              "#ed7953"
             ],
             [
              0.7777777777777778,
              "#fb9f3a"
             ],
             [
              0.8888888888888888,
              "#fdca26"
             ],
             [
              1,
              "#f0f921"
             ]
            ],
            "type": "surface"
           }
          ],
          "table": [
           {
            "cells": {
             "fill": {
              "color": "#EBF0F8"
             },
             "line": {
              "color": "white"
             }
            },
            "header": {
             "fill": {
              "color": "#C8D4E3"
             },
             "line": {
              "color": "white"
             }
            },
            "type": "table"
           }
          ]
         },
         "layout": {
          "annotationdefaults": {
           "arrowcolor": "#2a3f5f",
           "arrowhead": 0,
           "arrowwidth": 1
          },
          "autotypenumbers": "strict",
          "coloraxis": {
           "colorbar": {
            "outlinewidth": 0,
            "ticks": ""
           }
          },
          "colorscale": {
           "diverging": [
            [
             0,
             "#8e0152"
            ],
            [
             0.1,
             "#c51b7d"
            ],
            [
             0.2,
             "#de77ae"
            ],
            [
             0.3,
             "#f1b6da"
            ],
            [
             0.4,
             "#fde0ef"
            ],
            [
             0.5,
             "#f7f7f7"
            ],
            [
             0.6,
             "#e6f5d0"
            ],
            [
             0.7,
             "#b8e186"
            ],
            [
             0.8,
             "#7fbc41"
            ],
            [
             0.9,
             "#4d9221"
            ],
            [
             1,
             "#276419"
            ]
           ],
           "sequential": [
            [
             0,
             "#0d0887"
            ],
            [
             0.1111111111111111,
             "#46039f"
            ],
            [
             0.2222222222222222,
             "#7201a8"
            ],
            [
             0.3333333333333333,
             "#9c179e"
            ],
            [
             0.4444444444444444,
             "#bd3786"
            ],
            [
             0.5555555555555556,
             "#d8576b"
            ],
            [
             0.6666666666666666,
             "#ed7953"
            ],
            [
             0.7777777777777778,
             "#fb9f3a"
            ],
            [
             0.8888888888888888,
             "#fdca26"
            ],
            [
             1,
             "#f0f921"
            ]
           ],
           "sequentialminus": [
            [
             0,
             "#0d0887"
            ],
            [
             0.1111111111111111,
             "#46039f"
            ],
            [
             0.2222222222222222,
             "#7201a8"
            ],
            [
             0.3333333333333333,
             "#9c179e"
            ],
            [
             0.4444444444444444,
             "#bd3786"
            ],
            [
             0.5555555555555556,
             "#d8576b"
            ],
            [
             0.6666666666666666,
             "#ed7953"
            ],
            [
             0.7777777777777778,
             "#fb9f3a"
            ],
            [
             0.8888888888888888,
             "#fdca26"
            ],
            [
             1,
             "#f0f921"
            ]
           ]
          },
          "colorway": [
           "#636efa",
           "#EF553B",
           "#00cc96",
           "#ab63fa",
           "#FFA15A",
           "#19d3f3",
           "#FF6692",
           "#B6E880",
           "#FF97FF",
           "#FECB52"
          ],
          "font": {
           "color": "#2a3f5f"
          },
          "geo": {
           "bgcolor": "white",
           "lakecolor": "white",
           "landcolor": "#E5ECF6",
           "showlakes": true,
           "showland": true,
           "subunitcolor": "white"
          },
          "hoverlabel": {
           "align": "left"
          },
          "hovermode": "closest",
          "mapbox": {
           "style": "light"
          },
          "paper_bgcolor": "white",
          "plot_bgcolor": "#E5ECF6",
          "polar": {
           "angularaxis": {
            "gridcolor": "white",
            "linecolor": "white",
            "ticks": ""
           },
           "bgcolor": "#E5ECF6",
           "radialaxis": {
            "gridcolor": "white",
            "linecolor": "white",
            "ticks": ""
           }
          },
          "scene": {
           "xaxis": {
            "backgroundcolor": "#E5ECF6",
            "gridcolor": "white",
            "gridwidth": 2,
            "linecolor": "white",
            "showbackground": true,
            "ticks": "",
            "zerolinecolor": "white"
           },
           "yaxis": {
            "backgroundcolor": "#E5ECF6",
            "gridcolor": "white",
            "gridwidth": 2,
            "linecolor": "white",
            "showbackground": true,
            "ticks": "",
            "zerolinecolor": "white"
           },
           "zaxis": {
            "backgroundcolor": "#E5ECF6",
            "gridcolor": "white",
            "gridwidth": 2,
            "linecolor": "white",
            "showbackground": true,
            "ticks": "",
            "zerolinecolor": "white"
           }
          },
          "shapedefaults": {
           "line": {
            "color": "#2a3f5f"
           }
          },
          "ternary": {
           "aaxis": {
            "gridcolor": "white",
            "linecolor": "white",
            "ticks": ""
           },
           "baxis": {
            "gridcolor": "white",
            "linecolor": "white",
            "ticks": ""
           },
           "bgcolor": "#E5ECF6",
           "caxis": {
            "gridcolor": "white",
            "linecolor": "white",
            "ticks": ""
           }
          },
          "title": {
           "x": 0.05
          },
          "xaxis": {
           "automargin": true,
           "gridcolor": "white",
           "linecolor": "white",
           "ticks": "",
           "title": {
            "standoff": 15
           },
           "zerolinecolor": "white",
           "zerolinewidth": 2
          },
          "yaxis": {
           "automargin": true,
           "gridcolor": "white",
           "linecolor": "white",
           "ticks": "",
           "title": {
            "standoff": 15
           },
           "zerolinecolor": "white",
           "zerolinewidth": 2
          }
         }
        },
        "xaxis": {
         "anchor": "y",
         "domain": [
          0,
          1
         ],
         "title": {
          "text": "Año"
         }
        },
        "yaxis": {
         "anchor": "x",
         "domain": [
          0,
          1
         ],
         "title": {
          "text": "Crecimiento de la población rural (% anual)"
         }
        }
       }
      }
     },
     "metadata": {},
     "output_type": "display_data"
    },
    {
     "data": {
      "application/vnd.plotly.v1+json": {
       "config": {
        "plotlyServerURL": "https://plot.ly"
       },
       "data": [
        {
         "hovertemplate": "Continente=América Central<br>Año=%{x}<br>Crecimiento de la población urbana (% anual)=%{y}<extra></extra>",
         "legendgroup": "América Central",
         "line": {
          "color": "#636efa",
          "dash": "solid"
         },
         "marker": {
          "symbol": "circle"
         },
         "mode": "lines",
         "name": "América Central",
         "orientation": "v",
         "showlegend": true,
         "type": "scatter",
         "x": [
          "1987",
          "1988",
          "1989",
          "1990",
          "1991",
          "1992",
          "1993",
          "1994",
          "1995",
          "1996",
          "1997",
          "1998",
          "1999",
          "2000",
          "2001",
          "2002",
          "2003",
          "2004",
          "2005",
          "2006",
          "2007",
          "2008",
          "2009",
          "2010",
          "2011",
          "2012",
          "2013",
          "2014",
          "2015",
          "2016",
          "2017",
          "2018",
          "2019",
          "2020",
          "2021",
          "2022"
         ],
         "xaxis": "x",
         "y": [
          3.0899483564341494,
          3.065975762119318,
          3.0289656831795106,
          2.98888238262771,
          2.794838726016052,
          2.5760495088517112,
          2.4773798955525423,
          2.3848033540638154,
          2.306551725205825,
          2.243013062297016,
          2.2182786425633223,
          2.1942877687865145,
          2.130186323284763,
          2.0669379876361518,
          2.3620822183560994,
          2.2388635953127753,
          2.094180904131338,
          1.9647526564916225,
          1.877285881707765,
          1.7944219018367293,
          1.7205014863877988,
          1.6669468294913101,
          1.6111743755266483,
          1.5516625633157402,
          1.499576121801037,
          1.442814670180724,
          1.3485317036018332,
          1.2591526575177847,
          1.1833784063079429,
          1.1038738107631079,
          1.023017698916706,
          0.9642449847780651,
          0.8899789277414603,
          0.7943215201156908,
          0.5703459345271599,
          0.5113003345281545
         ],
         "yaxis": "y"
        },
        {
         "hovertemplate": "Continente=América del Norte<br>Año=%{x}<br>Crecimiento de la población urbana (% anual)=%{y}<extra></extra>",
         "legendgroup": "América del Norte",
         "line": {
          "color": "#EF553B",
          "dash": "solid"
         },
         "marker": {
          "symbol": "circle"
         },
         "mode": "lines",
         "name": "América del Norte",
         "orientation": "v",
         "showlegend": true,
         "type": "scatter",
         "x": [
          "1987",
          "1988",
          "1989",
          "1990",
          "1991",
          "1992",
          "1993",
          "1994",
          "1995",
          "1996",
          "1997",
          "1998",
          "1999",
          "2000",
          "2001",
          "2002",
          "2003",
          "2004",
          "2005",
          "2006",
          "2007",
          "2008",
          "2009",
          "2010",
          "2011",
          "2012",
          "2013",
          "2014",
          "2015",
          "2016",
          "2017",
          "2018",
          "2019",
          "2020",
          "2021",
          "2022"
         ],
         "xaxis": "x",
         "y": [
          1.6297428271959415,
          1.6172244526217134,
          1.7819154129823087,
          1.8101361930132456,
          1.8968209482117213,
          1.9787424532173425,
          1.9134251291941817,
          1.8671148716659338,
          1.8126734852296718,
          1.7482885128245702,
          1.750896908726357,
          1.6631092826293017,
          1.6299212464297617,
          1.6258523471151458,
          1.563289271424522,
          1.4265036643688438,
          1.3285704083041934,
          1.3531339871760284,
          1.338135234270499,
          1.355056205872101,
          1.3581075022606512,
          1.3748659946323103,
          1.3573620780439475,
          1.3583389610787808,
          1.3072550426354344,
          1.2860746430788468,
          1.2376855094155699,
          1.2094594308672282,
          1.0998210181758858,
          1.213969630963118,
          1.1923237842197787,
          1.1892399628750752,
          1.1480324888374664,
          1.1559854488269836,
          0.6693373296720072,
          1.184977251415677
         ],
         "yaxis": "y"
        },
        {
         "hovertemplate": "Continente=América del Sur<br>Año=%{x}<br>Crecimiento de la población urbana (% anual)=%{y}<extra></extra>",
         "legendgroup": "América del Sur",
         "line": {
          "color": "#00cc96",
          "dash": "solid"
         },
         "marker": {
          "symbol": "circle"
         },
         "mode": "lines",
         "name": "América del Sur",
         "orientation": "v",
         "showlegend": true,
         "type": "scatter",
         "x": [
          "1987",
          "1988",
          "1989",
          "1990",
          "1991",
          "1992",
          "1993",
          "1994",
          "1995",
          "1996",
          "1997",
          "1998",
          "1999",
          "2000",
          "2001",
          "2002",
          "2003",
          "2004",
          "2005",
          "2006",
          "2007",
          "2008",
          "2009",
          "2010",
          "2011",
          "2012",
          "2013",
          "2014",
          "2015",
          "2016",
          "2017",
          "2018",
          "2019",
          "2020",
          "2021",
          "2022"
         ],
         "xaxis": "x",
         "y": [
          3.0234235269161016,
          2.972181394035797,
          2.911616154406366,
          2.8495663354641914,
          2.695198067247671,
          2.540889407867788,
          2.470423084163432,
          2.4193246573511997,
          2.364206573551778,
          2.30342003548351,
          2.2643946675801123,
          2.214151989452888,
          2.1636203931273146,
          2.1136015267873374,
          1.9860390755833355,
          1.8239227839559728,
          1.741627490104755,
          1.7015202978858959,
          1.6724606997330196,
          1.634736353242174,
          1.5910842523199982,
          1.5428824484717882,
          1.5096988482617033,
          1.3370095476382042,
          1.4801473844913229,
          1.4293492315378873,
          1.3822232172495927,
          1.3435511286223512,
          1.316524899544365,
          1.2461565897293783,
          1.0824826965351473,
          0.8524386749682054,
          0.7435846348239881,
          0.7938214484352238,
          0.7852586216069082,
          0.9471460381679977
         ],
         "yaxis": "y"
        },
        {
         "hovertemplate": "Continente=Asia<br>Año=%{x}<br>Crecimiento de la población urbana (% anual)=%{y}<extra></extra>",
         "legendgroup": "Asia",
         "line": {
          "color": "#ab63fa",
          "dash": "solid"
         },
         "marker": {
          "symbol": "circle"
         },
         "mode": "lines",
         "name": "Asia",
         "orientation": "v",
         "showlegend": true,
         "type": "scatter",
         "x": [
          "1987",
          "1988",
          "1989",
          "1990",
          "1991",
          "1992",
          "1993",
          "1994",
          "1995",
          "1996",
          "1997",
          "1998",
          "1999",
          "2000",
          "2001",
          "2002",
          "2003",
          "2004",
          "2005",
          "2006",
          "2007",
          "2008",
          "2009",
          "2010",
          "2011",
          "2012",
          "2013",
          "2014",
          "2015",
          "2016",
          "2017",
          "2018",
          "2019",
          "2020",
          "2021",
          "2022"
         ],
         "xaxis": "x",
         "y": [
          4.021029711858742,
          4.215197617843209,
          4.110808055766482,
          3.911933018739068,
          3.809016102666697,
          5.157901242626007,
          5.368667008186076,
          4.575572035201973,
          3.940958201928854,
          3.9358241798476694,
          3.9310343492413633,
          3.793563038356527,
          3.319219077702107,
          3.04229488795668,
          3.2437108051493233,
          3.4945629730320587,
          3.254597589404467,
          3.072503625361096,
          3.478866770470199,
          4.371905607711973,
          4.6860424911017,
          4.713258569680743,
          4.226362104692317,
          3.091747416303784,
          2.4715305476150697,
          2.48168875955284,
          2.287929042478633,
          2.252753820554904,
          2.17186805078573,
          2.1673050579327255,
          2.1108988814460057,
          2.1211477576530373,
          2.1511375758932023,
          1.8504490064881576,
          1.3300918373746176,
          2.174316419167246
         ],
         "yaxis": "y"
        },
        {
         "hovertemplate": "Continente=Europa<br>Año=%{x}<br>Crecimiento de la población urbana (% anual)=%{y}<extra></extra>",
         "legendgroup": "Europa",
         "line": {
          "color": "#FFA15A",
          "dash": "solid"
         },
         "marker": {
          "symbol": "circle"
         },
         "mode": "lines",
         "name": "Europa",
         "orientation": "v",
         "showlegend": true,
         "type": "scatter",
         "x": [
          "1987",
          "1988",
          "1989",
          "1990",
          "1991",
          "1992",
          "1993",
          "1994",
          "1995",
          "1996",
          "1997",
          "1998",
          "1999",
          "2000",
          "2001",
          "2002",
          "2003",
          "2004",
          "2005",
          "2006",
          "2007",
          "2008",
          "2009",
          "2010",
          "2011",
          "2012",
          "2013",
          "2014",
          "2015",
          "2016",
          "2017",
          "2018",
          "2019",
          "2020",
          "2021",
          "2022"
         ],
         "xaxis": "x",
         "y": [
          0.5991598053314628,
          0.6209828785614323,
          0.6375477044130881,
          0.7064196224749568,
          0.8378758951561287,
          0.8179824407032315,
          0.7260112471556209,
          0.6278095362469182,
          0.5723213629054934,
          0.5146039525266859,
          0.4873237832632631,
          0.5073978201825265,
          0.5110520781355086,
          0.5108783678344854,
          0.5994332115798858,
          0.7516907520981652,
          0.7538540307837981,
          0.7511434986210965,
          0.7605606116178564,
          0.739604558127012,
          0.7967251708075402,
          0.8600700916379064,
          0.791747164119963,
          0.7342112302224002,
          0.5790599452909404,
          0.7321428333526079,
          0.6779794369136346,
          0.6935590499791896,
          0.7845657604863949,
          0.8032608070810494,
          0.7149993311243719,
          0.6381765747847699,
          0.6495264322787346,
          0.5531873451611863,
          0.4444903109487109,
          0.7609331181539478
         ],
         "yaxis": "y"
        },
        {
         "hovertemplate": "Continente=Oceanía<br>Año=%{x}<br>Crecimiento de la población urbana (% anual)=%{y}<extra></extra>",
         "legendgroup": "Oceanía",
         "line": {
          "color": "#19d3f3",
          "dash": "solid"
         },
         "marker": {
          "symbol": "circle"
         },
         "mode": "lines",
         "name": "Oceanía",
         "orientation": "v",
         "showlegend": true,
         "type": "scatter",
         "x": [
          "1987",
          "1988",
          "1989",
          "1990",
          "1991",
          "1992",
          "1993",
          "1994",
          "1995",
          "1996",
          "1997",
          "1998",
          "1999",
          "2000",
          "2001",
          "2002",
          "2003",
          "2004",
          "2005",
          "2006",
          "2007",
          "2008",
          "2009",
          "2010",
          "2011",
          "2012",
          "2013",
          "2014",
          "2015",
          "2016",
          "2017",
          "2018",
          "2019",
          "2020",
          "2021",
          "2022"
         ],
         "xaxis": "x",
         "y": [
          1.5442690719953376,
          1.435955383301148,
          1.4103064656850826,
          1.4192176555341625,
          2.2584229844384365,
          1.298568699392406,
          1.368154134714926,
          1.4268497700580638,
          1.491915029241782,
          1.6286858734479193,
          1.4369786656576236,
          1.3140877633104038,
          1.240052910736825,
          1.245134997304977,
          1.2278051511290446,
          1.2311297962759993,
          1.1118479511927606,
          0.9397926978337503,
          0.8660810626327742,
          0.9411772114562083,
          0.9834682765889996,
          1.0390382316166995,
          1.067864843176612,
          0.9538926441650104,
          0.825068488319813,
          0.8676583157201134,
          0.8946027066053592,
          1.0485300033105227,
          1.1089950568649845,
          1.192988870248708,
          1.1749406146811903,
          1.0644844574598982,
          1.035458981151301,
          1.3113768244881918,
          0.7602698172732203,
          0.989226315554356
         ],
         "yaxis": "y"
        },
        {
         "hovertemplate": "Continente=África<br>Año=%{x}<br>Crecimiento de la población urbana (% anual)=%{y}<extra></extra>",
         "legendgroup": "África",
         "line": {
          "color": "#FF6692",
          "dash": "solid"
         },
         "marker": {
          "symbol": "circle"
         },
         "mode": "lines",
         "name": "África",
         "orientation": "v",
         "showlegend": true,
         "type": "scatter",
         "x": [
          "1987",
          "1988",
          "1989",
          "1990",
          "1991",
          "1992",
          "1993",
          "1994",
          "1995",
          "1996",
          "1997",
          "1998",
          "1999",
          "2000",
          "2001",
          "2002",
          "2003",
          "2004",
          "2005",
          "2006",
          "2007",
          "2008",
          "2009",
          "2010",
          "2011",
          "2012",
          "2013",
          "2014",
          "2015",
          "2016",
          "2017",
          "2018",
          "2019",
          "2020",
          "2021",
          "2022"
         ],
         "xaxis": "x",
         "y": [
          4.162989973450039,
          4.01865938509575,
          3.799396878908876,
          3.8865428437507843,
          3.5820187873072222,
          4.457165667785002,
          4.6009762071387055,
          2.609542587808334,
          2.604487573957397,
          5.9131172683119875,
          5.12543354496154,
          3.870712368223226,
          3.627343502679846,
          3.798050847208222,
          4.124275630394317,
          4.116395387564861,
          3.5411930224351864,
          3.481128257913803,
          3.4234429109299747,
          3.3549165278833954,
          3.2659965952928887,
          3.24682806985228,
          3.2749236833743813,
          3.2705038047510797,
          3.287286907180205,
          3.281236803307201,
          3.2702789666083136,
          3.2877787047980433,
          3.2899212658883066,
          3.1871587234126,
          3.1474982818279527,
          3.204736938131056,
          3.184150267611729,
          3.170998052369752,
          3.1387847642603868,
          3.1055602204566584
         ],
         "yaxis": "y"
        }
       ],
       "layout": {
        "legend": {
         "title": {
          "text": "Continente"
         },
         "tracegroupgap": 0
        },
        "margin": {
         "t": 60
        },
        "template": {
         "data": {
          "bar": [
           {
            "error_x": {
             "color": "#2a3f5f"
            },
            "error_y": {
             "color": "#2a3f5f"
            },
            "marker": {
             "line": {
              "color": "#E5ECF6",
              "width": 0.5
             },
             "pattern": {
              "fillmode": "overlay",
              "size": 10,
              "solidity": 0.2
             }
            },
            "type": "bar"
           }
          ],
          "barpolar": [
           {
            "marker": {
             "line": {
              "color": "#E5ECF6",
              "width": 0.5
             },
             "pattern": {
              "fillmode": "overlay",
              "size": 10,
              "solidity": 0.2
             }
            },
            "type": "barpolar"
           }
          ],
          "carpet": [
           {
            "aaxis": {
             "endlinecolor": "#2a3f5f",
             "gridcolor": "white",
             "linecolor": "white",
             "minorgridcolor": "white",
             "startlinecolor": "#2a3f5f"
            },
            "baxis": {
             "endlinecolor": "#2a3f5f",
             "gridcolor": "white",
             "linecolor": "white",
             "minorgridcolor": "white",
             "startlinecolor": "#2a3f5f"
            },
            "type": "carpet"
           }
          ],
          "choropleth": [
           {
            "colorbar": {
             "outlinewidth": 0,
             "ticks": ""
            },
            "type": "choropleth"
           }
          ],
          "contour": [
           {
            "colorbar": {
             "outlinewidth": 0,
             "ticks": ""
            },
            "colorscale": [
             [
              0,
              "#0d0887"
             ],
             [
              0.1111111111111111,
              "#46039f"
             ],
             [
              0.2222222222222222,
              "#7201a8"
             ],
             [
              0.3333333333333333,
              "#9c179e"
             ],
             [
              0.4444444444444444,
              "#bd3786"
             ],
             [
              0.5555555555555556,
              "#d8576b"
             ],
             [
              0.6666666666666666,
              "#ed7953"
             ],
             [
              0.7777777777777778,
              "#fb9f3a"
             ],
             [
              0.8888888888888888,
              "#fdca26"
             ],
             [
              1,
              "#f0f921"
             ]
            ],
            "type": "contour"
           }
          ],
          "contourcarpet": [
           {
            "colorbar": {
             "outlinewidth": 0,
             "ticks": ""
            },
            "type": "contourcarpet"
           }
          ],
          "heatmap": [
           {
            "colorbar": {
             "outlinewidth": 0,
             "ticks": ""
            },
            "colorscale": [
             [
              0,
              "#0d0887"
             ],
             [
              0.1111111111111111,
              "#46039f"
             ],
             [
              0.2222222222222222,
              "#7201a8"
             ],
             [
              0.3333333333333333,
              "#9c179e"
             ],
             [
              0.4444444444444444,
              "#bd3786"
             ],
             [
              0.5555555555555556,
              "#d8576b"
             ],
             [
              0.6666666666666666,
              "#ed7953"
             ],
             [
              0.7777777777777778,
              "#fb9f3a"
             ],
             [
              0.8888888888888888,
              "#fdca26"
             ],
             [
              1,
              "#f0f921"
             ]
            ],
            "type": "heatmap"
           }
          ],
          "heatmapgl": [
           {
            "colorbar": {
             "outlinewidth": 0,
             "ticks": ""
            },
            "colorscale": [
             [
              0,
              "#0d0887"
             ],
             [
              0.1111111111111111,
              "#46039f"
             ],
             [
              0.2222222222222222,
              "#7201a8"
             ],
             [
              0.3333333333333333,
              "#9c179e"
             ],
             [
              0.4444444444444444,
              "#bd3786"
             ],
             [
              0.5555555555555556,
              "#d8576b"
             ],
             [
              0.6666666666666666,
              "#ed7953"
             ],
             [
              0.7777777777777778,
              "#fb9f3a"
             ],
             [
              0.8888888888888888,
              "#fdca26"
             ],
             [
              1,
              "#f0f921"
             ]
            ],
            "type": "heatmapgl"
           }
          ],
          "histogram": [
           {
            "marker": {
             "pattern": {
              "fillmode": "overlay",
              "size": 10,
              "solidity": 0.2
             }
            },
            "type": "histogram"
           }
          ],
          "histogram2d": [
           {
            "colorbar": {
             "outlinewidth": 0,
             "ticks": ""
            },
            "colorscale": [
             [
              0,
              "#0d0887"
             ],
             [
              0.1111111111111111,
              "#46039f"
             ],
             [
              0.2222222222222222,
              "#7201a8"
             ],
             [
              0.3333333333333333,
              "#9c179e"
             ],
             [
              0.4444444444444444,
              "#bd3786"
             ],
             [
              0.5555555555555556,
              "#d8576b"
             ],
             [
              0.6666666666666666,
              "#ed7953"
             ],
             [
              0.7777777777777778,
              "#fb9f3a"
             ],
             [
              0.8888888888888888,
              "#fdca26"
             ],
             [
              1,
              "#f0f921"
             ]
            ],
            "type": "histogram2d"
           }
          ],
          "histogram2dcontour": [
           {
            "colorbar": {
             "outlinewidth": 0,
             "ticks": ""
            },
            "colorscale": [
             [
              0,
              "#0d0887"
             ],
             [
              0.1111111111111111,
              "#46039f"
             ],
             [
              0.2222222222222222,
              "#7201a8"
             ],
             [
              0.3333333333333333,
              "#9c179e"
             ],
             [
              0.4444444444444444,
              "#bd3786"
             ],
             [
              0.5555555555555556,
              "#d8576b"
             ],
             [
              0.6666666666666666,
              "#ed7953"
             ],
             [
              0.7777777777777778,
              "#fb9f3a"
             ],
             [
              0.8888888888888888,
              "#fdca26"
             ],
             [
              1,
              "#f0f921"
             ]
            ],
            "type": "histogram2dcontour"
           }
          ],
          "mesh3d": [
           {
            "colorbar": {
             "outlinewidth": 0,
             "ticks": ""
            },
            "type": "mesh3d"
           }
          ],
          "parcoords": [
           {
            "line": {
             "colorbar": {
              "outlinewidth": 0,
              "ticks": ""
             }
            },
            "type": "parcoords"
           }
          ],
          "pie": [
           {
            "automargin": true,
            "type": "pie"
           }
          ],
          "scatter": [
           {
            "fillpattern": {
             "fillmode": "overlay",
             "size": 10,
             "solidity": 0.2
            },
            "type": "scatter"
           }
          ],
          "scatter3d": [
           {
            "line": {
             "colorbar": {
              "outlinewidth": 0,
              "ticks": ""
             }
            },
            "marker": {
             "colorbar": {
              "outlinewidth": 0,
              "ticks": ""
             }
            },
            "type": "scatter3d"
           }
          ],
          "scattercarpet": [
           {
            "marker": {
             "colorbar": {
              "outlinewidth": 0,
              "ticks": ""
             }
            },
            "type": "scattercarpet"
           }
          ],
          "scattergeo": [
           {
            "marker": {
             "colorbar": {
              "outlinewidth": 0,
              "ticks": ""
             }
            },
            "type": "scattergeo"
           }
          ],
          "scattergl": [
           {
            "marker": {
             "colorbar": {
              "outlinewidth": 0,
              "ticks": ""
             }
            },
            "type": "scattergl"
           }
          ],
          "scattermapbox": [
           {
            "marker": {
             "colorbar": {
              "outlinewidth": 0,
              "ticks": ""
             }
            },
            "type": "scattermapbox"
           }
          ],
          "scatterpolar": [
           {
            "marker": {
             "colorbar": {
              "outlinewidth": 0,
              "ticks": ""
             }
            },
            "type": "scatterpolar"
           }
          ],
          "scatterpolargl": [
           {
            "marker": {
             "colorbar": {
              "outlinewidth": 0,
              "ticks": ""
             }
            },
            "type": "scatterpolargl"
           }
          ],
          "scatterternary": [
           {
            "marker": {
             "colorbar": {
              "outlinewidth": 0,
              "ticks": ""
             }
            },
            "type": "scatterternary"
           }
          ],
          "surface": [
           {
            "colorbar": {
             "outlinewidth": 0,
             "ticks": ""
            },
            "colorscale": [
             [
              0,
              "#0d0887"
             ],
             [
              0.1111111111111111,
              "#46039f"
             ],
             [
              0.2222222222222222,
              "#7201a8"
             ],
             [
              0.3333333333333333,
              "#9c179e"
             ],
             [
              0.4444444444444444,
              "#bd3786"
             ],
             [
              0.5555555555555556,
              "#d8576b"
             ],
             [
              0.6666666666666666,
              "#ed7953"
             ],
             [
              0.7777777777777778,
              "#fb9f3a"
             ],
             [
              0.8888888888888888,
              "#fdca26"
             ],
             [
              1,
              "#f0f921"
             ]
            ],
            "type": "surface"
           }
          ],
          "table": [
           {
            "cells": {
             "fill": {
              "color": "#EBF0F8"
             },
             "line": {
              "color": "white"
             }
            },
            "header": {
             "fill": {
              "color": "#C8D4E3"
             },
             "line": {
              "color": "white"
             }
            },
            "type": "table"
           }
          ]
         },
         "layout": {
          "annotationdefaults": {
           "arrowcolor": "#2a3f5f",
           "arrowhead": 0,
           "arrowwidth": 1
          },
          "autotypenumbers": "strict",
          "coloraxis": {
           "colorbar": {
            "outlinewidth": 0,
            "ticks": ""
           }
          },
          "colorscale": {
           "diverging": [
            [
             0,
             "#8e0152"
            ],
            [
             0.1,
             "#c51b7d"
            ],
            [
             0.2,
             "#de77ae"
            ],
            [
             0.3,
             "#f1b6da"
            ],
            [
             0.4,
             "#fde0ef"
            ],
            [
             0.5,
             "#f7f7f7"
            ],
            [
             0.6,
             "#e6f5d0"
            ],
            [
             0.7,
             "#b8e186"
            ],
            [
             0.8,
             "#7fbc41"
            ],
            [
             0.9,
             "#4d9221"
            ],
            [
             1,
             "#276419"
            ]
           ],
           "sequential": [
            [
             0,
             "#0d0887"
            ],
            [
             0.1111111111111111,
             "#46039f"
            ],
            [
             0.2222222222222222,
             "#7201a8"
            ],
            [
             0.3333333333333333,
             "#9c179e"
            ],
            [
             0.4444444444444444,
             "#bd3786"
            ],
            [
             0.5555555555555556,
             "#d8576b"
            ],
            [
             0.6666666666666666,
             "#ed7953"
            ],
            [
             0.7777777777777778,
             "#fb9f3a"
            ],
            [
             0.8888888888888888,
             "#fdca26"
            ],
            [
             1,
             "#f0f921"
            ]
           ],
           "sequentialminus": [
            [
             0,
             "#0d0887"
            ],
            [
             0.1111111111111111,
             "#46039f"
            ],
            [
             0.2222222222222222,
             "#7201a8"
            ],
            [
             0.3333333333333333,
             "#9c179e"
            ],
            [
             0.4444444444444444,
             "#bd3786"
            ],
            [
             0.5555555555555556,
             "#d8576b"
            ],
            [
             0.6666666666666666,
             "#ed7953"
            ],
            [
             0.7777777777777778,
             "#fb9f3a"
            ],
            [
             0.8888888888888888,
             "#fdca26"
            ],
            [
             1,
             "#f0f921"
            ]
           ]
          },
          "colorway": [
           "#636efa",
           "#EF553B",
           "#00cc96",
           "#ab63fa",
           "#FFA15A",
           "#19d3f3",
           "#FF6692",
           "#B6E880",
           "#FF97FF",
           "#FECB52"
          ],
          "font": {
           "color": "#2a3f5f"
          },
          "geo": {
           "bgcolor": "white",
           "lakecolor": "white",
           "landcolor": "#E5ECF6",
           "showlakes": true,
           "showland": true,
           "subunitcolor": "white"
          },
          "hoverlabel": {
           "align": "left"
          },
          "hovermode": "closest",
          "mapbox": {
           "style": "light"
          },
          "paper_bgcolor": "white",
          "plot_bgcolor": "#E5ECF6",
          "polar": {
           "angularaxis": {
            "gridcolor": "white",
            "linecolor": "white",
            "ticks": ""
           },
           "bgcolor": "#E5ECF6",
           "radialaxis": {
            "gridcolor": "white",
            "linecolor": "white",
            "ticks": ""
           }
          },
          "scene": {
           "xaxis": {
            "backgroundcolor": "#E5ECF6",
            "gridcolor": "white",
            "gridwidth": 2,
            "linecolor": "white",
            "showbackground": true,
            "ticks": "",
            "zerolinecolor": "white"
           },
           "yaxis": {
            "backgroundcolor": "#E5ECF6",
            "gridcolor": "white",
            "gridwidth": 2,
            "linecolor": "white",
            "showbackground": true,
            "ticks": "",
            "zerolinecolor": "white"
           },
           "zaxis": {
            "backgroundcolor": "#E5ECF6",
            "gridcolor": "white",
            "gridwidth": 2,
            "linecolor": "white",
            "showbackground": true,
            "ticks": "",
            "zerolinecolor": "white"
           }
          },
          "shapedefaults": {
           "line": {
            "color": "#2a3f5f"
           }
          },
          "ternary": {
           "aaxis": {
            "gridcolor": "white",
            "linecolor": "white",
            "ticks": ""
           },
           "baxis": {
            "gridcolor": "white",
            "linecolor": "white",
            "ticks": ""
           },
           "bgcolor": "#E5ECF6",
           "caxis": {
            "gridcolor": "white",
            "linecolor": "white",
            "ticks": ""
           }
          },
          "title": {
           "x": 0.05
          },
          "xaxis": {
           "automargin": true,
           "gridcolor": "white",
           "linecolor": "white",
           "ticks": "",
           "title": {
            "standoff": 15
           },
           "zerolinecolor": "white",
           "zerolinewidth": 2
          },
          "yaxis": {
           "automargin": true,
           "gridcolor": "white",
           "linecolor": "white",
           "ticks": "",
           "title": {
            "standoff": 15
           },
           "zerolinecolor": "white",
           "zerolinewidth": 2
          }
         }
        },
        "xaxis": {
         "anchor": "y",
         "domain": [
          0,
          1
         ],
         "title": {
          "text": "Año"
         }
        },
        "yaxis": {
         "anchor": "x",
         "domain": [
          0,
          1
         ],
         "title": {
          "text": "Crecimiento de la población urbana (% anual)"
         }
        }
       }
      }
     },
     "metadata": {},
     "output_type": "display_data"
    }
   ],
   "source": [
    "for i in df_contientes.columns[2:5]:\n",
    "    graficar_indicador(i)"
   ]
  },
  {
   "cell_type": "code",
   "execution_count": 31,
   "metadata": {},
   "outputs": [
    {
     "data": {
      "text/html": [
       "<div>\n",
       "<style scoped>\n",
       "    .dataframe tbody tr th:only-of-type {\n",
       "        vertical-align: middle;\n",
       "    }\n",
       "\n",
       "    .dataframe tbody tr th {\n",
       "        vertical-align: top;\n",
       "    }\n",
       "\n",
       "    .dataframe thead th {\n",
       "        text-align: right;\n",
       "    }\n",
       "</style>\n",
       "<table border=\"1\" class=\"dataframe\">\n",
       "  <thead>\n",
       "    <tr style=\"text-align: right;\">\n",
       "      <th>serie Name</th>\n",
       "      <th>país Name</th>\n",
       "      <th>Año</th>\n",
       "      <th>Crecimiento de la población (% anual)</th>\n",
       "      <th>Crecimiento de la población rural (% anual)</th>\n",
       "      <th>Crecimiento de la población urbana (% anual)</th>\n",
       "      <th>Continente</th>\n",
       "    </tr>\n",
       "  </thead>\n",
       "  <tbody>\n",
       "    <tr>\n",
       "      <th>31</th>\n",
       "      <td>Afganistán</td>\n",
       "      <td>2018</td>\n",
       "      <td>2.885208</td>\n",
       "      <td>2.556909</td>\n",
       "      <td>3.850833</td>\n",
       "      <td>Asia</td>\n",
       "    </tr>\n",
       "    <tr>\n",
       "      <th>32</th>\n",
       "      <td>Afganistán</td>\n",
       "      <td>2019</td>\n",
       "      <td>2.908529</td>\n",
       "      <td>2.560297</td>\n",
       "      <td>3.919287</td>\n",
       "      <td>Asia</td>\n",
       "    </tr>\n",
       "    <tr>\n",
       "      <th>33</th>\n",
       "      <td>Afganistán</td>\n",
       "      <td>2020</td>\n",
       "      <td>3.134747</td>\n",
       "      <td>2.767724</td>\n",
       "      <td>4.185357</td>\n",
       "      <td>Asia</td>\n",
       "    </tr>\n",
       "    <tr>\n",
       "      <th>34</th>\n",
       "      <td>Afganistán</td>\n",
       "      <td>2021</td>\n",
       "      <td>2.851358</td>\n",
       "      <td>2.461275</td>\n",
       "      <td>3.951857</td>\n",
       "      <td>Asia</td>\n",
       "    </tr>\n",
       "    <tr>\n",
       "      <th>35</th>\n",
       "      <td>Afganistán</td>\n",
       "      <td>2022</td>\n",
       "      <td>2.534498</td>\n",
       "      <td>2.123806</td>\n",
       "      <td>3.675647</td>\n",
       "      <td>Asia</td>\n",
       "    </tr>\n",
       "    <tr>\n",
       "      <th>...</th>\n",
       "      <td>...</td>\n",
       "      <td>...</td>\n",
       "      <td>...</td>\n",
       "      <td>...</td>\n",
       "      <td>...</td>\n",
       "      <td>...</td>\n",
       "    </tr>\n",
       "    <tr>\n",
       "      <th>1579</th>\n",
       "      <td>Venezuela</td>\n",
       "      <td>2018</td>\n",
       "      <td>-2.443543</td>\n",
       "      <td>-2.655330</td>\n",
       "      <td>-2.415197</td>\n",
       "      <td>América del Sur</td>\n",
       "    </tr>\n",
       "    <tr>\n",
       "      <th>1580</th>\n",
       "      <td>Venezuela</td>\n",
       "      <td>2019</td>\n",
       "      <td>-2.904996</td>\n",
       "      <td>-3.176733</td>\n",
       "      <td>-2.868725</td>\n",
       "      <td>América del Sur</td>\n",
       "    </tr>\n",
       "    <tr>\n",
       "      <th>1581</th>\n",
       "      <td>Venezuela</td>\n",
       "      <td>2020</td>\n",
       "      <td>-1.674986</td>\n",
       "      <td>-2.007172</td>\n",
       "      <td>-1.630797</td>\n",
       "      <td>América del Sur</td>\n",
       "    </tr>\n",
       "    <tr>\n",
       "      <th>1582</th>\n",
       "      <td>Venezuela</td>\n",
       "      <td>2021</td>\n",
       "      <td>-1.025179</td>\n",
       "      <td>-1.418423</td>\n",
       "      <td>-0.973083</td>\n",
       "      <td>América del Sur</td>\n",
       "    </tr>\n",
       "    <tr>\n",
       "      <th>1583</th>\n",
       "      <td>Venezuela</td>\n",
       "      <td>2022</td>\n",
       "      <td>0.360447</td>\n",
       "      <td>-0.094537</td>\n",
       "      <td>0.420433</td>\n",
       "      <td>América del Sur</td>\n",
       "    </tr>\n",
       "  </tbody>\n",
       "</table>\n",
       "<p>220 rows × 6 columns</p>\n",
       "</div>"
      ],
      "text/plain": [
       "serie Name   país Name   Año  Crecimiento de la población (% anual)   \n",
       "31          Afganistán  2018                               2.885208  \\\n",
       "32          Afganistán  2019                               2.908529   \n",
       "33          Afganistán  2020                               3.134747   \n",
       "34          Afganistán  2021                               2.851358   \n",
       "35          Afganistán  2022                               2.534498   \n",
       "...                ...   ...                                    ...   \n",
       "1579         Venezuela  2018                              -2.443543   \n",
       "1580         Venezuela  2019                              -2.904996   \n",
       "1581         Venezuela  2020                              -1.674986   \n",
       "1582         Venezuela  2021                              -1.025179   \n",
       "1583         Venezuela  2022                               0.360447   \n",
       "\n",
       "serie Name  Crecimiento de la población rural (% anual)   \n",
       "31                                             2.556909  \\\n",
       "32                                             2.560297   \n",
       "33                                             2.767724   \n",
       "34                                             2.461275   \n",
       "35                                             2.123806   \n",
       "...                                                 ...   \n",
       "1579                                          -2.655330   \n",
       "1580                                          -3.176733   \n",
       "1581                                          -2.007172   \n",
       "1582                                          -1.418423   \n",
       "1583                                          -0.094537   \n",
       "\n",
       "serie Name  Crecimiento de la población urbana (% anual)       Continente  \n",
       "31                                              3.850833             Asia  \n",
       "32                                              3.919287             Asia  \n",
       "33                                              4.185357             Asia  \n",
       "34                                              3.951857             Asia  \n",
       "35                                              3.675647             Asia  \n",
       "...                                                  ...              ...  \n",
       "1579                                           -2.415197  América del Sur  \n",
       "1580                                           -2.868725  América del Sur  \n",
       "1581                                           -1.630797  América del Sur  \n",
       "1582                                           -0.973083  América del Sur  \n",
       "1583                                            0.420433  América del Sur  \n",
       "\n",
       "[220 rows x 6 columns]"
      ]
     },
     "execution_count": 31,
     "metadata": {},
     "output_type": "execute_result"
    }
   ],
   "source": [
    "df_pivote_años = df_pivoted[df_pivoted[\"Año\"].isin([\"2022\",\"2021\",\"2020\",\"2019\", \"2018\"])]\n",
    "df_pivote_años"
   ]
  },
  {
   "cell_type": "code",
   "execution_count": 32,
   "metadata": {},
   "outputs": [
    {
     "data": {
      "text/html": [
       "<div>\n",
       "<style scoped>\n",
       "    .dataframe tbody tr th:only-of-type {\n",
       "        vertical-align: middle;\n",
       "    }\n",
       "\n",
       "    .dataframe tbody tr th {\n",
       "        vertical-align: top;\n",
       "    }\n",
       "\n",
       "    .dataframe thead th {\n",
       "        text-align: right;\n",
       "    }\n",
       "</style>\n",
       "<table border=\"1\" class=\"dataframe\">\n",
       "  <thead>\n",
       "    <tr style=\"text-align: right;\">\n",
       "      <th>serie Name</th>\n",
       "      <th>Crecimiento de la población (% anual)</th>\n",
       "    </tr>\n",
       "    <tr>\n",
       "      <th>país Name</th>\n",
       "      <th></th>\n",
       "    </tr>\n",
       "  </thead>\n",
       "  <tbody>\n",
       "    <tr>\n",
       "      <th>Níger</th>\n",
       "      <td>3.740111</td>\n",
       "    </tr>\n",
       "    <tr>\n",
       "      <th>Chad</th>\n",
       "      <td>3.222431</td>\n",
       "    </tr>\n",
       "    <tr>\n",
       "      <th>Afganistán</th>\n",
       "      <td>2.862868</td>\n",
       "    </tr>\n",
       "    <tr>\n",
       "      <th>Burkina Faso</th>\n",
       "      <td>2.674342</td>\n",
       "    </tr>\n",
       "    <tr>\n",
       "      <th>Rwanda</th>\n",
       "      <td>2.381179</td>\n",
       "    </tr>\n",
       "    <tr>\n",
       "      <th>Sierra Leona</th>\n",
       "      <td>2.282489</td>\n",
       "    </tr>\n",
       "    <tr>\n",
       "      <th>Kenya</th>\n",
       "      <td>1.974633</td>\n",
       "    </tr>\n",
       "    <tr>\n",
       "      <th>Argelia</th>\n",
       "      <td>1.752254</td>\n",
       "    </tr>\n",
       "    <tr>\n",
       "      <th>Egipto</th>\n",
       "      <td>1.730704</td>\n",
       "    </tr>\n",
       "    <tr>\n",
       "      <th>Nepal</th>\n",
       "      <td>1.611028</td>\n",
       "    </tr>\n",
       "  </tbody>\n",
       "</table>\n",
       "</div>"
      ],
      "text/plain": [
       "serie Name    Crecimiento de la población (% anual)\n",
       "país Name                                          \n",
       "Níger                                      3.740111\n",
       "Chad                                       3.222431\n",
       "Afganistán                                 2.862868\n",
       "Burkina Faso                               2.674342\n",
       "Rwanda                                     2.381179\n",
       "Sierra Leona                               2.282489\n",
       "Kenya                                      1.974633\n",
       "Argelia                                    1.752254\n",
       "Egipto                                     1.730704\n",
       "Nepal                                      1.611028"
      ]
     },
     "execution_count": 32,
     "metadata": {},
     "output_type": "execute_result"
    }
   ],
   "source": [
    "top_paises = df_pivote_años[[\"país Name\", \"Crecimiento de la población (% anual)\"]].groupby(\"país Name\").mean().sort_values(\"Crecimiento de la población (% anual)\", ascending=False).head(10)\n",
    "top_paises"
   ]
  },
  {
   "cell_type": "code",
   "execution_count": 33,
   "metadata": {},
   "outputs": [
    {
     "data": {
      "application/vnd.plotly.v1+json": {
       "config": {
        "plotlyServerURL": "https://plot.ly"
       },
       "data": [
        {
         "alignmentgroup": "True",
         "hovertemplate": "país Name=%{x}<br>Crecimiento de la población (% anual)=%{y}<extra></extra>",
         "legendgroup": "",
         "marker": {
          "color": "#636efa",
          "pattern": {
           "shape": ""
          }
         },
         "name": "",
         "offsetgroup": "",
         "orientation": "v",
         "showlegend": false,
         "textposition": "auto",
         "type": "bar",
         "x": [
          "Níger",
          "Chad",
          "Afganistán",
          "Burkina Faso",
          "Rwanda",
          "Sierra Leona",
          "Kenya",
          "Argelia",
          "Egipto",
          "Nepal"
         ],
         "xaxis": "x",
         "y": [
          3.7401107425534903,
          3.222430645522612,
          2.862867988938838,
          2.674341740727286,
          2.381178923810774,
          2.282488528970262,
          1.9746325313738222,
          1.7522538993698682,
          1.730703995113118,
          1.611027868220318
         ],
         "yaxis": "y"
        }
       ],
       "layout": {
        "barmode": "relative",
        "legend": {
         "tracegroupgap": 0
        },
        "template": {
         "data": {
          "bar": [
           {
            "error_x": {
             "color": "#2a3f5f"
            },
            "error_y": {
             "color": "#2a3f5f"
            },
            "marker": {
             "line": {
              "color": "#E5ECF6",
              "width": 0.5
             },
             "pattern": {
              "fillmode": "overlay",
              "size": 10,
              "solidity": 0.2
             }
            },
            "type": "bar"
           }
          ],
          "barpolar": [
           {
            "marker": {
             "line": {
              "color": "#E5ECF6",
              "width": 0.5
             },
             "pattern": {
              "fillmode": "overlay",
              "size": 10,
              "solidity": 0.2
             }
            },
            "type": "barpolar"
           }
          ],
          "carpet": [
           {
            "aaxis": {
             "endlinecolor": "#2a3f5f",
             "gridcolor": "white",
             "linecolor": "white",
             "minorgridcolor": "white",
             "startlinecolor": "#2a3f5f"
            },
            "baxis": {
             "endlinecolor": "#2a3f5f",
             "gridcolor": "white",
             "linecolor": "white",
             "minorgridcolor": "white",
             "startlinecolor": "#2a3f5f"
            },
            "type": "carpet"
           }
          ],
          "choropleth": [
           {
            "colorbar": {
             "outlinewidth": 0,
             "ticks": ""
            },
            "type": "choropleth"
           }
          ],
          "contour": [
           {
            "colorbar": {
             "outlinewidth": 0,
             "ticks": ""
            },
            "colorscale": [
             [
              0,
              "#0d0887"
             ],
             [
              0.1111111111111111,
              "#46039f"
             ],
             [
              0.2222222222222222,
              "#7201a8"
             ],
             [
              0.3333333333333333,
              "#9c179e"
             ],
             [
              0.4444444444444444,
              "#bd3786"
             ],
             [
              0.5555555555555556,
              "#d8576b"
             ],
             [
              0.6666666666666666,
              "#ed7953"
             ],
             [
              0.7777777777777778,
              "#fb9f3a"
             ],
             [
              0.8888888888888888,
              "#fdca26"
             ],
             [
              1,
              "#f0f921"
             ]
            ],
            "type": "contour"
           }
          ],
          "contourcarpet": [
           {
            "colorbar": {
             "outlinewidth": 0,
             "ticks": ""
            },
            "type": "contourcarpet"
           }
          ],
          "heatmap": [
           {
            "colorbar": {
             "outlinewidth": 0,
             "ticks": ""
            },
            "colorscale": [
             [
              0,
              "#0d0887"
             ],
             [
              0.1111111111111111,
              "#46039f"
             ],
             [
              0.2222222222222222,
              "#7201a8"
             ],
             [
              0.3333333333333333,
              "#9c179e"
             ],
             [
              0.4444444444444444,
              "#bd3786"
             ],
             [
              0.5555555555555556,
              "#d8576b"
             ],
             [
              0.6666666666666666,
              "#ed7953"
             ],
             [
              0.7777777777777778,
              "#fb9f3a"
             ],
             [
              0.8888888888888888,
              "#fdca26"
             ],
             [
              1,
              "#f0f921"
             ]
            ],
            "type": "heatmap"
           }
          ],
          "heatmapgl": [
           {
            "colorbar": {
             "outlinewidth": 0,
             "ticks": ""
            },
            "colorscale": [
             [
              0,
              "#0d0887"
             ],
             [
              0.1111111111111111,
              "#46039f"
             ],
             [
              0.2222222222222222,
              "#7201a8"
             ],
             [
              0.3333333333333333,
              "#9c179e"
             ],
             [
              0.4444444444444444,
              "#bd3786"
             ],
             [
              0.5555555555555556,
              "#d8576b"
             ],
             [
              0.6666666666666666,
              "#ed7953"
             ],
             [
              0.7777777777777778,
              "#fb9f3a"
             ],
             [
              0.8888888888888888,
              "#fdca26"
             ],
             [
              1,
              "#f0f921"
             ]
            ],
            "type": "heatmapgl"
           }
          ],
          "histogram": [
           {
            "marker": {
             "pattern": {
              "fillmode": "overlay",
              "size": 10,
              "solidity": 0.2
             }
            },
            "type": "histogram"
           }
          ],
          "histogram2d": [
           {
            "colorbar": {
             "outlinewidth": 0,
             "ticks": ""
            },
            "colorscale": [
             [
              0,
              "#0d0887"
             ],
             [
              0.1111111111111111,
              "#46039f"
             ],
             [
              0.2222222222222222,
              "#7201a8"
             ],
             [
              0.3333333333333333,
              "#9c179e"
             ],
             [
              0.4444444444444444,
              "#bd3786"
             ],
             [
              0.5555555555555556,
              "#d8576b"
             ],
             [
              0.6666666666666666,
              "#ed7953"
             ],
             [
              0.7777777777777778,
              "#fb9f3a"
             ],
             [
              0.8888888888888888,
              "#fdca26"
             ],
             [
              1,
              "#f0f921"
             ]
            ],
            "type": "histogram2d"
           }
          ],
          "histogram2dcontour": [
           {
            "colorbar": {
             "outlinewidth": 0,
             "ticks": ""
            },
            "colorscale": [
             [
              0,
              "#0d0887"
             ],
             [
              0.1111111111111111,
              "#46039f"
             ],
             [
              0.2222222222222222,
              "#7201a8"
             ],
             [
              0.3333333333333333,
              "#9c179e"
             ],
             [
              0.4444444444444444,
              "#bd3786"
             ],
             [
              0.5555555555555556,
              "#d8576b"
             ],
             [
              0.6666666666666666,
              "#ed7953"
             ],
             [
              0.7777777777777778,
              "#fb9f3a"
             ],
             [
              0.8888888888888888,
              "#fdca26"
             ],
             [
              1,
              "#f0f921"
             ]
            ],
            "type": "histogram2dcontour"
           }
          ],
          "mesh3d": [
           {
            "colorbar": {
             "outlinewidth": 0,
             "ticks": ""
            },
            "type": "mesh3d"
           }
          ],
          "parcoords": [
           {
            "line": {
             "colorbar": {
              "outlinewidth": 0,
              "ticks": ""
             }
            },
            "type": "parcoords"
           }
          ],
          "pie": [
           {
            "automargin": true,
            "type": "pie"
           }
          ],
          "scatter": [
           {
            "fillpattern": {
             "fillmode": "overlay",
             "size": 10,
             "solidity": 0.2
            },
            "type": "scatter"
           }
          ],
          "scatter3d": [
           {
            "line": {
             "colorbar": {
              "outlinewidth": 0,
              "ticks": ""
             }
            },
            "marker": {
             "colorbar": {
              "outlinewidth": 0,
              "ticks": ""
             }
            },
            "type": "scatter3d"
           }
          ],
          "scattercarpet": [
           {
            "marker": {
             "colorbar": {
              "outlinewidth": 0,
              "ticks": ""
             }
            },
            "type": "scattercarpet"
           }
          ],
          "scattergeo": [
           {
            "marker": {
             "colorbar": {
              "outlinewidth": 0,
              "ticks": ""
             }
            },
            "type": "scattergeo"
           }
          ],
          "scattergl": [
           {
            "marker": {
             "colorbar": {
              "outlinewidth": 0,
              "ticks": ""
             }
            },
            "type": "scattergl"
           }
          ],
          "scattermapbox": [
           {
            "marker": {
             "colorbar": {
              "outlinewidth": 0,
              "ticks": ""
             }
            },
            "type": "scattermapbox"
           }
          ],
          "scatterpolar": [
           {
            "marker": {
             "colorbar": {
              "outlinewidth": 0,
              "ticks": ""
             }
            },
            "type": "scatterpolar"
           }
          ],
          "scatterpolargl": [
           {
            "marker": {
             "colorbar": {
              "outlinewidth": 0,
              "ticks": ""
             }
            },
            "type": "scatterpolargl"
           }
          ],
          "scatterternary": [
           {
            "marker": {
             "colorbar": {
              "outlinewidth": 0,
              "ticks": ""
             }
            },
            "type": "scatterternary"
           }
          ],
          "surface": [
           {
            "colorbar": {
             "outlinewidth": 0,
             "ticks": ""
            },
            "colorscale": [
             [
              0,
              "#0d0887"
             ],
             [
              0.1111111111111111,
              "#46039f"
             ],
             [
              0.2222222222222222,
              "#7201a8"
             ],
             [
              0.3333333333333333,
              "#9c179e"
             ],
             [
              0.4444444444444444,
              "#bd3786"
             ],
             [
              0.5555555555555556,
              "#d8576b"
             ],
             [
              0.6666666666666666,
              "#ed7953"
             ],
             [
              0.7777777777777778,
              "#fb9f3a"
             ],
             [
              0.8888888888888888,
              "#fdca26"
             ],
             [
              1,
              "#f0f921"
             ]
            ],
            "type": "surface"
           }
          ],
          "table": [
           {
            "cells": {
             "fill": {
              "color": "#EBF0F8"
             },
             "line": {
              "color": "white"
             }
            },
            "header": {
             "fill": {
              "color": "#C8D4E3"
             },
             "line": {
              "color": "white"
             }
            },
            "type": "table"
           }
          ]
         },
         "layout": {
          "annotationdefaults": {
           "arrowcolor": "#2a3f5f",
           "arrowhead": 0,
           "arrowwidth": 1
          },
          "autotypenumbers": "strict",
          "coloraxis": {
           "colorbar": {
            "outlinewidth": 0,
            "ticks": ""
           }
          },
          "colorscale": {
           "diverging": [
            [
             0,
             "#8e0152"
            ],
            [
             0.1,
             "#c51b7d"
            ],
            [
             0.2,
             "#de77ae"
            ],
            [
             0.3,
             "#f1b6da"
            ],
            [
             0.4,
             "#fde0ef"
            ],
            [
             0.5,
             "#f7f7f7"
            ],
            [
             0.6,
             "#e6f5d0"
            ],
            [
             0.7,
             "#b8e186"
            ],
            [
             0.8,
             "#7fbc41"
            ],
            [
             0.9,
             "#4d9221"
            ],
            [
             1,
             "#276419"
            ]
           ],
           "sequential": [
            [
             0,
             "#0d0887"
            ],
            [
             0.1111111111111111,
             "#46039f"
            ],
            [
             0.2222222222222222,
             "#7201a8"
            ],
            [
             0.3333333333333333,
             "#9c179e"
            ],
            [
             0.4444444444444444,
             "#bd3786"
            ],
            [
             0.5555555555555556,
             "#d8576b"
            ],
            [
             0.6666666666666666,
             "#ed7953"
            ],
            [
             0.7777777777777778,
             "#fb9f3a"
            ],
            [
             0.8888888888888888,
             "#fdca26"
            ],
            [
             1,
             "#f0f921"
            ]
           ],
           "sequentialminus": [
            [
             0,
             "#0d0887"
            ],
            [
             0.1111111111111111,
             "#46039f"
            ],
            [
             0.2222222222222222,
             "#7201a8"
            ],
            [
             0.3333333333333333,
             "#9c179e"
            ],
            [
             0.4444444444444444,
             "#bd3786"
            ],
            [
             0.5555555555555556,
             "#d8576b"
            ],
            [
             0.6666666666666666,
             "#ed7953"
            ],
            [
             0.7777777777777778,
             "#fb9f3a"
            ],
            [
             0.8888888888888888,
             "#fdca26"
            ],
            [
             1,
             "#f0f921"
            ]
           ]
          },
          "colorway": [
           "#636efa",
           "#EF553B",
           "#00cc96",
           "#ab63fa",
           "#FFA15A",
           "#19d3f3",
           "#FF6692",
           "#B6E880",
           "#FF97FF",
           "#FECB52"
          ],
          "font": {
           "color": "#2a3f5f"
          },
          "geo": {
           "bgcolor": "white",
           "lakecolor": "white",
           "landcolor": "#E5ECF6",
           "showlakes": true,
           "showland": true,
           "subunitcolor": "white"
          },
          "hoverlabel": {
           "align": "left"
          },
          "hovermode": "closest",
          "mapbox": {
           "style": "light"
          },
          "paper_bgcolor": "white",
          "plot_bgcolor": "#E5ECF6",
          "polar": {
           "angularaxis": {
            "gridcolor": "white",
            "linecolor": "white",
            "ticks": ""
           },
           "bgcolor": "#E5ECF6",
           "radialaxis": {
            "gridcolor": "white",
            "linecolor": "white",
            "ticks": ""
           }
          },
          "scene": {
           "xaxis": {
            "backgroundcolor": "#E5ECF6",
            "gridcolor": "white",
            "gridwidth": 2,
            "linecolor": "white",
            "showbackground": true,
            "ticks": "",
            "zerolinecolor": "white"
           },
           "yaxis": {
            "backgroundcolor": "#E5ECF6",
            "gridcolor": "white",
            "gridwidth": 2,
            "linecolor": "white",
            "showbackground": true,
            "ticks": "",
            "zerolinecolor": "white"
           },
           "zaxis": {
            "backgroundcolor": "#E5ECF6",
            "gridcolor": "white",
            "gridwidth": 2,
            "linecolor": "white",
            "showbackground": true,
            "ticks": "",
            "zerolinecolor": "white"
           }
          },
          "shapedefaults": {
           "line": {
            "color": "#2a3f5f"
           }
          },
          "ternary": {
           "aaxis": {
            "gridcolor": "white",
            "linecolor": "white",
            "ticks": ""
           },
           "baxis": {
            "gridcolor": "white",
            "linecolor": "white",
            "ticks": ""
           },
           "bgcolor": "#E5ECF6",
           "caxis": {
            "gridcolor": "white",
            "linecolor": "white",
            "ticks": ""
           }
          },
          "title": {
           "x": 0.05
          },
          "xaxis": {
           "automargin": true,
           "gridcolor": "white",
           "linecolor": "white",
           "ticks": "",
           "title": {
            "standoff": 15
           },
           "zerolinecolor": "white",
           "zerolinewidth": 2
          },
          "yaxis": {
           "automargin": true,
           "gridcolor": "white",
           "linecolor": "white",
           "ticks": "",
           "title": {
            "standoff": 15
           },
           "zerolinecolor": "white",
           "zerolinewidth": 2
          }
         }
        },
        "title": {
         "text": "TOP 10 países con mayor Crecimiento de la población (% anual) en promedio (2018-2022)"
        },
        "xaxis": {
         "anchor": "y",
         "domain": [
          0,
          1
         ],
         "title": {
          "text": ""
         }
        },
        "yaxis": {
         "anchor": "x",
         "domain": [
          0,
          1
         ],
         "title": {
          "text": "Crecimiento de la población (% anual)"
         }
        }
       }
      }
     },
     "metadata": {},
     "output_type": "display_data"
    }
   ],
   "source": [
    "fig = px.bar(top_paises, title=\"TOP 10 países con mayor Crecimiento de la población (% anual) en promedio (2018-2022)\", y=\"Crecimiento de la población (% anual)\")\n",
    "fig.update_xaxes(title_text=\"\")\n",
    "fig.show()"
   ]
  },
  {
   "cell_type": "code",
   "execution_count": 34,
   "metadata": {},
   "outputs": [
    {
     "data": {
      "text/html": [
       "<div>\n",
       "<style scoped>\n",
       "    .dataframe tbody tr th:only-of-type {\n",
       "        vertical-align: middle;\n",
       "    }\n",
       "\n",
       "    .dataframe tbody tr th {\n",
       "        vertical-align: top;\n",
       "    }\n",
       "\n",
       "    .dataframe thead th {\n",
       "        text-align: right;\n",
       "    }\n",
       "</style>\n",
       "<table border=\"1\" class=\"dataframe\">\n",
       "  <thead>\n",
       "    <tr style=\"text-align: right;\">\n",
       "      <th>serie Name</th>\n",
       "      <th>país Name</th>\n",
       "      <th>Año</th>\n",
       "      <th>Crecimiento de la población (% anual)</th>\n",
       "      <th>Crecimiento de la población rural (% anual)</th>\n",
       "      <th>Crecimiento de la población urbana (% anual)</th>\n",
       "      <th>Continente</th>\n",
       "    </tr>\n",
       "  </thead>\n",
       "  <tbody>\n",
       "    <tr>\n",
       "      <th>0</th>\n",
       "      <td>Afganistán</td>\n",
       "      <td>1987</td>\n",
       "      <td>-1.210190</td>\n",
       "      <td>-2.043746</td>\n",
       "      <td>2.128391</td>\n",
       "      <td>Asia</td>\n",
       "    </tr>\n",
       "    <tr>\n",
       "      <th>1</th>\n",
       "      <td>Afganistán</td>\n",
       "      <td>1988</td>\n",
       "      <td>0.586318</td>\n",
       "      <td>-0.275758</td>\n",
       "      <td>3.898014</td>\n",
       "      <td>Asia</td>\n",
       "    </tr>\n",
       "    <tr>\n",
       "      <th>2</th>\n",
       "      <td>Afganistán</td>\n",
       "      <td>1989</td>\n",
       "      <td>2.751877</td>\n",
       "      <td>2.637888</td>\n",
       "      <td>3.179585</td>\n",
       "      <td>Asia</td>\n",
       "    </tr>\n",
       "    <tr>\n",
       "      <th>3</th>\n",
       "      <td>Afganistán</td>\n",
       "      <td>1990</td>\n",
       "      <td>0.202434</td>\n",
       "      <td>0.089590</td>\n",
       "      <td>0.623574</td>\n",
       "      <td>Asia</td>\n",
       "    </tr>\n",
       "    <tr>\n",
       "      <th>4</th>\n",
       "      <td>Afganistán</td>\n",
       "      <td>1991</td>\n",
       "      <td>0.469880</td>\n",
       "      <td>0.356909</td>\n",
       "      <td>0.889255</td>\n",
       "      <td>Asia</td>\n",
       "    </tr>\n",
       "    <tr>\n",
       "      <th>...</th>\n",
       "      <td>...</td>\n",
       "      <td>...</td>\n",
       "      <td>...</td>\n",
       "      <td>...</td>\n",
       "      <td>...</td>\n",
       "      <td>...</td>\n",
       "    </tr>\n",
       "    <tr>\n",
       "      <th>1579</th>\n",
       "      <td>Venezuela</td>\n",
       "      <td>2018</td>\n",
       "      <td>-2.443543</td>\n",
       "      <td>-2.655330</td>\n",
       "      <td>-2.415197</td>\n",
       "      <td>América del Sur</td>\n",
       "    </tr>\n",
       "    <tr>\n",
       "      <th>1580</th>\n",
       "      <td>Venezuela</td>\n",
       "      <td>2019</td>\n",
       "      <td>-2.904996</td>\n",
       "      <td>-3.176733</td>\n",
       "      <td>-2.868725</td>\n",
       "      <td>América del Sur</td>\n",
       "    </tr>\n",
       "    <tr>\n",
       "      <th>1581</th>\n",
       "      <td>Venezuela</td>\n",
       "      <td>2020</td>\n",
       "      <td>-1.674986</td>\n",
       "      <td>-2.007172</td>\n",
       "      <td>-1.630797</td>\n",
       "      <td>América del Sur</td>\n",
       "    </tr>\n",
       "    <tr>\n",
       "      <th>1582</th>\n",
       "      <td>Venezuela</td>\n",
       "      <td>2021</td>\n",
       "      <td>-1.025179</td>\n",
       "      <td>-1.418423</td>\n",
       "      <td>-0.973083</td>\n",
       "      <td>América del Sur</td>\n",
       "    </tr>\n",
       "    <tr>\n",
       "      <th>1583</th>\n",
       "      <td>Venezuela</td>\n",
       "      <td>2022</td>\n",
       "      <td>0.360447</td>\n",
       "      <td>-0.094537</td>\n",
       "      <td>0.420433</td>\n",
       "      <td>América del Sur</td>\n",
       "    </tr>\n",
       "  </tbody>\n",
       "</table>\n",
       "<p>1584 rows × 6 columns</p>\n",
       "</div>"
      ],
      "text/plain": [
       "serie Name   país Name   Año  Crecimiento de la población (% anual)   \n",
       "0           Afganistán  1987                              -1.210190  \\\n",
       "1           Afganistán  1988                               0.586318   \n",
       "2           Afganistán  1989                               2.751877   \n",
       "3           Afganistán  1990                               0.202434   \n",
       "4           Afganistán  1991                               0.469880   \n",
       "...                ...   ...                                    ...   \n",
       "1579         Venezuela  2018                              -2.443543   \n",
       "1580         Venezuela  2019                              -2.904996   \n",
       "1581         Venezuela  2020                              -1.674986   \n",
       "1582         Venezuela  2021                              -1.025179   \n",
       "1583         Venezuela  2022                               0.360447   \n",
       "\n",
       "serie Name  Crecimiento de la población rural (% anual)   \n",
       "0                                             -2.043746  \\\n",
       "1                                             -0.275758   \n",
       "2                                              2.637888   \n",
       "3                                              0.089590   \n",
       "4                                              0.356909   \n",
       "...                                                 ...   \n",
       "1579                                          -2.655330   \n",
       "1580                                          -3.176733   \n",
       "1581                                          -2.007172   \n",
       "1582                                          -1.418423   \n",
       "1583                                          -0.094537   \n",
       "\n",
       "serie Name  Crecimiento de la población urbana (% anual)       Continente  \n",
       "0                                               2.128391             Asia  \n",
       "1                                               3.898014             Asia  \n",
       "2                                               3.179585             Asia  \n",
       "3                                               0.623574             Asia  \n",
       "4                                               0.889255             Asia  \n",
       "...                                                  ...              ...  \n",
       "1579                                           -2.415197  América del Sur  \n",
       "1580                                           -2.868725  América del Sur  \n",
       "1581                                           -1.630797  América del Sur  \n",
       "1582                                           -0.973083  América del Sur  \n",
       "1583                                            0.420433  América del Sur  \n",
       "\n",
       "[1584 rows x 6 columns]"
      ]
     },
     "execution_count": 34,
     "metadata": {},
     "output_type": "execute_result"
    }
   ],
   "source": [
    "df_pivoted"
   ]
  },
  {
   "cell_type": "code",
   "execution_count": 35,
   "metadata": {},
   "outputs": [
    {
     "name": "stdout",
     "output_type": "stream",
     "text": [
      "<class 'pandas.core.frame.DataFrame'>\n",
      "RangeIndex: 1584 entries, 0 to 1583\n",
      "Data columns (total 6 columns):\n",
      " #   Column                                        Non-Null Count  Dtype  \n",
      "---  ------                                        --------------  -----  \n",
      " 0   país Name                                     1584 non-null   object \n",
      " 1   Año                                           1584 non-null   object \n",
      " 2   Crecimiento de la población (% anual)         1584 non-null   float64\n",
      " 3   Crecimiento de la población rural (% anual)   1548 non-null   float64\n",
      " 4   Crecimiento de la población urbana (% anual)  1584 non-null   float64\n",
      " 5   Continente                                    1584 non-null   object \n",
      "dtypes: float64(3), object(3)\n",
      "memory usage: 74.4+ KB\n"
     ]
    }
   ],
   "source": [
    "df_pivoted.info()"
   ]
  },
  {
   "cell_type": "code",
   "execution_count": 36,
   "metadata": {},
   "outputs": [
    {
     "data": {
      "text/html": [
       "<div>\n",
       "<style scoped>\n",
       "    .dataframe tbody tr th:only-of-type {\n",
       "        vertical-align: middle;\n",
       "    }\n",
       "\n",
       "    .dataframe tbody tr th {\n",
       "        vertical-align: top;\n",
       "    }\n",
       "\n",
       "    .dataframe thead th {\n",
       "        text-align: right;\n",
       "    }\n",
       "</style>\n",
       "<table border=\"1\" class=\"dataframe\">\n",
       "  <thead>\n",
       "    <tr style=\"text-align: right;\">\n",
       "      <th>serie Name</th>\n",
       "      <th>país Name</th>\n",
       "      <th>Año</th>\n",
       "      <th>Crecimiento de la población (% anual)</th>\n",
       "      <th>Crecimiento de la población rural (% anual)</th>\n",
       "      <th>Crecimiento de la población urbana (% anual)</th>\n",
       "      <th>Continente</th>\n",
       "    </tr>\n",
       "  </thead>\n",
       "  <tbody>\n",
       "    <tr>\n",
       "      <th>1440</th>\n",
       "      <td>Singapur</td>\n",
       "      <td>1987</td>\n",
       "      <td>1.503833</td>\n",
       "      <td>NaN</td>\n",
       "      <td>1.503833</td>\n",
       "      <td>Asia</td>\n",
       "    </tr>\n",
       "    <tr>\n",
       "      <th>1441</th>\n",
       "      <td>Singapur</td>\n",
       "      <td>1988</td>\n",
       "      <td>2.537774</td>\n",
       "      <td>NaN</td>\n",
       "      <td>2.537774</td>\n",
       "      <td>Asia</td>\n",
       "    </tr>\n",
       "    <tr>\n",
       "      <th>1442</th>\n",
       "      <td>Singapur</td>\n",
       "      <td>1989</td>\n",
       "      <td>2.935744</td>\n",
       "      <td>NaN</td>\n",
       "      <td>2.935744</td>\n",
       "      <td>Asia</td>\n",
       "    </tr>\n",
       "    <tr>\n",
       "      <th>1443</th>\n",
       "      <td>Singapur</td>\n",
       "      <td>1990</td>\n",
       "      <td>3.889094</td>\n",
       "      <td>NaN</td>\n",
       "      <td>3.889094</td>\n",
       "      <td>Asia</td>\n",
       "    </tr>\n",
       "    <tr>\n",
       "      <th>1444</th>\n",
       "      <td>Singapur</td>\n",
       "      <td>1991</td>\n",
       "      <td>2.845483</td>\n",
       "      <td>NaN</td>\n",
       "      <td>2.845483</td>\n",
       "      <td>Asia</td>\n",
       "    </tr>\n",
       "    <tr>\n",
       "      <th>1445</th>\n",
       "      <td>Singapur</td>\n",
       "      <td>1992</td>\n",
       "      <td>3.004256</td>\n",
       "      <td>NaN</td>\n",
       "      <td>3.004256</td>\n",
       "      <td>Asia</td>\n",
       "    </tr>\n",
       "    <tr>\n",
       "      <th>1446</th>\n",
       "      <td>Singapur</td>\n",
       "      <td>1993</td>\n",
       "      <td>2.529807</td>\n",
       "      <td>NaN</td>\n",
       "      <td>2.529807</td>\n",
       "      <td>Asia</td>\n",
       "    </tr>\n",
       "    <tr>\n",
       "      <th>1447</th>\n",
       "      <td>Singapur</td>\n",
       "      <td>1994</td>\n",
       "      <td>3.136587</td>\n",
       "      <td>NaN</td>\n",
       "      <td>3.136587</td>\n",
       "      <td>Asia</td>\n",
       "    </tr>\n",
       "    <tr>\n",
       "      <th>1448</th>\n",
       "      <td>Singapur</td>\n",
       "      <td>1995</td>\n",
       "      <td>3.037813</td>\n",
       "      <td>NaN</td>\n",
       "      <td>3.037813</td>\n",
       "      <td>Asia</td>\n",
       "    </tr>\n",
       "    <tr>\n",
       "      <th>1449</th>\n",
       "      <td>Singapur</td>\n",
       "      <td>1996</td>\n",
       "      <td>4.064318</td>\n",
       "      <td>NaN</td>\n",
       "      <td>4.064318</td>\n",
       "      <td>Asia</td>\n",
       "    </tr>\n",
       "    <tr>\n",
       "      <th>1450</th>\n",
       "      <td>Singapur</td>\n",
       "      <td>1997</td>\n",
       "      <td>3.357442</td>\n",
       "      <td>NaN</td>\n",
       "      <td>3.357442</td>\n",
       "      <td>Asia</td>\n",
       "    </tr>\n",
       "    <tr>\n",
       "      <th>1451</th>\n",
       "      <td>Singapur</td>\n",
       "      <td>1998</td>\n",
       "      <td>3.397212</td>\n",
       "      <td>NaN</td>\n",
       "      <td>3.397212</td>\n",
       "      <td>Asia</td>\n",
       "    </tr>\n",
       "    <tr>\n",
       "      <th>1452</th>\n",
       "      <td>Singapur</td>\n",
       "      <td>1999</td>\n",
       "      <td>0.799148</td>\n",
       "      <td>NaN</td>\n",
       "      <td>0.799148</td>\n",
       "      <td>Asia</td>\n",
       "    </tr>\n",
       "    <tr>\n",
       "      <th>1453</th>\n",
       "      <td>Singapur</td>\n",
       "      <td>2000</td>\n",
       "      <td>1.732042</td>\n",
       "      <td>NaN</td>\n",
       "      <td>1.732042</td>\n",
       "      <td>Asia</td>\n",
       "    </tr>\n",
       "    <tr>\n",
       "      <th>1454</th>\n",
       "      <td>Singapur</td>\n",
       "      <td>2001</td>\n",
       "      <td>2.697356</td>\n",
       "      <td>NaN</td>\n",
       "      <td>2.697356</td>\n",
       "      <td>Asia</td>\n",
       "    </tr>\n",
       "    <tr>\n",
       "      <th>1455</th>\n",
       "      <td>Singapur</td>\n",
       "      <td>2002</td>\n",
       "      <td>0.912640</td>\n",
       "      <td>NaN</td>\n",
       "      <td>0.912640</td>\n",
       "      <td>Asia</td>\n",
       "    </tr>\n",
       "    <tr>\n",
       "      <th>1456</th>\n",
       "      <td>Singapur</td>\n",
       "      <td>2003</td>\n",
       "      <td>-1.474533</td>\n",
       "      <td>NaN</td>\n",
       "      <td>-1.474533</td>\n",
       "      <td>Asia</td>\n",
       "    </tr>\n",
       "    <tr>\n",
       "      <th>1457</th>\n",
       "      <td>Singapur</td>\n",
       "      <td>2004</td>\n",
       "      <td>1.251917</td>\n",
       "      <td>NaN</td>\n",
       "      <td>1.251917</td>\n",
       "      <td>Asia</td>\n",
       "    </tr>\n",
       "    <tr>\n",
       "      <th>1458</th>\n",
       "      <td>Singapur</td>\n",
       "      <td>2005</td>\n",
       "      <td>2.350511</td>\n",
       "      <td>NaN</td>\n",
       "      <td>2.350511</td>\n",
       "      <td>Asia</td>\n",
       "    </tr>\n",
       "    <tr>\n",
       "      <th>1459</th>\n",
       "      <td>Singapur</td>\n",
       "      <td>2006</td>\n",
       "      <td>3.129389</td>\n",
       "      <td>NaN</td>\n",
       "      <td>3.129389</td>\n",
       "      <td>Asia</td>\n",
       "    </tr>\n",
       "    <tr>\n",
       "      <th>1460</th>\n",
       "      <td>Singapur</td>\n",
       "      <td>2007</td>\n",
       "      <td>4.166003</td>\n",
       "      <td>NaN</td>\n",
       "      <td>4.166003</td>\n",
       "      <td>Asia</td>\n",
       "    </tr>\n",
       "    <tr>\n",
       "      <th>1461</th>\n",
       "      <td>Singapur</td>\n",
       "      <td>2008</td>\n",
       "      <td>5.321517</td>\n",
       "      <td>NaN</td>\n",
       "      <td>5.321517</td>\n",
       "      <td>Asia</td>\n",
       "    </tr>\n",
       "    <tr>\n",
       "      <th>1462</th>\n",
       "      <td>Singapur</td>\n",
       "      <td>2009</td>\n",
       "      <td>3.015950</td>\n",
       "      <td>NaN</td>\n",
       "      <td>3.015950</td>\n",
       "      <td>Asia</td>\n",
       "    </tr>\n",
       "    <tr>\n",
       "      <th>1463</th>\n",
       "      <td>Singapur</td>\n",
       "      <td>2010</td>\n",
       "      <td>1.771833</td>\n",
       "      <td>NaN</td>\n",
       "      <td>1.771833</td>\n",
       "      <td>Asia</td>\n",
       "    </tr>\n",
       "    <tr>\n",
       "      <th>1464</th>\n",
       "      <td>Singapur</td>\n",
       "      <td>2011</td>\n",
       "      <td>2.084902</td>\n",
       "      <td>NaN</td>\n",
       "      <td>2.084902</td>\n",
       "      <td>Asia</td>\n",
       "    </tr>\n",
       "    <tr>\n",
       "      <th>1465</th>\n",
       "      <td>Singapur</td>\n",
       "      <td>2012</td>\n",
       "      <td>2.453390</td>\n",
       "      <td>NaN</td>\n",
       "      <td>2.453390</td>\n",
       "      <td>Asia</td>\n",
       "    </tr>\n",
       "    <tr>\n",
       "      <th>1466</th>\n",
       "      <td>Singapur</td>\n",
       "      <td>2013</td>\n",
       "      <td>1.619308</td>\n",
       "      <td>NaN</td>\n",
       "      <td>1.619308</td>\n",
       "      <td>Asia</td>\n",
       "    </tr>\n",
       "    <tr>\n",
       "      <th>1467</th>\n",
       "      <td>Singapur</td>\n",
       "      <td>2014</td>\n",
       "      <td>1.298440</td>\n",
       "      <td>NaN</td>\n",
       "      <td>1.298440</td>\n",
       "      <td>Asia</td>\n",
       "    </tr>\n",
       "    <tr>\n",
       "      <th>1468</th>\n",
       "      <td>Singapur</td>\n",
       "      <td>2015</td>\n",
       "      <td>1.186377</td>\n",
       "      <td>NaN</td>\n",
       "      <td>1.186377</td>\n",
       "      <td>Asia</td>\n",
       "    </tr>\n",
       "    <tr>\n",
       "      <th>1469</th>\n",
       "      <td>Singapur</td>\n",
       "      <td>2016</td>\n",
       "      <td>1.297436</td>\n",
       "      <td>NaN</td>\n",
       "      <td>1.297436</td>\n",
       "      <td>Asia</td>\n",
       "    </tr>\n",
       "    <tr>\n",
       "      <th>1470</th>\n",
       "      <td>Singapur</td>\n",
       "      <td>2017</td>\n",
       "      <td>0.088595</td>\n",
       "      <td>NaN</td>\n",
       "      <td>0.088595</td>\n",
       "      <td>Asia</td>\n",
       "    </tr>\n",
       "    <tr>\n",
       "      <th>1471</th>\n",
       "      <td>Singapur</td>\n",
       "      <td>2018</td>\n",
       "      <td>0.469704</td>\n",
       "      <td>NaN</td>\n",
       "      <td>0.469704</td>\n",
       "      <td>Asia</td>\n",
       "    </tr>\n",
       "    <tr>\n",
       "      <th>1472</th>\n",
       "      <td>Singapur</td>\n",
       "      <td>2019</td>\n",
       "      <td>1.144283</td>\n",
       "      <td>NaN</td>\n",
       "      <td>1.144283</td>\n",
       "      <td>Asia</td>\n",
       "    </tr>\n",
       "    <tr>\n",
       "      <th>1473</th>\n",
       "      <td>Singapur</td>\n",
       "      <td>2020</td>\n",
       "      <td>-0.311905</td>\n",
       "      <td>NaN</td>\n",
       "      <td>-0.311905</td>\n",
       "      <td>Asia</td>\n",
       "    </tr>\n",
       "    <tr>\n",
       "      <th>1474</th>\n",
       "      <td>Singapur</td>\n",
       "      <td>2021</td>\n",
       "      <td>-4.170336</td>\n",
       "      <td>NaN</td>\n",
       "      <td>-4.170336</td>\n",
       "      <td>Asia</td>\n",
       "    </tr>\n",
       "    <tr>\n",
       "      <th>1475</th>\n",
       "      <td>Singapur</td>\n",
       "      <td>2022</td>\n",
       "      <td>3.308621</td>\n",
       "      <td>NaN</td>\n",
       "      <td>3.308621</td>\n",
       "      <td>Asia</td>\n",
       "    </tr>\n",
       "  </tbody>\n",
       "</table>\n",
       "</div>"
      ],
      "text/plain": [
       "serie Name país Name   Año  Crecimiento de la población (% anual)   \n",
       "1440        Singapur  1987                               1.503833  \\\n",
       "1441        Singapur  1988                               2.537774   \n",
       "1442        Singapur  1989                               2.935744   \n",
       "1443        Singapur  1990                               3.889094   \n",
       "1444        Singapur  1991                               2.845483   \n",
       "1445        Singapur  1992                               3.004256   \n",
       "1446        Singapur  1993                               2.529807   \n",
       "1447        Singapur  1994                               3.136587   \n",
       "1448        Singapur  1995                               3.037813   \n",
       "1449        Singapur  1996                               4.064318   \n",
       "1450        Singapur  1997                               3.357442   \n",
       "1451        Singapur  1998                               3.397212   \n",
       "1452        Singapur  1999                               0.799148   \n",
       "1453        Singapur  2000                               1.732042   \n",
       "1454        Singapur  2001                               2.697356   \n",
       "1455        Singapur  2002                               0.912640   \n",
       "1456        Singapur  2003                              -1.474533   \n",
       "1457        Singapur  2004                               1.251917   \n",
       "1458        Singapur  2005                               2.350511   \n",
       "1459        Singapur  2006                               3.129389   \n",
       "1460        Singapur  2007                               4.166003   \n",
       "1461        Singapur  2008                               5.321517   \n",
       "1462        Singapur  2009                               3.015950   \n",
       "1463        Singapur  2010                               1.771833   \n",
       "1464        Singapur  2011                               2.084902   \n",
       "1465        Singapur  2012                               2.453390   \n",
       "1466        Singapur  2013                               1.619308   \n",
       "1467        Singapur  2014                               1.298440   \n",
       "1468        Singapur  2015                               1.186377   \n",
       "1469        Singapur  2016                               1.297436   \n",
       "1470        Singapur  2017                               0.088595   \n",
       "1471        Singapur  2018                               0.469704   \n",
       "1472        Singapur  2019                               1.144283   \n",
       "1473        Singapur  2020                              -0.311905   \n",
       "1474        Singapur  2021                              -4.170336   \n",
       "1475        Singapur  2022                               3.308621   \n",
       "\n",
       "serie Name  Crecimiento de la población rural (% anual)   \n",
       "1440                                                NaN  \\\n",
       "1441                                                NaN   \n",
       "1442                                                NaN   \n",
       "1443                                                NaN   \n",
       "1444                                                NaN   \n",
       "1445                                                NaN   \n",
       "1446                                                NaN   \n",
       "1447                                                NaN   \n",
       "1448                                                NaN   \n",
       "1449                                                NaN   \n",
       "1450                                                NaN   \n",
       "1451                                                NaN   \n",
       "1452                                                NaN   \n",
       "1453                                                NaN   \n",
       "1454                                                NaN   \n",
       "1455                                                NaN   \n",
       "1456                                                NaN   \n",
       "1457                                                NaN   \n",
       "1458                                                NaN   \n",
       "1459                                                NaN   \n",
       "1460                                                NaN   \n",
       "1461                                                NaN   \n",
       "1462                                                NaN   \n",
       "1463                                                NaN   \n",
       "1464                                                NaN   \n",
       "1465                                                NaN   \n",
       "1466                                                NaN   \n",
       "1467                                                NaN   \n",
       "1468                                                NaN   \n",
       "1469                                                NaN   \n",
       "1470                                                NaN   \n",
       "1471                                                NaN   \n",
       "1472                                                NaN   \n",
       "1473                                                NaN   \n",
       "1474                                                NaN   \n",
       "1475                                                NaN   \n",
       "\n",
       "serie Name  Crecimiento de la población urbana (% anual) Continente  \n",
       "1440                                            1.503833       Asia  \n",
       "1441                                            2.537774       Asia  \n",
       "1442                                            2.935744       Asia  \n",
       "1443                                            3.889094       Asia  \n",
       "1444                                            2.845483       Asia  \n",
       "1445                                            3.004256       Asia  \n",
       "1446                                            2.529807       Asia  \n",
       "1447                                            3.136587       Asia  \n",
       "1448                                            3.037813       Asia  \n",
       "1449                                            4.064318       Asia  \n",
       "1450                                            3.357442       Asia  \n",
       "1451                                            3.397212       Asia  \n",
       "1452                                            0.799148       Asia  \n",
       "1453                                            1.732042       Asia  \n",
       "1454                                            2.697356       Asia  \n",
       "1455                                            0.912640       Asia  \n",
       "1456                                           -1.474533       Asia  \n",
       "1457                                            1.251917       Asia  \n",
       "1458                                            2.350511       Asia  \n",
       "1459                                            3.129389       Asia  \n",
       "1460                                            4.166003       Asia  \n",
       "1461                                            5.321517       Asia  \n",
       "1462                                            3.015950       Asia  \n",
       "1463                                            1.771833       Asia  \n",
       "1464                                            2.084902       Asia  \n",
       "1465                                            2.453390       Asia  \n",
       "1466                                            1.619308       Asia  \n",
       "1467                                            1.298440       Asia  \n",
       "1468                                            1.186377       Asia  \n",
       "1469                                            1.297436       Asia  \n",
       "1470                                            0.088595       Asia  \n",
       "1471                                            0.469704       Asia  \n",
       "1472                                            1.144283       Asia  \n",
       "1473                                           -0.311905       Asia  \n",
       "1474                                           -4.170336       Asia  \n",
       "1475                                            3.308621       Asia  "
      ]
     },
     "execution_count": 36,
     "metadata": {},
     "output_type": "execute_result"
    }
   ],
   "source": [
    "df_pivoted[df_pivoted.isnull().any(axis=1)]\n"
   ]
  },
  {
   "cell_type": "code",
   "execution_count": 37,
   "metadata": {},
   "outputs": [],
   "source": [
    "df_pivoted.fillna(0, inplace=True)"
   ]
  },
  {
   "cell_type": "code",
   "execution_count": 40,
   "metadata": {},
   "outputs": [
    {
     "data": {
      "text/html": [
       "<div>\n",
       "<style scoped>\n",
       "    .dataframe tbody tr th:only-of-type {\n",
       "        vertical-align: middle;\n",
       "    }\n",
       "\n",
       "    .dataframe tbody tr th {\n",
       "        vertical-align: top;\n",
       "    }\n",
       "\n",
       "    .dataframe thead th {\n",
       "        text-align: right;\n",
       "    }\n",
       "</style>\n",
       "<table border=\"1\" class=\"dataframe\">\n",
       "  <thead>\n",
       "    <tr style=\"text-align: right;\">\n",
       "      <th>serie Name</th>\n",
       "      <th>país Name</th>\n",
       "      <th>Año</th>\n",
       "      <th>Crecimiento de la población (% anual)</th>\n",
       "      <th>Crecimiento de la población rural (% anual)</th>\n",
       "      <th>Crecimiento de la población urbana (% anual)</th>\n",
       "      <th>Continente</th>\n",
       "    </tr>\n",
       "  </thead>\n",
       "  <tbody>\n",
       "    <tr>\n",
       "      <th>0</th>\n",
       "      <td>Afganistán</td>\n",
       "      <td>1987</td>\n",
       "      <td>-1.210190</td>\n",
       "      <td>-2.043746</td>\n",
       "      <td>2.128391</td>\n",
       "      <td>Asia</td>\n",
       "    </tr>\n",
       "    <tr>\n",
       "      <th>1</th>\n",
       "      <td>Afganistán</td>\n",
       "      <td>1988</td>\n",
       "      <td>0.586318</td>\n",
       "      <td>-0.275758</td>\n",
       "      <td>3.898014</td>\n",
       "      <td>Asia</td>\n",
       "    </tr>\n",
       "  </tbody>\n",
       "</table>\n",
       "</div>"
      ],
      "text/plain": [
       "serie Name   país Name   Año  Crecimiento de la población (% anual)   \n",
       "0           Afganistán  1987                              -1.210190  \\\n",
       "1           Afganistán  1988                               0.586318   \n",
       "\n",
       "serie Name  Crecimiento de la población rural (% anual)   \n",
       "0                                             -2.043746  \\\n",
       "1                                             -0.275758   \n",
       "\n",
       "serie Name  Crecimiento de la población urbana (% anual) Continente  \n",
       "0                                               2.128391       Asia  \n",
       "1                                               3.898014       Asia  "
      ]
     },
     "execution_count": 40,
     "metadata": {},
     "output_type": "execute_result"
    }
   ],
   "source": [
    "df_pivoted.head(2)"
   ]
  },
  {
   "cell_type": "code",
   "execution_count": 42,
   "metadata": {},
   "outputs": [
    {
     "data": {
      "text/html": [
       "<div>\n",
       "<style scoped>\n",
       "    .dataframe tbody tr th:only-of-type {\n",
       "        vertical-align: middle;\n",
       "    }\n",
       "\n",
       "    .dataframe tbody tr th {\n",
       "        vertical-align: top;\n",
       "    }\n",
       "\n",
       "    .dataframe thead th {\n",
       "        text-align: right;\n",
       "    }\n",
       "</style>\n",
       "<table border=\"1\" class=\"dataframe\">\n",
       "  <thead>\n",
       "    <tr style=\"text-align: right;\">\n",
       "      <th></th>\n",
       "      <th>país Name</th>\n",
       "      <th>Año</th>\n",
       "      <th>factor_(serie)</th>\n",
       "      <th>Valor</th>\n",
       "    </tr>\n",
       "  </thead>\n",
       "  <tbody>\n",
       "    <tr>\n",
       "      <th>0</th>\n",
       "      <td>Afganistán</td>\n",
       "      <td>1987</td>\n",
       "      <td>Crecimiento de la población (% anual)</td>\n",
       "      <td>-1.210190</td>\n",
       "    </tr>\n",
       "    <tr>\n",
       "      <th>1</th>\n",
       "      <td>Afganistán</td>\n",
       "      <td>1988</td>\n",
       "      <td>Crecimiento de la población (% anual)</td>\n",
       "      <td>0.586318</td>\n",
       "    </tr>\n",
       "    <tr>\n",
       "      <th>2</th>\n",
       "      <td>Afganistán</td>\n",
       "      <td>1989</td>\n",
       "      <td>Crecimiento de la población (% anual)</td>\n",
       "      <td>2.751877</td>\n",
       "    </tr>\n",
       "    <tr>\n",
       "      <th>3</th>\n",
       "      <td>Afganistán</td>\n",
       "      <td>1990</td>\n",
       "      <td>Crecimiento de la población (% anual)</td>\n",
       "      <td>0.202434</td>\n",
       "    </tr>\n",
       "    <tr>\n",
       "      <th>4</th>\n",
       "      <td>Afganistán</td>\n",
       "      <td>1991</td>\n",
       "      <td>Crecimiento de la población (% anual)</td>\n",
       "      <td>0.469880</td>\n",
       "    </tr>\n",
       "    <tr>\n",
       "      <th>...</th>\n",
       "      <td>...</td>\n",
       "      <td>...</td>\n",
       "      <td>...</td>\n",
       "      <td>...</td>\n",
       "    </tr>\n",
       "    <tr>\n",
       "      <th>4747</th>\n",
       "      <td>Venezuela</td>\n",
       "      <td>2018</td>\n",
       "      <td>Crecimiento de la población urbana (% anual)</td>\n",
       "      <td>-2.415197</td>\n",
       "    </tr>\n",
       "    <tr>\n",
       "      <th>4748</th>\n",
       "      <td>Venezuela</td>\n",
       "      <td>2019</td>\n",
       "      <td>Crecimiento de la población urbana (% anual)</td>\n",
       "      <td>-2.868725</td>\n",
       "    </tr>\n",
       "    <tr>\n",
       "      <th>4749</th>\n",
       "      <td>Venezuela</td>\n",
       "      <td>2020</td>\n",
       "      <td>Crecimiento de la población urbana (% anual)</td>\n",
       "      <td>-1.630797</td>\n",
       "    </tr>\n",
       "    <tr>\n",
       "      <th>4750</th>\n",
       "      <td>Venezuela</td>\n",
       "      <td>2021</td>\n",
       "      <td>Crecimiento de la población urbana (% anual)</td>\n",
       "      <td>-0.973083</td>\n",
       "    </tr>\n",
       "    <tr>\n",
       "      <th>4751</th>\n",
       "      <td>Venezuela</td>\n",
       "      <td>2022</td>\n",
       "      <td>Crecimiento de la población urbana (% anual)</td>\n",
       "      <td>0.420433</td>\n",
       "    </tr>\n",
       "  </tbody>\n",
       "</table>\n",
       "<p>4752 rows × 4 columns</p>\n",
       "</div>"
      ],
      "text/plain": [
       "       país Name   Año                                factor_(serie)     Valor\n",
       "0     Afganistán  1987         Crecimiento de la población (% anual) -1.210190\n",
       "1     Afganistán  1988         Crecimiento de la población (% anual)  0.586318\n",
       "2     Afganistán  1989         Crecimiento de la población (% anual)  2.751877\n",
       "3     Afganistán  1990         Crecimiento de la población (% anual)  0.202434\n",
       "4     Afganistán  1991         Crecimiento de la población (% anual)  0.469880\n",
       "...          ...   ...                                           ...       ...\n",
       "4747   Venezuela  2018  Crecimiento de la población urbana (% anual) -2.415197\n",
       "4748   Venezuela  2019  Crecimiento de la población urbana (% anual) -2.868725\n",
       "4749   Venezuela  2020  Crecimiento de la población urbana (% anual) -1.630797\n",
       "4750   Venezuela  2021  Crecimiento de la población urbana (% anual) -0.973083\n",
       "4751   Venezuela  2022  Crecimiento de la población urbana (% anual)  0.420433\n",
       "\n",
       "[4752 rows x 4 columns]"
      ]
     },
     "execution_count": 42,
     "metadata": {},
     "output_type": "execute_result"
    }
   ],
   "source": [
    "df_melted = df_pivoted.drop(columns=['Continente']).melt(id_vars=['país Name', 'Año'], var_name='factor_(serie)', value_name='Valor')\n",
    "\n",
    "df_melted"
   ]
  },
  {
   "cell_type": "code",
   "execution_count": 38,
   "metadata": {},
   "outputs": [],
   "source": [
    "df_melted.to_csv(\"../Data_preparada/Data_Población_Crecimiento.csv\", index=False)"
   ]
  }
 ],
 "metadata": {
  "kernelspec": {
   "display_name": "Python 3",
   "language": "python",
   "name": "python3"
  },
  "language_info": {
   "codemirror_mode": {
    "name": "ipython",
    "version": 3
   },
   "file_extension": ".py",
   "mimetype": "text/x-python",
   "name": "python",
   "nbconvert_exporter": "python",
   "pygments_lexer": "ipython3",
   "version": "3.11.2"
  }
 },
 "nbformat": 4,
 "nbformat_minor": 2
}
