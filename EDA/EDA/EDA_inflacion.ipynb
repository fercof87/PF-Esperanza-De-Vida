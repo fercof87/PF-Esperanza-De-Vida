{
 "cells": [
  {
   "cell_type": "markdown",
   "metadata": {},
   "source": [
    "# Análisis Exploratorio de Datos"
   ]
  },
  {
   "cell_type": "markdown",
   "metadata": {},
   "source": [
    "Se importa las librerias a utilizar"
   ]
  },
  {
   "cell_type": "code",
   "execution_count": 1,
   "metadata": {},
   "outputs": [],
   "source": [
    "import pandas as pd\n",
    "import matplotlib.pyplot as plt\n",
    "import pandas as pd\n",
    "import matplotlib.pyplot as plt\n",
    "import plotly.graph_objs as go\n",
    "from plotly.subplots import make_subplots\n",
    "import ipywidgets as widgets\n",
    "from IPython.display import display\n",
    "import seaborn as sns"
   ]
  },
  {
   "cell_type": "markdown",
   "metadata": {},
   "source": [
    "Se crea un DataFrame con los datos de la Categoría inflación"
   ]
  },
  {
   "cell_type": "code",
   "execution_count": 2,
   "metadata": {},
   "outputs": [],
   "source": [
    "df = pd.read_csv('../Data/data_inflacion.csv')"
   ]
  },
  {
   "cell_type": "markdown",
   "metadata": {},
   "source": [
    "Un .info() para tener idea de cuantas columnas y que tipo de datos hay en cada una de ellas, y si tenemos datos Nan"
   ]
  },
  {
   "cell_type": "code",
   "execution_count": 3,
   "metadata": {},
   "outputs": [
    {
     "name": "stdout",
     "output_type": "stream",
     "text": [
      "<class 'pandas.core.frame.DataFrame'>\n",
      "RangeIndex: 88 entries, 0 to 87\n",
      "Data columns (total 40 columns):\n",
      " #   Column          Non-Null Count  Dtype  \n",
      "---  ------          --------------  -----  \n",
      " 0   país            88 non-null     object \n",
      " 1   codigo_pais     88 non-null     object \n",
      " 2   factor_(serie)  88 non-null     object \n",
      " 3   codigo_serie    88 non-null     object \n",
      " 4   1987            77 non-null     float64\n",
      " 5   1988            77 non-null     float64\n",
      " 6   1989            77 non-null     float64\n",
      " 7   1990            78 non-null     float64\n",
      " 8   1991            78 non-null     float64\n",
      " 9   1992            78 non-null     float64\n",
      " 10  1993            79 non-null     float64\n",
      " 11  1994            79 non-null     float64\n",
      " 12  1995            80 non-null     float64\n",
      " 13  1996            81 non-null     float64\n",
      " 14  1997            81 non-null     float64\n",
      " 15  1998            81 non-null     float64\n",
      " 16  1999            81 non-null     float64\n",
      " 17  2000            81 non-null     float64\n",
      " 18  2001            81 non-null     float64\n",
      " 19  2002            81 non-null     float64\n",
      " 20  2003            82 non-null     float64\n",
      " 21  2004            82 non-null     float64\n",
      " 22  2005            83 non-null     float64\n",
      " 23  2006            83 non-null     float64\n",
      " 24  2007            84 non-null     float64\n",
      " 25  2008            85 non-null     float64\n",
      " 26  2009            86 non-null     float64\n",
      " 27  2010            86 non-null     float64\n",
      " 28  2011            86 non-null     float64\n",
      " 29  2012            86 non-null     float64\n",
      " 30  2013            86 non-null     float64\n",
      " 31  2014            86 non-null     float64\n",
      " 32  2015            85 non-null     float64\n",
      " 33  2016            85 non-null     float64\n",
      " 34  2017            84 non-null     float64\n",
      " 35  2018            84 non-null     float64\n",
      " 36  2019            84 non-null     float64\n",
      " 37  2020            83 non-null     float64\n",
      " 38  2021            83 non-null     float64\n",
      " 39  2022            80 non-null     float64\n",
      "dtypes: float64(36), object(4)\n",
      "memory usage: 27.6+ KB\n"
     ]
    }
   ],
   "source": [
    "df.info()"
   ]
  },
  {
   "cell_type": "code",
   "execution_count": 4,
   "metadata": {},
   "outputs": [
    {
     "data": {
      "text/html": [
       "<div>\n",
       "<style scoped>\n",
       "    .dataframe tbody tr th:only-of-type {\n",
       "        vertical-align: middle;\n",
       "    }\n",
       "\n",
       "    .dataframe tbody tr th {\n",
       "        vertical-align: top;\n",
       "    }\n",
       "\n",
       "    .dataframe thead th {\n",
       "        text-align: right;\n",
       "    }\n",
       "</style>\n",
       "<table border=\"1\" class=\"dataframe\">\n",
       "  <thead>\n",
       "    <tr style=\"text-align: right;\">\n",
       "      <th></th>\n",
       "      <th>país</th>\n",
       "      <th>codigo_pais</th>\n",
       "      <th>factor_(serie)</th>\n",
       "      <th>codigo_serie</th>\n",
       "      <th>1987</th>\n",
       "      <th>1988</th>\n",
       "      <th>1989</th>\n",
       "      <th>1990</th>\n",
       "      <th>1991</th>\n",
       "      <th>1992</th>\n",
       "      <th>...</th>\n",
       "      <th>2013</th>\n",
       "      <th>2014</th>\n",
       "      <th>2015</th>\n",
       "      <th>2016</th>\n",
       "      <th>2017</th>\n",
       "      <th>2018</th>\n",
       "      <th>2019</th>\n",
       "      <th>2020</th>\n",
       "      <th>2021</th>\n",
       "      <th>2022</th>\n",
       "    </tr>\n",
       "  </thead>\n",
       "  <tbody>\n",
       "    <tr>\n",
       "      <th>0</th>\n",
       "      <td>Afganistán</td>\n",
       "      <td>AFG</td>\n",
       "      <td>Inflación, índice de deflación del PIB (% anual)</td>\n",
       "      <td>NY.GDP.DEFL.KD.ZG</td>\n",
       "      <td>NaN</td>\n",
       "      <td>NaN</td>\n",
       "      <td>NaN</td>\n",
       "      <td>NaN</td>\n",
       "      <td>NaN</td>\n",
       "      <td>NaN</td>\n",
       "      <td>...</td>\n",
       "      <td>4.8228</td>\n",
       "      <td>0.5669</td>\n",
       "      <td>2.4476</td>\n",
       "      <td>-2.1975</td>\n",
       "      <td>2.4037</td>\n",
       "      <td>2.0713</td>\n",
       "      <td>6.5215</td>\n",
       "      <td>7.8217</td>\n",
       "      <td>0.4774</td>\n",
       "      <td>NaN</td>\n",
       "    </tr>\n",
       "    <tr>\n",
       "      <th>1</th>\n",
       "      <td>Afganistán</td>\n",
       "      <td>AFG</td>\n",
       "      <td>Inflación, precios al consumidor (% anual)</td>\n",
       "      <td>FP.CPI.TOTL.ZG</td>\n",
       "      <td>NaN</td>\n",
       "      <td>NaN</td>\n",
       "      <td>NaN</td>\n",
       "      <td>NaN</td>\n",
       "      <td>NaN</td>\n",
       "      <td>NaN</td>\n",
       "      <td>...</td>\n",
       "      <td>7.3858</td>\n",
       "      <td>4.6740</td>\n",
       "      <td>-0.6617</td>\n",
       "      <td>4.3839</td>\n",
       "      <td>4.9760</td>\n",
       "      <td>0.6261</td>\n",
       "      <td>2.3024</td>\n",
       "      <td>NaN</td>\n",
       "      <td>NaN</td>\n",
       "      <td>NaN</td>\n",
       "    </tr>\n",
       "    <tr>\n",
       "      <th>2</th>\n",
       "      <td>Alemania</td>\n",
       "      <td>DEU</td>\n",
       "      <td>Inflación, índice de deflación del PIB (% anual)</td>\n",
       "      <td>NY.GDP.DEFL.KD.ZG</td>\n",
       "      <td>1.2797</td>\n",
       "      <td>1.6905</td>\n",
       "      <td>2.8791</td>\n",
       "      <td>3.3966</td>\n",
       "      <td>3.0851</td>\n",
       "      <td>5.3062</td>\n",
       "      <td>...</td>\n",
       "      <td>1.9594</td>\n",
       "      <td>1.8779</td>\n",
       "      <td>1.8537</td>\n",
       "      <td>1.3278</td>\n",
       "      <td>1.5037</td>\n",
       "      <td>2.0075</td>\n",
       "      <td>2.1244</td>\n",
       "      <td>1.8108</td>\n",
       "      <td>3.0576</td>\n",
       "      <td>5.4828</td>\n",
       "    </tr>\n",
       "    <tr>\n",
       "      <th>3</th>\n",
       "      <td>Alemania</td>\n",
       "      <td>DEU</td>\n",
       "      <td>Inflación, precios al consumidor (% anual)</td>\n",
       "      <td>FP.CPI.TOTL.ZG</td>\n",
       "      <td>0.2499</td>\n",
       "      <td>1.2741</td>\n",
       "      <td>2.7806</td>\n",
       "      <td>2.6965</td>\n",
       "      <td>4.0470</td>\n",
       "      <td>5.0570</td>\n",
       "      <td>...</td>\n",
       "      <td>1.5047</td>\n",
       "      <td>0.9068</td>\n",
       "      <td>0.5144</td>\n",
       "      <td>0.4917</td>\n",
       "      <td>1.5095</td>\n",
       "      <td>1.7322</td>\n",
       "      <td>1.4457</td>\n",
       "      <td>0.1449</td>\n",
       "      <td>3.0667</td>\n",
       "      <td>6.8726</td>\n",
       "    </tr>\n",
       "    <tr>\n",
       "      <th>4</th>\n",
       "      <td>Argelia</td>\n",
       "      <td>DZA</td>\n",
       "      <td>Inflación, índice de deflación del PIB (% anual)</td>\n",
       "      <td>NY.GDP.DEFL.KD.ZG</td>\n",
       "      <td>8.8420</td>\n",
       "      <td>9.0610</td>\n",
       "      <td>16.0114</td>\n",
       "      <td>30.2596</td>\n",
       "      <td>53.7886</td>\n",
       "      <td>21.9261</td>\n",
       "      <td>...</td>\n",
       "      <td>-0.0933</td>\n",
       "      <td>-0.3006</td>\n",
       "      <td>-6.4557</td>\n",
       "      <td>1.5489</td>\n",
       "      <td>6.3907</td>\n",
       "      <td>6.7573</td>\n",
       "      <td>-0.4722</td>\n",
       "      <td>-5.0259</td>\n",
       "      <td>15.5672</td>\n",
       "      <td>19.7109</td>\n",
       "    </tr>\n",
       "  </tbody>\n",
       "</table>\n",
       "<p>5 rows × 40 columns</p>\n",
       "</div>"
      ],
      "text/plain": [
       "         país codigo_pais                                    factor_(serie)  \\\n",
       "0  Afganistán         AFG  Inflación, índice de deflación del PIB (% anual)   \n",
       "1  Afganistán         AFG        Inflación, precios al consumidor (% anual)   \n",
       "2    Alemania         DEU  Inflación, índice de deflación del PIB (% anual)   \n",
       "3    Alemania         DEU        Inflación, precios al consumidor (% anual)   \n",
       "4     Argelia         DZA  Inflación, índice de deflación del PIB (% anual)   \n",
       "\n",
       "        codigo_serie    1987    1988     1989     1990     1991     1992  ...  \\\n",
       "0  NY.GDP.DEFL.KD.ZG     NaN     NaN      NaN      NaN      NaN      NaN  ...   \n",
       "1     FP.CPI.TOTL.ZG     NaN     NaN      NaN      NaN      NaN      NaN  ...   \n",
       "2  NY.GDP.DEFL.KD.ZG  1.2797  1.6905   2.8791   3.3966   3.0851   5.3062  ...   \n",
       "3     FP.CPI.TOTL.ZG  0.2499  1.2741   2.7806   2.6965   4.0470   5.0570  ...   \n",
       "4  NY.GDP.DEFL.KD.ZG  8.8420  9.0610  16.0114  30.2596  53.7886  21.9261  ...   \n",
       "\n",
       "     2013    2014    2015    2016    2017    2018    2019    2020     2021  \\\n",
       "0  4.8228  0.5669  2.4476 -2.1975  2.4037  2.0713  6.5215  7.8217   0.4774   \n",
       "1  7.3858  4.6740 -0.6617  4.3839  4.9760  0.6261  2.3024     NaN      NaN   \n",
       "2  1.9594  1.8779  1.8537  1.3278  1.5037  2.0075  2.1244  1.8108   3.0576   \n",
       "3  1.5047  0.9068  0.5144  0.4917  1.5095  1.7322  1.4457  0.1449   3.0667   \n",
       "4 -0.0933 -0.3006 -6.4557  1.5489  6.3907  6.7573 -0.4722 -5.0259  15.5672   \n",
       "\n",
       "      2022  \n",
       "0      NaN  \n",
       "1      NaN  \n",
       "2   5.4828  \n",
       "3   6.8726  \n",
       "4  19.7109  \n",
       "\n",
       "[5 rows x 40 columns]"
      ]
     },
     "execution_count": 4,
     "metadata": {},
     "output_type": "execute_result"
    }
   ],
   "source": [
    "df.head()"
   ]
  },
  {
   "cell_type": "markdown",
   "metadata": {},
   "source": [
    "Se utiliza .describe() para obtener una visión general de las estadísticas clave de las columnas numéricas en tu conjunto de datos"
   ]
  },
  {
   "cell_type": "code",
   "execution_count": 5,
   "metadata": {},
   "outputs": [
    {
     "data": {
      "text/html": [
       "<div>\n",
       "<style scoped>\n",
       "    .dataframe tbody tr th:only-of-type {\n",
       "        vertical-align: middle;\n",
       "    }\n",
       "\n",
       "    .dataframe tbody tr th {\n",
       "        vertical-align: top;\n",
       "    }\n",
       "\n",
       "    .dataframe thead th {\n",
       "        text-align: right;\n",
       "    }\n",
       "</style>\n",
       "<table border=\"1\" class=\"dataframe\">\n",
       "  <thead>\n",
       "    <tr style=\"text-align: right;\">\n",
       "      <th></th>\n",
       "      <th>1987</th>\n",
       "      <th>1988</th>\n",
       "      <th>1989</th>\n",
       "      <th>1990</th>\n",
       "      <th>1991</th>\n",
       "      <th>1992</th>\n",
       "      <th>1993</th>\n",
       "      <th>1994</th>\n",
       "      <th>1995</th>\n",
       "      <th>1996</th>\n",
       "      <th>1997</th>\n",
       "      <th>1998</th>\n",
       "      <th>1999</th>\n",
       "      <th>2000</th>\n",
       "      <th>2001</th>\n",
       "      <th>2002</th>\n",
       "      <th>2003</th>\n",
       "    </tr>\n",
       "  </thead>\n",
       "  <tbody>\n",
       "    <tr>\n",
       "      <th>count</th>\n",
       "      <td>77.00</td>\n",
       "      <td>77.00</td>\n",
       "      <td>77.00</td>\n",
       "      <td>78.00</td>\n",
       "      <td>78.00</td>\n",
       "      <td>78.00</td>\n",
       "      <td>79.00</td>\n",
       "      <td>79.00</td>\n",
       "      <td>80.00</td>\n",
       "      <td>81.00</td>\n",
       "      <td>81.00</td>\n",
       "      <td>81.00</td>\n",
       "      <td>81.00</td>\n",
       "      <td>81.00</td>\n",
       "      <td>81.00</td>\n",
       "      <td>81.00</td>\n",
       "      <td>82.00</td>\n",
       "    </tr>\n",
       "    <tr>\n",
       "      <th>mean</th>\n",
       "      <td>18.95</td>\n",
       "      <td>32.06</td>\n",
       "      <td>84.77</td>\n",
       "      <td>110.48</td>\n",
       "      <td>25.33</td>\n",
       "      <td>52.49</td>\n",
       "      <td>79.32</td>\n",
       "      <td>73.79</td>\n",
       "      <td>14.89</td>\n",
       "      <td>9.54</td>\n",
       "      <td>5.77</td>\n",
       "      <td>5.09</td>\n",
       "      <td>5.75</td>\n",
       "      <td>5.90</td>\n",
       "      <td>5.33</td>\n",
       "      <td>3.96</td>\n",
       "      <td>4.54</td>\n",
       "    </tr>\n",
       "    <tr>\n",
       "      <th>std</th>\n",
       "      <td>45.25</td>\n",
       "      <td>108.46</td>\n",
       "      <td>405.53</td>\n",
       "      <td>504.13</td>\n",
       "      <td>70.50</td>\n",
       "      <td>224.21</td>\n",
       "      <td>335.27</td>\n",
       "      <td>341.83</td>\n",
       "      <td>30.00</td>\n",
       "      <td>15.82</td>\n",
       "      <td>6.67</td>\n",
       "      <td>7.43</td>\n",
       "      <td>14.55</td>\n",
       "      <td>12.56</td>\n",
       "      <td>9.62</td>\n",
       "      <td>5.88</td>\n",
       "      <td>5.50</td>\n",
       "    </tr>\n",
       "    <tr>\n",
       "      <th>min</th>\n",
       "      <td>-8.70</td>\n",
       "      <td>-11.61</td>\n",
       "      <td>-3.69</td>\n",
       "      <td>-0.78</td>\n",
       "      <td>-7.80</td>\n",
       "      <td>-12.91</td>\n",
       "      <td>-8.43</td>\n",
       "      <td>-0.26</td>\n",
       "      <td>-6.98</td>\n",
       "      <td>-2.67</td>\n",
       "      <td>-1.35</td>\n",
       "      <td>-13.93</td>\n",
       "      <td>-26.30</td>\n",
       "      <td>-7.71</td>\n",
       "      <td>-2.35</td>\n",
       "      <td>-5.23</td>\n",
       "      <td>-1.80</td>\n",
       "    </tr>\n",
       "    <tr>\n",
       "      <th>25%</th>\n",
       "      <td>1.68</td>\n",
       "      <td>2.79</td>\n",
       "      <td>2.92</td>\n",
       "      <td>3.53</td>\n",
       "      <td>3.13</td>\n",
       "      <td>1.86</td>\n",
       "      <td>1.66</td>\n",
       "      <td>1.94</td>\n",
       "      <td>2.14</td>\n",
       "      <td>1.57</td>\n",
       "      <td>1.56</td>\n",
       "      <td>0.92</td>\n",
       "      <td>0.38</td>\n",
       "      <td>1.37</td>\n",
       "      <td>1.66</td>\n",
       "      <td>1.24</td>\n",
       "      <td>1.33</td>\n",
       "    </tr>\n",
       "    <tr>\n",
       "      <th>50%</th>\n",
       "      <td>5.25</td>\n",
       "      <td>6.38</td>\n",
       "      <td>5.76</td>\n",
       "      <td>6.94</td>\n",
       "      <td>5.90</td>\n",
       "      <td>4.97</td>\n",
       "      <td>3.63</td>\n",
       "      <td>6.97</td>\n",
       "      <td>5.52</td>\n",
       "      <td>4.82</td>\n",
       "      <td>2.79</td>\n",
       "      <td>2.57</td>\n",
       "      <td>1.97</td>\n",
       "      <td>3.02</td>\n",
       "      <td>3.25</td>\n",
       "      <td>2.57</td>\n",
       "      <td>2.81</td>\n",
       "    </tr>\n",
       "    <tr>\n",
       "      <th>75%</th>\n",
       "      <td>11.47</td>\n",
       "      <td>13.42</td>\n",
       "      <td>13.79</td>\n",
       "      <td>16.47</td>\n",
       "      <td>18.62</td>\n",
       "      <td>15.35</td>\n",
       "      <td>13.49</td>\n",
       "      <td>22.16</td>\n",
       "      <td>11.46</td>\n",
       "      <td>8.98</td>\n",
       "      <td>7.28</td>\n",
       "      <td>6.93</td>\n",
       "      <td>6.73</td>\n",
       "      <td>5.29</td>\n",
       "      <td>5.01</td>\n",
       "      <td>4.30</td>\n",
       "      <td>6.35</td>\n",
       "    </tr>\n",
       "    <tr>\n",
       "      <th>max</th>\n",
       "      <td>228.34</td>\n",
       "      <td>629.11</td>\n",
       "      <td>3046.09</td>\n",
       "      <td>2947.73</td>\n",
       "      <td>432.79</td>\n",
       "      <td>1490.42</td>\n",
       "      <td>1996.15</td>\n",
       "      <td>2240.17</td>\n",
       "      <td>197.41</td>\n",
       "      <td>115.52</td>\n",
       "      <td>33.95</td>\n",
       "      <td>36.10</td>\n",
       "      <td>85.75</td>\n",
       "      <td>96.10</td>\n",
       "      <td>71.35</td>\n",
       "      <td>33.02</td>\n",
       "      <td>34.93</td>\n",
       "    </tr>\n",
       "  </tbody>\n",
       "</table>\n",
       "</div>"
      ],
      "text/plain": [
       "         1987    1988     1989     1990    1991     1992     1993     1994  \\\n",
       "count   77.00   77.00    77.00    78.00   78.00    78.00    79.00    79.00   \n",
       "mean    18.95   32.06    84.77   110.48   25.33    52.49    79.32    73.79   \n",
       "std     45.25  108.46   405.53   504.13   70.50   224.21   335.27   341.83   \n",
       "min     -8.70  -11.61    -3.69    -0.78   -7.80   -12.91    -8.43    -0.26   \n",
       "25%      1.68    2.79     2.92     3.53    3.13     1.86     1.66     1.94   \n",
       "50%      5.25    6.38     5.76     6.94    5.90     4.97     3.63     6.97   \n",
       "75%     11.47   13.42    13.79    16.47   18.62    15.35    13.49    22.16   \n",
       "max    228.34  629.11  3046.09  2947.73  432.79  1490.42  1996.15  2240.17   \n",
       "\n",
       "         1995    1996   1997   1998   1999   2000   2001   2002   2003  \n",
       "count   80.00   81.00  81.00  81.00  81.00  81.00  81.00  81.00  82.00  \n",
       "mean    14.89    9.54   5.77   5.09   5.75   5.90   5.33   3.96   4.54  \n",
       "std     30.00   15.82   6.67   7.43  14.55  12.56   9.62   5.88   5.50  \n",
       "min     -6.98   -2.67  -1.35 -13.93 -26.30  -7.71  -2.35  -5.23  -1.80  \n",
       "25%      2.14    1.57   1.56   0.92   0.38   1.37   1.66   1.24   1.33  \n",
       "50%      5.52    4.82   2.79   2.57   1.97   3.02   3.25   2.57   2.81  \n",
       "75%     11.46    8.98   7.28   6.93   6.73   5.29   5.01   4.30   6.35  \n",
       "max    197.41  115.52  33.95  36.10  85.75  96.10  71.35  33.02  34.93  "
      ]
     },
     "execution_count": 5,
     "metadata": {},
     "output_type": "execute_result"
    }
   ],
   "source": [
    "columnas = ['1987', '1988', '1989', '1990', '1991', '1992', '1993', '1994', '1995', '1996', '1997', '1998', '1999', '2000', '2001','2002', '2003']\n",
    "descripcion1 = df[columnas].describe().round(2)\n",
    "descripcion1"
   ]
  },
  {
   "cell_type": "markdown",
   "metadata": {},
   "source": [
    "El análisis descriptivo de la serie temporal abarcando desde 1987 hasta 2003 proporciona una visión detallada de la evolución de los datos. La cantidad de observaciones varía a lo largo de los años, oscilando entre 77 y 82. La media exhibe una amplia variabilidad, desde valores bajos como 3.96 en 2003 hasta picos notables como 110.48 en 1990. La desviación estándar, que va desde 5.50 hasta 504.13, sugiere una dispersión significativa en los datos. Los valores mínimos y máximos reflejan la presencia de fluctuaciones extremas, con el mínimo de -26.30 en 1999 y el máximo de 3046.09 en 1989. Los percentiles detallan cómo se distribuyen los datos, resaltando, por ejemplo, que el 25% más bajo de los valores está por debajo de 2.14 y el 50% está por debajo de 5.52. Este análisis revela la complejidad y variabilidad de la serie temporal, destacando años específicos con valores extremos y proporcionando una comprensión integral de la evolución de los datos a lo largo del tiempo."
   ]
  },
  {
   "cell_type": "code",
   "execution_count": 6,
   "metadata": {},
   "outputs": [
    {
     "data": {
      "text/html": [
       "<div>\n",
       "<style scoped>\n",
       "    .dataframe tbody tr th:only-of-type {\n",
       "        vertical-align: middle;\n",
       "    }\n",
       "\n",
       "    .dataframe tbody tr th {\n",
       "        vertical-align: top;\n",
       "    }\n",
       "\n",
       "    .dataframe thead th {\n",
       "        text-align: right;\n",
       "    }\n",
       "</style>\n",
       "<table border=\"1\" class=\"dataframe\">\n",
       "  <thead>\n",
       "    <tr style=\"text-align: right;\">\n",
       "      <th></th>\n",
       "      <th>2004</th>\n",
       "      <th>2005</th>\n",
       "      <th>2006</th>\n",
       "      <th>2007</th>\n",
       "      <th>2008</th>\n",
       "      <th>2009</th>\n",
       "      <th>2010</th>\n",
       "      <th>2011</th>\n",
       "      <th>2012</th>\n",
       "      <th>2013</th>\n",
       "      <th>2014</th>\n",
       "      <th>2015</th>\n",
       "      <th>2016</th>\n",
       "      <th>2017</th>\n",
       "      <th>2018</th>\n",
       "      <th>2019</th>\n",
       "      <th>2020</th>\n",
       "      <th>2021</th>\n",
       "      <th>2022</th>\n",
       "    </tr>\n",
       "  </thead>\n",
       "  <tbody>\n",
       "    <tr>\n",
       "      <th>count</th>\n",
       "      <td>82.00</td>\n",
       "      <td>83.00</td>\n",
       "      <td>83.00</td>\n",
       "      <td>84.00</td>\n",
       "      <td>85.00</td>\n",
       "      <td>86.00</td>\n",
       "      <td>86.00</td>\n",
       "      <td>86.00</td>\n",
       "      <td>86.00</td>\n",
       "      <td>86.00</td>\n",
       "      <td>86.00</td>\n",
       "      <td>85.00</td>\n",
       "      <td>85.00</td>\n",
       "      <td>84.00</td>\n",
       "      <td>84.00</td>\n",
       "      <td>84.00</td>\n",
       "      <td>83.00</td>\n",
       "      <td>83.00</td>\n",
       "      <td>80.00</td>\n",
       "    </tr>\n",
       "    <tr>\n",
       "      <th>mean</th>\n",
       "      <td>5.15</td>\n",
       "      <td>5.81</td>\n",
       "      <td>5.24</td>\n",
       "      <td>5.20</td>\n",
       "      <td>8.24</td>\n",
       "      <td>3.31</td>\n",
       "      <td>4.98</td>\n",
       "      <td>6.32</td>\n",
       "      <td>4.48</td>\n",
       "      <td>3.78</td>\n",
       "      <td>4.16</td>\n",
       "      <td>3.61</td>\n",
       "      <td>5.91</td>\n",
       "      <td>3.95</td>\n",
       "      <td>3.88</td>\n",
       "      <td>2.79</td>\n",
       "      <td>2.40</td>\n",
       "      <td>9.57</td>\n",
       "      <td>8.97</td>\n",
       "    </tr>\n",
       "    <tr>\n",
       "      <th>std</th>\n",
       "      <td>5.77</td>\n",
       "      <td>5.87</td>\n",
       "      <td>4.50</td>\n",
       "      <td>4.38</td>\n",
       "      <td>6.52</td>\n",
       "      <td>6.70</td>\n",
       "      <td>6.98</td>\n",
       "      <td>6.40</td>\n",
       "      <td>4.41</td>\n",
       "      <td>6.44</td>\n",
       "      <td>9.03</td>\n",
       "      <td>14.11</td>\n",
       "      <td>27.84</td>\n",
       "      <td>5.53</td>\n",
       "      <td>5.64</td>\n",
       "      <td>5.87</td>\n",
       "      <td>5.82</td>\n",
       "      <td>44.09</td>\n",
       "      <td>8.75</td>\n",
       "    </tr>\n",
       "    <tr>\n",
       "      <th>min</th>\n",
       "      <td>-5.36</td>\n",
       "      <td>-1.19</td>\n",
       "      <td>-0.86</td>\n",
       "      <td>-8.97</td>\n",
       "      <td>-1.38</td>\n",
       "      <td>-15.71</td>\n",
       "      <td>-5.15</td>\n",
       "      <td>-1.62</td>\n",
       "      <td>-0.76</td>\n",
       "      <td>-4.14</td>\n",
       "      <td>-2.25</td>\n",
       "      <td>-16.58</td>\n",
       "      <td>-5.53</td>\n",
       "      <td>-1.54</td>\n",
       "      <td>-0.64</td>\n",
       "      <td>-3.23</td>\n",
       "      <td>-12.03</td>\n",
       "      <td>-3.45</td>\n",
       "      <td>-5.51</td>\n",
       "    </tr>\n",
       "    <tr>\n",
       "      <th>25%</th>\n",
       "      <td>1.42</td>\n",
       "      <td>1.99</td>\n",
       "      <td>2.18</td>\n",
       "      <td>2.36</td>\n",
       "      <td>3.52</td>\n",
       "      <td>0.35</td>\n",
       "      <td>1.16</td>\n",
       "      <td>2.52</td>\n",
       "      <td>1.58</td>\n",
       "      <td>0.98</td>\n",
       "      <td>0.56</td>\n",
       "      <td>0.37</td>\n",
       "      <td>0.42</td>\n",
       "      <td>1.29</td>\n",
       "      <td>1.61</td>\n",
       "      <td>0.68</td>\n",
       "      <td>0.15</td>\n",
       "      <td>1.90</td>\n",
       "      <td>5.34</td>\n",
       "    </tr>\n",
       "    <tr>\n",
       "      <th>50%</th>\n",
       "      <td>3.15</td>\n",
       "      <td>3.90</td>\n",
       "      <td>3.56</td>\n",
       "      <td>3.82</td>\n",
       "      <td>7.00</td>\n",
       "      <td>1.97</td>\n",
       "      <td>3.16</td>\n",
       "      <td>4.50</td>\n",
       "      <td>3.26</td>\n",
       "      <td>2.29</td>\n",
       "      <td>1.89</td>\n",
       "      <td>1.51</td>\n",
       "      <td>1.73</td>\n",
       "      <td>2.27</td>\n",
       "      <td>2.28</td>\n",
       "      <td>1.88</td>\n",
       "      <td>1.38</td>\n",
       "      <td>3.12</td>\n",
       "      <td>7.08</td>\n",
       "    </tr>\n",
       "    <tr>\n",
       "      <th>75%</th>\n",
       "      <td>7.24</td>\n",
       "      <td>7.58</td>\n",
       "      <td>7.36</td>\n",
       "      <td>7.52</td>\n",
       "      <td>11.31</td>\n",
       "      <td>6.86</td>\n",
       "      <td>6.09</td>\n",
       "      <td>8.26</td>\n",
       "      <td>5.80</td>\n",
       "      <td>5.13</td>\n",
       "      <td>4.50</td>\n",
       "      <td>3.97</td>\n",
       "      <td>4.95</td>\n",
       "      <td>4.48</td>\n",
       "      <td>4.20</td>\n",
       "      <td>3.43</td>\n",
       "      <td>3.42</td>\n",
       "      <td>5.90</td>\n",
       "      <td>9.27</td>\n",
       "    </tr>\n",
       "    <tr>\n",
       "      <th>max</th>\n",
       "      <td>33.95</td>\n",
       "      <td>29.60</td>\n",
       "      <td>23.53</td>\n",
       "      <td>22.53</td>\n",
       "      <td>30.13</td>\n",
       "      <td>27.70</td>\n",
       "      <td>45.94</td>\n",
       "      <td>28.15</td>\n",
       "      <td>22.31</td>\n",
       "      <td>40.64</td>\n",
       "      <td>62.17</td>\n",
       "      <td>121.74</td>\n",
       "      <td>254.95</td>\n",
       "      <td>29.52</td>\n",
       "      <td>42.03</td>\n",
       "      <td>49.20</td>\n",
       "      <td>40.08</td>\n",
       "      <td>401.59</td>\n",
       "      <td>69.68</td>\n",
       "    </tr>\n",
       "  </tbody>\n",
       "</table>\n",
       "</div>"
      ],
      "text/plain": [
       "        2004   2005   2006   2007   2008   2009   2010   2011   2012   2013  \\\n",
       "count  82.00  83.00  83.00  84.00  85.00  86.00  86.00  86.00  86.00  86.00   \n",
       "mean    5.15   5.81   5.24   5.20   8.24   3.31   4.98   6.32   4.48   3.78   \n",
       "std     5.77   5.87   4.50   4.38   6.52   6.70   6.98   6.40   4.41   6.44   \n",
       "min    -5.36  -1.19  -0.86  -8.97  -1.38 -15.71  -5.15  -1.62  -0.76  -4.14   \n",
       "25%     1.42   1.99   2.18   2.36   3.52   0.35   1.16   2.52   1.58   0.98   \n",
       "50%     3.15   3.90   3.56   3.82   7.00   1.97   3.16   4.50   3.26   2.29   \n",
       "75%     7.24   7.58   7.36   7.52  11.31   6.86   6.09   8.26   5.80   5.13   \n",
       "max    33.95  29.60  23.53  22.53  30.13  27.70  45.94  28.15  22.31  40.64   \n",
       "\n",
       "        2014    2015    2016   2017   2018   2019   2020    2021   2022  \n",
       "count  86.00   85.00   85.00  84.00  84.00  84.00  83.00   83.00  80.00  \n",
       "mean    4.16    3.61    5.91   3.95   3.88   2.79   2.40    9.57   8.97  \n",
       "std     9.03   14.11   27.84   5.53   5.64   5.87   5.82   44.09   8.75  \n",
       "min    -2.25  -16.58   -5.53  -1.54  -0.64  -3.23 -12.03   -3.45  -5.51  \n",
       "25%     0.56    0.37    0.42   1.29   1.61   0.68   0.15    1.90   5.34  \n",
       "50%     1.89    1.51    1.73   2.27   2.28   1.88   1.38    3.12   7.08  \n",
       "75%     4.50    3.97    4.95   4.48   4.20   3.43   3.42    5.90   9.27  \n",
       "max    62.17  121.74  254.95  29.52  42.03  49.20  40.08  401.59  69.68  "
      ]
     },
     "execution_count": 6,
     "metadata": {},
     "output_type": "execute_result"
    }
   ],
   "source": [
    "columnas = ['2004', '2005', '2006', '2007', '2008', '2009', '2010', '2011', '2012', '2013', '2014', '2015', '2016', '2017', '2018', '2019', '2020', '2021', '2022']\n",
    "descripcion2 = df[columnas].describe().round(2)\n",
    "descripcion2"
   ]
  },
  {
   "cell_type": "markdown",
   "metadata": {},
   "source": [
    "El análisis descriptivo de la serie temporal desde 2004 hasta 2022 proporciona una visión detallada de la evolución de los datos en este período. La cantidad de observaciones varía a lo largo de los años, oscilando entre 80 y 86. La media exhibe cierta variabilidad, con valores más altos en 2008 (8.24) y 2015 (5.91), mientras que los años 2019 y 2020 muestran medias más bajas de 2.40 y 2.79, respectivamente. La desviación estándar, que varía entre 4.41 y 44.09, sugiere una dispersión significativa en los datos durante estos años. Los valores mínimos y máximos reflejan la presencia de fluctuaciones extremas, con el mínimo de -16.58 en 2008 y el máximo de 401.59 en 2021. Los percentiles detallan cómo se distribuyen los datos, resaltando, por ejemplo, que el 25% más bajo de los valores está por debajo de 1.58 y el 50% está por debajo de 3.26. Este análisis revela la complejidad y variabilidad de la serie temporal, destacando años específicos con valores extremos y proporcionando una comprensión integral de la evolución de los datos en el período más reciente."
   ]
  },
  {
   "cell_type": "markdown",
   "metadata": {},
   "source": [
    "Para conocer si tenemos valores faltantes en las columnas de ['país'] ['codigo_pais'] ['factor_(serie)'] ['codigo_serie']"
   ]
  },
  {
   "cell_type": "code",
   "execution_count": 7,
   "metadata": {},
   "outputs": [
    {
     "name": "stdout",
     "output_type": "stream",
     "text": [
      "0\n",
      "0\n",
      "0\n",
      "0\n"
     ]
    }
   ],
   "source": [
    "print(df['país'].isna().sum())\n",
    "print(df['codigo_pais'].isna().sum())\n",
    "print(df['factor_(serie)'].isna().sum())\n",
    "print(df['codigo_serie'].isna().sum())\n"
   ]
  },
  {
   "cell_type": "markdown",
   "metadata": {},
   "source": [
    "Veamos en que países se encuentran en estudio."
   ]
  },
  {
   "cell_type": "code",
   "execution_count": 8,
   "metadata": {},
   "outputs": [
    {
     "name": "stdout",
     "output_type": "stream",
     "text": [
      "Cantidad de paises en estudio: 44\n"
     ]
    },
    {
     "data": {
      "text/html": [
       "<div>\n",
       "<style scoped>\n",
       "    .dataframe tbody tr th:only-of-type {\n",
       "        vertical-align: middle;\n",
       "    }\n",
       "\n",
       "    .dataframe tbody tr th {\n",
       "        vertical-align: top;\n",
       "    }\n",
       "\n",
       "    .dataframe thead th {\n",
       "        text-align: right;\n",
       "    }\n",
       "</style>\n",
       "<table border=\"1\" class=\"dataframe\">\n",
       "  <thead>\n",
       "    <tr style=\"text-align: right;\">\n",
       "      <th></th>\n",
       "      <th>Países</th>\n",
       "    </tr>\n",
       "  </thead>\n",
       "  <tbody>\n",
       "    <tr>\n",
       "      <th>0</th>\n",
       "      <td>Afganistán</td>\n",
       "    </tr>\n",
       "    <tr>\n",
       "      <th>1</th>\n",
       "      <td>Alemania</td>\n",
       "    </tr>\n",
       "    <tr>\n",
       "      <th>2</th>\n",
       "      <td>Argelia</td>\n",
       "    </tr>\n",
       "    <tr>\n",
       "      <th>3</th>\n",
       "      <td>Arabia Saudita</td>\n",
       "    </tr>\n",
       "    <tr>\n",
       "      <th>4</th>\n",
       "      <td>Argentina</td>\n",
       "    </tr>\n",
       "    <tr>\n",
       "      <th>5</th>\n",
       "      <td>Australia</td>\n",
       "    </tr>\n",
       "    <tr>\n",
       "      <th>6</th>\n",
       "      <td>Austria</td>\n",
       "    </tr>\n",
       "    <tr>\n",
       "      <th>7</th>\n",
       "      <td>Brasil</td>\n",
       "    </tr>\n",
       "    <tr>\n",
       "      <th>8</th>\n",
       "      <td>Burkina Faso</td>\n",
       "    </tr>\n",
       "    <tr>\n",
       "      <th>9</th>\n",
       "      <td>China</td>\n",
       "    </tr>\n",
       "    <tr>\n",
       "      <th>10</th>\n",
       "      <td>Canadá</td>\n",
       "    </tr>\n",
       "    <tr>\n",
       "      <th>11</th>\n",
       "      <td>Camboya</td>\n",
       "    </tr>\n",
       "    <tr>\n",
       "      <th>12</th>\n",
       "      <td>Chad</td>\n",
       "    </tr>\n",
       "    <tr>\n",
       "      <th>13</th>\n",
       "      <td>Dinamarca</td>\n",
       "    </tr>\n",
       "    <tr>\n",
       "      <th>14</th>\n",
       "      <td>Ecuador</td>\n",
       "    </tr>\n",
       "    <tr>\n",
       "      <th>15</th>\n",
       "      <td>Emiratos Árabes Unidos</td>\n",
       "    </tr>\n",
       "    <tr>\n",
       "      <th>16</th>\n",
       "      <td>Egipto, República Árabe de</td>\n",
       "    </tr>\n",
       "    <tr>\n",
       "      <th>17</th>\n",
       "      <td>Cuba</td>\n",
       "    </tr>\n",
       "    <tr>\n",
       "      <th>18</th>\n",
       "      <td>Costa Rica</td>\n",
       "    </tr>\n",
       "    <tr>\n",
       "      <th>19</th>\n",
       "      <td>Estados Unidos</td>\n",
       "    </tr>\n",
       "    <tr>\n",
       "      <th>20</th>\n",
       "      <td>España</td>\n",
       "    </tr>\n",
       "    <tr>\n",
       "      <th>21</th>\n",
       "      <td>Fiji</td>\n",
       "    </tr>\n",
       "    <tr>\n",
       "      <th>22</th>\n",
       "      <td>Finlandia</td>\n",
       "    </tr>\n",
       "    <tr>\n",
       "      <th>23</th>\n",
       "      <td>Federación de Rusia</td>\n",
       "    </tr>\n",
       "    <tr>\n",
       "      <th>24</th>\n",
       "      <td>Grecia</td>\n",
       "    </tr>\n",
       "    <tr>\n",
       "      <th>25</th>\n",
       "      <td>India</td>\n",
       "    </tr>\n",
       "    <tr>\n",
       "      <th>26</th>\n",
       "      <td>Marruecos</td>\n",
       "    </tr>\n",
       "    <tr>\n",
       "      <th>27</th>\n",
       "      <td>México</td>\n",
       "    </tr>\n",
       "    <tr>\n",
       "      <th>28</th>\n",
       "      <td>Nepal</td>\n",
       "    </tr>\n",
       "    <tr>\n",
       "      <th>29</th>\n",
       "      <td>Níger</td>\n",
       "    </tr>\n",
       "    <tr>\n",
       "      <th>30</th>\n",
       "      <td>Países Bajos</td>\n",
       "    </tr>\n",
       "    <tr>\n",
       "      <th>31</th>\n",
       "      <td>Nueva Zelandia</td>\n",
       "    </tr>\n",
       "    <tr>\n",
       "      <th>32</th>\n",
       "      <td>Reino Unido</td>\n",
       "    </tr>\n",
       "    <tr>\n",
       "      <th>33</th>\n",
       "      <td>Rwanda</td>\n",
       "    </tr>\n",
       "    <tr>\n",
       "      <th>34</th>\n",
       "      <td>Samoa</td>\n",
       "    </tr>\n",
       "    <tr>\n",
       "      <th>35</th>\n",
       "      <td>Sierra Leona</td>\n",
       "    </tr>\n",
       "    <tr>\n",
       "      <th>36</th>\n",
       "      <td>Sudáfrica</td>\n",
       "    </tr>\n",
       "    <tr>\n",
       "      <th>37</th>\n",
       "      <td>Singapur</td>\n",
       "    </tr>\n",
       "    <tr>\n",
       "      <th>38</th>\n",
       "      <td>Suiza</td>\n",
       "    </tr>\n",
       "    <tr>\n",
       "      <th>39</th>\n",
       "      <td>Venezuela</td>\n",
       "    </tr>\n",
       "    <tr>\n",
       "      <th>40</th>\n",
       "      <td>Colombia</td>\n",
       "    </tr>\n",
       "    <tr>\n",
       "      <th>41</th>\n",
       "      <td>Japón</td>\n",
       "    </tr>\n",
       "    <tr>\n",
       "      <th>42</th>\n",
       "      <td>Kenya</td>\n",
       "    </tr>\n",
       "    <tr>\n",
       "      <th>43</th>\n",
       "      <td>Noruega</td>\n",
       "    </tr>\n",
       "  </tbody>\n",
       "</table>\n",
       "</div>"
      ],
      "text/plain": [
       "                        Países\n",
       "0                   Afganistán\n",
       "1                     Alemania\n",
       "2                      Argelia\n",
       "3               Arabia Saudita\n",
       "4                    Argentina\n",
       "5                    Australia\n",
       "6                      Austria\n",
       "7                       Brasil\n",
       "8                 Burkina Faso\n",
       "9                        China\n",
       "10                      Canadá\n",
       "11                     Camboya\n",
       "12                        Chad\n",
       "13                   Dinamarca\n",
       "14                     Ecuador\n",
       "15      Emiratos Árabes Unidos\n",
       "16  Egipto, República Árabe de\n",
       "17                        Cuba\n",
       "18                  Costa Rica\n",
       "19              Estados Unidos\n",
       "20                      España\n",
       "21                        Fiji\n",
       "22                   Finlandia\n",
       "23         Federación de Rusia\n",
       "24                      Grecia\n",
       "25                       India\n",
       "26                   Marruecos\n",
       "27                      México\n",
       "28                       Nepal\n",
       "29                       Níger\n",
       "30                Países Bajos\n",
       "31              Nueva Zelandia\n",
       "32                 Reino Unido\n",
       "33                      Rwanda\n",
       "34                       Samoa\n",
       "35                Sierra Leona\n",
       "36                   Sudáfrica\n",
       "37                    Singapur\n",
       "38                       Suiza\n",
       "39                   Venezuela\n",
       "40                    Colombia\n",
       "41                       Japón\n",
       "42                       Kenya\n",
       "43                     Noruega"
      ]
     },
     "execution_count": 8,
     "metadata": {},
     "output_type": "execute_result"
    }
   ],
   "source": [
    "cantidad_paises = len(df['país'].unique())\n",
    "print('Cantidad de paises en estudio:',cantidad_paises)\n",
    "pd.DataFrame(df['país'].unique(), columns=['Países'])"
   ]
  },
  {
   "cell_type": "code",
   "execution_count": 9,
   "metadata": {},
   "outputs": [],
   "source": [
    "df['país'] = df['país'].replace('Egipto, República Árabe de', 'Egipto')\n",
    "df['país'] = df['país'].replace('Federación de Rusia', 'Rusia')"
   ]
  },
  {
   "cell_type": "markdown",
   "metadata": {},
   "source": [
    "Veamos Variables se estudia"
   ]
  },
  {
   "cell_type": "code",
   "execution_count": 10,
   "metadata": {},
   "outputs": [
    {
     "name": "stdout",
     "output_type": "stream",
     "text": [
      "Cantidad de variables estudio: 2\n",
      "['Inflación, índice de deflación del PIB (% anual)'\n",
      " 'Inflación, precios al consumidor (% anual)']\n"
     ]
    }
   ],
   "source": [
    "cantidad_series = len(df['factor_(serie)'].unique())\n",
    "print('Cantidad de variables estudio:',cantidad_series)\n",
    "serie_unicos = df['factor_(serie)'].unique()\n",
    "print(serie_unicos)"
   ]
  },
  {
   "cell_type": "code",
   "execution_count": 11,
   "metadata": {},
   "outputs": [
    {
     "data": {
      "text/html": [
       "<div>\n",
       "<style scoped>\n",
       "    .dataframe tbody tr th:only-of-type {\n",
       "        vertical-align: middle;\n",
       "    }\n",
       "\n",
       "    .dataframe tbody tr th {\n",
       "        vertical-align: top;\n",
       "    }\n",
       "\n",
       "    .dataframe thead th {\n",
       "        text-align: right;\n",
       "    }\n",
       "</style>\n",
       "<table border=\"1\" class=\"dataframe\">\n",
       "  <thead>\n",
       "    <tr style=\"text-align: right;\">\n",
       "      <th></th>\n",
       "      <th>país</th>\n",
       "      <th>codigo_pais</th>\n",
       "      <th>factor_(serie)</th>\n",
       "      <th>codigo_serie</th>\n",
       "      <th>1987</th>\n",
       "      <th>1988</th>\n",
       "      <th>1989</th>\n",
       "      <th>1990</th>\n",
       "      <th>1991</th>\n",
       "      <th>1992</th>\n",
       "      <th>...</th>\n",
       "      <th>2013</th>\n",
       "      <th>2014</th>\n",
       "      <th>2015</th>\n",
       "      <th>2016</th>\n",
       "      <th>2017</th>\n",
       "      <th>2018</th>\n",
       "      <th>2019</th>\n",
       "      <th>2020</th>\n",
       "      <th>2021</th>\n",
       "      <th>2022</th>\n",
       "    </tr>\n",
       "  </thead>\n",
       "  <tbody>\n",
       "    <tr>\n",
       "      <th>8</th>\n",
       "      <td>Argentina</td>\n",
       "      <td>ARG</td>\n",
       "      <td>Inflación, índice de deflación del PIB (% anual)</td>\n",
       "      <td>NY.GDP.DEFL.KD.ZG</td>\n",
       "      <td>127.5399</td>\n",
       "      <td>381.2463</td>\n",
       "      <td>3046.0912</td>\n",
       "      <td>2078.3168</td>\n",
       "      <td>140.5024</td>\n",
       "      <td>16.0720</td>\n",
       "      <td>...</td>\n",
       "      <td>23.9488</td>\n",
       "      <td>40.2830</td>\n",
       "      <td>26.5800</td>\n",
       "      <td>41.1194</td>\n",
       "      <td>26.0064</td>\n",
       "      <td>42.0337</td>\n",
       "      <td>49.1956</td>\n",
       "      <td>40.0769</td>\n",
       "      <td>54.1524</td>\n",
       "      <td>69.6829</td>\n",
       "    </tr>\n",
       "    <tr>\n",
       "      <th>9</th>\n",
       "      <td>Argentina</td>\n",
       "      <td>ARG</td>\n",
       "      <td>Inflación, precios al consumidor (% anual)</td>\n",
       "      <td>FP.CPI.TOTL.ZG</td>\n",
       "      <td>NaN</td>\n",
       "      <td>NaN</td>\n",
       "      <td>NaN</td>\n",
       "      <td>NaN</td>\n",
       "      <td>NaN</td>\n",
       "      <td>NaN</td>\n",
       "      <td>...</td>\n",
       "      <td>NaN</td>\n",
       "      <td>NaN</td>\n",
       "      <td>NaN</td>\n",
       "      <td>NaN</td>\n",
       "      <td>NaN</td>\n",
       "      <td>NaN</td>\n",
       "      <td>NaN</td>\n",
       "      <td>NaN</td>\n",
       "      <td>NaN</td>\n",
       "      <td>NaN</td>\n",
       "    </tr>\n",
       "    <tr>\n",
       "      <th>34</th>\n",
       "      <td>Cuba</td>\n",
       "      <td>CUB</td>\n",
       "      <td>Inflación, índice de deflación del PIB (% anual)</td>\n",
       "      <td>NY.GDP.DEFL.KD.ZG</td>\n",
       "      <td>0.6105</td>\n",
       "      <td>1.2332</td>\n",
       "      <td>0.6248</td>\n",
       "      <td>5.2613</td>\n",
       "      <td>-7.3878</td>\n",
       "      <td>3.7457</td>\n",
       "      <td>...</td>\n",
       "      <td>2.6578</td>\n",
       "      <td>3.4632</td>\n",
       "      <td>3.4396</td>\n",
       "      <td>4.3267</td>\n",
       "      <td>4.1152</td>\n",
       "      <td>1.0313</td>\n",
       "      <td>3.5470</td>\n",
       "      <td>16.5548</td>\n",
       "      <td>401.5883</td>\n",
       "      <td>NaN</td>\n",
       "    </tr>\n",
       "    <tr>\n",
       "      <th>35</th>\n",
       "      <td>Cuba</td>\n",
       "      <td>CUB</td>\n",
       "      <td>Inflación, precios al consumidor (% anual)</td>\n",
       "      <td>FP.CPI.TOTL.ZG</td>\n",
       "      <td>NaN</td>\n",
       "      <td>NaN</td>\n",
       "      <td>NaN</td>\n",
       "      <td>NaN</td>\n",
       "      <td>NaN</td>\n",
       "      <td>NaN</td>\n",
       "      <td>...</td>\n",
       "      <td>NaN</td>\n",
       "      <td>NaN</td>\n",
       "      <td>NaN</td>\n",
       "      <td>NaN</td>\n",
       "      <td>NaN</td>\n",
       "      <td>NaN</td>\n",
       "      <td>NaN</td>\n",
       "      <td>NaN</td>\n",
       "      <td>NaN</td>\n",
       "      <td>NaN</td>\n",
       "    </tr>\n",
       "  </tbody>\n",
       "</table>\n",
       "<p>4 rows × 40 columns</p>\n",
       "</div>"
      ],
      "text/plain": [
       "         país codigo_pais                                    factor_(serie)  \\\n",
       "8   Argentina         ARG  Inflación, índice de deflación del PIB (% anual)   \n",
       "9   Argentina         ARG        Inflación, precios al consumidor (% anual)   \n",
       "34       Cuba         CUB  Inflación, índice de deflación del PIB (% anual)   \n",
       "35       Cuba         CUB        Inflación, precios al consumidor (% anual)   \n",
       "\n",
       "         codigo_serie      1987      1988       1989       1990      1991  \\\n",
       "8   NY.GDP.DEFL.KD.ZG  127.5399  381.2463  3046.0912  2078.3168  140.5024   \n",
       "9      FP.CPI.TOTL.ZG       NaN       NaN        NaN        NaN       NaN   \n",
       "34  NY.GDP.DEFL.KD.ZG    0.6105    1.2332     0.6248     5.2613   -7.3878   \n",
       "35     FP.CPI.TOTL.ZG       NaN       NaN        NaN        NaN       NaN   \n",
       "\n",
       "       1992  ...     2013     2014     2015     2016     2017     2018  \\\n",
       "8   16.0720  ...  23.9488  40.2830  26.5800  41.1194  26.0064  42.0337   \n",
       "9       NaN  ...      NaN      NaN      NaN      NaN      NaN      NaN   \n",
       "34   3.7457  ...   2.6578   3.4632   3.4396   4.3267   4.1152   1.0313   \n",
       "35      NaN  ...      NaN      NaN      NaN      NaN      NaN      NaN   \n",
       "\n",
       "       2019     2020      2021     2022  \n",
       "8   49.1956  40.0769   54.1524  69.6829  \n",
       "9       NaN      NaN       NaN      NaN  \n",
       "34   3.5470  16.5548  401.5883      NaN  \n",
       "35      NaN      NaN       NaN      NaN  \n",
       "\n",
       "[4 rows x 40 columns]"
      ]
     },
     "execution_count": 11,
     "metadata": {},
     "output_type": "execute_result"
    }
   ],
   "source": [
    "df[(df['país'] == 'Argentina') | (df['país'] == 'Cuba')]\n"
   ]
  },
  {
   "cell_type": "markdown",
   "metadata": {},
   "source": [
    "Inflación, precios al consumidor (% anual) Cuba y Argentina 0 datos "
   ]
  },
  {
   "cell_type": "code",
   "execution_count": 12,
   "metadata": {},
   "outputs": [],
   "source": [
    "# Eliminar columnas específicas por nombre\n",
    "columnas_a_eliminar = ['codigo_pais', 'codigo_serie']  # Lista con los nombres de las columnas a eliminar\n",
    "df = df.drop(columnas_a_eliminar, axis=1)"
   ]
  },
  {
   "cell_type": "code",
   "execution_count": 13,
   "metadata": {},
   "outputs": [
    {
     "data": {
      "text/html": [
       "<div>\n",
       "<style scoped>\n",
       "    .dataframe tbody tr th:only-of-type {\n",
       "        vertical-align: middle;\n",
       "    }\n",
       "\n",
       "    .dataframe tbody tr th {\n",
       "        vertical-align: top;\n",
       "    }\n",
       "\n",
       "    .dataframe thead th {\n",
       "        text-align: right;\n",
       "    }\n",
       "</style>\n",
       "<table border=\"1\" class=\"dataframe\">\n",
       "  <thead>\n",
       "    <tr style=\"text-align: right;\">\n",
       "      <th></th>\n",
       "      <th>país</th>\n",
       "      <th>factor_(serie)</th>\n",
       "      <th>Año</th>\n",
       "      <th>Valor</th>\n",
       "    </tr>\n",
       "  </thead>\n",
       "  <tbody>\n",
       "    <tr>\n",
       "      <th>0</th>\n",
       "      <td>Afganistán</td>\n",
       "      <td>Inflación, índice de deflación del PIB (% anual)</td>\n",
       "      <td>1987</td>\n",
       "      <td>NaN</td>\n",
       "    </tr>\n",
       "    <tr>\n",
       "      <th>1</th>\n",
       "      <td>Afganistán</td>\n",
       "      <td>Inflación, precios al consumidor (% anual)</td>\n",
       "      <td>1987</td>\n",
       "      <td>NaN</td>\n",
       "    </tr>\n",
       "    <tr>\n",
       "      <th>2</th>\n",
       "      <td>Alemania</td>\n",
       "      <td>Inflación, índice de deflación del PIB (% anual)</td>\n",
       "      <td>1987</td>\n",
       "      <td>1.2797</td>\n",
       "    </tr>\n",
       "    <tr>\n",
       "      <th>3</th>\n",
       "      <td>Alemania</td>\n",
       "      <td>Inflación, precios al consumidor (% anual)</td>\n",
       "      <td>1987</td>\n",
       "      <td>0.2499</td>\n",
       "    </tr>\n",
       "    <tr>\n",
       "      <th>4</th>\n",
       "      <td>Argelia</td>\n",
       "      <td>Inflación, índice de deflación del PIB (% anual)</td>\n",
       "      <td>1987</td>\n",
       "      <td>8.8420</td>\n",
       "    </tr>\n",
       "    <tr>\n",
       "      <th>...</th>\n",
       "      <td>...</td>\n",
       "      <td>...</td>\n",
       "      <td>...</td>\n",
       "      <td>...</td>\n",
       "    </tr>\n",
       "    <tr>\n",
       "      <th>3163</th>\n",
       "      <td>Japón</td>\n",
       "      <td>Inflación, precios al consumidor (% anual)</td>\n",
       "      <td>2022</td>\n",
       "      <td>2.4977</td>\n",
       "    </tr>\n",
       "    <tr>\n",
       "      <th>3164</th>\n",
       "      <td>Kenya</td>\n",
       "      <td>Inflación, índice de deflación del PIB (% anual)</td>\n",
       "      <td>2022</td>\n",
       "      <td>6.0088</td>\n",
       "    </tr>\n",
       "    <tr>\n",
       "      <th>3165</th>\n",
       "      <td>Kenya</td>\n",
       "      <td>Inflación, precios al consumidor (% anual)</td>\n",
       "      <td>2022</td>\n",
       "      <td>7.6569</td>\n",
       "    </tr>\n",
       "    <tr>\n",
       "      <th>3166</th>\n",
       "      <td>Noruega</td>\n",
       "      <td>Inflación, índice de deflación del PIB (% anual)</td>\n",
       "      <td>2022</td>\n",
       "      <td>28.0333</td>\n",
       "    </tr>\n",
       "    <tr>\n",
       "      <th>3167</th>\n",
       "      <td>Noruega</td>\n",
       "      <td>Inflación, precios al consumidor (% anual)</td>\n",
       "      <td>2022</td>\n",
       "      <td>5.7641</td>\n",
       "    </tr>\n",
       "  </tbody>\n",
       "</table>\n",
       "<p>3168 rows × 4 columns</p>\n",
       "</div>"
      ],
      "text/plain": [
       "            país                                    factor_(serie)   Año  \\\n",
       "0     Afganistán  Inflación, índice de deflación del PIB (% anual)  1987   \n",
       "1     Afganistán        Inflación, precios al consumidor (% anual)  1987   \n",
       "2       Alemania  Inflación, índice de deflación del PIB (% anual)  1987   \n",
       "3       Alemania        Inflación, precios al consumidor (% anual)  1987   \n",
       "4        Argelia  Inflación, índice de deflación del PIB (% anual)  1987   \n",
       "...          ...                                               ...   ...   \n",
       "3163       Japón        Inflación, precios al consumidor (% anual)  2022   \n",
       "3164       Kenya  Inflación, índice de deflación del PIB (% anual)  2022   \n",
       "3165       Kenya        Inflación, precios al consumidor (% anual)  2022   \n",
       "3166     Noruega  Inflación, índice de deflación del PIB (% anual)  2022   \n",
       "3167     Noruega        Inflación, precios al consumidor (% anual)  2022   \n",
       "\n",
       "        Valor  \n",
       "0         NaN  \n",
       "1         NaN  \n",
       "2      1.2797  \n",
       "3      0.2499  \n",
       "4      8.8420  \n",
       "...       ...  \n",
       "3163   2.4977  \n",
       "3164   6.0088  \n",
       "3165   7.6569  \n",
       "3166  28.0333  \n",
       "3167   5.7641  \n",
       "\n",
       "[3168 rows x 4 columns]"
      ]
     },
     "execution_count": 13,
     "metadata": {},
     "output_type": "execute_result"
    }
   ],
   "source": [
    "# Reorganizar los datos para tener 'factor_(serie)' como índice y los años como valores en una sola columna\n",
    "df_reorganizado = df.melt(id_vars=['país', 'factor_(serie)'], var_name='Año', value_name='Valor')\n",
    "\n",
    "# Mostrar el DataFrame reorganizado\n",
    "df_reorganizado"
   ]
  },
  {
   "cell_type": "code",
   "execution_count": 14,
   "metadata": {},
   "outputs": [
    {
     "data": {
      "text/plain": [
       "count    2953.000000\n",
       "mean       17.055862\n",
       "std       139.834476\n",
       "min       -26.300000\n",
       "25%         1.481400\n",
       "50%         3.353100\n",
       "75%         7.620800\n",
       "max      3046.091200\n",
       "Name: Valor, dtype: float64"
      ]
     },
     "execution_count": 14,
     "metadata": {},
     "output_type": "execute_result"
    }
   ],
   "source": [
    "df_reorganizado['Valor'].describe()"
   ]
  },
  {
   "cell_type": "code",
   "execution_count": 15,
   "metadata": {},
   "outputs": [
    {
     "name": "stdout",
     "output_type": "stream",
     "text": [
      "Inflación, índice de deflación del PIB (% anual)    1584\n",
      "Inflación, precios al consumidor (% anual)          1584\n",
      "Name: factor_(serie), dtype: int64\n"
     ]
    }
   ],
   "source": [
    "repetitions = df_reorganizado['factor_(serie)'].value_counts()\n",
    "print(repetitions)"
   ]
  },
  {
   "cell_type": "code",
   "execution_count": 16,
   "metadata": {},
   "outputs": [
    {
     "name": "stdout",
     "output_type": "stream",
     "text": [
      "Descripción para el factor 'Inflación, índice de deflación del PIB (% anual)':\n",
      "count    1548.000000\n",
      "mean       19.449905\n",
      "std       153.708483\n",
      "min       -26.300000\n",
      "25%         1.445925\n",
      "50%         3.622000\n",
      "75%         8.145500\n",
      "max      3046.091200\n",
      "Name: Valor, dtype: float64\n",
      "\n",
      "Descripción para el factor 'Inflación, precios al consumidor (% anual)':\n",
      "count    1405.000000\n",
      "mean       14.418154\n",
      "std       122.747322\n",
      "min        -8.974700\n",
      "25%         1.520400\n",
      "50%         3.151200\n",
      "75%         6.802800\n",
      "max      2947.732800\n",
      "Name: Valor, dtype: float64\n",
      "\n"
     ]
    }
   ],
   "source": [
    "unique_factors = df_reorganizado['factor_(serie)'].unique()\n",
    "\n",
    "for factor in unique_factors:\n",
    "    filtered_data = df_reorganizado[df_reorganizado['factor_(serie)'] == factor]\n",
    "    description = filtered_data['Valor'].describe()\n",
    "    print(f\"Descripción para el factor '{factor}':\\n{description}\\n\")"
   ]
  },
  {
   "cell_type": "markdown",
   "metadata": {},
   "source": [
    "Inflación, índice de deflación del PIB (% anual):\n",
    "El factor \"Inflación, índice de deflación del PIB (% anual)\" abarca un total de 1548 observaciones. La media de este indicador se sitúa en un 19.45%, destacando una marcada variabilidad, indicada por la desviación estándar de 153.71. La distribución muestra un valor mínimo de -26.30% y un valor máximo significativamente alto de 3046.09%. Este amplio rango, evidenciado por los percentiles que van desde 1.45% hasta 8.15%, revela la presencia de valores extremos que afectan notablemente la media. La interpretación de este factor requeriría una atención especial a los valores atípicos que podrían influir en la percepción general de la inflación.\n",
    "\n",
    "Inflación, precios al consumidor (% anual):\n",
    "En cuanto al factor \"Inflación, precios al consumidor (% anual)\", se registran 1405 observaciones. La media para este indicador es del 14.42%, con una desviación estándar de 122.75, indicando nuevamente una variabilidad considerable. El valor mínimo es de -8.97%, y el valor máximo alcanza los 2947.73%. Los percentiles revelan que la mayoría de las observaciones se sitúan entre el 1.52% y el 6.80%. Al igual que en el factor anterior, se observa una influencia significativa de valores extremos, lo que enfatiza la necesidad de un análisis más profundo para comprender la verdadera dinámica de la inflación en este contexto."
   ]
  },
  {
   "cell_type": "code",
   "execution_count": null,
   "metadata": {},
   "outputs": [],
   "source": []
  },
  {
   "cell_type": "code",
   "execution_count": 17,
   "metadata": {},
   "outputs": [],
   "source": [
    "def fill_missing_with_country_factor_mean(df):\n",
    "    means_by_country_factor = df.groupby(['país', 'factor_(serie)'])['Valor'].transform('mean')\n",
    "    df['Valor'] = df['Valor'].fillna(means_by_country_factor)\n",
    "    return df\n",
    "\n",
    "# Llamada a la función para rellenar los valores faltantes con la media por país y factor\n",
    "df_filled = fill_missing_with_country_factor_mean(df_reorganizado)"
   ]
  },
  {
   "cell_type": "code",
   "execution_count": 18,
   "metadata": {},
   "outputs": [
    {
     "data": {
      "text/html": [
       "<div>\n",
       "<style scoped>\n",
       "    .dataframe tbody tr th:only-of-type {\n",
       "        vertical-align: middle;\n",
       "    }\n",
       "\n",
       "    .dataframe tbody tr th {\n",
       "        vertical-align: top;\n",
       "    }\n",
       "\n",
       "    .dataframe thead th {\n",
       "        text-align: right;\n",
       "    }\n",
       "</style>\n",
       "<table border=\"1\" class=\"dataframe\">\n",
       "  <thead>\n",
       "    <tr style=\"text-align: right;\">\n",
       "      <th></th>\n",
       "      <th>país</th>\n",
       "      <th>factor_(serie)</th>\n",
       "      <th>Año</th>\n",
       "      <th>Valor</th>\n",
       "    </tr>\n",
       "  </thead>\n",
       "  <tbody>\n",
       "    <tr>\n",
       "      <th>0</th>\n",
       "      <td>Afganistán</td>\n",
       "      <td>Inflación, índice de deflación del PIB (% anual)</td>\n",
       "      <td>1987</td>\n",
       "      <td>6.112895</td>\n",
       "    </tr>\n",
       "    <tr>\n",
       "      <th>1</th>\n",
       "      <td>Afganistán</td>\n",
       "      <td>Inflación, precios al consumidor (% anual)</td>\n",
       "      <td>1987</td>\n",
       "      <td>6.124627</td>\n",
       "    </tr>\n",
       "    <tr>\n",
       "      <th>2</th>\n",
       "      <td>Alemania</td>\n",
       "      <td>Inflación, índice de deflación del PIB (% anual)</td>\n",
       "      <td>1987</td>\n",
       "      <td>1.279700</td>\n",
       "    </tr>\n",
       "    <tr>\n",
       "      <th>3</th>\n",
       "      <td>Alemania</td>\n",
       "      <td>Inflación, precios al consumidor (% anual)</td>\n",
       "      <td>1987</td>\n",
       "      <td>0.249900</td>\n",
       "    </tr>\n",
       "    <tr>\n",
       "      <th>4</th>\n",
       "      <td>Argelia</td>\n",
       "      <td>Inflación, índice de deflación del PIB (% anual)</td>\n",
       "      <td>1987</td>\n",
       "      <td>8.842000</td>\n",
       "    </tr>\n",
       "    <tr>\n",
       "      <th>...</th>\n",
       "      <td>...</td>\n",
       "      <td>...</td>\n",
       "      <td>...</td>\n",
       "      <td>...</td>\n",
       "    </tr>\n",
       "    <tr>\n",
       "      <th>3163</th>\n",
       "      <td>Japón</td>\n",
       "      <td>Inflación, precios al consumidor (% anual)</td>\n",
       "      <td>2022</td>\n",
       "      <td>2.497700</td>\n",
       "    </tr>\n",
       "    <tr>\n",
       "      <th>3164</th>\n",
       "      <td>Kenya</td>\n",
       "      <td>Inflación, índice de deflación del PIB (% anual)</td>\n",
       "      <td>2022</td>\n",
       "      <td>6.008800</td>\n",
       "    </tr>\n",
       "    <tr>\n",
       "      <th>3165</th>\n",
       "      <td>Kenya</td>\n",
       "      <td>Inflación, precios al consumidor (% anual)</td>\n",
       "      <td>2022</td>\n",
       "      <td>7.656900</td>\n",
       "    </tr>\n",
       "    <tr>\n",
       "      <th>3166</th>\n",
       "      <td>Noruega</td>\n",
       "      <td>Inflación, índice de deflación del PIB (% anual)</td>\n",
       "      <td>2022</td>\n",
       "      <td>28.033300</td>\n",
       "    </tr>\n",
       "    <tr>\n",
       "      <th>3167</th>\n",
       "      <td>Noruega</td>\n",
       "      <td>Inflación, precios al consumidor (% anual)</td>\n",
       "      <td>2022</td>\n",
       "      <td>5.764100</td>\n",
       "    </tr>\n",
       "  </tbody>\n",
       "</table>\n",
       "<p>3168 rows × 4 columns</p>\n",
       "</div>"
      ],
      "text/plain": [
       "            país                                    factor_(serie)   Año  \\\n",
       "0     Afganistán  Inflación, índice de deflación del PIB (% anual)  1987   \n",
       "1     Afganistán        Inflación, precios al consumidor (% anual)  1987   \n",
       "2       Alemania  Inflación, índice de deflación del PIB (% anual)  1987   \n",
       "3       Alemania        Inflación, precios al consumidor (% anual)  1987   \n",
       "4        Argelia  Inflación, índice de deflación del PIB (% anual)  1987   \n",
       "...          ...                                               ...   ...   \n",
       "3163       Japón        Inflación, precios al consumidor (% anual)  2022   \n",
       "3164       Kenya  Inflación, índice de deflación del PIB (% anual)  2022   \n",
       "3165       Kenya        Inflación, precios al consumidor (% anual)  2022   \n",
       "3166     Noruega  Inflación, índice de deflación del PIB (% anual)  2022   \n",
       "3167     Noruega        Inflación, precios al consumidor (% anual)  2022   \n",
       "\n",
       "          Valor  \n",
       "0      6.112895  \n",
       "1      6.124627  \n",
       "2      1.279700  \n",
       "3      0.249900  \n",
       "4      8.842000  \n",
       "...         ...  \n",
       "3163   2.497700  \n",
       "3164   6.008800  \n",
       "3165   7.656900  \n",
       "3166  28.033300  \n",
       "3167   5.764100  \n",
       "\n",
       "[3168 rows x 4 columns]"
      ]
     },
     "execution_count": 18,
     "metadata": {},
     "output_type": "execute_result"
    }
   ],
   "source": [
    "df_filled"
   ]
  },
  {
   "cell_type": "code",
   "execution_count": 19,
   "metadata": {},
   "outputs": [
    {
     "data": {
      "text/plain": [
       "count    3096.000000\n",
       "mean       17.449182\n",
       "std       136.728396\n",
       "min       -26.300000\n",
       "25%         1.558500\n",
       "50%         3.519300\n",
       "75%         7.873225\n",
       "max      3046.091200\n",
       "Name: Valor, dtype: float64"
      ]
     },
     "execution_count": 19,
     "metadata": {},
     "output_type": "execute_result"
    }
   ],
   "source": [
    "df_filled['Valor'].describe()\n"
   ]
  },
  {
   "cell_type": "code",
   "execution_count": 20,
   "metadata": {},
   "outputs": [
    {
     "data": {
      "text/plain": [
       "72"
      ]
     },
     "execution_count": 20,
     "metadata": {},
     "output_type": "execute_result"
    }
   ],
   "source": [
    "df_filled['Valor'].isna().sum()"
   ]
  },
  {
   "cell_type": "markdown",
   "metadata": {},
   "source": [
    "Mostramos los paises que no tiene datos en los años seleccionados."
   ]
  },
  {
   "cell_type": "code",
   "execution_count": 21,
   "metadata": {},
   "outputs": [
    {
     "data": {
      "text/plain": [
       "array(['Argentina', 'Cuba'], dtype=object)"
      ]
     },
     "execution_count": 21,
     "metadata": {},
     "output_type": "execute_result"
    }
   ],
   "source": [
    "df_filled[df_filled['Valor'].isna()]['país'].unique()"
   ]
  },
  {
   "cell_type": "markdown",
   "metadata": {},
   "source": [
    "Debido a que no podemos inventar datos para esos años y para los países seleccionados, se procede a eliminar esas filas donde el valor es Nan"
   ]
  },
  {
   "cell_type": "code",
   "execution_count": 22,
   "metadata": {},
   "outputs": [],
   "source": [
    "df_filled.dropna(inplace=True)"
   ]
  },
  {
   "cell_type": "markdown",
   "metadata": {},
   "source": [
    "## Observemos la distribución de los factores por cada país a continuación \n"
   ]
  },
  {
   "cell_type": "code",
   "execution_count": 23,
   "metadata": {},
   "outputs": [
    {
     "data": {
      "application/vnd.jupyter.widget-view+json": {
       "model_id": "0a691b63e50c48009983ab6795383f10",
       "version_major": 2,
       "version_minor": 0
      },
      "text/plain": [
       "Output()"
      ]
     },
     "metadata": {},
     "output_type": "display_data"
    },
    {
     "data": {
      "application/vnd.plotly.v1+json": {
       "config": {
        "plotlyServerURL": "https://plot.ly"
       },
       "data": [
        {
         "mode": "lines+markers",
         "name": "Inflación, índice de deflación del PIB (% anual)",
         "type": "scatter",
         "x": [
          "1987",
          "1988",
          "1989",
          "1990",
          "1991",
          "1992",
          "1993",
          "1994",
          "1995",
          "1996",
          "1997",
          "1998",
          "1999",
          "2000",
          "2001",
          "2002",
          "2003",
          "2004",
          "2005",
          "2006",
          "2007",
          "2008",
          "2009",
          "2010",
          "2011",
          "2012",
          "2013",
          "2014",
          "2015",
          "2016",
          "2017",
          "2018",
          "2019",
          "2020",
          "2021",
          "2022"
         ],
         "y": [
          6.112894736842105,
          6.112894736842105,
          6.112894736842105,
          6.112894736842105,
          6.112894736842105,
          6.112894736842105,
          6.112894736842105,
          6.112894736842105,
          6.112894736842105,
          6.112894736842105,
          6.112894736842105,
          6.112894736842105,
          6.112894736842105,
          6.112894736842105,
          6.112894736842105,
          6.112894736842105,
          11.6552,
          11.2714,
          10.9128,
          7.1998,
          22.5278,
          2.0963,
          -2.1634,
          3.8146,
          16.5933,
          7.3018,
          4.8228,
          0.5669,
          2.4476,
          -2.1975,
          2.4037,
          2.0713,
          6.5215,
          7.8217,
          0.4774,
          6.112894736842105
         ]
        },
        {
         "mode": "lines+markers",
         "name": "Inflación, precios al consumidor (% anual)",
         "type": "scatter",
         "x": [
          "1987",
          "1988",
          "1989",
          "1990",
          "1991",
          "1992",
          "1993",
          "1994",
          "1995",
          "1996",
          "1997",
          "1998",
          "1999",
          "2000",
          "2001",
          "2002",
          "2003",
          "2004",
          "2005",
          "2006",
          "2007",
          "2008",
          "2009",
          "2010",
          "2011",
          "2012",
          "2013",
          "2014",
          "2015",
          "2016",
          "2017",
          "2018",
          "2019",
          "2020",
          "2021",
          "2022"
         ],
         "y": [
          6.124626666666667,
          6.124626666666667,
          6.124626666666667,
          6.124626666666667,
          6.124626666666667,
          6.124626666666667,
          6.124626666666667,
          6.124626666666667,
          6.124626666666667,
          6.124626666666667,
          6.124626666666667,
          6.124626666666667,
          6.124626666666667,
          6.124626666666667,
          6.124626666666667,
          6.124626666666667,
          6.124626666666667,
          6.124626666666667,
          12.6863,
          6.7846,
          8.6806,
          26.4187,
          -6.8112,
          2.1785,
          11.8042,
          6.4412,
          7.3858,
          4.674,
          -0.6617,
          4.3839,
          4.976,
          0.6261,
          2.3024,
          6.124626666666667,
          6.124626666666667,
          6.124626666666667
         ]
        }
       ],
       "layout": {
        "height": 450,
        "legend": {
         "orientation": "h",
         "x": 0,
         "y": -1.2
        },
        "template": {
         "data": {
          "bar": [
           {
            "error_x": {
             "color": "#2a3f5f"
            },
            "error_y": {
             "color": "#2a3f5f"
            },
            "marker": {
             "line": {
              "color": "#E5ECF6",
              "width": 0.5
             },
             "pattern": {
              "fillmode": "overlay",
              "size": 10,
              "solidity": 0.2
             }
            },
            "type": "bar"
           }
          ],
          "barpolar": [
           {
            "marker": {
             "line": {
              "color": "#E5ECF6",
              "width": 0.5
             },
             "pattern": {
              "fillmode": "overlay",
              "size": 10,
              "solidity": 0.2
             }
            },
            "type": "barpolar"
           }
          ],
          "carpet": [
           {
            "aaxis": {
             "endlinecolor": "#2a3f5f",
             "gridcolor": "white",
             "linecolor": "white",
             "minorgridcolor": "white",
             "startlinecolor": "#2a3f5f"
            },
            "baxis": {
             "endlinecolor": "#2a3f5f",
             "gridcolor": "white",
             "linecolor": "white",
             "minorgridcolor": "white",
             "startlinecolor": "#2a3f5f"
            },
            "type": "carpet"
           }
          ],
          "choropleth": [
           {
            "colorbar": {
             "outlinewidth": 0,
             "ticks": ""
            },
            "type": "choropleth"
           }
          ],
          "contour": [
           {
            "colorbar": {
             "outlinewidth": 0,
             "ticks": ""
            },
            "colorscale": [
             [
              0,
              "#0d0887"
             ],
             [
              0.1111111111111111,
              "#46039f"
             ],
             [
              0.2222222222222222,
              "#7201a8"
             ],
             [
              0.3333333333333333,
              "#9c179e"
             ],
             [
              0.4444444444444444,
              "#bd3786"
             ],
             [
              0.5555555555555556,
              "#d8576b"
             ],
             [
              0.6666666666666666,
              "#ed7953"
             ],
             [
              0.7777777777777778,
              "#fb9f3a"
             ],
             [
              0.8888888888888888,
              "#fdca26"
             ],
             [
              1,
              "#f0f921"
             ]
            ],
            "type": "contour"
           }
          ],
          "contourcarpet": [
           {
            "colorbar": {
             "outlinewidth": 0,
             "ticks": ""
            },
            "type": "contourcarpet"
           }
          ],
          "heatmap": [
           {
            "colorbar": {
             "outlinewidth": 0,
             "ticks": ""
            },
            "colorscale": [
             [
              0,
              "#0d0887"
             ],
             [
              0.1111111111111111,
              "#46039f"
             ],
             [
              0.2222222222222222,
              "#7201a8"
             ],
             [
              0.3333333333333333,
              "#9c179e"
             ],
             [
              0.4444444444444444,
              "#bd3786"
             ],
             [
              0.5555555555555556,
              "#d8576b"
             ],
             [
              0.6666666666666666,
              "#ed7953"
             ],
             [
              0.7777777777777778,
              "#fb9f3a"
             ],
             [
              0.8888888888888888,
              "#fdca26"
             ],
             [
              1,
              "#f0f921"
             ]
            ],
            "type": "heatmap"
           }
          ],
          "heatmapgl": [
           {
            "colorbar": {
             "outlinewidth": 0,
             "ticks": ""
            },
            "colorscale": [
             [
              0,
              "#0d0887"
             ],
             [
              0.1111111111111111,
              "#46039f"
             ],
             [
              0.2222222222222222,
              "#7201a8"
             ],
             [
              0.3333333333333333,
              "#9c179e"
             ],
             [
              0.4444444444444444,
              "#bd3786"
             ],
             [
              0.5555555555555556,
              "#d8576b"
             ],
             [
              0.6666666666666666,
              "#ed7953"
             ],
             [
              0.7777777777777778,
              "#fb9f3a"
             ],
             [
              0.8888888888888888,
              "#fdca26"
             ],
             [
              1,
              "#f0f921"
             ]
            ],
            "type": "heatmapgl"
           }
          ],
          "histogram": [
           {
            "marker": {
             "pattern": {
              "fillmode": "overlay",
              "size": 10,
              "solidity": 0.2
             }
            },
            "type": "histogram"
           }
          ],
          "histogram2d": [
           {
            "colorbar": {
             "outlinewidth": 0,
             "ticks": ""
            },
            "colorscale": [
             [
              0,
              "#0d0887"
             ],
             [
              0.1111111111111111,
              "#46039f"
             ],
             [
              0.2222222222222222,
              "#7201a8"
             ],
             [
              0.3333333333333333,
              "#9c179e"
             ],
             [
              0.4444444444444444,
              "#bd3786"
             ],
             [
              0.5555555555555556,
              "#d8576b"
             ],
             [
              0.6666666666666666,
              "#ed7953"
             ],
             [
              0.7777777777777778,
              "#fb9f3a"
             ],
             [
              0.8888888888888888,
              "#fdca26"
             ],
             [
              1,
              "#f0f921"
             ]
            ],
            "type": "histogram2d"
           }
          ],
          "histogram2dcontour": [
           {
            "colorbar": {
             "outlinewidth": 0,
             "ticks": ""
            },
            "colorscale": [
             [
              0,
              "#0d0887"
             ],
             [
              0.1111111111111111,
              "#46039f"
             ],
             [
              0.2222222222222222,
              "#7201a8"
             ],
             [
              0.3333333333333333,
              "#9c179e"
             ],
             [
              0.4444444444444444,
              "#bd3786"
             ],
             [
              0.5555555555555556,
              "#d8576b"
             ],
             [
              0.6666666666666666,
              "#ed7953"
             ],
             [
              0.7777777777777778,
              "#fb9f3a"
             ],
             [
              0.8888888888888888,
              "#fdca26"
             ],
             [
              1,
              "#f0f921"
             ]
            ],
            "type": "histogram2dcontour"
           }
          ],
          "mesh3d": [
           {
            "colorbar": {
             "outlinewidth": 0,
             "ticks": ""
            },
            "type": "mesh3d"
           }
          ],
          "parcoords": [
           {
            "line": {
             "colorbar": {
              "outlinewidth": 0,
              "ticks": ""
             }
            },
            "type": "parcoords"
           }
          ],
          "pie": [
           {
            "automargin": true,
            "type": "pie"
           }
          ],
          "scatter": [
           {
            "fillpattern": {
             "fillmode": "overlay",
             "size": 10,
             "solidity": 0.2
            },
            "type": "scatter"
           }
          ],
          "scatter3d": [
           {
            "line": {
             "colorbar": {
              "outlinewidth": 0,
              "ticks": ""
             }
            },
            "marker": {
             "colorbar": {
              "outlinewidth": 0,
              "ticks": ""
             }
            },
            "type": "scatter3d"
           }
          ],
          "scattercarpet": [
           {
            "marker": {
             "colorbar": {
              "outlinewidth": 0,
              "ticks": ""
             }
            },
            "type": "scattercarpet"
           }
          ],
          "scattergeo": [
           {
            "marker": {
             "colorbar": {
              "outlinewidth": 0,
              "ticks": ""
             }
            },
            "type": "scattergeo"
           }
          ],
          "scattergl": [
           {
            "marker": {
             "colorbar": {
              "outlinewidth": 0,
              "ticks": ""
             }
            },
            "type": "scattergl"
           }
          ],
          "scattermapbox": [
           {
            "marker": {
             "colorbar": {
              "outlinewidth": 0,
              "ticks": ""
             }
            },
            "type": "scattermapbox"
           }
          ],
          "scatterpolar": [
           {
            "marker": {
             "colorbar": {
              "outlinewidth": 0,
              "ticks": ""
             }
            },
            "type": "scatterpolar"
           }
          ],
          "scatterpolargl": [
           {
            "marker": {
             "colorbar": {
              "outlinewidth": 0,
              "ticks": ""
             }
            },
            "type": "scatterpolargl"
           }
          ],
          "scatterternary": [
           {
            "marker": {
             "colorbar": {
              "outlinewidth": 0,
              "ticks": ""
             }
            },
            "type": "scatterternary"
           }
          ],
          "surface": [
           {
            "colorbar": {
             "outlinewidth": 0,
             "ticks": ""
            },
            "colorscale": [
             [
              0,
              "#0d0887"
             ],
             [
              0.1111111111111111,
              "#46039f"
             ],
             [
              0.2222222222222222,
              "#7201a8"
             ],
             [
              0.3333333333333333,
              "#9c179e"
             ],
             [
              0.4444444444444444,
              "#bd3786"
             ],
             [
              0.5555555555555556,
              "#d8576b"
             ],
             [
              0.6666666666666666,
              "#ed7953"
             ],
             [
              0.7777777777777778,
              "#fb9f3a"
             ],
             [
              0.8888888888888888,
              "#fdca26"
             ],
             [
              1,
              "#f0f921"
             ]
            ],
            "type": "surface"
           }
          ],
          "table": [
           {
            "cells": {
             "fill": {
              "color": "#EBF0F8"
             },
             "line": {
              "color": "white"
             }
            },
            "header": {
             "fill": {
              "color": "#C8D4E3"
             },
             "line": {
              "color": "white"
             }
            },
            "type": "table"
           }
          ]
         },
         "layout": {
          "annotationdefaults": {
           "arrowcolor": "#2a3f5f",
           "arrowhead": 0,
           "arrowwidth": 1
          },
          "autotypenumbers": "strict",
          "coloraxis": {
           "colorbar": {
            "outlinewidth": 0,
            "ticks": ""
           }
          },
          "colorscale": {
           "diverging": [
            [
             0,
             "#8e0152"
            ],
            [
             0.1,
             "#c51b7d"
            ],
            [
             0.2,
             "#de77ae"
            ],
            [
             0.3,
             "#f1b6da"
            ],
            [
             0.4,
             "#fde0ef"
            ],
            [
             0.5,
             "#f7f7f7"
            ],
            [
             0.6,
             "#e6f5d0"
            ],
            [
             0.7,
             "#b8e186"
            ],
            [
             0.8,
             "#7fbc41"
            ],
            [
             0.9,
             "#4d9221"
            ],
            [
             1,
             "#276419"
            ]
           ],
           "sequential": [
            [
             0,
             "#0d0887"
            ],
            [
             0.1111111111111111,
             "#46039f"
            ],
            [
             0.2222222222222222,
             "#7201a8"
            ],
            [
             0.3333333333333333,
             "#9c179e"
            ],
            [
             0.4444444444444444,
             "#bd3786"
            ],
            [
             0.5555555555555556,
             "#d8576b"
            ],
            [
             0.6666666666666666,
             "#ed7953"
            ],
            [
             0.7777777777777778,
             "#fb9f3a"
            ],
            [
             0.8888888888888888,
             "#fdca26"
            ],
            [
             1,
             "#f0f921"
            ]
           ],
           "sequentialminus": [
            [
             0,
             "#0d0887"
            ],
            [
             0.1111111111111111,
             "#46039f"
            ],
            [
             0.2222222222222222,
             "#7201a8"
            ],
            [
             0.3333333333333333,
             "#9c179e"
            ],
            [
             0.4444444444444444,
             "#bd3786"
            ],
            [
             0.5555555555555556,
             "#d8576b"
            ],
            [
             0.6666666666666666,
             "#ed7953"
            ],
            [
             0.7777777777777778,
             "#fb9f3a"
            ],
            [
             0.8888888888888888,
             "#fdca26"
            ],
            [
             1,
             "#f0f921"
            ]
           ]
          },
          "colorway": [
           "#636efa",
           "#EF553B",
           "#00cc96",
           "#ab63fa",
           "#FFA15A",
           "#19d3f3",
           "#FF6692",
           "#B6E880",
           "#FF97FF",
           "#FECB52"
          ],
          "font": {
           "color": "#2a3f5f"
          },
          "geo": {
           "bgcolor": "white",
           "lakecolor": "white",
           "landcolor": "#E5ECF6",
           "showlakes": true,
           "showland": true,
           "subunitcolor": "white"
          },
          "hoverlabel": {
           "align": "left"
          },
          "hovermode": "closest",
          "mapbox": {
           "style": "light"
          },
          "paper_bgcolor": "white",
          "plot_bgcolor": "#E5ECF6",
          "polar": {
           "angularaxis": {
            "gridcolor": "white",
            "linecolor": "white",
            "ticks": ""
           },
           "bgcolor": "#E5ECF6",
           "radialaxis": {
            "gridcolor": "white",
            "linecolor": "white",
            "ticks": ""
           }
          },
          "scene": {
           "xaxis": {
            "backgroundcolor": "#E5ECF6",
            "gridcolor": "white",
            "gridwidth": 2,
            "linecolor": "white",
            "showbackground": true,
            "ticks": "",
            "zerolinecolor": "white"
           },
           "yaxis": {
            "backgroundcolor": "#E5ECF6",
            "gridcolor": "white",
            "gridwidth": 2,
            "linecolor": "white",
            "showbackground": true,
            "ticks": "",
            "zerolinecolor": "white"
           },
           "zaxis": {
            "backgroundcolor": "#E5ECF6",
            "gridcolor": "white",
            "gridwidth": 2,
            "linecolor": "white",
            "showbackground": true,
            "ticks": "",
            "zerolinecolor": "white"
           }
          },
          "shapedefaults": {
           "line": {
            "color": "#2a3f5f"
           }
          },
          "ternary": {
           "aaxis": {
            "gridcolor": "white",
            "linecolor": "white",
            "ticks": ""
           },
           "baxis": {
            "gridcolor": "white",
            "linecolor": "white",
            "ticks": ""
           },
           "bgcolor": "#E5ECF6",
           "caxis": {
            "gridcolor": "white",
            "linecolor": "white",
            "ticks": ""
           }
          },
          "title": {
           "x": 0.05
          },
          "xaxis": {
           "automargin": true,
           "gridcolor": "white",
           "linecolor": "white",
           "ticks": "",
           "title": {
            "standoff": 15
           },
           "zerolinecolor": "white",
           "zerolinewidth": 2
          },
          "yaxis": {
           "automargin": true,
           "gridcolor": "white",
           "linecolor": "white",
           "ticks": "",
           "title": {
            "standoff": 15
           },
           "zerolinecolor": "white",
           "zerolinewidth": 2
          }
         }
        },
        "title": {
         "text": "Datos para Afganistán"
        },
        "width": 1200,
        "xaxis": {
         "title": {
          "text": "Año"
         }
        },
        "yaxis": {
         "title": {
          "text": "Valor"
         }
        }
       }
      }
     },
     "metadata": {},
     "output_type": "display_data"
    },
    {
     "data": {
      "application/vnd.jupyter.widget-view+json": {
       "model_id": "09a34d3d95274d828662557885951e28",
       "version_major": 2,
       "version_minor": 0
      },
      "text/plain": [
       "interactive(children=(Dropdown(description='Seleccionar país:', options=('Afganistán', 'Alemania', 'Argelia', …"
      ]
     },
     "execution_count": 23,
     "metadata": {},
     "output_type": "execute_result"
    }
   ],
   "source": [
    "# Obtener los factores únicos por país\n",
    "factores_por_pais = df_filled.groupby(['país'])['factor_(serie)'].unique().apply(list).to_dict()\n",
    "\n",
    "# Crear una lista con los nombres de los países en el DataFrame\n",
    "paises = df_filled['país'].unique().tolist()\n",
    "\n",
    "# Crear un widget de menú desplegable (dropdown) para seleccionar un país\n",
    "dropdown_paises = widgets.Dropdown(\n",
    "    options=paises,\n",
    "    description='Seleccionar país:'\n",
    ")\n",
    "\n",
    "# Función para graficar los datos por país seleccionado\n",
    "def graficar_datos_por_pais(pais):\n",
    "    \n",
    "    datos_pais = df_filled[df_filled['país'] == pais]\n",
    "\n",
    "    fig = go.Figure()\n",
    "    \n",
    "    for factor in factores_por_pais[pais]:\n",
    "        datos_factor = datos_pais[datos_pais['factor_(serie)'] == factor]\n",
    "        fig.add_trace(go.Scatter(x=datos_factor['Año'], y=datos_factor['Valor'], mode='lines+markers', name=factor))\n",
    "    \n",
    "    fig.update_layout(\n",
    "        title=f'Datos para {pais}',\n",
    "        xaxis_title='Año',\n",
    "        yaxis_title='Valor',\n",
    "        legend=dict(x=0, y=-1.2, orientation='h'),\n",
    "        height=450,\n",
    "        width=1200\n",
    "    )\n",
    "    fig.show()\n",
    "\n",
    "# Mostrar un widget vacío para eliminar el gráfico por defecto\n",
    "display(widgets.Output())\n",
    "\n",
    "# Interactividad: enlazar el widget de menú desplegable a la función de graficado\n",
    "widgets.interactive(graficar_datos_por_pais, pais=dropdown_paises)"
   ]
  },
  {
   "cell_type": "markdown",
   "metadata": {},
   "source": [
    "### Seguido de esto, veremos como estan concentrados los datos y si existen valores atipicos (outliers) en nuestro dataset"
   ]
  },
  {
   "cell_type": "code",
   "execution_count": 24,
   "metadata": {},
   "outputs": [
    {
     "data": {
      "image/png": "[encoded data removed]",
      "text/plain": [
       "<Figure size 1000x600 with 1 Axes>"
      ]
     },
     "metadata": {},
     "output_type": "display_data"
    }
   ],
   "source": [
    "# Configurar el tamaño de la figura\n",
    "plt.figure(figsize=(10, 6))\n",
    "\n",
    "# Crear el boxplot utilizando Seaborn\n",
    "sns.boxplot(y='factor_(serie)', x='Valor', data=df_filled)\n",
    "plt.xticks(rotation=90)  # Rotar etiquetas del eje x para mayor legibilidad\n",
    "plt.title('Diagrama de Caja de Factores')\n",
    "\n",
    "# Configurar los límites del eje x para enfocarte en valores de 0 a 50 y superiores a 1000\n",
    "plt.xlim(0, 50)  # Establecer límites para valores de 0 a 50 en el eje x\n",
    "#plt.xscale('symlog', linthreshx=1000)  # Usar escala logarítmica para valores superiores a 1000\n",
    "\n",
    "plt.show()"
   ]
  },
  {
   "cell_type": "code",
   "execution_count": 25,
   "metadata": {},
   "outputs": [
    {
     "data": {
      "image/png": "[encoded data removed]",
      "text/plain": [
       "<Figure size 1000x600 with 1 Axes>"
      ]
     },
     "metadata": {},
     "output_type": "display_data"
    }
   ],
   "source": [
    "# Configurar el tamaño de la figura\n",
    "plt.figure(figsize=(10, 6))\n",
    "\n",
    "# Crear el boxplot vertical utilizando Seaborn\n",
    "sns.boxplot(x='factor_(serie)', y='Valor', data=df_filled, orient='v')  # 'v' indica orientación vertical\n",
    "plt.xticks(rotation=90)  # Rotar etiquetas del eje x para mayor legibilidad\n",
    "plt.title('Diagrama de Caja de Factores')\n",
    "\n",
    "# Configurar los límites del eje y para enfocarte en valores de 0 a 50 y superiores a 1000\n",
    "plt.ylim(0, 1000)  # Establecer límites para valores de 0 a 50 en el eje y\n",
    "# Ajustar la escala para resaltar valores superiores a 1000\n",
    "plt.yscale('symlog', linthresh=100)\n",
    "plt.show()"
   ]
  },
  {
   "cell_type": "markdown",
   "metadata": {},
   "source": [
    "### A continuación, veremos Top 5 de países por factor"
   ]
  },
  {
   "cell_type": "code",
   "execution_count": 26,
   "metadata": {},
   "outputs": [
    {
     "data": {
      "image/png": "[encoded data removed]",
      "text/plain": [
       "<Figure size 1000x600 with 1 Axes>"
      ]
     },
     "metadata": {},
     "output_type": "display_data"
    },
    {
     "data": {
      "image/png": "[encoded data removed]",
      "text/plain": [
       "<Figure size 1000x600 with 1 Axes>"
      ]
     },
     "metadata": {},
     "output_type": "display_data"
    }
   ],
   "source": [
    "\n",
    "\n",
    "# Encontrar el top 5 de países para cada factor de la serie\n",
    "factors = df_filled['factor_(serie)'].unique()  # Obtener la lista de factores únicos\n",
    "\n",
    "for factor in factors:\n",
    "    # Filtrar el DataFrame por cada factor de la serie\n",
    "    filtered_df = df_filled[df_filled['factor_(serie)'] == factor]\n",
    "    \n",
    "    # Calcular la media de los valores por país en ese factor\n",
    "    grouped = filtered_df.groupby('país')['Valor'].mean().reset_index()\n",
    "    \n",
    "    # Ordenar los valores por el porcentaje en orden descendente\n",
    "    sorted_df = grouped.sort_values(by='Valor', ascending=False)\n",
    "    \n",
    "    # Obtener los top países para cada factor (puede ser menos de 5)\n",
    "    top_countries = sorted_df.head(5)\n",
    "    \n",
    "    # Gráfico de barras para visualizar los top países con etiquetas de valores\n",
    "    plt.figure(figsize=(10, 6))\n",
    "    bars = plt.bar(top_countries['país'], top_countries['Valor'], color='skyblue')\n",
    "    plt.title(f'Top países para {factor}')\n",
    "    plt.xlabel('Países')\n",
    "    plt.ylabel('Porcentaje')\n",
    "    plt.xticks(rotation=45)\n",
    "    \n",
    "    # Etiquetas de valor en cada barra\n",
    "    for bar, value in zip(bars, top_countries['Valor']):\n",
    "        plt.text(bar.get_x() + bar.get_width() / 2, bar.get_height(), round(value, 2), ha='center', va='bottom')\n",
    "    \n",
    "    plt.tight_layout()\n",
    "    plt.show()"
   ]
  },
  {
   "cell_type": "code",
   "execution_count": 27,
   "metadata": {},
   "outputs": [],
   "source": [
    "df_filled.to_csv('../Data/data_inflacion_c.csv', index=False)"
   ]
  }
 ],
 "metadata": {
  "kernelspec": {
   "display_name": "proy_pf_env",
   "language": "python",
   "name": "python3"
  },
  "language_info": {
   "codemirror_mode": {
    "name": "ipython",
    "version": 3
   },
   "file_extension": ".py",
   "mimetype": "text/x-python",
   "name": "python",
   "nbconvert_exporter": "python",
   "pygments_lexer": "ipython3",
   "version": "3.10.11"
  },
  "orig_nbformat": 4
 },
 "nbformat": 4,
 "nbformat_minor": 2
}
