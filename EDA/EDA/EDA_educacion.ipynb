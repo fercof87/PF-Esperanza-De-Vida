{
 "cells": [
  {
   "cell_type": "markdown",
   "metadata": {},
   "source": [
    "# Análisis Exploratorio de Datos"
   ]
  },
  {
   "cell_type": "markdown",
   "metadata": {},
   "source": [
    "Se importa las librerias a utilizar"
   ]
  },
  {
   "cell_type": "code",
   "execution_count": 2,
   "metadata": {},
   "outputs": [],
   "source": [
    "import pandas as pd\n",
    "import matplotlib.pyplot as plt\n",
    "import plotly.graph_objs as go\n",
    "from plotly.subplots import make_subplots\n",
    "import ipywidgets as widgets\n",
    "from IPython.display import display\n",
    "import seaborn as sns\n",
    "import matplotlib.pyplot as plt"
   ]
  },
  {
   "cell_type": "markdown",
   "metadata": {},
   "source": [
    "Se crea un DataFrame con los datos de la Categoría Educación"
   ]
  },
  {
   "cell_type": "code",
   "execution_count": 3,
   "metadata": {},
   "outputs": [],
   "source": [
    "df = pd.read_csv('../Data/data_educacion.csv')"
   ]
  },
  {
   "cell_type": "markdown",
   "metadata": {},
   "source": [
    "Un .info() para tener idea de cuantas columnas y que tipo de datos hay en cada una de ellas, y si tenemos datos Nan"
   ]
  },
  {
   "cell_type": "code",
   "execution_count": 4,
   "metadata": {},
   "outputs": [
    {
     "name": "stdout",
     "output_type": "stream",
     "text": [
      "<class 'pandas.core.frame.DataFrame'>\n",
      "RangeIndex: 176 entries, 0 to 175\n",
      "Data columns (total 40 columns):\n",
      " #   Column          Non-Null Count  Dtype  \n",
      "---  ------          --------------  -----  \n",
      " 0   país            176 non-null    object \n",
      " 1   codigo_pais     176 non-null    object \n",
      " 2   factor_(serie)  176 non-null    object \n",
      " 3   codigo_serie    176 non-null    object \n",
      " 4   1987            15 non-null     float64\n",
      " 5   1988            17 non-null     float64\n",
      " 6   1989            20 non-null     float64\n",
      " 7   1990            32 non-null     float64\n",
      " 8   1991            32 non-null     float64\n",
      " 9   1992            17 non-null     float64\n",
      " 10  1993            17 non-null     float64\n",
      " 11  1994            20 non-null     float64\n",
      " 12  1995            13 non-null     float64\n",
      " 13  1996            13 non-null     float64\n",
      " 14  1997            11 non-null     float64\n",
      " 15  1998            3 non-null      float64\n",
      " 16  1999            15 non-null     float64\n",
      " 17  2000            25 non-null     float64\n",
      " 18  2001            37 non-null     float64\n",
      " 19  2002            40 non-null     float64\n",
      " 20  2003            39 non-null     float64\n",
      " 21  2004            57 non-null     float64\n",
      " 22  2005            63 non-null     float64\n",
      " 23  2006            68 non-null     float64\n",
      " 24  2007            72 non-null     float64\n",
      " 25  2008            68 non-null     float64\n",
      " 26  2009            79 non-null     float64\n",
      " 27  2010            85 non-null     float64\n",
      " 28  2011            87 non-null     float64\n",
      " 29  2012            82 non-null     float64\n",
      " 30  2013            64 non-null     float64\n",
      " 31  2014            89 non-null     float64\n",
      " 32  2015            86 non-null     float64\n",
      " 33  2016            88 non-null     float64\n",
      " 34  2017            75 non-null     float64\n",
      " 35  2018            76 non-null     float64\n",
      " 36  2019            81 non-null     float64\n",
      " 37  2020            83 non-null     float64\n",
      " 38  2021            58 non-null     float64\n",
      " 39  2022            19 non-null     float64\n",
      "dtypes: float64(36), object(4)\n",
      "memory usage: 55.1+ KB\n"
     ]
    }
   ],
   "source": [
    "df.info()"
   ]
  },
  {
   "cell_type": "code",
   "execution_count": 4,
   "metadata": {},
   "outputs": [
    {
     "data": {
      "text/html": [
       "<div>\n",
       "<style scoped>\n",
       "    .dataframe tbody tr th:only-of-type {\n",
       "        vertical-align: middle;\n",
       "    }\n",
       "\n",
       "    .dataframe tbody tr th {\n",
       "        vertical-align: top;\n",
       "    }\n",
       "\n",
       "    .dataframe thead th {\n",
       "        text-align: right;\n",
       "    }\n",
       "</style>\n",
       "<table border=\"1\" class=\"dataframe\">\n",
       "  <thead>\n",
       "    <tr style=\"text-align: right;\">\n",
       "      <th></th>\n",
       "      <th>país</th>\n",
       "      <th>codigo_pais</th>\n",
       "      <th>factor_(serie)</th>\n",
       "      <th>codigo_serie</th>\n",
       "      <th>1987</th>\n",
       "      <th>1988</th>\n",
       "      <th>1989</th>\n",
       "      <th>1990</th>\n",
       "      <th>1991</th>\n",
       "      <th>1992</th>\n",
       "      <th>...</th>\n",
       "      <th>2013</th>\n",
       "      <th>2014</th>\n",
       "      <th>2015</th>\n",
       "      <th>2016</th>\n",
       "      <th>2017</th>\n",
       "      <th>2018</th>\n",
       "      <th>2019</th>\n",
       "      <th>2020</th>\n",
       "      <th>2021</th>\n",
       "      <th>2022</th>\n",
       "    </tr>\n",
       "  </thead>\n",
       "  <tbody>\n",
       "    <tr>\n",
       "      <th>0</th>\n",
       "      <td>Afganistán</td>\n",
       "      <td>AFG</td>\n",
       "      <td>Nivel de instrucción, al menos ciclo inferior ...</td>\n",
       "      <td>SE.SEC.CUAT.LO.ZS</td>\n",
       "      <td>NaN</td>\n",
       "      <td>NaN</td>\n",
       "      <td>NaN</td>\n",
       "      <td>NaN</td>\n",
       "      <td>NaN</td>\n",
       "      <td>NaN</td>\n",
       "      <td>...</td>\n",
       "      <td>NaN</td>\n",
       "      <td>NaN</td>\n",
       "      <td>13.1258</td>\n",
       "      <td>NaN</td>\n",
       "      <td>NaN</td>\n",
       "      <td>NaN</td>\n",
       "      <td>NaN</td>\n",
       "      <td>NaN</td>\n",
       "      <td>11.6319</td>\n",
       "      <td>15.3429</td>\n",
       "    </tr>\n",
       "    <tr>\n",
       "      <th>1</th>\n",
       "      <td>Afganistán</td>\n",
       "      <td>AFG</td>\n",
       "      <td>Nivel de instrucción, al menos ciclo superior ...</td>\n",
       "      <td>SE.SEC.CUAT.UP.ZS</td>\n",
       "      <td>NaN</td>\n",
       "      <td>NaN</td>\n",
       "      <td>NaN</td>\n",
       "      <td>NaN</td>\n",
       "      <td>NaN</td>\n",
       "      <td>NaN</td>\n",
       "      <td>...</td>\n",
       "      <td>NaN</td>\n",
       "      <td>NaN</td>\n",
       "      <td>9.7924</td>\n",
       "      <td>NaN</td>\n",
       "      <td>NaN</td>\n",
       "      <td>NaN</td>\n",
       "      <td>NaN</td>\n",
       "      <td>NaN</td>\n",
       "      <td>9.4613</td>\n",
       "      <td>12.5973</td>\n",
       "    </tr>\n",
       "    <tr>\n",
       "      <th>2</th>\n",
       "      <td>Afganistán</td>\n",
       "      <td>AFG</td>\n",
       "      <td>Nivel de instrucción, al menos escuela de nive...</td>\n",
       "      <td>SE.SEC.CUAT.PO.ZS</td>\n",
       "      <td>NaN</td>\n",
       "      <td>NaN</td>\n",
       "      <td>NaN</td>\n",
       "      <td>NaN</td>\n",
       "      <td>NaN</td>\n",
       "      <td>NaN</td>\n",
       "      <td>...</td>\n",
       "      <td>NaN</td>\n",
       "      <td>NaN</td>\n",
       "      <td>NaN</td>\n",
       "      <td>NaN</td>\n",
       "      <td>NaN</td>\n",
       "      <td>NaN</td>\n",
       "      <td>NaN</td>\n",
       "      <td>NaN</td>\n",
       "      <td>4.7049</td>\n",
       "      <td>NaN</td>\n",
       "    </tr>\n",
       "    <tr>\n",
       "      <th>3</th>\n",
       "      <td>Afganistán</td>\n",
       "      <td>AFG</td>\n",
       "      <td>Tasa de finalización del ciclo inferior de la ...</td>\n",
       "      <td>SE.SEC.CMPT.LO.ZS</td>\n",
       "      <td>NaN</td>\n",
       "      <td>NaN</td>\n",
       "      <td>NaN</td>\n",
       "      <td>NaN</td>\n",
       "      <td>NaN</td>\n",
       "      <td>NaN</td>\n",
       "      <td>...</td>\n",
       "      <td>NaN</td>\n",
       "      <td>NaN</td>\n",
       "      <td>NaN</td>\n",
       "      <td>52.5213</td>\n",
       "      <td>54.6933</td>\n",
       "      <td>56.7369</td>\n",
       "      <td>59.7218</td>\n",
       "      <td>NaN</td>\n",
       "      <td>NaN</td>\n",
       "      <td>NaN</td>\n",
       "    </tr>\n",
       "    <tr>\n",
       "      <th>4</th>\n",
       "      <td>Alemania</td>\n",
       "      <td>DEU</td>\n",
       "      <td>Nivel de instrucción, al menos ciclo inferior ...</td>\n",
       "      <td>SE.SEC.CUAT.LO.ZS</td>\n",
       "      <td>NaN</td>\n",
       "      <td>NaN</td>\n",
       "      <td>NaN</td>\n",
       "      <td>NaN</td>\n",
       "      <td>NaN</td>\n",
       "      <td>NaN</td>\n",
       "      <td>...</td>\n",
       "      <td>96.6718</td>\n",
       "      <td>96.7991</td>\n",
       "      <td>96.7161</td>\n",
       "      <td>96.5136</td>\n",
       "      <td>NaN</td>\n",
       "      <td>96.3323</td>\n",
       "      <td>NaN</td>\n",
       "      <td>95.6804</td>\n",
       "      <td>NaN</td>\n",
       "      <td>NaN</td>\n",
       "    </tr>\n",
       "  </tbody>\n",
       "</table>\n",
       "<p>5 rows × 40 columns</p>\n",
       "</div>"
      ],
      "text/plain": [
       "         país codigo_pais                                     factor_(serie)  \\\n",
       "0  Afganistán         AFG  Nivel de instrucción, al menos ciclo inferior ...   \n",
       "1  Afganistán         AFG  Nivel de instrucción, al menos ciclo superior ...   \n",
       "2  Afganistán         AFG  Nivel de instrucción, al menos escuela de nive...   \n",
       "3  Afganistán         AFG  Tasa de finalización del ciclo inferior de la ...   \n",
       "4    Alemania         DEU  Nivel de instrucción, al menos ciclo inferior ...   \n",
       "\n",
       "        codigo_serie  1987  1988  1989  1990  1991  1992  ...     2013  \\\n",
       "0  SE.SEC.CUAT.LO.ZS   NaN   NaN   NaN   NaN   NaN   NaN  ...      NaN   \n",
       "1  SE.SEC.CUAT.UP.ZS   NaN   NaN   NaN   NaN   NaN   NaN  ...      NaN   \n",
       "2  SE.SEC.CUAT.PO.ZS   NaN   NaN   NaN   NaN   NaN   NaN  ...      NaN   \n",
       "3  SE.SEC.CMPT.LO.ZS   NaN   NaN   NaN   NaN   NaN   NaN  ...      NaN   \n",
       "4  SE.SEC.CUAT.LO.ZS   NaN   NaN   NaN   NaN   NaN   NaN  ...  96.6718   \n",
       "\n",
       "      2014     2015     2016     2017     2018     2019     2020     2021  \\\n",
       "0      NaN  13.1258      NaN      NaN      NaN      NaN      NaN  11.6319   \n",
       "1      NaN   9.7924      NaN      NaN      NaN      NaN      NaN   9.4613   \n",
       "2      NaN      NaN      NaN      NaN      NaN      NaN      NaN   4.7049   \n",
       "3      NaN      NaN  52.5213  54.6933  56.7369  59.7218      NaN      NaN   \n",
       "4  96.7991  96.7161  96.5136      NaN  96.3323      NaN  95.6804      NaN   \n",
       "\n",
       "      2022  \n",
       "0  15.3429  \n",
       "1  12.5973  \n",
       "2      NaN  \n",
       "3      NaN  \n",
       "4      NaN  \n",
       "\n",
       "[5 rows x 40 columns]"
      ]
     },
     "execution_count": 4,
     "metadata": {},
     "output_type": "execute_result"
    }
   ],
   "source": [
    "df.head()"
   ]
  },
  {
   "cell_type": "code",
   "execution_count": 5,
   "metadata": {},
   "outputs": [
    {
     "data": {
      "text/html": [
       "<div>\n",
       "<style scoped>\n",
       "    .dataframe tbody tr th:only-of-type {\n",
       "        vertical-align: middle;\n",
       "    }\n",
       "\n",
       "    .dataframe tbody tr th {\n",
       "        vertical-align: top;\n",
       "    }\n",
       "\n",
       "    .dataframe thead th {\n",
       "        text-align: right;\n",
       "    }\n",
       "</style>\n",
       "<table border=\"1\" class=\"dataframe\">\n",
       "  <thead>\n",
       "    <tr style=\"text-align: right;\">\n",
       "      <th></th>\n",
       "      <th>país</th>\n",
       "      <th>codigo_pais</th>\n",
       "      <th>factor_(serie)</th>\n",
       "      <th>codigo_serie</th>\n",
       "      <th>1987</th>\n",
       "      <th>1988</th>\n",
       "      <th>1989</th>\n",
       "      <th>1990</th>\n",
       "      <th>1991</th>\n",
       "      <th>1992</th>\n",
       "      <th>...</th>\n",
       "      <th>2013</th>\n",
       "      <th>2014</th>\n",
       "      <th>2015</th>\n",
       "      <th>2016</th>\n",
       "      <th>2017</th>\n",
       "      <th>2018</th>\n",
       "      <th>2019</th>\n",
       "      <th>2020</th>\n",
       "      <th>2021</th>\n",
       "      <th>2022</th>\n",
       "    </tr>\n",
       "  </thead>\n",
       "  <tbody>\n",
       "    <tr>\n",
       "      <th>16</th>\n",
       "      <td>Argentina</td>\n",
       "      <td>ARG</td>\n",
       "      <td>Nivel de instrucción, al menos ciclo inferior ...</td>\n",
       "      <td>SE.SEC.CUAT.LO.ZS</td>\n",
       "      <td>NaN</td>\n",
       "      <td>NaN</td>\n",
       "      <td>NaN</td>\n",
       "      <td>NaN</td>\n",
       "      <td>37.3563</td>\n",
       "      <td>NaN</td>\n",
       "      <td>...</td>\n",
       "      <td>NaN</td>\n",
       "      <td>NaN</td>\n",
       "      <td>NaN</td>\n",
       "      <td>NaN</td>\n",
       "      <td>NaN</td>\n",
       "      <td>NaN</td>\n",
       "      <td>NaN</td>\n",
       "      <td>NaN</td>\n",
       "      <td>NaN</td>\n",
       "      <td>NaN</td>\n",
       "    </tr>\n",
       "    <tr>\n",
       "      <th>17</th>\n",
       "      <td>Argentina</td>\n",
       "      <td>ARG</td>\n",
       "      <td>Nivel de instrucción, al menos ciclo superior ...</td>\n",
       "      <td>SE.SEC.CUAT.UP.ZS</td>\n",
       "      <td>NaN</td>\n",
       "      <td>NaN</td>\n",
       "      <td>NaN</td>\n",
       "      <td>NaN</td>\n",
       "      <td>NaN</td>\n",
       "      <td>NaN</td>\n",
       "      <td>...</td>\n",
       "      <td>NaN</td>\n",
       "      <td>NaN</td>\n",
       "      <td>NaN</td>\n",
       "      <td>NaN</td>\n",
       "      <td>NaN</td>\n",
       "      <td>NaN</td>\n",
       "      <td>NaN</td>\n",
       "      <td>NaN</td>\n",
       "      <td>NaN</td>\n",
       "      <td>NaN</td>\n",
       "    </tr>\n",
       "    <tr>\n",
       "      <th>18</th>\n",
       "      <td>Argentina</td>\n",
       "      <td>ARG</td>\n",
       "      <td>Nivel de instrucción, al menos escuela de nive...</td>\n",
       "      <td>SE.SEC.CUAT.PO.ZS</td>\n",
       "      <td>NaN</td>\n",
       "      <td>NaN</td>\n",
       "      <td>NaN</td>\n",
       "      <td>NaN</td>\n",
       "      <td>NaN</td>\n",
       "      <td>NaN</td>\n",
       "      <td>...</td>\n",
       "      <td>NaN</td>\n",
       "      <td>NaN</td>\n",
       "      <td>NaN</td>\n",
       "      <td>NaN</td>\n",
       "      <td>NaN</td>\n",
       "      <td>NaN</td>\n",
       "      <td>NaN</td>\n",
       "      <td>NaN</td>\n",
       "      <td>NaN</td>\n",
       "      <td>NaN</td>\n",
       "    </tr>\n",
       "    <tr>\n",
       "      <th>19</th>\n",
       "      <td>Argentina</td>\n",
       "      <td>ARG</td>\n",
       "      <td>Tasa de finalización del ciclo inferior de la ...</td>\n",
       "      <td>SE.SEC.CMPT.LO.ZS</td>\n",
       "      <td>NaN</td>\n",
       "      <td>NaN</td>\n",
       "      <td>NaN</td>\n",
       "      <td>NaN</td>\n",
       "      <td>NaN</td>\n",
       "      <td>NaN</td>\n",
       "      <td>...</td>\n",
       "      <td>88.3374</td>\n",
       "      <td>88.4963</td>\n",
       "      <td>90.4596</td>\n",
       "      <td>90.7401</td>\n",
       "      <td>91.813</td>\n",
       "      <td>93.5833</td>\n",
       "      <td>95.9255</td>\n",
       "      <td>95.4993</td>\n",
       "      <td>108.7882</td>\n",
       "      <td>NaN</td>\n",
       "    </tr>\n",
       "  </tbody>\n",
       "</table>\n",
       "<p>4 rows × 40 columns</p>\n",
       "</div>"
      ],
      "text/plain": [
       "         país codigo_pais                                     factor_(serie)  \\\n",
       "16  Argentina         ARG  Nivel de instrucción, al menos ciclo inferior ...   \n",
       "17  Argentina         ARG  Nivel de instrucción, al menos ciclo superior ...   \n",
       "18  Argentina         ARG  Nivel de instrucción, al menos escuela de nive...   \n",
       "19  Argentina         ARG  Tasa de finalización del ciclo inferior de la ...   \n",
       "\n",
       "         codigo_serie  1987  1988  1989  1990     1991  1992  ...     2013  \\\n",
       "16  SE.SEC.CUAT.LO.ZS   NaN   NaN   NaN   NaN  37.3563   NaN  ...      NaN   \n",
       "17  SE.SEC.CUAT.UP.ZS   NaN   NaN   NaN   NaN      NaN   NaN  ...      NaN   \n",
       "18  SE.SEC.CUAT.PO.ZS   NaN   NaN   NaN   NaN      NaN   NaN  ...      NaN   \n",
       "19  SE.SEC.CMPT.LO.ZS   NaN   NaN   NaN   NaN      NaN   NaN  ...  88.3374   \n",
       "\n",
       "       2014     2015     2016    2017     2018     2019     2020      2021  \\\n",
       "16      NaN      NaN      NaN     NaN      NaN      NaN      NaN       NaN   \n",
       "17      NaN      NaN      NaN     NaN      NaN      NaN      NaN       NaN   \n",
       "18      NaN      NaN      NaN     NaN      NaN      NaN      NaN       NaN   \n",
       "19  88.4963  90.4596  90.7401  91.813  93.5833  95.9255  95.4993  108.7882   \n",
       "\n",
       "    2022  \n",
       "16   NaN  \n",
       "17   NaN  \n",
       "18   NaN  \n",
       "19   NaN  \n",
       "\n",
       "[4 rows x 40 columns]"
      ]
     },
     "execution_count": 5,
     "metadata": {},
     "output_type": "execute_result"
    }
   ],
   "source": [
    "df[df['país']=='Argentina']"
   ]
  },
  {
   "cell_type": "markdown",
   "metadata": {},
   "source": [
    "Se utiliza .describe() para obtener una visión general de las estadísticas clave de las columnas numéricas en tu conjunto de datos"
   ]
  },
  {
   "cell_type": "code",
   "execution_count": 24,
   "metadata": {},
   "outputs": [
    {
     "data": {
      "text/html": [
       "<div>\n",
       "<style scoped>\n",
       "    .dataframe tbody tr th:only-of-type {\n",
       "        vertical-align: middle;\n",
       "    }\n",
       "\n",
       "    .dataframe tbody tr th {\n",
       "        vertical-align: top;\n",
       "    }\n",
       "\n",
       "    .dataframe thead th {\n",
       "        text-align: right;\n",
       "    }\n",
       "</style>\n",
       "<table border=\"1\" class=\"dataframe\">\n",
       "  <thead>\n",
       "    <tr style=\"text-align: right;\">\n",
       "      <th></th>\n",
       "      <th>1987</th>\n",
       "      <th>1988</th>\n",
       "      <th>1989</th>\n",
       "      <th>1990</th>\n",
       "      <th>1991</th>\n",
       "      <th>1992</th>\n",
       "      <th>1993</th>\n",
       "      <th>1994</th>\n",
       "      <th>1995</th>\n",
       "      <th>1996</th>\n",
       "      <th>1997</th>\n",
       "      <th>1998</th>\n",
       "      <th>1999</th>\n",
       "      <th>2000</th>\n",
       "      <th>2001</th>\n",
       "      <th>2002</th>\n",
       "      <th>2003</th>\n",
       "    </tr>\n",
       "  </thead>\n",
       "  <tbody>\n",
       "    <tr>\n",
       "      <th>count</th>\n",
       "      <td>15.00</td>\n",
       "      <td>17.00</td>\n",
       "      <td>20.00</td>\n",
       "      <td>32.00</td>\n",
       "      <td>32.00</td>\n",
       "      <td>17.00</td>\n",
       "      <td>17.00</td>\n",
       "      <td>20.00</td>\n",
       "      <td>13.00</td>\n",
       "      <td>13.00</td>\n",
       "      <td>11.00</td>\n",
       "      <td>3.00</td>\n",
       "      <td>15.00</td>\n",
       "      <td>25.00</td>\n",
       "      <td>37.00</td>\n",
       "      <td>40.00</td>\n",
       "      <td>39.00</td>\n",
       "    </tr>\n",
       "    <tr>\n",
       "      <th>mean</th>\n",
       "      <td>57.26</td>\n",
       "      <td>51.36</td>\n",
       "      <td>49.96</td>\n",
       "      <td>44.87</td>\n",
       "      <td>48.59</td>\n",
       "      <td>52.60</td>\n",
       "      <td>52.81</td>\n",
       "      <td>65.21</td>\n",
       "      <td>55.92</td>\n",
       "      <td>44.84</td>\n",
       "      <td>55.52</td>\n",
       "      <td>88.49</td>\n",
       "      <td>64.48</td>\n",
       "      <td>45.75</td>\n",
       "      <td>44.11</td>\n",
       "      <td>54.14</td>\n",
       "      <td>55.11</td>\n",
       "    </tr>\n",
       "    <tr>\n",
       "      <th>std</th>\n",
       "      <td>30.39</td>\n",
       "      <td>34.11</td>\n",
       "      <td>34.30</td>\n",
       "      <td>31.31</td>\n",
       "      <td>29.90</td>\n",
       "      <td>32.28</td>\n",
       "      <td>26.71</td>\n",
       "      <td>30.81</td>\n",
       "      <td>26.68</td>\n",
       "      <td>28.72</td>\n",
       "      <td>28.12</td>\n",
       "      <td>15.40</td>\n",
       "      <td>25.45</td>\n",
       "      <td>28.78</td>\n",
       "      <td>26.44</td>\n",
       "      <td>27.69</td>\n",
       "      <td>27.54</td>\n",
       "    </tr>\n",
       "    <tr>\n",
       "      <th>min</th>\n",
       "      <td>0.92</td>\n",
       "      <td>1.00</td>\n",
       "      <td>1.58</td>\n",
       "      <td>1.74</td>\n",
       "      <td>1.65</td>\n",
       "      <td>1.70</td>\n",
       "      <td>5.66</td>\n",
       "      <td>5.86</td>\n",
       "      <td>6.07</td>\n",
       "      <td>6.47</td>\n",
       "      <td>5.98</td>\n",
       "      <td>70.81</td>\n",
       "      <td>24.85</td>\n",
       "      <td>4.27</td>\n",
       "      <td>4.57</td>\n",
       "      <td>4.17</td>\n",
       "      <td>4.59</td>\n",
       "    </tr>\n",
       "    <tr>\n",
       "      <th>25%</th>\n",
       "      <td>39.31</td>\n",
       "      <td>29.09</td>\n",
       "      <td>23.08</td>\n",
       "      <td>19.53</td>\n",
       "      <td>32.54</td>\n",
       "      <td>31.77</td>\n",
       "      <td>30.13</td>\n",
       "      <td>47.00</td>\n",
       "      <td>32.80</td>\n",
       "      <td>25.58</td>\n",
       "      <td>39.76</td>\n",
       "      <td>83.27</td>\n",
       "      <td>42.65</td>\n",
       "      <td>30.06</td>\n",
       "      <td>24.69</td>\n",
       "      <td>36.13</td>\n",
       "      <td>35.80</td>\n",
       "    </tr>\n",
       "    <tr>\n",
       "      <th>50%</th>\n",
       "      <td>53.95</td>\n",
       "      <td>43.84</td>\n",
       "      <td>49.39</td>\n",
       "      <td>36.22</td>\n",
       "      <td>48.12</td>\n",
       "      <td>60.50</td>\n",
       "      <td>48.25</td>\n",
       "      <td>63.79</td>\n",
       "      <td>60.04</td>\n",
       "      <td>45.12</td>\n",
       "      <td>64.10</td>\n",
       "      <td>95.72</td>\n",
       "      <td>62.50</td>\n",
       "      <td>41.84</td>\n",
       "      <td>41.50</td>\n",
       "      <td>50.00</td>\n",
       "      <td>55.76</td>\n",
       "    </tr>\n",
       "    <tr>\n",
       "      <th>75%</th>\n",
       "      <td>81.59</td>\n",
       "      <td>79.99</td>\n",
       "      <td>70.32</td>\n",
       "      <td>65.74</td>\n",
       "      <td>63.81</td>\n",
       "      <td>65.78</td>\n",
       "      <td>66.65</td>\n",
       "      <td>87.37</td>\n",
       "      <td>72.71</td>\n",
       "      <td>61.87</td>\n",
       "      <td>71.19</td>\n",
       "      <td>97.33</td>\n",
       "      <td>84.29</td>\n",
       "      <td>67.01</td>\n",
       "      <td>62.94</td>\n",
       "      <td>81.04</td>\n",
       "      <td>79.25</td>\n",
       "    </tr>\n",
       "    <tr>\n",
       "      <th>max</th>\n",
       "      <td>108.85</td>\n",
       "      <td>108.95</td>\n",
       "      <td>108.20</td>\n",
       "      <td>106.51</td>\n",
       "      <td>106.47</td>\n",
       "      <td>107.71</td>\n",
       "      <td>107.14</td>\n",
       "      <td>111.39</td>\n",
       "      <td>104.56</td>\n",
       "      <td>99.16</td>\n",
       "      <td>101.06</td>\n",
       "      <td>98.93</td>\n",
       "      <td>98.69</td>\n",
       "      <td>98.68</td>\n",
       "      <td>98.82</td>\n",
       "      <td>101.33</td>\n",
       "      <td>102.24</td>\n",
       "    </tr>\n",
       "  </tbody>\n",
       "</table>\n",
       "</div>"
      ],
      "text/plain": [
       "         1987    1988    1989    1990    1991    1992    1993    1994    1995  \\\n",
       "count   15.00   17.00   20.00   32.00   32.00   17.00   17.00   20.00   13.00   \n",
       "mean    57.26   51.36   49.96   44.87   48.59   52.60   52.81   65.21   55.92   \n",
       "std     30.39   34.11   34.30   31.31   29.90   32.28   26.71   30.81   26.68   \n",
       "min      0.92    1.00    1.58    1.74    1.65    1.70    5.66    5.86    6.07   \n",
       "25%     39.31   29.09   23.08   19.53   32.54   31.77   30.13   47.00   32.80   \n",
       "50%     53.95   43.84   49.39   36.22   48.12   60.50   48.25   63.79   60.04   \n",
       "75%     81.59   79.99   70.32   65.74   63.81   65.78   66.65   87.37   72.71   \n",
       "max    108.85  108.95  108.20  106.51  106.47  107.71  107.14  111.39  104.56   \n",
       "\n",
       "        1996    1997   1998   1999   2000   2001    2002    2003  \n",
       "count  13.00   11.00   3.00  15.00  25.00  37.00   40.00   39.00  \n",
       "mean   44.84   55.52  88.49  64.48  45.75  44.11   54.14   55.11  \n",
       "std    28.72   28.12  15.40  25.45  28.78  26.44   27.69   27.54  \n",
       "min     6.47    5.98  70.81  24.85   4.27   4.57    4.17    4.59  \n",
       "25%    25.58   39.76  83.27  42.65  30.06  24.69   36.13   35.80  \n",
       "50%    45.12   64.10  95.72  62.50  41.84  41.50   50.00   55.76  \n",
       "75%    61.87   71.19  97.33  84.29  67.01  62.94   81.04   79.25  \n",
       "max    99.16  101.06  98.93  98.69  98.68  98.82  101.33  102.24  "
      ]
     },
     "execution_count": 24,
     "metadata": {},
     "output_type": "execute_result"
    }
   ],
   "source": [
    "columnas = ['1987', '1988', '1989', '1990', '1991', '1992', '1993', '1994', '1995', '1996', '1997', '1998', '1999', '2000', '2001','2002', '2003']\n",
    "descripcion1 = df[columnas].describe().round(2)\n",
    "descripcion1"
   ]
  },
  {
   "cell_type": "markdown",
   "metadata": {},
   "source": [
    "El análisis se divide en dos secciones debido al amplio rango de años considerado, que abarca desde 1987 hasta 2022. Esta separación facilita la evaluación detallada de los indicadores a lo largo de un extenso período temporal."
   ]
  },
  {
   "cell_type": "code",
   "execution_count": 7,
   "metadata": {},
   "outputs": [
    {
     "data": {
      "text/html": [
       "<div>\n",
       "<style scoped>\n",
       "    .dataframe tbody tr th:only-of-type {\n",
       "        vertical-align: middle;\n",
       "    }\n",
       "\n",
       "    .dataframe tbody tr th {\n",
       "        vertical-align: top;\n",
       "    }\n",
       "\n",
       "    .dataframe thead th {\n",
       "        text-align: right;\n",
       "    }\n",
       "</style>\n",
       "<table border=\"1\" class=\"dataframe\">\n",
       "  <thead>\n",
       "    <tr style=\"text-align: right;\">\n",
       "      <th></th>\n",
       "      <th>2004</th>\n",
       "      <th>2005</th>\n",
       "      <th>2006</th>\n",
       "      <th>2007</th>\n",
       "      <th>2008</th>\n",
       "      <th>2009</th>\n",
       "      <th>2010</th>\n",
       "      <th>2011</th>\n",
       "      <th>2012</th>\n",
       "      <th>2013</th>\n",
       "      <th>2014</th>\n",
       "      <th>2015</th>\n",
       "      <th>2016</th>\n",
       "      <th>2017</th>\n",
       "      <th>2018</th>\n",
       "      <th>2019</th>\n",
       "      <th>2020</th>\n",
       "      <th>2021</th>\n",
       "      <th>2022</th>\n",
       "    </tr>\n",
       "  </thead>\n",
       "  <tbody>\n",
       "    <tr>\n",
       "      <th>count</th>\n",
       "      <td>57.00</td>\n",
       "      <td>63.00</td>\n",
       "      <td>68.00</td>\n",
       "      <td>72.00</td>\n",
       "      <td>68.00</td>\n",
       "      <td>79.00</td>\n",
       "      <td>85.00</td>\n",
       "      <td>87.00</td>\n",
       "      <td>82.00</td>\n",
       "      <td>64.00</td>\n",
       "      <td>89.00</td>\n",
       "      <td>86.00</td>\n",
       "      <td>88.00</td>\n",
       "      <td>75.00</td>\n",
       "      <td>76.00</td>\n",
       "      <td>81.00</td>\n",
       "      <td>83.00</td>\n",
       "      <td>58.00</td>\n",
       "      <td>19.00</td>\n",
       "    </tr>\n",
       "    <tr>\n",
       "      <th>mean</th>\n",
       "      <td>55.53</td>\n",
       "      <td>57.89</td>\n",
       "      <td>53.04</td>\n",
       "      <td>53.76</td>\n",
       "      <td>57.83</td>\n",
       "      <td>58.46</td>\n",
       "      <td>62.71</td>\n",
       "      <td>61.32</td>\n",
       "      <td>61.17</td>\n",
       "      <td>64.68</td>\n",
       "      <td>61.41</td>\n",
       "      <td>60.80</td>\n",
       "      <td>65.42</td>\n",
       "      <td>65.34</td>\n",
       "      <td>63.19</td>\n",
       "      <td>64.40</td>\n",
       "      <td>68.78</td>\n",
       "      <td>69.07</td>\n",
       "      <td>56.94</td>\n",
       "    </tr>\n",
       "    <tr>\n",
       "      <th>std</th>\n",
       "      <td>29.09</td>\n",
       "      <td>27.04</td>\n",
       "      <td>27.01</td>\n",
       "      <td>29.72</td>\n",
       "      <td>27.22</td>\n",
       "      <td>30.24</td>\n",
       "      <td>27.81</td>\n",
       "      <td>28.40</td>\n",
       "      <td>29.72</td>\n",
       "      <td>26.10</td>\n",
       "      <td>29.42</td>\n",
       "      <td>28.97</td>\n",
       "      <td>25.31</td>\n",
       "      <td>27.54</td>\n",
       "      <td>30.66</td>\n",
       "      <td>30.00</td>\n",
       "      <td>26.55</td>\n",
       "      <td>30.22</td>\n",
       "      <td>32.17</td>\n",
       "    </tr>\n",
       "    <tr>\n",
       "      <th>min</th>\n",
       "      <td>5.47</td>\n",
       "      <td>6.81</td>\n",
       "      <td>1.84</td>\n",
       "      <td>0.27</td>\n",
       "      <td>1.85</td>\n",
       "      <td>2.04</td>\n",
       "      <td>7.92</td>\n",
       "      <td>9.34</td>\n",
       "      <td>1.70</td>\n",
       "      <td>11.69</td>\n",
       "      <td>0.00</td>\n",
       "      <td>5.83</td>\n",
       "      <td>13.48</td>\n",
       "      <td>8.16</td>\n",
       "      <td>2.02</td>\n",
       "      <td>4.56</td>\n",
       "      <td>10.96</td>\n",
       "      <td>4.70</td>\n",
       "      <td>12.60</td>\n",
       "    </tr>\n",
       "    <tr>\n",
       "      <th>25%</th>\n",
       "      <td>32.51</td>\n",
       "      <td>35.12</td>\n",
       "      <td>32.91</td>\n",
       "      <td>32.10</td>\n",
       "      <td>37.70</td>\n",
       "      <td>33.45</td>\n",
       "      <td>39.47</td>\n",
       "      <td>36.98</td>\n",
       "      <td>37.79</td>\n",
       "      <td>44.58</td>\n",
       "      <td>37.67</td>\n",
       "      <td>35.25</td>\n",
       "      <td>45.69</td>\n",
       "      <td>46.61</td>\n",
       "      <td>41.03</td>\n",
       "      <td>40.84</td>\n",
       "      <td>49.22</td>\n",
       "      <td>50.28</td>\n",
       "      <td>31.16</td>\n",
       "    </tr>\n",
       "    <tr>\n",
       "      <th>50%</th>\n",
       "      <td>57.12</td>\n",
       "      <td>59.33</td>\n",
       "      <td>50.77</td>\n",
       "      <td>52.06</td>\n",
       "      <td>57.74</td>\n",
       "      <td>63.18</td>\n",
       "      <td>65.52</td>\n",
       "      <td>66.57</td>\n",
       "      <td>61.51</td>\n",
       "      <td>69.16</td>\n",
       "      <td>69.42</td>\n",
       "      <td>68.96</td>\n",
       "      <td>70.01</td>\n",
       "      <td>68.85</td>\n",
       "      <td>68.03</td>\n",
       "      <td>70.41</td>\n",
       "      <td>75.11</td>\n",
       "      <td>75.08</td>\n",
       "      <td>54.12</td>\n",
       "    </tr>\n",
       "    <tr>\n",
       "      <th>75%</th>\n",
       "      <td>80.83</td>\n",
       "      <td>80.80</td>\n",
       "      <td>73.79</td>\n",
       "      <td>75.79</td>\n",
       "      <td>79.13</td>\n",
       "      <td>83.69</td>\n",
       "      <td>86.43</td>\n",
       "      <td>86.67</td>\n",
       "      <td>87.47</td>\n",
       "      <td>89.48</td>\n",
       "      <td>88.31</td>\n",
       "      <td>87.45</td>\n",
       "      <td>89.03</td>\n",
       "      <td>91.27</td>\n",
       "      <td>92.69</td>\n",
       "      <td>91.03</td>\n",
       "      <td>92.51</td>\n",
       "      <td>95.69</td>\n",
       "      <td>87.49</td>\n",
       "    </tr>\n",
       "    <tr>\n",
       "      <th>max</th>\n",
       "      <td>101.23</td>\n",
       "      <td>101.41</td>\n",
       "      <td>102.53</td>\n",
       "      <td>103.20</td>\n",
       "      <td>103.00</td>\n",
       "      <td>102.46</td>\n",
       "      <td>102.90</td>\n",
       "      <td>105.29</td>\n",
       "      <td>115.66</td>\n",
       "      <td>100.79</td>\n",
       "      <td>99.86</td>\n",
       "      <td>101.78</td>\n",
       "      <td>107.37</td>\n",
       "      <td>104.85</td>\n",
       "      <td>103.38</td>\n",
       "      <td>129.95</td>\n",
       "      <td>111.69</td>\n",
       "      <td>108.79</td>\n",
       "      <td>101.38</td>\n",
       "    </tr>\n",
       "  </tbody>\n",
       "</table>\n",
       "</div>"
      ],
      "text/plain": [
       "         2004    2005    2006    2007    2008    2009    2010    2011    2012  \\\n",
       "count   57.00   63.00   68.00   72.00   68.00   79.00   85.00   87.00   82.00   \n",
       "mean    55.53   57.89   53.04   53.76   57.83   58.46   62.71   61.32   61.17   \n",
       "std     29.09   27.04   27.01   29.72   27.22   30.24   27.81   28.40   29.72   \n",
       "min      5.47    6.81    1.84    0.27    1.85    2.04    7.92    9.34    1.70   \n",
       "25%     32.51   35.12   32.91   32.10   37.70   33.45   39.47   36.98   37.79   \n",
       "50%     57.12   59.33   50.77   52.06   57.74   63.18   65.52   66.57   61.51   \n",
       "75%     80.83   80.80   73.79   75.79   79.13   83.69   86.43   86.67   87.47   \n",
       "max    101.23  101.41  102.53  103.20  103.00  102.46  102.90  105.29  115.66   \n",
       "\n",
       "         2013   2014    2015    2016    2017    2018    2019    2020    2021  \\\n",
       "count   64.00  89.00   86.00   88.00   75.00   76.00   81.00   83.00   58.00   \n",
       "mean    64.68  61.41   60.80   65.42   65.34   63.19   64.40   68.78   69.07   \n",
       "std     26.10  29.42   28.97   25.31   27.54   30.66   30.00   26.55   30.22   \n",
       "min     11.69   0.00    5.83   13.48    8.16    2.02    4.56   10.96    4.70   \n",
       "25%     44.58  37.67   35.25   45.69   46.61   41.03   40.84   49.22   50.28   \n",
       "50%     69.16  69.42   68.96   70.01   68.85   68.03   70.41   75.11   75.08   \n",
       "75%     89.48  88.31   87.45   89.03   91.27   92.69   91.03   92.51   95.69   \n",
       "max    100.79  99.86  101.78  107.37  104.85  103.38  129.95  111.69  108.79   \n",
       "\n",
       "         2022  \n",
       "count   19.00  \n",
       "mean    56.94  \n",
       "std     32.17  \n",
       "min     12.60  \n",
       "25%     31.16  \n",
       "50%     54.12  \n",
       "75%     87.49  \n",
       "max    101.38  "
      ]
     },
     "execution_count": 7,
     "metadata": {},
     "output_type": "execute_result"
    }
   ],
   "source": [
    "columnas = ['2004', '2005', '2006', '2007', '2008', '2009', '2010', '2011', '2012', '2013', '2014', '2015', '2016', '2017', '2018', '2019', '2020', '2021', '2022']\n",
    "descripcion2 = df[columnas].describe().round(2)\n",
    "descripcion2"
   ]
  },
  {
   "cell_type": "markdown",
   "metadata": {},
   "source": [
    "Este Dataset comprende un extenso periodo, desde 1987 hasta 2022, con un rango variable de observaciones, desde un mínimo de 3 a un máximo de 89. Las desviaciones estándar permanecen consistentes, entre 25 y 32, destacando la dispersión de los datos en cada año. La media de los indicadores se mantiene alrededor de 60-70, mostrando cierta estabilidad a lo largo de las décadas. Los valores mínimo y máximo varían notablemente, desde 0 hasta 12.60 como mínimo, y desde 99.86 hasta 129.95 como máximo, evidenciando la amplitud y diversidad de los datos a lo largo del tiempo. En resumen, el conjunto de datos proporciona un amplio espectro para analizar tendencias, cambios y distribución de indicadores específicos para múltiples países a lo largo de un amplio período temporal."
   ]
  },
  {
   "cell_type": "markdown",
   "metadata": {},
   "source": [
    "Para conocer si tenemos valores faltantes en las columnas de ['país'] ['codigo_pais'] ['factor_(serie)'] ['codigo_serie']"
   ]
  },
  {
   "cell_type": "code",
   "execution_count": 5,
   "metadata": {},
   "outputs": [
    {
     "name": "stdout",
     "output_type": "stream",
     "text": [
      "0\n",
      "0\n",
      "0\n",
      "0\n"
     ]
    }
   ],
   "source": [
    "print(df['país'].isna().sum())\n",
    "print(df['codigo_pais'].isna().sum())\n",
    "print(df['factor_(serie)'].isna().sum())\n",
    "print(df['codigo_serie'].isna().sum())\n"
   ]
  },
  {
   "cell_type": "markdown",
   "metadata": {},
   "source": [
    "Veamos en que países se encuentran en estudio."
   ]
  },
  {
   "cell_type": "code",
   "execution_count": 7,
   "metadata": {},
   "outputs": [
    {
     "name": "stdout",
     "output_type": "stream",
     "text": [
      "Cantidad de paises en estudio: 44\n"
     ]
    },
    {
     "data": {
      "text/html": [
       "<div>\n",
       "<style scoped>\n",
       "    .dataframe tbody tr th:only-of-type {\n",
       "        vertical-align: middle;\n",
       "    }\n",
       "\n",
       "    .dataframe tbody tr th {\n",
       "        vertical-align: top;\n",
       "    }\n",
       "\n",
       "    .dataframe thead th {\n",
       "        text-align: right;\n",
       "    }\n",
       "</style>\n",
       "<table border=\"1\" class=\"dataframe\">\n",
       "  <thead>\n",
       "    <tr style=\"text-align: right;\">\n",
       "      <th></th>\n",
       "      <th>Países</th>\n",
       "    </tr>\n",
       "  </thead>\n",
       "  <tbody>\n",
       "    <tr>\n",
       "      <th>0</th>\n",
       "      <td>Afganistán</td>\n",
       "    </tr>\n",
       "    <tr>\n",
       "      <th>1</th>\n",
       "      <td>Alemania</td>\n",
       "    </tr>\n",
       "    <tr>\n",
       "      <th>2</th>\n",
       "      <td>Argelia</td>\n",
       "    </tr>\n",
       "    <tr>\n",
       "      <th>3</th>\n",
       "      <td>Arabia Saudita</td>\n",
       "    </tr>\n",
       "    <tr>\n",
       "      <th>4</th>\n",
       "      <td>Argentina</td>\n",
       "    </tr>\n",
       "    <tr>\n",
       "      <th>5</th>\n",
       "      <td>Australia</td>\n",
       "    </tr>\n",
       "    <tr>\n",
       "      <th>6</th>\n",
       "      <td>Austria</td>\n",
       "    </tr>\n",
       "    <tr>\n",
       "      <th>7</th>\n",
       "      <td>Brasil</td>\n",
       "    </tr>\n",
       "    <tr>\n",
       "      <th>8</th>\n",
       "      <td>Burkina Faso</td>\n",
       "    </tr>\n",
       "    <tr>\n",
       "      <th>9</th>\n",
       "      <td>China</td>\n",
       "    </tr>\n",
       "    <tr>\n",
       "      <th>10</th>\n",
       "      <td>Canadá</td>\n",
       "    </tr>\n",
       "    <tr>\n",
       "      <th>11</th>\n",
       "      <td>Camboya</td>\n",
       "    </tr>\n",
       "    <tr>\n",
       "      <th>12</th>\n",
       "      <td>Chad</td>\n",
       "    </tr>\n",
       "    <tr>\n",
       "      <th>13</th>\n",
       "      <td>Dinamarca</td>\n",
       "    </tr>\n",
       "    <tr>\n",
       "      <th>14</th>\n",
       "      <td>Ecuador</td>\n",
       "    </tr>\n",
       "    <tr>\n",
       "      <th>15</th>\n",
       "      <td>Emiratos Árabes Unidos</td>\n",
       "    </tr>\n",
       "    <tr>\n",
       "      <th>16</th>\n",
       "      <td>Egipto</td>\n",
       "    </tr>\n",
       "    <tr>\n",
       "      <th>17</th>\n",
       "      <td>Cuba</td>\n",
       "    </tr>\n",
       "    <tr>\n",
       "      <th>18</th>\n",
       "      <td>Costa Rica</td>\n",
       "    </tr>\n",
       "    <tr>\n",
       "      <th>19</th>\n",
       "      <td>Estados Unidos</td>\n",
       "    </tr>\n",
       "    <tr>\n",
       "      <th>20</th>\n",
       "      <td>España</td>\n",
       "    </tr>\n",
       "    <tr>\n",
       "      <th>21</th>\n",
       "      <td>Fiji</td>\n",
       "    </tr>\n",
       "    <tr>\n",
       "      <th>22</th>\n",
       "      <td>Finlandia</td>\n",
       "    </tr>\n",
       "    <tr>\n",
       "      <th>23</th>\n",
       "      <td>Rusia</td>\n",
       "    </tr>\n",
       "    <tr>\n",
       "      <th>24</th>\n",
       "      <td>Grecia</td>\n",
       "    </tr>\n",
       "    <tr>\n",
       "      <th>25</th>\n",
       "      <td>India</td>\n",
       "    </tr>\n",
       "    <tr>\n",
       "      <th>26</th>\n",
       "      <td>Marruecos</td>\n",
       "    </tr>\n",
       "    <tr>\n",
       "      <th>27</th>\n",
       "      <td>México</td>\n",
       "    </tr>\n",
       "    <tr>\n",
       "      <th>28</th>\n",
       "      <td>Nepal</td>\n",
       "    </tr>\n",
       "    <tr>\n",
       "      <th>29</th>\n",
       "      <td>Níger</td>\n",
       "    </tr>\n",
       "    <tr>\n",
       "      <th>30</th>\n",
       "      <td>Países Bajos</td>\n",
       "    </tr>\n",
       "    <tr>\n",
       "      <th>31</th>\n",
       "      <td>Nueva Zelandia</td>\n",
       "    </tr>\n",
       "    <tr>\n",
       "      <th>32</th>\n",
       "      <td>Reino Unido</td>\n",
       "    </tr>\n",
       "    <tr>\n",
       "      <th>33</th>\n",
       "      <td>Rwanda</td>\n",
       "    </tr>\n",
       "    <tr>\n",
       "      <th>34</th>\n",
       "      <td>Samoa</td>\n",
       "    </tr>\n",
       "    <tr>\n",
       "      <th>35</th>\n",
       "      <td>Sierra Leona</td>\n",
       "    </tr>\n",
       "    <tr>\n",
       "      <th>36</th>\n",
       "      <td>Sudáfrica</td>\n",
       "    </tr>\n",
       "    <tr>\n",
       "      <th>37</th>\n",
       "      <td>Singapur</td>\n",
       "    </tr>\n",
       "    <tr>\n",
       "      <th>38</th>\n",
       "      <td>Suiza</td>\n",
       "    </tr>\n",
       "    <tr>\n",
       "      <th>39</th>\n",
       "      <td>Venezuela</td>\n",
       "    </tr>\n",
       "    <tr>\n",
       "      <th>40</th>\n",
       "      <td>Colombia</td>\n",
       "    </tr>\n",
       "    <tr>\n",
       "      <th>41</th>\n",
       "      <td>Japón</td>\n",
       "    </tr>\n",
       "    <tr>\n",
       "      <th>42</th>\n",
       "      <td>Kenya</td>\n",
       "    </tr>\n",
       "    <tr>\n",
       "      <th>43</th>\n",
       "      <td>Noruega</td>\n",
       "    </tr>\n",
       "  </tbody>\n",
       "</table>\n",
       "</div>"
      ],
      "text/plain": [
       "                    Países\n",
       "0               Afganistán\n",
       "1                 Alemania\n",
       "2                  Argelia\n",
       "3           Arabia Saudita\n",
       "4                Argentina\n",
       "5                Australia\n",
       "6                  Austria\n",
       "7                   Brasil\n",
       "8             Burkina Faso\n",
       "9                    China\n",
       "10                  Canadá\n",
       "11                 Camboya\n",
       "12                    Chad\n",
       "13               Dinamarca\n",
       "14                 Ecuador\n",
       "15  Emiratos Árabes Unidos\n",
       "16                  Egipto\n",
       "17                    Cuba\n",
       "18              Costa Rica\n",
       "19          Estados Unidos\n",
       "20                  España\n",
       "21                    Fiji\n",
       "22               Finlandia\n",
       "23                   Rusia\n",
       "24                  Grecia\n",
       "25                   India\n",
       "26               Marruecos\n",
       "27                  México\n",
       "28                   Nepal\n",
       "29                   Níger\n",
       "30            Países Bajos\n",
       "31          Nueva Zelandia\n",
       "32             Reino Unido\n",
       "33                  Rwanda\n",
       "34                   Samoa\n",
       "35            Sierra Leona\n",
       "36               Sudáfrica\n",
       "37                Singapur\n",
       "38                   Suiza\n",
       "39               Venezuela\n",
       "40                Colombia\n",
       "41                   Japón\n",
       "42                   Kenya\n",
       "43                 Noruega"
      ]
     },
     "execution_count": 7,
     "metadata": {},
     "output_type": "execute_result"
    }
   ],
   "source": [
    "cantidad_paises = len(df['país'].unique())\n",
    "print('Cantidad de paises en estudio:',cantidad_paises)\n",
    "pd.DataFrame(df['país'].unique(), columns=['Países'])"
   ]
  },
  {
   "cell_type": "markdown",
   "metadata": {},
   "source": [
    "El conjunto de países en estudio refleja una diversidad geográfica significativa, representando un total de 43 naciones. Esta recopilación abarca una amplia distribución global, incluyendo países de distintos continentes, como Asia con naciones como China, India, y Japón; Europa con Alemania, España y Noruega; América con Estados Unidos, Argentina y Venezuela; África con Argelia, Nigeria y Rwanda; Oceanía con Australia, Fiji y Nueva Zelanda, entre otros. Esta diversidad geográfica sugiere una representación global en los datos, proporcionando la oportunidad de estudiar y comparar patrones, tendencias y características distintivas de cada continente en el análisis."
   ]
  },
  {
   "cell_type": "code",
   "execution_count": 6,
   "metadata": {},
   "outputs": [],
   "source": [
    "df['país'] = df['país'].replace('Egipto, República Árabe de', 'Egipto')\n",
    "df['país'] = df['país'].replace('Federación de Rusia', 'Rusia')"
   ]
  },
  {
   "cell_type": "markdown",
   "metadata": {},
   "source": [
    "Veamos que Factores se estudian en la Categoría educación"
   ]
  },
  {
   "cell_type": "code",
   "execution_count": 8,
   "metadata": {},
   "outputs": [
    {
     "name": "stdout",
     "output_type": "stream",
     "text": [
      "Cantidad de variables en estudio la categoría Educación: 4\n",
      "['Nivel de instrucción, al menos ciclo inferior de la escuela secundaria completo, población de más de 25 años, total (%) (acumulativo)'\n",
      " 'Nivel de instrucción, al menos ciclo superior de la escuela secundaria completo, población de más de 25 años, total (%) (acumulativo)'\n",
      " 'Nivel de instrucción, al menos escuela de nivel posterior a la secundaria completa, población de más de 25 años, total (%) (acumulativo)'\n",
      " 'Tasa de finalización del ciclo inferior de la educación secundaria, total (% del grupo etario pertinente)']\n"
     ]
    }
   ],
   "source": [
    "cantidad_series = len(df['factor_(serie)'].unique())\n",
    "print('Cantidad de variables en estudio la categoría Educación:',cantidad_series)\n",
    "serie_unicos = df['factor_(serie)'].unique()\n",
    "print(serie_unicos)"
   ]
  },
  {
   "cell_type": "markdown",
   "metadata": {},
   "source": [
    "Reorganizamos el DataFrame"
   ]
  },
  {
   "cell_type": "code",
   "execution_count": 9,
   "metadata": {},
   "outputs": [],
   "source": [
    "# Eliminar columnas específicas por nombre\n",
    "columnas_a_eliminar = ['codigo_pais', 'codigo_serie']  # Lista con los nombres de las columnas a eliminar\n",
    "df = df.drop(columnas_a_eliminar, axis=1)"
   ]
  },
  {
   "cell_type": "code",
   "execution_count": 10,
   "metadata": {},
   "outputs": [
    {
     "data": {
      "text/html": [
       "<div>\n",
       "<style scoped>\n",
       "    .dataframe tbody tr th:only-of-type {\n",
       "        vertical-align: middle;\n",
       "    }\n",
       "\n",
       "    .dataframe tbody tr th {\n",
       "        vertical-align: top;\n",
       "    }\n",
       "\n",
       "    .dataframe thead th {\n",
       "        text-align: right;\n",
       "    }\n",
       "</style>\n",
       "<table border=\"1\" class=\"dataframe\">\n",
       "  <thead>\n",
       "    <tr style=\"text-align: right;\">\n",
       "      <th></th>\n",
       "      <th>país</th>\n",
       "      <th>factor_(serie)</th>\n",
       "      <th>Año</th>\n",
       "      <th>Valor</th>\n",
       "    </tr>\n",
       "  </thead>\n",
       "  <tbody>\n",
       "    <tr>\n",
       "      <th>0</th>\n",
       "      <td>Afganistán</td>\n",
       "      <td>Nivel de instrucción, al menos ciclo inferior ...</td>\n",
       "      <td>1987</td>\n",
       "      <td>NaN</td>\n",
       "    </tr>\n",
       "    <tr>\n",
       "      <th>1</th>\n",
       "      <td>Afganistán</td>\n",
       "      <td>Nivel de instrucción, al menos ciclo superior ...</td>\n",
       "      <td>1987</td>\n",
       "      <td>NaN</td>\n",
       "    </tr>\n",
       "    <tr>\n",
       "      <th>2</th>\n",
       "      <td>Afganistán</td>\n",
       "      <td>Nivel de instrucción, al menos escuela de nive...</td>\n",
       "      <td>1987</td>\n",
       "      <td>NaN</td>\n",
       "    </tr>\n",
       "    <tr>\n",
       "      <th>3</th>\n",
       "      <td>Afganistán</td>\n",
       "      <td>Tasa de finalización del ciclo inferior de la ...</td>\n",
       "      <td>1987</td>\n",
       "      <td>NaN</td>\n",
       "    </tr>\n",
       "    <tr>\n",
       "      <th>4</th>\n",
       "      <td>Alemania</td>\n",
       "      <td>Nivel de instrucción, al menos ciclo inferior ...</td>\n",
       "      <td>1987</td>\n",
       "      <td>NaN</td>\n",
       "    </tr>\n",
       "    <tr>\n",
       "      <th>...</th>\n",
       "      <td>...</td>\n",
       "      <td>...</td>\n",
       "      <td>...</td>\n",
       "      <td>...</td>\n",
       "    </tr>\n",
       "    <tr>\n",
       "      <th>6331</th>\n",
       "      <td>Kenya</td>\n",
       "      <td>Tasa de finalización del ciclo inferior de la ...</td>\n",
       "      <td>2022</td>\n",
       "      <td>NaN</td>\n",
       "    </tr>\n",
       "    <tr>\n",
       "      <th>6332</th>\n",
       "      <td>Noruega</td>\n",
       "      <td>Nivel de instrucción, al menos ciclo inferior ...</td>\n",
       "      <td>2022</td>\n",
       "      <td>NaN</td>\n",
       "    </tr>\n",
       "    <tr>\n",
       "      <th>6333</th>\n",
       "      <td>Noruega</td>\n",
       "      <td>Nivel de instrucción, al menos ciclo superior ...</td>\n",
       "      <td>2022</td>\n",
       "      <td>NaN</td>\n",
       "    </tr>\n",
       "    <tr>\n",
       "      <th>6334</th>\n",
       "      <td>Noruega</td>\n",
       "      <td>Nivel de instrucción, al menos escuela de nive...</td>\n",
       "      <td>2022</td>\n",
       "      <td>NaN</td>\n",
       "    </tr>\n",
       "    <tr>\n",
       "      <th>6335</th>\n",
       "      <td>Noruega</td>\n",
       "      <td>Tasa de finalización del ciclo inferior de la ...</td>\n",
       "      <td>2022</td>\n",
       "      <td>NaN</td>\n",
       "    </tr>\n",
       "  </tbody>\n",
       "</table>\n",
       "<p>6336 rows × 4 columns</p>\n",
       "</div>"
      ],
      "text/plain": [
       "            país                                     factor_(serie)   Año  \\\n",
       "0     Afganistán  Nivel de instrucción, al menos ciclo inferior ...  1987   \n",
       "1     Afganistán  Nivel de instrucción, al menos ciclo superior ...  1987   \n",
       "2     Afganistán  Nivel de instrucción, al menos escuela de nive...  1987   \n",
       "3     Afganistán  Tasa de finalización del ciclo inferior de la ...  1987   \n",
       "4       Alemania  Nivel de instrucción, al menos ciclo inferior ...  1987   \n",
       "...          ...                                                ...   ...   \n",
       "6331       Kenya  Tasa de finalización del ciclo inferior de la ...  2022   \n",
       "6332     Noruega  Nivel de instrucción, al menos ciclo inferior ...  2022   \n",
       "6333     Noruega  Nivel de instrucción, al menos ciclo superior ...  2022   \n",
       "6334     Noruega  Nivel de instrucción, al menos escuela de nive...  2022   \n",
       "6335     Noruega  Tasa de finalización del ciclo inferior de la ...  2022   \n",
       "\n",
       "      Valor  \n",
       "0       NaN  \n",
       "1       NaN  \n",
       "2       NaN  \n",
       "3       NaN  \n",
       "4       NaN  \n",
       "...     ...  \n",
       "6331    NaN  \n",
       "6332    NaN  \n",
       "6333    NaN  \n",
       "6334    NaN  \n",
       "6335    NaN  \n",
       "\n",
       "[6336 rows x 4 columns]"
      ]
     },
     "execution_count": 10,
     "metadata": {},
     "output_type": "execute_result"
    }
   ],
   "source": [
    "# Reorganizar los datos para tener 'factor_(serie)' como índice y los años como valores en una sola columna\n",
    "df_reorganizado = df.melt(id_vars=['país', 'factor_(serie)'], var_name='Año', value_name='Valor')\n",
    "\n",
    "# Mostrar el DataFrame reorganizado\n",
    "df_reorganizado"
   ]
  },
  {
   "cell_type": "code",
   "execution_count": 11,
   "metadata": {},
   "outputs": [
    {
     "data": {
      "text/plain": [
       "count    1746.000000\n",
       "mean       59.501718\n",
       "std        29.032712\n",
       "min         0.000000\n",
       "25%        36.298250\n",
       "50%        60.580000\n",
       "75%        85.584600\n",
       "max       129.953700\n",
       "Name: Valor, dtype: float64"
      ]
     },
     "execution_count": 11,
     "metadata": {},
     "output_type": "execute_result"
    }
   ],
   "source": [
    "df_reorganizado['Valor'].describe()"
   ]
  },
  {
   "cell_type": "markdown",
   "metadata": {},
   "source": [
    "Como se puede observar en el análisis anterior con un total de 1746 registros no nulos, se observa que la media de los valores es aproximadamente 59.50, con una dispersión significativa reflejada por una desviación estándar de alrededor de 29.03 unidades. El rango de valores es considerable, oscilando desde un mínimo de 0 hasta un máximo de 129.95. La mediana, situada en aproximadamente 60.58, indica que el 50% de los datos caen por debajo de este valor, mientras que el otro 50% se encuentra por encima. Los percentiles muestran que el 25% de los datos son inferiores a 36.30 y el 75% son inferiores a 85.58, evidenciando la distribución de los valores en el conjunto de datos. Estos datos resumen la variabilidad, la centralidad y la amplitud de la información presente en la columna 'Valor'."
   ]
  },
  {
   "cell_type": "code",
   "execution_count": 12,
   "metadata": {},
   "outputs": [
    {
     "name": "stdout",
     "output_type": "stream",
     "text": [
      "Nivel de instrucción, al menos ciclo inferior de la escuela secundaria completo, población de más de 25 años, total (%) (acumulativo)       1584\n",
      "Nivel de instrucción, al menos ciclo superior de la escuela secundaria completo, población de más de 25 años, total (%) (acumulativo)       1584\n",
      "Nivel de instrucción, al menos escuela de nivel posterior a la secundaria completa, población de más de 25 años, total (%) (acumulativo)    1584\n",
      "Tasa de finalización del ciclo inferior de la educación secundaria, total (% del grupo etario pertinente)                                   1584\n",
      "Name: factor_(serie), dtype: int64\n"
     ]
    }
   ],
   "source": [
    "repetitions = df_reorganizado['factor_(serie)'].value_counts()\n",
    "print(repetitions)"
   ]
  },
  {
   "cell_type": "markdown",
   "metadata": {},
   "source": [
    "Para Validar que factor cuenta con mejor cantidad de datos, se consulta de la siguiente manera:"
   ]
  },
  {
   "cell_type": "code",
   "execution_count": 13,
   "metadata": {},
   "outputs": [
    {
     "name": "stdout",
     "output_type": "stream",
     "text": [
      "Descripción para el factor 'Nivel de instrucción, al menos ciclo inferior de la escuela secundaria completo, población de más de 25 años, total (%) (acumulativo)':\n",
      "count    370.000000\n",
      "mean      64.826965\n",
      "std       25.714869\n",
      "min        2.036200\n",
      "25%       45.282500\n",
      "50%       63.170150\n",
      "75%       91.208100\n",
      "max       99.859800\n",
      "Name: Valor, dtype: float64\n",
      "\n",
      "Descripción para el factor 'Nivel de instrucción, al menos ciclo superior de la escuela secundaria completo, población de más de 25 años, total (%) (acumulativo)':\n",
      "count    404.000000\n",
      "mean      53.461496\n",
      "std       23.176532\n",
      "min        0.495100\n",
      "25%       34.627500\n",
      "50%       53.208350\n",
      "75%       73.827175\n",
      "max       92.176800\n",
      "Name: Valor, dtype: float64\n",
      "\n"
     ]
    }
   ],
   "source": [
    "unique_factors = ['Nivel de instrucción, al menos ciclo inferior de la escuela secundaria completo, población de más de 25 años, total (%) (acumulativo)',\n",
    " 'Nivel de instrucción, al menos ciclo superior de la escuela secundaria completo, población de más de 25 años, total (%) (acumulativo)']\n",
    "\n",
    "for factor in unique_factors:\n",
    "    filtered_data = df_reorganizado[df_reorganizado['factor_(serie)'] == factor]\n",
    "    description = filtered_data['Valor'].describe()\n",
    "    print(f\"Descripción para el factor '{factor}':\\n{description}\\n\")\n"
   ]
  },
  {
   "cell_type": "code",
   "execution_count": 14,
   "metadata": {},
   "outputs": [
    {
     "name": "stdout",
     "output_type": "stream",
     "text": [
      "Descripción para el factor 'Nivel de instrucción, al menos escuela de nivel posterior a la secundaria completa, población de más de 25 años, total (%) (acumulativo)':\n",
      "count    233.000000\n",
      "mean      28.728891\n",
      "std       14.838201\n",
      "min        0.000000\n",
      "25%       14.687200\n",
      "50%       30.560600\n",
      "75%       37.572800\n",
      "max       76.293700\n",
      "Name: Valor, dtype: float64\n",
      "\n",
      "Descripción para el factor 'Tasa de finalización del ciclo inferior de la educación secundaria, total (% del grupo etario pertinente)':\n",
      "count    739.000000\n",
      "mean      69.839981\n",
      "std       29.320282\n",
      "min        0.917800\n",
      "25%       52.698100\n",
      "50%       77.705600\n",
      "75%       94.966250\n",
      "max      129.953700\n",
      "Name: Valor, dtype: float64\n",
      "\n"
     ]
    }
   ],
   "source": [
    "unique_factors = ['Nivel de instrucción, al menos escuela de nivel posterior a la secundaria completa, población de más de 25 años, total (%) (acumulativo)',\n",
    " 'Tasa de finalización del ciclo inferior de la educación secundaria, total (% del grupo etario pertinente)']\n",
    "\n",
    "for factor in unique_factors:\n",
    "    filtered_data = df_reorganizado[df_reorganizado['factor_(serie)'] == factor]\n",
    "    description = filtered_data['Valor'].describe()\n",
    "    print(f\"Descripción para el factor '{factor}':\\n{description}\\n\")"
   ]
  },
  {
   "cell_type": "markdown",
   "metadata": {},
   "source": [
    "Si queríamos conocer cual es el factor con mejor calidad de datos es Tasa de finalización del ciclo inferior de la educación secundaria, total (% del grupo etario pertinente) con 739 registros de 1584"
   ]
  },
  {
   "cell_type": "markdown",
   "metadata": {},
   "source": [
    "Ante la presencia significativa de valores faltantes (NaN) en nuestro conjunto de datos, se optó por aplicar una estrategia de imputación. Esta estrategia consiste en el reemplazo de los valores faltantes por la media de los datos, tomando en consideración la especificidad de cada país como también la del factor en estudio. Este enfoque nos permite abordar la ausencia de datos, asegurando una mayor integridad en nuestro conjunto de datos al evitar vacíos o valores faltantes, lo que resulta crucial para un análisis robusto y confiable."
   ]
  },
  {
   "cell_type": "code",
   "execution_count": 15,
   "metadata": {},
   "outputs": [],
   "source": [
    "def fill_missing_with_country_factor_mean(df):\n",
    "    means_by_country_factor = df.groupby(['país', 'factor_(serie)'])['Valor'].transform('mean')\n",
    "    df['Valor'] = df['Valor'].fillna(means_by_country_factor)\n",
    "    return df\n",
    "\n",
    "# Llamada a la función para rellenar los valores faltantes con la media por país y factor\n",
    "df_filled = fill_missing_with_country_factor_mean(df_reorganizado)"
   ]
  },
  {
   "cell_type": "code",
   "execution_count": 18,
   "metadata": {},
   "outputs": [
    {
     "data": {
      "text/html": [
       "<div>\n",
       "<style scoped>\n",
       "    .dataframe tbody tr th:only-of-type {\n",
       "        vertical-align: middle;\n",
       "    }\n",
       "\n",
       "    .dataframe tbody tr th {\n",
       "        vertical-align: top;\n",
       "    }\n",
       "\n",
       "    .dataframe thead th {\n",
       "        text-align: right;\n",
       "    }\n",
       "</style>\n",
       "<table border=\"1\" class=\"dataframe\">\n",
       "  <thead>\n",
       "    <tr style=\"text-align: right;\">\n",
       "      <th></th>\n",
       "      <th>país</th>\n",
       "      <th>factor_(serie)</th>\n",
       "      <th>Año</th>\n",
       "      <th>Valor</th>\n",
       "    </tr>\n",
       "  </thead>\n",
       "  <tbody>\n",
       "    <tr>\n",
       "      <th>0</th>\n",
       "      <td>Afganistán</td>\n",
       "      <td>Nivel de instrucción, al menos ciclo inferior ...</td>\n",
       "      <td>1987</td>\n",
       "      <td>13.366867</td>\n",
       "    </tr>\n",
       "    <tr>\n",
       "      <th>1</th>\n",
       "      <td>Afganistán</td>\n",
       "      <td>Nivel de instrucción, al menos ciclo superior ...</td>\n",
       "      <td>1987</td>\n",
       "      <td>10.617000</td>\n",
       "    </tr>\n",
       "    <tr>\n",
       "      <th>2</th>\n",
       "      <td>Afganistán</td>\n",
       "      <td>Nivel de instrucción, al menos escuela de nive...</td>\n",
       "      <td>1987</td>\n",
       "      <td>4.704900</td>\n",
       "    </tr>\n",
       "    <tr>\n",
       "      <th>3</th>\n",
       "      <td>Afganistán</td>\n",
       "      <td>Tasa de finalización del ciclo inferior de la ...</td>\n",
       "      <td>1987</td>\n",
       "      <td>43.790883</td>\n",
       "    </tr>\n",
       "    <tr>\n",
       "      <th>4</th>\n",
       "      <td>Alemania</td>\n",
       "      <td>Nivel de instrucción, al menos ciclo inferior ...</td>\n",
       "      <td>1987</td>\n",
       "      <td>96.720127</td>\n",
       "    </tr>\n",
       "    <tr>\n",
       "      <th>...</th>\n",
       "      <td>...</td>\n",
       "      <td>...</td>\n",
       "      <td>...</td>\n",
       "      <td>...</td>\n",
       "    </tr>\n",
       "    <tr>\n",
       "      <th>6331</th>\n",
       "      <td>Kenya</td>\n",
       "      <td>Tasa de finalización del ciclo inferior de la ...</td>\n",
       "      <td>2022</td>\n",
       "      <td>80.665067</td>\n",
       "    </tr>\n",
       "    <tr>\n",
       "      <th>6332</th>\n",
       "      <td>Noruega</td>\n",
       "      <td>Nivel de instrucción, al menos ciclo inferior ...</td>\n",
       "      <td>2022</td>\n",
       "      <td>99.546254</td>\n",
       "    </tr>\n",
       "    <tr>\n",
       "      <th>6333</th>\n",
       "      <td>Noruega</td>\n",
       "      <td>Nivel de instrucción, al menos ciclo superior ...</td>\n",
       "      <td>2022</td>\n",
       "      <td>74.675850</td>\n",
       "    </tr>\n",
       "    <tr>\n",
       "      <th>6334</th>\n",
       "      <td>Noruega</td>\n",
       "      <td>Nivel de instrucción, al menos escuela de nive...</td>\n",
       "      <td>2022</td>\n",
       "      <td>33.707636</td>\n",
       "    </tr>\n",
       "    <tr>\n",
       "      <th>6335</th>\n",
       "      <td>Noruega</td>\n",
       "      <td>Tasa de finalización del ciclo inferior de la ...</td>\n",
       "      <td>2022</td>\n",
       "      <td>99.388288</td>\n",
       "    </tr>\n",
       "  </tbody>\n",
       "</table>\n",
       "<p>6336 rows × 4 columns</p>\n",
       "</div>"
      ],
      "text/plain": [
       "            país                                     factor_(serie)   Año  \\\n",
       "0     Afganistán  Nivel de instrucción, al menos ciclo inferior ...  1987   \n",
       "1     Afganistán  Nivel de instrucción, al menos ciclo superior ...  1987   \n",
       "2     Afganistán  Nivel de instrucción, al menos escuela de nive...  1987   \n",
       "3     Afganistán  Tasa de finalización del ciclo inferior de la ...  1987   \n",
       "4       Alemania  Nivel de instrucción, al menos ciclo inferior ...  1987   \n",
       "...          ...                                                ...   ...   \n",
       "6331       Kenya  Tasa de finalización del ciclo inferior de la ...  2022   \n",
       "6332     Noruega  Nivel de instrucción, al menos ciclo inferior ...  2022   \n",
       "6333     Noruega  Nivel de instrucción, al menos ciclo superior ...  2022   \n",
       "6334     Noruega  Nivel de instrucción, al menos escuela de nive...  2022   \n",
       "6335     Noruega  Tasa de finalización del ciclo inferior de la ...  2022   \n",
       "\n",
       "          Valor  \n",
       "0     13.366867  \n",
       "1     10.617000  \n",
       "2      4.704900  \n",
       "3     43.790883  \n",
       "4     96.720127  \n",
       "...         ...  \n",
       "6331  80.665067  \n",
       "6332  99.546254  \n",
       "6333  74.675850  \n",
       "6334  33.707636  \n",
       "6335  99.388288  \n",
       "\n",
       "[6336 rows x 4 columns]"
      ]
     },
     "execution_count": 18,
     "metadata": {},
     "output_type": "execute_result"
    }
   ],
   "source": [
    "df_filled"
   ]
  },
  {
   "cell_type": "code",
   "execution_count": 16,
   "metadata": {},
   "outputs": [
    {
     "data": {
      "text/plain": [
       "count    5868.000000\n",
       "mean       52.076291\n",
       "std        30.729631\n",
       "min         0.000000\n",
       "25%        25.728407\n",
       "50%        50.626300\n",
       "75%        78.337762\n",
       "max       129.953700\n",
       "Name: Valor, dtype: float64"
      ]
     },
     "execution_count": 16,
     "metadata": {},
     "output_type": "execute_result"
    }
   ],
   "source": [
    "df_filled['Valor'].describe()"
   ]
  },
  {
   "cell_type": "markdown",
   "metadata": {},
   "source": [
    "Una vez realizado la imputacion se evidencia que aun tenemos datos en Nan"
   ]
  },
  {
   "cell_type": "code",
   "execution_count": 17,
   "metadata": {},
   "outputs": [
    {
     "data": {
      "text/plain": [
       "468"
      ]
     },
     "execution_count": 17,
     "metadata": {},
     "output_type": "execute_result"
    }
   ],
   "source": [
    "df_filled['Valor'].isna().sum()"
   ]
  },
  {
   "cell_type": "markdown",
   "metadata": {},
   "source": [
    "Mostramos los paises que no tiene datos en los años seleccionados."
   ]
  },
  {
   "cell_type": "code",
   "execution_count": 18,
   "metadata": {},
   "outputs": [
    {
     "data": {
      "text/plain": [
       "array(['Argelia', 'Argentina', 'Australia', 'Brasil', 'Canadá', 'Chad',\n",
       "       'Costa Rica', 'Estados Unidos', 'Marruecos', 'Nueva Zelandia',\n",
       "       'Rwanda'], dtype=object)"
      ]
     },
     "execution_count": 18,
     "metadata": {},
     "output_type": "execute_result"
    }
   ],
   "source": [
    "df_filled[df_filled['Valor'].isna()]['país'].unique()"
   ]
  },
  {
   "cell_type": "markdown",
   "metadata": {},
   "source": [
    "\n",
    "Debido a que no podemos inventar datos para esos años y para los países seleccionados, se procede a eliminar esas filas donde el valor es Nan"
   ]
  },
  {
   "cell_type": "code",
   "execution_count": 19,
   "metadata": {},
   "outputs": [],
   "source": [
    "df_filled.dropna(inplace=True)"
   ]
  },
  {
   "cell_type": "markdown",
   "metadata": {},
   "source": [
    "## Observemos la distribución de los factores por cada país a continuación "
   ]
  },
  {
   "cell_type": "code",
   "execution_count": 26,
   "metadata": {},
   "outputs": [
    {
     "data": {
      "application/vnd.jupyter.widget-view+json": {
       "model_id": "436b7ebfc9004a29b69450766b7d0114",
       "version_major": 2,
       "version_minor": 0
      },
      "text/plain": [
       "Output()"
      ]
     },
     "metadata": {},
     "output_type": "display_data"
    },
    {
     "data": {
      "application/vnd.plotly.v1+json": {
       "config": {
        "plotlyServerURL": "https://plot.ly"
       },
       "data": [
        {
         "mode": "lines+markers",
         "name": "Nivel de instrucción, al menos ciclo inferior de la escuela secundaria completo, población de más de 25 años, total (%) (acumulativo)",
         "type": "scatter",
         "x": [
          "1987",
          "1988",
          "1989",
          "1990",
          "1991",
          "1992",
          "1993",
          "1994",
          "1995",
          "1996",
          "1997",
          "1998",
          "1999",
          "2000",
          "2001",
          "2002",
          "2003",
          "2004",
          "2005",
          "2006",
          "2007",
          "2008",
          "2009",
          "2010",
          "2011",
          "2012",
          "2013",
          "2014",
          "2015",
          "2016",
          "2017",
          "2018",
          "2019",
          "2020",
          "2021",
          "2022"
         ],
         "y": [
          13.366866666666667,
          13.366866666666667,
          13.366866666666667,
          13.366866666666667,
          13.366866666666667,
          13.366866666666667,
          13.366866666666667,
          13.366866666666667,
          13.366866666666667,
          13.366866666666667,
          13.366866666666667,
          13.366866666666667,
          13.366866666666667,
          13.366866666666667,
          13.366866666666667,
          13.366866666666667,
          13.366866666666667,
          13.366866666666667,
          13.366866666666667,
          13.366866666666667,
          13.366866666666667,
          13.366866666666667,
          13.366866666666667,
          13.366866666666667,
          13.366866666666667,
          13.366866666666667,
          13.366866666666667,
          13.366866666666667,
          13.1258,
          13.366866666666667,
          13.366866666666667,
          13.366866666666667,
          13.366866666666667,
          13.366866666666667,
          11.6319,
          15.3429
         ]
        },
        {
         "mode": "lines+markers",
         "name": "Nivel de instrucción, al menos ciclo superior de la escuela secundaria completo, población de más de 25 años, total (%) (acumulativo)",
         "type": "scatter",
         "x": [
          "1987",
          "1988",
          "1989",
          "1990",
          "1991",
          "1992",
          "1993",
          "1994",
          "1995",
          "1996",
          "1997",
          "1998",
          "1999",
          "2000",
          "2001",
          "2002",
          "2003",
          "2004",
          "2005",
          "2006",
          "2007",
          "2008",
          "2009",
          "2010",
          "2011",
          "2012",
          "2013",
          "2014",
          "2015",
          "2016",
          "2017",
          "2018",
          "2019",
          "2020",
          "2021",
          "2022"
         ],
         "y": [
          10.616999999999999,
          10.616999999999999,
          10.616999999999999,
          10.616999999999999,
          10.616999999999999,
          10.616999999999999,
          10.616999999999999,
          10.616999999999999,
          10.616999999999999,
          10.616999999999999,
          10.616999999999999,
          10.616999999999999,
          10.616999999999999,
          10.616999999999999,
          10.616999999999999,
          10.616999999999999,
          10.616999999999999,
          10.616999999999999,
          10.616999999999999,
          10.616999999999999,
          10.616999999999999,
          10.616999999999999,
          10.616999999999999,
          10.616999999999999,
          10.616999999999999,
          10.616999999999999,
          10.616999999999999,
          10.616999999999999,
          9.7924,
          10.616999999999999,
          10.616999999999999,
          10.616999999999999,
          10.616999999999999,
          10.616999999999999,
          9.4613,
          12.5973
         ]
        },
        {
         "mode": "lines+markers",
         "name": "Nivel de instrucción, al menos escuela de nivel posterior a la secundaria completa, población de más de 25 años, total (%) (acumulativo)",
         "type": "scatter",
         "x": [
          "1987",
          "1988",
          "1989",
          "1990",
          "1991",
          "1992",
          "1993",
          "1994",
          "1995",
          "1996",
          "1997",
          "1998",
          "1999",
          "2000",
          "2001",
          "2002",
          "2003",
          "2004",
          "2005",
          "2006",
          "2007",
          "2008",
          "2009",
          "2010",
          "2011",
          "2012",
          "2013",
          "2014",
          "2015",
          "2016",
          "2017",
          "2018",
          "2019",
          "2020",
          "2021",
          "2022"
         ],
         "y": [
          4.7049,
          4.7049,
          4.7049,
          4.7049,
          4.7049,
          4.7049,
          4.7049,
          4.7049,
          4.7049,
          4.7049,
          4.7049,
          4.7049,
          4.7049,
          4.7049,
          4.7049,
          4.7049,
          4.7049,
          4.7049,
          4.7049,
          4.7049,
          4.7049,
          4.7049,
          4.7049,
          4.7049,
          4.7049,
          4.7049,
          4.7049,
          4.7049,
          4.7049,
          4.7049,
          4.7049,
          4.7049,
          4.7049,
          4.7049,
          4.7049,
          4.7049
         ]
        },
        {
         "mode": "lines+markers",
         "name": "Tasa de finalización del ciclo inferior de la educación secundaria, total (% del grupo etario pertinente)",
         "type": "scatter",
         "x": [
          "1987",
          "1988",
          "1989",
          "1990",
          "1991",
          "1992",
          "1993",
          "1994",
          "1995",
          "1996",
          "1997",
          "1998",
          "1999",
          "2000",
          "2001",
          "2002",
          "2003",
          "2004",
          "2005",
          "2006",
          "2007",
          "2008",
          "2009",
          "2010",
          "2011",
          "2012",
          "2013",
          "2014",
          "2015",
          "2016",
          "2017",
          "2018",
          "2019",
          "2020",
          "2021",
          "2022"
         ],
         "y": [
          43.79088333333333,
          43.79088333333333,
          43.79088333333333,
          43.79088333333333,
          43.79088333333333,
          43.79088333333333,
          21.6861,
          43.79088333333333,
          43.79088333333333,
          43.79088333333333,
          43.79088333333333,
          43.79088333333333,
          43.79088333333333,
          43.79088333333333,
          43.79088333333333,
          43.79088333333333,
          43.79088333333333,
          43.79088333333333,
          17.3859,
          43.79088333333333,
          43.79088333333333,
          43.79088333333333,
          43.79088333333333,
          43.79088333333333,
          43.79088333333333,
          43.79088333333333,
          43.79088333333333,
          43.79088333333333,
          43.79088333333333,
          52.5213,
          54.6933,
          56.7369,
          59.7218,
          43.79088333333333,
          43.79088333333333,
          43.79088333333333
         ]
        }
       ],
       "layout": {
        "height": 450,
        "legend": {
         "orientation": "h",
         "x": 0,
         "y": -1.2
        },
        "template": {
         "data": {
          "bar": [
           {
            "error_x": {
             "color": "#2a3f5f"
            },
            "error_y": {
             "color": "#2a3f5f"
            },
            "marker": {
             "line": {
              "color": "#E5ECF6",
              "width": 0.5
             },
             "pattern": {
              "fillmode": "overlay",
              "size": 10,
              "solidity": 0.2
             }
            },
            "type": "bar"
           }
          ],
          "barpolar": [
           {
            "marker": {
             "line": {
              "color": "#E5ECF6",
              "width": 0.5
             },
             "pattern": {
              "fillmode": "overlay",
              "size": 10,
              "solidity": 0.2
             }
            },
            "type": "barpolar"
           }
          ],
          "carpet": [
           {
            "aaxis": {
             "endlinecolor": "#2a3f5f",
             "gridcolor": "white",
             "linecolor": "white",
             "minorgridcolor": "white",
             "startlinecolor": "#2a3f5f"
            },
            "baxis": {
             "endlinecolor": "#2a3f5f",
             "gridcolor": "white",
             "linecolor": "white",
             "minorgridcolor": "white",
             "startlinecolor": "#2a3f5f"
            },
            "type": "carpet"
           }
          ],
          "choropleth": [
           {
            "colorbar": {
             "outlinewidth": 0,
             "ticks": ""
            },
            "type": "choropleth"
           }
          ],
          "contour": [
           {
            "colorbar": {
             "outlinewidth": 0,
             "ticks": ""
            },
            "colorscale": [
             [
              0,
              "#0d0887"
             ],
             [
              0.1111111111111111,
              "#46039f"
             ],
             [
              0.2222222222222222,
              "#7201a8"
             ],
             [
              0.3333333333333333,
              "#9c179e"
             ],
             [
              0.4444444444444444,
              "#bd3786"
             ],
             [
              0.5555555555555556,
              "#d8576b"
             ],
             [
              0.6666666666666666,
              "#ed7953"
             ],
             [
              0.7777777777777778,
              "#fb9f3a"
             ],
             [
              0.8888888888888888,
              "#fdca26"
             ],
             [
              1,
              "#f0f921"
             ]
            ],
            "type": "contour"
           }
          ],
          "contourcarpet": [
           {
            "colorbar": {
             "outlinewidth": 0,
             "ticks": ""
            },
            "type": "contourcarpet"
           }
          ],
          "heatmap": [
           {
            "colorbar": {
             "outlinewidth": 0,
             "ticks": ""
            },
            "colorscale": [
             [
              0,
              "#0d0887"
             ],
             [
              0.1111111111111111,
              "#46039f"
             ],
             [
              0.2222222222222222,
              "#7201a8"
             ],
             [
              0.3333333333333333,
              "#9c179e"
             ],
             [
              0.4444444444444444,
              "#bd3786"
             ],
             [
              0.5555555555555556,
              "#d8576b"
             ],
             [
              0.6666666666666666,
              "#ed7953"
             ],
             [
              0.7777777777777778,
              "#fb9f3a"
             ],
             [
              0.8888888888888888,
              "#fdca26"
             ],
             [
              1,
              "#f0f921"
             ]
            ],
            "type": "heatmap"
           }
          ],
          "heatmapgl": [
           {
            "colorbar": {
             "outlinewidth": 0,
             "ticks": ""
            },
            "colorscale": [
             [
              0,
              "#0d0887"
             ],
             [
              0.1111111111111111,
              "#46039f"
             ],
             [
              0.2222222222222222,
              "#7201a8"
             ],
             [
              0.3333333333333333,
              "#9c179e"
             ],
             [
              0.4444444444444444,
              "#bd3786"
             ],
             [
              0.5555555555555556,
              "#d8576b"
             ],
             [
              0.6666666666666666,
              "#ed7953"
             ],
             [
              0.7777777777777778,
              "#fb9f3a"
             ],
             [
              0.8888888888888888,
              "#fdca26"
             ],
             [
              1,
              "#f0f921"
             ]
            ],
            "type": "heatmapgl"
           }
          ],
          "histogram": [
           {
            "marker": {
             "pattern": {
              "fillmode": "overlay",
              "size": 10,
              "solidity": 0.2
             }
            },
            "type": "histogram"
           }
          ],
          "histogram2d": [
           {
            "colorbar": {
             "outlinewidth": 0,
             "ticks": ""
            },
            "colorscale": [
             [
              0,
              "#0d0887"
             ],
             [
              0.1111111111111111,
              "#46039f"
             ],
             [
              0.2222222222222222,
              "#7201a8"
             ],
             [
              0.3333333333333333,
              "#9c179e"
             ],
             [
              0.4444444444444444,
              "#bd3786"
             ],
             [
              0.5555555555555556,
              "#d8576b"
             ],
             [
              0.6666666666666666,
              "#ed7953"
             ],
             [
              0.7777777777777778,
              "#fb9f3a"
             ],
             [
              0.8888888888888888,
              "#fdca26"
             ],
             [
              1,
              "#f0f921"
             ]
            ],
            "type": "histogram2d"
           }
          ],
          "histogram2dcontour": [
           {
            "colorbar": {
             "outlinewidth": 0,
             "ticks": ""
            },
            "colorscale": [
             [
              0,
              "#0d0887"
             ],
             [
              0.1111111111111111,
              "#46039f"
             ],
             [
              0.2222222222222222,
              "#7201a8"
             ],
             [
              0.3333333333333333,
              "#9c179e"
             ],
             [
              0.4444444444444444,
              "#bd3786"
             ],
             [
              0.5555555555555556,
              "#d8576b"
             ],
             [
              0.6666666666666666,
              "#ed7953"
             ],
             [
              0.7777777777777778,
              "#fb9f3a"
             ],
             [
              0.8888888888888888,
              "#fdca26"
             ],
             [
              1,
              "#f0f921"
             ]
            ],
            "type": "histogram2dcontour"
           }
          ],
          "mesh3d": [
           {
            "colorbar": {
             "outlinewidth": 0,
             "ticks": ""
            },
            "type": "mesh3d"
           }
          ],
          "parcoords": [
           {
            "line": {
             "colorbar": {
              "outlinewidth": 0,
              "ticks": ""
             }
            },
            "type": "parcoords"
           }
          ],
          "pie": [
           {
            "automargin": true,
            "type": "pie"
           }
          ],
          "scatter": [
           {
            "fillpattern": {
             "fillmode": "overlay",
             "size": 10,
             "solidity": 0.2
            },
            "type": "scatter"
           }
          ],
          "scatter3d": [
           {
            "line": {
             "colorbar": {
              "outlinewidth": 0,
              "ticks": ""
             }
            },
            "marker": {
             "colorbar": {
              "outlinewidth": 0,
              "ticks": ""
             }
            },
            "type": "scatter3d"
           }
          ],
          "scattercarpet": [
           {
            "marker": {
             "colorbar": {
              "outlinewidth": 0,
              "ticks": ""
             }
            },
            "type": "scattercarpet"
           }
          ],
          "scattergeo": [
           {
            "marker": {
             "colorbar": {
              "outlinewidth": 0,
              "ticks": ""
             }
            },
            "type": "scattergeo"
           }
          ],
          "scattergl": [
           {
            "marker": {
             "colorbar": {
              "outlinewidth": 0,
              "ticks": ""
             }
            },
            "type": "scattergl"
           }
          ],
          "scattermapbox": [
           {
            "marker": {
             "colorbar": {
              "outlinewidth": 0,
              "ticks": ""
             }
            },
            "type": "scattermapbox"
           }
          ],
          "scatterpolar": [
           {
            "marker": {
             "colorbar": {
              "outlinewidth": 0,
              "ticks": ""
             }
            },
            "type": "scatterpolar"
           }
          ],
          "scatterpolargl": [
           {
            "marker": {
             "colorbar": {
              "outlinewidth": 0,
              "ticks": ""
             }
            },
            "type": "scatterpolargl"
           }
          ],
          "scatterternary": [
           {
            "marker": {
             "colorbar": {
              "outlinewidth": 0,
              "ticks": ""
             }
            },
            "type": "scatterternary"
           }
          ],
          "surface": [
           {
            "colorbar": {
             "outlinewidth": 0,
             "ticks": ""
            },
            "colorscale": [
             [
              0,
              "#0d0887"
             ],
             [
              0.1111111111111111,
              "#46039f"
             ],
             [
              0.2222222222222222,
              "#7201a8"
             ],
             [
              0.3333333333333333,
              "#9c179e"
             ],
             [
              0.4444444444444444,
              "#bd3786"
             ],
             [
              0.5555555555555556,
              "#d8576b"
             ],
             [
              0.6666666666666666,
              "#ed7953"
             ],
             [
              0.7777777777777778,
              "#fb9f3a"
             ],
             [
              0.8888888888888888,
              "#fdca26"
             ],
             [
              1,
              "#f0f921"
             ]
            ],
            "type": "surface"
           }
          ],
          "table": [
           {
            "cells": {
             "fill": {
              "color": "#EBF0F8"
             },
             "line": {
              "color": "white"
             }
            },
            "header": {
             "fill": {
              "color": "#C8D4E3"
             },
             "line": {
              "color": "white"
             }
            },
            "type": "table"
           }
          ]
         },
         "layout": {
          "annotationdefaults": {
           "arrowcolor": "#2a3f5f",
           "arrowhead": 0,
           "arrowwidth": 1
          },
          "autotypenumbers": "strict",
          "coloraxis": {
           "colorbar": {
            "outlinewidth": 0,
            "ticks": ""
           }
          },
          "colorscale": {
           "diverging": [
            [
             0,
             "#8e0152"
            ],
            [
             0.1,
             "#c51b7d"
            ],
            [
             0.2,
             "#de77ae"
            ],
            [
             0.3,
             "#f1b6da"
            ],
            [
             0.4,
             "#fde0ef"
            ],
            [
             0.5,
             "#f7f7f7"
            ],
            [
             0.6,
             "#e6f5d0"
            ],
            [
             0.7,
             "#b8e186"
            ],
            [
             0.8,
             "#7fbc41"
            ],
            [
             0.9,
             "#4d9221"
            ],
            [
             1,
             "#276419"
            ]
           ],
           "sequential": [
            [
             0,
             "#0d0887"
            ],
            [
             0.1111111111111111,
             "#46039f"
            ],
            [
             0.2222222222222222,
             "#7201a8"
            ],
            [
             0.3333333333333333,
             "#9c179e"
            ],
            [
             0.4444444444444444,
             "#bd3786"
            ],
            [
             0.5555555555555556,
             "#d8576b"
            ],
            [
             0.6666666666666666,
             "#ed7953"
            ],
            [
             0.7777777777777778,
             "#fb9f3a"
            ],
            [
             0.8888888888888888,
             "#fdca26"
            ],
            [
             1,
             "#f0f921"
            ]
           ],
           "sequentialminus": [
            [
             0,
             "#0d0887"
            ],
            [
             0.1111111111111111,
             "#46039f"
            ],
            [
             0.2222222222222222,
             "#7201a8"
            ],
            [
             0.3333333333333333,
             "#9c179e"
            ],
            [
             0.4444444444444444,
             "#bd3786"
            ],
            [
             0.5555555555555556,
             "#d8576b"
            ],
            [
             0.6666666666666666,
             "#ed7953"
            ],
            [
             0.7777777777777778,
             "#fb9f3a"
            ],
            [
             0.8888888888888888,
             "#fdca26"
            ],
            [
             1,
             "#f0f921"
            ]
           ]
          },
          "colorway": [
           "#636efa",
           "#EF553B",
           "#00cc96",
           "#ab63fa",
           "#FFA15A",
           "#19d3f3",
           "#FF6692",
           "#B6E880",
           "#FF97FF",
           "#FECB52"
          ],
          "font": {
           "color": "#2a3f5f"
          },
          "geo": {
           "bgcolor": "white",
           "lakecolor": "white",
           "landcolor": "#E5ECF6",
           "showlakes": true,
           "showland": true,
           "subunitcolor": "white"
          },
          "hoverlabel": {
           "align": "left"
          },
          "hovermode": "closest",
          "mapbox": {
           "style": "light"
          },
          "paper_bgcolor": "white",
          "plot_bgcolor": "#E5ECF6",
          "polar": {
           "angularaxis": {
            "gridcolor": "white",
            "linecolor": "white",
            "ticks": ""
           },
           "bgcolor": "#E5ECF6",
           "radialaxis": {
            "gridcolor": "white",
            "linecolor": "white",
            "ticks": ""
           }
          },
          "scene": {
           "xaxis": {
            "backgroundcolor": "#E5ECF6",
            "gridcolor": "white",
            "gridwidth": 2,
            "linecolor": "white",
            "showbackground": true,
            "ticks": "",
            "zerolinecolor": "white"
           },
           "yaxis": {
            "backgroundcolor": "#E5ECF6",
            "gridcolor": "white",
            "gridwidth": 2,
            "linecolor": "white",
            "showbackground": true,
            "ticks": "",
            "zerolinecolor": "white"
           },
           "zaxis": {
            "backgroundcolor": "#E5ECF6",
            "gridcolor": "white",
            "gridwidth": 2,
            "linecolor": "white",
            "showbackground": true,
            "ticks": "",
            "zerolinecolor": "white"
           }
          },
          "shapedefaults": {
           "line": {
            "color": "#2a3f5f"
           }
          },
          "ternary": {
           "aaxis": {
            "gridcolor": "white",
            "linecolor": "white",
            "ticks": ""
           },
           "baxis": {
            "gridcolor": "white",
            "linecolor": "white",
            "ticks": ""
           },
           "bgcolor": "#E5ECF6",
           "caxis": {
            "gridcolor": "white",
            "linecolor": "white",
            "ticks": ""
           }
          },
          "title": {
           "x": 0.05
          },
          "xaxis": {
           "automargin": true,
           "gridcolor": "white",
           "linecolor": "white",
           "ticks": "",
           "title": {
            "standoff": 15
           },
           "zerolinecolor": "white",
           "zerolinewidth": 2
          },
          "yaxis": {
           "automargin": true,
           "gridcolor": "white",
           "linecolor": "white",
           "ticks": "",
           "title": {
            "standoff": 15
           },
           "zerolinecolor": "white",
           "zerolinewidth": 2
          }
         }
        },
        "title": {
         "text": "Datos para Afganistán"
        },
        "width": 1200,
        "xaxis": {
         "title": {
          "text": "Año"
         }
        },
        "yaxis": {
         "title": {
          "text": "Valor"
         }
        }
       }
      }
     },
     "metadata": {},
     "output_type": "display_data"
    },
    {
     "data": {
      "application/vnd.jupyter.widget-view+json": {
       "model_id": "da0f9d6f08424a979698282e27df65af",
       "version_major": 2,
       "version_minor": 0
      },
      "text/plain": [
       "interactive(children=(Dropdown(description='Seleccionar país:', options=('Afganistán', 'Alemania', 'Argelia', …"
      ]
     },
     "execution_count": 26,
     "metadata": {},
     "output_type": "execute_result"
    },
    {
     "data": {
      "application/vnd.plotly.v1+json": {
       "config": {
        "plotlyServerURL": "https://plot.ly"
       },
       "data": [
        {
         "mode": "lines+markers",
         "name": "Nivel de instrucción, al menos ciclo inferior de la escuela secundaria completo, población de más de 25 años, total (%) (acumulativo)",
         "type": "scatter",
         "x": [
          "1987",
          "1988",
          "1989",
          "1990",
          "1991",
          "1992",
          "1993",
          "1994",
          "1995",
          "1996",
          "1997",
          "1998",
          "1999",
          "2000",
          "2001",
          "2002",
          "2003",
          "2004",
          "2005",
          "2006",
          "2007",
          "2008",
          "2009",
          "2010",
          "2011",
          "2012",
          "2013",
          "2014",
          "2015",
          "2016",
          "2017",
          "2018",
          "2019",
          "2020",
          "2021",
          "2022"
         ],
         "y": [
          52.38358095238095,
          52.38358095238095,
          52.38358095238095,
          52.38358095238095,
          52.38358095238095,
          52.38358095238095,
          52.38358095238095,
          52.38358095238095,
          52.38358095238095,
          52.38358095238095,
          52.38358095238095,
          52.38358095238095,
          52.38358095238095,
          52.38358095238095,
          37.75,
          39.22,
          40.84,
          42.11,
          43.13,
          45.25,
          47.25,
          49.29,
          50.12,
          50.6152,
          53.49,
          54.52,
          55.76,
          56.25,
          57.49,
          60.09,
          60.64,
          61.81,
          62.99,
          65.2,
          66.24,
          52.38358095238095
         ]
        },
        {
         "mode": "lines+markers",
         "name": "Nivel de instrucción, al menos ciclo superior de la escuela secundaria completo, población de más de 25 años, total (%) (acumulativo)",
         "type": "scatter",
         "x": [
          "1987",
          "1988",
          "1989",
          "1990",
          "1991",
          "1992",
          "1993",
          "1994",
          "1995",
          "1996",
          "1997",
          "1998",
          "1999",
          "2000",
          "2001",
          "2002",
          "2003",
          "2004",
          "2005",
          "2006",
          "2007",
          "2008",
          "2009",
          "2010",
          "2011",
          "2012",
          "2013",
          "2014",
          "2015",
          "2016",
          "2017",
          "2018",
          "2019",
          "2020",
          "2021",
          "2022"
         ],
         "y": [
          39.1687,
          39.1687,
          39.1687,
          39.1687,
          39.1687,
          39.1687,
          39.1687,
          39.1687,
          39.1687,
          39.1687,
          39.1687,
          39.1687,
          39.1687,
          39.1687,
          25.26,
          26.78,
          28.09,
          29.27,
          30.45,
          32.31,
          33.62,
          35.41,
          37.02,
          35.9227,
          39.35,
          40.61,
          41.8,
          42.52,
          43.73,
          46.99,
          47.54,
          49.2,
          50.24,
          52.89,
          53.54,
          39.1687
         ]
        },
        {
         "mode": "lines+markers",
         "name": "Tasa de finalización del ciclo inferior de la educación secundaria, total (% del grupo etario pertinente)",
         "type": "scatter",
         "x": [
          "1987",
          "1988",
          "1989",
          "1990",
          "1991",
          "1992",
          "1993",
          "1994",
          "1995",
          "1996",
          "1997",
          "1998",
          "1999",
          "2000",
          "2001",
          "2002",
          "2003",
          "2004",
          "2005",
          "2006",
          "2007",
          "2008",
          "2009",
          "2010",
          "2011",
          "2012",
          "2013",
          "2014",
          "2015",
          "2016",
          "2017",
          "2018",
          "2019",
          "2020",
          "2021",
          "2022"
         ],
         "y": [
          37.1231,
          44.320675,
          44.320675,
          44.320675,
          44.320675,
          46.5011,
          46.5658,
          47.0927,
          44.320675,
          44.320675,
          44.320675,
          44.320675,
          44.320675,
          44.320675,
          44.320675,
          44.320675,
          44.320675,
          44.320675,
          44.320675,
          44.320675,
          44.320675,
          44.320675,
          44.320675,
          44.320675,
          44.320675,
          44.320675,
          44.320675,
          44.320675,
          44.320675,
          44.320675,
          44.320675,
          44.320675,
          44.320675,
          44.320675,
          44.320675,
          44.320675
         ]
        }
       ],
       "layout": {
        "height": 450,
        "legend": {
         "orientation": "h",
         "x": 0,
         "y": -1.2
        },
        "template": {
         "data": {
          "bar": [
           {
            "error_x": {
             "color": "#2a3f5f"
            },
            "error_y": {
             "color": "#2a3f5f"
            },
            "marker": {
             "line": {
              "color": "#E5ECF6",
              "width": 0.5
             },
             "pattern": {
              "fillmode": "overlay",
              "size": 10,
              "solidity": 0.2
             }
            },
            "type": "bar"
           }
          ],
          "barpolar": [
           {
            "marker": {
             "line": {
              "color": "#E5ECF6",
              "width": 0.5
             },
             "pattern": {
              "fillmode": "overlay",
              "size": 10,
              "solidity": 0.2
             }
            },
            "type": "barpolar"
           }
          ],
          "carpet": [
           {
            "aaxis": {
             "endlinecolor": "#2a3f5f",
             "gridcolor": "white",
             "linecolor": "white",
             "minorgridcolor": "white",
             "startlinecolor": "#2a3f5f"
            },
            "baxis": {
             "endlinecolor": "#2a3f5f",
             "gridcolor": "white",
             "linecolor": "white",
             "minorgridcolor": "white",
             "startlinecolor": "#2a3f5f"
            },
            "type": "carpet"
           }
          ],
          "choropleth": [
           {
            "colorbar": {
             "outlinewidth": 0,
             "ticks": ""
            },
            "type": "choropleth"
           }
          ],
          "contour": [
           {
            "colorbar": {
             "outlinewidth": 0,
             "ticks": ""
            },
            "colorscale": [
             [
              0,
              "#0d0887"
             ],
             [
              0.1111111111111111,
              "#46039f"
             ],
             [
              0.2222222222222222,
              "#7201a8"
             ],
             [
              0.3333333333333333,
              "#9c179e"
             ],
             [
              0.4444444444444444,
              "#bd3786"
             ],
             [
              0.5555555555555556,
              "#d8576b"
             ],
             [
              0.6666666666666666,
              "#ed7953"
             ],
             [
              0.7777777777777778,
              "#fb9f3a"
             ],
             [
              0.8888888888888888,
              "#fdca26"
             ],
             [
              1,
              "#f0f921"
             ]
            ],
            "type": "contour"
           }
          ],
          "contourcarpet": [
           {
            "colorbar": {
             "outlinewidth": 0,
             "ticks": ""
            },
            "type": "contourcarpet"
           }
          ],
          "heatmap": [
           {
            "colorbar": {
             "outlinewidth": 0,
             "ticks": ""
            },
            "colorscale": [
             [
              0,
              "#0d0887"
             ],
             [
              0.1111111111111111,
              "#46039f"
             ],
             [
              0.2222222222222222,
              "#7201a8"
             ],
             [
              0.3333333333333333,
              "#9c179e"
             ],
             [
              0.4444444444444444,
              "#bd3786"
             ],
             [
              0.5555555555555556,
              "#d8576b"
             ],
             [
              0.6666666666666666,
              "#ed7953"
             ],
             [
              0.7777777777777778,
              "#fb9f3a"
             ],
             [
              0.8888888888888888,
              "#fdca26"
             ],
             [
              1,
              "#f0f921"
             ]
            ],
            "type": "heatmap"
           }
          ],
          "heatmapgl": [
           {
            "colorbar": {
             "outlinewidth": 0,
             "ticks": ""
            },
            "colorscale": [
             [
              0,
              "#0d0887"
             ],
             [
              0.1111111111111111,
              "#46039f"
             ],
             [
              0.2222222222222222,
              "#7201a8"
             ],
             [
              0.3333333333333333,
              "#9c179e"
             ],
             [
              0.4444444444444444,
              "#bd3786"
             ],
             [
              0.5555555555555556,
              "#d8576b"
             ],
             [
              0.6666666666666666,
              "#ed7953"
             ],
             [
              0.7777777777777778,
              "#fb9f3a"
             ],
             [
              0.8888888888888888,
              "#fdca26"
             ],
             [
              1,
              "#f0f921"
             ]
            ],
            "type": "heatmapgl"
           }
          ],
          "histogram": [
           {
            "marker": {
             "pattern": {
              "fillmode": "overlay",
              "size": 10,
              "solidity": 0.2
             }
            },
            "type": "histogram"
           }
          ],
          "histogram2d": [
           {
            "colorbar": {
             "outlinewidth": 0,
             "ticks": ""
            },
            "colorscale": [
             [
              0,
              "#0d0887"
             ],
             [
              0.1111111111111111,
              "#46039f"
             ],
             [
              0.2222222222222222,
              "#7201a8"
             ],
             [
              0.3333333333333333,
              "#9c179e"
             ],
             [
              0.4444444444444444,
              "#bd3786"
             ],
             [
              0.5555555555555556,
              "#d8576b"
             ],
             [
              0.6666666666666666,
              "#ed7953"
             ],
             [
              0.7777777777777778,
              "#fb9f3a"
             ],
             [
              0.8888888888888888,
              "#fdca26"
             ],
             [
              1,
              "#f0f921"
             ]
            ],
            "type": "histogram2d"
           }
          ],
          "histogram2dcontour": [
           {
            "colorbar": {
             "outlinewidth": 0,
             "ticks": ""
            },
            "colorscale": [
             [
              0,
              "#0d0887"
             ],
             [
              0.1111111111111111,
              "#46039f"
             ],
             [
              0.2222222222222222,
              "#7201a8"
             ],
             [
              0.3333333333333333,
              "#9c179e"
             ],
             [
              0.4444444444444444,
              "#bd3786"
             ],
             [
              0.5555555555555556,
              "#d8576b"
             ],
             [
              0.6666666666666666,
              "#ed7953"
             ],
             [
              0.7777777777777778,
              "#fb9f3a"
             ],
             [
              0.8888888888888888,
              "#fdca26"
             ],
             [
              1,
              "#f0f921"
             ]
            ],
            "type": "histogram2dcontour"
           }
          ],
          "mesh3d": [
           {
            "colorbar": {
             "outlinewidth": 0,
             "ticks": ""
            },
            "type": "mesh3d"
           }
          ],
          "parcoords": [
           {
            "line": {
             "colorbar": {
              "outlinewidth": 0,
              "ticks": ""
             }
            },
            "type": "parcoords"
           }
          ],
          "pie": [
           {
            "automargin": true,
            "type": "pie"
           }
          ],
          "scatter": [
           {
            "fillpattern": {
             "fillmode": "overlay",
             "size": 10,
             "solidity": 0.2
            },
            "type": "scatter"
           }
          ],
          "scatter3d": [
           {
            "line": {
             "colorbar": {
              "outlinewidth": 0,
              "ticks": ""
             }
            },
            "marker": {
             "colorbar": {
              "outlinewidth": 0,
              "ticks": ""
             }
            },
            "type": "scatter3d"
           }
          ],
          "scattercarpet": [
           {
            "marker": {
             "colorbar": {
              "outlinewidth": 0,
              "ticks": ""
             }
            },
            "type": "scattercarpet"
           }
          ],
          "scattergeo": [
           {
            "marker": {
             "colorbar": {
              "outlinewidth": 0,
              "ticks": ""
             }
            },
            "type": "scattergeo"
           }
          ],
          "scattergl": [
           {
            "marker": {
             "colorbar": {
              "outlinewidth": 0,
              "ticks": ""
             }
            },
            "type": "scattergl"
           }
          ],
          "scattermapbox": [
           {
            "marker": {
             "colorbar": {
              "outlinewidth": 0,
              "ticks": ""
             }
            },
            "type": "scattermapbox"
           }
          ],
          "scatterpolar": [
           {
            "marker": {
             "colorbar": {
              "outlinewidth": 0,
              "ticks": ""
             }
            },
            "type": "scatterpolar"
           }
          ],
          "scatterpolargl": [
           {
            "marker": {
             "colorbar": {
              "outlinewidth": 0,
              "ticks": ""
             }
            },
            "type": "scatterpolargl"
           }
          ],
          "scatterternary": [
           {
            "marker": {
             "colorbar": {
              "outlinewidth": 0,
              "ticks": ""
             }
            },
            "type": "scatterternary"
           }
          ],
          "surface": [
           {
            "colorbar": {
             "outlinewidth": 0,
             "ticks": ""
            },
            "colorscale": [
             [
              0,
              "#0d0887"
             ],
             [
              0.1111111111111111,
              "#46039f"
             ],
             [
              0.2222222222222222,
              "#7201a8"
             ],
             [
              0.3333333333333333,
              "#9c179e"
             ],
             [
              0.4444444444444444,
              "#bd3786"
             ],
             [
              0.5555555555555556,
              "#d8576b"
             ],
             [
              0.6666666666666666,
              "#ed7953"
             ],
             [
              0.7777777777777778,
              "#fb9f3a"
             ],
             [
              0.8888888888888888,
              "#fdca26"
             ],
             [
              1,
              "#f0f921"
             ]
            ],
            "type": "surface"
           }
          ],
          "table": [
           {
            "cells": {
             "fill": {
              "color": "#EBF0F8"
             },
             "line": {
              "color": "white"
             }
            },
            "header": {
             "fill": {
              "color": "#C8D4E3"
             },
             "line": {
              "color": "white"
             }
            },
            "type": "table"
           }
          ]
         },
         "layout": {
          "annotationdefaults": {
           "arrowcolor": "#2a3f5f",
           "arrowhead": 0,
           "arrowwidth": 1
          },
          "autotypenumbers": "strict",
          "coloraxis": {
           "colorbar": {
            "outlinewidth": 0,
            "ticks": ""
           }
          },
          "colorscale": {
           "diverging": [
            [
             0,
             "#8e0152"
            ],
            [
             0.1,
             "#c51b7d"
            ],
            [
             0.2,
             "#de77ae"
            ],
            [
             0.3,
             "#f1b6da"
            ],
            [
             0.4,
             "#fde0ef"
            ],
            [
             0.5,
             "#f7f7f7"
            ],
            [
             0.6,
             "#e6f5d0"
            ],
            [
             0.7,
             "#b8e186"
            ],
            [
             0.8,
             "#7fbc41"
            ],
            [
             0.9,
             "#4d9221"
            ],
            [
             1,
             "#276419"
            ]
           ],
           "sequential": [
            [
             0,
             "#0d0887"
            ],
            [
             0.1111111111111111,
             "#46039f"
            ],
            [
             0.2222222222222222,
             "#7201a8"
            ],
            [
             0.3333333333333333,
             "#9c179e"
            ],
            [
             0.4444444444444444,
             "#bd3786"
            ],
            [
             0.5555555555555556,
             "#d8576b"
            ],
            [
             0.6666666666666666,
             "#ed7953"
            ],
            [
             0.7777777777777778,
             "#fb9f3a"
            ],
            [
             0.8888888888888888,
             "#fdca26"
            ],
            [
             1,
             "#f0f921"
            ]
           ],
           "sequentialminus": [
            [
             0,
             "#0d0887"
            ],
            [
             0.1111111111111111,
             "#46039f"
            ],
            [
             0.2222222222222222,
             "#7201a8"
            ],
            [
             0.3333333333333333,
             "#9c179e"
            ],
            [
             0.4444444444444444,
             "#bd3786"
            ],
            [
             0.5555555555555556,
             "#d8576b"
            ],
            [
             0.6666666666666666,
             "#ed7953"
            ],
            [
             0.7777777777777778,
             "#fb9f3a"
            ],
            [
             0.8888888888888888,
             "#fdca26"
            ],
            [
             1,
             "#f0f921"
            ]
           ]
          },
          "colorway": [
           "#636efa",
           "#EF553B",
           "#00cc96",
           "#ab63fa",
           "#FFA15A",
           "#19d3f3",
           "#FF6692",
           "#B6E880",
           "#FF97FF",
           "#FECB52"
          ],
          "font": {
           "color": "#2a3f5f"
          },
          "geo": {
           "bgcolor": "white",
           "lakecolor": "white",
           "landcolor": "#E5ECF6",
           "showlakes": true,
           "showland": true,
           "subunitcolor": "white"
          },
          "hoverlabel": {
           "align": "left"
          },
          "hovermode": "closest",
          "mapbox": {
           "style": "light"
          },
          "paper_bgcolor": "white",
          "plot_bgcolor": "#E5ECF6",
          "polar": {
           "angularaxis": {
            "gridcolor": "white",
            "linecolor": "white",
            "ticks": ""
           },
           "bgcolor": "#E5ECF6",
           "radialaxis": {
            "gridcolor": "white",
            "linecolor": "white",
            "ticks": ""
           }
          },
          "scene": {
           "xaxis": {
            "backgroundcolor": "#E5ECF6",
            "gridcolor": "white",
            "gridwidth": 2,
            "linecolor": "white",
            "showbackground": true,
            "ticks": "",
            "zerolinecolor": "white"
           },
           "yaxis": {
            "backgroundcolor": "#E5ECF6",
            "gridcolor": "white",
            "gridwidth": 2,
            "linecolor": "white",
            "showbackground": true,
            "ticks": "",
            "zerolinecolor": "white"
           },
           "zaxis": {
            "backgroundcolor": "#E5ECF6",
            "gridcolor": "white",
            "gridwidth": 2,
            "linecolor": "white",
            "showbackground": true,
            "ticks": "",
            "zerolinecolor": "white"
           }
          },
          "shapedefaults": {
           "line": {
            "color": "#2a3f5f"
           }
          },
          "ternary": {
           "aaxis": {
            "gridcolor": "white",
            "linecolor": "white",
            "ticks": ""
           },
           "baxis": {
            "gridcolor": "white",
            "linecolor": "white",
            "ticks": ""
           },
           "bgcolor": "#E5ECF6",
           "caxis": {
            "gridcolor": "white",
            "linecolor": "white",
            "ticks": ""
           }
          },
          "title": {
           "x": 0.05
          },
          "xaxis": {
           "automargin": true,
           "gridcolor": "white",
           "linecolor": "white",
           "ticks": "",
           "title": {
            "standoff": 15
           },
           "zerolinecolor": "white",
           "zerolinewidth": 2
          },
          "yaxis": {
           "automargin": true,
           "gridcolor": "white",
           "linecolor": "white",
           "ticks": "",
           "title": {
            "standoff": 15
           },
           "zerolinecolor": "white",
           "zerolinewidth": 2
          }
         }
        },
        "title": {
         "text": "Datos para Brasil"
        },
        "width": 1200,
        "xaxis": {
         "title": {
          "text": "Año"
         }
        },
        "yaxis": {
         "title": {
          "text": "Valor"
         }
        }
       }
      }
     },
     "metadata": {},
     "output_type": "display_data"
    },
    {
     "data": {
      "application/vnd.plotly.v1+json": {
       "config": {
        "plotlyServerURL": "https://plot.ly"
       },
       "data": [
        {
         "mode": "lines+markers",
         "name": "Nivel de instrucción, al menos ciclo inferior de la escuela secundaria completo, población de más de 25 años, total (%) (acumulativo)",
         "type": "scatter",
         "x": [
          "1987",
          "1988",
          "1989",
          "1990",
          "1991",
          "1992",
          "1993",
          "1994",
          "1995",
          "1996",
          "1997",
          "1998",
          "1999",
          "2000",
          "2001",
          "2002",
          "2003",
          "2004",
          "2005",
          "2006",
          "2007",
          "2008",
          "2009",
          "2010",
          "2011",
          "2012",
          "2013",
          "2014",
          "2015",
          "2016",
          "2017",
          "2018",
          "2019",
          "2020",
          "2021",
          "2022"
         ],
         "y": [
          99.8103625,
          99.8103625,
          99.8103625,
          99.8103625,
          99.8103625,
          99.8103625,
          99.8103625,
          99.8103625,
          99.8103625,
          99.8103625,
          99.8103625,
          99.8103625,
          99.8103625,
          99.8103625,
          99.8103625,
          99.8103625,
          99.8103625,
          99.8103625,
          99.8103625,
          99.8103625,
          99.8103625,
          99.8103625,
          99.7686,
          99.8079,
          99.8556,
          99.8083,
          99.8323,
          99.8598,
          99.8103625,
          99.8103625,
          99.7478,
          99.8103625,
          99.8103625,
          99.8026,
          99.8103625,
          99.8103625
         ]
        },
        {
         "mode": "lines+markers",
         "name": "Nivel de instrucción, al menos ciclo superior de la escuela secundaria completo, población de más de 25 años, total (%) (acumulativo)",
         "type": "scatter",
         "x": [
          "1987",
          "1988",
          "1989",
          "1990",
          "1991",
          "1992",
          "1993",
          "1994",
          "1995",
          "1996",
          "1997",
          "1998",
          "1999",
          "2000",
          "2001",
          "2002",
          "2003",
          "2004",
          "2005",
          "2006",
          "2007",
          "2008",
          "2009",
          "2010",
          "2011",
          "2012",
          "2013",
          "2014",
          "2015",
          "2016",
          "2017",
          "2018",
          "2019",
          "2020",
          "2021",
          "2022"
         ],
         "y": [
          81.331075,
          81.331075,
          81.331075,
          81.331075,
          81.331075,
          81.331075,
          81.331075,
          81.331075,
          81.331075,
          81.331075,
          81.331075,
          81.331075,
          81.331075,
          81.331075,
          81.331075,
          81.331075,
          81.331075,
          81.331075,
          81.331075,
          81.331075,
          81.331075,
          81.331075,
          84.6722,
          86.4258,
          86.0834,
          87.7357,
          74.0023,
          74.7064,
          81.331075,
          81.331075,
          77.1117,
          81.331075,
          81.331075,
          79.9111,
          81.331075,
          81.331075
         ]
        },
        {
         "mode": "lines+markers",
         "name": "Nivel de instrucción, al menos escuela de nivel posterior a la secundaria completa, población de más de 25 años, total (%) (acumulativo)",
         "type": "scatter",
         "x": [
          "1987",
          "1988",
          "1989",
          "1990",
          "1991",
          "1992",
          "1993",
          "1994",
          "1995",
          "1996",
          "1997",
          "1998",
          "1999",
          "2000",
          "2001",
          "2002",
          "2003",
          "2004",
          "2005",
          "2006",
          "2007",
          "2008",
          "2009",
          "2010",
          "2011",
          "2012",
          "2013",
          "2014",
          "2015",
          "2016",
          "2017",
          "2018",
          "2019",
          "2020",
          "2021",
          "2022"
         ],
         "y": [
          33.8477,
          33.8477,
          33.8477,
          33.8477,
          33.8477,
          33.8477,
          33.8477,
          33.8477,
          33.8477,
          33.8477,
          33.8477,
          33.8477,
          33.8477,
          33.8477,
          33.8477,
          33.8477,
          33.8477,
          33.8477,
          33.8477,
          33.8477,
          33.8477,
          33.8477,
          31.5697,
          33.8117,
          33.059,
          36.9504,
          33.8477,
          33.8477,
          33.8477,
          33.8477,
          33.8477,
          33.8477,
          33.8477,
          33.8477,
          33.8477,
          33.8477
         ]
        },
        {
         "mode": "lines+markers",
         "name": "Tasa de finalización del ciclo inferior de la educación secundaria, total (% del grupo etario pertinente)",
         "type": "scatter",
         "x": [
          "1987",
          "1988",
          "1989",
          "1990",
          "1991",
          "1992",
          "1993",
          "1994",
          "1995",
          "1996",
          "1997",
          "1998",
          "1999",
          "2000",
          "2001",
          "2002",
          "2003",
          "2004",
          "2005",
          "2006",
          "2007",
          "2008",
          "2009",
          "2010",
          "2011",
          "2012",
          "2013",
          "2014",
          "2015",
          "2016",
          "2017",
          "2018",
          "2019",
          "2020",
          "2021",
          "2022"
         ],
         "y": [
          97.38712000000001,
          97.38712000000001,
          97.38712000000001,
          97.38712000000001,
          97.38712000000001,
          97.38712000000001,
          97.38712000000001,
          97.38712000000001,
          97.38712000000001,
          97.38712000000001,
          97.38712000000001,
          97.38712000000001,
          97.38712000000001,
          97.38712000000001,
          97.38712000000001,
          97.38712000000001,
          97.38712000000001,
          97.38712000000001,
          97.38712000000001,
          97.38712000000001,
          97.38712000000001,
          97.38712000000001,
          97.38712000000001,
          97.38712000000001,
          97.38712000000001,
          97.38712000000001,
          97.38712000000001,
          97.38712000000001,
          97.38712000000001,
          97.38712000000001,
          98.7536,
          98.6717,
          97.1765,
          95.7202,
          96.6136,
          97.38712000000001
         ]
        }
       ],
       "layout": {
        "height": 450,
        "legend": {
         "orientation": "h",
         "x": 0,
         "y": -1.2
        },
        "template": {
         "data": {
          "bar": [
           {
            "error_x": {
             "color": "#2a3f5f"
            },
            "error_y": {
             "color": "#2a3f5f"
            },
            "marker": {
             "line": {
              "color": "#E5ECF6",
              "width": 0.5
             },
             "pattern": {
              "fillmode": "overlay",
              "size": 10,
              "solidity": 0.2
             }
            },
            "type": "bar"
           }
          ],
          "barpolar": [
           {
            "marker": {
             "line": {
              "color": "#E5ECF6",
              "width": 0.5
             },
             "pattern": {
              "fillmode": "overlay",
              "size": 10,
              "solidity": 0.2
             }
            },
            "type": "barpolar"
           }
          ],
          "carpet": [
           {
            "aaxis": {
             "endlinecolor": "#2a3f5f",
             "gridcolor": "white",
             "linecolor": "white",
             "minorgridcolor": "white",
             "startlinecolor": "#2a3f5f"
            },
            "baxis": {
             "endlinecolor": "#2a3f5f",
             "gridcolor": "white",
             "linecolor": "white",
             "minorgridcolor": "white",
             "startlinecolor": "#2a3f5f"
            },
            "type": "carpet"
           }
          ],
          "choropleth": [
           {
            "colorbar": {
             "outlinewidth": 0,
             "ticks": ""
            },
            "type": "choropleth"
           }
          ],
          "contour": [
           {
            "colorbar": {
             "outlinewidth": 0,
             "ticks": ""
            },
            "colorscale": [
             [
              0,
              "#0d0887"
             ],
             [
              0.1111111111111111,
              "#46039f"
             ],
             [
              0.2222222222222222,
              "#7201a8"
             ],
             [
              0.3333333333333333,
              "#9c179e"
             ],
             [
              0.4444444444444444,
              "#bd3786"
             ],
             [
              0.5555555555555556,
              "#d8576b"
             ],
             [
              0.6666666666666666,
              "#ed7953"
             ],
             [
              0.7777777777777778,
              "#fb9f3a"
             ],
             [
              0.8888888888888888,
              "#fdca26"
             ],
             [
              1,
              "#f0f921"
             ]
            ],
            "type": "contour"
           }
          ],
          "contourcarpet": [
           {
            "colorbar": {
             "outlinewidth": 0,
             "ticks": ""
            },
            "type": "contourcarpet"
           }
          ],
          "heatmap": [
           {
            "colorbar": {
             "outlinewidth": 0,
             "ticks": ""
            },
            "colorscale": [
             [
              0,
              "#0d0887"
             ],
             [
              0.1111111111111111,
              "#46039f"
             ],
             [
              0.2222222222222222,
              "#7201a8"
             ],
             [
              0.3333333333333333,
              "#9c179e"
             ],
             [
              0.4444444444444444,
              "#bd3786"
             ],
             [
              0.5555555555555556,
              "#d8576b"
             ],
             [
              0.6666666666666666,
              "#ed7953"
             ],
             [
              0.7777777777777778,
              "#fb9f3a"
             ],
             [
              0.8888888888888888,
              "#fdca26"
             ],
             [
              1,
              "#f0f921"
             ]
            ],
            "type": "heatmap"
           }
          ],
          "heatmapgl": [
           {
            "colorbar": {
             "outlinewidth": 0,
             "ticks": ""
            },
            "colorscale": [
             [
              0,
              "#0d0887"
             ],
             [
              0.1111111111111111,
              "#46039f"
             ],
             [
              0.2222222222222222,
              "#7201a8"
             ],
             [
              0.3333333333333333,
              "#9c179e"
             ],
             [
              0.4444444444444444,
              "#bd3786"
             ],
             [
              0.5555555555555556,
              "#d8576b"
             ],
             [
              0.6666666666666666,
              "#ed7953"
             ],
             [
              0.7777777777777778,
              "#fb9f3a"
             ],
             [
              0.8888888888888888,
              "#fdca26"
             ],
             [
              1,
              "#f0f921"
             ]
            ],
            "type": "heatmapgl"
           }
          ],
          "histogram": [
           {
            "marker": {
             "pattern": {
              "fillmode": "overlay",
              "size": 10,
              "solidity": 0.2
             }
            },
            "type": "histogram"
           }
          ],
          "histogram2d": [
           {
            "colorbar": {
             "outlinewidth": 0,
             "ticks": ""
            },
            "colorscale": [
             [
              0,
              "#0d0887"
             ],
             [
              0.1111111111111111,
              "#46039f"
             ],
             [
              0.2222222222222222,
              "#7201a8"
             ],
             [
              0.3333333333333333,
              "#9c179e"
             ],
             [
              0.4444444444444444,
              "#bd3786"
             ],
             [
              0.5555555555555556,
              "#d8576b"
             ],
             [
              0.6666666666666666,
              "#ed7953"
             ],
             [
              0.7777777777777778,
              "#fb9f3a"
             ],
             [
              0.8888888888888888,
              "#fdca26"
             ],
             [
              1,
              "#f0f921"
             ]
            ],
            "type": "histogram2d"
           }
          ],
          "histogram2dcontour": [
           {
            "colorbar": {
             "outlinewidth": 0,
             "ticks": ""
            },
            "colorscale": [
             [
              0,
              "#0d0887"
             ],
             [
              0.1111111111111111,
              "#46039f"
             ],
             [
              0.2222222222222222,
              "#7201a8"
             ],
             [
              0.3333333333333333,
              "#9c179e"
             ],
             [
              0.4444444444444444,
              "#bd3786"
             ],
             [
              0.5555555555555556,
              "#d8576b"
             ],
             [
              0.6666666666666666,
              "#ed7953"
             ],
             [
              0.7777777777777778,
              "#fb9f3a"
             ],
             [
              0.8888888888888888,
              "#fdca26"
             ],
             [
              1,
              "#f0f921"
             ]
            ],
            "type": "histogram2dcontour"
           }
          ],
          "mesh3d": [
           {
            "colorbar": {
             "outlinewidth": 0,
             "ticks": ""
            },
            "type": "mesh3d"
           }
          ],
          "parcoords": [
           {
            "line": {
             "colorbar": {
              "outlinewidth": 0,
              "ticks": ""
             }
            },
            "type": "parcoords"
           }
          ],
          "pie": [
           {
            "automargin": true,
            "type": "pie"
           }
          ],
          "scatter": [
           {
            "fillpattern": {
             "fillmode": "overlay",
             "size": 10,
             "solidity": 0.2
            },
            "type": "scatter"
           }
          ],
          "scatter3d": [
           {
            "line": {
             "colorbar": {
              "outlinewidth": 0,
              "ticks": ""
             }
            },
            "marker": {
             "colorbar": {
              "outlinewidth": 0,
              "ticks": ""
             }
            },
            "type": "scatter3d"
           }
          ],
          "scattercarpet": [
           {
            "marker": {
             "colorbar": {
              "outlinewidth": 0,
              "ticks": ""
             }
            },
            "type": "scattercarpet"
           }
          ],
          "scattergeo": [
           {
            "marker": {
             "colorbar": {
              "outlinewidth": 0,
              "ticks": ""
             }
            },
            "type": "scattergeo"
           }
          ],
          "scattergl": [
           {
            "marker": {
             "colorbar": {
              "outlinewidth": 0,
              "ticks": ""
             }
            },
            "type": "scattergl"
           }
          ],
          "scattermapbox": [
           {
            "marker": {
             "colorbar": {
              "outlinewidth": 0,
              "ticks": ""
             }
            },
            "type": "scattermapbox"
           }
          ],
          "scatterpolar": [
           {
            "marker": {
             "colorbar": {
              "outlinewidth": 0,
              "ticks": ""
             }
            },
            "type": "scatterpolar"
           }
          ],
          "scatterpolargl": [
           {
            "marker": {
             "colorbar": {
              "outlinewidth": 0,
              "ticks": ""
             }
            },
            "type": "scatterpolargl"
           }
          ],
          "scatterternary": [
           {
            "marker": {
             "colorbar": {
              "outlinewidth": 0,
              "ticks": ""
             }
            },
            "type": "scatterternary"
           }
          ],
          "surface": [
           {
            "colorbar": {
             "outlinewidth": 0,
             "ticks": ""
            },
            "colorscale": [
             [
              0,
              "#0d0887"
             ],
             [
              0.1111111111111111,
              "#46039f"
             ],
             [
              0.2222222222222222,
              "#7201a8"
             ],
             [
              0.3333333333333333,
              "#9c179e"
             ],
             [
              0.4444444444444444,
              "#bd3786"
             ],
             [
              0.5555555555555556,
              "#d8576b"
             ],
             [
              0.6666666666666666,
              "#ed7953"
             ],
             [
              0.7777777777777778,
              "#fb9f3a"
             ],
             [
              0.8888888888888888,
              "#fdca26"
             ],
             [
              1,
              "#f0f921"
             ]
            ],
            "type": "surface"
           }
          ],
          "table": [
           {
            "cells": {
             "fill": {
              "color": "#EBF0F8"
             },
             "line": {
              "color": "white"
             }
            },
            "header": {
             "fill": {
              "color": "#C8D4E3"
             },
             "line": {
              "color": "white"
             }
            },
            "type": "table"
           }
          ]
         },
         "layout": {
          "annotationdefaults": {
           "arrowcolor": "#2a3f5f",
           "arrowhead": 0,
           "arrowwidth": 1
          },
          "autotypenumbers": "strict",
          "coloraxis": {
           "colorbar": {
            "outlinewidth": 0,
            "ticks": ""
           }
          },
          "colorscale": {
           "diverging": [
            [
             0,
             "#8e0152"
            ],
            [
             0.1,
             "#c51b7d"
            ],
            [
             0.2,
             "#de77ae"
            ],
            [
             0.3,
             "#f1b6da"
            ],
            [
             0.4,
             "#fde0ef"
            ],
            [
             0.5,
             "#f7f7f7"
            ],
            [
             0.6,
             "#e6f5d0"
            ],
            [
             0.7,
             "#b8e186"
            ],
            [
             0.8,
             "#7fbc41"
            ],
            [
             0.9,
             "#4d9221"
            ],
            [
             1,
             "#276419"
            ]
           ],
           "sequential": [
            [
             0,
             "#0d0887"
            ],
            [
             0.1111111111111111,
             "#46039f"
            ],
            [
             0.2222222222222222,
             "#7201a8"
            ],
            [
             0.3333333333333333,
             "#9c179e"
            ],
            [
             0.4444444444444444,
             "#bd3786"
            ],
            [
             0.5555555555555556,
             "#d8576b"
            ],
            [
             0.6666666666666666,
             "#ed7953"
            ],
            [
             0.7777777777777778,
             "#fb9f3a"
            ],
            [
             0.8888888888888888,
             "#fdca26"
            ],
            [
             1,
             "#f0f921"
            ]
           ],
           "sequentialminus": [
            [
             0,
             "#0d0887"
            ],
            [
             0.1111111111111111,
             "#46039f"
            ],
            [
             0.2222222222222222,
             "#7201a8"
            ],
            [
             0.3333333333333333,
             "#9c179e"
            ],
            [
             0.4444444444444444,
             "#bd3786"
            ],
            [
             0.5555555555555556,
             "#d8576b"
            ],
            [
             0.6666666666666666,
             "#ed7953"
            ],
            [
             0.7777777777777778,
             "#fb9f3a"
            ],
            [
             0.8888888888888888,
             "#fdca26"
            ],
            [
             1,
             "#f0f921"
            ]
           ]
          },
          "colorway": [
           "#636efa",
           "#EF553B",
           "#00cc96",
           "#ab63fa",
           "#FFA15A",
           "#19d3f3",
           "#FF6692",
           "#B6E880",
           "#FF97FF",
           "#FECB52"
          ],
          "font": {
           "color": "#2a3f5f"
          },
          "geo": {
           "bgcolor": "white",
           "lakecolor": "white",
           "landcolor": "#E5ECF6",
           "showlakes": true,
           "showland": true,
           "subunitcolor": "white"
          },
          "hoverlabel": {
           "align": "left"
          },
          "hovermode": "closest",
          "mapbox": {
           "style": "light"
          },
          "paper_bgcolor": "white",
          "plot_bgcolor": "#E5ECF6",
          "polar": {
           "angularaxis": {
            "gridcolor": "white",
            "linecolor": "white",
            "ticks": ""
           },
           "bgcolor": "#E5ECF6",
           "radialaxis": {
            "gridcolor": "white",
            "linecolor": "white",
            "ticks": ""
           }
          },
          "scene": {
           "xaxis": {
            "backgroundcolor": "#E5ECF6",
            "gridcolor": "white",
            "gridwidth": 2,
            "linecolor": "white",
            "showbackground": true,
            "ticks": "",
            "zerolinecolor": "white"
           },
           "yaxis": {
            "backgroundcolor": "#E5ECF6",
            "gridcolor": "white",
            "gridwidth": 2,
            "linecolor": "white",
            "showbackground": true,
            "ticks": "",
            "zerolinecolor": "white"
           },
           "zaxis": {
            "backgroundcolor": "#E5ECF6",
            "gridcolor": "white",
            "gridwidth": 2,
            "linecolor": "white",
            "showbackground": true,
            "ticks": "",
            "zerolinecolor": "white"
           }
          },
          "shapedefaults": {
           "line": {
            "color": "#2a3f5f"
           }
          },
          "ternary": {
           "aaxis": {
            "gridcolor": "white",
            "linecolor": "white",
            "ticks": ""
           },
           "baxis": {
            "gridcolor": "white",
            "linecolor": "white",
            "ticks": ""
           },
           "bgcolor": "#E5ECF6",
           "caxis": {
            "gridcolor": "white",
            "linecolor": "white",
            "ticks": ""
           }
          },
          "title": {
           "x": 0.05
          },
          "xaxis": {
           "automargin": true,
           "gridcolor": "white",
           "linecolor": "white",
           "ticks": "",
           "title": {
            "standoff": 15
           },
           "zerolinecolor": "white",
           "zerolinewidth": 2
          },
          "yaxis": {
           "automargin": true,
           "gridcolor": "white",
           "linecolor": "white",
           "ticks": "",
           "title": {
            "standoff": 15
           },
           "zerolinecolor": "white",
           "zerolinewidth": 2
          }
         }
        },
        "title": {
         "text": "Datos para Reino Unido"
        },
        "width": 1200,
        "xaxis": {
         "title": {
          "text": "Año"
         }
        },
        "yaxis": {
         "title": {
          "text": "Valor"
         }
        }
       }
      }
     },
     "metadata": {},
     "output_type": "display_data"
    }
   ],
   "source": [
    "# Obtener los factores únicos por país\n",
    "factores_por_pais = df_filled.groupby(['país'])['factor_(serie)'].unique().apply(list).to_dict()\n",
    "\n",
    "# Crear una lista con los nombres de los países en el DataFrame\n",
    "paises = df_filled['país'].unique().tolist()\n",
    "\n",
    "# Crear un widget de menú desplegable (dropdown) para seleccionar un país\n",
    "dropdown_paises = widgets.Dropdown(\n",
    "    options=paises,\n",
    "    description='Seleccionar país:'\n",
    ")\n",
    "\n",
    "# Función para graficar los datos por país seleccionado\n",
    "def graficar_datos_por_pais(pais):\n",
    "    \n",
    "    datos_pais = df_filled[df_filled['país'] == pais]\n",
    "\n",
    "    fig = go.Figure()\n",
    "    \n",
    "    for factor in factores_por_pais[pais]:\n",
    "        datos_factor = datos_pais[datos_pais['factor_(serie)'] == factor]\n",
    "        fig.add_trace(go.Scatter(x=datos_factor['Año'], y=datos_factor['Valor'], mode='lines+markers', name=factor))\n",
    "    \n",
    "    fig.update_layout(\n",
    "        title=f'Datos para {pais}',\n",
    "        xaxis_title='Año',\n",
    "        yaxis_title='Valor',\n",
    "        legend=dict(x=0, y=-1.2, orientation='h'),\n",
    "        height=450,\n",
    "        width=1200\n",
    "    )\n",
    "    fig.show()\n",
    "\n",
    "# Mostrar un widget vacío para eliminar el gráfico por defecto\n",
    "display(widgets.Output())\n",
    "\n",
    "# Interactividad: enlazar el widget de menú desplegable a la función de graficado\n",
    "widgets.interactive(graficar_datos_por_pais, pais=dropdown_paises)\n"
   ]
  },
  {
   "cell_type": "markdown",
   "metadata": {},
   "source": [
    "### Seguido de esto, veremos como estan concentrados los datos y si existen valores atipicos (outliers) en nuestro dataset"
   ]
  },
  {
   "cell_type": "code",
   "execution_count": 44,
   "metadata": {},
   "outputs": [
    {
     "data": {
      "image/png": "[encoded data removed]",
      "text/plain": [
       "<Figure size 1000x600 with 1 Axes>"
      ]
     },
     "metadata": {},
     "output_type": "display_data"
    }
   ],
   "source": [
    "# Configurar el tamaño de la figura\n",
    "plt.figure(figsize=(10, 6))\n",
    "\n",
    "# Crear el boxplot utilizando Seaborn\n",
    "sns.boxplot(x='Valor', y='factor_(serie)', data=df_filled)\n",
    "\n",
    "# Añadir saltos de línea en las etiquetas del eje y\n",
    "nuevos_nombres_columnas = [nombre[:57] + '\\n' + nombre[57:] if len(nombre) > 57 else nombre for nombre in (df_filled['factor_(serie)']).unique()]\n",
    "plt.gca().set_yticklabels(nuevos_nombres_columnas)\n",
    "\n",
    "plt.title('Diagrama de Caja de Factores Educación')\n",
    "plt.show()"
   ]
  },
  {
   "cell_type": "markdown",
   "metadata": {},
   "source": [
    "1.- Nivel de instrucción, al menos ciclo inferior de la escuela secundaria completo:\n",
    "Este factor presenta un promedio del 60.47%, con una desviación estándar de 28.87%. El rango intercuartílico (IQR) abarca desde el 25% al 75%, con valores que oscilan entre el 45.16% y el 89.69%. El valor mínimo observado es 2.04%, mientras que el máximo alcanza el 99.86%.\n",
    "\n",
    "2.- Nivel de instrucción, al menos ciclo superior de la escuela secundaria completo:\n",
    "El nivel de instrucción, al menos ciclo superior de la escuela secundaria completo, tiene un promedio del 47.23%, con una desviación estándar de 26.09%. Su rango intercuartílico (IQR) va desde el 27.96% hasta el 72.74%. Los valores extremos registrados son 0.50% como mínimo y 92.18% como máximo.\n",
    "\n",
    "3.- Nivel de instrucción, al menos escuela de nivel posterior a la secundaria completa:\n",
    "Este factor presenta un promedio del 24.28%, con una desviación estándar de 15.85%. El rango intercuartílico (IQR) abarca desde el 25% al 75%, con valores que oscilan entre el 11.92% y el 34.38%. El valor mínimo registrado es 0%, mientras que el máximo alcanza el 76.29%.\n",
    "\n",
    "4.- Tasa de finalización del ciclo inferior de la educación secundaria:\n",
    "La tasa de finalización del ciclo inferior de la educación secundaria exhibe un promedio del 72.75%, con una desviación estándar de 27.24%. El rango intercuartílico (IQR) comprende desde el 25% al 75%, con valores que varían entre el 55.39% y el 96.55%. La cifra mínima registrada es 0.92%, mientras que la máxima alcanza el 129.95%."
   ]
  },
  {
   "cell_type": "markdown",
   "metadata": {},
   "source": [
    "### A continuación, veremos Top 5 de países por factor"
   ]
  },
  {
   "cell_type": "code",
   "execution_count": 22,
   "metadata": {},
   "outputs": [
    {
     "data": {
      "image/png": "[encoded data removed]",
      "text/plain": [
       "<Figure size 1000x600 with 1 Axes>"
      ]
     },
     "metadata": {},
     "output_type": "display_data"
    },
    {
     "data": {
      "image/png": "[encoded data removed]",
      "text/plain": [
       "<Figure size 1000x600 with 1 Axes>"
      ]
     },
     "metadata": {},
     "output_type": "display_data"
    },
    {
     "data": {
      "image/png": "[encoded data removed]",
      "text/plain": [
       "<Figure size 1000x600 with 1 Axes>"
      ]
     },
     "metadata": {},
     "output_type": "display_data"
    },
    {
     "data": {
      "image/png": "[encoded data removed]",
      "text/plain": [
       "<Figure size 1000x600 with 1 Axes>"
      ]
     },
     "metadata": {},
     "output_type": "display_data"
    }
   ],
   "source": [
    "\n",
    "\n",
    "# Encontrar el top 5 de países para cada factor de la serie\n",
    "factors = df_filled['factor_(serie)'].unique()  # Obtener la lista de factores únicos\n",
    "\n",
    "for factor in factors:\n",
    "    # Filtrar el DataFrame por cada factor de la serie\n",
    "    filtered_df = df_filled[df_filled['factor_(serie)'] == factor]\n",
    "    \n",
    "    # Calcular la media de los valores por país en ese factor\n",
    "    grouped = filtered_df.groupby('país')['Valor'].mean().reset_index()\n",
    "    \n",
    "    # Ordenar los valores por el porcentaje en orden descendente\n",
    "    sorted_df = grouped.sort_values(by='Valor', ascending=False)\n",
    "    \n",
    "    # Obtener los top países para cada factor (puede ser menos de 5)\n",
    "    top_countries = sorted_df.head(5)\n",
    "    \n",
    "    # Gráfico de barras para visualizar los top países con etiquetas de valores\n",
    "    plt.figure(figsize=(10, 6))\n",
    "    bars = plt.bar(top_countries['país'], top_countries['Valor'], color='skyblue')\n",
    "    plt.title(f'Top países para {factor}')\n",
    "    plt.xlabel('Países')\n",
    "    plt.ylabel('Porcentaje')\n",
    "    plt.xticks(rotation=45)\n",
    "    \n",
    "    # Etiquetas de valor en cada barra\n",
    "    for bar, value in zip(bars, top_countries['Valor']):\n",
    "        plt.text(bar.get_x() + bar.get_width() / 2, bar.get_height(), round(value, 2), ha='center', va='bottom')\n",
    "    \n",
    "    plt.tight_layout()\n",
    "    plt.show()"
   ]
  },
  {
   "cell_type": "code",
   "execution_count": 23,
   "metadata": {},
   "outputs": [],
   "source": [
    "#df_filled.to_csv('../Data/data_educacion_c.csv', index=False)"
   ]
  }
 ],
 "metadata": {
  "kernelspec": {
   "display_name": "proy_pf_env",
   "language": "python",
   "name": "python3"
  },
  "language_info": {
   "codemirror_mode": {
    "name": "ipython",
    "version": 3
   },
   "file_extension": ".py",
   "mimetype": "text/x-python",
   "name": "python",
   "nbconvert_exporter": "python",
   "pygments_lexer": "ipython3",
   "version": "3.10.11"
  },
  "orig_nbformat": 4
 },
 "nbformat": 4,
 "nbformat_minor": 2
}
