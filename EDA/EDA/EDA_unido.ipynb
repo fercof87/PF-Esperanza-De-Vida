{
 "cells": [
  {
   "cell_type": "code",
   "execution_count": 27,
   "metadata": {},
   "outputs": [],
   "source": [
    "import pandas as pd\n",
    "import seaborn as sns\n",
    "import plotly.express as px"
   ]
  },
  {
   "cell_type": "code",
   "execution_count": 28,
   "metadata": {},
   "outputs": [],
   "source": [
    "df_pbi = pd.read_csv(\"../Data_preparada/PBI.csv\")\n",
    "df_poblacion_crecimiento = pd.read_csv(\"../Data_preparada/Data_Población_Crecimiento.csv\")\n",
    "df_poblacion_edad = pd.read_csv(\"../Data_preparada/Data_Población_Edad_Genero.csv\")\n",
    "df_poblacion_zona = pd.read_csv(\"../Data_preparada/Data_Población_Zona_Genero.csv\")"
   ]
  },
  {
   "cell_type": "code",
   "execution_count": 29,
   "metadata": {},
   "outputs": [],
   "source": [
    "df_final = pd.concat([df_pbi, df_poblacion_crecimiento,df_poblacion_edad, df_poblacion_zona]).reset_index(drop=True)"
   ]
  },
  {
   "cell_type": "code",
   "execution_count": 30,
   "metadata": {},
   "outputs": [
    {
     "data": {
      "text/html": [
       "<div>\n",
       "<style scoped>\n",
       "    .dataframe tbody tr th:only-of-type {\n",
       "        vertical-align: middle;\n",
       "    }\n",
       "\n",
       "    .dataframe tbody tr th {\n",
       "        vertical-align: top;\n",
       "    }\n",
       "\n",
       "    .dataframe thead th {\n",
       "        text-align: right;\n",
       "    }\n",
       "</style>\n",
       "<table border=\"1\" class=\"dataframe\">\n",
       "  <thead>\n",
       "    <tr style=\"text-align: right;\">\n",
       "      <th></th>\n",
       "      <th>país Name</th>\n",
       "      <th>Año</th>\n",
       "      <th>factor_(serie)</th>\n",
       "      <th>Valor</th>\n",
       "    </tr>\n",
       "  </thead>\n",
       "  <tbody>\n",
       "    <tr>\n",
       "      <th>0</th>\n",
       "      <td>Alemania</td>\n",
       "      <td>1987</td>\n",
       "      <td>Crecimiento del PIB per cápita (% anual)</td>\n",
       "      <td>1.246500e+00</td>\n",
       "    </tr>\n",
       "    <tr>\n",
       "      <th>1</th>\n",
       "      <td>Alemania</td>\n",
       "      <td>1988</td>\n",
       "      <td>Crecimiento del PIB per cápita (% anual)</td>\n",
       "      <td>3.302864e+00</td>\n",
       "    </tr>\n",
       "    <tr>\n",
       "      <th>2</th>\n",
       "      <td>Alemania</td>\n",
       "      <td>1989</td>\n",
       "      <td>Crecimiento del PIB per cápita (% anual)</td>\n",
       "      <td>3.096180e+00</td>\n",
       "    </tr>\n",
       "    <tr>\n",
       "      <th>3</th>\n",
       "      <td>Alemania</td>\n",
       "      <td>1990</td>\n",
       "      <td>Crecimiento del PIB per cápita (% anual)</td>\n",
       "      <td>4.351639e+00</td>\n",
       "    </tr>\n",
       "    <tr>\n",
       "      <th>4</th>\n",
       "      <td>Alemania</td>\n",
       "      <td>1991</td>\n",
       "      <td>Crecimiento del PIB per cápita (% anual)</td>\n",
       "      <td>4.345220e+00</td>\n",
       "    </tr>\n",
       "    <tr>\n",
       "      <th>...</th>\n",
       "      <td>...</td>\n",
       "      <td>...</td>\n",
       "      <td>...</td>\n",
       "      <td>...</td>\n",
       "    </tr>\n",
       "    <tr>\n",
       "      <th>29731</th>\n",
       "      <td>Venezuela</td>\n",
       "      <td>2018</td>\n",
       "      <td>Población, total</td>\n",
       "      <td>2.982565e+07</td>\n",
       "    </tr>\n",
       "    <tr>\n",
       "      <th>29732</th>\n",
       "      <td>Venezuela</td>\n",
       "      <td>2019</td>\n",
       "      <td>Población, total</td>\n",
       "      <td>2.897168e+07</td>\n",
       "    </tr>\n",
       "    <tr>\n",
       "      <th>29733</th>\n",
       "      <td>Venezuela</td>\n",
       "      <td>2020</td>\n",
       "      <td>Población, total</td>\n",
       "      <td>2.849045e+07</td>\n",
       "    </tr>\n",
       "    <tr>\n",
       "      <th>29734</th>\n",
       "      <td>Venezuela</td>\n",
       "      <td>2021</td>\n",
       "      <td>Población, total</td>\n",
       "      <td>2.819987e+07</td>\n",
       "    </tr>\n",
       "    <tr>\n",
       "      <th>29735</th>\n",
       "      <td>Venezuela</td>\n",
       "      <td>2022</td>\n",
       "      <td>Población, total</td>\n",
       "      <td>2.830170e+07</td>\n",
       "    </tr>\n",
       "  </tbody>\n",
       "</table>\n",
       "<p>29736 rows × 4 columns</p>\n",
       "</div>"
      ],
      "text/plain": [
       "       país Name   Año                            factor_(serie)         Valor\n",
       "0       Alemania  1987  Crecimiento del PIB per cápita (% anual)  1.246500e+00\n",
       "1       Alemania  1988  Crecimiento del PIB per cápita (% anual)  3.302864e+00\n",
       "2       Alemania  1989  Crecimiento del PIB per cápita (% anual)  3.096180e+00\n",
       "3       Alemania  1990  Crecimiento del PIB per cápita (% anual)  4.351639e+00\n",
       "4       Alemania  1991  Crecimiento del PIB per cápita (% anual)  4.345220e+00\n",
       "...          ...   ...                                       ...           ...\n",
       "29731  Venezuela  2018                          Población, total  2.982565e+07\n",
       "29732  Venezuela  2019                          Población, total  2.897168e+07\n",
       "29733  Venezuela  2020                          Población, total  2.849045e+07\n",
       "29734  Venezuela  2021                          Población, total  2.819987e+07\n",
       "29735  Venezuela  2022                          Población, total  2.830170e+07\n",
       "\n",
       "[29736 rows x 4 columns]"
      ]
     },
     "execution_count": 30,
     "metadata": {},
     "output_type": "execute_result"
    }
   ],
   "source": [
    "df_final"
   ]
  },
  {
   "cell_type": "code",
   "execution_count": 31,
   "metadata": {},
   "outputs": [
    {
     "name": "stdout",
     "output_type": "stream",
     "text": [
      "<class 'pandas.core.frame.DataFrame'>\n",
      "RangeIndex: 29736 entries, 0 to 29735\n",
      "Data columns (total 4 columns):\n",
      " #   Column          Non-Null Count  Dtype  \n",
      "---  ------          --------------  -----  \n",
      " 0   país Name       29736 non-null  object \n",
      " 1   Año             29736 non-null  int64  \n",
      " 2   factor_(serie)  29736 non-null  object \n",
      " 3   Valor           29736 non-null  float64\n",
      "dtypes: float64(1), int64(1), object(2)\n",
      "memory usage: 929.4+ KB\n"
     ]
    }
   ],
   "source": [
    "df_final.info()"
   ]
  },
  {
   "cell_type": "code",
   "execution_count": 32,
   "metadata": {},
   "outputs": [],
   "source": [
    "df_final.to_csv(\"../Data_preparada/merge_data2.csv\", index=False)"
   ]
  },
  {
   "cell_type": "code",
   "execution_count": null,
   "metadata": {},
   "outputs": [],
   "source": []
  }
 ],
 "metadata": {
  "kernelspec": {
   "display_name": "Python 3",
   "language": "python",
   "name": "python3"
  },
  "language_info": {
   "codemirror_mode": {
    "name": "ipython",
    "version": 3
   },
   "file_extension": ".py",
   "mimetype": "text/x-python",
   "name": "python",
   "nbconvert_exporter": "python",
   "pygments_lexer": "ipython3",
   "version": "3.11.2"
  }
 },
 "nbformat": 4,
 "nbformat_minor": 2
}
