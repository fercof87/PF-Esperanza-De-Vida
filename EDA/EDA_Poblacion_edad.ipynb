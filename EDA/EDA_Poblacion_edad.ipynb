{
 "cells": [
  {
   "cell_type": "code",
   "execution_count": 1,
   "metadata": {},
   "outputs": [],
   "source": [
    "import pandas as pd\n",
    "import plotly.express as px"
   ]
  },
  {
   "cell_type": "code",
   "execution_count": 2,
   "metadata": {},
   "outputs": [
    {
     "data": {
      "text/html": [
       "<div>\n",
       "<style scoped>\n",
       "    .dataframe tbody tr th:only-of-type {\n",
       "        vertical-align: middle;\n",
       "    }\n",
       "\n",
       "    .dataframe tbody tr th {\n",
       "        vertical-align: top;\n",
       "    }\n",
       "\n",
       "    .dataframe thead th {\n",
       "        text-align: right;\n",
       "    }\n",
       "</style>\n",
       "<table border=\"1\" class=\"dataframe\">\n",
       "  <thead>\n",
       "    <tr style=\"text-align: right;\">\n",
       "      <th></th>\n",
       "      <th>país Name</th>\n",
       "      <th>país Code</th>\n",
       "      <th>serie Name</th>\n",
       "      <th>serie Code</th>\n",
       "      <th>1987 [YR1987]</th>\n",
       "      <th>1988 [YR1988]</th>\n",
       "      <th>1989 [YR1989]</th>\n",
       "      <th>1990 [YR1990]</th>\n",
       "      <th>1991 [YR1991]</th>\n",
       "      <th>1992 [YR1992]</th>\n",
       "      <th>...</th>\n",
       "      <th>2013 [YR2013]</th>\n",
       "      <th>2014 [YR2014]</th>\n",
       "      <th>2015 [YR2015]</th>\n",
       "      <th>2016 [YR2016]</th>\n",
       "      <th>2017 [YR2017]</th>\n",
       "      <th>2018 [YR2018]</th>\n",
       "      <th>2019 [YR2019]</th>\n",
       "      <th>2020 [YR2020]</th>\n",
       "      <th>2021 [YR2021]</th>\n",
       "      <th>2022 [YR2022]</th>\n",
       "    </tr>\n",
       "  </thead>\n",
       "  <tbody>\n",
       "    <tr>\n",
       "      <th>0</th>\n",
       "      <td>Afganistán</td>\n",
       "      <td>AFG</td>\n",
       "      <td>Población entre 0 y 14 años de edad, total</td>\n",
       "      <td>SP.POP.0014.TO</td>\n",
       "      <td>4861986.0</td>\n",
       "      <td>4903210.0</td>\n",
       "      <td>5052384.0</td>\n",
       "      <td>5077301.0</td>\n",
       "      <td>5119303.0</td>\n",
       "      <td>5766047.0</td>\n",
       "      <td>...</td>\n",
       "      <td>14782614.0</td>\n",
       "      <td>15125207.0</td>\n",
       "      <td>15456438.0</td>\n",
       "      <td>15766736.0</td>\n",
       "      <td>16081817.0</td>\n",
       "      <td>16402090.0</td>\n",
       "      <td>16728622.0</td>\n",
       "      <td>17072920.0</td>\n",
       "      <td>17413008.0</td>\n",
       "      <td>17739100.0</td>\n",
       "    </tr>\n",
       "    <tr>\n",
       "      <th>1</th>\n",
       "      <td>Afganistán</td>\n",
       "      <td>AFG</td>\n",
       "      <td>Población entre 0 y 14 años de edad, hombres</td>\n",
       "      <td>SP.POP.0014.MA.IN</td>\n",
       "      <td>2474639.0</td>\n",
       "      <td>2496483.0</td>\n",
       "      <td>2573329.0</td>\n",
       "      <td>2586901.0</td>\n",
       "      <td>2609202.0</td>\n",
       "      <td>2939728.0</td>\n",
       "      <td>...</td>\n",
       "      <td>7581794.0</td>\n",
       "      <td>7756052.0</td>\n",
       "      <td>7924320.0</td>\n",
       "      <td>8081758.0</td>\n",
       "      <td>8240991.0</td>\n",
       "      <td>8402599.0</td>\n",
       "      <td>8567283.0</td>\n",
       "      <td>8740826.0</td>\n",
       "      <td>8912289.0</td>\n",
       "      <td>9076426.0</td>\n",
       "    </tr>\n",
       "    <tr>\n",
       "      <th>2</th>\n",
       "      <td>Afganistán</td>\n",
       "      <td>AFG</td>\n",
       "      <td>Población entre 0 y 14 años de edad, mujeres</td>\n",
       "      <td>SP.POP.0014.FE.IN</td>\n",
       "      <td>2387348.0</td>\n",
       "      <td>2406727.0</td>\n",
       "      <td>2479055.0</td>\n",
       "      <td>2490400.0</td>\n",
       "      <td>2510102.0</td>\n",
       "      <td>2826319.0</td>\n",
       "      <td>...</td>\n",
       "      <td>7200820.0</td>\n",
       "      <td>7369155.0</td>\n",
       "      <td>7532118.0</td>\n",
       "      <td>7684978.0</td>\n",
       "      <td>7840826.0</td>\n",
       "      <td>7999492.0</td>\n",
       "      <td>8161339.0</td>\n",
       "      <td>8332095.0</td>\n",
       "      <td>8500719.0</td>\n",
       "      <td>8662674.0</td>\n",
       "    </tr>\n",
       "    <tr>\n",
       "      <th>3</th>\n",
       "      <td>Afganistán</td>\n",
       "      <td>AFG</td>\n",
       "      <td>Población entre 15 y 64 años de edad, total</td>\n",
       "      <td>SP.POP.1564.TO</td>\n",
       "      <td>5226926.0</td>\n",
       "      <td>5246397.0</td>\n",
       "      <td>5380687.0</td>\n",
       "      <td>5377229.0</td>\n",
       "      <td>5384510.0</td>\n",
       "      <td>6019621.0</td>\n",
       "      <td>...</td>\n",
       "      <td>16000570.0</td>\n",
       "      <td>16802817.0</td>\n",
       "      <td>17485014.0</td>\n",
       "      <td>18038552.0</td>\n",
       "      <td>18706224.0</td>\n",
       "      <td>19401609.0</td>\n",
       "      <td>20127704.0</td>\n",
       "      <td>20957369.0</td>\n",
       "      <td>21722439.0</td>\n",
       "      <td>22404909.0</td>\n",
       "    </tr>\n",
       "    <tr>\n",
       "      <th>4</th>\n",
       "      <td>Afganistán</td>\n",
       "      <td>AFG</td>\n",
       "      <td>Población entre 15 y 64 años de edad, hombres</td>\n",
       "      <td>SP.POP.1564.MA.IN</td>\n",
       "      <td>2584447.0</td>\n",
       "      <td>2588283.0</td>\n",
       "      <td>2651905.0</td>\n",
       "      <td>2648305.0</td>\n",
       "      <td>2650263.0</td>\n",
       "      <td>2961160.0</td>\n",
       "      <td>...</td>\n",
       "      <td>8028459.0</td>\n",
       "      <td>8439813.0</td>\n",
       "      <td>8789878.0</td>\n",
       "      <td>9075174.0</td>\n",
       "      <td>9414493.0</td>\n",
       "      <td>9763360.0</td>\n",
       "      <td>10127343.0</td>\n",
       "      <td>10544398.0</td>\n",
       "      <td>10927876.0</td>\n",
       "      <td>11268607.0</td>\n",
       "    </tr>\n",
       "    <tr>\n",
       "      <th>...</th>\n",
       "      <td>...</td>\n",
       "      <td>...</td>\n",
       "      <td>...</td>\n",
       "      <td>...</td>\n",
       "      <td>...</td>\n",
       "      <td>...</td>\n",
       "      <td>...</td>\n",
       "      <td>...</td>\n",
       "      <td>...</td>\n",
       "      <td>...</td>\n",
       "      <td>...</td>\n",
       "      <td>...</td>\n",
       "      <td>...</td>\n",
       "      <td>...</td>\n",
       "      <td>...</td>\n",
       "      <td>...</td>\n",
       "      <td>...</td>\n",
       "      <td>...</td>\n",
       "      <td>...</td>\n",
       "      <td>...</td>\n",
       "      <td>...</td>\n",
       "    </tr>\n",
       "    <tr>\n",
       "      <th>396</th>\n",
       "      <td>NaN</td>\n",
       "      <td>NaN</td>\n",
       "      <td>NaN</td>\n",
       "      <td>NaN</td>\n",
       "      <td>NaN</td>\n",
       "      <td>NaN</td>\n",
       "      <td>NaN</td>\n",
       "      <td>NaN</td>\n",
       "      <td>NaN</td>\n",
       "      <td>NaN</td>\n",
       "      <td>...</td>\n",
       "      <td>NaN</td>\n",
       "      <td>NaN</td>\n",
       "      <td>NaN</td>\n",
       "      <td>NaN</td>\n",
       "      <td>NaN</td>\n",
       "      <td>NaN</td>\n",
       "      <td>NaN</td>\n",
       "      <td>NaN</td>\n",
       "      <td>NaN</td>\n",
       "      <td>NaN</td>\n",
       "    </tr>\n",
       "    <tr>\n",
       "      <th>397</th>\n",
       "      <td>NaN</td>\n",
       "      <td>NaN</td>\n",
       "      <td>NaN</td>\n",
       "      <td>NaN</td>\n",
       "      <td>NaN</td>\n",
       "      <td>NaN</td>\n",
       "      <td>NaN</td>\n",
       "      <td>NaN</td>\n",
       "      <td>NaN</td>\n",
       "      <td>NaN</td>\n",
       "      <td>...</td>\n",
       "      <td>NaN</td>\n",
       "      <td>NaN</td>\n",
       "      <td>NaN</td>\n",
       "      <td>NaN</td>\n",
       "      <td>NaN</td>\n",
       "      <td>NaN</td>\n",
       "      <td>NaN</td>\n",
       "      <td>NaN</td>\n",
       "      <td>NaN</td>\n",
       "      <td>NaN</td>\n",
       "    </tr>\n",
       "    <tr>\n",
       "      <th>398</th>\n",
       "      <td>NaN</td>\n",
       "      <td>NaN</td>\n",
       "      <td>NaN</td>\n",
       "      <td>NaN</td>\n",
       "      <td>NaN</td>\n",
       "      <td>NaN</td>\n",
       "      <td>NaN</td>\n",
       "      <td>NaN</td>\n",
       "      <td>NaN</td>\n",
       "      <td>NaN</td>\n",
       "      <td>...</td>\n",
       "      <td>NaN</td>\n",
       "      <td>NaN</td>\n",
       "      <td>NaN</td>\n",
       "      <td>NaN</td>\n",
       "      <td>NaN</td>\n",
       "      <td>NaN</td>\n",
       "      <td>NaN</td>\n",
       "      <td>NaN</td>\n",
       "      <td>NaN</td>\n",
       "      <td>NaN</td>\n",
       "    </tr>\n",
       "    <tr>\n",
       "      <th>399</th>\n",
       "      <td>Data from Database: Indicadores del desarrollo...</td>\n",
       "      <td>NaN</td>\n",
       "      <td>NaN</td>\n",
       "      <td>NaN</td>\n",
       "      <td>NaN</td>\n",
       "      <td>NaN</td>\n",
       "      <td>NaN</td>\n",
       "      <td>NaN</td>\n",
       "      <td>NaN</td>\n",
       "      <td>NaN</td>\n",
       "      <td>...</td>\n",
       "      <td>NaN</td>\n",
       "      <td>NaN</td>\n",
       "      <td>NaN</td>\n",
       "      <td>NaN</td>\n",
       "      <td>NaN</td>\n",
       "      <td>NaN</td>\n",
       "      <td>NaN</td>\n",
       "      <td>NaN</td>\n",
       "      <td>NaN</td>\n",
       "      <td>NaN</td>\n",
       "    </tr>\n",
       "    <tr>\n",
       "      <th>400</th>\n",
       "      <td>Last Updated: 10/26/2023</td>\n",
       "      <td>NaN</td>\n",
       "      <td>NaN</td>\n",
       "      <td>NaN</td>\n",
       "      <td>NaN</td>\n",
       "      <td>NaN</td>\n",
       "      <td>NaN</td>\n",
       "      <td>NaN</td>\n",
       "      <td>NaN</td>\n",
       "      <td>NaN</td>\n",
       "      <td>...</td>\n",
       "      <td>NaN</td>\n",
       "      <td>NaN</td>\n",
       "      <td>NaN</td>\n",
       "      <td>NaN</td>\n",
       "      <td>NaN</td>\n",
       "      <td>NaN</td>\n",
       "      <td>NaN</td>\n",
       "      <td>NaN</td>\n",
       "      <td>NaN</td>\n",
       "      <td>NaN</td>\n",
       "    </tr>\n",
       "  </tbody>\n",
       "</table>\n",
       "<p>401 rows × 40 columns</p>\n",
       "</div>"
      ],
      "text/plain": [
       "                                             país Name país Code   \n",
       "0                                           Afganistán       AFG  \\\n",
       "1                                           Afganistán       AFG   \n",
       "2                                           Afganistán       AFG   \n",
       "3                                           Afganistán       AFG   \n",
       "4                                           Afganistán       AFG   \n",
       "..                                                 ...       ...   \n",
       "396                                                NaN       NaN   \n",
       "397                                                NaN       NaN   \n",
       "398                                                NaN       NaN   \n",
       "399  Data from Database: Indicadores del desarrollo...       NaN   \n",
       "400                           Last Updated: 10/26/2023       NaN   \n",
       "\n",
       "                                        serie Name         serie Code   \n",
       "0       Población entre 0 y 14 años de edad, total     SP.POP.0014.TO  \\\n",
       "1     Población entre 0 y 14 años de edad, hombres  SP.POP.0014.MA.IN   \n",
       "2     Población entre 0 y 14 años de edad, mujeres  SP.POP.0014.FE.IN   \n",
       "3      Población entre 15 y 64 años de edad, total     SP.POP.1564.TO   \n",
       "4    Población entre 15 y 64 años de edad, hombres  SP.POP.1564.MA.IN   \n",
       "..                                             ...                ...   \n",
       "396                                            NaN                NaN   \n",
       "397                                            NaN                NaN   \n",
       "398                                            NaN                NaN   \n",
       "399                                            NaN                NaN   \n",
       "400                                            NaN                NaN   \n",
       "\n",
       "     1987 [YR1987]  1988 [YR1988]  1989 [YR1989]  1990 [YR1990]   \n",
       "0        4861986.0      4903210.0      5052384.0      5077301.0  \\\n",
       "1        2474639.0      2496483.0      2573329.0      2586901.0   \n",
       "2        2387348.0      2406727.0      2479055.0      2490400.0   \n",
       "3        5226926.0      5246397.0      5380687.0      5377229.0   \n",
       "4        2584447.0      2588283.0      2651905.0      2648305.0   \n",
       "..             ...            ...            ...            ...   \n",
       "396            NaN            NaN            NaN            NaN   \n",
       "397            NaN            NaN            NaN            NaN   \n",
       "398            NaN            NaN            NaN            NaN   \n",
       "399            NaN            NaN            NaN            NaN   \n",
       "400            NaN            NaN            NaN            NaN   \n",
       "\n",
       "     1991 [YR1991]  1992 [YR1992]  ...  2013 [YR2013]  2014 [YR2014]   \n",
       "0        5119303.0      5766047.0  ...     14782614.0     15125207.0  \\\n",
       "1        2609202.0      2939728.0  ...      7581794.0      7756052.0   \n",
       "2        2510102.0      2826319.0  ...      7200820.0      7369155.0   \n",
       "3        5384510.0      6019621.0  ...     16000570.0     16802817.0   \n",
       "4        2650263.0      2961160.0  ...      8028459.0      8439813.0   \n",
       "..             ...            ...  ...            ...            ...   \n",
       "396            NaN            NaN  ...            NaN            NaN   \n",
       "397            NaN            NaN  ...            NaN            NaN   \n",
       "398            NaN            NaN  ...            NaN            NaN   \n",
       "399            NaN            NaN  ...            NaN            NaN   \n",
       "400            NaN            NaN  ...            NaN            NaN   \n",
       "\n",
       "     2015 [YR2015]  2016 [YR2016]  2017 [YR2017]  2018 [YR2018]   \n",
       "0       15456438.0     15766736.0     16081817.0     16402090.0  \\\n",
       "1        7924320.0      8081758.0      8240991.0      8402599.0   \n",
       "2        7532118.0      7684978.0      7840826.0      7999492.0   \n",
       "3       17485014.0     18038552.0     18706224.0     19401609.0   \n",
       "4        8789878.0      9075174.0      9414493.0      9763360.0   \n",
       "..             ...            ...            ...            ...   \n",
       "396            NaN            NaN            NaN            NaN   \n",
       "397            NaN            NaN            NaN            NaN   \n",
       "398            NaN            NaN            NaN            NaN   \n",
       "399            NaN            NaN            NaN            NaN   \n",
       "400            NaN            NaN            NaN            NaN   \n",
       "\n",
       "     2019 [YR2019]  2020 [YR2020]  2021 [YR2021]  2022 [YR2022]  \n",
       "0       16728622.0     17072920.0     17413008.0     17739100.0  \n",
       "1        8567283.0      8740826.0      8912289.0      9076426.0  \n",
       "2        8161339.0      8332095.0      8500719.0      8662674.0  \n",
       "3       20127704.0     20957369.0     21722439.0     22404909.0  \n",
       "4       10127343.0     10544398.0     10927876.0     11268607.0  \n",
       "..             ...            ...            ...            ...  \n",
       "396            NaN            NaN            NaN            NaN  \n",
       "397            NaN            NaN            NaN            NaN  \n",
       "398            NaN            NaN            NaN            NaN  \n",
       "399            NaN            NaN            NaN            NaN  \n",
       "400            NaN            NaN            NaN            NaN  \n",
       "\n",
       "[401 rows x 40 columns]"
      ]
     },
     "execution_count": 2,
     "metadata": {},
     "output_type": "execute_result"
    }
   ],
   "source": [
    "df_poblacion = pd.read_excel(\"Data/Data_Poblacion_Edad_Genero.xlsx\")\n",
    "df_poblacion"
   ]
  },
  {
   "cell_type": "code",
   "execution_count": 3,
   "metadata": {},
   "outputs": [
    {
     "data": {
      "text/html": [
       "<div>\n",
       "<style scoped>\n",
       "    .dataframe tbody tr th:only-of-type {\n",
       "        vertical-align: middle;\n",
       "    }\n",
       "\n",
       "    .dataframe tbody tr th {\n",
       "        vertical-align: top;\n",
       "    }\n",
       "\n",
       "    .dataframe thead th {\n",
       "        text-align: right;\n",
       "    }\n",
       "</style>\n",
       "<table border=\"1\" class=\"dataframe\">\n",
       "  <thead>\n",
       "    <tr style=\"text-align: right;\">\n",
       "      <th></th>\n",
       "      <th>país Name</th>\n",
       "      <th>país Code</th>\n",
       "      <th>serie Name</th>\n",
       "      <th>serie Code</th>\n",
       "      <th>1987 [YR1987]</th>\n",
       "      <th>1988 [YR1988]</th>\n",
       "      <th>1989 [YR1989]</th>\n",
       "      <th>1990 [YR1990]</th>\n",
       "      <th>1991 [YR1991]</th>\n",
       "      <th>1992 [YR1992]</th>\n",
       "      <th>...</th>\n",
       "      <th>2013 [YR2013]</th>\n",
       "      <th>2014 [YR2014]</th>\n",
       "      <th>2015 [YR2015]</th>\n",
       "      <th>2016 [YR2016]</th>\n",
       "      <th>2017 [YR2017]</th>\n",
       "      <th>2018 [YR2018]</th>\n",
       "      <th>2019 [YR2019]</th>\n",
       "      <th>2020 [YR2020]</th>\n",
       "      <th>2021 [YR2021]</th>\n",
       "      <th>2022 [YR2022]</th>\n",
       "    </tr>\n",
       "  </thead>\n",
       "  <tbody>\n",
       "    <tr>\n",
       "      <th>0</th>\n",
       "      <td>Afganistán</td>\n",
       "      <td>AFG</td>\n",
       "      <td>Población entre 0 y 14 años de edad, total</td>\n",
       "      <td>SP.POP.0014.TO</td>\n",
       "      <td>4861986.0</td>\n",
       "      <td>4903210.0</td>\n",
       "      <td>5052384.0</td>\n",
       "      <td>5077301.0</td>\n",
       "      <td>5119303.0</td>\n",
       "      <td>5766047.0</td>\n",
       "      <td>...</td>\n",
       "      <td>14782614.0</td>\n",
       "      <td>15125207.0</td>\n",
       "      <td>15456438.0</td>\n",
       "      <td>15766736.0</td>\n",
       "      <td>16081817.0</td>\n",
       "      <td>16402090.0</td>\n",
       "      <td>16728622.0</td>\n",
       "      <td>17072920.0</td>\n",
       "      <td>17413008.0</td>\n",
       "      <td>17739100.0</td>\n",
       "    </tr>\n",
       "    <tr>\n",
       "      <th>1</th>\n",
       "      <td>Afganistán</td>\n",
       "      <td>AFG</td>\n",
       "      <td>Población entre 0 y 14 años de edad, hombres</td>\n",
       "      <td>SP.POP.0014.MA.IN</td>\n",
       "      <td>2474639.0</td>\n",
       "      <td>2496483.0</td>\n",
       "      <td>2573329.0</td>\n",
       "      <td>2586901.0</td>\n",
       "      <td>2609202.0</td>\n",
       "      <td>2939728.0</td>\n",
       "      <td>...</td>\n",
       "      <td>7581794.0</td>\n",
       "      <td>7756052.0</td>\n",
       "      <td>7924320.0</td>\n",
       "      <td>8081758.0</td>\n",
       "      <td>8240991.0</td>\n",
       "      <td>8402599.0</td>\n",
       "      <td>8567283.0</td>\n",
       "      <td>8740826.0</td>\n",
       "      <td>8912289.0</td>\n",
       "      <td>9076426.0</td>\n",
       "    </tr>\n",
       "    <tr>\n",
       "      <th>2</th>\n",
       "      <td>Afganistán</td>\n",
       "      <td>AFG</td>\n",
       "      <td>Población entre 0 y 14 años de edad, mujeres</td>\n",
       "      <td>SP.POP.0014.FE.IN</td>\n",
       "      <td>2387348.0</td>\n",
       "      <td>2406727.0</td>\n",
       "      <td>2479055.0</td>\n",
       "      <td>2490400.0</td>\n",
       "      <td>2510102.0</td>\n",
       "      <td>2826319.0</td>\n",
       "      <td>...</td>\n",
       "      <td>7200820.0</td>\n",
       "      <td>7369155.0</td>\n",
       "      <td>7532118.0</td>\n",
       "      <td>7684978.0</td>\n",
       "      <td>7840826.0</td>\n",
       "      <td>7999492.0</td>\n",
       "      <td>8161339.0</td>\n",
       "      <td>8332095.0</td>\n",
       "      <td>8500719.0</td>\n",
       "      <td>8662674.0</td>\n",
       "    </tr>\n",
       "    <tr>\n",
       "      <th>3</th>\n",
       "      <td>Afganistán</td>\n",
       "      <td>AFG</td>\n",
       "      <td>Población entre 15 y 64 años de edad, total</td>\n",
       "      <td>SP.POP.1564.TO</td>\n",
       "      <td>5226926.0</td>\n",
       "      <td>5246397.0</td>\n",
       "      <td>5380687.0</td>\n",
       "      <td>5377229.0</td>\n",
       "      <td>5384510.0</td>\n",
       "      <td>6019621.0</td>\n",
       "      <td>...</td>\n",
       "      <td>16000570.0</td>\n",
       "      <td>16802817.0</td>\n",
       "      <td>17485014.0</td>\n",
       "      <td>18038552.0</td>\n",
       "      <td>18706224.0</td>\n",
       "      <td>19401609.0</td>\n",
       "      <td>20127704.0</td>\n",
       "      <td>20957369.0</td>\n",
       "      <td>21722439.0</td>\n",
       "      <td>22404909.0</td>\n",
       "    </tr>\n",
       "    <tr>\n",
       "      <th>4</th>\n",
       "      <td>Afganistán</td>\n",
       "      <td>AFG</td>\n",
       "      <td>Población entre 15 y 64 años de edad, hombres</td>\n",
       "      <td>SP.POP.1564.MA.IN</td>\n",
       "      <td>2584447.0</td>\n",
       "      <td>2588283.0</td>\n",
       "      <td>2651905.0</td>\n",
       "      <td>2648305.0</td>\n",
       "      <td>2650263.0</td>\n",
       "      <td>2961160.0</td>\n",
       "      <td>...</td>\n",
       "      <td>8028459.0</td>\n",
       "      <td>8439813.0</td>\n",
       "      <td>8789878.0</td>\n",
       "      <td>9075174.0</td>\n",
       "      <td>9414493.0</td>\n",
       "      <td>9763360.0</td>\n",
       "      <td>10127343.0</td>\n",
       "      <td>10544398.0</td>\n",
       "      <td>10927876.0</td>\n",
       "      <td>11268607.0</td>\n",
       "    </tr>\n",
       "    <tr>\n",
       "      <th>...</th>\n",
       "      <td>...</td>\n",
       "      <td>...</td>\n",
       "      <td>...</td>\n",
       "      <td>...</td>\n",
       "      <td>...</td>\n",
       "      <td>...</td>\n",
       "      <td>...</td>\n",
       "      <td>...</td>\n",
       "      <td>...</td>\n",
       "      <td>...</td>\n",
       "      <td>...</td>\n",
       "      <td>...</td>\n",
       "      <td>...</td>\n",
       "      <td>...</td>\n",
       "      <td>...</td>\n",
       "      <td>...</td>\n",
       "      <td>...</td>\n",
       "      <td>...</td>\n",
       "      <td>...</td>\n",
       "      <td>...</td>\n",
       "      <td>...</td>\n",
       "    </tr>\n",
       "    <tr>\n",
       "      <th>391</th>\n",
       "      <td>Noruega</td>\n",
       "      <td>NOR</td>\n",
       "      <td>Población entre 15 y 64 años de edad, hombres</td>\n",
       "      <td>SP.POP.1564.MA.IN</td>\n",
       "      <td>1375047.0</td>\n",
       "      <td>1387213.0</td>\n",
       "      <td>1393759.0</td>\n",
       "      <td>1397404.0</td>\n",
       "      <td>1403124.0</td>\n",
       "      <td>1410172.0</td>\n",
       "      <td>...</td>\n",
       "      <td>1716007.0</td>\n",
       "      <td>1733890.0</td>\n",
       "      <td>1749505.0</td>\n",
       "      <td>1761283.0</td>\n",
       "      <td>1770025.0</td>\n",
       "      <td>1776213.0</td>\n",
       "      <td>1785084.0</td>\n",
       "      <td>1792942.0</td>\n",
       "      <td>1799128.0</td>\n",
       "      <td>1813121.0</td>\n",
       "    </tr>\n",
       "    <tr>\n",
       "      <th>392</th>\n",
       "      <td>Noruega</td>\n",
       "      <td>NOR</td>\n",
       "      <td>Población entre 15 y 64 años de edad, mujeres</td>\n",
       "      <td>SP.POP.1564.FE.IN</td>\n",
       "      <td>1329976.0</td>\n",
       "      <td>1338138.0</td>\n",
       "      <td>1344029.0</td>\n",
       "      <td>1348970.0</td>\n",
       "      <td>1354533.0</td>\n",
       "      <td>1360837.0</td>\n",
       "      <td>...</td>\n",
       "      <td>1632998.0</td>\n",
       "      <td>1648257.0</td>\n",
       "      <td>1661586.0</td>\n",
       "      <td>1672938.0</td>\n",
       "      <td>1682938.0</td>\n",
       "      <td>1691080.0</td>\n",
       "      <td>1699915.0</td>\n",
       "      <td>1706886.0</td>\n",
       "      <td>1712783.0</td>\n",
       "      <td>1726221.0</td>\n",
       "    </tr>\n",
       "    <tr>\n",
       "      <th>393</th>\n",
       "      <td>Noruega</td>\n",
       "      <td>NOR</td>\n",
       "      <td>Población de 65 años de edad y más, total</td>\n",
       "      <td>SP.POP.65UP.TO</td>\n",
       "      <td>673971.0</td>\n",
       "      <td>681681.0</td>\n",
       "      <td>688002.0</td>\n",
       "      <td>691746.0</td>\n",
       "      <td>694219.0</td>\n",
       "      <td>696033.0</td>\n",
       "      <td>...</td>\n",
       "      <td>801583.0</td>\n",
       "      <td>823484.0</td>\n",
       "      <td>844556.0</td>\n",
       "      <td>864739.0</td>\n",
       "      <td>885665.0</td>\n",
       "      <td>907662.0</td>\n",
       "      <td>930340.0</td>\n",
       "      <td>953777.0</td>\n",
       "      <td>978816.0</td>\n",
       "      <td>1006045.0</td>\n",
       "    </tr>\n",
       "    <tr>\n",
       "      <th>394</th>\n",
       "      <td>Noruega</td>\n",
       "      <td>NOR</td>\n",
       "      <td>Población de 65 años de edad y más, hombres</td>\n",
       "      <td>SP.POP.65UP.MA.IN</td>\n",
       "      <td>281293.0</td>\n",
       "      <td>284172.0</td>\n",
       "      <td>286689.0</td>\n",
       "      <td>288043.0</td>\n",
       "      <td>288870.0</td>\n",
       "      <td>289410.0</td>\n",
       "      <td>...</td>\n",
       "      <td>359649.0</td>\n",
       "      <td>372120.0</td>\n",
       "      <td>384048.0</td>\n",
       "      <td>395607.0</td>\n",
       "      <td>407490.0</td>\n",
       "      <td>419666.0</td>\n",
       "      <td>431966.0</td>\n",
       "      <td>444574.0</td>\n",
       "      <td>457857.0</td>\n",
       "      <td>472154.0</td>\n",
       "    </tr>\n",
       "    <tr>\n",
       "      <th>395</th>\n",
       "      <td>Noruega</td>\n",
       "      <td>NOR</td>\n",
       "      <td>Población de 65 años de edad y más, mujeres</td>\n",
       "      <td>SP.POP.65UP.FE.IN</td>\n",
       "      <td>392678.0</td>\n",
       "      <td>397508.0</td>\n",
       "      <td>401313.0</td>\n",
       "      <td>403703.0</td>\n",
       "      <td>405349.0</td>\n",
       "      <td>406623.0</td>\n",
       "      <td>...</td>\n",
       "      <td>441934.0</td>\n",
       "      <td>451364.0</td>\n",
       "      <td>460508.0</td>\n",
       "      <td>469132.0</td>\n",
       "      <td>478175.0</td>\n",
       "      <td>487996.0</td>\n",
       "      <td>498374.0</td>\n",
       "      <td>509203.0</td>\n",
       "      <td>520958.0</td>\n",
       "      <td>533891.0</td>\n",
       "    </tr>\n",
       "  </tbody>\n",
       "</table>\n",
       "<p>396 rows × 40 columns</p>\n",
       "</div>"
      ],
      "text/plain": [
       "      país Name país Code                                     serie Name   \n",
       "0    Afganistán       AFG     Población entre 0 y 14 años de edad, total  \\\n",
       "1    Afganistán       AFG   Población entre 0 y 14 años de edad, hombres   \n",
       "2    Afganistán       AFG   Población entre 0 y 14 años de edad, mujeres   \n",
       "3    Afganistán       AFG    Población entre 15 y 64 años de edad, total   \n",
       "4    Afganistán       AFG  Población entre 15 y 64 años de edad, hombres   \n",
       "..          ...       ...                                            ...   \n",
       "391     Noruega       NOR  Población entre 15 y 64 años de edad, hombres   \n",
       "392     Noruega       NOR  Población entre 15 y 64 años de edad, mujeres   \n",
       "393     Noruega       NOR      Población de 65 años de edad y más, total   \n",
       "394     Noruega       NOR    Población de 65 años de edad y más, hombres   \n",
       "395     Noruega       NOR    Población de 65 años de edad y más, mujeres   \n",
       "\n",
       "            serie Code  1987 [YR1987]  1988 [YR1988]  1989 [YR1989]   \n",
       "0       SP.POP.0014.TO      4861986.0      4903210.0      5052384.0  \\\n",
       "1    SP.POP.0014.MA.IN      2474639.0      2496483.0      2573329.0   \n",
       "2    SP.POP.0014.FE.IN      2387348.0      2406727.0      2479055.0   \n",
       "3       SP.POP.1564.TO      5226926.0      5246397.0      5380687.0   \n",
       "4    SP.POP.1564.MA.IN      2584447.0      2588283.0      2651905.0   \n",
       "..                 ...            ...            ...            ...   \n",
       "391  SP.POP.1564.MA.IN      1375047.0      1387213.0      1393759.0   \n",
       "392  SP.POP.1564.FE.IN      1329976.0      1338138.0      1344029.0   \n",
       "393     SP.POP.65UP.TO       673971.0       681681.0       688002.0   \n",
       "394  SP.POP.65UP.MA.IN       281293.0       284172.0       286689.0   \n",
       "395  SP.POP.65UP.FE.IN       392678.0       397508.0       401313.0   \n",
       "\n",
       "     1990 [YR1990]  1991 [YR1991]  1992 [YR1992]  ...  2013 [YR2013]   \n",
       "0        5077301.0      5119303.0      5766047.0  ...     14782614.0  \\\n",
       "1        2586901.0      2609202.0      2939728.0  ...      7581794.0   \n",
       "2        2490400.0      2510102.0      2826319.0  ...      7200820.0   \n",
       "3        5377229.0      5384510.0      6019621.0  ...     16000570.0   \n",
       "4        2648305.0      2650263.0      2961160.0  ...      8028459.0   \n",
       "..             ...            ...            ...  ...            ...   \n",
       "391      1397404.0      1403124.0      1410172.0  ...      1716007.0   \n",
       "392      1348970.0      1354533.0      1360837.0  ...      1632998.0   \n",
       "393       691746.0       694219.0       696033.0  ...       801583.0   \n",
       "394       288043.0       288870.0       289410.0  ...       359649.0   \n",
       "395       403703.0       405349.0       406623.0  ...       441934.0   \n",
       "\n",
       "     2014 [YR2014]  2015 [YR2015]  2016 [YR2016]  2017 [YR2017]   \n",
       "0       15125207.0     15456438.0     15766736.0     16081817.0  \\\n",
       "1        7756052.0      7924320.0      8081758.0      8240991.0   \n",
       "2        7369155.0      7532118.0      7684978.0      7840826.0   \n",
       "3       16802817.0     17485014.0     18038552.0     18706224.0   \n",
       "4        8439813.0      8789878.0      9075174.0      9414493.0   \n",
       "..             ...            ...            ...            ...   \n",
       "391      1733890.0      1749505.0      1761283.0      1770025.0   \n",
       "392      1648257.0      1661586.0      1672938.0      1682938.0   \n",
       "393       823484.0       844556.0       864739.0       885665.0   \n",
       "394       372120.0       384048.0       395607.0       407490.0   \n",
       "395       451364.0       460508.0       469132.0       478175.0   \n",
       "\n",
       "     2018 [YR2018]  2019 [YR2019]  2020 [YR2020]  2021 [YR2021]  2022 [YR2022]  \n",
       "0       16402090.0     16728622.0     17072920.0     17413008.0     17739100.0  \n",
       "1        8402599.0      8567283.0      8740826.0      8912289.0      9076426.0  \n",
       "2        7999492.0      8161339.0      8332095.0      8500719.0      8662674.0  \n",
       "3       19401609.0     20127704.0     20957369.0     21722439.0     22404909.0  \n",
       "4        9763360.0     10127343.0     10544398.0     10927876.0     11268607.0  \n",
       "..             ...            ...            ...            ...            ...  \n",
       "391      1776213.0      1785084.0      1792942.0      1799128.0      1813121.0  \n",
       "392      1691080.0      1699915.0      1706886.0      1712783.0      1726221.0  \n",
       "393       907662.0       930340.0       953777.0       978816.0      1006045.0  \n",
       "394       419666.0       431966.0       444574.0       457857.0       472154.0  \n",
       "395       487996.0       498374.0       509203.0       520958.0       533891.0  \n",
       "\n",
       "[396 rows x 40 columns]"
      ]
     },
     "execution_count": 3,
     "metadata": {},
     "output_type": "execute_result"
    }
   ],
   "source": [
    "df_poblacion.dropna(subset=['país Code'], inplace=True)\n",
    "df_poblacion"
   ]
  },
  {
   "cell_type": "code",
   "execution_count": 4,
   "metadata": {},
   "outputs": [
    {
     "name": "stdout",
     "output_type": "stream",
     "text": [
      "<class 'pandas.core.frame.DataFrame'>\n",
      "Index: 396 entries, 0 to 395\n",
      "Data columns (total 40 columns):\n",
      " #   Column         Non-Null Count  Dtype  \n",
      "---  ------         --------------  -----  \n",
      " 0   país Name      396 non-null    object \n",
      " 1   país Code      396 non-null    object \n",
      " 2   serie Name     396 non-null    object \n",
      " 3   serie Code     396 non-null    object \n",
      " 4   1987 [YR1987]  396 non-null    float64\n",
      " 5   1988 [YR1988]  396 non-null    float64\n",
      " 6   1989 [YR1989]  396 non-null    float64\n",
      " 7   1990 [YR1990]  396 non-null    float64\n",
      " 8   1991 [YR1991]  396 non-null    float64\n",
      " 9   1992 [YR1992]  396 non-null    float64\n",
      " 10  1993 [YR1993]  396 non-null    float64\n",
      " 11  1994 [YR1994]  396 non-null    float64\n",
      " 12  1995 [YR1995]  396 non-null    float64\n",
      " 13  1996 [YR1996]  396 non-null    float64\n",
      " 14  1997 [YR1997]  396 non-null    float64\n",
      " 15  1998 [YR1998]  396 non-null    float64\n",
      " 16  1999 [YR1999]  396 non-null    float64\n",
      " 17  2000 [YR2000]  396 non-null    float64\n",
      " 18  2001 [YR2001]  396 non-null    float64\n",
      " 19  2002 [YR2002]  396 non-null    float64\n",
      " 20  2003 [YR2003]  396 non-null    float64\n",
      " 21  2004 [YR2004]  396 non-null    float64\n",
      " 22  2005 [YR2005]  396 non-null    float64\n",
      " 23  2006 [YR2006]  396 non-null    float64\n",
      " 24  2007 [YR2007]  396 non-null    float64\n",
      " 25  2008 [YR2008]  396 non-null    float64\n",
      " 26  2009 [YR2009]  396 non-null    float64\n",
      " 27  2010 [YR2010]  396 non-null    float64\n",
      " 28  2011 [YR2011]  396 non-null    float64\n",
      " 29  2012 [YR2012]  396 non-null    float64\n",
      " 30  2013 [YR2013]  396 non-null    float64\n",
      " 31  2014 [YR2014]  396 non-null    float64\n",
      " 32  2015 [YR2015]  396 non-null    float64\n",
      " 33  2016 [YR2016]  396 non-null    float64\n",
      " 34  2017 [YR2017]  396 non-null    float64\n",
      " 35  2018 [YR2018]  396 non-null    float64\n",
      " 36  2019 [YR2019]  396 non-null    float64\n",
      " 37  2020 [YR2020]  396 non-null    float64\n",
      " 38  2021 [YR2021]  396 non-null    float64\n",
      " 39  2022 [YR2022]  396 non-null    float64\n",
      "dtypes: float64(36), object(4)\n",
      "memory usage: 126.8+ KB\n"
     ]
    }
   ],
   "source": [
    "df_poblacion.info()"
   ]
  },
  {
   "cell_type": "code",
   "execution_count": 5,
   "metadata": {},
   "outputs": [
    {
     "data": {
      "text/plain": [
       "serie Name\n",
       "Población entre 0 y 14 años de edad, total       44\n",
       "Población entre 0 y 14 años de edad, hombres     44\n",
       "Población entre 0 y 14 años de edad, mujeres     44\n",
       "Población entre 15 y 64 años de edad, total      44\n",
       "Población entre 15 y 64 años de edad, hombres    44\n",
       "Población entre 15 y 64 años de edad, mujeres    44\n",
       "Población de 65 años de edad y más, total        44\n",
       "Población de 65 años de edad y más, hombres      44\n",
       "Población de 65 años de edad y más, mujeres      44\n",
       "Name: count, dtype: int64"
      ]
     },
     "execution_count": 5,
     "metadata": {},
     "output_type": "execute_result"
    }
   ],
   "source": [
    "df_poblacion[\"serie Name\"].value_counts()"
   ]
  },
  {
   "cell_type": "code",
   "execution_count": 6,
   "metadata": {},
   "outputs": [],
   "source": [
    "columns_to_convert = df_poblacion.columns[4:40]\n",
    "\n",
    "df_poblacion[columns_to_convert] = df_poblacion[columns_to_convert].apply(pd.to_numeric, errors='coerce')"
   ]
  },
  {
   "cell_type": "code",
   "execution_count": 7,
   "metadata": {},
   "outputs": [
    {
     "name": "stdout",
     "output_type": "stream",
     "text": [
      "<class 'pandas.core.frame.DataFrame'>\n",
      "Index: 396 entries, 0 to 395\n",
      "Data columns (total 40 columns):\n",
      " #   Column         Non-Null Count  Dtype  \n",
      "---  ------         --------------  -----  \n",
      " 0   país Name      396 non-null    object \n",
      " 1   país Code      396 non-null    object \n",
      " 2   serie Name     396 non-null    object \n",
      " 3   serie Code     396 non-null    object \n",
      " 4   1987 [YR1987]  396 non-null    float64\n",
      " 5   1988 [YR1988]  396 non-null    float64\n",
      " 6   1989 [YR1989]  396 non-null    float64\n",
      " 7   1990 [YR1990]  396 non-null    float64\n",
      " 8   1991 [YR1991]  396 non-null    float64\n",
      " 9   1992 [YR1992]  396 non-null    float64\n",
      " 10  1993 [YR1993]  396 non-null    float64\n",
      " 11  1994 [YR1994]  396 non-null    float64\n",
      " 12  1995 [YR1995]  396 non-null    float64\n",
      " 13  1996 [YR1996]  396 non-null    float64\n",
      " 14  1997 [YR1997]  396 non-null    float64\n",
      " 15  1998 [YR1998]  396 non-null    float64\n",
      " 16  1999 [YR1999]  396 non-null    float64\n",
      " 17  2000 [YR2000]  396 non-null    float64\n",
      " 18  2001 [YR2001]  396 non-null    float64\n",
      " 19  2002 [YR2002]  396 non-null    float64\n",
      " 20  2003 [YR2003]  396 non-null    float64\n",
      " 21  2004 [YR2004]  396 non-null    float64\n",
      " 22  2005 [YR2005]  396 non-null    float64\n",
      " 23  2006 [YR2006]  396 non-null    float64\n",
      " 24  2007 [YR2007]  396 non-null    float64\n",
      " 25  2008 [YR2008]  396 non-null    float64\n",
      " 26  2009 [YR2009]  396 non-null    float64\n",
      " 27  2010 [YR2010]  396 non-null    float64\n",
      " 28  2011 [YR2011]  396 non-null    float64\n",
      " 29  2012 [YR2012]  396 non-null    float64\n",
      " 30  2013 [YR2013]  396 non-null    float64\n",
      " 31  2014 [YR2014]  396 non-null    float64\n",
      " 32  2015 [YR2015]  396 non-null    float64\n",
      " 33  2016 [YR2016]  396 non-null    float64\n",
      " 34  2017 [YR2017]  396 non-null    float64\n",
      " 35  2018 [YR2018]  396 non-null    float64\n",
      " 36  2019 [YR2019]  396 non-null    float64\n",
      " 37  2020 [YR2020]  396 non-null    float64\n",
      " 38  2021 [YR2021]  396 non-null    float64\n",
      " 39  2022 [YR2022]  396 non-null    float64\n",
      "dtypes: float64(36), object(4)\n",
      "memory usage: 126.8+ KB\n"
     ]
    }
   ],
   "source": [
    "df_poblacion.info()"
   ]
  },
  {
   "cell_type": "code",
   "execution_count": 8,
   "metadata": {},
   "outputs": [
    {
     "data": {
      "text/html": [
       "<div>\n",
       "<style scoped>\n",
       "    .dataframe tbody tr th:only-of-type {\n",
       "        vertical-align: middle;\n",
       "    }\n",
       "\n",
       "    .dataframe tbody tr th {\n",
       "        vertical-align: top;\n",
       "    }\n",
       "\n",
       "    .dataframe thead th {\n",
       "        text-align: right;\n",
       "    }\n",
       "</style>\n",
       "<table border=\"1\" class=\"dataframe\">\n",
       "  <thead>\n",
       "    <tr style=\"text-align: right;\">\n",
       "      <th></th>\n",
       "      <th>país Name</th>\n",
       "      <th>país Code</th>\n",
       "      <th>serie Name</th>\n",
       "      <th>serie Code</th>\n",
       "      <th>1987 [YR1987]</th>\n",
       "      <th>1988 [YR1988]</th>\n",
       "      <th>1989 [YR1989]</th>\n",
       "      <th>1990 [YR1990]</th>\n",
       "      <th>1991 [YR1991]</th>\n",
       "      <th>1992 [YR1992]</th>\n",
       "      <th>...</th>\n",
       "      <th>2013 [YR2013]</th>\n",
       "      <th>2014 [YR2014]</th>\n",
       "      <th>2015 [YR2015]</th>\n",
       "      <th>2016 [YR2016]</th>\n",
       "      <th>2017 [YR2017]</th>\n",
       "      <th>2018 [YR2018]</th>\n",
       "      <th>2019 [YR2019]</th>\n",
       "      <th>2020 [YR2020]</th>\n",
       "      <th>2021 [YR2021]</th>\n",
       "      <th>2022 [YR2022]</th>\n",
       "    </tr>\n",
       "  </thead>\n",
       "  <tbody>\n",
       "  </tbody>\n",
       "</table>\n",
       "<p>0 rows × 40 columns</p>\n",
       "</div>"
      ],
      "text/plain": [
       "Empty DataFrame\n",
       "Columns: [país Name, país Code, serie Name, serie Code, 1987 [YR1987], 1988 [YR1988], 1989 [YR1989], 1990 [YR1990], 1991 [YR1991], 1992 [YR1992], 1993 [YR1993], 1994 [YR1994], 1995 [YR1995], 1996 [YR1996], 1997 [YR1997], 1998 [YR1998], 1999 [YR1999], 2000 [YR2000], 2001 [YR2001], 2002 [YR2002], 2003 [YR2003], 2004 [YR2004], 2005 [YR2005], 2006 [YR2006], 2007 [YR2007], 2008 [YR2008], 2009 [YR2009], 2010 [YR2010], 2011 [YR2011], 2012 [YR2012], 2013 [YR2013], 2014 [YR2014], 2015 [YR2015], 2016 [YR2016], 2017 [YR2017], 2018 [YR2018], 2019 [YR2019], 2020 [YR2020], 2021 [YR2021], 2022 [YR2022]]\n",
       "Index: []\n",
       "\n",
       "[0 rows x 40 columns]"
      ]
     },
     "execution_count": 8,
     "metadata": {},
     "output_type": "execute_result"
    }
   ],
   "source": [
    "df_poblacion[df_poblacion.isna().any(axis=1)]"
   ]
  },
  {
   "cell_type": "code",
   "execution_count": 9,
   "metadata": {},
   "outputs": [
    {
     "data": {
      "text/html": [
       "<div>\n",
       "<style scoped>\n",
       "    .dataframe tbody tr th:only-of-type {\n",
       "        vertical-align: middle;\n",
       "    }\n",
       "\n",
       "    .dataframe tbody tr th {\n",
       "        vertical-align: top;\n",
       "    }\n",
       "\n",
       "    .dataframe thead th {\n",
       "        text-align: right;\n",
       "    }\n",
       "</style>\n",
       "<table border=\"1\" class=\"dataframe\">\n",
       "  <thead>\n",
       "    <tr style=\"text-align: right;\">\n",
       "      <th></th>\n",
       "      <th>país Name</th>\n",
       "      <th>país Code</th>\n",
       "      <th>serie Name</th>\n",
       "      <th>serie Code</th>\n",
       "      <th>1987 [YR1987]</th>\n",
       "      <th>1988 [YR1988]</th>\n",
       "      <th>1989 [YR1989]</th>\n",
       "      <th>1990 [YR1990]</th>\n",
       "      <th>1991 [YR1991]</th>\n",
       "      <th>1992 [YR1992]</th>\n",
       "      <th>...</th>\n",
       "      <th>2013 [YR2013]</th>\n",
       "      <th>2014 [YR2014]</th>\n",
       "      <th>2015 [YR2015]</th>\n",
       "      <th>2016 [YR2016]</th>\n",
       "      <th>2017 [YR2017]</th>\n",
       "      <th>2018 [YR2018]</th>\n",
       "      <th>2019 [YR2019]</th>\n",
       "      <th>2020 [YR2020]</th>\n",
       "      <th>2021 [YR2021]</th>\n",
       "      <th>2022 [YR2022]</th>\n",
       "    </tr>\n",
       "  </thead>\n",
       "  <tbody>\n",
       "  </tbody>\n",
       "</table>\n",
       "<p>0 rows × 40 columns</p>\n",
       "</div>"
      ],
      "text/plain": [
       "Empty DataFrame\n",
       "Columns: [país Name, país Code, serie Name, serie Code, 1987 [YR1987], 1988 [YR1988], 1989 [YR1989], 1990 [YR1990], 1991 [YR1991], 1992 [YR1992], 1993 [YR1993], 1994 [YR1994], 1995 [YR1995], 1996 [YR1996], 1997 [YR1997], 1998 [YR1998], 1999 [YR1999], 2000 [YR2000], 2001 [YR2001], 2002 [YR2002], 2003 [YR2003], 2004 [YR2004], 2005 [YR2005], 2006 [YR2006], 2007 [YR2007], 2008 [YR2008], 2009 [YR2009], 2010 [YR2010], 2011 [YR2011], 2012 [YR2012], 2013 [YR2013], 2014 [YR2014], 2015 [YR2015], 2016 [YR2016], 2017 [YR2017], 2018 [YR2018], 2019 [YR2019], 2020 [YR2020], 2021 [YR2021], 2022 [YR2022]]\n",
       "Index: []\n",
       "\n",
       "[0 rows x 40 columns]"
      ]
     },
     "execution_count": 9,
     "metadata": {},
     "output_type": "execute_result"
    }
   ],
   "source": [
    "df_poblacion[df_poblacion.duplicated()]"
   ]
  },
  {
   "cell_type": "code",
   "execution_count": 10,
   "metadata": {},
   "outputs": [],
   "source": [
    "df_poblacion = df_poblacion.drop(columns=[\"país Code\", \"serie Code\"])"
   ]
  },
  {
   "cell_type": "code",
   "execution_count": 11,
   "metadata": {},
   "outputs": [
    {
     "data": {
      "text/html": [
       "<div>\n",
       "<style scoped>\n",
       "    .dataframe tbody tr th:only-of-type {\n",
       "        vertical-align: middle;\n",
       "    }\n",
       "\n",
       "    .dataframe tbody tr th {\n",
       "        vertical-align: top;\n",
       "    }\n",
       "\n",
       "    .dataframe thead th {\n",
       "        text-align: right;\n",
       "    }\n",
       "</style>\n",
       "<table border=\"1\" class=\"dataframe\">\n",
       "  <thead>\n",
       "    <tr style=\"text-align: right;\">\n",
       "      <th>serie Name</th>\n",
       "      <th>país Name</th>\n",
       "      <th>Año</th>\n",
       "      <th>Población de 65 años de edad y más, hombres</th>\n",
       "      <th>Población de 65 años de edad y más, mujeres</th>\n",
       "      <th>Población de 65 años de edad y más, total</th>\n",
       "      <th>Población entre 0 y 14 años de edad, hombres</th>\n",
       "      <th>Población entre 0 y 14 años de edad, mujeres</th>\n",
       "      <th>Población entre 0 y 14 años de edad, total</th>\n",
       "      <th>Población entre 15 y 64 años de edad, hombres</th>\n",
       "      <th>Población entre 15 y 64 años de edad, mujeres</th>\n",
       "      <th>Población entre 15 y 64 años de edad, total</th>\n",
       "    </tr>\n",
       "  </thead>\n",
       "  <tbody>\n",
       "    <tr>\n",
       "      <th>0</th>\n",
       "      <td>Afganistán</td>\n",
       "      <td>1987</td>\n",
       "      <td>111022.0</td>\n",
       "      <td>122823.0</td>\n",
       "      <td>233845.0</td>\n",
       "      <td>2474639.0</td>\n",
       "      <td>2387348.0</td>\n",
       "      <td>4861986.0</td>\n",
       "      <td>2584447.0</td>\n",
       "      <td>2642480.0</td>\n",
       "      <td>5226926.0</td>\n",
       "    </tr>\n",
       "    <tr>\n",
       "      <th>1</th>\n",
       "      <td>Afganistán</td>\n",
       "      <td>1988</td>\n",
       "      <td>110633.0</td>\n",
       "      <td>123220.0</td>\n",
       "      <td>233853.0</td>\n",
       "      <td>2496483.0</td>\n",
       "      <td>2406727.0</td>\n",
       "      <td>4903210.0</td>\n",
       "      <td>2588283.0</td>\n",
       "      <td>2658113.0</td>\n",
       "      <td>5246397.0</td>\n",
       "    </tr>\n",
       "    <tr>\n",
       "      <th>2</th>\n",
       "      <td>Afganistán</td>\n",
       "      <td>1989</td>\n",
       "      <td>113325.0</td>\n",
       "      <td>126772.0</td>\n",
       "      <td>240097.0</td>\n",
       "      <td>2573329.0</td>\n",
       "      <td>2479055.0</td>\n",
       "      <td>5052384.0</td>\n",
       "      <td>2651905.0</td>\n",
       "      <td>2728782.0</td>\n",
       "      <td>5380687.0</td>\n",
       "    </tr>\n",
       "    <tr>\n",
       "      <th>3</th>\n",
       "      <td>Afganistán</td>\n",
       "      <td>1990</td>\n",
       "      <td>113182.0</td>\n",
       "      <td>127085.0</td>\n",
       "      <td>240267.0</td>\n",
       "      <td>2586901.0</td>\n",
       "      <td>2490400.0</td>\n",
       "      <td>5077301.0</td>\n",
       "      <td>2648305.0</td>\n",
       "      <td>2728925.0</td>\n",
       "      <td>5377229.0</td>\n",
       "    </tr>\n",
       "    <tr>\n",
       "      <th>4</th>\n",
       "      <td>Afganistán</td>\n",
       "      <td>1991</td>\n",
       "      <td>113494.0</td>\n",
       "      <td>127860.0</td>\n",
       "      <td>241354.0</td>\n",
       "      <td>2609202.0</td>\n",
       "      <td>2510102.0</td>\n",
       "      <td>5119303.0</td>\n",
       "      <td>2650263.0</td>\n",
       "      <td>2734246.0</td>\n",
       "      <td>5384510.0</td>\n",
       "    </tr>\n",
       "    <tr>\n",
       "      <th>...</th>\n",
       "      <td>...</td>\n",
       "      <td>...</td>\n",
       "      <td>...</td>\n",
       "      <td>...</td>\n",
       "      <td>...</td>\n",
       "      <td>...</td>\n",
       "      <td>...</td>\n",
       "      <td>...</td>\n",
       "      <td>...</td>\n",
       "      <td>...</td>\n",
       "      <td>...</td>\n",
       "    </tr>\n",
       "    <tr>\n",
       "      <th>1579</th>\n",
       "      <td>Venezuela</td>\n",
       "      <td>2018</td>\n",
       "      <td>925706.0</td>\n",
       "      <td>1225534.0</td>\n",
       "      <td>2151240.0</td>\n",
       "      <td>4346047.0</td>\n",
       "      <td>4123672.0</td>\n",
       "      <td>8469719.0</td>\n",
       "      <td>9532382.0</td>\n",
       "      <td>9672311.0</td>\n",
       "      <td>19204694.0</td>\n",
       "    </tr>\n",
       "    <tr>\n",
       "      <th>1580</th>\n",
       "      <td>Venezuela</td>\n",
       "      <td>2019</td>\n",
       "      <td>944115.0</td>\n",
       "      <td>1264269.0</td>\n",
       "      <td>2208384.0</td>\n",
       "      <td>4253211.0</td>\n",
       "      <td>4033895.0</td>\n",
       "      <td>8287106.0</td>\n",
       "      <td>9168546.0</td>\n",
       "      <td>9307647.0</td>\n",
       "      <td>18476193.0</td>\n",
       "    </tr>\n",
       "    <tr>\n",
       "      <th>1581</th>\n",
       "      <td>Venezuela</td>\n",
       "      <td>2020</td>\n",
       "      <td>968446.0</td>\n",
       "      <td>1309178.0</td>\n",
       "      <td>2277624.0</td>\n",
       "      <td>4165083.0</td>\n",
       "      <td>3950208.0</td>\n",
       "      <td>8115290.0</td>\n",
       "      <td>8980231.0</td>\n",
       "      <td>9117308.0</td>\n",
       "      <td>18097538.0</td>\n",
       "    </tr>\n",
       "    <tr>\n",
       "      <th>1582</th>\n",
       "      <td>Venezuela</td>\n",
       "      <td>2021</td>\n",
       "      <td>995189.0</td>\n",
       "      <td>1356154.0</td>\n",
       "      <td>2351344.0</td>\n",
       "      <td>4077039.0</td>\n",
       "      <td>3867069.0</td>\n",
       "      <td>7944108.0</td>\n",
       "      <td>8884583.0</td>\n",
       "      <td>9019833.0</td>\n",
       "      <td>17904416.0</td>\n",
       "    </tr>\n",
       "    <tr>\n",
       "      <th>1583</th>\n",
       "      <td>Venezuela</td>\n",
       "      <td>2022</td>\n",
       "      <td>1028524.0</td>\n",
       "      <td>1407833.0</td>\n",
       "      <td>2436358.0</td>\n",
       "      <td>4004655.0</td>\n",
       "      <td>3799320.0</td>\n",
       "      <td>7803975.0</td>\n",
       "      <td>8963612.0</td>\n",
       "      <td>9097751.0</td>\n",
       "      <td>18061363.0</td>\n",
       "    </tr>\n",
       "  </tbody>\n",
       "</table>\n",
       "<p>1584 rows × 11 columns</p>\n",
       "</div>"
      ],
      "text/plain": [
       "serie Name   país Name   Año  Población de 65 años de edad y más, hombres   \n",
       "0           Afganistán  1987                                     111022.0  \\\n",
       "1           Afganistán  1988                                     110633.0   \n",
       "2           Afganistán  1989                                     113325.0   \n",
       "3           Afganistán  1990                                     113182.0   \n",
       "4           Afganistán  1991                                     113494.0   \n",
       "...                ...   ...                                          ...   \n",
       "1579         Venezuela  2018                                     925706.0   \n",
       "1580         Venezuela  2019                                     944115.0   \n",
       "1581         Venezuela  2020                                     968446.0   \n",
       "1582         Venezuela  2021                                     995189.0   \n",
       "1583         Venezuela  2022                                    1028524.0   \n",
       "\n",
       "serie Name  Población de 65 años de edad y más, mujeres   \n",
       "0                                              122823.0  \\\n",
       "1                                              123220.0   \n",
       "2                                              126772.0   \n",
       "3                                              127085.0   \n",
       "4                                              127860.0   \n",
       "...                                                 ...   \n",
       "1579                                          1225534.0   \n",
       "1580                                          1264269.0   \n",
       "1581                                          1309178.0   \n",
       "1582                                          1356154.0   \n",
       "1583                                          1407833.0   \n",
       "\n",
       "serie Name  Población de 65 años de edad y más, total   \n",
       "0                                            233845.0  \\\n",
       "1                                            233853.0   \n",
       "2                                            240097.0   \n",
       "3                                            240267.0   \n",
       "4                                            241354.0   \n",
       "...                                               ...   \n",
       "1579                                        2151240.0   \n",
       "1580                                        2208384.0   \n",
       "1581                                        2277624.0   \n",
       "1582                                        2351344.0   \n",
       "1583                                        2436358.0   \n",
       "\n",
       "serie Name  Población entre 0 y 14 años de edad, hombres   \n",
       "0                                              2474639.0  \\\n",
       "1                                              2496483.0   \n",
       "2                                              2573329.0   \n",
       "3                                              2586901.0   \n",
       "4                                              2609202.0   \n",
       "...                                                  ...   \n",
       "1579                                           4346047.0   \n",
       "1580                                           4253211.0   \n",
       "1581                                           4165083.0   \n",
       "1582                                           4077039.0   \n",
       "1583                                           4004655.0   \n",
       "\n",
       "serie Name  Población entre 0 y 14 años de edad, mujeres   \n",
       "0                                              2387348.0  \\\n",
       "1                                              2406727.0   \n",
       "2                                              2479055.0   \n",
       "3                                              2490400.0   \n",
       "4                                              2510102.0   \n",
       "...                                                  ...   \n",
       "1579                                           4123672.0   \n",
       "1580                                           4033895.0   \n",
       "1581                                           3950208.0   \n",
       "1582                                           3867069.0   \n",
       "1583                                           3799320.0   \n",
       "\n",
       "serie Name  Población entre 0 y 14 años de edad, total   \n",
       "0                                            4861986.0  \\\n",
       "1                                            4903210.0   \n",
       "2                                            5052384.0   \n",
       "3                                            5077301.0   \n",
       "4                                            5119303.0   \n",
       "...                                                ...   \n",
       "1579                                         8469719.0   \n",
       "1580                                         8287106.0   \n",
       "1581                                         8115290.0   \n",
       "1582                                         7944108.0   \n",
       "1583                                         7803975.0   \n",
       "\n",
       "serie Name  Población entre 15 y 64 años de edad, hombres   \n",
       "0                                               2584447.0  \\\n",
       "1                                               2588283.0   \n",
       "2                                               2651905.0   \n",
       "3                                               2648305.0   \n",
       "4                                               2650263.0   \n",
       "...                                                   ...   \n",
       "1579                                            9532382.0   \n",
       "1580                                            9168546.0   \n",
       "1581                                            8980231.0   \n",
       "1582                                            8884583.0   \n",
       "1583                                            8963612.0   \n",
       "\n",
       "serie Name  Población entre 15 y 64 años de edad, mujeres   \n",
       "0                                               2642480.0  \\\n",
       "1                                               2658113.0   \n",
       "2                                               2728782.0   \n",
       "3                                               2728925.0   \n",
       "4                                               2734246.0   \n",
       "...                                                   ...   \n",
       "1579                                            9672311.0   \n",
       "1580                                            9307647.0   \n",
       "1581                                            9117308.0   \n",
       "1582                                            9019833.0   \n",
       "1583                                            9097751.0   \n",
       "\n",
       "serie Name  Población entre 15 y 64 años de edad, total  \n",
       "0                                             5226926.0  \n",
       "1                                             5246397.0  \n",
       "2                                             5380687.0  \n",
       "3                                             5377229.0  \n",
       "4                                             5384510.0  \n",
       "...                                                 ...  \n",
       "1579                                         19204694.0  \n",
       "1580                                         18476193.0  \n",
       "1581                                         18097538.0  \n",
       "1582                                         17904416.0  \n",
       "1583                                         18061363.0  \n",
       "\n",
       "[1584 rows x 11 columns]"
      ]
     },
     "execution_count": 11,
     "metadata": {},
     "output_type": "execute_result"
    }
   ],
   "source": [
    "df_melted = df_poblacion.melt(id_vars=['país Name', 'serie Name'], var_name='Año', value_name='Valor')\n",
    "\n",
    "df_pivoted = df_melted.pivot_table(index=['país Name', 'Año'], columns='serie Name', values='Valor')\n",
    "\n",
    "df_pivoted.reset_index(inplace=True)\n",
    "\n",
    "df_pivoted[\"Año\"] = df_pivoted['Año'].str[:4]\n",
    "df_pivoted"
   ]
  },
  {
   "cell_type": "code",
   "execution_count": 12,
   "metadata": {},
   "outputs": [],
   "source": [
    "def graficar(pais, indicador):\n",
    "    df_pivoted_pais = df_pivoted[df_pivoted[\"país Name\"]==pais]\n",
    "    fig = px.line(data_frame=df_pivoted_pais, x=\"Año\", y=indicador)\n",
    "    fig.show()"
   ]
  },
  {
   "cell_type": "code",
   "execution_count": 13,
   "metadata": {},
   "outputs": [
    {
     "data": {
      "application/vnd.plotly.v1+json": {
       "config": {
        "plotlyServerURL": "https://plot.ly"
       },
       "data": [
        {
         "hovertemplate": "Año=%{x}<br>Población de 65 años de edad y más, hombres=%{y}<extra></extra>",
         "legendgroup": "",
         "line": {
          "color": "#636efa",
          "dash": "solid"
         },
         "marker": {
          "symbol": "circle"
         },
         "mode": "lines",
         "name": "",
         "orientation": "v",
         "showlegend": false,
         "type": "scatter",
         "x": [
          "1987",
          "1988",
          "1989",
          "1990",
          "1991",
          "1992",
          "1993",
          "1994",
          "1995",
          "1996",
          "1997",
          "1998",
          "1999",
          "2000",
          "2001",
          "2002",
          "2003",
          "2004",
          "2005",
          "2006",
          "2007",
          "2008",
          "2009",
          "2010",
          "2011",
          "2012",
          "2013",
          "2014",
          "2015",
          "2016",
          "2017",
          "2018",
          "2019",
          "2020",
          "2021",
          "2022"
         ],
         "xaxis": "x",
         "y": [
          3883003,
          3896258,
          3915508,
          3957387,
          4020864,
          4110633,
          4230489,
          4358035,
          4489050,
          4611740,
          4713201,
          4805259,
          4942819,
          5141971,
          5365451,
          5598716,
          5839908,
          6107455,
          6388908,
          6644420,
          6823552,
          6943055,
          7045929,
          7083196,
          6961151,
          7021988,
          7113319,
          7237662,
          7404683,
          7556388,
          7668349,
          7775856,
          7890312,
          7993682,
          8082457,
          8271560
         ],
         "yaxis": "y"
        }
       ],
       "layout": {
        "legend": {
         "tracegroupgap": 0
        },
        "margin": {
         "t": 60
        },
        "template": {
         "data": {
          "bar": [
           {
            "error_x": {
             "color": "#2a3f5f"
            },
            "error_y": {
             "color": "#2a3f5f"
            },
            "marker": {
             "line": {
              "color": "#E5ECF6",
              "width": 0.5
             },
             "pattern": {
              "fillmode": "overlay",
              "size": 10,
              "solidity": 0.2
             }
            },
            "type": "bar"
           }
          ],
          "barpolar": [
           {
            "marker": {
             "line": {
              "color": "#E5ECF6",
              "width": 0.5
             },
             "pattern": {
              "fillmode": "overlay",
              "size": 10,
              "solidity": 0.2
             }
            },
            "type": "barpolar"
           }
          ],
          "carpet": [
           {
            "aaxis": {
             "endlinecolor": "#2a3f5f",
             "gridcolor": "white",
             "linecolor": "white",
             "minorgridcolor": "white",
             "startlinecolor": "#2a3f5f"
            },
            "baxis": {
             "endlinecolor": "#2a3f5f",
             "gridcolor": "white",
             "linecolor": "white",
             "minorgridcolor": "white",
             "startlinecolor": "#2a3f5f"
            },
            "type": "carpet"
           }
          ],
          "choropleth": [
           {
            "colorbar": {
             "outlinewidth": 0,
             "ticks": ""
            },
            "type": "choropleth"
           }
          ],
          "contour": [
           {
            "colorbar": {
             "outlinewidth": 0,
             "ticks": ""
            },
            "colorscale": [
             [
              0,
              "#0d0887"
             ],
             [
              0.1111111111111111,
              "#46039f"
             ],
             [
              0.2222222222222222,
              "#7201a8"
             ],
             [
              0.3333333333333333,
              "#9c179e"
             ],
             [
              0.4444444444444444,
              "#bd3786"
             ],
             [
              0.5555555555555556,
              "#d8576b"
             ],
             [
              0.6666666666666666,
              "#ed7953"
             ],
             [
              0.7777777777777778,
              "#fb9f3a"
             ],
             [
              0.8888888888888888,
              "#fdca26"
             ],
             [
              1,
              "#f0f921"
             ]
            ],
            "type": "contour"
           }
          ],
          "contourcarpet": [
           {
            "colorbar": {
             "outlinewidth": 0,
             "ticks": ""
            },
            "type": "contourcarpet"
           }
          ],
          "heatmap": [
           {
            "colorbar": {
             "outlinewidth": 0,
             "ticks": ""
            },
            "colorscale": [
             [
              0,
              "#0d0887"
             ],
             [
              0.1111111111111111,
              "#46039f"
             ],
             [
              0.2222222222222222,
              "#7201a8"
             ],
             [
              0.3333333333333333,
              "#9c179e"
             ],
             [
              0.4444444444444444,
              "#bd3786"
             ],
             [
              0.5555555555555556,
              "#d8576b"
             ],
             [
              0.6666666666666666,
              "#ed7953"
             ],
             [
              0.7777777777777778,
              "#fb9f3a"
             ],
             [
              0.8888888888888888,
              "#fdca26"
             ],
             [
              1,
              "#f0f921"
             ]
            ],
            "type": "heatmap"
           }
          ],
          "heatmapgl": [
           {
            "colorbar": {
             "outlinewidth": 0,
             "ticks": ""
            },
            "colorscale": [
             [
              0,
              "#0d0887"
             ],
             [
              0.1111111111111111,
              "#46039f"
             ],
             [
              0.2222222222222222,
              "#7201a8"
             ],
             [
              0.3333333333333333,
              "#9c179e"
             ],
             [
              0.4444444444444444,
              "#bd3786"
             ],
             [
              0.5555555555555556,
              "#d8576b"
             ],
             [
              0.6666666666666666,
              "#ed7953"
             ],
             [
              0.7777777777777778,
              "#fb9f3a"
             ],
             [
              0.8888888888888888,
              "#fdca26"
             ],
             [
              1,
              "#f0f921"
             ]
            ],
            "type": "heatmapgl"
           }
          ],
          "histogram": [
           {
            "marker": {
             "pattern": {
              "fillmode": "overlay",
              "size": 10,
              "solidity": 0.2
             }
            },
            "type": "histogram"
           }
          ],
          "histogram2d": [
           {
            "colorbar": {
             "outlinewidth": 0,
             "ticks": ""
            },
            "colorscale": [
             [
              0,
              "#0d0887"
             ],
             [
              0.1111111111111111,
              "#46039f"
             ],
             [
              0.2222222222222222,
              "#7201a8"
             ],
             [
              0.3333333333333333,
              "#9c179e"
             ],
             [
              0.4444444444444444,
              "#bd3786"
             ],
             [
              0.5555555555555556,
              "#d8576b"
             ],
             [
              0.6666666666666666,
              "#ed7953"
             ],
             [
              0.7777777777777778,
              "#fb9f3a"
             ],
             [
              0.8888888888888888,
              "#fdca26"
             ],
             [
              1,
              "#f0f921"
             ]
            ],
            "type": "histogram2d"
           }
          ],
          "histogram2dcontour": [
           {
            "colorbar": {
             "outlinewidth": 0,
             "ticks": ""
            },
            "colorscale": [
             [
              0,
              "#0d0887"
             ],
             [
              0.1111111111111111,
              "#46039f"
             ],
             [
              0.2222222222222222,
              "#7201a8"
             ],
             [
              0.3333333333333333,
              "#9c179e"
             ],
             [
              0.4444444444444444,
              "#bd3786"
             ],
             [
              0.5555555555555556,
              "#d8576b"
             ],
             [
              0.6666666666666666,
              "#ed7953"
             ],
             [
              0.7777777777777778,
              "#fb9f3a"
             ],
             [
              0.8888888888888888,
              "#fdca26"
             ],
             [
              1,
              "#f0f921"
             ]
            ],
            "type": "histogram2dcontour"
           }
          ],
          "mesh3d": [
           {
            "colorbar": {
             "outlinewidth": 0,
             "ticks": ""
            },
            "type": "mesh3d"
           }
          ],
          "parcoords": [
           {
            "line": {
             "colorbar": {
              "outlinewidth": 0,
              "ticks": ""
             }
            },
            "type": "parcoords"
           }
          ],
          "pie": [
           {
            "automargin": true,
            "type": "pie"
           }
          ],
          "scatter": [
           {
            "fillpattern": {
             "fillmode": "overlay",
             "size": 10,
             "solidity": 0.2
            },
            "type": "scatter"
           }
          ],
          "scatter3d": [
           {
            "line": {
             "colorbar": {
              "outlinewidth": 0,
              "ticks": ""
             }
            },
            "marker": {
             "colorbar": {
              "outlinewidth": 0,
              "ticks": ""
             }
            },
            "type": "scatter3d"
           }
          ],
          "scattercarpet": [
           {
            "marker": {
             "colorbar": {
              "outlinewidth": 0,
              "ticks": ""
             }
            },
            "type": "scattercarpet"
           }
          ],
          "scattergeo": [
           {
            "marker": {
             "colorbar": {
              "outlinewidth": 0,
              "ticks": ""
             }
            },
            "type": "scattergeo"
           }
          ],
          "scattergl": [
           {
            "marker": {
             "colorbar": {
              "outlinewidth": 0,
              "ticks": ""
             }
            },
            "type": "scattergl"
           }
          ],
          "scattermapbox": [
           {
            "marker": {
             "colorbar": {
              "outlinewidth": 0,
              "ticks": ""
             }
            },
            "type": "scattermapbox"
           }
          ],
          "scatterpolar": [
           {
            "marker": {
             "colorbar": {
              "outlinewidth": 0,
              "ticks": ""
             }
            },
            "type": "scatterpolar"
           }
          ],
          "scatterpolargl": [
           {
            "marker": {
             "colorbar": {
              "outlinewidth": 0,
              "ticks": ""
             }
            },
            "type": "scatterpolargl"
           }
          ],
          "scatterternary": [
           {
            "marker": {
             "colorbar": {
              "outlinewidth": 0,
              "ticks": ""
             }
            },
            "type": "scatterternary"
           }
          ],
          "surface": [
           {
            "colorbar": {
             "outlinewidth": 0,
             "ticks": ""
            },
            "colorscale": [
             [
              0,
              "#0d0887"
             ],
             [
              0.1111111111111111,
              "#46039f"
             ],
             [
              0.2222222222222222,
              "#7201a8"
             ],
             [
              0.3333333333333333,
              "#9c179e"
             ],
             [
              0.4444444444444444,
              "#bd3786"
             ],
             [
              0.5555555555555556,
              "#d8576b"
             ],
             [
              0.6666666666666666,
              "#ed7953"
             ],
             [
              0.7777777777777778,
              "#fb9f3a"
             ],
             [
              0.8888888888888888,
              "#fdca26"
             ],
             [
              1,
              "#f0f921"
             ]
            ],
            "type": "surface"
           }
          ],
          "table": [
           {
            "cells": {
             "fill": {
              "color": "#EBF0F8"
             },
             "line": {
              "color": "white"
             }
            },
            "header": {
             "fill": {
              "color": "#C8D4E3"
             },
             "line": {
              "color": "white"
             }
            },
            "type": "table"
           }
          ]
         },
         "layout": {
          "annotationdefaults": {
           "arrowcolor": "#2a3f5f",
           "arrowhead": 0,
           "arrowwidth": 1
          },
          "autotypenumbers": "strict",
          "coloraxis": {
           "colorbar": {
            "outlinewidth": 0,
            "ticks": ""
           }
          },
          "colorscale": {
           "diverging": [
            [
             0,
             "#8e0152"
            ],
            [
             0.1,
             "#c51b7d"
            ],
            [
             0.2,
             "#de77ae"
            ],
            [
             0.3,
             "#f1b6da"
            ],
            [
             0.4,
             "#fde0ef"
            ],
            [
             0.5,
             "#f7f7f7"
            ],
            [
             0.6,
             "#e6f5d0"
            ],
            [
             0.7,
             "#b8e186"
            ],
            [
             0.8,
             "#7fbc41"
            ],
            [
             0.9,
             "#4d9221"
            ],
            [
             1,
             "#276419"
            ]
           ],
           "sequential": [
            [
             0,
             "#0d0887"
            ],
            [
             0.1111111111111111,
             "#46039f"
            ],
            [
             0.2222222222222222,
             "#7201a8"
            ],
            [
             0.3333333333333333,
             "#9c179e"
            ],
            [
             0.4444444444444444,
             "#bd3786"
            ],
            [
             0.5555555555555556,
             "#d8576b"
            ],
            [
             0.6666666666666666,
             "#ed7953"
            ],
            [
             0.7777777777777778,
             "#fb9f3a"
            ],
            [
             0.8888888888888888,
             "#fdca26"
            ],
            [
             1,
             "#f0f921"
            ]
           ],
           "sequentialminus": [
            [
             0,
             "#0d0887"
            ],
            [
             0.1111111111111111,
             "#46039f"
            ],
            [
             0.2222222222222222,
             "#7201a8"
            ],
            [
             0.3333333333333333,
             "#9c179e"
            ],
            [
             0.4444444444444444,
             "#bd3786"
            ],
            [
             0.5555555555555556,
             "#d8576b"
            ],
            [
             0.6666666666666666,
             "#ed7953"
            ],
            [
             0.7777777777777778,
             "#fb9f3a"
            ],
            [
             0.8888888888888888,
             "#fdca26"
            ],
            [
             1,
             "#f0f921"
            ]
           ]
          },
          "colorway": [
           "#636efa",
           "#EF553B",
           "#00cc96",
           "#ab63fa",
           "#FFA15A",
           "#19d3f3",
           "#FF6692",
           "#B6E880",
           "#FF97FF",
           "#FECB52"
          ],
          "font": {
           "color": "#2a3f5f"
          },
          "geo": {
           "bgcolor": "white",
           "lakecolor": "white",
           "landcolor": "#E5ECF6",
           "showlakes": true,
           "showland": true,
           "subunitcolor": "white"
          },
          "hoverlabel": {
           "align": "left"
          },
          "hovermode": "closest",
          "mapbox": {
           "style": "light"
          },
          "paper_bgcolor": "white",
          "plot_bgcolor": "#E5ECF6",
          "polar": {
           "angularaxis": {
            "gridcolor": "white",
            "linecolor": "white",
            "ticks": ""
           },
           "bgcolor": "#E5ECF6",
           "radialaxis": {
            "gridcolor": "white",
            "linecolor": "white",
            "ticks": ""
           }
          },
          "scene": {
           "xaxis": {
            "backgroundcolor": "#E5ECF6",
            "gridcolor": "white",
            "gridwidth": 2,
            "linecolor": "white",
            "showbackground": true,
            "ticks": "",
            "zerolinecolor": "white"
           },
           "yaxis": {
            "backgroundcolor": "#E5ECF6",
            "gridcolor": "white",
            "gridwidth": 2,
            "linecolor": "white",
            "showbackground": true,
            "ticks": "",
            "zerolinecolor": "white"
           },
           "zaxis": {
            "backgroundcolor": "#E5ECF6",
            "gridcolor": "white",
            "gridwidth": 2,
            "linecolor": "white",
            "showbackground": true,
            "ticks": "",
            "zerolinecolor": "white"
           }
          },
          "shapedefaults": {
           "line": {
            "color": "#2a3f5f"
           }
          },
          "ternary": {
           "aaxis": {
            "gridcolor": "white",
            "linecolor": "white",
            "ticks": ""
           },
           "baxis": {
            "gridcolor": "white",
            "linecolor": "white",
            "ticks": ""
           },
           "bgcolor": "#E5ECF6",
           "caxis": {
            "gridcolor": "white",
            "linecolor": "white",
            "ticks": ""
           }
          },
          "title": {
           "x": 0.05
          },
          "xaxis": {
           "automargin": true,
           "gridcolor": "white",
           "linecolor": "white",
           "ticks": "",
           "title": {
            "standoff": 15
           },
           "zerolinecolor": "white",
           "zerolinewidth": 2
          },
          "yaxis": {
           "automargin": true,
           "gridcolor": "white",
           "linecolor": "white",
           "ticks": "",
           "title": {
            "standoff": 15
           },
           "zerolinecolor": "white",
           "zerolinewidth": 2
          }
         }
        },
        "xaxis": {
         "anchor": "y",
         "domain": [
          0,
          1
         ],
         "title": {
          "text": "Año"
         }
        },
        "yaxis": {
         "anchor": "x",
         "domain": [
          0,
          1
         ],
         "title": {
          "text": "Población de 65 años de edad y más, hombres"
         }
        }
       }
      }
     },
     "metadata": {},
     "output_type": "display_data"
    }
   ],
   "source": [
    "graficar(\"Alemania\", \"Población de 65 años de edad y más, hombres\")"
   ]
  },
  {
   "cell_type": "code",
   "execution_count": 14,
   "metadata": {},
   "outputs": [
    {
     "data": {
      "text/plain": [
       "array(['Afganistán', 'Alemania', 'Arabia Saudita', 'Argelia', 'Argentina',\n",
       "       'Australia', 'Austria', 'Brasil', 'Burkina Faso', 'Camboya',\n",
       "       'Canadá', 'Chad', 'China', 'Colombia', 'Costa Rica', 'Cuba',\n",
       "       'Dinamarca', 'Ecuador', 'Egipto, República Árabe de',\n",
       "       'Emiratos Árabes Unidos', 'España', 'Estados Unidos',\n",
       "       'Federación de Rusia', 'Fiji', 'Finlandia', 'Grecia', 'India',\n",
       "       'Japón', 'Kenya', 'Marruecos', 'México', 'Nepal', 'Noruega',\n",
       "       'Nueva Zelandia', 'Níger', 'Países Bajos', 'Reino Unido', 'Rwanda',\n",
       "       'Samoa', 'Sierra Leona', 'Singapur', 'Sudáfrica', 'Suiza',\n",
       "       'Venezuela'], dtype=object)"
      ]
     },
     "execution_count": 14,
     "metadata": {},
     "output_type": "execute_result"
    }
   ],
   "source": [
    "df_pivoted[\"país Name\"].unique()"
   ]
  },
  {
   "cell_type": "code",
   "execution_count": 15,
   "metadata": {},
   "outputs": [],
   "source": [
    "df_pivoted.loc[df_pivoted[\"país Name\"] == \"Egipto, República Árabe de\", \"país Name\"] = \"Egipto\"\n",
    "df_pivoted.loc[df_pivoted[\"país Name\"] == \"Federación de Rusia\", \"país Name\"] = \"Rusia\"\n"
   ]
  },
  {
   "cell_type": "code",
   "execution_count": 16,
   "metadata": {},
   "outputs": [],
   "source": [
    "paises_continentes = {\n",
    "    'Afganistán': 'Asia',\n",
    "    'Alemania': 'Europa',\n",
    "    'Arabia Saudita': 'Asia',\n",
    "    'Argelia': 'África',\n",
    "    'Argentina': 'América del Sur',\n",
    "    'Australia': 'Oceanía',\n",
    "    'Austria': 'Europa',\n",
    "    'Brasil': 'América del Sur',\n",
    "    'Burkina Faso': 'África',\n",
    "    'Camboya': 'Asia',\n",
    "    'Canadá': 'América del Norte',\n",
    "    'Chad': 'África',\n",
    "    'China': 'Asia',\n",
    "    'Colombia': 'América del Sur',\n",
    "    'Costa Rica': 'América Central',\n",
    "    'Cuba': 'América Central',\n",
    "    'Dinamarca': 'Europa',\n",
    "    'Ecuador': 'América del Sur',\n",
    "    'Egipto': 'África',\n",
    "    'Emiratos Árabes Unidos': 'Asia',\n",
    "    'España': 'Europa',\n",
    "    'Estados Unidos': 'América del Norte',\n",
    "    'Rusia': 'Europa',\n",
    "    'Fiji': 'Oceanía',\n",
    "    'Finlandia': 'Europa',\n",
    "    'Grecia': 'Europa',\n",
    "    'India': 'Asia',\n",
    "    'Japón': 'Asia',\n",
    "    'Kenya': 'África',\n",
    "    'Marruecos': 'África',\n",
    "    'México': 'América del Norte',\n",
    "    'Nepal': 'Asia',\n",
    "    'Noruega': 'Europa',\n",
    "    'Nueva Zelandia': 'Oceanía',\n",
    "    'Níger': 'África',\n",
    "    'Países Bajos': 'Europa',\n",
    "    'Reino Unido': 'Europa',\n",
    "    'Rwanda': 'África',\n",
    "    'Samoa': 'Oceanía',\n",
    "    'Sierra Leona': 'África',\n",
    "    'Singapur': 'Asia',\n",
    "    'Sudáfrica': 'África',\n",
    "    'Suiza': 'Europa',\n",
    "    'Venezuela': 'América del Sur'\n",
    "}"
   ]
  },
  {
   "cell_type": "code",
   "execution_count": 17,
   "metadata": {},
   "outputs": [],
   "source": [
    "df_pivoted[\"Continente\"] = df_pivoted[\"país Name\"].map(paises_continentes)"
   ]
  },
  {
   "cell_type": "code",
   "execution_count": 18,
   "metadata": {},
   "outputs": [
    {
     "data": {
      "text/html": [
       "<div>\n",
       "<style scoped>\n",
       "    .dataframe tbody tr th:only-of-type {\n",
       "        vertical-align: middle;\n",
       "    }\n",
       "\n",
       "    .dataframe tbody tr th {\n",
       "        vertical-align: top;\n",
       "    }\n",
       "\n",
       "    .dataframe thead th {\n",
       "        text-align: right;\n",
       "    }\n",
       "</style>\n",
       "<table border=\"1\" class=\"dataframe\">\n",
       "  <thead>\n",
       "    <tr style=\"text-align: right;\">\n",
       "      <th></th>\n",
       "      <th>serie Name</th>\n",
       "      <th>Población de 65 años de edad y más, hombres</th>\n",
       "      <th>Población de 65 años de edad y más, mujeres</th>\n",
       "      <th>Población de 65 años de edad y más, total</th>\n",
       "      <th>Población entre 0 y 14 años de edad, hombres</th>\n",
       "      <th>Población entre 0 y 14 años de edad, mujeres</th>\n",
       "      <th>Población entre 0 y 14 años de edad, total</th>\n",
       "      <th>Población entre 15 y 64 años de edad, hombres</th>\n",
       "      <th>Población entre 15 y 64 años de edad, mujeres</th>\n",
       "      <th>Población entre 15 y 64 años de edad, total</th>\n",
       "    </tr>\n",
       "    <tr>\n",
       "      <th>Continente</th>\n",
       "      <th>Año</th>\n",
       "      <th></th>\n",
       "      <th></th>\n",
       "      <th></th>\n",
       "      <th></th>\n",
       "      <th></th>\n",
       "      <th></th>\n",
       "      <th></th>\n",
       "      <th></th>\n",
       "      <th></th>\n",
       "    </tr>\n",
       "  </thead>\n",
       "  <tbody>\n",
       "    <tr>\n",
       "      <th rowspan=\"5\" valign=\"top\">América Central</th>\n",
       "      <th>1987</th>\n",
       "      <td>241576.0</td>\n",
       "      <td>252331.5</td>\n",
       "      <td>493908.0</td>\n",
       "      <td>911443.5</td>\n",
       "      <td>863918.5</td>\n",
       "      <td>1775362.0</td>\n",
       "      <td>2198403.0</td>\n",
       "      <td>2158079.5</td>\n",
       "      <td>4356483.0</td>\n",
       "    </tr>\n",
       "    <tr>\n",
       "      <th>1988</th>\n",
       "      <td>246156.5</td>\n",
       "      <td>259391.0</td>\n",
       "      <td>505547.5</td>\n",
       "      <td>906323.0</td>\n",
       "      <td>858175.0</td>\n",
       "      <td>1764498.5</td>\n",
       "      <td>2242409.5</td>\n",
       "      <td>2200991.0</td>\n",
       "      <td>4443400.5</td>\n",
       "    </tr>\n",
       "    <tr>\n",
       "      <th>1989</th>\n",
       "      <td>250765.0</td>\n",
       "      <td>266596.5</td>\n",
       "      <td>517362.0</td>\n",
       "      <td>905736.0</td>\n",
       "      <td>856479.0</td>\n",
       "      <td>1762214.5</td>\n",
       "      <td>2282894.5</td>\n",
       "      <td>2240623.0</td>\n",
       "      <td>4523517.5</td>\n",
       "    </tr>\n",
       "    <tr>\n",
       "      <th>1990</th>\n",
       "      <td>255432.5</td>\n",
       "      <td>274013.0</td>\n",
       "      <td>529445.5</td>\n",
       "      <td>908869.5</td>\n",
       "      <td>858213.5</td>\n",
       "      <td>1767083.0</td>\n",
       "      <td>2319447.0</td>\n",
       "      <td>2276492.0</td>\n",
       "      <td>4595938.0</td>\n",
       "    </tr>\n",
       "    <tr>\n",
       "      <th>1991</th>\n",
       "      <td>259977.5</td>\n",
       "      <td>281408.0</td>\n",
       "      <td>541385.5</td>\n",
       "      <td>913522.0</td>\n",
       "      <td>861420.5</td>\n",
       "      <td>1774942.0</td>\n",
       "      <td>2351924.5</td>\n",
       "      <td>2308360.0</td>\n",
       "      <td>4660285.0</td>\n",
       "    </tr>\n",
       "    <tr>\n",
       "      <th>...</th>\n",
       "      <th>...</th>\n",
       "      <td>...</td>\n",
       "      <td>...</td>\n",
       "      <td>...</td>\n",
       "      <td>...</td>\n",
       "      <td>...</td>\n",
       "      <td>...</td>\n",
       "      <td>...</td>\n",
       "      <td>...</td>\n",
       "      <td>...</td>\n",
       "    </tr>\n",
       "    <tr>\n",
       "      <th rowspan=\"5\" valign=\"top\">África</th>\n",
       "      <th>2018</th>\n",
       "      <td>680963.4</td>\n",
       "      <td>936481.3</td>\n",
       "      <td>1617444.6</td>\n",
       "      <td>6591613.7</td>\n",
       "      <td>6374165.2</td>\n",
       "      <td>12965778.8</td>\n",
       "      <td>11130361.4</td>\n",
       "      <td>11071945.4</td>\n",
       "      <td>22202306.9</td>\n",
       "    </tr>\n",
       "    <tr>\n",
       "      <th>2019</th>\n",
       "      <td>710080.8</td>\n",
       "      <td>972621.8</td>\n",
       "      <td>1682702.5</td>\n",
       "      <td>6706685.1</td>\n",
       "      <td>6484154.2</td>\n",
       "      <td>13190839.0</td>\n",
       "      <td>11349296.5</td>\n",
       "      <td>11284232.4</td>\n",
       "      <td>22633528.8</td>\n",
       "    </tr>\n",
       "    <tr>\n",
       "      <th>2020</th>\n",
       "      <td>736750.7</td>\n",
       "      <td>1006598.3</td>\n",
       "      <td>1743349.1</td>\n",
       "      <td>6813246.5</td>\n",
       "      <td>6585303.9</td>\n",
       "      <td>13398550.3</td>\n",
       "      <td>11579068.5</td>\n",
       "      <td>11506489.9</td>\n",
       "      <td>23085558.4</td>\n",
       "    </tr>\n",
       "    <tr>\n",
       "      <th>2021</th>\n",
       "      <td>759620.9</td>\n",
       "      <td>1036753.1</td>\n",
       "      <td>1796373.8</td>\n",
       "      <td>6908875.6</td>\n",
       "      <td>6676254.3</td>\n",
       "      <td>13585130.1</td>\n",
       "      <td>11815646.6</td>\n",
       "      <td>11735876.9</td>\n",
       "      <td>23551523.3</td>\n",
       "    </tr>\n",
       "    <tr>\n",
       "      <th>2022</th>\n",
       "      <td>782312.9</td>\n",
       "      <td>1065497.0</td>\n",
       "      <td>1847809.9</td>\n",
       "      <td>6993583.6</td>\n",
       "      <td>6757181.8</td>\n",
       "      <td>13750765.3</td>\n",
       "      <td>12056756.0</td>\n",
       "      <td>11970682.8</td>\n",
       "      <td>24027438.9</td>\n",
       "    </tr>\n",
       "  </tbody>\n",
       "</table>\n",
       "<p>252 rows × 9 columns</p>\n",
       "</div>"
      ],
      "text/plain": [
       "serie Name            Población de 65 años de edad y más, hombres   \n",
       "Continente      Año                                                 \n",
       "América Central 1987                                     241576.0  \\\n",
       "                1988                                     246156.5   \n",
       "                1989                                     250765.0   \n",
       "                1990                                     255432.5   \n",
       "                1991                                     259977.5   \n",
       "...                                                           ...   \n",
       "África          2018                                     680963.4   \n",
       "                2019                                     710080.8   \n",
       "                2020                                     736750.7   \n",
       "                2021                                     759620.9   \n",
       "                2022                                     782312.9   \n",
       "\n",
       "serie Name            Población de 65 años de edad y más, mujeres   \n",
       "Continente      Año                                                 \n",
       "América Central 1987                                     252331.5  \\\n",
       "                1988                                     259391.0   \n",
       "                1989                                     266596.5   \n",
       "                1990                                     274013.0   \n",
       "                1991                                     281408.0   \n",
       "...                                                           ...   \n",
       "África          2018                                     936481.3   \n",
       "                2019                                     972621.8   \n",
       "                2020                                    1006598.3   \n",
       "                2021                                    1036753.1   \n",
       "                2022                                    1065497.0   \n",
       "\n",
       "serie Name            Población de 65 años de edad y más, total   \n",
       "Continente      Año                                               \n",
       "América Central 1987                                   493908.0  \\\n",
       "                1988                                   505547.5   \n",
       "                1989                                   517362.0   \n",
       "                1990                                   529445.5   \n",
       "                1991                                   541385.5   \n",
       "...                                                         ...   \n",
       "África          2018                                  1617444.6   \n",
       "                2019                                  1682702.5   \n",
       "                2020                                  1743349.1   \n",
       "                2021                                  1796373.8   \n",
       "                2022                                  1847809.9   \n",
       "\n",
       "serie Name            Población entre 0 y 14 años de edad, hombres   \n",
       "Continente      Año                                                  \n",
       "América Central 1987                                      911443.5  \\\n",
       "                1988                                      906323.0   \n",
       "                1989                                      905736.0   \n",
       "                1990                                      908869.5   \n",
       "                1991                                      913522.0   \n",
       "...                                                            ...   \n",
       "África          2018                                     6591613.7   \n",
       "                2019                                     6706685.1   \n",
       "                2020                                     6813246.5   \n",
       "                2021                                     6908875.6   \n",
       "                2022                                     6993583.6   \n",
       "\n",
       "serie Name            Población entre 0 y 14 años de edad, mujeres   \n",
       "Continente      Año                                                  \n",
       "América Central 1987                                      863918.5  \\\n",
       "                1988                                      858175.0   \n",
       "                1989                                      856479.0   \n",
       "                1990                                      858213.5   \n",
       "                1991                                      861420.5   \n",
       "...                                                            ...   \n",
       "África          2018                                     6374165.2   \n",
       "                2019                                     6484154.2   \n",
       "                2020                                     6585303.9   \n",
       "                2021                                     6676254.3   \n",
       "                2022                                     6757181.8   \n",
       "\n",
       "serie Name            Población entre 0 y 14 años de edad, total   \n",
       "Continente      Año                                                \n",
       "América Central 1987                                   1775362.0  \\\n",
       "                1988                                   1764498.5   \n",
       "                1989                                   1762214.5   \n",
       "                1990                                   1767083.0   \n",
       "                1991                                   1774942.0   \n",
       "...                                                          ...   \n",
       "África          2018                                  12965778.8   \n",
       "                2019                                  13190839.0   \n",
       "                2020                                  13398550.3   \n",
       "                2021                                  13585130.1   \n",
       "                2022                                  13750765.3   \n",
       "\n",
       "serie Name            Población entre 15 y 64 años de edad, hombres   \n",
       "Continente      Año                                                   \n",
       "América Central 1987                                      2198403.0  \\\n",
       "                1988                                      2242409.5   \n",
       "                1989                                      2282894.5   \n",
       "                1990                                      2319447.0   \n",
       "                1991                                      2351924.5   \n",
       "...                                                             ...   \n",
       "África          2018                                     11130361.4   \n",
       "                2019                                     11349296.5   \n",
       "                2020                                     11579068.5   \n",
       "                2021                                     11815646.6   \n",
       "                2022                                     12056756.0   \n",
       "\n",
       "serie Name            Población entre 15 y 64 años de edad, mujeres   \n",
       "Continente      Año                                                   \n",
       "América Central 1987                                      2158079.5  \\\n",
       "                1988                                      2200991.0   \n",
       "                1989                                      2240623.0   \n",
       "                1990                                      2276492.0   \n",
       "                1991                                      2308360.0   \n",
       "...                                                             ...   \n",
       "África          2018                                     11071945.4   \n",
       "                2019                                     11284232.4   \n",
       "                2020                                     11506489.9   \n",
       "                2021                                     11735876.9   \n",
       "                2022                                     11970682.8   \n",
       "\n",
       "serie Name            Población entre 15 y 64 años de edad, total  \n",
       "Continente      Año                                                \n",
       "América Central 1987                                    4356483.0  \n",
       "                1988                                    4443400.5  \n",
       "                1989                                    4523517.5  \n",
       "                1990                                    4595938.0  \n",
       "                1991                                    4660285.0  \n",
       "...                                                           ...  \n",
       "África          2018                                   22202306.9  \n",
       "                2019                                   22633528.8  \n",
       "                2020                                   23085558.4  \n",
       "                2021                                   23551523.3  \n",
       "                2022                                   24027438.9  \n",
       "\n",
       "[252 rows x 9 columns]"
      ]
     },
     "execution_count": 18,
     "metadata": {},
     "output_type": "execute_result"
    }
   ],
   "source": [
    "df_contientes = df_pivoted.iloc[:,1:].groupby([\"Continente\", \"Año\"]).mean()\n",
    "df_contientes"
   ]
  },
  {
   "cell_type": "code",
   "execution_count": 19,
   "metadata": {},
   "outputs": [
    {
     "data": {
      "text/html": [
       "<div>\n",
       "<style scoped>\n",
       "    .dataframe tbody tr th:only-of-type {\n",
       "        vertical-align: middle;\n",
       "    }\n",
       "\n",
       "    .dataframe tbody tr th {\n",
       "        vertical-align: top;\n",
       "    }\n",
       "\n",
       "    .dataframe thead th {\n",
       "        text-align: right;\n",
       "    }\n",
       "</style>\n",
       "<table border=\"1\" class=\"dataframe\">\n",
       "  <thead>\n",
       "    <tr style=\"text-align: right;\">\n",
       "      <th>serie Name</th>\n",
       "      <th>Continente</th>\n",
       "      <th>Año</th>\n",
       "      <th>Población de 65 años de edad y más, hombres</th>\n",
       "      <th>Población de 65 años de edad y más, mujeres</th>\n",
       "      <th>Población de 65 años de edad y más, total</th>\n",
       "      <th>Población entre 0 y 14 años de edad, hombres</th>\n",
       "      <th>Población entre 0 y 14 años de edad, mujeres</th>\n",
       "      <th>Población entre 0 y 14 años de edad, total</th>\n",
       "      <th>Población entre 15 y 64 años de edad, hombres</th>\n",
       "      <th>Población entre 15 y 64 años de edad, mujeres</th>\n",
       "      <th>Población entre 15 y 64 años de edad, total</th>\n",
       "    </tr>\n",
       "  </thead>\n",
       "  <tbody>\n",
       "    <tr>\n",
       "      <th>0</th>\n",
       "      <td>América Central</td>\n",
       "      <td>1987</td>\n",
       "      <td>241576.0</td>\n",
       "      <td>252331.5</td>\n",
       "      <td>493908.0</td>\n",
       "      <td>911443.5</td>\n",
       "      <td>863918.5</td>\n",
       "      <td>1775362.0</td>\n",
       "      <td>2198403.0</td>\n",
       "      <td>2158079.5</td>\n",
       "      <td>4356483.0</td>\n",
       "    </tr>\n",
       "    <tr>\n",
       "      <th>1</th>\n",
       "      <td>América Central</td>\n",
       "      <td>1988</td>\n",
       "      <td>246156.5</td>\n",
       "      <td>259391.0</td>\n",
       "      <td>505547.5</td>\n",
       "      <td>906323.0</td>\n",
       "      <td>858175.0</td>\n",
       "      <td>1764498.5</td>\n",
       "      <td>2242409.5</td>\n",
       "      <td>2200991.0</td>\n",
       "      <td>4443400.5</td>\n",
       "    </tr>\n",
       "    <tr>\n",
       "      <th>2</th>\n",
       "      <td>América Central</td>\n",
       "      <td>1989</td>\n",
       "      <td>250765.0</td>\n",
       "      <td>266596.5</td>\n",
       "      <td>517362.0</td>\n",
       "      <td>905736.0</td>\n",
       "      <td>856479.0</td>\n",
       "      <td>1762214.5</td>\n",
       "      <td>2282894.5</td>\n",
       "      <td>2240623.0</td>\n",
       "      <td>4523517.5</td>\n",
       "    </tr>\n",
       "    <tr>\n",
       "      <th>3</th>\n",
       "      <td>América Central</td>\n",
       "      <td>1990</td>\n",
       "      <td>255432.5</td>\n",
       "      <td>274013.0</td>\n",
       "      <td>529445.5</td>\n",
       "      <td>908869.5</td>\n",
       "      <td>858213.5</td>\n",
       "      <td>1767083.0</td>\n",
       "      <td>2319447.0</td>\n",
       "      <td>2276492.0</td>\n",
       "      <td>4595938.0</td>\n",
       "    </tr>\n",
       "    <tr>\n",
       "      <th>4</th>\n",
       "      <td>América Central</td>\n",
       "      <td>1991</td>\n",
       "      <td>259977.5</td>\n",
       "      <td>281408.0</td>\n",
       "      <td>541385.5</td>\n",
       "      <td>913522.0</td>\n",
       "      <td>861420.5</td>\n",
       "      <td>1774942.0</td>\n",
       "      <td>2351924.5</td>\n",
       "      <td>2308360.0</td>\n",
       "      <td>4660285.0</td>\n",
       "    </tr>\n",
       "    <tr>\n",
       "      <th>...</th>\n",
       "      <td>...</td>\n",
       "      <td>...</td>\n",
       "      <td>...</td>\n",
       "      <td>...</td>\n",
       "      <td>...</td>\n",
       "      <td>...</td>\n",
       "      <td>...</td>\n",
       "      <td>...</td>\n",
       "      <td>...</td>\n",
       "      <td>...</td>\n",
       "      <td>...</td>\n",
       "    </tr>\n",
       "    <tr>\n",
       "      <th>247</th>\n",
       "      <td>África</td>\n",
       "      <td>2018</td>\n",
       "      <td>680963.4</td>\n",
       "      <td>936481.3</td>\n",
       "      <td>1617444.6</td>\n",
       "      <td>6591613.7</td>\n",
       "      <td>6374165.2</td>\n",
       "      <td>12965778.8</td>\n",
       "      <td>11130361.4</td>\n",
       "      <td>11071945.4</td>\n",
       "      <td>22202306.9</td>\n",
       "    </tr>\n",
       "    <tr>\n",
       "      <th>248</th>\n",
       "      <td>África</td>\n",
       "      <td>2019</td>\n",
       "      <td>710080.8</td>\n",
       "      <td>972621.8</td>\n",
       "      <td>1682702.5</td>\n",
       "      <td>6706685.1</td>\n",
       "      <td>6484154.2</td>\n",
       "      <td>13190839.0</td>\n",
       "      <td>11349296.5</td>\n",
       "      <td>11284232.4</td>\n",
       "      <td>22633528.8</td>\n",
       "    </tr>\n",
       "    <tr>\n",
       "      <th>249</th>\n",
       "      <td>África</td>\n",
       "      <td>2020</td>\n",
       "      <td>736750.7</td>\n",
       "      <td>1006598.3</td>\n",
       "      <td>1743349.1</td>\n",
       "      <td>6813246.5</td>\n",
       "      <td>6585303.9</td>\n",
       "      <td>13398550.3</td>\n",
       "      <td>11579068.5</td>\n",
       "      <td>11506489.9</td>\n",
       "      <td>23085558.4</td>\n",
       "    </tr>\n",
       "    <tr>\n",
       "      <th>250</th>\n",
       "      <td>África</td>\n",
       "      <td>2021</td>\n",
       "      <td>759620.9</td>\n",
       "      <td>1036753.1</td>\n",
       "      <td>1796373.8</td>\n",
       "      <td>6908875.6</td>\n",
       "      <td>6676254.3</td>\n",
       "      <td>13585130.1</td>\n",
       "      <td>11815646.6</td>\n",
       "      <td>11735876.9</td>\n",
       "      <td>23551523.3</td>\n",
       "    </tr>\n",
       "    <tr>\n",
       "      <th>251</th>\n",
       "      <td>África</td>\n",
       "      <td>2022</td>\n",
       "      <td>782312.9</td>\n",
       "      <td>1065497.0</td>\n",
       "      <td>1847809.9</td>\n",
       "      <td>6993583.6</td>\n",
       "      <td>6757181.8</td>\n",
       "      <td>13750765.3</td>\n",
       "      <td>12056756.0</td>\n",
       "      <td>11970682.8</td>\n",
       "      <td>24027438.9</td>\n",
       "    </tr>\n",
       "  </tbody>\n",
       "</table>\n",
       "<p>252 rows × 11 columns</p>\n",
       "</div>"
      ],
      "text/plain": [
       "serie Name       Continente   Año   \n",
       "0           América Central  1987  \\\n",
       "1           América Central  1988   \n",
       "2           América Central  1989   \n",
       "3           América Central  1990   \n",
       "4           América Central  1991   \n",
       "..                      ...   ...   \n",
       "247                  África  2018   \n",
       "248                  África  2019   \n",
       "249                  África  2020   \n",
       "250                  África  2021   \n",
       "251                  África  2022   \n",
       "\n",
       "serie Name  Población de 65 años de edad y más, hombres   \n",
       "0                                              241576.0  \\\n",
       "1                                              246156.5   \n",
       "2                                              250765.0   \n",
       "3                                              255432.5   \n",
       "4                                              259977.5   \n",
       "..                                                  ...   \n",
       "247                                            680963.4   \n",
       "248                                            710080.8   \n",
       "249                                            736750.7   \n",
       "250                                            759620.9   \n",
       "251                                            782312.9   \n",
       "\n",
       "serie Name  Población de 65 años de edad y más, mujeres   \n",
       "0                                              252331.5  \\\n",
       "1                                              259391.0   \n",
       "2                                              266596.5   \n",
       "3                                              274013.0   \n",
       "4                                              281408.0   \n",
       "..                                                  ...   \n",
       "247                                            936481.3   \n",
       "248                                            972621.8   \n",
       "249                                           1006598.3   \n",
       "250                                           1036753.1   \n",
       "251                                           1065497.0   \n",
       "\n",
       "serie Name  Población de 65 años de edad y más, total   \n",
       "0                                            493908.0  \\\n",
       "1                                            505547.5   \n",
       "2                                            517362.0   \n",
       "3                                            529445.5   \n",
       "4                                            541385.5   \n",
       "..                                                ...   \n",
       "247                                         1617444.6   \n",
       "248                                         1682702.5   \n",
       "249                                         1743349.1   \n",
       "250                                         1796373.8   \n",
       "251                                         1847809.9   \n",
       "\n",
       "serie Name  Población entre 0 y 14 años de edad, hombres   \n",
       "0                                               911443.5  \\\n",
       "1                                               906323.0   \n",
       "2                                               905736.0   \n",
       "3                                               908869.5   \n",
       "4                                               913522.0   \n",
       "..                                                   ...   \n",
       "247                                            6591613.7   \n",
       "248                                            6706685.1   \n",
       "249                                            6813246.5   \n",
       "250                                            6908875.6   \n",
       "251                                            6993583.6   \n",
       "\n",
       "serie Name  Población entre 0 y 14 años de edad, mujeres   \n",
       "0                                               863918.5  \\\n",
       "1                                               858175.0   \n",
       "2                                               856479.0   \n",
       "3                                               858213.5   \n",
       "4                                               861420.5   \n",
       "..                                                   ...   \n",
       "247                                            6374165.2   \n",
       "248                                            6484154.2   \n",
       "249                                            6585303.9   \n",
       "250                                            6676254.3   \n",
       "251                                            6757181.8   \n",
       "\n",
       "serie Name  Población entre 0 y 14 años de edad, total   \n",
       "0                                            1775362.0  \\\n",
       "1                                            1764498.5   \n",
       "2                                            1762214.5   \n",
       "3                                            1767083.0   \n",
       "4                                            1774942.0   \n",
       "..                                                 ...   \n",
       "247                                         12965778.8   \n",
       "248                                         13190839.0   \n",
       "249                                         13398550.3   \n",
       "250                                         13585130.1   \n",
       "251                                         13750765.3   \n",
       "\n",
       "serie Name  Población entre 15 y 64 años de edad, hombres   \n",
       "0                                               2198403.0  \\\n",
       "1                                               2242409.5   \n",
       "2                                               2282894.5   \n",
       "3                                               2319447.0   \n",
       "4                                               2351924.5   \n",
       "..                                                    ...   \n",
       "247                                            11130361.4   \n",
       "248                                            11349296.5   \n",
       "249                                            11579068.5   \n",
       "250                                            11815646.6   \n",
       "251                                            12056756.0   \n",
       "\n",
       "serie Name  Población entre 15 y 64 años de edad, mujeres   \n",
       "0                                               2158079.5  \\\n",
       "1                                               2200991.0   \n",
       "2                                               2240623.0   \n",
       "3                                               2276492.0   \n",
       "4                                               2308360.0   \n",
       "..                                                    ...   \n",
       "247                                            11071945.4   \n",
       "248                                            11284232.4   \n",
       "249                                            11506489.9   \n",
       "250                                            11735876.9   \n",
       "251                                            11970682.8   \n",
       "\n",
       "serie Name  Población entre 15 y 64 años de edad, total  \n",
       "0                                             4356483.0  \n",
       "1                                             4443400.5  \n",
       "2                                             4523517.5  \n",
       "3                                             4595938.0  \n",
       "4                                             4660285.0  \n",
       "..                                                  ...  \n",
       "247                                          22202306.9  \n",
       "248                                          22633528.8  \n",
       "249                                          23085558.4  \n",
       "250                                          23551523.3  \n",
       "251                                          24027438.9  \n",
       "\n",
       "[252 rows x 11 columns]"
      ]
     },
     "execution_count": 19,
     "metadata": {},
     "output_type": "execute_result"
    }
   ],
   "source": [
    "df_contientes.reset_index(inplace=True)\n",
    "df_contientes"
   ]
  },
  {
   "cell_type": "code",
   "execution_count": 20,
   "metadata": {},
   "outputs": [],
   "source": [
    "def graficar_indicador(indicador):\n",
    "    fig = px.line(data_frame=df_contientes, x=\"Año\", y=indicador, color=\"Continente\")\n",
    "    fig.show()"
   ]
  },
  {
   "cell_type": "code",
   "execution_count": 21,
   "metadata": {},
   "outputs": [
    {
     "data": {
      "application/vnd.plotly.v1+json": {
       "config": {
        "plotlyServerURL": "https://plot.ly"
       },
       "data": [
        {
         "hovertemplate": "Continente=América Central<br>Año=%{x}<br>Población de 65 años de edad y más, hombres=%{y}<extra></extra>",
         "legendgroup": "América Central",
         "line": {
          "color": "#636efa",
          "dash": "solid"
         },
         "marker": {
          "symbol": "circle"
         },
         "mode": "lines",
         "name": "América Central",
         "orientation": "v",
         "showlegend": true,
         "type": "scatter",
         "x": [
          "1987",
          "1988",
          "1989",
          "1990",
          "1991",
          "1992",
          "1993",
          "1994",
          "1995",
          "1996",
          "1997",
          "1998",
          "1999",
          "2000",
          "2001",
          "2002",
          "2003",
          "2004",
          "2005",
          "2006",
          "2007",
          "2008",
          "2009",
          "2010",
          "2011",
          "2012",
          "2013",
          "2014",
          "2015",
          "2016",
          "2017",
          "2018",
          "2019",
          "2020",
          "2021",
          "2022"
         ],
         "xaxis": "x",
         "y": [
          241576,
          246156.5,
          250765,
          255432.5,
          259977.5,
          264237.5,
          268264.5,
          273199.5,
          279208,
          285437.5,
          291943.5,
          298755,
          305910,
          313687.5,
          322618,
          332520.5,
          342170.5,
          351473,
          361357,
          371514,
          382186.5,
          393555.5,
          404919.5,
          416384,
          428460.5,
          440464.5,
          451849,
          462557.5,
          472639,
          482290,
          491944,
          502159,
          512342.5,
          521489,
          524069.5,
          527381
         ],
         "yaxis": "y"
        },
        {
         "hovertemplate": "Continente=América del Norte<br>Año=%{x}<br>Población de 65 años de edad y más, hombres=%{y}<extra></extra>",
         "legendgroup": "América del Norte",
         "line": {
          "color": "#EF553B",
          "dash": "solid"
         },
         "marker": {
          "symbol": "circle"
         },
         "mode": "lines",
         "name": "América del Norte",
         "orientation": "v",
         "showlegend": true,
         "type": "scatter",
         "x": [
          "1987",
          "1988",
          "1989",
          "1990",
          "1991",
          "1992",
          "1993",
          "1994",
          "1995",
          "1996",
          "1997",
          "1998",
          "1999",
          "2000",
          "2001",
          "2002",
          "2003",
          "2004",
          "2005",
          "2006",
          "2007",
          "2008",
          "2009",
          "2010",
          "2011",
          "2012",
          "2013",
          "2014",
          "2015",
          "2016",
          "2017",
          "2018",
          "2019",
          "2020",
          "2021",
          "2022"
         ],
         "xaxis": "x",
         "y": [
          4745335,
          4865423,
          4979206.666666667,
          5056966.666666667,
          5164265,
          5297462.333333333,
          5425277,
          5573600,
          5728146.333333333,
          5859462,
          5968019.666666667,
          6069182.666666667,
          6160485.666666667,
          6233951,
          6337220,
          6445447.666666667,
          6546678.333333333,
          6669663,
          6806515,
          6948183,
          7099463.333333333,
          7295292.666666667,
          7498674.333333333,
          7689962,
          7928449,
          8214344.333333333,
          8493374,
          8756729.333333334,
          8993924,
          9318190,
          9671101.666666666,
          9986980,
          10326908.666666666,
          10697663.333333334,
          10991110.333333334,
          11338204
         ],
         "yaxis": "y"
        },
        {
         "hovertemplate": "Continente=América del Sur<br>Año=%{x}<br>Población de 65 años de edad y más, hombres=%{y}<extra></extra>",
         "legendgroup": "América del Sur",
         "line": {
          "color": "#00cc96",
          "dash": "solid"
         },
         "marker": {
          "symbol": "circle"
         },
         "mode": "lines",
         "name": "América del Sur",
         "orientation": "v",
         "showlegend": true,
         "type": "scatter",
         "x": [
          "1987",
          "1988",
          "1989",
          "1990",
          "1991",
          "1992",
          "1993",
          "1994",
          "1995",
          "1996",
          "1997",
          "1998",
          "1999",
          "2000",
          "2001",
          "2002",
          "2003",
          "2004",
          "2005",
          "2006",
          "2007",
          "2008",
          "2009",
          "2010",
          "2011",
          "2012",
          "2013",
          "2014",
          "2015",
          "2016",
          "2017",
          "2018",
          "2019",
          "2020",
          "2021",
          "2022"
         ],
         "xaxis": "x",
         "y": [
          976022,
          1010398,
          1046618,
          1083224.4,
          1119988.2,
          1157638.2,
          1195829,
          1234721.6,
          1273660,
          1312499.6,
          1351651.6,
          1391057.2,
          1430745.6,
          1469810.6,
          1509226.6,
          1550720,
          1594409.4,
          1641122,
          1691698.2,
          1745639.8,
          1801767.6,
          1860182.8,
          1921438,
          1981844.2,
          2046639.4,
          2114448.2,
          2187834.2,
          2269914.8,
          2357649.2,
          2445432,
          2536757.4,
          2633812.8,
          2735160.8,
          2832981.2,
          2922738.2,
          3016407.8
         ],
         "yaxis": "y"
        },
        {
         "hovertemplate": "Continente=Asia<br>Año=%{x}<br>Población de 65 años de edad y más, hombres=%{y}<extra></extra>",
         "legendgroup": "Asia",
         "line": {
          "color": "#ab63fa",
          "dash": "solid"
         },
         "marker": {
          "symbol": "circle"
         },
         "mode": "lines",
         "name": "Asia",
         "orientation": "v",
         "showlegend": true,
         "type": "scatter",
         "x": [
          "1987",
          "1988",
          "1989",
          "1990",
          "1991",
          "1992",
          "1993",
          "1994",
          "1995",
          "1996",
          "1997",
          "1998",
          "1999",
          "2000",
          "2001",
          "2002",
          "2003",
          "2004",
          "2005",
          "2006",
          "2007",
          "2008",
          "2009",
          "2010",
          "2011",
          "2012",
          "2013",
          "2014",
          "2015",
          "2016",
          "2017",
          "2018",
          "2019",
          "2020",
          "2021",
          "2022"
         ],
         "xaxis": "x",
         "y": [
          5059441.111111111,
          5215517.777777778,
          5391419.111111111,
          5579929.333333333,
          5774010,
          5984835.333333333,
          6216739.777777778,
          6458614.222222222,
          6711028.222222222,
          6971602.777777778,
          7240032.666666667,
          7529625.111111111,
          7826838.555555556,
          8119431.555555556,
          8413889.555555556,
          8708703.444444444,
          8993361.222222222,
          9253370.777777778,
          9508797.888888888,
          9778224.555555556,
          10039612.444444444,
          10284964,
          10531141.333333334,
          10785449.444444444,
          11070201.666666666,
          11422404.111111112,
          11832958.444444444,
          12303730.888888888,
          12845021.666666666,
          13420782,
          14039755.888888888,
          14684800.555555556,
          15333894.777777778,
          15973546,
          16504265.222222222,
          17014539.777777776
         ],
         "yaxis": "y"
        },
        {
         "hovertemplate": "Continente=Europa<br>Año=%{x}<br>Población de 65 años de edad y más, hombres=%{y}<extra></extra>",
         "legendgroup": "Europa",
         "line": {
          "color": "#FFA15A",
          "dash": "solid"
         },
         "marker": {
          "symbol": "circle"
         },
         "mode": "lines",
         "name": "Europa",
         "orientation": "v",
         "showlegend": true,
         "type": "scatter",
         "x": [
          "1987",
          "1988",
          "1989",
          "1990",
          "1991",
          "1992",
          "1993",
          "1994",
          "1995",
          "1996",
          "1997",
          "1998",
          "1999",
          "2000",
          "2001",
          "2002",
          "2003",
          "2004",
          "2005",
          "2006",
          "2007",
          "2008",
          "2009",
          "2010",
          "2011",
          "2012",
          "2013",
          "2014",
          "2015",
          "2016",
          "2017",
          "2018",
          "2019",
          "2020",
          "2021",
          "2022"
         ],
         "xaxis": "x",
         "y": [
          1442341.1818181819,
          1460526.3636363635,
          1485442.3636363635,
          1516325.6363636365,
          1556127.1818181819,
          1605450,
          1658654.2727272727,
          1707959.2727272727,
          1752391.8181818181,
          1791110.8181818181,
          1825544.5454545454,
          1854250.4545454546,
          1879796.7272727273,
          1913711.6363636365,
          1956899.7272727273,
          2006400.4545454546,
          2057624,
          2109871.5454545454,
          2163046.272727273,
          2209642.5454545454,
          2238394.272727273,
          2252195.272727273,
          2265249.5454545454,
          2279203.1818181816,
          2296229,
          2345916.6363636362,
          2401079.090909091,
          2462026.272727273,
          2525094.272727273,
          2581739.3636363638,
          2635708.909090909,
          2689261.5454545454,
          2746166.5454545454,
          2797753,
          2837471.8181818184,
          2894701.5454545454
         ],
         "yaxis": "y"
        },
        {
         "hovertemplate": "Continente=Oceanía<br>Año=%{x}<br>Población de 65 años de edad y más, hombres=%{y}<extra></extra>",
         "legendgroup": "Oceanía",
         "line": {
          "color": "#19d3f3",
          "dash": "solid"
         },
         "marker": {
          "symbol": "circle"
         },
         "mode": "lines",
         "name": "Oceanía",
         "orientation": "v",
         "showlegend": true,
         "type": "scatter",
         "x": [
          "1987",
          "1988",
          "1989",
          "1990",
          "1991",
          "1992",
          "1993",
          "1994",
          "1995",
          "1996",
          "1997",
          "1998",
          "1999",
          "2000",
          "2001",
          "2002",
          "2003",
          "2004",
          "2005",
          "2006",
          "2007",
          "2008",
          "2009",
          "2010",
          "2011",
          "2012",
          "2013",
          "2014",
          "2015",
          "2016",
          "2017",
          "2018",
          "2019",
          "2020",
          "2021",
          "2022"
         ],
         "xaxis": "x",
         "y": [
          222706.75,
          229667.25,
          236781.5,
          243958.75,
          253067.5,
          260584,
          267441.25,
          274115.5,
          280714.25,
          287488.5,
          293850,
          299890,
          305764.25,
          312116.5,
          319469.5,
          326844.25,
          334512.75,
          342383.75,
          351209.25,
          360963,
          372024.75,
          383710.25,
          397154.75,
          411504.25,
          427308.5,
          445551.75,
          463806,
          481051,
          497861.5,
          515148.75,
          532663.25,
          549881,
          568064.25,
          587669.25,
          601597.25,
          620426
         ],
         "yaxis": "y"
        },
        {
         "hovertemplate": "Continente=África<br>Año=%{x}<br>Población de 65 años de edad y más, hombres=%{y}<extra></extra>",
         "legendgroup": "África",
         "line": {
          "color": "#FF6692",
          "dash": "solid"
         },
         "marker": {
          "symbol": "circle"
         },
         "mode": "lines",
         "name": "África",
         "orientation": "v",
         "showlegend": true,
         "type": "scatter",
         "x": [
          "1987",
          "1988",
          "1989",
          "1990",
          "1991",
          "1992",
          "1993",
          "1994",
          "1995",
          "1996",
          "1997",
          "1998",
          "1999",
          "2000",
          "2001",
          "2002",
          "2003",
          "2004",
          "2005",
          "2006",
          "2007",
          "2008",
          "2009",
          "2010",
          "2011",
          "2012",
          "2013",
          "2014",
          "2015",
          "2016",
          "2017",
          "2018",
          "2019",
          "2020",
          "2021",
          "2022"
         ],
         "xaxis": "x",
         "y": [
          277915.1,
          286465.7,
          295344,
          304427.9,
          313454.9,
          322336.2,
          331252.8,
          338028,
          344911.2,
          357152.8,
          372137.2,
          384361.8,
          394022.6,
          403560.4,
          413426.2,
          423525.6,
          433008.8,
          441754.8,
          450214.8,
          458712.6,
          467600.5,
          477267.3,
          488234.7,
          501574,
          518160.7,
          537297.2,
          557995.2,
          579689.9,
          602458.5,
          626650.9,
          652780.5,
          680963.4,
          710080.8,
          736750.7,
          759620.9,
          782312.9
         ],
         "yaxis": "y"
        }
       ],
       "layout": {
        "legend": {
         "title": {
          "text": "Continente"
         },
         "tracegroupgap": 0
        },
        "margin": {
         "t": 60
        },
        "template": {
         "data": {
          "bar": [
           {
            "error_x": {
             "color": "#2a3f5f"
            },
            "error_y": {
             "color": "#2a3f5f"
            },
            "marker": {
             "line": {
              "color": "#E5ECF6",
              "width": 0.5
             },
             "pattern": {
              "fillmode": "overlay",
              "size": 10,
              "solidity": 0.2
             }
            },
            "type": "bar"
           }
          ],
          "barpolar": [
           {
            "marker": {
             "line": {
              "color": "#E5ECF6",
              "width": 0.5
             },
             "pattern": {
              "fillmode": "overlay",
              "size": 10,
              "solidity": 0.2
             }
            },
            "type": "barpolar"
           }
          ],
          "carpet": [
           {
            "aaxis": {
             "endlinecolor": "#2a3f5f",
             "gridcolor": "white",
             "linecolor": "white",
             "minorgridcolor": "white",
             "startlinecolor": "#2a3f5f"
            },
            "baxis": {
             "endlinecolor": "#2a3f5f",
             "gridcolor": "white",
             "linecolor": "white",
             "minorgridcolor": "white",
             "startlinecolor": "#2a3f5f"
            },
            "type": "carpet"
           }
          ],
          "choropleth": [
           {
            "colorbar": {
             "outlinewidth": 0,
             "ticks": ""
            },
            "type": "choropleth"
           }
          ],
          "contour": [
           {
            "colorbar": {
             "outlinewidth": 0,
             "ticks": ""
            },
            "colorscale": [
             [
              0,
              "#0d0887"
             ],
             [
              0.1111111111111111,
              "#46039f"
             ],
             [
              0.2222222222222222,
              "#7201a8"
             ],
             [
              0.3333333333333333,
              "#9c179e"
             ],
             [
              0.4444444444444444,
              "#bd3786"
             ],
             [
              0.5555555555555556,
              "#d8576b"
             ],
             [
              0.6666666666666666,
              "#ed7953"
             ],
             [
              0.7777777777777778,
              "#fb9f3a"
             ],
             [
              0.8888888888888888,
              "#fdca26"
             ],
             [
              1,
              "#f0f921"
             ]
            ],
            "type": "contour"
           }
          ],
          "contourcarpet": [
           {
            "colorbar": {
             "outlinewidth": 0,
             "ticks": ""
            },
            "type": "contourcarpet"
           }
          ],
          "heatmap": [
           {
            "colorbar": {
             "outlinewidth": 0,
             "ticks": ""
            },
            "colorscale": [
             [
              0,
              "#0d0887"
             ],
             [
              0.1111111111111111,
              "#46039f"
             ],
             [
              0.2222222222222222,
              "#7201a8"
             ],
             [
              0.3333333333333333,
              "#9c179e"
             ],
             [
              0.4444444444444444,
              "#bd3786"
             ],
             [
              0.5555555555555556,
              "#d8576b"
             ],
             [
              0.6666666666666666,
              "#ed7953"
             ],
             [
              0.7777777777777778,
              "#fb9f3a"
             ],
             [
              0.8888888888888888,
              "#fdca26"
             ],
             [
              1,
              "#f0f921"
             ]
            ],
            "type": "heatmap"
           }
          ],
          "heatmapgl": [
           {
            "colorbar": {
             "outlinewidth": 0,
             "ticks": ""
            },
            "colorscale": [
             [
              0,
              "#0d0887"
             ],
             [
              0.1111111111111111,
              "#46039f"
             ],
             [
              0.2222222222222222,
              "#7201a8"
             ],
             [
              0.3333333333333333,
              "#9c179e"
             ],
             [
              0.4444444444444444,
              "#bd3786"
             ],
             [
              0.5555555555555556,
              "#d8576b"
             ],
             [
              0.6666666666666666,
              "#ed7953"
             ],
             [
              0.7777777777777778,
              "#fb9f3a"
             ],
             [
              0.8888888888888888,
              "#fdca26"
             ],
             [
              1,
              "#f0f921"
             ]
            ],
            "type": "heatmapgl"
           }
          ],
          "histogram": [
           {
            "marker": {
             "pattern": {
              "fillmode": "overlay",
              "size": 10,
              "solidity": 0.2
             }
            },
            "type": "histogram"
           }
          ],
          "histogram2d": [
           {
            "colorbar": {
             "outlinewidth": 0,
             "ticks": ""
            },
            "colorscale": [
             [
              0,
              "#0d0887"
             ],
             [
              0.1111111111111111,
              "#46039f"
             ],
             [
              0.2222222222222222,
              "#7201a8"
             ],
             [
              0.3333333333333333,
              "#9c179e"
             ],
             [
              0.4444444444444444,
              "#bd3786"
             ],
             [
              0.5555555555555556,
              "#d8576b"
             ],
             [
              0.6666666666666666,
              "#ed7953"
             ],
             [
              0.7777777777777778,
              "#fb9f3a"
             ],
             [
              0.8888888888888888,
              "#fdca26"
             ],
             [
              1,
              "#f0f921"
             ]
            ],
            "type": "histogram2d"
           }
          ],
          "histogram2dcontour": [
           {
            "colorbar": {
             "outlinewidth": 0,
             "ticks": ""
            },
            "colorscale": [
             [
              0,
              "#0d0887"
             ],
             [
              0.1111111111111111,
              "#46039f"
             ],
             [
              0.2222222222222222,
              "#7201a8"
             ],
             [
              0.3333333333333333,
              "#9c179e"
             ],
             [
              0.4444444444444444,
              "#bd3786"
             ],
             [
              0.5555555555555556,
              "#d8576b"
             ],
             [
              0.6666666666666666,
              "#ed7953"
             ],
             [
              0.7777777777777778,
              "#fb9f3a"
             ],
             [
              0.8888888888888888,
              "#fdca26"
             ],
             [
              1,
              "#f0f921"
             ]
            ],
            "type": "histogram2dcontour"
           }
          ],
          "mesh3d": [
           {
            "colorbar": {
             "outlinewidth": 0,
             "ticks": ""
            },
            "type": "mesh3d"
           }
          ],
          "parcoords": [
           {
            "line": {
             "colorbar": {
              "outlinewidth": 0,
              "ticks": ""
             }
            },
            "type": "parcoords"
           }
          ],
          "pie": [
           {
            "automargin": true,
            "type": "pie"
           }
          ],
          "scatter": [
           {
            "fillpattern": {
             "fillmode": "overlay",
             "size": 10,
             "solidity": 0.2
            },
            "type": "scatter"
           }
          ],
          "scatter3d": [
           {
            "line": {
             "colorbar": {
              "outlinewidth": 0,
              "ticks": ""
             }
            },
            "marker": {
             "colorbar": {
              "outlinewidth": 0,
              "ticks": ""
             }
            },
            "type": "scatter3d"
           }
          ],
          "scattercarpet": [
           {
            "marker": {
             "colorbar": {
              "outlinewidth": 0,
              "ticks": ""
             }
            },
            "type": "scattercarpet"
           }
          ],
          "scattergeo": [
           {
            "marker": {
             "colorbar": {
              "outlinewidth": 0,
              "ticks": ""
             }
            },
            "type": "scattergeo"
           }
          ],
          "scattergl": [
           {
            "marker": {
             "colorbar": {
              "outlinewidth": 0,
              "ticks": ""
             }
            },
            "type": "scattergl"
           }
          ],
          "scattermapbox": [
           {
            "marker": {
             "colorbar": {
              "outlinewidth": 0,
              "ticks": ""
             }
            },
            "type": "scattermapbox"
           }
          ],
          "scatterpolar": [
           {
            "marker": {
             "colorbar": {
              "outlinewidth": 0,
              "ticks": ""
             }
            },
            "type": "scatterpolar"
           }
          ],
          "scatterpolargl": [
           {
            "marker": {
             "colorbar": {
              "outlinewidth": 0,
              "ticks": ""
             }
            },
            "type": "scatterpolargl"
           }
          ],
          "scatterternary": [
           {
            "marker": {
             "colorbar": {
              "outlinewidth": 0,
              "ticks": ""
             }
            },
            "type": "scatterternary"
           }
          ],
          "surface": [
           {
            "colorbar": {
             "outlinewidth": 0,
             "ticks": ""
            },
            "colorscale": [
             [
              0,
              "#0d0887"
             ],
             [
              0.1111111111111111,
              "#46039f"
             ],
             [
              0.2222222222222222,
              "#7201a8"
             ],
             [
              0.3333333333333333,
              "#9c179e"
             ],
             [
              0.4444444444444444,
              "#bd3786"
             ],
             [
              0.5555555555555556,
              "#d8576b"
             ],
             [
              0.6666666666666666,
              "#ed7953"
             ],
             [
              0.7777777777777778,
              "#fb9f3a"
             ],
             [
              0.8888888888888888,
              "#fdca26"
             ],
             [
              1,
              "#f0f921"
             ]
            ],
            "type": "surface"
           }
          ],
          "table": [
           {
            "cells": {
             "fill": {
              "color": "#EBF0F8"
             },
             "line": {
              "color": "white"
             }
            },
            "header": {
             "fill": {
              "color": "#C8D4E3"
             },
             "line": {
              "color": "white"
             }
            },
            "type": "table"
           }
          ]
         },
         "layout": {
          "annotationdefaults": {
           "arrowcolor": "#2a3f5f",
           "arrowhead": 0,
           "arrowwidth": 1
          },
          "autotypenumbers": "strict",
          "coloraxis": {
           "colorbar": {
            "outlinewidth": 0,
            "ticks": ""
           }
          },
          "colorscale": {
           "diverging": [
            [
             0,
             "#8e0152"
            ],
            [
             0.1,
             "#c51b7d"
            ],
            [
             0.2,
             "#de77ae"
            ],
            [
             0.3,
             "#f1b6da"
            ],
            [
             0.4,
             "#fde0ef"
            ],
            [
             0.5,
             "#f7f7f7"
            ],
            [
             0.6,
             "#e6f5d0"
            ],
            [
             0.7,
             "#b8e186"
            ],
            [
             0.8,
             "#7fbc41"
            ],
            [
             0.9,
             "#4d9221"
            ],
            [
             1,
             "#276419"
            ]
           ],
           "sequential": [
            [
             0,
             "#0d0887"
            ],
            [
             0.1111111111111111,
             "#46039f"
            ],
            [
             0.2222222222222222,
             "#7201a8"
            ],
            [
             0.3333333333333333,
             "#9c179e"
            ],
            [
             0.4444444444444444,
             "#bd3786"
            ],
            [
             0.5555555555555556,
             "#d8576b"
            ],
            [
             0.6666666666666666,
             "#ed7953"
            ],
            [
             0.7777777777777778,
             "#fb9f3a"
            ],
            [
             0.8888888888888888,
             "#fdca26"
            ],
            [
             1,
             "#f0f921"
            ]
           ],
           "sequentialminus": [
            [
             0,
             "#0d0887"
            ],
            [
             0.1111111111111111,
             "#46039f"
            ],
            [
             0.2222222222222222,
             "#7201a8"
            ],
            [
             0.3333333333333333,
             "#9c179e"
            ],
            [
             0.4444444444444444,
             "#bd3786"
            ],
            [
             0.5555555555555556,
             "#d8576b"
            ],
            [
             0.6666666666666666,
             "#ed7953"
            ],
            [
             0.7777777777777778,
             "#fb9f3a"
            ],
            [
             0.8888888888888888,
             "#fdca26"
            ],
            [
             1,
             "#f0f921"
            ]
           ]
          },
          "colorway": [
           "#636efa",
           "#EF553B",
           "#00cc96",
           "#ab63fa",
           "#FFA15A",
           "#19d3f3",
           "#FF6692",
           "#B6E880",
           "#FF97FF",
           "#FECB52"
          ],
          "font": {
           "color": "#2a3f5f"
          },
          "geo": {
           "bgcolor": "white",
           "lakecolor": "white",
           "landcolor": "#E5ECF6",
           "showlakes": true,
           "showland": true,
           "subunitcolor": "white"
          },
          "hoverlabel": {
           "align": "left"
          },
          "hovermode": "closest",
          "mapbox": {
           "style": "light"
          },
          "paper_bgcolor": "white",
          "plot_bgcolor": "#E5ECF6",
          "polar": {
           "angularaxis": {
            "gridcolor": "white",
            "linecolor": "white",
            "ticks": ""
           },
           "bgcolor": "#E5ECF6",
           "radialaxis": {
            "gridcolor": "white",
            "linecolor": "white",
            "ticks": ""
           }
          },
          "scene": {
           "xaxis": {
            "backgroundcolor": "#E5ECF6",
            "gridcolor": "white",
            "gridwidth": 2,
            "linecolor": "white",
            "showbackground": true,
            "ticks": "",
            "zerolinecolor": "white"
           },
           "yaxis": {
            "backgroundcolor": "#E5ECF6",
            "gridcolor": "white",
            "gridwidth": 2,
            "linecolor": "white",
            "showbackground": true,
            "ticks": "",
            "zerolinecolor": "white"
           },
           "zaxis": {
            "backgroundcolor": "#E5ECF6",
            "gridcolor": "white",
            "gridwidth": 2,
            "linecolor": "white",
            "showbackground": true,
            "ticks": "",
            "zerolinecolor": "white"
           }
          },
          "shapedefaults": {
           "line": {
            "color": "#2a3f5f"
           }
          },
          "ternary": {
           "aaxis": {
            "gridcolor": "white",
            "linecolor": "white",
            "ticks": ""
           },
           "baxis": {
            "gridcolor": "white",
            "linecolor": "white",
            "ticks": ""
           },
           "bgcolor": "#E5ECF6",
           "caxis": {
            "gridcolor": "white",
            "linecolor": "white",
            "ticks": ""
           }
          },
          "title": {
           "x": 0.05
          },
          "xaxis": {
           "automargin": true,
           "gridcolor": "white",
           "linecolor": "white",
           "ticks": "",
           "title": {
            "standoff": 15
           },
           "zerolinecolor": "white",
           "zerolinewidth": 2
          },
          "yaxis": {
           "automargin": true,
           "gridcolor": "white",
           "linecolor": "white",
           "ticks": "",
           "title": {
            "standoff": 15
           },
           "zerolinecolor": "white",
           "zerolinewidth": 2
          }
         }
        },
        "xaxis": {
         "anchor": "y",
         "domain": [
          0,
          1
         ],
         "title": {
          "text": "Año"
         }
        },
        "yaxis": {
         "anchor": "x",
         "domain": [
          0,
          1
         ],
         "title": {
          "text": "Población de 65 años de edad y más, hombres"
         }
        }
       }
      }
     },
     "metadata": {},
     "output_type": "display_data"
    },
    {
     "data": {
      "application/vnd.plotly.v1+json": {
       "config": {
        "plotlyServerURL": "https://plot.ly"
       },
       "data": [
        {
         "hovertemplate": "Continente=América Central<br>Año=%{x}<br>Población de 65 años de edad y más, mujeres=%{y}<extra></extra>",
         "legendgroup": "América Central",
         "line": {
          "color": "#636efa",
          "dash": "solid"
         },
         "marker": {
          "symbol": "circle"
         },
         "mode": "lines",
         "name": "América Central",
         "orientation": "v",
         "showlegend": true,
         "type": "scatter",
         "x": [
          "1987",
          "1988",
          "1989",
          "1990",
          "1991",
          "1992",
          "1993",
          "1994",
          "1995",
          "1996",
          "1997",
          "1998",
          "1999",
          "2000",
          "2001",
          "2002",
          "2003",
          "2004",
          "2005",
          "2006",
          "2007",
          "2008",
          "2009",
          "2010",
          "2011",
          "2012",
          "2013",
          "2014",
          "2015",
          "2016",
          "2017",
          "2018",
          "2019",
          "2020",
          "2021",
          "2022"
         ],
         "xaxis": "x",
         "y": [
          252331.5,
          259391,
          266596.5,
          274013,
          281408,
          288625,
          295666,
          303031,
          310818.5,
          318668,
          326701.5,
          334937.5,
          343384.5,
          352266.5,
          361878,
          372333,
          383388,
          394862,
          406859.5,
          418989,
          431435.5,
          444452,
          457627.5,
          471078.5,
          485014,
          499574,
          514430,
          528520,
          542435.5,
          556943.5,
          572057.5,
          588072,
          603927.5,
          618990,
          629249.5,
          639312.5
         ],
         "yaxis": "y"
        },
        {
         "hovertemplate": "Continente=América del Norte<br>Año=%{x}<br>Población de 65 años de edad y más, mujeres=%{y}<extra></extra>",
         "legendgroup": "América del Norte",
         "line": {
          "color": "#EF553B",
          "dash": "solid"
         },
         "marker": {
          "symbol": "circle"
         },
         "mode": "lines",
         "name": "América del Norte",
         "orientation": "v",
         "showlegend": true,
         "type": "scatter",
         "x": [
          "1987",
          "1988",
          "1989",
          "1990",
          "1991",
          "1992",
          "1993",
          "1994",
          "1995",
          "1996",
          "1997",
          "1998",
          "1999",
          "2000",
          "2001",
          "2002",
          "2003",
          "2004",
          "2005",
          "2006",
          "2007",
          "2008",
          "2009",
          "2010",
          "2011",
          "2012",
          "2013",
          "2014",
          "2015",
          "2016",
          "2017",
          "2018",
          "2019",
          "2020",
          "2021",
          "2022"
         ],
         "xaxis": "x",
         "y": [
          6900981.333333333,
          7056507.666666667,
          7206933.333333333,
          7319819.666666667,
          7453510.666666667,
          7593977,
          7702545.333333333,
          7807753.666666667,
          7910891.333333333,
          7993421,
          8069310.333333333,
          8134670.333333333,
          8196347.333333333,
          8261238,
          8342425.666666667,
          8426406.333333334,
          8509740.333333334,
          8617342,
          8741997.666666666,
          8879925.333333334,
          9035499,
          9231907.666666666,
          9442560.666666666,
          9651558.666666666,
          9894923.333333334,
          10197199.333333334,
          10503884.333333334,
          10775877.666666666,
          11026563,
          11371855.666666666,
          11740818.666666666,
          12077973,
          12443539.666666666,
          12881455,
          13263880.666666666,
          13697889
         ],
         "yaxis": "y"
        },
        {
         "hovertemplate": "Continente=América del Sur<br>Año=%{x}<br>Población de 65 años de edad y más, mujeres=%{y}<extra></extra>",
         "legendgroup": "América del Sur",
         "line": {
          "color": "#00cc96",
          "dash": "solid"
         },
         "marker": {
          "symbol": "circle"
         },
         "mode": "lines",
         "name": "América del Sur",
         "orientation": "v",
         "showlegend": true,
         "type": "scatter",
         "x": [
          "1987",
          "1988",
          "1989",
          "1990",
          "1991",
          "1992",
          "1993",
          "1994",
          "1995",
          "1996",
          "1997",
          "1998",
          "1999",
          "2000",
          "2001",
          "2002",
          "2003",
          "2004",
          "2005",
          "2006",
          "2007",
          "2008",
          "2009",
          "2010",
          "2011",
          "2012",
          "2013",
          "2014",
          "2015",
          "2016",
          "2017",
          "2018",
          "2019",
          "2020",
          "2021",
          "2022"
         ],
         "xaxis": "x",
         "y": [
          1177498.6,
          1222825,
          1270952.4,
          1321451,
          1374242.8,
          1429184,
          1485766.2,
          1543369.8,
          1601426.8,
          1660156.8,
          1719779.2,
          1780019.8,
          1840415.4,
          1901638.6,
          1964745.8,
          2029886.4,
          2095716.2,
          2163511.2,
          2235123,
          2309610.6,
          2386119.4,
          2464356.6,
          2544635.6,
          2623088,
          2709731.4,
          2802359.6,
          2901717.4,
          3010194.8,
          3126935.4,
          3247648,
          3372518.4,
          3502939.4,
          3639801.8,
          3776743.8,
          3908012.4,
          4041594.2
         ],
         "yaxis": "y"
        },
        {
         "hovertemplate": "Continente=Asia<br>Año=%{x}<br>Población de 65 años de edad y más, mujeres=%{y}<extra></extra>",
         "legendgroup": "Asia",
         "line": {
          "color": "#ab63fa",
          "dash": "solid"
         },
         "marker": {
          "symbol": "circle"
         },
         "mode": "lines",
         "name": "Asia",
         "orientation": "v",
         "showlegend": true,
         "type": "scatter",
         "x": [
          "1987",
          "1988",
          "1989",
          "1990",
          "1991",
          "1992",
          "1993",
          "1994",
          "1995",
          "1996",
          "1997",
          "1998",
          "1999",
          "2000",
          "2001",
          "2002",
          "2003",
          "2004",
          "2005",
          "2006",
          "2007",
          "2008",
          "2009",
          "2010",
          "2011",
          "2012",
          "2013",
          "2014",
          "2015",
          "2016",
          "2017",
          "2018",
          "2019",
          "2020",
          "2021",
          "2022"
         ],
         "xaxis": "x",
         "y": [
          6310811.222222222,
          6510630,
          6727357,
          6948671.555555556,
          7163988,
          7389968.222222222,
          7640541.444444444,
          7901803.777777778,
          8171082.555555556,
          8447272,
          8732251.444444444,
          9043944.444444444,
          9362482.222222222,
          9678025.888888888,
          10004397.888888888,
          10332249.777777778,
          10647815.111111112,
          10941940.111111112,
          11236943.888888888,
          11548954.333333334,
          11857421.555555556,
          12151669.222222222,
          12445002.555555556,
          12750597,
          13089938.666666666,
          13497583.111111112,
          13971345.444444444,
          14515724.111111112,
          15145736.888888888,
          15825957.777777778,
          16564723,
          17334737.555555556,
          18103213.444444444,
          18875436,
          19548625.888888888,
          20188436.444444444
         ],
         "yaxis": "y"
        },
        {
         "hovertemplate": "Continente=Europa<br>Año=%{x}<br>Población de 65 años de edad y más, mujeres=%{y}<extra></extra>",
         "legendgroup": "Europa",
         "line": {
          "color": "#FFA15A",
          "dash": "solid"
         },
         "marker": {
          "symbol": "circle"
         },
         "mode": "lines",
         "name": "Europa",
         "orientation": "v",
         "showlegend": true,
         "type": "scatter",
         "x": [
          "1987",
          "1988",
          "1989",
          "1990",
          "1991",
          "1992",
          "1993",
          "1994",
          "1995",
          "1996",
          "1997",
          "1998",
          "1999",
          "2000",
          "2001",
          "2002",
          "2003",
          "2004",
          "2005",
          "2006",
          "2007",
          "2008",
          "2009",
          "2010",
          "2011",
          "2012",
          "2013",
          "2014",
          "2015",
          "2016",
          "2017",
          "2018",
          "2019",
          "2020",
          "2021",
          "2022"
         ],
         "xaxis": "x",
         "y": [
          2767031,
          2800821.909090909,
          2845253,
          2893054.5454545454,
          2944000.8181818184,
          2995572.5454545454,
          3044611.909090909,
          3086941.272727273,
          3123966.3636363638,
          3151174.272727273,
          3170184.8181818184,
          3180325.1818181816,
          3183213.4545454546,
          3197527,
          3228083.272727273,
          3270403.909090909,
          3318972.8181818184,
          3372062.727272727,
          3425865.6363636362,
          3470084.5454545454,
          3489349.8181818184,
          3483981.1818181816,
          3474726.8181818184,
          3468492.3636363638,
          3468166.3636363638,
          3511290.5454545454,
          3560979.1818181816,
          3620951.1818181816,
          3686544.6363636362,
          3746553.1818181816,
          3804931.6363636362,
          3863381.727272727,
          3928484.1818181816,
          3991865.909090909,
          4039673.272727273,
          4106422.4545454546
         ],
         "yaxis": "y"
        },
        {
         "hovertemplate": "Continente=Oceanía<br>Año=%{x}<br>Población de 65 años de edad y más, mujeres=%{y}<extra></extra>",
         "legendgroup": "Oceanía",
         "line": {
          "color": "#19d3f3",
          "dash": "solid"
         },
         "marker": {
          "symbol": "circle"
         },
         "mode": "lines",
         "name": "Oceanía",
         "orientation": "v",
         "showlegend": true,
         "type": "scatter",
         "x": [
          "1987",
          "1988",
          "1989",
          "1990",
          "1991",
          "1992",
          "1993",
          "1994",
          "1995",
          "1996",
          "1997",
          "1998",
          "1999",
          "2000",
          "2001",
          "2002",
          "2003",
          "2004",
          "2005",
          "2006",
          "2007",
          "2008",
          "2009",
          "2010",
          "2011",
          "2012",
          "2013",
          "2014",
          "2015",
          "2016",
          "2017",
          "2018",
          "2019",
          "2020",
          "2021",
          "2022"
         ],
         "xaxis": "x",
         "y": [
          303592,
          311961.25,
          320027,
          327944.25,
          338356.75,
          346384.5,
          353614,
          360577.75,
          367382.5,
          374292.5,
          380505.25,
          386316.25,
          391896.25,
          397792.5,
          404558.25,
          411270,
          418405.5,
          425591.5,
          433630.5,
          442380.5,
          452336.75,
          462797.5,
          475228.5,
          488437.75,
          502999.75,
          520282.5,
          537893,
          554858.75,
          571748.25,
          589593.25,
          608155.75,
          626737.75,
          646191.75,
          667208,
          682028.75,
          702844.5
         ],
         "yaxis": "y"
        },
        {
         "hovertemplate": "Continente=África<br>Año=%{x}<br>Población de 65 años de edad y más, mujeres=%{y}<extra></extra>",
         "legendgroup": "África",
         "line": {
          "color": "#FF6692",
          "dash": "solid"
         },
         "marker": {
          "symbol": "circle"
         },
         "mode": "lines",
         "name": "África",
         "orientation": "v",
         "showlegend": true,
         "type": "scatter",
         "x": [
          "1987",
          "1988",
          "1989",
          "1990",
          "1991",
          "1992",
          "1993",
          "1994",
          "1995",
          "1996",
          "1997",
          "1998",
          "1999",
          "2000",
          "2001",
          "2002",
          "2003",
          "2004",
          "2005",
          "2006",
          "2007",
          "2008",
          "2009",
          "2010",
          "2011",
          "2012",
          "2013",
          "2014",
          "2015",
          "2016",
          "2017",
          "2018",
          "2019",
          "2020",
          "2021",
          "2022"
         ],
         "xaxis": "x",
         "y": [
          359472.9,
          371382.8,
          383853,
          396960.1,
          410583,
          424856.4,
          439871.6,
          453034.8,
          466708.3,
          485046.3,
          504505.5,
          521366.3,
          536366.4,
          551157.7,
          566340.2,
          581664.1,
          596062.2,
          609651.4,
          623146.2,
          636906.8,
          651401.8,
          666962.1,
          684029.2,
          703859.3,
          727403.8,
          753437,
          780478.4,
          808090.5,
          836598.8,
          867296.3,
          900860.4,
          936481.3,
          972621.8,
          1006598.3,
          1036753.1,
          1065497
         ],
         "yaxis": "y"
        }
       ],
       "layout": {
        "legend": {
         "title": {
          "text": "Continente"
         },
         "tracegroupgap": 0
        },
        "margin": {
         "t": 60
        },
        "template": {
         "data": {
          "bar": [
           {
            "error_x": {
             "color": "#2a3f5f"
            },
            "error_y": {
             "color": "#2a3f5f"
            },
            "marker": {
             "line": {
              "color": "#E5ECF6",
              "width": 0.5
             },
             "pattern": {
              "fillmode": "overlay",
              "size": 10,
              "solidity": 0.2
             }
            },
            "type": "bar"
           }
          ],
          "barpolar": [
           {
            "marker": {
             "line": {
              "color": "#E5ECF6",
              "width": 0.5
             },
             "pattern": {
              "fillmode": "overlay",
              "size": 10,
              "solidity": 0.2
             }
            },
            "type": "barpolar"
           }
          ],
          "carpet": [
           {
            "aaxis": {
             "endlinecolor": "#2a3f5f",
             "gridcolor": "white",
             "linecolor": "white",
             "minorgridcolor": "white",
             "startlinecolor": "#2a3f5f"
            },
            "baxis": {
             "endlinecolor": "#2a3f5f",
             "gridcolor": "white",
             "linecolor": "white",
             "minorgridcolor": "white",
             "startlinecolor": "#2a3f5f"
            },
            "type": "carpet"
           }
          ],
          "choropleth": [
           {
            "colorbar": {
             "outlinewidth": 0,
             "ticks": ""
            },
            "type": "choropleth"
           }
          ],
          "contour": [
           {
            "colorbar": {
             "outlinewidth": 0,
             "ticks": ""
            },
            "colorscale": [
             [
              0,
              "#0d0887"
             ],
             [
              0.1111111111111111,
              "#46039f"
             ],
             [
              0.2222222222222222,
              "#7201a8"
             ],
             [
              0.3333333333333333,
              "#9c179e"
             ],
             [
              0.4444444444444444,
              "#bd3786"
             ],
             [
              0.5555555555555556,
              "#d8576b"
             ],
             [
              0.6666666666666666,
              "#ed7953"
             ],
             [
              0.7777777777777778,
              "#fb9f3a"
             ],
             [
              0.8888888888888888,
              "#fdca26"
             ],
             [
              1,
              "#f0f921"
             ]
            ],
            "type": "contour"
           }
          ],
          "contourcarpet": [
           {
            "colorbar": {
             "outlinewidth": 0,
             "ticks": ""
            },
            "type": "contourcarpet"
           }
          ],
          "heatmap": [
           {
            "colorbar": {
             "outlinewidth": 0,
             "ticks": ""
            },
            "colorscale": [
             [
              0,
              "#0d0887"
             ],
             [
              0.1111111111111111,
              "#46039f"
             ],
             [
              0.2222222222222222,
              "#7201a8"
             ],
             [
              0.3333333333333333,
              "#9c179e"
             ],
             [
              0.4444444444444444,
              "#bd3786"
             ],
             [
              0.5555555555555556,
              "#d8576b"
             ],
             [
              0.6666666666666666,
              "#ed7953"
             ],
             [
              0.7777777777777778,
              "#fb9f3a"
             ],
             [
              0.8888888888888888,
              "#fdca26"
             ],
             [
              1,
              "#f0f921"
             ]
            ],
            "type": "heatmap"
           }
          ],
          "heatmapgl": [
           {
            "colorbar": {
             "outlinewidth": 0,
             "ticks": ""
            },
            "colorscale": [
             [
              0,
              "#0d0887"
             ],
             [
              0.1111111111111111,
              "#46039f"
             ],
             [
              0.2222222222222222,
              "#7201a8"
             ],
             [
              0.3333333333333333,
              "#9c179e"
             ],
             [
              0.4444444444444444,
              "#bd3786"
             ],
             [
              0.5555555555555556,
              "#d8576b"
             ],
             [
              0.6666666666666666,
              "#ed7953"
             ],
             [
              0.7777777777777778,
              "#fb9f3a"
             ],
             [
              0.8888888888888888,
              "#fdca26"
             ],
             [
              1,
              "#f0f921"
             ]
            ],
            "type": "heatmapgl"
           }
          ],
          "histogram": [
           {
            "marker": {
             "pattern": {
              "fillmode": "overlay",
              "size": 10,
              "solidity": 0.2
             }
            },
            "type": "histogram"
           }
          ],
          "histogram2d": [
           {
            "colorbar": {
             "outlinewidth": 0,
             "ticks": ""
            },
            "colorscale": [
             [
              0,
              "#0d0887"
             ],
             [
              0.1111111111111111,
              "#46039f"
             ],
             [
              0.2222222222222222,
              "#7201a8"
             ],
             [
              0.3333333333333333,
              "#9c179e"
             ],
             [
              0.4444444444444444,
              "#bd3786"
             ],
             [
              0.5555555555555556,
              "#d8576b"
             ],
             [
              0.6666666666666666,
              "#ed7953"
             ],
             [
              0.7777777777777778,
              "#fb9f3a"
             ],
             [
              0.8888888888888888,
              "#fdca26"
             ],
             [
              1,
              "#f0f921"
             ]
            ],
            "type": "histogram2d"
           }
          ],
          "histogram2dcontour": [
           {
            "colorbar": {
             "outlinewidth": 0,
             "ticks": ""
            },
            "colorscale": [
             [
              0,
              "#0d0887"
             ],
             [
              0.1111111111111111,
              "#46039f"
             ],
             [
              0.2222222222222222,
              "#7201a8"
             ],
             [
              0.3333333333333333,
              "#9c179e"
             ],
             [
              0.4444444444444444,
              "#bd3786"
             ],
             [
              0.5555555555555556,
              "#d8576b"
             ],
             [
              0.6666666666666666,
              "#ed7953"
             ],
             [
              0.7777777777777778,
              "#fb9f3a"
             ],
             [
              0.8888888888888888,
              "#fdca26"
             ],
             [
              1,
              "#f0f921"
             ]
            ],
            "type": "histogram2dcontour"
           }
          ],
          "mesh3d": [
           {
            "colorbar": {
             "outlinewidth": 0,
             "ticks": ""
            },
            "type": "mesh3d"
           }
          ],
          "parcoords": [
           {
            "line": {
             "colorbar": {
              "outlinewidth": 0,
              "ticks": ""
             }
            },
            "type": "parcoords"
           }
          ],
          "pie": [
           {
            "automargin": true,
            "type": "pie"
           }
          ],
          "scatter": [
           {
            "fillpattern": {
             "fillmode": "overlay",
             "size": 10,
             "solidity": 0.2
            },
            "type": "scatter"
           }
          ],
          "scatter3d": [
           {
            "line": {
             "colorbar": {
              "outlinewidth": 0,
              "ticks": ""
             }
            },
            "marker": {
             "colorbar": {
              "outlinewidth": 0,
              "ticks": ""
             }
            },
            "type": "scatter3d"
           }
          ],
          "scattercarpet": [
           {
            "marker": {
             "colorbar": {
              "outlinewidth": 0,
              "ticks": ""
             }
            },
            "type": "scattercarpet"
           }
          ],
          "scattergeo": [
           {
            "marker": {
             "colorbar": {
              "outlinewidth": 0,
              "ticks": ""
             }
            },
            "type": "scattergeo"
           }
          ],
          "scattergl": [
           {
            "marker": {
             "colorbar": {
              "outlinewidth": 0,
              "ticks": ""
             }
            },
            "type": "scattergl"
           }
          ],
          "scattermapbox": [
           {
            "marker": {
             "colorbar": {
              "outlinewidth": 0,
              "ticks": ""
             }
            },
            "type": "scattermapbox"
           }
          ],
          "scatterpolar": [
           {
            "marker": {
             "colorbar": {
              "outlinewidth": 0,
              "ticks": ""
             }
            },
            "type": "scatterpolar"
           }
          ],
          "scatterpolargl": [
           {
            "marker": {
             "colorbar": {
              "outlinewidth": 0,
              "ticks": ""
             }
            },
            "type": "scatterpolargl"
           }
          ],
          "scatterternary": [
           {
            "marker": {
             "colorbar": {
              "outlinewidth": 0,
              "ticks": ""
             }
            },
            "type": "scatterternary"
           }
          ],
          "surface": [
           {
            "colorbar": {
             "outlinewidth": 0,
             "ticks": ""
            },
            "colorscale": [
             [
              0,
              "#0d0887"
             ],
             [
              0.1111111111111111,
              "#46039f"
             ],
             [
              0.2222222222222222,
              "#7201a8"
             ],
             [
              0.3333333333333333,
              "#9c179e"
             ],
             [
              0.4444444444444444,
              "#bd3786"
             ],
             [
              0.5555555555555556,
              "#d8576b"
             ],
             [
              0.6666666666666666,
              "#ed7953"
             ],
             [
              0.7777777777777778,
              "#fb9f3a"
             ],
             [
              0.8888888888888888,
              "#fdca26"
             ],
             [
              1,
              "#f0f921"
             ]
            ],
            "type": "surface"
           }
          ],
          "table": [
           {
            "cells": {
             "fill": {
              "color": "#EBF0F8"
             },
             "line": {
              "color": "white"
             }
            },
            "header": {
             "fill": {
              "color": "#C8D4E3"
             },
             "line": {
              "color": "white"
             }
            },
            "type": "table"
           }
          ]
         },
         "layout": {
          "annotationdefaults": {
           "arrowcolor": "#2a3f5f",
           "arrowhead": 0,
           "arrowwidth": 1
          },
          "autotypenumbers": "strict",
          "coloraxis": {
           "colorbar": {
            "outlinewidth": 0,
            "ticks": ""
           }
          },
          "colorscale": {
           "diverging": [
            [
             0,
             "#8e0152"
            ],
            [
             0.1,
             "#c51b7d"
            ],
            [
             0.2,
             "#de77ae"
            ],
            [
             0.3,
             "#f1b6da"
            ],
            [
             0.4,
             "#fde0ef"
            ],
            [
             0.5,
             "#f7f7f7"
            ],
            [
             0.6,
             "#e6f5d0"
            ],
            [
             0.7,
             "#b8e186"
            ],
            [
             0.8,
             "#7fbc41"
            ],
            [
             0.9,
             "#4d9221"
            ],
            [
             1,
             "#276419"
            ]
           ],
           "sequential": [
            [
             0,
             "#0d0887"
            ],
            [
             0.1111111111111111,
             "#46039f"
            ],
            [
             0.2222222222222222,
             "#7201a8"
            ],
            [
             0.3333333333333333,
             "#9c179e"
            ],
            [
             0.4444444444444444,
             "#bd3786"
            ],
            [
             0.5555555555555556,
             "#d8576b"
            ],
            [
             0.6666666666666666,
             "#ed7953"
            ],
            [
             0.7777777777777778,
             "#fb9f3a"
            ],
            [
             0.8888888888888888,
             "#fdca26"
            ],
            [
             1,
             "#f0f921"
            ]
           ],
           "sequentialminus": [
            [
             0,
             "#0d0887"
            ],
            [
             0.1111111111111111,
             "#46039f"
            ],
            [
             0.2222222222222222,
             "#7201a8"
            ],
            [
             0.3333333333333333,
             "#9c179e"
            ],
            [
             0.4444444444444444,
             "#bd3786"
            ],
            [
             0.5555555555555556,
             "#d8576b"
            ],
            [
             0.6666666666666666,
             "#ed7953"
            ],
            [
             0.7777777777777778,
             "#fb9f3a"
            ],
            [
             0.8888888888888888,
             "#fdca26"
            ],
            [
             1,
             "#f0f921"
            ]
           ]
          },
          "colorway": [
           "#636efa",
           "#EF553B",
           "#00cc96",
           "#ab63fa",
           "#FFA15A",
           "#19d3f3",
           "#FF6692",
           "#B6E880",
           "#FF97FF",
           "#FECB52"
          ],
          "font": {
           "color": "#2a3f5f"
          },
          "geo": {
           "bgcolor": "white",
           "lakecolor": "white",
           "landcolor": "#E5ECF6",
           "showlakes": true,
           "showland": true,
           "subunitcolor": "white"
          },
          "hoverlabel": {
           "align": "left"
          },
          "hovermode": "closest",
          "mapbox": {
           "style": "light"
          },
          "paper_bgcolor": "white",
          "plot_bgcolor": "#E5ECF6",
          "polar": {
           "angularaxis": {
            "gridcolor": "white",
            "linecolor": "white",
            "ticks": ""
           },
           "bgcolor": "#E5ECF6",
           "radialaxis": {
            "gridcolor": "white",
            "linecolor": "white",
            "ticks": ""
           }
          },
          "scene": {
           "xaxis": {
            "backgroundcolor": "#E5ECF6",
            "gridcolor": "white",
            "gridwidth": 2,
            "linecolor": "white",
            "showbackground": true,
            "ticks": "",
            "zerolinecolor": "white"
           },
           "yaxis": {
            "backgroundcolor": "#E5ECF6",
            "gridcolor": "white",
            "gridwidth": 2,
            "linecolor": "white",
            "showbackground": true,
            "ticks": "",
            "zerolinecolor": "white"
           },
           "zaxis": {
            "backgroundcolor": "#E5ECF6",
            "gridcolor": "white",
            "gridwidth": 2,
            "linecolor": "white",
            "showbackground": true,
            "ticks": "",
            "zerolinecolor": "white"
           }
          },
          "shapedefaults": {
           "line": {
            "color": "#2a3f5f"
           }
          },
          "ternary": {
           "aaxis": {
            "gridcolor": "white",
            "linecolor": "white",
            "ticks": ""
           },
           "baxis": {
            "gridcolor": "white",
            "linecolor": "white",
            "ticks": ""
           },
           "bgcolor": "#E5ECF6",
           "caxis": {
            "gridcolor": "white",
            "linecolor": "white",
            "ticks": ""
           }
          },
          "title": {
           "x": 0.05
          },
          "xaxis": {
           "automargin": true,
           "gridcolor": "white",
           "linecolor": "white",
           "ticks": "",
           "title": {
            "standoff": 15
           },
           "zerolinecolor": "white",
           "zerolinewidth": 2
          },
          "yaxis": {
           "automargin": true,
           "gridcolor": "white",
           "linecolor": "white",
           "ticks": "",
           "title": {
            "standoff": 15
           },
           "zerolinecolor": "white",
           "zerolinewidth": 2
          }
         }
        },
        "xaxis": {
         "anchor": "y",
         "domain": [
          0,
          1
         ],
         "title": {
          "text": "Año"
         }
        },
        "yaxis": {
         "anchor": "x",
         "domain": [
          0,
          1
         ],
         "title": {
          "text": "Población de 65 años de edad y más, mujeres"
         }
        }
       }
      }
     },
     "metadata": {},
     "output_type": "display_data"
    },
    {
     "data": {
      "application/vnd.plotly.v1+json": {
       "config": {
        "plotlyServerURL": "https://plot.ly"
       },
       "data": [
        {
         "hovertemplate": "Continente=América Central<br>Año=%{x}<br>Población de 65 años de edad y más, total=%{y}<extra></extra>",
         "legendgroup": "América Central",
         "line": {
          "color": "#636efa",
          "dash": "solid"
         },
         "marker": {
          "symbol": "circle"
         },
         "mode": "lines",
         "name": "América Central",
         "orientation": "v",
         "showlegend": true,
         "type": "scatter",
         "x": [
          "1987",
          "1988",
          "1989",
          "1990",
          "1991",
          "1992",
          "1993",
          "1994",
          "1995",
          "1996",
          "1997",
          "1998",
          "1999",
          "2000",
          "2001",
          "2002",
          "2003",
          "2004",
          "2005",
          "2006",
          "2007",
          "2008",
          "2009",
          "2010",
          "2011",
          "2012",
          "2013",
          "2014",
          "2015",
          "2016",
          "2017",
          "2018",
          "2019",
          "2020",
          "2021",
          "2022"
         ],
         "xaxis": "x",
         "y": [
          493908,
          505547.5,
          517362,
          529445.5,
          541385.5,
          552862.5,
          563930.5,
          576230.5,
          590027,
          604105.5,
          618644.5,
          633692,
          649294,
          665954,
          684495.5,
          704854,
          725558,
          746335,
          768216.5,
          790503.5,
          813621.5,
          838007.5,
          862546.5,
          887461.5,
          913474,
          940039,
          966279,
          991076.5,
          1015073.5,
          1039233.5,
          1064001,
          1090231,
          1116270.5,
          1140479.5,
          1153319,
          1166694
         ],
         "yaxis": "y"
        },
        {
         "hovertemplate": "Continente=América del Norte<br>Año=%{x}<br>Población de 65 años de edad y más, total=%{y}<extra></extra>",
         "legendgroup": "América del Norte",
         "line": {
          "color": "#EF553B",
          "dash": "solid"
         },
         "marker": {
          "symbol": "circle"
         },
         "mode": "lines",
         "name": "América del Norte",
         "orientation": "v",
         "showlegend": true,
         "type": "scatter",
         "x": [
          "1987",
          "1988",
          "1989",
          "1990",
          "1991",
          "1992",
          "1993",
          "1994",
          "1995",
          "1996",
          "1997",
          "1998",
          "1999",
          "2000",
          "2001",
          "2002",
          "2003",
          "2004",
          "2005",
          "2006",
          "2007",
          "2008",
          "2009",
          "2010",
          "2011",
          "2012",
          "2013",
          "2014",
          "2015",
          "2016",
          "2017",
          "2018",
          "2019",
          "2020",
          "2021",
          "2022"
         ],
         "xaxis": "x",
         "y": [
          11646316.666666666,
          11921930.333333334,
          12186140.333333334,
          12376786,
          12617775.333333334,
          12891439.333333334,
          13127822.666666666,
          13381353.666666666,
          13639036.666666666,
          13852883.666666666,
          14037330,
          14203853,
          14356833.333333334,
          14495189,
          14679645.666666666,
          14871854.333333334,
          15056418.333333334,
          15287004.666666666,
          15548512,
          15828108.333333334,
          16134962.666666666,
          16527200.666666666,
          16941234.666666668,
          17341520.666666668,
          17823372,
          18411543.666666668,
          18997258.666666668,
          19532606.666666668,
          20020487,
          20690046,
          21411920.333333332,
          22064953,
          22770448.333333332,
          23579118,
          24254990.666666668,
          25036092.666666668
         ],
         "yaxis": "y"
        },
        {
         "hovertemplate": "Continente=América del Sur<br>Año=%{x}<br>Población de 65 años de edad y más, total=%{y}<extra></extra>",
         "legendgroup": "América del Sur",
         "line": {
          "color": "#00cc96",
          "dash": "solid"
         },
         "marker": {
          "symbol": "circle"
         },
         "mode": "lines",
         "name": "América del Sur",
         "orientation": "v",
         "showlegend": true,
         "type": "scatter",
         "x": [
          "1987",
          "1988",
          "1989",
          "1990",
          "1991",
          "1992",
          "1993",
          "1994",
          "1995",
          "1996",
          "1997",
          "1998",
          "1999",
          "2000",
          "2001",
          "2002",
          "2003",
          "2004",
          "2005",
          "2006",
          "2007",
          "2008",
          "2009",
          "2010",
          "2011",
          "2012",
          "2013",
          "2014",
          "2015",
          "2016",
          "2017",
          "2018",
          "2019",
          "2020",
          "2021",
          "2022"
         ],
         "xaxis": "x",
         "y": [
          2153520.4,
          2233222.4,
          2317570,
          2404675.8,
          2494231.4,
          2586822,
          2681594.8,
          2778091.2,
          2875087,
          2972656.4,
          3071431.4,
          3171076.6,
          3271161.2,
          3371449.4,
          3473972.2,
          3580606.6,
          3690125.6,
          3804633.4,
          3926821.6,
          4055250.2,
          4187887.2,
          4324539.6,
          4466073.6,
          4604932,
          4756371,
          4916807.8,
          5089551.6,
          5280109.4,
          5484584.6,
          5693080,
          5909276.2,
          6136752,
          6374962,
          6609725,
          6830751.2,
          7058002.4
         ],
         "yaxis": "y"
        },
        {
         "hovertemplate": "Continente=Asia<br>Año=%{x}<br>Población de 65 años de edad y más, total=%{y}<extra></extra>",
         "legendgroup": "Asia",
         "line": {
          "color": "#ab63fa",
          "dash": "solid"
         },
         "marker": {
          "symbol": "circle"
         },
         "mode": "lines",
         "name": "Asia",
         "orientation": "v",
         "showlegend": true,
         "type": "scatter",
         "x": [
          "1987",
          "1988",
          "1989",
          "1990",
          "1991",
          "1992",
          "1993",
          "1994",
          "1995",
          "1996",
          "1997",
          "1998",
          "1999",
          "2000",
          "2001",
          "2002",
          "2003",
          "2004",
          "2005",
          "2006",
          "2007",
          "2008",
          "2009",
          "2010",
          "2011",
          "2012",
          "2013",
          "2014",
          "2015",
          "2016",
          "2017",
          "2018",
          "2019",
          "2020",
          "2021",
          "2022"
         ],
         "xaxis": "x",
         "y": [
          11370252.222222222,
          11726147.888888888,
          12118776.555555556,
          12528600.888888888,
          12937997.666666666,
          13374803.222222222,
          13857281.222222222,
          14360418.333333334,
          14882110.777777778,
          15418875.111111112,
          15972283.777777778,
          16573569.555555556,
          17189320.777777776,
          17797457.222222224,
          18418287.444444444,
          19040953.333333332,
          19641176.555555556,
          20195311,
          20745741.888888888,
          21327179,
          21897033.777777776,
          22436633.333333332,
          22976143.888888888,
          23536046.555555556,
          24160140.555555556,
          24919987.333333332,
          25804303.666666668,
          26819455.111111112,
          27990758.666666668,
          29246739.777777776,
          30604478.888888888,
          32019538,
          33437108.444444444,
          34848982,
          36052890.777777776,
          37202976.44444445
         ],
         "yaxis": "y"
        },
        {
         "hovertemplate": "Continente=Europa<br>Año=%{x}<br>Población de 65 años de edad y más, total=%{y}<extra></extra>",
         "legendgroup": "Europa",
         "line": {
          "color": "#FFA15A",
          "dash": "solid"
         },
         "marker": {
          "symbol": "circle"
         },
         "mode": "lines",
         "name": "Europa",
         "orientation": "v",
         "showlegend": true,
         "type": "scatter",
         "x": [
          "1987",
          "1988",
          "1989",
          "1990",
          "1991",
          "1992",
          "1993",
          "1994",
          "1995",
          "1996",
          "1997",
          "1998",
          "1999",
          "2000",
          "2001",
          "2002",
          "2003",
          "2004",
          "2005",
          "2006",
          "2007",
          "2008",
          "2009",
          "2010",
          "2011",
          "2012",
          "2013",
          "2014",
          "2015",
          "2016",
          "2017",
          "2018",
          "2019",
          "2020",
          "2021",
          "2022"
         ],
         "xaxis": "x",
         "y": [
          4209372.2727272725,
          4261348.454545454,
          4330695.454545454,
          4409380.090909091,
          4500127.818181818,
          4601022.454545454,
          4703266.090909091,
          4794900.636363637,
          4876358.181818182,
          4942285.181818182,
          4995729.363636363,
          5034575.636363637,
          5063010.181818182,
          5111238.545454546,
          5184982.909090909,
          5276804.636363637,
          5376596.909090909,
          5481934.454545454,
          5588912,
          5679727.090909091,
          5727744,
          5736176.454545454,
          5739976.2727272725,
          5747695.545454546,
          5764395.545454546,
          5857207.454545454,
          5962058.454545454,
          6082977.363636363,
          6211638.636363637,
          6328292.545454546,
          6440640.545454546,
          6552643.363636363,
          6674650.7272727275,
          6789619,
          6877145.2727272725,
          7001124.181818182
         ],
         "yaxis": "y"
        },
        {
         "hovertemplate": "Continente=Oceanía<br>Año=%{x}<br>Población de 65 años de edad y más, total=%{y}<extra></extra>",
         "legendgroup": "Oceanía",
         "line": {
          "color": "#19d3f3",
          "dash": "solid"
         },
         "marker": {
          "symbol": "circle"
         },
         "mode": "lines",
         "name": "Oceanía",
         "orientation": "v",
         "showlegend": true,
         "type": "scatter",
         "x": [
          "1987",
          "1988",
          "1989",
          "1990",
          "1991",
          "1992",
          "1993",
          "1994",
          "1995",
          "1996",
          "1997",
          "1998",
          "1999",
          "2000",
          "2001",
          "2002",
          "2003",
          "2004",
          "2005",
          "2006",
          "2007",
          "2008",
          "2009",
          "2010",
          "2011",
          "2012",
          "2013",
          "2014",
          "2015",
          "2016",
          "2017",
          "2018",
          "2019",
          "2020",
          "2021",
          "2022"
         ],
         "xaxis": "x",
         "y": [
          526299,
          541628.75,
          556808.5,
          571902,
          591424.5,
          606968.5,
          621055.5,
          634693,
          648096.75,
          661780.75,
          674355,
          686206.5,
          697660.5,
          709908.75,
          724027.5,
          738114.25,
          752918.5,
          767975.25,
          784840,
          803343.25,
          824361.75,
          846508.25,
          872383,
          899941.75,
          930308,
          965833.5,
          1001699.25,
          1035909.75,
          1069609.5,
          1104742.5,
          1140819,
          1176618.25,
          1214255.75,
          1254877.25,
          1283626.5,
          1323270.5
         ],
         "yaxis": "y"
        },
        {
         "hovertemplate": "Continente=África<br>Año=%{x}<br>Población de 65 años de edad y más, total=%{y}<extra></extra>",
         "legendgroup": "África",
         "line": {
          "color": "#FF6692",
          "dash": "solid"
         },
         "marker": {
          "symbol": "circle"
         },
         "mode": "lines",
         "name": "África",
         "orientation": "v",
         "showlegend": true,
         "type": "scatter",
         "x": [
          "1987",
          "1988",
          "1989",
          "1990",
          "1991",
          "1992",
          "1993",
          "1994",
          "1995",
          "1996",
          "1997",
          "1998",
          "1999",
          "2000",
          "2001",
          "2002",
          "2003",
          "2004",
          "2005",
          "2006",
          "2007",
          "2008",
          "2009",
          "2010",
          "2011",
          "2012",
          "2013",
          "2014",
          "2015",
          "2016",
          "2017",
          "2018",
          "2019",
          "2020",
          "2021",
          "2022"
         ],
         "xaxis": "x",
         "y": [
          637387.8,
          657848.6,
          679197.1,
          701388.3,
          724037.8,
          747192.7,
          771124.4,
          791063.1,
          811619.4,
          842199,
          876642.2,
          905728.3,
          930389,
          954718.3,
          979766.3,
          1005189.7,
          1029071.3,
          1051406.2,
          1073360.9,
          1095619.1,
          1119002.2,
          1144229.4,
          1172263.6,
          1205433.3,
          1245564.8,
          1290734.4,
          1338473.2,
          1387780.6,
          1439057.1,
          1493947.2,
          1553641.1,
          1617444.6,
          1682702.5,
          1743349.1,
          1796373.8,
          1847809.9
         ],
         "yaxis": "y"
        }
       ],
       "layout": {
        "legend": {
         "title": {
          "text": "Continente"
         },
         "tracegroupgap": 0
        },
        "margin": {
         "t": 60
        },
        "template": {
         "data": {
          "bar": [
           {
            "error_x": {
             "color": "#2a3f5f"
            },
            "error_y": {
             "color": "#2a3f5f"
            },
            "marker": {
             "line": {
              "color": "#E5ECF6",
              "width": 0.5
             },
             "pattern": {
              "fillmode": "overlay",
              "size": 10,
              "solidity": 0.2
             }
            },
            "type": "bar"
           }
          ],
          "barpolar": [
           {
            "marker": {
             "line": {
              "color": "#E5ECF6",
              "width": 0.5
             },
             "pattern": {
              "fillmode": "overlay",
              "size": 10,
              "solidity": 0.2
             }
            },
            "type": "barpolar"
           }
          ],
          "carpet": [
           {
            "aaxis": {
             "endlinecolor": "#2a3f5f",
             "gridcolor": "white",
             "linecolor": "white",
             "minorgridcolor": "white",
             "startlinecolor": "#2a3f5f"
            },
            "baxis": {
             "endlinecolor": "#2a3f5f",
             "gridcolor": "white",
             "linecolor": "white",
             "minorgridcolor": "white",
             "startlinecolor": "#2a3f5f"
            },
            "type": "carpet"
           }
          ],
          "choropleth": [
           {
            "colorbar": {
             "outlinewidth": 0,
             "ticks": ""
            },
            "type": "choropleth"
           }
          ],
          "contour": [
           {
            "colorbar": {
             "outlinewidth": 0,
             "ticks": ""
            },
            "colorscale": [
             [
              0,
              "#0d0887"
             ],
             [
              0.1111111111111111,
              "#46039f"
             ],
             [
              0.2222222222222222,
              "#7201a8"
             ],
             [
              0.3333333333333333,
              "#9c179e"
             ],
             [
              0.4444444444444444,
              "#bd3786"
             ],
             [
              0.5555555555555556,
              "#d8576b"
             ],
             [
              0.6666666666666666,
              "#ed7953"
             ],
             [
              0.7777777777777778,
              "#fb9f3a"
             ],
             [
              0.8888888888888888,
              "#fdca26"
             ],
             [
              1,
              "#f0f921"
             ]
            ],
            "type": "contour"
           }
          ],
          "contourcarpet": [
           {
            "colorbar": {
             "outlinewidth": 0,
             "ticks": ""
            },
            "type": "contourcarpet"
           }
          ],
          "heatmap": [
           {
            "colorbar": {
             "outlinewidth": 0,
             "ticks": ""
            },
            "colorscale": [
             [
              0,
              "#0d0887"
             ],
             [
              0.1111111111111111,
              "#46039f"
             ],
             [
              0.2222222222222222,
              "#7201a8"
             ],
             [
              0.3333333333333333,
              "#9c179e"
             ],
             [
              0.4444444444444444,
              "#bd3786"
             ],
             [
              0.5555555555555556,
              "#d8576b"
             ],
             [
              0.6666666666666666,
              "#ed7953"
             ],
             [
              0.7777777777777778,
              "#fb9f3a"
             ],
             [
              0.8888888888888888,
              "#fdca26"
             ],
             [
              1,
              "#f0f921"
             ]
            ],
            "type": "heatmap"
           }
          ],
          "heatmapgl": [
           {
            "colorbar": {
             "outlinewidth": 0,
             "ticks": ""
            },
            "colorscale": [
             [
              0,
              "#0d0887"
             ],
             [
              0.1111111111111111,
              "#46039f"
             ],
             [
              0.2222222222222222,
              "#7201a8"
             ],
             [
              0.3333333333333333,
              "#9c179e"
             ],
             [
              0.4444444444444444,
              "#bd3786"
             ],
             [
              0.5555555555555556,
              "#d8576b"
             ],
             [
              0.6666666666666666,
              "#ed7953"
             ],
             [
              0.7777777777777778,
              "#fb9f3a"
             ],
             [
              0.8888888888888888,
              "#fdca26"
             ],
             [
              1,
              "#f0f921"
             ]
            ],
            "type": "heatmapgl"
           }
          ],
          "histogram": [
           {
            "marker": {
             "pattern": {
              "fillmode": "overlay",
              "size": 10,
              "solidity": 0.2
             }
            },
            "type": "histogram"
           }
          ],
          "histogram2d": [
           {
            "colorbar": {
             "outlinewidth": 0,
             "ticks": ""
            },
            "colorscale": [
             [
              0,
              "#0d0887"
             ],
             [
              0.1111111111111111,
              "#46039f"
             ],
             [
              0.2222222222222222,
              "#7201a8"
             ],
             [
              0.3333333333333333,
              "#9c179e"
             ],
             [
              0.4444444444444444,
              "#bd3786"
             ],
             [
              0.5555555555555556,
              "#d8576b"
             ],
             [
              0.6666666666666666,
              "#ed7953"
             ],
             [
              0.7777777777777778,
              "#fb9f3a"
             ],
             [
              0.8888888888888888,
              "#fdca26"
             ],
             [
              1,
              "#f0f921"
             ]
            ],
            "type": "histogram2d"
           }
          ],
          "histogram2dcontour": [
           {
            "colorbar": {
             "outlinewidth": 0,
             "ticks": ""
            },
            "colorscale": [
             [
              0,
              "#0d0887"
             ],
             [
              0.1111111111111111,
              "#46039f"
             ],
             [
              0.2222222222222222,
              "#7201a8"
             ],
             [
              0.3333333333333333,
              "#9c179e"
             ],
             [
              0.4444444444444444,
              "#bd3786"
             ],
             [
              0.5555555555555556,
              "#d8576b"
             ],
             [
              0.6666666666666666,
              "#ed7953"
             ],
             [
              0.7777777777777778,
              "#fb9f3a"
             ],
             [
              0.8888888888888888,
              "#fdca26"
             ],
             [
              1,
              "#f0f921"
             ]
            ],
            "type": "histogram2dcontour"
           }
          ],
          "mesh3d": [
           {
            "colorbar": {
             "outlinewidth": 0,
             "ticks": ""
            },
            "type": "mesh3d"
           }
          ],
          "parcoords": [
           {
            "line": {
             "colorbar": {
              "outlinewidth": 0,
              "ticks": ""
             }
            },
            "type": "parcoords"
           }
          ],
          "pie": [
           {
            "automargin": true,
            "type": "pie"
           }
          ],
          "scatter": [
           {
            "fillpattern": {
             "fillmode": "overlay",
             "size": 10,
             "solidity": 0.2
            },
            "type": "scatter"
           }
          ],
          "scatter3d": [
           {
            "line": {
             "colorbar": {
              "outlinewidth": 0,
              "ticks": ""
             }
            },
            "marker": {
             "colorbar": {
              "outlinewidth": 0,
              "ticks": ""
             }
            },
            "type": "scatter3d"
           }
          ],
          "scattercarpet": [
           {
            "marker": {
             "colorbar": {
              "outlinewidth": 0,
              "ticks": ""
             }
            },
            "type": "scattercarpet"
           }
          ],
          "scattergeo": [
           {
            "marker": {
             "colorbar": {
              "outlinewidth": 0,
              "ticks": ""
             }
            },
            "type": "scattergeo"
           }
          ],
          "scattergl": [
           {
            "marker": {
             "colorbar": {
              "outlinewidth": 0,
              "ticks": ""
             }
            },
            "type": "scattergl"
           }
          ],
          "scattermapbox": [
           {
            "marker": {
             "colorbar": {
              "outlinewidth": 0,
              "ticks": ""
             }
            },
            "type": "scattermapbox"
           }
          ],
          "scatterpolar": [
           {
            "marker": {
             "colorbar": {
              "outlinewidth": 0,
              "ticks": ""
             }
            },
            "type": "scatterpolar"
           }
          ],
          "scatterpolargl": [
           {
            "marker": {
             "colorbar": {
              "outlinewidth": 0,
              "ticks": ""
             }
            },
            "type": "scatterpolargl"
           }
          ],
          "scatterternary": [
           {
            "marker": {
             "colorbar": {
              "outlinewidth": 0,
              "ticks": ""
             }
            },
            "type": "scatterternary"
           }
          ],
          "surface": [
           {
            "colorbar": {
             "outlinewidth": 0,
             "ticks": ""
            },
            "colorscale": [
             [
              0,
              "#0d0887"
             ],
             [
              0.1111111111111111,
              "#46039f"
             ],
             [
              0.2222222222222222,
              "#7201a8"
             ],
             [
              0.3333333333333333,
              "#9c179e"
             ],
             [
              0.4444444444444444,
              "#bd3786"
             ],
             [
              0.5555555555555556,
              "#d8576b"
             ],
             [
              0.6666666666666666,
              "#ed7953"
             ],
             [
              0.7777777777777778,
              "#fb9f3a"
             ],
             [
              0.8888888888888888,
              "#fdca26"
             ],
             [
              1,
              "#f0f921"
             ]
            ],
            "type": "surface"
           }
          ],
          "table": [
           {
            "cells": {
             "fill": {
              "color": "#EBF0F8"
             },
             "line": {
              "color": "white"
             }
            },
            "header": {
             "fill": {
              "color": "#C8D4E3"
             },
             "line": {
              "color": "white"
             }
            },
            "type": "table"
           }
          ]
         },
         "layout": {
          "annotationdefaults": {
           "arrowcolor": "#2a3f5f",
           "arrowhead": 0,
           "arrowwidth": 1
          },
          "autotypenumbers": "strict",
          "coloraxis": {
           "colorbar": {
            "outlinewidth": 0,
            "ticks": ""
           }
          },
          "colorscale": {
           "diverging": [
            [
             0,
             "#8e0152"
            ],
            [
             0.1,
             "#c51b7d"
            ],
            [
             0.2,
             "#de77ae"
            ],
            [
             0.3,
             "#f1b6da"
            ],
            [
             0.4,
             "#fde0ef"
            ],
            [
             0.5,
             "#f7f7f7"
            ],
            [
             0.6,
             "#e6f5d0"
            ],
            [
             0.7,
             "#b8e186"
            ],
            [
             0.8,
             "#7fbc41"
            ],
            [
             0.9,
             "#4d9221"
            ],
            [
             1,
             "#276419"
            ]
           ],
           "sequential": [
            [
             0,
             "#0d0887"
            ],
            [
             0.1111111111111111,
             "#46039f"
            ],
            [
             0.2222222222222222,
             "#7201a8"
            ],
            [
             0.3333333333333333,
             "#9c179e"
            ],
            [
             0.4444444444444444,
             "#bd3786"
            ],
            [
             0.5555555555555556,
             "#d8576b"
            ],
            [
             0.6666666666666666,
             "#ed7953"
            ],
            [
             0.7777777777777778,
             "#fb9f3a"
            ],
            [
             0.8888888888888888,
             "#fdca26"
            ],
            [
             1,
             "#f0f921"
            ]
           ],
           "sequentialminus": [
            [
             0,
             "#0d0887"
            ],
            [
             0.1111111111111111,
             "#46039f"
            ],
            [
             0.2222222222222222,
             "#7201a8"
            ],
            [
             0.3333333333333333,
             "#9c179e"
            ],
            [
             0.4444444444444444,
             "#bd3786"
            ],
            [
             0.5555555555555556,
             "#d8576b"
            ],
            [
             0.6666666666666666,
             "#ed7953"
            ],
            [
             0.7777777777777778,
             "#fb9f3a"
            ],
            [
             0.8888888888888888,
             "#fdca26"
            ],
            [
             1,
             "#f0f921"
            ]
           ]
          },
          "colorway": [
           "#636efa",
           "#EF553B",
           "#00cc96",
           "#ab63fa",
           "#FFA15A",
           "#19d3f3",
           "#FF6692",
           "#B6E880",
           "#FF97FF",
           "#FECB52"
          ],
          "font": {
           "color": "#2a3f5f"
          },
          "geo": {
           "bgcolor": "white",
           "lakecolor": "white",
           "landcolor": "#E5ECF6",
           "showlakes": true,
           "showland": true,
           "subunitcolor": "white"
          },
          "hoverlabel": {
           "align": "left"
          },
          "hovermode": "closest",
          "mapbox": {
           "style": "light"
          },
          "paper_bgcolor": "white",
          "plot_bgcolor": "#E5ECF6",
          "polar": {
           "angularaxis": {
            "gridcolor": "white",
            "linecolor": "white",
            "ticks": ""
           },
           "bgcolor": "#E5ECF6",
           "radialaxis": {
            "gridcolor": "white",
            "linecolor": "white",
            "ticks": ""
           }
          },
          "scene": {
           "xaxis": {
            "backgroundcolor": "#E5ECF6",
            "gridcolor": "white",
            "gridwidth": 2,
            "linecolor": "white",
            "showbackground": true,
            "ticks": "",
            "zerolinecolor": "white"
           },
           "yaxis": {
            "backgroundcolor": "#E5ECF6",
            "gridcolor": "white",
            "gridwidth": 2,
            "linecolor": "white",
            "showbackground": true,
            "ticks": "",
            "zerolinecolor": "white"
           },
           "zaxis": {
            "backgroundcolor": "#E5ECF6",
            "gridcolor": "white",
            "gridwidth": 2,
            "linecolor": "white",
            "showbackground": true,
            "ticks": "",
            "zerolinecolor": "white"
           }
          },
          "shapedefaults": {
           "line": {
            "color": "#2a3f5f"
           }
          },
          "ternary": {
           "aaxis": {
            "gridcolor": "white",
            "linecolor": "white",
            "ticks": ""
           },
           "baxis": {
            "gridcolor": "white",
            "linecolor": "white",
            "ticks": ""
           },
           "bgcolor": "#E5ECF6",
           "caxis": {
            "gridcolor": "white",
            "linecolor": "white",
            "ticks": ""
           }
          },
          "title": {
           "x": 0.05
          },
          "xaxis": {
           "automargin": true,
           "gridcolor": "white",
           "linecolor": "white",
           "ticks": "",
           "title": {
            "standoff": 15
           },
           "zerolinecolor": "white",
           "zerolinewidth": 2
          },
          "yaxis": {
           "automargin": true,
           "gridcolor": "white",
           "linecolor": "white",
           "ticks": "",
           "title": {
            "standoff": 15
           },
           "zerolinecolor": "white",
           "zerolinewidth": 2
          }
         }
        },
        "xaxis": {
         "anchor": "y",
         "domain": [
          0,
          1
         ],
         "title": {
          "text": "Año"
         }
        },
        "yaxis": {
         "anchor": "x",
         "domain": [
          0,
          1
         ],
         "title": {
          "text": "Población de 65 años de edad y más, total"
         }
        }
       }
      }
     },
     "metadata": {},
     "output_type": "display_data"
    },
    {
     "data": {
      "application/vnd.plotly.v1+json": {
       "config": {
        "plotlyServerURL": "https://plot.ly"
       },
       "data": [
        {
         "hovertemplate": "Continente=América Central<br>Año=%{x}<br>Población entre 0 y 14 años de edad, hombres=%{y}<extra></extra>",
         "legendgroup": "América Central",
         "line": {
          "color": "#636efa",
          "dash": "solid"
         },
         "marker": {
          "symbol": "circle"
         },
         "mode": "lines",
         "name": "América Central",
         "orientation": "v",
         "showlegend": true,
         "type": "scatter",
         "x": [
          "1987",
          "1988",
          "1989",
          "1990",
          "1991",
          "1992",
          "1993",
          "1994",
          "1995",
          "1996",
          "1997",
          "1998",
          "1999",
          "2000",
          "2001",
          "2002",
          "2003",
          "2004",
          "2005",
          "2006",
          "2007",
          "2008",
          "2009",
          "2010",
          "2011",
          "2012",
          "2013",
          "2014",
          "2015",
          "2016",
          "2017",
          "2018",
          "2019",
          "2020",
          "2021",
          "2022"
         ],
         "xaxis": "x",
         "y": [
          911443.5,
          906323,
          905736,
          908869.5,
          913522,
          917983,
          922526,
          927157.5,
          931880.5,
          936263,
          937518.5,
          934506.5,
          929122.5,
          921781.5,
          912583.5,
          901890.5,
          889868.5,
          876304.5,
          861552.5,
          846865.5,
          833650,
          822850.5,
          814417,
          807082,
          799867.5,
          792533,
          785014.5,
          777248.5,
          769657.5,
          762017.5,
          754311.5,
          747888,
          742099.5,
          736040,
          729556,
          722204.5
         ],
         "yaxis": "y"
        },
        {
         "hovertemplate": "Continente=América del Norte<br>Año=%{x}<br>Población entre 0 y 14 años de edad, hombres=%{y}<extra></extra>",
         "legendgroup": "América del Norte",
         "line": {
          "color": "#EF553B",
          "dash": "solid"
         },
         "marker": {
          "symbol": "circle"
         },
         "mode": "lines",
         "name": "América del Norte",
         "orientation": "v",
         "showlegend": true,
         "type": "scatter",
         "x": [
          "1987",
          "1988",
          "1989",
          "1990",
          "1991",
          "1992",
          "1993",
          "1994",
          "1995",
          "1996",
          "1997",
          "1998",
          "1999",
          "2000",
          "2001",
          "2002",
          "2003",
          "2004",
          "2005",
          "2006",
          "2007",
          "2008",
          "2009",
          "2010",
          "2011",
          "2012",
          "2013",
          "2014",
          "2015",
          "2016",
          "2017",
          "2018",
          "2019",
          "2020",
          "2021",
          "2022"
         ],
         "xaxis": "x",
         "y": [
          15099723.666666666,
          15218887.333333334,
          15365274.666666666,
          15544409.666666666,
          15751029.333333334,
          15960734.333333334,
          16155909,
          16318372,
          16450803.666666666,
          16566361.333333334,
          16684695.333333334,
          16800727.666666668,
          16907463.666666668,
          16986435.333333332,
          17031125,
          17065705.666666668,
          17087403.333333332,
          17095718,
          17081134.333333332,
          17072754.666666668,
          17080724.333333332,
          17101742.333333332,
          17115508,
          17122669,
          17136543.666666668,
          17162277,
          17170869.666666668,
          17169901,
          17151233,
          17136257.333333332,
          17112557.666666668,
          17050838,
          16960226,
          16894127.333333332,
          16704208,
          16527502.333333334
         ],
         "yaxis": "y"
        },
        {
         "hovertemplate": "Continente=América del Sur<br>Año=%{x}<br>Población entre 0 y 14 años de edad, hombres=%{y}<extra></extra>",
         "legendgroup": "América del Sur",
         "line": {
          "color": "#00cc96",
          "dash": "solid"
         },
         "marker": {
          "symbol": "circle"
         },
         "mode": "lines",
         "name": "América del Sur",
         "orientation": "v",
         "showlegend": true,
         "type": "scatter",
         "x": [
          "1987",
          "1988",
          "1989",
          "1990",
          "1991",
          "1992",
          "1993",
          "1994",
          "1995",
          "1996",
          "1997",
          "1998",
          "1999",
          "2000",
          "2001",
          "2002",
          "2003",
          "2004",
          "2005",
          "2006",
          "2007",
          "2008",
          "2009",
          "2010",
          "2011",
          "2012",
          "2013",
          "2014",
          "2015",
          "2016",
          "2017",
          "2018",
          "2019",
          "2020",
          "2021",
          "2022"
         ],
         "xaxis": "x",
         "y": [
          8504113.2,
          8603677.4,
          8694225.2,
          8775005.2,
          8842801,
          8896457.4,
          8938607.8,
          8971942,
          8996913.2,
          9013239,
          9021563,
          9024359,
          9021564.6,
          9012378.4,
          8996927.2,
          8974010.4,
          8942599.4,
          8907372.2,
          8872024.6,
          8833465.4,
          8790384.2,
          8741186.8,
          8687195,
          8623820.6,
          8569871.4,
          8513910.4,
          8453933.2,
          8395588.4,
          8343951,
          8292417.6,
          8240961.6,
          8193892.4,
          8142313.6,
          8080223.4,
          8013340.6,
          7948775
         ],
         "yaxis": "y"
        },
        {
         "hovertemplate": "Continente=Asia<br>Año=%{x}<br>Población entre 0 y 14 años de edad, hombres=%{y}<extra></extra>",
         "legendgroup": "Asia",
         "line": {
          "color": "#ab63fa",
          "dash": "solid"
         },
         "marker": {
          "symbol": "circle"
         },
         "mode": "lines",
         "name": "Asia",
         "orientation": "v",
         "showlegend": true,
         "type": "scatter",
         "x": [
          "1987",
          "1988",
          "1989",
          "1990",
          "1991",
          "1992",
          "1993",
          "1994",
          "1995",
          "1996",
          "1997",
          "1998",
          "1999",
          "2000",
          "2001",
          "2002",
          "2003",
          "2004",
          "2005",
          "2006",
          "2007",
          "2008",
          "2009",
          "2010",
          "2011",
          "2012",
          "2013",
          "2014",
          "2015",
          "2016",
          "2017",
          "2018",
          "2019",
          "2020",
          "2021",
          "2022"
         ],
         "xaxis": "x",
         "y": [
          39421148.44444445,
          39749400.666666664,
          40126439.55555555,
          40634914.666666664,
          41137431,
          41587697,
          42032935.55555555,
          42388774.222222224,
          42634627.333333336,
          42779777.666666664,
          42806220,
          42804167.777777776,
          42791080.222222224,
          42693743,
          42489200.88888889,
          42176496.666666664,
          41833434,
          41460207.222222224,
          41022025.666666664,
          40683798.55555555,
          40518259.333333336,
          40424120.11111111,
          40373321.44444445,
          40337734.333333336,
          40321769.333333336,
          40373375,
          40438265.777777776,
          40469357.11111111,
          40424251.55555555,
          40354731.11111111,
          40324476.222222224,
          40202880.666666664,
          39957732.88888889,
          39590076,
          39102036.666666664,
          38550716.88888889
         ],
         "yaxis": "y"
        },
        {
         "hovertemplate": "Continente=Europa<br>Año=%{x}<br>Población entre 0 y 14 años de edad, hombres=%{y}<extra></extra>",
         "legendgroup": "Europa",
         "line": {
          "color": "#FFA15A",
          "dash": "solid"
         },
         "marker": {
          "symbol": "circle"
         },
         "mode": "lines",
         "name": "Europa",
         "orientation": "v",
         "showlegend": true,
         "type": "scatter",
         "x": [
          "1987",
          "1988",
          "1989",
          "1990",
          "1991",
          "1992",
          "1993",
          "1994",
          "1995",
          "1996",
          "1997",
          "1998",
          "1999",
          "2000",
          "2001",
          "2002",
          "2003",
          "2004",
          "2005",
          "2006",
          "2007",
          "2008",
          "2009",
          "2010",
          "2011",
          "2012",
          "2013",
          "2014",
          "2015",
          "2016",
          "2017",
          "2018",
          "2019",
          "2020",
          "2021",
          "2022"
         ],
         "xaxis": "x",
         "y": [
          3482972.6363636362,
          3489981.5454545454,
          3497832.909090909,
          3495224.909090909,
          3491956.727272727,
          3480049.8181818184,
          3458931.4545454546,
          3430712.1818181816,
          3395351.6363636362,
          3352724.272727273,
          3302902.727272727,
          3242871.5454545454,
          3177179.727272727,
          3111317.1818181816,
          3042012.090909091,
          2970419.1818181816,
          2912402.4545454546,
          2870546.4545454546,
          2833049.4545454546,
          2804405.5454545454,
          2793517.727272727,
          2798959.909090909,
          2811614.727272727,
          2823860,
          2831655.090909091,
          2857368.090909091,
          2885026.1818181816,
          2915771.8181818184,
          2952308.909090909,
          2990607.1818181816,
          3021411.6363636362,
          3038880.5454545454,
          3046582.727272727,
          3044305.3636363638,
          3035120.272727273,
          3031166.090909091
         ],
         "yaxis": "y"
        },
        {
         "hovertemplate": "Continente=Oceanía<br>Año=%{x}<br>Población entre 0 y 14 años de edad, hombres=%{y}<extra></extra>",
         "legendgroup": "Oceanía",
         "line": {
          "color": "#19d3f3",
          "dash": "solid"
         },
         "marker": {
          "symbol": "circle"
         },
         "mode": "lines",
         "name": "Oceanía",
         "orientation": "v",
         "showlegend": true,
         "type": "scatter",
         "x": [
          "1987",
          "1988",
          "1989",
          "1990",
          "1991",
          "1992",
          "1993",
          "1994",
          "1995",
          "1996",
          "1997",
          "1998",
          "1999",
          "2000",
          "2001",
          "2002",
          "2003",
          "2004",
          "2005",
          "2006",
          "2007",
          "2008",
          "2009",
          "2010",
          "2011",
          "2012",
          "2013",
          "2014",
          "2015",
          "2016",
          "2017",
          "2018",
          "2019",
          "2020",
          "2021",
          "2022"
         ],
         "xaxis": "x",
         "y": [
          619814.25,
          620652,
          624175.75,
          629102.25,
          637658.25,
          641721.75,
          645124.5,
          648855.5,
          652965,
          657107.25,
          659962,
          661773.5,
          663625.5,
          665526.25,
          667406.5,
          668970.75,
          670534.75,
          671198,
          672070.75,
          674215.25,
          679753,
          686998.5,
          695086,
          700885.75,
          706150,
          714524.75,
          723654.25,
          732269.75,
          741239.25,
          751476.75,
          761580.25,
          769416.75,
          775448.25,
          779729,
          774248.5,
          773730.75
         ],
         "yaxis": "y"
        },
        {
         "hovertemplate": "Continente=África<br>Año=%{x}<br>Población entre 0 y 14 años de edad, hombres=%{y}<extra></extra>",
         "legendgroup": "África",
         "line": {
          "color": "#FF6692",
          "dash": "solid"
         },
         "marker": {
          "symbol": "circle"
         },
         "mode": "lines",
         "name": "África",
         "orientation": "v",
         "showlegend": true,
         "type": "scatter",
         "x": [
          "1987",
          "1988",
          "1989",
          "1990",
          "1991",
          "1992",
          "1993",
          "1994",
          "1995",
          "1996",
          "1997",
          "1998",
          "1999",
          "2000",
          "2001",
          "2002",
          "2003",
          "2004",
          "2005",
          "2006",
          "2007",
          "2008",
          "2009",
          "2010",
          "2011",
          "2012",
          "2013",
          "2014",
          "2015",
          "2016",
          "2017",
          "2018",
          "2019",
          "2020",
          "2021",
          "2022"
         ],
         "xaxis": "x",
         "y": [
          4136035.4,
          4245894.5,
          4353895.5,
          4457673,
          4552194.1,
          4638181.9,
          4718303,
          4758221.8,
          4790251.7,
          4858119.3,
          4914208.9,
          4943821.4,
          4964687.3,
          4984629.8,
          5008703.9,
          5036420.3,
          5068407.5,
          5108408.2,
          5158025.1,
          5218471.3,
          5289851,
          5374002,
          5469121.5,
          5572822.5,
          5685866.6,
          5808822.4,
          5940907.9,
          6077753,
          6216145.1,
          6346676.8,
          6469953.6,
          6591613.7,
          6706685.1,
          6813246.5,
          6908875.6,
          6993583.6
         ],
         "yaxis": "y"
        }
       ],
       "layout": {
        "legend": {
         "title": {
          "text": "Continente"
         },
         "tracegroupgap": 0
        },
        "margin": {
         "t": 60
        },
        "template": {
         "data": {
          "bar": [
           {
            "error_x": {
             "color": "#2a3f5f"
            },
            "error_y": {
             "color": "#2a3f5f"
            },
            "marker": {
             "line": {
              "color": "#E5ECF6",
              "width": 0.5
             },
             "pattern": {
              "fillmode": "overlay",
              "size": 10,
              "solidity": 0.2
             }
            },
            "type": "bar"
           }
          ],
          "barpolar": [
           {
            "marker": {
             "line": {
              "color": "#E5ECF6",
              "width": 0.5
             },
             "pattern": {
              "fillmode": "overlay",
              "size": 10,
              "solidity": 0.2
             }
            },
            "type": "barpolar"
           }
          ],
          "carpet": [
           {
            "aaxis": {
             "endlinecolor": "#2a3f5f",
             "gridcolor": "white",
             "linecolor": "white",
             "minorgridcolor": "white",
             "startlinecolor": "#2a3f5f"
            },
            "baxis": {
             "endlinecolor": "#2a3f5f",
             "gridcolor": "white",
             "linecolor": "white",
             "minorgridcolor": "white",
             "startlinecolor": "#2a3f5f"
            },
            "type": "carpet"
           }
          ],
          "choropleth": [
           {
            "colorbar": {
             "outlinewidth": 0,
             "ticks": ""
            },
            "type": "choropleth"
           }
          ],
          "contour": [
           {
            "colorbar": {
             "outlinewidth": 0,
             "ticks": ""
            },
            "colorscale": [
             [
              0,
              "#0d0887"
             ],
             [
              0.1111111111111111,
              "#46039f"
             ],
             [
              0.2222222222222222,
              "#7201a8"
             ],
             [
              0.3333333333333333,
              "#9c179e"
             ],
             [
              0.4444444444444444,
              "#bd3786"
             ],
             [
              0.5555555555555556,
              "#d8576b"
             ],
             [
              0.6666666666666666,
              "#ed7953"
             ],
             [
              0.7777777777777778,
              "#fb9f3a"
             ],
             [
              0.8888888888888888,
              "#fdca26"
             ],
             [
              1,
              "#f0f921"
             ]
            ],
            "type": "contour"
           }
          ],
          "contourcarpet": [
           {
            "colorbar": {
             "outlinewidth": 0,
             "ticks": ""
            },
            "type": "contourcarpet"
           }
          ],
          "heatmap": [
           {
            "colorbar": {
             "outlinewidth": 0,
             "ticks": ""
            },
            "colorscale": [
             [
              0,
              "#0d0887"
             ],
             [
              0.1111111111111111,
              "#46039f"
             ],
             [
              0.2222222222222222,
              "#7201a8"
             ],
             [
              0.3333333333333333,
              "#9c179e"
             ],
             [
              0.4444444444444444,
              "#bd3786"
             ],
             [
              0.5555555555555556,
              "#d8576b"
             ],
             [
              0.6666666666666666,
              "#ed7953"
             ],
             [
              0.7777777777777778,
              "#fb9f3a"
             ],
             [
              0.8888888888888888,
              "#fdca26"
             ],
             [
              1,
              "#f0f921"
             ]
            ],
            "type": "heatmap"
           }
          ],
          "heatmapgl": [
           {
            "colorbar": {
             "outlinewidth": 0,
             "ticks": ""
            },
            "colorscale": [
             [
              0,
              "#0d0887"
             ],
             [
              0.1111111111111111,
              "#46039f"
             ],
             [
              0.2222222222222222,
              "#7201a8"
             ],
             [
              0.3333333333333333,
              "#9c179e"
             ],
             [
              0.4444444444444444,
              "#bd3786"
             ],
             [
              0.5555555555555556,
              "#d8576b"
             ],
             [
              0.6666666666666666,
              "#ed7953"
             ],
             [
              0.7777777777777778,
              "#fb9f3a"
             ],
             [
              0.8888888888888888,
              "#fdca26"
             ],
             [
              1,
              "#f0f921"
             ]
            ],
            "type": "heatmapgl"
           }
          ],
          "histogram": [
           {
            "marker": {
             "pattern": {
              "fillmode": "overlay",
              "size": 10,
              "solidity": 0.2
             }
            },
            "type": "histogram"
           }
          ],
          "histogram2d": [
           {
            "colorbar": {
             "outlinewidth": 0,
             "ticks": ""
            },
            "colorscale": [
             [
              0,
              "#0d0887"
             ],
             [
              0.1111111111111111,
              "#46039f"
             ],
             [
              0.2222222222222222,
              "#7201a8"
             ],
             [
              0.3333333333333333,
              "#9c179e"
             ],
             [
              0.4444444444444444,
              "#bd3786"
             ],
             [
              0.5555555555555556,
              "#d8576b"
             ],
             [
              0.6666666666666666,
              "#ed7953"
             ],
             [
              0.7777777777777778,
              "#fb9f3a"
             ],
             [
              0.8888888888888888,
              "#fdca26"
             ],
             [
              1,
              "#f0f921"
             ]
            ],
            "type": "histogram2d"
           }
          ],
          "histogram2dcontour": [
           {
            "colorbar": {
             "outlinewidth": 0,
             "ticks": ""
            },
            "colorscale": [
             [
              0,
              "#0d0887"
             ],
             [
              0.1111111111111111,
              "#46039f"
             ],
             [
              0.2222222222222222,
              "#7201a8"
             ],
             [
              0.3333333333333333,
              "#9c179e"
             ],
             [
              0.4444444444444444,
              "#bd3786"
             ],
             [
              0.5555555555555556,
              "#d8576b"
             ],
             [
              0.6666666666666666,
              "#ed7953"
             ],
             [
              0.7777777777777778,
              "#fb9f3a"
             ],
             [
              0.8888888888888888,
              "#fdca26"
             ],
             [
              1,
              "#f0f921"
             ]
            ],
            "type": "histogram2dcontour"
           }
          ],
          "mesh3d": [
           {
            "colorbar": {
             "outlinewidth": 0,
             "ticks": ""
            },
            "type": "mesh3d"
           }
          ],
          "parcoords": [
           {
            "line": {
             "colorbar": {
              "outlinewidth": 0,
              "ticks": ""
             }
            },
            "type": "parcoords"
           }
          ],
          "pie": [
           {
            "automargin": true,
            "type": "pie"
           }
          ],
          "scatter": [
           {
            "fillpattern": {
             "fillmode": "overlay",
             "size": 10,
             "solidity": 0.2
            },
            "type": "scatter"
           }
          ],
          "scatter3d": [
           {
            "line": {
             "colorbar": {
              "outlinewidth": 0,
              "ticks": ""
             }
            },
            "marker": {
             "colorbar": {
              "outlinewidth": 0,
              "ticks": ""
             }
            },
            "type": "scatter3d"
           }
          ],
          "scattercarpet": [
           {
            "marker": {
             "colorbar": {
              "outlinewidth": 0,
              "ticks": ""
             }
            },
            "type": "scattercarpet"
           }
          ],
          "scattergeo": [
           {
            "marker": {
             "colorbar": {
              "outlinewidth": 0,
              "ticks": ""
             }
            },
            "type": "scattergeo"
           }
          ],
          "scattergl": [
           {
            "marker": {
             "colorbar": {
              "outlinewidth": 0,
              "ticks": ""
             }
            },
            "type": "scattergl"
           }
          ],
          "scattermapbox": [
           {
            "marker": {
             "colorbar": {
              "outlinewidth": 0,
              "ticks": ""
             }
            },
            "type": "scattermapbox"
           }
          ],
          "scatterpolar": [
           {
            "marker": {
             "colorbar": {
              "outlinewidth": 0,
              "ticks": ""
             }
            },
            "type": "scatterpolar"
           }
          ],
          "scatterpolargl": [
           {
            "marker": {
             "colorbar": {
              "outlinewidth": 0,
              "ticks": ""
             }
            },
            "type": "scatterpolargl"
           }
          ],
          "scatterternary": [
           {
            "marker": {
             "colorbar": {
              "outlinewidth": 0,
              "ticks": ""
             }
            },
            "type": "scatterternary"
           }
          ],
          "surface": [
           {
            "colorbar": {
             "outlinewidth": 0,
             "ticks": ""
            },
            "colorscale": [
             [
              0,
              "#0d0887"
             ],
             [
              0.1111111111111111,
              "#46039f"
             ],
             [
              0.2222222222222222,
              "#7201a8"
             ],
             [
              0.3333333333333333,
              "#9c179e"
             ],
             [
              0.4444444444444444,
              "#bd3786"
             ],
             [
              0.5555555555555556,
              "#d8576b"
             ],
             [
              0.6666666666666666,
              "#ed7953"
             ],
             [
              0.7777777777777778,
              "#fb9f3a"
             ],
             [
              0.8888888888888888,
              "#fdca26"
             ],
             [
              1,
              "#f0f921"
             ]
            ],
            "type": "surface"
           }
          ],
          "table": [
           {
            "cells": {
             "fill": {
              "color": "#EBF0F8"
             },
             "line": {
              "color": "white"
             }
            },
            "header": {
             "fill": {
              "color": "#C8D4E3"
             },
             "line": {
              "color": "white"
             }
            },
            "type": "table"
           }
          ]
         },
         "layout": {
          "annotationdefaults": {
           "arrowcolor": "#2a3f5f",
           "arrowhead": 0,
           "arrowwidth": 1
          },
          "autotypenumbers": "strict",
          "coloraxis": {
           "colorbar": {
            "outlinewidth": 0,
            "ticks": ""
           }
          },
          "colorscale": {
           "diverging": [
            [
             0,
             "#8e0152"
            ],
            [
             0.1,
             "#c51b7d"
            ],
            [
             0.2,
             "#de77ae"
            ],
            [
             0.3,
             "#f1b6da"
            ],
            [
             0.4,
             "#fde0ef"
            ],
            [
             0.5,
             "#f7f7f7"
            ],
            [
             0.6,
             "#e6f5d0"
            ],
            [
             0.7,
             "#b8e186"
            ],
            [
             0.8,
             "#7fbc41"
            ],
            [
             0.9,
             "#4d9221"
            ],
            [
             1,
             "#276419"
            ]
           ],
           "sequential": [
            [
             0,
             "#0d0887"
            ],
            [
             0.1111111111111111,
             "#46039f"
            ],
            [
             0.2222222222222222,
             "#7201a8"
            ],
            [
             0.3333333333333333,
             "#9c179e"
            ],
            [
             0.4444444444444444,
             "#bd3786"
            ],
            [
             0.5555555555555556,
             "#d8576b"
            ],
            [
             0.6666666666666666,
             "#ed7953"
            ],
            [
             0.7777777777777778,
             "#fb9f3a"
            ],
            [
             0.8888888888888888,
             "#fdca26"
            ],
            [
             1,
             "#f0f921"
            ]
           ],
           "sequentialminus": [
            [
             0,
             "#0d0887"
            ],
            [
             0.1111111111111111,
             "#46039f"
            ],
            [
             0.2222222222222222,
             "#7201a8"
            ],
            [
             0.3333333333333333,
             "#9c179e"
            ],
            [
             0.4444444444444444,
             "#bd3786"
            ],
            [
             0.5555555555555556,
             "#d8576b"
            ],
            [
             0.6666666666666666,
             "#ed7953"
            ],
            [
             0.7777777777777778,
             "#fb9f3a"
            ],
            [
             0.8888888888888888,
             "#fdca26"
            ],
            [
             1,
             "#f0f921"
            ]
           ]
          },
          "colorway": [
           "#636efa",
           "#EF553B",
           "#00cc96",
           "#ab63fa",
           "#FFA15A",
           "#19d3f3",
           "#FF6692",
           "#B6E880",
           "#FF97FF",
           "#FECB52"
          ],
          "font": {
           "color": "#2a3f5f"
          },
          "geo": {
           "bgcolor": "white",
           "lakecolor": "white",
           "landcolor": "#E5ECF6",
           "showlakes": true,
           "showland": true,
           "subunitcolor": "white"
          },
          "hoverlabel": {
           "align": "left"
          },
          "hovermode": "closest",
          "mapbox": {
           "style": "light"
          },
          "paper_bgcolor": "white",
          "plot_bgcolor": "#E5ECF6",
          "polar": {
           "angularaxis": {
            "gridcolor": "white",
            "linecolor": "white",
            "ticks": ""
           },
           "bgcolor": "#E5ECF6",
           "radialaxis": {
            "gridcolor": "white",
            "linecolor": "white",
            "ticks": ""
           }
          },
          "scene": {
           "xaxis": {
            "backgroundcolor": "#E5ECF6",
            "gridcolor": "white",
            "gridwidth": 2,
            "linecolor": "white",
            "showbackground": true,
            "ticks": "",
            "zerolinecolor": "white"
           },
           "yaxis": {
            "backgroundcolor": "#E5ECF6",
            "gridcolor": "white",
            "gridwidth": 2,
            "linecolor": "white",
            "showbackground": true,
            "ticks": "",
            "zerolinecolor": "white"
           },
           "zaxis": {
            "backgroundcolor": "#E5ECF6",
            "gridcolor": "white",
            "gridwidth": 2,
            "linecolor": "white",
            "showbackground": true,
            "ticks": "",
            "zerolinecolor": "white"
           }
          },
          "shapedefaults": {
           "line": {
            "color": "#2a3f5f"
           }
          },
          "ternary": {
           "aaxis": {
            "gridcolor": "white",
            "linecolor": "white",
            "ticks": ""
           },
           "baxis": {
            "gridcolor": "white",
            "linecolor": "white",
            "ticks": ""
           },
           "bgcolor": "#E5ECF6",
           "caxis": {
            "gridcolor": "white",
            "linecolor": "white",
            "ticks": ""
           }
          },
          "title": {
           "x": 0.05
          },
          "xaxis": {
           "automargin": true,
           "gridcolor": "white",
           "linecolor": "white",
           "ticks": "",
           "title": {
            "standoff": 15
           },
           "zerolinecolor": "white",
           "zerolinewidth": 2
          },
          "yaxis": {
           "automargin": true,
           "gridcolor": "white",
           "linecolor": "white",
           "ticks": "",
           "title": {
            "standoff": 15
           },
           "zerolinecolor": "white",
           "zerolinewidth": 2
          }
         }
        },
        "xaxis": {
         "anchor": "y",
         "domain": [
          0,
          1
         ],
         "title": {
          "text": "Año"
         }
        },
        "yaxis": {
         "anchor": "x",
         "domain": [
          0,
          1
         ],
         "title": {
          "text": "Población entre 0 y 14 años de edad, hombres"
         }
        }
       }
      }
     },
     "metadata": {},
     "output_type": "display_data"
    },
    {
     "data": {
      "application/vnd.plotly.v1+json": {
       "config": {
        "plotlyServerURL": "https://plot.ly"
       },
       "data": [
        {
         "hovertemplate": "Continente=América Central<br>Año=%{x}<br>Población entre 0 y 14 años de edad, mujeres=%{y}<extra></extra>",
         "legendgroup": "América Central",
         "line": {
          "color": "#636efa",
          "dash": "solid"
         },
         "marker": {
          "symbol": "circle"
         },
         "mode": "lines",
         "name": "América Central",
         "orientation": "v",
         "showlegend": true,
         "type": "scatter",
         "x": [
          "1987",
          "1988",
          "1989",
          "1990",
          "1991",
          "1992",
          "1993",
          "1994",
          "1995",
          "1996",
          "1997",
          "1998",
          "1999",
          "2000",
          "2001",
          "2002",
          "2003",
          "2004",
          "2005",
          "2006",
          "2007",
          "2008",
          "2009",
          "2010",
          "2011",
          "2012",
          "2013",
          "2014",
          "2015",
          "2016",
          "2017",
          "2018",
          "2019",
          "2020",
          "2021",
          "2022"
         ],
         "xaxis": "x",
         "y": [
          863918.5,
          858175,
          856479,
          858213.5,
          861420.5,
          864544.5,
          867811.5,
          871614,
          876054.5,
          880274.5,
          881776.5,
          879731,
          875873,
          870468,
          863471.5,
          854801.5,
          843768,
          830573,
          816357,
          802521.5,
          790371,
          780407.5,
          772359,
          765292,
          758792,
          752196,
          745014.5,
          737367,
          729673.5,
          721822.5,
          713966,
          707402,
          701526.5,
          695511.5,
          689193,
          682104
         ],
         "yaxis": "y"
        },
        {
         "hovertemplate": "Continente=América del Norte<br>Año=%{x}<br>Población entre 0 y 14 años de edad, mujeres=%{y}<extra></extra>",
         "legendgroup": "América del Norte",
         "line": {
          "color": "#EF553B",
          "dash": "solid"
         },
         "marker": {
          "symbol": "circle"
         },
         "mode": "lines",
         "name": "América del Norte",
         "orientation": "v",
         "showlegend": true,
         "type": "scatter",
         "x": [
          "1987",
          "1988",
          "1989",
          "1990",
          "1991",
          "1992",
          "1993",
          "1994",
          "1995",
          "1996",
          "1997",
          "1998",
          "1999",
          "2000",
          "2001",
          "2002",
          "2003",
          "2004",
          "2005",
          "2006",
          "2007",
          "2008",
          "2009",
          "2010",
          "2011",
          "2012",
          "2013",
          "2014",
          "2015",
          "2016",
          "2017",
          "2018",
          "2019",
          "2020",
          "2021",
          "2022"
         ],
         "xaxis": "x",
         "y": [
          14537217.333333334,
          14643064,
          14774212.666666666,
          14941001.666666666,
          15143766.666666666,
          15351316,
          15540880,
          15696012.333333334,
          15818743,
          15922176.666666666,
          16026029.666666666,
          16126903.333333334,
          16221089,
          16297224.333333334,
          16345010.666666666,
          16381548,
          16406239,
          16417616.666666666,
          16405279.666666666,
          16396643.666666666,
          16403672.333333334,
          16425201.333333334,
          16440699,
          16449007.666666666,
          16459411,
          16480385.666666666,
          16487649.666666666,
          16486767.333333334,
          16470135.666666666,
          16454066.333333334,
          16427478.333333334,
          16367900.666666666,
          16279834.333333334,
          16213310,
          16030409.333333334,
          15861923.666666666
         ],
         "yaxis": "y"
        },
        {
         "hovertemplate": "Continente=América del Sur<br>Año=%{x}<br>Población entre 0 y 14 años de edad, mujeres=%{y}<extra></extra>",
         "legendgroup": "América del Sur",
         "line": {
          "color": "#00cc96",
          "dash": "solid"
         },
         "marker": {
          "symbol": "circle"
         },
         "mode": "lines",
         "name": "América del Sur",
         "orientation": "v",
         "showlegend": true,
         "type": "scatter",
         "x": [
          "1987",
          "1988",
          "1989",
          "1990",
          "1991",
          "1992",
          "1993",
          "1994",
          "1995",
          "1996",
          "1997",
          "1998",
          "1999",
          "2000",
          "2001",
          "2002",
          "2003",
          "2004",
          "2005",
          "2006",
          "2007",
          "2008",
          "2009",
          "2010",
          "2011",
          "2012",
          "2013",
          "2014",
          "2015",
          "2016",
          "2017",
          "2018",
          "2019",
          "2020",
          "2021",
          "2022"
         ],
         "xaxis": "x",
         "y": [
          8262803.2,
          8353644.6,
          8435595.6,
          8508370.6,
          8568782.8,
          8615387.2,
          8650880,
          8677750,
          8696493,
          8706941,
          8709743.4,
          8707452.6,
          8700085.8,
          8686924.2,
          8668018.2,
          8641949.6,
          8607740.2,
          8570106.6,
          8532622.8,
          8492280.4,
          8447855,
          8397817.8,
          8343074.2,
          8279057.8,
          8224009,
          8167233.6,
          8106929.8,
          8048550.8,
          7996894,
          7945673.8,
          7894885.6,
          7848584.8,
          7798292.8,
          7738412.2,
          7674233,
          7612417.6
         ],
         "yaxis": "y"
        },
        {
         "hovertemplate": "Continente=Asia<br>Año=%{x}<br>Población entre 0 y 14 años de edad, mujeres=%{y}<extra></extra>",
         "legendgroup": "Asia",
         "line": {
          "color": "#ab63fa",
          "dash": "solid"
         },
         "marker": {
          "symbol": "circle"
         },
         "mode": "lines",
         "name": "Asia",
         "orientation": "v",
         "showlegend": true,
         "type": "scatter",
         "x": [
          "1987",
          "1988",
          "1989",
          "1990",
          "1991",
          "1992",
          "1993",
          "1994",
          "1995",
          "1996",
          "1997",
          "1998",
          "1999",
          "2000",
          "2001",
          "2002",
          "2003",
          "2004",
          "2005",
          "2006",
          "2007",
          "2008",
          "2009",
          "2010",
          "2011",
          "2012",
          "2013",
          "2014",
          "2015",
          "2016",
          "2017",
          "2018",
          "2019",
          "2020",
          "2021",
          "2022"
         ],
         "xaxis": "x",
         "y": [
          36801766.11111111,
          37050870.55555555,
          37341736.666666664,
          37749216.11111111,
          38147116.11111111,
          38495046.666666664,
          38832675.88888889,
          39079111.777777776,
          39215959.88888889,
          39254311.222222224,
          39178722.11111111,
          39074394.88888889,
          38962409.88888889,
          38773735.11111111,
          38490701.222222224,
          38119134.44444445,
          37726125.44444445,
          37307403.777777776,
          36834482.55555555,
          36461571.55555555,
          36254320.88888889,
          36121232.55555555,
          36039727.55555555,
          35983789,
          35955919.88888889,
          35998850,
          36064322.777777776,
          36107508.222222224,
          36090113.777777776,
          36057150.666666664,
          36062033,
          35992327,
          35821274.666666664,
          35548633.11111111,
          35174547.55555555,
          34749166.11111111
         ],
         "yaxis": "y"
        },
        {
         "hovertemplate": "Continente=Europa<br>Año=%{x}<br>Población entre 0 y 14 años de edad, mujeres=%{y}<extra></extra>",
         "legendgroup": "Europa",
         "line": {
          "color": "#FFA15A",
          "dash": "solid"
         },
         "marker": {
          "symbol": "circle"
         },
         "mode": "lines",
         "name": "Europa",
         "orientation": "v",
         "showlegend": true,
         "type": "scatter",
         "x": [
          "1987",
          "1988",
          "1989",
          "1990",
          "1991",
          "1992",
          "1993",
          "1994",
          "1995",
          "1996",
          "1997",
          "1998",
          "1999",
          "2000",
          "2001",
          "2002",
          "2003",
          "2004",
          "2005",
          "2006",
          "2007",
          "2008",
          "2009",
          "2010",
          "2011",
          "2012",
          "2013",
          "2014",
          "2015",
          "2016",
          "2017",
          "2018",
          "2019",
          "2020",
          "2021",
          "2022"
         ],
         "xaxis": "x",
         "y": [
          3338855.1818181816,
          3346125.1818181816,
          3352805.272727273,
          3348340.4545454546,
          3343616.8181818184,
          3330573.8181818184,
          3308442.8181818184,
          3279898.8181818184,
          3244733.1818181816,
          3202437.6363636362,
          3153615,
          3095576.090909091,
          3031811.6363636362,
          2967467.6363636362,
          2900309.6363636362,
          2831345.727272727,
          2774740.1818181816,
          2733747.272727273,
          2698315.5454545454,
          2670600.727272727,
          2657782.4545454546,
          2660825.909090909,
          2671903.090909091,
          2683156.4545454546,
          2690070.1818181816,
          2713444.909090909,
          2738797.6363636362,
          2767352.909090909,
          2801469.1818181816,
          2837162.3636363638,
          2865707.8181818184,
          2881573.272727273,
          2888095.3636363638,
          2885096,
          2875817.272727273,
          2872272
         ],
         "yaxis": "y"
        },
        {
         "hovertemplate": "Continente=Oceanía<br>Año=%{x}<br>Población entre 0 y 14 años de edad, mujeres=%{y}<extra></extra>",
         "legendgroup": "Oceanía",
         "line": {
          "color": "#19d3f3",
          "dash": "solid"
         },
         "marker": {
          "symbol": "circle"
         },
         "mode": "lines",
         "name": "Oceanía",
         "orientation": "v",
         "showlegend": true,
         "type": "scatter",
         "x": [
          "1987",
          "1988",
          "1989",
          "1990",
          "1991",
          "1992",
          "1993",
          "1994",
          "1995",
          "1996",
          "1997",
          "1998",
          "1999",
          "2000",
          "2001",
          "2002",
          "2003",
          "2004",
          "2005",
          "2006",
          "2007",
          "2008",
          "2009",
          "2010",
          "2011",
          "2012",
          "2013",
          "2014",
          "2015",
          "2016",
          "2017",
          "2018",
          "2019",
          "2020",
          "2021",
          "2022"
         ],
         "xaxis": "x",
         "y": [
          589617.5,
          590091.75,
          593273.75,
          597701.75,
          605412.75,
          609054.5,
          612265.25,
          615789.25,
          619672,
          623616.75,
          626482.5,
          628335,
          630053.75,
          631701,
          633381.75,
          634816.75,
          636117,
          636502,
          637281,
          639497.75,
          644873,
          651718.25,
          659390.5,
          665014.75,
          670107.5,
          677953,
          686499,
          694863.75,
          703762.5,
          713787.5,
          723536,
          730793,
          735947,
          739694.75,
          734546,
          734008
         ],
         "yaxis": "y"
        },
        {
         "hovertemplate": "Continente=África<br>Año=%{x}<br>Población entre 0 y 14 años de edad, mujeres=%{y}<extra></extra>",
         "legendgroup": "África",
         "line": {
          "color": "#FF6692",
          "dash": "solid"
         },
         "marker": {
          "symbol": "circle"
         },
         "mode": "lines",
         "name": "África",
         "orientation": "v",
         "showlegend": true,
         "type": "scatter",
         "x": [
          "1987",
          "1988",
          "1989",
          "1990",
          "1991",
          "1992",
          "1993",
          "1994",
          "1995",
          "1996",
          "1997",
          "1998",
          "1999",
          "2000",
          "2001",
          "2002",
          "2003",
          "2004",
          "2005",
          "2006",
          "2007",
          "2008",
          "2009",
          "2010",
          "2011",
          "2012",
          "2013",
          "2014",
          "2015",
          "2016",
          "2017",
          "2018",
          "2019",
          "2020",
          "2021",
          "2022"
         ],
         "xaxis": "x",
         "y": [
          3987382.5,
          4095642.2,
          4202122.9,
          4304444.3,
          4397609.5,
          4482808.3,
          4562577.2,
          4602073.9,
          4634333.8,
          4699797.7,
          4749749.7,
          4776305,
          4797426.6,
          4816811,
          4839451.6,
          4865258.7,
          4895168.7,
          4933926.1,
          4983101,
          5043018.5,
          5113354.1,
          5195594.4,
          5287868.6,
          5388123.1,
          5497499.8,
          5616571.8,
          5744360.1,
          5876859.6,
          6011310.1,
          6138049.8,
          6257134.5,
          6374165.2,
          6484154.2,
          6585303.9,
          6676254.3,
          6757181.8
         ],
         "yaxis": "y"
        }
       ],
       "layout": {
        "legend": {
         "title": {
          "text": "Continente"
         },
         "tracegroupgap": 0
        },
        "margin": {
         "t": 60
        },
        "template": {
         "data": {
          "bar": [
           {
            "error_x": {
             "color": "#2a3f5f"
            },
            "error_y": {
             "color": "#2a3f5f"
            },
            "marker": {
             "line": {
              "color": "#E5ECF6",
              "width": 0.5
             },
             "pattern": {
              "fillmode": "overlay",
              "size": 10,
              "solidity": 0.2
             }
            },
            "type": "bar"
           }
          ],
          "barpolar": [
           {
            "marker": {
             "line": {
              "color": "#E5ECF6",
              "width": 0.5
             },
             "pattern": {
              "fillmode": "overlay",
              "size": 10,
              "solidity": 0.2
             }
            },
            "type": "barpolar"
           }
          ],
          "carpet": [
           {
            "aaxis": {
             "endlinecolor": "#2a3f5f",
             "gridcolor": "white",
             "linecolor": "white",
             "minorgridcolor": "white",
             "startlinecolor": "#2a3f5f"
            },
            "baxis": {
             "endlinecolor": "#2a3f5f",
             "gridcolor": "white",
             "linecolor": "white",
             "minorgridcolor": "white",
             "startlinecolor": "#2a3f5f"
            },
            "type": "carpet"
           }
          ],
          "choropleth": [
           {
            "colorbar": {
             "outlinewidth": 0,
             "ticks": ""
            },
            "type": "choropleth"
           }
          ],
          "contour": [
           {
            "colorbar": {
             "outlinewidth": 0,
             "ticks": ""
            },
            "colorscale": [
             [
              0,
              "#0d0887"
             ],
             [
              0.1111111111111111,
              "#46039f"
             ],
             [
              0.2222222222222222,
              "#7201a8"
             ],
             [
              0.3333333333333333,
              "#9c179e"
             ],
             [
              0.4444444444444444,
              "#bd3786"
             ],
             [
              0.5555555555555556,
              "#d8576b"
             ],
             [
              0.6666666666666666,
              "#ed7953"
             ],
             [
              0.7777777777777778,
              "#fb9f3a"
             ],
             [
              0.8888888888888888,
              "#fdca26"
             ],
             [
              1,
              "#f0f921"
             ]
            ],
            "type": "contour"
           }
          ],
          "contourcarpet": [
           {
            "colorbar": {
             "outlinewidth": 0,
             "ticks": ""
            },
            "type": "contourcarpet"
           }
          ],
          "heatmap": [
           {
            "colorbar": {
             "outlinewidth": 0,
             "ticks": ""
            },
            "colorscale": [
             [
              0,
              "#0d0887"
             ],
             [
              0.1111111111111111,
              "#46039f"
             ],
             [
              0.2222222222222222,
              "#7201a8"
             ],
             [
              0.3333333333333333,
              "#9c179e"
             ],
             [
              0.4444444444444444,
              "#bd3786"
             ],
             [
              0.5555555555555556,
              "#d8576b"
             ],
             [
              0.6666666666666666,
              "#ed7953"
             ],
             [
              0.7777777777777778,
              "#fb9f3a"
             ],
             [
              0.8888888888888888,
              "#fdca26"
             ],
             [
              1,
              "#f0f921"
             ]
            ],
            "type": "heatmap"
           }
          ],
          "heatmapgl": [
           {
            "colorbar": {
             "outlinewidth": 0,
             "ticks": ""
            },
            "colorscale": [
             [
              0,
              "#0d0887"
             ],
             [
              0.1111111111111111,
              "#46039f"
             ],
             [
              0.2222222222222222,
              "#7201a8"
             ],
             [
              0.3333333333333333,
              "#9c179e"
             ],
             [
              0.4444444444444444,
              "#bd3786"
             ],
             [
              0.5555555555555556,
              "#d8576b"
             ],
             [
              0.6666666666666666,
              "#ed7953"
             ],
             [
              0.7777777777777778,
              "#fb9f3a"
             ],
             [
              0.8888888888888888,
              "#fdca26"
             ],
             [
              1,
              "#f0f921"
             ]
            ],
            "type": "heatmapgl"
           }
          ],
          "histogram": [
           {
            "marker": {
             "pattern": {
              "fillmode": "overlay",
              "size": 10,
              "solidity": 0.2
             }
            },
            "type": "histogram"
           }
          ],
          "histogram2d": [
           {
            "colorbar": {
             "outlinewidth": 0,
             "ticks": ""
            },
            "colorscale": [
             [
              0,
              "#0d0887"
             ],
             [
              0.1111111111111111,
              "#46039f"
             ],
             [
              0.2222222222222222,
              "#7201a8"
             ],
             [
              0.3333333333333333,
              "#9c179e"
             ],
             [
              0.4444444444444444,
              "#bd3786"
             ],
             [
              0.5555555555555556,
              "#d8576b"
             ],
             [
              0.6666666666666666,
              "#ed7953"
             ],
             [
              0.7777777777777778,
              "#fb9f3a"
             ],
             [
              0.8888888888888888,
              "#fdca26"
             ],
             [
              1,
              "#f0f921"
             ]
            ],
            "type": "histogram2d"
           }
          ],
          "histogram2dcontour": [
           {
            "colorbar": {
             "outlinewidth": 0,
             "ticks": ""
            },
            "colorscale": [
             [
              0,
              "#0d0887"
             ],
             [
              0.1111111111111111,
              "#46039f"
             ],
             [
              0.2222222222222222,
              "#7201a8"
             ],
             [
              0.3333333333333333,
              "#9c179e"
             ],
             [
              0.4444444444444444,
              "#bd3786"
             ],
             [
              0.5555555555555556,
              "#d8576b"
             ],
             [
              0.6666666666666666,
              "#ed7953"
             ],
             [
              0.7777777777777778,
              "#fb9f3a"
             ],
             [
              0.8888888888888888,
              "#fdca26"
             ],
             [
              1,
              "#f0f921"
             ]
            ],
            "type": "histogram2dcontour"
           }
          ],
          "mesh3d": [
           {
            "colorbar": {
             "outlinewidth": 0,
             "ticks": ""
            },
            "type": "mesh3d"
           }
          ],
          "parcoords": [
           {
            "line": {
             "colorbar": {
              "outlinewidth": 0,
              "ticks": ""
             }
            },
            "type": "parcoords"
           }
          ],
          "pie": [
           {
            "automargin": true,
            "type": "pie"
           }
          ],
          "scatter": [
           {
            "fillpattern": {
             "fillmode": "overlay",
             "size": 10,
             "solidity": 0.2
            },
            "type": "scatter"
           }
          ],
          "scatter3d": [
           {
            "line": {
             "colorbar": {
              "outlinewidth": 0,
              "ticks": ""
             }
            },
            "marker": {
             "colorbar": {
              "outlinewidth": 0,
              "ticks": ""
             }
            },
            "type": "scatter3d"
           }
          ],
          "scattercarpet": [
           {
            "marker": {
             "colorbar": {
              "outlinewidth": 0,
              "ticks": ""
             }
            },
            "type": "scattercarpet"
           }
          ],
          "scattergeo": [
           {
            "marker": {
             "colorbar": {
              "outlinewidth": 0,
              "ticks": ""
             }
            },
            "type": "scattergeo"
           }
          ],
          "scattergl": [
           {
            "marker": {
             "colorbar": {
              "outlinewidth": 0,
              "ticks": ""
             }
            },
            "type": "scattergl"
           }
          ],
          "scattermapbox": [
           {
            "marker": {
             "colorbar": {
              "outlinewidth": 0,
              "ticks": ""
             }
            },
            "type": "scattermapbox"
           }
          ],
          "scatterpolar": [
           {
            "marker": {
             "colorbar": {
              "outlinewidth": 0,
              "ticks": ""
             }
            },
            "type": "scatterpolar"
           }
          ],
          "scatterpolargl": [
           {
            "marker": {
             "colorbar": {
              "outlinewidth": 0,
              "ticks": ""
             }
            },
            "type": "scatterpolargl"
           }
          ],
          "scatterternary": [
           {
            "marker": {
             "colorbar": {
              "outlinewidth": 0,
              "ticks": ""
             }
            },
            "type": "scatterternary"
           }
          ],
          "surface": [
           {
            "colorbar": {
             "outlinewidth": 0,
             "ticks": ""
            },
            "colorscale": [
             [
              0,
              "#0d0887"
             ],
             [
              0.1111111111111111,
              "#46039f"
             ],
             [
              0.2222222222222222,
              "#7201a8"
             ],
             [
              0.3333333333333333,
              "#9c179e"
             ],
             [
              0.4444444444444444,
              "#bd3786"
             ],
             [
              0.5555555555555556,
              "#d8576b"
             ],
             [
              0.6666666666666666,
              "#ed7953"
             ],
             [
              0.7777777777777778,
              "#fb9f3a"
             ],
             [
              0.8888888888888888,
              "#fdca26"
             ],
             [
              1,
              "#f0f921"
             ]
            ],
            "type": "surface"
           }
          ],
          "table": [
           {
            "cells": {
             "fill": {
              "color": "#EBF0F8"
             },
             "line": {
              "color": "white"
             }
            },
            "header": {
             "fill": {
              "color": "#C8D4E3"
             },
             "line": {
              "color": "white"
             }
            },
            "type": "table"
           }
          ]
         },
         "layout": {
          "annotationdefaults": {
           "arrowcolor": "#2a3f5f",
           "arrowhead": 0,
           "arrowwidth": 1
          },
          "autotypenumbers": "strict",
          "coloraxis": {
           "colorbar": {
            "outlinewidth": 0,
            "ticks": ""
           }
          },
          "colorscale": {
           "diverging": [
            [
             0,
             "#8e0152"
            ],
            [
             0.1,
             "#c51b7d"
            ],
            [
             0.2,
             "#de77ae"
            ],
            [
             0.3,
             "#f1b6da"
            ],
            [
             0.4,
             "#fde0ef"
            ],
            [
             0.5,
             "#f7f7f7"
            ],
            [
             0.6,
             "#e6f5d0"
            ],
            [
             0.7,
             "#b8e186"
            ],
            [
             0.8,
             "#7fbc41"
            ],
            [
             0.9,
             "#4d9221"
            ],
            [
             1,
             "#276419"
            ]
           ],
           "sequential": [
            [
             0,
             "#0d0887"
            ],
            [
             0.1111111111111111,
             "#46039f"
            ],
            [
             0.2222222222222222,
             "#7201a8"
            ],
            [
             0.3333333333333333,
             "#9c179e"
            ],
            [
             0.4444444444444444,
             "#bd3786"
            ],
            [
             0.5555555555555556,
             "#d8576b"
            ],
            [
             0.6666666666666666,
             "#ed7953"
            ],
            [
             0.7777777777777778,
             "#fb9f3a"
            ],
            [
             0.8888888888888888,
             "#fdca26"
            ],
            [
             1,
             "#f0f921"
            ]
           ],
           "sequentialminus": [
            [
             0,
             "#0d0887"
            ],
            [
             0.1111111111111111,
             "#46039f"
            ],
            [
             0.2222222222222222,
             "#7201a8"
            ],
            [
             0.3333333333333333,
             "#9c179e"
            ],
            [
             0.4444444444444444,
             "#bd3786"
            ],
            [
             0.5555555555555556,
             "#d8576b"
            ],
            [
             0.6666666666666666,
             "#ed7953"
            ],
            [
             0.7777777777777778,
             "#fb9f3a"
            ],
            [
             0.8888888888888888,
             "#fdca26"
            ],
            [
             1,
             "#f0f921"
            ]
           ]
          },
          "colorway": [
           "#636efa",
           "#EF553B",
           "#00cc96",
           "#ab63fa",
           "#FFA15A",
           "#19d3f3",
           "#FF6692",
           "#B6E880",
           "#FF97FF",
           "#FECB52"
          ],
          "font": {
           "color": "#2a3f5f"
          },
          "geo": {
           "bgcolor": "white",
           "lakecolor": "white",
           "landcolor": "#E5ECF6",
           "showlakes": true,
           "showland": true,
           "subunitcolor": "white"
          },
          "hoverlabel": {
           "align": "left"
          },
          "hovermode": "closest",
          "mapbox": {
           "style": "light"
          },
          "paper_bgcolor": "white",
          "plot_bgcolor": "#E5ECF6",
          "polar": {
           "angularaxis": {
            "gridcolor": "white",
            "linecolor": "white",
            "ticks": ""
           },
           "bgcolor": "#E5ECF6",
           "radialaxis": {
            "gridcolor": "white",
            "linecolor": "white",
            "ticks": ""
           }
          },
          "scene": {
           "xaxis": {
            "backgroundcolor": "#E5ECF6",
            "gridcolor": "white",
            "gridwidth": 2,
            "linecolor": "white",
            "showbackground": true,
            "ticks": "",
            "zerolinecolor": "white"
           },
           "yaxis": {
            "backgroundcolor": "#E5ECF6",
            "gridcolor": "white",
            "gridwidth": 2,
            "linecolor": "white",
            "showbackground": true,
            "ticks": "",
            "zerolinecolor": "white"
           },
           "zaxis": {
            "backgroundcolor": "#E5ECF6",
            "gridcolor": "white",
            "gridwidth": 2,
            "linecolor": "white",
            "showbackground": true,
            "ticks": "",
            "zerolinecolor": "white"
           }
          },
          "shapedefaults": {
           "line": {
            "color": "#2a3f5f"
           }
          },
          "ternary": {
           "aaxis": {
            "gridcolor": "white",
            "linecolor": "white",
            "ticks": ""
           },
           "baxis": {
            "gridcolor": "white",
            "linecolor": "white",
            "ticks": ""
           },
           "bgcolor": "#E5ECF6",
           "caxis": {
            "gridcolor": "white",
            "linecolor": "white",
            "ticks": ""
           }
          },
          "title": {
           "x": 0.05
          },
          "xaxis": {
           "automargin": true,
           "gridcolor": "white",
           "linecolor": "white",
           "ticks": "",
           "title": {
            "standoff": 15
           },
           "zerolinecolor": "white",
           "zerolinewidth": 2
          },
          "yaxis": {
           "automargin": true,
           "gridcolor": "white",
           "linecolor": "white",
           "ticks": "",
           "title": {
            "standoff": 15
           },
           "zerolinecolor": "white",
           "zerolinewidth": 2
          }
         }
        },
        "xaxis": {
         "anchor": "y",
         "domain": [
          0,
          1
         ],
         "title": {
          "text": "Año"
         }
        },
        "yaxis": {
         "anchor": "x",
         "domain": [
          0,
          1
         ],
         "title": {
          "text": "Población entre 0 y 14 años de edad, mujeres"
         }
        }
       }
      }
     },
     "metadata": {},
     "output_type": "display_data"
    },
    {
     "data": {
      "application/vnd.plotly.v1+json": {
       "config": {
        "plotlyServerURL": "https://plot.ly"
       },
       "data": [
        {
         "hovertemplate": "Continente=América Central<br>Año=%{x}<br>Población entre 0 y 14 años de edad, total=%{y}<extra></extra>",
         "legendgroup": "América Central",
         "line": {
          "color": "#636efa",
          "dash": "solid"
         },
         "marker": {
          "symbol": "circle"
         },
         "mode": "lines",
         "name": "América Central",
         "orientation": "v",
         "showlegend": true,
         "type": "scatter",
         "x": [
          "1987",
          "1988",
          "1989",
          "1990",
          "1991",
          "1992",
          "1993",
          "1994",
          "1995",
          "1996",
          "1997",
          "1998",
          "1999",
          "2000",
          "2001",
          "2002",
          "2003",
          "2004",
          "2005",
          "2006",
          "2007",
          "2008",
          "2009",
          "2010",
          "2011",
          "2012",
          "2013",
          "2014",
          "2015",
          "2016",
          "2017",
          "2018",
          "2019",
          "2020",
          "2021",
          "2022"
         ],
         "xaxis": "x",
         "y": [
          1775362,
          1764498.5,
          1762214.5,
          1767083,
          1774942,
          1782527.5,
          1790337.5,
          1798771,
          1807934.5,
          1816537,
          1819294.5,
          1814237,
          1804995.5,
          1792250,
          1776055,
          1756692.5,
          1733636.5,
          1706878,
          1677909,
          1649387,
          1624020.5,
          1603258,
          1586775.5,
          1572373.5,
          1558659,
          1544728.5,
          1530028.5,
          1514615,
          1499330,
          1483841,
          1468277.5,
          1455290,
          1443626.5,
          1431551.5,
          1418749.5,
          1404308.5
         ],
         "yaxis": "y"
        },
        {
         "hovertemplate": "Continente=América del Norte<br>Año=%{x}<br>Población entre 0 y 14 años de edad, total=%{y}<extra></extra>",
         "legendgroup": "América del Norte",
         "line": {
          "color": "#EF553B",
          "dash": "solid"
         },
         "marker": {
          "symbol": "circle"
         },
         "mode": "lines",
         "name": "América del Norte",
         "orientation": "v",
         "showlegend": true,
         "type": "scatter",
         "x": [
          "1987",
          "1988",
          "1989",
          "1990",
          "1991",
          "1992",
          "1993",
          "1994",
          "1995",
          "1996",
          "1997",
          "1998",
          "1999",
          "2000",
          "2001",
          "2002",
          "2003",
          "2004",
          "2005",
          "2006",
          "2007",
          "2008",
          "2009",
          "2010",
          "2011",
          "2012",
          "2013",
          "2014",
          "2015",
          "2016",
          "2017",
          "2018",
          "2019",
          "2020",
          "2021",
          "2022"
         ],
         "xaxis": "x",
         "y": [
          29636940.666666668,
          29861951,
          30139487.333333332,
          30485412,
          30894796,
          31312050.333333332,
          31696788.666666668,
          32014385,
          32269546,
          32488538,
          32710725.333333332,
          32927631,
          33128552.666666668,
          33283659.666666668,
          33376135.666666668,
          33447253,
          33493642,
          33513334.666666668,
          33486414,
          33469398,
          33484397,
          33526943.666666668,
          33556207,
          33571677,
          33595954.333333336,
          33642661.666666664,
          33658519.333333336,
          33656668.333333336,
          33621369.333333336,
          33590323.666666664,
          33540036.666666668,
          33418739.333333332,
          33240060.666666668,
          33107437.333333332,
          32734617.333333332,
          32389426
         ],
         "yaxis": "y"
        },
        {
         "hovertemplate": "Continente=América del Sur<br>Año=%{x}<br>Población entre 0 y 14 años de edad, total=%{y}<extra></extra>",
         "legendgroup": "América del Sur",
         "line": {
          "color": "#00cc96",
          "dash": "solid"
         },
         "marker": {
          "symbol": "circle"
         },
         "mode": "lines",
         "name": "América del Sur",
         "orientation": "v",
         "showlegend": true,
         "type": "scatter",
         "x": [
          "1987",
          "1988",
          "1989",
          "1990",
          "1991",
          "1992",
          "1993",
          "1994",
          "1995",
          "1996",
          "1997",
          "1998",
          "1999",
          "2000",
          "2001",
          "2002",
          "2003",
          "2004",
          "2005",
          "2006",
          "2007",
          "2008",
          "2009",
          "2010",
          "2011",
          "2012",
          "2013",
          "2014",
          "2015",
          "2016",
          "2017",
          "2018",
          "2019",
          "2020",
          "2021",
          "2022"
         ],
         "xaxis": "x",
         "y": [
          16766916.6,
          16957322.2,
          17129820.4,
          17283375.8,
          17411583.6,
          17511845.2,
          17589488,
          17649692,
          17693406.6,
          17720180.4,
          17731306.2,
          17731811,
          17721650.6,
          17699302.6,
          17664945.2,
          17615960,
          17550339.8,
          17477478.8,
          17404647.8,
          17325745.8,
          17238239.2,
          17139004.4,
          17030269.2,
          16902878.6,
          16793880.4,
          16681144,
          16560863.2,
          16444138.8,
          16340844.8,
          16238091,
          16135847.4,
          16042477,
          15940606.4,
          15818635.4,
          15687573.6,
          15561192.6
         ],
         "yaxis": "y"
        },
        {
         "hovertemplate": "Continente=Asia<br>Año=%{x}<br>Población entre 0 y 14 años de edad, total=%{y}<extra></extra>",
         "legendgroup": "Asia",
         "line": {
          "color": "#ab63fa",
          "dash": "solid"
         },
         "marker": {
          "symbol": "circle"
         },
         "mode": "lines",
         "name": "Asia",
         "orientation": "v",
         "showlegend": true,
         "type": "scatter",
         "x": [
          "1987",
          "1988",
          "1989",
          "1990",
          "1991",
          "1992",
          "1993",
          "1994",
          "1995",
          "1996",
          "1997",
          "1998",
          "1999",
          "2000",
          "2001",
          "2002",
          "2003",
          "2004",
          "2005",
          "2006",
          "2007",
          "2008",
          "2009",
          "2010",
          "2011",
          "2012",
          "2013",
          "2014",
          "2015",
          "2016",
          "2017",
          "2018",
          "2019",
          "2020",
          "2021",
          "2022"
         ],
         "xaxis": "x",
         "y": [
          76222914.44444445,
          76800271.66666667,
          77468176.33333333,
          78384130.77777778,
          79284547,
          80082743.55555555,
          80865611.55555555,
          81467886.33333333,
          81850587.1111111,
          82034088.55555555,
          81984942,
          81878562.77777778,
          81753490,
          81467477.77777778,
          80979902.33333333,
          80295630.8888889,
          79559559.77777778,
          78767610.8888889,
          77856508.33333333,
          77145370.44444445,
          76772580.1111111,
          76545353.1111111,
          76413048.8888889,
          76321523.33333333,
          76277689,
          76372225,
          76502588.77777778,
          76576865.33333333,
          76514365.44444445,
          76411881.8888889,
          76386509.44444445,
          76195207.44444445,
          75779007.33333333,
          75138708.66666667,
          74276584.33333333,
          73299883.1111111
         ],
         "yaxis": "y"
        },
        {
         "hovertemplate": "Continente=Europa<br>Año=%{x}<br>Población entre 0 y 14 años de edad, total=%{y}<extra></extra>",
         "legendgroup": "Europa",
         "line": {
          "color": "#FFA15A",
          "dash": "solid"
         },
         "marker": {
          "symbol": "circle"
         },
         "mode": "lines",
         "name": "Europa",
         "orientation": "v",
         "showlegend": true,
         "type": "scatter",
         "x": [
          "1987",
          "1988",
          "1989",
          "1990",
          "1991",
          "1992",
          "1993",
          "1994",
          "1995",
          "1996",
          "1997",
          "1998",
          "1999",
          "2000",
          "2001",
          "2002",
          "2003",
          "2004",
          "2005",
          "2006",
          "2007",
          "2008",
          "2009",
          "2010",
          "2011",
          "2012",
          "2013",
          "2014",
          "2015",
          "2016",
          "2017",
          "2018",
          "2019",
          "2020",
          "2021",
          "2022"
         ],
         "xaxis": "x",
         "y": [
          6821827.818181818,
          6836106.7272727275,
          6850638.181818182,
          6843565.454545454,
          6835573.545454546,
          6810623.7272727275,
          6767374.363636363,
          6710610.818181818,
          6640084.7272727275,
          6555161.7272727275,
          6456517.545454546,
          6338447.545454546,
          6208991.545454546,
          6078784.818181818,
          5942321.636363637,
          5801764.636363637,
          5687142.454545454,
          5604293.818181818,
          5531364.909090909,
          5475006.2727272725,
          5451299.909090909,
          5459785.545454546,
          5483517.818181818,
          5507016.545454546,
          5521725.2727272725,
          5570813.2727272725,
          5623823.818181818,
          5683124.7272727275,
          5753778,
          5827769.545454546,
          5887119.7272727275,
          5920453.818181818,
          5934678.181818182,
          5929401.454545454,
          5910937.7272727275,
          5903438.2727272725
         ],
         "yaxis": "y"
        },
        {
         "hovertemplate": "Continente=Oceanía<br>Año=%{x}<br>Población entre 0 y 14 años de edad, total=%{y}<extra></extra>",
         "legendgroup": "Oceanía",
         "line": {
          "color": "#19d3f3",
          "dash": "solid"
         },
         "marker": {
          "symbol": "circle"
         },
         "mode": "lines",
         "name": "Oceanía",
         "orientation": "v",
         "showlegend": true,
         "type": "scatter",
         "x": [
          "1987",
          "1988",
          "1989",
          "1990",
          "1991",
          "1992",
          "1993",
          "1994",
          "1995",
          "1996",
          "1997",
          "1998",
          "1999",
          "2000",
          "2001",
          "2002",
          "2003",
          "2004",
          "2005",
          "2006",
          "2007",
          "2008",
          "2009",
          "2010",
          "2011",
          "2012",
          "2013",
          "2014",
          "2015",
          "2016",
          "2017",
          "2018",
          "2019",
          "2020",
          "2021",
          "2022"
         ],
         "xaxis": "x",
         "y": [
          1209431.5,
          1210743.25,
          1217449.5,
          1226804.5,
          1243070.75,
          1250776.75,
          1257389.25,
          1264644.5,
          1272637,
          1280723.5,
          1286444.25,
          1290108.75,
          1293679,
          1297228,
          1300788.25,
          1303787.5,
          1306651.75,
          1307700,
          1309352,
          1313712.5,
          1324625.75,
          1338717.25,
          1354476.25,
          1365900.5,
          1376257.5,
          1392477.5,
          1410153.25,
          1427133.75,
          1445002,
          1465264.5,
          1485116.5,
          1500209.25,
          1511395.25,
          1519423.75,
          1508794.25,
          1507739.25
         ],
         "yaxis": "y"
        },
        {
         "hovertemplate": "Continente=África<br>Año=%{x}<br>Población entre 0 y 14 años de edad, total=%{y}<extra></extra>",
         "legendgroup": "África",
         "line": {
          "color": "#FF6692",
          "dash": "solid"
         },
         "marker": {
          "symbol": "circle"
         },
         "mode": "lines",
         "name": "África",
         "orientation": "v",
         "showlegend": true,
         "type": "scatter",
         "x": [
          "1987",
          "1988",
          "1989",
          "1990",
          "1991",
          "1992",
          "1993",
          "1994",
          "1995",
          "1996",
          "1997",
          "1998",
          "1999",
          "2000",
          "2001",
          "2002",
          "2003",
          "2004",
          "2005",
          "2006",
          "2007",
          "2008",
          "2009",
          "2010",
          "2011",
          "2012",
          "2013",
          "2014",
          "2015",
          "2016",
          "2017",
          "2018",
          "2019",
          "2020",
          "2021",
          "2022"
         ],
         "xaxis": "x",
         "y": [
          8123417.9,
          8341537,
          8556018.4,
          8762117.4,
          8949803.7,
          9120990.1,
          9280880.1,
          9360295.7,
          9424585.3,
          9557917.1,
          9663958.1,
          9720126.2,
          9762113.8,
          9801440.6,
          9848155.4,
          9901678.9,
          9963576.3,
          10042334.5,
          10141126,
          10261489.9,
          10403205.2,
          10569596.3,
          10756990.2,
          10960945.7,
          11183366.6,
          11425394.1,
          11685268.1,
          11954612.5,
          12227455.3,
          12484726.8,
          12727088.2,
          12965778.8,
          13190839,
          13398550.3,
          13585130.1,
          13750765.3
         ],
         "yaxis": "y"
        }
       ],
       "layout": {
        "legend": {
         "title": {
          "text": "Continente"
         },
         "tracegroupgap": 0
        },
        "margin": {
         "t": 60
        },
        "template": {
         "data": {
          "bar": [
           {
            "error_x": {
             "color": "#2a3f5f"
            },
            "error_y": {
             "color": "#2a3f5f"
            },
            "marker": {
             "line": {
              "color": "#E5ECF6",
              "width": 0.5
             },
             "pattern": {
              "fillmode": "overlay",
              "size": 10,
              "solidity": 0.2
             }
            },
            "type": "bar"
           }
          ],
          "barpolar": [
           {
            "marker": {
             "line": {
              "color": "#E5ECF6",
              "width": 0.5
             },
             "pattern": {
              "fillmode": "overlay",
              "size": 10,
              "solidity": 0.2
             }
            },
            "type": "barpolar"
           }
          ],
          "carpet": [
           {
            "aaxis": {
             "endlinecolor": "#2a3f5f",
             "gridcolor": "white",
             "linecolor": "white",
             "minorgridcolor": "white",
             "startlinecolor": "#2a3f5f"
            },
            "baxis": {
             "endlinecolor": "#2a3f5f",
             "gridcolor": "white",
             "linecolor": "white",
             "minorgridcolor": "white",
             "startlinecolor": "#2a3f5f"
            },
            "type": "carpet"
           }
          ],
          "choropleth": [
           {
            "colorbar": {
             "outlinewidth": 0,
             "ticks": ""
            },
            "type": "choropleth"
           }
          ],
          "contour": [
           {
            "colorbar": {
             "outlinewidth": 0,
             "ticks": ""
            },
            "colorscale": [
             [
              0,
              "#0d0887"
             ],
             [
              0.1111111111111111,
              "#46039f"
             ],
             [
              0.2222222222222222,
              "#7201a8"
             ],
             [
              0.3333333333333333,
              "#9c179e"
             ],
             [
              0.4444444444444444,
              "#bd3786"
             ],
             [
              0.5555555555555556,
              "#d8576b"
             ],
             [
              0.6666666666666666,
              "#ed7953"
             ],
             [
              0.7777777777777778,
              "#fb9f3a"
             ],
             [
              0.8888888888888888,
              "#fdca26"
             ],
             [
              1,
              "#f0f921"
             ]
            ],
            "type": "contour"
           }
          ],
          "contourcarpet": [
           {
            "colorbar": {
             "outlinewidth": 0,
             "ticks": ""
            },
            "type": "contourcarpet"
           }
          ],
          "heatmap": [
           {
            "colorbar": {
             "outlinewidth": 0,
             "ticks": ""
            },
            "colorscale": [
             [
              0,
              "#0d0887"
             ],
             [
              0.1111111111111111,
              "#46039f"
             ],
             [
              0.2222222222222222,
              "#7201a8"
             ],
             [
              0.3333333333333333,
              "#9c179e"
             ],
             [
              0.4444444444444444,
              "#bd3786"
             ],
             [
              0.5555555555555556,
              "#d8576b"
             ],
             [
              0.6666666666666666,
              "#ed7953"
             ],
             [
              0.7777777777777778,
              "#fb9f3a"
             ],
             [
              0.8888888888888888,
              "#fdca26"
             ],
             [
              1,
              "#f0f921"
             ]
            ],
            "type": "heatmap"
           }
          ],
          "heatmapgl": [
           {
            "colorbar": {
             "outlinewidth": 0,
             "ticks": ""
            },
            "colorscale": [
             [
              0,
              "#0d0887"
             ],
             [
              0.1111111111111111,
              "#46039f"
             ],
             [
              0.2222222222222222,
              "#7201a8"
             ],
             [
              0.3333333333333333,
              "#9c179e"
             ],
             [
              0.4444444444444444,
              "#bd3786"
             ],
             [
              0.5555555555555556,
              "#d8576b"
             ],
             [
              0.6666666666666666,
              "#ed7953"
             ],
             [
              0.7777777777777778,
              "#fb9f3a"
             ],
             [
              0.8888888888888888,
              "#fdca26"
             ],
             [
              1,
              "#f0f921"
             ]
            ],
            "type": "heatmapgl"
           }
          ],
          "histogram": [
           {
            "marker": {
             "pattern": {
              "fillmode": "overlay",
              "size": 10,
              "solidity": 0.2
             }
            },
            "type": "histogram"
           }
          ],
          "histogram2d": [
           {
            "colorbar": {
             "outlinewidth": 0,
             "ticks": ""
            },
            "colorscale": [
             [
              0,
              "#0d0887"
             ],
             [
              0.1111111111111111,
              "#46039f"
             ],
             [
              0.2222222222222222,
              "#7201a8"
             ],
             [
              0.3333333333333333,
              "#9c179e"
             ],
             [
              0.4444444444444444,
              "#bd3786"
             ],
             [
              0.5555555555555556,
              "#d8576b"
             ],
             [
              0.6666666666666666,
              "#ed7953"
             ],
             [
              0.7777777777777778,
              "#fb9f3a"
             ],
             [
              0.8888888888888888,
              "#fdca26"
             ],
             [
              1,
              "#f0f921"
             ]
            ],
            "type": "histogram2d"
           }
          ],
          "histogram2dcontour": [
           {
            "colorbar": {
             "outlinewidth": 0,
             "ticks": ""
            },
            "colorscale": [
             [
              0,
              "#0d0887"
             ],
             [
              0.1111111111111111,
              "#46039f"
             ],
             [
              0.2222222222222222,
              "#7201a8"
             ],
             [
              0.3333333333333333,
              "#9c179e"
             ],
             [
              0.4444444444444444,
              "#bd3786"
             ],
             [
              0.5555555555555556,
              "#d8576b"
             ],
             [
              0.6666666666666666,
              "#ed7953"
             ],
             [
              0.7777777777777778,
              "#fb9f3a"
             ],
             [
              0.8888888888888888,
              "#fdca26"
             ],
             [
              1,
              "#f0f921"
             ]
            ],
            "type": "histogram2dcontour"
           }
          ],
          "mesh3d": [
           {
            "colorbar": {
             "outlinewidth": 0,
             "ticks": ""
            },
            "type": "mesh3d"
           }
          ],
          "parcoords": [
           {
            "line": {
             "colorbar": {
              "outlinewidth": 0,
              "ticks": ""
             }
            },
            "type": "parcoords"
           }
          ],
          "pie": [
           {
            "automargin": true,
            "type": "pie"
           }
          ],
          "scatter": [
           {
            "fillpattern": {
             "fillmode": "overlay",
             "size": 10,
             "solidity": 0.2
            },
            "type": "scatter"
           }
          ],
          "scatter3d": [
           {
            "line": {
             "colorbar": {
              "outlinewidth": 0,
              "ticks": ""
             }
            },
            "marker": {
             "colorbar": {
              "outlinewidth": 0,
              "ticks": ""
             }
            },
            "type": "scatter3d"
           }
          ],
          "scattercarpet": [
           {
            "marker": {
             "colorbar": {
              "outlinewidth": 0,
              "ticks": ""
             }
            },
            "type": "scattercarpet"
           }
          ],
          "scattergeo": [
           {
            "marker": {
             "colorbar": {
              "outlinewidth": 0,
              "ticks": ""
             }
            },
            "type": "scattergeo"
           }
          ],
          "scattergl": [
           {
            "marker": {
             "colorbar": {
              "outlinewidth": 0,
              "ticks": ""
             }
            },
            "type": "scattergl"
           }
          ],
          "scattermapbox": [
           {
            "marker": {
             "colorbar": {
              "outlinewidth": 0,
              "ticks": ""
             }
            },
            "type": "scattermapbox"
           }
          ],
          "scatterpolar": [
           {
            "marker": {
             "colorbar": {
              "outlinewidth": 0,
              "ticks": ""
             }
            },
            "type": "scatterpolar"
           }
          ],
          "scatterpolargl": [
           {
            "marker": {
             "colorbar": {
              "outlinewidth": 0,
              "ticks": ""
             }
            },
            "type": "scatterpolargl"
           }
          ],
          "scatterternary": [
           {
            "marker": {
             "colorbar": {
              "outlinewidth": 0,
              "ticks": ""
             }
            },
            "type": "scatterternary"
           }
          ],
          "surface": [
           {
            "colorbar": {
             "outlinewidth": 0,
             "ticks": ""
            },
            "colorscale": [
             [
              0,
              "#0d0887"
             ],
             [
              0.1111111111111111,
              "#46039f"
             ],
             [
              0.2222222222222222,
              "#7201a8"
             ],
             [
              0.3333333333333333,
              "#9c179e"
             ],
             [
              0.4444444444444444,
              "#bd3786"
             ],
             [
              0.5555555555555556,
              "#d8576b"
             ],
             [
              0.6666666666666666,
              "#ed7953"
             ],
             [
              0.7777777777777778,
              "#fb9f3a"
             ],
             [
              0.8888888888888888,
              "#fdca26"
             ],
             [
              1,
              "#f0f921"
             ]
            ],
            "type": "surface"
           }
          ],
          "table": [
           {
            "cells": {
             "fill": {
              "color": "#EBF0F8"
             },
             "line": {
              "color": "white"
             }
            },
            "header": {
             "fill": {
              "color": "#C8D4E3"
             },
             "line": {
              "color": "white"
             }
            },
            "type": "table"
           }
          ]
         },
         "layout": {
          "annotationdefaults": {
           "arrowcolor": "#2a3f5f",
           "arrowhead": 0,
           "arrowwidth": 1
          },
          "autotypenumbers": "strict",
          "coloraxis": {
           "colorbar": {
            "outlinewidth": 0,
            "ticks": ""
           }
          },
          "colorscale": {
           "diverging": [
            [
             0,
             "#8e0152"
            ],
            [
             0.1,
             "#c51b7d"
            ],
            [
             0.2,
             "#de77ae"
            ],
            [
             0.3,
             "#f1b6da"
            ],
            [
             0.4,
             "#fde0ef"
            ],
            [
             0.5,
             "#f7f7f7"
            ],
            [
             0.6,
             "#e6f5d0"
            ],
            [
             0.7,
             "#b8e186"
            ],
            [
             0.8,
             "#7fbc41"
            ],
            [
             0.9,
             "#4d9221"
            ],
            [
             1,
             "#276419"
            ]
           ],
           "sequential": [
            [
             0,
             "#0d0887"
            ],
            [
             0.1111111111111111,
             "#46039f"
            ],
            [
             0.2222222222222222,
             "#7201a8"
            ],
            [
             0.3333333333333333,
             "#9c179e"
            ],
            [
             0.4444444444444444,
             "#bd3786"
            ],
            [
             0.5555555555555556,
             "#d8576b"
            ],
            [
             0.6666666666666666,
             "#ed7953"
            ],
            [
             0.7777777777777778,
             "#fb9f3a"
            ],
            [
             0.8888888888888888,
             "#fdca26"
            ],
            [
             1,
             "#f0f921"
            ]
           ],
           "sequentialminus": [
            [
             0,
             "#0d0887"
            ],
            [
             0.1111111111111111,
             "#46039f"
            ],
            [
             0.2222222222222222,
             "#7201a8"
            ],
            [
             0.3333333333333333,
             "#9c179e"
            ],
            [
             0.4444444444444444,
             "#bd3786"
            ],
            [
             0.5555555555555556,
             "#d8576b"
            ],
            [
             0.6666666666666666,
             "#ed7953"
            ],
            [
             0.7777777777777778,
             "#fb9f3a"
            ],
            [
             0.8888888888888888,
             "#fdca26"
            ],
            [
             1,
             "#f0f921"
            ]
           ]
          },
          "colorway": [
           "#636efa",
           "#EF553B",
           "#00cc96",
           "#ab63fa",
           "#FFA15A",
           "#19d3f3",
           "#FF6692",
           "#B6E880",
           "#FF97FF",
           "#FECB52"
          ],
          "font": {
           "color": "#2a3f5f"
          },
          "geo": {
           "bgcolor": "white",
           "lakecolor": "white",
           "landcolor": "#E5ECF6",
           "showlakes": true,
           "showland": true,
           "subunitcolor": "white"
          },
          "hoverlabel": {
           "align": "left"
          },
          "hovermode": "closest",
          "mapbox": {
           "style": "light"
          },
          "paper_bgcolor": "white",
          "plot_bgcolor": "#E5ECF6",
          "polar": {
           "angularaxis": {
            "gridcolor": "white",
            "linecolor": "white",
            "ticks": ""
           },
           "bgcolor": "#E5ECF6",
           "radialaxis": {
            "gridcolor": "white",
            "linecolor": "white",
            "ticks": ""
           }
          },
          "scene": {
           "xaxis": {
            "backgroundcolor": "#E5ECF6",
            "gridcolor": "white",
            "gridwidth": 2,
            "linecolor": "white",
            "showbackground": true,
            "ticks": "",
            "zerolinecolor": "white"
           },
           "yaxis": {
            "backgroundcolor": "#E5ECF6",
            "gridcolor": "white",
            "gridwidth": 2,
            "linecolor": "white",
            "showbackground": true,
            "ticks": "",
            "zerolinecolor": "white"
           },
           "zaxis": {
            "backgroundcolor": "#E5ECF6",
            "gridcolor": "white",
            "gridwidth": 2,
            "linecolor": "white",
            "showbackground": true,
            "ticks": "",
            "zerolinecolor": "white"
           }
          },
          "shapedefaults": {
           "line": {
            "color": "#2a3f5f"
           }
          },
          "ternary": {
           "aaxis": {
            "gridcolor": "white",
            "linecolor": "white",
            "ticks": ""
           },
           "baxis": {
            "gridcolor": "white",
            "linecolor": "white",
            "ticks": ""
           },
           "bgcolor": "#E5ECF6",
           "caxis": {
            "gridcolor": "white",
            "linecolor": "white",
            "ticks": ""
           }
          },
          "title": {
           "x": 0.05
          },
          "xaxis": {
           "automargin": true,
           "gridcolor": "white",
           "linecolor": "white",
           "ticks": "",
           "title": {
            "standoff": 15
           },
           "zerolinecolor": "white",
           "zerolinewidth": 2
          },
          "yaxis": {
           "automargin": true,
           "gridcolor": "white",
           "linecolor": "white",
           "ticks": "",
           "title": {
            "standoff": 15
           },
           "zerolinecolor": "white",
           "zerolinewidth": 2
          }
         }
        },
        "xaxis": {
         "anchor": "y",
         "domain": [
          0,
          1
         ],
         "title": {
          "text": "Año"
         }
        },
        "yaxis": {
         "anchor": "x",
         "domain": [
          0,
          1
         ],
         "title": {
          "text": "Población entre 0 y 14 años de edad, total"
         }
        }
       }
      }
     },
     "metadata": {},
     "output_type": "display_data"
    },
    {
     "data": {
      "application/vnd.plotly.v1+json": {
       "config": {
        "plotlyServerURL": "https://plot.ly"
       },
       "data": [
        {
         "hovertemplate": "Continente=América Central<br>Año=%{x}<br>Población entre 15 y 64 años de edad, hombres=%{y}<extra></extra>",
         "legendgroup": "América Central",
         "line": {
          "color": "#636efa",
          "dash": "solid"
         },
         "marker": {
          "symbol": "circle"
         },
         "mode": "lines",
         "name": "América Central",
         "orientation": "v",
         "showlegend": true,
         "type": "scatter",
         "x": [
          "1987",
          "1988",
          "1989",
          "1990",
          "1991",
          "1992",
          "1993",
          "1994",
          "1995",
          "1996",
          "1997",
          "1998",
          "1999",
          "2000",
          "2001",
          "2002",
          "2003",
          "2004",
          "2005",
          "2006",
          "2007",
          "2008",
          "2009",
          "2010",
          "2011",
          "2012",
          "2013",
          "2014",
          "2015",
          "2016",
          "2017",
          "2018",
          "2019",
          "2020",
          "2021",
          "2022"
         ],
         "xaxis": "x",
         "y": [
          2198403,
          2242409.5,
          2282894.5,
          2319447,
          2351924.5,
          2380772,
          2406673.5,
          2427989.5,
          2445496,
          2462215.5,
          2481313.5,
          2504054.5,
          2528387.5,
          2553254.5,
          2577278,
          2600284,
          2624522.5,
          2650107.5,
          2674684,
          2697107,
          2716146.5,
          2731501,
          2744304,
          2755634,
          2766227,
          2777232.5,
          2788923.5,
          2800480.5,
          2811250,
          2820564,
          2827447,
          2831269,
          2832887,
          2833191,
          2830374,
          2827116
         ],
         "yaxis": "y"
        },
        {
         "hovertemplate": "Continente=América del Norte<br>Año=%{x}<br>Población entre 15 y 64 años de edad, hombres=%{y}<extra></extra>",
         "legendgroup": "América del Norte",
         "line": {
          "color": "#EF553B",
          "dash": "solid"
         },
         "marker": {
          "symbol": "circle"
         },
         "mode": "lines",
         "name": "América del Norte",
         "orientation": "v",
         "showlegend": true,
         "type": "scatter",
         "x": [
          "1987",
          "1988",
          "1989",
          "1990",
          "1991",
          "1992",
          "1993",
          "1994",
          "1995",
          "1996",
          "1997",
          "1998",
          "1999",
          "2000",
          "2001",
          "2002",
          "2003",
          "2004",
          "2005",
          "2006",
          "2007",
          "2008",
          "2009",
          "2010",
          "2011",
          "2012",
          "2013",
          "2014",
          "2015",
          "2016",
          "2017",
          "2018",
          "2019",
          "2020",
          "2021",
          "2022"
         ],
         "xaxis": "x",
         "y": [
          36754136,
          37157774.333333336,
          37586164.333333336,
          38113162,
          38688985.333333336,
          39263210.333333336,
          39830436,
          40378468.666666664,
          40938803,
          41528820.333333336,
          42159717.333333336,
          42784723.666666664,
          43431568.666666664,
          44114385,
          44746568.333333336,
          45347798,
          45925367,
          46541310,
          47169087.666666664,
          47802416.666666664,
          48395500.666666664,
          48929813.666666664,
          49432900.666666664,
          49953328,
          50415835,
          50856902.666666664,
          51287935.666666664,
          51749732,
          52228093,
          52630426.333333336,
          52961422.333333336,
          53296367.666666664,
          53578727.666666664,
          54001995,
          54082421.333333336,
          54321944.666666664
         ],
         "yaxis": "y"
        },
        {
         "hovertemplate": "Continente=América del Sur<br>Año=%{x}<br>Población entre 15 y 64 años de edad, hombres=%{y}<extra></extra>",
         "legendgroup": "América del Sur",
         "line": {
          "color": "#00cc96",
          "dash": "solid"
         },
         "marker": {
          "symbol": "circle"
         },
         "mode": "lines",
         "name": "América del Sur",
         "orientation": "v",
         "showlegend": true,
         "type": "scatter",
         "x": [
          "1987",
          "1988",
          "1989",
          "1990",
          "1991",
          "1992",
          "1993",
          "1994",
          "1995",
          "1996",
          "1997",
          "1998",
          "1999",
          "2000",
          "2001",
          "2002",
          "2003",
          "2004",
          "2005",
          "2006",
          "2007",
          "2008",
          "2009",
          "2010",
          "2011",
          "2012",
          "2013",
          "2014",
          "2015",
          "2016",
          "2017",
          "2018",
          "2019",
          "2020",
          "2021",
          "2022"
         ],
         "xaxis": "x",
         "y": [
          13641266.6,
          13964388,
          14292058.2,
          14623985.6,
          14958811.4,
          15297962.6,
          15644685.8,
          15999814,
          16361309.6,
          16726883.6,
          17096490.4,
          17467590.2,
          17837856.8,
          18205870.6,
          18570515.2,
          18931926.2,
          19287396.8,
          19636264.6,
          19979130.2,
          20315019.2,
          20643568.8,
          20965952.8,
          21285493.6,
          21584331.8,
          21904208.8,
          22215959.2,
          22518045.4,
          22806948,
          23080459.8,
          23340105,
          23577630.2,
          23777555.4,
          23959877.2,
          24144491,
          24309597,
          24470682.2
         ],
         "yaxis": "y"
        },
        {
         "hovertemplate": "Continente=Asia<br>Año=%{x}<br>Población entre 15 y 64 años de edad, hombres=%{y}<extra></extra>",
         "legendgroup": "Asia",
         "line": {
          "color": "#ab63fa",
          "dash": "solid"
         },
         "marker": {
          "symbol": "circle"
         },
         "mode": "lines",
         "name": "Asia",
         "orientation": "v",
         "showlegend": true,
         "type": "scatter",
         "x": [
          "1987",
          "1988",
          "1989",
          "1990",
          "1991",
          "1992",
          "1993",
          "1994",
          "1995",
          "1996",
          "1997",
          "1998",
          "1999",
          "2000",
          "2001",
          "2002",
          "2003",
          "2004",
          "2005",
          "2006",
          "2007",
          "2008",
          "2009",
          "2010",
          "2011",
          "2012",
          "2013",
          "2014",
          "2015",
          "2016",
          "2017",
          "2018",
          "2019",
          "2020",
          "2021",
          "2022"
         ],
         "xaxis": "x",
         "y": [
          73584927.1111111,
          75255100.66666667,
          76857964.44444445,
          78293682.8888889,
          79693642.8888889,
          81138908.33333333,
          82567751.66666667,
          84040777,
          85564178.66666667,
          87148688.77777778,
          88840180.22222222,
          90503155.66666667,
          92097942.66666667,
          93708579.44444445,
          95384200.55555555,
          97178941.44444445,
          98975002.33333333,
          100738684.22222222,
          102561530.44444445,
          104273785.8888889,
          105776646.22222222,
          107214910.66666667,
          108592685.8888889,
          109872371.44444445,
          111098995.22222222,
          112287450,
          113372887.55555555,
          114382168.55555555,
          115336626.66666667,
          116297068.8888889,
          117189575.8888889,
          117984181.77777778,
          118767818.55555555,
          119483550.77777778,
          120138107.55555555,
          120748547.77777778
         ],
         "yaxis": "y"
        },
        {
         "hovertemplate": "Continente=Europa<br>Año=%{x}<br>Población entre 15 y 64 años de edad, hombres=%{y}<extra></extra>",
         "legendgroup": "Europa",
         "line": {
          "color": "#FFA15A",
          "dash": "solid"
         },
         "marker": {
          "symbol": "circle"
         },
         "mode": "lines",
         "name": "Europa",
         "orientation": "v",
         "showlegend": true,
         "type": "scatter",
         "x": [
          "1987",
          "1988",
          "1989",
          "1990",
          "1991",
          "1992",
          "1993",
          "1994",
          "1995",
          "1996",
          "1997",
          "1998",
          "1999",
          "2000",
          "2001",
          "2002",
          "2003",
          "2004",
          "2005",
          "2006",
          "2007",
          "2008",
          "2009",
          "2010",
          "2011",
          "2012",
          "2013",
          "2014",
          "2015",
          "2016",
          "2017",
          "2018",
          "2019",
          "2020",
          "2021",
          "2022"
         ],
         "xaxis": "x",
         "y": [
          11236530.909090908,
          11304297.727272727,
          11374448.363636363,
          11427976.090909092,
          11479736.454545455,
          11519250.363636363,
          11545897.181818182,
          11566930.545454545,
          11592961.636363637,
          11621393.545454545,
          11656276,
          11705785.454545455,
          11758041.727272727,
          11797594,
          11836418.636363637,
          11883594,
          11919016.545454545,
          11937957.181818182,
          11955015.363636363,
          11974193.818181818,
          12014482,
          12061954.090909092,
          12090093.545454545,
          12113300.363636363,
          12077331.181818182,
          12059750.818181818,
          12030875,
          12002711,
          11989631.454545455,
          11981160.363636363,
          11961307.636363637,
          11943892.909090908,
          11932816.727272727,
          11906129.454545455,
          11859692.454545455,
          11874330.545454545
         ],
         "yaxis": "y"
        },
        {
         "hovertemplate": "Continente=Oceanía<br>Año=%{x}<br>Población entre 15 y 64 años de edad, hombres=%{y}<extra></extra>",
         "legendgroup": "Oceanía",
         "line": {
          "color": "#19d3f3",
          "dash": "solid"
         },
         "marker": {
          "symbol": "circle"
         },
         "mode": "lines",
         "name": "Oceanía",
         "orientation": "v",
         "showlegend": true,
         "type": "scatter",
         "x": [
          "1987",
          "1988",
          "1989",
          "1990",
          "1991",
          "1992",
          "1993",
          "1994",
          "1995",
          "1996",
          "1997",
          "1998",
          "1999",
          "2000",
          "2001",
          "2002",
          "2003",
          "2004",
          "2005",
          "2006",
          "2007",
          "2008",
          "2009",
          "2010",
          "2011",
          "2012",
          "2013",
          "2014",
          "2015",
          "2016",
          "2017",
          "2018",
          "2019",
          "2020",
          "2021",
          "2022"
         ],
         "xaxis": "x",
         "y": [
          1709636.5,
          1736191.75,
          1762518.75,
          1785281.5,
          1814553.5,
          1831073.75,
          1844959,
          1861451.5,
          1881964,
          1905310.75,
          1926310.25,
          1945063.5,
          1964976,
          1986324.5,
          2011011.5,
          2039171.5,
          2069065.75,
          2095631,
          2123329.25,
          2153483,
          2191092.25,
          2231992,
          2272918,
          2301570.5,
          2322774.5,
          2347929.75,
          2373267,
          2398513.25,
          2424872.5,
          2455537.25,
          2489850,
          2522562.25,
          2556918.25,
          2588765.25,
          2589301,
          2610667.75
         ],
         "yaxis": "y"
        },
        {
         "hovertemplate": "Continente=África<br>Año=%{x}<br>Población entre 15 y 64 años de edad, hombres=%{y}<extra></extra>",
         "legendgroup": "África",
         "line": {
          "color": "#FF6692",
          "dash": "solid"
         },
         "marker": {
          "symbol": "circle"
         },
         "mode": "lines",
         "name": "África",
         "orientation": "v",
         "showlegend": true,
         "type": "scatter",
         "x": [
          "1987",
          "1988",
          "1989",
          "1990",
          "1991",
          "1992",
          "1993",
          "1994",
          "1995",
          "1996",
          "1997",
          "1998",
          "1999",
          "2000",
          "2001",
          "2002",
          "2003",
          "2004",
          "2005",
          "2006",
          "2007",
          "2008",
          "2009",
          "2010",
          "2011",
          "2012",
          "2013",
          "2014",
          "2015",
          "2016",
          "2017",
          "2018",
          "2019",
          "2020",
          "2021",
          "2022"
         ],
         "xaxis": "x",
         "y": [
          4980235.6,
          5142334.4,
          5305850.8,
          5470171.2,
          5625946.4,
          5767804.7,
          5906293,
          6013867,
          6141042,
          6333830.2,
          6541201.9,
          6748193.3,
          6957528.8,
          7174399.6,
          7399817.5,
          7631823.8,
          7867189.4,
          8103732.7,
          8332302.2,
          8552958.4,
          8771484.5,
          8988446.7,
          9203660.2,
          9417263.8,
          9635574.9,
          9852378,
          10066538.2,
          10288581,
          10523370.8,
          10727243.4,
          10916033,
          11130361.4,
          11349296.5,
          11579068.5,
          11815646.6,
          12056756
         ],
         "yaxis": "y"
        }
       ],
       "layout": {
        "legend": {
         "title": {
          "text": "Continente"
         },
         "tracegroupgap": 0
        },
        "margin": {
         "t": 60
        },
        "template": {
         "data": {
          "bar": [
           {
            "error_x": {
             "color": "#2a3f5f"
            },
            "error_y": {
             "color": "#2a3f5f"
            },
            "marker": {
             "line": {
              "color": "#E5ECF6",
              "width": 0.5
             },
             "pattern": {
              "fillmode": "overlay",
              "size": 10,
              "solidity": 0.2
             }
            },
            "type": "bar"
           }
          ],
          "barpolar": [
           {
            "marker": {
             "line": {
              "color": "#E5ECF6",
              "width": 0.5
             },
             "pattern": {
              "fillmode": "overlay",
              "size": 10,
              "solidity": 0.2
             }
            },
            "type": "barpolar"
           }
          ],
          "carpet": [
           {
            "aaxis": {
             "endlinecolor": "#2a3f5f",
             "gridcolor": "white",
             "linecolor": "white",
             "minorgridcolor": "white",
             "startlinecolor": "#2a3f5f"
            },
            "baxis": {
             "endlinecolor": "#2a3f5f",
             "gridcolor": "white",
             "linecolor": "white",
             "minorgridcolor": "white",
             "startlinecolor": "#2a3f5f"
            },
            "type": "carpet"
           }
          ],
          "choropleth": [
           {
            "colorbar": {
             "outlinewidth": 0,
             "ticks": ""
            },
            "type": "choropleth"
           }
          ],
          "contour": [
           {
            "colorbar": {
             "outlinewidth": 0,
             "ticks": ""
            },
            "colorscale": [
             [
              0,
              "#0d0887"
             ],
             [
              0.1111111111111111,
              "#46039f"
             ],
             [
              0.2222222222222222,
              "#7201a8"
             ],
             [
              0.3333333333333333,
              "#9c179e"
             ],
             [
              0.4444444444444444,
              "#bd3786"
             ],
             [
              0.5555555555555556,
              "#d8576b"
             ],
             [
              0.6666666666666666,
              "#ed7953"
             ],
             [
              0.7777777777777778,
              "#fb9f3a"
             ],
             [
              0.8888888888888888,
              "#fdca26"
             ],
             [
              1,
              "#f0f921"
             ]
            ],
            "type": "contour"
           }
          ],
          "contourcarpet": [
           {
            "colorbar": {
             "outlinewidth": 0,
             "ticks": ""
            },
            "type": "contourcarpet"
           }
          ],
          "heatmap": [
           {
            "colorbar": {
             "outlinewidth": 0,
             "ticks": ""
            },
            "colorscale": [
             [
              0,
              "#0d0887"
             ],
             [
              0.1111111111111111,
              "#46039f"
             ],
             [
              0.2222222222222222,
              "#7201a8"
             ],
             [
              0.3333333333333333,
              "#9c179e"
             ],
             [
              0.4444444444444444,
              "#bd3786"
             ],
             [
              0.5555555555555556,
              "#d8576b"
             ],
             [
              0.6666666666666666,
              "#ed7953"
             ],
             [
              0.7777777777777778,
              "#fb9f3a"
             ],
             [
              0.8888888888888888,
              "#fdca26"
             ],
             [
              1,
              "#f0f921"
             ]
            ],
            "type": "heatmap"
           }
          ],
          "heatmapgl": [
           {
            "colorbar": {
             "outlinewidth": 0,
             "ticks": ""
            },
            "colorscale": [
             [
              0,
              "#0d0887"
             ],
             [
              0.1111111111111111,
              "#46039f"
             ],
             [
              0.2222222222222222,
              "#7201a8"
             ],
             [
              0.3333333333333333,
              "#9c179e"
             ],
             [
              0.4444444444444444,
              "#bd3786"
             ],
             [
              0.5555555555555556,
              "#d8576b"
             ],
             [
              0.6666666666666666,
              "#ed7953"
             ],
             [
              0.7777777777777778,
              "#fb9f3a"
             ],
             [
              0.8888888888888888,
              "#fdca26"
             ],
             [
              1,
              "#f0f921"
             ]
            ],
            "type": "heatmapgl"
           }
          ],
          "histogram": [
           {
            "marker": {
             "pattern": {
              "fillmode": "overlay",
              "size": 10,
              "solidity": 0.2
             }
            },
            "type": "histogram"
           }
          ],
          "histogram2d": [
           {
            "colorbar": {
             "outlinewidth": 0,
             "ticks": ""
            },
            "colorscale": [
             [
              0,
              "#0d0887"
             ],
             [
              0.1111111111111111,
              "#46039f"
             ],
             [
              0.2222222222222222,
              "#7201a8"
             ],
             [
              0.3333333333333333,
              "#9c179e"
             ],
             [
              0.4444444444444444,
              "#bd3786"
             ],
             [
              0.5555555555555556,
              "#d8576b"
             ],
             [
              0.6666666666666666,
              "#ed7953"
             ],
             [
              0.7777777777777778,
              "#fb9f3a"
             ],
             [
              0.8888888888888888,
              "#fdca26"
             ],
             [
              1,
              "#f0f921"
             ]
            ],
            "type": "histogram2d"
           }
          ],
          "histogram2dcontour": [
           {
            "colorbar": {
             "outlinewidth": 0,
             "ticks": ""
            },
            "colorscale": [
             [
              0,
              "#0d0887"
             ],
             [
              0.1111111111111111,
              "#46039f"
             ],
             [
              0.2222222222222222,
              "#7201a8"
             ],
             [
              0.3333333333333333,
              "#9c179e"
             ],
             [
              0.4444444444444444,
              "#bd3786"
             ],
             [
              0.5555555555555556,
              "#d8576b"
             ],
             [
              0.6666666666666666,
              "#ed7953"
             ],
             [
              0.7777777777777778,
              "#fb9f3a"
             ],
             [
              0.8888888888888888,
              "#fdca26"
             ],
             [
              1,
              "#f0f921"
             ]
            ],
            "type": "histogram2dcontour"
           }
          ],
          "mesh3d": [
           {
            "colorbar": {
             "outlinewidth": 0,
             "ticks": ""
            },
            "type": "mesh3d"
           }
          ],
          "parcoords": [
           {
            "line": {
             "colorbar": {
              "outlinewidth": 0,
              "ticks": ""
             }
            },
            "type": "parcoords"
           }
          ],
          "pie": [
           {
            "automargin": true,
            "type": "pie"
           }
          ],
          "scatter": [
           {
            "fillpattern": {
             "fillmode": "overlay",
             "size": 10,
             "solidity": 0.2
            },
            "type": "scatter"
           }
          ],
          "scatter3d": [
           {
            "line": {
             "colorbar": {
              "outlinewidth": 0,
              "ticks": ""
             }
            },
            "marker": {
             "colorbar": {
              "outlinewidth": 0,
              "ticks": ""
             }
            },
            "type": "scatter3d"
           }
          ],
          "scattercarpet": [
           {
            "marker": {
             "colorbar": {
              "outlinewidth": 0,
              "ticks": ""
             }
            },
            "type": "scattercarpet"
           }
          ],
          "scattergeo": [
           {
            "marker": {
             "colorbar": {
              "outlinewidth": 0,
              "ticks": ""
             }
            },
            "type": "scattergeo"
           }
          ],
          "scattergl": [
           {
            "marker": {
             "colorbar": {
              "outlinewidth": 0,
              "ticks": ""
             }
            },
            "type": "scattergl"
           }
          ],
          "scattermapbox": [
           {
            "marker": {
             "colorbar": {
              "outlinewidth": 0,
              "ticks": ""
             }
            },
            "type": "scattermapbox"
           }
          ],
          "scatterpolar": [
           {
            "marker": {
             "colorbar": {
              "outlinewidth": 0,
              "ticks": ""
             }
            },
            "type": "scatterpolar"
           }
          ],
          "scatterpolargl": [
           {
            "marker": {
             "colorbar": {
              "outlinewidth": 0,
              "ticks": ""
             }
            },
            "type": "scatterpolargl"
           }
          ],
          "scatterternary": [
           {
            "marker": {
             "colorbar": {
              "outlinewidth": 0,
              "ticks": ""
             }
            },
            "type": "scatterternary"
           }
          ],
          "surface": [
           {
            "colorbar": {
             "outlinewidth": 0,
             "ticks": ""
            },
            "colorscale": [
             [
              0,
              "#0d0887"
             ],
             [
              0.1111111111111111,
              "#46039f"
             ],
             [
              0.2222222222222222,
              "#7201a8"
             ],
             [
              0.3333333333333333,
              "#9c179e"
             ],
             [
              0.4444444444444444,
              "#bd3786"
             ],
             [
              0.5555555555555556,
              "#d8576b"
             ],
             [
              0.6666666666666666,
              "#ed7953"
             ],
             [
              0.7777777777777778,
              "#fb9f3a"
             ],
             [
              0.8888888888888888,
              "#fdca26"
             ],
             [
              1,
              "#f0f921"
             ]
            ],
            "type": "surface"
           }
          ],
          "table": [
           {
            "cells": {
             "fill": {
              "color": "#EBF0F8"
             },
             "line": {
              "color": "white"
             }
            },
            "header": {
             "fill": {
              "color": "#C8D4E3"
             },
             "line": {
              "color": "white"
             }
            },
            "type": "table"
           }
          ]
         },
         "layout": {
          "annotationdefaults": {
           "arrowcolor": "#2a3f5f",
           "arrowhead": 0,
           "arrowwidth": 1
          },
          "autotypenumbers": "strict",
          "coloraxis": {
           "colorbar": {
            "outlinewidth": 0,
            "ticks": ""
           }
          },
          "colorscale": {
           "diverging": [
            [
             0,
             "#8e0152"
            ],
            [
             0.1,
             "#c51b7d"
            ],
            [
             0.2,
             "#de77ae"
            ],
            [
             0.3,
             "#f1b6da"
            ],
            [
             0.4,
             "#fde0ef"
            ],
            [
             0.5,
             "#f7f7f7"
            ],
            [
             0.6,
             "#e6f5d0"
            ],
            [
             0.7,
             "#b8e186"
            ],
            [
             0.8,
             "#7fbc41"
            ],
            [
             0.9,
             "#4d9221"
            ],
            [
             1,
             "#276419"
            ]
           ],
           "sequential": [
            [
             0,
             "#0d0887"
            ],
            [
             0.1111111111111111,
             "#46039f"
            ],
            [
             0.2222222222222222,
             "#7201a8"
            ],
            [
             0.3333333333333333,
             "#9c179e"
            ],
            [
             0.4444444444444444,
             "#bd3786"
            ],
            [
             0.5555555555555556,
             "#d8576b"
            ],
            [
             0.6666666666666666,
             "#ed7953"
            ],
            [
             0.7777777777777778,
             "#fb9f3a"
            ],
            [
             0.8888888888888888,
             "#fdca26"
            ],
            [
             1,
             "#f0f921"
            ]
           ],
           "sequentialminus": [
            [
             0,
             "#0d0887"
            ],
            [
             0.1111111111111111,
             "#46039f"
            ],
            [
             0.2222222222222222,
             "#7201a8"
            ],
            [
             0.3333333333333333,
             "#9c179e"
            ],
            [
             0.4444444444444444,
             "#bd3786"
            ],
            [
             0.5555555555555556,
             "#d8576b"
            ],
            [
             0.6666666666666666,
             "#ed7953"
            ],
            [
             0.7777777777777778,
             "#fb9f3a"
            ],
            [
             0.8888888888888888,
             "#fdca26"
            ],
            [
             1,
             "#f0f921"
            ]
           ]
          },
          "colorway": [
           "#636efa",
           "#EF553B",
           "#00cc96",
           "#ab63fa",
           "#FFA15A",
           "#19d3f3",
           "#FF6692",
           "#B6E880",
           "#FF97FF",
           "#FECB52"
          ],
          "font": {
           "color": "#2a3f5f"
          },
          "geo": {
           "bgcolor": "white",
           "lakecolor": "white",
           "landcolor": "#E5ECF6",
           "showlakes": true,
           "showland": true,
           "subunitcolor": "white"
          },
          "hoverlabel": {
           "align": "left"
          },
          "hovermode": "closest",
          "mapbox": {
           "style": "light"
          },
          "paper_bgcolor": "white",
          "plot_bgcolor": "#E5ECF6",
          "polar": {
           "angularaxis": {
            "gridcolor": "white",
            "linecolor": "white",
            "ticks": ""
           },
           "bgcolor": "#E5ECF6",
           "radialaxis": {
            "gridcolor": "white",
            "linecolor": "white",
            "ticks": ""
           }
          },
          "scene": {
           "xaxis": {
            "backgroundcolor": "#E5ECF6",
            "gridcolor": "white",
            "gridwidth": 2,
            "linecolor": "white",
            "showbackground": true,
            "ticks": "",
            "zerolinecolor": "white"
           },
           "yaxis": {
            "backgroundcolor": "#E5ECF6",
            "gridcolor": "white",
            "gridwidth": 2,
            "linecolor": "white",
            "showbackground": true,
            "ticks": "",
            "zerolinecolor": "white"
           },
           "zaxis": {
            "backgroundcolor": "#E5ECF6",
            "gridcolor": "white",
            "gridwidth": 2,
            "linecolor": "white",
            "showbackground": true,
            "ticks": "",
            "zerolinecolor": "white"
           }
          },
          "shapedefaults": {
           "line": {
            "color": "#2a3f5f"
           }
          },
          "ternary": {
           "aaxis": {
            "gridcolor": "white",
            "linecolor": "white",
            "ticks": ""
           },
           "baxis": {
            "gridcolor": "white",
            "linecolor": "white",
            "ticks": ""
           },
           "bgcolor": "#E5ECF6",
           "caxis": {
            "gridcolor": "white",
            "linecolor": "white",
            "ticks": ""
           }
          },
          "title": {
           "x": 0.05
          },
          "xaxis": {
           "automargin": true,
           "gridcolor": "white",
           "linecolor": "white",
           "ticks": "",
           "title": {
            "standoff": 15
           },
           "zerolinecolor": "white",
           "zerolinewidth": 2
          },
          "yaxis": {
           "automargin": true,
           "gridcolor": "white",
           "linecolor": "white",
           "ticks": "",
           "title": {
            "standoff": 15
           },
           "zerolinecolor": "white",
           "zerolinewidth": 2
          }
         }
        },
        "xaxis": {
         "anchor": "y",
         "domain": [
          0,
          1
         ],
         "title": {
          "text": "Año"
         }
        },
        "yaxis": {
         "anchor": "x",
         "domain": [
          0,
          1
         ],
         "title": {
          "text": "Población entre 15 y 64 años de edad, hombres"
         }
        }
       }
      }
     },
     "metadata": {},
     "output_type": "display_data"
    },
    {
     "data": {
      "application/vnd.plotly.v1+json": {
       "config": {
        "plotlyServerURL": "https://plot.ly"
       },
       "data": [
        {
         "hovertemplate": "Continente=América Central<br>Año=%{x}<br>Población entre 15 y 64 años de edad, mujeres=%{y}<extra></extra>",
         "legendgroup": "América Central",
         "line": {
          "color": "#636efa",
          "dash": "solid"
         },
         "marker": {
          "symbol": "circle"
         },
         "mode": "lines",
         "name": "América Central",
         "orientation": "v",
         "showlegend": true,
         "type": "scatter",
         "x": [
          "1987",
          "1988",
          "1989",
          "1990",
          "1991",
          "1992",
          "1993",
          "1994",
          "1995",
          "1996",
          "1997",
          "1998",
          "1999",
          "2000",
          "2001",
          "2002",
          "2003",
          "2004",
          "2005",
          "2006",
          "2007",
          "2008",
          "2009",
          "2010",
          "2011",
          "2012",
          "2013",
          "2014",
          "2015",
          "2016",
          "2017",
          "2018",
          "2019",
          "2020",
          "2021",
          "2022"
         ],
         "xaxis": "x",
         "y": [
          2158079.5,
          2200991,
          2240623,
          2276492,
          2308360,
          2336682,
          2362211.5,
          2385188.5,
          2406322,
          2426774,
          2449522,
          2475606.5,
          2503085,
          2531033.5,
          2558346,
          2584507,
          2610196,
          2635727,
          2660192,
          2682403.5,
          2701164.5,
          2716500,
          2729530,
          2740865.5,
          2750958,
          2760941.5,
          2771325.5,
          2781985,
          2791914,
          2799970.5,
          2805398.5,
          2807699,
          2807831,
          2806680,
          2802722,
          2798391.5
         ],
         "yaxis": "y"
        },
        {
         "hovertemplate": "Continente=América del Norte<br>Año=%{x}<br>Población entre 15 y 64 años de edad, mujeres=%{y}<extra></extra>",
         "legendgroup": "América del Norte",
         "line": {
          "color": "#EF553B",
          "dash": "solid"
         },
         "marker": {
          "symbol": "circle"
         },
         "mode": "lines",
         "name": "América del Norte",
         "orientation": "v",
         "showlegend": true,
         "type": "scatter",
         "x": [
          "1987",
          "1988",
          "1989",
          "1990",
          "1991",
          "1992",
          "1993",
          "1994",
          "1995",
          "1996",
          "1997",
          "1998",
          "1999",
          "2000",
          "2001",
          "2002",
          "2003",
          "2004",
          "2005",
          "2006",
          "2007",
          "2008",
          "2009",
          "2010",
          "2011",
          "2012",
          "2013",
          "2014",
          "2015",
          "2016",
          "2017",
          "2018",
          "2019",
          "2020",
          "2021",
          "2022"
         ],
         "xaxis": "x",
         "y": [
          37392308.333333336,
          37785931,
          38198051.666666664,
          38702828.666666664,
          39255115,
          39826108.333333336,
          40429023.333333336,
          41039488.333333336,
          41669241,
          42326683,
          43007575,
          43675945,
          44341743.666666664,
          45013960.666666664,
          45659032,
          46300545,
          46918339.333333336,
          47555606.333333336,
          48196904.333333336,
          48846036,
          49459541.333333336,
          50024567,
          50552942,
          51088285.333333336,
          51522602,
          51871489.666666664,
          52200815,
          52587544,
          52993983.666666664,
          53322691.666666664,
          53588827.666666664,
          53858988,
          54082927.333333336,
          54483776.333333336,
          54582368,
          54826399
         ],
         "yaxis": "y"
        },
        {
         "hovertemplate": "Continente=América del Sur<br>Año=%{x}<br>Población entre 15 y 64 años de edad, mujeres=%{y}<extra></extra>",
         "legendgroup": "América del Sur",
         "line": {
          "color": "#00cc96",
          "dash": "solid"
         },
         "marker": {
          "symbol": "circle"
         },
         "mode": "lines",
         "name": "América del Sur",
         "orientation": "v",
         "showlegend": true,
         "type": "scatter",
         "x": [
          "1987",
          "1988",
          "1989",
          "1990",
          "1991",
          "1992",
          "1993",
          "1994",
          "1995",
          "1996",
          "1997",
          "1998",
          "1999",
          "2000",
          "2001",
          "2002",
          "2003",
          "2004",
          "2005",
          "2006",
          "2007",
          "2008",
          "2009",
          "2010",
          "2011",
          "2012",
          "2013",
          "2014",
          "2015",
          "2016",
          "2017",
          "2018",
          "2019",
          "2020",
          "2021",
          "2022"
         ],
         "xaxis": "x",
         "y": [
          13907055.6,
          14239477.6,
          14576105.8,
          14917145.2,
          15260838.8,
          15607930,
          15961787.2,
          16323025.6,
          16690298.2,
          17061557.4,
          17436776.4,
          17813706.8,
          18190002.2,
          18566150.6,
          18941762,
          19314967.2,
          19681805.8,
          20041748.4,
          20394915,
          20740302,
          21078120.4,
          21408909.2,
          21735456.2,
          22040389.4,
          22363454.8,
          22675629.4,
          22976268.2,
          23260473.6,
          23527213.6,
          23780114,
          24009610.6,
          24199091.4,
          24369438,
          24543704.2,
          24701906.4,
          24855132.6
         ],
         "yaxis": "y"
        },
        {
         "hovertemplate": "Continente=Asia<br>Año=%{x}<br>Población entre 15 y 64 años de edad, mujeres=%{y}<extra></extra>",
         "legendgroup": "Asia",
         "line": {
          "color": "#ab63fa",
          "dash": "solid"
         },
         "marker": {
          "symbol": "circle"
         },
         "mode": "lines",
         "name": "Asia",
         "orientation": "v",
         "showlegend": true,
         "type": "scatter",
         "x": [
          "1987",
          "1988",
          "1989",
          "1990",
          "1991",
          "1992",
          "1993",
          "1994",
          "1995",
          "1996",
          "1997",
          "1998",
          "1999",
          "2000",
          "2001",
          "2002",
          "2003",
          "2004",
          "2005",
          "2006",
          "2007",
          "2008",
          "2009",
          "2010",
          "2011",
          "2012",
          "2013",
          "2014",
          "2015",
          "2016",
          "2017",
          "2018",
          "2019",
          "2020",
          "2021",
          "2022"
         ],
         "xaxis": "x",
         "y": [
          69586926.1111111,
          71169054.55555555,
          72688062.22222222,
          74047957.77777778,
          75374790.8888889,
          76745223.66666667,
          78100264.22222222,
          79495053.55555555,
          80936178.22222222,
          82433359.8888889,
          84026768.77777778,
          85595382.66666667,
          87096692.55555555,
          88603553.44444445,
          90176603.33333333,
          91871727,
          93571815.55555555,
          95242425.33333333,
          96949441,
          98517072.55555555,
          99861611.66666667,
          101133199.77777778,
          102349139.55555555,
          103500483.1111111,
          104628560.77777778,
          105719112.8888889,
          106694999.44444445,
          107577386.77777778,
          108363872.1111111,
          109115657.66666667,
          109809867.44444445,
          110422185.8888889,
          111020774.1111111,
          111577208.22222222,
          112098863.66666667,
          112571295.77777778
         ],
         "yaxis": "y"
        },
        {
         "hovertemplate": "Continente=Europa<br>Año=%{x}<br>Población entre 15 y 64 años de edad, mujeres=%{y}<extra></extra>",
         "legendgroup": "Europa",
         "line": {
          "color": "#FFA15A",
          "dash": "solid"
         },
         "marker": {
          "symbol": "circle"
         },
         "mode": "lines",
         "name": "Europa",
         "orientation": "v",
         "showlegend": true,
         "type": "scatter",
         "x": [
          "1987",
          "1988",
          "1989",
          "1990",
          "1991",
          "1992",
          "1993",
          "1994",
          "1995",
          "1996",
          "1997",
          "1998",
          "1999",
          "2000",
          "2001",
          "2002",
          "2003",
          "2004",
          "2005",
          "2006",
          "2007",
          "2008",
          "2009",
          "2010",
          "2011",
          "2012",
          "2013",
          "2014",
          "2015",
          "2016",
          "2017",
          "2018",
          "2019",
          "2020",
          "2021",
          "2022"
         ],
         "xaxis": "x",
         "y": [
          11574647.454545455,
          11594442.454545455,
          11617446.272727273,
          11630702,
          11654902.727272727,
          11678189.181818182,
          11697713,
          11720095.363636363,
          11754903.454545455,
          11796696.818181818,
          11844505.454545455,
          11905947.363636363,
          11973924.363636363,
          12030808.363636363,
          12085140,
          12140507.454545455,
          12180903.727272727,
          12204586.454545455,
          12225029.363636363,
          12248662.181818182,
          12293459,
          12349484.090909092,
          12390241.727272727,
          12422441.545454545,
          12386670,
          12362387.727272727,
          12326266,
          12287549.909090908,
          12261502.090909092,
          12241035.818181818,
          12210148.454545455,
          12181389.181818182,
          12155669.909090908,
          12112709.181818182,
          12054674.727272727,
          12059373
         ],
         "yaxis": "y"
        },
        {
         "hovertemplate": "Continente=Oceanía<br>Año=%{x}<br>Población entre 15 y 64 años de edad, mujeres=%{y}<extra></extra>",
         "legendgroup": "Oceanía",
         "line": {
          "color": "#19d3f3",
          "dash": "solid"
         },
         "marker": {
          "symbol": "circle"
         },
         "mode": "lines",
         "name": "Oceanía",
         "orientation": "v",
         "showlegend": true,
         "type": "scatter",
         "x": [
          "1987",
          "1988",
          "1989",
          "1990",
          "1991",
          "1992",
          "1993",
          "1994",
          "1995",
          "1996",
          "1997",
          "1998",
          "1999",
          "2000",
          "2001",
          "2002",
          "2003",
          "2004",
          "2005",
          "2006",
          "2007",
          "2008",
          "2009",
          "2010",
          "2011",
          "2012",
          "2013",
          "2014",
          "2015",
          "2016",
          "2017",
          "2018",
          "2019",
          "2020",
          "2021",
          "2022"
         ],
         "xaxis": "x",
         "y": [
          1669589,
          1698282.5,
          1726774.5,
          1751898.5,
          1784117.75,
          1802928.75,
          1818488.5,
          1836555.75,
          1858659.5,
          1884690,
          1909753.75,
          1932850.25,
          1956934,
          1982293.25,
          2009685.25,
          2038984.25,
          2069784.25,
          2097441.25,
          2126052.25,
          2156468,
          2193057,
          2232161.25,
          2272426.25,
          2303160.5,
          2327842.75,
          2356446,
          2385785.75,
          2415819,
          2447057.75,
          2481686,
          2517827,
          2549595.75,
          2579877.5,
          2607143.5,
          2603991.25,
          2622119
         ],
         "yaxis": "y"
        },
        {
         "hovertemplate": "Continente=África<br>Año=%{x}<br>Población entre 15 y 64 años de edad, mujeres=%{y}<extra></extra>",
         "legendgroup": "África",
         "line": {
          "color": "#FF6692",
          "dash": "solid"
         },
         "marker": {
          "symbol": "circle"
         },
         "mode": "lines",
         "name": "África",
         "orientation": "v",
         "showlegend": true,
         "type": "scatter",
         "x": [
          "1987",
          "1988",
          "1989",
          "1990",
          "1991",
          "1992",
          "1993",
          "1994",
          "1995",
          "1996",
          "1997",
          "1998",
          "1999",
          "2000",
          "2001",
          "2002",
          "2003",
          "2004",
          "2005",
          "2006",
          "2007",
          "2008",
          "2009",
          "2010",
          "2011",
          "2012",
          "2013",
          "2014",
          "2015",
          "2016",
          "2017",
          "2018",
          "2019",
          "2020",
          "2021",
          "2022"
         ],
         "xaxis": "x",
         "y": [
          5135450.2,
          5289402.9,
          5443234.4,
          5598101.8,
          5747031.9,
          5896262.4,
          6055946.3,
          6188907.1,
          6340302.5,
          6552111.7,
          6761235.8,
          6954128.4,
          7149210.6,
          7351844.1,
          7563904.7,
          7781425.8,
          7999992.4,
          8219045.8,
          8430216.3,
          8634097.1,
          8837118.8,
          9040395.9,
          9243370.4,
          9444485.3,
          9647351,
          9849084.9,
          10051781.4,
          10260088.8,
          10472072,
          10670303.3,
          10864333.9,
          11071945.4,
          11284232.4,
          11506489.9,
          11735876.9,
          11970682.8
         ],
         "yaxis": "y"
        }
       ],
       "layout": {
        "legend": {
         "title": {
          "text": "Continente"
         },
         "tracegroupgap": 0
        },
        "margin": {
         "t": 60
        },
        "template": {
         "data": {
          "bar": [
           {
            "error_x": {
             "color": "#2a3f5f"
            },
            "error_y": {
             "color": "#2a3f5f"
            },
            "marker": {
             "line": {
              "color": "#E5ECF6",
              "width": 0.5
             },
             "pattern": {
              "fillmode": "overlay",
              "size": 10,
              "solidity": 0.2
             }
            },
            "type": "bar"
           }
          ],
          "barpolar": [
           {
            "marker": {
             "line": {
              "color": "#E5ECF6",
              "width": 0.5
             },
             "pattern": {
              "fillmode": "overlay",
              "size": 10,
              "solidity": 0.2
             }
            },
            "type": "barpolar"
           }
          ],
          "carpet": [
           {
            "aaxis": {
             "endlinecolor": "#2a3f5f",
             "gridcolor": "white",
             "linecolor": "white",
             "minorgridcolor": "white",
             "startlinecolor": "#2a3f5f"
            },
            "baxis": {
             "endlinecolor": "#2a3f5f",
             "gridcolor": "white",
             "linecolor": "white",
             "minorgridcolor": "white",
             "startlinecolor": "#2a3f5f"
            },
            "type": "carpet"
           }
          ],
          "choropleth": [
           {
            "colorbar": {
             "outlinewidth": 0,
             "ticks": ""
            },
            "type": "choropleth"
           }
          ],
          "contour": [
           {
            "colorbar": {
             "outlinewidth": 0,
             "ticks": ""
            },
            "colorscale": [
             [
              0,
              "#0d0887"
             ],
             [
              0.1111111111111111,
              "#46039f"
             ],
             [
              0.2222222222222222,
              "#7201a8"
             ],
             [
              0.3333333333333333,
              "#9c179e"
             ],
             [
              0.4444444444444444,
              "#bd3786"
             ],
             [
              0.5555555555555556,
              "#d8576b"
             ],
             [
              0.6666666666666666,
              "#ed7953"
             ],
             [
              0.7777777777777778,
              "#fb9f3a"
             ],
             [
              0.8888888888888888,
              "#fdca26"
             ],
             [
              1,
              "#f0f921"
             ]
            ],
            "type": "contour"
           }
          ],
          "contourcarpet": [
           {
            "colorbar": {
             "outlinewidth": 0,
             "ticks": ""
            },
            "type": "contourcarpet"
           }
          ],
          "heatmap": [
           {
            "colorbar": {
             "outlinewidth": 0,
             "ticks": ""
            },
            "colorscale": [
             [
              0,
              "#0d0887"
             ],
             [
              0.1111111111111111,
              "#46039f"
             ],
             [
              0.2222222222222222,
              "#7201a8"
             ],
             [
              0.3333333333333333,
              "#9c179e"
             ],
             [
              0.4444444444444444,
              "#bd3786"
             ],
             [
              0.5555555555555556,
              "#d8576b"
             ],
             [
              0.6666666666666666,
              "#ed7953"
             ],
             [
              0.7777777777777778,
              "#fb9f3a"
             ],
             [
              0.8888888888888888,
              "#fdca26"
             ],
             [
              1,
              "#f0f921"
             ]
            ],
            "type": "heatmap"
           }
          ],
          "heatmapgl": [
           {
            "colorbar": {
             "outlinewidth": 0,
             "ticks": ""
            },
            "colorscale": [
             [
              0,
              "#0d0887"
             ],
             [
              0.1111111111111111,
              "#46039f"
             ],
             [
              0.2222222222222222,
              "#7201a8"
             ],
             [
              0.3333333333333333,
              "#9c179e"
             ],
             [
              0.4444444444444444,
              "#bd3786"
             ],
             [
              0.5555555555555556,
              "#d8576b"
             ],
             [
              0.6666666666666666,
              "#ed7953"
             ],
             [
              0.7777777777777778,
              "#fb9f3a"
             ],
             [
              0.8888888888888888,
              "#fdca26"
             ],
             [
              1,
              "#f0f921"
             ]
            ],
            "type": "heatmapgl"
           }
          ],
          "histogram": [
           {
            "marker": {
             "pattern": {
              "fillmode": "overlay",
              "size": 10,
              "solidity": 0.2
             }
            },
            "type": "histogram"
           }
          ],
          "histogram2d": [
           {
            "colorbar": {
             "outlinewidth": 0,
             "ticks": ""
            },
            "colorscale": [
             [
              0,
              "#0d0887"
             ],
             [
              0.1111111111111111,
              "#46039f"
             ],
             [
              0.2222222222222222,
              "#7201a8"
             ],
             [
              0.3333333333333333,
              "#9c179e"
             ],
             [
              0.4444444444444444,
              "#bd3786"
             ],
             [
              0.5555555555555556,
              "#d8576b"
             ],
             [
              0.6666666666666666,
              "#ed7953"
             ],
             [
              0.7777777777777778,
              "#fb9f3a"
             ],
             [
              0.8888888888888888,
              "#fdca26"
             ],
             [
              1,
              "#f0f921"
             ]
            ],
            "type": "histogram2d"
           }
          ],
          "histogram2dcontour": [
           {
            "colorbar": {
             "outlinewidth": 0,
             "ticks": ""
            },
            "colorscale": [
             [
              0,
              "#0d0887"
             ],
             [
              0.1111111111111111,
              "#46039f"
             ],
             [
              0.2222222222222222,
              "#7201a8"
             ],
             [
              0.3333333333333333,
              "#9c179e"
             ],
             [
              0.4444444444444444,
              "#bd3786"
             ],
             [
              0.5555555555555556,
              "#d8576b"
             ],
             [
              0.6666666666666666,
              "#ed7953"
             ],
             [
              0.7777777777777778,
              "#fb9f3a"
             ],
             [
              0.8888888888888888,
              "#fdca26"
             ],
             [
              1,
              "#f0f921"
             ]
            ],
            "type": "histogram2dcontour"
           }
          ],
          "mesh3d": [
           {
            "colorbar": {
             "outlinewidth": 0,
             "ticks": ""
            },
            "type": "mesh3d"
           }
          ],
          "parcoords": [
           {
            "line": {
             "colorbar": {
              "outlinewidth": 0,
              "ticks": ""
             }
            },
            "type": "parcoords"
           }
          ],
          "pie": [
           {
            "automargin": true,
            "type": "pie"
           }
          ],
          "scatter": [
           {
            "fillpattern": {
             "fillmode": "overlay",
             "size": 10,
             "solidity": 0.2
            },
            "type": "scatter"
           }
          ],
          "scatter3d": [
           {
            "line": {
             "colorbar": {
              "outlinewidth": 0,
              "ticks": ""
             }
            },
            "marker": {
             "colorbar": {
              "outlinewidth": 0,
              "ticks": ""
             }
            },
            "type": "scatter3d"
           }
          ],
          "scattercarpet": [
           {
            "marker": {
             "colorbar": {
              "outlinewidth": 0,
              "ticks": ""
             }
            },
            "type": "scattercarpet"
           }
          ],
          "scattergeo": [
           {
            "marker": {
             "colorbar": {
              "outlinewidth": 0,
              "ticks": ""
             }
            },
            "type": "scattergeo"
           }
          ],
          "scattergl": [
           {
            "marker": {
             "colorbar": {
              "outlinewidth": 0,
              "ticks": ""
             }
            },
            "type": "scattergl"
           }
          ],
          "scattermapbox": [
           {
            "marker": {
             "colorbar": {
              "outlinewidth": 0,
              "ticks": ""
             }
            },
            "type": "scattermapbox"
           }
          ],
          "scatterpolar": [
           {
            "marker": {
             "colorbar": {
              "outlinewidth": 0,
              "ticks": ""
             }
            },
            "type": "scatterpolar"
           }
          ],
          "scatterpolargl": [
           {
            "marker": {
             "colorbar": {
              "outlinewidth": 0,
              "ticks": ""
             }
            },
            "type": "scatterpolargl"
           }
          ],
          "scatterternary": [
           {
            "marker": {
             "colorbar": {
              "outlinewidth": 0,
              "ticks": ""
             }
            },
            "type": "scatterternary"
           }
          ],
          "surface": [
           {
            "colorbar": {
             "outlinewidth": 0,
             "ticks": ""
            },
            "colorscale": [
             [
              0,
              "#0d0887"
             ],
             [
              0.1111111111111111,
              "#46039f"
             ],
             [
              0.2222222222222222,
              "#7201a8"
             ],
             [
              0.3333333333333333,
              "#9c179e"
             ],
             [
              0.4444444444444444,
              "#bd3786"
             ],
             [
              0.5555555555555556,
              "#d8576b"
             ],
             [
              0.6666666666666666,
              "#ed7953"
             ],
             [
              0.7777777777777778,
              "#fb9f3a"
             ],
             [
              0.8888888888888888,
              "#fdca26"
             ],
             [
              1,
              "#f0f921"
             ]
            ],
            "type": "surface"
           }
          ],
          "table": [
           {
            "cells": {
             "fill": {
              "color": "#EBF0F8"
             },
             "line": {
              "color": "white"
             }
            },
            "header": {
             "fill": {
              "color": "#C8D4E3"
             },
             "line": {
              "color": "white"
             }
            },
            "type": "table"
           }
          ]
         },
         "layout": {
          "annotationdefaults": {
           "arrowcolor": "#2a3f5f",
           "arrowhead": 0,
           "arrowwidth": 1
          },
          "autotypenumbers": "strict",
          "coloraxis": {
           "colorbar": {
            "outlinewidth": 0,
            "ticks": ""
           }
          },
          "colorscale": {
           "diverging": [
            [
             0,
             "#8e0152"
            ],
            [
             0.1,
             "#c51b7d"
            ],
            [
             0.2,
             "#de77ae"
            ],
            [
             0.3,
             "#f1b6da"
            ],
            [
             0.4,
             "#fde0ef"
            ],
            [
             0.5,
             "#f7f7f7"
            ],
            [
             0.6,
             "#e6f5d0"
            ],
            [
             0.7,
             "#b8e186"
            ],
            [
             0.8,
             "#7fbc41"
            ],
            [
             0.9,
             "#4d9221"
            ],
            [
             1,
             "#276419"
            ]
           ],
           "sequential": [
            [
             0,
             "#0d0887"
            ],
            [
             0.1111111111111111,
             "#46039f"
            ],
            [
             0.2222222222222222,
             "#7201a8"
            ],
            [
             0.3333333333333333,
             "#9c179e"
            ],
            [
             0.4444444444444444,
             "#bd3786"
            ],
            [
             0.5555555555555556,
             "#d8576b"
            ],
            [
             0.6666666666666666,
             "#ed7953"
            ],
            [
             0.7777777777777778,
             "#fb9f3a"
            ],
            [
             0.8888888888888888,
             "#fdca26"
            ],
            [
             1,
             "#f0f921"
            ]
           ],
           "sequentialminus": [
            [
             0,
             "#0d0887"
            ],
            [
             0.1111111111111111,
             "#46039f"
            ],
            [
             0.2222222222222222,
             "#7201a8"
            ],
            [
             0.3333333333333333,
             "#9c179e"
            ],
            [
             0.4444444444444444,
             "#bd3786"
            ],
            [
             0.5555555555555556,
             "#d8576b"
            ],
            [
             0.6666666666666666,
             "#ed7953"
            ],
            [
             0.7777777777777778,
             "#fb9f3a"
            ],
            [
             0.8888888888888888,
             "#fdca26"
            ],
            [
             1,
             "#f0f921"
            ]
           ]
          },
          "colorway": [
           "#636efa",
           "#EF553B",
           "#00cc96",
           "#ab63fa",
           "#FFA15A",
           "#19d3f3",
           "#FF6692",
           "#B6E880",
           "#FF97FF",
           "#FECB52"
          ],
          "font": {
           "color": "#2a3f5f"
          },
          "geo": {
           "bgcolor": "white",
           "lakecolor": "white",
           "landcolor": "#E5ECF6",
           "showlakes": true,
           "showland": true,
           "subunitcolor": "white"
          },
          "hoverlabel": {
           "align": "left"
          },
          "hovermode": "closest",
          "mapbox": {
           "style": "light"
          },
          "paper_bgcolor": "white",
          "plot_bgcolor": "#E5ECF6",
          "polar": {
           "angularaxis": {
            "gridcolor": "white",
            "linecolor": "white",
            "ticks": ""
           },
           "bgcolor": "#E5ECF6",
           "radialaxis": {
            "gridcolor": "white",
            "linecolor": "white",
            "ticks": ""
           }
          },
          "scene": {
           "xaxis": {
            "backgroundcolor": "#E5ECF6",
            "gridcolor": "white",
            "gridwidth": 2,
            "linecolor": "white",
            "showbackground": true,
            "ticks": "",
            "zerolinecolor": "white"
           },
           "yaxis": {
            "backgroundcolor": "#E5ECF6",
            "gridcolor": "white",
            "gridwidth": 2,
            "linecolor": "white",
            "showbackground": true,
            "ticks": "",
            "zerolinecolor": "white"
           },
           "zaxis": {
            "backgroundcolor": "#E5ECF6",
            "gridcolor": "white",
            "gridwidth": 2,
            "linecolor": "white",
            "showbackground": true,
            "ticks": "",
            "zerolinecolor": "white"
           }
          },
          "shapedefaults": {
           "line": {
            "color": "#2a3f5f"
           }
          },
          "ternary": {
           "aaxis": {
            "gridcolor": "white",
            "linecolor": "white",
            "ticks": ""
           },
           "baxis": {
            "gridcolor": "white",
            "linecolor": "white",
            "ticks": ""
           },
           "bgcolor": "#E5ECF6",
           "caxis": {
            "gridcolor": "white",
            "linecolor": "white",
            "ticks": ""
           }
          },
          "title": {
           "x": 0.05
          },
          "xaxis": {
           "automargin": true,
           "gridcolor": "white",
           "linecolor": "white",
           "ticks": "",
           "title": {
            "standoff": 15
           },
           "zerolinecolor": "white",
           "zerolinewidth": 2
          },
          "yaxis": {
           "automargin": true,
           "gridcolor": "white",
           "linecolor": "white",
           "ticks": "",
           "title": {
            "standoff": 15
           },
           "zerolinecolor": "white",
           "zerolinewidth": 2
          }
         }
        },
        "xaxis": {
         "anchor": "y",
         "domain": [
          0,
          1
         ],
         "title": {
          "text": "Año"
         }
        },
        "yaxis": {
         "anchor": "x",
         "domain": [
          0,
          1
         ],
         "title": {
          "text": "Población entre 15 y 64 años de edad, mujeres"
         }
        }
       }
      }
     },
     "metadata": {},
     "output_type": "display_data"
    },
    {
     "data": {
      "application/vnd.plotly.v1+json": {
       "config": {
        "plotlyServerURL": "https://plot.ly"
       },
       "data": [
        {
         "hovertemplate": "Continente=América Central<br>Año=%{x}<br>Población entre 15 y 64 años de edad, total=%{y}<extra></extra>",
         "legendgroup": "América Central",
         "line": {
          "color": "#636efa",
          "dash": "solid"
         },
         "marker": {
          "symbol": "circle"
         },
         "mode": "lines",
         "name": "América Central",
         "orientation": "v",
         "showlegend": true,
         "type": "scatter",
         "x": [
          "1987",
          "1988",
          "1989",
          "1990",
          "1991",
          "1992",
          "1993",
          "1994",
          "1995",
          "1996",
          "1997",
          "1998",
          "1999",
          "2000",
          "2001",
          "2002",
          "2003",
          "2004",
          "2005",
          "2006",
          "2007",
          "2008",
          "2009",
          "2010",
          "2011",
          "2012",
          "2013",
          "2014",
          "2015",
          "2016",
          "2017",
          "2018",
          "2019",
          "2020",
          "2021",
          "2022"
         ],
         "xaxis": "x",
         "y": [
          4356483,
          4443400.5,
          4523517.5,
          4595938,
          4660285,
          4717453,
          4768885,
          4813178.5,
          4851817.5,
          4888989.5,
          4930836,
          4979660.5,
          5031472.5,
          5084288.5,
          5135623.5,
          5184790.5,
          5234718.5,
          5285834,
          5334875,
          5379511,
          5417311,
          5448000,
          5473833.5,
          5496499,
          5517185,
          5538174,
          5560249,
          5582465,
          5603164,
          5620534.5,
          5632845.5,
          5638968,
          5640718,
          5639871.5,
          5633096,
          5625507
         ],
         "yaxis": "y"
        },
        {
         "hovertemplate": "Continente=América del Norte<br>Año=%{x}<br>Población entre 15 y 64 años de edad, total=%{y}<extra></extra>",
         "legendgroup": "América del Norte",
         "line": {
          "color": "#EF553B",
          "dash": "solid"
         },
         "marker": {
          "symbol": "circle"
         },
         "mode": "lines",
         "name": "América del Norte",
         "orientation": "v",
         "showlegend": true,
         "type": "scatter",
         "x": [
          "1987",
          "1988",
          "1989",
          "1990",
          "1991",
          "1992",
          "1993",
          "1994",
          "1995",
          "1996",
          "1997",
          "1998",
          "1999",
          "2000",
          "2001",
          "2002",
          "2003",
          "2004",
          "2005",
          "2006",
          "2007",
          "2008",
          "2009",
          "2010",
          "2011",
          "2012",
          "2013",
          "2014",
          "2015",
          "2016",
          "2017",
          "2018",
          "2019",
          "2020",
          "2021",
          "2022"
         ],
         "xaxis": "x",
         "y": [
          74146444.33333333,
          74943705.66666667,
          75784216,
          76815990.66666667,
          77944100,
          79089319.33333333,
          80259459,
          81417957,
          82608044.33333333,
          83855503,
          85167292.33333333,
          86460668.33333333,
          87773312.66666667,
          89128346,
          90405600.33333333,
          91648343.33333333,
          92843706.66666667,
          94096916.33333333,
          95365992,
          96648452,
          97855042,
          98954380.33333333,
          99985842.33333333,
          101041612.66666667,
          101938436.66666667,
          102728392.66666667,
          103488750.66666667,
          104337275.33333333,
          105222076.33333333,
          105953118,
          106550250,
          107155355.66666667,
          107661655.66666667,
          108485771.33333333,
          108664788.66666667,
          109148343
         ],
         "yaxis": "y"
        },
        {
         "hovertemplate": "Continente=América del Sur<br>Año=%{x}<br>Población entre 15 y 64 años de edad, total=%{y}<extra></extra>",
         "legendgroup": "América del Sur",
         "line": {
          "color": "#00cc96",
          "dash": "solid"
         },
         "marker": {
          "symbol": "circle"
         },
         "mode": "lines",
         "name": "América del Sur",
         "orientation": "v",
         "showlegend": true,
         "type": "scatter",
         "x": [
          "1987",
          "1988",
          "1989",
          "1990",
          "1991",
          "1992",
          "1993",
          "1994",
          "1995",
          "1996",
          "1997",
          "1998",
          "1999",
          "2000",
          "2001",
          "2002",
          "2003",
          "2004",
          "2005",
          "2006",
          "2007",
          "2008",
          "2009",
          "2010",
          "2011",
          "2012",
          "2013",
          "2014",
          "2015",
          "2016",
          "2017",
          "2018",
          "2019",
          "2020",
          "2021",
          "2022"
         ],
         "xaxis": "x",
         "y": [
          27548322.4,
          28203865.2,
          28868163.6,
          29541130.6,
          30219650.8,
          30905892.6,
          31606473.2,
          32322839.6,
          33051608,
          33788440.8,
          34533267,
          35281297.2,
          36027858.8,
          36772021.2,
          37512277,
          38246893.6,
          38969202.8,
          39678013.4,
          40374045.4,
          41055321,
          41721689.2,
          42374862,
          43020949.8,
          43624721.4,
          44267664,
          44891589.2,
          45494313.6,
          46067421.6,
          46607673.4,
          47120219,
          47587240.4,
          47976646.8,
          48329315,
          48688194.8,
          49011503,
          49325814.8
         ],
         "yaxis": "y"
        },
        {
         "hovertemplate": "Continente=Asia<br>Año=%{x}<br>Población entre 15 y 64 años de edad, total=%{y}<extra></extra>",
         "legendgroup": "Asia",
         "line": {
          "color": "#ab63fa",
          "dash": "solid"
         },
         "marker": {
          "symbol": "circle"
         },
         "mode": "lines",
         "name": "Asia",
         "orientation": "v",
         "showlegend": true,
         "type": "scatter",
         "x": [
          "1987",
          "1988",
          "1989",
          "1990",
          "1991",
          "1992",
          "1993",
          "1994",
          "1995",
          "1996",
          "1997",
          "1998",
          "1999",
          "2000",
          "2001",
          "2002",
          "2003",
          "2004",
          "2005",
          "2006",
          "2007",
          "2008",
          "2009",
          "2010",
          "2011",
          "2012",
          "2013",
          "2014",
          "2015",
          "2016",
          "2017",
          "2018",
          "2019",
          "2020",
          "2021",
          "2022"
         ],
         "xaxis": "x",
         "y": [
          143171853.1111111,
          146424155.2222222,
          149546026.7777778,
          152341640.1111111,
          155068433.7777778,
          157884132.1111111,
          160668016.44444445,
          163535830.66666666,
          166500356.55555555,
          169582048.7777778,
          172866948.7777778,
          176098538.44444445,
          179194634.55555555,
          182312132.66666666,
          185560804,
          189050668.44444445,
          192546818,
          195981109.44444445,
          199510971.8888889,
          202790858.44444445,
          205638257.8888889,
          208348110.55555555,
          210941825.33333334,
          213372854.66666666,
          215727556.1111111,
          218006563.1111111,
          220067887.1111111,
          221959555.44444445,
          223700498.55555555,
          225412726.33333334,
          226999443.44444445,
          228406367.66666666,
          229788593,
          231060758.7777778,
          232236970.8888889,
          233319843.66666666
         ],
         "yaxis": "y"
        },
        {
         "hovertemplate": "Continente=Europa<br>Año=%{x}<br>Población entre 15 y 64 años de edad, total=%{y}<extra></extra>",
         "legendgroup": "Europa",
         "line": {
          "color": "#FFA15A",
          "dash": "solid"
         },
         "marker": {
          "symbol": "circle"
         },
         "mode": "lines",
         "name": "Europa",
         "orientation": "v",
         "showlegend": true,
         "type": "scatter",
         "x": [
          "1987",
          "1988",
          "1989",
          "1990",
          "1991",
          "1992",
          "1993",
          "1994",
          "1995",
          "1996",
          "1997",
          "1998",
          "1999",
          "2000",
          "2001",
          "2002",
          "2003",
          "2004",
          "2005",
          "2006",
          "2007",
          "2008",
          "2009",
          "2010",
          "2011",
          "2012",
          "2013",
          "2014",
          "2015",
          "2016",
          "2017",
          "2018",
          "2019",
          "2020",
          "2021",
          "2022"
         ],
         "xaxis": "x",
         "y": [
          22811178.363636363,
          22898740.454545453,
          22991894.454545453,
          23058677.90909091,
          23134639.363636363,
          23197439.727272727,
          23243610.636363637,
          23287025.818181816,
          23347865.272727273,
          23418090.363636363,
          23500781.636363637,
          23611732.90909091,
          23731966.09090909,
          23828402.272727273,
          23921558.454545453,
          24024101.545454547,
          24099920.272727273,
          24142543.90909091,
          24180045,
          24222856,
          24307941.181818184,
          24411438.181818184,
          24480335.09090909,
          24535741.90909091,
          24464001.454545453,
          24422138.90909091,
          24357141.181818184,
          24290260.818181816,
          24251133.454545453,
          24222196.545454547,
          24171456,
          24125282.09090909,
          24088486.636363637,
          24018838.727272727,
          23914367.272727273,
          23933703.636363637
         ],
         "yaxis": "y"
        },
        {
         "hovertemplate": "Continente=Oceanía<br>Año=%{x}<br>Población entre 15 y 64 años de edad, total=%{y}<extra></extra>",
         "legendgroup": "Oceanía",
         "line": {
          "color": "#19d3f3",
          "dash": "solid"
         },
         "marker": {
          "symbol": "circle"
         },
         "mode": "lines",
         "name": "Oceanía",
         "orientation": "v",
         "showlegend": true,
         "type": "scatter",
         "x": [
          "1987",
          "1988",
          "1989",
          "1990",
          "1991",
          "1992",
          "1993",
          "1994",
          "1995",
          "1996",
          "1997",
          "1998",
          "1999",
          "2000",
          "2001",
          "2002",
          "2003",
          "2004",
          "2005",
          "2006",
          "2007",
          "2008",
          "2009",
          "2010",
          "2011",
          "2012",
          "2013",
          "2014",
          "2015",
          "2016",
          "2017",
          "2018",
          "2019",
          "2020",
          "2021",
          "2022"
         ],
         "xaxis": "x",
         "y": [
          3379225.5,
          3434474,
          3489293.25,
          3537179.75,
          3598672,
          3634003,
          3663447.25,
          3698007,
          3740623.75,
          3790000.5,
          3836063.5,
          3877913.75,
          3921910.25,
          3968617.75,
          4020697,
          4078156.25,
          4138850.25,
          4193071.75,
          4249381.5,
          4309951,
          4384149.5,
          4464154,
          4545343.75,
          4604730.25,
          4650617,
          4704375.5,
          4759053,
          4814332.5,
          4871930,
          4937223.5,
          5007677.25,
          5072157.5,
          5136795.75,
          5195909,
          5193292.25,
          5232786.5
         ],
         "yaxis": "y"
        },
        {
         "hovertemplate": "Continente=África<br>Año=%{x}<br>Población entre 15 y 64 años de edad, total=%{y}<extra></extra>",
         "legendgroup": "África",
         "line": {
          "color": "#FF6692",
          "dash": "solid"
         },
         "marker": {
          "symbol": "circle"
         },
         "mode": "lines",
         "name": "África",
         "orientation": "v",
         "showlegend": true,
         "type": "scatter",
         "x": [
          "1987",
          "1988",
          "1989",
          "1990",
          "1991",
          "1992",
          "1993",
          "1994",
          "1995",
          "1996",
          "1997",
          "1998",
          "1999",
          "2000",
          "2001",
          "2002",
          "2003",
          "2004",
          "2005",
          "2006",
          "2007",
          "2008",
          "2009",
          "2010",
          "2011",
          "2012",
          "2013",
          "2014",
          "2015",
          "2016",
          "2017",
          "2018",
          "2019",
          "2020",
          "2021",
          "2022"
         ],
         "xaxis": "x",
         "y": [
          10115685.7,
          10431737.4,
          10749085.2,
          11068273,
          11372978.1,
          11664067.3,
          11962239.2,
          12202774,
          12481344.5,
          12885942,
          13302437.5,
          13702321.8,
          14106739.3,
          14526243.6,
          14963721.9,
          15413249.8,
          15867182,
          16322778.3,
          16762518.2,
          17187055.6,
          17608603.4,
          18028842.8,
          18447030.8,
          18861749.2,
          19282926.1,
          19701462.8,
          20118319.5,
          20548669.8,
          20995442.9,
          21397546.6,
          21780366.7,
          22202306.9,
          22633528.8,
          23085558.4,
          23551523.3,
          24027438.9
         ],
         "yaxis": "y"
        }
       ],
       "layout": {
        "legend": {
         "title": {
          "text": "Continente"
         },
         "tracegroupgap": 0
        },
        "margin": {
         "t": 60
        },
        "template": {
         "data": {
          "bar": [
           {
            "error_x": {
             "color": "#2a3f5f"
            },
            "error_y": {
             "color": "#2a3f5f"
            },
            "marker": {
             "line": {
              "color": "#E5ECF6",
              "width": 0.5
             },
             "pattern": {
              "fillmode": "overlay",
              "size": 10,
              "solidity": 0.2
             }
            },
            "type": "bar"
           }
          ],
          "barpolar": [
           {
            "marker": {
             "line": {
              "color": "#E5ECF6",
              "width": 0.5
             },
             "pattern": {
              "fillmode": "overlay",
              "size": 10,
              "solidity": 0.2
             }
            },
            "type": "barpolar"
           }
          ],
          "carpet": [
           {
            "aaxis": {
             "endlinecolor": "#2a3f5f",
             "gridcolor": "white",
             "linecolor": "white",
             "minorgridcolor": "white",
             "startlinecolor": "#2a3f5f"
            },
            "baxis": {
             "endlinecolor": "#2a3f5f",
             "gridcolor": "white",
             "linecolor": "white",
             "minorgridcolor": "white",
             "startlinecolor": "#2a3f5f"
            },
            "type": "carpet"
           }
          ],
          "choropleth": [
           {
            "colorbar": {
             "outlinewidth": 0,
             "ticks": ""
            },
            "type": "choropleth"
           }
          ],
          "contour": [
           {
            "colorbar": {
             "outlinewidth": 0,
             "ticks": ""
            },
            "colorscale": [
             [
              0,
              "#0d0887"
             ],
             [
              0.1111111111111111,
              "#46039f"
             ],
             [
              0.2222222222222222,
              "#7201a8"
             ],
             [
              0.3333333333333333,
              "#9c179e"
             ],
             [
              0.4444444444444444,
              "#bd3786"
             ],
             [
              0.5555555555555556,
              "#d8576b"
             ],
             [
              0.6666666666666666,
              "#ed7953"
             ],
             [
              0.7777777777777778,
              "#fb9f3a"
             ],
             [
              0.8888888888888888,
              "#fdca26"
             ],
             [
              1,
              "#f0f921"
             ]
            ],
            "type": "contour"
           }
          ],
          "contourcarpet": [
           {
            "colorbar": {
             "outlinewidth": 0,
             "ticks": ""
            },
            "type": "contourcarpet"
           }
          ],
          "heatmap": [
           {
            "colorbar": {
             "outlinewidth": 0,
             "ticks": ""
            },
            "colorscale": [
             [
              0,
              "#0d0887"
             ],
             [
              0.1111111111111111,
              "#46039f"
             ],
             [
              0.2222222222222222,
              "#7201a8"
             ],
             [
              0.3333333333333333,
              "#9c179e"
             ],
             [
              0.4444444444444444,
              "#bd3786"
             ],
             [
              0.5555555555555556,
              "#d8576b"
             ],
             [
              0.6666666666666666,
              "#ed7953"
             ],
             [
              0.7777777777777778,
              "#fb9f3a"
             ],
             [
              0.8888888888888888,
              "#fdca26"
             ],
             [
              1,
              "#f0f921"
             ]
            ],
            "type": "heatmap"
           }
          ],
          "heatmapgl": [
           {
            "colorbar": {
             "outlinewidth": 0,
             "ticks": ""
            },
            "colorscale": [
             [
              0,
              "#0d0887"
             ],
             [
              0.1111111111111111,
              "#46039f"
             ],
             [
              0.2222222222222222,
              "#7201a8"
             ],
             [
              0.3333333333333333,
              "#9c179e"
             ],
             [
              0.4444444444444444,
              "#bd3786"
             ],
             [
              0.5555555555555556,
              "#d8576b"
             ],
             [
              0.6666666666666666,
              "#ed7953"
             ],
             [
              0.7777777777777778,
              "#fb9f3a"
             ],
             [
              0.8888888888888888,
              "#fdca26"
             ],
             [
              1,
              "#f0f921"
             ]
            ],
            "type": "heatmapgl"
           }
          ],
          "histogram": [
           {
            "marker": {
             "pattern": {
              "fillmode": "overlay",
              "size": 10,
              "solidity": 0.2
             }
            },
            "type": "histogram"
           }
          ],
          "histogram2d": [
           {
            "colorbar": {
             "outlinewidth": 0,
             "ticks": ""
            },
            "colorscale": [
             [
              0,
              "#0d0887"
             ],
             [
              0.1111111111111111,
              "#46039f"
             ],
             [
              0.2222222222222222,
              "#7201a8"
             ],
             [
              0.3333333333333333,
              "#9c179e"
             ],
             [
              0.4444444444444444,
              "#bd3786"
             ],
             [
              0.5555555555555556,
              "#d8576b"
             ],
             [
              0.6666666666666666,
              "#ed7953"
             ],
             [
              0.7777777777777778,
              "#fb9f3a"
             ],
             [
              0.8888888888888888,
              "#fdca26"
             ],
             [
              1,
              "#f0f921"
             ]
            ],
            "type": "histogram2d"
           }
          ],
          "histogram2dcontour": [
           {
            "colorbar": {
             "outlinewidth": 0,
             "ticks": ""
            },
            "colorscale": [
             [
              0,
              "#0d0887"
             ],
             [
              0.1111111111111111,
              "#46039f"
             ],
             [
              0.2222222222222222,
              "#7201a8"
             ],
             [
              0.3333333333333333,
              "#9c179e"
             ],
             [
              0.4444444444444444,
              "#bd3786"
             ],
             [
              0.5555555555555556,
              "#d8576b"
             ],
             [
              0.6666666666666666,
              "#ed7953"
             ],
             [
              0.7777777777777778,
              "#fb9f3a"
             ],
             [
              0.8888888888888888,
              "#fdca26"
             ],
             [
              1,
              "#f0f921"
             ]
            ],
            "type": "histogram2dcontour"
           }
          ],
          "mesh3d": [
           {
            "colorbar": {
             "outlinewidth": 0,
             "ticks": ""
            },
            "type": "mesh3d"
           }
          ],
          "parcoords": [
           {
            "line": {
             "colorbar": {
              "outlinewidth": 0,
              "ticks": ""
             }
            },
            "type": "parcoords"
           }
          ],
          "pie": [
           {
            "automargin": true,
            "type": "pie"
           }
          ],
          "scatter": [
           {
            "fillpattern": {
             "fillmode": "overlay",
             "size": 10,
             "solidity": 0.2
            },
            "type": "scatter"
           }
          ],
          "scatter3d": [
           {
            "line": {
             "colorbar": {
              "outlinewidth": 0,
              "ticks": ""
             }
            },
            "marker": {
             "colorbar": {
              "outlinewidth": 0,
              "ticks": ""
             }
            },
            "type": "scatter3d"
           }
          ],
          "scattercarpet": [
           {
            "marker": {
             "colorbar": {
              "outlinewidth": 0,
              "ticks": ""
             }
            },
            "type": "scattercarpet"
           }
          ],
          "scattergeo": [
           {
            "marker": {
             "colorbar": {
              "outlinewidth": 0,
              "ticks": ""
             }
            },
            "type": "scattergeo"
           }
          ],
          "scattergl": [
           {
            "marker": {
             "colorbar": {
              "outlinewidth": 0,
              "ticks": ""
             }
            },
            "type": "scattergl"
           }
          ],
          "scattermapbox": [
           {
            "marker": {
             "colorbar": {
              "outlinewidth": 0,
              "ticks": ""
             }
            },
            "type": "scattermapbox"
           }
          ],
          "scatterpolar": [
           {
            "marker": {
             "colorbar": {
              "outlinewidth": 0,
              "ticks": ""
             }
            },
            "type": "scatterpolar"
           }
          ],
          "scatterpolargl": [
           {
            "marker": {
             "colorbar": {
              "outlinewidth": 0,
              "ticks": ""
             }
            },
            "type": "scatterpolargl"
           }
          ],
          "scatterternary": [
           {
            "marker": {
             "colorbar": {
              "outlinewidth": 0,
              "ticks": ""
             }
            },
            "type": "scatterternary"
           }
          ],
          "surface": [
           {
            "colorbar": {
             "outlinewidth": 0,
             "ticks": ""
            },
            "colorscale": [
             [
              0,
              "#0d0887"
             ],
             [
              0.1111111111111111,
              "#46039f"
             ],
             [
              0.2222222222222222,
              "#7201a8"
             ],
             [
              0.3333333333333333,
              "#9c179e"
             ],
             [
              0.4444444444444444,
              "#bd3786"
             ],
             [
              0.5555555555555556,
              "#d8576b"
             ],
             [
              0.6666666666666666,
              "#ed7953"
             ],
             [
              0.7777777777777778,
              "#fb9f3a"
             ],
             [
              0.8888888888888888,
              "#fdca26"
             ],
             [
              1,
              "#f0f921"
             ]
            ],
            "type": "surface"
           }
          ],
          "table": [
           {
            "cells": {
             "fill": {
              "color": "#EBF0F8"
             },
             "line": {
              "color": "white"
             }
            },
            "header": {
             "fill": {
              "color": "#C8D4E3"
             },
             "line": {
              "color": "white"
             }
            },
            "type": "table"
           }
          ]
         },
         "layout": {
          "annotationdefaults": {
           "arrowcolor": "#2a3f5f",
           "arrowhead": 0,
           "arrowwidth": 1
          },
          "autotypenumbers": "strict",
          "coloraxis": {
           "colorbar": {
            "outlinewidth": 0,
            "ticks": ""
           }
          },
          "colorscale": {
           "diverging": [
            [
             0,
             "#8e0152"
            ],
            [
             0.1,
             "#c51b7d"
            ],
            [
             0.2,
             "#de77ae"
            ],
            [
             0.3,
             "#f1b6da"
            ],
            [
             0.4,
             "#fde0ef"
            ],
            [
             0.5,
             "#f7f7f7"
            ],
            [
             0.6,
             "#e6f5d0"
            ],
            [
             0.7,
             "#b8e186"
            ],
            [
             0.8,
             "#7fbc41"
            ],
            [
             0.9,
             "#4d9221"
            ],
            [
             1,
             "#276419"
            ]
           ],
           "sequential": [
            [
             0,
             "#0d0887"
            ],
            [
             0.1111111111111111,
             "#46039f"
            ],
            [
             0.2222222222222222,
             "#7201a8"
            ],
            [
             0.3333333333333333,
             "#9c179e"
            ],
            [
             0.4444444444444444,
             "#bd3786"
            ],
            [
             0.5555555555555556,
             "#d8576b"
            ],
            [
             0.6666666666666666,
             "#ed7953"
            ],
            [
             0.7777777777777778,
             "#fb9f3a"
            ],
            [
             0.8888888888888888,
             "#fdca26"
            ],
            [
             1,
             "#f0f921"
            ]
           ],
           "sequentialminus": [
            [
             0,
             "#0d0887"
            ],
            [
             0.1111111111111111,
             "#46039f"
            ],
            [
             0.2222222222222222,
             "#7201a8"
            ],
            [
             0.3333333333333333,
             "#9c179e"
            ],
            [
             0.4444444444444444,
             "#bd3786"
            ],
            [
             0.5555555555555556,
             "#d8576b"
            ],
            [
             0.6666666666666666,
             "#ed7953"
            ],
            [
             0.7777777777777778,
             "#fb9f3a"
            ],
            [
             0.8888888888888888,
             "#fdca26"
            ],
            [
             1,
             "#f0f921"
            ]
           ]
          },
          "colorway": [
           "#636efa",
           "#EF553B",
           "#00cc96",
           "#ab63fa",
           "#FFA15A",
           "#19d3f3",
           "#FF6692",
           "#B6E880",
           "#FF97FF",
           "#FECB52"
          ],
          "font": {
           "color": "#2a3f5f"
          },
          "geo": {
           "bgcolor": "white",
           "lakecolor": "white",
           "landcolor": "#E5ECF6",
           "showlakes": true,
           "showland": true,
           "subunitcolor": "white"
          },
          "hoverlabel": {
           "align": "left"
          },
          "hovermode": "closest",
          "mapbox": {
           "style": "light"
          },
          "paper_bgcolor": "white",
          "plot_bgcolor": "#E5ECF6",
          "polar": {
           "angularaxis": {
            "gridcolor": "white",
            "linecolor": "white",
            "ticks": ""
           },
           "bgcolor": "#E5ECF6",
           "radialaxis": {
            "gridcolor": "white",
            "linecolor": "white",
            "ticks": ""
           }
          },
          "scene": {
           "xaxis": {
            "backgroundcolor": "#E5ECF6",
            "gridcolor": "white",
            "gridwidth": 2,
            "linecolor": "white",
            "showbackground": true,
            "ticks": "",
            "zerolinecolor": "white"
           },
           "yaxis": {
            "backgroundcolor": "#E5ECF6",
            "gridcolor": "white",
            "gridwidth": 2,
            "linecolor": "white",
            "showbackground": true,
            "ticks": "",
            "zerolinecolor": "white"
           },
           "zaxis": {
            "backgroundcolor": "#E5ECF6",
            "gridcolor": "white",
            "gridwidth": 2,
            "linecolor": "white",
            "showbackground": true,
            "ticks": "",
            "zerolinecolor": "white"
           }
          },
          "shapedefaults": {
           "line": {
            "color": "#2a3f5f"
           }
          },
          "ternary": {
           "aaxis": {
            "gridcolor": "white",
            "linecolor": "white",
            "ticks": ""
           },
           "baxis": {
            "gridcolor": "white",
            "linecolor": "white",
            "ticks": ""
           },
           "bgcolor": "#E5ECF6",
           "caxis": {
            "gridcolor": "white",
            "linecolor": "white",
            "ticks": ""
           }
          },
          "title": {
           "x": 0.05
          },
          "xaxis": {
           "automargin": true,
           "gridcolor": "white",
           "linecolor": "white",
           "ticks": "",
           "title": {
            "standoff": 15
           },
           "zerolinecolor": "white",
           "zerolinewidth": 2
          },
          "yaxis": {
           "automargin": true,
           "gridcolor": "white",
           "linecolor": "white",
           "ticks": "",
           "title": {
            "standoff": 15
           },
           "zerolinecolor": "white",
           "zerolinewidth": 2
          }
         }
        },
        "xaxis": {
         "anchor": "y",
         "domain": [
          0,
          1
         ],
         "title": {
          "text": "Año"
         }
        },
        "yaxis": {
         "anchor": "x",
         "domain": [
          0,
          1
         ],
         "title": {
          "text": "Población entre 15 y 64 años de edad, total"
         }
        }
       }
      }
     },
     "metadata": {},
     "output_type": "display_data"
    }
   ],
   "source": [
    "for i in df_contientes.columns[2:11]:\n",
    "    graficar_indicador(i)"
   ]
  },
  {
   "cell_type": "code",
   "execution_count": 22,
   "metadata": {},
   "outputs": [
    {
     "data": {
      "text/html": [
       "<div>\n",
       "<style scoped>\n",
       "    .dataframe tbody tr th:only-of-type {\n",
       "        vertical-align: middle;\n",
       "    }\n",
       "\n",
       "    .dataframe tbody tr th {\n",
       "        vertical-align: top;\n",
       "    }\n",
       "\n",
       "    .dataframe thead th {\n",
       "        text-align: right;\n",
       "    }\n",
       "</style>\n",
       "<table border=\"1\" class=\"dataframe\">\n",
       "  <thead>\n",
       "    <tr style=\"text-align: right;\">\n",
       "      <th>serie Name</th>\n",
       "      <th>país Name</th>\n",
       "      <th>Año</th>\n",
       "      <th>Población de 65 años de edad y más, hombres</th>\n",
       "      <th>Población de 65 años de edad y más, mujeres</th>\n",
       "      <th>Población de 65 años de edad y más, total</th>\n",
       "      <th>Población entre 0 y 14 años de edad, hombres</th>\n",
       "      <th>Población entre 0 y 14 años de edad, mujeres</th>\n",
       "      <th>Población entre 0 y 14 años de edad, total</th>\n",
       "      <th>Población entre 15 y 64 años de edad, hombres</th>\n",
       "      <th>Población entre 15 y 64 años de edad, mujeres</th>\n",
       "      <th>Población entre 15 y 64 años de edad, total</th>\n",
       "      <th>Continente</th>\n",
       "    </tr>\n",
       "  </thead>\n",
       "  <tbody>\n",
       "    <tr>\n",
       "      <th>31</th>\n",
       "      <td>Afganistán</td>\n",
       "      <td>2018</td>\n",
       "      <td>383903.0</td>\n",
       "      <td>499182.0</td>\n",
       "      <td>883085.0</td>\n",
       "      <td>8402599.0</td>\n",
       "      <td>7999492.0</td>\n",
       "      <td>16402090.0</td>\n",
       "      <td>9763360.0</td>\n",
       "      <td>9638249.0</td>\n",
       "      <td>19401609.0</td>\n",
       "      <td>Asia</td>\n",
       "    </tr>\n",
       "    <tr>\n",
       "      <th>32</th>\n",
       "      <td>Afganistán</td>\n",
       "      <td>2019</td>\n",
       "      <td>395783.0</td>\n",
       "      <td>517390.0</td>\n",
       "      <td>913174.0</td>\n",
       "      <td>8567283.0</td>\n",
       "      <td>8161339.0</td>\n",
       "      <td>16728622.0</td>\n",
       "      <td>10127343.0</td>\n",
       "      <td>10000360.0</td>\n",
       "      <td>20127704.0</td>\n",
       "      <td>Asia</td>\n",
       "    </tr>\n",
       "    <tr>\n",
       "      <th>33</th>\n",
       "      <td>Afganistán</td>\n",
       "      <td>2020</td>\n",
       "      <td>407078.0</td>\n",
       "      <td>534863.0</td>\n",
       "      <td>941940.0</td>\n",
       "      <td>8740826.0</td>\n",
       "      <td>8332095.0</td>\n",
       "      <td>17072920.0</td>\n",
       "      <td>10544398.0</td>\n",
       "      <td>10412972.0</td>\n",
       "      <td>20957369.0</td>\n",
       "      <td>Asia</td>\n",
       "    </tr>\n",
       "    <tr>\n",
       "      <th>34</th>\n",
       "      <td>Afganistán</td>\n",
       "      <td>2021</td>\n",
       "      <td>414713.0</td>\n",
       "      <td>549301.0</td>\n",
       "      <td>964014.0</td>\n",
       "      <td>8912289.0</td>\n",
       "      <td>8500719.0</td>\n",
       "      <td>17413008.0</td>\n",
       "      <td>10927876.0</td>\n",
       "      <td>10794564.0</td>\n",
       "      <td>21722439.0</td>\n",
       "      <td>Asia</td>\n",
       "    </tr>\n",
       "    <tr>\n",
       "      <th>35</th>\n",
       "      <td>Afganistán</td>\n",
       "      <td>2022</td>\n",
       "      <td>421409.0</td>\n",
       "      <td>563354.0</td>\n",
       "      <td>984763.0</td>\n",
       "      <td>9076426.0</td>\n",
       "      <td>8662674.0</td>\n",
       "      <td>17739100.0</td>\n",
       "      <td>11268607.0</td>\n",
       "      <td>11136302.0</td>\n",
       "      <td>22404909.0</td>\n",
       "      <td>Asia</td>\n",
       "    </tr>\n",
       "    <tr>\n",
       "      <th>...</th>\n",
       "      <td>...</td>\n",
       "      <td>...</td>\n",
       "      <td>...</td>\n",
       "      <td>...</td>\n",
       "      <td>...</td>\n",
       "      <td>...</td>\n",
       "      <td>...</td>\n",
       "      <td>...</td>\n",
       "      <td>...</td>\n",
       "      <td>...</td>\n",
       "      <td>...</td>\n",
       "      <td>...</td>\n",
       "    </tr>\n",
       "    <tr>\n",
       "      <th>1579</th>\n",
       "      <td>Venezuela</td>\n",
       "      <td>2018</td>\n",
       "      <td>925706.0</td>\n",
       "      <td>1225534.0</td>\n",
       "      <td>2151240.0</td>\n",
       "      <td>4346047.0</td>\n",
       "      <td>4123672.0</td>\n",
       "      <td>8469719.0</td>\n",
       "      <td>9532382.0</td>\n",
       "      <td>9672311.0</td>\n",
       "      <td>19204694.0</td>\n",
       "      <td>América del Sur</td>\n",
       "    </tr>\n",
       "    <tr>\n",
       "      <th>1580</th>\n",
       "      <td>Venezuela</td>\n",
       "      <td>2019</td>\n",
       "      <td>944115.0</td>\n",
       "      <td>1264269.0</td>\n",
       "      <td>2208384.0</td>\n",
       "      <td>4253211.0</td>\n",
       "      <td>4033895.0</td>\n",
       "      <td>8287106.0</td>\n",
       "      <td>9168546.0</td>\n",
       "      <td>9307647.0</td>\n",
       "      <td>18476193.0</td>\n",
       "      <td>América del Sur</td>\n",
       "    </tr>\n",
       "    <tr>\n",
       "      <th>1581</th>\n",
       "      <td>Venezuela</td>\n",
       "      <td>2020</td>\n",
       "      <td>968446.0</td>\n",
       "      <td>1309178.0</td>\n",
       "      <td>2277624.0</td>\n",
       "      <td>4165083.0</td>\n",
       "      <td>3950208.0</td>\n",
       "      <td>8115290.0</td>\n",
       "      <td>8980231.0</td>\n",
       "      <td>9117308.0</td>\n",
       "      <td>18097538.0</td>\n",
       "      <td>América del Sur</td>\n",
       "    </tr>\n",
       "    <tr>\n",
       "      <th>1582</th>\n",
       "      <td>Venezuela</td>\n",
       "      <td>2021</td>\n",
       "      <td>995189.0</td>\n",
       "      <td>1356154.0</td>\n",
       "      <td>2351344.0</td>\n",
       "      <td>4077039.0</td>\n",
       "      <td>3867069.0</td>\n",
       "      <td>7944108.0</td>\n",
       "      <td>8884583.0</td>\n",
       "      <td>9019833.0</td>\n",
       "      <td>17904416.0</td>\n",
       "      <td>América del Sur</td>\n",
       "    </tr>\n",
       "    <tr>\n",
       "      <th>1583</th>\n",
       "      <td>Venezuela</td>\n",
       "      <td>2022</td>\n",
       "      <td>1028524.0</td>\n",
       "      <td>1407833.0</td>\n",
       "      <td>2436358.0</td>\n",
       "      <td>4004655.0</td>\n",
       "      <td>3799320.0</td>\n",
       "      <td>7803975.0</td>\n",
       "      <td>8963612.0</td>\n",
       "      <td>9097751.0</td>\n",
       "      <td>18061363.0</td>\n",
       "      <td>América del Sur</td>\n",
       "    </tr>\n",
       "  </tbody>\n",
       "</table>\n",
       "<p>220 rows × 12 columns</p>\n",
       "</div>"
      ],
      "text/plain": [
       "serie Name   país Name   Año  Población de 65 años de edad y más, hombres   \n",
       "31          Afganistán  2018                                     383903.0  \\\n",
       "32          Afganistán  2019                                     395783.0   \n",
       "33          Afganistán  2020                                     407078.0   \n",
       "34          Afganistán  2021                                     414713.0   \n",
       "35          Afganistán  2022                                     421409.0   \n",
       "...                ...   ...                                          ...   \n",
       "1579         Venezuela  2018                                     925706.0   \n",
       "1580         Venezuela  2019                                     944115.0   \n",
       "1581         Venezuela  2020                                     968446.0   \n",
       "1582         Venezuela  2021                                     995189.0   \n",
       "1583         Venezuela  2022                                    1028524.0   \n",
       "\n",
       "serie Name  Población de 65 años de edad y más, mujeres   \n",
       "31                                             499182.0  \\\n",
       "32                                             517390.0   \n",
       "33                                             534863.0   \n",
       "34                                             549301.0   \n",
       "35                                             563354.0   \n",
       "...                                                 ...   \n",
       "1579                                          1225534.0   \n",
       "1580                                          1264269.0   \n",
       "1581                                          1309178.0   \n",
       "1582                                          1356154.0   \n",
       "1583                                          1407833.0   \n",
       "\n",
       "serie Name  Población de 65 años de edad y más, total   \n",
       "31                                           883085.0  \\\n",
       "32                                           913174.0   \n",
       "33                                           941940.0   \n",
       "34                                           964014.0   \n",
       "35                                           984763.0   \n",
       "...                                               ...   \n",
       "1579                                        2151240.0   \n",
       "1580                                        2208384.0   \n",
       "1581                                        2277624.0   \n",
       "1582                                        2351344.0   \n",
       "1583                                        2436358.0   \n",
       "\n",
       "serie Name  Población entre 0 y 14 años de edad, hombres   \n",
       "31                                             8402599.0  \\\n",
       "32                                             8567283.0   \n",
       "33                                             8740826.0   \n",
       "34                                             8912289.0   \n",
       "35                                             9076426.0   \n",
       "...                                                  ...   \n",
       "1579                                           4346047.0   \n",
       "1580                                           4253211.0   \n",
       "1581                                           4165083.0   \n",
       "1582                                           4077039.0   \n",
       "1583                                           4004655.0   \n",
       "\n",
       "serie Name  Población entre 0 y 14 años de edad, mujeres   \n",
       "31                                             7999492.0  \\\n",
       "32                                             8161339.0   \n",
       "33                                             8332095.0   \n",
       "34                                             8500719.0   \n",
       "35                                             8662674.0   \n",
       "...                                                  ...   \n",
       "1579                                           4123672.0   \n",
       "1580                                           4033895.0   \n",
       "1581                                           3950208.0   \n",
       "1582                                           3867069.0   \n",
       "1583                                           3799320.0   \n",
       "\n",
       "serie Name  Población entre 0 y 14 años de edad, total   \n",
       "31                                          16402090.0  \\\n",
       "32                                          16728622.0   \n",
       "33                                          17072920.0   \n",
       "34                                          17413008.0   \n",
       "35                                          17739100.0   \n",
       "...                                                ...   \n",
       "1579                                         8469719.0   \n",
       "1580                                         8287106.0   \n",
       "1581                                         8115290.0   \n",
       "1582                                         7944108.0   \n",
       "1583                                         7803975.0   \n",
       "\n",
       "serie Name  Población entre 15 y 64 años de edad, hombres   \n",
       "31                                              9763360.0  \\\n",
       "32                                             10127343.0   \n",
       "33                                             10544398.0   \n",
       "34                                             10927876.0   \n",
       "35                                             11268607.0   \n",
       "...                                                   ...   \n",
       "1579                                            9532382.0   \n",
       "1580                                            9168546.0   \n",
       "1581                                            8980231.0   \n",
       "1582                                            8884583.0   \n",
       "1583                                            8963612.0   \n",
       "\n",
       "serie Name  Población entre 15 y 64 años de edad, mujeres   \n",
       "31                                              9638249.0  \\\n",
       "32                                             10000360.0   \n",
       "33                                             10412972.0   \n",
       "34                                             10794564.0   \n",
       "35                                             11136302.0   \n",
       "...                                                   ...   \n",
       "1579                                            9672311.0   \n",
       "1580                                            9307647.0   \n",
       "1581                                            9117308.0   \n",
       "1582                                            9019833.0   \n",
       "1583                                            9097751.0   \n",
       "\n",
       "serie Name  Población entre 15 y 64 años de edad, total       Continente  \n",
       "31                                           19401609.0             Asia  \n",
       "32                                           20127704.0             Asia  \n",
       "33                                           20957369.0             Asia  \n",
       "34                                           21722439.0             Asia  \n",
       "35                                           22404909.0             Asia  \n",
       "...                                                 ...              ...  \n",
       "1579                                         19204694.0  América del Sur  \n",
       "1580                                         18476193.0  América del Sur  \n",
       "1581                                         18097538.0  América del Sur  \n",
       "1582                                         17904416.0  América del Sur  \n",
       "1583                                         18061363.0  América del Sur  \n",
       "\n",
       "[220 rows x 12 columns]"
      ]
     },
     "execution_count": 22,
     "metadata": {},
     "output_type": "execute_result"
    }
   ],
   "source": [
    "df_pivote_años = df_pivoted[df_pivoted[\"Año\"].isin([\"2022\",\"2021\",\"2020\",\"2019\", \"2018\"])]\n",
    "df_pivote_años"
   ]
  },
  {
   "cell_type": "code",
   "execution_count": 23,
   "metadata": {},
   "outputs": [
    {
     "data": {
      "text/html": [
       "<div>\n",
       "<style scoped>\n",
       "    .dataframe tbody tr th:only-of-type {\n",
       "        vertical-align: middle;\n",
       "    }\n",
       "\n",
       "    .dataframe tbody tr th {\n",
       "        vertical-align: top;\n",
       "    }\n",
       "\n",
       "    .dataframe thead th {\n",
       "        text-align: right;\n",
       "    }\n",
       "</style>\n",
       "<table border=\"1\" class=\"dataframe\">\n",
       "  <thead>\n",
       "    <tr style=\"text-align: right;\">\n",
       "      <th>serie Name</th>\n",
       "      <th>Población de 65 años de edad y más, total</th>\n",
       "    </tr>\n",
       "    <tr>\n",
       "      <th>país Name</th>\n",
       "      <th></th>\n",
       "    </tr>\n",
       "  </thead>\n",
       "  <tbody>\n",
       "    <tr>\n",
       "      <th>China</th>\n",
       "      <td>177511530.0</td>\n",
       "    </tr>\n",
       "    <tr>\n",
       "      <th>India</th>\n",
       "      <td>92357753.0</td>\n",
       "    </tr>\n",
       "    <tr>\n",
       "      <th>Estados Unidos</th>\n",
       "      <td>53684459.8</td>\n",
       "    </tr>\n",
       "    <tr>\n",
       "      <th>Japón</th>\n",
       "      <td>37192078.6</td>\n",
       "    </tr>\n",
       "    <tr>\n",
       "      <th>Rusia</th>\n",
       "      <td>21926730.4</td>\n",
       "    </tr>\n",
       "    <tr>\n",
       "      <th>Brasil</th>\n",
       "      <td>19791031.4</td>\n",
       "    </tr>\n",
       "    <tr>\n",
       "      <th>Alemania</th>\n",
       "      <td>18287076.2</td>\n",
       "    </tr>\n",
       "    <tr>\n",
       "      <th>Reino Unido</th>\n",
       "      <td>12527718.2</td>\n",
       "    </tr>\n",
       "    <tr>\n",
       "      <th>México</th>\n",
       "      <td>10078688.8</td>\n",
       "    </tr>\n",
       "    <tr>\n",
       "      <th>España</th>\n",
       "      <td>9323338.0</td>\n",
       "    </tr>\n",
       "  </tbody>\n",
       "</table>\n",
       "</div>"
      ],
      "text/plain": [
       "serie Name      Población de 65 años de edad y más, total\n",
       "país Name                                                \n",
       "China                                         177511530.0\n",
       "India                                          92357753.0\n",
       "Estados Unidos                                 53684459.8\n",
       "Japón                                          37192078.6\n",
       "Rusia                                          21926730.4\n",
       "Brasil                                         19791031.4\n",
       "Alemania                                       18287076.2\n",
       "Reino Unido                                    12527718.2\n",
       "México                                         10078688.8\n",
       "España                                          9323338.0"
      ]
     },
     "execution_count": 23,
     "metadata": {},
     "output_type": "execute_result"
    }
   ],
   "source": [
    "top_paises = df_pivote_años[[\"país Name\", \"Población de 65 años de edad y más, total\"]].groupby(\"país Name\").mean().sort_values(\"Población de 65 años de edad y más, total\", ascending=False).head(10)\n",
    "top_paises"
   ]
  },
  {
   "cell_type": "code",
   "execution_count": 24,
   "metadata": {},
   "outputs": [
    {
     "data": {
      "application/vnd.plotly.v1+json": {
       "config": {
        "plotlyServerURL": "https://plot.ly"
       },
       "data": [
        {
         "alignmentgroup": "True",
         "hovertemplate": "país Name=%{x}<br>Población de 65 años de edad y más, total=%{y}<extra></extra>",
         "legendgroup": "",
         "marker": {
          "color": "#636efa",
          "pattern": {
           "shape": ""
          }
         },
         "name": "",
         "offsetgroup": "",
         "orientation": "v",
         "showlegend": false,
         "textposition": "auto",
         "type": "bar",
         "x": [
          "China",
          "India",
          "Estados Unidos",
          "Japón",
          "Rusia",
          "Brasil",
          "Alemania",
          "Reino Unido",
          "México",
          "España"
         ],
         "xaxis": "x",
         "y": [
          177511530,
          92357753,
          53684459.8,
          37192078.6,
          21926730.4,
          19791031.4,
          18287076.2,
          12527718.2,
          10078688.8,
          9323338
         ],
         "yaxis": "y"
        }
       ],
       "layout": {
        "barmode": "relative",
        "legend": {
         "tracegroupgap": 0
        },
        "template": {
         "data": {
          "bar": [
           {
            "error_x": {
             "color": "#2a3f5f"
            },
            "error_y": {
             "color": "#2a3f5f"
            },
            "marker": {
             "line": {
              "color": "#E5ECF6",
              "width": 0.5
             },
             "pattern": {
              "fillmode": "overlay",
              "size": 10,
              "solidity": 0.2
             }
            },
            "type": "bar"
           }
          ],
          "barpolar": [
           {
            "marker": {
             "line": {
              "color": "#E5ECF6",
              "width": 0.5
             },
             "pattern": {
              "fillmode": "overlay",
              "size": 10,
              "solidity": 0.2
             }
            },
            "type": "barpolar"
           }
          ],
          "carpet": [
           {
            "aaxis": {
             "endlinecolor": "#2a3f5f",
             "gridcolor": "white",
             "linecolor": "white",
             "minorgridcolor": "white",
             "startlinecolor": "#2a3f5f"
            },
            "baxis": {
             "endlinecolor": "#2a3f5f",
             "gridcolor": "white",
             "linecolor": "white",
             "minorgridcolor": "white",
             "startlinecolor": "#2a3f5f"
            },
            "type": "carpet"
           }
          ],
          "choropleth": [
           {
            "colorbar": {
             "outlinewidth": 0,
             "ticks": ""
            },
            "type": "choropleth"
           }
          ],
          "contour": [
           {
            "colorbar": {
             "outlinewidth": 0,
             "ticks": ""
            },
            "colorscale": [
             [
              0,
              "#0d0887"
             ],
             [
              0.1111111111111111,
              "#46039f"
             ],
             [
              0.2222222222222222,
              "#7201a8"
             ],
             [
              0.3333333333333333,
              "#9c179e"
             ],
             [
              0.4444444444444444,
              "#bd3786"
             ],
             [
              0.5555555555555556,
              "#d8576b"
             ],
             [
              0.6666666666666666,
              "#ed7953"
             ],
             [
              0.7777777777777778,
              "#fb9f3a"
             ],
             [
              0.8888888888888888,
              "#fdca26"
             ],
             [
              1,
              "#f0f921"
             ]
            ],
            "type": "contour"
           }
          ],
          "contourcarpet": [
           {
            "colorbar": {
             "outlinewidth": 0,
             "ticks": ""
            },
            "type": "contourcarpet"
           }
          ],
          "heatmap": [
           {
            "colorbar": {
             "outlinewidth": 0,
             "ticks": ""
            },
            "colorscale": [
             [
              0,
              "#0d0887"
             ],
             [
              0.1111111111111111,
              "#46039f"
             ],
             [
              0.2222222222222222,
              "#7201a8"
             ],
             [
              0.3333333333333333,
              "#9c179e"
             ],
             [
              0.4444444444444444,
              "#bd3786"
             ],
             [
              0.5555555555555556,
              "#d8576b"
             ],
             [
              0.6666666666666666,
              "#ed7953"
             ],
             [
              0.7777777777777778,
              "#fb9f3a"
             ],
             [
              0.8888888888888888,
              "#fdca26"
             ],
             [
              1,
              "#f0f921"
             ]
            ],
            "type": "heatmap"
           }
          ],
          "heatmapgl": [
           {
            "colorbar": {
             "outlinewidth": 0,
             "ticks": ""
            },
            "colorscale": [
             [
              0,
              "#0d0887"
             ],
             [
              0.1111111111111111,
              "#46039f"
             ],
             [
              0.2222222222222222,
              "#7201a8"
             ],
             [
              0.3333333333333333,
              "#9c179e"
             ],
             [
              0.4444444444444444,
              "#bd3786"
             ],
             [
              0.5555555555555556,
              "#d8576b"
             ],
             [
              0.6666666666666666,
              "#ed7953"
             ],
             [
              0.7777777777777778,
              "#fb9f3a"
             ],
             [
              0.8888888888888888,
              "#fdca26"
             ],
             [
              1,
              "#f0f921"
             ]
            ],
            "type": "heatmapgl"
           }
          ],
          "histogram": [
           {
            "marker": {
             "pattern": {
              "fillmode": "overlay",
              "size": 10,
              "solidity": 0.2
             }
            },
            "type": "histogram"
           }
          ],
          "histogram2d": [
           {
            "colorbar": {
             "outlinewidth": 0,
             "ticks": ""
            },
            "colorscale": [
             [
              0,
              "#0d0887"
             ],
             [
              0.1111111111111111,
              "#46039f"
             ],
             [
              0.2222222222222222,
              "#7201a8"
             ],
             [
              0.3333333333333333,
              "#9c179e"
             ],
             [
              0.4444444444444444,
              "#bd3786"
             ],
             [
              0.5555555555555556,
              "#d8576b"
             ],
             [
              0.6666666666666666,
              "#ed7953"
             ],
             [
              0.7777777777777778,
              "#fb9f3a"
             ],
             [
              0.8888888888888888,
              "#fdca26"
             ],
             [
              1,
              "#f0f921"
             ]
            ],
            "type": "histogram2d"
           }
          ],
          "histogram2dcontour": [
           {
            "colorbar": {
             "outlinewidth": 0,
             "ticks": ""
            },
            "colorscale": [
             [
              0,
              "#0d0887"
             ],
             [
              0.1111111111111111,
              "#46039f"
             ],
             [
              0.2222222222222222,
              "#7201a8"
             ],
             [
              0.3333333333333333,
              "#9c179e"
             ],
             [
              0.4444444444444444,
              "#bd3786"
             ],
             [
              0.5555555555555556,
              "#d8576b"
             ],
             [
              0.6666666666666666,
              "#ed7953"
             ],
             [
              0.7777777777777778,
              "#fb9f3a"
             ],
             [
              0.8888888888888888,
              "#fdca26"
             ],
             [
              1,
              "#f0f921"
             ]
            ],
            "type": "histogram2dcontour"
           }
          ],
          "mesh3d": [
           {
            "colorbar": {
             "outlinewidth": 0,
             "ticks": ""
            },
            "type": "mesh3d"
           }
          ],
          "parcoords": [
           {
            "line": {
             "colorbar": {
              "outlinewidth": 0,
              "ticks": ""
             }
            },
            "type": "parcoords"
           }
          ],
          "pie": [
           {
            "automargin": true,
            "type": "pie"
           }
          ],
          "scatter": [
           {
            "fillpattern": {
             "fillmode": "overlay",
             "size": 10,
             "solidity": 0.2
            },
            "type": "scatter"
           }
          ],
          "scatter3d": [
           {
            "line": {
             "colorbar": {
              "outlinewidth": 0,
              "ticks": ""
             }
            },
            "marker": {
             "colorbar": {
              "outlinewidth": 0,
              "ticks": ""
             }
            },
            "type": "scatter3d"
           }
          ],
          "scattercarpet": [
           {
            "marker": {
             "colorbar": {
              "outlinewidth": 0,
              "ticks": ""
             }
            },
            "type": "scattercarpet"
           }
          ],
          "scattergeo": [
           {
            "marker": {
             "colorbar": {
              "outlinewidth": 0,
              "ticks": ""
             }
            },
            "type": "scattergeo"
           }
          ],
          "scattergl": [
           {
            "marker": {
             "colorbar": {
              "outlinewidth": 0,
              "ticks": ""
             }
            },
            "type": "scattergl"
           }
          ],
          "scattermapbox": [
           {
            "marker": {
             "colorbar": {
              "outlinewidth": 0,
              "ticks": ""
             }
            },
            "type": "scattermapbox"
           }
          ],
          "scatterpolar": [
           {
            "marker": {
             "colorbar": {
              "outlinewidth": 0,
              "ticks": ""
             }
            },
            "type": "scatterpolar"
           }
          ],
          "scatterpolargl": [
           {
            "marker": {
             "colorbar": {
              "outlinewidth": 0,
              "ticks": ""
             }
            },
            "type": "scatterpolargl"
           }
          ],
          "scatterternary": [
           {
            "marker": {
             "colorbar": {
              "outlinewidth": 0,
              "ticks": ""
             }
            },
            "type": "scatterternary"
           }
          ],
          "surface": [
           {
            "colorbar": {
             "outlinewidth": 0,
             "ticks": ""
            },
            "colorscale": [
             [
              0,
              "#0d0887"
             ],
             [
              0.1111111111111111,
              "#46039f"
             ],
             [
              0.2222222222222222,
              "#7201a8"
             ],
             [
              0.3333333333333333,
              "#9c179e"
             ],
             [
              0.4444444444444444,
              "#bd3786"
             ],
             [
              0.5555555555555556,
              "#d8576b"
             ],
             [
              0.6666666666666666,
              "#ed7953"
             ],
             [
              0.7777777777777778,
              "#fb9f3a"
             ],
             [
              0.8888888888888888,
              "#fdca26"
             ],
             [
              1,
              "#f0f921"
             ]
            ],
            "type": "surface"
           }
          ],
          "table": [
           {
            "cells": {
             "fill": {
              "color": "#EBF0F8"
             },
             "line": {
              "color": "white"
             }
            },
            "header": {
             "fill": {
              "color": "#C8D4E3"
             },
             "line": {
              "color": "white"
             }
            },
            "type": "table"
           }
          ]
         },
         "layout": {
          "annotationdefaults": {
           "arrowcolor": "#2a3f5f",
           "arrowhead": 0,
           "arrowwidth": 1
          },
          "autotypenumbers": "strict",
          "coloraxis": {
           "colorbar": {
            "outlinewidth": 0,
            "ticks": ""
           }
          },
          "colorscale": {
           "diverging": [
            [
             0,
             "#8e0152"
            ],
            [
             0.1,
             "#c51b7d"
            ],
            [
             0.2,
             "#de77ae"
            ],
            [
             0.3,
             "#f1b6da"
            ],
            [
             0.4,
             "#fde0ef"
            ],
            [
             0.5,
             "#f7f7f7"
            ],
            [
             0.6,
             "#e6f5d0"
            ],
            [
             0.7,
             "#b8e186"
            ],
            [
             0.8,
             "#7fbc41"
            ],
            [
             0.9,
             "#4d9221"
            ],
            [
             1,
             "#276419"
            ]
           ],
           "sequential": [
            [
             0,
             "#0d0887"
            ],
            [
             0.1111111111111111,
             "#46039f"
            ],
            [
             0.2222222222222222,
             "#7201a8"
            ],
            [
             0.3333333333333333,
             "#9c179e"
            ],
            [
             0.4444444444444444,
             "#bd3786"
            ],
            [
             0.5555555555555556,
             "#d8576b"
            ],
            [
             0.6666666666666666,
             "#ed7953"
            ],
            [
             0.7777777777777778,
             "#fb9f3a"
            ],
            [
             0.8888888888888888,
             "#fdca26"
            ],
            [
             1,
             "#f0f921"
            ]
           ],
           "sequentialminus": [
            [
             0,
             "#0d0887"
            ],
            [
             0.1111111111111111,
             "#46039f"
            ],
            [
             0.2222222222222222,
             "#7201a8"
            ],
            [
             0.3333333333333333,
             "#9c179e"
            ],
            [
             0.4444444444444444,
             "#bd3786"
            ],
            [
             0.5555555555555556,
             "#d8576b"
            ],
            [
             0.6666666666666666,
             "#ed7953"
            ],
            [
             0.7777777777777778,
             "#fb9f3a"
            ],
            [
             0.8888888888888888,
             "#fdca26"
            ],
            [
             1,
             "#f0f921"
            ]
           ]
          },
          "colorway": [
           "#636efa",
           "#EF553B",
           "#00cc96",
           "#ab63fa",
           "#FFA15A",
           "#19d3f3",
           "#FF6692",
           "#B6E880",
           "#FF97FF",
           "#FECB52"
          ],
          "font": {
           "color": "#2a3f5f"
          },
          "geo": {
           "bgcolor": "white",
           "lakecolor": "white",
           "landcolor": "#E5ECF6",
           "showlakes": true,
           "showland": true,
           "subunitcolor": "white"
          },
          "hoverlabel": {
           "align": "left"
          },
          "hovermode": "closest",
          "mapbox": {
           "style": "light"
          },
          "paper_bgcolor": "white",
          "plot_bgcolor": "#E5ECF6",
          "polar": {
           "angularaxis": {
            "gridcolor": "white",
            "linecolor": "white",
            "ticks": ""
           },
           "bgcolor": "#E5ECF6",
           "radialaxis": {
            "gridcolor": "white",
            "linecolor": "white",
            "ticks": ""
           }
          },
          "scene": {
           "xaxis": {
            "backgroundcolor": "#E5ECF6",
            "gridcolor": "white",
            "gridwidth": 2,
            "linecolor": "white",
            "showbackground": true,
            "ticks": "",
            "zerolinecolor": "white"
           },
           "yaxis": {
            "backgroundcolor": "#E5ECF6",
            "gridcolor": "white",
            "gridwidth": 2,
            "linecolor": "white",
            "showbackground": true,
            "ticks": "",
            "zerolinecolor": "white"
           },
           "zaxis": {
            "backgroundcolor": "#E5ECF6",
            "gridcolor": "white",
            "gridwidth": 2,
            "linecolor": "white",
            "showbackground": true,
            "ticks": "",
            "zerolinecolor": "white"
           }
          },
          "shapedefaults": {
           "line": {
            "color": "#2a3f5f"
           }
          },
          "ternary": {
           "aaxis": {
            "gridcolor": "white",
            "linecolor": "white",
            "ticks": ""
           },
           "baxis": {
            "gridcolor": "white",
            "linecolor": "white",
            "ticks": ""
           },
           "bgcolor": "#E5ECF6",
           "caxis": {
            "gridcolor": "white",
            "linecolor": "white",
            "ticks": ""
           }
          },
          "title": {
           "x": 0.05
          },
          "xaxis": {
           "automargin": true,
           "gridcolor": "white",
           "linecolor": "white",
           "ticks": "",
           "title": {
            "standoff": 15
           },
           "zerolinecolor": "white",
           "zerolinewidth": 2
          },
          "yaxis": {
           "automargin": true,
           "gridcolor": "white",
           "linecolor": "white",
           "ticks": "",
           "title": {
            "standoff": 15
           },
           "zerolinecolor": "white",
           "zerolinewidth": 2
          }
         }
        },
        "title": {
         "text": "TOP 10 países con mayor Población de 65 años de edad a más (2018-2022)"
        },
        "xaxis": {
         "anchor": "y",
         "domain": [
          0,
          1
         ],
         "title": {
          "text": ""
         }
        },
        "yaxis": {
         "anchor": "x",
         "domain": [
          0,
          1
         ],
         "title": {
          "text": "Población de 65 años de edad y más, total"
         }
        }
       }
      }
     },
     "metadata": {},
     "output_type": "display_data"
    }
   ],
   "source": [
    "fig = px.bar(top_paises, title=\"TOP 10 países con mayor Población de 65 años de edad a más (2018-2022)\", y=\"Población de 65 años de edad y más, total\")\n",
    "fig.update_xaxes(title_text=\"\")\n",
    "fig.show()"
   ]
  },
  {
   "cell_type": "code",
   "execution_count": 25,
   "metadata": {},
   "outputs": [],
   "source": [
    "df_pivoted.to_csv(\"Data_preparada/Data_Población_Edad_Genero.csv\", index=False)"
   ]
  }
 ],
 "metadata": {
  "kernelspec": {
   "display_name": "Python 3",
   "language": "python",
   "name": "python3"
  },
  "language_info": {
   "codemirror_mode": {
    "name": "ipython",
    "version": 3
   },
   "file_extension": ".py",
   "mimetype": "text/x-python",
   "name": "python",
   "nbconvert_exporter": "python",
   "pygments_lexer": "ipython3",
   "version": "3.11.2"
  }
 },
 "nbformat": 4,
 "nbformat_minor": 2
}
